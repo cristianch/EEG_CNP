{
 "cells": [
  {
   "cell_type": "code",
   "execution_count": 1,
   "metadata": {},
   "outputs": [],
   "source": [
    "# Only run this once\n",
    "import os\n",
    "os.chdir('..')"
   ]
  },
  {
   "cell_type": "code",
   "execution_count": 41,
   "metadata": {},
   "outputs": [],
   "source": [
    "import numpy as np\n",
    "import scipy\n",
    "from scipy import signal\n",
    "import mne\n",
    "import glob\n",
    "import HiguchiFractalDimension as hfd\n",
    "import csv\n",
    "import matplotlib.pyplot as plt\n",
    "from matplotlib import colors\n",
    "\n",
    "import utils.logger\n",
    "from utils.experiments_classification import classify_nusvm_cross_valid, classify_nusvm_param_seach"
   ]
  },
  {
   "cell_type": "code",
   "execution_count": 42,
   "metadata": {},
   "outputs": [
    {
     "data": {
      "text/plain": [
       "<module 'utils.experiments_classification' from 'D:\\\\etc\\\\uni\\\\yr5\\\\project\\\\workspace\\\\eeg-cnp-final-year-project\\\\utils\\\\experiments_classification.py'>"
      ]
     },
     "execution_count": 42,
     "metadata": {},
     "output_type": "execute_result"
    }
   ],
   "source": [
    "import importlib\n",
    "importlib.reload(utils.experiments_classification)"
   ]
  },
  {
   "cell_type": "code",
   "execution_count": null,
   "metadata": {},
   "outputs": [],
   "source": []
  },
  {
   "cell_type": "code",
   "execution_count": 4,
   "metadata": {},
   "outputs": [],
   "source": [
    "def patient_array_to_hfd(repetitions, window_start=None, window_size=500, step_size=1, k=7):\n",
    "    '''\n",
    "    Apply HFD to all repetitions from given patient; input shape [n_repetitions, n_channels, n_features]\n",
    "    '''\n",
    "    if window_start != None:\n",
    "        print('Calculating HFD with window start', str(window_start), 'window size', str(window_size), 'step', str(step_size))\n",
    "        return np.array([np.array([[hfd.hfd(channel[window_start:window_start+window_size:step_size], num_k=k)] for channel in repetition]) for repetition in repetitions])\n",
    "    print('Calculating HFD over entire time series')\n",
    "    return np.array([np.array([[hfd.hfd(channel, num_k=k)] for channel in repetition]) for repetition in repetitions])"
   ]
  },
  {
   "cell_type": "code",
   "execution_count": null,
   "metadata": {},
   "outputs": [],
   "source": []
  },
  {
   "cell_type": "markdown",
   "metadata": {},
   "source": [
    "# Apply HFD to datasets"
   ]
  },
  {
   "cell_type": "code",
   "execution_count": 43,
   "metadata": {},
   "outputs": [],
   "source": [
    "# Returns relevant datasets (f.e. all right-hand recordings of healthy patients) as a list of np arrays\n",
    "def get_datasets(patient_type_location, recording_type_expression):\n",
    "    if recording_type_expression != l_new['extension']:\n",
    "        sets_locations = glob.glob(patient_type_location + recording_type_expression + suffix)\n",
    "    else:\n",
    "        sets_locations = glob.glob(patient_type_location + recording_type_expression)\n",
    "    \n",
    "    sets = []\n",
    "    for path in sets_locations: \n",
    "        sets.append(mne.io.read_epochs_eeglab(path))\n",
    "        \n",
    "    return np.array(np.array([(patient._data) for patient in sets]))\n",
    "\n",
    "\n",
    "def get_channel_names(patient_type_location, recording_type_expression):\n",
    "    '''\n",
    "    Returns the list of channel names in order\n",
    "    Only works if ALL chosen datasets use the same channels\n",
    "    '''\n",
    "    if recording_type_expression != l_new:\n",
    "        sets_locations = glob.glob(patient_type_location + recording_type_expression + suffix)\n",
    "    else:\n",
    "        sets_locations = glob.glob(patient_type_location + recording_type_expression)\n",
    "        \n",
    "    return mne.io.read_epochs_eeglab(sets_locations[0]).ch_names\n",
    "    "
   ]
  },
  {
   "cell_type": "code",
   "execution_count": 44,
   "metadata": {},
   "outputs": [
    {
     "data": {
      "text/plain": [
       "['./../../data_new/raw/PdP\\\\PdP_3\\\\PdP_3_L.set',\n",
       " './../../data_new/raw/PdP\\\\PdP_4\\\\PdP_4_L.set',\n",
       " './../../data_new/raw/PdP\\\\PdP_5\\\\PdP_5_L.set',\n",
       " './../../data_new/raw/PdP\\\\PdP_6\\\\PdP_6_L.set',\n",
       " './../../data_new/raw/PdP\\\\PdP_7\\\\PdP_7_L.set']"
      ]
     },
     "execution_count": 44,
     "metadata": {},
     "output_type": "execute_result"
    }
   ],
   "source": [
    "root = './../../'\n",
    "suffix = '*.set'\n",
    "\n",
    "location_healthy = root + 'data/raw/HV/*/'\n",
    "location_pain = root + 'data/raw/PP/*/'\n",
    "location_nopain = root + 'data/raw/PnP/*/'\n",
    "\n",
    "location_pwp = root + 'data_new/raw/PwP/*/'\n",
    "location_pdp = root + 'data_new/raw/PdP/*/'\n",
    "location_pnp = root + 'data_new/raw/PnP/*/'\n",
    "\n",
    "\n",
    "rh = {'name': 'RH', 'extension': '*_RH*'}\n",
    "lh = {'name': 'LH', 'extension': '*_LH*'}\n",
    "l_new = {'name': 'L', 'extension': '*_L.set'}   # NO SUFFIX\n",
    "l_old = {'name': 'L', 'extension': '*_L_*'}\n",
    "\n",
    "sets_healthy_rh = glob.glob(location_pdp + l_new['extension'])\n",
    "sets_healthy_rh"
   ]
  },
  {
   "cell_type": "code",
   "execution_count": 45,
   "metadata": {},
   "outputs": [
    {
     "name": "stdout",
     "output_type": "stream",
     "text": [
      "Extracting parameters from ./../../data_new/raw/PdP\\PdP_1\\PdP_1_LH.set...\n",
      "65 matching events found\n"
     ]
    },
    {
     "name": "stderr",
     "output_type": "stream",
     "text": [
      "<ipython-input-43-a40508d617f2>:10: RuntimeWarning: At least one epoch has multiple events. Only the latency of the first event will be retained.\n",
      "  sets.append(mne.io.read_epochs_eeglab(path))\n"
     ]
    },
    {
     "name": "stdout",
     "output_type": "stream",
     "text": [
      "No baseline correction applied\n",
      "Not setting metadata\n",
      "0 projection items activated\n",
      "Ready.\n",
      "Extracting parameters from ./../../data_new/raw/PdP\\PdP_2\\PdP_2_LH.set...\n"
     ]
    },
    {
     "name": "stderr",
     "output_type": "stream",
     "text": [
      "<ipython-input-43-a40508d617f2>:10: RuntimeWarning: At least one epoch has multiple events. Only the latency of the first event will be retained.\n",
      "  sets.append(mne.io.read_epochs_eeglab(path))\n"
     ]
    },
    {
     "name": "stdout",
     "output_type": "stream",
     "text": [
      "68 matching events found\n",
      "No baseline correction applied\n",
      "Not setting metadata\n",
      "0 projection items activated\n",
      "Ready.\n",
      "Extracting parameters from ./../../data_new/raw/PdP\\PdP_3\\PdP_3_LH.set...\n",
      "57 matching events found\n",
      "No baseline correction applied\n",
      "Not setting metadata\n",
      "0 projection items activated\n"
     ]
    },
    {
     "name": "stderr",
     "output_type": "stream",
     "text": [
      "<ipython-input-43-a40508d617f2>:10: RuntimeWarning: At least one epoch has multiple events. Only the latency of the first event will be retained.\n",
      "  sets.append(mne.io.read_epochs_eeglab(path))\n"
     ]
    },
    {
     "name": "stdout",
     "output_type": "stream",
     "text": [
      "Ready.\n",
      "Extracting parameters from ./../../data_new/raw/PdP\\PdP_4\\PdP_4_LH.set...\n",
      "58 matching events found\n"
     ]
    },
    {
     "name": "stderr",
     "output_type": "stream",
     "text": [
      "<ipython-input-43-a40508d617f2>:10: RuntimeWarning: At least one epoch has multiple events. Only the latency of the first event will be retained.\n",
      "  sets.append(mne.io.read_epochs_eeglab(path))\n"
     ]
    },
    {
     "name": "stdout",
     "output_type": "stream",
     "text": [
      "No baseline correction applied\n",
      "Not setting metadata\n",
      "0 projection items activated\n",
      "Ready.\n",
      "Extracting parameters from ./../../data_new/raw/PdP\\PdP_5\\PdP_5_LH.set...\n",
      "52 matching events found\n",
      "No baseline correction applied\n",
      "Not setting metadata\n",
      "0 projection items activated\n"
     ]
    },
    {
     "name": "stderr",
     "output_type": "stream",
     "text": [
      "<ipython-input-43-a40508d617f2>:10: RuntimeWarning: At least one epoch has multiple events. Only the latency of the first event will be retained.\n",
      "  sets.append(mne.io.read_epochs_eeglab(path))\n"
     ]
    },
    {
     "name": "stdout",
     "output_type": "stream",
     "text": [
      "Ready.\n",
      "Extracting parameters from ./../../data_new/raw/PdP\\PdP_6\\PdP_6_LH.set...\n",
      "54 matching events found\n",
      "No baseline correction applied\n",
      "Not setting metadata\n"
     ]
    },
    {
     "name": "stderr",
     "output_type": "stream",
     "text": [
      "<ipython-input-43-a40508d617f2>:10: RuntimeWarning: At least one epoch has multiple events. Only the latency of the first event will be retained.\n",
      "  sets.append(mne.io.read_epochs_eeglab(path))\n"
     ]
    },
    {
     "name": "stdout",
     "output_type": "stream",
     "text": [
      "0 projection items activated\n",
      "Ready.\n",
      "Extracting parameters from ./../../data_new/raw/PdP\\PdP_7\\PdP_7_LH.set...\n",
      "59 matching events found\n",
      "No baseline correction applied\n"
     ]
    },
    {
     "name": "stderr",
     "output_type": "stream",
     "text": [
      "<ipython-input-43-a40508d617f2>:10: RuntimeWarning: At least one epoch has multiple events. Only the latency of the first event will be retained.\n",
      "  sets.append(mne.io.read_epochs_eeglab(path))\n"
     ]
    },
    {
     "name": "stdout",
     "output_type": "stream",
     "text": [
      "Not setting metadata\n",
      "0 projection items activated\n",
      "Ready.\n",
      "Extracting parameters from ./../../data_new/raw/PnP\\PnP_1\\PnP_1_LH.set...\n",
      "56 matching events found\n"
     ]
    },
    {
     "name": "stderr",
     "output_type": "stream",
     "text": [
      "<ipython-input-43-a40508d617f2>:10: RuntimeWarning: At least one epoch has multiple events. Only the latency of the first event will be retained.\n",
      "  sets.append(mne.io.read_epochs_eeglab(path))\n"
     ]
    },
    {
     "name": "stdout",
     "output_type": "stream",
     "text": [
      "No baseline correction applied\n",
      "Not setting metadata\n",
      "0 projection items activated\n",
      "Ready.\n",
      "Extracting parameters from ./../../data_new/raw/PnP\\PnP_3\\PnP_3_LH.set...\n",
      "56 matching events found\n"
     ]
    },
    {
     "name": "stderr",
     "output_type": "stream",
     "text": [
      "<ipython-input-43-a40508d617f2>:10: RuntimeWarning: At least one epoch has multiple events. Only the latency of the first event will be retained.\n",
      "  sets.append(mne.io.read_epochs_eeglab(path))\n"
     ]
    },
    {
     "name": "stdout",
     "output_type": "stream",
     "text": [
      "No baseline correction applied\n",
      "Not setting metadata\n",
      "0 projection items activated\n",
      "Ready.\n",
      "Extracting parameters from ./../../data_new/raw/PnP\\PnP_4\\PnP_4_LH.set...\n",
      "49 matching events found\n",
      "No baseline correction applied\n",
      "Not setting metadata\n",
      "0 projection items activated\n",
      "Ready.\n"
     ]
    },
    {
     "name": "stderr",
     "output_type": "stream",
     "text": [
      "<ipython-input-43-a40508d617f2>:10: RuntimeWarning: At least one epoch has multiple events. Only the latency of the first event will be retained.\n",
      "  sets.append(mne.io.read_epochs_eeglab(path))\n"
     ]
    },
    {
     "name": "stdout",
     "output_type": "stream",
     "text": [
      "Extracting parameters from ./../../data_new/raw/PnP\\PnP_5\\PnP_5_LH.set...\n",
      "58 matching events found\n",
      "No baseline correction applied\n",
      "Not setting metadata\n",
      "0 projection items activated\n"
     ]
    },
    {
     "name": "stderr",
     "output_type": "stream",
     "text": [
      "<ipython-input-43-a40508d617f2>:10: RuntimeWarning: At least one epoch has multiple events. Only the latency of the first event will be retained.\n",
      "  sets.append(mne.io.read_epochs_eeglab(path))\n"
     ]
    },
    {
     "name": "stdout",
     "output_type": "stream",
     "text": [
      "Ready.\n",
      "Extracting parameters from ./../../data_new/raw/PnP\\PnP_7\\PnP_7_LH.set...\n",
      "52 matching events found\n",
      "No baseline correction applied\n",
      "Not setting metadata\n",
      "0 projection items activated\n",
      "Ready.\n"
     ]
    },
    {
     "name": "stderr",
     "output_type": "stream",
     "text": [
      "<ipython-input-43-a40508d617f2>:10: RuntimeWarning: At least one epoch has multiple events. Only the latency of the first event will be retained.\n",
      "  sets.append(mne.io.read_epochs_eeglab(path))\n"
     ]
    },
    {
     "name": "stdout",
     "output_type": "stream",
     "text": [
      "Extracting parameters from ./../../data_new/raw/PnP\\PnP_8\\PnP_8_LH.set...\n",
      "56 matching events found\n",
      "No baseline correction applied\n",
      "Not setting metadata\n",
      "0 projection items activated\n"
     ]
    },
    {
     "name": "stderr",
     "output_type": "stream",
     "text": [
      "<ipython-input-43-a40508d617f2>:10: RuntimeWarning: At least one epoch has multiple events. Only the latency of the first event will be retained.\n",
      "  sets.append(mne.io.read_epochs_eeglab(path))\n"
     ]
    },
    {
     "name": "stdout",
     "output_type": "stream",
     "text": [
      "Ready.\n",
      "Extracting parameters from ./../../data_new/raw/PnP\\PnP_9\\PnP_9_LH.set...\n",
      "52 matching events found\n",
      "No baseline correction applied\n",
      "Not setting metadata\n",
      "0 projection items activated\n"
     ]
    },
    {
     "name": "stderr",
     "output_type": "stream",
     "text": [
      "<ipython-input-43-a40508d617f2>:10: RuntimeWarning: At least one epoch has multiple events. Only the latency of the first event will be retained.\n",
      "  sets.append(mne.io.read_epochs_eeglab(path))\n"
     ]
    },
    {
     "name": "stdout",
     "output_type": "stream",
     "text": [
      "Ready.\n"
     ]
    }
   ],
   "source": [
    "limb = lh\n",
    "\n",
    "pp_rh_raw = get_datasets(location_pdp, limb['extension'])\n",
    "pnp_rh_raw = get_datasets(location_pnp, limb['extension'])\n",
    "hv_rh_raw = get_datasets(location_pwp, limb['extension'])"
   ]
  },
  {
   "cell_type": "markdown",
   "metadata": {},
   "source": [
    "Alternatively, use all limbs"
   ]
  },
  {
   "cell_type": "code",
   "execution_count": 6,
   "metadata": {},
   "outputs": [
    {
     "ename": "NameError",
     "evalue": "name 'location_pain' is not defined",
     "output_type": "error",
     "traceback": [
      "\u001b[1;31m---------------------------------------------------------------------------\u001b[0m",
      "\u001b[1;31mNameError\u001b[0m                                 Traceback (most recent call last)",
      "\u001b[1;32m<ipython-input-6-e8e2694994f6>\u001b[0m in \u001b[0;36m<module>\u001b[1;34m\u001b[0m\n\u001b[0;32m      1\u001b[0m \u001b[0mlimb\u001b[0m \u001b[1;33m=\u001b[0m \u001b[1;33m{\u001b[0m\u001b[1;34m'name'\u001b[0m\u001b[1;33m:\u001b[0m \u001b[1;34m'all_limbs'\u001b[0m\u001b[1;33m}\u001b[0m\u001b[1;33m\u001b[0m\u001b[1;33m\u001b[0m\u001b[0m\n\u001b[0;32m      2\u001b[0m \u001b[1;33m\u001b[0m\u001b[0m\n\u001b[1;32m----> 3\u001b[1;33m \u001b[0mpp_rh_raw\u001b[0m \u001b[1;33m=\u001b[0m \u001b[0mget_datasets\u001b[0m\u001b[1;33m(\u001b[0m\u001b[0mlocation_pain\u001b[0m\u001b[1;33m,\u001b[0m \u001b[0mrh\u001b[0m\u001b[1;33m[\u001b[0m\u001b[1;34m'extension'\u001b[0m\u001b[1;33m]\u001b[0m\u001b[1;33m)\u001b[0m\u001b[1;33m\u001b[0m\u001b[1;33m\u001b[0m\u001b[0m\n\u001b[0m\u001b[0;32m      4\u001b[0m \u001b[0mpnp_rh_raw\u001b[0m \u001b[1;33m=\u001b[0m \u001b[0mget_datasets\u001b[0m\u001b[1;33m(\u001b[0m\u001b[0mlocation_nopain\u001b[0m\u001b[1;33m,\u001b[0m \u001b[0mrh\u001b[0m\u001b[1;33m[\u001b[0m\u001b[1;34m'extension'\u001b[0m\u001b[1;33m]\u001b[0m\u001b[1;33m)\u001b[0m\u001b[1;33m\u001b[0m\u001b[1;33m\u001b[0m\u001b[0m\n\u001b[0;32m      5\u001b[0m \u001b[1;33m\u001b[0m\u001b[0m\n",
      "\u001b[1;31mNameError\u001b[0m: name 'location_pain' is not defined"
     ]
    }
   ],
   "source": [
    "limb = {'name': 'all_limbs'}\n",
    "\n",
    "pp_rh_raw = get_datasets(location_pain, rh['extension'])\n",
    "pnp_rh_raw = get_datasets(location_nopain, rh['extension'])\n",
    "\n",
    "pp_lh_raw = get_datasets(location_pain, lh['extension'])\n",
    "pnp_lh_raw = get_datasets(location_nopain, lh['extension'])\n",
    "\n",
    "pp_l_raw = get_datasets(location_pain, l_old['extension'])\n",
    "pnp_l_raw = get_datasets(location_nopain, l_old['extension'])"
   ]
  },
  {
   "cell_type": "code",
   "execution_count": 9,
   "metadata": {},
   "outputs": [
    {
     "ename": "NameError",
     "evalue": "name 'pp_lh_raw' is not defined",
     "output_type": "error",
     "traceback": [
      "\u001b[1;31m---------------------------------------------------------------------------\u001b[0m",
      "\u001b[1;31mNameError\u001b[0m                                 Traceback (most recent call last)",
      "\u001b[1;32m<ipython-input-9-431a486ee634>\u001b[0m in \u001b[0;36m<module>\u001b[1;34m\u001b[0m\n\u001b[1;32m----> 1\u001b[1;33m \u001b[0mpp_all_limbs\u001b[0m \u001b[1;33m=\u001b[0m \u001b[0mnp\u001b[0m\u001b[1;33m.\u001b[0m\u001b[0mconcatenate\u001b[0m\u001b[1;33m(\u001b[0m\u001b[1;33m(\u001b[0m\u001b[0mpp_rh_raw\u001b[0m\u001b[1;33m,\u001b[0m \u001b[0mpp_lh_raw\u001b[0m\u001b[1;33m,\u001b[0m \u001b[0mpp_l_raw\u001b[0m\u001b[1;33m)\u001b[0m\u001b[1;33m)\u001b[0m\u001b[1;33m\u001b[0m\u001b[1;33m\u001b[0m\u001b[0m\n\u001b[0m\u001b[0;32m      2\u001b[0m \u001b[0mpnp_all_limbs\u001b[0m \u001b[1;33m=\u001b[0m \u001b[0mnp\u001b[0m\u001b[1;33m.\u001b[0m\u001b[0mconcatenate\u001b[0m\u001b[1;33m(\u001b[0m\u001b[1;33m(\u001b[0m\u001b[0mpnp_rh_raw\u001b[0m\u001b[1;33m,\u001b[0m \u001b[0mpnp_lh_raw\u001b[0m\u001b[1;33m,\u001b[0m \u001b[0mpnp_l_raw\u001b[0m\u001b[1;33m)\u001b[0m\u001b[1;33m)\u001b[0m\u001b[1;33m\u001b[0m\u001b[1;33m\u001b[0m\u001b[0m\n",
      "\u001b[1;31mNameError\u001b[0m: name 'pp_lh_raw' is not defined"
     ]
    }
   ],
   "source": [
    "pp_all_limbs = np.concatenate((pp_rh_raw, pp_lh_raw, pp_l_raw))\n",
    "pnp_all_limbs = np.concatenate((pnp_rh_raw, pnp_lh_raw, pnp_l_raw))"
   ]
  },
  {
   "cell_type": "code",
   "execution_count": 46,
   "metadata": {},
   "outputs": [
    {
     "ename": "NameError",
     "evalue": "name 'pnp_all_limbs' is not defined",
     "output_type": "error",
     "traceback": [
      "\u001b[1;31m---------------------------------------------------------------------------\u001b[0m",
      "\u001b[1;31mNameError\u001b[0m                                 Traceback (most recent call last)",
      "\u001b[1;32m<ipython-input-46-eb07e33f911b>\u001b[0m in \u001b[0;36m<module>\u001b[1;34m\u001b[0m\n\u001b[1;32m----> 1\u001b[1;33m \u001b[0mpnp_all_limbs\u001b[0m\u001b[1;33m.\u001b[0m\u001b[0mshape\u001b[0m\u001b[1;33m\u001b[0m\u001b[1;33m\u001b[0m\u001b[0m\n\u001b[0m",
      "\u001b[1;31mNameError\u001b[0m: name 'pnp_all_limbs' is not defined"
     ]
    }
   ],
   "source": [
    "pnp_all_limbs.shape"
   ]
  },
  {
   "cell_type": "code",
   "execution_count": null,
   "metadata": {},
   "outputs": [],
   "source": []
  },
  {
   "cell_type": "code",
   "execution_count": 47,
   "metadata": {},
   "outputs": [
    {
     "name": "stdout",
     "output_type": "stream",
     "text": [
      "Extracting parameters from ./../../data_new/raw/PdP\\PdP_1\\PdP_1_RH.set...\n",
      "65 matching events found\n",
      "No baseline correction applied\n",
      "Not setting metadata\n",
      "0 projection items activated\n",
      "Ready.\n"
     ]
    },
    {
     "name": "stderr",
     "output_type": "stream",
     "text": [
      "<ipython-input-43-a40508d617f2>:25: RuntimeWarning: At least one epoch has multiple events. Only the latency of the first event will be retained.\n",
      "  return mne.io.read_epochs_eeglab(sets_locations[0]).ch_names\n"
     ]
    },
    {
     "data": {
      "text/plain": [
       "['Fp1',\n",
       " 'Fpz',\n",
       " 'Fp2',\n",
       " 'F7',\n",
       " 'F3',\n",
       " 'F1',\n",
       " 'Fz',\n",
       " 'F2',\n",
       " 'F4',\n",
       " 'F8',\n",
       " 'FC3',\n",
       " 'FC1',\n",
       " 'FCz',\n",
       " 'FC2',\n",
       " 'FC4',\n",
       " 'FC6',\n",
       " 'T7',\n",
       " 'C5',\n",
       " 'C3',\n",
       " 'C1',\n",
       " 'Cz',\n",
       " 'C2',\n",
       " 'C4',\n",
       " 'C6',\n",
       " 'T8',\n",
       " 'CP5',\n",
       " 'CP3',\n",
       " 'CP1',\n",
       " 'CPz',\n",
       " 'CP2',\n",
       " 'CP4',\n",
       " 'CP6',\n",
       " 'P7',\n",
       " 'P5',\n",
       " 'P3',\n",
       " 'P1',\n",
       " 'Pz',\n",
       " 'P2',\n",
       " 'P4',\n",
       " 'P6',\n",
       " 'P8',\n",
       " 'PO3',\n",
       " 'POz',\n",
       " 'PO4',\n",
       " 'O1',\n",
       " 'Oz',\n",
       " 'O2',\n",
       " 'FC5']"
      ]
     },
     "execution_count": 47,
     "metadata": {},
     "output_type": "execute_result"
    }
   ],
   "source": [
    "ch_names_new = get_channel_names(location_pdp, rh['extension'])\n",
    "ch_names_new"
   ]
  },
  {
   "cell_type": "code",
   "execution_count": 48,
   "metadata": {},
   "outputs": [
    {
     "name": "stdout",
     "output_type": "stream",
     "text": [
      "Extracting parameters from ./../../data/raw/PP\\PP1\\PP1_F1_RH_Removed_ICA.set...\n",
      "57 matching events found\n",
      "No baseline correction applied\n",
      "Not setting metadata\n",
      "0 projection items activated\n",
      "Ready.\n"
     ]
    },
    {
     "name": "stderr",
     "output_type": "stream",
     "text": [
      "<ipython-input-43-a40508d617f2>:25: RuntimeWarning: At least one epoch has multiple events. Only the latency of the first event will be retained.\n",
      "  return mne.io.read_epochs_eeglab(sets_locations[0]).ch_names\n"
     ]
    },
    {
     "data": {
      "text/plain": [
       "['Cz',\n",
       " 'C1',\n",
       " 'C2',\n",
       " 'C3',\n",
       " 'C4',\n",
       " 'C5',\n",
       " 'C6',\n",
       " 'C7',\n",
       " 'C8',\n",
       " 'FCz',\n",
       " 'FC1',\n",
       " 'FC2',\n",
       " 'FC3',\n",
       " 'FC4',\n",
       " 'FC5',\n",
       " 'FC6',\n",
       " 'FT7',\n",
       " 'FT8',\n",
       " 'CPz',\n",
       " 'CP1',\n",
       " 'CP2',\n",
       " 'CP3',\n",
       " 'CP4',\n",
       " 'CP5',\n",
       " 'CP6',\n",
       " 'TP7',\n",
       " 'TP8',\n",
       " 'Fz',\n",
       " 'F1',\n",
       " 'F2',\n",
       " 'F3',\n",
       " 'F4',\n",
       " 'F5',\n",
       " 'F6',\n",
       " 'F7',\n",
       " 'F8',\n",
       " 'Pz',\n",
       " 'P1',\n",
       " 'P2',\n",
       " 'P3',\n",
       " 'P4',\n",
       " 'P5',\n",
       " 'P6',\n",
       " 'P7',\n",
       " 'P8',\n",
       " 'AFz',\n",
       " 'AF3',\n",
       " 'AF4',\n",
       " 'AF7',\n",
       " 'AF8',\n",
       " 'Fp1',\n",
       " 'FP2',\n",
       " 'POz',\n",
       " 'PO3',\n",
       " 'PO4',\n",
       " 'PO7',\n",
       " 'PO8',\n",
       " 'Oz',\n",
       " 'O1',\n",
       " 'O2',\n",
       " 'Iz']"
      ]
     },
     "execution_count": 48,
     "metadata": {},
     "output_type": "execute_result"
    }
   ],
   "source": [
    "ch_names = get_channel_names(location_pain, rh['extension'])\n",
    "ch_names"
   ]
  },
  {
   "cell_type": "code",
   "execution_count": 49,
   "metadata": {},
   "outputs": [],
   "source": [
    "# Check for any channels not present in both\n",
    "#for ch in ch_names_new:\n",
    "#    if not (ch in ch_names):\n",
    " #       print(ch, end=' ')"
   ]
  },
  {
   "cell_type": "code",
   "execution_count": 50,
   "metadata": {},
   "outputs": [
    {
     "data": {
      "text/plain": [
       "array([array([[[-1.46666651e-05, -1.03541679e-05, -4.45833302e-06, ...,\n",
       "         -3.06250024e-06, -7.97916508e-06, -8.35416603e-06],\n",
       "        [ 4.33333302e-06,  9.64583302e-06,  8.54166603e-06, ...,\n",
       "          1.93750012e-06,  4.02083397e-06,  6.45832896e-07],\n",
       "        [ 3.03333321e-05,  2.46458378e-05,  5.54166698e-06, ...,\n",
       "         -2.06249976e-06,  1.02083397e-06,  7.64583254e-06],\n",
       "        ...,\n",
       "        [-7.66666698e-06, -1.33541689e-05, -1.24583330e-05, ...,\n",
       "         -4.06250000e-06, -1.69791660e-05, -2.43541679e-05],\n",
       "        [-6.66666698e-06, -1.33541689e-05, -1.44583340e-05, ...,\n",
       "         -6.25000745e-08, -1.29791670e-05, -2.03541698e-05],\n",
       "        [ 1.33333349e-06, -1.35416698e-06, -4.45833349e-06, ...,\n",
       "          1.93749988e-06,  7.02083397e-06,  9.64583397e-06]],\n",
       "\n",
       "       [[-2.08331160e-08, -1.09166670e-05, -2.21458416e-05, ...,\n",
       "          1.69166679e-05,  1.05625010e-05,  1.74999952e-06],\n",
       "        [ 3.97916722e-06, -1.59166670e-05, -2.51458416e-05, ...,\n",
       "          2.39166641e-05,  1.95624981e-05,  7.75000000e-06],\n",
       "        [ 1.69791679e-05,  6.08333302e-06, -1.01458292e-05, ...,\n",
       "          2.59166622e-05,  6.56250095e-06, -3.24999714e-06],\n",
       "        ...,\n",
       "        [ 9.79166329e-07,  9.08333397e-06,  2.85416484e-06, ...,\n",
       "         -1.10833349e-05, -8.43749809e-06,  2.75000072e-06],\n",
       "        [-6.02083349e-06,  2.08333325e-06,  8.54164600e-07, ...,\n",
       "         -1.80833359e-05, -1.54374981e-05, -5.25000000e-06],\n",
       "        [ 9.79166448e-07,  5.08333302e-06,  7.85416508e-06, ...,\n",
       "          1.29166641e-05,  5.56250191e-06, -2.49999046e-07]],\n",
       "\n",
       "       [[-8.85416985e-06,  2.50000095e-06,  6.70833397e-06, ...,\n",
       "          1.07083330e-05,  2.31250000e-06, -3.39583230e-06],\n",
       "        [-6.85416555e-06,  3.50000095e-06,  7.08334088e-07, ...,\n",
       "          8.70833302e-06,  8.31250191e-06, -1.39583385e-06],\n",
       "        [-8.54167044e-07, -1.50000060e-06, -1.42916670e-05, ...,\n",
       "         -1.42916689e-05, -2.66874943e-05, -3.23958397e-05],\n",
       "        ...,\n",
       "        [-1.85416722e-06,  5.50000000e-06,  6.70833492e-06, ...,\n",
       "         -6.29166698e-06,  3.12499970e-07,  3.60416603e-06],\n",
       "        [-8.54167402e-07,  8.50000191e-06,  1.37083349e-05, ...,\n",
       "         -4.29166651e-06,  1.31250000e-06,  3.60416579e-06],\n",
       "        [ 4.14583302e-06,  2.50000095e-06,  1.70833492e-06, ...,\n",
       "          9.70833397e-06,  1.13125000e-05,  9.60416603e-06]],\n",
       "\n",
       "       ...,\n",
       "\n",
       "       [[-5.89791565e-05, -5.29166718e-05, -5.04166718e-05, ...,\n",
       "         -1.52666702e-04, -1.49249969e-04, -1.49041702e-04],\n",
       "        [-5.79791603e-05, -6.09166718e-05, -5.94166718e-05, ...,\n",
       "         -1.42666702e-04, -1.42249969e-04, -1.46041702e-04],\n",
       "        [-6.89791946e-05, -6.59166718e-05, -5.14166718e-05, ...,\n",
       "         -1.72666702e-04, -1.48249969e-04, -1.34041687e-04],\n",
       "        ...,\n",
       "        [ 2.02083635e-06,  1.08333302e-06,  6.58333397e-06, ...,\n",
       "          4.83333397e-05,  4.57500038e-05,  3.89583282e-05],\n",
       "        [ 9.02083683e-06,  9.08333302e-06,  1.45833340e-05, ...,\n",
       "          4.63333359e-05,  4.07500038e-05,  3.29583282e-05],\n",
       "        [-6.97916412e-06, -1.91666794e-06, -5.41666794e-06, ...,\n",
       "          1.73333340e-05,  1.47500019e-05,  1.49583263e-05]],\n",
       "\n",
       "       [[ 3.56250143e-06, -3.08333349e-06, -1.15416698e-05, ...,\n",
       "         -1.11333336e-04, -1.05562485e-04, -9.35207977e-05],\n",
       "        [ 1.05624962e-05, -8.08333206e-06, -5.54166508e-06, ...,\n",
       "         -9.43333435e-05, -9.35624847e-05, -8.35207901e-05],\n",
       "        [ 4.05624886e-05,  2.39166718e-05,  1.44583311e-05, ...,\n",
       "         -9.63333359e-05, -9.05624771e-05, -7.25207977e-05],\n",
       "        ...,\n",
       "        [ 4.56250143e-06,  9.16666627e-07, -5.41666508e-07, ...,\n",
       "          3.76666603e-05,  3.84375000e-05,  3.84791718e-05],\n",
       "        [-4.37498897e-07, -8.33335742e-08, -4.54166651e-06, ...,\n",
       "          3.16666660e-05,  3.34375000e-05,  3.34791718e-05],\n",
       "        [ 3.56250143e-06, -3.08333373e-06, -2.54166651e-06, ...,\n",
       "          1.06666641e-05,  1.24375029e-05,  1.44791727e-05]],\n",
       "\n",
       "       [[ 2.19791698e-05,  1.59583330e-05,  1.67500000e-05, ...,\n",
       "         -6.67916565e-05, -7.31250381e-05, -8.45833359e-05],\n",
       "        [ 4.49791641e-05,  4.29583397e-05,  4.57500000e-05, ...,\n",
       "         -4.87916412e-05, -5.51250229e-05, -6.15833244e-05],\n",
       "        [ 6.69791794e-05,  8.39583282e-05,  7.67500076e-05, ...,\n",
       "         -4.07916603e-05, -3.71249847e-05, -4.65833092e-05],\n",
       "        ...,\n",
       "        [-1.00208330e-05, -9.04166603e-06, -1.32500019e-05, ...,\n",
       "          5.20833969e-06,  1.58750038e-05,  2.84166622e-05],\n",
       "        [-1.70208321e-05, -1.30416670e-05, -1.42500029e-05, ...,\n",
       "          1.20833838e-06,  1.18750029e-05,  2.64166603e-05],\n",
       "        [ 7.97916794e-06,  8.95833397e-06,  1.27499990e-05, ...,\n",
       "          3.62083397e-05,  3.78750038e-05,  3.24166603e-05]]]),\n",
       "       array([[[-2.42291641e-05, -2.99375076e-05, -2.53750019e-05, ...,\n",
       "          1.12291689e-05,  6.50000048e-06, -2.24998665e-06],\n",
       "        [-7.22916603e-06, -1.29374981e-05, -2.13750000e-05, ...,\n",
       "          1.42291632e-05,  6.50000048e-06, -4.24999905e-06],\n",
       "        [ 3.27708282e-05,  1.10625029e-05, -2.03750019e-05, ...,\n",
       "         -3.77083135e-06, -1.49999261e-06,  5.75000858e-06],\n",
       "        ...,\n",
       "        [ 2.17708340e-05,  2.80625000e-05,  3.26250038e-05, ...,\n",
       "         -5.77084017e-06,  1.75000019e-05, -1.25000000e-06],\n",
       "        [ 3.07708340e-05,  3.50625038e-05,  3.36250038e-05, ...,\n",
       "          3.22916031e-06,  1.24999971e-05,  1.47500010e-05],\n",
       "        [-1.22291679e-05, -9.37499583e-07,  3.62500048e-06, ...,\n",
       "         -1.67708435e-05, -2.45000019e-05, -2.62499981e-05]],\n",
       "\n",
       "       [[ 8.52916565e-05,  8.52916565e-05,  8.40208359e-05, ...,\n",
       "          1.38541632e-05,  1.32291718e-05,  9.49999523e-06],\n",
       "        [ 6.52916565e-05,  6.52916641e-05,  6.60208359e-05, ...,\n",
       "          3.18541698e-05,  2.32291679e-05,  8.50000000e-06],\n",
       "        [ 2.92916546e-05,  3.02916698e-05,  4.10208359e-05, ...,\n",
       "          4.48541565e-05,  3.02291603e-05,  9.49999523e-06],\n",
       "        ...,\n",
       "        [ 3.32916641e-05,  3.42916641e-05,  3.90208359e-05, ...,\n",
       "          8.85416222e-06,  9.22916985e-06,  2.95000038e-05],\n",
       "        [-2.77083397e-05, -2.87083378e-05, -2.19791660e-05, ...,\n",
       "         -3.31458397e-05, -3.17708321e-05, -2.15000000e-05],\n",
       "        [ 5.29166031e-06,  5.29166412e-06,  6.02083397e-06, ...,\n",
       "          1.85416126e-06,  2.82291698e-05,  2.35000000e-05]],\n",
       "\n",
       "       [[-5.08541756e-05, -5.09791679e-05, -5.52291527e-05, ...,\n",
       "          5.58333349e-06,  9.29166889e-06,  1.58333340e-05],\n",
       "        [-4.78541794e-05, -4.19791679e-05, -4.42291679e-05, ...,\n",
       "          1.58333313e-06,  7.29166746e-06,  1.18333321e-05],\n",
       "        [-5.58541489e-05, -6.49791718e-05, -9.02291641e-05, ...,\n",
       "         -2.74166756e-05, -2.67083321e-05, -2.21666679e-05],\n",
       "        ...,\n",
       "        [-1.28541679e-05, -1.19791660e-05, -3.22916842e-06, ...,\n",
       "         -6.41666698e-06,  2.91669548e-07, -1.16666603e-06],\n",
       "        [-2.78541698e-05, -2.49791679e-05, -2.02291698e-05, ...,\n",
       "         -4.84166679e-05, -5.07083321e-05, -4.61666641e-05],\n",
       "        [ 1.45830154e-07,  2.02083397e-06, -4.22916794e-06, ...,\n",
       "          2.58333373e-06,  2.12916679e-05,  2.28333340e-05]],\n",
       "\n",
       "       ...,\n",
       "\n",
       "       [[ 1.07291679e-05,  1.53541708e-05,  1.70000038e-05, ...,\n",
       "         -1.56250143e-06, -7.49999952e-06, -1.30208321e-05],\n",
       "        [ 5.72917128e-06,  2.33541565e-05,  2.60000000e-05, ...,\n",
       "         -1.75625019e-05, -1.85000000e-05, -2.40208378e-05],\n",
       "        [-3.52708359e-05,  9.35416985e-06,  5.09999962e-05, ...,\n",
       "         -7.45625000e-05, -5.94999886e-05, -6.60208435e-05],\n",
       "        ...,\n",
       "        [-1.72708321e-05, -2.56458340e-05, -2.99999981e-05, ...,\n",
       "          2.84375000e-05,  4.85000000e-05,  2.89791660e-05],\n",
       "        [-6.27083206e-06, -1.36458330e-05, -9.99999905e-06, ...,\n",
       "          3.44375038e-05,  2.95000019e-05,  6.97916460e-06],\n",
       "        [-1.32708321e-05, -6.64583302e-06, -6.99999809e-06, ...,\n",
       "          2.43750095e-06,  4.50000191e-06, -4.02083492e-06]],\n",
       "\n",
       "       [[-2.94166622e-05, -3.53541794e-05, -3.34791641e-05, ...,\n",
       "          1.23541670e-05,  1.03541670e-05,  1.18541651e-05],\n",
       "        [-6.41666460e-06, -1.53541613e-05, -2.94791737e-05, ...,\n",
       "          4.03541565e-05,  3.73541756e-05,  3.18541698e-05],\n",
       "        [ 2.35833321e-05,  1.36458273e-05, -3.04791679e-05, ...,\n",
       "          1.06354187e-04,  8.93541489e-05,  7.18541641e-05],\n",
       "        ...,\n",
       "        [-3.41666031e-06, -6.35417700e-06,  5.52083063e-06, ...,\n",
       "          1.83541660e-05, -1.56458340e-05, -5.11458321e-05],\n",
       "        [-1.34166632e-05, -8.35417652e-06,  5.52083206e-06, ...,\n",
       "         -4.66458321e-05, -5.06458397e-05, -5.71458321e-05],\n",
       "        [ 2.35833397e-05,  2.26458225e-05,  2.85208359e-05, ...,\n",
       "          4.33541679e-05,  3.43541679e-05,  2.48541679e-05]],\n",
       "\n",
       "       [[-6.68750048e-06, -1.72499962e-05, -2.05208340e-05, ...,\n",
       "          2.42083416e-05,  9.02083588e-06,  1.08125029e-05],\n",
       "        [-7.16875076e-05, -8.72500229e-05, -8.85208588e-05, ...,\n",
       "          7.20833588e-06, -1.19791660e-05, -9.18749714e-06],\n",
       "        [-4.76874924e-05, -1.07250023e-04, -1.13520851e-04, ...,\n",
       "          6.52083435e-05,  4.90208511e-05,  6.88125000e-05],\n",
       "        ...,\n",
       "        [-2.56875019e-05, -3.12500000e-05, -3.75208321e-05, ...,\n",
       "         -3.57916603e-05, -2.29791698e-05, -2.21875000e-05],\n",
       "        [-9.68750095e-06,  7.50000298e-07, -8.52083206e-06, ...,\n",
       "         -1.87916622e-05,  6.02083015e-06,  2.98125019e-05],\n",
       "        [-2.26875000e-05, -1.62500000e-05, -1.25208321e-05, ...,\n",
       "          2.52083378e-05,  1.20208302e-05, -1.18749809e-06]]]),\n",
       "       array([[[-4.46041718e-05, -2.75416679e-05,  2.56250048e-06, ...,\n",
       "         -2.01458321e-05, -1.64791660e-05, -8.75000191e-06],\n",
       "        [ 2.39583611e-06,  7.45833254e-06,  1.65624981e-05, ...,\n",
       "          4.85417080e-06,  6.52083588e-06,  1.42499962e-05],\n",
       "        [-2.60416722e-06,  2.45833397e-06,  1.15625048e-05, ...,\n",
       "          7.85416651e-06,  4.52083254e-06,  8.24999809e-06],\n",
       "        ...,\n",
       "        [-1.26041670e-05, -1.25416660e-05, -1.24375000e-05, ...,\n",
       "         -1.81458359e-05, -2.04791679e-05, -1.77500000e-05],\n",
       "        [-7.60416746e-06, -9.54166603e-06, -1.24375000e-05, ...,\n",
       "         -1.71458340e-05, -1.94791660e-05, -1.87500000e-05],\n",
       "        [ 1.83958321e-05,  2.14583359e-05,  2.65625019e-05, ...,\n",
       "         -7.14583588e-06, -1.94791641e-05, -1.47500000e-05]],\n",
       "\n",
       "       [[-4.58334267e-07, -7.22916508e-06, -1.05833330e-05, ...,\n",
       "          1.39791651e-05,  1.66041622e-05,  3.12916775e-05],\n",
       "        [-2.45833564e-06, -2.22916842e-06, -2.58333421e-06, ...,\n",
       "          2.09791679e-05,  1.26041708e-05,  1.22916689e-05],\n",
       "        [ 1.85416660e-05,  1.87708340e-05,  1.74166660e-05, ...,\n",
       "          3.29791718e-05,  2.26041622e-05,  2.02916641e-05],\n",
       "        ...,\n",
       "        [ 3.54166293e-06,  3.77083135e-06,  3.41666675e-06, ...,\n",
       "         -1.50208330e-05, -1.03958340e-05, -7.70833445e-06],\n",
       "        [ 2.54166293e-06,  3.77083111e-06,  3.41666698e-06, ...,\n",
       "         -1.50208330e-05, -1.13958340e-05, -8.70833397e-06],\n",
       "        [-2.45833778e-06,  1.77083206e-06,  2.41666794e-06, ...,\n",
       "          2.19791679e-05, -3.39583397e-06, -3.27083359e-05]],\n",
       "\n",
       "       [[ 2.90000019e-05,  5.23541603e-05,  6.45624847e-05, ...,\n",
       "          6.53958435e-05,  5.15833359e-05,  2.03124981e-05],\n",
       "        [ 2.90000019e-05,  3.43541641e-05,  4.05625000e-05, ...,\n",
       "          1.33958311e-05,  1.65833302e-05,  1.63124981e-05],\n",
       "        [ 6.09999962e-05,  7.13541641e-05,  6.25624886e-05, ...,\n",
       "          3.13958378e-05,  2.75833359e-05,  3.93125038e-05],\n",
       "        ...,\n",
       "        [ 1.00000000e-06, -5.64583445e-06, -7.43750000e-06, ...,\n",
       "         -6.60416746e-06, -1.34166689e-05, -2.26875038e-05],\n",
       "        [-1.20000010e-05, -1.96458340e-05, -2.24375019e-05, ...,\n",
       "         -9.60416698e-06, -1.74166698e-05, -2.66875019e-05],\n",
       "        [ 2.90000000e-05,  2.43541660e-05,  6.56250048e-06, ...,\n",
       "          4.39583254e-06,  7.58333206e-06,  1.83125000e-05]],\n",
       "\n",
       "       ...,\n",
       "\n",
       "       [[ 7.36458511e-05,  7.99999847e-05,  6.83750229e-05, ...,\n",
       "          5.66666756e-05,  4.81041756e-05,  3.55000076e-05],\n",
       "        [ 3.06458282e-05,  3.30000076e-05,  3.03749981e-05, ...,\n",
       "          3.26666718e-05,  3.21041756e-05,  2.64999943e-05],\n",
       "        [ 3.66458282e-05,  4.60000076e-05,  4.13749924e-05, ...,\n",
       "          3.76666718e-05,  3.61041756e-05,  3.45000114e-05],\n",
       "        ...,\n",
       "        [-8.35416222e-06, -4.99999952e-06, -2.62500143e-06, ...,\n",
       "         -5.33333397e-06, -5.89583254e-06, -2.49999857e-06],\n",
       "        [-8.35416222e-06, -5.00000048e-06, -2.62500167e-06, ...,\n",
       "          1.66666627e-06,  1.04167938e-07,  5.00001907e-07],\n",
       "        [ 2.76458378e-05,  4.30000000e-05,  2.43750000e-05, ...,\n",
       "          2.36666679e-05,  1.41041679e-05,  2.65000019e-05]],\n",
       "\n",
       "       [[ 3.55000076e-05,  3.03125095e-05,  2.43333454e-05, ...,\n",
       "          4.13958321e-05,  5.34999962e-05,  5.51250000e-05],\n",
       "        [ 1.15000038e-05,  7.31250048e-06,  1.33333206e-06, ...,\n",
       "          1.63958340e-05,  1.75000000e-05,  1.61250000e-05],\n",
       "        [ 3.14999962e-05,  1.73125019e-05,  3.33333349e-06, ...,\n",
       "          8.39583302e-06,  2.34999981e-05,  4.81249962e-05],\n",
       "        ...,\n",
       "        [-6.49999905e-06, -9.68749714e-06, -1.36666651e-05, ...,\n",
       "          3.39583063e-06,  4.49999809e-06,  6.12499952e-06],\n",
       "        [ 2.50000167e-06, -6.87496185e-07, -2.66666412e-06, ...,\n",
       "         -1.60416853e-06, -2.50000191e-06, -3.87499928e-06],\n",
       "        [-3.35000000e-05, -5.68749619e-06,  1.13333340e-05, ...,\n",
       "          7.39583111e-06, -2.05000019e-05, -2.98750019e-05]],\n",
       "\n",
       "       [[-8.85416603e-06, -1.00208340e-05, -2.62500119e-06, ...,\n",
       "          9.81250000e-06,  9.83333111e-06,  2.62499952e-06],\n",
       "        [-9.85416889e-06, -1.20208359e-05, -7.62499952e-06, ...,\n",
       "          8.12499940e-07,  2.83333492e-06,  6.25000536e-07],\n",
       "        [ 1.45833850e-07, -2.08343081e-08,  2.37500167e-06, ...,\n",
       "         -1.11875010e-05, -1.16666651e-06,  5.62500095e-06],\n",
       "        ...,\n",
       "        [ 3.14583516e-06,  2.97916651e-06,  4.37500095e-06, ...,\n",
       "          1.28125000e-05,  1.48333340e-05,  1.86250019e-05],\n",
       "        [ 3.14583492e-06,  2.97916627e-06,  6.37500095e-06, ...,\n",
       "          1.38125000e-05,  1.78333340e-05,  2.16250000e-05],\n",
       "        [-1.38541660e-05, -9.02083492e-06, -6.62499952e-06, ...,\n",
       "         -1.61875000e-05, -1.71666679e-05, -1.63750000e-05]]]),\n",
       "       array([[[ 8.35416889e-06,  1.57291689e-05,  5.22083435e-05, ...,\n",
       "          1.69166660e-05,  1.52083337e-06, -1.50625029e-05],\n",
       "        [ 6.35416746e-06,  1.07291679e-05,  4.52083473e-05, ...,\n",
       "          1.79166660e-05,  3.52083302e-06, -1.20625000e-05],\n",
       "        [ 6.35416746e-06,  8.72916603e-06,  4.22083473e-05, ...,\n",
       "          1.99166660e-05,  6.52083445e-06, -8.06249809e-06],\n",
       "        ...,\n",
       "        [ 1.73541679e-05,  2.37291679e-05,  1.62083340e-05, ...,\n",
       "         -4.08333302e-06, -4.47916651e-06, -1.06250048e-06],\n",
       "        [ 2.03541660e-05,  2.67291679e-05,  1.92083340e-05, ...,\n",
       "         -2.08333325e-06, -2.47916698e-06, -6.25003129e-08],\n",
       "        [ 1.63541679e-05,  3.27291679e-05,  2.92083359e-05, ...,\n",
       "          5.91666651e-06, -1.47916687e-06,  1.93749964e-06]],\n",
       "\n",
       "       [[ 2.45208340e-05, -4.08333445e-06, -6.85416746e-06, ...,\n",
       "          1.40416660e-05,  2.70833421e-06,  2.39166660e-05],\n",
       "        [ 2.15208340e-05, -6.08333635e-06, -7.85416937e-06, ...,\n",
       "          1.10416660e-05, -2.91668087e-07,  2.09166679e-05],\n",
       "        [ 1.95208282e-05, -8.08333588e-06, -8.85416508e-06, ...,\n",
       "          8.04166698e-06, -1.29166782e-06,  2.09166679e-05],\n",
       "        ...,\n",
       "        [-1.74791679e-05, -1.20833340e-05,  1.14583337e-06, ...,\n",
       "         -8.95833397e-06, -4.29166794e-06, -8.33328664e-08],\n",
       "        [-1.94791679e-05, -1.20833340e-05, -8.54166687e-07, ...,\n",
       "         -1.69583321e-05, -1.02916679e-05, -4.08333302e-06],\n",
       "        [-3.47916698e-06,  9.16666508e-07,  1.31458330e-05, ...,\n",
       "          9.04166698e-06,  1.17083330e-05,  1.99166679e-05]],\n",
       "\n",
       "       [[-2.32083321e-05,  1.14583325e-06,  1.82291641e-05, ...,\n",
       "         -2.07083340e-05,  1.16249981e-05,  6.16666651e-06],\n",
       "        [-2.52083302e-05,  1.14583325e-06,  1.92291622e-05, ...,\n",
       "         -2.27083340e-05,  8.62500095e-06,  2.16666675e-06],\n",
       "        [-2.32083321e-05,  3.14583373e-06,  2.02291622e-05, ...,\n",
       "         -1.17083330e-05,  1.76250019e-05,  1.01666670e-05],\n",
       "        ...,\n",
       "        [ 1.79166710e-06, -1.85416698e-06, -7.70832539e-07, ...,\n",
       "         -1.57083349e-05, -1.13750010e-05, -5.83333349e-06],\n",
       "        [ 4.79166698e-06, -8.54166985e-07, -7.70832539e-07, ...,\n",
       "         -1.47083340e-05, -1.03750000e-05, -3.83333373e-06],\n",
       "        [ 1.17916679e-05,  1.41458330e-05,  1.12291679e-05, ...,\n",
       "         -1.87083340e-05, -1.73750000e-05, -1.38333340e-05]],\n",
       "\n",
       "       ...,\n",
       "\n",
       "       [[-7.26666718e-05, -9.29791718e-05, -7.72291641e-05, ...,\n",
       "          1.09523535e-12, -1.02291651e-05, -2.33333325e-06],\n",
       "        [-6.86666794e-05, -8.79791718e-05, -7.22291718e-05, ...,\n",
       "          3.99999809e-06, -1.02291651e-05, -1.33333349e-06],\n",
       "        [-9.56666412e-05, -1.10979172e-04, -9.02291718e-05, ...,\n",
       "          1.00000060e-06, -1.22291660e-05, -7.33333302e-06],\n",
       "        ...,\n",
       "        [ 1.93333340e-05,  2.50208454e-05,  2.37708397e-05, ...,\n",
       "          2.00000072e-06,  2.77083325e-06,  6.66666698e-06],\n",
       "        [ 1.73333302e-05,  2.30208435e-05,  2.07708378e-05, ...,\n",
       "          3.00000024e-06,  1.77083290e-06,  5.66666698e-06],\n",
       "        [ 4.33333206e-06,  6.02083969e-06,  4.77083588e-06, ...,\n",
       "         -9.00000000e-06, -7.22916698e-06, -1.33333302e-06]],\n",
       "\n",
       "       [[-7.87499952e-06, -1.06041698e-05,  9.41666794e-06, ...,\n",
       "          3.07708321e-05,  2.25000000e-05, -2.08333182e-06],\n",
       "        [-9.87499905e-06, -1.06041698e-05,  1.04166689e-05, ...,\n",
       "          2.57708340e-05,  2.34999981e-05,  2.91666484e-06],\n",
       "        [-1.48750010e-05, -1.06041689e-05,  1.14166698e-05, ...,\n",
       "          3.37708321e-05,  3.45000000e-05,  1.59166660e-05],\n",
       "        ...,\n",
       "        [ 1.24999523e-07,  4.39583397e-06,  6.41666698e-06, ...,\n",
       "          1.77083457e-06,  2.49999976e-06, -8.33352357e-08],\n",
       "        [ 2.12499952e-06,  5.39583349e-06,  8.41666698e-06, ...,\n",
       "          2.77083659e-06,  3.49999976e-06,  1.91666567e-06],\n",
       "        [ 1.11250000e-05,  1.03958340e-05,  5.41666698e-06, ...,\n",
       "          1.57708359e-05,  1.35000000e-05,  8.91666603e-06]],\n",
       "\n",
       "       [[ 1.60416641e-05,  3.16250000e-05,  2.17916679e-05, ...,\n",
       "          3.33958321e-05,  3.46041603e-05,  1.85000038e-05],\n",
       "        [ 1.50416651e-05,  2.96250019e-05,  1.97916660e-05, ...,\n",
       "          3.23958397e-05,  3.26041603e-05,  1.35000000e-05],\n",
       "        [ 8.04166889e-06,  2.56250000e-05,  2.77916679e-05, ...,\n",
       "          4.13958244e-05,  4.36041641e-05,  2.35000019e-05],\n",
       "        ...,\n",
       "        [-2.69583340e-05, -2.63750019e-05, -2.02083340e-05, ...,\n",
       "         -1.46041679e-05, -2.03958340e-05, -2.15000000e-05],\n",
       "        [-2.99583340e-05, -3.03750000e-05, -2.42083340e-05, ...,\n",
       "         -1.66041660e-05, -2.23958340e-05, -2.15000000e-05],\n",
       "        [-1.49583330e-05, -1.33749990e-05, -8.20833302e-06, ...,\n",
       "          3.95833254e-07, -2.39583325e-06, -1.49999976e-06]]]),\n",
       "       array([[[ 8.79166794e-06,  8.02083683e-06,  1.16041670e-05, ...,\n",
       "         -3.12500209e-07, -1.64583278e-06, -1.56250000e-06],\n",
       "        [ 1.67916679e-05,  1.50208359e-05,  1.96041622e-05, ...,\n",
       "          3.68750048e-06,  4.35416555e-06,  5.43749905e-06],\n",
       "        [ 2.07916679e-05,  1.80208359e-05,  2.16041622e-05, ...,\n",
       "          3.68750048e-06,  4.35416651e-06,  5.43749905e-06],\n",
       "        ...,\n",
       "        [-5.20833254e-06, -7.97916651e-06, -1.13958321e-05, ...,\n",
       "         -3.12499523e-07, -6.45834148e-07, -2.56249928e-06],\n",
       "        [-1.02083330e-05, -1.09791660e-05, -1.53958321e-05, ...,\n",
       "         -1.31249940e-06, -1.64583397e-06, -4.56249905e-06],\n",
       "        [-6.20833302e-06, -6.97916603e-06, -6.39583206e-06, ...,\n",
       "         -2.31249928e-06, -3.64583397e-06, -2.56249905e-06]],\n",
       "\n",
       "       [[ 1.36875019e-05,  1.63958359e-05,  2.06458302e-05, ...,\n",
       "          1.84791698e-05,  2.19583282e-05,  2.42291641e-05],\n",
       "        [ 9.68750191e-06,  1.03958359e-05,  1.06458349e-05, ...,\n",
       "          1.74791718e-05,  1.99583302e-05,  1.92291660e-05],\n",
       "        [ 7.68750238e-06,  6.39583254e-06,  6.64583254e-06, ...,\n",
       "          1.44791651e-05,  1.89583282e-05,  1.82291641e-05],\n",
       "        ...,\n",
       "        [-8.31250000e-06, -1.66041660e-05, -1.73541679e-05, ...,\n",
       "         -8.52083492e-06, -1.50416679e-05, -1.87708340e-05],\n",
       "        [ 1.68749976e-06, -9.60416698e-06, -1.43541670e-05, ...,\n",
       "         -2.52083564e-06, -1.30416670e-05, -2.07708340e-05],\n",
       "        [ 3.68749976e-06,  1.23958330e-05,  1.26458340e-05, ...,\n",
       "          8.47916508e-06,  8.95833397e-06,  7.22916698e-06]],\n",
       "\n",
       "       [[ 5.60416794e-06,  2.25000024e-06, -1.10416651e-06, ...,\n",
       "         -6.29166842e-06, -2.29166821e-07,  6.87500000e-06],\n",
       "        [ 1.60416591e-06,  1.25000155e-06, -1.04168922e-07, ...,\n",
       "         -7.29166698e-06, -3.22916794e-06,  1.87499940e-06],\n",
       "        [ 1.60416591e-06,  6.25000143e-06,  4.89583302e-06, ...,\n",
       "         -1.29166675e-06, -2.29166821e-07,  1.87499940e-06],\n",
       "        ...,\n",
       "        [ 6.60416508e-06,  9.24999905e-06,  8.89583206e-06, ...,\n",
       "          7.08333969e-07, -3.22916675e-06, -3.12500072e-06],\n",
       "        [-2.39583516e-06,  2.49999374e-07,  2.89583206e-06, ...,\n",
       "          1.70833409e-06,  1.77083349e-06, -2.12500000e-06],\n",
       "        [ 1.56041641e-05,  1.52500010e-05,  1.28958340e-05, ...,\n",
       "          1.07083340e-05,  1.97708340e-05,  4.87500000e-06]],\n",
       "\n",
       "       ...,\n",
       "\n",
       "       [[-3.20833325e-06, -1.27083409e-06,  3.74999374e-07, ...,\n",
       "          6.60416651e-06,  5.12499952e-06,  7.02083206e-06],\n",
       "        [-5.20833635e-06, -5.27083397e-06, -3.62500000e-06, ...,\n",
       "          6.60416651e-06,  6.12500000e-06,  8.02083397e-06],\n",
       "        [-2.08333477e-07, -2.70835578e-07,  3.74999374e-07, ...,\n",
       "          1.46041670e-05,  1.41250038e-05,  1.40208368e-05],\n",
       "        ...,\n",
       "        [ 1.97916679e-05,  1.57291660e-05,  1.43750010e-05, ...,\n",
       "          7.60416651e-06,  9.12500095e-06,  7.02083397e-06],\n",
       "        [ 3.17916698e-05,  3.27291679e-05,  3.43750000e-05, ...,\n",
       "          1.86041679e-05,  2.21250019e-05,  2.10208340e-05],\n",
       "        [-1.20833111e-06, -2.70835876e-07,  3.75000477e-07, ...,\n",
       "         -2.39583325e-06, -2.87499952e-06, -9.79166269e-07]],\n",
       "\n",
       "       [[ 3.54166722e-06,  5.41666603e-06,  6.66666603e-06, ...,\n",
       "         -5.08333254e-06, -4.45833492e-06, -3.79166484e-06],\n",
       "        [ 6.54166698e-06,  8.41666794e-06,  9.66666698e-06, ...,\n",
       "         -4.08333063e-06, -2.45833397e-06, -1.79166675e-06],\n",
       "        [ 8.54166603e-06,  9.41666603e-06,  8.66666698e-06, ...,\n",
       "         -8.08333874e-06, -7.45833635e-06, -5.79166842e-06],\n",
       "        ...,\n",
       "        [-2.45833325e-06, -6.58333445e-06, -5.33333397e-06, ...,\n",
       "          2.91666579e-06,  2.54166722e-06,  5.20833302e-06],\n",
       "        [-1.45833397e-06, -5.58333349e-06, -1.33333516e-06, ...,\n",
       "          3.91666579e-06,  4.54166698e-06,  7.20833302e-06],\n",
       "        [-8.45833302e-06, -6.58333492e-06, -2.33333397e-06, ...,\n",
       "         -9.08333397e-06, -9.45833397e-06, -1.17916679e-05]],\n",
       "\n",
       "       [[-9.37500191e-06, -1.84999962e-05, -2.44374943e-05, ...,\n",
       "         -4.78958435e-05, -4.66249924e-05, -4.82083282e-05],\n",
       "        [-7.37500048e-06, -1.64999981e-05, -2.34374962e-05, ...,\n",
       "         -5.28958435e-05, -5.06249924e-05, -4.92083321e-05],\n",
       "        [-3.37500024e-06, -1.05000019e-05, -1.64375019e-05, ...,\n",
       "         -4.98958435e-05, -4.76249924e-05, -4.42083282e-05],\n",
       "        ...,\n",
       "        [ 4.62500095e-06,  6.50000286e-06,  6.56249905e-06, ...,\n",
       "          3.11041660e-05,  2.83750038e-05,  2.77916641e-05],\n",
       "        [ 2.62500167e-06,  4.50000238e-06,  3.56249833e-06, ...,\n",
       "          2.81041660e-05,  2.43750038e-05,  2.27916660e-05],\n",
       "        [-4.37499905e-06, -4.49999857e-06, -5.43750191e-06, ...,\n",
       "         -5.89583540e-06, -1.06249971e-05, -1.92083359e-05]]]),\n",
       "       array([[[-1.05625029e-05, -1.07291670e-05, -1.36458311e-05, ...,\n",
       "          4.18750048e-06,  7.29166865e-07,  2.04166651e-06],\n",
       "        [-1.25625019e-05, -1.47291670e-05, -1.56458292e-05, ...,\n",
       "          1.18750060e-06, -3.27083516e-06, -4.95833397e-06],\n",
       "        [-2.05624962e-05, -2.57291660e-05, -2.56458302e-05, ...,\n",
       "          2.18750048e-06, -6.27083397e-06, -1.09583330e-05],\n",
       "        ...,\n",
       "        [ 1.84375019e-05,  1.72708340e-05,  1.33541670e-05, ...,\n",
       "          9.18749905e-06,  1.27291660e-05,  1.50416670e-05],\n",
       "        [ 1.24375010e-05,  1.02708330e-05,  1.03541670e-05, ...,\n",
       "          3.18749928e-06,  1.17291660e-05,  1.50416670e-05],\n",
       "        [-5.62499285e-07,  2.27083302e-06,  3.54166985e-07, ...,\n",
       "          7.18749905e-06,  3.72916603e-06,  7.04166698e-06]],\n",
       "\n",
       "       [[-1.73541679e-05, -1.90208321e-05, -1.68541641e-05, ...,\n",
       "          5.62500238e-07,  9.79165912e-07,  1.22916734e-06],\n",
       "        [-1.63541679e-05, -1.70208321e-05, -1.48541708e-05, ...,\n",
       "          3.56249952e-06,  1.97916663e-06,  2.29166389e-07],\n",
       "        [-2.33541641e-05, -2.30208359e-05, -1.98541622e-05, ...,\n",
       "          5.62500238e-07, -2.02083325e-06, -7.77083206e-06],\n",
       "        ...,\n",
       "        [ 9.64583302e-06,  2.97916627e-06,  4.14583349e-06, ...,\n",
       "         -2.43749928e-06, -3.02083230e-06, -1.77083313e-06],\n",
       "        [ 1.46458340e-05,  1.09791670e-05,  1.01458340e-05, ...,\n",
       "         -5.43749952e-06, -3.02083254e-06,  1.22916698e-06],\n",
       "        [ 6.45833492e-07, -3.02083373e-06, -3.85416698e-06, ...,\n",
       "          7.56250095e-06,  8.97916794e-06,  1.12291670e-05]],\n",
       "\n",
       "       [[-1.23750019e-05, -7.24999905e-06, -8.60417080e-06, ...,\n",
       "          1.27500010e-05,  1.10833311e-05,  9.81250000e-06],\n",
       "        [-1.33750010e-05, -1.02500010e-05, -1.16041727e-05, ...,\n",
       "          1.37500010e-05,  1.10833311e-05,  1.08125010e-05],\n",
       "        [-2.03749981e-05, -1.82500114e-05, -1.76041603e-05, ...,\n",
       "          1.77499981e-05,  1.60833416e-05,  1.68124981e-05],\n",
       "        ...,\n",
       "        [ 2.16250000e-05,  2.17500019e-05,  2.33958340e-05, ...,\n",
       "          2.75000000e-06,  5.08333349e-06,  7.81250000e-06],\n",
       "        [ 1.36250000e-05,  1.47500029e-05,  1.53958330e-05, ...,\n",
       "         -2.50000119e-07, -1.91666675e-06,  2.81250024e-06],\n",
       "        [ 6.25000000e-07,  2.75000191e-06,  1.39583397e-06, ...,\n",
       "          7.49999762e-07, -9.16666806e-07, -2.18750000e-06]],\n",
       "\n",
       "       ...,\n",
       "\n",
       "       [[-1.33333492e-06, -4.16653752e-08,  1.37500024e-06, ...,\n",
       "         -9.00000477e-06, -5.25000000e-06, -5.77083397e-06],\n",
       "        [ 1.66666412e-06,  1.95833349e-06,  3.37500000e-06, ...,\n",
       "         -5.00000191e-06, -3.25000334e-06, -2.77083564e-06],\n",
       "        [ 6.66665494e-07,  9.58332896e-07,  1.37500024e-06, ...,\n",
       "         -9.99998093e-07,  1.75000083e-06,  4.22916794e-06],\n",
       "        ...,\n",
       "        [-3.33333313e-07, -4.16717231e-08,  3.74997497e-07, ...,\n",
       "          4.99999809e-06,  2.75000167e-06,  3.22916889e-06],\n",
       "        [ 1.66666679e-05,  1.49583302e-05,  1.13749990e-05, ...,\n",
       "          1.39999971e-05,  1.37500019e-05,  1.42291689e-05],\n",
       "        [ 6.66666794e-06,  4.95833015e-06,  5.37499809e-06, ...,\n",
       "          2.99999714e-06,  7.50001907e-07,  2.29168892e-07]],\n",
       "\n",
       "       [[ 6.05416908e-05,  5.81041603e-05,  5.31250114e-05, ...,\n",
       "         -2.56041641e-05, -2.14375057e-05, -1.69166622e-05],\n",
       "        [ 3.55416565e-05,  3.31041718e-05,  3.51250000e-05, ...,\n",
       "         -2.56041641e-05, -2.24375057e-05, -1.79166641e-05],\n",
       "        [-4.58336115e-07,  3.10416698e-06,  1.51249971e-05, ...,\n",
       "         -3.16041775e-05, -2.74375057e-05, -2.09166641e-05],\n",
       "        ...,\n",
       "        [-2.94583302e-05, -3.08958340e-05, -3.08750057e-05, ...,\n",
       "          1.13958349e-05,  7.56249952e-06,  7.08333445e-06],\n",
       "        [-3.74583321e-05, -3.78958359e-05, -3.68750076e-05, ...,\n",
       "          7.39583397e-06,  4.56249952e-06,  2.08333421e-06],\n",
       "        [ 4.65416718e-05,  1.04104164e-04,  1.36125000e-04, ...,\n",
       "          3.13958359e-05,  3.25625000e-05,  3.30833359e-05]],\n",
       "\n",
       "       [[-1.64374962e-05, -1.71458321e-05, -2.11458340e-05, ...,\n",
       "         -2.45833325e-06,  1.18750060e-06,  1.29166651e-06],\n",
       "        [-1.34374971e-05, -1.41458263e-05, -1.81458340e-05, ...,\n",
       "         -4.58333343e-07,  1.87500045e-07,  1.29166651e-06],\n",
       "        [-1.34374971e-05, -1.51458282e-05, -2.11458340e-05, ...,\n",
       "         -2.45833325e-06, -5.81250048e-06, -1.70833349e-06],\n",
       "        ...,\n",
       "        [ 9.56249905e-06,  6.85416651e-06,  7.85416698e-06, ...,\n",
       "          3.54166675e-06,  2.18750000e-06,  2.29166675e-06],\n",
       "        [ 1.55625000e-05,  7.85416651e-06,  8.85416698e-06, ...,\n",
       "          4.54166698e-06,  4.18750048e-06,  5.29166651e-06],\n",
       "        [ 5.62500000e-07, -6.14583397e-06, -5.14583302e-06, ...,\n",
       "          2.54166675e-06,  8.18750000e-06,  1.22916670e-05]]]),\n",
       "       array([[[-1.54166687e-06,  1.87500000e-07,  2.25000095e-06, ...,\n",
       "         -1.64583302e-06,  7.91666329e-07,  4.18750000e-06],\n",
       "        [-1.54166687e-06,  1.18749905e-06,  9.25000000e-06, ...,\n",
       "          3.54166508e-07, -1.20833325e-06,  1.87500209e-07],\n",
       "        [-6.54166651e-06, -8.81250191e-06, -7.50002503e-07, ...,\n",
       "         -2.64583540e-06, -3.20833302e-06, -8.12499642e-07],\n",
       "        ...,\n",
       "        [ 8.45833206e-06,  8.18749809e-06,  2.50003189e-07, ...,\n",
       "         -8.64583302e-06, -5.20833349e-06, -2.81249952e-06],\n",
       "        [-3.54166770e-06,  3.18749833e-06, -3.74999809e-06, ...,\n",
       "         -1.76458340e-05, -1.62083340e-05, -1.78124981e-05],\n",
       "        [-1.15416679e-05, -9.81250286e-06, -5.74999714e-06, ...,\n",
       "          1.33541679e-05,  1.07916670e-05, -4.81249952e-06]],\n",
       "\n",
       "       [[-1.33750048e-05, -1.91875000e-05, -1.72708359e-05, ...,\n",
       "         -2.70000019e-05, -2.56874981e-05, -2.34791679e-05],\n",
       "        [-9.37500381e-06, -1.11875000e-05, -1.42708302e-05, ...,\n",
       "         -1.10000029e-05, -1.36874981e-05, -1.64791660e-05],\n",
       "        [-1.33750048e-05, -2.11875000e-05, -2.32708378e-05, ...,\n",
       "         -9.99999905e-06, -1.66874981e-05, -2.54791660e-05],\n",
       "        ...,\n",
       "        [ 6.24998927e-07,  3.81250143e-06,  3.72916698e-06, ...,\n",
       "          1.89999981e-05,  2.03125000e-05,  1.95208378e-05],\n",
       "        [-3.75001132e-07, -1.18749845e-06,  1.72916710e-06, ...,\n",
       "          3.09999981e-05,  3.63125000e-05,  3.25208359e-05],\n",
       "        [ 1.76250000e-05,  8.81250191e-06,  2.72916698e-06, ...,\n",
       "         -1.20000029e-05, -5.68750095e-06, -2.47916412e-06]],\n",
       "\n",
       "       [[-2.28333302e-05, -1.63124981e-05, -7.02083588e-06, ...,\n",
       "         -1.35625057e-05, -1.62499981e-05, -1.24375057e-05],\n",
       "        [-1.08333340e-05, -1.33125010e-05, -1.30208330e-05, ...,\n",
       "         -5.56249905e-06, -3.24999976e-06, -2.43749881e-06],\n",
       "        [-2.98333263e-05, -2.43125038e-05, -1.30208340e-05, ...,\n",
       "         -1.65625076e-05, -1.82500000e-05, -1.74375057e-05],\n",
       "        ...,\n",
       "        [-1.83333290e-06,  6.68750191e-06,  6.97916460e-06, ...,\n",
       "          2.43750095e-06,  1.74999774e-06,  5.62499702e-07],\n",
       "        [ 7.16666746e-06,  1.56875010e-05,  1.19791632e-05, ...,\n",
       "          6.43750095e-06,  7.74999857e-06,  7.56250048e-06],\n",
       "        [-1.83333349e-06,  4.68750191e-06,  9.79164124e-07, ...,\n",
       "          4.37500954e-07, -2.25000095e-06, -1.04375010e-05]],\n",
       "\n",
       "       ...,\n",
       "\n",
       "       [[ 1.64583302e-06,  1.24999964e-06,  1.77083337e-06, ...,\n",
       "          4.00000000e-06,  5.62500000e-06,  6.14583206e-06],\n",
       "        [ 3.64583254e-06,  2.25000072e-06,  7.70833075e-07, ...,\n",
       "          1.99999988e-06,  2.62500000e-06,  4.14583302e-06],\n",
       "        [ 6.45834267e-07,  1.24999964e-06,  1.77083337e-06, ...,\n",
       "         -4.00000095e-06, -2.37500072e-06,  1.14583325e-06],\n",
       "        ...,\n",
       "        [-3.54167014e-07, -7.50000119e-07,  7.70833671e-07, ...,\n",
       "          2.38418579e-13,  2.62500000e-06,  2.14583373e-06],\n",
       "        [ 5.64583349e-06,  2.25000000e-06,  7.70833731e-07, ...,\n",
       "         -9.99999881e-07,  6.24999940e-07,  4.14583349e-06],\n",
       "        [ 9.64583397e-06,  7.24999952e-06,  5.77083397e-06, ...,\n",
       "          1.00000000e-05,  1.36250010e-05,  1.21458340e-05]],\n",
       "\n",
       "       [[-1.74583359e-05, -2.03541718e-05, -1.93124981e-05, ...,\n",
       "         -8.41666698e-06, -1.21041660e-05, -1.52291679e-05],\n",
       "        [-8.45833302e-06, -9.35416603e-06, -1.03125010e-05, ...,\n",
       "         -6.41666651e-06, -8.10416698e-06, -1.02291670e-05],\n",
       "        [-1.45833290e-06, -3.35416746e-06, -3.31250072e-06, ...,\n",
       "         -4.41666698e-06, -6.10416698e-06, -9.22916698e-06],\n",
       "        ...,\n",
       "        [ 5.54166651e-06,  2.64583278e-06,  6.87499881e-07, ...,\n",
       "         -2.41666651e-06, -6.10416698e-06, -4.22916651e-06],\n",
       "        [ 5.54166651e-06,  3.64583278e-06,  3.68749976e-06, ...,\n",
       "          1.58333361e-06, -4.10416698e-06, -6.22916651e-06],\n",
       "        [ 5.41666269e-07, -1.03541670e-05, -8.31250000e-06, ...,\n",
       "          1.35833340e-05,  1.18958330e-05,  6.77083349e-06]],\n",
       "\n",
       "       [[-1.66875038e-05, -1.79166698e-05, -1.31249981e-05, ...,\n",
       "         -9.10416698e-06, -1.58750010e-05, -2.17083378e-05],\n",
       "        [-1.16874981e-05, -1.09166660e-05, -6.12500000e-06, ...,\n",
       "         -4.10416651e-06, -6.87500000e-06, -1.17083321e-05],\n",
       "        [-6.68750095e-06, -6.91666698e-06, -5.12500095e-06, ...,\n",
       "         -6.10416794e-06, -9.87500191e-06, -1.57083330e-05],\n",
       "        ...,\n",
       "        [-5.68750000e-06, -5.91666651e-06, -5.12500048e-06, ...,\n",
       "         -6.10416603e-06, -9.87500000e-06, -1.17083349e-05],\n",
       "        [ 3.12500238e-07,  1.08333349e-06, -1.12500024e-06, ...,\n",
       "         -5.10416555e-06, -6.87500000e-06, -6.70833492e-06],\n",
       "        [-2.68749976e-06, -5.91666698e-06, -1.25000238e-07, ...,\n",
       "          7.89583397e-06, -6.87500000e-06, -1.37083359e-05]]])],\n",
       "      dtype=object)"
      ]
     },
     "execution_count": 50,
     "metadata": {},
     "output_type": "execute_result"
    }
   ],
   "source": [
    "pp_rh_raw"
   ]
  },
  {
   "cell_type": "code",
   "execution_count": null,
   "metadata": {},
   "outputs": [],
   "source": []
  },
  {
   "cell_type": "code",
   "execution_count": 51,
   "metadata": {},
   "outputs": [
    {
     "data": {
      "text/plain": [
       "(48, 1280)"
      ]
     },
     "execution_count": 51,
     "metadata": {},
     "output_type": "execute_result"
    }
   ],
   "source": [
    "pp_rh_raw[4][3].shape"
   ]
  },
  {
   "cell_type": "code",
   "execution_count": null,
   "metadata": {},
   "outputs": [],
   "source": []
  },
  {
   "cell_type": "markdown",
   "metadata": {},
   "source": [
    "Get HFD over the set time window"
   ]
  },
  {
   "cell_type": "code",
   "execution_count": 52,
   "metadata": {},
   "outputs": [],
   "source": [
    "window_start_sec = 3\n",
    "window_size = 2\n",
    "freq = 250\n",
    "\n",
    "k = 7"
   ]
  },
  {
   "cell_type": "code",
   "execution_count": 38,
   "metadata": {},
   "outputs": [
    {
     "name": "stdout",
     "output_type": "stream",
     "text": [
      "Calculating HFD with window start 750 window size 500 step 1\n",
      "Calculating HFD with window start 750 window size 500 step 1\n",
      "Calculating HFD with window start 750 window size 500 step 1\n",
      "Calculating HFD with window start 750 window size 500 step 1\n",
      "Calculating HFD with window start 750 window size 500 step 1\n",
      "Calculating HFD with window start 750 window size 500 step 1\n",
      "Calculating HFD with window start 750 window size 500 step 1\n",
      "Calculating HFD with window start 750 window size 500 step 1\n",
      "Calculating HFD with window start 750 window size 500 step 1\n",
      "Calculating HFD with window start 750 window size 500 step 1\n",
      "Calculating HFD with window start 750 window size 500 step 1\n",
      "Calculating HFD with window start 750 window size 500 step 1\n"
     ]
    }
   ],
   "source": [
    "pp_rh = np.array([patient_array_to_hfd(patient, window_start=int(window_start_sec*freq), window_size=window_size*freq, k=k) for patient in pp_rh_raw])\n",
    "pnp_rh = np.array([patient_array_to_hfd(patient, window_start=int(window_start_sec*freq), window_size=window_size*freq, k=k) for patient in pnp_rh_raw])"
   ]
  },
  {
   "cell_type": "markdown",
   "metadata": {},
   "source": [
    "OR get HFD for all limbs"
   ]
  },
  {
   "cell_type": "code",
   "execution_count": 13,
   "metadata": {},
   "outputs": [
    {
     "name": "stdout",
     "output_type": "stream",
     "text": [
      "Calculating HFD with window start 750 window size 500 step 1\n",
      "Calculating HFD with window start 750 window size 500 step 1\n",
      "Calculating HFD with window start 750 window size 500 step 1\n",
      "Calculating HFD with window start 750 window size 500 step 1\n",
      "Calculating HFD with window start 750 window size 500 step 1\n",
      "Calculating HFD with window start 750 window size 500 step 1\n",
      "Calculating HFD with window start 750 window size 500 step 1\n",
      "Calculating HFD with window start 750 window size 500 step 1\n",
      "Calculating HFD with window start 750 window size 500 step 1\n",
      "Calculating HFD with window start 750 window size 500 step 1\n",
      "Calculating HFD with window start 750 window size 500 step 1\n",
      "Calculating HFD with window start 750 window size 500 step 1\n",
      "Calculating HFD with window start 750 window size 500 step 1\n",
      "Calculating HFD with window start 750 window size 500 step 1\n",
      "Calculating HFD with window start 750 window size 500 step 1\n",
      "Calculating HFD with window start 750 window size 500 step 1\n",
      "Calculating HFD with window start 750 window size 500 step 1\n",
      "Calculating HFD with window start 750 window size 500 step 1\n",
      "Calculating HFD with window start 750 window size 500 step 1\n",
      "Calculating HFD with window start 750 window size 500 step 1\n",
      "Calculating HFD with window start 750 window size 500 step 1\n",
      "Calculating HFD with window start 750 window size 500 step 1\n",
      "Calculating HFD with window start 750 window size 500 step 1\n",
      "Calculating HFD with window start 750 window size 500 step 1\n",
      "Calculating HFD with window start 750 window size 500 step 1\n",
      "Calculating HFD with window start 750 window size 500 step 1\n",
      "Calculating HFD with window start 750 window size 500 step 1\n",
      "Calculating HFD with window start 750 window size 500 step 1\n",
      "Calculating HFD with window start 750 window size 500 step 1\n",
      "Calculating HFD with window start 750 window size 500 step 1\n",
      "Calculating HFD with window start 750 window size 500 step 1\n",
      "Calculating HFD with window start 750 window size 500 step 1\n",
      "Calculating HFD with window start 750 window size 500 step 1\n",
      "Calculating HFD with window start 750 window size 500 step 1\n",
      "Calculating HFD with window start 750 window size 500 step 1\n",
      "Calculating HFD with window start 750 window size 500 step 1\n",
      "Calculating HFD with window start 750 window size 500 step 1\n",
      "Calculating HFD with window start 750 window size 500 step 1\n",
      "Calculating HFD with window start 750 window size 500 step 1\n",
      "Calculating HFD with window start 750 window size 500 step 1\n",
      "Calculating HFD with window start 750 window size 500 step 1\n",
      "Calculating HFD with window start 750 window size 500 step 1\n",
      "Calculating HFD with window start 750 window size 500 step 1\n",
      "Calculating HFD with window start 750 window size 500 step 1\n",
      "Calculating HFD with window start 750 window size 500 step 1\n",
      "Calculating HFD with window start 750 window size 500 step 1\n",
      "Calculating HFD with window start 750 window size 500 step 1\n",
      "Calculating HFD with window start 750 window size 500 step 1\n",
      "Calculating HFD with window start 750 window size 500 step 1\n",
      "Calculating HFD with window start 750 window size 500 step 1\n",
      "Calculating HFD with window start 750 window size 500 step 1\n",
      "Calculating HFD with window start 750 window size 500 step 1\n",
      "Calculating HFD with window start 750 window size 500 step 1\n",
      "Calculating HFD with window start 750 window size 500 step 1\n",
      "Calculating HFD with window start 750 window size 500 step 1\n",
      "Calculating HFD with window start 750 window size 500 step 1\n",
      "Calculating HFD with window start 750 window size 500 step 1\n"
     ]
    }
   ],
   "source": [
    "pp_rh = np.array([patient_array_to_hfd(patient, window_start=int(window_start_sec*freq), window_size=window_size*freq, k=k) for patient in pp_all_limbs])\n",
    "pnp_rh = np.array([patient_array_to_hfd(patient, window_start=int(window_start_sec*freq), window_size=window_size*freq, k=k) for patient in pnp_all_limbs])\n",
    "#hv_rh = np.array([patient_array_to_hfd(patient, window_start=int(window_start_sec*freq), window_size=window_size*freq, k=k) for patient in hv_rh_limbs])"
   ]
  },
  {
   "cell_type": "markdown",
   "metadata": {},
   "source": [
    "Alternatively, get HFD over all windows of the specified size"
   ]
  },
  {
   "cell_type": "code",
   "execution_count": 71,
   "metadata": {},
   "outputs": [
    {
     "name": "stdout",
     "output_type": "stream",
     "text": [
      "Calculating HFD with window start 0 window size 500 step 1\n",
      "Calculating HFD with window start 0 window size 500 step 1\n",
      "Calculating HFD with window start 0 window size 500 step 1\n",
      "Calculating HFD with window start 0 window size 500 step 1\n",
      "Calculating HFD with window start 0 window size 500 step 1\n",
      "Calculating HFD with window start 0 window size 500 step 1\n",
      "Calculating HFD with window start 0 window size 500 step 1\n",
      "Calculating HFD with window start 250 window size 500 step 1\n",
      "Calculating HFD with window start 250 window size 500 step 1\n",
      "Calculating HFD with window start 250 window size 500 step 1\n",
      "Calculating HFD with window start 250 window size 500 step 1\n",
      "Calculating HFD with window start 250 window size 500 step 1\n",
      "Calculating HFD with window start 250 window size 500 step 1\n",
      "Calculating HFD with window start 250 window size 500 step 1\n",
      "Calculating HFD with window start 500 window size 500 step 1\n",
      "Calculating HFD with window start 500 window size 500 step 1\n",
      "Calculating HFD with window start 500 window size 500 step 1\n",
      "Calculating HFD with window start 500 window size 500 step 1\n",
      "Calculating HFD with window start 500 window size 500 step 1\n",
      "Calculating HFD with window start 500 window size 500 step 1\n",
      "Calculating HFD with window start 500 window size 500 step 1\n",
      "Calculating HFD with window start 750 window size 500 step 1\n",
      "Calculating HFD with window start 750 window size 500 step 1\n",
      "Calculating HFD with window start 750 window size 500 step 1\n",
      "Calculating HFD with window start 750 window size 500 step 1\n",
      "Calculating HFD with window start 750 window size 500 step 1\n",
      "Calculating HFD with window start 750 window size 500 step 1\n",
      "Calculating HFD with window start 750 window size 500 step 1\n",
      "Calculating HFD with window start 0 window size 500 step 1\n",
      "Calculating HFD with window start 0 window size 500 step 1\n",
      "Calculating HFD with window start 0 window size 500 step 1\n",
      "Calculating HFD with window start 0 window size 500 step 1\n",
      "Calculating HFD with window start 0 window size 500 step 1\n",
      "Calculating HFD with window start 0 window size 500 step 1\n",
      "Calculating HFD with window start 0 window size 500 step 1\n",
      "Calculating HFD with window start 250 window size 500 step 1\n",
      "Calculating HFD with window start 250 window size 500 step 1\n",
      "Calculating HFD with window start 250 window size 500 step 1\n",
      "Calculating HFD with window start 250 window size 500 step 1\n",
      "Calculating HFD with window start 250 window size 500 step 1\n",
      "Calculating HFD with window start 250 window size 500 step 1\n",
      "Calculating HFD with window start 250 window size 500 step 1\n",
      "Calculating HFD with window start 500 window size 500 step 1\n",
      "Calculating HFD with window start 500 window size 500 step 1\n",
      "Calculating HFD with window start 500 window size 500 step 1\n",
      "Calculating HFD with window start 500 window size 500 step 1\n",
      "Calculating HFD with window start 500 window size 500 step 1\n",
      "Calculating HFD with window start 500 window size 500 step 1\n",
      "Calculating HFD with window start 500 window size 500 step 1\n",
      "Calculating HFD with window start 750 window size 500 step 1\n",
      "Calculating HFD with window start 750 window size 500 step 1\n",
      "Calculating HFD with window start 750 window size 500 step 1\n",
      "Calculating HFD with window start 750 window size 500 step 1\n",
      "Calculating HFD with window start 750 window size 500 step 1\n",
      "Calculating HFD with window start 750 window size 500 step 1\n",
      "Calculating HFD with window start 750 window size 500 step 1\n"
     ]
    }
   ],
   "source": [
    "pp_all_windows = [[patient_array_to_hfd(patient, window_start=window*freq, window_size=window_size*freq, k=k) for patient in pp_rh_raw] for window in range(0,4)]\n",
    "pnp_all_windows = [[patient_array_to_hfd(patient, window_start=window*freq, window_size=window_size*freq, k=k) for patient in pnp_rh_raw] for window in range(0,4)]\n",
    "hv_all_windows = [[patient_array_to_hfd(patient, window_start=window*freq, window_size=window_size*freq, k=k) for patient in hv_rh_raw] for window in range(0,4)]"
   ]
  },
  {
   "cell_type": "code",
   "execution_count": 72,
   "metadata": {},
   "outputs": [],
   "source": [
    "np_all = np.array(pp_all_windows)"
   ]
  },
  {
   "cell_type": "code",
   "execution_count": 73,
   "metadata": {},
   "outputs": [
    {
     "data": {
      "text/plain": [
       "413"
      ]
     },
     "execution_count": 73,
     "metadata": {},
     "output_type": "execute_result"
    }
   ],
   "source": [
    "np.sum([s.shape[0] for s in np_all[0]])"
   ]
  },
  {
   "cell_type": "code",
   "execution_count": 74,
   "metadata": {},
   "outputs": [
    {
     "ename": "NameError",
     "evalue": "name 'pnp_rh' is not defined",
     "output_type": "error",
     "traceback": [
      "\u001b[1;31m---------------------------------------------------------------------------\u001b[0m",
      "\u001b[1;31mNameError\u001b[0m                                 Traceback (most recent call last)",
      "\u001b[1;32m<ipython-input-74-5a2bdda77d68>\u001b[0m in \u001b[0;36m<module>\u001b[1;34m\u001b[0m\n\u001b[1;32m----> 1\u001b[1;33m \u001b[0mpnp_rh\u001b[0m\u001b[1;33m.\u001b[0m\u001b[0mshape\u001b[0m\u001b[1;33m\u001b[0m\u001b[1;33m\u001b[0m\u001b[0m\n\u001b[0m",
      "\u001b[1;31mNameError\u001b[0m: name 'pnp_rh' is not defined"
     ]
    }
   ],
   "source": [
    "pnp_rh.shape"
   ]
  },
  {
   "cell_type": "code",
   "execution_count": null,
   "metadata": {},
   "outputs": [],
   "source": []
  },
  {
   "cell_type": "code",
   "execution_count": 75,
   "metadata": {},
   "outputs": [
    {
     "data": {
      "text/plain": [
       "(4, 7)"
      ]
     },
     "execution_count": 75,
     "metadata": {},
     "output_type": "execute_result"
    }
   ],
   "source": [
    "# Over individual patients\n",
    "pp_all_windows_patients_repetitions = np.array([[np.array([[ channel[0] for channel in repetition ] for repetition in patient ]) for patient in window ] for window in np.array(pp_all_windows) ])\n",
    "pnp_all_windows_patients_repetitions = np.array([[np.array([[ channel[0] for channel in repetition ] for repetition in patient ]) for patient in window ] for window in np.array(pnp_all_windows) ])\n",
    "hv_all_windows_patients_repetitions = np.array([[np.array([[ channel[0] for channel in repetition ] for repetition in patient ]) for patient in window ] for window in np.array(hv_all_windows) ])\n",
    "\n",
    "pnp_all_windows_patients_repetitions.shape"
   ]
  },
  {
   "cell_type": "code",
   "execution_count": 76,
   "metadata": {},
   "outputs": [
    {
     "data": {
      "text/plain": [
       "(4, 379, 48)"
      ]
     },
     "execution_count": 76,
     "metadata": {},
     "output_type": "execute_result"
    }
   ],
   "source": [
    "# All repetitions concatenated\n",
    "pp_all_windows_repetitions = np.array([np.vstack([np.array([[ channel[0] for channel in repetition ] for repetition in patient ]) for patient in window ]) for window in np.array(pp_all_windows) ])\n",
    "pnp_all_windows_repetitions = np.array([np.vstack([np.array([[ channel[0] for channel in repetition ] for repetition in patient ]) for patient in window ]) for window in np.array(pnp_all_windows) ])\n",
    "#hv_all_windows_repetitions = np.array([np.vstack([np.array([[ channel[0] for channel in repetition ] for repetition in patient ]) for patient in window ]) for window in np.array(hv_all_windows) ])\n",
    "\n",
    "pnp_all_windows_repetitions.shape"
   ]
  },
  {
   "cell_type": "code",
   "execution_count": null,
   "metadata": {},
   "outputs": [],
   "source": []
  },
  {
   "cell_type": "code",
   "execution_count": 77,
   "metadata": {},
   "outputs": [
    {
     "data": {
      "text/plain": [
       "(48, 4)"
      ]
     },
     "execution_count": 77,
     "metadata": {},
     "output_type": "execute_result"
    }
   ],
   "source": [
    "pp_mean_all_windows = np.mean(pp_all_windows_repetitions, axis=1).transpose()\n",
    "pnp_mean_all_windows = np.mean(pnp_all_windows_repetitions, axis=1).transpose()\n",
    "#hv_mean_all_windows = np.mean(hv_all_windows_repetitions, axis=1).transpose()\n",
    "\n",
    "pnp_mean_all_windows.shape"
   ]
  },
  {
   "cell_type": "code",
   "execution_count": null,
   "metadata": {},
   "outputs": [],
   "source": []
  },
  {
   "cell_type": "code",
   "execution_count": 78,
   "metadata": {},
   "outputs": [],
   "source": [
    "diff_pp_pnp_all_windows = pp_mean_all_windows - pnp_mean_all_windows\n",
    "diff_pp_pnp_all_windows = diff_pp_pnp_all_windows - diff_pp_pnp_all_windows.mean()\n",
    "\n",
    "#diff_hv_pnp_all_windows = hv_mean_all_windows - pnp_mean_all_windows\n",
    "#diff_hv_pnp_all_windows = diff_hv_pnp_all_windows - diff_hv_pnp_all_windows.mean()\n",
    "\n",
    "#diff_hv_pp_all_windows = hv_mean_all_windows - pp_mean_all_windows\n",
    "#diff_hv_pp_all_windows = diff_hv_pp_all_windows - diff_hv_pp_all_windows.mean()"
   ]
  },
  {
   "cell_type": "code",
   "execution_count": null,
   "metadata": {},
   "outputs": [],
   "source": []
  },
  {
   "cell_type": "code",
   "execution_count": 75,
   "metadata": {},
   "outputs": [],
   "source": [
    "scipy.io.savemat('./results/arrays/hfd_2s_window_means_l.mat', {'pp': pp_mean_all_windows, 'pnp': pnp_mean_all_windows, 'hv': hv_mean_all_windows,\n",
    "                                                                'diff_pp_pnp': diff_pp_pnp_all_windows, 'diff_hv_pnp': diff_hv_pnp_all_windows,\n",
    "                                                                'diff_hv_pp': diff_hv_pp_all_windows})"
   ]
  },
  {
   "cell_type": "code",
   "execution_count": 34,
   "metadata": {},
   "outputs": [],
   "source": [
    "scipy.io.savemat('./results/arrays/hfd_2s_window_individuals_lh.mat', {'pp': pp_all_windows_patients_repetitions, 'pnp': pnp_all_windows_patients_repetitions, 'hv': hv_all_windows_patients_repetitions,})"
   ]
  },
  {
   "cell_type": "code",
   "execution_count": 55,
   "metadata": {},
   "outputs": [],
   "source": [
    "scipy.io.savemat('./results/arrays/hfd_2s_window_repetitions_l.mat', {'pp': pp_all_windows_repetitions, 'pnp': pnp_all_windows_repetitions, 'hv': hv_all_windows_repetitions,})"
   ]
  },
  {
   "cell_type": "code",
   "execution_count": 86,
   "metadata": {},
   "outputs": [],
   "source": [
    "scipy.io.savemat('./results/arrays/pdp_hfd_2s_window_means_l.mat', {'pdp': pp_mean_all_windows, 'pnp': pnp_mean_all_windows,\n",
    "                                                                'diff_pp_pnp': diff_pp_pnp_all_windows})"
   ]
  },
  {
   "cell_type": "code",
   "execution_count": 87,
   "metadata": {},
   "outputs": [],
   "source": [
    "scipy.io.savemat('./results/arrays/pdp_hfd_2s_window_individuals_l.mat', {'pdp': pp_all_windows_patients_repetitions, 'pnp': pnp_all_windows_patients_repetitions})"
   ]
  },
  {
   "cell_type": "code",
   "execution_count": 88,
   "metadata": {},
   "outputs": [],
   "source": [
    "scipy.io.savemat('./results/arrays/pdp_hfd_2s_window_repetitions_l.mat', {'pdp': pp_all_windows_repetitions, 'pnp': pnp_all_windows_repetitions})"
   ]
  },
  {
   "cell_type": "code",
   "execution_count": null,
   "metadata": {},
   "outputs": [],
   "source": []
  },
  {
   "cell_type": "code",
   "execution_count": 100,
   "metadata": {},
   "outputs": [],
   "source": [
    "testtt = scipy.io.loadmat('./results/arrays/pdp_hfd_2s_window_repetitions_l.mat')"
   ]
  },
  {
   "cell_type": "code",
   "execution_count": 101,
   "metadata": {},
   "outputs": [
    {
     "data": {
      "text/plain": [
       "(4, 279, 48)"
      ]
     },
     "execution_count": 101,
     "metadata": {},
     "output_type": "execute_result"
    }
   ],
   "source": [
    "testtt['pdp'].shape"
   ]
  },
  {
   "cell_type": "code",
   "execution_count": 79,
   "metadata": {},
   "outputs": [
    {
     "ename": "NameError",
     "evalue": "name 'testtt' is not defined",
     "output_type": "error",
     "traceback": [
      "\u001b[1;31m---------------------------------------------------------------------------\u001b[0m",
      "\u001b[1;31mNameError\u001b[0m                                 Traceback (most recent call last)",
      "\u001b[1;32m<ipython-input-79-ea206235d224>\u001b[0m in \u001b[0;36m<module>\u001b[1;34m\u001b[0m\n\u001b[1;32m----> 1\u001b[1;33m \u001b[1;33m(\u001b[0m\u001b[0mtesttt\u001b[0m\u001b[1;33m[\u001b[0m\u001b[1;34m'pdp'\u001b[0m\u001b[1;33m]\u001b[0m \u001b[1;33m-\u001b[0m \u001b[0mtesttt\u001b[0m\u001b[1;33m[\u001b[0m\u001b[1;34m'pnp'\u001b[0m\u001b[1;33m]\u001b[0m\u001b[1;33m)\u001b[0m \u001b[1;33m-\u001b[0m \u001b[1;33m(\u001b[0m\u001b[0mtesttt\u001b[0m\u001b[1;33m[\u001b[0m\u001b[1;34m'pdp'\u001b[0m\u001b[1;33m]\u001b[0m \u001b[1;33m-\u001b[0m \u001b[0mtesttt\u001b[0m\u001b[1;33m[\u001b[0m\u001b[1;34m'pnp'\u001b[0m\u001b[1;33m]\u001b[0m\u001b[1;33m)\u001b[0m\u001b[1;33m.\u001b[0m\u001b[0mmean\u001b[0m\u001b[1;33m(\u001b[0m\u001b[1;33m)\u001b[0m \u001b[1;33m-\u001b[0m \u001b[0mtesttt\u001b[0m\u001b[1;33m[\u001b[0m\u001b[1;34m'diff_pp_pnp'\u001b[0m\u001b[1;33m]\u001b[0m\u001b[1;33m\u001b[0m\u001b[1;33m\u001b[0m\u001b[0m\n\u001b[0m",
      "\u001b[1;31mNameError\u001b[0m: name 'testtt' is not defined"
     ]
    }
   ],
   "source": [
    "(testtt['pdp'] - testtt['pnp']) - (testtt['pdp'] - testtt['pnp']).mean() - testtt['diff_pp_pnp']"
   ]
  },
  {
   "cell_type": "code",
   "execution_count": null,
   "metadata": {},
   "outputs": [],
   "source": []
  },
  {
   "cell_type": "code",
   "execution_count": 80,
   "metadata": {},
   "outputs": [
    {
     "data": {
      "text/plain": [
       "(48, 4)"
      ]
     },
     "execution_count": 80,
     "metadata": {},
     "output_type": "execute_result"
    }
   ],
   "source": [
    "diff_all_windows = pp_mean_all_windows - pnp_mean_all_windows\n",
    "diff_all_windows = diff_all_windows - diff_all_windows.mean()\n",
    "diff_all_windows.shape"
   ]
  },
  {
   "cell_type": "code",
   "execution_count": 81,
   "metadata": {},
   "outputs": [
    {
     "data": {
      "text/plain": [
       "NormaltestResult(statistic=5.657728467842013, pvalue=0.0590799165435299)"
      ]
     },
     "execution_count": 81,
     "metadata": {},
     "output_type": "execute_result"
    }
   ],
   "source": [
    "scipy.stats.normaltest(diff_all_windows.flatten())"
   ]
  },
  {
   "cell_type": "code",
   "execution_count": 82,
   "metadata": {},
   "outputs": [],
   "source": [
    "max_hfd = np.max([np.max(pp_all_windows_repetitions), np.max(pnp_all_windows_repetitions)])\n",
    "min_hfd = np.min([np.min(pp_all_windows_repetitions), np.min(pnp_all_windows_repetitions)])"
   ]
  },
  {
   "cell_type": "code",
   "execution_count": 83,
   "metadata": {},
   "outputs": [
    {
     "data": {
      "text/plain": [
       "2.24362125100185"
      ]
     },
     "execution_count": 83,
     "metadata": {},
     "output_type": "execute_result"
    }
   ],
   "source": [
    "np.max(pp_all_windows_repetitions)"
   ]
  },
  {
   "cell_type": "code",
   "execution_count": 84,
   "metadata": {},
   "outputs": [
    {
     "data": {
      "text/plain": [
       "1.9421077468542236"
      ]
     },
     "execution_count": 84,
     "metadata": {},
     "output_type": "execute_result"
    }
   ],
   "source": [
    "np.mean(pp_all_windows_repetitions, axis=1).transpose()[14][1]"
   ]
  },
  {
   "cell_type": "code",
   "execution_count": 92,
   "metadata": {
    "scrolled": true
   },
   "outputs": [
    {
     "data": {
      "image/png": "[encoded data removed]",
      "text/plain": [
       "<Figure size 1080x1080 with 1 Axes>"
      ]
     },
     "metadata": {
      "needs_background": "light"
     },
     "output_type": "display_data"
    }
   ],
   "source": [
    "title = 'Normalized HFD values in ' + limb['name'] + ' within a 2s sliding window, PDP; k=7'\n",
    "graph_name = 'window_pdp_' + limb['name']\n",
    "\n",
    "plt.figure(figsize=[15,15])\n",
    "plt.title(title)\n",
    "plt.ylabel('Channel')\n",
    "plt.yticks(ticks=range(48), labels=ch_names_new)\n",
    "plt.xticks(range(4))\n",
    "plt.xlabel('Time window start (s)')\n",
    "plt.imshow(pp_mean_all_windows)\n",
    "plt.savefig('./results/graphs/' + limb['name'] + '/' + graph_name + '.eps')\n",
    "plt.savefig('./results/graphs/' + limb['name'] + '/' + graph_name + '.jpg')"
   ]
  },
  {
   "cell_type": "code",
   "execution_count": 93,
   "metadata": {},
   "outputs": [
    {
     "data": {
      "image/png": "[encoded data removed]",
      "text/plain": [
       "<Figure size 1080x1080 with 1 Axes>"
      ]
     },
     "metadata": {
      "needs_background": "light"
     },
     "output_type": "display_data"
    }
   ],
   "source": [
    "title = 'Normalized HFD values in ' + limb['name'] + ' within a 2s sliding window, PNP; k=7'\n",
    "graph_name = 'window_pnp_' + limb['name']\n",
    "\n",
    "plt.figure(figsize=[15,15])\n",
    "plt.title(title)\n",
    "plt.ylabel('Channel')\n",
    "plt.yticks(ticks=range(48), labels=ch_names_new)\n",
    "plt.xticks(range(4))\n",
    "plt.xlabel('Time window start (s)')\n",
    "plt.imshow(pnp_mean_all_windows)\n",
    "plt.savefig('./results/graphs/' + limb['name'] + '/' + graph_name + '.eps')\n",
    "plt.savefig('./results/graphs/' + limb['name'] + '/' + graph_name + '.jpg')"
   ]
  },
  {
   "cell_type": "code",
   "execution_count": 87,
   "metadata": {},
   "outputs": [
    {
     "data": {
      "text/plain": [
       "array([0.00536167, 0.0193721 , 0.024352  , 0.00410076])"
      ]
     },
     "execution_count": 87,
     "metadata": {},
     "output_type": "execute_result"
    }
   ],
   "source": [
    "diff_all_windows[ch_names.index('P1')]"
   ]
  },
  {
   "cell_type": "code",
   "execution_count": 88,
   "metadata": {},
   "outputs": [
    {
     "data": {
      "text/plain": [
       "-0.05009273922625132"
      ]
     },
     "execution_count": 88,
     "metadata": {},
     "output_type": "execute_result"
    }
   ],
   "source": [
    "diff_all_windows.min()"
   ]
  },
  {
   "cell_type": "code",
   "execution_count": 89,
   "metadata": {},
   "outputs": [
    {
     "data": {
      "text/plain": [
       "(38, 1)"
      ]
     },
     "execution_count": 89,
     "metadata": {},
     "output_type": "execute_result"
    }
   ],
   "source": [
    "asda = np.abs(diff_all_windows - np.zeros(diff_all_windows.shape))\n",
    "np.unravel_index(asda.argmin(), asda.shape)"
   ]
  },
  {
   "cell_type": "code",
   "execution_count": 90,
   "metadata": {},
   "outputs": [
    {
     "data": {
      "text/plain": [
       "'CP2'"
      ]
     },
     "execution_count": 90,
     "metadata": {},
     "output_type": "execute_result"
    }
   ],
   "source": [
    "ch_names[20]"
   ]
  },
  {
   "cell_type": "code",
   "execution_count": 91,
   "metadata": {},
   "outputs": [
    {
     "data": {
      "image/png": "[encoded data removed]",
      "text/plain": [
       "<Figure size 1080x1080 with 1 Axes>"
      ]
     },
     "metadata": {
      "needs_background": "light"
     },
     "output_type": "display_data"
    }
   ],
   "source": [
    "title = str('Normalized HFD difference in ' + limb['name'] + ' between PDP and PNP within a 2s sliding window; k=7\\n' +\n",
    "        'Red indicates PDP > PNP; Blue indicates PDP < PNP; white indicates similar values')\n",
    "graph_name = 'window_pdp_pnp_diff_' + limb['name']\n",
    "\n",
    "plt.figure(figsize=[15,15])\n",
    "plt.title(title)\n",
    "plt.ylabel('Channel')\n",
    "plt.yticks(ticks=range(48), labels=ch_names_new)\n",
    "plt.xticks(range(4))\n",
    "plt.xlabel('Time window start (s)')\n",
    "plt.imshow(diff_all_windows, cmap='bwr')\n",
    "\n",
    "plt.savefig('./results/graphs/' + limb['name'] + '/' + graph_name + '.eps')\n",
    "plt.savefig('./results/graphs/' + limb['name'] + '/' + graph_name + '.jpg')"
   ]
  },
  {
   "cell_type": "code",
   "execution_count": null,
   "metadata": {},
   "outputs": [],
   "source": []
  },
  {
   "cell_type": "code",
   "execution_count": null,
   "metadata": {},
   "outputs": [],
   "source": []
  },
  {
   "cell_type": "code",
   "execution_count": null,
   "metadata": {},
   "outputs": [],
   "source": [
    "pnp_rh[0].shape"
   ]
  },
  {
   "cell_type": "code",
   "execution_count": null,
   "metadata": {},
   "outputs": [],
   "source": [
    "pp_rh[3].shape"
   ]
  },
  {
   "cell_type": "code",
   "execution_count": null,
   "metadata": {},
   "outputs": [],
   "source": [
    "pp_and_pnp = np.concatenate((pp_rh, pnp_rh))\n",
    "pp_and_pnp.shape"
   ]
  },
  {
   "cell_type": "markdown",
   "metadata": {},
   "source": [
    "# It's time to learn"
   ]
  },
  {
   "cell_type": "code",
   "execution_count": 40,
   "metadata": {},
   "outputs": [],
   "source": [
    "log_proc_method = 'HFD'\n",
    "log_dataset = 'PP/PDP-' + limb['name']\n",
    "log_db_name = 'log.db'\n",
    "\n",
    "log_notes = {'window start': window_start_sec, 'window size': window_size, 'k': k}"
   ]
  },
  {
   "cell_type": "code",
   "execution_count": 41,
   "metadata": {},
   "outputs": [
    {
     "data": {
      "text/plain": [
       "'PP/PDP-RH'"
      ]
     },
     "execution_count": 41,
     "metadata": {},
     "output_type": "execute_result"
    }
   ],
   "source": [
    "log_dataset"
   ]
  },
  {
   "cell_type": "code",
   "execution_count": null,
   "metadata": {},
   "outputs": [],
   "source": [
    "nu = 0.652008\n",
    "channels = [12, 16]\n",
    "\n",
    "acc, sensitivity, specificity, avg_acc = classify_nusvm_cross_valid(pp_rh, pnp_rh, nu, channels, ch_names,\n",
    "                                                                    log_db_name=log_db_name,\n",
    "                                                                    log_txt=True,\n",
    "                                                                    log_proc_method=log_proc_method,\n",
    "                                                                    log_dataset=log_dataset,\n",
    "                                                                    log_notes=log_notes,\n",
    "                                                                    log_details=False\n",
    "                                                                   )\n",
    "print('Accuracy', acc)\n",
    "print('Sensitivity', sensitivity)\n",
    "print('Specificity', specificity)\n",
    "print('Average accuracy', avg_acc)"
   ]
  },
  {
   "cell_type": "code",
   "execution_count": null,
   "metadata": {},
   "outputs": [],
   "source": []
  },
  {
   "cell_type": "code",
   "execution_count": null,
   "metadata": {},
   "outputs": [],
   "source": [
    "previous_channels=[17, 17, 24]\n",
    "nu = 0.7\n",
    "\n",
    "max_acc = {'index': 0, 'value': 0}\n",
    "for channel in range(61):        \n",
    "    accuracy, sensitivity, specificity, avg_accuracy = classify_nusvm_cross_valid(pp_rh, pnp_rh, nu, \n",
    "                                                                                  previous_channels + [channel], \n",
    "                                                                                  verbose=False,\n",
    "                                                                                  log_db_name=log_db_name,\n",
    "                                                                                  log_txt=True,\n",
    "                                                                                  log_proc_method=log_proc_method,\n",
    "                                                                                  log_dataset=log_dataset,\n",
    "                                                                                  log_notes=log_notes\n",
    "                                                                                 )\n",
    "    print(channel, accuracy, sensitivity, specificity, avg_accuracy)\n",
    "        \n",
    "    if accuracy > max_acc['value']:\n",
    "        max_acc['index'] = channel\n",
    "        max_acc['value'] = accuracy\n",
    "\n",
    "print('Max accuracy:', max_acc['index'], max_acc['value'])"
   ]
  },
  {
   "cell_type": "code",
   "execution_count": null,
   "metadata": {},
   "outputs": [],
   "source": []
  },
  {
   "cell_type": "code",
   "execution_count": null,
   "metadata": {},
   "outputs": [],
   "source": [
    "channels = [17, 17, 24]\n",
    "\n",
    "max_acc = {'index': 0, 'value': 0}\n",
    "for param in np.arange(0.1, 0.8, 0.001):    \n",
    "    accuracy, sensitivity, specificity, avg_accuracy = classify_nusvm_cross_valid(pp_rh, pnp_rh, param,\n",
    "                                                                                  channels,\n",
    "                                                                                  verbose=False, \n",
    "                                                                                  log_db_name=log_db_name,\n",
    "                                                                                  log_txt=True,\n",
    "                                                                                  log_proc_method=log_proc_method,\n",
    "                                                                                  log_dataset=log_dataset,\n",
    "                                                                                  log_notes=log_notes\n",
    "                                                                                 ) \n",
    "                                                      \n",
    "\n",
    "    print(param, accuracy, sensitivity, specificity, avg_accuracy)\n",
    "        \n",
    "    if accuracy > max_acc['value']:\n",
    "        max_acc['index'] = param\n",
    "        max_acc['value'] = accuracy\n",
    "\n",
    "        \n",
    "print('Max accuracy:', max_acc['index'], max_acc['value'])"
   ]
  },
  {
   "cell_type": "code",
   "execution_count": null,
   "metadata": {},
   "outputs": [],
   "source": []
  },
  {
   "cell_type": "code",
   "execution_count": 42,
   "metadata": {},
   "outputs": [
    {
     "name": "stdout",
     "output_type": "stream",
     "text": [
      "nu: 0.1\n",
      "[6] 0.76\n",
      "[6] 0.76\n",
      "Max Accuracy: {'channels': [6], 'value': 0.7631578947368421, 'nu': 0.1}\n",
      "nu: 0.125\n",
      "[8] 0.77\n",
      "[8] 0.77\n",
      "Max Accuracy: {'channels': [8], 'value': 0.7690058479532164, 'nu': 0.125}\n",
      "nu: 0.15\n",
      "[44] 0.75\n",
      "[44, 39] 0.75\n",
      "[44, 39] 0.75\n",
      "Max Accuracy: {'channels': [8], 'value': 0.7690058479532164, 'nu': 0.125}\n",
      "nu: 0.175\n",
      "[32] 0.73\n",
      "[32, 12] 0.77\n",
      "[32, 12] 0.77\n",
      "Max Accuracy: {'channels': [32, 12], 'value': 0.7733918128654971, 'nu': 0.175}\n",
      "nu: 0.19999999999999998\n",
      "[19] 0.75\n",
      "[19, 31] 0.81\n",
      "[19, 31, 9] 0.81\n",
      "[19, 31, 9] 0.81\n",
      "Max Accuracy: {'channels': [19, 31, 9], 'value': 0.8084795321637427, 'nu': 0.19999999999999998}\n",
      "nu: 0.22499999999999998\n",
      "[29] 0.70\n",
      "[29, 12] 0.71\n",
      "[29, 12, 15] 0.76\n",
      "[29, 12, 15, 6] 0.82\n",
      "[29, 12, 15, 6] 0.82\n",
      "Max Accuracy: {'channels': [29, 12, 15, 6], 'value': 0.8245614035087719, 'nu': 0.22499999999999998}\n",
      "nu: 0.24999999999999997\n",
      "[10] 0.69\n",
      "[10] 0.69\n",
      "Max Accuracy: {'channels': [29, 12, 15, 6], 'value': 0.8245614035087719, 'nu': 0.22499999999999998}\n",
      "nu: 0.27499999999999997\n",
      "[12] 0.71\n",
      "[12] 0.71\n",
      "Max Accuracy: {'channels': [29, 12, 15, 6], 'value': 0.8245614035087719, 'nu': 0.22499999999999998}\n",
      "nu: 0.29999999999999993\n",
      "[42] 0.82\n",
      "[42] 0.82\n",
      "Max Accuracy: {'channels': [29, 12, 15, 6], 'value': 0.8245614035087719, 'nu': 0.22499999999999998}\n",
      "nu: 0.32499999999999996\n",
      "[42] 0.78\n",
      "[42] 0.78\n",
      "Max Accuracy: {'channels': [29, 12, 15, 6], 'value': 0.8245614035087719, 'nu': 0.22499999999999998}\n",
      "nu: 0.35\n",
      "[17] 0.76\n",
      "[17, 20] 0.79\n",
      "[17, 20, 13] 0.79\n",
      "[17, 20, 13] 0.79\n",
      "Max Accuracy: {'channels': [29, 12, 15, 6], 'value': 0.8245614035087719, 'nu': 0.22499999999999998}\n",
      "nu: 0.3749999999999999\n",
      "[8] 0.85\n",
      "[8] 0.85\n",
      "Max Accuracy: {'channels': [8], 'value': 0.8523391812865497, 'nu': 0.3749999999999999}\n",
      "nu: 0.3999999999999999\n",
      "[42] 0.73\n",
      "[42] 0.73\n",
      "Max Accuracy: {'channels': [8], 'value': 0.8523391812865497, 'nu': 0.3749999999999999}\n",
      "nu: 0.42499999999999993\n",
      "[12] 0.84\n",
      "[12] 0.84\n",
      "Max Accuracy: {'channels': [8], 'value': 0.8523391812865497, 'nu': 0.3749999999999999}\n",
      "nu: 0.44999999999999996\n",
      "[43] 0.81\n",
      "[43] 0.81\n",
      "Max Accuracy: {'channels': [8], 'value': 0.8523391812865497, 'nu': 0.3749999999999999}\n",
      "nu: 0.47499999999999987\n",
      "[16] 0.72\n",
      "[16] 0.72\n",
      "Max Accuracy: {'channels': [8], 'value': 0.8523391812865497, 'nu': 0.3749999999999999}\n",
      "nu: 0.4999999999999999\n",
      "[20] 0.79\n",
      "[20] 0.79\n",
      "Max Accuracy: {'channels': [8], 'value': 0.8523391812865497, 'nu': 0.3749999999999999}\n",
      "nu: 0.5249999999999999\n",
      "[44] 0.70\n",
      "[44, 12] 0.73\n",
      "[44, 12] 0.73\n",
      "Max Accuracy: {'channels': [8], 'value': 0.8523391812865497, 'nu': 0.3749999999999999}\n",
      "nu: 0.5499999999999999\n",
      "[1] 0.84\n",
      "[1] 0.84\n",
      "Max Accuracy: {'channels': [8], 'value': 0.8523391812865497, 'nu': 0.3749999999999999}\n",
      "nu: 0.5749999999999998\n",
      "[19] 0.80\n",
      "[19] 0.80\n",
      "Max Accuracy: {'channels': [8], 'value': 0.8523391812865497, 'nu': 0.3749999999999999}\n",
      "nu: 0.5999999999999999\n",
      "[12] 0.68\n",
      "[12] 0.68\n",
      "Max Accuracy: {'channels': [8], 'value': 0.8523391812865497, 'nu': 0.3749999999999999}\n",
      "nu: 0.6249999999999999\n",
      "[29] 0.75\n",
      "[29] 0.75\n",
      "Max Accuracy: {'channels': [8], 'value': 0.8523391812865497, 'nu': 0.3749999999999999}\n",
      "nu: 0.6499999999999998\n",
      "[34] 0.76\n",
      "[34] 0.76\n",
      "Max Accuracy: {'channels': [8], 'value': 0.8523391812865497, 'nu': 0.3749999999999999}\n",
      "nu: 0.6749999999999998\n",
      "Nu value 0.6749999999999998 is infeasible.\n",
      "Nu value 0.6749999999999998 is infeasible.\n",
      "Nu value 0.6749999999999998 is infeasible.\n",
      "Nu value 0.6749999999999998 is infeasible.\n",
      "Nu value 0.6749999999999998 is infeasible.\n",
      "Nu value 0.6749999999999998 is infeasible.\n",
      "Nu value 0.6749999999999998 is infeasible.\n",
      "Nu value 0.6749999999999998 is infeasible.\n",
      "Nu value 0.6749999999999998 is infeasible.\n",
      "Nu value 0.6749999999999998 is infeasible.\n",
      "Nu value 0.6749999999999998 is infeasible.\n",
      "Nu value 0.6749999999999998 is infeasible.\n",
      "Nu value 0.6749999999999998 is infeasible.\n",
      "Nu value 0.6749999999999998 is infeasible.\n",
      "Nu value 0.6749999999999998 is infeasible.\n",
      "Nu value 0.6749999999999998 is infeasible.\n",
      "Nu value 0.6749999999999998 is infeasible.\n",
      "Nu value 0.6749999999999998 is infeasible.\n",
      "Nu value 0.6749999999999998 is infeasible.\n",
      "Nu value 0.6749999999999998 is infeasible.\n",
      "Nu value 0.6749999999999998 is infeasible.\n",
      "Nu value 0.6749999999999998 is infeasible.\n",
      "Nu value 0.6749999999999998 is infeasible.\n",
      "Nu value 0.6749999999999998 is infeasible.\n",
      "Nu value 0.6749999999999998 is infeasible.\n",
      "Nu value 0.6749999999999998 is infeasible.\n",
      "Nu value 0.6749999999999998 is infeasible.\n",
      "Nu value 0.6749999999999998 is infeasible.\n",
      "Nu value 0.6749999999999998 is infeasible.\n",
      "Nu value 0.6749999999999998 is infeasible.\n",
      "Nu value 0.6749999999999998 is infeasible.\n",
      "Nu value 0.6749999999999998 is infeasible.\n",
      "Nu value 0.6749999999999998 is infeasible.\n",
      "Nu value 0.6749999999999998 is infeasible.\n",
      "Nu value 0.6749999999999998 is infeasible.\n",
      "Nu value 0.6749999999999998 is infeasible.\n",
      "Nu value 0.6749999999999998 is infeasible.\n",
      "Nu value 0.6749999999999998 is infeasible.\n",
      "Nu value 0.6749999999999998 is infeasible.\n",
      "Nu value 0.6749999999999998 is infeasible.\n",
      "Nu value 0.6749999999999998 is infeasible.\n",
      "Nu value 0.6749999999999998 is infeasible.\n",
      "Nu value 0.6749999999999998 is infeasible.\n",
      "Nu value 0.6749999999999998 is infeasible.\n",
      "Nu value 0.6749999999999998 is infeasible.\n",
      "Nu value 0.6749999999999998 is infeasible.\n",
      "Nu value 0.6749999999999998 is infeasible.\n",
      "Nu value 0.6749999999999998 is infeasible.\n",
      "[0] 0.00\n",
      "Max Accuracy: {'channels': [8], 'value': 0.8523391812865497, 'nu': 0.3749999999999999}\n",
      "nu: 0.6999999999999998\n",
      "Nu value 0.6999999999999998 is infeasible.\n",
      "Nu value 0.6999999999999998 is infeasible.\n",
      "Nu value 0.6999999999999998 is infeasible.\n",
      "Nu value 0.6999999999999998 is infeasible.\n",
      "Nu value 0.6999999999999998 is infeasible.\n",
      "Nu value 0.6999999999999998 is infeasible.\n",
      "Nu value 0.6999999999999998 is infeasible.\n",
      "Nu value 0.6999999999999998 is infeasible.\n",
      "Nu value 0.6999999999999998 is infeasible.\n",
      "Nu value 0.6999999999999998 is infeasible.\n",
      "Nu value 0.6999999999999998 is infeasible.\n",
      "Nu value 0.6999999999999998 is infeasible.\n",
      "Nu value 0.6999999999999998 is infeasible.\n",
      "Nu value 0.6999999999999998 is infeasible.\n",
      "Nu value 0.6999999999999998 is infeasible.\n",
      "Nu value 0.6999999999999998 is infeasible.\n",
      "Nu value 0.6999999999999998 is infeasible.\n",
      "Nu value 0.6999999999999998 is infeasible.\n",
      "Nu value 0.6999999999999998 is infeasible.\n",
      "Nu value 0.6999999999999998 is infeasible.\n",
      "Nu value 0.6999999999999998 is infeasible.\n",
      "Nu value 0.6999999999999998 is infeasible.\n",
      "Nu value 0.6999999999999998 is infeasible.\n",
      "Nu value 0.6999999999999998 is infeasible.\n",
      "Nu value 0.6999999999999998 is infeasible.\n",
      "Nu value 0.6999999999999998 is infeasible.\n",
      "Nu value 0.6999999999999998 is infeasible.\n",
      "Nu value 0.6999999999999998 is infeasible.\n",
      "Nu value 0.6999999999999998 is infeasible.\n",
      "Nu value 0.6999999999999998 is infeasible.\n",
      "Nu value 0.6999999999999998 is infeasible.\n",
      "Nu value 0.6999999999999998 is infeasible.\n",
      "Nu value 0.6999999999999998 is infeasible.\n",
      "Nu value 0.6999999999999998 is infeasible.\n",
      "Nu value 0.6999999999999998 is infeasible.\n",
      "Nu value 0.6999999999999998 is infeasible.\n",
      "Nu value 0.6999999999999998 is infeasible.\n",
      "Nu value 0.6999999999999998 is infeasible.\n",
      "Nu value 0.6999999999999998 is infeasible.\n",
      "Nu value 0.6999999999999998 is infeasible.\n",
      "Nu value 0.6999999999999998 is infeasible.\n",
      "Nu value 0.6999999999999998 is infeasible.\n",
      "Nu value 0.6999999999999998 is infeasible.\n",
      "Nu value 0.6999999999999998 is infeasible.\n",
      "Nu value 0.6999999999999998 is infeasible.\n",
      "Nu value 0.6999999999999998 is infeasible.\n",
      "Nu value 0.6999999999999998 is infeasible.\n",
      "Nu value 0.6999999999999998 is infeasible.\n",
      "[0] 0.00\n",
      "Max Accuracy: {'channels': [8], 'value': 0.8523391812865497, 'nu': 0.3749999999999999}\n",
      "nu: 0.7249999999999999\n",
      "Nu value 0.7249999999999999 is infeasible.\n",
      "Nu value 0.7249999999999999 is infeasible.\n",
      "Nu value 0.7249999999999999 is infeasible.\n",
      "Nu value 0.7249999999999999 is infeasible.\n",
      "Nu value 0.7249999999999999 is infeasible.\n",
      "Nu value 0.7249999999999999 is infeasible.\n",
      "Nu value 0.7249999999999999 is infeasible.\n",
      "Nu value 0.7249999999999999 is infeasible.\n",
      "Nu value 0.7249999999999999 is infeasible.\n",
      "Nu value 0.7249999999999999 is infeasible.\n",
      "Nu value 0.7249999999999999 is infeasible.\n",
      "Nu value 0.7249999999999999 is infeasible.\n",
      "Nu value 0.7249999999999999 is infeasible.\n",
      "Nu value 0.7249999999999999 is infeasible.\n",
      "Nu value 0.7249999999999999 is infeasible.\n",
      "Nu value 0.7249999999999999 is infeasible.\n",
      "Nu value 0.7249999999999999 is infeasible.\n",
      "Nu value 0.7249999999999999 is infeasible.\n",
      "Nu value 0.7249999999999999 is infeasible.\n",
      "Nu value 0.7249999999999999 is infeasible.\n",
      "Nu value 0.7249999999999999 is infeasible.\n",
      "Nu value 0.7249999999999999 is infeasible.\n",
      "Nu value 0.7249999999999999 is infeasible.\n",
      "Nu value 0.7249999999999999 is infeasible.\n",
      "Nu value 0.7249999999999999 is infeasible.\n",
      "Nu value 0.7249999999999999 is infeasible.\n",
      "Nu value 0.7249999999999999 is infeasible.\n",
      "Nu value 0.7249999999999999 is infeasible.\n",
      "Nu value 0.7249999999999999 is infeasible.\n",
      "Nu value 0.7249999999999999 is infeasible.\n",
      "Nu value 0.7249999999999999 is infeasible.\n",
      "Nu value 0.7249999999999999 is infeasible.\n",
      "Nu value 0.7249999999999999 is infeasible.\n",
      "Nu value 0.7249999999999999 is infeasible.\n",
      "Nu value 0.7249999999999999 is infeasible.\n",
      "Nu value 0.7249999999999999 is infeasible.\n",
      "Nu value 0.7249999999999999 is infeasible.\n",
      "Nu value 0.7249999999999999 is infeasible.\n",
      "Nu value 0.7249999999999999 is infeasible.\n",
      "Nu value 0.7249999999999999 is infeasible.\n",
      "Nu value 0.7249999999999999 is infeasible.\n",
      "Nu value 0.7249999999999999 is infeasible.\n",
      "Nu value 0.7249999999999999 is infeasible.\n",
      "Nu value 0.7249999999999999 is infeasible.\n",
      "Nu value 0.7249999999999999 is infeasible.\n",
      "Nu value 0.7249999999999999 is infeasible.\n",
      "Nu value 0.7249999999999999 is infeasible.\n",
      "Nu value 0.7249999999999999 is infeasible.\n",
      "[0] 0.00\n",
      "Max Accuracy: {'channels': [8], 'value': 0.8523391812865497, 'nu': 0.3749999999999999}\n",
      "nu: 0.7499999999999999\n",
      "Nu value 0.7499999999999999 is infeasible.\n",
      "Nu value 0.7499999999999999 is infeasible.\n",
      "Nu value 0.7499999999999999 is infeasible.\n",
      "Nu value 0.7499999999999999 is infeasible.\n",
      "Nu value 0.7499999999999999 is infeasible.\n",
      "Nu value 0.7499999999999999 is infeasible.\n",
      "Nu value 0.7499999999999999 is infeasible.\n",
      "Nu value 0.7499999999999999 is infeasible.\n",
      "Nu value 0.7499999999999999 is infeasible.\n",
      "Nu value 0.7499999999999999 is infeasible.\n",
      "Nu value 0.7499999999999999 is infeasible.\n",
      "Nu value 0.7499999999999999 is infeasible.\n",
      "Nu value 0.7499999999999999 is infeasible.\n",
      "Nu value 0.7499999999999999 is infeasible.\n",
      "Nu value 0.7499999999999999 is infeasible.\n",
      "Nu value 0.7499999999999999 is infeasible.\n",
      "Nu value 0.7499999999999999 is infeasible.\n",
      "Nu value 0.7499999999999999 is infeasible.\n",
      "Nu value 0.7499999999999999 is infeasible.\n",
      "Nu value 0.7499999999999999 is infeasible.\n",
      "Nu value 0.7499999999999999 is infeasible.\n",
      "Nu value 0.7499999999999999 is infeasible.\n",
      "Nu value 0.7499999999999999 is infeasible.\n",
      "Nu value 0.7499999999999999 is infeasible.\n",
      "Nu value 0.7499999999999999 is infeasible.\n",
      "Nu value 0.7499999999999999 is infeasible.\n",
      "Nu value 0.7499999999999999 is infeasible.\n",
      "Nu value 0.7499999999999999 is infeasible.\n",
      "Nu value 0.7499999999999999 is infeasible.\n",
      "Nu value 0.7499999999999999 is infeasible.\n",
      "Nu value 0.7499999999999999 is infeasible.\n",
      "Nu value 0.7499999999999999 is infeasible.\n",
      "Nu value 0.7499999999999999 is infeasible.\n",
      "Nu value 0.7499999999999999 is infeasible.\n",
      "Nu value 0.7499999999999999 is infeasible.\n",
      "Nu value 0.7499999999999999 is infeasible.\n",
      "Nu value 0.7499999999999999 is infeasible.\n",
      "Nu value 0.7499999999999999 is infeasible.\n",
      "Nu value 0.7499999999999999 is infeasible.\n",
      "Nu value 0.7499999999999999 is infeasible.\n",
      "Nu value 0.7499999999999999 is infeasible.\n",
      "Nu value 0.7499999999999999 is infeasible.\n",
      "Nu value 0.7499999999999999 is infeasible.\n",
      "Nu value 0.7499999999999999 is infeasible.\n",
      "Nu value 0.7499999999999999 is infeasible.\n",
      "Nu value 0.7499999999999999 is infeasible.\n",
      "Nu value 0.7499999999999999 is infeasible.\n",
      "Nu value 0.7499999999999999 is infeasible.\n",
      "[0] 0.00\n",
      "Max Accuracy: {'channels': [8], 'value': 0.8523391812865497, 'nu': 0.3749999999999999}\n",
      "nu: 0.7749999999999998\n",
      "Nu value 0.7749999999999998 is infeasible.\n",
      "Nu value 0.7749999999999998 is infeasible.\n",
      "Nu value 0.7749999999999998 is infeasible.\n",
      "Nu value 0.7749999999999998 is infeasible.\n",
      "Nu value 0.7749999999999998 is infeasible.\n",
      "Nu value 0.7749999999999998 is infeasible.\n",
      "Nu value 0.7749999999999998 is infeasible.\n",
      "Nu value 0.7749999999999998 is infeasible.\n",
      "Nu value 0.7749999999999998 is infeasible.\n",
      "Nu value 0.7749999999999998 is infeasible.\n",
      "Nu value 0.7749999999999998 is infeasible.\n",
      "Nu value 0.7749999999999998 is infeasible.\n",
      "Nu value 0.7749999999999998 is infeasible.\n",
      "Nu value 0.7749999999999998 is infeasible.\n",
      "Nu value 0.7749999999999998 is infeasible.\n",
      "Nu value 0.7749999999999998 is infeasible.\n",
      "Nu value 0.7749999999999998 is infeasible.\n",
      "Nu value 0.7749999999999998 is infeasible.\n",
      "Nu value 0.7749999999999998 is infeasible.\n",
      "Nu value 0.7749999999999998 is infeasible.\n",
      "Nu value 0.7749999999999998 is infeasible.\n",
      "Nu value 0.7749999999999998 is infeasible.\n",
      "Nu value 0.7749999999999998 is infeasible.\n",
      "Nu value 0.7749999999999998 is infeasible.\n",
      "Nu value 0.7749999999999998 is infeasible.\n",
      "Nu value 0.7749999999999998 is infeasible.\n",
      "Nu value 0.7749999999999998 is infeasible.\n",
      "Nu value 0.7749999999999998 is infeasible.\n",
      "Nu value 0.7749999999999998 is infeasible.\n",
      "Nu value 0.7749999999999998 is infeasible.\n",
      "Nu value 0.7749999999999998 is infeasible.\n",
      "Nu value 0.7749999999999998 is infeasible.\n",
      "Nu value 0.7749999999999998 is infeasible.\n",
      "Nu value 0.7749999999999998 is infeasible.\n",
      "Nu value 0.7749999999999998 is infeasible.\n",
      "Nu value 0.7749999999999998 is infeasible.\n",
      "Nu value 0.7749999999999998 is infeasible.\n",
      "Nu value 0.7749999999999998 is infeasible.\n",
      "Nu value 0.7749999999999998 is infeasible.\n",
      "Nu value 0.7749999999999998 is infeasible.\n",
      "Nu value 0.7749999999999998 is infeasible.\n",
      "Nu value 0.7749999999999998 is infeasible.\n",
      "Nu value 0.7749999999999998 is infeasible.\n",
      "Nu value 0.7749999999999998 is infeasible.\n",
      "Nu value 0.7749999999999998 is infeasible.\n",
      "Nu value 0.7749999999999998 is infeasible.\n",
      "Nu value 0.7749999999999998 is infeasible.\n",
      "Nu value 0.7749999999999998 is infeasible.\n",
      "[0] 0.00\n",
      "Max Accuracy: {'channels': [8], 'value': 0.8523391812865497, 'nu': 0.3749999999999999}\n",
      "nu: 0.7999999999999998\n",
      "Nu value 0.7999999999999998 is infeasible.\n",
      "Nu value 0.7999999999999998 is infeasible.\n",
      "Nu value 0.7999999999999998 is infeasible.\n",
      "Nu value 0.7999999999999998 is infeasible.\n",
      "Nu value 0.7999999999999998 is infeasible.\n",
      "Nu value 0.7999999999999998 is infeasible.\n",
      "Nu value 0.7999999999999998 is infeasible.\n",
      "Nu value 0.7999999999999998 is infeasible.\n",
      "Nu value 0.7999999999999998 is infeasible.\n",
      "Nu value 0.7999999999999998 is infeasible.\n",
      "Nu value 0.7999999999999998 is infeasible.\n",
      "Nu value 0.7999999999999998 is infeasible.\n",
      "Nu value 0.7999999999999998 is infeasible.\n",
      "Nu value 0.7999999999999998 is infeasible.\n",
      "Nu value 0.7999999999999998 is infeasible.\n",
      "Nu value 0.7999999999999998 is infeasible.\n",
      "Nu value 0.7999999999999998 is infeasible.\n",
      "Nu value 0.7999999999999998 is infeasible.\n",
      "Nu value 0.7999999999999998 is infeasible.\n",
      "Nu value 0.7999999999999998 is infeasible.\n",
      "Nu value 0.7999999999999998 is infeasible.\n",
      "Nu value 0.7999999999999998 is infeasible.\n",
      "Nu value 0.7999999999999998 is infeasible.\n",
      "Nu value 0.7999999999999998 is infeasible.\n",
      "Nu value 0.7999999999999998 is infeasible.\n",
      "Nu value 0.7999999999999998 is infeasible.\n",
      "Nu value 0.7999999999999998 is infeasible.\n",
      "Nu value 0.7999999999999998 is infeasible.\n",
      "Nu value 0.7999999999999998 is infeasible.\n",
      "Nu value 0.7999999999999998 is infeasible.\n",
      "Nu value 0.7999999999999998 is infeasible.\n",
      "Nu value 0.7999999999999998 is infeasible.\n",
      "Nu value 0.7999999999999998 is infeasible.\n",
      "Nu value 0.7999999999999998 is infeasible.\n",
      "Nu value 0.7999999999999998 is infeasible.\n",
      "Nu value 0.7999999999999998 is infeasible.\n",
      "Nu value 0.7999999999999998 is infeasible.\n",
      "Nu value 0.7999999999999998 is infeasible.\n",
      "Nu value 0.7999999999999998 is infeasible.\n",
      "Nu value 0.7999999999999998 is infeasible.\n",
      "Nu value 0.7999999999999998 is infeasible.\n",
      "Nu value 0.7999999999999998 is infeasible.\n",
      "Nu value 0.7999999999999998 is infeasible.\n",
      "Nu value 0.7999999999999998 is infeasible.\n",
      "Nu value 0.7999999999999998 is infeasible.\n",
      "Nu value 0.7999999999999998 is infeasible.\n",
      "Nu value 0.7999999999999998 is infeasible.\n",
      "Nu value 0.7999999999999998 is infeasible.\n",
      "[0] 0.00\n",
      "Max Accuracy: {'channels': [8], 'value': 0.8523391812865497, 'nu': 0.3749999999999999}\n",
      "Final Max Accuracy: {'channels': [8], 'value': 0.8523391812865497, 'nu': 0.3749999999999999}\n"
     ]
    }
   ],
   "source": [
    "best_acc = classify_nusvm_param_seach(pp_rh, pnp_rh, 0.1, 0.81, 0.025, ch_names_new, constrain_channels=None,\n",
    "                                      log_txt=True, log_proc_method=log_proc_method,\n",
    "                                                                                  log_dataset=log_dataset,\n",
    "                                                                                  log_notes=log_notes)"
   ]
  },
  {
   "cell_type": "code",
   "execution_count": null,
   "metadata": {},
   "outputs": [],
   "source": [
    "best_acc"
   ]
  },
  {
   "cell_type": "code",
   "execution_count": null,
   "metadata": {},
   "outputs": [],
   "source": []
  }
 ],
 "metadata": {
  "kernelspec": {
   "display_name": "Python 3",
   "language": "python",
   "name": "python3"
  },
  "language_info": {
   "codemirror_mode": {
    "name": "ipython",
    "version": 3
   },
   "file_extension": ".py",
   "mimetype": "text/x-python",
   "name": "python",
   "nbconvert_exporter": "python",
   "pygments_lexer": "ipython3",
   "version": "3.7.3"
  }
 },
 "nbformat": 4,
 "nbformat_minor": 2
}
