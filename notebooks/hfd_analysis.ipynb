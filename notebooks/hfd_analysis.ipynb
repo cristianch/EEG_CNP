{
 "cells": [
  {
   "cell_type": "code",
   "execution_count": 1,
   "metadata": {},
   "outputs": [],
   "source": [
    "# Only run this once\n",
    "import os\n",
    "os.chdir('..')"
   ]
  },
  {
   "cell_type": "code",
   "execution_count": 2,
   "metadata": {},
   "outputs": [],
   "source": [
    "import numpy as np\n",
    "import scipy\n",
    "from scipy import signal\n",
    "import mne\n",
    "import glob\n",
    "import HiguchiFractalDimension as hfd\n",
    "import csv\n",
    "import matplotlib.pyplot as plt\n",
    "from matplotlib import colors\n",
    "\n",
    "import utils.logger\n",
    "from utils.experiments_classification import classify_nusvm_cross_valid, classify_nusvm_param_seach"
   ]
  },
  {
   "cell_type": "code",
   "execution_count": 3,
   "metadata": {},
   "outputs": [
    {
     "data": {
      "text/plain": [
       "<module 'utils.experiments_classification' from 'D:\\\\etc\\\\uni\\\\yr5\\\\project\\\\workspace\\\\eeg-cnp-final-year-project\\\\utils\\\\experiments_classification.py'>"
      ]
     },
     "execution_count": 3,
     "metadata": {},
     "output_type": "execute_result"
    }
   ],
   "source": [
    "import importlib\n",
    "importlib.reload(utils.experiments_classification)"
   ]
  },
  {
   "cell_type": "code",
   "execution_count": null,
   "metadata": {},
   "outputs": [],
   "source": []
  },
  {
   "cell_type": "code",
   "execution_count": 4,
   "metadata": {},
   "outputs": [],
   "source": [
    "def patient_array_to_hfd(repetitions, window_start=None, window_size=500, step_size=1, k=7):\n",
    "    '''\n",
    "    Apply HFD to all repetitions from given patient; input shape [n_repetitions, n_channels, n_features]\n",
    "    '''\n",
    "    if window_start != None:\n",
    "        print('Calculating HFD with window start', str(window_start), 'window size', str(window_size), 'step', str(step_size))\n",
    "        return np.array([np.array([[hfd.hfd(channel[window_start:window_start+window_size:step_size], num_k=k)] for channel in repetition]) for repetition in repetitions])\n",
    "    print('Calculating HFD over entire time series')\n",
    "    return np.array([np.array([[hfd.hfd(channel, num_k=k)] for channel in repetition]) for repetition in repetitions])"
   ]
  },
  {
   "cell_type": "code",
   "execution_count": null,
   "metadata": {},
   "outputs": [],
   "source": []
  },
  {
   "cell_type": "markdown",
   "metadata": {},
   "source": [
    "# Apply HFD to datasets"
   ]
  },
  {
   "cell_type": "code",
   "execution_count": 5,
   "metadata": {},
   "outputs": [],
   "source": [
    "# Returns relevant datasets (f.e. all right-hand recordings of healthy patients) as a list of np arrays\n",
    "def get_datasets(patient_type_location, recording_type_expression):\n",
    "    if recording_type_expression != l_new:\n",
    "        sets_locations = glob.glob(patient_type_location + recording_type_expression + suffix)\n",
    "    else:\n",
    "        sets_locations = glob.glob(patient_type_location + recording_type_expression)\n",
    "    \n",
    "    sets = []\n",
    "    for path in sets_locations: \n",
    "        sets.append(mne.io.read_epochs_eeglab(path))\n",
    "        \n",
    "    return np.array(np.array([(patient._data) for patient in sets]))\n",
    "\n",
    "\n",
    "def get_channel_names(patient_type_location, recording_type_expression):\n",
    "    '''\n",
    "    Returns the list of channel names in order\n",
    "    Only works if ALL chosen datasets use the same channels\n",
    "    '''\n",
    "    if recording_type_expression != l_new:\n",
    "        sets_locations = glob.glob(patient_type_location + recording_type_expression + suffix)\n",
    "    else:\n",
    "        sets_locations = glob.glob(patient_type_location + recording_type_expression)\n",
    "        \n",
    "    return mne.io.read_epochs_eeglab(sets_locations[0]).ch_names\n",
    "    "
   ]
  },
  {
   "cell_type": "code",
   "execution_count": 8,
   "metadata": {},
   "outputs": [
    {
     "data": {
      "text/plain": [
       "['./../../data_new/raw/PnP\\\\PnP_1\\\\PnP_1_L.set',\n",
       " './../../data_new/raw/PnP\\\\PnP_3\\\\PnP_3_L.set',\n",
       " './../../data_new/raw/PnP\\\\PnP_4\\\\PnP_4_L.set',\n",
       " './../../data_new/raw/PnP\\\\PnP_5\\\\PnP_5_L.set',\n",
       " './../../data_new/raw/PnP\\\\PnP_7\\\\PnP_7_L.set',\n",
       " './../../data_new/raw/PnP\\\\PnP_8\\\\PnP_8_L.set',\n",
       " './../../data_new/raw/PnP\\\\PnP_9\\\\PnP_9_L.set']"
      ]
     },
     "execution_count": 8,
     "metadata": {},
     "output_type": "execute_result"
    }
   ],
   "source": [
    "root = './../../'\n",
    "suffix = '*.set'\n",
    "\n",
    "location_healthy = root + 'data/raw/HV/*/'\n",
    "location_pain = root + 'data/raw/PP/*/'\n",
    "location_nopain = root + 'data/raw/PnP/*/'\n",
    "\n",
    "location_pwp = root + 'data_new/raw/PwP/*/'\n",
    "location_pdp = root + 'data_new/raw/PdP/*/'\n",
    "location_pnp = root + 'data_new/raw/PnP/*/'\n",
    "\n",
    "\n",
    "rh = {'name': 'RH', 'extension': '*_RH*'}\n",
    "lh = {'name': 'LH', 'extension': '*_LH*'}\n",
    "l_new = {'name': 'L', 'extension': '*_L.set'}   # NO SUFFIX\n",
    "l_old = {'name': 'L', 'extension': '*_L_*'}\n",
    "\n",
    "sets_healthy_rh = glob.glob(location_pnp + l_new['extension'])\n",
    "sets_healthy_rh"
   ]
  },
  {
   "cell_type": "code",
   "execution_count": 94,
   "metadata": {},
   "outputs": [
    {
     "name": "stdout",
     "output_type": "stream",
     "text": [
      "Extracting parameters from ./../../data/raw/HV\\HV1\\HV1_F1_RH_Removed_ICA.set...\n",
      "56 matching events found\n",
      "No baseline correction applied\n",
      "Not setting metadata\n",
      "0 projection items activated\n",
      "Ready.\n",
      "Extracting parameters from ./../../data/raw/HV\\HV10\\HV10_F1_RH_Removed_ICA.set...\n",
      "54 matching events found\n",
      "No baseline correction applied\n",
      "Not setting metadata\n"
     ]
    },
    {
     "name": "stderr",
     "output_type": "stream",
     "text": [
      "<ipython-input-5-f4cb1c0da255>:10: RuntimeWarning: At least one epoch has multiple events. Only the latency of the first event will be retained.\n",
      "  sets.append(mne.io.read_epochs_eeglab(path))\n",
      "<ipython-input-5-f4cb1c0da255>:10: RuntimeWarning: At least one epoch has multiple events. Only the latency of the first event will be retained.\n",
      "  sets.append(mne.io.read_epochs_eeglab(path))\n"
     ]
    },
    {
     "name": "stdout",
     "output_type": "stream",
     "text": [
      "0 projection items activated\n",
      "Ready.\n",
      "Extracting parameters from ./../../data/raw/HV\\HV2\\HV2_F1_RH_Removed_ICA.set...\n",
      "54 matching events found\n",
      "No baseline correction applied\n",
      "Not setting metadata\n",
      "0 projection items activated\n",
      "Ready.\n",
      "Extracting parameters from ./../../data/raw/HV\\HV3\\HV3_F1_RH_Removed_ICA.set...\n",
      "58 matching events found\n",
      "No baseline correction applied\n",
      "Not setting metadata\n"
     ]
    },
    {
     "name": "stderr",
     "output_type": "stream",
     "text": [
      "<ipython-input-5-f4cb1c0da255>:10: RuntimeWarning: At least one epoch has multiple events. Only the latency of the first event will be retained.\n",
      "  sets.append(mne.io.read_epochs_eeglab(path))\n",
      "<ipython-input-5-f4cb1c0da255>:10: RuntimeWarning: At least one epoch has multiple events. Only the latency of the first event will be retained.\n",
      "  sets.append(mne.io.read_epochs_eeglab(path))\n"
     ]
    },
    {
     "name": "stdout",
     "output_type": "stream",
     "text": [
      "0 projection items activated\n",
      "Ready.\n",
      "Extracting parameters from ./../../data/raw/HV\\HV4\\HV4_F1_RH_Removed_ICA.set...\n",
      "52 matching events found\n",
      "No baseline correction applied\n",
      "Not setting metadata\n",
      "0 projection items activated\n",
      "Ready.\n",
      "Extracting parameters from ./../../data/raw/HV\\HV5\\HV5_F1_RH_Removed_ICA.set...\n",
      "57 matching events found\n",
      "No baseline correction applied\n",
      "Not setting metadata\n",
      "0 projection items activated\n"
     ]
    },
    {
     "name": "stderr",
     "output_type": "stream",
     "text": [
      "<ipython-input-5-f4cb1c0da255>:10: RuntimeWarning: At least one epoch has multiple events. Only the latency of the first event will be retained.\n",
      "  sets.append(mne.io.read_epochs_eeglab(path))\n",
      "<ipython-input-5-f4cb1c0da255>:10: RuntimeWarning: At least one epoch has multiple events. Only the latency of the first event will be retained.\n",
      "  sets.append(mne.io.read_epochs_eeglab(path))\n"
     ]
    },
    {
     "name": "stdout",
     "output_type": "stream",
     "text": [
      "Ready.\n",
      "Extracting parameters from ./../../data/raw/HV\\HV6\\HV6_F1_RH_Removed_ICA.set...\n",
      "54 matching events found\n",
      "No baseline correction applied\n",
      "Not setting metadata\n",
      "0 projection items activated\n",
      "Ready.\n",
      "Extracting parameters from ./../../data/raw/HV\\HV7\\HV7_F1_RH_Removed_ICA.set...\n",
      "54 matching events found\n",
      "No baseline correction applied\n",
      "Not setting metadata\n",
      "0 projection items activated\n"
     ]
    },
    {
     "name": "stderr",
     "output_type": "stream",
     "text": [
      "<ipython-input-5-f4cb1c0da255>:10: RuntimeWarning: At least one epoch has multiple events. Only the latency of the first event will be retained.\n",
      "  sets.append(mne.io.read_epochs_eeglab(path))\n",
      "<ipython-input-5-f4cb1c0da255>:10: RuntimeWarning: At least one epoch has multiple events. Only the latency of the first event will be retained.\n",
      "  sets.append(mne.io.read_epochs_eeglab(path))\n"
     ]
    },
    {
     "name": "stdout",
     "output_type": "stream",
     "text": [
      "Ready.\n",
      "Extracting parameters from ./../../data/raw/HV\\HV8\\HV8_F1_RH_Removed_ICA.set...\n",
      "59 matching events found\n",
      "No baseline correction applied\n",
      "Not setting metadata\n",
      "0 projection items activated\n",
      "Ready.\n",
      "Extracting parameters from ./../../data/raw/HV\\HV9\\HV9_F1_RH_Removed_ICA.set...\n",
      "53 matching events found\n",
      "No baseline correction applied\n",
      "Not setting metadata\n"
     ]
    },
    {
     "name": "stderr",
     "output_type": "stream",
     "text": [
      "<ipython-input-5-f4cb1c0da255>:10: RuntimeWarning: At least one epoch has multiple events. Only the latency of the first event will be retained.\n",
      "  sets.append(mne.io.read_epochs_eeglab(path))\n",
      "<ipython-input-5-f4cb1c0da255>:10: RuntimeWarning: At least one epoch has multiple events. Only the latency of the first event will be retained.\n",
      "  sets.append(mne.io.read_epochs_eeglab(path))\n"
     ]
    },
    {
     "name": "stdout",
     "output_type": "stream",
     "text": [
      "0 projection items activated\n",
      "Ready.\n",
      "Extracting parameters from ./../../data/raw/PP\\PP1\\PP1_F1_RH_Removed_ICA.set...\n",
      "57 matching events found\n",
      "No baseline correction applied\n",
      "Not setting metadata\n",
      "0 projection items activated\n",
      "Ready.\n",
      "Extracting parameters from ./../../data/raw/PP\\PP10\\PP10_F1_RH_Removed_ICA.set...\n",
      "57 matching events found\n",
      "No baseline correction applied\n",
      "Not setting metadata\n"
     ]
    },
    {
     "name": "stderr",
     "output_type": "stream",
     "text": [
      "<ipython-input-5-f4cb1c0da255>:10: RuntimeWarning: At least one epoch has multiple events. Only the latency of the first event will be retained.\n",
      "  sets.append(mne.io.read_epochs_eeglab(path))\n",
      "<ipython-input-5-f4cb1c0da255>:10: RuntimeWarning: At least one epoch has multiple events. Only the latency of the first event will be retained.\n",
      "  sets.append(mne.io.read_epochs_eeglab(path))\n"
     ]
    },
    {
     "name": "stdout",
     "output_type": "stream",
     "text": [
      "0 projection items activated\n",
      "Ready.\n",
      "Extracting parameters from ./../../data/raw/PP\\PP11\\PP11_F1_RH_Removed_ICA.set...\n",
      "59 matching events found\n",
      "No baseline correction applied\n",
      "Not setting metadata\n",
      "0 projection items activated\n",
      "Ready.\n",
      "Extracting parameters from ./../../data/raw/PP\\PP2\\PP2_F1_RH_Removed_ICA.set...\n",
      "54 matching events found\n",
      "No baseline correction applied\n",
      "Not setting metadata\n"
     ]
    },
    {
     "name": "stderr",
     "output_type": "stream",
     "text": [
      "<ipython-input-5-f4cb1c0da255>:10: RuntimeWarning: At least one epoch has multiple events. Only the latency of the first event will be retained.\n",
      "  sets.append(mne.io.read_epochs_eeglab(path))\n",
      "<ipython-input-5-f4cb1c0da255>:10: RuntimeWarning: At least one epoch has multiple events. Only the latency of the first event will be retained.\n",
      "  sets.append(mne.io.read_epochs_eeglab(path))\n"
     ]
    },
    {
     "name": "stdout",
     "output_type": "stream",
     "text": [
      "0 projection items activated\n",
      "Ready.\n",
      "Extracting parameters from ./../../data/raw/PP\\PP3\\PP3_F1_RH_Removed_ICA.set...\n",
      "51 matching events found\n",
      "No baseline correction applied\n",
      "Not setting metadata\n",
      "0 projection items activated\n",
      "Ready.\n",
      "Extracting parameters from ./../../data/raw/PP\\PP4\\PP4_F1_RH_Removed_ICA.set...\n",
      "58 matching events found\n",
      "No baseline correction applied\n",
      "Not setting metadata\n",
      "0 projection items activated\n"
     ]
    },
    {
     "name": "stderr",
     "output_type": "stream",
     "text": [
      "<ipython-input-5-f4cb1c0da255>:10: RuntimeWarning: At least one epoch has multiple events. Only the latency of the first event will be retained.\n",
      "  sets.append(mne.io.read_epochs_eeglab(path))\n",
      "<ipython-input-5-f4cb1c0da255>:10: RuntimeWarning: At least one epoch has multiple events. Only the latency of the first event will be retained.\n",
      "  sets.append(mne.io.read_epochs_eeglab(path))\n"
     ]
    },
    {
     "name": "stdout",
     "output_type": "stream",
     "text": [
      "Ready.\n",
      "Extracting parameters from ./../../data/raw/PP\\PP5\\PP5_F1_RH_Removed_ICA.set...\n",
      "56 matching events found\n",
      "No baseline correction applied\n",
      "Not setting metadata\n",
      "0 projection items activated\n",
      "Ready.\n",
      "Extracting parameters from ./../../data/raw/PP\\PP6\\PP6_F1_RH_Removed_ICA.set...\n",
      "32 matching events found\n",
      "No baseline correction applied\n",
      "Not setting metadata\n",
      "0 projection items activated\n",
      "Ready.\n"
     ]
    },
    {
     "name": "stderr",
     "output_type": "stream",
     "text": [
      "<ipython-input-5-f4cb1c0da255>:10: RuntimeWarning: At least one epoch has multiple events. Only the latency of the first event will be retained.\n",
      "  sets.append(mne.io.read_epochs_eeglab(path))\n",
      "<ipython-input-5-f4cb1c0da255>:10: RuntimeWarning: At least one epoch has multiple events. Only the latency of the first event will be retained.\n",
      "  sets.append(mne.io.read_epochs_eeglab(path))\n"
     ]
    },
    {
     "name": "stdout",
     "output_type": "stream",
     "text": [
      "Extracting parameters from ./../../data/raw/PP\\PP7\\PP7_F1_RH_Removed_ICA.set...\n",
      "52 matching events found\n",
      "No baseline correction applied\n",
      "Not setting metadata\n",
      "0 projection items activated\n",
      "Ready.\n",
      "Extracting parameters from ./../../data/raw/PP\\PP9\\PP9_F1_RH_Removed_ICA.set...\n",
      "54 matching events found\n",
      "No baseline correction applied\n",
      "Not setting metadata\n",
      "0 projection items activated\n",
      "Ready.\n"
     ]
    },
    {
     "name": "stderr",
     "output_type": "stream",
     "text": [
      "<ipython-input-5-f4cb1c0da255>:10: RuntimeWarning: At least one epoch has multiple events. Only the latency of the first event will be retained.\n",
      "  sets.append(mne.io.read_epochs_eeglab(path))\n",
      "<ipython-input-5-f4cb1c0da255>:10: RuntimeWarning: At least one epoch has multiple events. Only the latency of the first event will be retained.\n",
      "  sets.append(mne.io.read_epochs_eeglab(path))\n"
     ]
    }
   ],
   "source": [
    "limb = rh\n",
    "\n",
    "pp_rh_raw = get_datasets(location_healthy, limb['extension'])\n",
    "pnp_rh_raw = get_datasets(location_pain, limb['extension'])"
   ]
  },
  {
   "cell_type": "code",
   "execution_count": 95,
   "metadata": {},
   "outputs": [
    {
     "name": "stdout",
     "output_type": "stream",
     "text": [
      "Extracting parameters from ./../../data/raw/PP\\PP1\\PP1_F1_RH_Removed_ICA.set...\n",
      "57 matching events found\n",
      "No baseline correction applied\n",
      "Not setting metadata\n",
      "0 projection items activated\n",
      "Ready.\n"
     ]
    },
    {
     "name": "stderr",
     "output_type": "stream",
     "text": [
      "<ipython-input-5-f4cb1c0da255>:25: RuntimeWarning: At least one epoch has multiple events. Only the latency of the first event will be retained.\n",
      "  return mne.io.read_epochs_eeglab(sets_locations[0]).ch_names\n"
     ]
    },
    {
     "data": {
      "text/plain": [
       "['Cz',\n",
       " 'C1',\n",
       " 'C2',\n",
       " 'C3',\n",
       " 'C4',\n",
       " 'C5',\n",
       " 'C6',\n",
       " 'C7',\n",
       " 'C8',\n",
       " 'FCz',\n",
       " 'FC1',\n",
       " 'FC2',\n",
       " 'FC3',\n",
       " 'FC4',\n",
       " 'FC5',\n",
       " 'FC6',\n",
       " 'FT7',\n",
       " 'FT8',\n",
       " 'CPz',\n",
       " 'CP1',\n",
       " 'CP2',\n",
       " 'CP3',\n",
       " 'CP4',\n",
       " 'CP5',\n",
       " 'CP6',\n",
       " 'TP7',\n",
       " 'TP8',\n",
       " 'Fz',\n",
       " 'F1',\n",
       " 'F2',\n",
       " 'F3',\n",
       " 'F4',\n",
       " 'F5',\n",
       " 'F6',\n",
       " 'F7',\n",
       " 'F8',\n",
       " 'Pz',\n",
       " 'P1',\n",
       " 'P2',\n",
       " 'P3',\n",
       " 'P4',\n",
       " 'P5',\n",
       " 'P6',\n",
       " 'P7',\n",
       " 'P8',\n",
       " 'AFz',\n",
       " 'AF3',\n",
       " 'AF4',\n",
       " 'AF7',\n",
       " 'AF8',\n",
       " 'Fp1',\n",
       " 'FP2',\n",
       " 'POz',\n",
       " 'PO3',\n",
       " 'PO4',\n",
       " 'PO7',\n",
       " 'PO8',\n",
       " 'Oz',\n",
       " 'O1',\n",
       " 'O2',\n",
       " 'Iz']"
      ]
     },
     "execution_count": 95,
     "metadata": {},
     "output_type": "execute_result"
    }
   ],
   "source": [
    "ch_names = get_channel_names(location_pain, limb['extension'])\n",
    "ch_names"
   ]
  },
  {
   "cell_type": "code",
   "execution_count": 96,
   "metadata": {},
   "outputs": [
    {
     "data": {
      "text/plain": [
       "array([array([[[ 4.88732910e-06,  1.56284761e-06, -1.09347558e-06, ...,\n",
       "          5.34835577e-06,  6.79069948e-06,  1.13833551e-05],\n",
       "        [ 3.43505335e-06,  5.15083015e-07, -1.78874540e-06, ...,\n",
       "          4.10314798e-06,  4.64555311e-06,  1.06306934e-05],\n",
       "        [ 3.01407766e-06,  1.87959027e-06,  5.19796461e-09, ...,\n",
       "          5.03530693e-06,  6.03333759e-06,  8.34977627e-06],\n",
       "        ...,\n",
       "        [-1.18389149e-05, -7.90863085e-06, -4.00735855e-06, ...,\n",
       "         -6.41788483e-06, -1.12654829e-05, -1.09972839e-05],\n",
       "        [-6.68466663e-06, -4.80533695e-06, -2.52442718e-07, ...,\n",
       "         -7.07764435e-06, -1.18164644e-05, -1.42427607e-05],\n",
       "        [-6.54942393e-07, -1.64190102e-06,  2.76532578e-06, ...,\n",
       "         -1.00629044e-06, -6.81034136e-06, -9.05605125e-06]],\n",
       "\n",
       "       [[-3.11359477e-06, -8.60274982e-06, -6.04041958e-06, ...,\n",
       "         -5.53584766e-06, -4.85377836e-06, -3.53625631e-06],\n",
       "        [-1.78660202e-06, -7.68296099e-06, -4.56341028e-06, ...,\n",
       "         -5.80878973e-06, -4.66399574e-06, -2.46053672e-06],\n",
       "        [-1.73268902e-06, -4.70837927e-06, -3.90574527e-06, ...,\n",
       "         -3.74125624e-06, -3.04609203e-06, -3.58754015e-06],\n",
       "        ...,\n",
       "        [ 7.00137711e-06,  1.06338530e-05,  1.05165033e-05, ...,\n",
       "         -4.52189159e-06, -2.41636658e-06, -3.80399847e-06],\n",
       "        [ 5.34448481e-06,  9.71306992e-06,  9.73409653e-06, ...,\n",
       "         -3.03790545e-06, -1.94611263e-06, -2.71744227e-06],\n",
       "        [ 2.86699963e-06,  8.96984005e-06,  6.00202131e-06, ...,\n",
       "          3.62660789e-06,  2.22860241e-06,  1.28964472e-06]],\n",
       "\n",
       "       [[ 6.17297554e-06,  9.08078480e-06,  5.61591721e-06, ...,\n",
       "         -1.14138156e-07,  8.15386117e-07, -1.42372727e-06],\n",
       "        [ 7.96151829e-06,  8.66276932e-06,  7.56638718e-06, ...,\n",
       "         -7.05299675e-07,  1.41327202e-06, -1.65249252e-06],\n",
       "        [ 2.13114071e-06,  6.82967710e-06,  2.60695624e-06, ...,\n",
       "          6.68839216e-07, -7.41297454e-08, -1.41938901e-06],\n",
       "        ...,\n",
       "        [-7.95277405e-06, -1.19895611e-05, -9.25687313e-06, ...,\n",
       "          3.18435240e-06,  9.88553226e-07,  4.36775064e-06],\n",
       "        [-1.32670221e-05, -1.36159573e-05, -1.18559055e-05, ...,\n",
       "          3.21110892e-06,  1.17171633e-06,  5.62085247e-06],\n",
       "        [-7.65169573e-06, -1.49689369e-05, -9.49253273e-06, ...,\n",
       "          2.26748991e-06,  3.08792877e-06,  6.60750389e-06]],\n",
       "\n",
       "       ...,\n",
       "\n",
       "       [[-7.25145245e-06, -7.39501476e-06, -9.21869850e-06, ...,\n",
       "          2.53123665e-05,  2.47676468e-05,  2.60969582e-05],\n",
       "        [-9.64276791e-06, -1.07643013e-05, -1.15267334e-05, ...,\n",
       "          2.30802650e-05,  2.15372849e-05,  2.30822086e-05],\n",
       "        [-6.38873577e-07, -8.66046309e-07, -3.30466413e-06, ...,\n",
       "          1.76158142e-05,  1.65515785e-05,  1.85572681e-05],\n",
       "        ...,\n",
       "        [-9.06733990e-07, -8.25204015e-07,  3.40787983e-06, ...,\n",
       "         -3.35193634e-05, -3.49502258e-05, -3.21896820e-05],\n",
       "        [ 6.64242744e-06,  8.37036896e-06,  1.01495495e-05, ...,\n",
       "         -3.14188328e-05, -3.38378563e-05, -3.42565231e-05],\n",
       "        [ 4.57326412e-07,  2.18938446e-06,  3.18578672e-06, ...,\n",
       "         -2.81032333e-05, -2.63324013e-05, -2.91302567e-05]],\n",
       "\n",
       "       [[ 2.15674937e-07,  3.38121104e-06,  3.33642483e-06, ...,\n",
       "          4.32283640e-06,  4.04388762e-06, -3.72020632e-07],\n",
       "        [ 1.63574159e-06,  4.59388494e-06,  4.31812239e-06, ...,\n",
       "          2.39916229e-06,  3.25245070e-06, -3.44608635e-07],\n",
       "        [-9.45403576e-07,  1.53470159e-06,  9.16270971e-07, ...,\n",
       "          5.42589855e-06,  5.15068769e-06,  3.13093662e-06],\n",
       "        ...,\n",
       "        [-2.51209164e-06, -4.95806170e-06, -5.61816883e-06, ...,\n",
       "         -4.71378183e-06, -5.60129595e-06,  1.67983532e-06],\n",
       "        [ 4.77722287e-07, -4.00827312e-06, -5.89352751e-06, ...,\n",
       "         -1.39472008e-07, -1.47816086e-06,  4.89194822e-06],\n",
       "        [ 2.19693780e-06, -8.60268235e-07, -1.04026651e-06, ...,\n",
       "         -7.72160435e-06, -1.05308409e-05, -5.29285336e-06]],\n",
       "\n",
       "       [[ 1.43661344e-06,  3.93240690e-06,  5.34259081e-06, ...,\n",
       "         -1.19637318e-05, -1.02651424e-05, -1.09319820e-05],\n",
       "        [-4.69455338e-06, -2.78187585e-06, -1.38659179e-06, ...,\n",
       "         -5.27214575e-06, -3.11149955e-06, -1.92309928e-06],\n",
       "        [ 8.55302715e-06,  1.06992407e-05,  1.08780222e-05, ...,\n",
       "         -1.41853371e-05, -1.20219879e-05, -1.46064243e-05],\n",
       "        ...,\n",
       "        [-5.79297161e-06, -7.40092373e-06, -6.96117258e-06, ...,\n",
       "          1.59446592e-05,  1.29320660e-05,  1.49819431e-05],\n",
       "        [-5.58818626e-06, -8.18956852e-06, -7.00039816e-06, ...,\n",
       "          8.45242405e-06,  5.62505627e-06,  7.21059179e-06],\n",
       "        [-1.02356672e-06, -5.83539104e-06, -4.70854855e-06, ...,\n",
       "          1.19991121e-05,  8.45334625e-06,  1.38331203e-05]]]),\n",
       "       array([[[-3.05937219e-06, -4.50484753e-08, -7.53123343e-07, ...,\n",
       "          2.44958639e-06,  7.17173243e-06,  2.15995002e-06],\n",
       "        [-1.90978611e-06,  8.31636667e-07, -3.32640618e-07, ...,\n",
       "          1.40567827e-06,  5.76077604e-06,  3.22546530e-06],\n",
       "        [-8.09166193e-07,  8.58670712e-07,  1.78622067e-07, ...,\n",
       "          1.85381782e-06,  5.69951344e-06,  1.49921536e-06],\n",
       "        ...,\n",
       "        [ 3.17584920e-06,  3.41988730e-06,  1.21131070e-07, ...,\n",
       "         -4.53048706e-06, -1.00620966e-05, -8.93103027e-06],\n",
       "        [-8.88647795e-07, -2.70184278e-06, -5.02258110e-06, ...,\n",
       "         -5.95732212e-06, -1.22495966e-05, -1.29384451e-05],\n",
       "        [ 1.11021399e-06, -4.63221341e-07, -2.53293872e-06, ...,\n",
       "         -3.08652449e-06, -8.69796944e-06, -7.30549669e-06]],\n",
       "\n",
       "       [[ 2.71936417e-06,  1.10298514e-06,  4.06789207e-06, ...,\n",
       "          7.46940494e-07,  1.01845896e-06,  1.55366361e-06],\n",
       "        [ 4.77088547e-06,  3.92980051e-06,  6.67230320e-06, ...,\n",
       "          3.46179426e-07,  9.25159454e-07,  1.32270980e-06],\n",
       "        [ 2.61952305e-06,  1.15769684e-06,  2.37182164e-06, ...,\n",
       "         -7.85214543e-07, -6.22538805e-07, -4.71699536e-07],\n",
       "        ...,\n",
       "        [-6.53193903e-06, -4.08849096e-06,  3.03280354e-07, ...,\n",
       "         -4.23678350e-06, -5.29014540e-06, -2.64149237e-06],\n",
       "        [-6.56710720e-06, -7.52340412e-06, -5.98358011e-06, ...,\n",
       "         -1.48592508e-06, -1.47749937e-06, -2.74489570e-06],\n",
       "        [-5.68379831e-06, -7.01282406e-06, -6.48941994e-06, ...,\n",
       "          2.18190551e-06,  1.21098816e-06,  2.52380061e-06]],\n",
       "\n",
       "       [[ 1.03583860e-06,  1.39352310e-06, -1.09891605e-06, ...,\n",
       "          9.76644516e-07,  2.86443019e-06,  2.86987424e-06],\n",
       "        [ 1.09087110e-06, -9.88916159e-08, -2.63732195e-06, ...,\n",
       "          1.74658132e-06,  3.67163610e-06,  3.49895000e-06],\n",
       "        [ 1.77170312e-06,  1.68633056e-06,  3.66818547e-07, ...,\n",
       "          9.99346375e-10,  1.52941668e-06,  1.91053534e-06],\n",
       "        ...,\n",
       "        [-8.07337570e-06, -1.91971362e-06,  3.80756795e-07, ...,\n",
       "          2.87660271e-07, -3.40786159e-07, -5.64919412e-07],\n",
       "        [-4.63963747e-06,  7.14056253e-07,  8.19609404e-07, ...,\n",
       "          9.59399343e-08, -3.81437683e-06, -9.45992708e-07],\n",
       "        [-5.29954672e-06, -1.27664268e-06,  6.52632415e-08, ...,\n",
       "         -8.64093781e-07, -2.86779881e-06, -2.92949963e-06]],\n",
       "\n",
       "       ...,\n",
       "\n",
       "       [[ 7.38252926e-06,  8.54004669e-06,  6.30583191e-06, ...,\n",
       "          6.19837046e-07, -4.19654369e-07, -4.30903530e-06],\n",
       "        [ 5.83187246e-06,  7.74208307e-06,  5.50003099e-06, ...,\n",
       "          2.52989268e-06,  1.36143684e-06, -2.18847203e-06],\n",
       "        [ 6.32841301e-06,  8.33240318e-06,  7.20416927e-06, ...,\n",
       "         -1.73696291e-06, -1.56121719e-06, -5.40231562e-06],\n",
       "        ...,\n",
       "        [-1.02536831e-05, -1.89178085e-05, -1.77208843e-05, ...,\n",
       "          6.80699158e-06,  8.18316269e-06,  1.03703613e-05],\n",
       "        [-7.95462084e-06, -1.49792728e-05, -1.25747070e-05, ...,\n",
       "          6.79736328e-06,  7.28318596e-06,  1.04211416e-05],\n",
       "        [-5.34485626e-06, -1.15272827e-05, -8.47556114e-06, ...,\n",
       "          3.23593259e-06,  3.56246853e-06,  6.04629850e-06]],\n",
       "\n",
       "       [[ 5.61494112e-06,  4.14205742e-06,  9.58665311e-08, ...,\n",
       "          1.41511053e-07, -9.89111960e-07, -9.85530019e-07],\n",
       "        [ 7.15467358e-06,  5.39357948e-06,  2.47318959e-06, ...,\n",
       "         -9.76312816e-07,  9.51344073e-08, -9.08143997e-07],\n",
       "        [ 2.51730680e-06,  2.36797428e-06, -2.60948420e-06, ...,\n",
       "          4.60965335e-08, -1.51512682e-06, -2.16862965e-06],\n",
       "        ...,\n",
       "        [-3.15817803e-07, -1.01016319e-06,  5.72308683e-06, ...,\n",
       "          1.20478785e-06,  1.05498791e-07,  4.32099533e-06],\n",
       "        [-6.06232405e-06, -6.61935902e-06, -5.58932126e-07, ...,\n",
       "          4.14844608e-06,  4.43331385e-06,  2.55978274e-06],\n",
       "        [-4.64898729e-06, -4.99121189e-06,  1.03816998e-06, ...,\n",
       "          4.88631868e-06,  3.89751935e-06,  5.04201984e-06]],\n",
       "\n",
       "       [[ 2.53636360e-07, -6.05198145e-07,  9.36197996e-07, ...,\n",
       "          5.80419254e-06,  3.87059808e-06,  2.67859077e-06],\n",
       "        [ 8.56852531e-08, -4.71698999e-07,  1.84628069e-06, ...,\n",
       "          3.18299294e-06,  2.63085055e-06,  1.49374878e-06],\n",
       "        [-1.11454022e-06, -1.54170227e-06, -1.47908127e-06, ...,\n",
       "          3.58323526e-06,  1.09804559e-06,  2.14029312e-07],\n",
       "        ...,\n",
       "        [ 3.53932095e-06,  4.55109119e-06,  3.34313107e-06, ...,\n",
       "         -3.13901258e-06, -2.10514688e-06, -1.77828050e-06],\n",
       "        [ 5.42177248e-06,  6.50048065e-06,  3.27023458e-06, ...,\n",
       "          1.16358149e-06, -3.19319755e-07, -4.10701603e-07],\n",
       "        [ 2.43807435e-06,  3.70310926e-06,  1.51886415e-06, ...,\n",
       "         -2.83038664e-06, -1.54419649e-06, -9.47447062e-07]]]),\n",
       "       array([[[-1.37555301e-06, -2.21088481e-06, -2.18208504e-06, ...,\n",
       "         -3.66399693e-06, -2.94526219e-06, -2.34569216e-06],\n",
       "        [-1.80599940e-06, -2.41642833e-06, -2.21154761e-06, ...,\n",
       "         -3.57972670e-06, -2.86271024e-06, -2.32965803e-06],\n",
       "        [-9.49218750e-07, -1.69102454e-06, -1.71294117e-06, ...,\n",
       "         -1.96534526e-06, -1.41509891e-06, -9.88881052e-07],\n",
       "        ...,\n",
       "        [-1.15990210e-06, -3.16340119e-07,  2.77857900e-07, ...,\n",
       "          4.94721800e-07, -1.19196355e-07, -5.07180572e-07],\n",
       "        [ 1.93770602e-07,  7.09618628e-07,  1.02113712e-06, ...,\n",
       "          1.36423361e-06,  8.32751095e-07,  2.94791192e-07],\n",
       "        [ 2.73318005e-06,  3.20394230e-06,  3.01638603e-06, ...,\n",
       "          2.15263104e-06,  1.82268369e-06,  1.45488715e-06]],\n",
       "\n",
       "       [[-1.37855542e-06, -1.23061228e-06, -9.29252982e-07, ...,\n",
       "         -1.73238945e-06, -1.25229347e-06, -7.92649090e-07],\n",
       "        [-3.03644121e-07, -8.72305036e-08,  1.70243621e-07, ...,\n",
       "         -1.11568832e-06, -5.34288526e-07,  3.46597284e-08],\n",
       "        [-1.27241468e-06, -1.53246427e-06, -1.60385513e-06, ...,\n",
       "         -1.88992310e-06, -1.72485614e-06, -1.53411222e-06],\n",
       "        ...,\n",
       "        [-2.66520470e-07, -4.23382111e-08,  4.28490847e-07, ...,\n",
       "          3.52632427e-06,  2.86707449e-06,  2.39442849e-06],\n",
       "        [-1.38629162e-06, -1.13243103e-06, -8.46640468e-07, ...,\n",
       "          2.36115098e-06,  1.71649408e-06,  1.18016350e-06],\n",
       "        [-5.44260204e-07, -4.85845298e-07, -2.82725185e-07, ...,\n",
       "          2.61773682e-06,  1.95464242e-06,  1.35911107e-06]],\n",
       "\n",
       "       [[ 4.26588583e-06,  4.51244831e-06,  3.94667864e-06, ...,\n",
       "         -6.58345032e-06, -7.30363941e-06, -6.78723145e-06],\n",
       "        [ 4.73387098e-06,  4.78106260e-06,  4.06976080e-06, ...,\n",
       "         -6.58710957e-06, -7.36008978e-06, -6.82672596e-06],\n",
       "        [ 2.48155499e-06,  2.73813725e-06,  2.37109542e-06, ...,\n",
       "         -4.58552074e-06, -5.01886272e-06, -4.57155848e-06],\n",
       "        ...,\n",
       "        [-3.19111943e-06, -3.38449597e-06, -2.81193972e-06, ...,\n",
       "          2.18389440e-06,  3.19894624e-06,  3.14770508e-06],\n",
       "        [-4.15259600e-06, -4.05668259e-06, -3.30318069e-06, ...,\n",
       "          2.36092734e-06,  3.30454135e-06,  3.20151424e-06],\n",
       "        [-4.20825195e-06, -4.39966011e-06, -3.66485310e-06, ...,\n",
       "          5.52338219e-06,  6.05598116e-06,  5.00742102e-06]],\n",
       "\n",
       "       ...,\n",
       "\n",
       "       [[ 1.29084611e-06,  8.69859278e-07,  1.94302940e-06, ...,\n",
       "          1.33064377e-06,  2.82458091e-06,  3.15403032e-06],\n",
       "        [ 2.00846696e-06,  1.51911175e-06,  2.33468056e-06, ...,\n",
       "          3.95151168e-07,  2.01767206e-06,  2.56702256e-06],\n",
       "        [ 7.95357108e-07,  4.69101310e-07,  1.48166740e-06, ...,\n",
       "          1.94078517e-06,  2.96728468e-06,  3.02568769e-06],\n",
       "        ...,\n",
       "        [-2.83854294e-06, -2.48402333e-06, -3.26277590e-06, ...,\n",
       "         -2.69139171e-06, -3.41124392e-06, -3.55107737e-06],\n",
       "        [-3.17356992e-06, -2.89952493e-06, -3.34910059e-06, ...,\n",
       "         -1.53923237e-06, -1.85323894e-06, -1.68431425e-06],\n",
       "        [-2.70563221e-06, -2.72244906e-06, -4.42010117e-06, ...,\n",
       "         -1.43294287e-06, -2.67322183e-06, -2.72724891e-06]],\n",
       "\n",
       "       [[ 2.51000547e-06,  3.08629322e-06,  3.46954918e-06, ...,\n",
       "         -2.41857839e-06, -2.34139681e-06, -2.15259051e-06],\n",
       "        [ 2.92666388e-06,  3.27676773e-06,  3.53875732e-06, ...,\n",
       "         -1.97769153e-06, -2.15629745e-06, -2.05887675e-06],\n",
       "        [ 1.32375050e-06,  2.13327479e-06,  2.56190968e-06, ...,\n",
       "         -1.73483169e-06, -1.38754928e-06, -1.15013766e-06],\n",
       "        ...,\n",
       "        [ 1.77228853e-07, -5.19633591e-07, -8.58037889e-07, ...,\n",
       "         -8.67781401e-07, -1.19256163e-06, -1.20478725e-06],\n",
       "        [-9.89803910e-07, -1.37453306e-06, -1.46911156e-06, ...,\n",
       "         -1.77751517e-06, -1.51569247e-06, -1.12732840e-06],\n",
       "        [-1.36645246e-06, -2.17502975e-06, -2.50965929e-06, ...,\n",
       "          6.02175176e-07,  4.63998616e-07,  3.26606542e-07]],\n",
       "\n",
       "       [[ 1.52933979e-06, -9.81594205e-07,  4.93729591e-06, ...,\n",
       "          4.91393042e-06,  4.73533440e-06,  4.51131821e-06],\n",
       "        [ 1.03304887e-06, -1.14074659e-06,  3.83366680e-06, ...,\n",
       "          5.16792536e-06,  5.12376785e-06,  5.04842615e-06],\n",
       "        [ 1.28685856e-06, -7.26089835e-07,  4.23843861e-06, ...,\n",
       "          3.08174992e-06,  2.79294467e-06,  2.51066875e-06],\n",
       "        ...,\n",
       "        [ 4.11996454e-07,  1.28468418e-06, -1.92157519e-06, ...,\n",
       "         -2.72821498e-06, -2.16946745e-06, -1.88577867e-06],\n",
       "        [ 4.39146936e-07,  1.33892250e-06, -2.14042497e-06, ...,\n",
       "         -2.95804238e-06, -2.66706562e-06, -2.54987764e-06],\n",
       "        [-7.51011789e-07,  9.72377777e-07, -4.61581755e-06, ...,\n",
       "         -5.02204704e-06, -4.81156921e-06, -4.54669762e-06]]]),\n",
       "       array([[[-1.14511418e-06, -2.30698735e-07, -6.03284299e-07, ...,\n",
       "         -3.40722108e-06, -1.69675744e-06, -3.19219375e-06],\n",
       "        [-2.93357301e-06, -2.44172883e-06, -2.57451582e-06, ...,\n",
       "         -1.90224648e-06, -1.47357181e-07, -1.65231991e-06],\n",
       "        [ 1.01162446e-06,  1.79186535e-06,  1.50911009e-06, ...,\n",
       "         -2.92325497e-06, -1.39348209e-06, -2.56872153e-06],\n",
       "        ...,\n",
       "        [ 4.66951084e-06,  3.83125639e-06,  4.43451118e-06, ...,\n",
       "          3.76811361e-06,  4.59033918e-06,  2.94854403e-06],\n",
       "        [ 4.67065334e-06,  3.83659244e-06,  4.43278599e-06, ...,\n",
       "          3.76790762e-06,  4.58599567e-06,  2.95702624e-06],\n",
       "        [ 4.67141199e-06,  3.83272481e-06,  4.43774509e-06, ...,\n",
       "          3.76916337e-06,  4.59051418e-06,  2.94621801e-06]],\n",
       "\n",
       "       [[ 1.58577538e-06,  9.94805336e-07,  4.67304230e-07, ...,\n",
       "          4.99817610e-07,  1.80907845e-06,  2.03149748e-06],\n",
       "        [ 2.17906666e-06,  1.52827001e-06,  6.63646400e-07, ...,\n",
       "          1.74016392e-06,  3.08731103e-06,  2.73098350e-06],\n",
       "        [-2.08194092e-07, -2.33538628e-07,  4.94281715e-09, ...,\n",
       "         -6.04742542e-08,  3.82576466e-07,  1.53649080e-06],\n",
       "        ...,\n",
       "        [-2.38922167e-06,  6.07403159e-07,  7.05069780e-07, ...,\n",
       "         -1.01790309e-06, -1.97415364e-06, -2.99708223e-06],\n",
       "        [-2.37554336e-06,  6.06341481e-07,  7.05667615e-07, ...,\n",
       "         -1.01411593e-06, -1.96968293e-06, -2.99845552e-06],\n",
       "        [-2.39325905e-06,  6.05950832e-07,  7.05097675e-07, ...,\n",
       "         -1.01577389e-06, -1.97436786e-06, -2.99461484e-06]],\n",
       "\n",
       "       [[-2.05825782e-06, -2.15270948e-06, -1.84687841e-06, ...,\n",
       "          1.79755116e-06,  2.62258679e-07,  1.87124252e-06],\n",
       "        [-2.00071192e-06, -3.51122904e-06, -2.88282871e-06, ...,\n",
       "          3.68684709e-07, -7.92676985e-07, -1.48283049e-07],\n",
       "        [-1.30942976e-06, -4.52588290e-07, -4.84623134e-07, ...,\n",
       "          1.78162742e-06,  3.50203454e-07,  2.29181933e-06],\n",
       "        ...,\n",
       "        [-1.89272925e-07,  4.89901400e-06,  2.39363432e-06, ...,\n",
       "         -3.20093584e-06, -2.03130320e-07, -2.41363072e-06],\n",
       "        [-1.89198047e-07,  4.89076757e-06,  2.38847446e-06, ...,\n",
       "         -3.20640421e-06, -2.12498009e-07, -2.42084193e-06],\n",
       "        [-1.81915820e-07,  4.90871525e-06,  2.40305114e-06, ...,\n",
       "         -3.19637871e-06, -1.98996261e-07, -2.40643787e-06]],\n",
       "\n",
       "       ...,\n",
       "\n",
       "       [[-2.09959579e-06, -1.52069688e-06, -5.83878231e-06, ...,\n",
       "         -1.55384469e-06,  2.01513052e-06, -4.13637534e-08],\n",
       "        [-3.45127702e-06, -2.78543329e-06, -6.89834404e-06, ...,\n",
       "         -1.50192225e-06,  1.61657858e-06, -3.83536696e-07],\n",
       "        [ 9.30064797e-07,  1.30152285e-06, -2.63177013e-06, ...,\n",
       "         -9.57622707e-07,  1.42923403e-06, -2.73735672e-07],\n",
       "        ...,\n",
       "        [ 1.45618474e-06, -2.77609289e-07,  8.36896706e-06, ...,\n",
       "          7.64625728e-07, -1.93973529e-06, -3.94078088e-06],\n",
       "        [ 1.45899248e-06, -2.64798820e-07,  8.36238194e-06, ...,\n",
       "          7.52916634e-07, -1.95159960e-06, -3.94821024e-06],\n",
       "        [ 1.44581151e-06, -2.91215748e-07,  8.35282516e-06, ...,\n",
       "          7.60149717e-07, -1.94627082e-06, -3.94816065e-06]],\n",
       "\n",
       "       [[ 4.63670397e-06,  7.16197681e-06,  7.50911474e-06, ...,\n",
       "         -3.53036857e-06, -2.04592323e-06, -4.46317148e-06],\n",
       "        [ 6.31110048e-06,  6.50279045e-06,  6.72225285e-06, ...,\n",
       "         -2.46841931e-06, -2.13285732e-06, -4.85082912e-06],\n",
       "        [ 3.63114858e-06,  6.56715488e-06,  7.63419676e-06, ...,\n",
       "         -3.11756253e-06, -1.29609108e-06, -2.39725327e-06],\n",
       "        ...,\n",
       "        [-9.71756697e-07, -1.95062137e-06, -6.40050888e-06, ...,\n",
       "          1.06298029e-06, -6.90485835e-07,  1.50801945e-06],\n",
       "        [-9.63094234e-07, -1.94940042e-06, -6.39185476e-06, ...,\n",
       "          1.07148480e-06, -6.90142035e-07,  1.51515412e-06],\n",
       "        [-9.80739236e-07, -1.95772886e-06, -6.40966177e-06, ...,\n",
       "          1.06098819e-06, -6.86128855e-07,  1.51331925e-06]],\n",
       "\n",
       "       [[ 2.28251290e-06,  3.41452360e-06,  4.16621876e-06, ...,\n",
       "         -1.04138315e-07,  1.63915658e-06,  1.28174841e-06],\n",
       "        [ 3.83223104e-06,  4.77068853e-06,  4.83830595e-06, ...,\n",
       "          1.24764025e-06,  1.73136759e-06,  2.33930540e-06],\n",
       "        [ 9.97309834e-08,  7.09694773e-08,  6.53089881e-07, ...,\n",
       "         -1.27284300e-06,  5.61711967e-07,  6.66440070e-07],\n",
       "        ...,\n",
       "        [-6.76220798e-06, -7.41225147e-06, -8.37587357e-06, ...,\n",
       "         -9.30251122e-07, -3.27126741e-06, -1.56471634e-06],\n",
       "        [-6.75410938e-06, -7.39356661e-06, -8.37111282e-06, ...,\n",
       "         -9.18628812e-07, -3.25418758e-06, -1.55585885e-06],\n",
       "        [-6.76535845e-06, -7.41641521e-06, -8.37775421e-06, ...,\n",
       "         -9.39747751e-07, -3.27749920e-06, -1.57228541e-06]]]),\n",
       "       array([[[-6.12181902e-06, -3.27548528e-06, -7.10163975e-06, ...,\n",
       "          2.41994888e-07,  1.20949030e-07,  1.84359908e-07],\n",
       "        [-3.69920373e-06, -8.98904800e-07, -4.43321896e-06, ...,\n",
       "         -1.35963297e-06, -7.28471994e-07, -7.31129706e-07],\n",
       "        [-4.94129848e-06, -2.42281842e-06, -5.82119894e-06, ...,\n",
       "         -6.88648283e-07,  9.03350115e-09, -1.19728971e-06],\n",
       "        ...,\n",
       "        [ 2.85925925e-07,  1.19831681e-07,  1.99988842e-06, ...,\n",
       "         -2.66248405e-07, -1.01322842e-06,  1.09002292e-06],\n",
       "        [-9.40791547e-07, -2.44422889e-06,  8.32721353e-07, ...,\n",
       "          5.76888919e-07,  1.76647449e-06,  1.26976228e-06],\n",
       "        [ 4.42539662e-07, -1.35023510e-06,  2.05892301e-06, ...,\n",
       "          1.01919842e-06,  8.57941210e-08,  1.36104739e-06]],\n",
       "\n",
       "       [[-8.26983571e-07, -4.80185413e-06, -3.42069435e-06, ...,\n",
       "          4.40244341e-06,  2.78087473e-06,  7.42884445e-06],\n",
       "        [-1.83964086e-06, -4.68946886e-06, -3.44293451e-06, ...,\n",
       "          3.87178946e-06,  2.35451436e-06,  5.74131441e-06],\n",
       "        [ 1.35113752e-06, -1.67494345e-06, -1.48329765e-07, ...,\n",
       "          2.03429174e-06,  1.17851973e-06,  4.82185745e-06],\n",
       "        ...,\n",
       "        [-2.86815047e-06, -2.58260429e-07, -1.59304523e-06, ...,\n",
       "         -2.71908259e-06, -1.49923074e-06, -4.91143560e-06],\n",
       "        [-1.19836938e-06,  2.79184723e-06,  1.25158429e-06, ...,\n",
       "         -3.95034552e-06, -1.59949780e-06, -5.58174038e-06],\n",
       "        [-3.17681646e-06,  4.24280554e-07, -1.25392449e-06, ...,\n",
       "         -2.54314590e-06, -7.73995459e-07, -5.33199835e-06]],\n",
       "\n",
       "       [[-5.92101717e-06, -3.28082368e-08, -3.55532694e-06, ...,\n",
       "         -2.38342547e-06, -6.21588111e-07, -1.65573263e-06],\n",
       "        [-4.00360060e-06,  8.30842257e-07, -1.77142262e-06, ...,\n",
       "         -2.91394067e-06, -1.17896020e-06, -2.70328689e-06],\n",
       "        [-5.11653662e-06, -1.11217034e-06, -3.89999270e-06, ...,\n",
       "         -2.53517479e-08,  4.32983071e-07,  5.47175705e-07],\n",
       "        ...,\n",
       "        [ 4.48284054e-06,  1.64699924e-06,  3.04098129e-06, ...,\n",
       "          7.83227980e-07,  1.29691207e-06,  4.36595023e-07],\n",
       "        [ 5.01224089e-06,  1.84901094e-06,  2.81056857e-06, ...,\n",
       "          1.75444341e-06,  2.45836353e-06,  1.99211025e-06],\n",
       "        [ 5.82713747e-06,  1.65945137e-06,  3.81365609e-06, ...,\n",
       "          5.30569136e-07,  5.58747292e-07,  2.36223638e-07]],\n",
       "\n",
       "       ...,\n",
       "\n",
       "       [[ 1.26068383e-07, -4.29540306e-07,  3.47419202e-07, ...,\n",
       "          1.48320377e-06,  8.65761161e-07,  3.06477737e-06],\n",
       "        [-1.10869777e-06, -1.56798089e-06, -8.09209526e-07, ...,\n",
       "          8.76311660e-07,  1.66719663e-06,  3.27587390e-06],\n",
       "        [ 5.45265436e-07,  4.45542991e-07,  5.76680899e-08, ...,\n",
       "         -1.75769782e-06, -2.62126017e-06, -1.97756052e-06],\n",
       "        ...,\n",
       "        [ 7.64972150e-07,  7.35861659e-07,  1.31591117e-06, ...,\n",
       "          5.00688791e-06,  3.45280313e-06,  2.14991570e-06],\n",
       "        [ 2.04203796e-06,  1.74184787e-06,  1.76484740e-06, ...,\n",
       "          2.75809503e-06,  5.74042082e-07, -1.16417241e-06],\n",
       "        [ 9.34107900e-07,  1.02950525e-06,  1.71243453e-06, ...,\n",
       "          3.43318176e-06,  1.83650208e-06,  7.39779472e-08]],\n",
       "\n",
       "       [[-2.58523077e-07, -2.46433258e-06, -3.76023948e-07, ...,\n",
       "          3.81911445e-06,  2.54349017e-06,  2.35872531e-06],\n",
       "        [ 4.98169720e-07, -1.40847135e-06,  2.13839814e-07, ...,\n",
       "          2.65449452e-06,  1.88909984e-06,  1.56992805e-06],\n",
       "        [-1.14654303e-06, -2.62605381e-06, -5.58807492e-07, ...,\n",
       "          3.85314751e-06,  3.00030160e-06,  2.91478372e-06],\n",
       "        ...,\n",
       "        [ 1.43160784e-06,  1.88259745e-06,  9.53422308e-07, ...,\n",
       "         -1.07022405e-07,  5.57732224e-07, -1.04497939e-07],\n",
       "        [ 1.28490448e-07,  1.69002318e-06,  4.31686521e-07, ...,\n",
       "          2.83603907e-07,  7.69327164e-07,  1.41376615e-07],\n",
       "        [ 1.20504427e-06,  2.92844605e-06,  1.00170147e-06, ...,\n",
       "         -1.76367152e-06, -7.49080956e-07, -1.71438038e-06]],\n",
       "\n",
       "       [[-2.66722894e-06, -3.17583179e-06, -3.05178332e-06, ...,\n",
       "         -1.84370470e-06, -6.59463048e-07,  4.91397619e-07],\n",
       "        [-1.43087995e-06, -1.87829709e-06, -1.15029979e-06, ...,\n",
       "         -1.96830225e-06, -1.35137129e-06, -6.46023273e-07],\n",
       "        [-1.65651584e-06, -2.53803420e-06, -3.44697285e-06, ...,\n",
       "         -2.27393627e-06, -9.79670882e-07, -7.44725585e-07],\n",
       "        ...,\n",
       "        [ 2.81518221e-06,  4.18497562e-06,  2.52144480e-06, ...,\n",
       "          1.96235609e-06,  2.18990874e-06,  2.64116526e-06],\n",
       "        [ 3.56312990e-06,  3.28949904e-06,  1.80832577e-06, ...,\n",
       "          2.04633451e-06,  2.58118129e-06,  1.72674656e-06],\n",
       "        [ 1.61804533e-06,  2.62646818e-06,  1.29820788e-06, ...,\n",
       "          2.39888191e-06,  3.16580820e-06,  2.82726121e-06]]]),\n",
       "       array([[[ 4.85472858e-07, -1.00281167e-06, -2.45666504e-06, ...,\n",
       "         -5.38295412e-06, -4.60877419e-06, -3.36911893e-06],\n",
       "        [ 3.21551681e-06,  2.00823569e-06,  1.06874871e-06, ...,\n",
       "         -3.27847886e-06, -2.43746996e-06, -2.37500596e-06],\n",
       "        [-3.40072870e-07, -2.31488919e-06, -3.37946653e-06, ...,\n",
       "         -3.01684475e-06, -3.06982946e-06, -2.39488935e-06],\n",
       "        ...,\n",
       "        [-3.07734132e-06, -3.38104844e-07,  2.00992870e-06, ...,\n",
       "         -8.30285549e-07,  4.55694616e-07,  1.02753632e-07],\n",
       "        [-3.52571225e-06, -2.79261398e-06, -2.08740377e-06, ...,\n",
       "         -6.51659369e-08,  6.26750588e-07,  6.97431028e-07],\n",
       "        [-3.64612579e-06, -8.65236521e-07,  7.64195919e-07, ...,\n",
       "          1.19886971e-06,  1.25490689e-06,  1.44065213e-06]],\n",
       "\n",
       "       [[-6.15241671e-06, -6.11465454e-06, -6.79165745e-06, ...,\n",
       "          2.52352619e-06,  3.49233794e-06,  9.32406068e-07],\n",
       "        [-5.25755262e-06, -5.27371550e-06, -6.85448790e-06, ...,\n",
       "          1.45300627e-06,  2.21565104e-06,  4.55711186e-07],\n",
       "        [-3.32041931e-06, -2.77148509e-06, -3.76623011e-06, ...,\n",
       "          4.73220140e-07,  1.53562367e-06, -3.81986707e-07],\n",
       "        ...,\n",
       "        [ 5.92812967e-06,  5.89559746e-06,  9.64824963e-06, ...,\n",
       "          9.11062121e-07,  9.62172389e-07,  3.47492242e-06],\n",
       "        [ 7.13634205e-06,  8.30601692e-06,  9.59192467e-06, ...,\n",
       "         -1.28415041e-08,  7.31464177e-08,  1.53817105e-06],\n",
       "        [ 6.93786335e-06,  6.41202116e-06,  8.11734009e-06, ...,\n",
       "         -6.11029744e-07, -1.21546531e-06,  1.06543827e-06]],\n",
       "\n",
       "       [[ 1.65349913e-06,  2.11826503e-07, -8.81660581e-07, ...,\n",
       "          1.23857045e-06,  7.61530876e-07,  9.81491685e-07],\n",
       "        [ 8.39241087e-07, -1.21936417e-06, -1.03519773e-06, ...,\n",
       "          1.86136529e-07, -1.19378202e-07,  3.07614118e-07],\n",
       "        [ 2.44483501e-07, -6.25099063e-07, -1.54019189e-06, ...,\n",
       "          3.48124099e-06,  3.06891894e-06,  2.10539341e-06],\n",
       "        ...,\n",
       "        [ 3.98078179e-06,  4.48511028e-06,  5.40775919e-06, ...,\n",
       "          6.73662090e-06,  6.04378271e-06,  5.57241440e-06],\n",
       "        [ 2.95940733e-06,  2.09694242e-06,  2.83563185e-06, ...,\n",
       "          5.50881958e-06,  5.42023182e-06,  5.39354038e-06],\n",
       "        [ 6.34514213e-07,  2.38383055e-06,  2.90358496e-06, ...,\n",
       "          2.13392234e-06,  1.22993457e-06,  1.88325739e-06]],\n",
       "\n",
       "       ...,\n",
       "\n",
       "       [[-8.03827095e-06, -5.85747719e-06, -8.80178738e-06, ...,\n",
       "         -4.53352404e-06, -6.26401615e-06, -6.41949463e-06],\n",
       "        [-7.34164429e-06, -4.36365366e-06, -7.45451164e-06, ...,\n",
       "         -3.41553974e-06, -3.71179128e-06, -3.52918887e-06],\n",
       "        [-7.91533470e-06, -5.59928989e-06, -6.27020741e-06, ...,\n",
       "         -3.58326411e-06, -4.48492908e-06, -5.10511732e-06],\n",
       "        ...,\n",
       "        [ 4.76819468e-06,  5.64370346e-06,  8.62907219e-06, ...,\n",
       "          2.93366194e-06,  3.25507545e-06,  4.20832062e-06],\n",
       "        [ 3.06730700e-06,  3.35255194e-06,  7.11575365e-06, ...,\n",
       "          3.58869600e-06,  3.05476737e-06,  3.38535357e-06],\n",
       "        [ 1.19636574e-05,  6.36179113e-06,  9.34893799e-06, ...,\n",
       "          2.06776404e-06,  3.02964640e-06,  2.74880147e-06]],\n",
       "\n",
       "       [[ 8.83821487e-06,  5.75914669e-06,  4.47085857e-06, ...,\n",
       "          3.19812870e-06,  8.48461390e-07, -2.56650639e-06],\n",
       "        [ 7.03684807e-06,  4.09539127e-06,  2.68741035e-06, ...,\n",
       "          2.49300981e-06,  1.64039993e-06, -1.21428430e-06],\n",
       "        [ 8.19986153e-06,  5.05775404e-06,  5.20871735e-06, ...,\n",
       "          1.78488410e-06,  5.63233018e-07, -2.85317349e-06],\n",
       "        ...,\n",
       "        [-7.18950272e-06, -3.68684292e-06, -3.80237269e-06, ...,\n",
       "         -4.09947777e-06, -3.39658141e-06, -1.62664175e-06],\n",
       "        [-2.14586115e-06, -1.15101123e-06,  1.13143897e-06, ...,\n",
       "         -2.49558997e-06, -2.57196665e-06, -4.03623152e-06],\n",
       "        [-9.80028439e-06, -4.95367050e-06, -3.95298862e-06, ...,\n",
       "         -2.13283420e-06, -1.51705241e-06,  3.10544157e-06]],\n",
       "\n",
       "       [[-1.20330691e-06, -1.34788081e-07, -1.11662853e-06, ...,\n",
       "          5.36285734e-06,  3.66401339e-06,  3.86359549e-06],\n",
       "        [-1.12638223e-06, -9.35250282e-07, -2.50823045e-06, ...,\n",
       "          3.93019414e-06,  3.00180054e-06,  1.94151068e-06],\n",
       "        [-4.64738965e-07, -4.90402043e-07, -7.73319483e-07, ...,\n",
       "          5.70308208e-06,  4.68235826e-06,  4.46327972e-06],\n",
       "        ...,\n",
       "        [ 4.43541527e-06,  6.55362225e-06,  7.50971127e-06, ...,\n",
       "         -1.26876612e-05, -1.25496349e-05, -1.30216322e-05],\n",
       "        [ 7.17786074e-06,  8.52522659e-06,  8.87989330e-06, ...,\n",
       "         -5.27266073e-06, -6.15730810e-06, -6.70639229e-06],\n",
       "        [ 2.75907469e-06,  3.68286324e-06,  5.71849918e-06, ...,\n",
       "         -8.00106621e-06, -6.88253641e-06, -4.38023138e-06]]]),\n",
       "       array([[[ 2.54390979e-06,  3.71294141e-06,  4.06694651e-06, ...,\n",
       "          3.49550557e-06,  2.22010827e-06,  3.12654924e-06],\n",
       "        [ 2.25141549e-06,  3.85836554e-06,  3.38287091e-06, ...,\n",
       "          2.02468014e-06,  1.20282912e-06,  1.96762335e-06],\n",
       "        [ 1.64699697e-06,  2.26226592e-06,  3.31295729e-06, ...,\n",
       "          2.98082328e-06,  1.77037883e-06,  1.93840456e-06],\n",
       "        ...,\n",
       "        [-2.25245190e-06, -2.39438564e-09, -2.04902816e-06, ...,\n",
       "          3.70406657e-07, -2.98229843e-07,  1.29133254e-07],\n",
       "        [-4.32534075e-06, -4.12344122e-06, -3.73203611e-06, ...,\n",
       "          6.32368445e-07,  8.08683336e-07,  8.14325571e-07],\n",
       "        [-3.22194910e-06, -5.32461214e-06, -5.16973591e-06, ...,\n",
       "         -3.24331760e-06, -1.78702736e-06, -3.21713829e-06]],\n",
       "\n",
       "       [[-3.39090347e-07,  1.06693375e-06, -2.06725419e-07, ...,\n",
       "         -2.32850790e-06, -1.40760511e-07,  1.21451005e-07],\n",
       "        [-1.75411189e-06, -3.42687339e-07, -1.17896509e-06, ...,\n",
       "         -1.07073629e-06, -3.00316066e-07,  7.00581312e-07],\n",
       "        [ 2.39637876e-06,  2.72797990e-06,  1.13753092e-06, ...,\n",
       "         -1.11198926e-06,  9.90547121e-07,  6.33818626e-07],\n",
       "        ...,\n",
       "        [ 2.31676206e-07, -2.75902987e-07,  1.79811668e-06, ...,\n",
       "          3.71231174e-06,  1.51507545e-06,  2.91034460e-06],\n",
       "        [ 3.89790750e-06,  3.56264997e-06,  4.98376465e-06, ...,\n",
       "          1.87532496e-06,  2.22661996e-06,  2.22046185e-06],\n",
       "        [ 2.01127362e-06,  9.25372615e-08,  1.56307292e-06, ...,\n",
       "          1.62902868e-06,  2.42865175e-07, -1.14317858e-06]],\n",
       "\n",
       "       [[-1.45612395e-06, -1.93584657e-06, -3.03360462e-07, ...,\n",
       "          2.03331375e-06,  1.62418342e-06,  1.62966716e-06],\n",
       "        [ 1.18957186e-06, -1.48628235e-07,  1.87350619e-06, ...,\n",
       "          1.69092071e-06,  1.46510637e-06,  8.93641770e-07],\n",
       "        [-3.73788667e-06, -3.96485281e-06, -3.15556979e-06, ...,\n",
       "          1.10320175e-06,  9.89557922e-07,  1.31200600e-06],\n",
       "        ...,\n",
       "        [ 1.19153142e-06, -1.59110904e-06, -1.43346047e-06, ...,\n",
       "         -1.12338305e-06, -3.74845815e-06, -2.47317958e-06],\n",
       "        [-2.36286783e-06, -2.15556979e-06, -3.63125682e-06, ...,\n",
       "         -4.16667759e-07, -2.05388570e-06, -2.28107199e-07],\n",
       "        [ 1.17698348e-06,  2.69899869e-06,  1.82042682e-06, ...,\n",
       "          8.32863927e-07,  6.30761385e-07,  1.45979655e-06]],\n",
       "\n",
       "       ...,\n",
       "\n",
       "       [[ 4.16034460e-08,  1.44760406e-06,  3.49099422e-06, ...,\n",
       "          2.63326097e-06, -1.73894137e-07,  1.54932082e-06],\n",
       "        [-1.56664109e-06, -3.83899570e-07,  1.22128296e-06, ...,\n",
       "          2.33414960e-06,  6.72883272e-07,  1.91038668e-06],\n",
       "        [ 1.82333350e-06,  2.22001815e-06,  3.78205895e-06, ...,\n",
       "          2.02877426e-06,  1.71071142e-08,  1.77400351e-06],\n",
       "        ...,\n",
       "        [ 2.71867275e-06,  2.28722024e-06,  2.33536029e-06, ...,\n",
       "         -5.60541487e-06, -3.58179712e-06, -3.72917485e-06],\n",
       "        [ 3.72253752e-06,  3.28831339e-06,  2.21480560e-06, ...,\n",
       "         -4.90255880e-06, -2.83065891e-06, -2.73479319e-06],\n",
       "        [-5.68511069e-07, -2.29590440e-06, -3.50382495e-06, ...,\n",
       "         -2.88240409e-06,  3.19187284e-07, -2.73242474e-06]],\n",
       "\n",
       "       [[ 1.24270630e-06,  2.03470111e-06,  4.51348543e-06, ...,\n",
       "          6.37123823e-07, -5.31167686e-07,  8.15575480e-07],\n",
       "        [-7.99665034e-07,  4.61818606e-07,  1.58474231e-06, ...,\n",
       "          6.44355536e-07, -4.72024918e-07, -9.89165723e-07],\n",
       "        [ 3.82922125e-06,  3.90534949e-06,  6.86017513e-06, ...,\n",
       "         -7.21154869e-07, -8.24606240e-07,  8.39664340e-07],\n",
       "        ...,\n",
       "        [-7.34312534e-06, -4.87849474e-06, -9.58350945e-06, ...,\n",
       "          5.02400446e-06,  4.53981876e-06,  4.07914782e-06],\n",
       "        [-3.11688125e-07, -1.86030388e-07, -1.62679875e-06, ...,\n",
       "          2.30589557e-06,  2.51309919e-06,  4.03980446e-06],\n",
       "        [-4.26408291e-06, -4.09655857e-06, -6.73859501e-06, ...,\n",
       "          2.41207790e-06,  2.72277451e-06,  3.02838778e-06]],\n",
       "\n",
       "       [[ 3.04523408e-07, -1.25463200e-06,  1.43110371e-06, ...,\n",
       "          1.90338767e-06,  1.33157539e-06,  2.71379828e-06],\n",
       "        [-8.72105777e-07, -1.65800524e-06,  3.29041213e-07, ...,\n",
       "          1.38989878e-06,  1.17948806e-06,  2.17240715e-06],\n",
       "        [ 1.09091401e-06,  8.60496879e-07,  2.19154525e-06, ...,\n",
       "          8.23243022e-07,  4.40842807e-07,  1.78754187e-06],\n",
       "        ...,\n",
       "        [ 6.58850956e-06,  5.70285940e-06,  7.01182699e-06, ...,\n",
       "          4.40206480e-06,  4.22511101e-06,  2.96718884e-06],\n",
       "        [ 7.71851683e-06,  7.45622587e-06,  8.50171852e-06, ...,\n",
       "          3.69263029e-06,  3.82232881e-06,  2.88497829e-06],\n",
       "        [-1.12310600e-06, -1.78399265e-06, -1.97727489e-06, ...,\n",
       "         -2.78571534e-06, -2.63248253e-06, -4.67168856e-06]]]),\n",
       "       array([[[ 3.52280951e-06,  1.70540857e-06,  2.27059317e-06, ...,\n",
       "          2.21620870e-06,  1.59140933e-06, -1.70651883e-07],\n",
       "        [ 2.97050261e-06,  1.71575153e-06,  1.98919666e-06, ...,\n",
       "          1.84035575e-06,  1.92523825e-06,  5.09534925e-08],\n",
       "        [ 2.80053520e-06,  1.27747762e-06,  1.85147870e-06, ...,\n",
       "          1.69285679e-06,  5.05155325e-07, -4.11977440e-07],\n",
       "        ...,\n",
       "        [-1.03668761e-06, -9.16320801e-07, -1.30342090e-06, ...,\n",
       "          5.67092478e-07,  2.92174786e-07,  1.43329096e-06],\n",
       "        [-2.47925115e-06, -2.11826181e-06, -2.00940156e-06, ...,\n",
       "          4.59866971e-07, -6.26843154e-07,  4.99788970e-07],\n",
       "        [-2.56212211e-06, -1.73664880e-06, -1.80758667e-06, ...,\n",
       "         -1.48566556e-06, -1.70375752e-06,  7.59150237e-08]],\n",
       "\n",
       "       [[-2.25569272e-06, -3.19300246e-06, -7.91072622e-08, ...,\n",
       "          4.57250929e-06,  4.00598621e-06,  2.64127707e-06],\n",
       "        [-1.84434068e-06, -1.80491114e-06,  1.20783336e-07, ...,\n",
       "          3.63763285e-06,  2.53139806e-06,  2.04640079e-06],\n",
       "        [-1.69128621e-06, -3.22236228e-06, -3.35893273e-07, ...,\n",
       "          3.78830409e-06,  4.11883450e-06,  2.47092175e-06],\n",
       "        ...,\n",
       "        [ 1.61500049e-06,  3.37776208e-06,  1.84933686e-06, ...,\n",
       "         -1.38316226e-06, -2.16565704e-06, -1.05627096e-06],\n",
       "        [ 2.70665503e-06,  3.57487011e-06,  2.73052478e-06, ...,\n",
       "         -8.09088230e-07, -1.09083641e-06, -6.94185853e-07],\n",
       "        [ 1.74131668e-06,  2.64373732e-06,  2.69568503e-07, ...,\n",
       "         -3.50488234e-06, -4.40258026e-06, -2.82926416e-06]],\n",
       "\n",
       "       [[ 1.77782106e-06,  1.94752038e-06,  1.46353734e-06, ...,\n",
       "         -5.21884775e-06, -5.04745960e-06, -3.10503149e-06],\n",
       "        [ 1.13445210e-06,  6.12349391e-07,  1.21296656e-06, ...,\n",
       "         -4.40828848e-06, -3.76224852e-06, -2.76335526e-06],\n",
       "        [ 1.74176586e-06,  2.23824072e-06,  1.37515366e-06, ...,\n",
       "         -3.55705428e-06, -4.14676428e-06, -2.00851154e-06],\n",
       "        ...,\n",
       "        [-7.50959635e-07, -1.54798031e-06,  3.46136272e-07, ...,\n",
       "          3.96475267e-06,  4.21725607e-06,  2.76737928e-06],\n",
       "        [-5.29202163e-07, -2.54965246e-07, -9.17862207e-08, ...,\n",
       "          3.44112778e-06,  3.61414909e-06,  2.56009889e-06],\n",
       "        [-6.81852520e-07, -1.30118847e-06, -3.82186323e-07, ...,\n",
       "          5.08812571e-06,  5.29234266e-06,  2.74345851e-06]],\n",
       "\n",
       "       ...,\n",
       "\n",
       "       [[-8.54085684e-07, -7.21508443e-07,  5.77239871e-07, ...,\n",
       "          1.22361399e-07,  5.83292961e-07,  3.94349813e-07],\n",
       "        [-6.10661149e-07, -1.32494688e-06, -1.05968082e-06, ...,\n",
       "          2.46552050e-07, -1.85305774e-07, -1.82242781e-07],\n",
       "        [-6.37570798e-07, -3.58705103e-07,  1.66328192e-06, ...,\n",
       "          1.50717050e-07,  9.56691206e-07,  9.70152020e-07],\n",
       "        ...,\n",
       "        [ 3.37544131e-06,  3.95844197e-06,  1.97296798e-06, ...,\n",
       "          1.83014286e-06,  6.20063186e-07,  7.84196258e-07],\n",
       "        [ 4.47433376e-06,  6.08982134e-06,  4.72097349e-06, ...,\n",
       "          1.42566609e-06,  8.78125668e-07,  1.44682336e-06],\n",
       "        [ 2.17771459e-06,  3.50049329e-06,  1.99567902e-06, ...,\n",
       "          2.20724627e-07,  3.23578447e-07,  6.33032143e-07]],\n",
       "\n",
       "       [[ 4.17335451e-07,  8.21183741e-07, -3.17637801e-07, ...,\n",
       "          3.25271547e-07,  1.18003356e-06,  1.98288834e-06],\n",
       "        [ 4.06598836e-07,  6.67570651e-07, -3.38382274e-08, ...,\n",
       "          1.17858134e-07,  6.61787748e-07,  1.50102258e-06],\n",
       "        [ 1.06132716e-07,  1.73433468e-07, -8.33468854e-07, ...,\n",
       "          4.02000874e-07,  9.64766860e-07,  1.17639077e-06],\n",
       "        ...,\n",
       "        [-7.21115410e-07, -1.18631005e-06, -1.68079221e-06, ...,\n",
       "          3.05481087e-08,  9.26237822e-07,  1.09800112e-06],\n",
       "        [-3.73381555e-07, -3.95370692e-07, -1.39333868e-06, ...,\n",
       "          4.28570598e-07,  1.24473023e-06,  1.32217050e-06],\n",
       "        [-8.79125834e-07, -1.56854892e-06, -1.07262754e-06, ...,\n",
       "          1.09186862e-09,  3.02967608e-07,  1.21856190e-07]],\n",
       "\n",
       "       [[-7.57394135e-07,  7.10176349e-07,  1.27256465e-06, ...,\n",
       "         -9.85978544e-07, -2.45915365e-06, -2.32388568e-06],\n",
       "        [-1.54226768e-06, -4.98145014e-07,  6.93689167e-07, ...,\n",
       "         -1.31658924e-06, -2.28583169e-06, -1.97193015e-06],\n",
       "        [ 4.38228846e-07,  1.28470957e-06,  1.22854459e-06, ...,\n",
       "          7.82320976e-07, -9.01468039e-07, -1.02443194e-06],\n",
       "        ...,\n",
       "        [-1.80262542e-06, -2.33190846e-06, -3.05920124e-06, ...,\n",
       "          7.59311140e-07,  1.80582166e-06,  2.12720180e-06],\n",
       "        [-8.62203240e-07, -1.26509714e-06, -3.24898100e-06, ...,\n",
       "          1.91158116e-06,  2.72426319e-06,  3.27532434e-06],\n",
       "        [ 1.42925334e-06,  6.02710009e-07, -6.59204841e-07, ...,\n",
       "          4.39471602e-08,  1.89635015e-06,  1.83440709e-06]]]),\n",
       "       array([[[ 5.72518015e-06,  4.88945818e-06,  2.73860812e-06, ...,\n",
       "          1.96722364e-06, -5.02581835e-07, -1.83879638e-06],\n",
       "        [ 2.89529872e-06,  2.45986438e-06,  5.92810810e-07, ...,\n",
       "          1.82217085e-06,  2.99372315e-07, -8.16529453e-07],\n",
       "        [ 4.39602423e-06,  4.55503321e-06,  2.93443918e-06, ...,\n",
       "          1.07075691e-06, -1.36983228e-06, -2.27957392e-06],\n",
       "        ...,\n",
       "        [-1.46317935e-06, -2.01075411e-06, -1.76743269e-08, ...,\n",
       "         -2.31256819e-06,  9.05229509e-07,  5.87417603e-07],\n",
       "        [ 1.49974751e-06,  2.30164719e-06,  3.86464882e-06, ...,\n",
       "         -4.20323753e-06, -1.87401783e-06, -1.57103741e-06],\n",
       "        [-1.82962990e-06, -2.16651964e-06, -6.24073386e-07, ...,\n",
       "         -2.83926821e-06,  1.77888513e-07, -2.70191133e-07]],\n",
       "\n",
       "       [[ 1.58922935e-06, -8.05320203e-07,  8.35775316e-07, ...,\n",
       "          6.51189041e-06,  5.16435671e-06,  6.99768877e-06],\n",
       "        [-1.88144863e-07, -1.73001170e-06, -6.71692252e-07, ...,\n",
       "          3.89600849e-06,  3.68613625e-06,  4.30339384e-06],\n",
       "        [ 2.47357416e-06,  8.80027473e-07,  2.13156152e-06, ...,\n",
       "          5.30928135e-06,  4.00479078e-06,  5.63634872e-06],\n",
       "        ...,\n",
       "        [-4.71729279e-06, -3.08162165e-06, -3.50134134e-06, ...,\n",
       "         -8.50588703e-06, -1.15747681e-05, -8.04592896e-06],\n",
       "        [-5.19006491e-07,  3.86129200e-07,  4.65041399e-08, ...,\n",
       "         -5.98203087e-06, -6.65239906e-06, -4.87792301e-06],\n",
       "        [-4.34904957e-06, -2.27453613e-06, -2.80914831e-06, ...,\n",
       "         -6.45479393e-06, -8.52049446e-06, -5.49335051e-06]],\n",
       "\n",
       "       [[ 5.25535679e-06,  4.77044153e-06,  3.43651414e-06, ...,\n",
       "         -6.85152769e-06, -6.90633357e-08, -2.26331615e-06],\n",
       "        [ 2.75250793e-06,  2.71385193e-06,  2.72729897e-06, ...,\n",
       "         -5.52469540e-06, -9.61923897e-07, -2.45242357e-06],\n",
       "        [ 5.82767200e-06,  5.26474667e-06,  3.40485477e-06, ...,\n",
       "         -4.46351767e-06,  8.57640266e-07, -1.06235981e-06],\n",
       "        ...,\n",
       "        [-4.26174164e-06, -7.63136578e-06, -3.55716848e-06, ...,\n",
       "          8.38092709e-06,  1.95128703e-06,  5.38425255e-06],\n",
       "        [-3.40760827e-06, -5.45970154e-06, -4.54516315e-06, ...,\n",
       "          5.95167303e-06,  2.94715858e-06,  4.45521021e-06],\n",
       "        [-4.22619152e-06, -8.03650570e-06, -3.94704723e-06, ...,\n",
       "          6.57001543e-06,  9.82078612e-07,  3.94423604e-06]],\n",
       "\n",
       "       ...,\n",
       "\n",
       "       [[ 4.51441431e-06,  3.34263396e-06,  4.87279415e-06, ...,\n",
       "          8.99460602e-06,  8.64656925e-06,  4.53978682e-06],\n",
       "        [ 3.82928228e-06,  2.99620438e-06,  4.29907703e-06, ...,\n",
       "          6.88319969e-06,  5.74180222e-06,  2.80222416e-06],\n",
       "        [ 2.73977041e-06,  1.57824266e-06,  2.64064932e-06, ...,\n",
       "          7.42918968e-06,  7.80209875e-06,  3.83584142e-06],\n",
       "        ...,\n",
       "        [-4.57232952e-07, -1.78659260e-06, -1.29811287e-06, ...,\n",
       "         -1.35154133e-05, -1.41397114e-05, -1.11642179e-05],\n",
       "        [-3.67334175e-06, -2.50577450e-06, -4.97398376e-06, ...,\n",
       "         -1.59251289e-05, -1.13757229e-05, -9.07269001e-06],\n",
       "        [ 8.26590657e-07,  7.97501355e-08, -1.02511930e-06, ...,\n",
       "         -1.38709879e-05, -1.12484255e-05, -8.18600750e-06]],\n",
       "\n",
       "       [[ 1.14343345e-06, -1.47581458e-07, -1.25798690e-06, ...,\n",
       "          1.22059507e-05,  1.56380453e-05,  1.41229115e-05],\n",
       "        [ 1.47987354e-06,  7.15387940e-07, -6.40643239e-07, ...,\n",
       "          5.68124151e-06,  9.79716015e-06,  6.88208437e-06],\n",
       "        [-8.48542035e-07, -1.87445855e-06, -2.60005641e-06, ...,\n",
       "          1.24925413e-05,  1.51047201e-05,  1.48821898e-05],\n",
       "        ...,\n",
       "        [-1.86883974e-06,  1.89739257e-07,  4.15118313e-06, ...,\n",
       "         -9.69958019e-06, -1.34906902e-05, -1.27766132e-05],\n",
       "        [-5.81008816e-06, -6.80248165e-06, -3.55493498e-06, ...,\n",
       "         -6.27871418e-06, -9.09451771e-06, -6.99971867e-06],\n",
       "        [-6.24294376e-06, -3.26724863e-06, -2.36093789e-07, ...,\n",
       "         -5.57470608e-06, -1.31797838e-05, -8.81412983e-06]],\n",
       "\n",
       "       [[ 2.88635373e-06,  3.55934501e-06,  4.83226871e-06, ...,\n",
       "         -5.99355602e-06, -6.46470070e-06, -6.37439775e-06],\n",
       "        [ 7.74378479e-07,  8.96870613e-07,  1.62941456e-06, ...,\n",
       "         -5.08409023e-06, -4.99599981e-06, -5.42797947e-06],\n",
       "        [ 1.98890758e-06,  3.86549687e-06,  6.30024338e-06, ...,\n",
       "         -3.86093092e-06, -3.80201292e-06, -3.78753448e-06],\n",
       "        ...,\n",
       "        [ 4.87943077e-06,  4.83424664e-07, -2.94687748e-07, ...,\n",
       "          2.14055252e-06,  2.83613586e-06,  2.62107706e-06],\n",
       "        [ 1.73931539e-06,  2.40771699e-06,  2.23584652e-06, ...,\n",
       "          4.56818771e-06,  3.49859643e-06,  3.66153574e-06],\n",
       "        [ 3.25112104e-06, -8.03316832e-08,  4.80870277e-07, ...,\n",
       "          2.01669812e-06,  4.66496468e-07,  2.27791023e-06]]]),\n",
       "       array([[[ 1.99139631e-06, -6.29997432e-07,  2.24828267e-06, ...,\n",
       "          2.49103999e-06,  2.25050545e-06,  3.34242702e-06],\n",
       "        [ 6.78745627e-07, -1.28085506e-06,  1.37448573e-06, ...,\n",
       "          2.68031311e-06,  2.40823793e-06,  4.45052671e-06],\n",
       "        [ 1.08913219e-06, -1.47726393e-06, -2.80929729e-08, ...,\n",
       "          1.97820091e-06,  2.51773787e-06,  1.02422237e-06],\n",
       "        ...,\n",
       "        [ 1.60261381e-06,  4.36060143e-06,  3.21627116e-06, ...,\n",
       "         -8.03264737e-07, -8.10959756e-07,  1.05428743e-06],\n",
       "        [ 6.05500221e-07,  4.93277597e-06, -6.00139678e-07, ...,\n",
       "         -2.84131193e-06, -6.27261305e-06, -7.16432238e-06],\n",
       "        [ 8.81954908e-07,  4.03608370e-06,  1.58695972e-06, ...,\n",
       "         -7.79265285e-07, -1.31689465e-06, -8.38904083e-07]],\n",
       "\n",
       "       [[-2.78439164e-06, -2.01952338e-06, -6.34275317e-07, ...,\n",
       "         -4.74075437e-07,  5.29005229e-08,  7.50978589e-07],\n",
       "        [-9.69746232e-07,  4.69721228e-07,  1.09091318e-06, ...,\n",
       "          8.26295316e-07,  7.40315199e-07,  1.75921559e-06],\n",
       "        [-2.05603790e-06, -2.60674357e-06, -5.27905345e-07, ...,\n",
       "         -1.30956507e-06, -1.06886411e-06, -1.04623604e-06],\n",
       "        ...,\n",
       "        [ 3.27574110e-06,  3.25012922e-06, -3.07308257e-07, ...,\n",
       "          4.01763618e-07,  1.74330997e-06,  7.02365398e-07],\n",
       "        [ 2.90295458e-06,  6.02709055e-07, -3.95642787e-07, ...,\n",
       "         -5.95818162e-08,  6.37075901e-08, -1.56106174e-06],\n",
       "        [ 4.12394851e-07,  9.14958119e-09, -1.57388651e-06, ...,\n",
       "          1.55603170e-06,  2.46652126e-06,  3.13767195e-07]],\n",
       "\n",
       "       [[-6.16642237e-07, -2.88583815e-07, -1.74238503e-06, ...,\n",
       "          9.24368680e-07,  2.25147915e-06,  7.20069945e-07],\n",
       "        [-8.34024191e-07, -1.25505602e-06, -2.13121319e-06, ...,\n",
       "          3.57260323e-06,  4.37297440e-06,  2.29467058e-06],\n",
       "        [ 2.78258681e-07,  1.34659243e-06, -3.83562893e-07, ...,\n",
       "         -1.13512397e-06, -2.96454012e-07, -5.62385380e-07],\n",
       "        ...,\n",
       "        [ 3.09129655e-07, -1.89638162e-06,  3.11942637e-07, ...,\n",
       "          1.75676838e-07, -9.67351198e-08,  1.25608861e-06],\n",
       "        [-3.49326110e-06, -3.73336375e-07, -1.83014011e-06, ...,\n",
       "         -4.02334833e-06, -1.43672192e-06, -1.20192552e-06],\n",
       "        [ 1.08190954e-06, -9.44010675e-07,  4.42236871e-07, ...,\n",
       "         -4.16327286e-06, -3.90570378e-06, -1.99415696e-06]],\n",
       "\n",
       "       ...,\n",
       "\n",
       "       [[ 3.95160139e-07, -1.57511568e-06, -1.96154356e-06, ...,\n",
       "         -3.34250480e-07, -2.33475900e-06, -1.92575836e-06],\n",
       "        [-4.85344172e-07, -2.29739928e-06, -2.84691954e-06, ...,\n",
       "          6.95114017e-07, -1.63058901e-06, -1.83172822e-06],\n",
       "        [ 5.49887240e-07, -6.95905089e-07, -3.29659460e-09, ...,\n",
       "         -1.53552270e-06, -2.02472711e-06, -4.78966981e-07],\n",
       "        ...,\n",
       "        [ 2.28505993e-06,  2.81752253e-06,  1.02487910e-06, ...,\n",
       "         -3.08066607e-06, -1.57219243e-06, -1.91948318e-06],\n",
       "        [ 9.18870449e-07,  3.58572364e-06,  5.67915082e-07, ...,\n",
       "         -5.34569168e-06, -2.06501842e-07,  2.27865076e-06],\n",
       "        [ 4.72205877e-07,  2.49290633e-06,  1.49513578e-06, ...,\n",
       "          1.60000515e-06,  2.27448416e-06,  1.36590183e-06]],\n",
       "\n",
       "       [[-1.06840467e-06, -4.51851517e-07,  6.11902893e-07, ...,\n",
       "         -7.09135085e-09,  2.14148545e-06,  4.23028088e-06],\n",
       "        [-7.16742158e-07, -8.76841247e-08,  1.95633495e-06, ...,\n",
       "         -5.68327308e-07,  1.50565231e-06,  3.65296125e-06],\n",
       "        [-5.12834787e-07, -7.71668911e-07, -3.26199442e-07, ...,\n",
       "          1.27631307e-06,  3.31528640e-06,  4.09163857e-06],\n",
       "        ...,\n",
       "        [ 4.22773361e-06,  3.87408543e-06,  2.12407207e-06, ...,\n",
       "         -7.76095390e-08, -4.68295431e-06, -4.88756084e-06],\n",
       "        [-1.55632448e-06, -5.60129547e-06, -8.67889214e-06, ...,\n",
       "          2.50823760e-06, -3.55335689e-06, -8.33926487e-06],\n",
       "        [ 2.46730781e-06,  1.98577929e-06, -5.52781284e-07, ...,\n",
       "          1.29711211e-06, -1.99687552e-06, -2.55646610e-06]],\n",
       "\n",
       "       [[ 1.94841218e-06, -1.49072087e-06, -1.42872787e-06, ...,\n",
       "          2.70548105e-06,  3.97243232e-07,  1.25036359e-06],\n",
       "        [-1.13512778e-06, -4.22650337e-06, -4.17653131e-06, ...,\n",
       "          4.61450195e-06,  2.35781074e-06,  2.83256602e-06],\n",
       "        [ 4.48467541e-06,  2.94358540e-06,  4.13709974e-06, ...,\n",
       "         -5.59261620e-07, -2.45025897e-06, -1.57215846e-06],\n",
       "        ...,\n",
       "        [-7.99264812e-06, -5.14902973e-06, -5.14622450e-06, ...,\n",
       "         -3.75988984e-06, -1.93081903e-06, -2.77127528e-06],\n",
       "        [ 8.39630508e-06,  7.70267391e-06,  5.63096762e-06, ...,\n",
       "         -4.55157804e-06, -4.43650341e-06, -3.57339239e-06],\n",
       "        [-1.78153038e-06,  2.63813424e-06,  2.57232666e-06, ...,\n",
       "         -6.01208067e-06, -2.40442109e-06, -3.18421364e-06]]])],\n",
       "      dtype=object)"
      ]
     },
     "execution_count": 96,
     "metadata": {},
     "output_type": "execute_result"
    }
   ],
   "source": [
    "pp_rh_raw"
   ]
  },
  {
   "cell_type": "code",
   "execution_count": null,
   "metadata": {},
   "outputs": [],
   "source": []
  },
  {
   "cell_type": "code",
   "execution_count": 82,
   "metadata": {},
   "outputs": [
    {
     "data": {
      "text/plain": [
       "(61, 1250)"
      ]
     },
     "execution_count": 82,
     "metadata": {},
     "output_type": "execute_result"
    }
   ],
   "source": [
    "pp_rh_raw[4][3].shape"
   ]
  },
  {
   "cell_type": "code",
   "execution_count": null,
   "metadata": {},
   "outputs": [],
   "source": []
  },
  {
   "cell_type": "markdown",
   "metadata": {},
   "source": [
    "Get HFD over the set time window"
   ]
  },
  {
   "cell_type": "code",
   "execution_count": 97,
   "metadata": {},
   "outputs": [],
   "source": [
    "window_start_sec = 0\n",
    "window_size = 2\n",
    "freq = 250\n",
    "\n",
    "k = 7"
   ]
  },
  {
   "cell_type": "code",
   "execution_count": null,
   "metadata": {},
   "outputs": [],
   "source": [
    "pp_rh = np.array([patient_array_to_hfd(patient, window_start=int(window_start_sec*freq), window_size=window_size*freq, k=k) for patient in pp_rh_raw])\n",
    "pnp_rh = np.array([patient_array_to_hfd(patient, window_start=int(window_start_sec*freq), window_size=window_size*freq, k=k) for patient in pnp_rh_raw])"
   ]
  },
  {
   "cell_type": "markdown",
   "metadata": {},
   "source": [
    "Alternatively, get HFD over all windows of the specified size"
   ]
  },
  {
   "cell_type": "code",
   "execution_count": 98,
   "metadata": {},
   "outputs": [
    {
     "name": "stdout",
     "output_type": "stream",
     "text": [
      "Calculating HFD with window start 0 window size 500 step 1\n",
      "Calculating HFD with window start 0 window size 500 step 1\n",
      "Calculating HFD with window start 0 window size 500 step 1\n",
      "Calculating HFD with window start 0 window size 500 step 1\n",
      "Calculating HFD with window start 0 window size 500 step 1\n",
      "Calculating HFD with window start 0 window size 500 step 1\n",
      "Calculating HFD with window start 0 window size 500 step 1\n",
      "Calculating HFD with window start 0 window size 500 step 1\n",
      "Calculating HFD with window start 0 window size 500 step 1\n",
      "Calculating HFD with window start 0 window size 500 step 1\n",
      "Calculating HFD with window start 250 window size 500 step 1\n",
      "Calculating HFD with window start 250 window size 500 step 1\n",
      "Calculating HFD with window start 250 window size 500 step 1\n",
      "Calculating HFD with window start 250 window size 500 step 1\n",
      "Calculating HFD with window start 250 window size 500 step 1\n",
      "Calculating HFD with window start 250 window size 500 step 1\n",
      "Calculating HFD with window start 250 window size 500 step 1\n",
      "Calculating HFD with window start 250 window size 500 step 1\n",
      "Calculating HFD with window start 250 window size 500 step 1\n",
      "Calculating HFD with window start 250 window size 500 step 1\n",
      "Calculating HFD with window start 500 window size 500 step 1\n",
      "Calculating HFD with window start 500 window size 500 step 1\n",
      "Calculating HFD with window start 500 window size 500 step 1\n",
      "Calculating HFD with window start 500 window size 500 step 1\n",
      "Calculating HFD with window start 500 window size 500 step 1\n",
      "Calculating HFD with window start 500 window size 500 step 1\n",
      "Calculating HFD with window start 500 window size 500 step 1\n",
      "Calculating HFD with window start 500 window size 500 step 1\n",
      "Calculating HFD with window start 500 window size 500 step 1\n",
      "Calculating HFD with window start 500 window size 500 step 1\n",
      "Calculating HFD with window start 750 window size 500 step 1\n",
      "Calculating HFD with window start 750 window size 500 step 1\n",
      "Calculating HFD with window start 750 window size 500 step 1\n",
      "Calculating HFD with window start 750 window size 500 step 1\n",
      "Calculating HFD with window start 750 window size 500 step 1\n",
      "Calculating HFD with window start 750 window size 500 step 1\n",
      "Calculating HFD with window start 750 window size 500 step 1\n",
      "Calculating HFD with window start 750 window size 500 step 1\n",
      "Calculating HFD with window start 750 window size 500 step 1\n",
      "Calculating HFD with window start 750 window size 500 step 1\n",
      "Calculating HFD with window start 0 window size 500 step 1\n",
      "Calculating HFD with window start 0 window size 500 step 1\n",
      "Calculating HFD with window start 0 window size 500 step 1\n",
      "Calculating HFD with window start 0 window size 500 step 1\n",
      "Calculating HFD with window start 0 window size 500 step 1\n",
      "Calculating HFD with window start 0 window size 500 step 1\n",
      "Calculating HFD with window start 0 window size 500 step 1\n",
      "Calculating HFD with window start 0 window size 500 step 1\n",
      "Calculating HFD with window start 0 window size 500 step 1\n",
      "Calculating HFD with window start 0 window size 500 step 1\n",
      "Calculating HFD with window start 250 window size 500 step 1\n",
      "Calculating HFD with window start 250 window size 500 step 1\n",
      "Calculating HFD with window start 250 window size 500 step 1\n",
      "Calculating HFD with window start 250 window size 500 step 1\n",
      "Calculating HFD with window start 250 window size 500 step 1\n",
      "Calculating HFD with window start 250 window size 500 step 1\n",
      "Calculating HFD with window start 250 window size 500 step 1\n",
      "Calculating HFD with window start 250 window size 500 step 1\n",
      "Calculating HFD with window start 250 window size 500 step 1\n",
      "Calculating HFD with window start 250 window size 500 step 1\n",
      "Calculating HFD with window start 500 window size 500 step 1\n",
      "Calculating HFD with window start 500 window size 500 step 1\n",
      "Calculating HFD with window start 500 window size 500 step 1\n",
      "Calculating HFD with window start 500 window size 500 step 1\n",
      "Calculating HFD with window start 500 window size 500 step 1\n",
      "Calculating HFD with window start 500 window size 500 step 1\n",
      "Calculating HFD with window start 500 window size 500 step 1\n",
      "Calculating HFD with window start 500 window size 500 step 1\n",
      "Calculating HFD with window start 500 window size 500 step 1\n",
      "Calculating HFD with window start 500 window size 500 step 1\n",
      "Calculating HFD with window start 750 window size 500 step 1\n",
      "Calculating HFD with window start 750 window size 500 step 1\n",
      "Calculating HFD with window start 750 window size 500 step 1\n",
      "Calculating HFD with window start 750 window size 500 step 1\n",
      "Calculating HFD with window start 750 window size 500 step 1\n",
      "Calculating HFD with window start 750 window size 500 step 1\n",
      "Calculating HFD with window start 750 window size 500 step 1\n",
      "Calculating HFD with window start 750 window size 500 step 1\n",
      "Calculating HFD with window start 750 window size 500 step 1\n",
      "Calculating HFD with window start 750 window size 500 step 1\n"
     ]
    }
   ],
   "source": [
    "pp_all_windows = [[patient_array_to_hfd(patient, window_start=window*freq, window_size=window_size*freq, k=k) for patient in pp_rh_raw] for window in range(0,4)]\n",
    "pnp_all_windows = [[patient_array_to_hfd(patient, window_start=window*freq, window_size=window_size*freq, k=k) for patient in pnp_rh_raw] for window in range(0,4)]\n"
   ]
  },
  {
   "cell_type": "code",
   "execution_count": 99,
   "metadata": {},
   "outputs": [],
   "source": [
    "np_all = np.array(pp_all_windows)"
   ]
  },
  {
   "cell_type": "code",
   "execution_count": 100,
   "metadata": {},
   "outputs": [
    {
     "data": {
      "text/plain": [
       "551"
      ]
     },
     "execution_count": 100,
     "metadata": {},
     "output_type": "execute_result"
    }
   ],
   "source": [
    "np.sum([s.shape[0] for s in np_all[0]])"
   ]
  },
  {
   "cell_type": "code",
   "execution_count": 101,
   "metadata": {},
   "outputs": [
    {
     "data": {
      "text/plain": [
       "(4, 551, 61)"
      ]
     },
     "execution_count": 101,
     "metadata": {},
     "output_type": "execute_result"
    }
   ],
   "source": [
    "pp_all_windows_repetitions = np.array([np.vstack([np.array([[ channel[0] for channel in repetition ] for repetition in patient ]) for patient in window ]) for window in np.array(pp_all_windows) ])\n",
    "pnp_all_windows_repetitions = np.array([np.vstack([np.array([[ channel[0] for channel in repetition ] for repetition in patient ]) for patient in window ]) for window in np.array(pnp_all_windows) ])\n",
    "\n",
    "pp_all_windows_repetitions.shape"
   ]
  },
  {
   "cell_type": "code",
   "execution_count": 102,
   "metadata": {},
   "outputs": [
    {
     "data": {
      "text/plain": [
       "(61, 4)"
      ]
     },
     "execution_count": 102,
     "metadata": {},
     "output_type": "execute_result"
    }
   ],
   "source": [
    "pp_mean_all_windows = np.mean(pp_all_windows_repetitions, axis=1).transpose()\n",
    "pnp_mean_all_windows = np.mean(pnp_all_windows_repetitions, axis=1).transpose()\n",
    "pnp_mean_all_windows.shape"
   ]
  },
  {
   "cell_type": "code",
   "execution_count": 103,
   "metadata": {},
   "outputs": [
    {
     "data": {
      "text/plain": [
       "(61, 4)"
      ]
     },
     "execution_count": 103,
     "metadata": {},
     "output_type": "execute_result"
    }
   ],
   "source": [
    "diff_all_windows = pp_mean_all_windows - pnp_mean_all_windows\n",
    "diff_all_windows = diff_all_windows - diff_all_windows.mean()\n",
    "diff_all_windows.shape"
   ]
  },
  {
   "cell_type": "code",
   "execution_count": 104,
   "metadata": {},
   "outputs": [],
   "source": [
    "max_hfd = np.max([np.max(pp_all_windows_repetitions), np.max(pnp_all_windows_repetitions)])\n",
    "min_hfd = np.min([np.min(pp_all_windows_repetitions), np.min(pnp_all_windows_repetitions)])"
   ]
  },
  {
   "cell_type": "code",
   "execution_count": 105,
   "metadata": {},
   "outputs": [
    {
     "data": {
      "text/plain": [
       "1.9799033819669882"
      ]
     },
     "execution_count": 105,
     "metadata": {},
     "output_type": "execute_result"
    }
   ],
   "source": [
    "np.max(pp_all_windows_repetitions)"
   ]
  },
  {
   "cell_type": "code",
   "execution_count": 106,
   "metadata": {},
   "outputs": [
    {
     "data": {
      "text/plain": [
       "1.8555581981679836"
      ]
     },
     "execution_count": 106,
     "metadata": {},
     "output_type": "execute_result"
    }
   ],
   "source": [
    "np.mean(pp_all_windows_repetitions, axis=1).transpose()[14][1]"
   ]
  },
  {
   "cell_type": "code",
   "execution_count": 50,
   "metadata": {
    "scrolled": true
   },
   "outputs": [
    {
     "data": {
      "image/png": "[encoded data removed]",
      "text/plain": [
       "<Figure size 1080x1080 with 1 Axes>"
      ]
     },
     "metadata": {
      "needs_background": "light"
     },
     "output_type": "display_data"
    }
   ],
   "source": [
    "title = 'Normalized HFD values in ' + limb['name'] + ' within a 2s sliding window, PP; k=7'\n",
    "\n",
    "plt.figure(figsize=[15,15])\n",
    "plt.title(title)\n",
    "plt.ylabel('Channel')\n",
    "plt.yticks(ticks=range(61), labels=ch_names)\n",
    "plt.xticks(range(4))\n",
    "plt.xlabel('Time window start (s)')\n",
    "plt.imshow(pp_mean_all_windows)\n",
    "plt.savefig('./results/graphs/window_pp.eps')\n",
    "plt.savefig('./results/graphs/window_pp.jpg')"
   ]
  },
  {
   "cell_type": "code",
   "execution_count": 24,
   "metadata": {},
   "outputs": [
    {
     "data": {
      "image/png": "[encoded data removed]",
      "text/plain": [
       "<Figure size 1080x1080 with 1 Axes>"
      ]
     },
     "metadata": {
      "needs_background": "light"
     },
     "output_type": "display_data"
    }
   ],
   "source": [
    "title = 'Normalized HFD values in ' + limb['name'] + ' within a 2s sliding window, PNP; k=7'\n",
    "\n",
    "plt.figure(figsize=[15,15])\n",
    "plt.title(title)\n",
    "plt.ylabel('Channel')\n",
    "plt.yticks(ticks=range(61), labels=ch_names)\n",
    "plt.xticks(range(4))\n",
    "plt.xlabel('Time window start (s)')\n",
    "plt.imshow(pnp_mean_all_windows)\n",
    "plt.savefig('./results/graphs/window_pnp.eps')\n",
    "plt.savefig('./results/graphs/window_pnp.jpg')"
   ]
  },
  {
   "cell_type": "code",
   "execution_count": 113,
   "metadata": {},
   "outputs": [
    {
     "data": {
      "text/plain": [
       "array([-0.00724697, -0.00067772,  0.00584086, -0.00201114])"
      ]
     },
     "execution_count": 113,
     "metadata": {},
     "output_type": "execute_result"
    }
   ],
   "source": [
    "diff_all_windows[ch_names.index('P1')]"
   ]
  },
  {
   "cell_type": "code",
   "execution_count": 114,
   "metadata": {},
   "outputs": [
    {
     "data": {
      "text/plain": [
       "-0.013951666693166847"
      ]
     },
     "execution_count": 114,
     "metadata": {},
     "output_type": "execute_result"
    }
   ],
   "source": [
    "diff_all_windows.min()"
   ]
  },
  {
   "cell_type": "code",
   "execution_count": 115,
   "metadata": {},
   "outputs": [
    {
     "data": {
      "text/plain": [
       "(20, 1)"
      ]
     },
     "execution_count": 115,
     "metadata": {},
     "output_type": "execute_result"
    }
   ],
   "source": [
    "asda = np.abs(diff_all_windows - np.zeros(diff_all_windows.shape))\n",
    "np.unravel_index(asda.argmin(), asda.shape)"
   ]
  },
  {
   "cell_type": "code",
   "execution_count": 116,
   "metadata": {},
   "outputs": [
    {
     "data": {
      "text/plain": [
       "'CP2'"
      ]
     },
     "execution_count": 116,
     "metadata": {},
     "output_type": "execute_result"
    }
   ],
   "source": [
    "ch_names[20]"
   ]
  },
  {
   "cell_type": "code",
   "execution_count": 107,
   "metadata": {},
   "outputs": [
    {
     "data": {
      "image/png": "[encoded data removed]",
      "text/plain": [
       "<Figure size 1080x1080 with 1 Axes>"
      ]
     },
     "metadata": {
      "needs_background": "light"
     },
     "output_type": "display_data"
    }
   ],
   "source": [
    "title = str('Normalized HFD difference in ' + limb['name'] + ' between HV and PP within a 2s sliding window; k=7\\n' +\n",
    "        'Red indicates HV > PP; Blue indicates HV < PP; white indicates similar values')\n",
    "graph_name = 'window_hv_pp_diff'\n",
    "\n",
    "plt.figure(figsize=[15,15])\n",
    "plt.title(title)\n",
    "plt.ylabel('Channel')\n",
    "plt.yticks(ticks=range(61), labels=ch_names)\n",
    "plt.xticks(range(4))\n",
    "plt.xlabel('Time window start (s)')\n",
    "plt.imshow(diff_all_windows, cmap='bwr')\n",
    "\n",
    "plt.savefig('./results/graphs/' + graph_name + '.eps')\n",
    "plt.savefig('./results/graphs/' + graph_name + '.jpg')"
   ]
  },
  {
   "cell_type": "code",
   "execution_count": null,
   "metadata": {},
   "outputs": [],
   "source": []
  },
  {
   "cell_type": "code",
   "execution_count": null,
   "metadata": {},
   "outputs": [],
   "source": []
  },
  {
   "cell_type": "code",
   "execution_count": null,
   "metadata": {},
   "outputs": [],
   "source": [
    "pnp_rh[0].shape"
   ]
  },
  {
   "cell_type": "code",
   "execution_count": null,
   "metadata": {},
   "outputs": [],
   "source": [
    "pp_rh[3].shape"
   ]
  },
  {
   "cell_type": "code",
   "execution_count": null,
   "metadata": {},
   "outputs": [],
   "source": [
    "pp_and_pnp = np.concatenate((pp_rh, pnp_rh))\n",
    "pp_and_pnp.shape"
   ]
  },
  {
   "cell_type": "markdown",
   "metadata": {},
   "source": [
    "It's time to learn"
   ]
  },
  {
   "cell_type": "code",
   "execution_count": 15,
   "metadata": {},
   "outputs": [],
   "source": [
    "log_proc_method = 'HFD'\n",
    "log_dataset = 'PP/PNP-' + limb['name']\n",
    "log_db_name = 'log.db'\n",
    "\n",
    "log_notes = {'window start': window_start_sec, 'window size': window_size, 'k': k}"
   ]
  },
  {
   "cell_type": "code",
   "execution_count": null,
   "metadata": {},
   "outputs": [],
   "source": []
  },
  {
   "cell_type": "code",
   "execution_count": null,
   "metadata": {},
   "outputs": [],
   "source": [
    "nu = 0.652008\n",
    "channels = [12, 16]\n",
    "\n",
    "acc, sensitivity, specificity, avg_acc = classify_nusvm_cross_valid(pp_rh, pnp_rh, nu, channels, ch_names,\n",
    "                                                                    log_db_name=log_db_name,\n",
    "                                                                    log_txt=True,\n",
    "                                                                    log_proc_method=log_proc_method,\n",
    "                                                                    log_dataset=log_dataset,\n",
    "                                                                    log_notes=log_notes,\n",
    "                                                                    log_details=False\n",
    "                                                                   )\n",
    "print('Accuracy', acc)\n",
    "print('Sensitivity', sensitivity)\n",
    "print('Specificity', specificity)\n",
    "print('Average accuracy', avg_acc)"
   ]
  },
  {
   "cell_type": "code",
   "execution_count": null,
   "metadata": {},
   "outputs": [],
   "source": []
  },
  {
   "cell_type": "code",
   "execution_count": null,
   "metadata": {},
   "outputs": [],
   "source": [
    "previous_channels=[17, 17, 24]\n",
    "nu = 0.7\n",
    "\n",
    "max_acc = {'index': 0, 'value': 0}\n",
    "for channel in range(61):        \n",
    "    accuracy, sensitivity, specificity, avg_accuracy = classify_nusvm_cross_valid(pp_rh, pnp_rh, nu, \n",
    "                                                                                  previous_channels + [channel], \n",
    "                                                                                  verbose=False,\n",
    "                                                                                  log_db_name=log_db_name,\n",
    "                                                                                  log_txt=True,\n",
    "                                                                                  log_proc_method=log_proc_method,\n",
    "                                                                                  log_dataset=log_dataset,\n",
    "                                                                                  log_notes=log_notes\n",
    "                                                                                 )\n",
    "    print(channel, accuracy, sensitivity, specificity, avg_accuracy)\n",
    "        \n",
    "    if accuracy > max_acc['value']:\n",
    "        max_acc['index'] = channel\n",
    "        max_acc['value'] = accuracy\n",
    "\n",
    "print('Max accuracy:', max_acc['index'], max_acc['value'])"
   ]
  },
  {
   "cell_type": "code",
   "execution_count": null,
   "metadata": {},
   "outputs": [],
   "source": []
  },
  {
   "cell_type": "code",
   "execution_count": null,
   "metadata": {},
   "outputs": [],
   "source": [
    "channels = [17, 17, 24]\n",
    "\n",
    "max_acc = {'index': 0, 'value': 0}\n",
    "for param in np.arange(0.1, 0.8, 0.001):    \n",
    "    accuracy, sensitivity, specificity, avg_accuracy = classify_nusvm_cross_valid(pp_rh, pnp_rh, param,\n",
    "                                                                                  channels,\n",
    "                                                                                  verbose=False, \n",
    "                                                                                  log_db_name=log_db_name,\n",
    "                                                                                  log_txt=True,\n",
    "                                                                                  log_proc_method=log_proc_method,\n",
    "                                                                                  log_dataset=log_dataset,\n",
    "                                                                                  log_notes=log_notes\n",
    "                                                                                 ) \n",
    "                                                      \n",
    "\n",
    "    print(param, accuracy, sensitivity, specificity, avg_accuracy)\n",
    "        \n",
    "    if accuracy > max_acc['value']:\n",
    "        max_acc['index'] = param\n",
    "        max_acc['value'] = accuracy\n",
    "\n",
    "        \n",
    "print('Max accuracy:', max_acc['index'], max_acc['value'])"
   ]
  },
  {
   "cell_type": "code",
   "execution_count": null,
   "metadata": {},
   "outputs": [],
   "source": []
  },
  {
   "cell_type": "code",
   "execution_count": null,
   "metadata": {},
   "outputs": [],
   "source": [
    "best_acc = classify_nusvm_param_seach(pp_rh, pnp_rh, 0.1, 0.81, 0.025, ch_names, log_txt=True, log_proc_method=log_proc_method,\n",
    "                                                                                  log_dataset=log_dataset,\n",
    "                                                                                  log_notes=log_notes)"
   ]
  },
  {
   "cell_type": "code",
   "execution_count": null,
   "metadata": {},
   "outputs": [],
   "source": [
    "best_acc"
   ]
  },
  {
   "cell_type": "code",
   "execution_count": null,
   "metadata": {},
   "outputs": [],
   "source": []
  }
 ],
 "metadata": {
  "kernelspec": {
   "display_name": "Python 3",
   "language": "python",
   "name": "python3"
  },
  "language_info": {
   "codemirror_mode": {
    "name": "ipython",
    "version": 3
   },
   "file_extension": ".py",
   "mimetype": "text/x-python",
   "name": "python",
   "nbconvert_exporter": "python",
   "pygments_lexer": "ipython3",
   "version": "3.7.3"
  }
 },
 "nbformat": 4,
 "nbformat_minor": 2
}
