{
 "cells": [
  {
   "cell_type": "code",
   "execution_count": 1,
   "metadata": {},
   "outputs": [],
   "source": [
    "# Only run this once\n",
    "import os\n",
    "os.chdir('..')"
   ]
  },
  {
   "cell_type": "code",
   "execution_count": 2,
   "metadata": {},
   "outputs": [],
   "source": [
    "import numpy as np\n",
    "import scipy\n",
    "from scipy import signal\n",
    "import mne\n",
    "import glob\n",
    "import HiguchiFractalDimension as hfd\n",
    "import csv\n",
    "import matplotlib.pyplot as plt\n",
    "from matplotlib import colors\n",
    "\n",
    "import utils.logger\n",
    "from utils.experiments_classification import classify_nusvm_cross_valid, classify_nusvm_param_seach"
   ]
  },
  {
   "cell_type": "code",
   "execution_count": 3,
   "metadata": {},
   "outputs": [
    {
     "data": {
      "text/plain": [
       "<module 'utils.experiments_classification' from 'D:\\\\etc\\\\uni\\\\yr5\\\\project\\\\workspace\\\\eeg-cnp-final-year-project\\\\utils\\\\experiments_classification.py'>"
      ]
     },
     "execution_count": 3,
     "metadata": {},
     "output_type": "execute_result"
    }
   ],
   "source": [
    "import importlib\n",
    "importlib.reload(utils.experiments_classification)"
   ]
  },
  {
   "cell_type": "code",
   "execution_count": null,
   "metadata": {},
   "outputs": [],
   "source": []
  },
  {
   "cell_type": "code",
   "execution_count": 4,
   "metadata": {},
   "outputs": [],
   "source": [
    "def patient_array_to_hfd(repetitions, window_start=None, window_size=500, step_size=1, k=7):\n",
    "    '''\n",
    "    Apply HFD to all repetitions from given patient; input shape [n_repetitions, n_channels, n_features]\n",
    "    '''\n",
    "    if window_start != None:\n",
    "        print('Calculating HFD with window start', str(window_start), 'window size', str(window_size), 'step', str(step_size))\n",
    "        return np.array([np.array([[hfd.hfd(channel[window_start:window_start+window_size:step_size], num_k=k)] for channel in repetition]) for repetition in repetitions])\n",
    "    print('Calculating HFD over entire time series')\n",
    "    return np.array([np.array([[hfd.hfd(channel, num_k=k)] for channel in repetition]) for repetition in repetitions])"
   ]
  },
  {
   "cell_type": "code",
   "execution_count": null,
   "metadata": {},
   "outputs": [],
   "source": []
  },
  {
   "cell_type": "markdown",
   "metadata": {},
   "source": [
    "# Apply HFD to datasets"
   ]
  },
  {
   "cell_type": "code",
   "execution_count": 5,
   "metadata": {},
   "outputs": [],
   "source": [
    "# Returns relevant datasets (f.e. all right-hand recordings of healthy patients) as a list of np arrays\n",
    "def get_datasets(patient_type_location, recording_type_expression):\n",
    "    if recording_type_expression != l_new:\n",
    "        sets_locations = glob.glob(patient_type_location + recording_type_expression + suffix)\n",
    "    else:\n",
    "        sets_locations = glob.glob(patient_type_location + recording_type_expression)\n",
    "    \n",
    "    sets = []\n",
    "    for path in sets_locations: \n",
    "        sets.append(mne.io.read_epochs_eeglab(path))\n",
    "        \n",
    "    return np.array(np.array([(patient._data) for patient in sets]))\n",
    "\n",
    "\n",
    "def get_channel_names(patient_type_location, recording_type_expression):\n",
    "    '''\n",
    "    Returns the list of channel names in order\n",
    "    Only works if ALL chosen datasets use the same channels\n",
    "    '''\n",
    "    if recording_type_expression != l_new:\n",
    "        sets_locations = glob.glob(patient_type_location + recording_type_expression + suffix)\n",
    "    else:\n",
    "        sets_locations = glob.glob(patient_type_location + recording_type_expression)\n",
    "        \n",
    "    return mne.io.read_epochs_eeglab(sets_locations[0]).ch_names\n",
    "    "
   ]
  },
  {
   "cell_type": "code",
   "execution_count": 6,
   "metadata": {},
   "outputs": [
    {
     "data": {
      "text/plain": [
       "['./../../data_new/raw/PdP\\\\PdP_3\\\\PdP_3_L.set',\n",
       " './../../data_new/raw/PdP\\\\PdP_4\\\\PdP_4_L.set',\n",
       " './../../data_new/raw/PdP\\\\PdP_5\\\\PdP_5_L.set',\n",
       " './../../data_new/raw/PdP\\\\PdP_6\\\\PdP_6_L.set',\n",
       " './../../data_new/raw/PdP\\\\PdP_7\\\\PdP_7_L.set']"
      ]
     },
     "execution_count": 6,
     "metadata": {},
     "output_type": "execute_result"
    }
   ],
   "source": [
    "root = './../../'\n",
    "suffix = '*.set'\n",
    "\n",
    "location_healthy = root + 'data/raw/HV/*/'\n",
    "location_pain = root + 'data/raw/PP/*/'\n",
    "location_nopain = root + 'data/raw/PnP/*/'\n",
    "\n",
    "location_pwp = root + 'data_new/raw/PwP/*/'\n",
    "location_pdp = root + 'data_new/raw/PdP/*/'\n",
    "location_pnp = root + 'data_new/raw/PnP/*/'\n",
    "\n",
    "\n",
    "rh = {'name': 'RH', 'extension': '*_RH*'}\n",
    "lh = {'name': 'LH', 'extension': '*_LH*'}\n",
    "l_new = {'name': 'L', 'extension': '*_L.set'}   # NO SUFFIX\n",
    "l_old = {'name': 'L', 'extension': '*_L_*'}\n",
    "\n",
    "sets_healthy_rh = glob.glob(location_pdp + l_new['extension'])\n",
    "sets_healthy_rh"
   ]
  },
  {
   "cell_type": "code",
   "execution_count": 52,
   "metadata": {},
   "outputs": [
    {
     "name": "stdout",
     "output_type": "stream",
     "text": [
      "Extracting parameters from ./../../data/raw/PP\\PP1\\PP1_F1_L_Removed_ICA.set...\n"
     ]
    },
    {
     "name": "stderr",
     "output_type": "stream",
     "text": [
      "<ipython-input-5-f4cb1c0da255>:10: RuntimeWarning: At least one epoch has multiple events. Only the latency of the first event will be retained.\n",
      "  sets.append(mne.io.read_epochs_eeglab(path))\n"
     ]
    },
    {
     "name": "stdout",
     "output_type": "stream",
     "text": [
      "57 matching events found\n",
      "No baseline correction applied\n",
      "Not setting metadata\n",
      "0 projection items activated\n",
      "Ready.\n",
      "Extracting parameters from ./../../data/raw/PP\\PP10\\PP10_F1_L_Removed_ICA.set...\n"
     ]
    },
    {
     "name": "stderr",
     "output_type": "stream",
     "text": [
      "<ipython-input-5-f4cb1c0da255>:10: RuntimeWarning: At least one epoch has multiple events. Only the latency of the first event will be retained.\n",
      "  sets.append(mne.io.read_epochs_eeglab(path))\n"
     ]
    },
    {
     "name": "stdout",
     "output_type": "stream",
     "text": [
      "59 matching events found\n",
      "No baseline correction applied\n",
      "Not setting metadata\n",
      "0 projection items activated\n",
      "Ready.\n",
      "Extracting parameters from ./../../data/raw/PP\\PP11\\PP11_F1_L_Removed_ICA.set...\n"
     ]
    },
    {
     "name": "stderr",
     "output_type": "stream",
     "text": [
      "<ipython-input-5-f4cb1c0da255>:10: RuntimeWarning: At least one epoch has multiple events. Only the latency of the first event will be retained.\n",
      "  sets.append(mne.io.read_epochs_eeglab(path))\n"
     ]
    },
    {
     "name": "stdout",
     "output_type": "stream",
     "text": [
      "59 matching events found\n",
      "No baseline correction applied\n",
      "Not setting metadata\n",
      "0 projection items activated\n",
      "Ready.\n",
      "Extracting parameters from ./../../data/raw/PP\\PP2\\PP2_F1_L_Removed_ICA.set...\n",
      "51 matching events found\n"
     ]
    },
    {
     "name": "stderr",
     "output_type": "stream",
     "text": [
      "<ipython-input-5-f4cb1c0da255>:10: RuntimeWarning: At least one epoch has multiple events. Only the latency of the first event will be retained.\n",
      "  sets.append(mne.io.read_epochs_eeglab(path))\n"
     ]
    },
    {
     "name": "stdout",
     "output_type": "stream",
     "text": [
      "No baseline correction applied\n",
      "Not setting metadata\n",
      "0 projection items activated\n",
      "Ready.\n",
      "Extracting parameters from ./../../data/raw/PP\\PP3\\PP3_F1_L_Removed_ICA.set...\n"
     ]
    },
    {
     "name": "stderr",
     "output_type": "stream",
     "text": [
      "<ipython-input-5-f4cb1c0da255>:10: RuntimeWarning: At least one epoch has multiple events. Only the latency of the first event will be retained.\n",
      "  sets.append(mne.io.read_epochs_eeglab(path))\n"
     ]
    },
    {
     "name": "stdout",
     "output_type": "stream",
     "text": [
      "52 matching events found\n",
      "No baseline correction applied\n",
      "Not setting metadata\n",
      "0 projection items activated\n",
      "Ready.\n",
      "Extracting parameters from ./../../data/raw/PP\\PP4\\PP4_F1_L_Removed_ICA.set...\n"
     ]
    },
    {
     "name": "stderr",
     "output_type": "stream",
     "text": [
      "<ipython-input-5-f4cb1c0da255>:10: RuntimeWarning: At least one epoch has multiple events. Only the latency of the first event will be retained.\n",
      "  sets.append(mne.io.read_epochs_eeglab(path))\n"
     ]
    },
    {
     "name": "stdout",
     "output_type": "stream",
     "text": [
      "57 matching events found\n",
      "No baseline correction applied\n",
      "Not setting metadata\n",
      "0 projection items activated\n",
      "Ready.\n",
      "Extracting parameters from ./../../data/raw/PP\\PP5\\PP5_F1_L_Removed_ICA.set...\n"
     ]
    },
    {
     "name": "stderr",
     "output_type": "stream",
     "text": [
      "<ipython-input-5-f4cb1c0da255>:10: RuntimeWarning: At least one epoch has multiple events. Only the latency of the first event will be retained.\n",
      "  sets.append(mne.io.read_epochs_eeglab(path))\n"
     ]
    },
    {
     "name": "stdout",
     "output_type": "stream",
     "text": [
      "55 matching events found\n",
      "No baseline correction applied\n",
      "Not setting metadata\n",
      "0 projection items activated\n",
      "Ready.\n",
      "Extracting parameters from ./../../data/raw/PP\\PP6\\PP6_F1_L_Removed_ICA.set...\n",
      "32 matching events found\n",
      "No baseline correction applied\n",
      "Not setting metadata\n",
      "0 projection items activated\n",
      "Ready.\n"
     ]
    },
    {
     "name": "stderr",
     "output_type": "stream",
     "text": [
      "<ipython-input-5-f4cb1c0da255>:10: RuntimeWarning: At least one epoch has multiple events. Only the latency of the first event will be retained.\n",
      "  sets.append(mne.io.read_epochs_eeglab(path))\n"
     ]
    },
    {
     "name": "stdout",
     "output_type": "stream",
     "text": [
      "Extracting parameters from ./../../data/raw/PP\\PP7\\PP7_F1_L_Removed_ICA.set...\n"
     ]
    },
    {
     "name": "stderr",
     "output_type": "stream",
     "text": [
      "<ipython-input-5-f4cb1c0da255>:10: RuntimeWarning: At least one epoch has multiple events. Only the latency of the first event will be retained.\n",
      "  sets.append(mne.io.read_epochs_eeglab(path))\n"
     ]
    },
    {
     "name": "stdout",
     "output_type": "stream",
     "text": [
      "52 matching events found\n",
      "No baseline correction applied\n",
      "Not setting metadata\n",
      "0 projection items activated\n",
      "Ready.\n",
      "Extracting parameters from ./../../data/raw/PP\\PP9\\PP9_F1_L_Removed_ICA.set...\n"
     ]
    },
    {
     "name": "stderr",
     "output_type": "stream",
     "text": [
      "<ipython-input-5-f4cb1c0da255>:10: RuntimeWarning: At least one epoch has multiple events. Only the latency of the first event will be retained.\n",
      "  sets.append(mne.io.read_epochs_eeglab(path))\n"
     ]
    },
    {
     "name": "stdout",
     "output_type": "stream",
     "text": [
      "54 matching events found\n",
      "No baseline correction applied\n",
      "Not setting metadata\n",
      "0 projection items activated\n",
      "Ready.\n",
      "Extracting parameters from ./../../data/raw/PnP\\PnP1\\PnP1_F1_L_Removed_ICA.set...\n",
      "50 matching events found\n"
     ]
    },
    {
     "name": "stderr",
     "output_type": "stream",
     "text": [
      "<ipython-input-5-f4cb1c0da255>:10: RuntimeWarning: At least one epoch has multiple events. Only the latency of the first event will be retained.\n",
      "  sets.append(mne.io.read_epochs_eeglab(path))\n"
     ]
    },
    {
     "name": "stdout",
     "output_type": "stream",
     "text": [
      "No baseline correction applied\n",
      "Not setting metadata\n",
      "0 projection items activated\n",
      "Ready.\n",
      "Extracting parameters from ./../../data/raw/PnP\\PnP2\\PnP2_F1_L_Removed_ICA.set...\n",
      "57 matching events found\n"
     ]
    },
    {
     "name": "stderr",
     "output_type": "stream",
     "text": [
      "<ipython-input-5-f4cb1c0da255>:10: RuntimeWarning: At least one epoch has multiple events. Only the latency of the first event will be retained.\n",
      "  sets.append(mne.io.read_epochs_eeglab(path))\n"
     ]
    },
    {
     "name": "stdout",
     "output_type": "stream",
     "text": [
      "No baseline correction applied\n",
      "Not setting metadata\n",
      "0 projection items activated\n",
      "Ready.\n",
      "Extracting parameters from ./../../data/raw/PnP\\PnP3\\PnP3_F1_L_Removed_ICA.set...\n",
      "41 matching events found\n"
     ]
    },
    {
     "name": "stderr",
     "output_type": "stream",
     "text": [
      "<ipython-input-5-f4cb1c0da255>:10: RuntimeWarning: At least one epoch has multiple events. Only the latency of the first event will be retained.\n",
      "  sets.append(mne.io.read_epochs_eeglab(path))\n"
     ]
    },
    {
     "name": "stdout",
     "output_type": "stream",
     "text": [
      "No baseline correction applied\n",
      "Not setting metadata\n",
      "0 projection items activated\n",
      "Ready.\n",
      "Extracting parameters from ./../../data/raw/PnP\\PnP4\\PnP4_F1_L_Removed_ICA.set...\n"
     ]
    },
    {
     "name": "stderr",
     "output_type": "stream",
     "text": [
      "<ipython-input-5-f4cb1c0da255>:10: RuntimeWarning: At least one epoch has multiple events. Only the latency of the first event will be retained.\n",
      "  sets.append(mne.io.read_epochs_eeglab(path))\n"
     ]
    },
    {
     "name": "stdout",
     "output_type": "stream",
     "text": [
      "58 matching events found\n",
      "No baseline correction applied\n",
      "Not setting metadata\n",
      "0 projection items activated\n",
      "Ready.\n",
      "Extracting parameters from ./../../data/raw/PnP\\PnP5\\PnP5_F1_L_Removed_ICA.set...\n",
      "50 matching events found\n"
     ]
    },
    {
     "name": "stderr",
     "output_type": "stream",
     "text": [
      "<ipython-input-5-f4cb1c0da255>:10: RuntimeWarning: At least one epoch has multiple events. Only the latency of the first event will be retained.\n",
      "  sets.append(mne.io.read_epochs_eeglab(path))\n"
     ]
    },
    {
     "name": "stdout",
     "output_type": "stream",
     "text": [
      "No baseline correction applied\n",
      "Not setting metadata\n",
      "0 projection items activated\n",
      "Ready.\n",
      "Extracting parameters from ./../../data/raw/PnP\\PnP6\\PnP6_F1_L_Removed_ICA.set...\n",
      "53 matching events found\n",
      "No baseline correction applied\n",
      "Not setting metadata\n"
     ]
    },
    {
     "name": "stderr",
     "output_type": "stream",
     "text": [
      "<ipython-input-5-f4cb1c0da255>:10: RuntimeWarning: At least one epoch has multiple events. Only the latency of the first event will be retained.\n",
      "  sets.append(mne.io.read_epochs_eeglab(path))\n"
     ]
    },
    {
     "name": "stdout",
     "output_type": "stream",
     "text": [
      "0 projection items activated\n",
      "Ready.\n",
      "Extracting parameters from ./../../data/raw/PnP\\PnP7\\PnP7_F01_L_Removed_ICA.set...\n"
     ]
    },
    {
     "name": "stderr",
     "output_type": "stream",
     "text": [
      "<ipython-input-5-f4cb1c0da255>:10: RuntimeWarning: At least one epoch has multiple events. Only the latency of the first event will be retained.\n",
      "  sets.append(mne.io.read_epochs_eeglab(path))\n"
     ]
    },
    {
     "name": "stdout",
     "output_type": "stream",
     "text": [
      "58 matching events found\n",
      "No baseline correction applied\n",
      "Not setting metadata\n",
      "0 projection items activated\n",
      "Ready.\n",
      "Extracting parameters from ./../../data/raw/PnP\\PnP8\\PnP8_F1_L_Removed_ICA.set...\n"
     ]
    },
    {
     "name": "stderr",
     "output_type": "stream",
     "text": [
      "<ipython-input-5-f4cb1c0da255>:10: RuntimeWarning: At least one epoch has multiple events. Only the latency of the first event will be retained.\n",
      "  sets.append(mne.io.read_epochs_eeglab(path))\n"
     ]
    },
    {
     "name": "stdout",
     "output_type": "stream",
     "text": [
      "50 matching events found\n",
      "No baseline correction applied\n",
      "Not setting metadata\n",
      "0 projection items activated\n",
      "Ready.\n",
      "Extracting parameters from ./../../data/raw/PnP\\PnP9\\PnP9_F1_L_Removed_ICA.set...\n"
     ]
    },
    {
     "name": "stderr",
     "output_type": "stream",
     "text": [
      "<ipython-input-5-f4cb1c0da255>:10: RuntimeWarning: At least one epoch has multiple events. Only the latency of the first event will be retained.\n",
      "  sets.append(mne.io.read_epochs_eeglab(path))\n"
     ]
    },
    {
     "name": "stdout",
     "output_type": "stream",
     "text": [
      "55 matching events found\n",
      "No baseline correction applied\n",
      "Not setting metadata\n",
      "0 projection items activated\n",
      "Ready.\n",
      "Extracting parameters from ./../../data/raw/HV\\HV1\\HV1_F1_L_Removed_ICA.set...\n"
     ]
    },
    {
     "name": "stderr",
     "output_type": "stream",
     "text": [
      "<ipython-input-5-f4cb1c0da255>:10: RuntimeWarning: At least one epoch has multiple events. Only the latency of the first event will be retained.\n",
      "  sets.append(mne.io.read_epochs_eeglab(path))\n"
     ]
    },
    {
     "name": "stdout",
     "output_type": "stream",
     "text": [
      "56 matching events found\n",
      "No baseline correction applied\n",
      "Not setting metadata\n",
      "0 projection items activated\n",
      "Ready.\n",
      "Extracting parameters from ./../../data/raw/HV\\HV10\\HV10_F1_L_Removed_ICA.set...\n"
     ]
    },
    {
     "name": "stderr",
     "output_type": "stream",
     "text": [
      "<ipython-input-5-f4cb1c0da255>:10: RuntimeWarning: At least one epoch has multiple events. Only the latency of the first event will be retained.\n",
      "  sets.append(mne.io.read_epochs_eeglab(path))\n"
     ]
    },
    {
     "name": "stdout",
     "output_type": "stream",
     "text": [
      "53 matching events found\n",
      "No baseline correction applied\n",
      "Not setting metadata\n",
      "0 projection items activated\n",
      "Ready.\n",
      "Extracting parameters from ./../../data/raw/HV\\HV2\\HV2_F1_L_Removed_ICA.set...\n"
     ]
    },
    {
     "name": "stderr",
     "output_type": "stream",
     "text": [
      "<ipython-input-5-f4cb1c0da255>:10: RuntimeWarning: At least one epoch has multiple events. Only the latency of the first event will be retained.\n",
      "  sets.append(mne.io.read_epochs_eeglab(path))\n"
     ]
    },
    {
     "name": "stdout",
     "output_type": "stream",
     "text": [
      "55 matching events found\n",
      "No baseline correction applied\n",
      "Not setting metadata\n",
      "0 projection items activated\n",
      "Ready.\n",
      "Extracting parameters from ./../../data/raw/HV\\HV3\\HV3_F1_L_Removed_ICA.set...\n"
     ]
    },
    {
     "name": "stderr",
     "output_type": "stream",
     "text": [
      "<ipython-input-5-f4cb1c0da255>:10: RuntimeWarning: At least one epoch has multiple events. Only the latency of the first event will be retained.\n",
      "  sets.append(mne.io.read_epochs_eeglab(path))\n"
     ]
    },
    {
     "name": "stdout",
     "output_type": "stream",
     "text": [
      "58 matching events found\n",
      "No baseline correction applied\n",
      "Not setting metadata\n",
      "0 projection items activated\n",
      "Ready.\n",
      "Extracting parameters from ./../../data/raw/HV\\HV4\\HV4_F1_L_Removed_ICA.set...\n"
     ]
    },
    {
     "name": "stderr",
     "output_type": "stream",
     "text": [
      "<ipython-input-5-f4cb1c0da255>:10: RuntimeWarning: At least one epoch has multiple events. Only the latency of the first event will be retained.\n",
      "  sets.append(mne.io.read_epochs_eeglab(path))\n"
     ]
    },
    {
     "name": "stdout",
     "output_type": "stream",
     "text": [
      "54 matching events found\n",
      "No baseline correction applied\n",
      "Not setting metadata\n",
      "0 projection items activated\n",
      "Ready.\n",
      "Extracting parameters from ./../../data/raw/HV\\HV5\\HV5_F1_L_Removed_ICA.set...\n"
     ]
    },
    {
     "name": "stderr",
     "output_type": "stream",
     "text": [
      "<ipython-input-5-f4cb1c0da255>:10: RuntimeWarning: At least one epoch has multiple events. Only the latency of the first event will be retained.\n",
      "  sets.append(mne.io.read_epochs_eeglab(path))\n"
     ]
    },
    {
     "name": "stdout",
     "output_type": "stream",
     "text": [
      "58 matching events found\n",
      "No baseline correction applied\n",
      "Not setting metadata\n",
      "0 projection items activated\n",
      "Ready.\n",
      "Extracting parameters from ./../../data/raw/HV\\HV6\\HV6_F1_L_Removed_ICA.set...\n"
     ]
    },
    {
     "name": "stderr",
     "output_type": "stream",
     "text": [
      "<ipython-input-5-f4cb1c0da255>:10: RuntimeWarning: At least one epoch has multiple events. Only the latency of the first event will be retained.\n",
      "  sets.append(mne.io.read_epochs_eeglab(path))\n"
     ]
    },
    {
     "name": "stdout",
     "output_type": "stream",
     "text": [
      "59 matching events found\n",
      "No baseline correction applied\n",
      "Not setting metadata\n",
      "0 projection items activated\n",
      "Ready.\n",
      "Extracting parameters from ./../../data/raw/HV\\HV7\\HV7_F1_L_Removed_ICA.set...\n"
     ]
    },
    {
     "name": "stderr",
     "output_type": "stream",
     "text": [
      "<ipython-input-5-f4cb1c0da255>:10: RuntimeWarning: At least one epoch has multiple events. Only the latency of the first event will be retained.\n",
      "  sets.append(mne.io.read_epochs_eeglab(path))\n"
     ]
    },
    {
     "name": "stdout",
     "output_type": "stream",
     "text": [
      "59 matching events found\n",
      "No baseline correction applied\n",
      "Not setting metadata\n",
      "0 projection items activated\n",
      "Ready.\n",
      "Extracting parameters from ./../../data/raw/HV\\HV8\\HV8_F1_L_Removed_ICA.set...\n",
      "53 matching events found\n"
     ]
    },
    {
     "name": "stderr",
     "output_type": "stream",
     "text": [
      "<ipython-input-5-f4cb1c0da255>:10: RuntimeWarning: At least one epoch has multiple events. Only the latency of the first event will be retained.\n",
      "  sets.append(mne.io.read_epochs_eeglab(path))\n"
     ]
    },
    {
     "name": "stdout",
     "output_type": "stream",
     "text": [
      "No baseline correction applied\n",
      "Not setting metadata\n",
      "0 projection items activated\n",
      "Ready.\n",
      "Extracting parameters from ./../../data/raw/HV\\HV9\\HV9_F1_L_Removed_ICA.set...\n",
      "54 matching events found\n"
     ]
    },
    {
     "name": "stderr",
     "output_type": "stream",
     "text": [
      "<ipython-input-5-f4cb1c0da255>:10: RuntimeWarning: At least one epoch has multiple events. Only the latency of the first event will be retained.\n",
      "  sets.append(mne.io.read_epochs_eeglab(path))\n"
     ]
    },
    {
     "name": "stdout",
     "output_type": "stream",
     "text": [
      "No baseline correction applied\n",
      "Not setting metadata\n",
      "0 projection items activated\n",
      "Ready.\n"
     ]
    }
   ],
   "source": [
    "limb = l_old\n",
    "\n",
    "pp_rh_raw = get_datasets(location_pain, limb['extension'])\n",
    "pnp_rh_raw = get_datasets(location_nopain, limb['extension'])\n",
    "hv_rh_raw = get_datasets(location_healthy, limb['extension'])"
   ]
  },
  {
   "cell_type": "markdown",
   "metadata": {},
   "source": [
    "Alternatively, use all limbs"
   ]
  },
  {
   "cell_type": "code",
   "execution_count": 6,
   "metadata": {},
   "outputs": [
    {
     "ename": "NameError",
     "evalue": "name 'location_pain' is not defined",
     "output_type": "error",
     "traceback": [
      "\u001b[1;31m---------------------------------------------------------------------------\u001b[0m",
      "\u001b[1;31mNameError\u001b[0m                                 Traceback (most recent call last)",
      "\u001b[1;32m<ipython-input-6-e8e2694994f6>\u001b[0m in \u001b[0;36m<module>\u001b[1;34m\u001b[0m\n\u001b[0;32m      1\u001b[0m \u001b[0mlimb\u001b[0m \u001b[1;33m=\u001b[0m \u001b[1;33m{\u001b[0m\u001b[1;34m'name'\u001b[0m\u001b[1;33m:\u001b[0m \u001b[1;34m'all_limbs'\u001b[0m\u001b[1;33m}\u001b[0m\u001b[1;33m\u001b[0m\u001b[1;33m\u001b[0m\u001b[0m\n\u001b[0;32m      2\u001b[0m \u001b[1;33m\u001b[0m\u001b[0m\n\u001b[1;32m----> 3\u001b[1;33m \u001b[0mpp_rh_raw\u001b[0m \u001b[1;33m=\u001b[0m \u001b[0mget_datasets\u001b[0m\u001b[1;33m(\u001b[0m\u001b[0mlocation_pain\u001b[0m\u001b[1;33m,\u001b[0m \u001b[0mrh\u001b[0m\u001b[1;33m[\u001b[0m\u001b[1;34m'extension'\u001b[0m\u001b[1;33m]\u001b[0m\u001b[1;33m)\u001b[0m\u001b[1;33m\u001b[0m\u001b[1;33m\u001b[0m\u001b[0m\n\u001b[0m\u001b[0;32m      4\u001b[0m \u001b[0mpnp_rh_raw\u001b[0m \u001b[1;33m=\u001b[0m \u001b[0mget_datasets\u001b[0m\u001b[1;33m(\u001b[0m\u001b[0mlocation_nopain\u001b[0m\u001b[1;33m,\u001b[0m \u001b[0mrh\u001b[0m\u001b[1;33m[\u001b[0m\u001b[1;34m'extension'\u001b[0m\u001b[1;33m]\u001b[0m\u001b[1;33m)\u001b[0m\u001b[1;33m\u001b[0m\u001b[1;33m\u001b[0m\u001b[0m\n\u001b[0;32m      5\u001b[0m \u001b[1;33m\u001b[0m\u001b[0m\n",
      "\u001b[1;31mNameError\u001b[0m: name 'location_pain' is not defined"
     ]
    }
   ],
   "source": [
    "limb = {'name': 'all_limbs'}\n",
    "\n",
    "pp_rh_raw = get_datasets(location_pain, rh['extension'])\n",
    "pnp_rh_raw = get_datasets(location_nopain, rh['extension'])\n",
    "\n",
    "pp_lh_raw = get_datasets(location_pain, lh['extension'])\n",
    "pnp_lh_raw = get_datasets(location_nopain, lh['extension'])\n",
    "\n",
    "pp_l_raw = get_datasets(location_pain, l_old['extension'])\n",
    "pnp_l_raw = get_datasets(location_nopain, l_old['extension'])"
   ]
  },
  {
   "cell_type": "code",
   "execution_count": 9,
   "metadata": {},
   "outputs": [
    {
     "ename": "NameError",
     "evalue": "name 'pp_lh_raw' is not defined",
     "output_type": "error",
     "traceback": [
      "\u001b[1;31m---------------------------------------------------------------------------\u001b[0m",
      "\u001b[1;31mNameError\u001b[0m                                 Traceback (most recent call last)",
      "\u001b[1;32m<ipython-input-9-431a486ee634>\u001b[0m in \u001b[0;36m<module>\u001b[1;34m\u001b[0m\n\u001b[1;32m----> 1\u001b[1;33m \u001b[0mpp_all_limbs\u001b[0m \u001b[1;33m=\u001b[0m \u001b[0mnp\u001b[0m\u001b[1;33m.\u001b[0m\u001b[0mconcatenate\u001b[0m\u001b[1;33m(\u001b[0m\u001b[1;33m(\u001b[0m\u001b[0mpp_rh_raw\u001b[0m\u001b[1;33m,\u001b[0m \u001b[0mpp_lh_raw\u001b[0m\u001b[1;33m,\u001b[0m \u001b[0mpp_l_raw\u001b[0m\u001b[1;33m)\u001b[0m\u001b[1;33m)\u001b[0m\u001b[1;33m\u001b[0m\u001b[1;33m\u001b[0m\u001b[0m\n\u001b[0m\u001b[0;32m      2\u001b[0m \u001b[0mpnp_all_limbs\u001b[0m \u001b[1;33m=\u001b[0m \u001b[0mnp\u001b[0m\u001b[1;33m.\u001b[0m\u001b[0mconcatenate\u001b[0m\u001b[1;33m(\u001b[0m\u001b[1;33m(\u001b[0m\u001b[0mpnp_rh_raw\u001b[0m\u001b[1;33m,\u001b[0m \u001b[0mpnp_lh_raw\u001b[0m\u001b[1;33m,\u001b[0m \u001b[0mpnp_l_raw\u001b[0m\u001b[1;33m)\u001b[0m\u001b[1;33m)\u001b[0m\u001b[1;33m\u001b[0m\u001b[1;33m\u001b[0m\u001b[0m\n",
      "\u001b[1;31mNameError\u001b[0m: name 'pp_lh_raw' is not defined"
     ]
    }
   ],
   "source": [
    "pp_all_limbs = np.concatenate((pp_rh_raw, pp_lh_raw, pp_l_raw))\n",
    "pnp_all_limbs = np.concatenate((pnp_rh_raw, pnp_lh_raw, pnp_l_raw))"
   ]
  },
  {
   "cell_type": "code",
   "execution_count": 9,
   "metadata": {},
   "outputs": [
    {
     "data": {
      "text/plain": [
       "(27,)"
      ]
     },
     "execution_count": 9,
     "metadata": {},
     "output_type": "execute_result"
    }
   ],
   "source": [
    "pnp_all_limbs.shape"
   ]
  },
  {
   "cell_type": "code",
   "execution_count": null,
   "metadata": {},
   "outputs": [],
   "source": []
  },
  {
   "cell_type": "code",
   "execution_count": 40,
   "metadata": {},
   "outputs": [
    {
     "name": "stdout",
     "output_type": "stream",
     "text": [
      "Extracting parameters from ./../../data_new/raw/PdP\\PdP_1\\PdP_1_RH.set...\n",
      "65 matching events found\n",
      "No baseline correction applied\n",
      "Not setting metadata\n",
      "0 projection items activated\n",
      "Ready.\n"
     ]
    },
    {
     "name": "stderr",
     "output_type": "stream",
     "text": [
      "<ipython-input-5-f4cb1c0da255>:25: RuntimeWarning: At least one epoch has multiple events. Only the latency of the first event will be retained.\n",
      "  return mne.io.read_epochs_eeglab(sets_locations[0]).ch_names\n"
     ]
    },
    {
     "data": {
      "text/plain": [
       "['Fp1',\n",
       " 'Fpz',\n",
       " 'Fp2',\n",
       " 'F7',\n",
       " 'F3',\n",
       " 'F1',\n",
       " 'Fz',\n",
       " 'F2',\n",
       " 'F4',\n",
       " 'F8',\n",
       " 'FC3',\n",
       " 'FC1',\n",
       " 'FCz',\n",
       " 'FC2',\n",
       " 'FC4',\n",
       " 'FC6',\n",
       " 'T7',\n",
       " 'C5',\n",
       " 'C3',\n",
       " 'C1',\n",
       " 'Cz',\n",
       " 'C2',\n",
       " 'C4',\n",
       " 'C6',\n",
       " 'T8',\n",
       " 'CP5',\n",
       " 'CP3',\n",
       " 'CP1',\n",
       " 'CPz',\n",
       " 'CP2',\n",
       " 'CP4',\n",
       " 'CP6',\n",
       " 'P7',\n",
       " 'P5',\n",
       " 'P3',\n",
       " 'P1',\n",
       " 'Pz',\n",
       " 'P2',\n",
       " 'P4',\n",
       " 'P6',\n",
       " 'P8',\n",
       " 'PO3',\n",
       " 'POz',\n",
       " 'PO4',\n",
       " 'O1',\n",
       " 'Oz',\n",
       " 'O2',\n",
       " 'FC5']"
      ]
     },
     "execution_count": 40,
     "metadata": {},
     "output_type": "execute_result"
    }
   ],
   "source": [
    "ch_names_new = get_channel_names(location_pdp, rh['extension'])\n",
    "ch_names_new"
   ]
  },
  {
   "cell_type": "code",
   "execution_count": 41,
   "metadata": {},
   "outputs": [
    {
     "name": "stdout",
     "output_type": "stream",
     "text": [
      "Extracting parameters from ./../../data/raw/PP\\PP1\\PP1_F1_RH_Removed_ICA.set...\n",
      "57 matching events found\n",
      "No baseline correction applied\n",
      "Not setting metadata\n",
      "0 projection items activated\n",
      "Ready.\n"
     ]
    },
    {
     "name": "stderr",
     "output_type": "stream",
     "text": [
      "<ipython-input-5-f4cb1c0da255>:25: RuntimeWarning: At least one epoch has multiple events. Only the latency of the first event will be retained.\n",
      "  return mne.io.read_epochs_eeglab(sets_locations[0]).ch_names\n"
     ]
    },
    {
     "data": {
      "text/plain": [
       "['Cz',\n",
       " 'C1',\n",
       " 'C2',\n",
       " 'C3',\n",
       " 'C4',\n",
       " 'C5',\n",
       " 'C6',\n",
       " 'C7',\n",
       " 'C8',\n",
       " 'FCz',\n",
       " 'FC1',\n",
       " 'FC2',\n",
       " 'FC3',\n",
       " 'FC4',\n",
       " 'FC5',\n",
       " 'FC6',\n",
       " 'FT7',\n",
       " 'FT8',\n",
       " 'CPz',\n",
       " 'CP1',\n",
       " 'CP2',\n",
       " 'CP3',\n",
       " 'CP4',\n",
       " 'CP5',\n",
       " 'CP6',\n",
       " 'TP7',\n",
       " 'TP8',\n",
       " 'Fz',\n",
       " 'F1',\n",
       " 'F2',\n",
       " 'F3',\n",
       " 'F4',\n",
       " 'F5',\n",
       " 'F6',\n",
       " 'F7',\n",
       " 'F8',\n",
       " 'Pz',\n",
       " 'P1',\n",
       " 'P2',\n",
       " 'P3',\n",
       " 'P4',\n",
       " 'P5',\n",
       " 'P6',\n",
       " 'P7',\n",
       " 'P8',\n",
       " 'AFz',\n",
       " 'AF3',\n",
       " 'AF4',\n",
       " 'AF7',\n",
       " 'AF8',\n",
       " 'Fp1',\n",
       " 'FP2',\n",
       " 'POz',\n",
       " 'PO3',\n",
       " 'PO4',\n",
       " 'PO7',\n",
       " 'PO8',\n",
       " 'Oz',\n",
       " 'O1',\n",
       " 'O2',\n",
       " 'Iz']"
      ]
     },
     "execution_count": 41,
     "metadata": {},
     "output_type": "execute_result"
    }
   ],
   "source": [
    "ch_names = get_channel_names(location_pain, rh['extension'])\n",
    "ch_names"
   ]
  },
  {
   "cell_type": "code",
   "execution_count": 42,
   "metadata": {},
   "outputs": [],
   "source": [
    "# Check for any channels not present in both\n",
    "#for ch in ch_names_new:\n",
    "#    if not (ch in ch_names):\n",
    " #       print(ch, end=' ')"
   ]
  },
  {
   "cell_type": "code",
   "execution_count": 43,
   "metadata": {},
   "outputs": [
    {
     "data": {
      "text/plain": [
       "array([array([[[ 5.91596216e-09,  2.37019032e-07,  3.38402957e-07, ...,\n",
       "          4.85131592e-07,  8.41023743e-07,  1.01090860e-06],\n",
       "        [-3.67744654e-07, -5.91217399e-07, -5.81286430e-07, ...,\n",
       "          2.35859370e-06,  1.87469661e-06,  1.00009179e-06],\n",
       "        [-5.98262429e-07, -1.01626337e-07,  5.62562346e-08, ...,\n",
       "         -4.52926755e-07,  1.94547370e-07,  7.76365578e-07],\n",
       "        ...,\n",
       "        [ 3.35570312e-06,  4.46552849e-06,  5.26326132e-06, ...,\n",
       "         -3.64326119e-06, -4.45522451e-06, -4.70048809e-06],\n",
       "        [ 3.18669796e-06,  4.46478462e-06,  5.21585369e-06, ...,\n",
       "         -4.41229439e-06, -4.83915377e-06, -4.64909172e-06],\n",
       "        [ 1.84003997e-06,  2.57710123e-06,  3.05327249e-06, ...,\n",
       "         -2.08625436e-06, -2.45279765e-06, -2.53850245e-06]],\n",
       "\n",
       "       [[ 1.56478322e-06,  1.66019130e-06,  1.81852639e-06, ...,\n",
       "          1.94387555e-06,  1.58342814e-06,  1.28280270e-06],\n",
       "        [ 3.48184317e-07,  8.85427237e-07,  1.49937093e-06, ...,\n",
       "          3.07559967e-11, -5.87196231e-07, -1.29047012e-06],\n",
       "        [ 1.27355874e-06,  1.46428967e-06,  1.51397920e-06, ...,\n",
       "          2.21351910e-06,  2.38467765e-06,  2.53430486e-06],\n",
       "        ...,\n",
       "        [-3.64665651e-06, -4.63730001e-06, -5.53443193e-06, ...,\n",
       "         -5.43894768e-08, -3.16361040e-07, -3.41519624e-07],\n",
       "        [-3.10477519e-06, -4.13494825e-06, -5.14965487e-06, ...,\n",
       "          3.27166319e-07,  4.92242157e-07,  8.88034582e-07],\n",
       "        [-1.83236074e-06, -2.35676122e-06, -2.83942890e-06, ...,\n",
       "          3.26562911e-07,  2.43635565e-07,  2.71517038e-07]],\n",
       "\n",
       "       [[ 9.47066247e-07,  3.05493712e-07, -1.98854417e-07, ...,\n",
       "          1.80496275e-06,  1.59434438e-06,  1.10633135e-06],\n",
       "        [ 1.98097157e-06,  1.40486336e-06,  7.46176481e-07, ...,\n",
       "         -1.61993885e-06, -2.04794598e-06, -2.41954684e-06],\n",
       "        [ 7.17322409e-07,  5.02241373e-07,  5.67626774e-07, ...,\n",
       "          4.25462484e-06,  4.07762337e-06,  3.47576785e-06],\n",
       "        ...,\n",
       "        [-2.03852677e-06, -1.32764494e-06, -9.57556903e-07, ...,\n",
       "         -4.80733013e-06, -4.31194019e-06, -3.13113213e-06],\n",
       "        [-3.16803432e-06, -2.11156511e-06, -1.22933865e-06, ...,\n",
       "         -1.83251655e-06, -1.46102130e-06, -7.10144162e-07],\n",
       "        [-1.14649296e-06, -7.35474110e-07, -4.84824896e-07, ...,\n",
       "         -1.84596348e-06, -1.66774178e-06, -1.19978642e-06]],\n",
       "\n",
       "       ...,\n",
       "\n",
       "       [[ 3.12412679e-07,  1.18968713e-06,  2.09870672e-06, ...,\n",
       "          1.47851145e-06,  1.13780618e-06,  7.66082048e-07],\n",
       "        [-2.06944680e-06, -1.66887999e-06, -6.73971176e-07, ...,\n",
       "          2.25132775e-06,  1.36455476e-06,  2.43466377e-07],\n",
       "        [ 1.34178042e-07,  4.48384047e-07,  6.40289187e-07, ...,\n",
       "         -1.85926771e-06, -1.64173937e-06, -1.13541389e-06],\n",
       "        ...,\n",
       "        [ 3.83149099e-06,  3.42330027e-06,  1.86616063e-06, ...,\n",
       "          2.38067412e-06,  2.27788973e-06,  1.90304208e-06],\n",
       "        [ 3.20261765e-06,  2.45751214e-06,  9.08787489e-07, ...,\n",
       "          2.03690529e-06,  2.48146129e-06,  2.69674921e-06],\n",
       "        [ 1.64024472e-06,  1.40633011e-06,  7.28627563e-07, ...,\n",
       "          1.38169861e-06,  1.42961919e-06,  1.30426311e-06]],\n",
       "\n",
       "       [[-1.56035161e-06, -4.38713133e-07, -8.29805136e-08, ...,\n",
       "          1.62681746e-06,  9.00450647e-07, -6.96367323e-08],\n",
       "        [ 7.65072167e-07,  1.51248717e-06,  1.94993484e-06, ...,\n",
       "          1.28612161e-06,  5.52272558e-07, -4.06105638e-07],\n",
       "        [-5.12459660e-06, -4.38982248e-06, -4.02136374e-06, ...,\n",
       "          3.37985694e-07,  2.80109227e-07,  2.59573907e-07],\n",
       "        ...,\n",
       "        [ 7.80274630e-06,  7.31584787e-06,  7.00149679e-06, ...,\n",
       "         -1.90564609e-06, -1.26864457e-06, -5.85968971e-07],\n",
       "        [ 5.31019926e-06,  4.60849762e-06,  4.28528786e-06, ...,\n",
       "         -2.63853812e-06, -1.89557445e-06, -1.01757252e-06],\n",
       "        [ 3.71704650e-06,  3.53229237e-06,  3.45693445e-06, ...,\n",
       "         -1.17453790e-06, -8.99253309e-07, -5.92109621e-07]],\n",
       "\n",
       "       [[ 1.56750667e-06,  1.53271890e-06,  1.19158506e-06, ...,\n",
       "         -5.52466810e-08,  3.93632919e-07,  5.90379238e-07],\n",
       "        [-1.14079332e-06, -7.73592710e-07, -5.06955147e-07, ...,\n",
       "         -3.18166161e-06, -2.54587722e-06, -1.80074191e-06],\n",
       "        [ 4.28917742e-06,  3.57940626e-06,  2.55761170e-06, ...,\n",
       "          2.12654614e-06,  2.13284397e-06,  1.91824245e-06],\n",
       "        ...,\n",
       "        [-6.30929947e-06, -5.71459961e-06, -4.91501904e-06, ...,\n",
       "         -4.74964410e-07, -4.76530313e-07, -1.53921807e-06],\n",
       "        [-2.71156573e-06, -2.67297745e-06, -2.47908831e-06, ...,\n",
       "          1.92823625e-06,  1.65700507e-06,  4.64226454e-07],\n",
       "        [-2.52829456e-06, -2.36461258e-06, -2.12209272e-06, ...,\n",
       "          3.57497156e-07,  3.26211601e-07, -2.69878834e-07]]]),\n",
       "       array([[[ 4.76448417e-07,  1.29740465e-06,  2.61641049e-06, ...,\n",
       "          3.15433550e-06,  2.40651798e-06,  1.76170087e-06],\n",
       "        [ 4.68140185e-07,  1.17408395e-06,  1.88727403e-06, ...,\n",
       "          4.44489956e-06,  3.75006557e-06,  3.03237510e-06],\n",
       "        [-6.10164642e-07, -2.68480301e-07,  7.77078986e-07, ...,\n",
       "          4.79096204e-07,  1.14551902e-07, -1.36477441e-07],\n",
       "        ...,\n",
       "        [ 6.65429533e-08, -9.26452875e-09,  3.35704237e-07, ...,\n",
       "         -1.54238999e-06, -7.97378182e-07, -9.01915878e-08],\n",
       "        [ 1.89501917e-06,  2.20574546e-06,  1.83554947e-06, ...,\n",
       "         -3.92871475e-06, -3.03519726e-06, -2.17742348e-06],\n",
       "        [ 1.67787230e-06,  1.53764629e-06,  9.63899195e-07, ...,\n",
       "         -2.64144683e-06, -2.29989529e-06, -1.89232516e-06]],\n",
       "\n",
       "       [[ 4.16692924e-06,  4.98836040e-06,  5.54920769e-06, ...,\n",
       "         -7.01253796e-06, -6.50005674e-06, -6.52874804e-06],\n",
       "        [ 2.72986150e-06,  3.09704471e-06,  3.35578823e-06, ...,\n",
       "         -6.23605013e-06, -5.83223343e-06, -5.92850304e-06],\n",
       "        [ 3.58729148e-06,  4.78557920e-06,  5.92352915e-06, ...,\n",
       "         -4.16950274e-06, -3.86989737e-06, -4.02347755e-06],\n",
       "        ...,\n",
       "        [-2.36527419e-06, -3.37329865e-06, -4.23160076e-06, ...,\n",
       "          3.11646914e-06,  3.04071331e-06,  3.22769594e-06],\n",
       "        [-2.09216380e-06, -2.48721361e-06, -2.73703289e-06, ...,\n",
       "          2.87936091e-06,  3.13206625e-06,  3.58992720e-06],\n",
       "        [-1.26849604e-06, -2.47580528e-06, -3.88713527e-06, ...,\n",
       "          3.21213102e-06,  3.19870901e-06,  3.64785218e-06]],\n",
       "\n",
       "       [[ 5.26480579e-06,  5.81468058e-06,  6.01125860e-06, ...,\n",
       "         -5.80036759e-07, -4.59248066e-07,  2.19410092e-07],\n",
       "        [ 4.69312525e-06,  5.30381203e-06,  5.78046131e-06, ...,\n",
       "         -5.98242998e-07, -5.62938690e-07,  6.13924265e-08],\n",
       "        [ 2.58342433e-06,  2.90683794e-06,  2.82507086e-06, ...,\n",
       "         -2.10188821e-07, -2.32946038e-07,  1.16608739e-07],\n",
       "        ...,\n",
       "        [-5.46378016e-07, -3.39629382e-07,  1.20606869e-07, ...,\n",
       "          4.69839960e-07,  8.66610885e-07,  8.47936928e-07],\n",
       "        [-3.82489443e-06, -3.31081152e-06, -2.26405358e-06, ...,\n",
       "          5.49257159e-07,  5.00203669e-07,  3.58147830e-07],\n",
       "        [-3.15150833e-06, -3.44153428e-06, -3.19464636e-06, ...,\n",
       "          1.03545642e-06,  1.26842105e-06,  9.61933374e-07]],\n",
       "\n",
       "       ...,\n",
       "\n",
       "       [[ 5.19191837e-06,  5.81332254e-06,  6.71571398e-06, ...,\n",
       "          5.37450492e-07,  1.30798817e-07,  4.42508757e-07],\n",
       "        [ 3.03765082e-06,  4.03214312e-06,  5.04880953e-06, ...,\n",
       "         -4.09144014e-08, -8.73740315e-08,  5.46874642e-07],\n",
       "        [ 4.25031757e-06,  4.41426325e-06,  5.01699018e-06, ...,\n",
       "          1.56783271e-06,  8.09779704e-07,  4.32187676e-07],\n",
       "        ...,\n",
       "        [-6.82314777e-06, -7.63563395e-06, -8.19961929e-06, ...,\n",
       "         -4.30925655e-06, -4.15732145e-06, -4.33188915e-06],\n",
       "        [-5.57695532e-06, -6.40359116e-06, -7.00215101e-06, ...,\n",
       "          2.47441363e-06,  2.96545100e-06,  2.88251042e-06],\n",
       "        [-2.97402430e-06, -3.79436445e-06, -4.68113708e-06, ...,\n",
       "         -1.48962975e-06, -8.43768597e-07, -8.78633559e-07]],\n",
       "\n",
       "       [[ 1.45043409e-06,  5.69546044e-07,  5.45215607e-07, ...,\n",
       "         -5.92944860e-07, -1.64177179e-06, -1.76271331e-06],\n",
       "        [ 8.45242321e-07, -3.44956011e-07, -8.87057066e-07, ...,\n",
       "         -5.37906170e-07, -1.28466177e-06, -1.25865746e-06],\n",
       "        [ 1.75320125e-06,  1.29111087e-06,  1.51544023e-06, ...,\n",
       "          7.89159179e-07, -3.07288647e-07, -7.84710824e-07],\n",
       "        ...,\n",
       "        [ 2.06328392e-06,  2.64476109e-06,  2.54102182e-06, ...,\n",
       "         -2.71875763e-06, -2.23622966e-06, -2.46491766e-06],\n",
       "        [ 6.95462275e-06,  7.33133125e-06,  7.35940456e-06, ...,\n",
       "         -1.01524723e-06, -6.33755565e-07, -6.47735357e-07],\n",
       "        [ 8.19054425e-07,  1.65410721e-06,  1.86935890e-06, ...,\n",
       "         -1.36834538e-06, -5.30581176e-07, -5.83504200e-07]],\n",
       "\n",
       "       [[-3.06653666e-06, -3.45314837e-06, -3.94008160e-06, ...,\n",
       "         -2.77542210e-06, -3.53612399e-06, -4.16316605e-06],\n",
       "        [-2.34086585e-06, -2.73064041e-06, -3.05969095e-06, ...,\n",
       "         -1.82863867e-06, -2.65377116e-06, -3.14372206e-06],\n",
       "        [-1.76532197e-06, -2.19898081e-06, -2.72400713e-06, ...,\n",
       "         -2.23658204e-06, -2.67234421e-06, -3.23154187e-06],\n",
       "        ...,\n",
       "        [ 3.15541077e-06,  3.83957386e-06,  3.82866907e-06, ...,\n",
       "          3.28116846e-06,  4.11721802e-06,  4.95241690e-06],\n",
       "        [ 4.90426332e-07,  1.21757483e-06,  1.63942873e-06, ...,\n",
       "          2.38266039e-06,  3.16787791e-06,  3.42380595e-06],\n",
       "        [ 1.02202559e-06,  1.54321969e-06,  2.01131678e-06, ...,\n",
       "          1.61102152e-06,  2.13548422e-06,  2.48730016e-06]]]),\n",
       "       array([[[ 1.18906283e-06,  8.93444479e-07,  6.13048911e-07, ...,\n",
       "         -1.16117322e-06, -1.43150818e-06, -1.49306107e-06],\n",
       "        [ 3.46980721e-07,  5.22344649e-07,  5.61082244e-07, ...,\n",
       "         -2.46704030e-06, -2.77776480e-06, -3.13985515e-06],\n",
       "        [ 2.18854666e-06,  1.53474987e-06,  8.61571431e-07, ...,\n",
       "         -4.42994773e-07, -6.24338150e-07, -4.77034837e-07],\n",
       "        ...,\n",
       "        [-2.86827517e-06, -2.30987906e-06, -1.66631746e-06, ...,\n",
       "          1.06378336e-05,  1.04166613e-05,  1.01928482e-05],\n",
       "        [-2.26385856e-06, -2.50846004e-06, -2.67051458e-06, ...,\n",
       "          1.09601297e-05,  1.07726917e-05,  1.05563717e-05],\n",
       "        [-1.40757120e-06, -1.42776430e-06, -1.07771480e-06, ...,\n",
       "          2.15254068e-06,  2.32510781e-06,  2.57884026e-06]],\n",
       "\n",
       "       [[-2.28569642e-07,  3.77300739e-07,  1.00551331e-06, ...,\n",
       "         -5.58462977e-07, -3.45692813e-07,  2.89598674e-07],\n",
       "        [ 2.06728220e-07,  9.99634504e-07,  1.67245936e-06, ...,\n",
       "         -2.74414396e-06, -2.78935361e-06, -2.51913762e-06],\n",
       "        [ 3.40240568e-07,  5.11057675e-07,  7.51884282e-07, ...,\n",
       "          1.29222965e-06,  1.64068675e-06,  2.22877288e-06],\n",
       "        ...,\n",
       "        [-1.86570549e-06, -3.06129384e-06, -3.49617696e-06, ...,\n",
       "          1.40644181e-06,  2.32602668e-06,  2.69927406e-06],\n",
       "        [-1.04430318e-06, -2.57448959e-06, -3.41147757e-06, ...,\n",
       "          3.49799705e-06,  4.96826410e-06,  5.91083479e-06],\n",
       "        [-1.16497207e-06, -1.80127954e-06, -2.17332554e-06, ...,\n",
       "          2.81196022e-06,  2.89687681e-06,  2.82779860e-06]],\n",
       "\n",
       "       [[-6.63059235e-06, -6.46637630e-06, -5.85271978e-06, ...,\n",
       "          2.65259910e-06,  2.62685513e-06,  2.53553581e-06],\n",
       "        [-2.88071203e-06, -3.31358147e-06, -3.70789576e-06, ...,\n",
       "          1.74240327e-06,  1.44967890e-06,  1.26066172e-06],\n",
       "        [-7.87016201e-06, -7.19057465e-06, -6.00402594e-06, ...,\n",
       "          3.09554005e-06,  3.14571881e-06,  3.02717519e-06],\n",
       "        ...,\n",
       "        [ 8.50418949e-06,  8.57509327e-06,  8.56650829e-06, ...,\n",
       "         -5.43795109e-06, -4.55131197e-06, -3.99628782e-06],\n",
       "        [ 1.79834795e-06,  2.12361550e-06,  2.78237677e-06, ...,\n",
       "         -2.19422579e-06, -1.32204974e-06, -9.70612228e-07],\n",
       "        [ 3.76324224e-06,  3.94147420e-06,  4.06711245e-06, ...,\n",
       "         -2.12931180e-06, -1.91961610e-06, -1.77034152e-06]],\n",
       "\n",
       "       ...,\n",
       "\n",
       "       [[-1.70832562e-06, -9.09317076e-07,  3.96163493e-07, ...,\n",
       "         -3.52386403e-06, -3.90050101e-06, -3.75131536e-06],\n",
       "        [-1.53538108e-06, -5.01020789e-07,  1.07765353e-06, ...,\n",
       "         -2.94861436e-06, -2.91786075e-06, -2.77393723e-06],\n",
       "        [-1.54018772e-06, -1.10284638e-06, -1.89332500e-07, ...,\n",
       "         -2.28655338e-06, -2.59412766e-06, -2.52008557e-06],\n",
       "        ...,\n",
       "        [ 5.80072641e-06,  3.33027124e-06, -2.47220948e-07, ...,\n",
       "          5.83924961e-06,  4.83308601e-06,  3.99468827e-06],\n",
       "        [ 5.01417637e-06,  3.20585203e-06,  5.91224849e-07, ...,\n",
       "          5.67538118e-06,  4.63534021e-06,  3.62221551e-06],\n",
       "        [ 6.70187831e-07, -3.21801901e-08, -1.48429930e-06, ...,\n",
       "          2.07652068e-06,  1.72687650e-06,  1.64844620e-06]],\n",
       "\n",
       "       [[ 1.36257574e-07,  1.44822756e-08,  3.61339413e-08, ...,\n",
       "          4.16402626e-06,  3.86723661e-06,  3.68452764e-06],\n",
       "        [ 3.77508044e-07,  2.42029831e-07,  2.97444403e-07, ...,\n",
       "          5.04786777e-06,  4.99863529e-06,  4.58230495e-06],\n",
       "        [-3.44623357e-07, -1.25215113e-07,  8.08004886e-08, ...,\n",
       "          1.57140827e-06,  9.86961901e-07,  1.32498932e-06],\n",
       "        ...,\n",
       "        [ 2.72923732e-06,  2.68977499e-06,  2.22840428e-06, ...,\n",
       "         -8.86824131e-06, -9.15017414e-06, -9.18076515e-06],\n",
       "        [-7.57295370e-07, -7.60519207e-07, -1.34473228e-06, ...,\n",
       "         -8.81045246e-06, -9.26756573e-06, -8.63762283e-06],\n",
       "        [-2.34778479e-07, -4.85717773e-07, -9.02947247e-07, ...,\n",
       "         -1.13235736e-06, -6.53914571e-07, -6.71788812e-07]],\n",
       "\n",
       "       [[-1.13699019e-06, -1.19030464e-06, -1.35985184e-06, ...,\n",
       "          3.81999046e-07,  1.31100088e-07, -4.97189373e-07],\n",
       "        [-6.16247058e-07, -2.07963139e-07,  1.92194790e-07, ...,\n",
       "         -6.66913509e-07, -1.12266850e-06, -2.07258987e-06],\n",
       "        [ 4.66704369e-11, -4.79349166e-07, -9.52847004e-07, ...,\n",
       "         -5.27325153e-07, -2.73546904e-07, -1.49656877e-07],\n",
       "        ...,\n",
       "        [ 1.55645609e-08,  3.86911720e-07,  9.07136321e-07, ...,\n",
       "          7.03179717e-07,  1.48726749e-06,  2.67505813e-06],\n",
       "        [ 8.61818671e-07,  8.33277345e-07,  1.03809464e-06, ...,\n",
       "         -8.62098932e-07,  6.18206382e-07,  2.58955240e-06],\n",
       "        [-1.10797501e-06, -1.46829855e-06, -2.24914384e-06, ...,\n",
       "          1.29323030e-06,  1.42999756e-06,  2.01056623e-06]]]),\n",
       "       array([[[-1.96592426e-06, -2.39439011e-06, -2.84050918e-06, ...,\n",
       "          2.38166285e-06,  1.56816745e-06,  8.42574477e-07],\n",
       "        [-1.68855858e-06, -2.08295321e-06, -2.69414949e-06, ...,\n",
       "          1.54227519e-06,  7.12945938e-07, -1.98055089e-07],\n",
       "        [-1.49671268e-06, -1.97627258e-06, -2.31878042e-06, ...,\n",
       "          2.15769911e-06,  1.65639162e-06,  1.32336545e-06],\n",
       "        ...,\n",
       "        [-1.14924669e-07, -7.40482211e-07, -1.47403169e-06, ...,\n",
       "         -1.46631444e-06, -1.32111287e-06, -1.34988761e-06],\n",
       "        [-7.96717286e-07, -1.47008300e-06, -2.01961684e-06, ...,\n",
       "         -2.36821032e-06, -2.02203178e-06, -1.91724062e-06],\n",
       "        [-3.13513041e-07, -6.55159891e-07, -9.68721509e-07, ...,\n",
       "         -2.99097013e-06, -2.46332240e-06, -2.27708650e-06]],\n",
       "\n",
       "       [[ 1.02272558e-06,  9.75225329e-07,  1.15750778e-06, ...,\n",
       "          8.68029952e-07,  2.20065045e-06,  1.79992175e-06],\n",
       "        [ 1.31876063e-06,  1.46947312e-06,  1.78868473e-06, ...,\n",
       "          1.34109938e-06,  2.49204874e-06,  1.81531703e-06],\n",
       "        [ 1.63215429e-07, -1.84841633e-07, -2.41907418e-07, ...,\n",
       "         -2.86085695e-07,  6.80763066e-07,  6.66680813e-07],\n",
       "        ...,\n",
       "        [ 8.49748731e-07,  8.24932456e-07,  5.58666825e-07, ...,\n",
       "          3.24381769e-07,  3.26883793e-08,  5.58963358e-07],\n",
       "        [ 1.74829602e-06,  1.59170663e-06,  9.75641787e-07, ...,\n",
       "          2.43751287e-07, -3.95881176e-07,  3.07446599e-07],\n",
       "        [ 2.20246816e-06,  2.05901551e-06,  1.30880976e-06, ...,\n",
       "          3.78520489e-07, -7.93013811e-07, -1.52878642e-07]],\n",
       "\n",
       "       [[-2.36816788e-06, -1.26076889e-06, -6.56389058e-07, ...,\n",
       "         -6.83742881e-07, -1.37673461e-06, -1.09071207e-06],\n",
       "        [-4.87650204e-06, -4.50716352e-06, -4.24517298e-06, ...,\n",
       "         -6.49150133e-07, -1.78143430e-06, -2.06998587e-06],\n",
       "        [ 1.15980601e-06,  2.47588110e-06,  3.13912439e-06, ...,\n",
       "          7.15186447e-08, -4.57851365e-08,  5.61378002e-07],\n",
       "        ...,\n",
       "        [-1.86183357e-06, -3.37829733e-06, -3.53300858e-06, ...,\n",
       "          3.18960190e-06,  4.44093943e-06,  4.27457952e-06],\n",
       "        [ 9.47624803e-07,  6.48940802e-08,  2.90315866e-07, ...,\n",
       "          2.27947664e-06,  4.01025248e-06,  4.32018089e-06],\n",
       "        [ 1.46018708e-06,  1.11253619e-07,  2.90747285e-08, ...,\n",
       "          5.72135210e-07,  2.37918043e-06,  2.56814837e-06]],\n",
       "\n",
       "       ...,\n",
       "\n",
       "       [[-1.06498110e-06, -2.13938332e-06, -2.34537077e-06, ...,\n",
       "          5.74010038e-06,  4.56462812e-06,  3.80265117e-06],\n",
       "        [-7.86903575e-08, -1.87963462e-06, -3.03869700e-06, ...,\n",
       "          6.83514738e-06,  5.45022440e-06,  4.49106455e-06],\n",
       "        [-1.10729110e-06, -8.24365318e-07,  1.47722453e-07, ...,\n",
       "          3.44317484e-06,  2.71636057e-06,  2.34507847e-06],\n",
       "        ...,\n",
       "        [-2.94435406e-06, -2.46014452e-06, -3.12000608e-06, ...,\n",
       "         -1.22190833e-07,  1.32332778e-06,  1.71655071e-06],\n",
       "        [-3.53030229e-06, -1.69673872e-06, -9.30336833e-07, ...,\n",
       "         -2.04858899e-06, -8.17151070e-07, -5.08480310e-07],\n",
       "        [-3.08016253e-06, -1.20258784e-06, -7.48997331e-07, ...,\n",
       "         -4.96109390e-06, -3.47699714e-06, -3.06773257e-06]],\n",
       "\n",
       "       [[-2.18241215e-06,  8.24820817e-07,  3.33936393e-07, ...,\n",
       "          4.40140128e-07, -1.10646814e-07, -2.10798219e-07],\n",
       "        [-3.44074225e-06, -2.00991318e-07, -5.34696043e-07, ...,\n",
       "          4.63829011e-07, -4.83184546e-07, -1.26980865e-06],\n",
       "        [-2.92056262e-07,  1.33735406e-06,  7.41372168e-07, ...,\n",
       "         -3.38427365e-07, -3.64107430e-07,  1.95370227e-07],\n",
       "        ...,\n",
       "        [ 8.36132336e-06,  5.74782848e-06,  5.18917131e-06, ...,\n",
       "         -3.26950526e-06, -5.04756689e-06, -7.03636885e-06],\n",
       "        [ 8.96303463e-06,  5.54914141e-06,  5.20935869e-06, ...,\n",
       "         -2.93051910e-06, -3.53367090e-06, -4.47377872e-06],\n",
       "        [ 7.42459345e-06,  3.51202369e-06,  3.95047522e-06, ...,\n",
       "         -1.86164403e-06, -1.83256614e-06, -2.49679518e-06]],\n",
       "\n",
       "       [[ 1.38596344e-06,  2.04205370e-06,  1.81025982e-06, ...,\n",
       "         -1.03082418e-07,  5.24418652e-07,  1.65574014e-06],\n",
       "        [-1.84317529e-06, -7.02183962e-07,  9.42667201e-09, ...,\n",
       "          2.58127642e-06,  3.12265205e-06,  3.79136872e-06],\n",
       "        [ 2.38296127e-06,  2.47165585e-06,  1.64759839e-06, ...,\n",
       "         -2.17880416e-06, -1.76911509e-06, -8.56981039e-07],\n",
       "        ...,\n",
       "        [-5.52320623e-06, -6.79886103e-06, -6.68449402e-06, ...,\n",
       "          7.47056675e-06,  6.63398075e-06,  5.82547283e-06],\n",
       "        [-2.62108445e-06, -3.84294796e-06, -4.02931929e-06, ...,\n",
       "          3.35332394e-06,  2.60385799e-06,  2.13968110e-06],\n",
       "        [-1.23628616e-06, -2.35113001e-06, -2.11935973e-06, ...,\n",
       "          1.78137910e-06,  9.43155944e-07,  4.84527290e-07]]]),\n",
       "       array([[[ 2.83000976e-07, -9.28423852e-08,  1.91938341e-07, ...,\n",
       "          1.84701300e-06,  1.93703198e-06,  2.02694631e-06],\n",
       "        [-2.27607226e-06, -2.62102199e-06, -1.70894289e-06, ...,\n",
       "          5.75724304e-07,  5.64267635e-07,  6.41489089e-07],\n",
       "        [ 7.35666633e-07, -1.17597997e-07, -1.86855257e-07, ...,\n",
       "          2.55028701e-06,  2.40141487e-06,  2.63180113e-06],\n",
       "        ...,\n",
       "        [ 5.72685862e-06,  7.15871525e-06,  5.80751610e-06, ...,\n",
       "         -2.04579878e-06, -7.47670352e-07, -1.39274776e-07],\n",
       "        [ 5.74446106e-06,  6.95645237e-06,  5.96268511e-06, ...,\n",
       "         -2.08846951e-06, -1.12646341e-06, -5.62411547e-08],\n",
       "        [ 4.24503899e-06,  5.44655085e-06,  4.29162741e-06, ...,\n",
       "         -1.13987660e-06, -2.14261234e-07,  9.55619812e-08]],\n",
       "\n",
       "       [[-2.67418385e-07,  2.86281228e-07,  3.88217479e-07, ...,\n",
       "         -2.00715351e-06, -1.59420455e-06, -1.49999094e-06],\n",
       "        [-1.08713436e-06, -4.91438031e-07, -4.44476098e-07, ...,\n",
       "         -2.41966486e-06, -2.32007933e-06, -2.39105248e-06],\n",
       "        [ 7.03558743e-07,  8.25092673e-07,  9.65685487e-07, ...,\n",
       "         -1.60099411e-06, -7.65804231e-07, -5.89256823e-07],\n",
       "        ...,\n",
       "        [-3.99322796e-06, -5.26182556e-06, -5.17551279e-06, ...,\n",
       "          6.14759177e-08, -1.46933806e-06, -2.39652181e-06],\n",
       "        [-2.21925354e-06, -3.72247124e-06, -3.60612917e-06, ...,\n",
       "          4.61400807e-07, -2.42645726e-07, -1.09444714e-06],\n",
       "        [-2.64360547e-06, -3.62451649e-06, -3.21774530e-06, ...,\n",
       "          5.62828481e-07, -3.26892644e-07, -6.45211637e-07]],\n",
       "\n",
       "       [[-8.88171554e-07, -8.03597569e-07, -1.12946346e-07, ...,\n",
       "          3.41297984e-08,  6.16333425e-07,  1.10986698e-06],\n",
       "        [-1.19048619e-06, -1.43288529e-06, -7.77603984e-07, ...,\n",
       "         -1.50027287e-06, -1.55475914e-06, -1.69595397e-06],\n",
       "        [-6.55106783e-07, -7.89985895e-07, -2.09559411e-07, ...,\n",
       "          3.29164195e-06,  4.12785959e-06,  4.63655329e-06],\n",
       "        ...,\n",
       "        [-1.94402552e-06, -4.09363538e-07, -8.99474204e-07, ...,\n",
       "          2.34990048e-06,  1.66838479e-06,  1.36020458e-06],\n",
       "        [-1.14547241e-06,  1.13959610e-07, -2.12477610e-07, ...,\n",
       "          2.57766151e-06,  2.46090555e-06,  2.46053529e-06],\n",
       "        [-1.46335053e-06, -2.70653188e-07, -8.50927770e-07, ...,\n",
       "          1.76580167e-06,  1.15051687e-06,  1.18271327e-06]],\n",
       "\n",
       "       ...,\n",
       "\n",
       "       [[-4.33045626e-08,  1.09658211e-07,  2.39647016e-07, ...,\n",
       "         -1.55720258e-06, -1.81174541e-06, -1.27574217e-06],\n",
       "        [ 3.33093703e-07,  1.89105153e-07,  4.19026971e-07, ...,\n",
       "         -1.29516184e-06, -1.50930834e-06, -9.71707702e-07],\n",
       "        [-1.27842855e-06, -5.14799416e-07, -6.04385376e-07, ...,\n",
       "         -1.92475319e-06, -1.86245239e-06, -1.97063458e-06],\n",
       "        ...,\n",
       "        [ 4.46817541e-06,  3.61852503e-06,  3.73491716e-06, ...,\n",
       "          1.44874358e-06,  1.22908676e-06,  1.17258000e-06],\n",
       "        [ 3.92076755e-06,  3.65844083e-06,  3.15175104e-06, ...,\n",
       "          7.51993060e-07,  6.44793034e-07, -8.26801360e-08],\n",
       "        [ 2.37437963e-06,  2.03620243e-06,  2.03896284e-06, ...,\n",
       "          9.58555222e-07,  9.86208737e-07,  6.70139790e-07]],\n",
       "\n",
       "       [[-8.63332897e-08,  2.05218673e-07,  3.36343408e-07, ...,\n",
       "          2.76211575e-08,  3.04553330e-07,  2.57234633e-07],\n",
       "        [ 4.68686849e-07,  8.90163660e-07,  1.09097147e-06, ...,\n",
       "         -1.69782087e-07,  9.87918302e-08,  5.46621643e-08],\n",
       "        [-6.30311191e-07, -6.67930365e-07, -6.30976707e-08, ...,\n",
       "         -7.54161477e-07, -4.41893876e-07,  2.82595098e-07],\n",
       "        ...,\n",
       "        [ 2.27138066e-06,  2.46310616e-06,  1.58163047e-06, ...,\n",
       "          5.14428854e-06,  4.55270529e-06,  3.60120988e-06],\n",
       "        [ 1.26164067e-06,  1.17591321e-06,  1.02977800e-06, ...,\n",
       "          4.87691784e-06,  4.29953718e-06,  4.06118870e-06],\n",
       "        [ 2.12201142e-06,  1.87846434e-06,  1.31802166e-06, ...,\n",
       "          2.29675388e-06,  1.88859093e-06,  1.67503214e-06]],\n",
       "\n",
       "       [[ 2.97210431e-06,  2.62442446e-06,  1.90507066e-06, ...,\n",
       "         -3.91927004e-06, -4.09001732e-06, -3.38722920e-06],\n",
       "        [ 1.58904314e-06,  1.10619640e-06,  6.06639087e-07, ...,\n",
       "         -2.07028985e-06, -2.44240952e-06, -1.85974896e-06],\n",
       "        [ 1.76168084e-06,  1.97796297e-06,  2.15855455e-06, ...,\n",
       "         -3.15527534e-06, -2.95229053e-06, -2.88242626e-06],\n",
       "        ...,\n",
       "        [-3.92084217e-06, -3.21516681e-06, -2.82733464e-06, ...,\n",
       "         -3.34880781e-06, -3.31927323e-06, -3.93025827e-06],\n",
       "        [-4.64282036e-06, -3.66344094e-06, -2.72141552e-06, ...,\n",
       "         -3.11076212e-06, -2.64609027e-06, -3.35897303e-06],\n",
       "        [-3.32390952e-06, -2.46180701e-06, -1.76126945e-06, ...,\n",
       "         -1.42836690e-06, -1.09833395e-06, -1.84550619e-06]]]),\n",
       "       array([[[-2.64320159e-06, -3.50351977e-06, -4.49624920e-06, ...,\n",
       "         -1.84296429e-07,  3.03288937e-07, -3.99135798e-07],\n",
       "        [-4.02353048e-06, -4.59647322e-06, -5.43752527e-06, ...,\n",
       "         -1.46692955e-06, -1.37337601e-06, -2.25015855e-06],\n",
       "        [-2.50802469e-06, -2.82571101e-06, -3.05858898e-06, ...,\n",
       "          3.40502191e-06,  3.71892190e-06,  3.02691936e-06],\n",
       "        ...,\n",
       "        [ 2.02027321e-07,  1.51963675e-06,  2.03524351e-06, ...,\n",
       "          1.83815396e-06,  5.42921424e-07, -3.01457942e-08],\n",
       "        [ 1.75391984e-06,  2.96929646e-06,  3.36195421e-06, ...,\n",
       "          1.85033154e-06,  7.68648088e-07,  1.06222719e-07],\n",
       "        [ 5.33838868e-07,  1.39070177e-06,  1.90090859e-06, ...,\n",
       "         -6.15907490e-07, -1.32014143e-06, -1.29493940e-06]],\n",
       "\n",
       "       [[-3.18853498e-07, -5.25854588e-07, -2.28393412e-06, ...,\n",
       "          1.74246478e-06,  2.69253850e-06,  2.88389802e-06],\n",
       "        [ 9.98986244e-07,  5.87596118e-07, -1.80112493e-06, ...,\n",
       "          1.52866590e-06,  2.67477822e-06,  3.19855976e-06],\n",
       "        [-7.85879850e-07, -3.61812919e-07, -6.36432230e-07, ...,\n",
       "          2.02423066e-07,  1.01463282e-06,  1.08440959e-06],\n",
       "        ...,\n",
       "        [-6.76125288e-06, -5.84491730e-06, -5.66476822e-06, ...,\n",
       "         -7.67087269e-06, -6.30007648e-06, -3.90681291e-06],\n",
       "        [-1.20953979e-05, -8.98630619e-06, -5.07615042e-06, ...,\n",
       "         -1.73540282e-06, -2.69238281e-06, -3.04504704e-06],\n",
       "        [-6.93823242e-06, -5.66799736e-06, -3.89595032e-06, ...,\n",
       "         -2.38530707e-06, -2.83633256e-06, -2.52520084e-06]],\n",
       "\n",
       "       [[-5.15601695e-07, -4.99317765e-07,  1.22853923e-06, ...,\n",
       "         -3.19783360e-07, -5.91697752e-07, -8.76809955e-07],\n",
       "        [-2.85359085e-07, -8.04974377e-07,  7.37175465e-07, ...,\n",
       "          4.80520457e-07, -4.99147102e-08, -5.98948479e-07],\n",
       "        [ 4.57485229e-07, -1.33410931e-07, -2.84487247e-07, ...,\n",
       "         -1.27446973e-06, -1.23062193e-06, -1.20460975e-06],\n",
       "        ...,\n",
       "        [ 5.99443102e-06,  5.59514332e-06,  7.62536907e-06, ...,\n",
       "          1.75303686e-06, -2.39736378e-07, -2.40866184e-06],\n",
       "        [ 5.59448004e-06,  4.01810551e-06,  2.09915805e-06, ...,\n",
       "         -4.34261370e-06, -4.67976856e-06, -4.48487091e-06],\n",
       "        [ 3.58106828e-06,  3.40036845e-06,  3.49429226e-06, ...,\n",
       "         -6.71889365e-07, -1.48974240e-06, -2.10162783e-06]],\n",
       "\n",
       "       ...,\n",
       "\n",
       "       [[-3.79079628e-06, -2.48108244e-06, -2.04279721e-07, ...,\n",
       "          1.13787341e-06, -2.28967023e-06, -1.71149850e-06],\n",
       "        [-5.40940952e-06, -5.26115799e-06, -3.71217799e-06, ...,\n",
       "          2.78458548e-06, -4.29531187e-07,  3.03547382e-07],\n",
       "        [ 1.05122459e-06,  2.03794956e-06,  3.14956355e-06, ...,\n",
       "         -1.67554927e-06, -4.09489346e-06, -4.03738070e-06],\n",
       "        ...,\n",
       "        [ 5.87800217e-06,  4.23018074e-06,  2.55097318e-06, ...,\n",
       "          1.72944570e-06,  6.58200026e-07,  9.68236864e-07],\n",
       "        [ 4.53310966e-06,  4.80629730e-06,  3.79831576e-06, ...,\n",
       "         -1.65638816e-06, -2.54117036e-06, -3.34641051e-06],\n",
       "        [ 1.74099529e-06,  1.62411475e-06,  9.40688491e-07, ...,\n",
       "          6.18142486e-07,  1.04049194e-06,  6.53330326e-07]],\n",
       "\n",
       "       [[ 3.49744827e-07, -1.09078026e-06,  1.08630395e-06, ...,\n",
       "         -6.14961004e-06, -6.62273788e-06, -7.18890619e-06],\n",
       "        [ 4.99954104e-07, -1.51003349e-06,  1.25573114e-07, ...,\n",
       "         -3.14315844e-06, -2.97598100e-06, -3.17666888e-06],\n",
       "        [ 4.86440778e-07,  7.03569174e-07,  2.55050302e-06, ...,\n",
       "         -3.94866967e-06, -5.11045647e-06, -6.33991098e-06],\n",
       "        ...,\n",
       "        [ 4.09289074e-06,  3.32934260e-06,  3.90024018e-06, ...,\n",
       "          6.87399435e-06,  1.03287783e-05,  1.25314894e-05],\n",
       "        [-9.51238215e-07, -2.83539104e-06, -3.86553407e-06, ...,\n",
       "          5.56689692e-06,  6.45086575e-06,  6.17359400e-06],\n",
       "        [ 6.40492141e-09, -1.31014907e-06, -2.37097740e-06, ...,\n",
       "          4.12407398e-06,  5.81709242e-06,  6.82225800e-06]],\n",
       "\n",
       "       [[-4.77050018e-06, -3.79515886e-06, -1.82580614e-06, ...,\n",
       "          2.03830743e-06,  3.69192791e-06,  6.22716570e-06],\n",
       "        [-4.00040054e-06, -2.63246655e-06, -7.26783693e-07, ...,\n",
       "          1.46925497e-06,  3.00276589e-06,  5.47846746e-06],\n",
       "        [-3.67157292e-06, -3.87407780e-06, -3.11575985e-06, ...,\n",
       "          1.85993004e-06,  2.72879124e-06,  4.37951946e-06],\n",
       "        ...,\n",
       "        [ 5.62241459e-06,  7.30975389e-06,  7.74570417e-06, ...,\n",
       "         -1.22288656e-06, -4.11092663e-06, -6.22721815e-06],\n",
       "        [-4.91346538e-07, -4.74919736e-07, -8.81882071e-07, ...,\n",
       "         -3.34190464e-06, -8.51112270e-06, -1.27603788e-05],\n",
       "        [ 1.71606636e-06,  2.45418096e-06,  2.63826132e-06, ...,\n",
       "         -2.19040990e-06, -5.03405809e-06, -7.53677082e-06]]]),\n",
       "       array([[[-1.35165882e-06, -8.16717863e-07, -4.82040137e-07, ...,\n",
       "         -4.38331157e-07, -7.58141041e-07, -8.85220647e-07],\n",
       "        [-8.91550839e-07, -5.52920997e-07, -3.11750591e-07, ...,\n",
       "         -1.08374763e-06, -1.44821358e-06, -1.59499764e-06],\n",
       "        [-9.97844934e-07, -7.85654604e-07, -8.43818724e-07, ...,\n",
       "         -1.62660554e-07, -3.77513409e-07, -4.58144933e-07],\n",
       "        ...,\n",
       "        [ 4.84910154e-06,  3.46383810e-06,  1.70715427e-06, ...,\n",
       "         -1.21228909e-06, -1.13911104e-06, -1.06526279e-06],\n",
       "        [ 2.18028069e-06,  8.67473423e-07, -9.09515619e-07, ...,\n",
       "         -7.82651961e-07, -4.50360417e-07, -2.31743544e-07],\n",
       "        [ 2.20258355e-06,  1.66433179e-06,  8.31894636e-07, ...,\n",
       "         -8.37936345e-09,  1.91623867e-07,  1.55795157e-07]],\n",
       "\n",
       "       [[ 2.66982198e-07,  3.68205220e-07,  3.77625614e-07, ...,\n",
       "         -2.25006795e-06, -1.35780537e-06, -5.04121900e-07],\n",
       "        [ 6.48228109e-07,  7.46853352e-07,  6.88050151e-07, ...,\n",
       "         -2.17349458e-06, -1.33183551e-06, -5.83192945e-07],\n",
       "        [-4.97383296e-07, -4.09339786e-07, -2.51442552e-07, ...,\n",
       "         -6.72612429e-07, -2.16084346e-07,  2.24872157e-07],\n",
       "        ...,\n",
       "        [-6.08020186e-07, -2.03126252e-07,  1.42377645e-07, ...,\n",
       "          7.67322123e-07,  4.93461549e-07,  3.11966121e-07],\n",
       "        [-6.79687738e-07, -6.55477107e-07, -5.64022362e-07, ...,\n",
       "          4.82910538e-06,  3.86452723e-06,  2.76773047e-06],\n",
       "        [-8.44697237e-07, -8.49321067e-07, -7.37564266e-07, ...,\n",
       "          2.54543567e-06,  2.16407657e-06,  1.69799018e-06]],\n",
       "\n",
       "       [[ 1.11300373e-06,  3.50214481e-07, -2.96733379e-07, ...,\n",
       "         -5.69658518e-07, -5.05449295e-07, -4.04783249e-07],\n",
       "        [ 6.47577047e-08, -5.52947581e-07, -9.68935668e-07, ...,\n",
       "         -1.02902317e-06, -9.68555808e-07, -9.45905328e-07],\n",
       "        [ 9.69640493e-07,  8.33567262e-07,  6.74740970e-07, ...,\n",
       "          1.05695486e-07,  2.17855573e-08,  3.26178968e-08],\n",
       "        ...,\n",
       "        [-2.86804628e-06, -2.55261278e-06, -1.65111065e-06, ...,\n",
       "         -1.04108536e-06, -1.34203744e-06, -1.23533940e-06],\n",
       "        [-2.07274175e-06, -8.02107811e-07,  8.89199257e-07, ...,\n",
       "         -2.43601143e-07, -6.28847837e-07, -6.94464087e-07],\n",
       "        [-1.88376689e-06, -1.47326183e-06, -7.40539908e-07, ...,\n",
       "         -9.17884111e-08, -2.03031093e-07, -1.45995200e-07]],\n",
       "\n",
       "       ...,\n",
       "\n",
       "       [[-3.85324669e-06, -3.49094296e-06, -2.69855595e-06, ...,\n",
       "          2.04531789e-06,  1.91087461e-06,  1.92068934e-06],\n",
       "        [-1.77259243e-06, -1.45720601e-06, -9.79400039e-07, ...,\n",
       "          1.91993189e-06,  1.92658925e-06,  2.13832426e-06],\n",
       "        [-3.61357570e-06, -3.31173515e-06, -2.71467233e-06, ...,\n",
       "          1.22991097e-06,  1.06466734e-06,  1.03081739e-06],\n",
       "        ...,\n",
       "        [-1.68275058e-06, -2.08698058e-06, -2.44873810e-06, ...,\n",
       "         -3.31712306e-07, -5.45299649e-07, -6.28870308e-07],\n",
       "        [-1.81488192e-06, -2.81027865e-06, -3.47816181e-06, ...,\n",
       "         -6.62330627e-07, -7.92381763e-07, -9.04199004e-07],\n",
       "        [ 3.41916621e-07, -2.54420877e-07, -8.16941202e-07, ...,\n",
       "         -1.39461422e-06, -1.25752103e-06, -1.23613691e-06]],\n",
       "\n",
       "       [[ 8.70439649e-07,  3.58559251e-07, -7.60474056e-08, ...,\n",
       "          1.86462831e-06,  2.44758987e-06,  2.54952765e-06],\n",
       "        [ 1.96900785e-07,  1.08404428e-07,  1.09386072e-07, ...,\n",
       "          3.53840202e-07,  1.02165484e-06,  1.27870619e-06],\n",
       "        [ 3.04063231e-07, -3.04070115e-07, -7.57761657e-07, ...,\n",
       "          1.55357528e-06,  1.76648223e-06,  1.73134005e-06],\n",
       "        ...,\n",
       "        [ 1.85049140e-06,  2.46373224e-06,  3.20173383e-06, ...,\n",
       "          3.98056805e-08, -2.02108636e-07, -4.68723059e-07],\n",
       "        [ 3.87558150e-06,  3.82494140e-06,  3.77708721e-06, ...,\n",
       "          3.95459354e-07,  5.01484275e-08, -2.36685559e-07],\n",
       "        [ 9.67367053e-07,  1.18742919e-06,  1.39379597e-06, ...,\n",
       "         -3.41571897e-07, -7.53210783e-07, -9.45878983e-07]],\n",
       "\n",
       "       [[-5.59127092e-07, -6.09040558e-07, -1.00981176e-06, ...,\n",
       "         -2.61852598e-06, -2.36443377e-06, -2.03685403e-06],\n",
       "        [-2.26744384e-07, -3.24074477e-07, -9.13714349e-07, ...,\n",
       "         -1.19245911e-06, -9.96518075e-07, -8.69154334e-07],\n",
       "        [-1.08977735e-06, -1.20305955e-06, -1.36199832e-06, ...,\n",
       "         -1.52493548e-06, -1.31933749e-06, -1.08781862e-06],\n",
       "        ...,\n",
       "        [ 2.01947021e-06,  9.81543899e-07, -1.39346883e-07, ...,\n",
       "          1.29335821e-07,  2.99611270e-07,  2.87129581e-07],\n",
       "        [ 1.81826901e-06,  8.93246949e-07,  1.60136282e-07, ...,\n",
       "         -9.32721913e-07, -5.41296959e-07, -1.86544225e-07],\n",
       "        [ 5.42327523e-07,  2.74654508e-07,  3.06807816e-07, ...,\n",
       "          2.74775982e-07,  4.10279214e-07,  4.64641631e-07]]]),\n",
       "       array([[[ 1.57618928e-06,  2.13961411e-06,  2.06399870e-06, ...,\n",
       "          1.69740498e-06,  1.32051516e-06,  1.48104727e-06],\n",
       "        [ 8.91193926e-07,  1.15547121e-06,  1.05283296e-06, ...,\n",
       "          1.90130889e-06,  1.65709639e-06,  1.84688854e-06],\n",
       "        [ 1.49254191e-06,  2.06464624e-06,  2.01396179e-06, ...,\n",
       "          1.13283610e-06,  7.35290647e-07,  8.38700294e-07],\n",
       "        ...,\n",
       "        [-1.36021960e-06, -1.62091851e-06, -1.70335066e-06, ...,\n",
       "         -2.21136427e-06, -1.60888088e-06, -1.52363861e-06],\n",
       "        [-1.12459910e-06, -1.19307899e-06, -1.25575531e-06, ...,\n",
       "         -2.89309001e-06, -2.39055753e-06, -2.41829157e-06],\n",
       "        [-1.15364563e-06, -1.46705592e-06, -1.47344315e-06, ...,\n",
       "         -1.62575328e-06, -1.23713255e-06, -1.25298798e-06]],\n",
       "\n",
       "       [[-1.61520088e-06, -9.01646018e-07, -3.81934494e-07, ...,\n",
       "          2.84103811e-07,  1.61576271e-07,  2.57555127e-07],\n",
       "        [-2.91120052e-07, -6.24101385e-08,  1.02688417e-07, ...,\n",
       "         -1.40113890e-07, -1.66475654e-07, -3.76791954e-08],\n",
       "        [-2.38472104e-06, -1.43815148e-06, -6.98578775e-07, ...,\n",
       "          5.16993999e-07,  3.93912852e-07,  4.41537142e-07],\n",
       "        ...,\n",
       "        [ 1.79207599e-06,  1.25187397e-06,  7.09122717e-07, ...,\n",
       "          9.66227889e-07,  1.06043029e-06,  1.10073781e-06],\n",
       "        [ 1.03567088e-06,  8.15639317e-07,  4.54165339e-07, ...,\n",
       "          1.98767853e-06,  2.03563166e-06,  2.03519654e-06],\n",
       "        [ 1.06335151e-06,  6.59717679e-07,  3.30965310e-07, ...,\n",
       "          2.72246659e-07,  3.58469307e-07,  3.33133698e-07]],\n",
       "\n",
       "       [[ 1.20250916e-06,  1.52114439e-06,  1.34638143e-06, ...,\n",
       "         -1.81630242e-06, -1.89282489e-06, -1.95056367e-06],\n",
       "        [ 1.87889743e-06,  2.26827502e-06,  2.21850467e-06, ...,\n",
       "         -1.84913874e-06, -1.84178686e-06, -2.00120640e-06],\n",
       "        [ 3.54719758e-07,  4.90187764e-07,  2.61563182e-07, ...,\n",
       "         -1.57481194e-06, -1.67434144e-06, -1.59484482e-06],\n",
       "        ...,\n",
       "        [ 6.38821125e-07,  1.24856353e-07, -2.99606204e-07, ...,\n",
       "          2.14198780e-06,  2.04364705e-06,  2.03035712e-06],\n",
       "        [ 3.98185432e-07, -3.90492857e-07, -1.23201907e-06, ...,\n",
       "          2.67890549e-06,  2.49244165e-06,  2.65273142e-06],\n",
       "        [-4.14419413e-07, -7.72790074e-07, -8.61155748e-07, ...,\n",
       "          1.50970817e-06,  1.49369168e-06,  1.53657103e-06]],\n",
       "\n",
       "       ...,\n",
       "\n",
       "       [[-2.82070661e-06, -2.32630754e-06, -1.69889081e-06, ...,\n",
       "         -2.13575125e-06, -2.23788595e-06, -3.32944775e-06],\n",
       "        [-2.57699633e-06, -1.85961843e-06, -1.03497803e-06, ...,\n",
       "         -2.21364713e-06, -2.37630272e-06, -3.29430819e-06],\n",
       "        [-2.44059682e-06, -2.25073242e-06, -1.95404279e-06, ...,\n",
       "         -1.41740382e-06, -1.45742774e-06, -2.30153799e-06],\n",
       "        ...,\n",
       "        [ 1.70378804e-06,  1.68211448e-06,  1.59559298e-06, ...,\n",
       "          2.14531183e-06,  2.23442030e-06,  2.57360673e-06],\n",
       "        [ 1.70168924e-06,  1.44252491e-06,  1.09773076e-06, ...,\n",
       "          3.07715082e-06,  3.28977966e-06,  3.50853610e-06],\n",
       "        [ 1.77036822e-06,  1.51752198e-06,  1.18802428e-06, ...,\n",
       "          1.75239384e-06,  1.82892942e-06,  2.43763781e-06]],\n",
       "\n",
       "       [[ 1.11231589e-06,  7.24346757e-07,  4.59988564e-07, ...,\n",
       "         -1.82599795e-06, -1.14162552e-06, -1.87902808e-06],\n",
       "        [ 7.26805091e-07,  9.02314186e-08, -3.98402631e-07, ...,\n",
       "         -1.18248534e-06, -8.58128905e-07, -1.57778049e-06],\n",
       "        [ 1.07067609e-06,  9.23906803e-07,  8.57690215e-07, ...,\n",
       "         -1.80526674e-06, -1.19381011e-06, -1.79008400e-06],\n",
       "        ...,\n",
       "        [ 6.87244296e-07,  6.99175298e-07,  4.88363475e-07, ...,\n",
       "          2.60713518e-07, -1.75533772e-07,  3.21040154e-08],\n",
       "        [ 1.51131654e-06,  1.73587382e-06,  1.62996686e-06, ...,\n",
       "         -6.68263018e-07, -9.63616490e-07, -8.10360134e-07],\n",
       "        [-1.87952578e-07,  4.65172529e-09,  6.06676191e-08, ...,\n",
       "          8.31382155e-07,  3.75980854e-07,  7.61204958e-07]],\n",
       "\n",
       "       [[-4.21468765e-07,  1.20110869e-07,  8.52304399e-07, ...,\n",
       "         -4.84939426e-07,  2.66980827e-08,  1.16986990e-06],\n",
       "        [-9.68590915e-07, -4.83689874e-07,  2.39012510e-07, ...,\n",
       "          3.92695934e-07,  5.23463249e-07,  1.12222934e-06],\n",
       "        [ 1.26901299e-07,  5.29304326e-07,  1.01735687e-06, ...,\n",
       "         -1.31279826e-06, -6.86569810e-07,  5.52773952e-07],\n",
       "        ...,\n",
       "        [ 4.26356792e-07, -1.65454671e-07, -7.33796179e-07, ...,\n",
       "          9.09998477e-07,  4.23165947e-07, -5.09096503e-07],\n",
       "        [ 9.45470452e-07,  2.20976353e-07, -5.35887599e-07, ...,\n",
       "          3.06747735e-07,  7.87636936e-08, -5.41945457e-07],\n",
       "        [ 4.72281545e-07,  7.92673230e-09, -5.40351868e-07, ...,\n",
       "          2.81128109e-07, -8.13873410e-08, -8.47746134e-07]]]),\n",
       "       array([[[-2.46393919e-07, -3.70852470e-07, -3.76795352e-07, ...,\n",
       "         -4.22473335e-06, -2.17382240e-06, -1.34013772e-06],\n",
       "        [-2.90246987e-06, -2.70802879e-06, -2.41663623e-06, ...,\n",
       "         -3.75458407e-06, -1.45003831e-06, -5.19796371e-07],\n",
       "        [ 3.30325556e-06,  2.83005309e-06,  2.23335862e-06, ...,\n",
       "         -2.80800462e-06, -1.52634323e-06, -1.24004161e-06],\n",
       "        ...,\n",
       "        [-4.83594179e-06, -4.74488735e-06, -4.50430965e-06, ...,\n",
       "          5.10948658e-06,  4.09731579e-06,  3.39209914e-06],\n",
       "        [-3.08432627e-06, -3.47580075e-06, -3.55804801e-06, ...,\n",
       "          3.72362351e-06,  1.54255855e-06,  2.22870320e-07],\n",
       "        [-2.60105324e-06, -2.85305977e-06, -2.72144842e-06, ...,\n",
       "          3.86320615e-06,  1.39708209e-06,  2.20436111e-07]],\n",
       "\n",
       "       [[-1.92204690e-06, -2.30321145e-06, -4.28183556e-06, ...,\n",
       "          1.34385526e-07,  2.11814761e-07, -3.59655499e-06],\n",
       "        [-1.44790995e-06, -2.19522786e-06, -4.43248940e-06, ...,\n",
       "          7.01109886e-07,  6.13092422e-07, -3.19573164e-06],\n",
       "        [-1.75712669e-06, -1.25020111e-06, -2.13502836e-06, ...,\n",
       "         -7.18053579e-07, -7.30009854e-07, -3.99975872e-06],\n",
       "        ...,\n",
       "        [ 2.52747130e-06,  2.43091559e-06,  3.23583007e-06, ...,\n",
       "          6.82851136e-07, -1.86912835e-07,  7.32841849e-07],\n",
       "        [ 3.15203905e-06,  2.55248427e-06,  2.91142416e-06, ...,\n",
       "          4.06515074e-06,  3.48656917e-06,  4.69921303e-06],\n",
       "        [ 2.67545128e-06,  2.29205608e-06,  3.25858140e-06, ...,\n",
       "          3.37173033e-06,  2.44636059e-06,  4.26922941e-06]],\n",
       "\n",
       "       [[ 9.45003152e-07, -7.72769153e-07,  1.03751528e-06, ...,\n",
       "          7.25534320e-07,  1.04868889e-07, -1.81991434e-06],\n",
       "        [-3.83320212e-07, -1.89016247e-06, -8.27834755e-09, ...,\n",
       "          2.90819788e-06,  2.77064395e-06,  9.57761168e-07],\n",
       "        [ 2.99471283e-06,  1.28238523e-06,  2.43888712e-06, ...,\n",
       "         -2.65185475e-06, -3.57426405e-06, -5.10154772e-06],\n",
       "        ...,\n",
       "        [-2.49198675e-06, -9.88265991e-07, -2.24706554e-06, ...,\n",
       "         -6.88051224e-07,  4.70734239e-08,  1.73778999e-06],\n",
       "        [-5.55304229e-07,  1.48188138e-06, -2.58185297e-07, ...,\n",
       "         -1.15734029e-06, -1.92618978e-06, -1.23667467e-06],\n",
       "        [-1.92871451e-06, -4.91589718e-08, -1.94332087e-06, ...,\n",
       "         -8.28814387e-07, -4.41713482e-07,  1.41251481e-06]],\n",
       "\n",
       "       ...,\n",
       "\n",
       "       [[ 4.83742809e-06,  2.13361812e-06,  7.37306070e-06, ...,\n",
       "          3.50234604e-06,  5.41413069e-06,  4.50286245e-06],\n",
       "        [ 5.30435324e-06,  2.15817928e-06,  6.81113720e-06, ...,\n",
       "          1.24313402e-06,  2.97805738e-06,  1.73505294e-06],\n",
       "        [ 1.78500032e-06, -5.73660433e-08,  4.94338942e-06, ...,\n",
       "          3.57646632e-06,  5.40867901e-06,  5.06034184e-06],\n",
       "        ...,\n",
       "        [ 3.15810710e-07,  1.59773827e-06, -2.27352929e-06, ...,\n",
       "         -4.88106918e-06, -5.43664789e-06, -4.42468786e-06],\n",
       "        [ 3.75448614e-07,  2.17596340e-06, -3.13215613e-06, ...,\n",
       "         -1.77306950e-06, -2.11194777e-06,  1.02388895e-06],\n",
       "        [ 7.37032056e-07,  3.30564809e-06, -2.39471865e-06, ...,\n",
       "         -2.26022100e-06, -3.41673732e-06, -1.78183722e-06]],\n",
       "\n",
       "       [[ 2.14742565e-06,  2.08902073e-06,  4.43021476e-07, ...,\n",
       "          4.60521877e-07,  1.80016875e-06,  5.65964758e-07],\n",
       "        [ 1.40599346e-06,  1.82953048e-06,  5.34477651e-07, ...,\n",
       "         -1.05836317e-07,  1.12971222e-06,  1.10025927e-07],\n",
       "        [ 1.75042927e-06,  9.95203376e-07, -7.96818674e-07, ...,\n",
       "          8.69523048e-07,  1.75895691e-06,  2.57750064e-07],\n",
       "        ...,\n",
       "        [-1.20300150e-06, -1.08689451e-06,  1.25796139e-07, ...,\n",
       "         -2.58055854e-06, -2.00205588e-06, -3.42637300e-07],\n",
       "        [ 6.31651938e-07, -3.49980593e-07,  7.95710206e-07, ...,\n",
       "         -2.29472852e-06, -1.09642231e-06,  6.90221369e-07],\n",
       "        [-3.97426039e-08, -3.49114120e-07,  1.05820930e-06, ...,\n",
       "         -3.31715107e-07, -3.49861145e-07,  1.32342398e-06]],\n",
       "\n",
       "       [[-2.27761316e-06, -4.23484945e-06, -2.67076588e-06, ...,\n",
       "         -4.00768566e-06, -1.82961726e-06, -3.52456832e-06],\n",
       "        [-3.62111068e-06, -5.18292999e-06, -3.30545712e-06, ...,\n",
       "         -3.45221734e-06, -9.93691981e-07, -2.25147796e-06],\n",
       "        [ 7.08035231e-07, -1.76878524e-06, -1.30498278e-06, ...,\n",
       "         -2.88145804e-06, -1.55104434e-06, -3.64362216e-06],\n",
       "        ...,\n",
       "        [-7.54900217e-07,  1.66096270e-07, -3.78461152e-07, ...,\n",
       "          2.64064169e-06,  1.01281989e-06,  1.70110559e-06],\n",
       "        [ 1.50297928e-06,  2.48394227e-06,  1.25402236e-06, ...,\n",
       "          2.31931806e-06,  6.43874705e-07,  1.98497021e-06],\n",
       "        [-9.48795080e-07,  1.23980272e-06,  6.19007528e-07, ...,\n",
       "          4.54843855e-06,  2.02040982e-06,  3.16957402e-06]]]),\n",
       "       array([[[-5.33412695e-07, -1.44303322e-06, -1.96371675e-06, ...,\n",
       "         -2.66242361e-06, -2.83175874e-06, -3.01463103e-06],\n",
       "        [-1.99951708e-06, -2.20622849e-06, -2.20907521e-06, ...,\n",
       "         -2.97489190e-06, -2.52007818e-06, -2.07613444e-06],\n",
       "        [ 1.41049385e-06,  2.54229605e-07, -6.89006329e-07, ...,\n",
       "         -1.58859158e-06, -2.17290235e-06, -3.01055264e-06],\n",
       "        ...,\n",
       "        [-1.67037010e-07,  1.35199678e-06,  2.70301676e-06, ...,\n",
       "          6.03044891e-06,  5.70359325e-06,  6.77405596e-06],\n",
       "        [ 2.12255383e-06,  3.19706392e-06,  3.88058877e-06, ...,\n",
       "          5.75402641e-06,  5.41267633e-06,  6.45874310e-06],\n",
       "        [ 5.48961878e-07,  1.48215747e-06,  2.02104783e-06, ...,\n",
       "          4.38635445e-06,  4.33460331e-06,  5.33387327e-06]],\n",
       "\n",
       "       [[ 1.10350460e-07,  1.24724317e-06,  1.77168441e-06, ...,\n",
       "         -2.38254476e-06, -1.60038900e-06, -8.13705862e-07],\n",
       "        [ 6.40759110e-07,  1.29824758e-06,  1.59332478e-06, ...,\n",
       "         -3.40250659e-06, -2.78536320e-06, -2.24839258e-06],\n",
       "        [-1.35334706e-06, -4.85950053e-07, -1.15104064e-07, ...,\n",
       "         -9.94375467e-07, -1.54673338e-07,  8.81844461e-07],\n",
       "        ...,\n",
       "        [ 4.13177252e-06,  4.39462757e-06,  4.53118324e-06, ...,\n",
       "          5.55914164e-06,  3.30275917e-06,  2.45097816e-07],\n",
       "        [ 1.49098206e-06,  1.84501457e-06,  2.07238674e-06, ...,\n",
       "          6.36775064e-06,  4.41250944e-06,  1.46059120e-06],\n",
       "        [ 7.00210571e-07,  1.21456146e-06,  1.54384267e-06, ...,\n",
       "          4.80573177e-06,  3.56457305e-06,  1.20743883e-06]],\n",
       "\n",
       "       [[-3.06406426e-06, -2.23112488e-06, -1.37266803e-06, ...,\n",
       "          8.67684126e-07,  5.46580911e-07,  1.36303663e-07],\n",
       "        [-5.50920773e-06, -4.64610481e-06, -3.44569635e-06, ...,\n",
       "          6.14763141e-07,  1.08754659e-06,  1.03206825e-06],\n",
       "        [ 6.99571252e-07,  1.04440522e-06,  1.03691995e-06, ...,\n",
       "          3.88495326e-07, -5.77719212e-07, -1.19180167e-06],\n",
       "        ...,\n",
       "        [ 9.26050568e-06,  7.82551670e-06,  7.17140722e-06, ...,\n",
       "          1.74784827e-06,  1.36725688e-06,  3.86134624e-07],\n",
       "        [ 1.16172800e-05,  1.02503109e-05,  9.41489220e-06, ...,\n",
       "          6.88211918e-07, -2.02214718e-08, -1.16489947e-06],\n",
       "        [ 7.47760868e-06,  6.55581617e-06,  6.06065273e-06, ...,\n",
       "         -4.86019135e-07, -7.07888722e-07, -1.36660981e-06]],\n",
       "\n",
       "       ...,\n",
       "\n",
       "       [[-1.05044661e-05, -1.01896849e-05, -1.05006361e-05, ...,\n",
       "          1.97393227e-06,  1.72225988e-06,  1.99969089e-06],\n",
       "        [-3.99890900e-06, -4.77371597e-06, -5.47054768e-06, ...,\n",
       "          5.08339548e-06,  5.37518215e-06,  5.43997622e-06],\n",
       "        [-1.46905098e-05, -1.35147915e-05, -1.30620918e-05, ...,\n",
       "         -2.69648647e-06, -3.63347840e-06, -3.24065685e-06],\n",
       "        ...,\n",
       "        [ 2.68316193e-05,  2.74315548e-05,  2.79689636e-05, ...,\n",
       "          5.20224190e-06,  6.48978996e-06,  5.77105379e-06],\n",
       "        [ 2.29813194e-05,  2.45989285e-05,  2.56926270e-05, ...,\n",
       "          2.95510769e-07,  1.18997931e-06,  6.63572907e-07],\n",
       "        [ 2.22319736e-05,  2.30977631e-05,  2.36658745e-05, ...,\n",
       "          3.58989954e-07,  1.29432213e-06,  9.98972654e-07]],\n",
       "\n",
       "       [[ 2.89437890e-06,  2.04622936e-06,  1.10682034e-06, ...,\n",
       "          1.80522537e-06,  1.79513752e-06, -5.20169973e-07],\n",
       "        [ 6.43835258e-06,  5.07408571e-06,  3.75876117e-06, ...,\n",
       "          6.46669686e-07,  1.25745535e-06,  1.01765490e-06],\n",
       "        [-2.74971271e-06, -3.04177475e-06, -3.16555548e-06, ...,\n",
       "          3.36162448e-06,  2.92133999e-06, -9.25501108e-07],\n",
       "        ...,\n",
       "        [ 6.84319675e-07,  3.30902791e-06,  4.60569715e-06, ...,\n",
       "         -5.59541798e-06, -6.05930424e-06, -5.81151009e-07],\n",
       "        [-1.03701055e-07,  2.43518186e-06,  3.76710463e-06, ...,\n",
       "         -5.56148767e-06, -5.87001038e-06, -1.82623267e-06],\n",
       "        [ 1.26557851e-06,  3.10267782e-06,  3.90007162e-06, ...,\n",
       "         -6.65184355e-06, -6.88563013e-06, -3.16437745e-06]],\n",
       "\n",
       "       [[ 2.26600313e-06,  1.74500382e-06, -5.04789501e-08, ...,\n",
       "          1.99586689e-06,  5.51243365e-07,  4.82333571e-07],\n",
       "        [ 2.46086192e-06,  2.29381299e-06,  2.53990889e-06, ...,\n",
       "         -3.50638479e-07, -9.70643282e-07, -1.76220560e-06],\n",
       "        [-4.43845749e-07, -1.23404860e-06, -4.42317390e-06, ...,\n",
       "          5.49125051e-06,  3.46659994e-06,  4.01056385e-06],\n",
       "        ...,\n",
       "        [ 5.86638403e-06,  7.29938698e-06,  1.04432230e-05, ...,\n",
       "         -1.15691948e-05, -6.74048615e-06, -5.48240280e-06],\n",
       "        [ 5.33710861e-06,  6.35545826e-06,  7.92253876e-06, ...,\n",
       "         -8.20291901e-06, -4.54616308e-06, -3.11212635e-06],\n",
       "        [ 4.51657581e-06,  5.28409958e-06,  6.55784416e-06, ...,\n",
       "         -6.29484129e-06, -3.42336273e-06, -2.46743488e-06]]])],\n",
       "      dtype=object)"
      ]
     },
     "execution_count": 43,
     "metadata": {},
     "output_type": "execute_result"
    }
   ],
   "source": [
    "pp_rh_raw"
   ]
  },
  {
   "cell_type": "code",
   "execution_count": null,
   "metadata": {},
   "outputs": [],
   "source": []
  },
  {
   "cell_type": "code",
   "execution_count": 44,
   "metadata": {},
   "outputs": [
    {
     "data": {
      "text/plain": [
       "(61, 1250)"
      ]
     },
     "execution_count": 44,
     "metadata": {},
     "output_type": "execute_result"
    }
   ],
   "source": [
    "pp_rh_raw[4][3].shape"
   ]
  },
  {
   "cell_type": "code",
   "execution_count": null,
   "metadata": {},
   "outputs": [],
   "source": []
  },
  {
   "cell_type": "markdown",
   "metadata": {},
   "source": [
    "Get HFD over the set time window"
   ]
  },
  {
   "cell_type": "code",
   "execution_count": 16,
   "metadata": {},
   "outputs": [],
   "source": [
    "window_start_sec = 3\n",
    "window_size = 2\n",
    "freq = 250\n",
    "\n",
    "k = 7"
   ]
  },
  {
   "cell_type": "code",
   "execution_count": 38,
   "metadata": {},
   "outputs": [
    {
     "name": "stdout",
     "output_type": "stream",
     "text": [
      "Calculating HFD with window start 750 window size 500 step 1\n",
      "Calculating HFD with window start 750 window size 500 step 1\n",
      "Calculating HFD with window start 750 window size 500 step 1\n",
      "Calculating HFD with window start 750 window size 500 step 1\n",
      "Calculating HFD with window start 750 window size 500 step 1\n",
      "Calculating HFD with window start 750 window size 500 step 1\n",
      "Calculating HFD with window start 750 window size 500 step 1\n",
      "Calculating HFD with window start 750 window size 500 step 1\n",
      "Calculating HFD with window start 750 window size 500 step 1\n",
      "Calculating HFD with window start 750 window size 500 step 1\n",
      "Calculating HFD with window start 750 window size 500 step 1\n",
      "Calculating HFD with window start 750 window size 500 step 1\n"
     ]
    }
   ],
   "source": [
    "pp_rh = np.array([patient_array_to_hfd(patient, window_start=int(window_start_sec*freq), window_size=window_size*freq, k=k) for patient in pp_rh_raw])\n",
    "pnp_rh = np.array([patient_array_to_hfd(patient, window_start=int(window_start_sec*freq), window_size=window_size*freq, k=k) for patient in pnp_rh_raw])"
   ]
  },
  {
   "cell_type": "markdown",
   "metadata": {},
   "source": [
    "OR get HFD for all limbs"
   ]
  },
  {
   "cell_type": "code",
   "execution_count": 13,
   "metadata": {},
   "outputs": [
    {
     "name": "stdout",
     "output_type": "stream",
     "text": [
      "Calculating HFD with window start 750 window size 500 step 1\n",
      "Calculating HFD with window start 750 window size 500 step 1\n",
      "Calculating HFD with window start 750 window size 500 step 1\n",
      "Calculating HFD with window start 750 window size 500 step 1\n",
      "Calculating HFD with window start 750 window size 500 step 1\n",
      "Calculating HFD with window start 750 window size 500 step 1\n",
      "Calculating HFD with window start 750 window size 500 step 1\n",
      "Calculating HFD with window start 750 window size 500 step 1\n",
      "Calculating HFD with window start 750 window size 500 step 1\n",
      "Calculating HFD with window start 750 window size 500 step 1\n",
      "Calculating HFD with window start 750 window size 500 step 1\n",
      "Calculating HFD with window start 750 window size 500 step 1\n",
      "Calculating HFD with window start 750 window size 500 step 1\n",
      "Calculating HFD with window start 750 window size 500 step 1\n",
      "Calculating HFD with window start 750 window size 500 step 1\n",
      "Calculating HFD with window start 750 window size 500 step 1\n",
      "Calculating HFD with window start 750 window size 500 step 1\n",
      "Calculating HFD with window start 750 window size 500 step 1\n",
      "Calculating HFD with window start 750 window size 500 step 1\n",
      "Calculating HFD with window start 750 window size 500 step 1\n",
      "Calculating HFD with window start 750 window size 500 step 1\n",
      "Calculating HFD with window start 750 window size 500 step 1\n",
      "Calculating HFD with window start 750 window size 500 step 1\n",
      "Calculating HFD with window start 750 window size 500 step 1\n",
      "Calculating HFD with window start 750 window size 500 step 1\n",
      "Calculating HFD with window start 750 window size 500 step 1\n",
      "Calculating HFD with window start 750 window size 500 step 1\n",
      "Calculating HFD with window start 750 window size 500 step 1\n",
      "Calculating HFD with window start 750 window size 500 step 1\n",
      "Calculating HFD with window start 750 window size 500 step 1\n",
      "Calculating HFD with window start 750 window size 500 step 1\n",
      "Calculating HFD with window start 750 window size 500 step 1\n",
      "Calculating HFD with window start 750 window size 500 step 1\n",
      "Calculating HFD with window start 750 window size 500 step 1\n",
      "Calculating HFD with window start 750 window size 500 step 1\n",
      "Calculating HFD with window start 750 window size 500 step 1\n",
      "Calculating HFD with window start 750 window size 500 step 1\n",
      "Calculating HFD with window start 750 window size 500 step 1\n",
      "Calculating HFD with window start 750 window size 500 step 1\n",
      "Calculating HFD with window start 750 window size 500 step 1\n",
      "Calculating HFD with window start 750 window size 500 step 1\n",
      "Calculating HFD with window start 750 window size 500 step 1\n",
      "Calculating HFD with window start 750 window size 500 step 1\n",
      "Calculating HFD with window start 750 window size 500 step 1\n",
      "Calculating HFD with window start 750 window size 500 step 1\n",
      "Calculating HFD with window start 750 window size 500 step 1\n",
      "Calculating HFD with window start 750 window size 500 step 1\n",
      "Calculating HFD with window start 750 window size 500 step 1\n",
      "Calculating HFD with window start 750 window size 500 step 1\n",
      "Calculating HFD with window start 750 window size 500 step 1\n",
      "Calculating HFD with window start 750 window size 500 step 1\n",
      "Calculating HFD with window start 750 window size 500 step 1\n",
      "Calculating HFD with window start 750 window size 500 step 1\n",
      "Calculating HFD with window start 750 window size 500 step 1\n",
      "Calculating HFD with window start 750 window size 500 step 1\n",
      "Calculating HFD with window start 750 window size 500 step 1\n",
      "Calculating HFD with window start 750 window size 500 step 1\n"
     ]
    }
   ],
   "source": [
    "pp_rh = np.array([patient_array_to_hfd(patient, window_start=int(window_start_sec*freq), window_size=window_size*freq, k=k) for patient in pp_all_limbs])\n",
    "pnp_rh = np.array([patient_array_to_hfd(patient, window_start=int(window_start_sec*freq), window_size=window_size*freq, k=k) for patient in pnp_all_limbs])\n",
    "#hv_rh = np.array([patient_array_to_hfd(patient, window_start=int(window_start_sec*freq), window_size=window_size*freq, k=k) for patient in hv_rh_limbs])"
   ]
  },
  {
   "cell_type": "markdown",
   "metadata": {},
   "source": [
    "Alternatively, get HFD over all windows of the specified size"
   ]
  },
  {
   "cell_type": "code",
   "execution_count": 53,
   "metadata": {},
   "outputs": [
    {
     "name": "stdout",
     "output_type": "stream",
     "text": [
      "Calculating HFD with window start 0 window size 500 step 1\n",
      "Calculating HFD with window start 0 window size 500 step 1\n",
      "Calculating HFD with window start 0 window size 500 step 1\n",
      "Calculating HFD with window start 0 window size 500 step 1\n",
      "Calculating HFD with window start 0 window size 500 step 1\n",
      "Calculating HFD with window start 0 window size 500 step 1\n",
      "Calculating HFD with window start 0 window size 500 step 1\n",
      "Calculating HFD with window start 0 window size 500 step 1\n",
      "Calculating HFD with window start 0 window size 500 step 1\n",
      "Calculating HFD with window start 0 window size 500 step 1\n",
      "Calculating HFD with window start 250 window size 500 step 1\n",
      "Calculating HFD with window start 250 window size 500 step 1\n",
      "Calculating HFD with window start 250 window size 500 step 1\n",
      "Calculating HFD with window start 250 window size 500 step 1\n",
      "Calculating HFD with window start 250 window size 500 step 1\n",
      "Calculating HFD with window start 250 window size 500 step 1\n",
      "Calculating HFD with window start 250 window size 500 step 1\n",
      "Calculating HFD with window start 250 window size 500 step 1\n",
      "Calculating HFD with window start 250 window size 500 step 1\n",
      "Calculating HFD with window start 250 window size 500 step 1\n",
      "Calculating HFD with window start 500 window size 500 step 1\n",
      "Calculating HFD with window start 500 window size 500 step 1\n",
      "Calculating HFD with window start 500 window size 500 step 1\n",
      "Calculating HFD with window start 500 window size 500 step 1\n",
      "Calculating HFD with window start 500 window size 500 step 1\n",
      "Calculating HFD with window start 500 window size 500 step 1\n",
      "Calculating HFD with window start 500 window size 500 step 1\n",
      "Calculating HFD with window start 500 window size 500 step 1\n",
      "Calculating HFD with window start 500 window size 500 step 1\n",
      "Calculating HFD with window start 500 window size 500 step 1\n",
      "Calculating HFD with window start 750 window size 500 step 1\n",
      "Calculating HFD with window start 750 window size 500 step 1\n",
      "Calculating HFD with window start 750 window size 500 step 1\n",
      "Calculating HFD with window start 750 window size 500 step 1\n",
      "Calculating HFD with window start 750 window size 500 step 1\n",
      "Calculating HFD with window start 750 window size 500 step 1\n",
      "Calculating HFD with window start 750 window size 500 step 1\n",
      "Calculating HFD with window start 750 window size 500 step 1\n",
      "Calculating HFD with window start 750 window size 500 step 1\n",
      "Calculating HFD with window start 750 window size 500 step 1\n",
      "Calculating HFD with window start 0 window size 500 step 1\n",
      "Calculating HFD with window start 0 window size 500 step 1\n",
      "Calculating HFD with window start 0 window size 500 step 1\n",
      "Calculating HFD with window start 0 window size 500 step 1\n",
      "Calculating HFD with window start 0 window size 500 step 1\n",
      "Calculating HFD with window start 0 window size 500 step 1\n",
      "Calculating HFD with window start 0 window size 500 step 1\n",
      "Calculating HFD with window start 0 window size 500 step 1\n",
      "Calculating HFD with window start 0 window size 500 step 1\n",
      "Calculating HFD with window start 250 window size 500 step 1\n",
      "Calculating HFD with window start 250 window size 500 step 1\n",
      "Calculating HFD with window start 250 window size 500 step 1\n",
      "Calculating HFD with window start 250 window size 500 step 1\n",
      "Calculating HFD with window start 250 window size 500 step 1\n",
      "Calculating HFD with window start 250 window size 500 step 1\n",
      "Calculating HFD with window start 250 window size 500 step 1\n",
      "Calculating HFD with window start 250 window size 500 step 1\n",
      "Calculating HFD with window start 250 window size 500 step 1\n",
      "Calculating HFD with window start 500 window size 500 step 1\n",
      "Calculating HFD with window start 500 window size 500 step 1\n",
      "Calculating HFD with window start 500 window size 500 step 1\n",
      "Calculating HFD with window start 500 window size 500 step 1\n",
      "Calculating HFD with window start 500 window size 500 step 1\n",
      "Calculating HFD with window start 500 window size 500 step 1\n",
      "Calculating HFD with window start 500 window size 500 step 1\n",
      "Calculating HFD with window start 500 window size 500 step 1\n",
      "Calculating HFD with window start 500 window size 500 step 1\n",
      "Calculating HFD with window start 750 window size 500 step 1\n",
      "Calculating HFD with window start 750 window size 500 step 1\n",
      "Calculating HFD with window start 750 window size 500 step 1\n",
      "Calculating HFD with window start 750 window size 500 step 1\n",
      "Calculating HFD with window start 750 window size 500 step 1\n",
      "Calculating HFD with window start 750 window size 500 step 1\n",
      "Calculating HFD with window start 750 window size 500 step 1\n",
      "Calculating HFD with window start 750 window size 500 step 1\n",
      "Calculating HFD with window start 750 window size 500 step 1\n",
      "Calculating HFD with window start 0 window size 500 step 1\n",
      "Calculating HFD with window start 0 window size 500 step 1\n",
      "Calculating HFD with window start 0 window size 500 step 1\n",
      "Calculating HFD with window start 0 window size 500 step 1\n",
      "Calculating HFD with window start 0 window size 500 step 1\n",
      "Calculating HFD with window start 0 window size 500 step 1\n",
      "Calculating HFD with window start 0 window size 500 step 1\n",
      "Calculating HFD with window start 0 window size 500 step 1\n",
      "Calculating HFD with window start 0 window size 500 step 1\n",
      "Calculating HFD with window start 0 window size 500 step 1\n",
      "Calculating HFD with window start 250 window size 500 step 1\n",
      "Calculating HFD with window start 250 window size 500 step 1\n",
      "Calculating HFD with window start 250 window size 500 step 1\n",
      "Calculating HFD with window start 250 window size 500 step 1\n",
      "Calculating HFD with window start 250 window size 500 step 1\n",
      "Calculating HFD with window start 250 window size 500 step 1\n",
      "Calculating HFD with window start 250 window size 500 step 1\n",
      "Calculating HFD with window start 250 window size 500 step 1\n",
      "Calculating HFD with window start 250 window size 500 step 1\n",
      "Calculating HFD with window start 250 window size 500 step 1\n",
      "Calculating HFD with window start 500 window size 500 step 1\n",
      "Calculating HFD with window start 500 window size 500 step 1\n",
      "Calculating HFD with window start 500 window size 500 step 1\n",
      "Calculating HFD with window start 500 window size 500 step 1\n",
      "Calculating HFD with window start 500 window size 500 step 1\n",
      "Calculating HFD with window start 500 window size 500 step 1\n",
      "Calculating HFD with window start 500 window size 500 step 1\n",
      "Calculating HFD with window start 500 window size 500 step 1\n",
      "Calculating HFD with window start 500 window size 500 step 1\n",
      "Calculating HFD with window start 500 window size 500 step 1\n",
      "Calculating HFD with window start 750 window size 500 step 1\n",
      "Calculating HFD with window start 750 window size 500 step 1\n",
      "Calculating HFD with window start 750 window size 500 step 1\n",
      "Calculating HFD with window start 750 window size 500 step 1\n",
      "Calculating HFD with window start 750 window size 500 step 1\n",
      "Calculating HFD with window start 750 window size 500 step 1\n",
      "Calculating HFD with window start 750 window size 500 step 1\n",
      "Calculating HFD with window start 750 window size 500 step 1\n",
      "Calculating HFD with window start 750 window size 500 step 1\n",
      "Calculating HFD with window start 750 window size 500 step 1\n"
     ]
    }
   ],
   "source": [
    "pp_all_windows = [[patient_array_to_hfd(patient, window_start=window*freq, window_size=window_size*freq, k=k) for patient in pp_rh_raw] for window in range(0,4)]\n",
    "pnp_all_windows = [[patient_array_to_hfd(patient, window_start=window*freq, window_size=window_size*freq, k=k) for patient in pnp_rh_raw] for window in range(0,4)]\n",
    "hv_all_windows = [[patient_array_to_hfd(patient, window_start=window*freq, window_size=window_size*freq, k=k) for patient in hv_rh_raw] for window in range(0,4)]"
   ]
  },
  {
   "cell_type": "code",
   "execution_count": 18,
   "metadata": {},
   "outputs": [],
   "source": [
    "np_all = np.array(pp_all_windows)"
   ]
  },
  {
   "cell_type": "code",
   "execution_count": 19,
   "metadata": {},
   "outputs": [
    {
     "data": {
      "text/plain": [
       "530"
      ]
     },
     "execution_count": 19,
     "metadata": {},
     "output_type": "execute_result"
    }
   ],
   "source": [
    "np.sum([s.shape[0] for s in np_all[0]])"
   ]
  },
  {
   "cell_type": "code",
   "execution_count": 20,
   "metadata": {},
   "outputs": [
    {
     "ename": "NameError",
     "evalue": "name 'pnp_rh' is not defined",
     "output_type": "error",
     "traceback": [
      "\u001b[1;31m---------------------------------------------------------------------------\u001b[0m",
      "\u001b[1;31mNameError\u001b[0m                                 Traceback (most recent call last)",
      "\u001b[1;32m<ipython-input-20-5a2bdda77d68>\u001b[0m in \u001b[0;36m<module>\u001b[1;34m\u001b[0m\n\u001b[1;32m----> 1\u001b[1;33m \u001b[0mpnp_rh\u001b[0m\u001b[1;33m.\u001b[0m\u001b[0mshape\u001b[0m\u001b[1;33m\u001b[0m\u001b[1;33m\u001b[0m\u001b[0m\n\u001b[0m",
      "\u001b[1;31mNameError\u001b[0m: name 'pnp_rh' is not defined"
     ]
    }
   ],
   "source": [
    "pnp_rh.shape"
   ]
  },
  {
   "cell_type": "code",
   "execution_count": null,
   "metadata": {},
   "outputs": [],
   "source": []
  },
  {
   "cell_type": "code",
   "execution_count": 21,
   "metadata": {},
   "outputs": [
    {
     "data": {
      "text/plain": [
       "(4, 9)"
      ]
     },
     "execution_count": 21,
     "metadata": {},
     "output_type": "execute_result"
    }
   ],
   "source": [
    "# Over individual patients\n",
    "pp_all_windows_patients_repetitions = np.array([[np.array([[ channel[0] for channel in repetition ] for repetition in patient ]) for patient in window ] for window in np.array(pp_all_windows) ])\n",
    "pnp_all_windows_patients_repetitions = np.array([[np.array([[ channel[0] for channel in repetition ] for repetition in patient ]) for patient in window ] for window in np.array(pnp_all_windows) ])\n",
    "hv_all_windows_patients_repetitions = np.array([[np.array([[ channel[0] for channel in repetition ] for repetition in patient ]) for patient in window ] for window in np.array(hv_all_windows) ])\n",
    "\n",
    "pnp_all_windows_patients_repetitions.shape"
   ]
  },
  {
   "cell_type": "code",
   "execution_count": 54,
   "metadata": {},
   "outputs": [
    {
     "data": {
      "text/plain": [
       "(4, 528, 61)"
      ]
     },
     "execution_count": 54,
     "metadata": {},
     "output_type": "execute_result"
    }
   ],
   "source": [
    "# All repetitions concatenated\n",
    "pp_all_windows_repetitions = np.array([np.vstack([np.array([[ channel[0] for channel in repetition ] for repetition in patient ]) for patient in window ]) for window in np.array(pp_all_windows) ])\n",
    "pnp_all_windows_repetitions = np.array([np.vstack([np.array([[ channel[0] for channel in repetition ] for repetition in patient ]) for patient in window ]) for window in np.array(pnp_all_windows) ])\n",
    "hv_all_windows_repetitions = np.array([np.vstack([np.array([[ channel[0] for channel in repetition ] for repetition in patient ]) for patient in window ]) for window in np.array(hv_all_windows) ])\n",
    "\n",
    "pp_all_windows_repetitions.shape"
   ]
  },
  {
   "cell_type": "code",
   "execution_count": null,
   "metadata": {},
   "outputs": [],
   "source": []
  },
  {
   "cell_type": "code",
   "execution_count": 23,
   "metadata": {},
   "outputs": [
    {
     "data": {
      "text/plain": [
       "(61, 4)"
      ]
     },
     "execution_count": 23,
     "metadata": {},
     "output_type": "execute_result"
    }
   ],
   "source": [
    "pp_mean_all_windows = np.mean(pp_all_windows_repetitions, axis=1).transpose()\n",
    "pnp_mean_all_windows = np.mean(pnp_all_windows_repetitions, axis=1).transpose()\n",
    "hv_mean_all_windows = np.mean(hv_all_windows_repetitions, axis=1).transpose()\n",
    "\n",
    "pnp_mean_all_windows.shape"
   ]
  },
  {
   "cell_type": "code",
   "execution_count": null,
   "metadata": {},
   "outputs": [],
   "source": []
  },
  {
   "cell_type": "code",
   "execution_count": 74,
   "metadata": {},
   "outputs": [],
   "source": [
    "diff_pp_pnp_all_windows = pp_mean_all_windows - pnp_mean_all_windows\n",
    "diff_pp_pnp_all_windows = diff_pp_pnp_all_windows - diff_pp_pnp_all_windows.mean()\n",
    "\n",
    "diff_hv_pnp_all_windows = hv_mean_all_windows - pnp_mean_all_windows\n",
    "diff_hv_pnp_all_windows = diff_hv_pnp_all_windows - diff_hv_pnp_all_windows.mean()\n",
    "\n",
    "diff_hv_pp_all_windows = hv_mean_all_windows - pp_mean_all_windows\n",
    "diff_hv_pp_all_windows = diff_hv_pp_all_windows - diff_hv_pp_all_windows.mean()"
   ]
  },
  {
   "cell_type": "code",
   "execution_count": null,
   "metadata": {},
   "outputs": [],
   "source": []
  },
  {
   "cell_type": "code",
   "execution_count": 75,
   "metadata": {},
   "outputs": [],
   "source": [
    "scipy.io.savemat('./results/arrays/hfd_2s_window_means_l.mat', {'pp': pp_mean_all_windows, 'pnp': pnp_mean_all_windows, 'hv': hv_mean_all_windows,\n",
    "                                                                'diff_pp_pnp': diff_pp_pnp_all_windows, 'diff_hv_pnp': diff_hv_pnp_all_windows,\n",
    "                                                                'diff_hv_pp': diff_hv_pp_all_windows})"
   ]
  },
  {
   "cell_type": "code",
   "execution_count": 34,
   "metadata": {},
   "outputs": [],
   "source": [
    "scipy.io.savemat('./results/arrays/hfd_2s_window_individuals_lh.mat', {'pp': pp_all_windows_patients_repetitions, 'pnp': pnp_all_windows_patients_repetitions, 'hv': hv_all_windows_patients_repetitions,})"
   ]
  },
  {
   "cell_type": "code",
   "execution_count": 55,
   "metadata": {},
   "outputs": [],
   "source": [
    "scipy.io.savemat('./results/arrays/hfd_2s_window_repetitions_l.mat', {'pp': pp_all_windows_repetitions, 'pnp': pnp_all_windows_repetitions, 'hv': hv_all_windows_repetitions,})"
   ]
  },
  {
   "cell_type": "code",
   "execution_count": 59,
   "metadata": {},
   "outputs": [],
   "source": [
    "testtt = scipy.io.loadmat('./results/arrays/hfd_2s_window_repetitions_l.mat')"
   ]
  },
  {
   "cell_type": "code",
   "execution_count": 60,
   "metadata": {},
   "outputs": [
    {
     "data": {
      "text/plain": [
       "(4, 528, 61)"
      ]
     },
     "execution_count": 60,
     "metadata": {},
     "output_type": "execute_result"
    }
   ],
   "source": [
    "testtt['pp'].shape"
   ]
  },
  {
   "cell_type": "code",
   "execution_count": 77,
   "metadata": {},
   "outputs": [
    {
     "data": {
      "text/plain": [
       "array([[0., 0., 0., 0.],\n",
       "       [0., 0., 0., 0.],\n",
       "       [0., 0., 0., 0.],\n",
       "       [0., 0., 0., 0.],\n",
       "       [0., 0., 0., 0.],\n",
       "       [0., 0., 0., 0.],\n",
       "       [0., 0., 0., 0.],\n",
       "       [0., 0., 0., 0.],\n",
       "       [0., 0., 0., 0.],\n",
       "       [0., 0., 0., 0.],\n",
       "       [0., 0., 0., 0.],\n",
       "       [0., 0., 0., 0.],\n",
       "       [0., 0., 0., 0.],\n",
       "       [0., 0., 0., 0.],\n",
       "       [0., 0., 0., 0.],\n",
       "       [0., 0., 0., 0.],\n",
       "       [0., 0., 0., 0.],\n",
       "       [0., 0., 0., 0.],\n",
       "       [0., 0., 0., 0.],\n",
       "       [0., 0., 0., 0.],\n",
       "       [0., 0., 0., 0.],\n",
       "       [0., 0., 0., 0.],\n",
       "       [0., 0., 0., 0.],\n",
       "       [0., 0., 0., 0.],\n",
       "       [0., 0., 0., 0.],\n",
       "       [0., 0., 0., 0.],\n",
       "       [0., 0., 0., 0.],\n",
       "       [0., 0., 0., 0.],\n",
       "       [0., 0., 0., 0.],\n",
       "       [0., 0., 0., 0.],\n",
       "       [0., 0., 0., 0.],\n",
       "       [0., 0., 0., 0.],\n",
       "       [0., 0., 0., 0.],\n",
       "       [0., 0., 0., 0.],\n",
       "       [0., 0., 0., 0.],\n",
       "       [0., 0., 0., 0.],\n",
       "       [0., 0., 0., 0.],\n",
       "       [0., 0., 0., 0.],\n",
       "       [0., 0., 0., 0.],\n",
       "       [0., 0., 0., 0.],\n",
       "       [0., 0., 0., 0.],\n",
       "       [0., 0., 0., 0.],\n",
       "       [0., 0., 0., 0.],\n",
       "       [0., 0., 0., 0.],\n",
       "       [0., 0., 0., 0.],\n",
       "       [0., 0., 0., 0.],\n",
       "       [0., 0., 0., 0.],\n",
       "       [0., 0., 0., 0.],\n",
       "       [0., 0., 0., 0.],\n",
       "       [0., 0., 0., 0.],\n",
       "       [0., 0., 0., 0.],\n",
       "       [0., 0., 0., 0.],\n",
       "       [0., 0., 0., 0.],\n",
       "       [0., 0., 0., 0.],\n",
       "       [0., 0., 0., 0.],\n",
       "       [0., 0., 0., 0.],\n",
       "       [0., 0., 0., 0.],\n",
       "       [0., 0., 0., 0.],\n",
       "       [0., 0., 0., 0.],\n",
       "       [0., 0., 0., 0.],\n",
       "       [0., 0., 0., 0.]])"
      ]
     },
     "execution_count": 77,
     "metadata": {},
     "output_type": "execute_result"
    }
   ],
   "source": [
    "(testtt['hv'] - testtt['pp']) - (testtt['hv'] - testtt['pp']).mean() - testtt['diff_hv_pp']"
   ]
  },
  {
   "cell_type": "code",
   "execution_count": null,
   "metadata": {},
   "outputs": [],
   "source": []
  },
  {
   "cell_type": "code",
   "execution_count": 32,
   "metadata": {},
   "outputs": [
    {
     "data": {
      "text/plain": [
       "(61, 4)"
      ]
     },
     "execution_count": 32,
     "metadata": {},
     "output_type": "execute_result"
    }
   ],
   "source": [
    "diff_all_windows = pp_mean_all_windows - pnp_mean_all_windows\n",
    "diff_all_windows = diff_all_windows - diff_all_windows.mean()\n",
    "diff_all_windows.shape"
   ]
  },
  {
   "cell_type": "code",
   "execution_count": 50,
   "metadata": {},
   "outputs": [
    {
     "data": {
      "text/plain": [
       "NormaltestResult(statistic=6.237889128480401, pvalue=0.044203798077269985)"
      ]
     },
     "execution_count": 50,
     "metadata": {},
     "output_type": "execute_result"
    }
   ],
   "source": [
    "scipy.stats.normaltest(diff_all_windows.flatten())"
   ]
  },
  {
   "cell_type": "code",
   "execution_count": 48,
   "metadata": {},
   "outputs": [],
   "source": [
    "max_hfd = np.max([np.max(pp_all_windows_repetitions), np.max(pnp_all_windows_repetitions)])\n",
    "min_hfd = np.min([np.min(pp_all_windows_repetitions), np.min(pnp_all_windows_repetitions)])"
   ]
  },
  {
   "cell_type": "code",
   "execution_count": 116,
   "metadata": {},
   "outputs": [
    {
     "data": {
      "text/plain": [
       "2.0088042433392497"
      ]
     },
     "execution_count": 116,
     "metadata": {},
     "output_type": "execute_result"
    }
   ],
   "source": [
    "np.max(pp_all_windows_repetitions)"
   ]
  },
  {
   "cell_type": "code",
   "execution_count": 117,
   "metadata": {},
   "outputs": [
    {
     "data": {
      "text/plain": [
       "1.855078571120525"
      ]
     },
     "execution_count": 117,
     "metadata": {},
     "output_type": "execute_result"
    }
   ],
   "source": [
    "np.mean(pp_all_windows_repetitions, axis=1).transpose()[14][1]"
   ]
  },
  {
   "cell_type": "code",
   "execution_count": 102,
   "metadata": {
    "scrolled": true
   },
   "outputs": [
    {
     "data": {
      "image/png": "[encoded data removed]",
      "text/plain": [
       "<Figure size 1080x1080 with 1 Axes>"
      ]
     },
     "metadata": {
      "needs_background": "light"
     },
     "output_type": "display_data"
    }
   ],
   "source": [
    "title = 'Normalized HFD values in ' + limb['name'] + ' within a 2s sliding window, HV; k=7'\n",
    "graph_name = 'window_hv_' + limb['name']\n",
    "\n",
    "plt.figure(figsize=[15,15])\n",
    "plt.title(title)\n",
    "plt.ylabel('Channel')\n",
    "plt.yticks(ticks=range(61), labels=ch_names)\n",
    "plt.xticks(range(4))\n",
    "plt.xlabel('Time window start (s)')\n",
    "plt.imshow(pp_mean_all_windows)\n",
    "plt.savefig('./results/graphs/' + limb['name'] + '/' + graph_name + '.eps')\n",
    "plt.savefig('./results/graphs/' + limb['name'] + '/' + graph_name + '.jpg')"
   ]
  },
  {
   "cell_type": "code",
   "execution_count": 85,
   "metadata": {},
   "outputs": [
    {
     "data": {
      "image/png": "[encoded data removed]",
      "text/plain": [
       "<Figure size 1080x1080 with 1 Axes>"
      ]
     },
     "metadata": {
      "needs_background": "light"
     },
     "output_type": "display_data"
    }
   ],
   "source": [
    "title = 'Normalized HFD values in ' + limb['name'] + ' within a 2s sliding window, PNP; k=7'\n",
    "graph_name = 'window_pnp_' + limb['name']\n",
    "\n",
    "plt.figure(figsize=[15,15])\n",
    "plt.title(title)\n",
    "plt.ylabel('Channel')\n",
    "plt.yticks(ticks=range(61), labels=ch_names)\n",
    "plt.xticks(range(4))\n",
    "plt.xlabel('Time window start (s)')\n",
    "plt.imshow(pnp_mean_all_windows)\n",
    "plt.savefig('./results/graphs/' + limb['name'] + '/' + graph_name + '.eps')\n",
    "plt.savefig('./results/graphs/' + limb['name'] + '/' + graph_name + '.jpg')"
   ]
  },
  {
   "cell_type": "code",
   "execution_count": 26,
   "metadata": {},
   "outputs": [
    {
     "data": {
      "text/plain": [
       "array([-0.00362196,  0.00719893,  0.00538829, -0.0068483 ])"
      ]
     },
     "execution_count": 26,
     "metadata": {},
     "output_type": "execute_result"
    }
   ],
   "source": [
    "diff_all_windows[ch_names.index('P1')]"
   ]
  },
  {
   "cell_type": "code",
   "execution_count": 27,
   "metadata": {},
   "outputs": [
    {
     "data": {
      "text/plain": [
       "-0.014372063369156874"
      ]
     },
     "execution_count": 27,
     "metadata": {},
     "output_type": "execute_result"
    }
   ],
   "source": [
    "diff_all_windows.min()"
   ]
  },
  {
   "cell_type": "code",
   "execution_count": 28,
   "metadata": {},
   "outputs": [
    {
     "data": {
      "text/plain": [
       "(7, 0)"
      ]
     },
     "execution_count": 28,
     "metadata": {},
     "output_type": "execute_result"
    }
   ],
   "source": [
    "asda = np.abs(diff_all_windows - np.zeros(diff_all_windows.shape))\n",
    "np.unravel_index(asda.argmin(), asda.shape)"
   ]
  },
  {
   "cell_type": "code",
   "execution_count": 29,
   "metadata": {},
   "outputs": [
    {
     "data": {
      "text/plain": [
       "'CP2'"
      ]
     },
     "execution_count": 29,
     "metadata": {},
     "output_type": "execute_result"
    }
   ],
   "source": [
    "ch_names[20]"
   ]
  },
  {
   "cell_type": "code",
   "execution_count": 118,
   "metadata": {},
   "outputs": [
    {
     "data": {
      "image/png": "[encoded data removed]",
      "text/plain": [
       "<Figure size 1080x1080 with 1 Axes>"
      ]
     },
     "metadata": {
      "needs_background": "light"
     },
     "output_type": "display_data"
    }
   ],
   "source": [
    "title = str('Normalized HFD difference in ' + limb['name'] + ' between HV and PP within a 2s sliding window; k=7\\n' +\n",
    "        'Red indicates HV > PP; Blue indicates HV < PP; white indicates similar values')\n",
    "graph_name = 'window_hv_pp_diff_' + limb['name']\n",
    "\n",
    "plt.figure(figsize=[15,15])\n",
    "plt.title(title)\n",
    "plt.ylabel('Channel')\n",
    "plt.yticks(ticks=range(61), labels=ch_names)\n",
    "plt.xticks(range(4))\n",
    "plt.xlabel('Time window start (s)')\n",
    "plt.imshow(diff_all_windows, cmap='bwr')\n",
    "\n",
    "plt.savefig('./results/graphs/' + limb['name'] + '/' + graph_name + '.eps')\n",
    "plt.savefig('./results/graphs/' + limb['name'] + '/' + graph_name + '.jpg')"
   ]
  },
  {
   "cell_type": "code",
   "execution_count": null,
   "metadata": {},
   "outputs": [],
   "source": []
  },
  {
   "cell_type": "code",
   "execution_count": null,
   "metadata": {},
   "outputs": [],
   "source": []
  },
  {
   "cell_type": "code",
   "execution_count": null,
   "metadata": {},
   "outputs": [],
   "source": [
    "pnp_rh[0].shape"
   ]
  },
  {
   "cell_type": "code",
   "execution_count": null,
   "metadata": {},
   "outputs": [],
   "source": [
    "pp_rh[3].shape"
   ]
  },
  {
   "cell_type": "code",
   "execution_count": null,
   "metadata": {},
   "outputs": [],
   "source": [
    "pp_and_pnp = np.concatenate((pp_rh, pnp_rh))\n",
    "pp_and_pnp.shape"
   ]
  },
  {
   "cell_type": "markdown",
   "metadata": {},
   "source": [
    "# It's time to learn"
   ]
  },
  {
   "cell_type": "code",
   "execution_count": 40,
   "metadata": {},
   "outputs": [],
   "source": [
    "log_proc_method = 'HFD'\n",
    "log_dataset = 'PP/PDP-' + limb['name']\n",
    "log_db_name = 'log.db'\n",
    "\n",
    "log_notes = {'window start': window_start_sec, 'window size': window_size, 'k': k}"
   ]
  },
  {
   "cell_type": "code",
   "execution_count": 41,
   "metadata": {},
   "outputs": [
    {
     "data": {
      "text/plain": [
       "'PP/PDP-RH'"
      ]
     },
     "execution_count": 41,
     "metadata": {},
     "output_type": "execute_result"
    }
   ],
   "source": [
    "log_dataset"
   ]
  },
  {
   "cell_type": "code",
   "execution_count": null,
   "metadata": {},
   "outputs": [],
   "source": [
    "nu = 0.652008\n",
    "channels = [12, 16]\n",
    "\n",
    "acc, sensitivity, specificity, avg_acc = classify_nusvm_cross_valid(pp_rh, pnp_rh, nu, channels, ch_names,\n",
    "                                                                    log_db_name=log_db_name,\n",
    "                                                                    log_txt=True,\n",
    "                                                                    log_proc_method=log_proc_method,\n",
    "                                                                    log_dataset=log_dataset,\n",
    "                                                                    log_notes=log_notes,\n",
    "                                                                    log_details=False\n",
    "                                                                   )\n",
    "print('Accuracy', acc)\n",
    "print('Sensitivity', sensitivity)\n",
    "print('Specificity', specificity)\n",
    "print('Average accuracy', avg_acc)"
   ]
  },
  {
   "cell_type": "code",
   "execution_count": null,
   "metadata": {},
   "outputs": [],
   "source": []
  },
  {
   "cell_type": "code",
   "execution_count": null,
   "metadata": {},
   "outputs": [],
   "source": [
    "previous_channels=[17, 17, 24]\n",
    "nu = 0.7\n",
    "\n",
    "max_acc = {'index': 0, 'value': 0}\n",
    "for channel in range(61):        \n",
    "    accuracy, sensitivity, specificity, avg_accuracy = classify_nusvm_cross_valid(pp_rh, pnp_rh, nu, \n",
    "                                                                                  previous_channels + [channel], \n",
    "                                                                                  verbose=False,\n",
    "                                                                                  log_db_name=log_db_name,\n",
    "                                                                                  log_txt=True,\n",
    "                                                                                  log_proc_method=log_proc_method,\n",
    "                                                                                  log_dataset=log_dataset,\n",
    "                                                                                  log_notes=log_notes\n",
    "                                                                                 )\n",
    "    print(channel, accuracy, sensitivity, specificity, avg_accuracy)\n",
    "        \n",
    "    if accuracy > max_acc['value']:\n",
    "        max_acc['index'] = channel\n",
    "        max_acc['value'] = accuracy\n",
    "\n",
    "print('Max accuracy:', max_acc['index'], max_acc['value'])"
   ]
  },
  {
   "cell_type": "code",
   "execution_count": null,
   "metadata": {},
   "outputs": [],
   "source": []
  },
  {
   "cell_type": "code",
   "execution_count": null,
   "metadata": {},
   "outputs": [],
   "source": [
    "channels = [17, 17, 24]\n",
    "\n",
    "max_acc = {'index': 0, 'value': 0}\n",
    "for param in np.arange(0.1, 0.8, 0.001):    \n",
    "    accuracy, sensitivity, specificity, avg_accuracy = classify_nusvm_cross_valid(pp_rh, pnp_rh, param,\n",
    "                                                                                  channels,\n",
    "                                                                                  verbose=False, \n",
    "                                                                                  log_db_name=log_db_name,\n",
    "                                                                                  log_txt=True,\n",
    "                                                                                  log_proc_method=log_proc_method,\n",
    "                                                                                  log_dataset=log_dataset,\n",
    "                                                                                  log_notes=log_notes\n",
    "                                                                                 ) \n",
    "                                                      \n",
    "\n",
    "    print(param, accuracy, sensitivity, specificity, avg_accuracy)\n",
    "        \n",
    "    if accuracy > max_acc['value']:\n",
    "        max_acc['index'] = param\n",
    "        max_acc['value'] = accuracy\n",
    "\n",
    "        \n",
    "print('Max accuracy:', max_acc['index'], max_acc['value'])"
   ]
  },
  {
   "cell_type": "code",
   "execution_count": null,
   "metadata": {},
   "outputs": [],
   "source": []
  },
  {
   "cell_type": "code",
   "execution_count": 42,
   "metadata": {},
   "outputs": [
    {
     "name": "stdout",
     "output_type": "stream",
     "text": [
      "nu: 0.1\n",
      "[6] 0.76\n",
      "[6] 0.76\n",
      "Max Accuracy: {'channels': [6], 'value': 0.7631578947368421, 'nu': 0.1}\n",
      "nu: 0.125\n",
      "[8] 0.77\n",
      "[8] 0.77\n",
      "Max Accuracy: {'channels': [8], 'value': 0.7690058479532164, 'nu': 0.125}\n",
      "nu: 0.15\n",
      "[44] 0.75\n",
      "[44, 39] 0.75\n",
      "[44, 39] 0.75\n",
      "Max Accuracy: {'channels': [8], 'value': 0.7690058479532164, 'nu': 0.125}\n",
      "nu: 0.175\n",
      "[32] 0.73\n",
      "[32, 12] 0.77\n",
      "[32, 12] 0.77\n",
      "Max Accuracy: {'channels': [32, 12], 'value': 0.7733918128654971, 'nu': 0.175}\n",
      "nu: 0.19999999999999998\n",
      "[19] 0.75\n",
      "[19, 31] 0.81\n",
      "[19, 31, 9] 0.81\n",
      "[19, 31, 9] 0.81\n",
      "Max Accuracy: {'channels': [19, 31, 9], 'value': 0.8084795321637427, 'nu': 0.19999999999999998}\n",
      "nu: 0.22499999999999998\n",
      "[29] 0.70\n",
      "[29, 12] 0.71\n",
      "[29, 12, 15] 0.76\n",
      "[29, 12, 15, 6] 0.82\n",
      "[29, 12, 15, 6] 0.82\n",
      "Max Accuracy: {'channels': [29, 12, 15, 6], 'value': 0.8245614035087719, 'nu': 0.22499999999999998}\n",
      "nu: 0.24999999999999997\n",
      "[10] 0.69\n",
      "[10] 0.69\n",
      "Max Accuracy: {'channels': [29, 12, 15, 6], 'value': 0.8245614035087719, 'nu': 0.22499999999999998}\n",
      "nu: 0.27499999999999997\n",
      "[12] 0.71\n",
      "[12] 0.71\n",
      "Max Accuracy: {'channels': [29, 12, 15, 6], 'value': 0.8245614035087719, 'nu': 0.22499999999999998}\n",
      "nu: 0.29999999999999993\n",
      "[42] 0.82\n",
      "[42] 0.82\n",
      "Max Accuracy: {'channels': [29, 12, 15, 6], 'value': 0.8245614035087719, 'nu': 0.22499999999999998}\n",
      "nu: 0.32499999999999996\n",
      "[42] 0.78\n",
      "[42] 0.78\n",
      "Max Accuracy: {'channels': [29, 12, 15, 6], 'value': 0.8245614035087719, 'nu': 0.22499999999999998}\n",
      "nu: 0.35\n",
      "[17] 0.76\n",
      "[17, 20] 0.79\n",
      "[17, 20, 13] 0.79\n",
      "[17, 20, 13] 0.79\n",
      "Max Accuracy: {'channels': [29, 12, 15, 6], 'value': 0.8245614035087719, 'nu': 0.22499999999999998}\n",
      "nu: 0.3749999999999999\n",
      "[8] 0.85\n",
      "[8] 0.85\n",
      "Max Accuracy: {'channels': [8], 'value': 0.8523391812865497, 'nu': 0.3749999999999999}\n",
      "nu: 0.3999999999999999\n",
      "[42] 0.73\n",
      "[42] 0.73\n",
      "Max Accuracy: {'channels': [8], 'value': 0.8523391812865497, 'nu': 0.3749999999999999}\n",
      "nu: 0.42499999999999993\n",
      "[12] 0.84\n",
      "[12] 0.84\n",
      "Max Accuracy: {'channels': [8], 'value': 0.8523391812865497, 'nu': 0.3749999999999999}\n",
      "nu: 0.44999999999999996\n",
      "[43] 0.81\n",
      "[43] 0.81\n",
      "Max Accuracy: {'channels': [8], 'value': 0.8523391812865497, 'nu': 0.3749999999999999}\n",
      "nu: 0.47499999999999987\n",
      "[16] 0.72\n",
      "[16] 0.72\n",
      "Max Accuracy: {'channels': [8], 'value': 0.8523391812865497, 'nu': 0.3749999999999999}\n",
      "nu: 0.4999999999999999\n",
      "[20] 0.79\n",
      "[20] 0.79\n",
      "Max Accuracy: {'channels': [8], 'value': 0.8523391812865497, 'nu': 0.3749999999999999}\n",
      "nu: 0.5249999999999999\n",
      "[44] 0.70\n",
      "[44, 12] 0.73\n",
      "[44, 12] 0.73\n",
      "Max Accuracy: {'channels': [8], 'value': 0.8523391812865497, 'nu': 0.3749999999999999}\n",
      "nu: 0.5499999999999999\n",
      "[1] 0.84\n",
      "[1] 0.84\n",
      "Max Accuracy: {'channels': [8], 'value': 0.8523391812865497, 'nu': 0.3749999999999999}\n",
      "nu: 0.5749999999999998\n",
      "[19] 0.80\n",
      "[19] 0.80\n",
      "Max Accuracy: {'channels': [8], 'value': 0.8523391812865497, 'nu': 0.3749999999999999}\n",
      "nu: 0.5999999999999999\n",
      "[12] 0.68\n",
      "[12] 0.68\n",
      "Max Accuracy: {'channels': [8], 'value': 0.8523391812865497, 'nu': 0.3749999999999999}\n",
      "nu: 0.6249999999999999\n",
      "[29] 0.75\n",
      "[29] 0.75\n",
      "Max Accuracy: {'channels': [8], 'value': 0.8523391812865497, 'nu': 0.3749999999999999}\n",
      "nu: 0.6499999999999998\n",
      "[34] 0.76\n",
      "[34] 0.76\n",
      "Max Accuracy: {'channels': [8], 'value': 0.8523391812865497, 'nu': 0.3749999999999999}\n",
      "nu: 0.6749999999999998\n",
      "Nu value 0.6749999999999998 is infeasible.\n",
      "Nu value 0.6749999999999998 is infeasible.\n",
      "Nu value 0.6749999999999998 is infeasible.\n",
      "Nu value 0.6749999999999998 is infeasible.\n",
      "Nu value 0.6749999999999998 is infeasible.\n",
      "Nu value 0.6749999999999998 is infeasible.\n",
      "Nu value 0.6749999999999998 is infeasible.\n",
      "Nu value 0.6749999999999998 is infeasible.\n",
      "Nu value 0.6749999999999998 is infeasible.\n",
      "Nu value 0.6749999999999998 is infeasible.\n",
      "Nu value 0.6749999999999998 is infeasible.\n",
      "Nu value 0.6749999999999998 is infeasible.\n",
      "Nu value 0.6749999999999998 is infeasible.\n",
      "Nu value 0.6749999999999998 is infeasible.\n",
      "Nu value 0.6749999999999998 is infeasible.\n",
      "Nu value 0.6749999999999998 is infeasible.\n",
      "Nu value 0.6749999999999998 is infeasible.\n",
      "Nu value 0.6749999999999998 is infeasible.\n",
      "Nu value 0.6749999999999998 is infeasible.\n",
      "Nu value 0.6749999999999998 is infeasible.\n",
      "Nu value 0.6749999999999998 is infeasible.\n",
      "Nu value 0.6749999999999998 is infeasible.\n",
      "Nu value 0.6749999999999998 is infeasible.\n",
      "Nu value 0.6749999999999998 is infeasible.\n",
      "Nu value 0.6749999999999998 is infeasible.\n",
      "Nu value 0.6749999999999998 is infeasible.\n",
      "Nu value 0.6749999999999998 is infeasible.\n",
      "Nu value 0.6749999999999998 is infeasible.\n",
      "Nu value 0.6749999999999998 is infeasible.\n",
      "Nu value 0.6749999999999998 is infeasible.\n",
      "Nu value 0.6749999999999998 is infeasible.\n",
      "Nu value 0.6749999999999998 is infeasible.\n",
      "Nu value 0.6749999999999998 is infeasible.\n",
      "Nu value 0.6749999999999998 is infeasible.\n",
      "Nu value 0.6749999999999998 is infeasible.\n",
      "Nu value 0.6749999999999998 is infeasible.\n",
      "Nu value 0.6749999999999998 is infeasible.\n",
      "Nu value 0.6749999999999998 is infeasible.\n",
      "Nu value 0.6749999999999998 is infeasible.\n",
      "Nu value 0.6749999999999998 is infeasible.\n",
      "Nu value 0.6749999999999998 is infeasible.\n",
      "Nu value 0.6749999999999998 is infeasible.\n",
      "Nu value 0.6749999999999998 is infeasible.\n",
      "Nu value 0.6749999999999998 is infeasible.\n",
      "Nu value 0.6749999999999998 is infeasible.\n",
      "Nu value 0.6749999999999998 is infeasible.\n",
      "Nu value 0.6749999999999998 is infeasible.\n",
      "Nu value 0.6749999999999998 is infeasible.\n",
      "[0] 0.00\n",
      "Max Accuracy: {'channels': [8], 'value': 0.8523391812865497, 'nu': 0.3749999999999999}\n",
      "nu: 0.6999999999999998\n",
      "Nu value 0.6999999999999998 is infeasible.\n",
      "Nu value 0.6999999999999998 is infeasible.\n",
      "Nu value 0.6999999999999998 is infeasible.\n",
      "Nu value 0.6999999999999998 is infeasible.\n",
      "Nu value 0.6999999999999998 is infeasible.\n",
      "Nu value 0.6999999999999998 is infeasible.\n",
      "Nu value 0.6999999999999998 is infeasible.\n",
      "Nu value 0.6999999999999998 is infeasible.\n",
      "Nu value 0.6999999999999998 is infeasible.\n",
      "Nu value 0.6999999999999998 is infeasible.\n",
      "Nu value 0.6999999999999998 is infeasible.\n",
      "Nu value 0.6999999999999998 is infeasible.\n",
      "Nu value 0.6999999999999998 is infeasible.\n",
      "Nu value 0.6999999999999998 is infeasible.\n",
      "Nu value 0.6999999999999998 is infeasible.\n",
      "Nu value 0.6999999999999998 is infeasible.\n",
      "Nu value 0.6999999999999998 is infeasible.\n",
      "Nu value 0.6999999999999998 is infeasible.\n",
      "Nu value 0.6999999999999998 is infeasible.\n",
      "Nu value 0.6999999999999998 is infeasible.\n",
      "Nu value 0.6999999999999998 is infeasible.\n",
      "Nu value 0.6999999999999998 is infeasible.\n",
      "Nu value 0.6999999999999998 is infeasible.\n",
      "Nu value 0.6999999999999998 is infeasible.\n",
      "Nu value 0.6999999999999998 is infeasible.\n",
      "Nu value 0.6999999999999998 is infeasible.\n",
      "Nu value 0.6999999999999998 is infeasible.\n",
      "Nu value 0.6999999999999998 is infeasible.\n",
      "Nu value 0.6999999999999998 is infeasible.\n",
      "Nu value 0.6999999999999998 is infeasible.\n",
      "Nu value 0.6999999999999998 is infeasible.\n",
      "Nu value 0.6999999999999998 is infeasible.\n",
      "Nu value 0.6999999999999998 is infeasible.\n",
      "Nu value 0.6999999999999998 is infeasible.\n",
      "Nu value 0.6999999999999998 is infeasible.\n",
      "Nu value 0.6999999999999998 is infeasible.\n",
      "Nu value 0.6999999999999998 is infeasible.\n",
      "Nu value 0.6999999999999998 is infeasible.\n",
      "Nu value 0.6999999999999998 is infeasible.\n",
      "Nu value 0.6999999999999998 is infeasible.\n",
      "Nu value 0.6999999999999998 is infeasible.\n",
      "Nu value 0.6999999999999998 is infeasible.\n",
      "Nu value 0.6999999999999998 is infeasible.\n",
      "Nu value 0.6999999999999998 is infeasible.\n",
      "Nu value 0.6999999999999998 is infeasible.\n",
      "Nu value 0.6999999999999998 is infeasible.\n",
      "Nu value 0.6999999999999998 is infeasible.\n",
      "Nu value 0.6999999999999998 is infeasible.\n",
      "[0] 0.00\n",
      "Max Accuracy: {'channels': [8], 'value': 0.8523391812865497, 'nu': 0.3749999999999999}\n",
      "nu: 0.7249999999999999\n",
      "Nu value 0.7249999999999999 is infeasible.\n",
      "Nu value 0.7249999999999999 is infeasible.\n",
      "Nu value 0.7249999999999999 is infeasible.\n",
      "Nu value 0.7249999999999999 is infeasible.\n",
      "Nu value 0.7249999999999999 is infeasible.\n",
      "Nu value 0.7249999999999999 is infeasible.\n",
      "Nu value 0.7249999999999999 is infeasible.\n",
      "Nu value 0.7249999999999999 is infeasible.\n",
      "Nu value 0.7249999999999999 is infeasible.\n",
      "Nu value 0.7249999999999999 is infeasible.\n",
      "Nu value 0.7249999999999999 is infeasible.\n",
      "Nu value 0.7249999999999999 is infeasible.\n",
      "Nu value 0.7249999999999999 is infeasible.\n",
      "Nu value 0.7249999999999999 is infeasible.\n",
      "Nu value 0.7249999999999999 is infeasible.\n",
      "Nu value 0.7249999999999999 is infeasible.\n",
      "Nu value 0.7249999999999999 is infeasible.\n",
      "Nu value 0.7249999999999999 is infeasible.\n",
      "Nu value 0.7249999999999999 is infeasible.\n",
      "Nu value 0.7249999999999999 is infeasible.\n",
      "Nu value 0.7249999999999999 is infeasible.\n",
      "Nu value 0.7249999999999999 is infeasible.\n",
      "Nu value 0.7249999999999999 is infeasible.\n",
      "Nu value 0.7249999999999999 is infeasible.\n",
      "Nu value 0.7249999999999999 is infeasible.\n",
      "Nu value 0.7249999999999999 is infeasible.\n",
      "Nu value 0.7249999999999999 is infeasible.\n",
      "Nu value 0.7249999999999999 is infeasible.\n",
      "Nu value 0.7249999999999999 is infeasible.\n",
      "Nu value 0.7249999999999999 is infeasible.\n",
      "Nu value 0.7249999999999999 is infeasible.\n",
      "Nu value 0.7249999999999999 is infeasible.\n",
      "Nu value 0.7249999999999999 is infeasible.\n",
      "Nu value 0.7249999999999999 is infeasible.\n",
      "Nu value 0.7249999999999999 is infeasible.\n",
      "Nu value 0.7249999999999999 is infeasible.\n",
      "Nu value 0.7249999999999999 is infeasible.\n",
      "Nu value 0.7249999999999999 is infeasible.\n",
      "Nu value 0.7249999999999999 is infeasible.\n",
      "Nu value 0.7249999999999999 is infeasible.\n",
      "Nu value 0.7249999999999999 is infeasible.\n",
      "Nu value 0.7249999999999999 is infeasible.\n",
      "Nu value 0.7249999999999999 is infeasible.\n",
      "Nu value 0.7249999999999999 is infeasible.\n",
      "Nu value 0.7249999999999999 is infeasible.\n",
      "Nu value 0.7249999999999999 is infeasible.\n",
      "Nu value 0.7249999999999999 is infeasible.\n",
      "Nu value 0.7249999999999999 is infeasible.\n",
      "[0] 0.00\n",
      "Max Accuracy: {'channels': [8], 'value': 0.8523391812865497, 'nu': 0.3749999999999999}\n",
      "nu: 0.7499999999999999\n",
      "Nu value 0.7499999999999999 is infeasible.\n",
      "Nu value 0.7499999999999999 is infeasible.\n",
      "Nu value 0.7499999999999999 is infeasible.\n",
      "Nu value 0.7499999999999999 is infeasible.\n",
      "Nu value 0.7499999999999999 is infeasible.\n",
      "Nu value 0.7499999999999999 is infeasible.\n",
      "Nu value 0.7499999999999999 is infeasible.\n",
      "Nu value 0.7499999999999999 is infeasible.\n",
      "Nu value 0.7499999999999999 is infeasible.\n",
      "Nu value 0.7499999999999999 is infeasible.\n",
      "Nu value 0.7499999999999999 is infeasible.\n",
      "Nu value 0.7499999999999999 is infeasible.\n",
      "Nu value 0.7499999999999999 is infeasible.\n",
      "Nu value 0.7499999999999999 is infeasible.\n",
      "Nu value 0.7499999999999999 is infeasible.\n",
      "Nu value 0.7499999999999999 is infeasible.\n",
      "Nu value 0.7499999999999999 is infeasible.\n",
      "Nu value 0.7499999999999999 is infeasible.\n",
      "Nu value 0.7499999999999999 is infeasible.\n",
      "Nu value 0.7499999999999999 is infeasible.\n",
      "Nu value 0.7499999999999999 is infeasible.\n",
      "Nu value 0.7499999999999999 is infeasible.\n",
      "Nu value 0.7499999999999999 is infeasible.\n",
      "Nu value 0.7499999999999999 is infeasible.\n",
      "Nu value 0.7499999999999999 is infeasible.\n",
      "Nu value 0.7499999999999999 is infeasible.\n",
      "Nu value 0.7499999999999999 is infeasible.\n",
      "Nu value 0.7499999999999999 is infeasible.\n",
      "Nu value 0.7499999999999999 is infeasible.\n",
      "Nu value 0.7499999999999999 is infeasible.\n",
      "Nu value 0.7499999999999999 is infeasible.\n",
      "Nu value 0.7499999999999999 is infeasible.\n",
      "Nu value 0.7499999999999999 is infeasible.\n",
      "Nu value 0.7499999999999999 is infeasible.\n",
      "Nu value 0.7499999999999999 is infeasible.\n",
      "Nu value 0.7499999999999999 is infeasible.\n",
      "Nu value 0.7499999999999999 is infeasible.\n",
      "Nu value 0.7499999999999999 is infeasible.\n",
      "Nu value 0.7499999999999999 is infeasible.\n",
      "Nu value 0.7499999999999999 is infeasible.\n",
      "Nu value 0.7499999999999999 is infeasible.\n",
      "Nu value 0.7499999999999999 is infeasible.\n",
      "Nu value 0.7499999999999999 is infeasible.\n",
      "Nu value 0.7499999999999999 is infeasible.\n",
      "Nu value 0.7499999999999999 is infeasible.\n",
      "Nu value 0.7499999999999999 is infeasible.\n",
      "Nu value 0.7499999999999999 is infeasible.\n",
      "Nu value 0.7499999999999999 is infeasible.\n",
      "[0] 0.00\n",
      "Max Accuracy: {'channels': [8], 'value': 0.8523391812865497, 'nu': 0.3749999999999999}\n",
      "nu: 0.7749999999999998\n",
      "Nu value 0.7749999999999998 is infeasible.\n",
      "Nu value 0.7749999999999998 is infeasible.\n",
      "Nu value 0.7749999999999998 is infeasible.\n",
      "Nu value 0.7749999999999998 is infeasible.\n",
      "Nu value 0.7749999999999998 is infeasible.\n",
      "Nu value 0.7749999999999998 is infeasible.\n",
      "Nu value 0.7749999999999998 is infeasible.\n",
      "Nu value 0.7749999999999998 is infeasible.\n",
      "Nu value 0.7749999999999998 is infeasible.\n",
      "Nu value 0.7749999999999998 is infeasible.\n",
      "Nu value 0.7749999999999998 is infeasible.\n",
      "Nu value 0.7749999999999998 is infeasible.\n",
      "Nu value 0.7749999999999998 is infeasible.\n",
      "Nu value 0.7749999999999998 is infeasible.\n",
      "Nu value 0.7749999999999998 is infeasible.\n",
      "Nu value 0.7749999999999998 is infeasible.\n",
      "Nu value 0.7749999999999998 is infeasible.\n",
      "Nu value 0.7749999999999998 is infeasible.\n",
      "Nu value 0.7749999999999998 is infeasible.\n",
      "Nu value 0.7749999999999998 is infeasible.\n",
      "Nu value 0.7749999999999998 is infeasible.\n",
      "Nu value 0.7749999999999998 is infeasible.\n",
      "Nu value 0.7749999999999998 is infeasible.\n",
      "Nu value 0.7749999999999998 is infeasible.\n",
      "Nu value 0.7749999999999998 is infeasible.\n",
      "Nu value 0.7749999999999998 is infeasible.\n",
      "Nu value 0.7749999999999998 is infeasible.\n",
      "Nu value 0.7749999999999998 is infeasible.\n",
      "Nu value 0.7749999999999998 is infeasible.\n",
      "Nu value 0.7749999999999998 is infeasible.\n",
      "Nu value 0.7749999999999998 is infeasible.\n",
      "Nu value 0.7749999999999998 is infeasible.\n",
      "Nu value 0.7749999999999998 is infeasible.\n",
      "Nu value 0.7749999999999998 is infeasible.\n",
      "Nu value 0.7749999999999998 is infeasible.\n",
      "Nu value 0.7749999999999998 is infeasible.\n",
      "Nu value 0.7749999999999998 is infeasible.\n",
      "Nu value 0.7749999999999998 is infeasible.\n",
      "Nu value 0.7749999999999998 is infeasible.\n",
      "Nu value 0.7749999999999998 is infeasible.\n",
      "Nu value 0.7749999999999998 is infeasible.\n",
      "Nu value 0.7749999999999998 is infeasible.\n",
      "Nu value 0.7749999999999998 is infeasible.\n",
      "Nu value 0.7749999999999998 is infeasible.\n",
      "Nu value 0.7749999999999998 is infeasible.\n",
      "Nu value 0.7749999999999998 is infeasible.\n",
      "Nu value 0.7749999999999998 is infeasible.\n",
      "Nu value 0.7749999999999998 is infeasible.\n",
      "[0] 0.00\n",
      "Max Accuracy: {'channels': [8], 'value': 0.8523391812865497, 'nu': 0.3749999999999999}\n",
      "nu: 0.7999999999999998\n",
      "Nu value 0.7999999999999998 is infeasible.\n",
      "Nu value 0.7999999999999998 is infeasible.\n",
      "Nu value 0.7999999999999998 is infeasible.\n",
      "Nu value 0.7999999999999998 is infeasible.\n",
      "Nu value 0.7999999999999998 is infeasible.\n",
      "Nu value 0.7999999999999998 is infeasible.\n",
      "Nu value 0.7999999999999998 is infeasible.\n",
      "Nu value 0.7999999999999998 is infeasible.\n",
      "Nu value 0.7999999999999998 is infeasible.\n",
      "Nu value 0.7999999999999998 is infeasible.\n",
      "Nu value 0.7999999999999998 is infeasible.\n",
      "Nu value 0.7999999999999998 is infeasible.\n",
      "Nu value 0.7999999999999998 is infeasible.\n",
      "Nu value 0.7999999999999998 is infeasible.\n",
      "Nu value 0.7999999999999998 is infeasible.\n",
      "Nu value 0.7999999999999998 is infeasible.\n",
      "Nu value 0.7999999999999998 is infeasible.\n",
      "Nu value 0.7999999999999998 is infeasible.\n",
      "Nu value 0.7999999999999998 is infeasible.\n",
      "Nu value 0.7999999999999998 is infeasible.\n",
      "Nu value 0.7999999999999998 is infeasible.\n",
      "Nu value 0.7999999999999998 is infeasible.\n",
      "Nu value 0.7999999999999998 is infeasible.\n",
      "Nu value 0.7999999999999998 is infeasible.\n",
      "Nu value 0.7999999999999998 is infeasible.\n",
      "Nu value 0.7999999999999998 is infeasible.\n",
      "Nu value 0.7999999999999998 is infeasible.\n",
      "Nu value 0.7999999999999998 is infeasible.\n",
      "Nu value 0.7999999999999998 is infeasible.\n",
      "Nu value 0.7999999999999998 is infeasible.\n",
      "Nu value 0.7999999999999998 is infeasible.\n",
      "Nu value 0.7999999999999998 is infeasible.\n",
      "Nu value 0.7999999999999998 is infeasible.\n",
      "Nu value 0.7999999999999998 is infeasible.\n",
      "Nu value 0.7999999999999998 is infeasible.\n",
      "Nu value 0.7999999999999998 is infeasible.\n",
      "Nu value 0.7999999999999998 is infeasible.\n",
      "Nu value 0.7999999999999998 is infeasible.\n",
      "Nu value 0.7999999999999998 is infeasible.\n",
      "Nu value 0.7999999999999998 is infeasible.\n",
      "Nu value 0.7999999999999998 is infeasible.\n",
      "Nu value 0.7999999999999998 is infeasible.\n",
      "Nu value 0.7999999999999998 is infeasible.\n",
      "Nu value 0.7999999999999998 is infeasible.\n",
      "Nu value 0.7999999999999998 is infeasible.\n",
      "Nu value 0.7999999999999998 is infeasible.\n",
      "Nu value 0.7999999999999998 is infeasible.\n",
      "Nu value 0.7999999999999998 is infeasible.\n",
      "[0] 0.00\n",
      "Max Accuracy: {'channels': [8], 'value': 0.8523391812865497, 'nu': 0.3749999999999999}\n",
      "Final Max Accuracy: {'channels': [8], 'value': 0.8523391812865497, 'nu': 0.3749999999999999}\n"
     ]
    }
   ],
   "source": [
    "best_acc = classify_nusvm_param_seach(pp_rh, pnp_rh, 0.1, 0.81, 0.025, ch_names_new, constrain_channels=None,\n",
    "                                      log_txt=True, log_proc_method=log_proc_method,\n",
    "                                                                                  log_dataset=log_dataset,\n",
    "                                                                                  log_notes=log_notes)"
   ]
  },
  {
   "cell_type": "code",
   "execution_count": null,
   "metadata": {},
   "outputs": [],
   "source": [
    "best_acc"
   ]
  },
  {
   "cell_type": "code",
   "execution_count": null,
   "metadata": {},
   "outputs": [],
   "source": []
  }
 ],
 "metadata": {
  "kernelspec": {
   "display_name": "Python 3",
   "language": "python",
   "name": "python3"
  },
  "language_info": {
   "codemirror_mode": {
    "name": "ipython",
    "version": 3
   },
   "file_extension": ".py",
   "mimetype": "text/x-python",
   "name": "python",
   "nbconvert_exporter": "python",
   "pygments_lexer": "ipython3",
   "version": "3.7.3"
  }
 },
 "nbformat": 4,
 "nbformat_minor": 2
}
