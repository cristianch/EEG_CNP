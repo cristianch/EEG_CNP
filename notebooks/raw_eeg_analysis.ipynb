{
 "cells": [
  {
   "cell_type": "code",
   "execution_count": 1,
   "metadata": {},
   "outputs": [],
   "source": [
    "import numpy as np\n",
    "import scipy\n",
    "from scipy import signal\n",
    "import mne\n",
    "import glob\n",
    "import csv"
   ]
  },
  {
   "cell_type": "code",
   "execution_count": 2,
   "metadata": {},
   "outputs": [],
   "source": [
    "local_path = './../../../data/raw/HV/HV1/HV1_F1_L_Removed_ICA.set'\n"
   ]
  },
  {
   "cell_type": "code",
   "execution_count": 3,
   "metadata": {},
   "outputs": [
    {
     "name": "stdout",
     "output_type": "stream",
     "text": [
      "Extracting parameters from ./../../../data/raw/HV/HV1/HV1_F1_L_Removed_ICA.set...\n"
     ]
    },
    {
     "name": "stderr",
     "output_type": "stream",
     "text": [
      "<ipython-input-3-e0a8228b57c9>:1: RuntimeWarning: At least one epoch has multiple events. Only the latency of the first event will be retained.\n",
      "  data = mne.io.read_epochs_eeglab(local_path)._data\n"
     ]
    },
    {
     "name": "stdout",
     "output_type": "stream",
     "text": [
      "56 matching events found\n",
      "No baseline correction applied\n",
      "Not setting metadata\n",
      "0 projection items activated\n",
      "Ready.\n"
     ]
    }
   ],
   "source": [
    "data = mne.io.read_epochs_eeglab(local_path)._data"
   ]
  },
  {
   "cell_type": "code",
   "execution_count": 4,
   "metadata": {},
   "outputs": [
    {
     "data": {
      "text/plain": [
       "(56, 61, 1250)"
      ]
     },
     "execution_count": 4,
     "metadata": {},
     "output_type": "execute_result"
    }
   ],
   "source": [
    "data.shape"
   ]
  },
  {
   "cell_type": "code",
   "execution_count": null,
   "metadata": {},
   "outputs": [],
   "source": []
  },
  {
   "cell_type": "code",
   "execution_count": 5,
   "metadata": {},
   "outputs": [],
   "source": [
    "def log_result(file, name, accuracy, patients_correct, patients_total, set_name, channels, notes):\n",
    "    writer = csv.writer(file)\n",
    "    writer.writerow([name, str(accuracy*100) + '%', ' ' + str(patients_correct) + '/' + str(patients_total), set_name, channels, notes])\n",
    "        "
   ]
  },
  {
   "cell_type": "markdown",
   "metadata": {},
   "source": [
    "# Apply bandpower to datasets"
   ]
  },
  {
   "cell_type": "code",
   "execution_count": 6,
   "metadata": {},
   "outputs": [],
   "source": [
    "# Returns relevant datasets (f.e. all right-hand recordings of healthy patients) as a list of np arrays\n",
    "def get_datasets(patient_type_location, recording_type_expression):\n",
    "    if recording_type_expression != l_new:\n",
    "        sets_locations = glob.glob(patient_type_location + recording_type_expression + suffix)\n",
    "    else:\n",
    "        sets_locations = glob.glob(patient_type_location + recording_type_expression)\n",
    "    \n",
    "    sets = []\n",
    "    for path in sets_locations: \n",
    "        sets.append(mne.io.read_epochs_eeglab(path))\n",
    "        \n",
    "    return np.array(np.array([(patient._data) for patient in sets]))"
   ]
  },
  {
   "cell_type": "code",
   "execution_count": 7,
   "metadata": {},
   "outputs": [
    {
     "data": {
      "text/plain": [
       "['./../../../data_new/raw/PnP\\\\PnP_1\\\\PnP_1_L.set',\n",
       " './../../../data_new/raw/PnP\\\\PnP_3\\\\PnP_3_L.set',\n",
       " './../../../data_new/raw/PnP\\\\PnP_4\\\\PnP_4_L.set',\n",
       " './../../../data_new/raw/PnP\\\\PnP_5\\\\PnP_5_L.set',\n",
       " './../../../data_new/raw/PnP\\\\PnP_7\\\\PnP_7_L.set',\n",
       " './../../../data_new/raw/PnP\\\\PnP_8\\\\PnP_8_L.set',\n",
       " './../../../data_new/raw/PnP\\\\PnP_9\\\\PnP_9_L.set']"
      ]
     },
     "execution_count": 7,
     "metadata": {},
     "output_type": "execute_result"
    }
   ],
   "source": [
    "root = './../../../'\n",
    "suffix = '*.set'\n",
    "\n",
    "location_healthy = root + 'data/raw/HV/*/'\n",
    "location_pain = root + 'data/raw/PP/*/'\n",
    "location_nopain = root + 'data/raw/PnP/*/'\n",
    "\n",
    "location_pwp = root + 'data_new/raw/PwP/*/'\n",
    "location_pdp = root + 'data_new/raw/PdP/*/'\n",
    "location_pnp = root + 'data_new/raw/PnP/*/'\n",
    "\n",
    "\n",
    "rh = '*_RH*'\n",
    "lh = '*_LH*'\n",
    "l_new = '*_L.set'   # NO SUFFIX\n",
    "l_old = '*_L_*'\n",
    "\n",
    "sets_healthy_rh = glob.glob(location_pnp + l_new)\n",
    "\n",
    "sets_healthy_rh"
   ]
  },
  {
   "cell_type": "code",
   "execution_count": 8,
   "metadata": {},
   "outputs": [
    {
     "name": "stdout",
     "output_type": "stream",
     "text": [
      "Extracting parameters from ./../../../data/raw/PP\\PP1\\PP1_F1_RH_Removed_ICA.set...\n"
     ]
    },
    {
     "name": "stderr",
     "output_type": "stream",
     "text": [
      "<ipython-input-6-ca455454a3e4>:10: RuntimeWarning: At least one epoch has multiple events. Only the latency of the first event will be retained.\n",
      "  sets.append(mne.io.read_epochs_eeglab(path))\n"
     ]
    },
    {
     "name": "stdout",
     "output_type": "stream",
     "text": [
      "57 matching events found\n",
      "No baseline correction applied\n",
      "Not setting metadata\n",
      "0 projection items activated\n",
      "Ready.\n",
      "Extracting parameters from ./../../../data/raw/PP\\PP10\\PP10_F1_RH_Removed_ICA.set...\n"
     ]
    },
    {
     "name": "stderr",
     "output_type": "stream",
     "text": [
      "<ipython-input-6-ca455454a3e4>:10: RuntimeWarning: At least one epoch has multiple events. Only the latency of the first event will be retained.\n",
      "  sets.append(mne.io.read_epochs_eeglab(path))\n"
     ]
    },
    {
     "name": "stdout",
     "output_type": "stream",
     "text": [
      "57 matching events found\n",
      "No baseline correction applied\n",
      "Not setting metadata\n",
      "0 projection items activated\n",
      "Ready.\n",
      "Extracting parameters from ./../../../data/raw/PP\\PP11\\PP11_F1_RH_Removed_ICA.set...\n"
     ]
    },
    {
     "name": "stderr",
     "output_type": "stream",
     "text": [
      "<ipython-input-6-ca455454a3e4>:10: RuntimeWarning: At least one epoch has multiple events. Only the latency of the first event will be retained.\n",
      "  sets.append(mne.io.read_epochs_eeglab(path))\n"
     ]
    },
    {
     "name": "stdout",
     "output_type": "stream",
     "text": [
      "59 matching events found\n",
      "No baseline correction applied\n",
      "Not setting metadata\n",
      "0 projection items activated\n",
      "Ready.\n",
      "Extracting parameters from ./../../../data/raw/PP\\PP2\\PP2_F1_RH_Removed_ICA.set...\n"
     ]
    },
    {
     "name": "stderr",
     "output_type": "stream",
     "text": [
      "<ipython-input-6-ca455454a3e4>:10: RuntimeWarning: At least one epoch has multiple events. Only the latency of the first event will be retained.\n",
      "  sets.append(mne.io.read_epochs_eeglab(path))\n"
     ]
    },
    {
     "name": "stdout",
     "output_type": "stream",
     "text": [
      "54 matching events found\n",
      "No baseline correction applied\n",
      "Not setting metadata\n",
      "0 projection items activated\n",
      "Ready.\n",
      "Extracting parameters from ./../../../data/raw/PP\\PP3\\PP3_F1_RH_Removed_ICA.set...\n",
      "51 matching events found\n"
     ]
    },
    {
     "name": "stderr",
     "output_type": "stream",
     "text": [
      "<ipython-input-6-ca455454a3e4>:10: RuntimeWarning: At least one epoch has multiple events. Only the latency of the first event will be retained.\n",
      "  sets.append(mne.io.read_epochs_eeglab(path))\n"
     ]
    },
    {
     "name": "stdout",
     "output_type": "stream",
     "text": [
      "No baseline correction applied\n",
      "Not setting metadata\n",
      "0 projection items activated\n",
      "Ready.\n",
      "Extracting parameters from ./../../../data/raw/PP\\PP4\\PP4_F1_RH_Removed_ICA.set...\n"
     ]
    },
    {
     "name": "stderr",
     "output_type": "stream",
     "text": [
      "<ipython-input-6-ca455454a3e4>:10: RuntimeWarning: At least one epoch has multiple events. Only the latency of the first event will be retained.\n",
      "  sets.append(mne.io.read_epochs_eeglab(path))\n"
     ]
    },
    {
     "name": "stdout",
     "output_type": "stream",
     "text": [
      "58 matching events found\n",
      "No baseline correction applied\n",
      "Not setting metadata\n",
      "0 projection items activated\n",
      "Ready.\n",
      "Extracting parameters from ./../../../data/raw/PP\\PP5\\PP5_F1_RH_Removed_ICA.set...\n"
     ]
    },
    {
     "name": "stderr",
     "output_type": "stream",
     "text": [
      "<ipython-input-6-ca455454a3e4>:10: RuntimeWarning: At least one epoch has multiple events. Only the latency of the first event will be retained.\n",
      "  sets.append(mne.io.read_epochs_eeglab(path))\n"
     ]
    },
    {
     "name": "stdout",
     "output_type": "stream",
     "text": [
      "56 matching events found\n",
      "No baseline correction applied\n",
      "Not setting metadata\n",
      "0 projection items activated\n",
      "Ready.\n",
      "Extracting parameters from ./../../../data/raw/PP\\PP6\\PP6_F1_RH_Removed_ICA.set...\n",
      "32 matching events found\n",
      "No baseline correction applied\n",
      "Not setting metadata\n",
      "0 projection items activated\n"
     ]
    },
    {
     "name": "stderr",
     "output_type": "stream",
     "text": [
      "<ipython-input-6-ca455454a3e4>:10: RuntimeWarning: At least one epoch has multiple events. Only the latency of the first event will be retained.\n",
      "  sets.append(mne.io.read_epochs_eeglab(path))\n"
     ]
    },
    {
     "name": "stdout",
     "output_type": "stream",
     "text": [
      "Ready.\n",
      "Extracting parameters from ./../../../data/raw/PP\\PP7\\PP7_F1_RH_Removed_ICA.set...\n"
     ]
    },
    {
     "name": "stderr",
     "output_type": "stream",
     "text": [
      "<ipython-input-6-ca455454a3e4>:10: RuntimeWarning: At least one epoch has multiple events. Only the latency of the first event will be retained.\n",
      "  sets.append(mne.io.read_epochs_eeglab(path))\n"
     ]
    },
    {
     "name": "stdout",
     "output_type": "stream",
     "text": [
      "52 matching events found\n",
      "No baseline correction applied\n",
      "Not setting metadata\n",
      "0 projection items activated\n",
      "Ready.\n",
      "Extracting parameters from ./../../../data/raw/PP\\PP9\\PP9_F1_RH_Removed_ICA.set...\n"
     ]
    },
    {
     "name": "stderr",
     "output_type": "stream",
     "text": [
      "<ipython-input-6-ca455454a3e4>:10: RuntimeWarning: At least one epoch has multiple events. Only the latency of the first event will be retained.\n",
      "  sets.append(mne.io.read_epochs_eeglab(path))\n"
     ]
    },
    {
     "name": "stdout",
     "output_type": "stream",
     "text": [
      "54 matching events found\n",
      "No baseline correction applied\n",
      "Not setting metadata\n",
      "0 projection items activated\n",
      "Ready.\n",
      "Extracting parameters from ./../../../data/raw/PnP\\PnP1\\PnP1_F1_RH_Removed_ICA.set...\n"
     ]
    },
    {
     "name": "stderr",
     "output_type": "stream",
     "text": [
      "<ipython-input-6-ca455454a3e4>:10: RuntimeWarning: At least one epoch has multiple events. Only the latency of the first event will be retained.\n",
      "  sets.append(mne.io.read_epochs_eeglab(path))\n"
     ]
    },
    {
     "name": "stdout",
     "output_type": "stream",
     "text": [
      "50 matching events found\n",
      "No baseline correction applied\n",
      "Not setting metadata\n",
      "0 projection items activated\n",
      "Ready.\n",
      "Extracting parameters from ./../../../data/raw/PnP\\PnP2\\PnP2_F1_RH_Removed_ICA.set...\n",
      "54 matching events found\n"
     ]
    },
    {
     "name": "stderr",
     "output_type": "stream",
     "text": [
      "<ipython-input-6-ca455454a3e4>:10: RuntimeWarning: At least one epoch has multiple events. Only the latency of the first event will be retained.\n",
      "  sets.append(mne.io.read_epochs_eeglab(path))\n"
     ]
    },
    {
     "name": "stdout",
     "output_type": "stream",
     "text": [
      "No baseline correction applied\n",
      "Not setting metadata\n",
      "0 projection items activated\n",
      "Ready.\n",
      "Extracting parameters from ./../../../data/raw/PnP\\PnP3\\PnP3_F1_RH_Removed_ICA.set...\n",
      "44 matching events found\n"
     ]
    },
    {
     "name": "stderr",
     "output_type": "stream",
     "text": [
      "<ipython-input-6-ca455454a3e4>:10: RuntimeWarning: At least one epoch has multiple events. Only the latency of the first event will be retained.\n",
      "  sets.append(mne.io.read_epochs_eeglab(path))\n"
     ]
    },
    {
     "name": "stdout",
     "output_type": "stream",
     "text": [
      "No baseline correction applied\n",
      "Not setting metadata\n",
      "0 projection items activated\n",
      "Ready.\n",
      "Extracting parameters from ./../../../data/raw/PnP\\PnP4\\PnP4_F1_RH_Removed_ICA.set...\n"
     ]
    },
    {
     "name": "stderr",
     "output_type": "stream",
     "text": [
      "<ipython-input-6-ca455454a3e4>:10: RuntimeWarning: At least one epoch has multiple events. Only the latency of the first event will be retained.\n",
      "  sets.append(mne.io.read_epochs_eeglab(path))\n"
     ]
    },
    {
     "name": "stdout",
     "output_type": "stream",
     "text": [
      "55 matching events found\n",
      "No baseline correction applied\n",
      "Not setting metadata\n",
      "0 projection items activated\n",
      "Ready.\n",
      "Extracting parameters from ./../../../data/raw/PnP\\PnP5\\PnP5_F1_RH_Removed_ICA.set...\n",
      "50 matching events found\n"
     ]
    },
    {
     "name": "stderr",
     "output_type": "stream",
     "text": [
      "<ipython-input-6-ca455454a3e4>:10: RuntimeWarning: At least one epoch has multiple events. Only the latency of the first event will be retained.\n",
      "  sets.append(mne.io.read_epochs_eeglab(path))\n"
     ]
    },
    {
     "name": "stdout",
     "output_type": "stream",
     "text": [
      "No baseline correction applied\n",
      "Not setting metadata\n",
      "0 projection items activated\n",
      "Ready.\n",
      "Extracting parameters from ./../../../data/raw/PnP\\PnP6\\PnP6_F1_RH_Removed_ICA.set...\n",
      "55 matching events found\n"
     ]
    },
    {
     "name": "stderr",
     "output_type": "stream",
     "text": [
      "<ipython-input-6-ca455454a3e4>:10: RuntimeWarning: At least one epoch has multiple events. Only the latency of the first event will be retained.\n",
      "  sets.append(mne.io.read_epochs_eeglab(path))\n"
     ]
    },
    {
     "name": "stdout",
     "output_type": "stream",
     "text": [
      "No baseline correction applied\n",
      "Not setting metadata\n",
      "0 projection items activated\n",
      "Ready.\n",
      "Extracting parameters from ./../../../data/raw/PnP\\PnP7\\PnP7_F01_RH_Removed_ICA.set...\n"
     ]
    },
    {
     "name": "stderr",
     "output_type": "stream",
     "text": [
      "<ipython-input-6-ca455454a3e4>:10: RuntimeWarning: At least one epoch has multiple events. Only the latency of the first event will be retained.\n",
      "  sets.append(mne.io.read_epochs_eeglab(path))\n"
     ]
    },
    {
     "name": "stdout",
     "output_type": "stream",
     "text": [
      "58 matching events found\n",
      "No baseline correction applied\n",
      "Not setting metadata\n",
      "0 projection items activated\n",
      "Ready.\n",
      "Extracting parameters from ./../../../data/raw/PnP\\PnP8\\PnP8_F1_RH_Removed_ICA.set...\n"
     ]
    },
    {
     "name": "stderr",
     "output_type": "stream",
     "text": [
      "<ipython-input-6-ca455454a3e4>:10: RuntimeWarning: At least one epoch has multiple events. Only the latency of the first event will be retained.\n",
      "  sets.append(mne.io.read_epochs_eeglab(path))\n"
     ]
    },
    {
     "name": "stdout",
     "output_type": "stream",
     "text": [
      "53 matching events found\n",
      "No baseline correction applied\n",
      "Not setting metadata\n",
      "0 projection items activated\n",
      "Ready.\n",
      "Extracting parameters from ./../../../data/raw/PnP\\PnP9\\PnP9_F1_RH_Removed_ICA.set...\n"
     ]
    },
    {
     "name": "stderr",
     "output_type": "stream",
     "text": [
      "<ipython-input-6-ca455454a3e4>:10: RuntimeWarning: At least one epoch has multiple events. Only the latency of the first event will be retained.\n",
      "  sets.append(mne.io.read_epochs_eeglab(path))\n"
     ]
    },
    {
     "name": "stdout",
     "output_type": "stream",
     "text": [
      "54 matching events found\n",
      "No baseline correction applied\n",
      "Not setting metadata\n",
      "0 projection items activated\n",
      "Ready.\n"
     ]
    }
   ],
   "source": [
    "pp_rh_raw = get_datasets(location_pain, rh)\n",
    "pnp_rh_raw = get_datasets(location_nopain, rh)"
   ]
  },
  {
   "cell_type": "code",
   "execution_count": 9,
   "metadata": {},
   "outputs": [
    {
     "data": {
      "text/plain": [
       "array([array([[[ 1.44402540e-06,  9.81420040e-07,  6.11681223e-07, ...,\n",
       "         -9.48653758e-07, -7.09739447e-07, -1.82451889e-07],\n",
       "        [ 9.12692308e-07,  5.66146672e-07,  3.27923447e-07, ...,\n",
       "         -3.50943863e-07, -1.84928596e-07,  2.25423664e-07],\n",
       "        [ 3.08533460e-07, -1.32956609e-07, -4.29266930e-07, ...,\n",
       "         -5.50954044e-07, -7.25167394e-07, -7.38074183e-07],\n",
       "        ...,\n",
       "        [-2.49450371e-07,  1.48201084e-06,  2.35830712e-06, ...,\n",
       "          3.37429857e-06,  3.04905009e-06,  2.29389977e-06],\n",
       "        [-5.30285418e-07,  8.94802094e-07,  1.52956212e-06, ...,\n",
       "          3.27083945e-06,  2.76214886e-06,  1.80594766e-06],\n",
       "        [-3.62152141e-09,  8.68661761e-07,  1.26055551e-06, ...,\n",
       "          1.93071413e-06,  1.70576549e-06,  1.27043426e-06]],\n",
       "\n",
       "       [[ 1.15336525e-06,  1.83704400e-06,  2.49183202e-06, ...,\n",
       "         -9.63494658e-07, -7.82364130e-07, -3.78079295e-07],\n",
       "        [ 3.36746752e-07,  6.24162018e-07,  9.46212053e-07, ...,\n",
       "         -1.13700712e-06, -1.07828367e-06, -8.15211833e-07],\n",
       "        [-4.04143065e-07,  2.14761108e-07,  7.24491060e-07, ...,\n",
       "         -4.30234298e-08,  1.10447854e-07,  4.98210341e-07],\n",
       "        ...,\n",
       "        [ 3.14055204e-06,  2.39592218e-06,  1.92754054e-06, ...,\n",
       "         -9.31972504e-07, -7.22744107e-07, -1.04184318e-06],\n",
       "        [ 1.75747132e-06,  9.35754776e-07,  5.34386158e-07, ...,\n",
       "          2.19069198e-08,  1.91471919e-07, -9.61031467e-08],\n",
       "        [ 1.51254153e-06,  1.15727282e-06,  1.01259208e-06, ...,\n",
       "         -5.28900206e-07, -4.13301617e-07, -5.40549040e-07]],\n",
       "\n",
       "       [[ 1.74125719e-06,  1.53859198e-06,  1.23416638e-06, ...,\n",
       "          1.80199039e-06,  1.81773794e-06,  1.82792866e-06],\n",
       "        [ 2.45718861e-06,  2.90183830e-06,  3.07345486e-06, ...,\n",
       "          1.43706477e-06,  1.04750741e-06,  8.22912931e-07],\n",
       "        [ 1.45592713e-06,  8.16424727e-07,  1.36851773e-07, ...,\n",
       "          1.54292917e-06,  1.44594646e-06,  1.33029842e-06],\n",
       "        ...,\n",
       "        [-3.50724006e-06, -3.77354217e-06, -3.61166811e-06, ...,\n",
       "         -4.72109222e-06, -3.92196012e-06, -3.57824922e-06],\n",
       "        [-3.13799214e-06, -3.64629412e-06, -3.70521450e-06, ...,\n",
       "         -4.19146013e-06, -3.56324434e-06, -3.33351898e-06],\n",
       "        [-1.42773008e-06, -1.71195352e-06, -1.72497320e-06, ...,\n",
       "         -2.43996239e-06, -2.05851173e-06, -1.91054082e-06]],\n",
       "\n",
       "       ...,\n",
       "\n",
       "       [[ 1.32382476e-06,  1.62531650e-06,  1.86101711e-06, ...,\n",
       "         -1.60354352e-06, -1.98773587e-06, -2.29821229e-06],\n",
       "        [ 1.68410122e-07,  9.95530367e-07,  1.30246818e-06, ...,\n",
       "         -2.54547334e-06, -2.85646534e-06, -3.12635326e-06],\n",
       "        [ 5.64355910e-07,  9.95704591e-07,  1.66749418e-06, ...,\n",
       "         -1.79058409e-06, -2.49347687e-06, -2.97589564e-06],\n",
       "        ...,\n",
       "        [-4.87742960e-07, -2.61552835e-06, -4.32757902e-06, ...,\n",
       "          8.40656567e-06,  1.04977074e-05,  1.24953651e-05],\n",
       "        [ 7.07532227e-07, -1.34123719e-06, -2.98260498e-06, ...,\n",
       "          8.44195271e-06,  1.01746788e-05,  1.17002878e-05],\n",
       "        [ 8.56602043e-08, -9.95618165e-07, -1.89853525e-06, ...,\n",
       "          4.32532263e-06,  5.31998491e-06,  6.25842714e-06]],\n",
       "\n",
       "       [[ 9.49938655e-07,  2.42845058e-07, -4.04028058e-07, ...,\n",
       "         -1.15320158e-06, -1.15239537e-06, -1.04911637e-06],\n",
       "        [ 1.49149895e-07, -1.04991972e-07, -7.86098063e-07, ...,\n",
       "         -6.41450763e-07, -4.07833219e-07, -3.46826822e-07],\n",
       "        [-1.64666080e-06, -2.00972939e-06, -1.88023746e-06, ...,\n",
       "         -6.79416060e-07, -6.39671504e-07, -5.03132820e-07],\n",
       "        ...,\n",
       "        [ 1.65829144e-05,  1.55729342e-05,  1.44990282e-05, ...,\n",
       "          1.74965048e-06,  1.77794445e-06,  2.49441528e-06],\n",
       "        [ 1.44144602e-05,  1.37794762e-05,  1.32491608e-05, ...,\n",
       "          1.02766812e-06,  1.15270305e-06,  1.73081744e-06],\n",
       "        [ 8.85841179e-06,  8.29588318e-06,  7.70239735e-06, ...,\n",
       "          7.98058212e-07,  8.89036417e-07,  1.26356840e-06]],\n",
       "\n",
       "       [[-2.61534119e-06, -3.16939473e-06, -3.27679372e-06, ...,\n",
       "          4.07520384e-07, -2.84083635e-08, -6.66943312e-07],\n",
       "        [-3.61872506e-06, -4.29948854e-06, -4.52134132e-06, ...,\n",
       "          3.36391020e-06,  2.87684965e-06,  2.51879239e-06],\n",
       "        [ 1.10225296e-06,  1.12393308e-06,  1.37805772e-06, ...,\n",
       "         -1.73718023e-06, -2.15533996e-06, -2.62263775e-06],\n",
       "        ...,\n",
       "        [-1.86472356e-07,  6.39838934e-07,  4.55186129e-07, ...,\n",
       "          6.26365542e-07,  2.75575328e-06,  3.59913301e-06],\n",
       "        [ 7.50507951e-07,  2.07553434e-06,  2.58501935e-06, ...,\n",
       "          1.60886079e-07,  2.14684916e-06,  2.66165733e-06],\n",
       "        [-4.68473107e-07,  6.58082962e-08,  1.86116472e-07, ...,\n",
       "          4.56159532e-07,  1.60947657e-06,  1.96743917e-06]]]),\n",
       "       array([[[ 9.51089412e-08, -2.08860099e-07, -9.03276443e-07, ...,\n",
       "          2.74729872e-06,  3.59463501e-06,  4.47110748e-06],\n",
       "        [-8.52469981e-07, -1.54476643e-06, -2.45630932e-06, ...,\n",
       "          1.48853922e-06,  2.28822088e-06,  3.18737745e-06],\n",
       "        [ 6.01741016e-07,  7.86498189e-07,  6.11835957e-07, ...,\n",
       "          2.64780545e-06,  3.06153440e-06,  3.47290254e-06],\n",
       "        ...,\n",
       "        [-4.60666806e-07, -7.76119590e-07, -5.48036933e-07, ...,\n",
       "         -4.08957869e-07, -1.16453934e-06, -1.89861202e-06],\n",
       "        [-1.05877221e-06, -9.42840517e-07, -2.84452111e-07, ...,\n",
       "          2.46755242e-06,  1.95104229e-06,  1.22859943e-06],\n",
       "        [ 1.42271578e-07,  2.82058120e-07,  9.61374104e-07, ...,\n",
       "          6.40078187e-07, -3.19230855e-08, -9.86244798e-07]],\n",
       "\n",
       "       [[ 2.18919778e-06,  1.26175606e-06,  6.60949528e-07, ...,\n",
       "         -4.48953837e-07,  4.33199167e-07,  3.54769170e-07],\n",
       "        [ 1.64128828e-06,  1.04830289e-06,  6.93879724e-07, ...,\n",
       "         -1.16936696e-06, -2.40816087e-07,  7.02390671e-08],\n",
       "        [ 1.01026380e-06,  3.84523392e-07,  2.47500107e-07, ...,\n",
       "         -7.96003938e-08,  2.60881722e-07, -1.63382590e-07],\n",
       "        ...,\n",
       "        [ 7.76668012e-07,  1.57851279e-08, -1.91669869e-06, ...,\n",
       "          1.69981074e-06,  1.59690869e-06,  1.62346220e-06],\n",
       "        [ 6.10641062e-07, -2.64288157e-07, -1.56849909e-06, ...,\n",
       "          2.16816282e-06,  2.03779840e-06,  1.62589645e-06],\n",
       "        [-1.44571400e-06, -1.22642732e-06, -1.97497404e-06, ...,\n",
       "          1.23777950e-06,  1.09863853e-06,  9.05125141e-07]],\n",
       "\n",
       "       [[ 1.63466477e-06,  7.88088799e-07,  2.06030175e-07, ...,\n",
       "          1.88709247e-06,  1.36291552e-06,  1.02390146e-06],\n",
       "        [ 1.76155066e-06,  1.14610815e-06,  8.23166907e-07, ...,\n",
       "          6.62576556e-07,  5.27486026e-07,  4.04886872e-07],\n",
       "        [ 2.34346962e-06,  2.00721884e-06,  1.79164469e-06, ...,\n",
       "          1.82652032e-06,  1.19500971e-06,  9.06944811e-07],\n",
       "        ...,\n",
       "        [-5.45007610e-06, -4.81978130e-06, -4.00733566e-06, ...,\n",
       "         -2.25804523e-07, -2.07291856e-07,  1.70742735e-07],\n",
       "        [-4.49416494e-06, -4.17571735e-06, -3.63387251e-06, ...,\n",
       "          1.33981895e-06,  1.53124273e-06,  1.67593288e-06],\n",
       "        [-4.16198778e-06, -3.84277368e-06, -3.67562675e-06, ...,\n",
       "          5.73869050e-09,  4.11347359e-07,  8.93090487e-07]],\n",
       "\n",
       "       ...,\n",
       "\n",
       "       [[-4.09729242e-06, -6.07586479e-06, -7.77332354e-06, ...,\n",
       "          1.30571350e-07,  1.45847082e-06,  2.57209969e-06],\n",
       "        [-2.28850150e-06, -3.16822290e-06, -3.89687943e-06, ...,\n",
       "         -2.20700860e-07,  5.50103068e-07,  1.12910306e-06],\n",
       "        [-6.20799959e-07, -3.06312609e-06, -5.32349110e-06, ...,\n",
       "         -4.20555830e-07,  6.07230902e-07,  1.41231155e-06],\n",
       "        ...,\n",
       "        [-1.89813972e-06,  1.19114828e-06,  3.88233018e-06, ...,\n",
       "          5.64624023e-06,  4.42000914e-06,  3.45920873e-06],\n",
       "        [-4.17794406e-07,  1.79820812e-06,  3.84143901e-06, ...,\n",
       "          3.13883591e-06,  1.88221908e-06,  1.01652515e-06],\n",
       "        [-2.66972733e-06, -9.99612272e-07,  7.86666632e-07, ...,\n",
       "          2.45827293e-06,  1.61381054e-06,  1.12687540e-06]],\n",
       "\n",
       "       [[ 1.97075963e-06,  1.82384074e-06,  4.48491812e-07, ...,\n",
       "          9.80429769e-07,  1.60488904e-06,  2.58954859e-06],\n",
       "        [ 9.30035949e-07,  5.02199590e-07, -6.24238253e-07, ...,\n",
       "         -1.50616348e-07, -3.36254537e-08,  6.20784938e-07],\n",
       "        [ 3.21436763e-06,  3.25492263e-06,  2.26302385e-06, ...,\n",
       "          1.06785989e-06,  1.74231279e-06,  2.63084531e-06],\n",
       "        ...,\n",
       "        [-9.08381343e-07,  2.56276578e-07,  3.45996976e-07, ...,\n",
       "          1.02355683e-06,  1.25648415e-06,  1.10450768e-06],\n",
       "        [-2.65783620e-06, -1.54797721e-06, -7.10763931e-07, ...,\n",
       "         -5.13002992e-07, -1.64194450e-07,  6.24015257e-08],\n",
       "        [-2.14520144e-06, -1.99235761e-06, -1.70695770e-06, ...,\n",
       "         -1.50258350e-06, -1.20035934e-06, -1.15715086e-06]],\n",
       "\n",
       "       [[ 1.15316820e-06,  2.65352654e-06,  3.48183799e-06, ...,\n",
       "         -4.70646322e-07,  4.59332556e-07,  2.89780736e-07],\n",
       "        [ 2.02315688e-06,  3.44251537e-06,  4.26878548e-06, ...,\n",
       "         -2.83088064e-06, -1.84136188e-06, -1.85485339e-06],\n",
       "        [-1.13931715e-07,  6.81859732e-07,  1.01037216e-06, ...,\n",
       "          2.97095752e-06,  3.31355071e-06,  2.98113132e-06],\n",
       "        ...,\n",
       "        [ 3.95896626e-06,  3.17660928e-06,  2.68232322e-06, ...,\n",
       "         -3.32380176e-06, -2.83983040e-06, -1.96455908e-06],\n",
       "        [-1.41949844e-06, -2.86498117e-06, -3.99514699e-06, ...,\n",
       "         -7.52362537e-06, -6.23046875e-06, -4.24187279e-06],\n",
       "        [ 1.07013690e-06,  7.38710761e-08, -5.15633106e-07, ...,\n",
       "          2.30329704e-06,  2.08156991e-06,  2.41070747e-06]]]),\n",
       "       array([[[-5.04819107e-06, -4.41011620e-06, -3.16339731e-06, ...,\n",
       "         -1.72030127e-06, -2.32490468e-06, -2.78303623e-06],\n",
       "        [-4.36698675e-06, -3.21979380e-06, -1.81643581e-06, ...,\n",
       "         -1.36837041e-06, -1.69736063e-06, -2.12849593e-06],\n",
       "        [-4.31158829e-06, -4.20515442e-06, -3.42094564e-06, ...,\n",
       "         -1.26550817e-06, -1.68508136e-06, -2.00536966e-06],\n",
       "        ...,\n",
       "        [ 1.06157141e-05,  7.08053541e-06,  2.72426224e-06, ...,\n",
       "         -1.46791786e-08,  1.56594229e-06,  2.94688201e-06],\n",
       "        [ 1.27320576e-05,  9.64619541e-06,  5.64791822e-06, ...,\n",
       "          1.38655865e-06,  2.31056213e-06,  2.87203360e-06],\n",
       "        [ 4.33424950e-06,  3.84458160e-06,  3.12378097e-06, ...,\n",
       "          1.81504607e-06,  1.56800783e-06,  1.70402348e-06]],\n",
       "\n",
       "       [[-1.44942296e-06, -1.26798499e-06, -7.61451960e-07, ...,\n",
       "         -1.27787149e-06, -1.23542225e-06, -6.76861882e-07],\n",
       "        [-2.02464128e-06, -1.43464518e-06, -5.06786883e-07, ...,\n",
       "         -7.69044876e-07, -7.67196119e-07, -1.34769961e-07],\n",
       "        [-3.59043837e-07, -5.75786591e-07, -7.53021717e-07, ...,\n",
       "         -9.18184519e-07, -5.29939592e-07,  4.10776101e-08],\n",
       "        ...,\n",
       "        [ 3.87571239e-06,  3.41467118e-06,  2.28553843e-06, ...,\n",
       "          4.58119106e-06,  2.91552258e-06,  1.00361486e-09],\n",
       "        [ 4.34777927e-06,  3.68800688e-06,  2.18546700e-06, ...,\n",
       "          5.58226490e-06,  3.98987722e-06,  1.10070920e-06],\n",
       "        [ 1.26407135e-06,  6.26081824e-07,  6.81319833e-09, ...,\n",
       "          5.06407499e-07,  1.97276533e-07, -4.48882848e-07]],\n",
       "\n",
       "       [[ 1.97822616e-07, -8.94106805e-07, -1.81933296e-06, ...,\n",
       "          7.41508484e-06,  5.79093409e-06,  3.77613187e-06],\n",
       "        [-5.92587590e-07, -1.76077032e-06, -2.79713702e-06, ...,\n",
       "          7.20804262e-06,  5.37455654e-06,  3.09835505e-06],\n",
       "        [ 5.93598664e-07,  2.62090415e-07, -6.57453164e-08, ...,\n",
       "          6.12450933e-06,  5.04471636e-06,  3.80267143e-06],\n",
       "        ...,\n",
       "        [-2.90885568e-09,  1.53142226e-06,  3.67480946e-06, ...,\n",
       "         -1.75128384e-05, -1.19525318e-05, -6.47566462e-06],\n",
       "        [ 3.60976517e-07,  1.96353948e-06,  3.98299623e-06, ...,\n",
       "         -1.65887642e-05, -1.03875446e-05, -4.43030310e-06],\n",
       "        [ 9.77617979e-07,  1.56921840e-06,  2.12646699e-06, ...,\n",
       "         -6.67290640e-06, -4.98931026e-06, -2.97069883e-06]],\n",
       "\n",
       "       ...,\n",
       "\n",
       "       [[ 4.64457065e-07,  1.03184795e-06,  1.37674820e-06, ...,\n",
       "         -4.02151299e-06, -4.20601892e-06, -4.09173155e-06],\n",
       "        [ 7.69534945e-07,  1.03159130e-06,  1.35864091e-06, ...,\n",
       "         -2.84569979e-06, -3.19643164e-06, -3.15393496e-06],\n",
       "        [-2.49041468e-07,  2.81399041e-07,  4.73187238e-07, ...,\n",
       "         -3.45954370e-06, -3.03428507e-06, -2.61946201e-06],\n",
       "        ...,\n",
       "        [ 4.75134075e-07,  4.35213447e-07,  1.80519193e-07, ...,\n",
       "          1.06367588e-05,  1.05587692e-05,  9.95613384e-06],\n",
       "        [-2.29259849e-06, -1.53349268e-06, -1.24222720e-06, ...,\n",
       "          7.99685574e-06,  8.45451355e-06,  8.37714577e-06],\n",
       "        [-5.64707220e-07, -5.20135164e-07, -5.44794679e-07, ...,\n",
       "          1.82072461e-06,  1.57304072e-06,  1.18240619e-06]],\n",
       "\n",
       "       [[-2.74571943e-06, -2.39159322e-06, -1.91249669e-06, ...,\n",
       "         -3.97059941e-06, -4.78368759e-06, -5.86647272e-06],\n",
       "        [-1.48011696e-06, -1.95603704e-06, -2.49380565e-06, ...,\n",
       "         -6.49433076e-07, -1.30775070e-06, -2.03173399e-06],\n",
       "        [-3.24299812e-06, -2.43318510e-06, -1.34179127e-06, ...,\n",
       "         -4.94370222e-06, -5.59493542e-06, -6.51346922e-06],\n",
       "        ...,\n",
       "        [ 1.10301466e-05,  1.09171991e-05,  1.00250540e-05, ...,\n",
       "          4.38375044e-06,  7.51696062e-06,  1.07444334e-05],\n",
       "        [ 8.39561749e-06,  8.46932411e-06,  8.09269238e-06, ...,\n",
       "         -1.03012371e-06,  1.90275085e-06,  4.73814631e-06],\n",
       "        [-3.96801054e-07, -2.11712003e-07,  3.83437276e-07, ...,\n",
       "         -1.39667606e-06, -9.82059479e-07, -6.11685991e-07]],\n",
       "\n",
       "       [[-1.38069868e-07, -1.46976435e-06, -2.51653075e-06, ...,\n",
       "         -5.09121609e-06, -5.48531342e-06, -5.72715235e-06],\n",
       "        [ 2.46325612e-06,  1.52007902e-06,  4.94377792e-07, ...,\n",
       "         -4.44995546e-06, -5.09023809e-06, -5.35768032e-06],\n",
       "        [-1.17996895e-06, -2.26450086e-06, -2.97859955e-06, ...,\n",
       "         -3.17882776e-06, -3.29663873e-06, -3.71311283e-06],\n",
       "        ...,\n",
       "        [-5.36925435e-07,  1.62552547e-06,  4.11745501e-06, ...,\n",
       "          9.51869965e-06,  1.11674719e-05,  1.23535433e-05],\n",
       "        [-1.41522586e-06, -1.31882966e-07,  1.49730563e-06, ...,\n",
       "          8.63230324e-06,  1.01075172e-05,  1.06389141e-05],\n",
       "        [-3.33824372e-06, -2.85337996e-06, -2.38505721e-06, ...,\n",
       "          3.13933730e-06,  3.56422400e-06,  4.05058718e-06]]]),\n",
       "       array([[[-3.70831585e-06, -1.84954619e-06, -3.80688000e-06, ...,\n",
       "          4.01870441e-06,  4.09584808e-06,  1.45221686e-06],\n",
       "        [-5.21763861e-07,  1.08653367e-06, -1.22721219e-06, ...,\n",
       "          4.82197905e-06,  4.29087305e-06,  1.23254478e-06],\n",
       "        [-5.24529648e-06, -3.78587890e-06, -4.85069418e-06, ...,\n",
       "          2.32976007e-06,  2.74146605e-06,  1.30652142e-06],\n",
       "        ...,\n",
       "        [-3.91020536e-06, -4.61875582e-06, -2.43702984e-06, ...,\n",
       "         -3.26438928e-06, -4.36929369e-06, -4.41167545e-06],\n",
       "        [-3.89143610e-06, -4.74572086e-06, -1.94141936e-06, ...,\n",
       "         -4.10202789e-06, -4.60639477e-06, -3.42229772e-06],\n",
       "        [ 2.19171405e-07, -1.53525639e-06,  1.68495810e-06, ...,\n",
       "         -4.74145603e-06, -5.22587252e-06, -3.27535725e-06]],\n",
       "\n",
       "       [[ 2.71481562e-06,  1.27778506e-06,  1.23542711e-07, ...,\n",
       "         -6.66690159e-06, -6.57807016e-06, -6.61200809e-06],\n",
       "        [ 2.96143293e-06,  1.32039785e-06,  1.33439347e-07, ...,\n",
       "         -7.58221245e-06, -7.11033678e-06, -7.07636786e-06],\n",
       "        [ 2.76487875e-06,  1.79846358e-06,  7.52644956e-07, ...,\n",
       "         -3.44425178e-06, -4.10562086e-06, -4.43742228e-06],\n",
       "        ...,\n",
       "        [-6.81644559e-07, -1.31515932e-06, -9.46334839e-07, ...,\n",
       "          1.95268333e-06,  2.37889576e-06,  2.92759657e-06],\n",
       "        [-2.84627885e-07, -6.79684162e-07, -5.31374335e-07, ...,\n",
       "          5.67847252e-06,  5.33676672e-06,  5.81644011e-06],\n",
       "        [-1.38393307e-06, -1.40958810e-06, -7.95698643e-07, ...,\n",
       "          7.62383413e-06,  7.38672352e-06,  7.74740601e-06]],\n",
       "\n",
       "       [[ 1.96299601e-06,  8.16151083e-07, -1.32870483e-06, ...,\n",
       "          7.07737982e-07,  5.73849380e-07,  5.44821382e-07],\n",
       "        [ 1.53531528e-06, -1.77986175e-07, -2.63763118e-06, ...,\n",
       "          3.31844330e-06,  3.36358309e-06,  3.34405947e-06],\n",
       "        [ 1.29247808e-06,  1.11258531e-06, -7.28994608e-09, ...,\n",
       "         -2.51988840e-06, -2.19119906e-06, -1.76279807e-06],\n",
       "        ...,\n",
       "        [-4.13830042e-06, -4.17844009e-06, -3.01305342e-06, ...,\n",
       "         -2.98212051e-07, -1.39578784e-06, -1.46746552e-06],\n",
       "        [-5.34224081e-06, -4.39351463e-06, -2.33899593e-06, ...,\n",
       "         -2.88256478e-06, -3.77100968e-06, -3.71048641e-06],\n",
       "        [-5.99935532e-06, -4.91247606e-06, -2.12303829e-06, ...,\n",
       "         -1.63405824e-06, -2.93502903e-06, -3.09898686e-06]],\n",
       "\n",
       "       ...,\n",
       "\n",
       "       [[-9.85228300e-07, -4.42308784e-07, -1.55321670e-06, ...,\n",
       "         -2.45411563e-06, -1.92577088e-06, -2.21409059e-06],\n",
       "        [-7.61897743e-07, -8.23821723e-07, -2.08340621e-06, ...,\n",
       "         -2.36747074e-06, -2.12425303e-06, -2.76733255e-06],\n",
       "        [-3.19221234e-06, -1.95501375e-06, -2.32475901e-06, ...,\n",
       "         -1.33321095e-06, -8.20341587e-07, -7.33607054e-07],\n",
       "        ...,\n",
       "        [-2.07929611e-06, -4.62684488e-06, -4.19468355e-06, ...,\n",
       "          2.68088043e-07, -1.26796520e-06, -2.69936800e-06],\n",
       "        [-1.92560852e-06, -3.56976628e-06, -2.81193447e-06, ...,\n",
       "         -6.60083532e-07, -1.35137403e-06, -1.75006258e-06],\n",
       "        [ 1.18508434e-06, -5.74325919e-07,  8.86402547e-07, ...,\n",
       "         -6.06726170e-07, -1.06345737e-06, -9.54846203e-07]],\n",
       "\n",
       "       [[ 1.72310352e-06,  1.88217759e-08,  1.62441945e-06, ...,\n",
       "         -3.17214757e-07,  1.75002232e-07,  9.46076572e-07],\n",
       "        [ 9.21984136e-07, -9.54525888e-07,  2.70163357e-07, ...,\n",
       "         -1.21516323e-06, -8.70323122e-07, -3.60152870e-07],\n",
       "        [ 2.41026974e-06,  1.28960395e-06,  2.67212915e-06, ...,\n",
       "          4.79418002e-08,  4.48369265e-07,  1.07848918e-06],\n",
       "        ...,\n",
       "        [-2.29975295e-06, -2.67500520e-06, -5.46986675e-06, ...,\n",
       "         -1.06527448e-07, -6.97372913e-07, -5.45280814e-07],\n",
       "        [-5.73347211e-07, -4.56432879e-07, -3.26862431e-06, ...,\n",
       "         -2.78502941e-07, -6.97207808e-07, -5.23852885e-07],\n",
       "        [-6.00258768e-07,  3.78890097e-07, -2.82405090e-06, ...,\n",
       "         -5.84853709e-07, -9.24315453e-07, -8.45677257e-07]],\n",
       "\n",
       "       [[-1.65457749e-06, -6.72895014e-07, -2.07243013e-06, ...,\n",
       "          8.12998295e-06,  6.48376417e-06,  5.22744417e-06],\n",
       "        [-1.34741628e-06, -1.10958003e-07, -1.86842513e-06, ...,\n",
       "          9.53734875e-06,  8.31729984e-06,  7.34603357e-06],\n",
       "        [-1.17783713e-06, -1.01555896e-06, -1.56230271e-06, ...,\n",
       "          2.65269256e-06,  1.31276011e-06,  2.83831060e-07],\n",
       "        ...,\n",
       "        [ 1.25196695e-06,  8.62993836e-07,  3.20131123e-07, ...,\n",
       "          3.79467607e-08,  1.02037513e-06,  2.00144005e-06],\n",
       "        [ 3.09785008e-07, -6.68388069e-07, -1.54201031e-07, ...,\n",
       "         -4.97708035e-06, -4.28799915e-06, -3.80955148e-06],\n",
       "        [ 6.08161211e-07, -2.97690630e-07,  5.72991252e-07, ...,\n",
       "         -7.49845219e-06, -6.31181383e-06, -5.35711288e-06]]]),\n",
       "       array([[[ 1.69134378e-06,  2.01552916e-06,  2.35410595e-06, ...,\n",
       "         -4.12508905e-07, -6.70080781e-07, -7.31262505e-07],\n",
       "        [ 2.79098845e-06,  2.58312535e-06,  2.17339921e-06, ...,\n",
       "         -1.31648278e-06, -1.61086953e-06, -1.61273146e-06],\n",
       "        [ 1.09462261e-06,  1.74550319e-06,  1.83416021e-06, ...,\n",
       "          8.93279433e-07,  9.74280000e-07,  1.00559950e-06],\n",
       "        ...,\n",
       "        [-9.08881962e-07, -3.60118806e-07, -7.62795955e-08, ...,\n",
       "          1.21141851e-07,  5.60838997e-07,  1.65306628e-07],\n",
       "        [-1.72420371e-06, -7.38722742e-07, -7.06173897e-07, ...,\n",
       "          2.92818218e-07,  9.38049078e-07,  3.93250525e-07],\n",
       "        [-5.51252186e-07, -9.76753235e-08,  2.83317119e-07, ...,\n",
       "         -4.88358140e-07,  2.86786556e-08, -2.46411070e-07]],\n",
       "\n",
       "       [[-4.10778856e-06, -4.58914757e-06, -4.72206926e-06, ...,\n",
       "          5.97147584e-07,  8.32102537e-07,  4.99620914e-07],\n",
       "        [-6.20245647e-06, -5.77868128e-06, -4.71052504e-06, ...,\n",
       "          1.40237081e-06,  1.44447207e-06,  9.10178185e-07],\n",
       "        [ 1.39202356e-07, -7.98430562e-07, -1.13242579e-06, ...,\n",
       "         -1.77899981e-06, -9.66275692e-07, -8.64204526e-07],\n",
       "        ...,\n",
       "        [ 2.42143965e-06,  3.33497691e-06,  2.99558353e-06, ...,\n",
       "          5.38880205e-06,  5.93234491e-06,  6.39994526e-06],\n",
       "        [ 5.26199913e-06,  5.39234400e-06,  4.79413795e-06, ...,\n",
       "          2.15902090e-06,  2.77400446e-06,  3.01682091e-06],\n",
       "        [ 1.23288691e-06,  1.96104383e-06,  1.47288811e-06, ...,\n",
       "          3.70281148e-06,  3.91901326e-06,  4.19663429e-06]],\n",
       "\n",
       "       [[ 1.43864048e-06,  1.18195653e-06,  1.33411855e-07, ...,\n",
       "          8.67231250e-07,  1.68638921e-06,  2.42796803e-06],\n",
       "        [ 1.53775585e-06,  1.97642934e-06,  1.67805517e-06, ...,\n",
       "          5.55268347e-07,  1.09694648e-06,  1.66317558e-06],\n",
       "        [-3.04788411e-07, -7.49038815e-07, -1.74292111e-06, ...,\n",
       "         -2.12565970e-06, -1.89000654e-06, -1.44068503e-06],\n",
       "        ...,\n",
       "        [ 1.75975010e-07,  5.71911931e-07,  1.47530484e-06, ...,\n",
       "         -9.62372005e-07, -9.21146870e-07, -1.37102795e-06],\n",
       "        [-6.82159007e-07, -5.04655302e-07,  1.50080379e-08, ...,\n",
       "         -2.61131477e-06, -2.77371836e-06, -3.39629936e-06],\n",
       "        [-5.64540923e-07, -5.38458467e-07,  3.02027851e-07, ...,\n",
       "         -1.51600540e-07,  3.69603932e-08, -4.23832715e-07]],\n",
       "\n",
       "       ...,\n",
       "\n",
       "       [[-2.30695248e-07, -4.60650504e-07,  9.07203257e-08, ...,\n",
       "          1.21464603e-07, -4.04892117e-08,  1.90627202e-08],\n",
       "        [-4.99003172e-07, -4.79761958e-07,  3.53367597e-07, ...,\n",
       "          9.52165127e-07,  6.36646211e-07,  5.76056242e-07],\n",
       "        [ 5.46506882e-07,  5.27978897e-07,  5.33195257e-07, ...,\n",
       "         -5.79697728e-07, -1.38685405e-07, -1.15054101e-07],\n",
       "        ...,\n",
       "        [ 3.86279821e-06,  3.34557080e-06,  1.58636868e-06, ...,\n",
       "         -1.23928809e-06, -1.19691014e-06, -9.54975784e-07],\n",
       "        [ 3.49734426e-06,  3.22461915e-06,  1.13691163e-06, ...,\n",
       "         -1.95435166e-06, -1.37188470e-06, -1.20757031e-06],\n",
       "        [ 3.18650842e-06,  3.34863830e-06,  2.00863051e-06, ...,\n",
       "         -9.29294348e-07, -8.14336300e-07, -8.81565332e-07]],\n",
       "\n",
       "       [[-1.14422202e-06, -4.78788733e-07, -1.26273990e-07, ...,\n",
       "          2.76431054e-07,  8.14862967e-07,  1.39546061e-06],\n",
       "        [-1.65160942e-06, -1.59671009e-06, -1.81264877e-06, ...,\n",
       "          1.00793934e-06,  9.40887570e-07,  9.59543705e-07],\n",
       "        [ 1.16032314e-06,  1.56898808e-06,  2.19296503e-06, ...,\n",
       "         -4.02796149e-07,  5.58397532e-07,  1.49046695e-06],\n",
       "        ...,\n",
       "        [ 3.38879156e-06,  3.26522422e-06,  3.30622602e-06, ...,\n",
       "         -1.01045918e-06, -1.53756642e-06, -1.59076583e-06],\n",
       "        [ 4.72826719e-06,  4.46547937e-06,  5.07969475e-06, ...,\n",
       "         -2.02844429e-06, -2.07218504e-06, -1.47752309e-06],\n",
       "        [ 2.43323064e-06,  2.33578849e-06,  2.70978093e-06, ...,\n",
       "         -5.33285260e-07, -7.68222094e-07, -9.97133732e-07]],\n",
       "\n",
       "       [[ 4.52648973e-06,  5.06508398e-06,  4.65949631e-06, ...,\n",
       "         -1.67614889e-06, -1.11125159e-06, -9.02087450e-07],\n",
       "        [ 2.67277455e-06,  3.68906760e-06,  3.87125421e-06, ...,\n",
       "         -6.19134679e-08,  8.31822455e-08, -1.85899794e-07],\n",
       "        [ 3.95848536e-06,  3.62787151e-06,  2.96816754e-06, ...,\n",
       "         -1.62182820e-06, -1.09275413e-06, -8.15146089e-07],\n",
       "        ...,\n",
       "        [ 3.14724398e-06,  3.58045173e-06,  3.64012909e-06, ...,\n",
       "         -2.80580902e-06, -3.66083193e-06, -2.78597927e-06],\n",
       "        [ 3.04516292e-06,  2.85252380e-06,  2.98305631e-06, ...,\n",
       "         -2.62986326e-06, -3.04549122e-06, -2.11311936e-06],\n",
       "        [-5.54422438e-07, -8.13590705e-07, -6.31558776e-07, ...,\n",
       "         -2.50878835e-06, -2.86552906e-06, -2.10288477e-06]]]),\n",
       "       array([[[ 5.16513109e-07,  2.47235537e-07,  1.40103710e-06, ...,\n",
       "         -9.59503800e-08,  9.25218225e-07, -5.11034369e-07],\n",
       "        [-1.69811690e-06, -2.39434385e-06, -1.38863003e-06, ...,\n",
       "          6.59971952e-07,  1.60335553e-06,  1.49397165e-07],\n",
       "        [ 2.14567947e-06,  2.64670992e-06,  3.52142215e-06, ...,\n",
       "         -1.25596356e-06, -6.65867925e-07, -1.48854971e-06],\n",
       "        ...,\n",
       "        [-7.05231380e-06, -6.40003252e-06, -5.24388981e-06, ...,\n",
       "          1.84164226e-06,  1.26977813e-06,  2.70493716e-07],\n",
       "        [ 1.70793355e-07,  1.16347182e-06,  7.77726591e-07, ...,\n",
       "         -6.33841038e-07, -8.11561108e-07, -5.55416226e-07],\n",
       "        [-2.56743956e-06, -2.10761642e-06, -2.25261021e-06, ...,\n",
       "          5.80719471e-07,  1.27780452e-07,  3.85941356e-07]],\n",
       "\n",
       "       [[-1.76280320e-06, -1.10943663e-06,  6.01116598e-07, ...,\n",
       "         -1.99749076e-06, -2.97246277e-08,  7.96428978e-07],\n",
       "        [-2.45495129e-06, -2.31852221e-06, -1.00057161e-06, ...,\n",
       "         -1.49719191e-06, -4.49447870e-07, -4.76699680e-07],\n",
       "        [-1.53785682e-06, -7.26826936e-08,  1.97723436e-06, ...,\n",
       "         -1.58450198e-06,  4.46967065e-07,  1.51430106e-06],\n",
       "        ...,\n",
       "        [ 3.68950009e-06,  7.52308249e-07, -3.75112844e-06, ...,\n",
       "          1.11099730e-05,  9.90127659e-06,  8.25336266e-06],\n",
       "        [-2.20554399e-06, -3.96886563e-06, -5.47604752e-06, ...,\n",
       "          2.17765045e-06,  2.82998633e-06,  3.86309052e-06],\n",
       "        [ 7.92448044e-07, -1.17256606e-06, -3.85980392e-06, ...,\n",
       "          4.86705160e-06,  4.10502577e-06,  3.80871630e-06]],\n",
       "\n",
       "       [[-2.20796451e-07, -4.86608803e-07, -5.76546907e-07, ...,\n",
       "          3.29428959e-06,  3.92596674e-06,  2.93366122e-06],\n",
       "        [-2.70402479e-06, -1.88015807e-06, -1.19409621e-06, ...,\n",
       "         -3.88161801e-08,  7.63763666e-07,  5.19388914e-07],\n",
       "        [ 1.97620118e-06,  1.33971095e-06,  9.44134951e-07, ...,\n",
       "          5.07867193e-06,  5.52263832e-06,  4.61192465e-06],\n",
       "        ...,\n",
       "        [ 3.56222510e-07,  2.33248544e-06,  3.29561973e-06, ...,\n",
       "         -6.35746145e-06, -2.80078769e-06,  5.44288397e-07],\n",
       "        [ 2.61907339e-06,  4.04587555e-06,  4.40473413e-06, ...,\n",
       "         -4.43266439e-06, -2.66503716e-06, -2.95519561e-07],\n",
       "        [ 6.65791512e-07,  1.93041098e-06,  2.50891852e-06, ...,\n",
       "         -5.03044367e-06, -3.32731128e-06, -1.09176171e-06]],\n",
       "\n",
       "       ...,\n",
       "\n",
       "       [[ 6.94868445e-07,  1.33257437e-06,  1.71091235e-06, ...,\n",
       "          3.51243043e-06,  1.54373217e-06, -9.24352705e-08],\n",
       "        [ 2.78035212e-06,  3.87550783e-06,  4.39885044e-06, ...,\n",
       "          3.09014869e-06,  8.81860256e-07, -8.83477330e-07],\n",
       "        [-2.84525251e-06, -2.23478222e-06, -1.48722076e-06, ...,\n",
       "          1.03118396e-06,  2.24673539e-07, -5.75210989e-07],\n",
       "        ...,\n",
       "        [ 1.36576424e-05,  1.37769709e-05,  1.23580494e-05, ...,\n",
       "         -8.28981113e-06, -8.12336159e-06, -7.51891756e-06],\n",
       "        [-2.09427786e-06, -2.03252101e-06, -2.96263862e-06, ...,\n",
       "          1.00269675e-06,  1.99072623e-06,  1.98049891e-06],\n",
       "        [ 3.90121102e-06,  3.62440252e-06,  2.61917400e-06, ...,\n",
       "         -1.95670009e-06, -1.46730793e-06, -1.28232968e-06]],\n",
       "\n",
       "       [[ 5.46889877e-06,  5.79403543e-06,  1.98280931e-06, ...,\n",
       "          1.76300958e-07,  2.37813640e-06,  2.88893962e-06],\n",
       "        [ 2.79547167e-06,  4.23083735e-06,  1.54668558e-06, ...,\n",
       "          4.15278167e-07,  3.18678141e-06,  4.22342968e-06],\n",
       "        [ 3.83765745e-06,  3.39121103e-06,  9.45736825e-07, ...,\n",
       "          7.13823259e-07,  7.57999659e-07, -3.78498495e-07],\n",
       "        ...,\n",
       "        [-1.45387478e-05, -1.27318249e-05, -1.10509720e-05, ...,\n",
       "          6.01070213e-06,  5.62129831e-06,  3.55724525e-06],\n",
       "        [-7.16485882e-06, -6.62672234e-06, -4.33453274e-06, ...,\n",
       "          2.31880927e-06, -1.88715756e-07, -2.49396706e-06],\n",
       "        [-7.28168440e-06, -6.89677095e-06, -5.12738848e-06, ...,\n",
       "          2.84897757e-06,  2.02744150e-06,  1.02974200e-06]],\n",
       "\n",
       "       [[ 3.78604603e-06,  3.43738127e-06,  2.07628298e-06, ...,\n",
       "          1.84584558e-06, -8.94025743e-07,  4.17112780e-06],\n",
       "        [ 5.01460934e-06,  4.48636389e-06,  2.37746119e-06, ...,\n",
       "          3.44849133e-06,  4.31986213e-07,  5.49645805e-06],\n",
       "        [-3.61077845e-07, -3.73376131e-07, -5.92492640e-07, ...,\n",
       "         -1.65075767e-06, -3.22044301e-06, -3.98755759e-07],\n",
       "        ...,\n",
       "        [ 7.00324631e-06,  6.03885365e-06,  4.10340357e-06, ...,\n",
       "          5.08755302e-06,  4.52332783e-06,  4.84580374e-06],\n",
       "        [ 1.57369602e-06,  2.03998804e-07, -2.42552519e-07, ...,\n",
       "          8.22124100e-06,  8.70046997e-06,  6.51315546e-06],\n",
       "        [ 3.63643980e-06,  2.73487949e-06,  2.08840728e-06, ...,\n",
       "          6.17685127e-06,  6.81962013e-06,  4.81145191e-06]]]),\n",
       "       array([[[ 2.50659466e-06,  2.13347745e-06,  1.79574871e-06, ...,\n",
       "         -1.69809163e-06, -1.31837559e-06, -1.04484880e-06],\n",
       "        [ 1.65472865e-06,  1.23353636e-06,  7.21285641e-07, ...,\n",
       "         -1.21381998e-06, -8.93721163e-07, -7.33935177e-07],\n",
       "        [ 1.38924360e-06,  1.31806564e-06,  1.39006186e-06, ...,\n",
       "         -5.95415533e-07, -3.73625100e-07, -2.22857073e-07],\n",
       "        ...,\n",
       "        [ 1.09848648e-07,  4.09203768e-08, -2.08326668e-07, ...,\n",
       "         -7.46793687e-07, -1.30440307e-06, -1.92917788e-06],\n",
       "        [-5.25680006e-07, -4.37559485e-08,  3.42864335e-07, ...,\n",
       "          8.06789279e-07, -1.63913161e-07, -9.84509945e-07],\n",
       "        [ 4.73795235e-08,  3.07067573e-07,  3.73513579e-07, ...,\n",
       "          1.14177167e-07, -7.03913569e-07, -1.27772224e-06]],\n",
       "\n",
       "       [[ 1.15529418e-06,  1.49876225e-06,  1.82850492e-06, ...,\n",
       "         -9.58772421e-07, -4.85218883e-07, -3.16724122e-07],\n",
       "        [ 1.76016247e-06,  1.90340042e-06,  1.94361067e-06, ...,\n",
       "          2.96489000e-08,  1.41376734e-07,  3.45621407e-08],\n",
       "        [ 7.81205654e-07,  1.18506050e-06,  1.63312304e-06, ...,\n",
       "         -7.82968521e-07, -2.95796126e-07, -1.03136465e-07],\n",
       "        ...,\n",
       "        [ 1.17475295e-06,  7.78441072e-07,  1.31548837e-07, ...,\n",
       "          9.66414273e-07,  9.81496334e-07,  1.01445186e-06],\n",
       "        [ 4.23115462e-07, -3.28574851e-08, -4.88714397e-07, ...,\n",
       "         -1.45664024e-06, -9.51920331e-07, -2.92114973e-07],\n",
       "        [-3.20435911e-07, -6.07465088e-07, -8.75678122e-07, ...,\n",
       "         -6.67365909e-07, -7.69736707e-07, -4.71615881e-07]],\n",
       "\n",
       "       [[ 1.42304492e-06,  1.81284559e-06,  1.60082221e-06, ...,\n",
       "          3.80363035e-06,  3.34459543e-06,  2.88857937e-06],\n",
       "        [ 1.55520797e-06,  1.49347830e-06,  1.03847623e-06, ...,\n",
       "          2.39358759e-06,  2.20938563e-06,  2.01883984e-06],\n",
       "        [ 4.46956664e-07,  1.21968317e-06,  1.45770383e-06, ...,\n",
       "          2.24054027e-06,  1.75141037e-06,  1.26359773e-06],\n",
       "        ...,\n",
       "        [-3.07981074e-08, -2.11403504e-07, -2.18640447e-07, ...,\n",
       "         -2.47863650e-06, -2.35349417e-06, -2.19844961e-06],\n",
       "        [ 8.42400074e-07,  1.59907973e-06,  2.12425470e-06, ...,\n",
       "         -6.53297758e-06, -5.68511200e-06, -4.30593061e-06],\n",
       "        [ 7.60744214e-08,  1.04638040e-07,  2.56772488e-07, ...,\n",
       "         -2.10478163e-06, -1.69631624e-06, -1.22685909e-06]],\n",
       "\n",
       "       ...,\n",
       "\n",
       "       [[-1.07396674e-06, -1.32342422e-06, -1.71487498e-06, ...,\n",
       "         -3.36371279e-06, -2.94630623e-06, -2.66465569e-06],\n",
       "        [-1.21968138e-06, -1.12805188e-06, -1.21288276e-06, ...,\n",
       "         -4.12487698e-06, -3.81241918e-06, -3.44020081e-06],\n",
       "        [-9.67749283e-08, -4.48858052e-07, -9.33669448e-07, ...,\n",
       "         -1.14331615e-06, -1.00149214e-06, -1.14579356e-06],\n",
       "        ...,\n",
       "        [ 4.46697861e-07,  9.84336078e-07,  1.29528964e-06, ...,\n",
       "         -6.31736374e-06, -7.54627848e-06, -8.01190281e-06],\n",
       "        [ 1.61733675e-06,  1.93229878e-06,  1.96722567e-06, ...,\n",
       "         -8.85573149e-07, -2.04520941e-06, -3.15000153e-06],\n",
       "        [ 1.48947752e-06,  1.58494222e-06,  1.58257997e-06, ...,\n",
       "          6.31928682e-07,  2.36183226e-07, -7.78508186e-09]],\n",
       "\n",
       "       [[ 7.50223815e-07,  1.23115897e-06,  1.12505364e-06, ...,\n",
       "          6.36492431e-07,  1.15989101e-06,  1.75200415e-06],\n",
       "        [ 1.67674506e-06,  1.90946782e-06,  1.67554450e-06, ...,\n",
       "         -4.20899093e-07, -3.72042120e-07, -1.52337879e-07],\n",
       "        [ 5.83644569e-07,  1.01727986e-06,  1.02770495e-06, ...,\n",
       "          1.54904294e-06,  1.83783686e-06,  2.12782264e-06],\n",
       "        ...,\n",
       "        [-1.14571667e-06, -9.74533319e-07, -5.21370173e-07, ...,\n",
       "         -3.07930350e-07, -8.38847876e-07, -9.81136560e-07],\n",
       "        [-3.93715858e-06, -2.96586251e-06, -1.61016536e-06, ...,\n",
       "          1.13659978e-06,  3.36958736e-07, -3.29233438e-07],\n",
       "        [-1.95907712e-06, -1.65968537e-06, -1.06339240e-06, ...,\n",
       "         -4.10160124e-07, -9.93983984e-07, -1.50656033e-06]],\n",
       "\n",
       "       [[-3.65548396e-06, -3.95872641e-06, -3.92521811e-06, ...,\n",
       "         -1.58661628e-06, -1.45373738e-06, -1.18457532e-06],\n",
       "        [-4.10252857e-06, -4.30509281e-06, -4.18610430e-06, ...,\n",
       "         -1.05096686e-06, -9.92156982e-07, -8.68607521e-07],\n",
       "        [-2.50540686e-06, -2.44783711e-06, -2.15952373e-06, ...,\n",
       "         -9.18080628e-07, -7.15911269e-07, -4.47175115e-07],\n",
       "        ...,\n",
       "        [ 7.36692309e-07,  1.13603997e-06,  1.16967690e-06, ...,\n",
       "          7.36693978e-07,  9.13845837e-07,  9.97569919e-07],\n",
       "        [ 7.37476397e-06,  7.38385010e-06,  6.69701767e-06, ...,\n",
       "          3.86347681e-07,  8.40576172e-07,  1.01404333e-06],\n",
       "        [ 3.37787437e-06,  3.29835582e-06,  2.88652563e-06, ...,\n",
       "          1.36266279e-06,  1.63510072e-06,  1.59397757e-06]]]),\n",
       "       array([[[-5.53420074e-08, -3.37654948e-07, -6.00504756e-07, ...,\n",
       "         -2.05957681e-07,  7.05307424e-07,  3.03360224e-07],\n",
       "        [ 5.82253933e-08, -1.01932287e-07, -2.14132339e-07, ...,\n",
       "         -4.07182485e-07,  5.69162488e-07,  3.21435481e-07],\n",
       "        [-2.07102343e-07, -4.92071956e-07, -7.55521297e-07, ...,\n",
       "         -2.35601544e-07,  4.64080721e-07,  1.97884142e-07],\n",
       "        ...,\n",
       "        [-1.16452202e-07,  3.19255680e-07,  9.22111273e-07, ...,\n",
       "          1.14321971e-06,  4.38301831e-07,  5.47067940e-07],\n",
       "        [-1.51626721e-07,  2.81366467e-07,  9.01170313e-07, ...,\n",
       "          1.77827895e-06,  8.45442295e-07,  8.60847414e-07],\n",
       "        [-9.77782533e-08,  1.79518998e-07,  5.22927284e-07, ...,\n",
       "          4.46011305e-07, -1.94862232e-07,  5.07664979e-08]],\n",
       "\n",
       "       [[ 2.01345897e-06,  1.64240146e-06,  1.31314254e-06, ...,\n",
       "         -4.97240305e-07, -9.72820759e-07, -4.95831728e-07],\n",
       "        [ 2.27864909e-06,  1.82210052e-06,  1.33518815e-06, ...,\n",
       "         -5.83188176e-07, -1.08988595e-06, -7.86389947e-07],\n",
       "        [ 9.96898592e-07,  6.62567735e-07,  4.28850889e-07, ...,\n",
       "          9.77909565e-09, -2.88974762e-07,  1.93227887e-07],\n",
       "        ...,\n",
       "        [-1.53040022e-07,  6.15083724e-08,  2.72215396e-07, ...,\n",
       "          5.42898297e-07,  9.65711653e-07,  7.23662674e-07],\n",
       "        [-6.80600166e-07, -3.47231954e-07,  7.66232610e-08, ...,\n",
       "          1.23861468e-06,  1.80137122e-06,  1.57514334e-06],\n",
       "        [-1.03421259e-06, -8.32360923e-07, -6.34592950e-07, ...,\n",
       "          4.96894598e-07,  8.82109284e-07,  6.31980658e-07]],\n",
       "\n",
       "       [[ 2.22923398e-07,  7.11688876e-07,  1.24434638e-06, ...,\n",
       "         -1.80877432e-07,  4.21938747e-07,  5.92165411e-07],\n",
       "        [ 9.36876833e-07,  1.41897416e-06,  1.64247537e-06, ...,\n",
       "         -4.90394592e-07,  3.67419571e-08,  1.68500587e-07],\n",
       "        [ 3.63263667e-07,  8.19329917e-07,  1.45885849e-06, ...,\n",
       "          1.14854611e-07,  6.15680933e-07,  7.77978182e-07],\n",
       "        ...,\n",
       "        [-2.27269793e-06, -2.52410531e-06, -2.66340923e-06, ...,\n",
       "          1.34511566e-06,  6.41903996e-07,  1.88558012e-07],\n",
       "        [-3.23208618e-06, -3.52920079e-06, -3.40093756e-06, ...,\n",
       "          1.71194375e-06,  8.08297396e-07,  2.10456729e-07],\n",
       "        [-8.47631514e-07, -1.11187112e-06, -1.33093131e-06, ...,\n",
       "          7.22308278e-07,  2.18763098e-07, -1.20734014e-08]],\n",
       "\n",
       "       ...,\n",
       "\n",
       "       [[-6.32019997e-07, -6.19198918e-07, -2.76088476e-07, ...,\n",
       "         -3.79451513e-08, -1.80366993e-07, -5.33806920e-07],\n",
       "        [-2.92979598e-07, -5.22495151e-07, -5.06364942e-07, ...,\n",
       "         -5.34783006e-07, -3.90119076e-07, -5.66418529e-07],\n",
       "        [-3.54613543e-07, -1.31960511e-07,  3.97444606e-07, ...,\n",
       "          7.07642853e-07,  2.49306023e-07, -2.69374490e-07],\n",
       "        ...,\n",
       "        [ 7.80376077e-07,  1.12936378e-06,  1.14290547e-06, ...,\n",
       "          4.07717288e-07,  6.72366977e-07,  1.08609974e-06],\n",
       "        [ 1.13764024e-06,  1.85662723e-06,  2.23299503e-06, ...,\n",
       "          1.25606740e-06,  1.25159502e-06,  1.49272740e-06],\n",
       "        [ 5.98157465e-07,  7.79823422e-07,  7.04445004e-07, ...,\n",
       "          3.81125450e-07,  4.45763409e-07,  6.90787435e-07]],\n",
       "\n",
       "       [[-9.90257382e-07, -1.08893251e-06, -3.80803287e-07, ...,\n",
       "         -2.16268599e-07, -1.06714797e-06, -1.64751017e-06],\n",
       "        [-1.46184194e-06, -1.52613163e-06, -8.72102976e-07, ...,\n",
       "          5.67892194e-07,  8.94185901e-08, -3.21940720e-07],\n",
       "        [-1.78480595e-07, -3.39014947e-07,  1.52458206e-07, ...,\n",
       "         -9.53009605e-07, -1.78305531e-06, -2.27072620e-06],\n",
       "        ...,\n",
       "        [ 4.12445754e-07,  4.43335503e-07, -6.82131350e-08, ...,\n",
       "         -1.29655242e-07,  4.73871171e-07,  1.01436806e-06],\n",
       "        [ 1.20364487e-06,  1.16675758e-06,  5.24990439e-07, ...,\n",
       "         -1.11353970e-06, -6.68710589e-07, -6.25736415e-08],\n",
       "        [ 7.06637681e-07,  7.33702302e-07,  2.20104113e-07, ...,\n",
       "         -1.54055685e-07,  4.05023217e-07,  8.48764777e-07]],\n",
       "\n",
       "       [[ 3.72125506e-08,  9.47538614e-07,  1.59892917e-06, ...,\n",
       "         -1.27652311e-06, -1.15307581e-06, -1.20964694e-06],\n",
       "        [-2.54322499e-07,  7.60022640e-07,  1.65558815e-06, ...,\n",
       "         -1.32071900e-06, -1.29030550e-06, -1.40200710e-06],\n",
       "        [ 2.59612322e-07,  9.67487752e-07,  1.39013231e-06, ...,\n",
       "         -1.02438498e-06, -7.74492979e-07, -6.96704805e-07],\n",
       "        ...,\n",
       "        [-6.51689291e-07, -1.55287910e-06, -2.38936806e-06, ...,\n",
       "          6.98758960e-08, -1.35418892e-07, -2.96049714e-07],\n",
       "        [-4.73685443e-07, -1.67510951e-06, -2.93292880e-06, ...,\n",
       "         -2.67332792e-08, -5.99721372e-08, -1.11090183e-07],\n",
       "        [-2.31922597e-07, -9.43165958e-07, -1.53925002e-06, ...,\n",
       "          5.41920185e-07,  4.40737665e-07,  4.27542865e-07]]]),\n",
       "       array([[[-3.00949097e-06, -3.80083919e-06, -4.00809479e-06, ...,\n",
       "          3.03651619e-06,  2.58065081e-06,  7.06351995e-07],\n",
       "        [-3.95615149e-06, -5.08865690e-06, -5.61748791e-06, ...,\n",
       "          3.64504719e-06,  3.11307788e-06,  1.26744843e-06],\n",
       "        [-7.06743181e-07, -9.47078466e-07, -8.53668332e-07, ...,\n",
       "          3.04144192e-06,  2.67053771e-06,  9.19177830e-07],\n",
       "        ...,\n",
       "        [ 1.65290922e-07,  1.76857442e-07,  4.82008785e-07, ...,\n",
       "         -1.95052075e-06, -1.58615410e-06,  4.67265584e-09],\n",
       "        [ 2.74739957e-06,  3.49714160e-06,  4.15563202e-06, ...,\n",
       "         -6.47257710e-06, -5.57580233e-06, -2.94655275e-06],\n",
       "        [ 1.25214958e-06,  1.64183128e-06,  1.98189747e-06, ...,\n",
       "         -4.80356407e-06, -4.39345551e-06, -2.18199539e-06]],\n",
       "\n",
       "       [[-2.03446174e-06,  7.41609812e-07, -3.98621559e-08, ...,\n",
       "         -2.43486619e-06, -1.99889672e-06, -1.94934106e-06],\n",
       "        [-1.67146993e-06,  1.17574108e-06,  4.86414284e-07, ...,\n",
       "         -1.89008224e-06, -1.49991250e-06, -1.43176138e-06],\n",
       "        [-1.01620030e-06,  8.40758324e-07, -3.11384380e-07, ...,\n",
       "         -3.31875849e-06, -2.88601065e-06, -2.87302828e-06],\n",
       "        ...,\n",
       "        [ 2.09830713e-06,  1.06808436e-06,  1.94741416e-06, ...,\n",
       "          1.12511843e-07, -1.23065865e-06, -1.63332725e-06],\n",
       "        [ 2.48704171e-06,  6.88759387e-07,  1.66449928e-06, ...,\n",
       "         -9.37333465e-07, -1.66735828e-06, -2.01701665e-06],\n",
       "        [ 2.48000550e-06,  4.57406431e-07,  1.71116161e-06, ...,\n",
       "          8.82110894e-07, -4.56760615e-07, -7.86698222e-07]],\n",
       "\n",
       "       [[-3.20384479e-06, -2.84181786e-06, -2.87405443e-06, ...,\n",
       "          4.87981081e-07,  3.04602623e-06, -1.22465014e-06],\n",
       "        [-2.72155070e-06, -1.78387511e-06, -1.13005090e-06, ...,\n",
       "          6.93714678e-07,  3.48350334e-06, -3.58944714e-07],\n",
       "        [-1.94212556e-06, -2.49645543e-06, -3.38494992e-06, ...,\n",
       "          9.28614259e-07,  2.78334284e-06, -1.22694850e-06],\n",
       "        ...,\n",
       "        [ 7.26180851e-07, -1.30486965e-07,  4.82023060e-07, ...,\n",
       "         -2.46280932e-06, -3.99396825e-06, -1.06583548e-06],\n",
       "        [-3.17653567e-08, -1.19487035e-06, -1.60694873e-06, ...,\n",
       "         -5.41674376e-06, -8.74709988e-06, -5.92914391e-06],\n",
       "        [ 2.82859027e-07, -3.31601769e-07,  1.54857844e-07, ...,\n",
       "         -2.88035750e-06, -5.54566669e-06, -1.36898184e-06]],\n",
       "\n",
       "       ...,\n",
       "\n",
       "       [[-2.43907022e-06, -4.87050951e-07,  3.88923645e-07, ...,\n",
       "          4.90347719e-06,  1.97220302e-06,  2.47593760e-06],\n",
       "        [-1.85647166e-06, -2.29570374e-07,  3.27405721e-07, ...,\n",
       "          2.92420673e-06, -1.77858174e-07,  4.20643538e-07],\n",
       "        [-1.34310555e-06,  4.29964244e-07,  1.14391923e-06, ...,\n",
       "          6.18422270e-06,  3.83216286e-06,  4.00613928e-06],\n",
       "        ...,\n",
       "        [-6.35813594e-07, -1.52948999e-06, -1.57876182e-06, ...,\n",
       "         -3.67777634e-06, -1.80754423e-06, -1.91636372e-06],\n",
       "        [-3.57562971e-06, -4.56830263e-06, -4.53726101e-06, ...,\n",
       "         -2.67095399e-06, -6.23303533e-07, -1.60158062e-06],\n",
       "        [-1.78954470e-06, -3.27053547e-06, -3.45760846e-06, ...,\n",
       "         -4.44129372e-06, -1.35251296e-06, -1.62013853e-06]],\n",
       "\n",
       "       [[ 8.80122244e-07,  7.59689033e-07, -2.67156392e-07, ...,\n",
       "          4.79025698e-06,  4.38765430e-06,  5.34851599e-06],\n",
       "        [ 1.76488197e-06,  1.39522493e-06,  2.96130925e-08, ...,\n",
       "          5.19577169e-06,  4.95211506e-06,  6.23429394e-06],\n",
       "        [-4.83688504e-07, -1.03231698e-07, -3.14149022e-07, ...,\n",
       "          2.41804981e-06,  1.58490133e-06,  1.78781843e-06],\n",
       "        ...,\n",
       "        [-1.04349412e-07, -6.27489269e-07, -2.67554939e-07, ...,\n",
       "         -8.43558133e-07, -9.30344164e-07, -1.30379331e-06],\n",
       "        [-1.95551372e-06, -1.70568657e-06, -7.87919343e-07, ...,\n",
       "         -4.33338118e-06, -5.06851530e-06, -6.24868822e-06],\n",
       "        [-8.06723177e-07, -1.13780308e-06, -4.46029723e-07, ...,\n",
       "         -2.25892377e-06, -1.85948753e-06, -2.49915719e-06]],\n",
       "\n",
       "       [[-5.13376832e-07, -5.37246287e-07, -8.08898926e-07, ...,\n",
       "         -1.63092613e-06, -1.80365336e-06, -2.10775733e-08],\n",
       "        [-4.84164208e-07, -2.84305573e-07, -5.37973523e-07, ...,\n",
       "          5.21185160e-07,  4.01629806e-07,  1.67680335e-06],\n",
       "        [-1.07632780e-06, -1.37342095e-06, -1.66233492e-06, ...,\n",
       "         -4.65128040e-06, -5.28459167e-06, -3.57803679e-06],\n",
       "        ...,\n",
       "        [-8.20662618e-07, -8.76580477e-07, -4.99914050e-07, ...,\n",
       "          1.80541724e-07,  1.43902516e-06,  1.19654286e-06],\n",
       "        [ 1.79051089e-06,  8.97467375e-07,  1.37928462e-06, ...,\n",
       "         -5.30066204e-06, -2.72255039e-06, -1.65824032e-06],\n",
       "        [-4.10349399e-07, -1.03863072e-06, -6.80408359e-07, ...,\n",
       "         -6.99550867e-07,  1.29097283e-06,  1.50210416e-06]]]),\n",
       "       array([[[ 2.64091611e-06,  2.09059477e-06,  1.40618074e-06, ...,\n",
       "          2.93783092e-06,  4.15955496e-06,  4.62826777e-06],\n",
       "        [ 9.25441980e-07,  1.04836738e-06,  9.73216593e-07, ...,\n",
       "          2.67033553e-06,  3.29535985e-06,  3.41510463e-06],\n",
       "        [ 3.67533731e-06,  2.53522849e-06,  1.27181721e-06, ...,\n",
       "          8.09416175e-07,  1.88706005e-06,  2.28176618e-06],\n",
       "        ...,\n",
       "        [-9.38443780e-07, -5.37659585e-07,  5.61074913e-07, ...,\n",
       "          5.29028130e-06,  5.16450119e-06,  5.50352478e-06],\n",
       "        [ 1.04426694e-06,  1.11761856e-06,  1.84971333e-06, ...,\n",
       "          5.41937542e-06,  5.79020214e-06,  6.56798267e-06],\n",
       "        [ 5.11358380e-07,  7.30240047e-07,  1.49728799e-06, ...,\n",
       "          2.83097029e-06,  3.09516382e-06,  3.65564871e-06]],\n",
       "\n",
       "       [[ 1.41052032e-06,  9.13228333e-07,  5.30166864e-07, ...,\n",
       "          9.43519831e-07,  1.26128125e-06,  1.55133092e-06],\n",
       "        [ 3.33392167e-06,  3.89204335e-06,  4.16483021e-06, ...,\n",
       "          1.47119522e-07,  5.31152368e-07,  1.27466261e-06],\n",
       "        [-9.30654764e-07, -2.54774165e-06, -3.68255901e-06, ...,\n",
       "          1.00723708e-06,  9.70028877e-07,  8.48448694e-07],\n",
       "        ...,\n",
       "        [-5.08765697e-06, -2.17245412e-06, -4.19051647e-08, ...,\n",
       "         -4.01350355e-06, -4.74395037e-06, -6.56654215e-06],\n",
       "        [-7.06943226e-06, -4.65970850e-06, -3.07197332e-06, ...,\n",
       "         -1.27183294e-06, -2.31336379e-06, -4.51699162e-06],\n",
       "        [-4.77317429e-06, -2.50745106e-06, -9.67118621e-07, ...,\n",
       "         -2.80029655e-07, -1.25664330e-06, -2.99854136e-06]],\n",
       "\n",
       "       [[ 6.89261675e-07,  8.97703826e-07,  1.38342524e-06, ...,\n",
       "          2.13110757e-06,  2.53235912e-06,  3.03250432e-06],\n",
       "        [-2.09319085e-07, -1.28255293e-07,  1.04050294e-07, ...,\n",
       "         -3.65958549e-08,  1.36343762e-07,  5.47067225e-07],\n",
       "        [ 2.31308532e-06,  2.17722106e-06,  2.46926785e-06, ...,\n",
       "          2.98762727e-06,  3.54175520e-06,  3.52437615e-06],\n",
       "        ...,\n",
       "        [-6.58672428e-06, -4.61797523e-06, -3.35133815e-06, ...,\n",
       "          3.92530584e-06,  2.45119596e-06,  2.89404178e-06],\n",
       "        [-4.54880714e-06, -2.66173625e-06, -1.31540608e-06, ...,\n",
       "          5.40157986e-06,  4.14539814e-06,  4.27976084e-06],\n",
       "        [-3.81583977e-06, -2.36458302e-06, -1.30674350e-06, ...,\n",
       "          3.63822746e-06,  2.56261063e-06,  2.60341477e-06]],\n",
       "\n",
       "       ...,\n",
       "\n",
       "       [[-2.32664251e-06, -2.12758017e-06, -2.12580395e-06, ...,\n",
       "         -1.86567456e-07, -1.24912906e-06, -2.71224904e-06],\n",
       "        [-3.82675886e-06, -2.70276046e-06, -1.55169034e-06, ...,\n",
       "         -2.10233778e-07,  2.07890078e-07,  1.06367993e-06],\n",
       "        [ 8.05235863e-07, -1.90059364e-07, -1.13513851e-06, ...,\n",
       "         -1.61099982e-06, -3.28929663e-06, -6.39645386e-06],\n",
       "        ...,\n",
       "        [ 2.23408651e-06,  1.76522446e-06,  3.84083152e-07, ...,\n",
       "          6.35456181e-06,  5.96308661e-06,  6.98454809e-06],\n",
       "        [ 3.92343426e-06,  2.62887907e-06,  6.40140891e-07, ...,\n",
       "          8.62819862e-06,  7.51352501e-06,  6.73691273e-06],\n",
       "        [ 2.81503153e-06,  2.20471644e-06,  1.08133566e-06, ...,\n",
       "          6.75035763e-06,  6.27178288e-06,  6.26729250e-06]],\n",
       "\n",
       "       [[-1.66650927e-06, -2.55001855e-06, -3.42978978e-06, ...,\n",
       "          3.34139299e-06,  3.44845438e-06,  3.55924582e-06],\n",
       "        [-1.64801538e-06, -2.20036817e-06, -2.32246017e-06, ...,\n",
       "          1.18129444e-06,  1.49285972e-06,  1.44878364e-06],\n",
       "        [-1.44991434e-06, -2.29736328e-06, -3.37308979e-06, ...,\n",
       "          3.17331266e-06,  3.39172316e-06,  3.75196171e-06],\n",
       "        ...,\n",
       "        [ 3.93079185e-06,  5.69725323e-06,  7.22666693e-06, ...,\n",
       "          2.00533703e-07, -2.04090500e-06, -3.27595448e-06],\n",
       "        [ 3.00542879e-06,  4.68432713e-06,  5.96959734e-06, ...,\n",
       "          4.23953629e-06,  1.58835638e-06, -1.28598809e-07],\n",
       "        [ 1.35059619e-06,  2.89887524e-06,  4.17897558e-06, ...,\n",
       "          2.93478894e-06,  8.92320395e-07, -4.50349391e-07]],\n",
       "\n",
       "       [[-4.50034714e-06, -4.91175222e-06, -3.32607675e-06, ...,\n",
       "         -5.35830927e-06, -5.62113333e-06, -5.79908657e-06],\n",
       "        [-1.79293227e-06, -1.35054123e-06, -7.79438950e-09, ...,\n",
       "         -4.73166370e-06, -4.39319658e-06, -4.14008904e-06],\n",
       "        [-3.98590589e-06, -5.37220240e-06, -4.08916759e-06, ...,\n",
       "         -4.76226330e-06, -5.40989256e-06, -5.98726654e-06],\n",
       "        ...,\n",
       "        [ 1.35161948e-06,  2.88135552e-06, -3.11261594e-07, ...,\n",
       "          9.79803944e-06,  8.77805901e-06,  9.38362694e-06],\n",
       "        [ 8.02177191e-07,  1.49663329e-06, -1.50317192e-06, ...,\n",
       "          8.71032524e-06,  7.42102623e-06,  7.64322472e-06],\n",
       "        [ 8.74225140e-07,  1.83608699e-06, -3.35387707e-07, ...,\n",
       "          6.68753672e-06,  5.76332903e-06,  5.87266731e-06]]])],\n",
       "      dtype=object)"
      ]
     },
     "execution_count": 9,
     "metadata": {},
     "output_type": "execute_result"
    }
   ],
   "source": [
    "pp_rh_raw"
   ]
  },
  {
   "cell_type": "code",
   "execution_count": null,
   "metadata": {},
   "outputs": [],
   "source": []
  },
  {
   "cell_type": "code",
   "execution_count": 10,
   "metadata": {},
   "outputs": [
    {
     "data": {
      "text/plain": [
       "(51, 61, 1250)"
      ]
     },
     "execution_count": 10,
     "metadata": {},
     "output_type": "execute_result"
    }
   ],
   "source": [
    "pp_rh_raw[4].shape"
   ]
  },
  {
   "cell_type": "code",
   "execution_count": 11,
   "metadata": {},
   "outputs": [],
   "source": [
    "pp_rh = pp_rh_raw\n",
    "pnp_rh = pnp_rh_raw"
   ]
  },
  {
   "cell_type": "code",
   "execution_count": 12,
   "metadata": {},
   "outputs": [
    {
     "data": {
      "text/plain": [
       "473"
      ]
     },
     "execution_count": 12,
     "metadata": {},
     "output_type": "execute_result"
    }
   ],
   "source": [
    "pp_count = np.vstack(pp_rh).shape[0]\n",
    "pnp_count = np.vstack(pnp_rh).shape[0]\n",
    "pnp_count"
   ]
  },
  {
   "cell_type": "code",
   "execution_count": 13,
   "metadata": {},
   "outputs": [
    {
     "data": {
      "text/plain": [
       "(9,)"
      ]
     },
     "execution_count": 13,
     "metadata": {},
     "output_type": "execute_result"
    }
   ],
   "source": [
    "pnp_rh.shape"
   ]
  },
  {
   "cell_type": "markdown",
   "metadata": {},
   "source": [
    "Set some patients aside for testing"
   ]
  },
  {
   "cell_type": "code",
   "execution_count": null,
   "metadata": {},
   "outputs": [],
   "source": []
  },
  {
   "cell_type": "code",
   "execution_count": 14,
   "metadata": {},
   "outputs": [
    {
     "data": {
      "text/plain": [
       "(19,)"
      ]
     },
     "execution_count": 14,
     "metadata": {},
     "output_type": "execute_result"
    }
   ],
   "source": [
    "pp_and_pnp_bp = np.concatenate((pp_rh, pnp_rh))\n",
    "pp_and_pnp_bp.shape"
   ]
  },
  {
   "cell_type": "code",
   "execution_count": 15,
   "metadata": {},
   "outputs": [],
   "source": [
    "# Returns a pair consisting of boolean (True is test patient is PP) and test label\n",
    "def test_setup(test_index, total_size):\n",
    "    test_is_pp = test_index < len(pp_rh)\n",
    "    test_label = 1 if test_is_pp else 0\n",
    "    return test_is_pp, test_label\n",
    "\n",
    "# Splits into train and test based on the index of the test patient\n",
    "# Returns pair of test and train\n",
    "def get_train_test(data, test_index):\n",
    "    return data[test_index], np.delete(data, test_index)\n",
    "\n",
    "# Returns pair of the lengths of PP train data and respectively PNP train data\n",
    "def get_pp_pnp_length(pp_count, pnp_count, test_count, test_is_pp):\n",
    "    pp_train_len = pp_count if not test_is_pp else pp_count - test_count\n",
    "    pnp_train_len = pnp_count if test_is_pp else pnp_count - test_count\n",
    "    return pp_train_len, pnp_train_len\n",
    "\n",
    "# Ravel first dimention so that trials from all patients are treated separately; select channels\n",
    "def ravel_all_trials(data, channels):\n",
    "    return np.array(list(map(np.ravel, data[:, channels, :])))"
   ]
  },
  {
   "cell_type": "code",
   "execution_count": 16,
   "metadata": {},
   "outputs": [
    {
     "data": {
      "text/plain": [
       "1"
      ]
     },
     "execution_count": 16,
     "metadata": {},
     "output_type": "execute_result"
    }
   ],
   "source": [
    "test_index = 4\n",
    "\n",
    "test_is_pp, test_label = test_setup(test_index, len(pp_rh))\n",
    "test_label"
   ]
  },
  {
   "cell_type": "code",
   "execution_count": 17,
   "metadata": {},
   "outputs": [
    {
     "data": {
      "text/plain": [
       "(51, 61, 1250)"
      ]
     },
     "execution_count": 17,
     "metadata": {},
     "output_type": "execute_result"
    }
   ],
   "source": [
    "test_p, train_p = get_train_test(pp_and_pnp_bp, test_index)\n",
    "test_p.shape"
   ]
  },
  {
   "cell_type": "code",
   "execution_count": 18,
   "metadata": {},
   "outputs": [
    {
     "data": {
      "text/plain": [
       "(952, 61, 1250)"
      ]
     },
     "execution_count": 18,
     "metadata": {},
     "output_type": "execute_result"
    }
   ],
   "source": [
    "train_p_separated = np.vstack(train_p)\n",
    "train_p_separated.shape"
   ]
  },
  {
   "cell_type": "code",
   "execution_count": null,
   "metadata": {},
   "outputs": [],
   "source": []
  },
  {
   "cell_type": "code",
   "execution_count": 19,
   "metadata": {},
   "outputs": [
    {
     "data": {
      "text/plain": [
       "479"
      ]
     },
     "execution_count": 19,
     "metadata": {},
     "output_type": "execute_result"
    }
   ],
   "source": [
    "pp_train_len, pnp_train_len = get_pp_pnp_length(pp_count, pnp_count, len(test_p), test_is_pp)\n",
    "pp_train_len"
   ]
  },
  {
   "cell_type": "code",
   "execution_count": null,
   "metadata": {},
   "outputs": [],
   "source": []
  },
  {
   "cell_type": "code",
   "execution_count": 20,
   "metadata": {},
   "outputs": [],
   "source": [
    "mul = 1"
   ]
  },
  {
   "cell_type": "code",
   "execution_count": 21,
   "metadata": {},
   "outputs": [],
   "source": [
    "selected_channels = [10, 11]"
   ]
  },
  {
   "cell_type": "code",
   "execution_count": 22,
   "metadata": {},
   "outputs": [
    {
     "data": {
      "text/plain": [
       "(952, 2500)"
      ]
     },
     "execution_count": 22,
     "metadata": {},
     "output_type": "execute_result"
    }
   ],
   "source": [
    "train = ravel_all_trials(train_p_separated, selected_channels) * mul\n",
    "train.shape"
   ]
  },
  {
   "cell_type": "code",
   "execution_count": 23,
   "metadata": {},
   "outputs": [
    {
     "data": {
      "text/plain": [
       "(51, 2500)"
      ]
     },
     "execution_count": 23,
     "metadata": {},
     "output_type": "execute_result"
    }
   ],
   "source": [
    "test = ravel_all_trials(test_p, selected_channels) * mul\n",
    "test.shape"
   ]
  },
  {
   "cell_type": "code",
   "execution_count": 24,
   "metadata": {},
   "outputs": [
    {
     "data": {
      "text/plain": [
       "array([[ 1.05657566e-06,  5.21210492e-07,  2.03500077e-07, ...,\n",
       "        -2.36549330e-06, -1.97331083e-06, -1.41629684e-06],\n",
       "       [-1.41202569e-07,  5.66546917e-08,  2.53183603e-07, ...,\n",
       "         7.36745238e-07,  6.62015975e-07,  7.23308444e-07],\n",
       "       [ 1.42604041e-06,  1.76345122e-06,  2.18594170e-06, ...,\n",
       "         1.97960436e-06,  2.10886788e-06,  2.29054785e-06],\n",
       "       ...,\n",
       "       [-3.55594087e-06, -3.91500711e-06, -3.56801891e-06, ...,\n",
       "        -1.40896595e-06, -2.11614823e-06, -2.32282782e-06],\n",
       "       [-1.11476517e-06, -8.95260811e-07, -2.33350053e-07, ...,\n",
       "        -2.67188191e-06, -4.26986361e-06, -3.97224998e-06],\n",
       "       [-7.19978237e-06, -8.37935162e-06, -8.00901794e-06, ...,\n",
       "         1.75276458e-06,  2.17538834e-06,  2.32463646e-06]])"
      ]
     },
     "execution_count": 24,
     "metadata": {},
     "output_type": "execute_result"
    }
   ],
   "source": [
    "train"
   ]
  },
  {
   "cell_type": "markdown",
   "metadata": {},
   "source": [
    "Some analysis of raw EEG"
   ]
  },
  {
   "cell_type": "code",
   "execution_count": 26,
   "metadata": {},
   "outputs": [],
   "source": [
    "import matplotlib.pyplot as plt"
   ]
  },
  {
   "cell_type": "code",
   "execution_count": 167,
   "metadata": {},
   "outputs": [],
   "source": [
    "pp_and_pnp_stacked = np.vstack(pp_and_pnp_bp)\n",
    "means = np.mean(pp_and_pnp_stacked, axis=0)"
   ]
  },
  {
   "cell_type": "code",
   "execution_count": 168,
   "metadata": {},
   "outputs": [
    {
     "data": {
      "text/plain": [
       "-29244.258523002263"
      ]
     },
     "execution_count": 168,
     "metadata": {},
     "output_type": "execute_result"
    }
   ],
   "source": [
    "mul = 10**10\n",
    "np.min(means*mul)"
   ]
  },
  {
   "cell_type": "code",
   "execution_count": 169,
   "metadata": {},
   "outputs": [],
   "source": [
    "plt_vmin = np.percentile(means, 2)\n",
    "plt_vmax = np.percentile(means, 98)"
   ]
  },
  {
   "cell_type": "code",
   "execution_count": 170,
   "metadata": {},
   "outputs": [
    {
     "data": {
      "text/plain": [
       "<matplotlib.image.AxesImage at 0x290d1bbb550>"
      ]
     },
     "execution_count": 170,
     "metadata": {},
     "output_type": "execute_result"
    },
    {
     "data": {
      "image/png": "[encoded data removed]",
      "text/plain": [
       "<Figure size 1440x1440 with 1 Axes>"
      ]
     },
     "metadata": {
      "needs_background": "light"
     },
     "output_type": "display_data"
    }
   ],
   "source": [
    "plt.figure(figsize=(20,20))\n",
    "plt.imshow(means, vmin=plt_vmin, vmax=plt_vmax)"
   ]
  },
  {
   "cell_type": "code",
   "execution_count": 171,
   "metadata": {},
   "outputs": [],
   "source": [
    "stds = np.std(pp_and_pnp_stacked, axis=0)"
   ]
  },
  {
   "cell_type": "code",
   "execution_count": 172,
   "metadata": {},
   "outputs": [],
   "source": [
    "plt_vmin = np.percentile(stds, 5)\n",
    "plt_vmax = np.percentile(stds, 95)"
   ]
  },
  {
   "cell_type": "code",
   "execution_count": 173,
   "metadata": {},
   "outputs": [
    {
     "data": {
      "text/plain": [
       "<matplotlib.image.AxesImage at 0x290d1c102e8>"
      ]
     },
     "execution_count": 173,
     "metadata": {},
     "output_type": "execute_result"
    },
    {
     "data": {
      "image/png": "[encoded data removed]",
      "text/plain": [
       "<Figure size 1440x1440 with 1 Axes>"
      ]
     },
     "metadata": {
      "needs_background": "light"
     },
     "output_type": "display_data"
    }
   ],
   "source": [
    "plt.figure(figsize=(20,20))\n",
    "plt.imshow(stds,vmin=plt_vmin, vmax=plt_vmax)"
   ]
  },
  {
   "cell_type": "code",
   "execution_count": null,
   "metadata": {},
   "outputs": [],
   "source": []
  },
  {
   "cell_type": "code",
   "execution_count": 25,
   "metadata": {},
   "outputs": [],
   "source": [
    "labels = [1] * pp_train_len + [0] * pnp_train_len\n",
    "test_labels = [test_label] * len(test)"
   ]
  },
  {
   "cell_type": "markdown",
   "metadata": {},
   "source": [
    "It's time to learn"
   ]
  },
  {
   "cell_type": "code",
   "execution_count": 26,
   "metadata": {},
   "outputs": [],
   "source": [
    "from sklearn import neighbors, svm\n",
    "from sklearn.model_selection import train_test_split"
   ]
  },
  {
   "cell_type": "code",
   "execution_count": 27,
   "metadata": {},
   "outputs": [],
   "source": [
    "knn = neighbors.KNeighborsClassifier(n_neighbors=130)"
   ]
  },
  {
   "cell_type": "code",
   "execution_count": 28,
   "metadata": {},
   "outputs": [],
   "source": [
    "x_train, x_test, y_train, y_test = train_test_split(train, labels, test_size=0.05)"
   ]
  },
  {
   "cell_type": "code",
   "execution_count": 29,
   "metadata": {},
   "outputs": [
    {
     "data": {
      "text/plain": [
       "KNeighborsClassifier(algorithm='auto', leaf_size=30, metric='minkowski',\n",
       "                     metric_params=None, n_jobs=None, n_neighbors=130, p=2,\n",
       "                     weights='uniform')"
      ]
     },
     "execution_count": 29,
     "metadata": {},
     "output_type": "execute_result"
    }
   ],
   "source": [
    "knn.fit(x_train, y_train)"
   ]
  },
  {
   "cell_type": "code",
   "execution_count": 30,
   "metadata": {},
   "outputs": [
    {
     "data": {
      "text/plain": [
       "0.5"
      ]
     },
     "execution_count": 30,
     "metadata": {},
     "output_type": "execute_result"
    }
   ],
   "source": [
    "knn.score(x_train, y_train)"
   ]
  },
  {
   "cell_type": "code",
   "execution_count": 31,
   "metadata": {},
   "outputs": [
    {
     "data": {
      "text/plain": [
       "0.4583333333333333"
      ]
     },
     "execution_count": 31,
     "metadata": {},
     "output_type": "execute_result"
    }
   ],
   "source": [
    "knn.score(x_test, y_test)"
   ]
  },
  {
   "cell_type": "code",
   "execution_count": 32,
   "metadata": {},
   "outputs": [
    {
     "data": {
      "text/plain": [
       "array([0, 0, 0, 0, 0, 0, 0, 0, 0, 0, 0, 0, 0, 0, 0, 0, 0, 0, 0, 0, 0, 0,\n",
       "       0, 0, 0, 0, 0, 0, 0, 0, 0, 0, 0, 0, 0, 0, 0, 0, 0, 0, 0, 0, 0, 0,\n",
       "       0, 0, 0, 0, 0, 0, 0])"
      ]
     },
     "execution_count": 32,
     "metadata": {},
     "output_type": "execute_result"
    }
   ],
   "source": [
    "knn.predict(test)"
   ]
  },
  {
   "cell_type": "code",
   "execution_count": 33,
   "metadata": {},
   "outputs": [
    {
     "data": {
      "text/plain": [
       "0.0"
      ]
     },
     "execution_count": 33,
     "metadata": {},
     "output_type": "execute_result"
    }
   ],
   "source": [
    "np.count_nonzero(knn.predict(test) == test_labels)/len(test)"
   ]
  },
  {
   "cell_type": "markdown",
   "metadata": {},
   "source": [
    "### Cross validation"
   ]
  },
  {
   "cell_type": "code",
   "execution_count": 34,
   "metadata": {},
   "outputs": [],
   "source": [
    "def classify_knn_with_xvalid(data_pp_bp, data_pnp_bp, n_neighbours, selected_channels, test_index, mul, verbose=True):\n",
    "    \n",
    "    data_bp = np.concatenate((data_pp_bp, data_pnp_bp))\n",
    "    \n",
    "    test_is_pp, test_label = test_setup(test_index, len(data_pp_bp))\n",
    "    test_p, train_p = get_train_test(data_bp, test_index)\n",
    "    train_p_separated = np.vstack(train_p)\n",
    "    pp_train_len, pnp_train_len = get_pp_pnp_length(pp_count, pnp_count, len(test_p), test_is_pp)\n",
    "    \n",
    "    train = ravel_all_trials(train_p_separated, selected_channels) * mul\n",
    "    test = ravel_all_trials(test_p, selected_channels) * mul\n",
    "    \n",
    "    labels = [1] * pp_train_len + [0] * pnp_train_len\n",
    "    test_labels = [test_label] * len(test)\n",
    "    \n",
    "    if verbose:\n",
    "        print('Test index', test_index, 'Preparing to classify set of', pp_train_len, 'PP and', pnp_train_len, 'PNP.')\n",
    "    \n",
    "    clas = neighbors.KNeighborsClassifier(n_neighbors=n_neighbours)\n",
    "    clas.fit(train, labels)\n",
    "    train_acc = clas.score(train, labels)\n",
    "    test_acc = clas.score(test, test_labels)\n",
    "    \n",
    "    if verbose:\n",
    "        print('Train score:', train_acc, '  Test score:', test_acc)\n",
    "    \n",
    "    return test_acc\n",
    "    \n",
    "    "
   ]
  },
  {
   "cell_type": "code",
   "execution_count": 35,
   "metadata": {},
   "outputs": [
    {
     "name": "stdout",
     "output_type": "stream",
     "text": [
      "Test index 2 Preparing to classify set of 471 PP and 473 PNP.\n",
      "Train score: 0.5010593220338984   Test score: 0.01694915254237288\n"
     ]
    },
    {
     "data": {
      "text/plain": [
       "0.01694915254237288"
      ]
     },
     "execution_count": 35,
     "metadata": {},
     "output_type": "execute_result"
    }
   ],
   "source": [
    "classify_knn_with_xvalid(pp_rh, pnp_rh, 23, [0, 3, 10, 36], 2, 10000000000000)"
   ]
  },
  {
   "cell_type": "markdown",
   "metadata": {},
   "source": [
    "#### Cross validate over the whole dataset"
   ]
  },
  {
   "cell_type": "code",
   "execution_count": 31,
   "metadata": {},
   "outputs": [
    {
     "name": "stdout",
     "output_type": "stream",
     "text": [
      "Test index 0 Preparing to classify set of 473 PP and 473 PNP.\n",
      "Train score: 0.5243128964059197   Test score: 0.0\n",
      "Test index 1 Preparing to classify set of 473 PP and 473 PNP.\n",
      "Train score: 0.5264270613107822   Test score: 0.0\n",
      "Test index 2 Preparing to classify set of 471 PP and 473 PNP.\n",
      "Train score: 0.5010593220338984   Test score: 0.3898305084745763\n",
      "Test index 3 Preparing to classify set of 476 PP and 473 PNP.\n",
      "Train score: 0.5258166491043204   Test score: 0.0\n",
      "Test index 4 Preparing to classify set of 479 PP and 473 PNP.\n",
      "Train score: 0.5283613445378151   Test score: 0.0\n",
      "Test index 5 Preparing to classify set of 472 PP and 473 PNP.\n",
      "Train score: 0.5333333333333333   Test score: 0.0\n",
      "Test index 6 Preparing to classify set of 474 PP and 473 PNP.\n",
      "Train score: 0.529039070749736   Test score: 0.0\n",
      "Test index 7 Preparing to classify set of 498 PP and 473 PNP.\n",
      "Train score: 0.5149330587023687   Test score: 0.0\n",
      "Test index 8 Preparing to classify set of 478 PP and 473 PNP.\n",
      "Train score: 0.5299684542586751   Test score: 0.0\n",
      "Test index 9 Preparing to classify set of 476 PP and 473 PNP.\n",
      "Train score: 0.530031612223393   Test score: 0.0\n",
      "Test index 10 Preparing to classify set of 530 PP and 423 PNP.\n",
      "Train score: 0.4858342077649528   Test score: 1.0\n",
      "Test index 11 Preparing to classify set of 530 PP and 419 PNP.\n",
      "Train score: 0.4794520547945205   Test score: 1.0\n",
      "Test index 12 Preparing to classify set of 530 PP and 429 PNP.\n",
      "Train score: 0.48383733055265904   Test score: 1.0\n",
      "Test index 13 Preparing to classify set of 530 PP and 418 PNP.\n",
      "Train score: 0.47362869198312235   Test score: 1.0\n",
      "Test index 14 Preparing to classify set of 530 PP and 423 PNP.\n",
      "Train score: 0.47848898216159497   Test score: 1.0\n",
      "Test index 15 Preparing to classify set of 530 PP and 418 PNP.\n",
      "Train score: 0.4778481012658228   Test score: 1.0\n",
      "Test index 16 Preparing to classify set of 530 PP and 415 PNP.\n",
      "Train score: 0.47195767195767196   Test score: 1.0\n",
      "Test index 17 Preparing to classify set of 530 PP and 420 PNP.\n",
      "Train score: 0.48105263157894734   Test score: 1.0\n",
      "Test index 18 Preparing to classify set of 530 PP and 419 PNP.\n",
      "Train score: 0.48050579557428874   Test score: 1.0\n",
      "0.4942016057091882\n",
      "Correctly labeled 9 out of 19\n"
     ]
    }
   ],
   "source": [
    "total_score = 0\n",
    "patients_correct = 0\n",
    "for i in range(len(pp_and_pnp_bp)):\n",
    "    score = classify_knn_with_xvalid(pp_rh, pnp_rh, 11, [36], i, mul)\n",
    "    total_score += score\n",
    "    if score > 0.5:\n",
    "        patients_correct += 1\n",
    "    \n",
    "# TODO log acc for each patient\n",
    "    \n",
    "print(total_score/len(pp_and_pnp_bp))\n",
    "print('Correctly labeled', patients_correct, 'out of', len(pp_and_pnp_bp))"
   ]
  },
  {
   "cell_type": "markdown",
   "metadata": {},
   "source": [
    "#### Cross validate over multiple channels"
   ]
  },
  {
   "cell_type": "code",
   "execution_count": 33,
   "metadata": {},
   "outputs": [
    {
     "name": "stdout",
     "output_type": "stream",
     "text": [
      "0 0.46991582106736157 8\n",
      "1 0.47381277029424523 7\n",
      "2 0.41997674516306605 8\n",
      "3 0.45931555237285077 9\n",
      "4 0.47612377857744725 9\n",
      "5 0.5050709897544378 9\n",
      "6 0.4638077181738826 8\n",
      "7 0.46599164265320026 9\n",
      "8 0.517520556213784 10\n",
      "9 0.45289412995389 10\n",
      "10 0.4331109517482022 8\n",
      "11 0.439536656836515 8\n",
      "12 0.4626291481134858 9\n",
      "13 0.4890337024310835 9\n",
      "14 0.5054253069404429 10\n",
      "15 0.4713034560728073 8\n",
      "16 0.5014555763396941 9\n",
      "17 0.49844385932092716 12\n",
      "18 0.4382522563833893 8\n",
      "19 0.444242910285917 8\n",
      "20 0.4503299423013964 8\n",
      "21 0.47930209018523023 9\n",
      "22 0.49201050983585704 9\n",
      "23 0.5047951437335915 9\n",
      "24 0.45463910048540335 8\n",
      "25 0.514513129241401 10\n",
      "26 0.4663409102372305 10\n",
      "27 0.5191882061221635 10\n",
      "28 0.48453181616557156 9\n",
      "29 0.5232063646789687 10\n",
      "30 0.4744390332479901 9\n",
      "31 0.5198294446666052 10\n",
      "32 0.5255708013283434 10\n",
      "33 0.5020383256335248 10\n",
      "34 0.5135487499978658 10\n",
      "35 0.4879443911502734 8\n",
      "36 0.5032048105197079 10\n",
      "37 0.5068556513694783 10\n",
      "38 0.4992282023325734 10\n",
      "39 0.5046078407916669 9\n",
      "40 0.5132854097208583 10\n",
      "41 0.4803286091263658 9\n",
      "42 0.5084310427368139 10\n",
      "43 0.4563828284029825 9\n",
      "44 0.4065508517488123 3\n",
      "45 0.49386003913627274 10\n",
      "46 0.478120427542694 9\n",
      "47 0.5109433021588033 10\n",
      "48 0.49951748284161485 9\n",
      "49 0.5071684021985234 9\n",
      "50 0.49988827262173424 9\n",
      "51 0.5042933679724139 10\n",
      "52 0.5089490779074209 10\n",
      "53 0.49999101955103314 9\n",
      "54 0.4809080462652404 9\n",
      "55 0.41680090869949843 7\n",
      "56 0.46455752890206775 9\n",
      "57 0.48025314223905957 9\n",
      "58 0.42080584165681884 7\n",
      "59 0.4400132549405838 8\n",
      "60 0.5120644442775932 10\n",
      "Max accuracy: 32 0.5255708013283434\n"
     ]
    }
   ],
   "source": [
    "file = open('all_results/eeg_knn_results.csv', 'a', newline='')\n",
    "name = 'Raw EEG + KNN'\n",
    "notes = 'k='\n",
    "\n",
    "previous_channels = [32]\n",
    "k = 3\n",
    "\n",
    "max_acc = {'index': 0, 'value': 0}\n",
    "for channel in range(61):    \n",
    "    total_score = 0\n",
    "    correct_patients = 0\n",
    "    for i in range(len(pp_and_pnp_bp)):\n",
    "        score = classify_knn_with_xvalid(pp_rh, pnp_rh, k, [channel], i, mul, verbose=False)\n",
    "        total_score += score\n",
    "        if score > 0.5:\n",
    "            correct_patients += 1\n",
    "        \n",
    "    avg_score = total_score/len(pp_and_pnp_bp)\n",
    "    print(channel, avg_score, correct_patients)\n",
    "    \n",
    "    log_result(file, name, avg_score, correct_patients, len(pp_and_pnp_bp), 'RH', str(previous_channels + [channel]), notes + str(k))\n",
    "    \n",
    "    if avg_score > max_acc['value']:\n",
    "        max_acc['index'] = channel\n",
    "        max_acc['value'] = avg_score\n",
    "        \n",
    "print('Max accuracy:', max_acc['index'], max_acc['value'])"
   ]
  },
  {
   "cell_type": "markdown",
   "metadata": {},
   "source": [
    "### Cross validate over multiple n_neighbours"
   ]
  },
  {
   "cell_type": "code",
   "execution_count": 34,
   "metadata": {},
   "outputs": [
    {
     "name": "stdout",
     "output_type": "stream",
     "text": [
      "1 0.5103561076237874 9\n",
      "11 0.48268741533683557 9\n",
      "21 0.47546833184656556 9\n",
      "31 0.47368421052631576 9\n"
     ]
    },
    {
     "ename": "KeyboardInterrupt",
     "evalue": "",
     "output_type": "error",
     "traceback": [
      "\u001b[1;31m---------------------------------------------------------------------------\u001b[0m",
      "\u001b[1;31mKeyboardInterrupt\u001b[0m                         Traceback (most recent call last)",
      "\u001b[1;32m<ipython-input-34-615a89c17d02>\u001b[0m in \u001b[0;36m<module>\u001b[1;34m\u001b[0m\n\u001b[0;32m     10\u001b[0m     \u001b[0mcorrect_patients\u001b[0m \u001b[1;33m=\u001b[0m \u001b[1;36m0\u001b[0m\u001b[1;33m\u001b[0m\u001b[1;33m\u001b[0m\u001b[0m\n\u001b[0;32m     11\u001b[0m     \u001b[1;32mfor\u001b[0m \u001b[0mi\u001b[0m \u001b[1;32min\u001b[0m \u001b[0mrange\u001b[0m\u001b[1;33m(\u001b[0m\u001b[0mlen\u001b[0m\u001b[1;33m(\u001b[0m\u001b[0mpp_and_pnp_bp\u001b[0m\u001b[1;33m)\u001b[0m\u001b[1;33m)\u001b[0m\u001b[1;33m:\u001b[0m\u001b[1;33m\u001b[0m\u001b[1;33m\u001b[0m\u001b[0m\n\u001b[1;32m---> 12\u001b[1;33m         \u001b[0mscore\u001b[0m \u001b[1;33m=\u001b[0m \u001b[0mclassify_knn_with_xvalid\u001b[0m\u001b[1;33m(\u001b[0m\u001b[0mpp_rh\u001b[0m\u001b[1;33m,\u001b[0m \u001b[0mpnp_rh\u001b[0m\u001b[1;33m,\u001b[0m \u001b[0mn_neighbours\u001b[0m\u001b[1;33m,\u001b[0m \u001b[0mchannels\u001b[0m\u001b[1;33m,\u001b[0m \u001b[0mi\u001b[0m\u001b[1;33m,\u001b[0m \u001b[0mmul\u001b[0m\u001b[1;33m,\u001b[0m \u001b[0mverbose\u001b[0m\u001b[1;33m=\u001b[0m\u001b[1;32mFalse\u001b[0m\u001b[1;33m)\u001b[0m\u001b[1;33m\u001b[0m\u001b[1;33m\u001b[0m\u001b[0m\n\u001b[0m\u001b[0;32m     13\u001b[0m         \u001b[0mtotal_score\u001b[0m \u001b[1;33m+=\u001b[0m \u001b[0mscore\u001b[0m\u001b[1;33m\u001b[0m\u001b[1;33m\u001b[0m\u001b[0m\n\u001b[0;32m     14\u001b[0m         \u001b[1;32mif\u001b[0m \u001b[0mscore\u001b[0m \u001b[1;33m>\u001b[0m \u001b[1;36m0.5\u001b[0m\u001b[1;33m:\u001b[0m\u001b[1;33m\u001b[0m\u001b[1;33m\u001b[0m\u001b[0m\n",
      "\u001b[1;32m<ipython-input-29-9a25f9b16d2c>\u001b[0m in \u001b[0;36mclassify_knn_with_xvalid\u001b[1;34m(data_pp_bp, data_pnp_bp, n_neighbours, selected_channels, test_index, mul, verbose)\u001b[0m\n\u001b[0;32m     19\u001b[0m     \u001b[0mclas\u001b[0m \u001b[1;33m=\u001b[0m \u001b[0mneighbors\u001b[0m\u001b[1;33m.\u001b[0m\u001b[0mKNeighborsClassifier\u001b[0m\u001b[1;33m(\u001b[0m\u001b[0mn_neighbors\u001b[0m\u001b[1;33m=\u001b[0m\u001b[0mn_neighbours\u001b[0m\u001b[1;33m)\u001b[0m\u001b[1;33m\u001b[0m\u001b[1;33m\u001b[0m\u001b[0m\n\u001b[0;32m     20\u001b[0m     \u001b[0mclas\u001b[0m\u001b[1;33m.\u001b[0m\u001b[0mfit\u001b[0m\u001b[1;33m(\u001b[0m\u001b[0mtrain\u001b[0m\u001b[1;33m,\u001b[0m \u001b[0mlabels\u001b[0m\u001b[1;33m)\u001b[0m\u001b[1;33m\u001b[0m\u001b[1;33m\u001b[0m\u001b[0m\n\u001b[1;32m---> 21\u001b[1;33m     \u001b[0mtrain_acc\u001b[0m \u001b[1;33m=\u001b[0m \u001b[0mclas\u001b[0m\u001b[1;33m.\u001b[0m\u001b[0mscore\u001b[0m\u001b[1;33m(\u001b[0m\u001b[0mtrain\u001b[0m\u001b[1;33m,\u001b[0m \u001b[0mlabels\u001b[0m\u001b[1;33m)\u001b[0m\u001b[1;33m\u001b[0m\u001b[1;33m\u001b[0m\u001b[0m\n\u001b[0m\u001b[0;32m     22\u001b[0m     \u001b[0mtest_acc\u001b[0m \u001b[1;33m=\u001b[0m \u001b[0mclas\u001b[0m\u001b[1;33m.\u001b[0m\u001b[0mscore\u001b[0m\u001b[1;33m(\u001b[0m\u001b[0mtest\u001b[0m\u001b[1;33m,\u001b[0m \u001b[0mtest_labels\u001b[0m\u001b[1;33m)\u001b[0m\u001b[1;33m\u001b[0m\u001b[1;33m\u001b[0m\u001b[0m\n\u001b[0;32m     23\u001b[0m \u001b[1;33m\u001b[0m\u001b[0m\n",
      "\u001b[1;32mD:\\etc\\software\\Anaconda\\lib\\site-packages\\sklearn\\base.py\u001b[0m in \u001b[0;36mscore\u001b[1;34m(self, X, y, sample_weight)\u001b[0m\n\u001b[0;32m    355\u001b[0m         \"\"\"\n\u001b[0;32m    356\u001b[0m         \u001b[1;32mfrom\u001b[0m \u001b[1;33m.\u001b[0m\u001b[0mmetrics\u001b[0m \u001b[1;32mimport\u001b[0m \u001b[0maccuracy_score\u001b[0m\u001b[1;33m\u001b[0m\u001b[1;33m\u001b[0m\u001b[0m\n\u001b[1;32m--> 357\u001b[1;33m         \u001b[1;32mreturn\u001b[0m \u001b[0maccuracy_score\u001b[0m\u001b[1;33m(\u001b[0m\u001b[0my\u001b[0m\u001b[1;33m,\u001b[0m \u001b[0mself\u001b[0m\u001b[1;33m.\u001b[0m\u001b[0mpredict\u001b[0m\u001b[1;33m(\u001b[0m\u001b[0mX\u001b[0m\u001b[1;33m)\u001b[0m\u001b[1;33m,\u001b[0m \u001b[0msample_weight\u001b[0m\u001b[1;33m=\u001b[0m\u001b[0msample_weight\u001b[0m\u001b[1;33m)\u001b[0m\u001b[1;33m\u001b[0m\u001b[1;33m\u001b[0m\u001b[0m\n\u001b[0m\u001b[0;32m    358\u001b[0m \u001b[1;33m\u001b[0m\u001b[0m\n\u001b[0;32m    359\u001b[0m \u001b[1;33m\u001b[0m\u001b[0m\n",
      "\u001b[1;32mD:\\etc\\software\\Anaconda\\lib\\site-packages\\sklearn\\neighbors\\classification.py\u001b[0m in \u001b[0;36mpredict\u001b[1;34m(self, X)\u001b[0m\n\u001b[0;32m    147\u001b[0m         \u001b[0mX\u001b[0m \u001b[1;33m=\u001b[0m \u001b[0mcheck_array\u001b[0m\u001b[1;33m(\u001b[0m\u001b[0mX\u001b[0m\u001b[1;33m,\u001b[0m \u001b[0maccept_sparse\u001b[0m\u001b[1;33m=\u001b[0m\u001b[1;34m'csr'\u001b[0m\u001b[1;33m)\u001b[0m\u001b[1;33m\u001b[0m\u001b[1;33m\u001b[0m\u001b[0m\n\u001b[0;32m    148\u001b[0m \u001b[1;33m\u001b[0m\u001b[0m\n\u001b[1;32m--> 149\u001b[1;33m         \u001b[0mneigh_dist\u001b[0m\u001b[1;33m,\u001b[0m \u001b[0mneigh_ind\u001b[0m \u001b[1;33m=\u001b[0m \u001b[0mself\u001b[0m\u001b[1;33m.\u001b[0m\u001b[0mkneighbors\u001b[0m\u001b[1;33m(\u001b[0m\u001b[0mX\u001b[0m\u001b[1;33m)\u001b[0m\u001b[1;33m\u001b[0m\u001b[1;33m\u001b[0m\u001b[0m\n\u001b[0m\u001b[0;32m    150\u001b[0m         \u001b[0mclasses_\u001b[0m \u001b[1;33m=\u001b[0m \u001b[0mself\u001b[0m\u001b[1;33m.\u001b[0m\u001b[0mclasses_\u001b[0m\u001b[1;33m\u001b[0m\u001b[1;33m\u001b[0m\u001b[0m\n\u001b[0;32m    151\u001b[0m         \u001b[0m_y\u001b[0m \u001b[1;33m=\u001b[0m \u001b[0mself\u001b[0m\u001b[1;33m.\u001b[0m\u001b[0m_y\u001b[0m\u001b[1;33m\u001b[0m\u001b[1;33m\u001b[0m\u001b[0m\n",
      "\u001b[1;32mD:\\etc\\software\\Anaconda\\lib\\site-packages\\sklearn\\neighbors\\base.py\u001b[0m in \u001b[0;36mkneighbors\u001b[1;34m(self, X, n_neighbors, return_distance)\u001b[0m\n\u001b[0;32m    452\u001b[0m                 delayed_query(\n\u001b[0;32m    453\u001b[0m                     self._tree, X[s], n_neighbors, return_distance)\n\u001b[1;32m--> 454\u001b[1;33m                 \u001b[1;32mfor\u001b[0m \u001b[0ms\u001b[0m \u001b[1;32min\u001b[0m \u001b[0mgen_even_slices\u001b[0m\u001b[1;33m(\u001b[0m\u001b[0mX\u001b[0m\u001b[1;33m.\u001b[0m\u001b[0mshape\u001b[0m\u001b[1;33m[\u001b[0m\u001b[1;36m0\u001b[0m\u001b[1;33m]\u001b[0m\u001b[1;33m,\u001b[0m \u001b[0mn_jobs\u001b[0m\u001b[1;33m)\u001b[0m\u001b[1;33m\u001b[0m\u001b[1;33m\u001b[0m\u001b[0m\n\u001b[0m\u001b[0;32m    455\u001b[0m             )\n\u001b[0;32m    456\u001b[0m         \u001b[1;32melse\u001b[0m\u001b[1;33m:\u001b[0m\u001b[1;33m\u001b[0m\u001b[1;33m\u001b[0m\u001b[0m\n",
      "\u001b[1;32mD:\\etc\\software\\Anaconda\\lib\\site-packages\\joblib\\parallel.py\u001b[0m in \u001b[0;36m__call__\u001b[1;34m(self, iterable)\u001b[0m\n\u001b[0;32m   1001\u001b[0m             \u001b[1;31m# remaining jobs.\u001b[0m\u001b[1;33m\u001b[0m\u001b[1;33m\u001b[0m\u001b[1;33m\u001b[0m\u001b[0m\n\u001b[0;32m   1002\u001b[0m             \u001b[0mself\u001b[0m\u001b[1;33m.\u001b[0m\u001b[0m_iterating\u001b[0m \u001b[1;33m=\u001b[0m \u001b[1;32mFalse\u001b[0m\u001b[1;33m\u001b[0m\u001b[1;33m\u001b[0m\u001b[0m\n\u001b[1;32m-> 1003\u001b[1;33m             \u001b[1;32mif\u001b[0m \u001b[0mself\u001b[0m\u001b[1;33m.\u001b[0m\u001b[0mdispatch_one_batch\u001b[0m\u001b[1;33m(\u001b[0m\u001b[0miterator\u001b[0m\u001b[1;33m)\u001b[0m\u001b[1;33m:\u001b[0m\u001b[1;33m\u001b[0m\u001b[1;33m\u001b[0m\u001b[0m\n\u001b[0m\u001b[0;32m   1004\u001b[0m                 \u001b[0mself\u001b[0m\u001b[1;33m.\u001b[0m\u001b[0m_iterating\u001b[0m \u001b[1;33m=\u001b[0m \u001b[0mself\u001b[0m\u001b[1;33m.\u001b[0m\u001b[0m_original_iterator\u001b[0m \u001b[1;32mis\u001b[0m \u001b[1;32mnot\u001b[0m \u001b[1;32mNone\u001b[0m\u001b[1;33m\u001b[0m\u001b[1;33m\u001b[0m\u001b[0m\n\u001b[0;32m   1005\u001b[0m \u001b[1;33m\u001b[0m\u001b[0m\n",
      "\u001b[1;32mD:\\etc\\software\\Anaconda\\lib\\site-packages\\joblib\\parallel.py\u001b[0m in \u001b[0;36mdispatch_one_batch\u001b[1;34m(self, iterator)\u001b[0m\n\u001b[0;32m    832\u001b[0m                 \u001b[1;32mreturn\u001b[0m \u001b[1;32mFalse\u001b[0m\u001b[1;33m\u001b[0m\u001b[1;33m\u001b[0m\u001b[0m\n\u001b[0;32m    833\u001b[0m             \u001b[1;32melse\u001b[0m\u001b[1;33m:\u001b[0m\u001b[1;33m\u001b[0m\u001b[1;33m\u001b[0m\u001b[0m\n\u001b[1;32m--> 834\u001b[1;33m                 \u001b[0mself\u001b[0m\u001b[1;33m.\u001b[0m\u001b[0m_dispatch\u001b[0m\u001b[1;33m(\u001b[0m\u001b[0mtasks\u001b[0m\u001b[1;33m)\u001b[0m\u001b[1;33m\u001b[0m\u001b[1;33m\u001b[0m\u001b[0m\n\u001b[0m\u001b[0;32m    835\u001b[0m                 \u001b[1;32mreturn\u001b[0m \u001b[1;32mTrue\u001b[0m\u001b[1;33m\u001b[0m\u001b[1;33m\u001b[0m\u001b[0m\n\u001b[0;32m    836\u001b[0m \u001b[1;33m\u001b[0m\u001b[0m\n",
      "\u001b[1;32mD:\\etc\\software\\Anaconda\\lib\\site-packages\\joblib\\parallel.py\u001b[0m in \u001b[0;36m_dispatch\u001b[1;34m(self, batch)\u001b[0m\n\u001b[0;32m    751\u001b[0m         \u001b[1;32mwith\u001b[0m \u001b[0mself\u001b[0m\u001b[1;33m.\u001b[0m\u001b[0m_lock\u001b[0m\u001b[1;33m:\u001b[0m\u001b[1;33m\u001b[0m\u001b[1;33m\u001b[0m\u001b[0m\n\u001b[0;32m    752\u001b[0m             \u001b[0mjob_idx\u001b[0m \u001b[1;33m=\u001b[0m \u001b[0mlen\u001b[0m\u001b[1;33m(\u001b[0m\u001b[0mself\u001b[0m\u001b[1;33m.\u001b[0m\u001b[0m_jobs\u001b[0m\u001b[1;33m)\u001b[0m\u001b[1;33m\u001b[0m\u001b[1;33m\u001b[0m\u001b[0m\n\u001b[1;32m--> 753\u001b[1;33m             \u001b[0mjob\u001b[0m \u001b[1;33m=\u001b[0m \u001b[0mself\u001b[0m\u001b[1;33m.\u001b[0m\u001b[0m_backend\u001b[0m\u001b[1;33m.\u001b[0m\u001b[0mapply_async\u001b[0m\u001b[1;33m(\u001b[0m\u001b[0mbatch\u001b[0m\u001b[1;33m,\u001b[0m \u001b[0mcallback\u001b[0m\u001b[1;33m=\u001b[0m\u001b[0mcb\u001b[0m\u001b[1;33m)\u001b[0m\u001b[1;33m\u001b[0m\u001b[1;33m\u001b[0m\u001b[0m\n\u001b[0m\u001b[0;32m    754\u001b[0m             \u001b[1;31m# A job can complete so quickly than its callback is\u001b[0m\u001b[1;33m\u001b[0m\u001b[1;33m\u001b[0m\u001b[1;33m\u001b[0m\u001b[0m\n\u001b[0;32m    755\u001b[0m             \u001b[1;31m# called before we get here, causing self._jobs to\u001b[0m\u001b[1;33m\u001b[0m\u001b[1;33m\u001b[0m\u001b[1;33m\u001b[0m\u001b[0m\n",
      "\u001b[1;32mD:\\etc\\software\\Anaconda\\lib\\site-packages\\joblib\\_parallel_backends.py\u001b[0m in \u001b[0;36mapply_async\u001b[1;34m(self, func, callback)\u001b[0m\n\u001b[0;32m    199\u001b[0m     \u001b[1;32mdef\u001b[0m \u001b[0mapply_async\u001b[0m\u001b[1;33m(\u001b[0m\u001b[0mself\u001b[0m\u001b[1;33m,\u001b[0m \u001b[0mfunc\u001b[0m\u001b[1;33m,\u001b[0m \u001b[0mcallback\u001b[0m\u001b[1;33m=\u001b[0m\u001b[1;32mNone\u001b[0m\u001b[1;33m)\u001b[0m\u001b[1;33m:\u001b[0m\u001b[1;33m\u001b[0m\u001b[1;33m\u001b[0m\u001b[0m\n\u001b[0;32m    200\u001b[0m         \u001b[1;34m\"\"\"Schedule a func to be run\"\"\"\u001b[0m\u001b[1;33m\u001b[0m\u001b[1;33m\u001b[0m\u001b[0m\n\u001b[1;32m--> 201\u001b[1;33m         \u001b[0mresult\u001b[0m \u001b[1;33m=\u001b[0m \u001b[0mImmediateResult\u001b[0m\u001b[1;33m(\u001b[0m\u001b[0mfunc\u001b[0m\u001b[1;33m)\u001b[0m\u001b[1;33m\u001b[0m\u001b[1;33m\u001b[0m\u001b[0m\n\u001b[0m\u001b[0;32m    202\u001b[0m         \u001b[1;32mif\u001b[0m \u001b[0mcallback\u001b[0m\u001b[1;33m:\u001b[0m\u001b[1;33m\u001b[0m\u001b[1;33m\u001b[0m\u001b[0m\n\u001b[0;32m    203\u001b[0m             \u001b[0mcallback\u001b[0m\u001b[1;33m(\u001b[0m\u001b[0mresult\u001b[0m\u001b[1;33m)\u001b[0m\u001b[1;33m\u001b[0m\u001b[1;33m\u001b[0m\u001b[0m\n",
      "\u001b[1;32mD:\\etc\\software\\Anaconda\\lib\\site-packages\\joblib\\_parallel_backends.py\u001b[0m in \u001b[0;36m__init__\u001b[1;34m(self, batch)\u001b[0m\n\u001b[0;32m    580\u001b[0m         \u001b[1;31m# Don't delay the application, to avoid keeping the input\u001b[0m\u001b[1;33m\u001b[0m\u001b[1;33m\u001b[0m\u001b[1;33m\u001b[0m\u001b[0m\n\u001b[0;32m    581\u001b[0m         \u001b[1;31m# arguments in memory\u001b[0m\u001b[1;33m\u001b[0m\u001b[1;33m\u001b[0m\u001b[1;33m\u001b[0m\u001b[0m\n\u001b[1;32m--> 582\u001b[1;33m         \u001b[0mself\u001b[0m\u001b[1;33m.\u001b[0m\u001b[0mresults\u001b[0m \u001b[1;33m=\u001b[0m \u001b[0mbatch\u001b[0m\u001b[1;33m(\u001b[0m\u001b[1;33m)\u001b[0m\u001b[1;33m\u001b[0m\u001b[1;33m\u001b[0m\u001b[0m\n\u001b[0m\u001b[0;32m    583\u001b[0m \u001b[1;33m\u001b[0m\u001b[0m\n\u001b[0;32m    584\u001b[0m     \u001b[1;32mdef\u001b[0m \u001b[0mget\u001b[0m\u001b[1;33m(\u001b[0m\u001b[0mself\u001b[0m\u001b[1;33m)\u001b[0m\u001b[1;33m:\u001b[0m\u001b[1;33m\u001b[0m\u001b[1;33m\u001b[0m\u001b[0m\n",
      "\u001b[1;32mD:\\etc\\software\\Anaconda\\lib\\site-packages\\joblib\\parallel.py\u001b[0m in \u001b[0;36m__call__\u001b[1;34m(self)\u001b[0m\n\u001b[0;32m    254\u001b[0m         \u001b[1;32mwith\u001b[0m \u001b[0mparallel_backend\u001b[0m\u001b[1;33m(\u001b[0m\u001b[0mself\u001b[0m\u001b[1;33m.\u001b[0m\u001b[0m_backend\u001b[0m\u001b[1;33m,\u001b[0m \u001b[0mn_jobs\u001b[0m\u001b[1;33m=\u001b[0m\u001b[0mself\u001b[0m\u001b[1;33m.\u001b[0m\u001b[0m_n_jobs\u001b[0m\u001b[1;33m)\u001b[0m\u001b[1;33m:\u001b[0m\u001b[1;33m\u001b[0m\u001b[1;33m\u001b[0m\u001b[0m\n\u001b[0;32m    255\u001b[0m             return [func(*args, **kwargs)\n\u001b[1;32m--> 256\u001b[1;33m                     for func, args, kwargs in self.items]\n\u001b[0m\u001b[0;32m    257\u001b[0m \u001b[1;33m\u001b[0m\u001b[0m\n\u001b[0;32m    258\u001b[0m     \u001b[1;32mdef\u001b[0m \u001b[0m__len__\u001b[0m\u001b[1;33m(\u001b[0m\u001b[0mself\u001b[0m\u001b[1;33m)\u001b[0m\u001b[1;33m:\u001b[0m\u001b[1;33m\u001b[0m\u001b[1;33m\u001b[0m\u001b[0m\n",
      "\u001b[1;32mD:\\etc\\software\\Anaconda\\lib\\site-packages\\joblib\\parallel.py\u001b[0m in \u001b[0;36m<listcomp>\u001b[1;34m(.0)\u001b[0m\n\u001b[0;32m    254\u001b[0m         \u001b[1;32mwith\u001b[0m \u001b[0mparallel_backend\u001b[0m\u001b[1;33m(\u001b[0m\u001b[0mself\u001b[0m\u001b[1;33m.\u001b[0m\u001b[0m_backend\u001b[0m\u001b[1;33m,\u001b[0m \u001b[0mn_jobs\u001b[0m\u001b[1;33m=\u001b[0m\u001b[0mself\u001b[0m\u001b[1;33m.\u001b[0m\u001b[0m_n_jobs\u001b[0m\u001b[1;33m)\u001b[0m\u001b[1;33m:\u001b[0m\u001b[1;33m\u001b[0m\u001b[1;33m\u001b[0m\u001b[0m\n\u001b[0;32m    255\u001b[0m             return [func(*args, **kwargs)\n\u001b[1;32m--> 256\u001b[1;33m                     for func, args, kwargs in self.items]\n\u001b[0m\u001b[0;32m    257\u001b[0m \u001b[1;33m\u001b[0m\u001b[0m\n\u001b[0;32m    258\u001b[0m     \u001b[1;32mdef\u001b[0m \u001b[0m__len__\u001b[0m\u001b[1;33m(\u001b[0m\u001b[0mself\u001b[0m\u001b[1;33m)\u001b[0m\u001b[1;33m:\u001b[0m\u001b[1;33m\u001b[0m\u001b[1;33m\u001b[0m\u001b[0m\n",
      "\u001b[1;32mD:\\etc\\software\\Anaconda\\lib\\site-packages\\sklearn\\neighbors\\base.py\u001b[0m in \u001b[0;36m_tree_query_parallel_helper\u001b[1;34m(tree, data, n_neighbors, return_distance)\u001b[0m\n\u001b[0;32m    289\u001b[0m     \u001b[0munder\u001b[0m \u001b[0mPyPy\u001b[0m\u001b[1;33m.\u001b[0m\u001b[1;33m\u001b[0m\u001b[1;33m\u001b[0m\u001b[0m\n\u001b[0;32m    290\u001b[0m     \"\"\"\n\u001b[1;32m--> 291\u001b[1;33m     \u001b[1;32mreturn\u001b[0m \u001b[0mtree\u001b[0m\u001b[1;33m.\u001b[0m\u001b[0mquery\u001b[0m\u001b[1;33m(\u001b[0m\u001b[0mdata\u001b[0m\u001b[1;33m,\u001b[0m \u001b[0mn_neighbors\u001b[0m\u001b[1;33m,\u001b[0m \u001b[0mreturn_distance\u001b[0m\u001b[1;33m)\u001b[0m\u001b[1;33m\u001b[0m\u001b[1;33m\u001b[0m\u001b[0m\n\u001b[0m\u001b[0;32m    292\u001b[0m \u001b[1;33m\u001b[0m\u001b[0m\n\u001b[0;32m    293\u001b[0m \u001b[1;33m\u001b[0m\u001b[0m\n",
      "\u001b[1;31mKeyboardInterrupt\u001b[0m: "
     ]
    }
   ],
   "source": [
    "file = open('all_results/eeg_knn_results.csv', 'a', newline='')\n",
    "name = 'Raw EEG + KNN'\n",
    "notes = 'k='\n",
    "\n",
    "channels = [0, 2, 11, 19, 33, 36, 37, 39, 43, 49, 50]\n",
    "\n",
    "max_acc = {'index': 0, 'value': 0}\n",
    "for n_neighbours in range(1, 200, 10):    \n",
    "    total_score = 0\n",
    "    correct_patients = 0\n",
    "    for i in range(len(pp_and_pnp_bp)):\n",
    "        score = classify_knn_with_xvalid(pp_rh, pnp_rh, n_neighbours, channels, i, mul, verbose=False)\n",
    "        total_score += score\n",
    "        if score > 0.5:\n",
    "            correct_patients += 1\n",
    "        \n",
    "    avg_score = total_score/len(pp_and_pnp_bp)\n",
    "    print(n_neighbours, avg_score, correct_patients)\n",
    "\n",
    "    log_result(file, name, avg_score, correct_patients, len(pp_and_pnp_bp), 'RH', str(channels), notes + str(n_neighbours))\n",
    "\n",
    "    if avg_score > max_acc['value']:\n",
    "        max_acc['index'] = n_neighbours\n",
    "        max_acc['value'] = avg_score\n",
    "        \n",
    "print('Max accuracy:', max_acc['index'], max_acc['value'])"
   ]
  },
  {
   "cell_type": "code",
   "execution_count": 35,
   "metadata": {},
   "outputs": [],
   "source": [
    "file.close()"
   ]
  },
  {
   "cell_type": "markdown",
   "metadata": {},
   "source": [
    "### SVM"
   ]
  },
  {
   "cell_type": "code",
   "execution_count": 36,
   "metadata": {},
   "outputs": [],
   "source": [
    "import warnings\n",
    "warnings.filterwarnings('ignore')"
   ]
  },
  {
   "cell_type": "code",
   "execution_count": 37,
   "metadata": {},
   "outputs": [],
   "source": [
    "def classify_svm_with_xvalid(data_pp_bp, data_pnp_bp, nu, selected_channels, test_index, mul, verbose=True):\n",
    "    \n",
    "    data_bp = np.concatenate((data_pp_bp, data_pnp_bp))\n",
    "    \n",
    "    test_is_pp, test_label = test_setup(test_index, len(data_pp_bp))\n",
    "    test_p, train_p = get_train_test(data_bp, test_index)\n",
    "    train_p_separated = np.vstack(train_p)\n",
    "    pp_train_len, pnp_train_len = get_pp_pnp_length(pp_count, pnp_count, len(test_p), test_is_pp)\n",
    "    \n",
    "    train = ravel_all_trials(train_p_separated, selected_channels) * mul\n",
    "    test = ravel_all_trials(test_p, selected_channels) * mul\n",
    "    \n",
    "    labels = [1] * pp_train_len + [0] * pnp_train_len\n",
    "    test_labels = [test_label] * len(test)\n",
    "    \n",
    "    if verbose:\n",
    "        print('Test index', test_index, 'Preparing to classify set of', pp_train_len, 'PP and', pnp_train_len, 'PNP.')\n",
    "    \n",
    "    clas = svm.NuSVC(nu=nu, kernel='linear')\n",
    "    clas.fit(train, labels)\n",
    "    train_acc = clas.score(train, labels)\n",
    "    test_acc = clas.score(test, test_labels)\n",
    "    \n",
    "    if verbose:\n",
    "        print('Train score:', train_acc, '  Test score:', test_acc)\n",
    "    \n",
    "    return test_acc\n",
    "    "
   ]
  },
  {
   "cell_type": "code",
   "execution_count": 38,
   "metadata": {},
   "outputs": [
    {
     "name": "stdout",
     "output_type": "stream",
     "text": [
      "Test index 0 Preparing to classify set of 473 PP and 473 PNP.\n",
      "Train score: 0.7325581395348837   Test score: 0.8070175438596491\n",
      "Test index 1 Preparing to classify set of 473 PP and 473 PNP.\n",
      "Train score: 0.7399577167019028   Test score: 0.7543859649122807\n",
      "Test index 2 Preparing to classify set of 471 PP and 473 PNP.\n",
      "Train score: 0.7341101694915254   Test score: 0.6949152542372882\n",
      "Test index 3 Preparing to classify set of 476 PP and 473 PNP.\n",
      "Train score: 0.7376185458377239   Test score: 0.5740740740740741\n",
      "Test index 4 Preparing to classify set of 479 PP and 473 PNP.\n",
      "Train score: 0.6785714285714286   Test score: 0.9607843137254902\n",
      "Test index 5 Preparing to classify set of 472 PP and 473 PNP.\n",
      "Train score: 0.7216931216931217   Test score: 0.9482758620689655\n",
      "Test index 6 Preparing to classify set of 474 PP and 473 PNP.\n",
      "Train score: 0.6832101372756072   Test score: 0.05357142857142857\n",
      "Test index 7 Preparing to classify set of 498 PP and 473 PNP.\n",
      "Train score: 0.631307929969104   Test score: 1.0\n",
      "Test index 8 Preparing to classify set of 478 PP and 473 PNP.\n",
      "Train score: 0.6603575184016824   Test score: 0.038461538461538464\n",
      "Test index 9 Preparing to classify set of 476 PP and 473 PNP.\n",
      "Train score: 0.672286617492097   Test score: 0.35185185185185186\n",
      "Test index 10 Preparing to classify set of 530 PP and 423 PNP.\n",
      "Train score: 0.6253934942287513   Test score: 0.84\n",
      "Test index 11 Preparing to classify set of 530 PP and 419 PNP.\n",
      "Train score: 0.565858798735511   Test score: 1.0\n",
      "Test index 12 Preparing to classify set of 530 PP and 429 PNP.\n",
      "Train score: 0.5954118873826904   Test score: 1.0\n",
      "Test index 13 Preparing to classify set of 530 PP and 418 PNP.\n",
      "Train score: 0.5717299578059072   Test score: 1.0\n",
      "Test index 14 Preparing to classify set of 530 PP and 423 PNP.\n",
      "Train score: 0.6044071353620147   Test score: 0.98\n",
      "Test index 15 Preparing to classify set of 530 PP and 418 PNP.\n",
      "Train score: 0.5780590717299579   Test score: 1.0\n",
      "Test index 16 Preparing to classify set of 530 PP and 415 PNP.\n",
      "Train score: 0.6677248677248677   Test score: 0.9827586206896551\n",
      "Test index 17 Preparing to classify set of 530 PP and 420 PNP.\n",
      "Train score: 0.6305263157894737   Test score: 0.9433962264150944\n",
      "Test index 18 Preparing to classify set of 530 PP and 419 PNP.\n",
      "Train score: 0.6406743940990516   Test score: 0.9074074074074074\n",
      "0.7808894782249854\n",
      "Correctly labeled 16 out of 19\n"
     ]
    }
   ],
   "source": [
    "total_score = 0\n",
    "patients_correct = 0\n",
    "for i in range(len(pp_and_pnp_bp)):\n",
    "    score = classify_svm_with_xvalid(pp_rh, pnp_rh, 0.7, [2, 26], i, mul)\n",
    "    total_score += score\n",
    "    if score > 0.5:\n",
    "        patients_correct += 1\n",
    "    \n",
    "\n",
    "print(total_score/len(pp_and_pnp_bp))\n",
    "print('Correctly labeled', patients_correct, 'out of', len(pp_and_pnp_bp))"
   ]
  },
  {
   "cell_type": "code",
   "execution_count": null,
   "metadata": {},
   "outputs": [],
   "source": []
  },
  {
   "cell_type": "code",
   "execution_count": 40,
   "metadata": {},
   "outputs": [
    {
     "name": "stdout",
     "output_type": "stream",
     "text": [
      "0 0.7721107963541906 16\n",
      "1 0.77160832768446 16\n",
      "2 0.7808894782249854 16\n",
      "3 0.7600495165514746 16\n",
      "4 0.7013209026114935 14\n",
      "5 0.7376768109052331 14\n",
      "6 0.7353254252359522 16\n",
      "7 0.7601542419662268 15\n",
      "8 0.7479025177243257 17\n",
      "9 0.7132250585798863 14\n",
      "10 0.7611195197062589 16\n",
      "11 0.7238497445514023 15\n",
      "12 0.7248362449805397 14\n",
      "13 0.7151321467454593 14\n",
      "14 0.759650695053489 15\n",
      "15 0.7474803080541874 16\n",
      "16 0.7427330115728866 16\n",
      "17 0.7445129965658547 16\n",
      "18 0.6881622776734142 14\n",
      "19 0.7753255436731367 17\n",
      "20 0.7214909446474597 16\n",
      "21 0.7582488738560801 17\n",
      "22 0.6763552707870506 15\n",
      "23 0.7267534617043708 14\n",
      "24 0.7381053026454681 16\n",
      "25 0.7360251674919812 14\n",
      "26 0.7760611549428368 16\n",
      "27 0.7510437264060854 16\n",
      "28 0.7559441935181379 15\n",
      "29 0.7514190872065999 16\n",
      "30 0.7574207619583825 15\n",
      "31 0.7390348491184718 16\n",
      "32 0.7408315226265498 15\n",
      "33 0.7303746151220615 16\n",
      "34 0.7467505663574542 17\n",
      "35 0.7059855684246608 15\n",
      "36 0.6037884952889517 13\n",
      "37 0.6617028525429925 14\n",
      "38 0.6780191792157598 14\n",
      "39 0.7026917540099411 14\n",
      "40 0.6938619116045105 13\n",
      "41 0.7515015162925252 15\n",
      "42 0.6971312598884305 13\n",
      "43 0.7135174038513561 14\n",
      "44 0.7009018648120469 13\n",
      "45 0.7431586851948815 15\n",
      "46 0.745723083166232 15\n",
      "47 0.7356388334158733 15\n",
      "48 0.7404838728373931 15\n",
      "49 0.7389445516227354 16\n",
      "50 0.7276868265001465 15\n",
      "51 0.7292909811909751 15\n",
      "52 0.5583887574897585 8\n",
      "53 0.6503383483720085 14\n",
      "54 0.6837112503339903 14\n",
      "55 0.7504161275900681 15\n",
      "56 0.6869875459880322 12\n",
      "57 0.7444194304379186 15\n",
      "58 0.7454437946002825 15\n",
      "59 0.7690769710549353 15\n",
      "60 0.751283027740774 15\n",
      "Max accuracy: 2 0.7808894782249854\n"
     ]
    }
   ],
   "source": [
    "file = open('all_results/eeg_svm_results.csv', 'a', newline='')\n",
    "name = 'Raw EEG + SVM'\n",
    "notes = 'nu='\n",
    "\n",
    "previous_channels = [26]\n",
    "nu = 0.7\n",
    "\n",
    "max_acc = {'index': 0, 'value': 0}\n",
    "for channel in range(61):    \n",
    "    total_score = 0\n",
    "    correct_patients = 0\n",
    "    for i in range(len(pp_and_pnp_bp)):\n",
    "        score = classify_svm_with_xvalid(pp_rh, pnp_rh, nu, previous_channels + [channel], i, mul, verbose=False)\n",
    "        total_score += score\n",
    "        if score > 0.5:\n",
    "            correct_patients += 1\n",
    "        \n",
    "    avg_score = total_score/len(pp_and_pnp_bp)\n",
    "    print(channel, avg_score, correct_patients)\n",
    "\n",
    "    log_result(file, name, avg_score, correct_patients, len(pp_and_pnp_bp), 'RH', str(previous_channels + [channel]), notes + str(nu))    \n",
    "    \n",
    "    if avg_score > max_acc['value']:\n",
    "        max_acc['index'] = channel\n",
    "        max_acc['value'] = avg_score\n",
    "        \n",
    "print('Max accuracy:', max_acc['index'], max_acc['value'])"
   ]
  },
  {
   "cell_type": "code",
   "execution_count": null,
   "metadata": {},
   "outputs": [],
   "source": []
  },
  {
   "cell_type": "code",
   "execution_count": 58,
   "metadata": {},
   "outputs": [
    {
     "name": "stdout",
     "output_type": "stream",
     "text": [
      "0.1 0.46270517349983775 9\n",
      "0.2 0.43512826068102156 8\n",
      "0.30000000000000004 0.5148066385595179 10\n",
      "0.4 0.4867335673892686 9\n",
      "0.5 0.5234396765127315 11\n",
      "0.6 0.5713423058445385 11\n",
      "0.7000000000000001 0.612085582398378 12\n",
      "Max accuracy: 0.7000000000000001 0.612085582398378\n"
     ]
    }
   ],
   "source": [
    "file = open('all_results/eeg_svm_results.csv', 'a', newline='')\n",
    "name = 'Raw EEG + SVM'\n",
    "notes = 'nu='\n",
    "\n",
    "channels = [4]\n",
    "\n",
    "max_acc = {'index': 0, 'value': 0}\n",
    "for nu in np.arange(0.1, 0.8, 0.1):    \n",
    "    total_score = 0\n",
    "    correct_patients = 0\n",
    "    for i in range(len(pp_and_pnp_bp)):\n",
    "        score = classify_svm_with_xvalid(pp_rh, pnp_rh, nu, channels, i, mul, verbose=False)\n",
    "        total_score += score\n",
    "        if score > 0.5:\n",
    "            correct_patients += 1\n",
    "        \n",
    "    avg_score = total_score/len(pp_and_pnp_bp)\n",
    "    print(nu, avg_score, correct_patients)\n",
    "    \n",
    "    log_result(file, name, avg_score, correct_patients, len(pp_and_pnp_bp), 'RH', str(channels), notes + str(nu))    \n",
    "    \n",
    "    if avg_score > max_acc['value']:\n",
    "        max_acc['index'] = nu\n",
    "        max_acc['value'] = avg_score\n",
    "        \n",
    "print('Max accuracy:', max_acc['index'], max_acc['value'])"
   ]
  },
  {
   "cell_type": "code",
   "execution_count": null,
   "metadata": {},
   "outputs": [],
   "source": []
  }
 ],
 "metadata": {
  "kernelspec": {
   "display_name": "Python 3",
   "language": "python",
   "name": "python3"
  },
  "language_info": {
   "codemirror_mode": {
    "name": "ipython",
    "version": 3
   },
   "file_extension": ".py",
   "mimetype": "text/x-python",
   "name": "python",
   "nbconvert_exporter": "python",
   "pygments_lexer": "ipython3",
   "version": "3.7.3"
  }
 },
 "nbformat": 4,
 "nbformat_minor": 2
}
