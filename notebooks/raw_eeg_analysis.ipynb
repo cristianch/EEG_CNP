{
 "cells": [
  {
   "cell_type": "code",
   "execution_count": 1,
   "metadata": {},
   "outputs": [],
   "source": [
    "import numpy as np\n",
    "import scipy\n",
    "from scipy import signal\n",
    "import mne\n",
    "import glob\n",
    "import csv"
   ]
  },
  {
   "cell_type": "code",
   "execution_count": 2,
   "metadata": {},
   "outputs": [],
   "source": [
    "local_path = './../../../data/raw/HV/HV1/HV1_F1_L_Removed_ICA.set'\n"
   ]
  },
  {
   "cell_type": "code",
   "execution_count": 3,
   "metadata": {},
   "outputs": [
    {
     "name": "stdout",
     "output_type": "stream",
     "text": [
      "Extracting parameters from ./../../../data/raw/HV/HV1/HV1_F1_L_Removed_ICA.set...\n"
     ]
    },
    {
     "name": "stderr",
     "output_type": "stream",
     "text": [
      "<ipython-input-3-e0a8228b57c9>:1: RuntimeWarning: At least one epoch has multiple events. Only the latency of the first event will be retained.\n",
      "  data = mne.io.read_epochs_eeglab(local_path)._data\n"
     ]
    },
    {
     "name": "stdout",
     "output_type": "stream",
     "text": [
      "56 matching events found\n",
      "No baseline correction applied\n",
      "Not setting metadata\n",
      "0 projection items activated\n",
      "Ready.\n"
     ]
    }
   ],
   "source": [
    "data = mne.io.read_epochs_eeglab(local_path)._data"
   ]
  },
  {
   "cell_type": "code",
   "execution_count": 4,
   "metadata": {},
   "outputs": [
    {
     "data": {
      "text/plain": [
       "(56, 61, 1250)"
      ]
     },
     "execution_count": 4,
     "metadata": {},
     "output_type": "execute_result"
    }
   ],
   "source": [
    "data.shape"
   ]
  },
  {
   "cell_type": "code",
   "execution_count": null,
   "metadata": {},
   "outputs": [],
   "source": []
  },
  {
   "cell_type": "code",
   "execution_count": 5,
   "metadata": {},
   "outputs": [],
   "source": [
    "def log_result(file, name, accuracy, patients_correct, patients_total, set_name, channels, notes):\n",
    "    writer = csv.writer(file)\n",
    "    writer.writerow([name, str(accuracy*100) + '%', ' ' + str(patients_correct) + '/' + str(patients_total), set_name, channels, notes])\n",
    "        "
   ]
  },
  {
   "cell_type": "markdown",
   "metadata": {},
   "source": [
    "# Apply bandpower to datasets"
   ]
  },
  {
   "cell_type": "code",
   "execution_count": 6,
   "metadata": {},
   "outputs": [],
   "source": [
    "# Returns relevant datasets (f.e. all right-hand recordings of healthy patients) as a list of np arrays\n",
    "def get_datasets(patient_type_location, recording_type_expression):\n",
    "    if recording_type_expression != l_new:\n",
    "        sets_locations = glob.glob(patient_type_location + recording_type_expression + suffix)\n",
    "    else:\n",
    "        sets_locations = glob.glob(patient_type_location + recording_type_expression)\n",
    "    \n",
    "    sets = []\n",
    "    for path in sets_locations: \n",
    "        sets.append(mne.io.read_epochs_eeglab(path))\n",
    "        \n",
    "    return np.array(np.array([(patient._data) for patient in sets]))"
   ]
  },
  {
   "cell_type": "code",
   "execution_count": 7,
   "metadata": {},
   "outputs": [
    {
     "data": {
      "text/plain": [
       "['./../../../data_new/raw/PnP\\\\PnP_1\\\\PnP_1_L.set',\n",
       " './../../../data_new/raw/PnP\\\\PnP_3\\\\PnP_3_L.set',\n",
       " './../../../data_new/raw/PnP\\\\PnP_4\\\\PnP_4_L.set',\n",
       " './../../../data_new/raw/PnP\\\\PnP_5\\\\PnP_5_L.set',\n",
       " './../../../data_new/raw/PnP\\\\PnP_7\\\\PnP_7_L.set',\n",
       " './../../../data_new/raw/PnP\\\\PnP_8\\\\PnP_8_L.set',\n",
       " './../../../data_new/raw/PnP\\\\PnP_9\\\\PnP_9_L.set']"
      ]
     },
     "execution_count": 7,
     "metadata": {},
     "output_type": "execute_result"
    }
   ],
   "source": [
    "root = './../../../'\n",
    "suffix = '*.set'\n",
    "\n",
    "location_healthy = root + 'data/raw/HV/*/'\n",
    "location_pain = root + 'data/raw/PP/*/'\n",
    "location_nopain = root + 'data/raw/PnP/*/'\n",
    "\n",
    "location_pwp = root + 'data_new/raw/PwP/*/'\n",
    "location_pdp = root + 'data_new/raw/PdP/*/'\n",
    "location_pnp = root + 'data_new/raw/PnP/*/'\n",
    "\n",
    "\n",
    "rh = '*_RH*'\n",
    "lh = '*_LH*'\n",
    "l_new = '*_L.set'   # NO SUFFIX\n",
    "l_old = '*_L_*'\n",
    "\n",
    "sets_healthy_rh = glob.glob(location_pnp + l_new)\n",
    "\n",
    "sets_healthy_rh"
   ]
  },
  {
   "cell_type": "code",
   "execution_count": 15,
   "metadata": {},
   "outputs": [
    {
     "name": "stdout",
     "output_type": "stream",
     "text": [
      "Extracting parameters from ./../../../data/raw/PP\\PP1\\PP1_F1_L_Removed_ICA.set...\n"
     ]
    },
    {
     "name": "stderr",
     "output_type": "stream",
     "text": [
      "<ipython-input-6-ca455454a3e4>:10: RuntimeWarning: At least one epoch has multiple events. Only the latency of the first event will be retained.\n",
      "  sets.append(mne.io.read_epochs_eeglab(path))\n"
     ]
    },
    {
     "name": "stdout",
     "output_type": "stream",
     "text": [
      "57 matching events found\n",
      "No baseline correction applied\n",
      "Not setting metadata\n",
      "0 projection items activated\n",
      "Ready.\n",
      "Extracting parameters from ./../../../data/raw/PP\\PP10\\PP10_F1_L_Removed_ICA.set...\n"
     ]
    },
    {
     "name": "stderr",
     "output_type": "stream",
     "text": [
      "<ipython-input-6-ca455454a3e4>:10: RuntimeWarning: At least one epoch has multiple events. Only the latency of the first event will be retained.\n",
      "  sets.append(mne.io.read_epochs_eeglab(path))\n"
     ]
    },
    {
     "name": "stdout",
     "output_type": "stream",
     "text": [
      "59 matching events found\n",
      "No baseline correction applied\n",
      "Not setting metadata\n",
      "0 projection items activated\n",
      "Ready.\n",
      "Extracting parameters from ./../../../data/raw/PP\\PP11\\PP11_F1_L_Removed_ICA.set...\n"
     ]
    },
    {
     "name": "stderr",
     "output_type": "stream",
     "text": [
      "<ipython-input-6-ca455454a3e4>:10: RuntimeWarning: At least one epoch has multiple events. Only the latency of the first event will be retained.\n",
      "  sets.append(mne.io.read_epochs_eeglab(path))\n"
     ]
    },
    {
     "name": "stdout",
     "output_type": "stream",
     "text": [
      "59 matching events found\n",
      "No baseline correction applied\n",
      "Not setting metadata\n",
      "0 projection items activated\n",
      "Ready.\n",
      "Extracting parameters from ./../../../data/raw/PP\\PP2\\PP2_F1_L_Removed_ICA.set...\n",
      "51 matching events found\n"
     ]
    },
    {
     "name": "stderr",
     "output_type": "stream",
     "text": [
      "<ipython-input-6-ca455454a3e4>:10: RuntimeWarning: At least one epoch has multiple events. Only the latency of the first event will be retained.\n",
      "  sets.append(mne.io.read_epochs_eeglab(path))\n"
     ]
    },
    {
     "name": "stdout",
     "output_type": "stream",
     "text": [
      "No baseline correction applied\n",
      "Not setting metadata\n",
      "0 projection items activated\n",
      "Ready.\n",
      "Extracting parameters from ./../../../data/raw/PP\\PP3\\PP3_F1_L_Removed_ICA.set...\n"
     ]
    },
    {
     "name": "stderr",
     "output_type": "stream",
     "text": [
      "<ipython-input-6-ca455454a3e4>:10: RuntimeWarning: At least one epoch has multiple events. Only the latency of the first event will be retained.\n",
      "  sets.append(mne.io.read_epochs_eeglab(path))\n"
     ]
    },
    {
     "name": "stdout",
     "output_type": "stream",
     "text": [
      "52 matching events found\n",
      "No baseline correction applied\n",
      "Not setting metadata\n",
      "0 projection items activated\n",
      "Ready.\n",
      "Extracting parameters from ./../../../data/raw/PP\\PP4\\PP4_F1_L_Removed_ICA.set...\n"
     ]
    },
    {
     "name": "stderr",
     "output_type": "stream",
     "text": [
      "<ipython-input-6-ca455454a3e4>:10: RuntimeWarning: At least one epoch has multiple events. Only the latency of the first event will be retained.\n",
      "  sets.append(mne.io.read_epochs_eeglab(path))\n"
     ]
    },
    {
     "name": "stdout",
     "output_type": "stream",
     "text": [
      "57 matching events found\n",
      "No baseline correction applied\n",
      "Not setting metadata\n",
      "0 projection items activated\n",
      "Ready.\n",
      "Extracting parameters from ./../../../data/raw/PP\\PP5\\PP5_F1_L_Removed_ICA.set...\n"
     ]
    },
    {
     "name": "stderr",
     "output_type": "stream",
     "text": [
      "<ipython-input-6-ca455454a3e4>:10: RuntimeWarning: At least one epoch has multiple events. Only the latency of the first event will be retained.\n",
      "  sets.append(mne.io.read_epochs_eeglab(path))\n"
     ]
    },
    {
     "name": "stdout",
     "output_type": "stream",
     "text": [
      "55 matching events found\n",
      "No baseline correction applied\n",
      "Not setting metadata\n",
      "0 projection items activated\n",
      "Ready.\n",
      "Extracting parameters from ./../../../data/raw/PP\\PP6\\PP6_F1_L_Removed_ICA.set...\n",
      "32 matching events found\n",
      "No baseline correction applied\n",
      "Not setting metadata\n",
      "0 projection items activated\n",
      "Ready.\n"
     ]
    },
    {
     "name": "stderr",
     "output_type": "stream",
     "text": [
      "<ipython-input-6-ca455454a3e4>:10: RuntimeWarning: At least one epoch has multiple events. Only the latency of the first event will be retained.\n",
      "  sets.append(mne.io.read_epochs_eeglab(path))\n"
     ]
    },
    {
     "name": "stdout",
     "output_type": "stream",
     "text": [
      "Extracting parameters from ./../../../data/raw/PP\\PP7\\PP7_F1_L_Removed_ICA.set...\n",
      "52 matching events found\n"
     ]
    },
    {
     "name": "stderr",
     "output_type": "stream",
     "text": [
      "<ipython-input-6-ca455454a3e4>:10: RuntimeWarning: At least one epoch has multiple events. Only the latency of the first event will be retained.\n",
      "  sets.append(mne.io.read_epochs_eeglab(path))\n"
     ]
    },
    {
     "name": "stdout",
     "output_type": "stream",
     "text": [
      "No baseline correction applied\n",
      "Not setting metadata\n",
      "0 projection items activated\n",
      "Ready.\n",
      "Extracting parameters from ./../../../data/raw/PP\\PP9\\PP9_F1_L_Removed_ICA.set...\n",
      "54 matching events found\n"
     ]
    },
    {
     "name": "stderr",
     "output_type": "stream",
     "text": [
      "<ipython-input-6-ca455454a3e4>:10: RuntimeWarning: At least one epoch has multiple events. Only the latency of the first event will be retained.\n",
      "  sets.append(mne.io.read_epochs_eeglab(path))\n"
     ]
    },
    {
     "name": "stdout",
     "output_type": "stream",
     "text": [
      "No baseline correction applied\n",
      "Not setting metadata\n",
      "0 projection items activated\n",
      "Ready.\n",
      "Extracting parameters from ./../../../data/raw/PnP\\PnP1\\PnP1_F1_L_Removed_ICA.set...\n",
      "50 matching events found\n"
     ]
    },
    {
     "name": "stderr",
     "output_type": "stream",
     "text": [
      "<ipython-input-6-ca455454a3e4>:10: RuntimeWarning: At least one epoch has multiple events. Only the latency of the first event will be retained.\n",
      "  sets.append(mne.io.read_epochs_eeglab(path))\n"
     ]
    },
    {
     "name": "stdout",
     "output_type": "stream",
     "text": [
      "No baseline correction applied\n",
      "Not setting metadata\n",
      "0 projection items activated\n",
      "Ready.\n",
      "Extracting parameters from ./../../../data/raw/PnP\\PnP2\\PnP2_F1_L_Removed_ICA.set...\n"
     ]
    },
    {
     "name": "stderr",
     "output_type": "stream",
     "text": [
      "<ipython-input-6-ca455454a3e4>:10: RuntimeWarning: At least one epoch has multiple events. Only the latency of the first event will be retained.\n",
      "  sets.append(mne.io.read_epochs_eeglab(path))\n"
     ]
    },
    {
     "name": "stdout",
     "output_type": "stream",
     "text": [
      "57 matching events found\n",
      "No baseline correction applied\n",
      "Not setting metadata\n",
      "0 projection items activated\n",
      "Ready.\n",
      "Extracting parameters from ./../../../data/raw/PnP\\PnP3\\PnP3_F1_L_Removed_ICA.set...\n",
      "41 matching events found\n",
      "No baseline correction applied\n",
      "Not setting metadata\n",
      "0 projection items activated\n"
     ]
    },
    {
     "name": "stderr",
     "output_type": "stream",
     "text": [
      "<ipython-input-6-ca455454a3e4>:10: RuntimeWarning: At least one epoch has multiple events. Only the latency of the first event will be retained.\n",
      "  sets.append(mne.io.read_epochs_eeglab(path))\n"
     ]
    },
    {
     "name": "stdout",
     "output_type": "stream",
     "text": [
      "Ready.\n",
      "Extracting parameters from ./../../../data/raw/PnP\\PnP4\\PnP4_F1_L_Removed_ICA.set...\n"
     ]
    },
    {
     "name": "stderr",
     "output_type": "stream",
     "text": [
      "<ipython-input-6-ca455454a3e4>:10: RuntimeWarning: At least one epoch has multiple events. Only the latency of the first event will be retained.\n",
      "  sets.append(mne.io.read_epochs_eeglab(path))\n"
     ]
    },
    {
     "name": "stdout",
     "output_type": "stream",
     "text": [
      "58 matching events found\n",
      "No baseline correction applied\n",
      "Not setting metadata\n",
      "0 projection items activated\n",
      "Ready.\n",
      "Extracting parameters from ./../../../data/raw/PnP\\PnP5\\PnP5_F1_L_Removed_ICA.set...\n"
     ]
    },
    {
     "name": "stderr",
     "output_type": "stream",
     "text": [
      "<ipython-input-6-ca455454a3e4>:10: RuntimeWarning: At least one epoch has multiple events. Only the latency of the first event will be retained.\n",
      "  sets.append(mne.io.read_epochs_eeglab(path))\n"
     ]
    },
    {
     "name": "stdout",
     "output_type": "stream",
     "text": [
      "50 matching events found\n",
      "No baseline correction applied\n",
      "Not setting metadata\n",
      "0 projection items activated\n",
      "Ready.\n",
      "Extracting parameters from ./../../../data/raw/PnP\\PnP6\\PnP6_F1_L_Removed_ICA.set...\n",
      "53 matching events found\n"
     ]
    },
    {
     "name": "stderr",
     "output_type": "stream",
     "text": [
      "<ipython-input-6-ca455454a3e4>:10: RuntimeWarning: At least one epoch has multiple events. Only the latency of the first event will be retained.\n",
      "  sets.append(mne.io.read_epochs_eeglab(path))\n"
     ]
    },
    {
     "name": "stdout",
     "output_type": "stream",
     "text": [
      "No baseline correction applied\n",
      "Not setting metadata\n",
      "0 projection items activated\n",
      "Ready.\n",
      "Extracting parameters from ./../../../data/raw/PnP\\PnP7\\PnP7_F01_L_Removed_ICA.set...\n"
     ]
    },
    {
     "name": "stderr",
     "output_type": "stream",
     "text": [
      "<ipython-input-6-ca455454a3e4>:10: RuntimeWarning: At least one epoch has multiple events. Only the latency of the first event will be retained.\n",
      "  sets.append(mne.io.read_epochs_eeglab(path))\n"
     ]
    },
    {
     "name": "stdout",
     "output_type": "stream",
     "text": [
      "58 matching events found\n",
      "No baseline correction applied\n",
      "Not setting metadata\n",
      "0 projection items activated\n",
      "Ready.\n",
      "Extracting parameters from ./../../../data/raw/PnP\\PnP8\\PnP8_F1_L_Removed_ICA.set...\n",
      "50 matching events found\n",
      "No baseline correction applied\n"
     ]
    },
    {
     "name": "stderr",
     "output_type": "stream",
     "text": [
      "<ipython-input-6-ca455454a3e4>:10: RuntimeWarning: At least one epoch has multiple events. Only the latency of the first event will be retained.\n",
      "  sets.append(mne.io.read_epochs_eeglab(path))\n"
     ]
    },
    {
     "name": "stdout",
     "output_type": "stream",
     "text": [
      "Not setting metadata\n",
      "0 projection items activated\n",
      "Ready.\n",
      "Extracting parameters from ./../../../data/raw/PnP\\PnP9\\PnP9_F1_L_Removed_ICA.set...\n"
     ]
    },
    {
     "name": "stderr",
     "output_type": "stream",
     "text": [
      "<ipython-input-6-ca455454a3e4>:10: RuntimeWarning: At least one epoch has multiple events. Only the latency of the first event will be retained.\n",
      "  sets.append(mne.io.read_epochs_eeglab(path))\n"
     ]
    },
    {
     "name": "stdout",
     "output_type": "stream",
     "text": [
      "55 matching events found\n",
      "No baseline correction applied\n",
      "Not setting metadata\n",
      "0 projection items activated\n",
      "Ready.\n"
     ]
    }
   ],
   "source": [
    "pp_rh_raw = get_datasets(location_pain, l_old)\n",
    "pnp_rh_raw = get_datasets(location_nopain, l_old)"
   ]
  },
  {
   "cell_type": "code",
   "execution_count": 16,
   "metadata": {},
   "outputs": [
    {
     "data": {
      "text/plain": [
       "array([array([[[-1.10309505e-06, -1.22919893e-06, -1.04390240e-06, ...,\n",
       "          4.83999580e-07,  4.48858857e-07,  5.28127968e-07],\n",
       "        [-1.04978062e-07, -8.19632053e-07, -1.52126229e-06, ...,\n",
       "          7.20147669e-07,  8.47492158e-07,  1.05488002e-06],\n",
       "        [ 1.93372101e-07,  6.16806149e-07,  1.09777093e-06, ...,\n",
       "          6.24112129e-07,  6.00656092e-07,  5.92470050e-07],\n",
       "        ...,\n",
       "        [ 8.58567476e-07,  3.81105691e-07, -2.96544015e-07, ...,\n",
       "         -1.39787126e-06, -1.68920362e-06, -1.57485557e-06],\n",
       "        [ 2.04667544e-06,  2.16695905e-06,  1.90500045e-06, ...,\n",
       "         -1.02063143e-06, -1.48100269e-06, -1.60211599e-06],\n",
       "        [ 8.42455506e-07,  6.55844450e-07,  3.01553398e-07, ...,\n",
       "         -5.42301953e-07, -7.58885860e-07, -7.39840329e-07]],\n",
       "\n",
       "       [[-1.27390468e-06, -1.39321148e-06, -1.54030812e-06, ...,\n",
       "         -1.77378640e-07,  3.41093063e-07,  5.97280979e-07],\n",
       "        [ 1.37068704e-07, -3.75263542e-07, -7.19476104e-07, ...,\n",
       "         -9.27859008e-07, -7.15871692e-07, -7.95371234e-07],\n",
       "        [-1.79076195e-06, -1.04089022e-06, -5.13712943e-07, ...,\n",
       "          2.77875900e-07,  8.15792561e-07,  1.24757993e-06],\n",
       "        ...,\n",
       "        [ 3.27758789e-06,  2.53235221e-06,  1.91509366e-06, ...,\n",
       "          8.26551735e-07,  2.11285025e-07,  1.15167469e-07],\n",
       "        [ 2.33686543e-06,  2.06918526e-06,  1.81509066e-06, ...,\n",
       "          1.53348184e-06,  1.08584738e-06,  1.07662797e-06],\n",
       "        [ 1.51832402e-06,  1.18786967e-06,  9.22840416e-07, ...,\n",
       "          5.03949165e-07,  2.69065857e-07,  2.79735982e-07]],\n",
       "\n",
       "       [[-2.38581991e-06, -2.31708813e-06, -1.99253511e-06, ...,\n",
       "         -2.54927063e-06, -2.48377371e-06, -2.22047019e-06],\n",
       "        [-5.98505437e-07, -6.79815650e-07, -3.30315679e-07, ...,\n",
       "         -2.40438819e-06, -2.63864064e-06, -2.67072082e-06],\n",
       "        [-2.07124782e-06, -1.90140057e-06, -1.74307990e-06, ...,\n",
       "         -1.53580475e-06, -1.16970158e-06, -8.78259301e-07],\n",
       "        ...,\n",
       "        [ 2.17620420e-06,  2.57339311e-06,  2.54854822e-06, ...,\n",
       "          3.47514248e-06,  3.62551332e-06,  3.88899207e-06],\n",
       "        [ 1.56067634e-06,  1.89366424e-06,  1.71235669e-06, ...,\n",
       "          3.81423235e-06,  4.34587574e-06,  4.80404091e-06],\n",
       "        [ 7.98216224e-07,  1.03964412e-06,  1.08198154e-06, ...,\n",
       "          1.43094420e-06,  1.62538242e-06,  1.85570085e-06]],\n",
       "\n",
       "       ...,\n",
       "\n",
       "       [[-3.20400906e-06, -2.32455492e-06, -1.60716045e-06, ...,\n",
       "          4.41628426e-07,  5.83933115e-07,  7.58912504e-07],\n",
       "        [-5.01565790e-06, -3.60243702e-06, -2.00019002e-06, ...,\n",
       "          4.34829414e-07,  6.27564609e-07,  5.88881850e-07],\n",
       "        [ 8.70494425e-07,  1.07031965e-06,  9.05323446e-07, ...,\n",
       "         -5.80010533e-07, -6.69600368e-07, -6.86392546e-07],\n",
       "        ...,\n",
       "        [ 6.56933188e-07,  3.37950140e-08, -9.76388454e-07, ...,\n",
       "          6.74557030e-07,  5.42232275e-07,  1.17690003e-06],\n",
       "        [ 1.23385096e-06,  9.81210247e-08, -1.11753368e-06, ...,\n",
       "         -1.38084817e-06, -1.62618542e-06, -1.24188650e-06],\n",
       "        [ 6.65972531e-08, -3.53413820e-07, -8.54915857e-07, ...,\n",
       "         -2.71474361e-07, -3.37620050e-07, -5.17737269e-08]],\n",
       "\n",
       "       [[-1.08095121e-06, -1.02337027e-06, -1.29872501e-06, ...,\n",
       "          3.45940113e-07, -2.88637280e-08, -8.45015883e-07],\n",
       "        [-1.24556303e-06, -1.98996913e-06, -3.02218771e-06, ...,\n",
       "          9.63558435e-07,  8.89137030e-07,  7.62660980e-07],\n",
       "        [ 1.82493865e-07,  9.58847702e-07,  1.57856369e-06, ...,\n",
       "          5.45842767e-07,  4.35961425e-07, -7.22907782e-08],\n",
       "        ...,\n",
       "        [ 4.47954035e-06,  3.90625882e-06,  3.13754225e-06, ...,\n",
       "          4.57196116e-07,  1.15063977e-06,  1.06232822e-06],\n",
       "        [ 6.70231724e-06,  6.06272030e-06,  5.23701954e-06, ...,\n",
       "          1.09783316e-06,  1.64970529e-06,  1.39569068e-06],\n",
       "        [ 2.91390944e-06,  2.51943874e-06,  1.95736289e-06, ...,\n",
       "          7.25919545e-07,  1.04169619e-06,  8.67025852e-07]],\n",
       "\n",
       "       [[-1.29790473e-06, -3.25482309e-07,  6.71904862e-07, ...,\n",
       "         -1.75321078e-06, -1.60372221e-06, -1.56430578e-06],\n",
       "        [ 1.18513751e-06,  1.66004872e-06,  1.99067402e-06, ...,\n",
       "          7.56166339e-07,  6.58754051e-07,  4.80402648e-07],\n",
       "        [ 3.27865720e-07,  9.76163507e-07,  1.69730651e-06, ...,\n",
       "         -1.39735842e-06, -9.45644200e-07, -6.57999516e-07],\n",
       "        ...,\n",
       "        [ 4.96960831e-06,  4.00133991e-06,  2.42537093e-06, ...,\n",
       "          5.36557055e-06,  4.71476603e-06,  3.96750927e-06],\n",
       "        [ 3.79997444e-06,  3.10938644e-06,  1.89176822e-06, ...,\n",
       "          4.50070000e-06,  4.11474466e-06,  3.55553961e-06],\n",
       "        [ 2.70823336e-06,  2.42019010e-06,  1.74611735e-06, ...,\n",
       "          2.83543539e-06,  2.58650851e-06,  2.24705386e-06]]]),\n",
       "       array([[[ 1.10488009e-06,  7.89082289e-07, -3.40701103e-07, ...,\n",
       "         -2.99082541e-06, -2.82590199e-06, -1.76226294e-06],\n",
       "        [ 1.32256365e-06,  6.80022597e-07, -7.35233903e-07, ...,\n",
       "         -1.91490078e-06, -1.61379933e-06, -8.20893645e-07],\n",
       "        [-1.50705874e-07, -1.82974577e-07, -7.37022877e-07, ...,\n",
       "         -2.12642050e-06, -1.95257151e-06, -1.18778265e-06],\n",
       "        ...,\n",
       "        [ 1.38900363e-06,  1.23412168e-06,  1.11767948e-06, ...,\n",
       "          5.82927406e-07, -4.67891276e-07, -1.57210159e-06],\n",
       "        [-2.75836468e-07, -1.30918756e-07,  4.20857012e-07, ...,\n",
       "         -1.05729926e-06, -1.81554234e-06, -2.08586502e-06],\n",
       "        [-8.16631317e-09,  3.55435312e-08,  5.98501682e-07, ...,\n",
       "         -2.58863986e-07, -5.96142769e-07, -9.36197937e-07]],\n",
       "\n",
       "       [[-2.19487369e-07, -1.39710569e-06, -1.51639462e-06, ...,\n",
       "         -1.54663742e-07, -1.55048645e-06, -2.47663498e-06],\n",
       "        [-4.11148369e-07, -1.14919531e-06, -1.45239866e-06, ...,\n",
       "          1.47809684e-06,  4.28247660e-07, -8.03925395e-07],\n",
       "        [ 1.44770622e-06,  2.88260847e-07,  2.44911268e-07, ...,\n",
       "         -1.17277193e-06, -2.58520889e-06, -2.95531774e-06],\n",
       "        ...,\n",
       "        [ 3.69935870e-07,  1.98628747e-06,  2.31482697e-06, ...,\n",
       "          7.55438745e-07,  2.00215101e-06,  2.53472519e-06],\n",
       "        [ 2.55514979e-06,  3.48897076e-06,  3.64498806e-06, ...,\n",
       "         -1.58377275e-07,  5.62505066e-07,  1.11024463e-06],\n",
       "        [-1.23362184e-06, -4.63998049e-07, -6.52114630e-07, ...,\n",
       "         -8.56874764e-07,  1.07462443e-07,  9.73536789e-07]],\n",
       "\n",
       "       [[-1.02408385e-06, -9.25042510e-07, -5.84071934e-07, ...,\n",
       "         -1.37021852e-06, -4.92498517e-07,  7.13665485e-07],\n",
       "        [-1.00370479e-06, -8.55836630e-07, -4.34433341e-07, ...,\n",
       "         -1.01170969e-06,  3.12742263e-07,  1.92058635e-06],\n",
       "        [-2.22735691e-06, -2.16647720e-06, -1.79671991e-06, ...,\n",
       "         -2.75955677e-07, -2.27007151e-07,  1.58278137e-07],\n",
       "        ...,\n",
       "        [ 1.36131585e-06,  1.91376877e-06,  1.03395414e-06, ...,\n",
       "         -1.69992185e-06, -1.65062237e-06, -2.06530166e-06],\n",
       "        [ 2.99715090e-06,  3.00132680e-06,  1.67455649e-06, ...,\n",
       "          2.38733315e-06,  1.79283059e-06,  6.32986963e-07],\n",
       "        [ 3.68326735e-06,  3.95479941e-06,  3.28972578e-06, ...,\n",
       "          5.27110815e-07, -2.85631746e-07, -1.78982425e-06]],\n",
       "\n",
       "       ...,\n",
       "\n",
       "       [[-1.71477449e-06, -9.81699347e-07, -1.26865280e-06, ...,\n",
       "          6.13569784e-06,  6.21115923e-06,  4.68110895e-06],\n",
       "        [-2.52153945e-06, -1.12244582e-06, -7.25344718e-07, ...,\n",
       "          4.06310177e-06,  4.28770494e-06,  3.44172144e-06],\n",
       "        [-1.53177798e-06, -1.40134203e-06, -1.75803113e-06, ...,\n",
       "          6.15140343e-06,  6.30972481e-06,  5.00227737e-06],\n",
       "        ...,\n",
       "        [-2.85634398e-07, -2.90594190e-07, -2.92177916e-07, ...,\n",
       "         -8.52983952e-06, -8.47874165e-06, -8.42420197e-06],\n",
       "        [ 1.82537532e-06,  1.65947270e-06,  1.47204304e-06, ...,\n",
       "         -5.53186750e-06, -4.96585989e-06, -4.45548105e-06],\n",
       "        [ 9.02074993e-07,  1.94554925e-07, -2.17194676e-07, ...,\n",
       "         -7.00302696e-06, -7.63186264e-06, -7.28155422e-06]],\n",
       "\n",
       "       [[-3.73518658e-06, -4.67702532e-06, -5.02294540e-06, ...,\n",
       "          5.39403868e-06,  7.42771912e-06,  8.18778038e-06],\n",
       "        [-1.21607161e-06, -1.89327252e-06, -2.37738061e-06, ...,\n",
       "          3.97231317e-06,  5.61487579e-06,  6.27785444e-06],\n",
       "        [-7.74019480e-07, -1.92197716e-06, -2.43028498e-06, ...,\n",
       "          3.20448732e-06,  5.01727343e-06,  5.65611744e-06],\n",
       "        ...,\n",
       "        [ 2.07471550e-08,  2.19295835e-06,  4.65241575e-06, ...,\n",
       "          1.00599396e-06, -3.60167563e-07,  1.41789794e-07],\n",
       "        [-6.16357267e-07,  1.23617411e-06,  3.22158241e-06, ...,\n",
       "          1.16435194e-06,  9.00615603e-08, -6.78325057e-07],\n",
       "        [-5.88594735e-07,  8.70363951e-07,  2.28188753e-06, ...,\n",
       "         -5.15832365e-07, -1.94205368e-06, -2.11296129e-06]],\n",
       "\n",
       "       [[ 2.99413300e-06,  2.27055049e-06,  8.41681242e-07, ...,\n",
       "         -1.52512753e-06, -2.99880672e-06, -4.02838230e-06],\n",
       "        [ 1.44350588e-06,  6.20299339e-07, -6.64197564e-07, ...,\n",
       "         -1.32711172e-06, -2.40274596e-06, -3.03121305e-06],\n",
       "        [ 4.36498642e-06,  3.97283864e-06,  2.73779917e-06, ...,\n",
       "         -1.26749825e-06, -2.50473475e-06, -3.45283270e-06],\n",
       "        ...,\n",
       "        [ 2.26693964e-06,  2.00353289e-06,  2.38725758e-06, ...,\n",
       "          3.06054902e-06,  4.19978905e-06,  4.36264324e-06],\n",
       "        [ 3.62182522e-06,  3.39517212e-06,  3.86574125e-06, ...,\n",
       "          1.78569841e-06,  2.84733653e-06,  3.15208077e-06],\n",
       "        [-1.15321660e-06, -7.31133699e-07,  5.07726252e-07, ...,\n",
       "          2.44772744e-06,  4.03756905e-06,  4.69294548e-06]]]),\n",
       "       array([[[ 6.41798735e-07, -2.69676894e-07, -1.50362051e-06, ...,\n",
       "          1.79856133e-06,  1.73648620e-06,  1.75845098e-06],\n",
       "        [-9.16895986e-07, -7.42356062e-07, -9.39855337e-07, ...,\n",
       "          3.28946257e-06,  2.77415538e-06,  2.21177244e-06],\n",
       "        [ 1.28129148e-06,  5.42457700e-08, -1.36678386e-06, ...,\n",
       "          8.11578095e-07,  9.98185337e-07,  1.23092103e-06],\n",
       "        ...,\n",
       "        [-1.96555525e-07,  2.47006267e-07,  1.15748405e-06, ...,\n",
       "         -6.61095047e-06, -5.90824080e-06, -5.16718626e-06],\n",
       "        [ 1.67069018e-06,  7.01782763e-07,  2.11352825e-07, ...,\n",
       "         -5.66386318e-06, -4.72770786e-06, -3.54305649e-06],\n",
       "        [ 1.08887327e-06,  6.35677397e-07,  5.68091035e-07, ...,\n",
       "         -3.15744638e-06, -2.64351583e-06, -1.83265805e-06]],\n",
       "\n",
       "       [[-1.83530092e-06, -1.97005010e-06, -1.81246603e-06, ...,\n",
       "         -1.86788812e-07, -1.38406503e-06, -2.39589214e-06],\n",
       "        [-2.72832012e-06, -2.03257847e-06, -1.18231308e-06, ...,\n",
       "          3.27537680e-06,  2.11899233e-06,  8.42607319e-07],\n",
       "        [-6.26130342e-07, -1.33958995e-06, -1.86490417e-06, ...,\n",
       "         -2.15777969e-06, -2.92332125e-06, -3.42954326e-06],\n",
       "        ...,\n",
       "        [ 6.65509987e-06,  4.45934153e-06,  9.24348950e-07, ...,\n",
       "         -4.19653320e-06, -7.99591303e-07,  2.33228159e-06],\n",
       "        [ 8.93725967e-06,  6.11237478e-06,  2.08520007e-06, ...,\n",
       "         -6.33268166e-06, -2.37982798e-06,  1.29662728e-06],\n",
       "        [ 2.30192900e-06,  1.90388739e-06,  1.44596827e-06, ...,\n",
       "         -2.52619457e-06, -2.07104158e-06, -1.43358588e-06]],\n",
       "\n",
       "       [[ 4.38327491e-07, -1.91926584e-07, -8.18080425e-07, ...,\n",
       "         -3.47264433e-06, -3.98499584e-06, -4.00968122e-06],\n",
       "        [ 1.12910259e-06,  7.11531103e-07,  3.45171839e-07, ...,\n",
       "         -4.28429699e-06, -4.60876608e-06, -4.51789808e-06],\n",
       "        [ 4.61753309e-07, -2.80860156e-07, -9.90683973e-07, ...,\n",
       "         -2.50005674e-06, -3.35464597e-06, -3.83498335e-06],\n",
       "        ...,\n",
       "        [-5.12931538e-06, -2.63929605e-06, -2.03155115e-07, ...,\n",
       "          9.12108326e-06,  1.11746330e-05,  1.24906721e-05],\n",
       "        [-4.51974344e-06, -2.61065698e-06, -6.05273426e-07, ...,\n",
       "          4.64526320e-06,  5.82729340e-06,  6.78123140e-06],\n",
       "        [-6.32246614e-07, -4.87961382e-07, -3.81330252e-07, ...,\n",
       "          2.83243847e-06,  3.30717301e-06,  3.56268787e-06]],\n",
       "\n",
       "       ...,\n",
       "\n",
       "       [[ 3.39513564e-06,  1.96648049e-06,  9.87268269e-07, ...,\n",
       "          7.97157001e-06,  7.66744661e-06,  7.33596992e-06],\n",
       "        [ 4.63539243e-07, -5.65643907e-07, -9.40582395e-07, ...,\n",
       "          2.74252152e-06,  3.17473888e-06,  3.13281822e-06],\n",
       "        [ 3.26963091e-06,  2.52991247e-06,  2.03183985e-06, ...,\n",
       "          9.76465607e-06,  9.38970089e-06,  9.11056232e-06],\n",
       "        ...,\n",
       "        [ 1.19308221e-06,  2.53963161e-06,  2.58107448e-06, ...,\n",
       "         -1.02820349e-05, -1.09494858e-05, -1.10004950e-05],\n",
       "        [ 2.18361259e-06,  3.66198683e-06,  3.90144587e-06, ...,\n",
       "          3.61750185e-07, -5.09272933e-07, -1.01252568e-06],\n",
       "        [ 4.79288816e-07,  1.07680821e-06,  8.85453880e-07, ...,\n",
       "         -9.08758640e-07, -1.99945545e-06, -2.51531672e-06]],\n",
       "\n",
       "       [[-2.17806363e-06, -6.23447120e-07,  1.05637848e-06, ...,\n",
       "         -2.47277999e-06, -2.09366751e-06, -1.33190238e-06],\n",
       "        [-3.91283536e-06, -2.84820580e-06, -1.58112895e-06, ...,\n",
       "         -4.85975713e-07, -3.29074502e-07,  2.20129609e-07],\n",
       "        [-9.99457121e-07,  7.98726320e-07,  2.68875003e-06, ...,\n",
       "         -3.14458823e-06, -2.59484053e-06, -2.16364670e-06],\n",
       "        ...,\n",
       "        [ 3.69476819e-06,  2.26974517e-07, -3.11035275e-06, ...,\n",
       "          4.45409870e-06,  4.27203989e-06,  2.83228946e-06],\n",
       "        [-5.12323380e-07, -2.39856958e-06, -3.86014104e-06, ...,\n",
       "          3.84231234e-06,  4.15422583e-06,  2.80176473e-06],\n",
       "        [ 2.32212281e-06,  1.30111146e-06,  1.42814636e-07, ...,\n",
       "          1.15879560e-06,  7.62337923e-07,  5.46895385e-07]],\n",
       "\n",
       "       [[-4.46456149e-08, -7.40534812e-08, -2.46578649e-07, ...,\n",
       "         -2.37799335e-06, -1.41560447e-06, -4.54590499e-07],\n",
       "        [-1.63575387e-06, -1.21441448e-06, -9.21561360e-07, ...,\n",
       "         -2.64652586e-06, -2.25288248e-06, -1.41026628e-06],\n",
       "        [ 2.17260885e-06,  1.34903765e-06,  5.91974080e-07, ...,\n",
       "         -1.68471873e-06, -7.90525556e-07, -1.85366690e-07],\n",
       "        ...,\n",
       "        [-8.72941554e-07, -1.16719639e-06, -8.77196908e-07, ...,\n",
       "          3.99604034e-06,  1.48628914e-06, -6.56966567e-07],\n",
       "        [-5.53320527e-07, -1.95488441e-06, -2.17792201e-06, ...,\n",
       "          3.22315168e-06,  1.81358790e-06,  1.97992325e-08],\n",
       "        [-7.62968659e-07, -5.91992378e-07, -4.84150857e-07, ...,\n",
       "          1.51643705e-06,  1.59291768e-06,  9.66844797e-07]]]),\n",
       "       array([[[-3.80144787e-06, -3.81960797e-06, -3.21484184e-06, ...,\n",
       "         -1.07984698e-06, -1.68293691e-06, -2.42465687e-06],\n",
       "        [-3.47340012e-06, -3.53827024e-06, -3.06318426e-06, ...,\n",
       "         -7.64746845e-07, -1.34787953e-06, -1.70737231e-06],\n",
       "        [-2.73243785e-06, -2.61067820e-06, -1.95527005e-06, ...,\n",
       "         -1.91504157e-06, -2.39412212e-06, -3.24517703e-06],\n",
       "        ...,\n",
       "        [ 4.49244165e-06,  4.43841600e-06,  3.42168832e-06, ...,\n",
       "         -8.79300833e-07, -1.22471559e-06, -1.32339692e-06],\n",
       "        [ 4.32105780e-06,  4.43593550e-06,  3.65029502e-06, ...,\n",
       "         -1.67191899e-06, -1.45714641e-06, -1.42047179e-06],\n",
       "        [ 3.99451685e-06,  4.19988632e-06,  3.25826740e-06, ...,\n",
       "         -5.97257257e-07,  5.62741160e-08,  5.70447743e-07]],\n",
       "\n",
       "       [[-6.10953033e-07, -1.87438524e-06, -2.00447226e-06, ...,\n",
       "         -1.46232104e-06, -1.63146806e-06, -2.52686119e-06],\n",
       "        [-8.66142154e-07, -2.03479838e-06, -1.80423379e-06, ...,\n",
       "         -3.55534863e-06, -3.72972274e-06, -4.56933355e-06],\n",
       "        [ 2.66982079e-07, -6.88829958e-07, -1.26520360e-06, ...,\n",
       "          1.08605921e-06,  9.58545566e-07,  2.90753514e-07],\n",
       "        ...,\n",
       "        [-1.43143535e-06, -4.47292358e-07,  1.13370037e-06, ...,\n",
       "         -3.18774223e-06, -3.22643995e-06, -2.82854104e-06],\n",
       "        [-6.13764346e-07,  8.52073669e-07,  1.99505997e-06, ...,\n",
       "         -1.20739615e-06, -9.61311042e-07,  1.62157491e-08],\n",
       "        [-2.31540918e-07,  1.45145535e-06,  2.64197803e-06, ...,\n",
       "         -1.62947583e-06, -1.18037963e-06,  2.47168630e-07]],\n",
       "\n",
       "       [[-2.53722191e-06, -2.07642817e-06, -2.14189434e-06, ...,\n",
       "          7.09660575e-08,  1.58554292e-06,  1.00767601e-06],\n",
       "        [-1.46964490e-06, -1.09912431e-06, -1.19976413e-06, ...,\n",
       "         -8.14619362e-07,  7.68009603e-07,  4.77208287e-07],\n",
       "        [-3.31612206e-06, -2.94283295e-06, -2.90172434e-06, ...,\n",
       "          1.03109205e-06,  1.68695605e-06,  7.27755010e-07],\n",
       "        ...,\n",
       "        [ 2.56550789e-07,  7.24453211e-07,  1.06764209e-06, ...,\n",
       "         -2.34216630e-07, -2.03175157e-07,  7.33225405e-07],\n",
       "        [-5.40674567e-07, -4.00702477e-07, -8.58011246e-08, ...,\n",
       "         -1.44124985e-07, -4.31933761e-07,  5.20448327e-07],\n",
       "        [ 1.27681339e-06,  1.19797277e-06,  1.57415760e-06, ...,\n",
       "         -1.35897756e-06, -1.87139082e-06, -2.45463252e-07]],\n",
       "\n",
       "       ...,\n",
       "\n",
       "       [[ 5.77665091e-07,  8.11427236e-07,  5.50004125e-07, ...,\n",
       "          6.27908087e-06,  5.48016644e-06,  5.14958954e-06],\n",
       "        [ 4.56385791e-07,  6.79227948e-07,  4.88225043e-07, ...,\n",
       "          6.76332569e-06,  5.68074608e-06,  5.51227808e-06],\n",
       "        [ 4.37295645e-07,  7.26758778e-07,  6.22214735e-07, ...,\n",
       "          2.67340899e-06,  2.25425482e-06,  1.77976787e-06],\n",
       "        ...,\n",
       "        [-1.58162564e-07, -6.87295437e-07, -1.22356415e-06, ...,\n",
       "         -2.79017282e-06, -2.81405139e-06, -2.96716428e-06],\n",
       "        [-1.75790787e-07, -7.48552084e-07, -1.20675731e-06, ...,\n",
       "         -4.90968752e-06, -4.67533493e-06, -4.97441530e-06],\n",
       "        [-2.05484360e-07, -9.22420859e-07, -1.28482521e-06, ...,\n",
       "         -5.53946590e-06, -4.81692982e-06, -4.85929823e-06]],\n",
       "\n",
       "       [[-3.20423126e-06, -2.98300195e-06, -3.28587317e-06, ...,\n",
       "         -1.85334301e-06, -2.78203964e-06, -4.10393238e-06],\n",
       "        [-1.80196333e-06, -1.62619412e-06, -2.11317396e-06, ...,\n",
       "         -1.98337984e-06, -2.24338365e-06, -3.17362118e-06],\n",
       "        [-2.32703424e-06, -2.12479234e-06, -2.25003123e-06, ...,\n",
       "         -9.14952159e-08, -1.05061245e-06, -2.23537326e-06],\n",
       "        ...,\n",
       "        [ 2.65493846e-06,  2.26163435e-06,  2.25629663e-06, ...,\n",
       "          1.56727552e-07,  3.92150640e-07,  1.26049900e-06],\n",
       "        [ 3.45262098e-06,  2.71945906e-06,  2.60356069e-06, ...,\n",
       "          4.54692364e-07,  1.89924717e-07,  5.82044125e-07],\n",
       "        [ 4.36603928e-06,  3.37258792e-06,  3.14968729e-06, ...,\n",
       "          6.13073111e-07,  4.40860510e-07,  1.16608691e-06]],\n",
       "\n",
       "       [[ 4.90668344e-06,  4.98353863e-06,  3.69010425e-06, ...,\n",
       "         -5.58392823e-07,  4.01604027e-07, -7.01167941e-07],\n",
       "        [ 4.49770927e-06,  5.20820045e-06,  4.67996025e-06, ...,\n",
       "         -2.38215661e-06, -1.21241021e-06, -2.04651523e-06],\n",
       "        [ 2.49341822e-06,  1.70928693e-06,  1.56761438e-07, ...,\n",
       "          1.64778972e-06,  1.97478509e-06,  6.74148202e-07],\n",
       "        ...,\n",
       "        [ 8.60637069e-07, -9.89391685e-07, -1.87221551e-06, ...,\n",
       "         -1.44118576e-05, -1.47137699e-05, -1.29311705e-05],\n",
       "        [-1.82873797e-06, -4.31358385e-06, -5.40916681e-06, ...,\n",
       "         -9.83577061e-06, -1.06489506e-05, -9.23053265e-06],\n",
       "        [-2.64087915e-06, -4.53943205e-06, -4.81174326e-06, ...,\n",
       "         -7.13854456e-06, -8.23570442e-06, -6.12262964e-06]]]),\n",
       "       array([[[ 1.20941031e-06,  8.13759148e-07, -4.09350991e-08, ...,\n",
       "         -1.56777811e-06, -1.07672608e-06, -9.12590086e-07],\n",
       "        [-1.01073664e-08, -3.10832590e-07, -1.05943286e-06, ...,\n",
       "         -7.86056757e-07, -8.79804343e-08,  3.13240379e-07],\n",
       "        [ 3.47239792e-07,  1.70858741e-07, -2.34638661e-07, ...,\n",
       "         -1.46656632e-06, -1.31962216e-06, -1.58416748e-06],\n",
       "        ...,\n",
       "        [-1.17113376e-06, -1.13946438e-06, -2.48167902e-07, ...,\n",
       "         -6.20034575e-07, -1.45532465e-06, -1.95689917e-06],\n",
       "        [-8.71724188e-07, -7.06218481e-07,  4.42085445e-07, ...,\n",
       "         -4.03186411e-07, -1.30564678e-06, -2.24547005e-06],\n",
       "        [-2.69043624e-07, -2.23984540e-07,  5.96518815e-07, ...,\n",
       "          1.46779096e-06,  1.01705265e-06,  9.29360390e-07]],\n",
       "\n",
       "       [[ 5.50758898e-07,  7.27414250e-07,  8.43448877e-07, ...,\n",
       "          6.84686899e-08, -3.71078432e-07, -1.01696801e-06],\n",
       "        [ 1.50210547e-06,  1.54233813e-06,  1.66078556e-06, ...,\n",
       "         -2.99330294e-07, -3.31551850e-07, -6.04261577e-07],\n",
       "        [-4.40730721e-07, -7.07201064e-07, -3.60011578e-07, ...,\n",
       "          1.32869077e-06,  3.99504006e-07, -5.83462059e-07],\n",
       "        ...,\n",
       "        [-8.05555284e-08,  1.44405079e-06,  2.91228151e-06, ...,\n",
       "          1.33388376e-06,  1.85575581e-06,  2.35338473e-06],\n",
       "        [-3.35675508e-07,  8.64650726e-07,  2.61903167e-06, ...,\n",
       "          1.23186481e-06,  1.45131636e-06,  1.52455616e-06],\n",
       "        [ 4.38637555e-07,  1.14577591e-06,  1.68721521e-06, ...,\n",
       "          1.44711542e-06,  1.64119911e-06,  2.12864256e-06]],\n",
       "\n",
       "       [[ 3.82986158e-07, -4.46981251e-07, -1.23840153e-06, ...,\n",
       "         -5.03053606e-07, -6.22774921e-08,  5.49523771e-07],\n",
       "        [ 1.19437826e-06,  4.59528029e-07, -4.60218042e-07, ...,\n",
       "          7.26831257e-07,  4.86144364e-07,  3.63608450e-07],\n",
       "        [-1.37627029e-06, -1.09208369e-06, -1.31613398e-06, ...,\n",
       "         -5.60860038e-07,  6.63900673e-08,  1.25204527e-06],\n",
       "        ...,\n",
       "        [-3.30423927e-06, -3.41381931e-06, -3.86736989e-06, ...,\n",
       "         -1.29241490e-06, -8.90823483e-07, -1.28499746e-06],\n",
       "        [-4.03225231e-06, -3.68903732e-06, -4.08160973e-06, ...,\n",
       "         -1.73429918e-06, -1.02249813e-06, -6.97792470e-07],\n",
       "        [-2.41070437e-06, -2.20840001e-06, -2.22481847e-06, ...,\n",
       "          3.96947622e-07,  7.59253681e-07,  3.31343085e-07]],\n",
       "\n",
       "       ...,\n",
       "\n",
       "       [[-2.11356926e-06, -1.31536603e-06, -9.98543978e-07, ...,\n",
       "          2.05557227e-06,  1.57818258e-06,  1.56299853e-06],\n",
       "        [-3.91910481e-06, -3.01625562e-06, -2.43715930e-06, ...,\n",
       "          1.94607460e-06,  1.32655346e-06,  1.36548233e-06],\n",
       "        [ 6.28316700e-08,  6.59596980e-07,  6.87900186e-07, ...,\n",
       "          9.78413224e-07,  8.07766140e-07,  5.01694262e-07],\n",
       "        ...,\n",
       "        [ 4.14799809e-07, -1.63165843e-06, -3.02938461e-06, ...,\n",
       "          6.62568063e-08,  1.38764644e-06,  2.58987021e-06],\n",
       "        [ 1.93710446e-06,  4.89698946e-08, -1.61728966e-06, ...,\n",
       "         -8.52727592e-07,  6.66806161e-07,  1.77605474e-06],\n",
       "        [ 5.72351038e-07, -9.03296888e-07, -2.00242257e-06, ...,\n",
       "         -5.83758473e-07,  7.54894614e-07,  1.68592668e-06]],\n",
       "\n",
       "       [[ 1.81181288e-06,  1.29932606e-06,  4.53835130e-07, ...,\n",
       "          8.78270984e-07,  9.80318487e-07,  6.86313093e-07],\n",
       "        [ 1.89159501e-06,  1.35052025e-06,  1.04947853e-06, ...,\n",
       "         -5.74772060e-07, -1.97283439e-08,  6.66533336e-08],\n",
       "        [ 6.23795986e-07,  7.23608792e-07,  1.17383569e-07, ...,\n",
       "          8.52220654e-07,  4.09822673e-07, -2.06651211e-07],\n",
       "        ...,\n",
       "        [ 1.31857961e-07,  1.39418280e-06,  2.10802007e-06, ...,\n",
       "          4.73059511e-06,  5.98066807e-06,  7.83583593e-06],\n",
       "        [ 4.71148491e-07,  1.73361242e-06,  1.81785107e-06, ...,\n",
       "          3.53826141e-06,  4.45093536e-06,  5.84942102e-06],\n",
       "        [-4.74894881e-07,  7.03074872e-07,  1.08166373e-06, ...,\n",
       "          2.72366381e-06,  3.42027974e-06,  4.62787437e-06]],\n",
       "\n",
       "       [[ 6.27149642e-07,  9.55518365e-07,  1.22968733e-06, ...,\n",
       "         -1.32919753e-06, -7.85676360e-07, -2.62596369e-07],\n",
       "        [ 1.26860917e-06,  1.14495671e-06,  1.05879462e-06, ...,\n",
       "         -3.68554085e-07,  1.52341500e-07,  7.10702181e-07],\n",
       "        [ 4.87508774e-07,  1.12394512e-06,  1.28453231e-06, ...,\n",
       "         -1.36255407e-06, -1.17820883e-06, -1.22997236e-06],\n",
       "        ...,\n",
       "        [-1.87895608e-06, -2.74882078e-06, -3.12095547e-06, ...,\n",
       "         -8.75899047e-08, -6.25147104e-07, -2.67208368e-08],\n",
       "        [-9.63434696e-07, -1.85823071e-06, -2.71891022e-06, ...,\n",
       "         -1.10492468e-07, -8.63547325e-07, -6.89653456e-07],\n",
       "        [-1.98598278e-06, -2.62350297e-06, -3.01612496e-06, ...,\n",
       "          1.37494475e-07, -5.67584395e-07, -4.31381047e-07]]]),\n",
       "       array([[[ 2.74195838e-06,  2.50946140e-06,  2.17085481e-06, ...,\n",
       "         -5.87066114e-07,  2.07274079e-07,  4.95629907e-07],\n",
       "        [ 3.21585131e-06,  2.69406843e-06,  2.01313496e-06, ...,\n",
       "         -1.22968304e-06, -3.44845206e-07, -2.10901741e-08],\n",
       "        [ 1.34140825e-06,  2.29437995e-06,  2.88313437e-06, ...,\n",
       "         -3.57885838e-07, -2.73104638e-07, -3.22538435e-07],\n",
       "        ...,\n",
       "        [ 3.68357730e-06,  2.50186706e-06,  1.54648244e-06, ...,\n",
       "          2.46165180e-06,  3.01679111e-06,  2.18220830e-06],\n",
       "        [-4.84013939e-06, -4.67003250e-06, -4.23677158e-06, ...,\n",
       "          2.26583815e-06,  2.52747869e-06,  2.19155002e-06],\n",
       "        [-9.55869377e-07, -1.44854164e-06, -1.71585810e-06, ...,\n",
       "          1.33850372e-06,  1.69243789e-06,  1.42245996e-06]],\n",
       "\n",
       "       [[ 2.19484925e-07,  1.38094223e-06,  2.53550559e-08, ...,\n",
       "         -3.41140962e-06, -3.31544876e-06, -2.50406742e-06],\n",
       "        [ 9.53255668e-08,  1.71992159e-06,  5.95634043e-07, ...,\n",
       "         -4.08786106e-06, -4.06354284e-06, -3.20539474e-06],\n",
       "        [ 1.13513577e-06,  8.78052354e-07, -5.31521976e-07, ...,\n",
       "         -6.23918951e-07, -4.69348758e-07, -3.31316236e-09],\n",
       "        ...,\n",
       "        [-5.88027763e-06, -6.71901035e-06, -7.63815880e-06, ...,\n",
       "          7.01929760e-06,  3.55336928e-06, -4.49777663e-07],\n",
       "        [-2.50163746e-06, -4.64110947e-06, -5.74251461e-06, ...,\n",
       "          9.28122234e-06,  6.28185225e-06,  2.12531757e-06],\n",
       "        [-2.92012024e-06, -3.84912014e-06, -3.75159574e-06, ...,\n",
       "          5.43731356e-06,  3.26155663e-06,  3.07012737e-07]],\n",
       "\n",
       "       [[ 2.13885403e-06,  1.89081240e-06,  1.61010146e-06, ...,\n",
       "         -1.40527892e-06, -8.79453361e-07, -1.77586651e-06],\n",
       "        [ 2.37652540e-06,  1.73565710e-06,  9.20135736e-07, ...,\n",
       "         -7.66142368e-07, -7.23950744e-07, -1.71336806e-06],\n",
       "        [ 1.21767208e-07,  7.11164236e-07,  1.49682939e-06, ...,\n",
       "         -5.42565763e-07,  6.84789181e-07,  7.63375998e-07],\n",
       "        ...,\n",
       "        [-4.16190720e-06, -3.11768126e-06, -2.61783075e-06, ...,\n",
       "          4.08910847e-06,  4.42776728e-06,  4.49404955e-06],\n",
       "        [-3.83671856e-06, -3.82076359e-06, -3.94256139e-06, ...,\n",
       "         -1.65858960e-06,  4.29621905e-07,  3.04686594e-06],\n",
       "        [-3.30197334e-06, -3.14451051e-06, -3.29029536e-06, ...,\n",
       "          5.69311082e-07,  9.62507367e-07,  1.82610202e-06]],\n",
       "\n",
       "       ...,\n",
       "\n",
       "       [[ 3.73012161e-06, -4.67911661e-07, -4.29124069e-06, ...,\n",
       "          6.66756451e-07,  9.02855754e-07,  1.72329135e-08],\n",
       "        [ 4.54641104e-06,  2.13783669e-06, -2.27394313e-07, ...,\n",
       "          2.23109588e-07,  6.96773361e-09, -8.65940273e-07],\n",
       "        [-3.43924642e-07, -3.96314549e-06, -6.70762348e-06, ...,\n",
       "         -2.69423038e-07,  8.53287697e-07,  1.17022669e-06],\n",
       "        ...,\n",
       "        [-1.06599169e-05, -6.03857946e-06, -9.46931541e-07, ...,\n",
       "         -1.80791998e-06, -1.66584110e-06, -1.64397562e-06],\n",
       "        [-4.12371922e-06, -2.68812919e-06, -1.24773812e-06, ...,\n",
       "         -3.47213268e-06, -2.80736947e-06, -1.60463595e-06],\n",
       "        [-4.65327263e-06, -2.25425601e-06, -1.95060205e-08, ...,\n",
       "         -8.53267133e-07, -1.24517119e-06, -1.29154658e-06]],\n",
       "\n",
       "       [[-2.79588640e-07, -8.12907398e-07,  1.65485954e-06, ...,\n",
       "         -6.79802775e-07, -3.59285927e-06, -8.45470619e-06],\n",
       "        [ 1.10004377e-06,  9.25652385e-07,  3.74605584e-06, ...,\n",
       "          4.39485729e-07, -2.43712020e-06, -7.39813662e-06],\n",
       "        [-1.64251280e-06, -2.68043900e-06, -2.00678325e-06, ...,\n",
       "         -3.61751616e-07, -2.11031842e-06, -4.95185852e-06],\n",
       "        ...,\n",
       "        [ 1.24050932e-05,  1.38126945e-05,  1.53197508e-05, ...,\n",
       "          1.23617401e-05,  1.18620958e-05,  1.01085262e-05],\n",
       "        [ 8.71016693e-06,  7.73079967e-06,  5.98412848e-06, ...,\n",
       "          5.72005415e-06,  5.35708904e-06,  5.26278543e-06],\n",
       "        [ 7.78015137e-06,  8.25607014e-06,  7.64453745e-06, ...,\n",
       "          5.84937477e-06,  6.08641529e-06,  6.61598253e-06]],\n",
       "\n",
       "       [[-3.05696607e-07, -9.00040984e-07, -1.52333999e-06, ...,\n",
       "         -1.20344794e-06, -2.37514305e-06, -3.11913371e-06],\n",
       "        [-1.33420932e-06, -2.32984471e-06, -3.18948221e-06, ...,\n",
       "         -2.22411585e-06, -3.17781687e-06, -3.61579347e-06],\n",
       "        [-2.59884655e-07, -9.04189050e-07, -1.35122621e-06, ...,\n",
       "          1.18747950e-06,  5.14466465e-07, -1.49925932e-07],\n",
       "        ...,\n",
       "        [-4.68225431e-06, -4.79312515e-06, -4.13278389e-06, ...,\n",
       "         -2.43610501e-06, -2.27361870e-06, -3.01193810e-06],\n",
       "        [-7.81961298e-06, -7.86311150e-06, -6.88700247e-06, ...,\n",
       "          1.76815593e-06,  5.81970096e-07, -8.29250872e-07],\n",
       "        [-3.90189648e-06, -3.74999833e-06, -3.01472306e-06, ...,\n",
       "         -8.34412336e-07, -8.68265033e-07, -1.35530961e-06]]]),\n",
       "       array([[[-2.29538894e-06, -2.59548473e-06, -2.78076005e-06, ...,\n",
       "          2.98309535e-07,  2.88390934e-07,  6.24653101e-07],\n",
       "        [-1.67063689e-06, -2.12478375e-06, -2.38703513e-06, ...,\n",
       "          1.09888911e-08,  5.01531661e-08,  3.21542919e-07],\n",
       "        [-1.96114492e-06, -2.02213955e-06, -2.04842901e-06, ...,\n",
       "         -6.48388326e-07, -5.26717901e-07, -1.07875645e-07],\n",
       "        ...,\n",
       "        [-4.89488423e-07, -5.62286019e-07, -7.63645470e-08, ...,\n",
       "          6.01250768e-07,  1.35524035e-06,  1.67030871e-06],\n",
       "        [ 4.36853379e-07,  8.69828343e-07,  1.57493782e-06, ...,\n",
       "         -5.67107201e-07,  5.07608771e-07,  1.16142058e-06],\n",
       "        [ 1.66231132e-06,  2.13919687e-06,  2.60905671e-06, ...,\n",
       "         -2.08920836e-08,  2.94044822e-07,  3.38670790e-07]],\n",
       "\n",
       "       [[ 9.20402706e-07,  1.27915943e-06,  1.53452110e-06, ...,\n",
       "         -9.98339951e-07, -6.37785971e-07, -3.24980319e-07],\n",
       "        [ 7.41127849e-07,  5.53793669e-07,  2.70926267e-07, ...,\n",
       "         -3.35362196e-07, -9.61404145e-08,  1.68881834e-07],\n",
       "        [ 8.05643201e-07,  1.48114264e-06,  2.03371334e-06, ...,\n",
       "         -4.00353014e-07,  5.65386564e-08,  2.93150365e-07],\n",
       "        ...,\n",
       "        [-1.30358353e-07, -7.20771790e-07, -1.38432097e-06, ...,\n",
       "          3.39259434e-06,  3.32332039e-06,  2.70551848e-06],\n",
       "        [-3.32629621e-07, -2.40012199e-07, -2.62441069e-07, ...,\n",
       "          1.40509200e-06,  1.26742971e-06,  5.49143851e-07],\n",
       "        [-6.81871772e-07, -8.13680589e-07, -9.09164548e-07, ...,\n",
       "          9.50899720e-07,  5.82830846e-07, -3.53836790e-08]],\n",
       "\n",
       "       [[ 1.77076674e-06,  2.32845020e-06,  2.56857395e-06, ...,\n",
       "         -6.12466931e-07, -6.10137820e-07, -6.69417560e-07],\n",
       "        [ 3.65521699e-07,  5.94359875e-07,  6.63896561e-07, ...,\n",
       "         -6.65577352e-08, -1.38246983e-07, -1.92274272e-07],\n",
       "        [ 1.52784169e-06,  2.02334929e-06,  2.35653996e-06, ...,\n",
       "         -1.17085469e-06, -1.24159837e-06, -1.33375394e-06],\n",
       "        ...,\n",
       "        [-2.44268608e-06, -2.31565738e-06, -2.17235613e-06, ...,\n",
       "         -2.95301175e-06, -2.85873175e-06, -2.58593678e-06],\n",
       "        [-1.42368507e-06, -1.16043079e-06, -7.40503311e-07, ...,\n",
       "         -2.48096085e-06, -2.45521832e-06, -2.43739867e-06],\n",
       "        [-1.18815064e-06, -1.25171077e-06, -1.15566933e-06, ...,\n",
       "         -1.35977864e-06, -1.23899961e-06, -1.13030076e-06]],\n",
       "\n",
       "       ...,\n",
       "\n",
       "       [[ 3.10081434e-06,  3.11900568e-06,  2.88004184e-06, ...,\n",
       "          2.08079040e-07,  8.48156750e-07,  1.34324026e-06],\n",
       "        [ 3.12151408e-06,  2.76940179e-06,  2.24669933e-06, ...,\n",
       "          7.92843223e-07,  8.56123626e-07,  7.90188432e-07],\n",
       "        [ 1.55325913e-06,  1.98799813e-06,  2.15617156e-06, ...,\n",
       "         -9.54566538e-07, -1.03329152e-07,  7.01331437e-07],\n",
       "        ...,\n",
       "        [ 2.14697063e-07,  1.82953954e-07,  1.73120052e-07, ...,\n",
       "          1.46577746e-07,  6.02902532e-07,  7.60593653e-07],\n",
       "        [-1.13451159e-06, -5.62598765e-07, -1.99042395e-07, ...,\n",
       "          1.55060053e-06,  2.78455329e-06,  3.92044020e-06],\n",
       "        [-2.04126716e-06, -1.69236314e-06, -1.22617376e-06, ...,\n",
       "         -1.28866613e-07,  2.23970920e-07,  5.01661837e-07]],\n",
       "\n",
       "       [[ 4.26140308e-07,  5.67916691e-07,  6.43200934e-07, ...,\n",
       "          2.96264648e-06,  2.16601849e-06,  1.44010520e-06],\n",
       "        [ 8.41274202e-07,  8.28669369e-07,  7.68297374e-07, ...,\n",
       "          2.14352179e-06,  1.54363585e-06,  1.06945837e-06],\n",
       "        [ 1.21528566e-07,  2.74893254e-07,  4.68711346e-07, ...,\n",
       "          3.17727757e-06,  2.82033467e-06,  2.41823983e-06],\n",
       "        ...,\n",
       "        [ 2.02732635e-06,  2.08603835e-06,  1.83266032e-06, ...,\n",
       "          2.11479402e-06,  2.24370241e-06,  2.68866491e-06],\n",
       "        [ 6.80693150e-07,  7.29277492e-07,  7.52618313e-07, ...,\n",
       "          3.56359434e-06,  3.89943981e-06,  4.27891016e-06],\n",
       "        [-5.19918203e-08, -2.35218406e-08, -2.58914828e-08, ...,\n",
       "          4.54446107e-07,  9.05356407e-07,  1.39706874e-06]],\n",
       "\n",
       "       [[-8.66078198e-07, -1.07383037e-06, -1.43816996e-06, ...,\n",
       "         -8.33208025e-07, -6.56397343e-07, -5.56638956e-07],\n",
       "        [-1.15881395e-06, -1.40887201e-06, -1.70206046e-06, ...,\n",
       "         -8.18764389e-07, -7.69655108e-07, -8.03717196e-07],\n",
       "        [-1.22517347e-07, -2.98214257e-07, -6.58840060e-07, ...,\n",
       "         -9.15024877e-07, -6.93530798e-07, -4.10568833e-07],\n",
       "        ...,\n",
       "        [-1.05504632e-06, -1.00792766e-06, -9.21013534e-07, ...,\n",
       "         -1.09032035e-06, -9.56987739e-07, -1.01445758e-06],\n",
       "        [-8.47604990e-07, -6.86920106e-07, -5.78013122e-07, ...,\n",
       "         -1.45381153e-06, -1.17725301e-06, -8.05775642e-07],\n",
       "        [ 1.97988272e-07,  4.39590603e-07,  6.26510978e-07, ...,\n",
       "          1.93960637e-07,  1.98422238e-07,  2.34793991e-07]]]),\n",
       "       array([[[-3.69020939e-07, -6.21967912e-08, -1.27106071e-07, ...,\n",
       "          1.81537986e-06,  1.65565550e-06,  1.88717270e-06],\n",
       "        [-9.70100045e-07, -7.33389556e-07, -7.52481759e-07, ...,\n",
       "          1.61581254e-06,  1.32332897e-06,  1.46330643e-06],\n",
       "        [ 4.60064173e-07,  6.57059729e-07,  4.90571529e-07, ...,\n",
       "          1.48748195e-06,  1.51732898e-06,  1.73966300e-06],\n",
       "        ...,\n",
       "        [-1.46301091e-07, -1.13412559e-07,  1.70450181e-07, ...,\n",
       "          6.11089706e-07,  7.95900583e-07,  5.97762823e-07],\n",
       "        [ 9.65155125e-07,  1.04033422e-06,  1.29163742e-06, ...,\n",
       "          7.49105573e-07,  1.23475313e-06,  1.16085887e-06],\n",
       "        [ 2.24663973e-07,  9.10297334e-08,  1.96602076e-07, ...,\n",
       "         -4.40398812e-07, -2.77572453e-07, -4.60582435e-07]],\n",
       "\n",
       "       [[ 2.48862147e-06,  1.34231901e-06,  4.91315424e-07, ...,\n",
       "         -8.52000713e-07, -1.96721709e-06, -2.14341235e-06],\n",
       "        [ 1.95309579e-06,  1.17710245e-06,  6.12535179e-07, ...,\n",
       "          2.59493053e-07, -3.71707380e-07, -5.88260055e-07],\n",
       "        [ 2.26734066e-06,  1.13036752e-06,  2.71866500e-07, ...,\n",
       "         -1.90525472e-06, -2.94968081e-06, -2.85673475e-06],\n",
       "        ...,\n",
       "        [-1.39173031e-06, -4.44466174e-07,  2.55231082e-07, ...,\n",
       "          1.76792598e-06,  2.17776680e-06,  1.80001450e-06],\n",
       "        [-8.76938164e-07, -4.37931120e-08,  5.18606663e-07, ...,\n",
       "          5.70363641e-07,  5.75748563e-07,  1.77342445e-07],\n",
       "        [-1.55042028e-06, -7.63296127e-07, -1.77832603e-07, ...,\n",
       "          7.74664044e-07,  1.39169204e-06,  1.40102494e-06]],\n",
       "\n",
       "       [[-1.10795438e-07, -3.71815503e-07,  8.35705474e-08, ...,\n",
       "         -1.85222030e-07,  2.80834019e-07,  9.15376246e-07],\n",
       "        [-6.14896655e-07, -7.40748405e-07, -3.22675586e-07, ...,\n",
       "         -1.61208916e-06, -1.08134842e-06, -3.95957708e-07],\n",
       "        [ 5.83699644e-08, -1.85694426e-07,  2.06877738e-07, ...,\n",
       "          8.12565982e-07,  1.09875488e-06,  1.44580913e-06],\n",
       "        ...,\n",
       "        [ 1.26353860e-06,  1.62186742e-06,  9.85158682e-07, ...,\n",
       "          2.13789523e-07, -3.17529738e-07, -8.27028811e-07],\n",
       "        [ 2.00295901e-06,  2.24823785e-06,  1.43357933e-06, ...,\n",
       "          1.77396250e-06,  9.97336149e-07,  2.69701779e-07],\n",
       "        [ 5.42887866e-07,  8.07543099e-07,  3.91231179e-07, ...,\n",
       "          3.28370571e-07, -8.52776468e-08, -5.92689812e-07]],\n",
       "\n",
       "       ...,\n",
       "\n",
       "       [[ 2.33770430e-07,  5.62566936e-07,  1.35011733e-06, ...,\n",
       "         -1.09119070e-06, -4.11194563e-07, -4.70327228e-07],\n",
       "        [ 1.33996606e-07,  4.41111445e-07,  1.15440333e-06, ...,\n",
       "         -6.21005058e-07,  2.47009918e-07,  5.20677388e-07],\n",
       "        [ 3.85593772e-08,  2.61727095e-07,  9.10311639e-07, ...,\n",
       "         -1.13917542e-06, -7.01108217e-07, -8.46241355e-07],\n",
       "        ...,\n",
       "        [-5.24477601e-07, -3.87297332e-07, -8.19226027e-07, ...,\n",
       "          5.59720755e-07, -2.02354908e-07, -7.52939582e-07],\n",
       "        [-6.43393278e-07, -4.74315584e-07, -9.26947415e-07, ...,\n",
       "          3.50896001e-07, -7.37935483e-07, -1.71930039e-06],\n",
       "        [-3.70391399e-07, -4.60437149e-07, -9.46324110e-07, ...,\n",
       "          5.88783264e-07, -5.15072793e-09, -1.96336582e-07]],\n",
       "\n",
       "       [[ 2.55339289e-06,  2.22942805e-06,  1.49653995e-06, ...,\n",
       "         -7.83967018e-07, -1.21788430e-06, -6.47811890e-07],\n",
       "        [ 1.77317274e-06,  1.63846254e-06,  1.32337701e-06, ...,\n",
       "         -7.55094886e-08, -2.75713146e-07,  2.49690890e-07],\n",
       "        [ 2.37832069e-06,  1.91627586e-06,  1.08547020e-06, ...,\n",
       "         -1.30513620e-06, -1.87075806e-06, -1.64649487e-06],\n",
       "        ...,\n",
       "        [-1.65256226e-06, -1.28100348e-06, -7.22487450e-07, ...,\n",
       "          1.30399680e-06,  1.36902821e-06,  1.01686335e-06],\n",
       "        [-1.20087719e-06, -9.74903762e-07, -6.88226402e-07, ...,\n",
       "          8.96689236e-07,  8.93190563e-07,  4.52319205e-07],\n",
       "        [-1.65381861e-06, -1.42883098e-06, -9.58739519e-07, ...,\n",
       "          6.49825752e-07,  7.60406315e-07,  2.93336779e-07]],\n",
       "\n",
       "       [[ 1.38950634e-06,  2.07316709e-06,  1.58117700e-06, ...,\n",
       "         -8.20817411e-07,  4.27250043e-08,  3.82053763e-07],\n",
       "        [ 4.18313950e-07,  8.15340221e-07,  1.17482424e-07, ...,\n",
       "          3.72192621e-07,  1.14085221e-06,  1.50209117e-06],\n",
       "        [ 1.90040290e-06,  2.68985271e-06,  2.57773924e-06, ...,\n",
       "         -1.67096865e-06, -1.13478923e-06, -1.02201533e-06],\n",
       "        ...,\n",
       "        [-1.54419589e-06, -1.57193804e-06, -1.22395754e-06, ...,\n",
       "          2.02701569e-06,  1.52660930e-06,  9.35656667e-07],\n",
       "        [-1.09742820e-06, -8.42340469e-07, -1.04101181e-07, ...,\n",
       "          9.61233795e-07,  4.41050410e-07, -3.32053423e-07],\n",
       "        [-9.48479652e-07, -1.16599154e-06, -7.61299014e-07, ...,\n",
       "          9.49300051e-07,  3.25121820e-07, -1.09449878e-07]]]),\n",
       "       array([[[ 1.32085955e-06,  2.05742860e-06,  1.46335602e-07, ...,\n",
       "         -2.86856472e-07, -2.15132535e-07, -4.16758657e-07],\n",
       "        [ 8.62435281e-07,  1.69911861e-06,  1.95322663e-07, ...,\n",
       "         -6.94142282e-07, -2.31040716e-07, -3.94738615e-07],\n",
       "        [-1.84612036e-07,  1.63006544e-07, -1.72046602e-06, ...,\n",
       "          6.53698564e-07,  2.83916593e-07, -3.52276564e-08],\n",
       "        ...,\n",
       "        [ 1.85332644e-06,  1.15821791e-06,  2.39838505e-06, ...,\n",
       "          5.53671598e-07,  1.49433625e-06,  2.32880330e-06],\n",
       "        [ 4.18624401e-06,  2.52602339e-06,  2.64479613e-06, ...,\n",
       "          1.99118793e-06,  1.60282207e-06,  1.87671232e-06],\n",
       "        [ 3.47162175e-06,  2.18692446e-06,  3.28381467e-06, ...,\n",
       "          2.00155675e-07,  3.30662012e-07,  9.40420985e-07]],\n",
       "\n",
       "       [[ 1.15266752e-06,  1.21578312e-06,  1.80473804e-06, ...,\n",
       "         -8.85173619e-07,  1.35515559e-06,  3.74151677e-07],\n",
       "        [ 1.61433148e-06,  1.52593815e-06,  1.88826251e-06, ...,\n",
       "         -1.64256120e-06,  3.58110249e-07, -6.14509165e-07],\n",
       "        [ 5.08453250e-07,  8.13905418e-07,  1.63802373e-06, ...,\n",
       "          4.74537373e-07,  2.28427505e-06,  1.19491792e-06],\n",
       "        ...,\n",
       "        [ 1.18793666e-06,  1.08780324e-06,  1.04105616e-06, ...,\n",
       "         -1.76938176e-06, -3.50370717e-06, -2.75597334e-06],\n",
       "        [ 1.38832343e-06,  9.37194109e-07,  7.91925311e-07, ...,\n",
       "         -7.44177699e-07, -3.32396388e-06, -2.86100245e-06],\n",
       "        [ 6.56207800e-07,  3.22559416e-07, -1.72527686e-07, ...,\n",
       "         -3.54956985e-07, -2.42556477e-06, -1.13998365e-06]],\n",
       "\n",
       "       [[-2.06872201e-06, -2.40883636e-06, -2.41654158e-06, ...,\n",
       "         -2.23191667e-06, -2.88269401e-06, -1.64880300e-06],\n",
       "        [ 3.65542144e-07,  6.22134268e-07,  8.34728539e-07, ...,\n",
       "         -2.44369102e-06, -2.34017515e-06, -3.11786294e-07],\n",
       "        [-5.70304489e-06, -6.57424402e-06, -6.58970737e-06, ...,\n",
       "         -5.45900702e-07, -1.67898977e-06, -1.31568372e-06],\n",
       "        ...,\n",
       "        [ 3.31301427e-06,  4.41226768e-06,  4.64651585e-06, ...,\n",
       "         -8.57817709e-07,  7.72025585e-07,  1.32255375e-06],\n",
       "        [ 4.21688414e-06,  3.05624771e-06,  1.51646459e-06, ...,\n",
       "          5.99199712e-07,  2.11779118e-06,  1.45120215e-06],\n",
       "        [ 3.80278850e-06,  4.18043375e-06,  3.78569722e-06, ...,\n",
       "         -5.51762044e-07,  3.23592335e-07, -7.38883376e-07]],\n",
       "\n",
       "       ...,\n",
       "\n",
       "       [[ 8.40759128e-08, -1.57333672e-06, -9.48710799e-07, ...,\n",
       "          2.69473910e-06,  2.47456813e-06,  2.69141793e-06],\n",
       "        [-5.99593103e-07, -2.45523334e-06, -1.98240423e-06, ...,\n",
       "          1.28038990e-06,  8.20977449e-07,  1.12588060e-06],\n",
       "        [ 1.62836468e-06,  6.28443241e-07,  1.21276999e-06, ...,\n",
       "          3.29181314e-06,  3.41791153e-06,  3.67030478e-06],\n",
       "        ...,\n",
       "        [-2.31733203e-07, -1.75051615e-08, -5.31765401e-07, ...,\n",
       "         -2.39777088e-06, -2.36420631e-06, -1.84117627e-06],\n",
       "        [ 5.14825106e-07,  1.15124536e-06,  7.57811964e-07, ...,\n",
       "         -1.40746102e-07,  9.68011141e-07,  1.59989679e-06],\n",
       "        [-2.03472614e-06, -1.07073450e-06, -1.40429163e-06, ...,\n",
       "         -1.69092274e-06, -1.42403603e-06, -1.47104156e-06]],\n",
       "\n",
       "       [[-9.15362740e-06, -1.00666018e-05, -1.20323963e-05, ...,\n",
       "          2.71504760e-07,  1.50977623e-06,  5.84359825e-07],\n",
       "        [-6.54156971e-06, -7.03790951e-06, -8.95597649e-06, ...,\n",
       "          5.04014969e-07,  1.94622529e-06,  1.36831892e-06],\n",
       "        [-8.96664524e-06, -9.64853477e-06, -1.09490423e-05, ...,\n",
       "          5.59937835e-07,  1.08600020e-06, -3.20409089e-07],\n",
       "        ...,\n",
       "        [ 5.75349903e-06,  6.62956285e-06,  8.29707527e-06, ...,\n",
       "         -1.56728280e-06, -2.33713937e-06, -2.29552579e-06],\n",
       "        [ 5.27941084e-06,  5.23042488e-06,  6.75172091e-06, ...,\n",
       "         -3.63022590e-06, -5.69417286e-06, -6.47115135e-06],\n",
       "        [ 5.80425596e-06,  5.99849558e-06,  7.86825991e-06, ...,\n",
       "         -1.57776725e-06, -2.33172941e-06, -1.47536647e-06]],\n",
       "\n",
       "       [[ 5.92984247e-06,  8.57506084e-06,  4.49653053e-06, ...,\n",
       "         -3.04768133e-06, -2.12602305e-06, -1.81982636e-06],\n",
       "        [ 4.27197409e-06,  6.34435129e-06,  2.00403285e-06, ...,\n",
       "         -1.47213304e-06, -4.94584560e-07, -1.27517506e-07],\n",
       "        [ 5.17700911e-06,  8.41977310e-06,  5.96687460e-06, ...,\n",
       "         -4.18947315e-06, -3.32666659e-06, -2.89655924e-06],\n",
       "        ...,\n",
       "        [-4.65969515e-06, -6.74706697e-06, -4.56943703e-06, ...,\n",
       "          3.97009182e-06,  3.24522495e-06,  3.28103614e-06],\n",
       "        [-3.85360360e-06, -6.40273237e-06, -3.45681715e-06, ...,\n",
       "          4.22309923e-06,  1.44249916e-06, -3.79451513e-08],\n",
       "        [-4.07419062e-06, -6.95076752e-06, -3.39809370e-06, ...,\n",
       "          3.47596931e-06,  1.94754934e-06,  1.41958296e-06]]]),\n",
       "       array([[[-2.95266366e-06, -3.25491023e-06, -3.35460472e-06, ...,\n",
       "          2.24203736e-07, -2.07784116e-07, -4.16803420e-07],\n",
       "        [-2.54295754e-06, -2.48787117e-06, -2.04363370e-06, ...,\n",
       "          2.12144542e-06,  2.42508292e-06,  3.16847038e-06],\n",
       "        [-2.45444393e-06, -3.03178763e-06, -3.63376284e-06, ...,\n",
       "         -2.44284582e-06, -3.37079859e-06, -4.24807358e-06],\n",
       "        ...,\n",
       "        [ 5.62754917e-06,  7.59816933e-06,  7.96930265e-06, ...,\n",
       "          2.45366597e-06,  2.06070542e-06,  1.35208702e-06],\n",
       "        [ 4.44731998e-06,  5.80371809e-06,  5.32793856e-06, ...,\n",
       "          1.63033092e-06,  3.87214005e-07, -1.26747191e-06],\n",
       "        [ 2.28866792e-06,  3.36566067e-06,  2.96693230e-06, ...,\n",
       "          9.57137525e-07,  1.11624837e-07, -1.03818047e-06]],\n",
       "\n",
       "       [[ 2.52020931e-06,  1.48314190e-06, -2.37470984e-07, ...,\n",
       "         -1.59487891e-06, -1.47857234e-07,  5.69318533e-08],\n",
       "        [ 1.48755324e-06,  6.81526661e-07, -2.11112118e-06, ...,\n",
       "          1.57938361e-06,  3.47219181e-06,  4.00812483e-06],\n",
       "        [ 1.02917886e-06,  5.11457682e-07,  1.09618676e-06, ...,\n",
       "         -3.03257799e-06, -2.95854521e-06, -3.26366282e-06],\n",
       "        ...,\n",
       "        [ 1.07721841e-06,  6.08536184e-07, -8.17062080e-07, ...,\n",
       "         -4.44499350e-06, -3.86548591e-06, -3.52783966e-06],\n",
       "        [ 1.08784807e-06,  8.18788886e-07,  1.13010645e-07, ...,\n",
       "         -5.11777687e-06, -4.98616171e-06, -4.76007080e-06],\n",
       "        [ 1.03008652e-06,  9.57023799e-07, -3.51233363e-07, ...,\n",
       "         -3.00197005e-06, -2.45964909e-06, -1.93957150e-06]],\n",
       "\n",
       "       [[-2.08471918e-06, -1.97047043e-06, -1.76560175e-06, ...,\n",
       "         -2.71001840e-06, -3.24499154e-06, -3.61559677e-06],\n",
       "        [-2.11885786e-06, -3.12715602e-06, -3.97501898e-06, ...,\n",
       "          4.09317493e-07,  2.71199316e-07, -2.83816099e-07],\n",
       "        [-1.16333151e-06,  3.99253190e-07,  1.65858960e-06, ...,\n",
       "         -4.92847061e-06, -5.48834085e-06, -5.65170527e-06],\n",
       "        ...,\n",
       "        [ 3.78279710e-06,  1.82647276e-06,  3.80800605e-07, ...,\n",
       "          9.30705070e-06,  8.70224571e-06,  8.78831482e-06],\n",
       "        [ 3.16372776e-06,  2.26763535e-06,  1.58712757e-06, ...,\n",
       "          6.62594175e-06,  5.90003061e-06,  6.15695381e-06],\n",
       "        [ 2.51932049e-06,  1.60379910e-06,  8.29730809e-07, ...,\n",
       "          5.19613743e-06,  4.92200613e-06,  5.27487850e-06]],\n",
       "\n",
       "       ...,\n",
       "\n",
       "       [[-6.66271567e-07, -1.14101040e-06, -1.58683991e-06, ...,\n",
       "          1.30100501e-06,  9.81300950e-07,  1.12760961e-06],\n",
       "        [-1.23337400e-06, -2.07929063e-06, -2.90638494e-06, ...,\n",
       "         -2.71036053e-06, -1.92311382e-06, -1.33082616e-06],\n",
       "        [ 1.04439139e-06,  7.67278314e-07,  1.09825122e-06, ...,\n",
       "          4.76032495e-06,  3.74492788e-06,  2.99530602e-06],\n",
       "        ...,\n",
       "        [-6.67996883e-06, -2.91312885e-06, -1.74544168e-06, ...,\n",
       "         -1.84913135e-06, -2.65528846e-06, -5.90025306e-07],\n",
       "        [-7.53198528e-06, -4.18704510e-06, -2.73082471e-06, ...,\n",
       "          1.50688291e-06, -4.60019022e-07,  6.35007560e-07],\n",
       "        [-5.99551916e-06, -3.65959835e-06, -2.57230163e-06, ...,\n",
       "         -3.90301079e-07, -2.09900784e-06, -1.35085249e-06]],\n",
       "\n",
       "       [[-1.14058703e-07, -1.04407692e-06, -3.16492319e-07, ...,\n",
       "         -9.95429873e-07, -1.96007276e-06, -1.31761396e-06],\n",
       "        [-2.67709041e-06, -2.06773186e-06, -1.85872281e-06, ...,\n",
       "         -1.95408654e-06, -2.96212840e-06, -3.35452867e-06],\n",
       "        [ 2.64370918e-06,  5.10180593e-07,  1.37650549e-06, ...,\n",
       "          1.04018378e-06, -2.99266398e-07,  1.31400132e-06],\n",
       "        ...,\n",
       "        [-1.43606186e-07,  1.20919478e-06,  1.68495417e-07, ...,\n",
       "          1.45687366e-06,  6.63923025e-06,  6.04411745e-06],\n",
       "        [-2.73747444e-07, -5.57544529e-08, -7.52024651e-07, ...,\n",
       "          3.66026580e-07,  4.70934772e-06,  5.07985640e-06],\n",
       "        [-1.45602417e-06, -7.51539052e-07, -1.14741898e-06, ...,\n",
       "         -9.26463425e-07,  2.41575503e-06,  2.55024481e-06]],\n",
       "\n",
       "       [[ 1.52744257e-06,  8.31631184e-07, -4.73004103e-07, ...,\n",
       "          9.76917222e-08,  1.72847778e-07,  9.11089778e-07],\n",
       "        [-4.61478591e-07, -5.79110682e-07, -5.91257870e-07, ...,\n",
       "          7.14443147e-07,  1.78001666e-06,  2.08515096e-06],\n",
       "        [ 2.87120748e-06,  2.00020146e-06, -1.05151199e-07, ...,\n",
       "         -1.06952596e-06, -1.96774364e-06, -1.35517120e-06],\n",
       "        ...,\n",
       "        [-7.27632999e-07, -2.41384745e-07,  1.70920813e-06, ...,\n",
       "         -4.42937851e-06, -4.56230068e-06, -3.07927418e-06],\n",
       "        [-3.74236107e-07, -3.42427969e-07,  1.07726860e-06, ...,\n",
       "         -1.87994361e-06, -3.36582303e-06, -2.40558767e-06],\n",
       "        [-8.44726324e-07, -7.36413896e-07,  6.89485610e-07, ...,\n",
       "         -8.21363211e-07, -2.04215860e-06, -1.63705087e-06]]])],\n",
       "      dtype=object)"
      ]
     },
     "execution_count": 16,
     "metadata": {},
     "output_type": "execute_result"
    }
   ],
   "source": [
    "pp_rh_raw"
   ]
  },
  {
   "cell_type": "code",
   "execution_count": null,
   "metadata": {},
   "outputs": [],
   "source": []
  },
  {
   "cell_type": "code",
   "execution_count": 17,
   "metadata": {},
   "outputs": [
    {
     "data": {
      "text/plain": [
       "(52, 61, 1250)"
      ]
     },
     "execution_count": 17,
     "metadata": {},
     "output_type": "execute_result"
    }
   ],
   "source": [
    "pp_rh_raw[4].shape"
   ]
  },
  {
   "cell_type": "code",
   "execution_count": 18,
   "metadata": {},
   "outputs": [],
   "source": [
    "pp_rh = pp_rh_raw\n",
    "pnp_rh = pnp_rh_raw"
   ]
  },
  {
   "cell_type": "code",
   "execution_count": 19,
   "metadata": {},
   "outputs": [
    {
     "data": {
      "text/plain": [
       "472"
      ]
     },
     "execution_count": 19,
     "metadata": {},
     "output_type": "execute_result"
    }
   ],
   "source": [
    "pp_count = np.vstack(pp_rh).shape[0]\n",
    "pnp_count = np.vstack(pnp_rh).shape[0]\n",
    "pnp_count"
   ]
  },
  {
   "cell_type": "code",
   "execution_count": 20,
   "metadata": {},
   "outputs": [
    {
     "data": {
      "text/plain": [
       "(9,)"
      ]
     },
     "execution_count": 20,
     "metadata": {},
     "output_type": "execute_result"
    }
   ],
   "source": [
    "pnp_rh.shape"
   ]
  },
  {
   "cell_type": "markdown",
   "metadata": {},
   "source": [
    "Set some patients aside for testing"
   ]
  },
  {
   "cell_type": "code",
   "execution_count": null,
   "metadata": {},
   "outputs": [],
   "source": []
  },
  {
   "cell_type": "code",
   "execution_count": 21,
   "metadata": {},
   "outputs": [
    {
     "data": {
      "text/plain": [
       "(19,)"
      ]
     },
     "execution_count": 21,
     "metadata": {},
     "output_type": "execute_result"
    }
   ],
   "source": [
    "pp_and_pnp_bp = np.concatenate((pp_rh, pnp_rh))\n",
    "pp_and_pnp_bp.shape"
   ]
  },
  {
   "cell_type": "code",
   "execution_count": 22,
   "metadata": {},
   "outputs": [],
   "source": [
    "# Returns a pair consisting of boolean (True is test patient is PP) and test label\n",
    "def test_setup(test_index, total_size):\n",
    "    test_is_pp = test_index < len(pp_rh)\n",
    "    test_label = 1 if test_is_pp else 0\n",
    "    return test_is_pp, test_label\n",
    "\n",
    "# Splits into train and test based on the index of the test patient\n",
    "# Returns pair of test and train\n",
    "def get_train_test(data, test_index):\n",
    "    return data[test_index], np.delete(data, test_index)\n",
    "\n",
    "# Returns pair of the lengths of PP train data and respectively PNP train data\n",
    "def get_pp_pnp_length(pp_count, pnp_count, test_count, test_is_pp):\n",
    "    pp_train_len = pp_count if not test_is_pp else pp_count - test_count\n",
    "    pnp_train_len = pnp_count if test_is_pp else pnp_count - test_count\n",
    "    return pp_train_len, pnp_train_len\n",
    "\n",
    "# Ravel first dimention so that trials from all patients are treated separately; select channels\n",
    "def ravel_all_trials(data, channels):\n",
    "    return np.array(list(map(np.ravel, data[:, channels, :])))"
   ]
  },
  {
   "cell_type": "code",
   "execution_count": 23,
   "metadata": {},
   "outputs": [
    {
     "data": {
      "text/plain": [
       "1"
      ]
     },
     "execution_count": 23,
     "metadata": {},
     "output_type": "execute_result"
    }
   ],
   "source": [
    "test_index = 4\n",
    "\n",
    "test_is_pp, test_label = test_setup(test_index, len(pp_rh))\n",
    "test_label"
   ]
  },
  {
   "cell_type": "code",
   "execution_count": 24,
   "metadata": {},
   "outputs": [
    {
     "data": {
      "text/plain": [
       "(52, 61, 1250)"
      ]
     },
     "execution_count": 24,
     "metadata": {},
     "output_type": "execute_result"
    }
   ],
   "source": [
    "test_p, train_p = get_train_test(pp_and_pnp_bp, test_index)\n",
    "test_p.shape"
   ]
  },
  {
   "cell_type": "code",
   "execution_count": 25,
   "metadata": {},
   "outputs": [
    {
     "data": {
      "text/plain": [
       "(948, 61, 1250)"
      ]
     },
     "execution_count": 25,
     "metadata": {},
     "output_type": "execute_result"
    }
   ],
   "source": [
    "train_p_separated = np.vstack(train_p)\n",
    "train_p_separated.shape"
   ]
  },
  {
   "cell_type": "code",
   "execution_count": null,
   "metadata": {},
   "outputs": [],
   "source": []
  },
  {
   "cell_type": "code",
   "execution_count": 26,
   "metadata": {},
   "outputs": [
    {
     "data": {
      "text/plain": [
       "476"
      ]
     },
     "execution_count": 26,
     "metadata": {},
     "output_type": "execute_result"
    }
   ],
   "source": [
    "pp_train_len, pnp_train_len = get_pp_pnp_length(pp_count, pnp_count, len(test_p), test_is_pp)\n",
    "pp_train_len"
   ]
  },
  {
   "cell_type": "code",
   "execution_count": null,
   "metadata": {},
   "outputs": [],
   "source": []
  },
  {
   "cell_type": "code",
   "execution_count": 27,
   "metadata": {},
   "outputs": [],
   "source": [
    "mul = 1"
   ]
  },
  {
   "cell_type": "code",
   "execution_count": 28,
   "metadata": {},
   "outputs": [],
   "source": [
    "selected_channels = [10, 11]"
   ]
  },
  {
   "cell_type": "code",
   "execution_count": 29,
   "metadata": {},
   "outputs": [
    {
     "data": {
      "text/plain": [
       "(948, 2500)"
      ]
     },
     "execution_count": 29,
     "metadata": {},
     "output_type": "execute_result"
    }
   ],
   "source": [
    "train = ravel_all_trials(train_p_separated, selected_channels) * mul\n",
    "train.shape"
   ]
  },
  {
   "cell_type": "code",
   "execution_count": 30,
   "metadata": {},
   "outputs": [
    {
     "data": {
      "text/plain": [
       "(52, 2500)"
      ]
     },
     "execution_count": 30,
     "metadata": {},
     "output_type": "execute_result"
    }
   ],
   "source": [
    "test = ravel_all_trials(test_p, selected_channels) * mul\n",
    "test.shape"
   ]
  },
  {
   "cell_type": "code",
   "execution_count": 31,
   "metadata": {},
   "outputs": [
    {
     "data": {
      "text/plain": [
       "array([[-1.57259107e-06, -1.91143250e-06, -2.00412655e-06, ...,\n",
       "        -1.05698869e-07,  6.48260955e-09, -1.14288419e-07],\n",
       "       [-5.91125965e-07, -1.21660113e-06, -1.58371139e-06, ...,\n",
       "         3.97451743e-08,  2.98238486e-07,  4.42019314e-07],\n",
       "       [-5.55669308e-07, -7.78844535e-07, -5.39072752e-07, ...,\n",
       "        -7.65290976e-07, -8.84335041e-07, -1.01513839e-06],\n",
       "       ...,\n",
       "       [ 1.83875918e-07, -2.94953704e-07,  2.98989117e-07, ...,\n",
       "         1.00983477e-06,  9.66930449e-07,  1.75250351e-07],\n",
       "       [-8.40782881e-07, -1.50597191e-06, -1.70167792e-06, ...,\n",
       "         4.03427696e-06,  5.49111605e-06,  5.10107708e-06],\n",
       "       [-4.01873636e-06, -5.06647968e-06, -5.15567446e-06, ...,\n",
       "         8.67120266e-07,  7.69105792e-07,  3.74425590e-07]])"
      ]
     },
     "execution_count": 31,
     "metadata": {},
     "output_type": "execute_result"
    }
   ],
   "source": [
    "train"
   ]
  },
  {
   "cell_type": "markdown",
   "metadata": {},
   "source": [
    "Some analysis of raw EEG"
   ]
  },
  {
   "cell_type": "code",
   "execution_count": 32,
   "metadata": {},
   "outputs": [],
   "source": [
    "import matplotlib.pyplot as plt"
   ]
  },
  {
   "cell_type": "code",
   "execution_count": 33,
   "metadata": {},
   "outputs": [],
   "source": [
    "pp_and_pnp_stacked = np.vstack(pp_and_pnp_bp)\n",
    "means = np.mean(pp_and_pnp_stacked, axis=0)"
   ]
  },
  {
   "cell_type": "code",
   "execution_count": 34,
   "metadata": {},
   "outputs": [
    {
     "data": {
      "text/plain": [
       "-31547.96762086449"
      ]
     },
     "execution_count": 34,
     "metadata": {},
     "output_type": "execute_result"
    }
   ],
   "source": [
    "mul = 10**10\n",
    "np.min(means*mul)"
   ]
  },
  {
   "cell_type": "code",
   "execution_count": 35,
   "metadata": {},
   "outputs": [],
   "source": [
    "plt_vmin = np.percentile(means, 2)\n",
    "plt_vmax = np.percentile(means, 98)"
   ]
  },
  {
   "cell_type": "code",
   "execution_count": 36,
   "metadata": {},
   "outputs": [
    {
     "data": {
      "text/plain": [
       "<matplotlib.image.AxesImage at 0x21486b9d828>"
      ]
     },
     "execution_count": 36,
     "metadata": {},
     "output_type": "execute_result"
    },
    {
     "data": {
      "image/png": "[encoded data removed]",
      "text/plain": [
       "<Figure size 1440x1440 with 1 Axes>"
      ]
     },
     "metadata": {
      "needs_background": "light"
     },
     "output_type": "display_data"
    }
   ],
   "source": [
    "plt.figure(figsize=(20,20))\n",
    "plt.imshow(means, vmin=plt_vmin, vmax=plt_vmax)"
   ]
  },
  {
   "cell_type": "code",
   "execution_count": 37,
   "metadata": {},
   "outputs": [],
   "source": [
    "stds = np.std(pp_and_pnp_stacked, axis=0)"
   ]
  },
  {
   "cell_type": "code",
   "execution_count": 38,
   "metadata": {},
   "outputs": [],
   "source": [
    "plt_vmin = np.percentile(stds, 5)\n",
    "plt_vmax = np.percentile(stds, 95)"
   ]
  },
  {
   "cell_type": "code",
   "execution_count": 39,
   "metadata": {},
   "outputs": [
    {
     "data": {
      "text/plain": [
       "<matplotlib.image.AxesImage at 0x21486c2f4a8>"
      ]
     },
     "execution_count": 39,
     "metadata": {},
     "output_type": "execute_result"
    },
    {
     "data": {
      "image/png": "[encoded data removed]",
      "text/plain": [
       "<Figure size 1440x1440 with 1 Axes>"
      ]
     },
     "metadata": {
      "needs_background": "light"
     },
     "output_type": "display_data"
    }
   ],
   "source": [
    "plt.figure(figsize=(20,20))\n",
    "plt.imshow(stds,vmin=plt_vmin, vmax=plt_vmax)"
   ]
  },
  {
   "cell_type": "code",
   "execution_count": null,
   "metadata": {},
   "outputs": [],
   "source": []
  },
  {
   "cell_type": "code",
   "execution_count": 40,
   "metadata": {},
   "outputs": [],
   "source": [
    "labels = [1] * pp_train_len + [0] * pnp_train_len\n",
    "test_labels = [test_label] * len(test)"
   ]
  },
  {
   "cell_type": "markdown",
   "metadata": {},
   "source": [
    "It's time to learn"
   ]
  },
  {
   "cell_type": "code",
   "execution_count": 41,
   "metadata": {},
   "outputs": [],
   "source": [
    "from sklearn import neighbors, svm\n",
    "from sklearn.model_selection import train_test_split"
   ]
  },
  {
   "cell_type": "code",
   "execution_count": 42,
   "metadata": {},
   "outputs": [],
   "source": [
    "knn = neighbors.KNeighborsClassifier(n_neighbors=130)"
   ]
  },
  {
   "cell_type": "code",
   "execution_count": 43,
   "metadata": {},
   "outputs": [],
   "source": [
    "x_train, x_test, y_train, y_test = train_test_split(train, labels, test_size=0.05)"
   ]
  },
  {
   "cell_type": "code",
   "execution_count": 44,
   "metadata": {},
   "outputs": [
    {
     "data": {
      "text/plain": [
       "KNeighborsClassifier(algorithm='auto', leaf_size=30, metric='minkowski',\n",
       "                     metric_params=None, n_jobs=None, n_neighbors=130, p=2,\n",
       "                     weights='uniform')"
      ]
     },
     "execution_count": 44,
     "metadata": {},
     "output_type": "execute_result"
    }
   ],
   "source": [
    "knn.fit(x_train, y_train)"
   ]
  },
  {
   "cell_type": "code",
   "execution_count": 45,
   "metadata": {},
   "outputs": [
    {
     "data": {
      "text/plain": [
       "0.5"
      ]
     },
     "execution_count": 45,
     "metadata": {},
     "output_type": "execute_result"
    }
   ],
   "source": [
    "knn.score(x_train, y_train)"
   ]
  },
  {
   "cell_type": "code",
   "execution_count": 46,
   "metadata": {},
   "outputs": [
    {
     "data": {
      "text/plain": [
       "0.5625"
      ]
     },
     "execution_count": 46,
     "metadata": {},
     "output_type": "execute_result"
    }
   ],
   "source": [
    "knn.score(x_test, y_test)"
   ]
  },
  {
   "cell_type": "code",
   "execution_count": 47,
   "metadata": {},
   "outputs": [
    {
     "data": {
      "text/plain": [
       "array([0, 0, 0, 0, 0, 0, 0, 0, 0, 0, 0, 0, 0, 0, 0, 0, 0, 0, 0, 0, 0, 0,\n",
       "       0, 0, 0, 0, 0, 0, 0, 0, 0, 0, 0, 0, 0, 0, 0, 0, 0, 0, 0, 0, 0, 0,\n",
       "       0, 0, 0, 0, 0, 0, 0, 0])"
      ]
     },
     "execution_count": 47,
     "metadata": {},
     "output_type": "execute_result"
    }
   ],
   "source": [
    "knn.predict(test)"
   ]
  },
  {
   "cell_type": "code",
   "execution_count": 48,
   "metadata": {},
   "outputs": [
    {
     "data": {
      "text/plain": [
       "0.0"
      ]
     },
     "execution_count": 48,
     "metadata": {},
     "output_type": "execute_result"
    }
   ],
   "source": [
    "np.count_nonzero(knn.predict(test) == test_labels)/len(test)"
   ]
  },
  {
   "cell_type": "markdown",
   "metadata": {},
   "source": [
    "### Cross validation"
   ]
  },
  {
   "cell_type": "code",
   "execution_count": 49,
   "metadata": {},
   "outputs": [],
   "source": [
    "def classify_knn_with_xvalid(data_pp_bp, data_pnp_bp, n_neighbours, selected_channels, test_index, mul, verbose=True):\n",
    "    \n",
    "    data_bp = np.concatenate((data_pp_bp, data_pnp_bp))\n",
    "    \n",
    "    test_is_pp, test_label = test_setup(test_index, len(data_pp_bp))\n",
    "    test_p, train_p = get_train_test(data_bp, test_index)\n",
    "    train_p_separated = np.vstack(train_p)\n",
    "    pp_train_len, pnp_train_len = get_pp_pnp_length(pp_count, pnp_count, len(test_p), test_is_pp)\n",
    "    \n",
    "    train = ravel_all_trials(train_p_separated, selected_channels) * mul\n",
    "    test = ravel_all_trials(test_p, selected_channels) * mul\n",
    "    \n",
    "    labels = [1] * pp_train_len + [0] * pnp_train_len\n",
    "    test_labels = [test_label] * len(test)\n",
    "    \n",
    "    if verbose:\n",
    "        print('Test index', test_index, 'Preparing to classify set of', pp_train_len, 'PP and', pnp_train_len, 'PNP.')\n",
    "    \n",
    "    clas = neighbors.KNeighborsClassifier(n_neighbors=n_neighbours)\n",
    "    clas.fit(train, labels)\n",
    "    train_acc = clas.score(train, labels)\n",
    "    test_acc = clas.score(test, test_labels)\n",
    "    \n",
    "    if verbose:\n",
    "        print('Train score:', train_acc, '  Test score:', test_acc)\n",
    "    \n",
    "    return test_acc\n",
    "    \n",
    "    "
   ]
  },
  {
   "cell_type": "code",
   "execution_count": 50,
   "metadata": {},
   "outputs": [
    {
     "name": "stdout",
     "output_type": "stream",
     "text": [
      "Test index 2 Preparing to classify set of 469 PP and 472 PNP.\n",
      "Train score: 0.5015940488841658   Test score: 0.01694915254237288\n"
     ]
    },
    {
     "data": {
      "text/plain": [
       "0.01694915254237288"
      ]
     },
     "execution_count": 50,
     "metadata": {},
     "output_type": "execute_result"
    }
   ],
   "source": [
    "classify_knn_with_xvalid(pp_rh, pnp_rh, 23, [0, 3, 10, 36], 2, 10000000000000)"
   ]
  },
  {
   "cell_type": "markdown",
   "metadata": {},
   "source": [
    "#### Cross validate over the whole dataset"
   ]
  },
  {
   "cell_type": "code",
   "execution_count": 51,
   "metadata": {},
   "outputs": [
    {
     "name": "stdout",
     "output_type": "stream",
     "text": [
      "Test index 0 Preparing to classify set of 471 PP and 472 PNP.\n",
      "Train score: 0.5164369034994698   Test score: 0.0\n",
      "Test index 1 Preparing to classify set of 469 PP and 472 PNP.\n",
      "Train score: 0.5217853347502657   Test score: 0.0\n",
      "Test index 2 Preparing to classify set of 469 PP and 472 PNP.\n",
      "Train score: 0.5026567481402763   Test score: 0.288135593220339\n",
      "Test index 3 Preparing to classify set of 477 PP and 472 PNP.\n",
      "Train score: 0.5173867228661749   Test score: 0.0\n",
      "Test index 4 Preparing to classify set of 476 PP and 472 PNP.\n",
      "Train score: 0.5242616033755274   Test score: 0.0\n",
      "Test index 5 Preparing to classify set of 471 PP and 472 PNP.\n",
      "Train score: 0.5302226935312832   Test score: 0.0\n",
      "Test index 6 Preparing to classify set of 473 PP and 472 PNP.\n",
      "Train score: 0.5238095238095238   Test score: 0.0\n",
      "Test index 7 Preparing to classify set of 496 PP and 472 PNP.\n",
      "Train score: 0.5103305785123967   Test score: 0.0\n",
      "Test index 8 Preparing to classify set of 476 PP and 472 PNP.\n",
      "Train score: 0.5253164556962026   Test score: 0.0\n",
      "Test index 9 Preparing to classify set of 474 PP and 472 PNP.\n",
      "Train score: 0.5274841437632135   Test score: 0.0\n",
      "Test index 10 Preparing to classify set of 528 PP and 422 PNP.\n",
      "Train score: 0.48   Test score: 1.0\n",
      "Test index 11 Preparing to classify set of 528 PP and 415 PNP.\n",
      "Train score: 0.46977730646871685   Test score: 1.0\n",
      "Test index 12 Preparing to classify set of 528 PP and 431 PNP.\n",
      "Train score: 0.48383733055265904   Test score: 1.0\n",
      "Test index 13 Preparing to classify set of 528 PP and 414 PNP.\n",
      "Train score: 0.4692144373673036   Test score: 1.0\n",
      "Test index 14 Preparing to classify set of 528 PP and 422 PNP.\n",
      "Train score: 0.4768421052631579   Test score: 1.0\n",
      "Test index 15 Preparing to classify set of 528 PP and 419 PNP.\n",
      "Train score: 0.47412882787750793   Test score: 1.0\n",
      "Test index 16 Preparing to classify set of 528 PP and 414 PNP.\n",
      "Train score: 0.4692144373673036   Test score: 1.0\n",
      "Test index 17 Preparing to classify set of 528 PP and 422 PNP.\n",
      "Train score: 0.4747368421052632   Test score: 1.0\n",
      "Test index 18 Preparing to classify set of 528 PP and 417 PNP.\n",
      "Train score: 0.473015873015873   Test score: 1.0\n",
      "0.4888492417484389\n",
      "Correctly labeled 9 out of 19\n"
     ]
    }
   ],
   "source": [
    "total_score = 0\n",
    "patients_correct = 0\n",
    "for i in range(len(pp_and_pnp_bp)):\n",
    "    score = classify_knn_with_xvalid(pp_rh, pnp_rh, 11, [36], i, mul)\n",
    "    total_score += score\n",
    "    if score > 0.5:\n",
    "        patients_correct += 1\n",
    "    \n",
    "# TODO log acc for each patient\n",
    "    \n",
    "print(total_score/len(pp_and_pnp_bp))\n",
    "print('Correctly labeled', patients_correct, 'out of', len(pp_and_pnp_bp))"
   ]
  },
  {
   "cell_type": "markdown",
   "metadata": {},
   "source": [
    "#### Cross validate over multiple channels"
   ]
  },
  {
   "cell_type": "code",
   "execution_count": 52,
   "metadata": {},
   "outputs": [
    {
     "name": "stdout",
     "output_type": "stream",
     "text": [
      "0 0.48689381374863955 9\n",
      "1 0.47261012271285535 11\n",
      "2 0.4147816947453971 8\n",
      "3 0.48248467936081896 9\n",
      "4 0.492738818106271 9\n",
      "5 0.5119536636245293 9\n",
      "6 0.4673004200397773 8\n",
      "7 0.4991387177744964 8\n",
      "8 0.5302976240729879 10\n",
      "9 0.50407801009277 10\n",
      "10 0.4143470062773695 9\n",
      "11 0.4330822301324621 7\n",
      "12 0.44165283488992574 9\n",
      "13 0.5034870544980321 9\n",
      "14 0.4837304538869535 9\n",
      "15 0.4710788110878241 8\n",
      "16 0.4957765024383711 9\n",
      "17 0.5075368625968194 11\n",
      "18 0.4460287716056655 8\n",
      "19 0.4572696559063674 8\n",
      "20 0.4790083279724657 9\n",
      "21 0.47558277009149724 9\n",
      "22 0.4954290570390889 9\n",
      "23 0.51106423209795 9\n",
      "24 0.4642292993159662 9\n",
      "25 0.5421045613974232 12\n",
      "26 0.5411656383658578 10\n",
      "27 0.5064405360325065 10\n",
      "28 0.46706371254560236 9\n",
      "29 0.4876762265513974 10\n",
      "30 0.4309259462696497 8\n",
      "31 0.5093207766919462 9\n",
      "32 0.4874579557907999 9\n",
      "33 0.49482618938259787 8\n",
      "34 0.5171949445413817 9\n",
      "35 0.48286226124689047 10\n",
      "36 0.49770959671048876 9\n",
      "37 0.5019277061602716 9\n",
      "38 0.49882897080418087 9\n",
      "39 0.5018383057455315 9\n",
      "40 0.4994504720768865 9\n",
      "41 0.494604210590198 9\n",
      "42 0.511669414189199 10\n",
      "43 0.46186948974638536 9\n",
      "44 0.4884545986033469 10\n",
      "45 0.5078969697823416 9\n",
      "46 0.4703357039911449 8\n",
      "47 0.501658194456167 9\n",
      "48 0.49536402843405697 9\n",
      "49 0.5131991349567524 9\n",
      "50 0.49303907806400254 9\n",
      "51 0.4992922419812301 9\n",
      "52 0.49454059610743917 9\n",
      "53 0.5103126931904712 9\n",
      "54 0.49126730169315813 9\n",
      "55 0.40957354486906317 7\n",
      "56 0.45911372558615793 9\n",
      "57 0.47415402580578503 10\n",
      "58 0.42005545422523566 8\n",
      "59 0.43646708527073785 7\n",
      "60 0.5155182646096986 10\n",
      "Max accuracy: 25 0.5421045613974232\n"
     ]
    }
   ],
   "source": [
    "file = open('all_results/eeg_knn_results.csv', 'a', newline='')\n",
    "name = 'Raw EEG + KNN'\n",
    "notes = 'k='\n",
    "\n",
    "previous_channels = []\n",
    "k = 3\n",
    "\n",
    "max_acc = {'index': 0, 'value': 0}\n",
    "for channel in range(61):    \n",
    "    total_score = 0\n",
    "    correct_patients = 0\n",
    "    for i in range(len(pp_and_pnp_bp)):\n",
    "        score = classify_knn_with_xvalid(pp_rh, pnp_rh, k, [channel], i, mul, verbose=False)\n",
    "        total_score += score\n",
    "        if score > 0.5:\n",
    "            correct_patients += 1\n",
    "        \n",
    "    avg_score = total_score/len(pp_and_pnp_bp)\n",
    "    print(channel, avg_score, correct_patients)\n",
    "    \n",
    "    log_result(file, name, avg_score, correct_patients, len(pp_and_pnp_bp), 'RH', str(previous_channels + [channel]), notes + str(k))\n",
    "    \n",
    "    if avg_score > max_acc['value']:\n",
    "        max_acc['index'] = channel\n",
    "        max_acc['value'] = avg_score\n",
    "        \n",
    "print('Max accuracy:', max_acc['index'], max_acc['value'])"
   ]
  },
  {
   "cell_type": "markdown",
   "metadata": {},
   "source": [
    "### Cross validate over multiple n_neighbours"
   ]
  },
  {
   "cell_type": "code",
   "execution_count": 34,
   "metadata": {},
   "outputs": [
    {
     "name": "stdout",
     "output_type": "stream",
     "text": [
      "1 0.5103561076237874 9\n",
      "11 0.48268741533683557 9\n",
      "21 0.47546833184656556 9\n",
      "31 0.47368421052631576 9\n"
     ]
    },
    {
     "ename": "KeyboardInterrupt",
     "evalue": "",
     "output_type": "error",
     "traceback": [
      "\u001b[1;31m---------------------------------------------------------------------------\u001b[0m",
      "\u001b[1;31mKeyboardInterrupt\u001b[0m                         Traceback (most recent call last)",
      "\u001b[1;32m<ipython-input-34-615a89c17d02>\u001b[0m in \u001b[0;36m<module>\u001b[1;34m\u001b[0m\n\u001b[0;32m     10\u001b[0m     \u001b[0mcorrect_patients\u001b[0m \u001b[1;33m=\u001b[0m \u001b[1;36m0\u001b[0m\u001b[1;33m\u001b[0m\u001b[1;33m\u001b[0m\u001b[0m\n\u001b[0;32m     11\u001b[0m     \u001b[1;32mfor\u001b[0m \u001b[0mi\u001b[0m \u001b[1;32min\u001b[0m \u001b[0mrange\u001b[0m\u001b[1;33m(\u001b[0m\u001b[0mlen\u001b[0m\u001b[1;33m(\u001b[0m\u001b[0mpp_and_pnp_bp\u001b[0m\u001b[1;33m)\u001b[0m\u001b[1;33m)\u001b[0m\u001b[1;33m:\u001b[0m\u001b[1;33m\u001b[0m\u001b[1;33m\u001b[0m\u001b[0m\n\u001b[1;32m---> 12\u001b[1;33m         \u001b[0mscore\u001b[0m \u001b[1;33m=\u001b[0m \u001b[0mclassify_knn_with_xvalid\u001b[0m\u001b[1;33m(\u001b[0m\u001b[0mpp_rh\u001b[0m\u001b[1;33m,\u001b[0m \u001b[0mpnp_rh\u001b[0m\u001b[1;33m,\u001b[0m \u001b[0mn_neighbours\u001b[0m\u001b[1;33m,\u001b[0m \u001b[0mchannels\u001b[0m\u001b[1;33m,\u001b[0m \u001b[0mi\u001b[0m\u001b[1;33m,\u001b[0m \u001b[0mmul\u001b[0m\u001b[1;33m,\u001b[0m \u001b[0mverbose\u001b[0m\u001b[1;33m=\u001b[0m\u001b[1;32mFalse\u001b[0m\u001b[1;33m)\u001b[0m\u001b[1;33m\u001b[0m\u001b[1;33m\u001b[0m\u001b[0m\n\u001b[0m\u001b[0;32m     13\u001b[0m         \u001b[0mtotal_score\u001b[0m \u001b[1;33m+=\u001b[0m \u001b[0mscore\u001b[0m\u001b[1;33m\u001b[0m\u001b[1;33m\u001b[0m\u001b[0m\n\u001b[0;32m     14\u001b[0m         \u001b[1;32mif\u001b[0m \u001b[0mscore\u001b[0m \u001b[1;33m>\u001b[0m \u001b[1;36m0.5\u001b[0m\u001b[1;33m:\u001b[0m\u001b[1;33m\u001b[0m\u001b[1;33m\u001b[0m\u001b[0m\n",
      "\u001b[1;32m<ipython-input-29-9a25f9b16d2c>\u001b[0m in \u001b[0;36mclassify_knn_with_xvalid\u001b[1;34m(data_pp_bp, data_pnp_bp, n_neighbours, selected_channels, test_index, mul, verbose)\u001b[0m\n\u001b[0;32m     19\u001b[0m     \u001b[0mclas\u001b[0m \u001b[1;33m=\u001b[0m \u001b[0mneighbors\u001b[0m\u001b[1;33m.\u001b[0m\u001b[0mKNeighborsClassifier\u001b[0m\u001b[1;33m(\u001b[0m\u001b[0mn_neighbors\u001b[0m\u001b[1;33m=\u001b[0m\u001b[0mn_neighbours\u001b[0m\u001b[1;33m)\u001b[0m\u001b[1;33m\u001b[0m\u001b[1;33m\u001b[0m\u001b[0m\n\u001b[0;32m     20\u001b[0m     \u001b[0mclas\u001b[0m\u001b[1;33m.\u001b[0m\u001b[0mfit\u001b[0m\u001b[1;33m(\u001b[0m\u001b[0mtrain\u001b[0m\u001b[1;33m,\u001b[0m \u001b[0mlabels\u001b[0m\u001b[1;33m)\u001b[0m\u001b[1;33m\u001b[0m\u001b[1;33m\u001b[0m\u001b[0m\n\u001b[1;32m---> 21\u001b[1;33m     \u001b[0mtrain_acc\u001b[0m \u001b[1;33m=\u001b[0m \u001b[0mclas\u001b[0m\u001b[1;33m.\u001b[0m\u001b[0mscore\u001b[0m\u001b[1;33m(\u001b[0m\u001b[0mtrain\u001b[0m\u001b[1;33m,\u001b[0m \u001b[0mlabels\u001b[0m\u001b[1;33m)\u001b[0m\u001b[1;33m\u001b[0m\u001b[1;33m\u001b[0m\u001b[0m\n\u001b[0m\u001b[0;32m     22\u001b[0m     \u001b[0mtest_acc\u001b[0m \u001b[1;33m=\u001b[0m \u001b[0mclas\u001b[0m\u001b[1;33m.\u001b[0m\u001b[0mscore\u001b[0m\u001b[1;33m(\u001b[0m\u001b[0mtest\u001b[0m\u001b[1;33m,\u001b[0m \u001b[0mtest_labels\u001b[0m\u001b[1;33m)\u001b[0m\u001b[1;33m\u001b[0m\u001b[1;33m\u001b[0m\u001b[0m\n\u001b[0;32m     23\u001b[0m \u001b[1;33m\u001b[0m\u001b[0m\n",
      "\u001b[1;32mD:\\etc\\software\\Anaconda\\lib\\site-packages\\sklearn\\base.py\u001b[0m in \u001b[0;36mscore\u001b[1;34m(self, X, y, sample_weight)\u001b[0m\n\u001b[0;32m    355\u001b[0m         \"\"\"\n\u001b[0;32m    356\u001b[0m         \u001b[1;32mfrom\u001b[0m \u001b[1;33m.\u001b[0m\u001b[0mmetrics\u001b[0m \u001b[1;32mimport\u001b[0m \u001b[0maccuracy_score\u001b[0m\u001b[1;33m\u001b[0m\u001b[1;33m\u001b[0m\u001b[0m\n\u001b[1;32m--> 357\u001b[1;33m         \u001b[1;32mreturn\u001b[0m \u001b[0maccuracy_score\u001b[0m\u001b[1;33m(\u001b[0m\u001b[0my\u001b[0m\u001b[1;33m,\u001b[0m \u001b[0mself\u001b[0m\u001b[1;33m.\u001b[0m\u001b[0mpredict\u001b[0m\u001b[1;33m(\u001b[0m\u001b[0mX\u001b[0m\u001b[1;33m)\u001b[0m\u001b[1;33m,\u001b[0m \u001b[0msample_weight\u001b[0m\u001b[1;33m=\u001b[0m\u001b[0msample_weight\u001b[0m\u001b[1;33m)\u001b[0m\u001b[1;33m\u001b[0m\u001b[1;33m\u001b[0m\u001b[0m\n\u001b[0m\u001b[0;32m    358\u001b[0m \u001b[1;33m\u001b[0m\u001b[0m\n\u001b[0;32m    359\u001b[0m \u001b[1;33m\u001b[0m\u001b[0m\n",
      "\u001b[1;32mD:\\etc\\software\\Anaconda\\lib\\site-packages\\sklearn\\neighbors\\classification.py\u001b[0m in \u001b[0;36mpredict\u001b[1;34m(self, X)\u001b[0m\n\u001b[0;32m    147\u001b[0m         \u001b[0mX\u001b[0m \u001b[1;33m=\u001b[0m \u001b[0mcheck_array\u001b[0m\u001b[1;33m(\u001b[0m\u001b[0mX\u001b[0m\u001b[1;33m,\u001b[0m \u001b[0maccept_sparse\u001b[0m\u001b[1;33m=\u001b[0m\u001b[1;34m'csr'\u001b[0m\u001b[1;33m)\u001b[0m\u001b[1;33m\u001b[0m\u001b[1;33m\u001b[0m\u001b[0m\n\u001b[0;32m    148\u001b[0m \u001b[1;33m\u001b[0m\u001b[0m\n\u001b[1;32m--> 149\u001b[1;33m         \u001b[0mneigh_dist\u001b[0m\u001b[1;33m,\u001b[0m \u001b[0mneigh_ind\u001b[0m \u001b[1;33m=\u001b[0m \u001b[0mself\u001b[0m\u001b[1;33m.\u001b[0m\u001b[0mkneighbors\u001b[0m\u001b[1;33m(\u001b[0m\u001b[0mX\u001b[0m\u001b[1;33m)\u001b[0m\u001b[1;33m\u001b[0m\u001b[1;33m\u001b[0m\u001b[0m\n\u001b[0m\u001b[0;32m    150\u001b[0m         \u001b[0mclasses_\u001b[0m \u001b[1;33m=\u001b[0m \u001b[0mself\u001b[0m\u001b[1;33m.\u001b[0m\u001b[0mclasses_\u001b[0m\u001b[1;33m\u001b[0m\u001b[1;33m\u001b[0m\u001b[0m\n\u001b[0;32m    151\u001b[0m         \u001b[0m_y\u001b[0m \u001b[1;33m=\u001b[0m \u001b[0mself\u001b[0m\u001b[1;33m.\u001b[0m\u001b[0m_y\u001b[0m\u001b[1;33m\u001b[0m\u001b[1;33m\u001b[0m\u001b[0m\n",
      "\u001b[1;32mD:\\etc\\software\\Anaconda\\lib\\site-packages\\sklearn\\neighbors\\base.py\u001b[0m in \u001b[0;36mkneighbors\u001b[1;34m(self, X, n_neighbors, return_distance)\u001b[0m\n\u001b[0;32m    452\u001b[0m                 delayed_query(\n\u001b[0;32m    453\u001b[0m                     self._tree, X[s], n_neighbors, return_distance)\n\u001b[1;32m--> 454\u001b[1;33m                 \u001b[1;32mfor\u001b[0m \u001b[0ms\u001b[0m \u001b[1;32min\u001b[0m \u001b[0mgen_even_slices\u001b[0m\u001b[1;33m(\u001b[0m\u001b[0mX\u001b[0m\u001b[1;33m.\u001b[0m\u001b[0mshape\u001b[0m\u001b[1;33m[\u001b[0m\u001b[1;36m0\u001b[0m\u001b[1;33m]\u001b[0m\u001b[1;33m,\u001b[0m \u001b[0mn_jobs\u001b[0m\u001b[1;33m)\u001b[0m\u001b[1;33m\u001b[0m\u001b[1;33m\u001b[0m\u001b[0m\n\u001b[0m\u001b[0;32m    455\u001b[0m             )\n\u001b[0;32m    456\u001b[0m         \u001b[1;32melse\u001b[0m\u001b[1;33m:\u001b[0m\u001b[1;33m\u001b[0m\u001b[1;33m\u001b[0m\u001b[0m\n",
      "\u001b[1;32mD:\\etc\\software\\Anaconda\\lib\\site-packages\\joblib\\parallel.py\u001b[0m in \u001b[0;36m__call__\u001b[1;34m(self, iterable)\u001b[0m\n\u001b[0;32m   1001\u001b[0m             \u001b[1;31m# remaining jobs.\u001b[0m\u001b[1;33m\u001b[0m\u001b[1;33m\u001b[0m\u001b[1;33m\u001b[0m\u001b[0m\n\u001b[0;32m   1002\u001b[0m             \u001b[0mself\u001b[0m\u001b[1;33m.\u001b[0m\u001b[0m_iterating\u001b[0m \u001b[1;33m=\u001b[0m \u001b[1;32mFalse\u001b[0m\u001b[1;33m\u001b[0m\u001b[1;33m\u001b[0m\u001b[0m\n\u001b[1;32m-> 1003\u001b[1;33m             \u001b[1;32mif\u001b[0m \u001b[0mself\u001b[0m\u001b[1;33m.\u001b[0m\u001b[0mdispatch_one_batch\u001b[0m\u001b[1;33m(\u001b[0m\u001b[0miterator\u001b[0m\u001b[1;33m)\u001b[0m\u001b[1;33m:\u001b[0m\u001b[1;33m\u001b[0m\u001b[1;33m\u001b[0m\u001b[0m\n\u001b[0m\u001b[0;32m   1004\u001b[0m                 \u001b[0mself\u001b[0m\u001b[1;33m.\u001b[0m\u001b[0m_iterating\u001b[0m \u001b[1;33m=\u001b[0m \u001b[0mself\u001b[0m\u001b[1;33m.\u001b[0m\u001b[0m_original_iterator\u001b[0m \u001b[1;32mis\u001b[0m \u001b[1;32mnot\u001b[0m \u001b[1;32mNone\u001b[0m\u001b[1;33m\u001b[0m\u001b[1;33m\u001b[0m\u001b[0m\n\u001b[0;32m   1005\u001b[0m \u001b[1;33m\u001b[0m\u001b[0m\n",
      "\u001b[1;32mD:\\etc\\software\\Anaconda\\lib\\site-packages\\joblib\\parallel.py\u001b[0m in \u001b[0;36mdispatch_one_batch\u001b[1;34m(self, iterator)\u001b[0m\n\u001b[0;32m    832\u001b[0m                 \u001b[1;32mreturn\u001b[0m \u001b[1;32mFalse\u001b[0m\u001b[1;33m\u001b[0m\u001b[1;33m\u001b[0m\u001b[0m\n\u001b[0;32m    833\u001b[0m             \u001b[1;32melse\u001b[0m\u001b[1;33m:\u001b[0m\u001b[1;33m\u001b[0m\u001b[1;33m\u001b[0m\u001b[0m\n\u001b[1;32m--> 834\u001b[1;33m                 \u001b[0mself\u001b[0m\u001b[1;33m.\u001b[0m\u001b[0m_dispatch\u001b[0m\u001b[1;33m(\u001b[0m\u001b[0mtasks\u001b[0m\u001b[1;33m)\u001b[0m\u001b[1;33m\u001b[0m\u001b[1;33m\u001b[0m\u001b[0m\n\u001b[0m\u001b[0;32m    835\u001b[0m                 \u001b[1;32mreturn\u001b[0m \u001b[1;32mTrue\u001b[0m\u001b[1;33m\u001b[0m\u001b[1;33m\u001b[0m\u001b[0m\n\u001b[0;32m    836\u001b[0m \u001b[1;33m\u001b[0m\u001b[0m\n",
      "\u001b[1;32mD:\\etc\\software\\Anaconda\\lib\\site-packages\\joblib\\parallel.py\u001b[0m in \u001b[0;36m_dispatch\u001b[1;34m(self, batch)\u001b[0m\n\u001b[0;32m    751\u001b[0m         \u001b[1;32mwith\u001b[0m \u001b[0mself\u001b[0m\u001b[1;33m.\u001b[0m\u001b[0m_lock\u001b[0m\u001b[1;33m:\u001b[0m\u001b[1;33m\u001b[0m\u001b[1;33m\u001b[0m\u001b[0m\n\u001b[0;32m    752\u001b[0m             \u001b[0mjob_idx\u001b[0m \u001b[1;33m=\u001b[0m \u001b[0mlen\u001b[0m\u001b[1;33m(\u001b[0m\u001b[0mself\u001b[0m\u001b[1;33m.\u001b[0m\u001b[0m_jobs\u001b[0m\u001b[1;33m)\u001b[0m\u001b[1;33m\u001b[0m\u001b[1;33m\u001b[0m\u001b[0m\n\u001b[1;32m--> 753\u001b[1;33m             \u001b[0mjob\u001b[0m \u001b[1;33m=\u001b[0m \u001b[0mself\u001b[0m\u001b[1;33m.\u001b[0m\u001b[0m_backend\u001b[0m\u001b[1;33m.\u001b[0m\u001b[0mapply_async\u001b[0m\u001b[1;33m(\u001b[0m\u001b[0mbatch\u001b[0m\u001b[1;33m,\u001b[0m \u001b[0mcallback\u001b[0m\u001b[1;33m=\u001b[0m\u001b[0mcb\u001b[0m\u001b[1;33m)\u001b[0m\u001b[1;33m\u001b[0m\u001b[1;33m\u001b[0m\u001b[0m\n\u001b[0m\u001b[0;32m    754\u001b[0m             \u001b[1;31m# A job can complete so quickly than its callback is\u001b[0m\u001b[1;33m\u001b[0m\u001b[1;33m\u001b[0m\u001b[1;33m\u001b[0m\u001b[0m\n\u001b[0;32m    755\u001b[0m             \u001b[1;31m# called before we get here, causing self._jobs to\u001b[0m\u001b[1;33m\u001b[0m\u001b[1;33m\u001b[0m\u001b[1;33m\u001b[0m\u001b[0m\n",
      "\u001b[1;32mD:\\etc\\software\\Anaconda\\lib\\site-packages\\joblib\\_parallel_backends.py\u001b[0m in \u001b[0;36mapply_async\u001b[1;34m(self, func, callback)\u001b[0m\n\u001b[0;32m    199\u001b[0m     \u001b[1;32mdef\u001b[0m \u001b[0mapply_async\u001b[0m\u001b[1;33m(\u001b[0m\u001b[0mself\u001b[0m\u001b[1;33m,\u001b[0m \u001b[0mfunc\u001b[0m\u001b[1;33m,\u001b[0m \u001b[0mcallback\u001b[0m\u001b[1;33m=\u001b[0m\u001b[1;32mNone\u001b[0m\u001b[1;33m)\u001b[0m\u001b[1;33m:\u001b[0m\u001b[1;33m\u001b[0m\u001b[1;33m\u001b[0m\u001b[0m\n\u001b[0;32m    200\u001b[0m         \u001b[1;34m\"\"\"Schedule a func to be run\"\"\"\u001b[0m\u001b[1;33m\u001b[0m\u001b[1;33m\u001b[0m\u001b[0m\n\u001b[1;32m--> 201\u001b[1;33m         \u001b[0mresult\u001b[0m \u001b[1;33m=\u001b[0m \u001b[0mImmediateResult\u001b[0m\u001b[1;33m(\u001b[0m\u001b[0mfunc\u001b[0m\u001b[1;33m)\u001b[0m\u001b[1;33m\u001b[0m\u001b[1;33m\u001b[0m\u001b[0m\n\u001b[0m\u001b[0;32m    202\u001b[0m         \u001b[1;32mif\u001b[0m \u001b[0mcallback\u001b[0m\u001b[1;33m:\u001b[0m\u001b[1;33m\u001b[0m\u001b[1;33m\u001b[0m\u001b[0m\n\u001b[0;32m    203\u001b[0m             \u001b[0mcallback\u001b[0m\u001b[1;33m(\u001b[0m\u001b[0mresult\u001b[0m\u001b[1;33m)\u001b[0m\u001b[1;33m\u001b[0m\u001b[1;33m\u001b[0m\u001b[0m\n",
      "\u001b[1;32mD:\\etc\\software\\Anaconda\\lib\\site-packages\\joblib\\_parallel_backends.py\u001b[0m in \u001b[0;36m__init__\u001b[1;34m(self, batch)\u001b[0m\n\u001b[0;32m    580\u001b[0m         \u001b[1;31m# Don't delay the application, to avoid keeping the input\u001b[0m\u001b[1;33m\u001b[0m\u001b[1;33m\u001b[0m\u001b[1;33m\u001b[0m\u001b[0m\n\u001b[0;32m    581\u001b[0m         \u001b[1;31m# arguments in memory\u001b[0m\u001b[1;33m\u001b[0m\u001b[1;33m\u001b[0m\u001b[1;33m\u001b[0m\u001b[0m\n\u001b[1;32m--> 582\u001b[1;33m         \u001b[0mself\u001b[0m\u001b[1;33m.\u001b[0m\u001b[0mresults\u001b[0m \u001b[1;33m=\u001b[0m \u001b[0mbatch\u001b[0m\u001b[1;33m(\u001b[0m\u001b[1;33m)\u001b[0m\u001b[1;33m\u001b[0m\u001b[1;33m\u001b[0m\u001b[0m\n\u001b[0m\u001b[0;32m    583\u001b[0m \u001b[1;33m\u001b[0m\u001b[0m\n\u001b[0;32m    584\u001b[0m     \u001b[1;32mdef\u001b[0m \u001b[0mget\u001b[0m\u001b[1;33m(\u001b[0m\u001b[0mself\u001b[0m\u001b[1;33m)\u001b[0m\u001b[1;33m:\u001b[0m\u001b[1;33m\u001b[0m\u001b[1;33m\u001b[0m\u001b[0m\n",
      "\u001b[1;32mD:\\etc\\software\\Anaconda\\lib\\site-packages\\joblib\\parallel.py\u001b[0m in \u001b[0;36m__call__\u001b[1;34m(self)\u001b[0m\n\u001b[0;32m    254\u001b[0m         \u001b[1;32mwith\u001b[0m \u001b[0mparallel_backend\u001b[0m\u001b[1;33m(\u001b[0m\u001b[0mself\u001b[0m\u001b[1;33m.\u001b[0m\u001b[0m_backend\u001b[0m\u001b[1;33m,\u001b[0m \u001b[0mn_jobs\u001b[0m\u001b[1;33m=\u001b[0m\u001b[0mself\u001b[0m\u001b[1;33m.\u001b[0m\u001b[0m_n_jobs\u001b[0m\u001b[1;33m)\u001b[0m\u001b[1;33m:\u001b[0m\u001b[1;33m\u001b[0m\u001b[1;33m\u001b[0m\u001b[0m\n\u001b[0;32m    255\u001b[0m             return [func(*args, **kwargs)\n\u001b[1;32m--> 256\u001b[1;33m                     for func, args, kwargs in self.items]\n\u001b[0m\u001b[0;32m    257\u001b[0m \u001b[1;33m\u001b[0m\u001b[0m\n\u001b[0;32m    258\u001b[0m     \u001b[1;32mdef\u001b[0m \u001b[0m__len__\u001b[0m\u001b[1;33m(\u001b[0m\u001b[0mself\u001b[0m\u001b[1;33m)\u001b[0m\u001b[1;33m:\u001b[0m\u001b[1;33m\u001b[0m\u001b[1;33m\u001b[0m\u001b[0m\n",
      "\u001b[1;32mD:\\etc\\software\\Anaconda\\lib\\site-packages\\joblib\\parallel.py\u001b[0m in \u001b[0;36m<listcomp>\u001b[1;34m(.0)\u001b[0m\n\u001b[0;32m    254\u001b[0m         \u001b[1;32mwith\u001b[0m \u001b[0mparallel_backend\u001b[0m\u001b[1;33m(\u001b[0m\u001b[0mself\u001b[0m\u001b[1;33m.\u001b[0m\u001b[0m_backend\u001b[0m\u001b[1;33m,\u001b[0m \u001b[0mn_jobs\u001b[0m\u001b[1;33m=\u001b[0m\u001b[0mself\u001b[0m\u001b[1;33m.\u001b[0m\u001b[0m_n_jobs\u001b[0m\u001b[1;33m)\u001b[0m\u001b[1;33m:\u001b[0m\u001b[1;33m\u001b[0m\u001b[1;33m\u001b[0m\u001b[0m\n\u001b[0;32m    255\u001b[0m             return [func(*args, **kwargs)\n\u001b[1;32m--> 256\u001b[1;33m                     for func, args, kwargs in self.items]\n\u001b[0m\u001b[0;32m    257\u001b[0m \u001b[1;33m\u001b[0m\u001b[0m\n\u001b[0;32m    258\u001b[0m     \u001b[1;32mdef\u001b[0m \u001b[0m__len__\u001b[0m\u001b[1;33m(\u001b[0m\u001b[0mself\u001b[0m\u001b[1;33m)\u001b[0m\u001b[1;33m:\u001b[0m\u001b[1;33m\u001b[0m\u001b[1;33m\u001b[0m\u001b[0m\n",
      "\u001b[1;32mD:\\etc\\software\\Anaconda\\lib\\site-packages\\sklearn\\neighbors\\base.py\u001b[0m in \u001b[0;36m_tree_query_parallel_helper\u001b[1;34m(tree, data, n_neighbors, return_distance)\u001b[0m\n\u001b[0;32m    289\u001b[0m     \u001b[0munder\u001b[0m \u001b[0mPyPy\u001b[0m\u001b[1;33m.\u001b[0m\u001b[1;33m\u001b[0m\u001b[1;33m\u001b[0m\u001b[0m\n\u001b[0;32m    290\u001b[0m     \"\"\"\n\u001b[1;32m--> 291\u001b[1;33m     \u001b[1;32mreturn\u001b[0m \u001b[0mtree\u001b[0m\u001b[1;33m.\u001b[0m\u001b[0mquery\u001b[0m\u001b[1;33m(\u001b[0m\u001b[0mdata\u001b[0m\u001b[1;33m,\u001b[0m \u001b[0mn_neighbors\u001b[0m\u001b[1;33m,\u001b[0m \u001b[0mreturn_distance\u001b[0m\u001b[1;33m)\u001b[0m\u001b[1;33m\u001b[0m\u001b[1;33m\u001b[0m\u001b[0m\n\u001b[0m\u001b[0;32m    292\u001b[0m \u001b[1;33m\u001b[0m\u001b[0m\n\u001b[0;32m    293\u001b[0m \u001b[1;33m\u001b[0m\u001b[0m\n",
      "\u001b[1;31mKeyboardInterrupt\u001b[0m: "
     ]
    }
   ],
   "source": [
    "file = open('all_results/eeg_knn_results.csv', 'a', newline='')\n",
    "name = 'Raw EEG + KNN'\n",
    "notes = 'k='\n",
    "\n",
    "channels = [0, 2, 11, 19, 33, 36, 37, 39, 43, 49, 50]\n",
    "\n",
    "max_acc = {'index': 0, 'value': 0}\n",
    "for n_neighbours in range(1, 200, 10):    \n",
    "    total_score = 0\n",
    "    correct_patients = 0\n",
    "    for i in range(len(pp_and_pnp_bp)):\n",
    "        score = classify_knn_with_xvalid(pp_rh, pnp_rh, n_neighbours, channels, i, mul, verbose=False)\n",
    "        total_score += score\n",
    "        if score > 0.5:\n",
    "            correct_patients += 1\n",
    "        \n",
    "    avg_score = total_score/len(pp_and_pnp_bp)\n",
    "    print(n_neighbours, avg_score, correct_patients)\n",
    "\n",
    "    log_result(file, name, avg_score, correct_patients, len(pp_and_pnp_bp), 'RH', str(channels), notes + str(n_neighbours))\n",
    "\n",
    "    if avg_score > max_acc['value']:\n",
    "        max_acc['index'] = n_neighbours\n",
    "        max_acc['value'] = avg_score\n",
    "        \n",
    "print('Max accuracy:', max_acc['index'], max_acc['value'])"
   ]
  },
  {
   "cell_type": "code",
   "execution_count": 35,
   "metadata": {},
   "outputs": [],
   "source": [
    "file.close()"
   ]
  },
  {
   "cell_type": "markdown",
   "metadata": {},
   "source": [
    "### SVM"
   ]
  },
  {
   "cell_type": "code",
   "execution_count": 36,
   "metadata": {},
   "outputs": [],
   "source": [
    "import warnings\n",
    "warnings.filterwarnings('ignore')"
   ]
  },
  {
   "cell_type": "code",
   "execution_count": 53,
   "metadata": {},
   "outputs": [],
   "source": [
    "def classify_svm_with_xvalid(data_pp_bp, data_pnp_bp, nu, selected_channels, test_index, mul, verbose=True):\n",
    "    \n",
    "    data_bp = np.concatenate((data_pp_bp, data_pnp_bp))\n",
    "    \n",
    "    test_is_pp, test_label = test_setup(test_index, len(data_pp_bp))\n",
    "    test_p, train_p = get_train_test(data_bp, test_index)\n",
    "    train_p_separated = np.vstack(train_p)\n",
    "    pp_train_len, pnp_train_len = get_pp_pnp_length(pp_count, pnp_count, len(test_p), test_is_pp)\n",
    "    \n",
    "    train = ravel_all_trials(train_p_separated, selected_channels) * mul\n",
    "    test = ravel_all_trials(test_p, selected_channels) * mul\n",
    "    \n",
    "    labels = [1] * pp_train_len + [0] * pnp_train_len\n",
    "    test_labels = [test_label] * len(test)\n",
    "    \n",
    "    if verbose:\n",
    "        print('Test index', test_index, 'Preparing to classify set of', pp_train_len, 'PP and', pnp_train_len, 'PNP.')\n",
    "    \n",
    "    clas = svm.NuSVC(nu=nu, kernel='linear')\n",
    "    clas.fit(train, labels)\n",
    "    train_acc = clas.score(train, labels)\n",
    "    test_acc = clas.score(test, test_labels)\n",
    "    \n",
    "    if verbose:\n",
    "        print('Train score:', train_acc, '  Test score:', test_acc)\n",
    "    \n",
    "    return test_acc\n",
    "    "
   ]
  },
  {
   "cell_type": "code",
   "execution_count": 54,
   "metadata": {},
   "outputs": [
    {
     "name": "stdout",
     "output_type": "stream",
     "text": [
      "Test index 0 Preparing to classify set of 471 PP and 472 PNP.\n",
      "Train score: 0.8589607635206787   Test score: 0.6140350877192983\n",
      "Test index 1 Preparing to classify set of 469 PP and 472 PNP.\n",
      "Train score: 0.8660998937300743   Test score: 0.8813559322033898\n",
      "Test index 2 Preparing to classify set of 469 PP and 472 PNP.\n",
      "Train score: 0.8682252922422954   Test score: 0.7457627118644068\n",
      "Test index 3 Preparing to classify set of 477 PP and 472 PNP.\n",
      "Train score: 0.863013698630137   Test score: 0.49019607843137253\n",
      "Test index 4 Preparing to classify set of 476 PP and 472 PNP.\n",
      "Train score: 0.8649789029535865   Test score: 0.7884615384615384\n",
      "Test index 5 Preparing to classify set of 471 PP and 472 PNP.\n",
      "Train score: 0.8663838812301167   Test score: 0.631578947368421\n",
      "Test index 6 Preparing to classify set of 473 PP and 472 PNP.\n",
      "Train score: 0.8582010582010582   Test score: 0.6909090909090909\n",
      "Test index 7 Preparing to classify set of 496 PP and 472 PNP.\n",
      "Train score: 0.8760330578512396   Test score: 0.40625\n",
      "Test index 8 Preparing to classify set of 476 PP and 472 PNP.\n",
      "Train score: 0.8544303797468354   Test score: 0.6153846153846154\n",
      "Test index 9 Preparing to classify set of 474 PP and 472 PNP.\n",
      "Train score: 0.86892177589852   Test score: 0.5740740740740741\n",
      "Test index 10 Preparing to classify set of 528 PP and 422 PNP.\n",
      "Train score: 0.8621052631578947   Test score: 0.1\n",
      "Test index 11 Preparing to classify set of 528 PP and 415 PNP.\n",
      "Train score: 0.8547189819724285   Test score: 0.3333333333333333\n",
      "Test index 12 Preparing to classify set of 528 PP and 431 PNP.\n",
      "Train score: 0.8602711157455682   Test score: 0.43902439024390244\n",
      "Test index 13 Preparing to classify set of 528 PP and 414 PNP.\n",
      "Train score: 0.8598726114649682   Test score: 0.6896551724137931\n",
      "Test index 14 Preparing to classify set of 528 PP and 422 PNP.\n",
      "Train score: 0.86   Test score: 0.34\n",
      "Test index 15 Preparing to classify set of 528 PP and 419 PNP.\n",
      "Train score: 0.8521647307286166   Test score: 0.5660377358490566\n",
      "Test index 16 Preparing to classify set of 528 PP and 414 PNP.\n",
      "Train score: 0.8577494692144374   Test score: 0.8620689655172413\n",
      "Test index 17 Preparing to classify set of 528 PP and 422 PNP.\n",
      "Train score: 0.8578947368421053   Test score: 0.62\n",
      "Test index 18 Preparing to classify set of 528 PP and 417 PNP.\n",
      "Train score: 0.8518518518518519   Test score: 0.4909090909090909\n",
      "0.572580882351717\n",
      "Correctly labeled 12 out of 19\n"
     ]
    }
   ],
   "source": [
    "total_score = 0\n",
    "patients_correct = 0\n",
    "for i in range(len(pp_and_pnp_bp)):\n",
    "    score = classify_svm_with_xvalid(pp_rh, pnp_rh, 0.7, [2, 26], i, mul)\n",
    "    total_score += score\n",
    "    if score > 0.5:\n",
    "        patients_correct += 1\n",
    "    \n",
    "\n",
    "print(total_score/len(pp_and_pnp_bp))\n",
    "print('Correctly labeled', patients_correct, 'out of', len(pp_and_pnp_bp))"
   ]
  },
  {
   "cell_type": "code",
   "execution_count": null,
   "metadata": {},
   "outputs": [],
   "source": []
  },
  {
   "cell_type": "code",
   "execution_count": null,
   "metadata": {},
   "outputs": [
    {
     "name": "stdout",
     "output_type": "stream",
     "text": [
      "0 0.594006721434017 14\n",
      "1 0.5649117440053197 13\n",
      "2 0.6044403802081719 14\n",
      "3 0.46417658783733523 9\n",
      "4 0.43878808896105 5\n",
      "5 0.4714220753458506 7\n",
      "6 0.45156163826786017 9\n",
      "7 0.5881126305966559 12\n",
      "8 0.5508995809466694 11\n",
      "9 0.49609618393412663 9\n",
      "10 0.4977347170378781 9\n",
      "11 0.47257548672895394 7\n",
      "12 0.4187076246054545 5\n",
      "13 0.37370249108163184 3\n",
      "14 0.4603437350549827 5\n",
      "15 0.4585831456260845 6\n",
      "16 0.5258980321393074 11\n",
      "17 0.5279779581290484 11\n",
      "18 0.6038808297930052 15\n",
      "19 0.5716465641746759 12\n",
      "20 0.5494417990929998 13\n",
      "21 0.4981285634288378 7\n",
      "22 0.4621434814399771 8\n",
      "23 0.4693804449068193 8\n",
      "24 0.4244195796901219 6\n",
      "25 0.5730059894933197 14\n",
      "26 0.5383771877355977 12\n",
      "27 0.4113810690220257 2\n",
      "28 0.4083260373980428 2\n",
      "29 0.40077185916865865 2\n",
      "30 0.40928373696823966 4\n",
      "31 0.3910065666981357 3\n",
      "32 0.43960394384320434 8\n",
      "33 0.44055015216060783 6\n",
      "34 0.47186107283563383 8\n",
      "35 0.5218673361330793 10\n"
     ]
    }
   ],
   "source": [
    "file = open('all_results/eeg_svm_results.csv', 'a', newline='')\n",
    "name = 'Raw EEG + SVM'\n",
    "notes = 'nu='\n",
    "\n",
    "previous_channels = []\n",
    "nu = 0.7\n",
    "\n",
    "max_acc = {'index': 0, 'value': 0}\n",
    "for channel in range(61)[37:]:    \n",
    "    total_score = 0\n",
    "    correct_patients = 0\n",
    "    for i in range(len(pp_and_pnp_bp)):\n",
    "        score = classify_svm_with_xvalid(pp_rh, pnp_rh, nu, previous_channels + [channel], i, mul, verbose=False)\n",
    "        total_score += score\n",
    "        if score > 0.5:\n",
    "            correct_patients += 1\n",
    "        \n",
    "    avg_score = total_score/len(pp_and_pnp_bp)\n",
    "    print(channel, avg_score, correct_patients)\n",
    "\n",
    "    log_result(file, name, avg_score, correct_patients, len(pp_and_pnp_bp), 'RH', str(previous_channels + [channel]), notes + str(nu))    \n",
    "    \n",
    "    if avg_score > max_acc['value']:\n",
    "        max_acc['index'] = channel\n",
    "        max_acc['value'] = avg_score\n",
    "        \n",
    "print('Max accuracy:', max_acc['index'], max_acc['value'])"
   ]
  },
  {
   "cell_type": "code",
   "execution_count": null,
   "metadata": {},
   "outputs": [],
   "source": []
  },
  {
   "cell_type": "code",
   "execution_count": 58,
   "metadata": {},
   "outputs": [
    {
     "name": "stdout",
     "output_type": "stream",
     "text": [
      "0.1 0.46270517349983775 9\n",
      "0.2 0.43512826068102156 8\n",
      "0.30000000000000004 0.5148066385595179 10\n",
      "0.4 0.4867335673892686 9\n",
      "0.5 0.5234396765127315 11\n",
      "0.6 0.5713423058445385 11\n",
      "0.7000000000000001 0.612085582398378 12\n",
      "Max accuracy: 0.7000000000000001 0.612085582398378\n"
     ]
    }
   ],
   "source": [
    "file = open('all_results/eeg_svm_results.csv', 'a', newline='')\n",
    "name = 'Raw EEG + SVM'\n",
    "notes = 'nu='\n",
    "\n",
    "channels = [4]\n",
    "\n",
    "max_acc = {'index': 0, 'value': 0}\n",
    "for nu in np.arange(0.1, 0.8, 0.1):    \n",
    "    total_score = 0\n",
    "    correct_patients = 0\n",
    "    for i in range(len(pp_and_pnp_bp)):\n",
    "        score = classify_svm_with_xvalid(pp_rh, pnp_rh, nu, channels, i, mul, verbose=False)\n",
    "        total_score += score\n",
    "        if score > 0.5:\n",
    "            correct_patients += 1\n",
    "        \n",
    "    avg_score = total_score/len(pp_and_pnp_bp)\n",
    "    print(nu, avg_score, correct_patients)\n",
    "    \n",
    "    log_result(file, name, avg_score, correct_patients, len(pp_and_pnp_bp), 'RH', str(channels), notes + str(nu))    \n",
    "    \n",
    "    if avg_score > max_acc['value']:\n",
    "        max_acc['index'] = nu\n",
    "        max_acc['value'] = avg_score\n",
    "        \n",
    "print('Max accuracy:', max_acc['index'], max_acc['value'])"
   ]
  },
  {
   "cell_type": "code",
   "execution_count": null,
   "metadata": {},
   "outputs": [],
   "source": []
  }
 ],
 "metadata": {
  "kernelspec": {
   "display_name": "Python 3",
   "language": "python",
   "name": "python3"
  },
  "language_info": {
   "codemirror_mode": {
    "name": "ipython",
    "version": 3
   },
   "file_extension": ".py",
   "mimetype": "text/x-python",
   "name": "python",
   "nbconvert_exporter": "python",
   "pygments_lexer": "ipython3",
   "version": "3.7.3"
  }
 },
 "nbformat": 4,
 "nbformat_minor": 2
}
