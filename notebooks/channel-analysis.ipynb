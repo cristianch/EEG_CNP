{
 "cells": [
  {
   "cell_type": "code",
   "execution_count": 9,
   "metadata": {},
   "outputs": [],
   "source": [
    "import sys\n",
    "import numpy as np\n",
    "import matplotlib.pyplot as plt\n",
    "import mne\n",
    "import glob\n",
    "import os"
   ]
  },
  {
   "cell_type": "code",
   "execution_count": 39,
   "metadata": {},
   "outputs": [],
   "source": [
    "local_path_0 = './../../../data/raw/HV/HV1/HV1_F1_L_Removed_ICA.set'\n",
    "local_path_1 = './../../../data_new/raw/PdP/PdP_1/PdP_1_RH.set'\n"
   ]
  },
  {
   "cell_type": "code",
   "execution_count": 40,
   "metadata": {},
   "outputs": [
    {
     "name": "stdout",
     "output_type": "stream",
     "text": [
      "Extracting parameters from ./../../../data/raw/HV/HV1/HV1_F1_L_Removed_ICA.set...\n",
      "56 matching events found\n",
      "No baseline correction applied\n",
      "Not setting metadata\n",
      "0 projection items activated\n",
      "Ready.\n",
      "Extracting parameters from ./../../../data_new/raw/PdP/PdP_1/PdP_1_RH.set...\n",
      "65 matching events found\n",
      "No baseline correction applied\n",
      "Not setting metadata\n"
     ]
    },
    {
     "name": "stderr",
     "output_type": "stream",
     "text": [
      "<ipython-input-40-67b776d7c4f8>:1: RuntimeWarning: At least one epoch has multiple events. Only the latency of the first event will be retained.\n",
      "  data = mne.io.read_epochs_eeglab(local_path_0)\n",
      "<ipython-input-40-67b776d7c4f8>:2: RuntimeWarning: At least one epoch has multiple events. Only the latency of the first event will be retained.\n",
      "  data_new = mne.io.read_epochs_eeglab(local_path_1)\n"
     ]
    },
    {
     "name": "stdout",
     "output_type": "stream",
     "text": [
      "0 projection items activated\n",
      "Ready.\n"
     ]
    }
   ],
   "source": [
    "data = mne.io.read_epochs_eeglab(local_path_0)\n",
    "data_new = mne.io.read_epochs_eeglab(local_path_1)"
   ]
  },
  {
   "cell_type": "code",
   "execution_count": 7,
   "metadata": {},
   "outputs": [
    {
     "data": {
      "text/plain": [
       "['Cz',\n",
       " 'C1',\n",
       " 'C2',\n",
       " 'C3',\n",
       " 'C4',\n",
       " 'C5',\n",
       " 'C6',\n",
       " 'C7',\n",
       " 'C8',\n",
       " 'FCz',\n",
       " 'FC1',\n",
       " 'FC2',\n",
       " 'FC3',\n",
       " 'FC4',\n",
       " 'FC5',\n",
       " 'FC6',\n",
       " 'FT7',\n",
       " 'FT8',\n",
       " 'CPz',\n",
       " 'CP1',\n",
       " 'CP2',\n",
       " 'CP3',\n",
       " 'CP4',\n",
       " 'CP5',\n",
       " 'CP6',\n",
       " 'TP7',\n",
       " 'TP8',\n",
       " 'Fz',\n",
       " 'F1',\n",
       " 'F2',\n",
       " 'F3',\n",
       " 'F4',\n",
       " 'F5',\n",
       " 'F6',\n",
       " 'F7',\n",
       " 'F8',\n",
       " 'Pz',\n",
       " 'P1',\n",
       " 'P2',\n",
       " 'P3',\n",
       " 'P4',\n",
       " 'P5',\n",
       " 'P6',\n",
       " 'P7',\n",
       " 'P8',\n",
       " 'AFz',\n",
       " 'AF3',\n",
       " 'AF4',\n",
       " 'AF7',\n",
       " 'AF8',\n",
       " 'Fp1',\n",
       " 'FP2',\n",
       " 'POz',\n",
       " 'PO3',\n",
       " 'PO4',\n",
       " 'PO7',\n",
       " 'PO8',\n",
       " 'Oz',\n",
       " 'O1',\n",
       " 'O2',\n",
       " 'Iz']"
      ]
     },
     "execution_count": 7,
     "metadata": {},
     "output_type": "execute_result"
    }
   ],
   "source": [
    "data.ch_names"
   ]
  },
  {
   "cell_type": "code",
   "execution_count": 42,
   "metadata": {},
   "outputs": [
    {
     "name": "stdout",
     "output_type": "stream",
     "text": [
      "0 Cz Fp1\n",
      "1 C1 Fpz\n",
      "2 C2 Fp2\n",
      "3 C3 F7\n",
      "4 C4 F3\n",
      "5 C5 F1\n",
      "6 C6 Fz\n",
      "7 C7 F2\n",
      "8 C8 F4\n",
      "9 FCz F8\n",
      "10 FC1 FC3\n",
      "11 FC2 FC1\n",
      "12 FC3 FCz\n",
      "13 FC4 FC2\n",
      "14 FC5 FC4\n",
      "15 FC6 FC6\n",
      "16 FT7 T7\n",
      "17 FT8 C5\n",
      "18 CPz C3\n",
      "19 CP1 C1\n",
      "20 CP2 Cz\n",
      "21 CP3 C2\n",
      "22 CP4 C4\n",
      "23 CP5 C6\n",
      "24 CP6 T8\n",
      "25 TP7 CP5\n",
      "26 TP8 CP3\n",
      "27 Fz CP1\n",
      "28 F1 CPz\n",
      "29 F2 CP2\n",
      "30 F3 CP4\n",
      "31 F4 CP6\n",
      "32 F5 P7\n",
      "33 F6 P5\n",
      "34 F7 P3\n",
      "35 F8 P1\n",
      "36 Pz Pz\n",
      "37 P1 P2\n",
      "38 P2 P4\n",
      "39 P3 P6\n",
      "40 P4 P8\n",
      "41 P5 PO3\n",
      "42 P6 POz\n",
      "43 P7 PO4\n",
      "44 P8 O1\n",
      "45 AFz Oz\n",
      "46 AF3 O2\n",
      "47 AF4 FC5\n",
      "48 AF7 \n",
      "49 AF8 \n",
      "50 Fp1 \n",
      "51 FP2 \n",
      "52 POz \n",
      "53 PO3 \n",
      "54 PO4 \n",
      "55 PO7 \n",
      "56 PO8 \n",
      "57 Oz \n",
      "58 O1 \n",
      "59 O2 \n",
      "60 Iz \n"
     ]
    }
   ],
   "source": [
    "for i in range(len(set.ch_names)):\n",
    "    print (i, data.ch_names[i], data_new.ch_names[i] if i<48 else '')"
   ]
  },
  {
   "cell_type": "code",
   "execution_count": null,
   "metadata": {},
   "outputs": [],
   "source": []
  },
  {
   "cell_type": "code",
   "execution_count": 10,
   "metadata": {},
   "outputs": [
    {
     "name": "stdout",
     "output_type": "stream",
     "text": [
      "\n",
      "BUILT-IN MONTAGE FILES\n",
      "======================\n",
      "['EGI_256.csd', 'GSN-HydroCel-128.sfp', 'GSN-HydroCel-129.sfp', 'GSN-HydroCel-256.sfp', 'GSN-HydroCel-257.sfp', 'GSN-HydroCel-32.sfp', 'GSN-HydroCel-64_1.0.sfp', 'GSN-HydroCel-65_1.0.sfp', 'biosemi128.txt', 'biosemi16.txt', 'biosemi160.txt', 'biosemi256.txt', 'biosemi32.txt', 'biosemi64.txt', 'easycap-M1.txt', 'easycap-M10.txt', 'mgh60.elc', 'mgh70.elc', 'standard_1005.elc', 'standard_1020.elc', 'standard_alphabetic.elc', 'standard_postfixed.elc', 'standard_prefixed.elc', 'standard_primed.elc']\n"
     ]
    }
   ],
   "source": [
    "montage_dir = os.path.join(os.path.dirname(mne.__file__),\n",
    "                           'channels', 'data', 'montages')\n",
    "print('\\nBUILT-IN MONTAGE FILES')\n",
    "print('======================')\n",
    "print(sorted(os.listdir(montage_dir)))"
   ]
  },
  {
   "cell_type": "code",
   "execution_count": 20,
   "metadata": {},
   "outputs": [
    {
     "data": {
      "text/plain": [
       "<DigMontage | 0 extras (headshape), 0 HPIs, 3 fiducials, 74 channels>"
      ]
     },
     "execution_count": 20,
     "metadata": {},
     "output_type": "execute_result"
    }
   ],
   "source": [
    "mne.channels.make_standard_montage('standard_prefixed')"
   ]
  },
  {
   "cell_type": "code",
   "execution_count": 34,
   "metadata": {},
   "outputs": [
    {
     "name": "stdout",
     "output_type": "stream",
     "text": [
      "<DigMontage | 0 extras (headshape), 0 HPIs, 3 fiducials, 256 channels>\n",
      "<DigMontage | 0 extras (headshape), 0 HPIs, 3 fiducials, 128 channels>\n",
      "<DigMontage | 0 extras (headshape), 0 HPIs, 3 fiducials, 129 channels>\n",
      "<DigMontage | 0 extras (headshape), 0 HPIs, 3 fiducials, 256 channels>\n",
      "<DigMontage | 0 extras (headshape), 0 HPIs, 3 fiducials, 257 channels>\n",
      "<DigMontage | 0 extras (headshape), 0 HPIs, 3 fiducials, 33 channels>\n",
      "<DigMontage | 0 extras (headshape), 0 HPIs, 3 fiducials, 64 channels>\n",
      "<DigMontage | 0 extras (headshape), 0 HPIs, 3 fiducials, 65 channels>\n",
      "<DigMontage | 0 extras (headshape), 0 HPIs, 3 fiducials, 128 channels>\n",
      "<DigMontage | 0 extras (headshape), 0 HPIs, 3 fiducials, 16 channels>\n",
      "<DigMontage | 0 extras (headshape), 0 HPIs, 3 fiducials, 160 channels>\n",
      "<DigMontage | 0 extras (headshape), 0 HPIs, 3 fiducials, 256 channels>\n",
      "<DigMontage | 0 extras (headshape), 0 HPIs, 3 fiducials, 32 channels>\n",
      "<DigMontage | 0 extras (headshape), 0 HPIs, 3 fiducials, 64 channels>\n",
      "<DigMontage | 0 extras (headshape), 0 HPIs, 3 fiducials, 74 channels>\n",
      "<DigMontage | 0 extras (headshape), 0 HPIs, 3 fiducials, 74 channels>\n",
      "<DigMontage | 0 extras (headshape), 0 HPIs, 3 fiducials, 60 channels>\n",
      "<DigMontage | 0 extras (headshape), 0 HPIs, 3 fiducials, 70 channels>\n",
      "<DigMontage | 0 extras (headshape), 0 HPIs, 3 fiducials, 343 channels>\n",
      "<DigMontage | 0 extras (headshape), 0 HPIs, 3 fiducials, 94 channels>\n",
      "<DigMontage | 0 extras (headshape), 0 HPIs, 3 fiducials, 65 channels>\n",
      "<DigMontage | 0 extras (headshape), 0 HPIs, 3 fiducials, 100 channels>\n",
      "<DigMontage | 0 extras (headshape), 0 HPIs, 3 fiducials, 74 channels>\n",
      "<DigMontage | 0 extras (headshape), 0 HPIs, 3 fiducials, 100 channels>\n"
     ]
    }
   ],
   "source": [
    "for mf in sorted(os.listdir(montage_dir)):\n",
    "    print(mne.channels.make_standard_montage(mf[:-4]))"
   ]
  },
  {
   "cell_type": "code",
   "execution_count": null,
   "metadata": {},
   "outputs": [],
   "source": []
  },
  {
   "cell_type": "code",
   "execution_count": null,
   "metadata": {},
   "outputs": [],
   "source": []
  },
  {
   "cell_type": "code",
   "execution_count": null,
   "metadata": {},
   "outputs": [],
   "source": []
  }
 ],
 "metadata": {
  "kernelspec": {
   "display_name": "Python 3",
   "language": "python",
   "name": "python3"
  },
  "language_info": {
   "codemirror_mode": {
    "name": "ipython",
    "version": 3
   },
   "file_extension": ".py",
   "mimetype": "text/x-python",
   "name": "python",
   "nbconvert_exporter": "python",
   "pygments_lexer": "ipython3",
   "version": "3.7.3"
  }
 },
 "nbformat": 4,
 "nbformat_minor": 2
}
