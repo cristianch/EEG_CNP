{
 "cells": [
  {
   "cell_type": "code",
   "execution_count": 1,
   "metadata": {
    "colab": {
     "base_uri": "https://localhost:8080/",
     "height": 71
    },
    "colab_type": "code",
    "executionInfo": {
     "elapsed": 3131,
     "status": "ok",
     "timestamp": 1570552276748,
     "user": {
      "displayName": "cristian chirion",
      "photoUrl": "",
      "userId": "18164099237135026694"
     },
     "user_tz": -60
    },
    "id": "3OOnx5UkNR7H",
    "outputId": "f523639b-169d-41f2-b9ca-b32dd72901b9"
   },
   "outputs": [],
   "source": [
    "import sys\n",
    "import numpy as np\n",
    "import matplotlib.pyplot as plt\n",
    "import mne\n",
    "import glob"
   ]
  },
  {
   "cell_type": "code",
   "execution_count": 2,
   "metadata": {
    "colab": {},
    "colab_type": "code",
    "id": "XgoSj_UtNR7J"
   },
   "outputs": [],
   "source": [
    "local_path = './../../../data/raw/HV/HV1/HV1_F1_L_Removed_ICA.set'\n"
   ]
  },
  {
   "cell_type": "code",
   "execution_count": 74,
   "metadata": {},
   "outputs": [],
   "source": [
    "# Returns relevant datasets (f.e. all right-hand recordings of healthy patients) as a list of np arrays\n",
    "def get_datasets(patient_type_location, recording_type_expression):\n",
    "    if recording_type_expression != l_new:\n",
    "        sets_locations = glob.glob(patient_type_location + recording_type_expression + suffix)\n",
    "    else:\n",
    "        sets_locations = glob.glob(patient_type_location + recording_type_expression)\n",
    "    \n",
    "    sets = []\n",
    "    for path in sets_locations: \n",
    "        sets.append(mne.io.read_epochs_eeglab(path))\n",
    "        \n",
    "    return [patient._data[:2] for patient in sets]"
   ]
  },
  {
   "cell_type": "code",
   "execution_count": 219,
   "metadata": {},
   "outputs": [
    {
     "data": {
      "text/plain": [
       "['./../../../data_new/raw/PnP\\\\PnP_1\\\\PnP_1_LH.set',\n",
       " './../../../data_new/raw/PnP\\\\PnP_10\\\\PnP_10_LH.set',\n",
       " './../../../data_new/raw/PnP\\\\PnP_2\\\\PnP_2_LH.set',\n",
       " './../../../data_new/raw/PnP\\\\PnP_3\\\\PnP_3_LH.set',\n",
       " './../../../data_new/raw/PnP\\\\PnP_4\\\\PnP_4_LH.set',\n",
       " './../../../data_new/raw/PnP\\\\PnP_5\\\\PnP_5_LH.set',\n",
       " './../../../data_new/raw/PnP\\\\PnP_6\\\\PnP_6_LH.set',\n",
       " './../../../data_new/raw/PnP\\\\PnP_7\\\\PnP_7_LH.set',\n",
       " './../../../data_new/raw/PnP\\\\PnP_8\\\\PnP_8_LH.set',\n",
       " './../../../data_new/raw/PnP\\\\PnP_9\\\\PnP_9_LH.set']"
      ]
     },
     "execution_count": 219,
     "metadata": {},
     "output_type": "execute_result"
    }
   ],
   "source": [
    "root = './../../../'\n",
    "suffix = '*.set'\n",
    "\n",
    "location_healthy = root + 'data/raw/HV/*/'\n",
    "location_pain = root + 'data/raw/PP/*/'\n",
    "location_nopain = root + 'data/raw/PnP/*/'\n",
    "\n",
    "location_pwp = root + 'data_new/raw/PwP/*/'\n",
    "location_pdp = root + 'data_new/raw/PdP/*/'\n",
    "location_pnp = root + 'data_new/raw/PnP/*/'\n",
    "\n",
    "\n",
    "rh = '*_RH*'\n",
    "lh = '*_LH*'\n",
    "l_new = '*_L.set'   # NO SUFFIX\n",
    "l_old = '*_L_*'\n",
    "\n",
    "sets_healthy_rh = glob.glob(location_pnp + lh + suffix)\n",
    "\n",
    "sets_healthy_rh"
   ]
  },
  {
   "cell_type": "code",
   "execution_count": 76,
   "metadata": {},
   "outputs": [
    {
     "name": "stdout",
     "output_type": "stream",
     "text": [
      "Extracting parameters from ./../../../data/raw/HV\\HV1\\HV1_F1_RH_Removed_ICA.set...\n",
      "56 matching events found\n",
      "No baseline correction applied\n",
      "Not setting metadata\n",
      "0 projection items activated\n",
      "Ready.\n"
     ]
    },
    {
     "name": "stderr",
     "output_type": "stream",
     "text": [
      "<ipython-input-74-4f4e7cbd203b>:10: RuntimeWarning: At least one epoch has multiple events. Only the latency of the first event will be retained.\n",
      "  sets.append(mne.io.read_epochs_eeglab(path))\n",
      "<ipython-input-74-4f4e7cbd203b>:10: RuntimeWarning: At least one epoch has multiple events. Only the latency of the first event will be retained.\n",
      "  sets.append(mne.io.read_epochs_eeglab(path))\n"
     ]
    },
    {
     "name": "stdout",
     "output_type": "stream",
     "text": [
      "Extracting parameters from ./../../../data/raw/HV\\HV10\\HV10_F1_RH_Removed_ICA.set...\n",
      "54 matching events found\n",
      "No baseline correction applied\n",
      "Not setting metadata\n",
      "0 projection items activated\n",
      "Ready.\n",
      "Extracting parameters from ./../../../data/raw/HV\\HV2\\HV2_F1_RH_Removed_ICA.set...\n",
      "54 matching events found\n",
      "No baseline correction applied\n",
      "Not setting metadata\n"
     ]
    },
    {
     "name": "stderr",
     "output_type": "stream",
     "text": [
      "<ipython-input-74-4f4e7cbd203b>:10: RuntimeWarning: At least one epoch has multiple events. Only the latency of the first event will be retained.\n",
      "  sets.append(mne.io.read_epochs_eeglab(path))\n"
     ]
    },
    {
     "name": "stdout",
     "output_type": "stream",
     "text": [
      "0 projection items activated\n",
      "Ready.\n",
      "Extracting parameters from ./../../../data/raw/HV\\HV3\\HV3_F1_RH_Removed_ICA.set...\n",
      "58 matching events found\n",
      "No baseline correction applied\n",
      "Not setting metadata\n",
      "0 projection items activated\n",
      "Ready.\n",
      "Extracting parameters from ./../../../data/raw/HV\\HV4\\HV4_F1_RH_Removed_ICA.set...\n",
      "52 matching events found\n",
      "No baseline correction applied\n",
      "Not setting metadata\n"
     ]
    },
    {
     "name": "stderr",
     "output_type": "stream",
     "text": [
      "<ipython-input-74-4f4e7cbd203b>:10: RuntimeWarning: At least one epoch has multiple events. Only the latency of the first event will be retained.\n",
      "  sets.append(mne.io.read_epochs_eeglab(path))\n",
      "<ipython-input-74-4f4e7cbd203b>:10: RuntimeWarning: At least one epoch has multiple events. Only the latency of the first event will be retained.\n",
      "  sets.append(mne.io.read_epochs_eeglab(path))\n"
     ]
    },
    {
     "name": "stdout",
     "output_type": "stream",
     "text": [
      "0 projection items activated\n",
      "Ready.\n",
      "Extracting parameters from ./../../../data/raw/HV\\HV5\\HV5_F1_RH_Removed_ICA.set...\n",
      "57 matching events found\n",
      "No baseline correction applied\n",
      "Not setting metadata\n",
      "0 projection items activated\n",
      "Ready.\n",
      "Extracting parameters from ./../../../data/raw/HV\\HV6\\HV6_F1_RH_Removed_ICA.set...\n"
     ]
    },
    {
     "name": "stderr",
     "output_type": "stream",
     "text": [
      "<ipython-input-74-4f4e7cbd203b>:10: RuntimeWarning: At least one epoch has multiple events. Only the latency of the first event will be retained.\n",
      "  sets.append(mne.io.read_epochs_eeglab(path))\n",
      "<ipython-input-74-4f4e7cbd203b>:10: RuntimeWarning: At least one epoch has multiple events. Only the latency of the first event will be retained.\n",
      "  sets.append(mne.io.read_epochs_eeglab(path))\n"
     ]
    },
    {
     "name": "stdout",
     "output_type": "stream",
     "text": [
      "54 matching events found\n",
      "No baseline correction applied\n",
      "Not setting metadata\n",
      "0 projection items activated\n",
      "Ready.\n",
      "Extracting parameters from ./../../../data/raw/HV\\HV7\\HV7_F1_RH_Removed_ICA.set...\n",
      "54 matching events found\n",
      "No baseline correction applied\n",
      "Not setting metadata\n",
      "0 projection items activated\n",
      "Ready.\n",
      "Extracting parameters from ./../../../data/raw/HV\\HV8\\HV8_F1_RH_Removed_ICA.set...\n"
     ]
    },
    {
     "name": "stderr",
     "output_type": "stream",
     "text": [
      "<ipython-input-74-4f4e7cbd203b>:10: RuntimeWarning: At least one epoch has multiple events. Only the latency of the first event will be retained.\n",
      "  sets.append(mne.io.read_epochs_eeglab(path))\n",
      "<ipython-input-74-4f4e7cbd203b>:10: RuntimeWarning: At least one epoch has multiple events. Only the latency of the first event will be retained.\n",
      "  sets.append(mne.io.read_epochs_eeglab(path))\n"
     ]
    },
    {
     "name": "stdout",
     "output_type": "stream",
     "text": [
      "59 matching events found\n",
      "No baseline correction applied\n",
      "Not setting metadata\n",
      "0 projection items activated\n",
      "Ready.\n",
      "Extracting parameters from ./../../../data/raw/HV\\HV9\\HV9_F1_RH_Removed_ICA.set...\n",
      "53 matching events found\n",
      "No baseline correction applied\n",
      "Not setting metadata\n",
      "0 projection items activated\n",
      "Ready.\n"
     ]
    },
    {
     "name": "stderr",
     "output_type": "stream",
     "text": [
      "<ipython-input-74-4f4e7cbd203b>:10: RuntimeWarning: At least one epoch has multiple events. Only the latency of the first event will be retained.\n",
      "  sets.append(mne.io.read_epochs_eeglab(path))\n"
     ]
    },
    {
     "name": "stdout",
     "output_type": "stream",
     "text": [
      "Extracting parameters from ./../../../data/raw/PP\\PP1\\PP1_F1_RH_Removed_ICA.set...\n",
      "57 matching events found\n",
      "No baseline correction applied\n",
      "Not setting metadata\n",
      "0 projection items activated\n",
      "Ready.\n",
      "Extracting parameters from ./../../../data/raw/PP\\PP10\\PP10_F1_RH_Removed_ICA.set...\n",
      "57 matching events found\n"
     ]
    },
    {
     "name": "stderr",
     "output_type": "stream",
     "text": [
      "<ipython-input-74-4f4e7cbd203b>:10: RuntimeWarning: At least one epoch has multiple events. Only the latency of the first event will be retained.\n",
      "  sets.append(mne.io.read_epochs_eeglab(path))\n",
      "<ipython-input-74-4f4e7cbd203b>:10: RuntimeWarning: At least one epoch has multiple events. Only the latency of the first event will be retained.\n",
      "  sets.append(mne.io.read_epochs_eeglab(path))\n"
     ]
    },
    {
     "name": "stdout",
     "output_type": "stream",
     "text": [
      "No baseline correction applied\n",
      "Not setting metadata\n",
      "0 projection items activated\n",
      "Ready.\n",
      "Extracting parameters from ./../../../data/raw/PP\\PP11\\PP11_F1_RH_Removed_ICA.set...\n",
      "59 matching events found\n",
      "No baseline correction applied\n",
      "Not setting metadata\n",
      "0 projection items activated\n",
      "Ready.\n",
      "Extracting parameters from ./../../../data/raw/PP\\PP2\\PP2_F1_RH_Removed_ICA.set...\n",
      "54 matching events found\n",
      "No baseline correction applied\n",
      "Not setting metadata\n"
     ]
    },
    {
     "name": "stderr",
     "output_type": "stream",
     "text": [
      "<ipython-input-74-4f4e7cbd203b>:10: RuntimeWarning: At least one epoch has multiple events. Only the latency of the first event will be retained.\n",
      "  sets.append(mne.io.read_epochs_eeglab(path))\n",
      "<ipython-input-74-4f4e7cbd203b>:10: RuntimeWarning: At least one epoch has multiple events. Only the latency of the first event will be retained.\n",
      "  sets.append(mne.io.read_epochs_eeglab(path))\n"
     ]
    },
    {
     "name": "stdout",
     "output_type": "stream",
     "text": [
      "0 projection items activated\n",
      "Ready.\n",
      "Extracting parameters from ./../../../data/raw/PP\\PP3\\PP3_F1_RH_Removed_ICA.set...\n",
      "51 matching events found\n",
      "No baseline correction applied\n",
      "Not setting metadata\n",
      "0 projection items activated\n",
      "Ready.\n",
      "Extracting parameters from ./../../../data/raw/PP\\PP4\\PP4_F1_RH_Removed_ICA.set...\n",
      "58 matching events found\n",
      "No baseline correction applied\n",
      "Not setting metadata\n"
     ]
    },
    {
     "name": "stderr",
     "output_type": "stream",
     "text": [
      "<ipython-input-74-4f4e7cbd203b>:10: RuntimeWarning: At least one epoch has multiple events. Only the latency of the first event will be retained.\n",
      "  sets.append(mne.io.read_epochs_eeglab(path))\n",
      "<ipython-input-74-4f4e7cbd203b>:10: RuntimeWarning: At least one epoch has multiple events. Only the latency of the first event will be retained.\n",
      "  sets.append(mne.io.read_epochs_eeglab(path))\n"
     ]
    },
    {
     "name": "stdout",
     "output_type": "stream",
     "text": [
      "0 projection items activated\n",
      "Ready.\n",
      "Extracting parameters from ./../../../data/raw/PP\\PP5\\PP5_F1_RH_Removed_ICA.set...\n",
      "56 matching events found\n",
      "No baseline correction applied\n",
      "Not setting metadata\n",
      "0 projection items activated\n",
      "Ready.\n",
      "Extracting parameters from ./../../../data/raw/PP\\PP6\\PP6_F1_RH_Removed_ICA.set...\n",
      "32 matching events found\n",
      "No baseline correction applied\n",
      "Not setting metadata\n",
      "0 projection items activated\n",
      "Ready.\n"
     ]
    },
    {
     "name": "stderr",
     "output_type": "stream",
     "text": [
      "<ipython-input-74-4f4e7cbd203b>:10: RuntimeWarning: At least one epoch has multiple events. Only the latency of the first event will be retained.\n",
      "  sets.append(mne.io.read_epochs_eeglab(path))\n",
      "<ipython-input-74-4f4e7cbd203b>:10: RuntimeWarning: At least one epoch has multiple events. Only the latency of the first event will be retained.\n",
      "  sets.append(mne.io.read_epochs_eeglab(path))\n"
     ]
    },
    {
     "name": "stdout",
     "output_type": "stream",
     "text": [
      "Extracting parameters from ./../../../data/raw/PP\\PP7\\PP7_F1_RH_Removed_ICA.set...\n",
      "52 matching events found\n",
      "No baseline correction applied\n",
      "Not setting metadata\n",
      "0 projection items activated\n",
      "Ready.\n",
      "Extracting parameters from ./../../../data/raw/PP\\PP9\\PP9_F1_RH_Removed_ICA.set...\n",
      "54 matching events found\n",
      "No baseline correction applied\n",
      "Not setting metadata\n"
     ]
    },
    {
     "name": "stderr",
     "output_type": "stream",
     "text": [
      "<ipython-input-74-4f4e7cbd203b>:10: RuntimeWarning: At least one epoch has multiple events. Only the latency of the first event will be retained.\n",
      "  sets.append(mne.io.read_epochs_eeglab(path))\n",
      "<ipython-input-74-4f4e7cbd203b>:10: RuntimeWarning: At least one epoch has multiple events. Only the latency of the first event will be retained.\n",
      "  sets.append(mne.io.read_epochs_eeglab(path))\n"
     ]
    },
    {
     "name": "stdout",
     "output_type": "stream",
     "text": [
      "0 projection items activated\n",
      "Ready.\n",
      "Extracting parameters from ./../../../data/raw/PnP\\PnP1\\PnP1_F1_RH_Removed_ICA.set...\n",
      "50 matching events found\n",
      "No baseline correction applied\n",
      "Not setting metadata\n",
      "0 projection items activated\n",
      "Ready.\n",
      "Extracting parameters from ./../../../data/raw/PnP\\PnP2\\PnP2_F1_RH_Removed_ICA.set...\n",
      "54 matching events found\n",
      "No baseline correction applied\n",
      "Not setting metadata\n",
      "0 projection items activated\n",
      "Ready.\n"
     ]
    },
    {
     "name": "stderr",
     "output_type": "stream",
     "text": [
      "<ipython-input-74-4f4e7cbd203b>:10: RuntimeWarning: At least one epoch has multiple events. Only the latency of the first event will be retained.\n",
      "  sets.append(mne.io.read_epochs_eeglab(path))\n",
      "<ipython-input-74-4f4e7cbd203b>:10: RuntimeWarning: At least one epoch has multiple events. Only the latency of the first event will be retained.\n",
      "  sets.append(mne.io.read_epochs_eeglab(path))\n"
     ]
    },
    {
     "name": "stdout",
     "output_type": "stream",
     "text": [
      "Extracting parameters from ./../../../data/raw/PnP\\PnP3\\PnP3_F1_RH_Removed_ICA.set...\n",
      "44 matching events found\n",
      "No baseline correction applied\n",
      "Not setting metadata\n",
      "0 projection items activated\n",
      "Ready.\n",
      "Extracting parameters from ./../../../data/raw/PnP\\PnP4\\PnP4_F1_RH_Removed_ICA.set...\n",
      "55 matching events found\n",
      "No baseline correction applied\n",
      "Not setting metadata\n",
      "0 projection items activated\n",
      "Ready.\n"
     ]
    },
    {
     "name": "stderr",
     "output_type": "stream",
     "text": [
      "<ipython-input-74-4f4e7cbd203b>:10: RuntimeWarning: At least one epoch has multiple events. Only the latency of the first event will be retained.\n",
      "  sets.append(mne.io.read_epochs_eeglab(path))\n",
      "<ipython-input-74-4f4e7cbd203b>:10: RuntimeWarning: At least one epoch has multiple events. Only the latency of the first event will be retained.\n",
      "  sets.append(mne.io.read_epochs_eeglab(path))\n"
     ]
    },
    {
     "name": "stdout",
     "output_type": "stream",
     "text": [
      "Extracting parameters from ./../../../data/raw/PnP\\PnP5\\PnP5_F1_RH_Removed_ICA.set...\n",
      "50 matching events found\n",
      "No baseline correction applied\n",
      "Not setting metadata\n",
      "0 projection items activated\n",
      "Ready.\n",
      "Extracting parameters from ./../../../data/raw/PnP\\PnP6\\PnP6_F1_RH_Removed_ICA.set...\n",
      "55 matching events found\n",
      "No baseline correction applied\n",
      "Not setting metadata\n"
     ]
    },
    {
     "name": "stderr",
     "output_type": "stream",
     "text": [
      "<ipython-input-74-4f4e7cbd203b>:10: RuntimeWarning: At least one epoch has multiple events. Only the latency of the first event will be retained.\n",
      "  sets.append(mne.io.read_epochs_eeglab(path))\n",
      "<ipython-input-74-4f4e7cbd203b>:10: RuntimeWarning: At least one epoch has multiple events. Only the latency of the first event will be retained.\n",
      "  sets.append(mne.io.read_epochs_eeglab(path))\n"
     ]
    },
    {
     "name": "stdout",
     "output_type": "stream",
     "text": [
      "0 projection items activated\n",
      "Ready.\n",
      "Extracting parameters from ./../../../data/raw/PnP\\PnP7\\PnP7_F01_RH_Removed_ICA.set...\n",
      "58 matching events found\n",
      "No baseline correction applied\n",
      "Not setting metadata\n",
      "0 projection items activated\n",
      "Ready.\n",
      "Extracting parameters from ./../../../data/raw/PnP\\PnP8\\PnP8_F1_RH_Removed_ICA.set...\n",
      "53 matching events found\n",
      "No baseline correction applied\n",
      "Not setting metadata\n"
     ]
    },
    {
     "name": "stderr",
     "output_type": "stream",
     "text": [
      "<ipython-input-74-4f4e7cbd203b>:10: RuntimeWarning: At least one epoch has multiple events. Only the latency of the first event will be retained.\n",
      "  sets.append(mne.io.read_epochs_eeglab(path))\n",
      "<ipython-input-74-4f4e7cbd203b>:10: RuntimeWarning: At least one epoch has multiple events. Only the latency of the first event will be retained.\n",
      "  sets.append(mne.io.read_epochs_eeglab(path))\n"
     ]
    },
    {
     "name": "stdout",
     "output_type": "stream",
     "text": [
      "0 projection items activated\n",
      "Ready.\n",
      "Extracting parameters from ./../../../data/raw/PnP\\PnP9\\PnP9_F1_RH_Removed_ICA.set...\n",
      "54 matching events found\n",
      "No baseline correction applied\n",
      "Not setting metadata\n",
      "0 projection items activated\n",
      "Ready.\n"
     ]
    },
    {
     "name": "stderr",
     "output_type": "stream",
     "text": [
      "<ipython-input-74-4f4e7cbd203b>:10: RuntimeWarning: At least one epoch has multiple events. Only the latency of the first event will be retained.\n",
      "  sets.append(mne.io.read_epochs_eeglab(path))\n"
     ]
    }
   ],
   "source": [
    "hv_rh = get_datasets(location_healthy, rh)\n",
    "pp_rh = get_datasets(location_pain, rh)\n",
    "pnp_rh = get_datasets(location_nopain, rh)"
   ]
  },
  {
   "cell_type": "code",
   "execution_count": 218,
   "metadata": {},
   "outputs": [
    {
     "name": "stdout",
     "output_type": "stream",
     "text": [
      "Extracting parameters from ./../../../data_new/raw/PdP\\PdP_1\\PdP_1_LH.set...\n"
     ]
    },
    {
     "name": "stderr",
     "output_type": "stream",
     "text": [
      "<ipython-input-74-4f4e7cbd203b>:10: RuntimeWarning: At least one epoch has multiple events. Only the latency of the first event will be retained.\n",
      "  sets.append(mne.io.read_epochs_eeglab(path))\n"
     ]
    },
    {
     "name": "stdout",
     "output_type": "stream",
     "text": [
      "65 matching events found\n",
      "No baseline correction applied\n",
      "Not setting metadata\n",
      "0 projection items activated\n",
      "Ready.\n",
      "Extracting parameters from ./../../../data_new/raw/PdP\\PdP_2\\PdP_2_LH.set...\n"
     ]
    },
    {
     "name": "stderr",
     "output_type": "stream",
     "text": [
      "<ipython-input-74-4f4e7cbd203b>:10: RuntimeWarning: At least one epoch has multiple events. Only the latency of the first event will be retained.\n",
      "  sets.append(mne.io.read_epochs_eeglab(path))\n"
     ]
    },
    {
     "name": "stdout",
     "output_type": "stream",
     "text": [
      "68 matching events found\n",
      "No baseline correction applied\n",
      "Not setting metadata\n",
      "0 projection items activated\n",
      "Ready.\n",
      "Extracting parameters from ./../../../data_new/raw/PdP\\PdP_3\\PdP_3_LH.set...\n",
      "57 matching events found"
     ]
    },
    {
     "name": "stderr",
     "output_type": "stream",
     "text": [
      "<ipython-input-74-4f4e7cbd203b>:10: RuntimeWarning: At least one epoch has multiple events. Only the latency of the first event will be retained.\n",
      "  sets.append(mne.io.read_epochs_eeglab(path))\n"
     ]
    },
    {
     "name": "stdout",
     "output_type": "stream",
     "text": [
      "\n",
      "No baseline correction applied\n",
      "Not setting metadata\n",
      "0 projection items activated\n",
      "Ready.\n",
      "Extracting parameters from ./../../../data_new/raw/PdP\\PdP_4\\PdP_4_LH.set...\n",
      "58 matching events found"
     ]
    },
    {
     "name": "stderr",
     "output_type": "stream",
     "text": [
      "<ipython-input-74-4f4e7cbd203b>:10: RuntimeWarning: At least one epoch has multiple events. Only the latency of the first event will be retained.\n",
      "  sets.append(mne.io.read_epochs_eeglab(path))\n"
     ]
    },
    {
     "name": "stdout",
     "output_type": "stream",
     "text": [
      "\n",
      "No baseline correction applied\n",
      "Not setting metadata\n",
      "0 projection items activated\n",
      "Ready.\n",
      "Extracting parameters from ./../../../data_new/raw/PdP\\PdP_5\\PdP_5_LH.set...\n",
      "52 matching events found\n",
      "No baseline correction applied\n",
      "Not setting metadata\n",
      "0 projection items activated"
     ]
    },
    {
     "name": "stderr",
     "output_type": "stream",
     "text": [
      "<ipython-input-74-4f4e7cbd203b>:10: RuntimeWarning: At least one epoch has multiple events. Only the latency of the first event will be retained.\n",
      "  sets.append(mne.io.read_epochs_eeglab(path))\n"
     ]
    },
    {
     "name": "stdout",
     "output_type": "stream",
     "text": [
      "\n",
      "Ready.\n",
      "Extracting parameters from ./../../../data_new/raw/PdP\\PdP_6\\PdP_6_LH.set...\n",
      "54 matching events found"
     ]
    },
    {
     "name": "stderr",
     "output_type": "stream",
     "text": [
      "<ipython-input-74-4f4e7cbd203b>:10: RuntimeWarning: At least one epoch has multiple events. Only the latency of the first event will be retained.\n",
      "  sets.append(mne.io.read_epochs_eeglab(path))\n"
     ]
    },
    {
     "name": "stdout",
     "output_type": "stream",
     "text": [
      "\n",
      "No baseline correction applied\n",
      "Not setting metadata\n",
      "0 projection items activated\n",
      "Ready.\n",
      "Extracting parameters from ./../../../data_new/raw/PdP\\PdP_7\\PdP_7_LH.set...\n",
      "59 matching events found\n",
      "No baseline correction applied\n",
      "Not setting metadata\n"
     ]
    },
    {
     "name": "stderr",
     "output_type": "stream",
     "text": [
      "<ipython-input-74-4f4e7cbd203b>:10: RuntimeWarning: At least one epoch has multiple events. Only the latency of the first event will be retained.\n",
      "  sets.append(mne.io.read_epochs_eeglab(path))\n"
     ]
    },
    {
     "name": "stdout",
     "output_type": "stream",
     "text": [
      "0 projection items activated\n",
      "Ready.\n",
      "Extracting parameters from ./../../../data_new/raw/PnP\\PnP_1\\PnP_1_LH.set...\n",
      "56 matching events found\n",
      "No baseline correction applied\n",
      "Not setting metadata\n"
     ]
    },
    {
     "name": "stderr",
     "output_type": "stream",
     "text": [
      "<ipython-input-74-4f4e7cbd203b>:10: RuntimeWarning: At least one epoch has multiple events. Only the latency of the first event will be retained.\n",
      "  sets.append(mne.io.read_epochs_eeglab(path))\n"
     ]
    },
    {
     "name": "stdout",
     "output_type": "stream",
     "text": [
      "0 projection items activated\n",
      "Ready.\n",
      "Extracting parameters from ./../../../data_new/raw/PnP\\PnP_10\\PnP_10_LH.set...\n"
     ]
    },
    {
     "name": "stderr",
     "output_type": "stream",
     "text": [
      "<ipython-input-74-4f4e7cbd203b>:10: RuntimeWarning: At least one epoch has multiple events. Only the latency of the first event will be retained.\n",
      "  sets.append(mne.io.read_epochs_eeglab(path))\n"
     ]
    },
    {
     "ename": "FileNotFoundError",
     "evalue": "[Errno 2] No such file or directory: 'D:\\\\etc\\\\uni\\\\yr5\\\\project\\\\data_new\\\\raw\\\\PnP\\\\PnP_10\\\\PnP_10_LH.fdt'",
     "output_type": "error",
     "traceback": [
      "\u001b[1;31m---------------------------------------------------------------------------\u001b[0m",
      "\u001b[1;31mFileNotFoundError\u001b[0m                         Traceback (most recent call last)",
      "\u001b[1;32m<ipython-input-218-4e6c58992d32>\u001b[0m in \u001b[0;36m<module>\u001b[1;34m()\u001b[0m\n\u001b[0;32m      1\u001b[0m \u001b[0mpdp_rh\u001b[0m \u001b[1;33m=\u001b[0m \u001b[0mget_datasets\u001b[0m\u001b[1;33m(\u001b[0m\u001b[0mlocation_pdp\u001b[0m\u001b[1;33m,\u001b[0m \u001b[0mlh\u001b[0m\u001b[1;33m)\u001b[0m\u001b[1;33m\u001b[0m\u001b[0m\n\u001b[1;32m----> 2\u001b[1;33m \u001b[0mpnp1_rh\u001b[0m \u001b[1;33m=\u001b[0m \u001b[0mget_datasets\u001b[0m\u001b[1;33m(\u001b[0m\u001b[0mlocation_pnp\u001b[0m\u001b[1;33m,\u001b[0m \u001b[0mlh\u001b[0m\u001b[1;33m)\u001b[0m\u001b[1;33m\u001b[0m\u001b[0m\n\u001b[0m",
      "\u001b[1;32m<ipython-input-74-4f4e7cbd203b>\u001b[0m in \u001b[0;36mget_datasets\u001b[1;34m(patient_type_location, recording_type_expression)\u001b[0m\n\u001b[0;32m      8\u001b[0m     \u001b[0msets\u001b[0m \u001b[1;33m=\u001b[0m \u001b[1;33m[\u001b[0m\u001b[1;33m]\u001b[0m\u001b[1;33m\u001b[0m\u001b[0m\n\u001b[0;32m      9\u001b[0m     \u001b[1;32mfor\u001b[0m \u001b[0mpath\u001b[0m \u001b[1;32min\u001b[0m \u001b[0msets_locations\u001b[0m\u001b[1;33m:\u001b[0m\u001b[1;33m\u001b[0m\u001b[0m\n\u001b[1;32m---> 10\u001b[1;33m         \u001b[0msets\u001b[0m\u001b[1;33m.\u001b[0m\u001b[0mappend\u001b[0m\u001b[1;33m(\u001b[0m\u001b[0mmne\u001b[0m\u001b[1;33m.\u001b[0m\u001b[0mio\u001b[0m\u001b[1;33m.\u001b[0m\u001b[0mread_epochs_eeglab\u001b[0m\u001b[1;33m(\u001b[0m\u001b[0mpath\u001b[0m\u001b[1;33m)\u001b[0m\u001b[1;33m)\u001b[0m\u001b[1;33m\u001b[0m\u001b[0m\n\u001b[0m\u001b[0;32m     11\u001b[0m \u001b[1;33m\u001b[0m\u001b[0m\n\u001b[0;32m     12\u001b[0m     \u001b[1;32mreturn\u001b[0m \u001b[1;33m[\u001b[0m\u001b[0mpatient\u001b[0m\u001b[1;33m.\u001b[0m\u001b[0m_data\u001b[0m\u001b[1;33m[\u001b[0m\u001b[1;33m:\u001b[0m\u001b[1;36m2\u001b[0m\u001b[1;33m]\u001b[0m \u001b[1;32mfor\u001b[0m \u001b[0mpatient\u001b[0m \u001b[1;32min\u001b[0m \u001b[0msets\u001b[0m\u001b[1;33m]\u001b[0m\u001b[1;33m\u001b[0m\u001b[0m\n",
      "\u001b[1;32mD:\\etc\\software\\Anaconda\\lib\\site-packages\\mne\\io\\eeglab\\eeglab.py\u001b[0m in \u001b[0;36mread_epochs_eeglab\u001b[1;34m(input_fname, events, event_id, montage, eog, verbose, uint16_codec)\u001b[0m\n\u001b[0;32m    251\u001b[0m     epochs = EpochsEEGLAB(input_fname=input_fname, events=events, eog=eog,\n\u001b[0;32m    252\u001b[0m                           \u001b[0mevent_id\u001b[0m\u001b[1;33m=\u001b[0m\u001b[0mevent_id\u001b[0m\u001b[1;33m,\u001b[0m \u001b[0mmontage\u001b[0m\u001b[1;33m=\u001b[0m\u001b[0mmontage\u001b[0m\u001b[1;33m,\u001b[0m \u001b[0mverbose\u001b[0m\u001b[1;33m=\u001b[0m\u001b[0mverbose\u001b[0m\u001b[1;33m,\u001b[0m\u001b[1;33m\u001b[0m\u001b[0m\n\u001b[1;32m--> 253\u001b[1;33m                           uint16_codec=uint16_codec)\n\u001b[0m\u001b[0;32m    254\u001b[0m     \u001b[1;32mreturn\u001b[0m \u001b[0mepochs\u001b[0m\u001b[1;33m\u001b[0m\u001b[0m\n\u001b[0;32m    255\u001b[0m \u001b[1;33m\u001b[0m\u001b[0m\n",
      "\u001b[1;32m<D:\\etc\\software\\Anaconda\\lib\\site-packages\\mne\\externals\\decorator.py:decorator-gen-194>\u001b[0m in \u001b[0;36m__init__\u001b[1;34m(self, input_fname, events, event_id, tmin, baseline, reject, flat, reject_tmin, reject_tmax, montage, eog, verbose, uint16_codec)\u001b[0m\n",
      "\u001b[1;32mD:\\etc\\software\\Anaconda\\lib\\site-packages\\mne\\utils\\_logging.py\u001b[0m in \u001b[0;36mwrapper\u001b[1;34m(*args, **kwargs)\u001b[0m\n\u001b[0;32m     88\u001b[0m             \u001b[1;32mwith\u001b[0m \u001b[0muse_log_level\u001b[0m\u001b[1;33m(\u001b[0m\u001b[0mverbose_level\u001b[0m\u001b[1;33m)\u001b[0m\u001b[1;33m:\u001b[0m\u001b[1;33m\u001b[0m\u001b[0m\n\u001b[0;32m     89\u001b[0m                 \u001b[1;32mreturn\u001b[0m \u001b[0mfunction\u001b[0m\u001b[1;33m(\u001b[0m\u001b[1;33m*\u001b[0m\u001b[0margs\u001b[0m\u001b[1;33m,\u001b[0m \u001b[1;33m**\u001b[0m\u001b[0mkwargs\u001b[0m\u001b[1;33m)\u001b[0m\u001b[1;33m\u001b[0m\u001b[0m\n\u001b[1;32m---> 90\u001b[1;33m         \u001b[1;32mreturn\u001b[0m \u001b[0mfunction\u001b[0m\u001b[1;33m(\u001b[0m\u001b[1;33m*\u001b[0m\u001b[0margs\u001b[0m\u001b[1;33m,\u001b[0m \u001b[1;33m**\u001b[0m\u001b[0mkwargs\u001b[0m\u001b[1;33m)\u001b[0m\u001b[1;33m\u001b[0m\u001b[0m\n\u001b[0m\u001b[0;32m     91\u001b[0m     return FunctionMaker.create(\n\u001b[0;32m     92\u001b[0m         \u001b[0mfunction\u001b[0m\u001b[1;33m,\u001b[0m \u001b[1;34m'return decfunc(%(signature)s)'\u001b[0m\u001b[1;33m,\u001b[0m\u001b[1;33m\u001b[0m\u001b[0m\n",
      "\u001b[1;32mD:\\etc\\software\\Anaconda\\lib\\site-packages\\mne\\io\\eeglab\\eeglab.py\u001b[0m in \u001b[0;36m__init__\u001b[1;34m(self, input_fname, events, event_id, tmin, baseline, reject, flat, reject_tmin, reject_tmax, montage, eog, verbose, uint16_codec)\u001b[0m\n\u001b[0;32m    571\u001b[0m             \u001b[0mdata_fname\u001b[0m \u001b[1;33m=\u001b[0m \u001b[0mop\u001b[0m\u001b[1;33m.\u001b[0m\u001b[0mjoin\u001b[0m\u001b[1;33m(\u001b[0m\u001b[0mbasedir\u001b[0m\u001b[1;33m,\u001b[0m \u001b[0meeg\u001b[0m\u001b[1;33m.\u001b[0m\u001b[0mdata\u001b[0m\u001b[1;33m)\u001b[0m\u001b[1;33m\u001b[0m\u001b[0m\n\u001b[0;32m    572\u001b[0m             \u001b[0m_check_fname\u001b[0m\u001b[1;33m(\u001b[0m\u001b[0mdata_fname\u001b[0m\u001b[1;33m)\u001b[0m\u001b[1;33m\u001b[0m\u001b[0m\n\u001b[1;32m--> 573\u001b[1;33m             \u001b[1;32mwith\u001b[0m \u001b[0mopen\u001b[0m\u001b[1;33m(\u001b[0m\u001b[0mdata_fname\u001b[0m\u001b[1;33m,\u001b[0m \u001b[1;34m'rb'\u001b[0m\u001b[1;33m)\u001b[0m \u001b[1;32mas\u001b[0m \u001b[0mdata_fid\u001b[0m\u001b[1;33m:\u001b[0m\u001b[1;33m\u001b[0m\u001b[0m\n\u001b[0m\u001b[0;32m    574\u001b[0m                 \u001b[0mdata\u001b[0m \u001b[1;33m=\u001b[0m \u001b[0mnp\u001b[0m\u001b[1;33m.\u001b[0m\u001b[0mfromfile\u001b[0m\u001b[1;33m(\u001b[0m\u001b[0mdata_fid\u001b[0m\u001b[1;33m,\u001b[0m \u001b[0mdtype\u001b[0m\u001b[1;33m=\u001b[0m\u001b[0mnp\u001b[0m\u001b[1;33m.\u001b[0m\u001b[0mfloat32\u001b[0m\u001b[1;33m)\u001b[0m\u001b[1;33m\u001b[0m\u001b[0m\n\u001b[0;32m    575\u001b[0m                 data = data.reshape((eeg.nbchan, eeg.pnts, eeg.trials),\n",
      "\u001b[1;31mFileNotFoundError\u001b[0m: [Errno 2] No such file or directory: 'D:\\\\etc\\\\uni\\\\yr5\\\\project\\\\data_new\\\\raw\\\\PnP\\\\PnP_10\\\\PnP_10_LH.fdt'"
     ]
    }
   ],
   "source": [
    "pdp_rh = get_datasets(location_pdp, lh)\n",
    "pnp1_rh = get_datasets(location_pnp, lh)"
   ]
  },
  {
   "cell_type": "code",
   "execution_count": 104,
   "metadata": {
    "colab": {},
    "colab_type": "code",
    "id": "06YlMPM9NR7P",
    "outputId": "2107dc4d-d9cc-4aad-e3c3-84050e01c4a7"
   },
   "outputs": [
    {
     "data": {
      "text/plain": [
       "[<matplotlib.lines.Line2D at 0x1e706eb2358>]"
      ]
     },
     "execution_count": 104,
     "metadata": {},
     "output_type": "execute_result"
    },
    {
     "data": {
      "image/png": "[encoded data removed]",
      "text/plain": [
       "<Figure size 432x288 with 1 Axes>"
      ]
     },
     "metadata": {
      "needs_background": "light"
     },
     "output_type": "display_data"
    }
   ],
   "source": [
    "plt.plot(pdp_rh[1][0])"
   ]
  },
  {
   "cell_type": "code",
   "execution_count": 68,
   "metadata": {},
   "outputs": [
    {
     "data": {
      "text/plain": [
       "[<matplotlib.lines.Line2D at 0x1e76940ce80>]"
      ]
     },
     "execution_count": 68,
     "metadata": {},
     "output_type": "execute_result"
    },
    {
     "data": {
      "image/png": "[encoded data removed]",
      "text/plain": [
       "<Figure size 432x288 with 1 Axes>"
      ]
     },
     "metadata": {
      "needs_background": "light"
     },
     "output_type": "display_data"
    }
   ],
   "source": [
    "plt.plot(pdp_rh[0][0][5])"
   ]
  },
  {
   "cell_type": "code",
   "execution_count": 69,
   "metadata": {
    "colab": {},
    "colab_type": "code",
    "id": "miirMbrrNR7R"
   },
   "outputs": [
    {
     "data": {
      "text/plain": [
       "array([[[ 4.74999905e-06,  2.25208321e-05,  2.60000057e-05, ...,\n",
       "          1.96458397e-05,  2.52291641e-05,  3.19375057e-05],\n",
       "        [-1.12500000e-05, -1.14791670e-05, -1.70000019e-05, ...,\n",
       "          4.64583158e-06,  2.22916651e-06,  6.93749857e-06],\n",
       "        [-1.72500000e-05, -2.64791679e-05, -4.20000000e-05, ...,\n",
       "         -3.35416341e-06, -3.77083468e-06,  3.93750024e-06],\n",
       "        ...,\n",
       "        [-9.25000000e-06, -7.47916603e-06, -1.00000000e-05, ...,\n",
       "         -1.13541632e-05, -6.77083111e-06, -1.10624952e-05],\n",
       "        [ 1.74999964e-06,  3.52083397e-06, -1.99999940e-06, ...,\n",
       "         -8.35416412e-06, -4.77083206e-06, -8.06249619e-06],\n",
       "        [-1.62500000e-05, -3.47916603e-06,  1.20000010e-05, ...,\n",
       "         -2.33541660e-05, -1.37708321e-05, -1.10624971e-05]],\n",
       "\n",
       "       [[-5.03333321e-05, -2.99791660e-05, -1.46249990e-05, ...,\n",
       "         -7.29791718e-05, -6.23333473e-05, -7.86250000e-05],\n",
       "        [-1.53333340e-05, -1.19791670e-05, -9.62500000e-06, ...,\n",
       "         -3.69791679e-05, -3.93333359e-05, -4.36250076e-05],\n",
       "        [ 2.66666627e-06,  3.02083397e-06, -3.62500000e-06, ...,\n",
       "         -4.09791679e-05, -4.03333321e-05, -3.86250038e-05],\n",
       "        ...,\n",
       "        [ 3.66666698e-06,  4.02083349e-06,  5.37500048e-06, ...,\n",
       "          3.02083063e-06,  6.66666937e-06,  5.37499857e-06],\n",
       "        [ 7.66666698e-06,  9.02083302e-06,  1.13750000e-05, ...,\n",
       "          2.02083087e-06,  4.66667032e-06,  3.37499928e-06],\n",
       "        [-1.33333325e-06, -1.49791670e-05, -1.76250000e-05, ...,\n",
       "          1.70208302e-05,  3.26666718e-05,  4.13750000e-05]],\n",
       "\n",
       "       [[-4.48125038e-05, -7.42500000e-05, -8.01875000e-05, ...,\n",
       "         -3.10416698e-05, -3.75416718e-05, -2.86249981e-05],\n",
       "        [-2.28125019e-05, -2.12499962e-05, -2.11875000e-05, ...,\n",
       "         -1.80416660e-05, -2.05416641e-05, -2.36250000e-05],\n",
       "        [-4.78125038e-05, -3.92500076e-05, -2.61875000e-05, ...,\n",
       "         -1.00416660e-05, -2.05416641e-05, -3.96250000e-05],\n",
       "        ...,\n",
       "        [ 3.18749952e-06,  7.75000095e-06,  1.08125010e-05, ...,\n",
       "          9.95833302e-06,  7.45833349e-06,  6.37499857e-06],\n",
       "        [ 8.18750000e-06,  1.17500000e-05,  1.28125010e-05, ...,\n",
       "          5.95833445e-06,  4.45833349e-06,  4.37499762e-06],\n",
       "        [-4.88125000e-05, -4.62500000e-05, -3.61875000e-05, ...,\n",
       "         -5.40416679e-05, -2.35416679e-05, -1.56250019e-05]],\n",
       "\n",
       "       ...,\n",
       "\n",
       "       [[ 8.58333397e-06,  2.62500477e-06, -1.49999762e-06, ...,\n",
       "         -7.09791641e-05, -7.56250000e-05, -4.72708321e-05],\n",
       "        [ 1.55833282e-05,  9.62500763e-06, -1.49999762e-06, ...,\n",
       "         -5.89791527e-05, -6.56250000e-05, -5.52708359e-05],\n",
       "        [ 1.45833321e-05,  1.26250048e-05,  5.50000191e-06, ...,\n",
       "         -5.49791565e-05, -5.76250000e-05, -5.22708359e-05],\n",
       "        ...,\n",
       "        [-3.04166660e-05, -3.33750000e-05, -3.15000019e-05, ...,\n",
       "          2.02083445e-06, -1.26249990e-05, -2.12708321e-05],\n",
       "        [-2.54166660e-05, -3.03750019e-05, -2.95000019e-05, ...,\n",
       "          1.10208359e-05, -1.62500000e-06, -1.12708321e-05],\n",
       "        [-2.34166660e-05, -1.63750019e-05, -5.00000000e-07, ...,\n",
       "          4.00208359e-05,  7.93750000e-05,  2.57291698e-05]],\n",
       "\n",
       "       [[-2.58333302e-06, -3.27083445e-06,  8.33333397e-06, ...,\n",
       "          3.62708397e-05,  3.18333340e-05,  2.67500000e-05],\n",
       "        [-3.58333373e-06, -9.27083206e-06, -9.66666698e-06, ...,\n",
       "          1.62708340e-05,  1.38333349e-05,  1.47500019e-05],\n",
       "        [-9.58333969e-06, -1.32708321e-05, -1.96666660e-05, ...,\n",
       "          2.52708321e-05,  2.48333302e-05,  1.27500010e-05],\n",
       "        ...,\n",
       "        [ 2.41666508e-06,  4.72916794e-06,  6.33333206e-06, ...,\n",
       "          6.27083206e-06,  2.83333158e-06, -2.50002563e-07],\n",
       "        [ 6.41666508e-06,  7.72916746e-06,  8.33333206e-06, ...,\n",
       "          1.27083170e-06, -1.66669220e-07,  7.49996781e-07],\n",
       "        [ 3.04166641e-05,  3.77291679e-05,  2.23333321e-05, ...,\n",
       "          3.62708359e-05,  3.88333321e-05,  5.17500000e-05]],\n",
       "\n",
       "       [[-1.77083337e-06,  2.72916698e-06,  3.06250048e-06, ...,\n",
       "         -8.22916698e-06,  6.29166651e-06,  6.72916746e-06],\n",
       "        [ 1.22291651e-05,  1.27291622e-05,  1.50625019e-05, ...,\n",
       "          5.77083397e-06,  6.29166651e-06,  9.72916794e-06],\n",
       "        [ 2.42291660e-05,  2.77291794e-05,  3.20624924e-05, ...,\n",
       "          1.47708311e-05,  1.02916689e-05,  6.72916842e-06],\n",
       "        ...,\n",
       "        [-1.17708330e-05, -1.42708349e-05, -1.49375000e-05, ...,\n",
       "         -5.22916698e-06, -9.70833302e-06, -1.32708330e-05],\n",
       "        [-1.17708330e-05, -1.62708340e-05, -1.79375000e-05, ...,\n",
       "         -6.22916698e-06, -7.70833254e-06, -1.22708340e-05],\n",
       "        [ 1.52291670e-05,  9.72916603e-06,  1.30625010e-05, ...,\n",
       "          1.47708330e-05,  1.12916679e-05,  2.27291660e-05]]])"
      ]
     },
     "execution_count": 69,
     "metadata": {},
     "output_type": "execute_result"
    }
   ],
   "source": [
    "pdp_rh[0]"
   ]
  },
  {
   "cell_type": "markdown",
   "metadata": {},
   "source": [
    "# Extracting only channel data"
   ]
  },
  {
   "cell_type": "code",
   "execution_count": 222,
   "metadata": {},
   "outputs": [
    {
     "data": {
      "text/plain": [
       "10"
      ]
     },
     "execution_count": 222,
     "metadata": {},
     "output_type": "execute_result"
    }
   ],
   "source": [
    "len(pp_rh)"
   ]
  },
  {
   "cell_type": "code",
   "execution_count": 223,
   "metadata": {},
   "outputs": [
    {
     "data": {
      "text/plain": [
       "(20, 61, 1250)"
      ]
     },
     "execution_count": 223,
     "metadata": {},
     "output_type": "execute_result"
    }
   ],
   "source": [
    "hv_rh_separated = np.vstack(hv_rh)\n",
    "pp_rh_separated = np.vstack(pp_rh)\n",
    "pnp_rh_separated = np.vstack(pnp_rh)\n",
    "pp_rh_separated.shape"
   ]
  },
  {
   "cell_type": "code",
   "execution_count": 106,
   "metadata": {},
   "outputs": [
    {
     "data": {
      "text/plain": [
       "(240, 1280)"
      ]
     },
     "execution_count": 106,
     "metadata": {},
     "output_type": "execute_result"
    }
   ],
   "source": [
    "pdp_rh_separated = np.vstack(pdp_rh)\n",
    "pnp1_rh_separated = np.vstack(pnp1_rh)\n",
    "pdp_rh_separated.shape"
   ]
  },
  {
   "cell_type": "code",
   "execution_count": 82,
   "metadata": {},
   "outputs": [
    {
     "data": {
      "text/plain": [
       "(38, 61, 1250)"
      ]
     },
     "execution_count": 82,
     "metadata": {},
     "output_type": "execute_result"
    }
   ],
   "source": [
    "pnp_vs_pp_rh = np.concatenate((pp_rh_separated, pnp_rh_separated))\n",
    "pnp_vs_pp_rh.shape"
   ]
  },
  {
   "cell_type": "code",
   "execution_count": null,
   "metadata": {},
   "outputs": [],
   "source": []
  },
  {
   "cell_type": "markdown",
   "metadata": {},
   "source": [
    "# Exploring basic classification"
   ]
  },
  {
   "cell_type": "markdown",
   "metadata": {},
   "source": [
    "## KNN"
   ]
  },
  {
   "cell_type": "code",
   "execution_count": 62,
   "metadata": {},
   "outputs": [],
   "source": [
    "from sklearn import neighbors\n",
    "from sklearn.model_selection import train_test_split"
   ]
  },
  {
   "cell_type": "code",
   "execution_count": 128,
   "metadata": {},
   "outputs": [],
   "source": [
    "knn = neighbors.KNeighborsClassifier(n_neighbors=3)"
   ]
  },
  {
   "cell_type": "code",
   "execution_count": 129,
   "metadata": {},
   "outputs": [],
   "source": [
    "pnp_vs_pp_rh_flat = np.array(list(map(np.ravel, pnp_vs_pp_rh)))"
   ]
  },
  {
   "cell_type": "code",
   "execution_count": 200,
   "metadata": {},
   "outputs": [],
   "source": [
    "train = pnp_vs_pp_rh_flat  * 100 #1000000\n",
    "labels = [0] * 20 + [1] * 18"
   ]
  },
  {
   "cell_type": "code",
   "execution_count": 201,
   "metadata": {},
   "outputs": [
    {
     "data": {
      "text/plain": [
       "array([[ 1.44402540e-04,  9.81420040e-05,  6.11681223e-05, ...,\n",
       "         1.93071413e-04,  1.70576549e-04,  1.27043426e-04],\n",
       "       [ 1.15336525e-04,  1.83704400e-04,  2.49183202e-04, ...,\n",
       "        -5.28900206e-05, -4.13301617e-05, -5.40549040e-05],\n",
       "       [ 9.51089412e-06, -2.08860099e-05, -9.03276443e-05, ...,\n",
       "         6.40078187e-05, -3.19230855e-06, -9.86244798e-05],\n",
       "       ...,\n",
       "       [-1.22394466e-04, -9.60539460e-05, -1.65400058e-05, ...,\n",
       "         1.38730752e-04,  1.19552875e-04,  1.95457590e-04],\n",
       "       [-2.41636729e-04, -2.74537277e-04, -3.30660510e-04, ...,\n",
       "         3.75982016e-05,  9.98272836e-05,  4.12112772e-05],\n",
       "       [ 2.07718134e-04,  2.82873058e-04,  3.64515805e-04, ...,\n",
       "         7.52620041e-05, -9.47975993e-05, -7.00567245e-05]])"
      ]
     },
     "execution_count": 201,
     "metadata": {},
     "output_type": "execute_result"
    }
   ],
   "source": [
    "train"
   ]
  },
  {
   "cell_type": "code",
   "execution_count": 224,
   "metadata": {},
   "outputs": [],
   "source": [
    "x_train, x_test, y_train, y_test = train_test_split(train, labels, test_size=0.05)"
   ]
  },
  {
   "cell_type": "code",
   "execution_count": 225,
   "metadata": {},
   "outputs": [
    {
     "data": {
      "text/plain": [
       "KNeighborsClassifier(algorithm='auto', leaf_size=30, metric='minkowski',\n",
       "           metric_params=None, n_jobs=1, n_neighbors=3, p=2,\n",
       "           weights='uniform')"
      ]
     },
     "execution_count": 225,
     "metadata": {},
     "output_type": "execute_result"
    }
   ],
   "source": [
    "knn.fit(x_train, y_train)"
   ]
  },
  {
   "cell_type": "code",
   "execution_count": 226,
   "metadata": {},
   "outputs": [
    {
     "data": {
      "text/plain": [
       "0.7894736842105263"
      ]
     },
     "execution_count": 226,
     "metadata": {},
     "output_type": "execute_result"
    }
   ],
   "source": [
    "knn.score(train, labels)"
   ]
  },
  {
   "cell_type": "code",
   "execution_count": 227,
   "metadata": {},
   "outputs": [
    {
     "data": {
      "text/plain": [
       "0.5"
      ]
     },
     "execution_count": 227,
     "metadata": {},
     "output_type": "execute_result"
    }
   ],
   "source": [
    "knn.score(x_test, y_test)"
   ]
  },
  {
   "cell_type": "code",
   "execution_count": 206,
   "metadata": {},
   "outputs": [
    {
     "data": {
      "text/plain": [
       "(array([1, 1]), [1, 0])"
      ]
     },
     "execution_count": 206,
     "metadata": {},
     "output_type": "execute_result"
    }
   ],
   "source": [
    "knn.predict(x_test), y_test"
   ]
  },
  {
   "cell_type": "code",
   "execution_count": 127,
   "metadata": {},
   "outputs": [
    {
     "name": "stdout",
     "output_type": "stream",
     "text": [
      "Channel: 0 Score: 5.0\n",
      "Channel: 1 Score: 6.5\n",
      "Channel: 2 Score: 7.0\n",
      "Channel: 3 Score: 5.5\n",
      "Channel: 4 Score: 6.5\n",
      "Channel: 5 Score: 3.0\n",
      "Channel: 6 Score: 4.5\n",
      "Channel: 7 Score: 7.0\n",
      "Channel: 8 Score: 5.0\n",
      "Channel: 9 Score: 4.5\n",
      "Channel: 10 Score: 4.5\n",
      "Channel: 11 Score: 6.0\n",
      "Channel: 12 Score: 4.0\n",
      "Channel: 13 Score: 3.5\n",
      "Channel: 14 Score: 6.0\n",
      "Channel: 15 Score: 5.5\n",
      "Channel: 16 Score: 4.0\n",
      "Channel: 17 Score: 5.5\n",
      "Channel: 18 Score: 7.5\n",
      "Channel: 19 Score: 4.0\n",
      "Channel: 20 Score: 5.0\n",
      "Channel: 21 Score: 5.0\n",
      "Channel: 22 Score: 6.0\n",
      "Channel: 23 Score: 4.0\n",
      "Channel: 24 Score: 5.5\n",
      "Channel: 25 Score: 6.0\n",
      "Channel: 26 Score: 5.0\n",
      "Channel: 27 Score: 2.5\n",
      "Channel: 28 Score: 4.0\n",
      "Channel: 29 Score: 3.0\n",
      "Channel: 30 Score: 2.0\n",
      "Channel: 31 Score: 2.5\n",
      "Channel: 32 Score: 4.5\n",
      "Channel: 33 Score: 3.5\n",
      "Channel: 34 Score: 5.5\n",
      "Channel: 35 Score: 4.0\n",
      "Channel: 36 Score: 4.5\n",
      "Channel: 37 Score: 3.5\n",
      "Channel: 38 Score: 5.0\n",
      "Channel: 39 Score: 5.5\n",
      "Channel: 40 Score: 5.5\n",
      "Channel: 41 Score: 5.0\n",
      "Channel: 42 Score: 4.0\n",
      "Channel: 43 Score: 7.0\n",
      "Channel: 44 Score: 5.0\n",
      "Channel: 45 Score: 4.0\n",
      "Channel: 46 Score: 5.5\n",
      "Channel: 47 Score: 4.5\n",
      "Channel: 48 Score: 5.0\n",
      "Channel: 49 Score: 4.5\n",
      "Channel: 50 Score: 5.0\n",
      "Channel: 51 Score: 4.0\n",
      "Channel: 52 Score: 6.0\n",
      "Channel: 53 Score: 4.5\n",
      "Channel: 54 Score: 4.5\n",
      "Channel: 55 Score: 6.0\n",
      "Channel: 56 Score: 5.0\n",
      "Channel: 57 Score: 4.5\n",
      "Channel: 58 Score: 4.0\n",
      "Channel: 59 Score: 4.5\n",
      "Channel: 60 Score: 3.5\n"
     ]
    }
   ],
   "source": [
    "for channel in range(0, 61):\n",
    "    score = 0\n",
    "    \n",
    "    for trial in range(10):\n",
    "        clas = neighbors.KNeighborsClassifier(n_neighbors=3)\n",
    "        train = pnp_vs_pp_rh[:, channel]\n",
    "        labels = [0] * 20 + [1] * 18\n",
    "        x_train, x_test, y_train, y_test = train_test_split(train, labels, test_size=0.05)\n",
    "        clas.fit(x_train, y_train)\n",
    "        score += clas.score(x_test, y_test)\n",
    "        # print(channel, np.sum(np.abs(clas.predict_proba(pnp_vs_pp_rh[0:400, channel])-clas.predict_proba(pnp_vs_pp_rh[600:1000, channel]))))\n",
    "    \n",
    "    print('Channel:', channel, 'Score:', score)"
   ]
  },
  {
   "cell_type": "code",
   "execution_count": null,
   "metadata": {},
   "outputs": [],
   "source": []
  },
  {
   "cell_type": "markdown",
   "metadata": {},
   "source": [
    "## SVM"
   ]
  },
  {
   "cell_type": "code",
   "execution_count": 207,
   "metadata": {},
   "outputs": [],
   "source": [
    "from sklearn.svm import SVC"
   ]
  },
  {
   "cell_type": "code",
   "execution_count": 208,
   "metadata": {},
   "outputs": [],
   "source": [
    "svc = SVC(kernel='rbf')"
   ]
  },
  {
   "cell_type": "code",
   "execution_count": 209,
   "metadata": {},
   "outputs": [],
   "source": [
    "pnp_vs_pp_rh_flat = np.array(list(map(np.ravel, pnp_vs_pp_rh)))"
   ]
  },
  {
   "cell_type": "code",
   "execution_count": 210,
   "metadata": {},
   "outputs": [],
   "source": [
    "train = pnp_vs_pp_rh_flat\n",
    "labels = [0] * 20 + [1] * 18"
   ]
  },
  {
   "cell_type": "code",
   "execution_count": 211,
   "metadata": {},
   "outputs": [],
   "source": [
    "x_train, x_test, y_train, y_test = train_test_split(train, labels, test_size=0.1)"
   ]
  },
  {
   "cell_type": "code",
   "execution_count": 212,
   "metadata": {},
   "outputs": [
    {
     "data": {
      "text/plain": [
       "SVC(C=1.0, cache_size=200, class_weight=None, coef0=0.0,\n",
       "  decision_function_shape='ovr', degree=3, gamma='auto', kernel='rbf',\n",
       "  max_iter=-1, probability=False, random_state=None, shrinking=True,\n",
       "  tol=0.001, verbose=False)"
      ]
     },
     "execution_count": 212,
     "metadata": {},
     "output_type": "execute_result"
    }
   ],
   "source": [
    "svc.fit(x_train, y_train)"
   ]
  },
  {
   "cell_type": "code",
   "execution_count": 213,
   "metadata": {},
   "outputs": [
    {
     "data": {
      "text/plain": [
       "0.5"
      ]
     },
     "execution_count": 213,
     "metadata": {},
     "output_type": "execute_result"
    }
   ],
   "source": [
    "svc.score(x_train, y_train)"
   ]
  },
  {
   "cell_type": "code",
   "execution_count": 214,
   "metadata": {},
   "outputs": [
    {
     "data": {
      "text/plain": [
       "array([1, 1, 1, 1, 1, 1, 1, 1, 1, 1, 1, 1, 1, 1, 1, 1, 1, 1, 1, 1, 1, 1,\n",
       "       1, 1, 1, 1, 1, 1, 1, 1, 1, 1, 1, 1, 1, 1, 1, 1])"
      ]
     },
     "execution_count": 214,
     "metadata": {},
     "output_type": "execute_result"
    }
   ],
   "source": [
    "svc.predict(train)"
   ]
  },
  {
   "cell_type": "code",
   "execution_count": null,
   "metadata": {},
   "outputs": [],
   "source": []
  }
 ],
 "metadata": {
  "colab": {
   "name": "data_analysis_mne.ipynb",
   "provenance": []
  },
  "kernelspec": {
   "display_name": "Python 3",
   "language": "python",
   "name": "python3"
  },
  "language_info": {
   "codemirror_mode": {
    "name": "ipython",
    "version": 3
   },
   "file_extension": ".py",
   "mimetype": "text/x-python",
   "name": "python",
   "nbconvert_exporter": "python",
   "pygments_lexer": "ipython3",
   "version": "3.5.6"
  }
 },
 "nbformat": 4,
 "nbformat_minor": 1
}
