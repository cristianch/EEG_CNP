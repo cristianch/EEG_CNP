{
 "cells": [
  {
   "cell_type": "code",
   "execution_count": 1,
   "metadata": {},
   "outputs": [],
   "source": [
    "import sys\n",
    "import numpy as np\n",
    "import matplotlib.pyplot as plt\n",
    "import mne\n",
    "import glob\n",
    "import os"
   ]
  },
  {
   "cell_type": "code",
   "execution_count": 2,
   "metadata": {},
   "outputs": [],
   "source": [
    "local_path_0 = './../../../data/raw/HV/HV1/HV1_F1_L_Removed_ICA.set'\n",
    "local_path_1 = './../../../data_new/raw/PdP/PdP_1/PdP_1_RH.set'\n"
   ]
  },
  {
   "cell_type": "code",
   "execution_count": 3,
   "metadata": {},
   "outputs": [
    {
     "name": "stdout",
     "output_type": "stream",
     "text": [
      "Extracting parameters from ./../../../data/raw/HV/HV1/HV1_F1_L_Removed_ICA.set...\n",
      "56 matching events found\n",
      "No baseline correction applied\n",
      "Not setting metadata\n",
      "0 projection items activated\n",
      "Ready.\n"
     ]
    },
    {
     "name": "stderr",
     "output_type": "stream",
     "text": [
      "<ipython-input-3-67b776d7c4f8>:1: RuntimeWarning: At least one epoch has multiple events. Only the latency of the first event will be retained.\n",
      "  data = mne.io.read_epochs_eeglab(local_path_0)\n"
     ]
    },
    {
     "name": "stdout",
     "output_type": "stream",
     "text": [
      "Extracting parameters from ./../../../data_new/raw/PdP/PdP_1/PdP_1_RH.set...\n"
     ]
    },
    {
     "name": "stderr",
     "output_type": "stream",
     "text": [
      "<ipython-input-3-67b776d7c4f8>:2: RuntimeWarning: At least one epoch has multiple events. Only the latency of the first event will be retained.\n",
      "  data_new = mne.io.read_epochs_eeglab(local_path_1)\n"
     ]
    },
    {
     "name": "stdout",
     "output_type": "stream",
     "text": [
      "65 matching events found\n",
      "No baseline correction applied\n",
      "Not setting metadata\n",
      "0 projection items activated\n",
      "Ready.\n"
     ]
    }
   ],
   "source": [
    "data = mne.io.read_epochs_eeglab(local_path_0)\n",
    "data_new = mne.io.read_epochs_eeglab(local_path_1)"
   ]
  },
  {
   "cell_type": "code",
   "execution_count": 7,
   "metadata": {},
   "outputs": [
    {
     "name": "stdout",
     "output_type": "stream",
     "text": [
      "['Cz', 'C1', 'C2', 'C3', 'C4', 'C5', 'C6', 'C7', 'C8', 'FCz', 'FC1', 'FC2', 'FC3', 'FC4', 'FC5', 'FC6', 'FT7', 'FT8', 'CPz', 'CP1', 'CP2', 'CP3', 'CP4', 'CP5', 'CP6', 'TP7', 'TP8', 'Fz', 'F1', 'F2', 'F3', 'F4', 'F5', 'F6', 'F7', 'F8', 'Pz', 'P1', 'P2', 'P3', 'P4', 'P5', 'P6', 'P7', 'P8', 'AFz', 'AF3', 'AF4', 'AF7', 'AF8', 'Fp1', 'FP2', 'POz', 'PO3', 'PO4', 'PO7', 'PO8', 'Oz', 'O1', 'O2', 'Iz']\n"
     ]
    }
   ],
   "source": [
    "print(data.ch_names)"
   ]
  },
  {
   "cell_type": "code",
   "execution_count": 22,
   "metadata": {},
   "outputs": [],
   "source": [
    "def ch_numbers_to_names(ch_numbers):\n",
    "    ch_list = ch_numbers.split(', ')\n",
    "    ch_list = [int(ch) for ch in ch_list]\n",
    "    ch_names = np.array(data.ch_names)[ch_list]\n",
    "    for ch in ch_names[:-1]:\n",
    "        print(ch, end=', ')\n",
    "    print(ch_names[-1])\n",
    "    "
   ]
  },
  {
   "cell_type": "code",
   "execution_count": 23,
   "metadata": {},
   "outputs": [
    {
     "name": "stdout",
     "output_type": "stream",
     "text": [
      "Cz, C1, C2\n"
     ]
    }
   ],
   "source": [
    "ch_numbers_to_names('')"
   ]
  },
  {
   "cell_type": "code",
   "execution_count": 12,
   "metadata": {},
   "outputs": [
    {
     "name": "stdout",
     "output_type": "stream",
     "text": [
      "0 Cz\n",
      "1 C1\n",
      "2 C2\n",
      "3 C3\n",
      "4 C4\n",
      "5 C5\n",
      "6 C6\n",
      "7 C7\n",
      "8 C8\n",
      "9 FCz\n",
      "10 FC1\n",
      "11 FC2\n",
      "12 FC3\n",
      "13 FC4\n",
      "14 FC5\n",
      "15 FC6\n",
      "16 FT7\n",
      "17 FT8\n",
      "18 CPz\n",
      "19 CP1\n",
      "20 CP2\n",
      "21 CP3\n",
      "22 CP4\n",
      "23 CP5\n",
      "24 CP6\n",
      "25 TP7\n",
      "26 TP8\n",
      "27 Fz\n",
      "28 F1\n",
      "29 F2\n",
      "30 F3\n",
      "31 F4\n",
      "32 F5\n",
      "33 F6\n",
      "34 F7\n",
      "35 F8\n",
      "36 Pz\n",
      "37 P1\n",
      "38 P2\n",
      "39 P3\n",
      "40 P4\n",
      "41 P5\n",
      "42 P6\n",
      "43 P7\n",
      "44 P8\n",
      "45 AFz\n",
      "46 AF3\n",
      "47 AF4\n",
      "48 AF7\n",
      "49 AF8\n",
      "50 Fp1\n",
      "51 FP2\n",
      "52 POz\n",
      "53 PO3\n",
      "54 PO4\n",
      "55 PO7\n",
      "56 PO8\n",
      "57 Oz\n",
      "58 O1\n",
      "59 O2\n",
      "60 Iz\n"
     ]
    }
   ],
   "source": [
    "for i in range(len(data.ch_names)):\n",
    "    print (i, data.ch_names[i])"
   ]
  },
  {
   "cell_type": "code",
   "execution_count": 8,
   "metadata": {},
   "outputs": [
    {
     "ename": "AttributeError",
     "evalue": "type object 'set' has no attribute 'ch_names'",
     "output_type": "error",
     "traceback": [
      "\u001b[1;31m---------------------------------------------------------------------------\u001b[0m",
      "\u001b[1;31mAttributeError\u001b[0m                            Traceback (most recent call last)",
      "\u001b[1;32m<ipython-input-8-6ad1f5b0eb5d>\u001b[0m in \u001b[0;36m<module>\u001b[1;34m\u001b[0m\n\u001b[1;32m----> 1\u001b[1;33m \u001b[1;32mfor\u001b[0m \u001b[0mi\u001b[0m \u001b[1;32min\u001b[0m \u001b[0mrange\u001b[0m\u001b[1;33m(\u001b[0m\u001b[0mlen\u001b[0m\u001b[1;33m(\u001b[0m\u001b[0mset\u001b[0m\u001b[1;33m.\u001b[0m\u001b[0mch_names\u001b[0m\u001b[1;33m)\u001b[0m\u001b[1;33m)\u001b[0m\u001b[1;33m:\u001b[0m\u001b[1;33m\u001b[0m\u001b[1;33m\u001b[0m\u001b[0m\n\u001b[0m\u001b[0;32m      2\u001b[0m     \u001b[0mprint\u001b[0m \u001b[1;33m(\u001b[0m\u001b[0mi\u001b[0m\u001b[1;33m,\u001b[0m \u001b[0mdata\u001b[0m\u001b[1;33m.\u001b[0m\u001b[0mch_names\u001b[0m\u001b[1;33m[\u001b[0m\u001b[0mi\u001b[0m\u001b[1;33m]\u001b[0m\u001b[1;33m,\u001b[0m \u001b[0mdata_new\u001b[0m\u001b[1;33m.\u001b[0m\u001b[0mch_names\u001b[0m\u001b[1;33m[\u001b[0m\u001b[0mi\u001b[0m\u001b[1;33m]\u001b[0m \u001b[1;32mif\u001b[0m \u001b[0mi\u001b[0m\u001b[1;33m<\u001b[0m\u001b[1;36m48\u001b[0m \u001b[1;32melse\u001b[0m \u001b[1;34m''\u001b[0m\u001b[1;33m)\u001b[0m\u001b[1;33m\u001b[0m\u001b[1;33m\u001b[0m\u001b[0m\n",
      "\u001b[1;31mAttributeError\u001b[0m: type object 'set' has no attribute 'ch_names'"
     ]
    }
   ],
   "source": [
    "for i in range(len(set.ch_names)):\n",
    "    print (i, data.ch_names[i], data_new.ch_names[i] if i<48 else '')"
   ]
  },
  {
   "cell_type": "code",
   "execution_count": null,
   "metadata": {},
   "outputs": [],
   "source": []
  },
  {
   "cell_type": "code",
   "execution_count": 10,
   "metadata": {},
   "outputs": [
    {
     "name": "stdout",
     "output_type": "stream",
     "text": [
      "\n",
      "BUILT-IN MONTAGE FILES\n",
      "======================\n",
      "['EGI_256.csd', 'GSN-HydroCel-128.sfp', 'GSN-HydroCel-129.sfp', 'GSN-HydroCel-256.sfp', 'GSN-HydroCel-257.sfp', 'GSN-HydroCel-32.sfp', 'GSN-HydroCel-64_1.0.sfp', 'GSN-HydroCel-65_1.0.sfp', 'biosemi128.txt', 'biosemi16.txt', 'biosemi160.txt', 'biosemi256.txt', 'biosemi32.txt', 'biosemi64.txt', 'easycap-M1.txt', 'easycap-M10.txt', 'mgh60.elc', 'mgh70.elc', 'standard_1005.elc', 'standard_1020.elc', 'standard_alphabetic.elc', 'standard_postfixed.elc', 'standard_prefixed.elc', 'standard_primed.elc']\n"
     ]
    }
   ],
   "source": [
    "montage_dir = os.path.join(os.path.dirname(mne.__file__),\n",
    "                           'channels', 'data', 'montages')\n",
    "print('\\nBUILT-IN MONTAGE FILES')\n",
    "print('======================')\n",
    "print(sorted(os.listdir(montage_dir)))"
   ]
  },
  {
   "cell_type": "code",
   "execution_count": 20,
   "metadata": {},
   "outputs": [
    {
     "data": {
      "text/plain": [
       "<DigMontage | 0 extras (headshape), 0 HPIs, 3 fiducials, 74 channels>"
      ]
     },
     "execution_count": 20,
     "metadata": {},
     "output_type": "execute_result"
    }
   ],
   "source": [
    "mne.channels.make_standard_montage('standard_prefixed')"
   ]
  },
  {
   "cell_type": "code",
   "execution_count": 34,
   "metadata": {},
   "outputs": [
    {
     "name": "stdout",
     "output_type": "stream",
     "text": [
      "<DigMontage | 0 extras (headshape), 0 HPIs, 3 fiducials, 256 channels>\n",
      "<DigMontage | 0 extras (headshape), 0 HPIs, 3 fiducials, 128 channels>\n",
      "<DigMontage | 0 extras (headshape), 0 HPIs, 3 fiducials, 129 channels>\n",
      "<DigMontage | 0 extras (headshape), 0 HPIs, 3 fiducials, 256 channels>\n",
      "<DigMontage | 0 extras (headshape), 0 HPIs, 3 fiducials, 257 channels>\n",
      "<DigMontage | 0 extras (headshape), 0 HPIs, 3 fiducials, 33 channels>\n",
      "<DigMontage | 0 extras (headshape), 0 HPIs, 3 fiducials, 64 channels>\n",
      "<DigMontage | 0 extras (headshape), 0 HPIs, 3 fiducials, 65 channels>\n",
      "<DigMontage | 0 extras (headshape), 0 HPIs, 3 fiducials, 128 channels>\n",
      "<DigMontage | 0 extras (headshape), 0 HPIs, 3 fiducials, 16 channels>\n",
      "<DigMontage | 0 extras (headshape), 0 HPIs, 3 fiducials, 160 channels>\n",
      "<DigMontage | 0 extras (headshape), 0 HPIs, 3 fiducials, 256 channels>\n",
      "<DigMontage | 0 extras (headshape), 0 HPIs, 3 fiducials, 32 channels>\n",
      "<DigMontage | 0 extras (headshape), 0 HPIs, 3 fiducials, 64 channels>\n",
      "<DigMontage | 0 extras (headshape), 0 HPIs, 3 fiducials, 74 channels>\n",
      "<DigMontage | 0 extras (headshape), 0 HPIs, 3 fiducials, 74 channels>\n",
      "<DigMontage | 0 extras (headshape), 0 HPIs, 3 fiducials, 60 channels>\n",
      "<DigMontage | 0 extras (headshape), 0 HPIs, 3 fiducials, 70 channels>\n",
      "<DigMontage | 0 extras (headshape), 0 HPIs, 3 fiducials, 343 channels>\n",
      "<DigMontage | 0 extras (headshape), 0 HPIs, 3 fiducials, 94 channels>\n",
      "<DigMontage | 0 extras (headshape), 0 HPIs, 3 fiducials, 65 channels>\n",
      "<DigMontage | 0 extras (headshape), 0 HPIs, 3 fiducials, 100 channels>\n",
      "<DigMontage | 0 extras (headshape), 0 HPIs, 3 fiducials, 74 channels>\n",
      "<DigMontage | 0 extras (headshape), 0 HPIs, 3 fiducials, 100 channels>\n"
     ]
    }
   ],
   "source": [
    "for mf in sorted(os.listdir(montage_dir)):\n",
    "    print(mne.channels.make_standard_montage(mf[:-4]))"
   ]
  },
  {
   "cell_type": "code",
   "execution_count": null,
   "metadata": {},
   "outputs": [],
   "source": []
  },
  {
   "cell_type": "code",
   "execution_count": null,
   "metadata": {},
   "outputs": [],
   "source": []
  },
  {
   "cell_type": "code",
   "execution_count": null,
   "metadata": {},
   "outputs": [],
   "source": []
  }
 ],
 "metadata": {
  "kernelspec": {
   "display_name": "Python 3",
   "language": "python",
   "name": "python3"
  },
  "language_info": {
   "codemirror_mode": {
    "name": "ipython",
    "version": 3
   },
   "file_extension": ".py",
   "mimetype": "text/x-python",
   "name": "python",
   "nbconvert_exporter": "python",
   "pygments_lexer": "ipython3",
   "version": "3.7.3"
  }
 },
 "nbformat": 4,
 "nbformat_minor": 2
}
