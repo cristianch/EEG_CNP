{
 "cells": [
  {
   "cell_type": "code",
   "execution_count": 1,
   "metadata": {},
   "outputs": [],
   "source": [
    "# Only run this once\n",
    "import os\n",
    "os.chdir('..')"
   ]
  },
  {
   "cell_type": "code",
   "execution_count": 2,
   "metadata": {},
   "outputs": [],
   "source": [
    "import numpy as np\n",
    "import scipy\n",
    "from scipy import signal\n",
    "import mne\n",
    "import glob\n",
    "import HiguchiFractalDimension as hfd\n",
    "import csv\n",
    "import matplotlib.pyplot as plt\n",
    "from matplotlib import colors\n",
    "\n",
    "import utils.logger\n",
    "from utils.experiments_classification import classify_nusvm_cross_valid, classify_nusvm_param_seach"
   ]
  },
  {
   "cell_type": "code",
   "execution_count": 3,
   "metadata": {},
   "outputs": [
    {
     "data": {
      "text/plain": [
       "<module 'utils.experiments_setup' from 'D:\\\\etc\\\\uni\\\\yr5\\\\project\\\\workspace\\\\eeg-cnp-final-year-project\\\\utils\\\\experiments_setup.py'>"
      ]
     },
     "execution_count": 3,
     "metadata": {},
     "output_type": "execute_result"
    }
   ],
   "source": [
    "import importlib\n",
    "importlib.reload(utils.experiments_classification)\n",
    "importlib.reload(utils.experiments_setup)"
   ]
  },
  {
   "cell_type": "code",
   "execution_count": null,
   "metadata": {},
   "outputs": [],
   "source": []
  },
  {
   "cell_type": "code",
   "execution_count": 4,
   "metadata": {},
   "outputs": [],
   "source": [
    "def patient_array_to_hfd(repetitions, window_start=None, window_size=500, step_size=1, k=7):\n",
    "    '''\n",
    "    Apply HFD to all repetitions from given patient; input shape [n_repetitions, n_channels, n_features]\n",
    "    '''\n",
    "    if window_start != None:\n",
    "        print('Calculating HFD with window start', str(window_start), 'window size', str(window_size), 'step', str(step_size))\n",
    "        return np.array([np.array([[hfd.hfd(channel[window_start:window_start+window_size:step_size], num_k=k)] for channel in repetition]) for repetition in repetitions])\n",
    "    print('Calculating HFD over entire time series')\n",
    "    return np.array([np.array([[hfd.hfd(channel, num_k=k)] for channel in repetition]) for repetition in repetitions])"
   ]
  },
  {
   "cell_type": "code",
   "execution_count": null,
   "metadata": {},
   "outputs": [],
   "source": []
  },
  {
   "cell_type": "markdown",
   "metadata": {},
   "source": [
    "# Apply HFD to datasets"
   ]
  },
  {
   "cell_type": "code",
   "execution_count": 5,
   "metadata": {},
   "outputs": [],
   "source": [
    "# Returns relevant datasets (f.e. all right-hand recordings of healthy patients) as a list of np arrays\n",
    "def get_datasets(patient_type_location, recording_type_expression):\n",
    "    if recording_type_expression != l_new['extension']:\n",
    "        sets_locations = glob.glob(patient_type_location + recording_type_expression + suffix)\n",
    "    else:\n",
    "        sets_locations = glob.glob(patient_type_location + recording_type_expression)\n",
    "    \n",
    "    sets = []\n",
    "    for path in sets_locations: \n",
    "        sets.append(mne.io.read_epochs_eeglab(path))\n",
    "        \n",
    "    return np.array(np.array([(patient._data) for patient in sets]))\n",
    "\n",
    "\n",
    "def get_channel_names(patient_type_location, recording_type_expression):\n",
    "    '''\n",
    "    Returns the list of channel names in order\n",
    "    Only works if ALL chosen datasets use the same channels\n",
    "    '''\n",
    "    if recording_type_expression != l_new:\n",
    "        sets_locations = glob.glob(patient_type_location + recording_type_expression + suffix)\n",
    "    else:\n",
    "        sets_locations = glob.glob(patient_type_location + recording_type_expression)\n",
    "        \n",
    "    return mne.io.read_epochs_eeglab(sets_locations[0]).ch_names\n",
    "    "
   ]
  },
  {
   "cell_type": "code",
   "execution_count": 6,
   "metadata": {},
   "outputs": [
    {
     "data": {
      "text/plain": [
       "['./../../data_new/raw/PdP\\\\PdP_3\\\\PdP_3_L.set',\n",
       " './../../data_new/raw/PdP\\\\PdP_4\\\\PdP_4_L.set',\n",
       " './../../data_new/raw/PdP\\\\PdP_5\\\\PdP_5_L.set',\n",
       " './../../data_new/raw/PdP\\\\PdP_6\\\\PdP_6_L.set',\n",
       " './../../data_new/raw/PdP\\\\PdP_7\\\\PdP_7_L.set']"
      ]
     },
     "execution_count": 6,
     "metadata": {},
     "output_type": "execute_result"
    }
   ],
   "source": [
    "root = './../../'\n",
    "suffix = '*.set'\n",
    "\n",
    "location_healthy = root + 'data/raw/HV/*/'\n",
    "location_pain = root + 'data/raw/PP/*/'\n",
    "location_nopain = root + 'data/raw/PnP/*/'\n",
    "\n",
    "location_pwp = root + 'data_new/raw/PwP/*/'\n",
    "location_pdp = root + 'data_new/raw/PdP/*/'\n",
    "location_pnp = root + 'data_new/raw/PnP/*/'\n",
    "\n",
    "\n",
    "rh = {'name': 'RH', 'extension': '*_RH*'}\n",
    "lh = {'name': 'LH', 'extension': '*_LH*'}\n",
    "l_new = {'name': 'L', 'extension': '*_L.set'}   # NO SUFFIX\n",
    "l_old = {'name': 'L', 'extension': '*_L_*'}\n",
    "\n",
    "sets_healthy_rh = glob.glob(location_pdp + l_new['extension'])\n",
    "sets_healthy_rh"
   ]
  },
  {
   "cell_type": "code",
   "execution_count": 22,
   "metadata": {},
   "outputs": [
    {
     "name": "stdout",
     "output_type": "stream",
     "text": [
      "Extracting parameters from ./../../data/raw/PP\\PP1\\PP1_F1_LH_Removed_ICA.set...\n",
      "56 matching events found\n",
      "No baseline correction applied\n",
      "Not setting metadata\n",
      "0 projection items activated\n",
      "Ready.\n",
      "Extracting parameters from ./../../data/raw/PP\\PP10\\PP10_F1_LH_Removed_ICA.set...\n",
      "60 matching events found\n",
      "No baseline correction applied\n",
      "Not setting metadata\n"
     ]
    },
    {
     "name": "stderr",
     "output_type": "stream",
     "text": [
      "<ipython-input-5-a40508d617f2>:10: RuntimeWarning: At least one epoch has multiple events. Only the latency of the first event will be retained.\n",
      "  sets.append(mne.io.read_epochs_eeglab(path))\n",
      "<ipython-input-5-a40508d617f2>:10: RuntimeWarning: At least one epoch has multiple events. Only the latency of the first event will be retained.\n",
      "  sets.append(mne.io.read_epochs_eeglab(path))\n"
     ]
    },
    {
     "name": "stdout",
     "output_type": "stream",
     "text": [
      "0 projection items activated\n",
      "Ready.\n",
      "Extracting parameters from ./../../data/raw/PP\\PP11\\PP11_F1_LH_Removed_ICA.set...\n",
      "60 matching events found\n",
      "No baseline correction applied\n",
      "Not setting metadata\n",
      "0 projection items activated\n",
      "Ready.\n",
      "Extracting parameters from ./../../data/raw/PP\\PP2\\PP2_F1_LH_Removed_ICA.set...\n",
      "54 matching events found\n"
     ]
    },
    {
     "name": "stderr",
     "output_type": "stream",
     "text": [
      "<ipython-input-5-a40508d617f2>:10: RuntimeWarning: At least one epoch has multiple events. Only the latency of the first event will be retained.\n",
      "  sets.append(mne.io.read_epochs_eeglab(path))\n",
      "<ipython-input-5-a40508d617f2>:10: RuntimeWarning: At least one epoch has multiple events. Only the latency of the first event will be retained.\n",
      "  sets.append(mne.io.read_epochs_eeglab(path))\n"
     ]
    },
    {
     "name": "stdout",
     "output_type": "stream",
     "text": [
      "No baseline correction applied\n",
      "Not setting metadata\n",
      "0 projection items activated\n",
      "Ready.\n",
      "Extracting parameters from ./../../data/raw/PP\\PP3\\PP3_F1_LH_Removed_ICA.set...\n",
      "51 matching events found\n",
      "No baseline correction applied\n",
      "Not setting metadata\n",
      "0 projection items activated\n",
      "Ready.\n",
      "Extracting parameters from ./../../data/raw/PP\\PP4\\PP4_F1_LH_Removed_ICA.set...\n",
      "58 matching events found\n",
      "No baseline correction applied\n",
      "Not setting metadata\n"
     ]
    },
    {
     "name": "stderr",
     "output_type": "stream",
     "text": [
      "<ipython-input-5-a40508d617f2>:10: RuntimeWarning: At least one epoch has multiple events. Only the latency of the first event will be retained.\n",
      "  sets.append(mne.io.read_epochs_eeglab(path))\n",
      "<ipython-input-5-a40508d617f2>:10: RuntimeWarning: At least one epoch has multiple events. Only the latency of the first event will be retained.\n",
      "  sets.append(mne.io.read_epochs_eeglab(path))\n"
     ]
    },
    {
     "name": "stdout",
     "output_type": "stream",
     "text": [
      "0 projection items activated\n",
      "Ready.\n",
      "Extracting parameters from ./../../data/raw/PP\\PP5\\PP5_F1_LH_Removed_ICA.set...\n",
      "55 matching events found\n",
      "No baseline correction applied\n",
      "Not setting metadata\n",
      "0 projection items activated\n",
      "Ready.\n",
      "Extracting parameters from ./../../data/raw/PP\\PP6\\PP6_F1_LH_Removed_ICA.set...\n",
      "27 matching events found\n",
      "No baseline correction applied\n",
      "Not setting metadata\n",
      "0 projection items activated\n",
      "Ready.\n"
     ]
    },
    {
     "name": "stderr",
     "output_type": "stream",
     "text": [
      "<ipython-input-5-a40508d617f2>:10: RuntimeWarning: At least one epoch has multiple events. Only the latency of the first event will be retained.\n",
      "  sets.append(mne.io.read_epochs_eeglab(path))\n",
      "<ipython-input-5-a40508d617f2>:10: RuntimeWarning: At least one epoch has multiple events. Only the latency of the first event will be retained.\n",
      "  sets.append(mne.io.read_epochs_eeglab(path))\n"
     ]
    },
    {
     "name": "stdout",
     "output_type": "stream",
     "text": [
      "Extracting parameters from ./../../data/raw/PP\\PP7\\PP7_F1_LH_Removed_ICA.set...\n",
      "53 matching events found\n",
      "No baseline correction applied\n",
      "Not setting metadata\n",
      "0 projection items activated\n",
      "Ready.\n",
      "Extracting parameters from ./../../data/raw/PP\\PP9\\PP9_F1_LH_Removed_ICA.set...\n",
      "51 matching events found\n",
      "No baseline correction applied\n",
      "Not setting metadata\n"
     ]
    },
    {
     "name": "stderr",
     "output_type": "stream",
     "text": [
      "<ipython-input-5-a40508d617f2>:10: RuntimeWarning: At least one epoch has multiple events. Only the latency of the first event will be retained.\n",
      "  sets.append(mne.io.read_epochs_eeglab(path))\n",
      "<ipython-input-5-a40508d617f2>:10: RuntimeWarning: At least one epoch has multiple events. Only the latency of the first event will be retained.\n",
      "  sets.append(mne.io.read_epochs_eeglab(path))\n"
     ]
    },
    {
     "name": "stdout",
     "output_type": "stream",
     "text": [
      "0 projection items activated\n",
      "Ready.\n",
      "Extracting parameters from ./../../data/raw/PnP\\PnP1\\PnP1_F1_LH_Removed_ICA.set...\n",
      "51 matching events found\n",
      "No baseline correction applied\n",
      "Not setting metadata\n",
      "0 projection items activated\n",
      "Ready.\n",
      "Extracting parameters from ./../../data/raw/PnP\\PnP2\\PnP2_F1_LH_Removed_ICA.set...\n",
      "55 matching events found\n",
      "No baseline correction applied\n",
      "Not setting metadata\n",
      "0 projection items activated\n"
     ]
    },
    {
     "name": "stderr",
     "output_type": "stream",
     "text": [
      "<ipython-input-5-a40508d617f2>:10: RuntimeWarning: At least one epoch has multiple events. Only the latency of the first event will be retained.\n",
      "  sets.append(mne.io.read_epochs_eeglab(path))\n",
      "<ipython-input-5-a40508d617f2>:10: RuntimeWarning: At least one epoch has multiple events. Only the latency of the first event will be retained.\n",
      "  sets.append(mne.io.read_epochs_eeglab(path))\n"
     ]
    },
    {
     "name": "stdout",
     "output_type": "stream",
     "text": [
      "Ready.\n",
      "Extracting parameters from ./../../data/raw/PnP\\PnP3\\PnP3_F1_LH_Removed_ICA.set...\n",
      "43 matching events found\n",
      "No baseline correction applied\n",
      "Not setting metadata\n",
      "0 projection items activated\n",
      "Ready.\n",
      "Extracting parameters from ./../../data/raw/PnP\\PnP4\\PnP4_F1_LH_Removed_ICA.set...\n",
      "57 matching events found\n",
      "No baseline correction applied\n",
      "Not setting metadata\n",
      "0 projection items activated\n",
      "Ready.\n"
     ]
    },
    {
     "name": "stderr",
     "output_type": "stream",
     "text": [
      "<ipython-input-5-a40508d617f2>:10: RuntimeWarning: At least one epoch has multiple events. Only the latency of the first event will be retained.\n",
      "  sets.append(mne.io.read_epochs_eeglab(path))\n",
      "<ipython-input-5-a40508d617f2>:10: RuntimeWarning: At least one epoch has multiple events. Only the latency of the first event will be retained.\n",
      "  sets.append(mne.io.read_epochs_eeglab(path))\n"
     ]
    },
    {
     "name": "stdout",
     "output_type": "stream",
     "text": [
      "Extracting parameters from ./../../data/raw/PnP\\PnP5\\PnP5_F1_LH_Removed_ICA.set...\n",
      "54 matching events found\n",
      "No baseline correction applied\n",
      "Not setting metadata\n",
      "0 projection items activated\n",
      "Ready.\n",
      "Extracting parameters from ./../../data/raw/PnP\\PnP6\\PnP6_F1_LH_Removed_ICA.set...\n",
      "53 matching events found\n",
      "No baseline correction applied\n",
      "Not setting metadata\n",
      "0 projection items activated\n",
      "Ready.\n"
     ]
    },
    {
     "name": "stderr",
     "output_type": "stream",
     "text": [
      "<ipython-input-5-a40508d617f2>:10: RuntimeWarning: At least one epoch has multiple events. Only the latency of the first event will be retained.\n",
      "  sets.append(mne.io.read_epochs_eeglab(path))\n",
      "<ipython-input-5-a40508d617f2>:10: RuntimeWarning: At least one epoch has multiple events. Only the latency of the first event will be retained.\n",
      "  sets.append(mne.io.read_epochs_eeglab(path))\n"
     ]
    },
    {
     "name": "stdout",
     "output_type": "stream",
     "text": [
      "Extracting parameters from ./../../data/raw/PnP\\PnP7\\PnP7_F01_LH_Removed_ICA.set...\n",
      "59 matching events found\n",
      "No baseline correction applied\n",
      "Not setting metadata\n",
      "0 projection items activated\n",
      "Ready.\n",
      "Extracting parameters from ./../../data/raw/PnP\\PnP8\\PnP8_F1_LH_Removed_ICA.set...\n",
      "58 matching events found\n",
      "No baseline correction applied\n",
      "Not setting metadata\n",
      "0 projection items activated\n",
      "Ready.\n"
     ]
    },
    {
     "name": "stderr",
     "output_type": "stream",
     "text": [
      "<ipython-input-5-a40508d617f2>:10: RuntimeWarning: At least one epoch has multiple events. Only the latency of the first event will be retained.\n",
      "  sets.append(mne.io.read_epochs_eeglab(path))\n",
      "<ipython-input-5-a40508d617f2>:10: RuntimeWarning: At least one epoch has multiple events. Only the latency of the first event will be retained.\n",
      "  sets.append(mne.io.read_epochs_eeglab(path))\n"
     ]
    },
    {
     "name": "stdout",
     "output_type": "stream",
     "text": [
      "Extracting parameters from ./../../data/raw/PnP\\PnP9\\PnP9_F1_LH_Removed_ICA.set...\n",
      "50 matching events found\n",
      "No baseline correction applied\n",
      "Not setting metadata\n",
      "0 projection items activated\n",
      "Ready.\n"
     ]
    },
    {
     "name": "stderr",
     "output_type": "stream",
     "text": [
      "<ipython-input-5-a40508d617f2>:10: RuntimeWarning: At least one epoch has multiple events. Only the latency of the first event will be retained.\n",
      "  sets.append(mne.io.read_epochs_eeglab(path))\n"
     ]
    },
    {
     "name": "stdout",
     "output_type": "stream",
     "text": [
      "Extracting parameters from ./../../data/raw/HV\\HV1\\HV1_F1_LH_Removed_ICA.set...\n"
     ]
    },
    {
     "name": "stderr",
     "output_type": "stream",
     "text": [
      "<ipython-input-5-a40508d617f2>:10: RuntimeWarning: At least one epoch has multiple events. Only the latency of the first event will be retained.\n",
      "  sets.append(mne.io.read_epochs_eeglab(path))\n"
     ]
    },
    {
     "name": "stdout",
     "output_type": "stream",
     "text": [
      "59 matching events found\n",
      "No baseline correction applied\n",
      "Not setting metadata\n",
      "0 projection items activated\n",
      "Ready.\n",
      "Extracting parameters from ./../../data/raw/HV\\HV10\\HV10_F1_LH_Removed_ICA.set...\n",
      "51 matching events found\n"
     ]
    },
    {
     "name": "stderr",
     "output_type": "stream",
     "text": [
      "<ipython-input-5-a40508d617f2>:10: RuntimeWarning: At least one epoch has multiple events. Only the latency of the first event will be retained.\n",
      "  sets.append(mne.io.read_epochs_eeglab(path))\n"
     ]
    },
    {
     "name": "stdout",
     "output_type": "stream",
     "text": [
      "No baseline correction applied\n",
      "Not setting metadata\n",
      "0 projection items activated\n",
      "Ready.\n",
      "Extracting parameters from ./../../data/raw/HV\\HV2\\HV2_F1_LH_Removed_ICA.set...\n"
     ]
    },
    {
     "name": "stderr",
     "output_type": "stream",
     "text": [
      "<ipython-input-5-a40508d617f2>:10: RuntimeWarning: At least one epoch has multiple events. Only the latency of the first event will be retained.\n",
      "  sets.append(mne.io.read_epochs_eeglab(path))\n"
     ]
    },
    {
     "name": "stdout",
     "output_type": "stream",
     "text": [
      "55 matching events found\n",
      "No baseline correction applied\n",
      "Not setting metadata\n",
      "0 projection items activated\n",
      "Ready.\n",
      "Extracting parameters from ./../../data/raw/HV\\HV3\\HV3_F1_LH_Removed_ICA.set...\n"
     ]
    },
    {
     "name": "stderr",
     "output_type": "stream",
     "text": [
      "<ipython-input-5-a40508d617f2>:10: RuntimeWarning: At least one epoch has multiple events. Only the latency of the first event will be retained.\n",
      "  sets.append(mne.io.read_epochs_eeglab(path))\n"
     ]
    },
    {
     "name": "stdout",
     "output_type": "stream",
     "text": [
      "52 matching events found\n",
      "No baseline correction applied\n",
      "Not setting metadata\n",
      "0 projection items activated\n",
      "Ready.\n",
      "Extracting parameters from ./../../data/raw/HV\\HV4\\HV4_F1_LH_Removed_ICA.set...\n"
     ]
    },
    {
     "name": "stderr",
     "output_type": "stream",
     "text": [
      "<ipython-input-5-a40508d617f2>:10: RuntimeWarning: At least one epoch has multiple events. Only the latency of the first event will be retained.\n",
      "  sets.append(mne.io.read_epochs_eeglab(path))\n"
     ]
    },
    {
     "name": "stdout",
     "output_type": "stream",
     "text": [
      "54 matching events found\n",
      "No baseline correction applied\n",
      "Not setting metadata\n",
      "0 projection items activated\n",
      "Ready.\n",
      "Extracting parameters from ./../../data/raw/HV\\HV5\\HV5_F1_LH_Removed_ICA.set...\n"
     ]
    },
    {
     "name": "stderr",
     "output_type": "stream",
     "text": [
      "<ipython-input-5-a40508d617f2>:10: RuntimeWarning: At least one epoch has multiple events. Only the latency of the first event will be retained.\n",
      "  sets.append(mne.io.read_epochs_eeglab(path))\n"
     ]
    },
    {
     "name": "stdout",
     "output_type": "stream",
     "text": [
      "55 matching events found\n",
      "No baseline correction applied\n",
      "Not setting metadata\n",
      "0 projection items activated\n",
      "Ready.\n",
      "Extracting parameters from ./../../data/raw/HV\\HV6\\HV6_F1_LH_Removed_ICA.set...\n"
     ]
    },
    {
     "name": "stderr",
     "output_type": "stream",
     "text": [
      "<ipython-input-5-a40508d617f2>:10: RuntimeWarning: At least one epoch has multiple events. Only the latency of the first event will be retained.\n",
      "  sets.append(mne.io.read_epochs_eeglab(path))\n"
     ]
    },
    {
     "name": "stdout",
     "output_type": "stream",
     "text": [
      "55 matching events found\n",
      "No baseline correction applied\n",
      "Not setting metadata\n",
      "0 projection items activated\n",
      "Ready.\n",
      "Extracting parameters from ./../../data/raw/HV\\HV7\\HV7_F1_LH_Removed_ICA.set...\n"
     ]
    },
    {
     "name": "stderr",
     "output_type": "stream",
     "text": [
      "<ipython-input-5-a40508d617f2>:10: RuntimeWarning: At least one epoch has multiple events. Only the latency of the first event will be retained.\n",
      "  sets.append(mne.io.read_epochs_eeglab(path))\n"
     ]
    },
    {
     "name": "stdout",
     "output_type": "stream",
     "text": [
      "57 matching events found\n",
      "No baseline correction applied\n",
      "Not setting metadata\n",
      "0 projection items activated\n",
      "Ready.\n",
      "Extracting parameters from ./../../data/raw/HV\\HV8\\HV8_F1_LH_Removed_ICA.set...\n",
      "57 matching events found\n"
     ]
    },
    {
     "name": "stderr",
     "output_type": "stream",
     "text": [
      "<ipython-input-5-a40508d617f2>:10: RuntimeWarning: At least one epoch has multiple events. Only the latency of the first event will be retained.\n",
      "  sets.append(mne.io.read_epochs_eeglab(path))\n"
     ]
    },
    {
     "name": "stdout",
     "output_type": "stream",
     "text": [
      "No baseline correction applied\n",
      "Not setting metadata\n",
      "0 projection items activated\n",
      "Ready.\n",
      "Extracting parameters from ./../../data/raw/HV\\HV9\\HV9_F1_LH_Removed_ICA.set...\n",
      "51 matching events found\n"
     ]
    },
    {
     "name": "stderr",
     "output_type": "stream",
     "text": [
      "<ipython-input-5-a40508d617f2>:10: RuntimeWarning: At least one epoch has multiple events. Only the latency of the first event will be retained.\n",
      "  sets.append(mne.io.read_epochs_eeglab(path))\n"
     ]
    },
    {
     "name": "stdout",
     "output_type": "stream",
     "text": [
      "No baseline correction applied\n",
      "Not setting metadata\n",
      "0 projection items activated\n",
      "Ready.\n"
     ]
    }
   ],
   "source": [
    "limb = lh\n",
    "\n",
    "pp_rh_raw = get_datasets(location_pain, limb['extension'])\n",
    "pnp_rh_raw = get_datasets(location_nopain, limb['extension'])\n",
    "hv_rh_raw = get_datasets(location_healthy, limb['extension'])"
   ]
  },
  {
   "cell_type": "markdown",
   "metadata": {},
   "source": [
    "Alternatively, use all limbs"
   ]
  },
  {
   "cell_type": "code",
   "execution_count": 8,
   "metadata": {},
   "outputs": [
    {
     "name": "stdout",
     "output_type": "stream",
     "text": [
      "Extracting parameters from ./../../data/raw/PP\\PP1\\PP1_F1_RH_Removed_ICA.set...\n"
     ]
    },
    {
     "name": "stderr",
     "output_type": "stream",
     "text": [
      "<ipython-input-5-a40508d617f2>:10: RuntimeWarning: At least one epoch has multiple events. Only the latency of the first event will be retained.\n",
      "  sets.append(mne.io.read_epochs_eeglab(path))\n"
     ]
    },
    {
     "name": "stdout",
     "output_type": "stream",
     "text": [
      "57 matching events found\n",
      "No baseline correction applied\n",
      "Not setting metadata\n",
      "0 projection items activated\n",
      "Ready.\n",
      "Extracting parameters from ./../../data/raw/PP\\PP10\\PP10_F1_RH_Removed_ICA.set...\n"
     ]
    },
    {
     "name": "stderr",
     "output_type": "stream",
     "text": [
      "<ipython-input-5-a40508d617f2>:10: RuntimeWarning: At least one epoch has multiple events. Only the latency of the first event will be retained.\n",
      "  sets.append(mne.io.read_epochs_eeglab(path))\n"
     ]
    },
    {
     "name": "stdout",
     "output_type": "stream",
     "text": [
      "57 matching events found\n",
      "No baseline correction applied\n",
      "Not setting metadata\n",
      "0 projection items activated\n",
      "Ready.\n",
      "Extracting parameters from ./../../data/raw/PP\\PP11\\PP11_F1_RH_Removed_ICA.set...\n"
     ]
    },
    {
     "name": "stderr",
     "output_type": "stream",
     "text": [
      "<ipython-input-5-a40508d617f2>:10: RuntimeWarning: At least one epoch has multiple events. Only the latency of the first event will be retained.\n",
      "  sets.append(mne.io.read_epochs_eeglab(path))\n"
     ]
    },
    {
     "name": "stdout",
     "output_type": "stream",
     "text": [
      "59 matching events found\n",
      "No baseline correction applied\n",
      "Not setting metadata\n",
      "0 projection items activated\n",
      "Ready.\n",
      "Extracting parameters from ./../../data/raw/PP\\PP2\\PP2_F1_RH_Removed_ICA.set...\n"
     ]
    },
    {
     "name": "stderr",
     "output_type": "stream",
     "text": [
      "<ipython-input-5-a40508d617f2>:10: RuntimeWarning: At least one epoch has multiple events. Only the latency of the first event will be retained.\n",
      "  sets.append(mne.io.read_epochs_eeglab(path))\n"
     ]
    },
    {
     "name": "stdout",
     "output_type": "stream",
     "text": [
      "54 matching events found\n",
      "No baseline correction applied\n",
      "Not setting metadata\n",
      "0 projection items activated\n",
      "Ready.\n",
      "Extracting parameters from ./../../data/raw/PP\\PP3\\PP3_F1_RH_Removed_ICA.set...\n"
     ]
    },
    {
     "name": "stderr",
     "output_type": "stream",
     "text": [
      "<ipython-input-5-a40508d617f2>:10: RuntimeWarning: At least one epoch has multiple events. Only the latency of the first event will be retained.\n",
      "  sets.append(mne.io.read_epochs_eeglab(path))\n"
     ]
    },
    {
     "name": "stdout",
     "output_type": "stream",
     "text": [
      "51 matching events found\n",
      "No baseline correction applied\n",
      "Not setting metadata\n",
      "0 projection items activated\n",
      "Ready.\n",
      "Extracting parameters from ./../../data/raw/PP\\PP4\\PP4_F1_RH_Removed_ICA.set...\n"
     ]
    },
    {
     "name": "stderr",
     "output_type": "stream",
     "text": [
      "<ipython-input-5-a40508d617f2>:10: RuntimeWarning: At least one epoch has multiple events. Only the latency of the first event will be retained.\n",
      "  sets.append(mne.io.read_epochs_eeglab(path))\n"
     ]
    },
    {
     "name": "stdout",
     "output_type": "stream",
     "text": [
      "58 matching events found\n",
      "No baseline correction applied\n",
      "Not setting metadata\n",
      "0 projection items activated\n",
      "Ready.\n",
      "Extracting parameters from ./../../data/raw/PP\\PP5\\PP5_F1_RH_Removed_ICA.set...\n"
     ]
    },
    {
     "name": "stderr",
     "output_type": "stream",
     "text": [
      "<ipython-input-5-a40508d617f2>:10: RuntimeWarning: At least one epoch has multiple events. Only the latency of the first event will be retained.\n",
      "  sets.append(mne.io.read_epochs_eeglab(path))\n"
     ]
    },
    {
     "name": "stdout",
     "output_type": "stream",
     "text": [
      "56 matching events found\n",
      "No baseline correction applied\n",
      "Not setting metadata\n",
      "0 projection items activated\n",
      "Ready.\n",
      "Extracting parameters from ./../../data/raw/PP\\PP6\\PP6_F1_RH_Removed_ICA.set...\n",
      "32 matching events found\n",
      "No baseline correction applied\n",
      "Not setting metadata\n",
      "0 projection items activated\n",
      "Ready.\n"
     ]
    },
    {
     "name": "stderr",
     "output_type": "stream",
     "text": [
      "<ipython-input-5-a40508d617f2>:10: RuntimeWarning: At least one epoch has multiple events. Only the latency of the first event will be retained.\n",
      "  sets.append(mne.io.read_epochs_eeglab(path))\n"
     ]
    },
    {
     "name": "stdout",
     "output_type": "stream",
     "text": [
      "Extracting parameters from ./../../data/raw/PP\\PP7\\PP7_F1_RH_Removed_ICA.set...\n"
     ]
    },
    {
     "name": "stderr",
     "output_type": "stream",
     "text": [
      "<ipython-input-5-a40508d617f2>:10: RuntimeWarning: At least one epoch has multiple events. Only the latency of the first event will be retained.\n",
      "  sets.append(mne.io.read_epochs_eeglab(path))\n"
     ]
    },
    {
     "name": "stdout",
     "output_type": "stream",
     "text": [
      "52 matching events found\n",
      "No baseline correction applied\n",
      "Not setting metadata\n",
      "0 projection items activated\n",
      "Ready.\n",
      "Extracting parameters from ./../../data/raw/PP\\PP9\\PP9_F1_RH_Removed_ICA.set...\n"
     ]
    },
    {
     "name": "stderr",
     "output_type": "stream",
     "text": [
      "<ipython-input-5-a40508d617f2>:10: RuntimeWarning: At least one epoch has multiple events. Only the latency of the first event will be retained.\n",
      "  sets.append(mne.io.read_epochs_eeglab(path))\n"
     ]
    },
    {
     "name": "stdout",
     "output_type": "stream",
     "text": [
      "54 matching events found\n",
      "No baseline correction applied\n",
      "Not setting metadata\n",
      "0 projection items activated\n",
      "Ready.\n",
      "Extracting parameters from ./../../data/raw/PnP\\PnP1\\PnP1_F1_RH_Removed_ICA.set...\n",
      "50 matching events found\n"
     ]
    },
    {
     "name": "stderr",
     "output_type": "stream",
     "text": [
      "<ipython-input-5-a40508d617f2>:10: RuntimeWarning: At least one epoch has multiple events. Only the latency of the first event will be retained.\n",
      "  sets.append(mne.io.read_epochs_eeglab(path))\n"
     ]
    },
    {
     "name": "stdout",
     "output_type": "stream",
     "text": [
      "No baseline correction applied\n",
      "Not setting metadata\n",
      "0 projection items activated\n",
      "Ready.\n",
      "Extracting parameters from ./../../data/raw/PnP\\PnP2\\PnP2_F1_RH_Removed_ICA.set...\n",
      "54 matching events found\n"
     ]
    },
    {
     "name": "stderr",
     "output_type": "stream",
     "text": [
      "<ipython-input-5-a40508d617f2>:10: RuntimeWarning: At least one epoch has multiple events. Only the latency of the first event will be retained.\n",
      "  sets.append(mne.io.read_epochs_eeglab(path))\n"
     ]
    },
    {
     "name": "stdout",
     "output_type": "stream",
     "text": [
      "No baseline correction applied\n",
      "Not setting metadata\n",
      "0 projection items activated\n",
      "Ready.\n",
      "Extracting parameters from ./../../data/raw/PnP\\PnP3\\PnP3_F1_RH_Removed_ICA.set...\n",
      "44 matching events found\n"
     ]
    },
    {
     "name": "stderr",
     "output_type": "stream",
     "text": [
      "<ipython-input-5-a40508d617f2>:10: RuntimeWarning: At least one epoch has multiple events. Only the latency of the first event will be retained.\n",
      "  sets.append(mne.io.read_epochs_eeglab(path))\n"
     ]
    },
    {
     "name": "stdout",
     "output_type": "stream",
     "text": [
      "No baseline correction applied\n",
      "Not setting metadata\n",
      "0 projection items activated\n",
      "Ready.\n",
      "Extracting parameters from ./../../data/raw/PnP\\PnP4\\PnP4_F1_RH_Removed_ICA.set...\n"
     ]
    },
    {
     "name": "stderr",
     "output_type": "stream",
     "text": [
      "<ipython-input-5-a40508d617f2>:10: RuntimeWarning: At least one epoch has multiple events. Only the latency of the first event will be retained.\n",
      "  sets.append(mne.io.read_epochs_eeglab(path))\n"
     ]
    },
    {
     "name": "stdout",
     "output_type": "stream",
     "text": [
      "55 matching events found\n",
      "No baseline correction applied\n",
      "Not setting metadata\n",
      "0 projection items activated\n",
      "Ready.\n",
      "Extracting parameters from ./../../data/raw/PnP\\PnP5\\PnP5_F1_RH_Removed_ICA.set...\n",
      "50 matching events found\n"
     ]
    },
    {
     "name": "stderr",
     "output_type": "stream",
     "text": [
      "<ipython-input-5-a40508d617f2>:10: RuntimeWarning: At least one epoch has multiple events. Only the latency of the first event will be retained.\n",
      "  sets.append(mne.io.read_epochs_eeglab(path))\n"
     ]
    },
    {
     "name": "stdout",
     "output_type": "stream",
     "text": [
      "No baseline correction applied\n",
      "Not setting metadata\n",
      "0 projection items activated\n",
      "Ready.\n",
      "Extracting parameters from ./../../data/raw/PnP\\PnP6\\PnP6_F1_RH_Removed_ICA.set...\n",
      "55 matching events found\n"
     ]
    },
    {
     "name": "stderr",
     "output_type": "stream",
     "text": [
      "<ipython-input-5-a40508d617f2>:10: RuntimeWarning: At least one epoch has multiple events. Only the latency of the first event will be retained.\n",
      "  sets.append(mne.io.read_epochs_eeglab(path))\n"
     ]
    },
    {
     "name": "stdout",
     "output_type": "stream",
     "text": [
      "No baseline correction applied\n",
      "Not setting metadata\n",
      "0 projection items activated\n",
      "Ready.\n",
      "Extracting parameters from ./../../data/raw/PnP\\PnP7\\PnP7_F01_RH_Removed_ICA.set...\n"
     ]
    },
    {
     "name": "stderr",
     "output_type": "stream",
     "text": [
      "<ipython-input-5-a40508d617f2>:10: RuntimeWarning: At least one epoch has multiple events. Only the latency of the first event will be retained.\n",
      "  sets.append(mne.io.read_epochs_eeglab(path))\n"
     ]
    },
    {
     "name": "stdout",
     "output_type": "stream",
     "text": [
      "58 matching events found\n",
      "No baseline correction applied\n",
      "Not setting metadata\n",
      "0 projection items activated\n",
      "Ready.\n",
      "Extracting parameters from ./../../data/raw/PnP\\PnP8\\PnP8_F1_RH_Removed_ICA.set...\n",
      "53 matching events found\n"
     ]
    },
    {
     "name": "stderr",
     "output_type": "stream",
     "text": [
      "<ipython-input-5-a40508d617f2>:10: RuntimeWarning: At least one epoch has multiple events. Only the latency of the first event will be retained.\n",
      "  sets.append(mne.io.read_epochs_eeglab(path))\n"
     ]
    },
    {
     "name": "stdout",
     "output_type": "stream",
     "text": [
      "No baseline correction applied\n",
      "Not setting metadata\n",
      "0 projection items activated\n",
      "Ready.\n",
      "Extracting parameters from ./../../data/raw/PnP\\PnP9\\PnP9_F1_RH_Removed_ICA.set...\n",
      "54 matching events found\n",
      "No baseline correction applied\n",
      "Not setting metadata\n"
     ]
    },
    {
     "name": "stderr",
     "output_type": "stream",
     "text": [
      "<ipython-input-5-a40508d617f2>:10: RuntimeWarning: At least one epoch has multiple events. Only the latency of the first event will be retained.\n",
      "  sets.append(mne.io.read_epochs_eeglab(path))\n"
     ]
    },
    {
     "name": "stdout",
     "output_type": "stream",
     "text": [
      "0 projection items activated\n",
      "Ready.\n",
      "Extracting parameters from ./../../data/raw/PP\\PP1\\PP1_F1_LH_Removed_ICA.set...\n"
     ]
    },
    {
     "name": "stderr",
     "output_type": "stream",
     "text": [
      "<ipython-input-5-a40508d617f2>:10: RuntimeWarning: At least one epoch has multiple events. Only the latency of the first event will be retained.\n",
      "  sets.append(mne.io.read_epochs_eeglab(path))\n"
     ]
    },
    {
     "name": "stdout",
     "output_type": "stream",
     "text": [
      "56 matching events found\n",
      "No baseline correction applied\n",
      "Not setting metadata\n",
      "0 projection items activated\n",
      "Ready.\n",
      "Extracting parameters from ./../../data/raw/PP\\PP10\\PP10_F1_LH_Removed_ICA.set...\n"
     ]
    },
    {
     "name": "stderr",
     "output_type": "stream",
     "text": [
      "<ipython-input-5-a40508d617f2>:10: RuntimeWarning: At least one epoch has multiple events. Only the latency of the first event will be retained.\n",
      "  sets.append(mne.io.read_epochs_eeglab(path))\n"
     ]
    },
    {
     "name": "stdout",
     "output_type": "stream",
     "text": [
      "60 matching events found\n",
      "No baseline correction applied\n",
      "Not setting metadata\n",
      "0 projection items activated\n",
      "Ready.\n",
      "Extracting parameters from ./../../data/raw/PP\\PP11\\PP11_F1_LH_Removed_ICA.set...\n"
     ]
    },
    {
     "name": "stderr",
     "output_type": "stream",
     "text": [
      "<ipython-input-5-a40508d617f2>:10: RuntimeWarning: At least one epoch has multiple events. Only the latency of the first event will be retained.\n",
      "  sets.append(mne.io.read_epochs_eeglab(path))\n"
     ]
    },
    {
     "name": "stdout",
     "output_type": "stream",
     "text": [
      "60 matching events found\n",
      "No baseline correction applied\n",
      "Not setting metadata\n",
      "0 projection items activated\n",
      "Ready.\n",
      "Extracting parameters from ./../../data/raw/PP\\PP2\\PP2_F1_LH_Removed_ICA.set...\n"
     ]
    },
    {
     "name": "stderr",
     "output_type": "stream",
     "text": [
      "<ipython-input-5-a40508d617f2>:10: RuntimeWarning: At least one epoch has multiple events. Only the latency of the first event will be retained.\n",
      "  sets.append(mne.io.read_epochs_eeglab(path))\n"
     ]
    },
    {
     "name": "stdout",
     "output_type": "stream",
     "text": [
      "54 matching events found\n",
      "No baseline correction applied\n",
      "Not setting metadata\n",
      "0 projection items activated\n",
      "Ready.\n",
      "Extracting parameters from ./../../data/raw/PP\\PP3\\PP3_F1_LH_Removed_ICA.set...\n",
      "51 matching events found\n"
     ]
    },
    {
     "name": "stderr",
     "output_type": "stream",
     "text": [
      "<ipython-input-5-a40508d617f2>:10: RuntimeWarning: At least one epoch has multiple events. Only the latency of the first event will be retained.\n",
      "  sets.append(mne.io.read_epochs_eeglab(path))\n"
     ]
    },
    {
     "name": "stdout",
     "output_type": "stream",
     "text": [
      "No baseline correction applied\n",
      "Not setting metadata\n",
      "0 projection items activated\n",
      "Ready.\n",
      "Extracting parameters from ./../../data/raw/PP\\PP4\\PP4_F1_LH_Removed_ICA.set...\n"
     ]
    },
    {
     "name": "stderr",
     "output_type": "stream",
     "text": [
      "<ipython-input-5-a40508d617f2>:10: RuntimeWarning: At least one epoch has multiple events. Only the latency of the first event will be retained.\n",
      "  sets.append(mne.io.read_epochs_eeglab(path))\n"
     ]
    },
    {
     "name": "stdout",
     "output_type": "stream",
     "text": [
      "58 matching events found\n",
      "No baseline correction applied\n",
      "Not setting metadata\n",
      "0 projection items activated\n",
      "Ready.\n",
      "Extracting parameters from ./../../data/raw/PP\\PP5\\PP5_F1_LH_Removed_ICA.set...\n",
      "55 matching events found\n"
     ]
    },
    {
     "name": "stderr",
     "output_type": "stream",
     "text": [
      "<ipython-input-5-a40508d617f2>:10: RuntimeWarning: At least one epoch has multiple events. Only the latency of the first event will be retained.\n",
      "  sets.append(mne.io.read_epochs_eeglab(path))\n"
     ]
    },
    {
     "name": "stdout",
     "output_type": "stream",
     "text": [
      "No baseline correction applied\n",
      "Not setting metadata\n",
      "0 projection items activated\n",
      "Ready.\n",
      "Extracting parameters from ./../../data/raw/PP\\PP6\\PP6_F1_LH_Removed_ICA.set...\n",
      "27 matching events found\n",
      "No baseline correction applied\n",
      "Not setting metadata\n",
      "0 projection items activated\n",
      "Ready.\n",
      "Extracting parameters from ./../../data/raw/PP\\PP7\\PP7_F1_LH_Removed_ICA.set...\n"
     ]
    },
    {
     "name": "stderr",
     "output_type": "stream",
     "text": [
      "<ipython-input-5-a40508d617f2>:10: RuntimeWarning: At least one epoch has multiple events. Only the latency of the first event will be retained.\n",
      "  sets.append(mne.io.read_epochs_eeglab(path))\n",
      "<ipython-input-5-a40508d617f2>:10: RuntimeWarning: At least one epoch has multiple events. Only the latency of the first event will be retained.\n",
      "  sets.append(mne.io.read_epochs_eeglab(path))\n"
     ]
    },
    {
     "name": "stdout",
     "output_type": "stream",
     "text": [
      "53 matching events found\n",
      "No baseline correction applied\n",
      "Not setting metadata\n",
      "0 projection items activated\n",
      "Ready.\n",
      "Extracting parameters from ./../../data/raw/PP\\PP9\\PP9_F1_LH_Removed_ICA.set...\n"
     ]
    },
    {
     "name": "stderr",
     "output_type": "stream",
     "text": [
      "<ipython-input-5-a40508d617f2>:10: RuntimeWarning: At least one epoch has multiple events. Only the latency of the first event will be retained.\n",
      "  sets.append(mne.io.read_epochs_eeglab(path))\n"
     ]
    },
    {
     "name": "stdout",
     "output_type": "stream",
     "text": [
      "51 matching events found\n",
      "No baseline correction applied\n",
      "Not setting metadata\n",
      "0 projection items activated\n",
      "Ready.\n",
      "Extracting parameters from ./../../data/raw/PnP\\PnP1\\PnP1_F1_LH_Removed_ICA.set...\n"
     ]
    },
    {
     "name": "stderr",
     "output_type": "stream",
     "text": [
      "<ipython-input-5-a40508d617f2>:10: RuntimeWarning: At least one epoch has multiple events. Only the latency of the first event will be retained.\n",
      "  sets.append(mne.io.read_epochs_eeglab(path))\n"
     ]
    },
    {
     "name": "stdout",
     "output_type": "stream",
     "text": [
      "51 matching events found\n",
      "No baseline correction applied\n",
      "Not setting metadata\n",
      "0 projection items activated\n",
      "Ready.\n",
      "Extracting parameters from ./../../data/raw/PnP\\PnP2\\PnP2_F1_LH_Removed_ICA.set...\n"
     ]
    },
    {
     "name": "stderr",
     "output_type": "stream",
     "text": [
      "<ipython-input-5-a40508d617f2>:10: RuntimeWarning: At least one epoch has multiple events. Only the latency of the first event will be retained.\n",
      "  sets.append(mne.io.read_epochs_eeglab(path))\n"
     ]
    },
    {
     "name": "stdout",
     "output_type": "stream",
     "text": [
      "55 matching events found\n",
      "No baseline correction applied\n",
      "Not setting metadata\n",
      "0 projection items activated\n",
      "Ready.\n",
      "Extracting parameters from ./../../data/raw/PnP\\PnP3\\PnP3_F1_LH_Removed_ICA.set...\n",
      "43 matching events found\n"
     ]
    },
    {
     "name": "stderr",
     "output_type": "stream",
     "text": [
      "<ipython-input-5-a40508d617f2>:10: RuntimeWarning: At least one epoch has multiple events. Only the latency of the first event will be retained.\n",
      "  sets.append(mne.io.read_epochs_eeglab(path))\n"
     ]
    },
    {
     "name": "stdout",
     "output_type": "stream",
     "text": [
      "No baseline correction applied\n",
      "Not setting metadata\n",
      "0 projection items activated\n",
      "Ready.\n",
      "Extracting parameters from ./../../data/raw/PnP\\PnP4\\PnP4_F1_LH_Removed_ICA.set...\n"
     ]
    },
    {
     "name": "stderr",
     "output_type": "stream",
     "text": [
      "<ipython-input-5-a40508d617f2>:10: RuntimeWarning: At least one epoch has multiple events. Only the latency of the first event will be retained.\n",
      "  sets.append(mne.io.read_epochs_eeglab(path))\n"
     ]
    },
    {
     "name": "stdout",
     "output_type": "stream",
     "text": [
      "57 matching events found\n",
      "No baseline correction applied\n",
      "Not setting metadata\n",
      "0 projection items activated\n",
      "Ready.\n",
      "Extracting parameters from ./../../data/raw/PnP\\PnP5\\PnP5_F1_LH_Removed_ICA.set...\n"
     ]
    },
    {
     "name": "stderr",
     "output_type": "stream",
     "text": [
      "<ipython-input-5-a40508d617f2>:10: RuntimeWarning: At least one epoch has multiple events. Only the latency of the first event will be retained.\n",
      "  sets.append(mne.io.read_epochs_eeglab(path))\n"
     ]
    },
    {
     "name": "stdout",
     "output_type": "stream",
     "text": [
      "54 matching events found\n",
      "No baseline correction applied\n",
      "Not setting metadata\n",
      "0 projection items activated\n",
      "Ready.\n",
      "Extracting parameters from ./../../data/raw/PnP\\PnP6\\PnP6_F1_LH_Removed_ICA.set...\n"
     ]
    },
    {
     "name": "stderr",
     "output_type": "stream",
     "text": [
      "<ipython-input-5-a40508d617f2>:10: RuntimeWarning: At least one epoch has multiple events. Only the latency of the first event will be retained.\n",
      "  sets.append(mne.io.read_epochs_eeglab(path))\n"
     ]
    },
    {
     "name": "stdout",
     "output_type": "stream",
     "text": [
      "53 matching events found\n",
      "No baseline correction applied\n",
      "Not setting metadata\n",
      "0 projection items activated\n",
      "Ready.\n",
      "Extracting parameters from ./../../data/raw/PnP\\PnP7\\PnP7_F01_LH_Removed_ICA.set...\n"
     ]
    },
    {
     "name": "stderr",
     "output_type": "stream",
     "text": [
      "<ipython-input-5-a40508d617f2>:10: RuntimeWarning: At least one epoch has multiple events. Only the latency of the first event will be retained.\n",
      "  sets.append(mne.io.read_epochs_eeglab(path))\n"
     ]
    },
    {
     "name": "stdout",
     "output_type": "stream",
     "text": [
      "59 matching events found\n",
      "No baseline correction applied\n",
      "Not setting metadata\n",
      "0 projection items activated\n",
      "Ready.\n",
      "Extracting parameters from ./../../data/raw/PnP\\PnP8\\PnP8_F1_LH_Removed_ICA.set...\n"
     ]
    },
    {
     "name": "stderr",
     "output_type": "stream",
     "text": [
      "<ipython-input-5-a40508d617f2>:10: RuntimeWarning: At least one epoch has multiple events. Only the latency of the first event will be retained.\n",
      "  sets.append(mne.io.read_epochs_eeglab(path))\n"
     ]
    },
    {
     "name": "stdout",
     "output_type": "stream",
     "text": [
      "58 matching events found\n",
      "No baseline correction applied\n",
      "Not setting metadata\n",
      "0 projection items activated\n",
      "Ready.\n",
      "Extracting parameters from ./../../data/raw/PnP\\PnP9\\PnP9_F1_LH_Removed_ICA.set...\n"
     ]
    },
    {
     "name": "stderr",
     "output_type": "stream",
     "text": [
      "<ipython-input-5-a40508d617f2>:10: RuntimeWarning: At least one epoch has multiple events. Only the latency of the first event will be retained.\n",
      "  sets.append(mne.io.read_epochs_eeglab(path))\n"
     ]
    },
    {
     "name": "stdout",
     "output_type": "stream",
     "text": [
      "50 matching events found\n",
      "No baseline correction applied\n",
      "Not setting metadata\n",
      "0 projection items activated\n",
      "Ready.\n",
      "Extracting parameters from ./../../data/raw/PP\\PP1\\PP1_F1_L_Removed_ICA.set...\n"
     ]
    },
    {
     "name": "stderr",
     "output_type": "stream",
     "text": [
      "<ipython-input-5-a40508d617f2>:10: RuntimeWarning: At least one epoch has multiple events. Only the latency of the first event will be retained.\n",
      "  sets.append(mne.io.read_epochs_eeglab(path))\n"
     ]
    },
    {
     "name": "stdout",
     "output_type": "stream",
     "text": [
      "57 matching events found\n",
      "No baseline correction applied\n",
      "Not setting metadata\n",
      "0 projection items activated\n",
      "Ready.\n",
      "Extracting parameters from ./../../data/raw/PP\\PP10\\PP10_F1_L_Removed_ICA.set...\n"
     ]
    },
    {
     "name": "stderr",
     "output_type": "stream",
     "text": [
      "<ipython-input-5-a40508d617f2>:10: RuntimeWarning: At least one epoch has multiple events. Only the latency of the first event will be retained.\n",
      "  sets.append(mne.io.read_epochs_eeglab(path))\n"
     ]
    },
    {
     "name": "stdout",
     "output_type": "stream",
     "text": [
      "59 matching events found\n",
      "No baseline correction applied\n",
      "Not setting metadata\n",
      "0 projection items activated\n",
      "Ready.\n",
      "Extracting parameters from ./../../data/raw/PP\\PP11\\PP11_F1_L_Removed_ICA.set...\n"
     ]
    },
    {
     "name": "stderr",
     "output_type": "stream",
     "text": [
      "<ipython-input-5-a40508d617f2>:10: RuntimeWarning: At least one epoch has multiple events. Only the latency of the first event will be retained.\n",
      "  sets.append(mne.io.read_epochs_eeglab(path))\n"
     ]
    },
    {
     "name": "stdout",
     "output_type": "stream",
     "text": [
      "59 matching events found\n",
      "No baseline correction applied\n",
      "Not setting metadata\n",
      "0 projection items activated\n",
      "Ready.\n",
      "Extracting parameters from ./../../data/raw/PP\\PP2\\PP2_F1_L_Removed_ICA.set...\n",
      "51 matching events found\n",
      "No baseline correction applied\n",
      "Not setting metadata\n",
      "0 projection items activated\n"
     ]
    },
    {
     "name": "stderr",
     "output_type": "stream",
     "text": [
      "<ipython-input-5-a40508d617f2>:10: RuntimeWarning: At least one epoch has multiple events. Only the latency of the first event will be retained.\n",
      "  sets.append(mne.io.read_epochs_eeglab(path))\n"
     ]
    },
    {
     "name": "stdout",
     "output_type": "stream",
     "text": [
      "Ready.\n",
      "Extracting parameters from ./../../data/raw/PP\\PP3\\PP3_F1_L_Removed_ICA.set...\n",
      "52 matching events found\n"
     ]
    },
    {
     "name": "stderr",
     "output_type": "stream",
     "text": [
      "<ipython-input-5-a40508d617f2>:10: RuntimeWarning: At least one epoch has multiple events. Only the latency of the first event will be retained.\n",
      "  sets.append(mne.io.read_epochs_eeglab(path))\n"
     ]
    },
    {
     "name": "stdout",
     "output_type": "stream",
     "text": [
      "No baseline correction applied\n",
      "Not setting metadata\n",
      "0 projection items activated\n",
      "Ready.\n",
      "Extracting parameters from ./../../data/raw/PP\\PP4\\PP4_F1_L_Removed_ICA.set...\n"
     ]
    },
    {
     "name": "stderr",
     "output_type": "stream",
     "text": [
      "<ipython-input-5-a40508d617f2>:10: RuntimeWarning: At least one epoch has multiple events. Only the latency of the first event will be retained.\n",
      "  sets.append(mne.io.read_epochs_eeglab(path))\n"
     ]
    },
    {
     "name": "stdout",
     "output_type": "stream",
     "text": [
      "57 matching events found\n",
      "No baseline correction applied\n",
      "Not setting metadata\n",
      "0 projection items activated\n",
      "Ready.\n",
      "Extracting parameters from ./../../data/raw/PP\\PP5\\PP5_F1_L_Removed_ICA.set...\n"
     ]
    },
    {
     "name": "stderr",
     "output_type": "stream",
     "text": [
      "<ipython-input-5-a40508d617f2>:10: RuntimeWarning: At least one epoch has multiple events. Only the latency of the first event will be retained.\n",
      "  sets.append(mne.io.read_epochs_eeglab(path))\n"
     ]
    },
    {
     "name": "stdout",
     "output_type": "stream",
     "text": [
      "55 matching events found\n",
      "No baseline correction applied\n",
      "Not setting metadata\n",
      "0 projection items activated\n",
      "Ready.\n",
      "Extracting parameters from ./../../data/raw/PP\\PP6\\PP6_F1_L_Removed_ICA.set...\n",
      "32 matching events found\n",
      "No baseline correction applied\n",
      "Not setting metadata\n",
      "0 projection items activated\n",
      "Ready.\n"
     ]
    },
    {
     "name": "stderr",
     "output_type": "stream",
     "text": [
      "<ipython-input-5-a40508d617f2>:10: RuntimeWarning: At least one epoch has multiple events. Only the latency of the first event will be retained.\n",
      "  sets.append(mne.io.read_epochs_eeglab(path))\n"
     ]
    },
    {
     "name": "stdout",
     "output_type": "stream",
     "text": [
      "Extracting parameters from ./../../data/raw/PP\\PP7\\PP7_F1_L_Removed_ICA.set...\n"
     ]
    },
    {
     "name": "stderr",
     "output_type": "stream",
     "text": [
      "<ipython-input-5-a40508d617f2>:10: RuntimeWarning: At least one epoch has multiple events. Only the latency of the first event will be retained.\n",
      "  sets.append(mne.io.read_epochs_eeglab(path))\n"
     ]
    },
    {
     "name": "stdout",
     "output_type": "stream",
     "text": [
      "52 matching events found\n",
      "No baseline correction applied\n",
      "Not setting metadata\n",
      "0 projection items activated\n",
      "Ready.\n",
      "Extracting parameters from ./../../data/raw/PP\\PP9\\PP9_F1_L_Removed_ICA.set...\n",
      "54 matching events found\n"
     ]
    },
    {
     "name": "stderr",
     "output_type": "stream",
     "text": [
      "<ipython-input-5-a40508d617f2>:10: RuntimeWarning: At least one epoch has multiple events. Only the latency of the first event will be retained.\n",
      "  sets.append(mne.io.read_epochs_eeglab(path))\n"
     ]
    },
    {
     "name": "stdout",
     "output_type": "stream",
     "text": [
      "No baseline correction applied\n",
      "Not setting metadata\n",
      "0 projection items activated\n",
      "Ready.\n",
      "Extracting parameters from ./../../data/raw/PnP\\PnP1\\PnP1_F1_L_Removed_ICA.set...\n",
      "50 matching events found\n"
     ]
    },
    {
     "name": "stderr",
     "output_type": "stream",
     "text": [
      "<ipython-input-5-a40508d617f2>:10: RuntimeWarning: At least one epoch has multiple events. Only the latency of the first event will be retained.\n",
      "  sets.append(mne.io.read_epochs_eeglab(path))\n"
     ]
    },
    {
     "name": "stdout",
     "output_type": "stream",
     "text": [
      "No baseline correction applied\n",
      "Not setting metadata\n",
      "0 projection items activated\n",
      "Ready.\n",
      "Extracting parameters from ./../../data/raw/PnP\\PnP2\\PnP2_F1_L_Removed_ICA.set...\n"
     ]
    },
    {
     "name": "stderr",
     "output_type": "stream",
     "text": [
      "<ipython-input-5-a40508d617f2>:10: RuntimeWarning: At least one epoch has multiple events. Only the latency of the first event will be retained.\n",
      "  sets.append(mne.io.read_epochs_eeglab(path))\n"
     ]
    },
    {
     "name": "stdout",
     "output_type": "stream",
     "text": [
      "57 matching events found\n",
      "No baseline correction applied\n",
      "Not setting metadata\n",
      "0 projection items activated\n",
      "Ready.\n",
      "Extracting parameters from ./../../data/raw/PnP\\PnP3\\PnP3_F1_L_Removed_ICA.set...\n",
      "41 matching events found\n",
      "No baseline correction applied\n",
      "Not setting metadata\n",
      "0 projection items activated\n"
     ]
    },
    {
     "name": "stderr",
     "output_type": "stream",
     "text": [
      "<ipython-input-5-a40508d617f2>:10: RuntimeWarning: At least one epoch has multiple events. Only the latency of the first event will be retained.\n",
      "  sets.append(mne.io.read_epochs_eeglab(path))\n"
     ]
    },
    {
     "name": "stdout",
     "output_type": "stream",
     "text": [
      "Ready.\n",
      "Extracting parameters from ./../../data/raw/PnP\\PnP4\\PnP4_F1_L_Removed_ICA.set...\n"
     ]
    },
    {
     "name": "stderr",
     "output_type": "stream",
     "text": [
      "<ipython-input-5-a40508d617f2>:10: RuntimeWarning: At least one epoch has multiple events. Only the latency of the first event will be retained.\n",
      "  sets.append(mne.io.read_epochs_eeglab(path))\n"
     ]
    },
    {
     "name": "stdout",
     "output_type": "stream",
     "text": [
      "58 matching events found\n",
      "No baseline correction applied\n",
      "Not setting metadata\n",
      "0 projection items activated\n",
      "Ready.\n",
      "Extracting parameters from ./../../data/raw/PnP\\PnP5\\PnP5_F1_L_Removed_ICA.set...\n",
      "50 matching events found\n"
     ]
    },
    {
     "name": "stderr",
     "output_type": "stream",
     "text": [
      "<ipython-input-5-a40508d617f2>:10: RuntimeWarning: At least one epoch has multiple events. Only the latency of the first event will be retained.\n",
      "  sets.append(mne.io.read_epochs_eeglab(path))\n"
     ]
    },
    {
     "name": "stdout",
     "output_type": "stream",
     "text": [
      "No baseline correction applied\n",
      "Not setting metadata\n",
      "0 projection items activated\n",
      "Ready.\n",
      "Extracting parameters from ./../../data/raw/PnP\\PnP6\\PnP6_F1_L_Removed_ICA.set...\n",
      "53 matching events found\n"
     ]
    },
    {
     "name": "stderr",
     "output_type": "stream",
     "text": [
      "<ipython-input-5-a40508d617f2>:10: RuntimeWarning: At least one epoch has multiple events. Only the latency of the first event will be retained.\n",
      "  sets.append(mne.io.read_epochs_eeglab(path))\n"
     ]
    },
    {
     "name": "stdout",
     "output_type": "stream",
     "text": [
      "No baseline correction applied\n",
      "Not setting metadata\n",
      "0 projection items activated\n",
      "Ready.\n",
      "Extracting parameters from ./../../data/raw/PnP\\PnP7\\PnP7_F01_L_Removed_ICA.set...\n"
     ]
    },
    {
     "name": "stderr",
     "output_type": "stream",
     "text": [
      "<ipython-input-5-a40508d617f2>:10: RuntimeWarning: At least one epoch has multiple events. Only the latency of the first event will be retained.\n",
      "  sets.append(mne.io.read_epochs_eeglab(path))\n"
     ]
    },
    {
     "name": "stdout",
     "output_type": "stream",
     "text": [
      "58 matching events found\n",
      "No baseline correction applied\n",
      "Not setting metadata\n",
      "0 projection items activated\n",
      "Ready.\n",
      "Extracting parameters from ./../../data/raw/PnP\\PnP8\\PnP8_F1_L_Removed_ICA.set...\n"
     ]
    },
    {
     "name": "stderr",
     "output_type": "stream",
     "text": [
      "<ipython-input-5-a40508d617f2>:10: RuntimeWarning: At least one epoch has multiple events. Only the latency of the first event will be retained.\n",
      "  sets.append(mne.io.read_epochs_eeglab(path))\n"
     ]
    },
    {
     "name": "stdout",
     "output_type": "stream",
     "text": [
      "50 matching events found\n",
      "No baseline correction applied\n",
      "Not setting metadata\n",
      "0 projection items activated\n",
      "Ready.\n",
      "Extracting parameters from ./../../data/raw/PnP\\PnP9\\PnP9_F1_L_Removed_ICA.set...\n",
      "55 matching events found\n"
     ]
    },
    {
     "name": "stderr",
     "output_type": "stream",
     "text": [
      "<ipython-input-5-a40508d617f2>:10: RuntimeWarning: At least one epoch has multiple events. Only the latency of the first event will be retained.\n",
      "  sets.append(mne.io.read_epochs_eeglab(path))\n"
     ]
    },
    {
     "name": "stdout",
     "output_type": "stream",
     "text": [
      "No baseline correction applied\n",
      "Not setting metadata\n",
      "0 projection items activated\n",
      "Ready.\n"
     ]
    }
   ],
   "source": [
    "limb = {'name': 'all_limbs'}\n",
    "\n",
    "pp_rh_raw = get_datasets(location_pain, rh['extension'])\n",
    "pnp_rh_raw = get_datasets(location_nopain, rh['extension'])\n",
    "\n",
    "pp_lh_raw = get_datasets(location_pain, lh['extension'])\n",
    "pnp_lh_raw = get_datasets(location_nopain, lh['extension'])\n",
    "\n",
    "pp_l_raw = get_datasets(location_pain, l_old['extension'])\n",
    "pnp_l_raw = get_datasets(location_nopain, l_old['extension'])"
   ]
  },
  {
   "cell_type": "code",
   "execution_count": 9,
   "metadata": {},
   "outputs": [],
   "source": [
    "pp_all_limbs = np.concatenate((pp_rh_raw, pp_lh_raw, pp_l_raw))\n",
    "pnp_all_limbs = np.concatenate((pnp_rh_raw, pnp_lh_raw, pnp_l_raw))"
   ]
  },
  {
   "cell_type": "code",
   "execution_count": 10,
   "metadata": {},
   "outputs": [
    {
     "data": {
      "text/plain": [
       "(27,)"
      ]
     },
     "execution_count": 10,
     "metadata": {},
     "output_type": "execute_result"
    }
   ],
   "source": [
    "pnp_all_limbs.shape"
   ]
  },
  {
   "cell_type": "code",
   "execution_count": null,
   "metadata": {},
   "outputs": [],
   "source": []
  },
  {
   "cell_type": "code",
   "execution_count": 10,
   "metadata": {},
   "outputs": [
    {
     "name": "stdout",
     "output_type": "stream",
     "text": [
      "Extracting parameters from ./../../data_new/raw/PdP\\PdP_1\\PdP_1_RH.set...\n"
     ]
    },
    {
     "name": "stderr",
     "output_type": "stream",
     "text": [
      "<ipython-input-5-a40508d617f2>:25: RuntimeWarning: At least one epoch has multiple events. Only the latency of the first event will be retained.\n",
      "  return mne.io.read_epochs_eeglab(sets_locations[0]).ch_names\n"
     ]
    },
    {
     "name": "stdout",
     "output_type": "stream",
     "text": [
      "65 matching events found\n",
      "No baseline correction applied\n",
      "Not setting metadata\n",
      "0 projection items activated\n",
      "Ready.\n"
     ]
    },
    {
     "data": {
      "text/plain": [
       "['Fp1',\n",
       " 'Fpz',\n",
       " 'Fp2',\n",
       " 'F7',\n",
       " 'F3',\n",
       " 'F1',\n",
       " 'Fz',\n",
       " 'F2',\n",
       " 'F4',\n",
       " 'F8',\n",
       " 'FC3',\n",
       " 'FC1',\n",
       " 'FCz',\n",
       " 'FC2',\n",
       " 'FC4',\n",
       " 'FC6',\n",
       " 'T7',\n",
       " 'C5',\n",
       " 'C3',\n",
       " 'C1',\n",
       " 'Cz',\n",
       " 'C2',\n",
       " 'C4',\n",
       " 'C6',\n",
       " 'T8',\n",
       " 'CP5',\n",
       " 'CP3',\n",
       " 'CP1',\n",
       " 'CPz',\n",
       " 'CP2',\n",
       " 'CP4',\n",
       " 'CP6',\n",
       " 'P7',\n",
       " 'P5',\n",
       " 'P3',\n",
       " 'P1',\n",
       " 'Pz',\n",
       " 'P2',\n",
       " 'P4',\n",
       " 'P6',\n",
       " 'P8',\n",
       " 'PO3',\n",
       " 'POz',\n",
       " 'PO4',\n",
       " 'O1',\n",
       " 'Oz',\n",
       " 'O2',\n",
       " 'FC5']"
      ]
     },
     "execution_count": 10,
     "metadata": {},
     "output_type": "execute_result"
    }
   ],
   "source": [
    "ch_names_new = get_channel_names(location_pdp, rh['extension'])\n",
    "ch_names_new"
   ]
  },
  {
   "cell_type": "code",
   "execution_count": 11,
   "metadata": {},
   "outputs": [
    {
     "name": "stdout",
     "output_type": "stream",
     "text": [
      "Extracting parameters from ./../../data/raw/PP\\PP1\\PP1_F1_RH_Removed_ICA.set...\n",
      "57 matching events found\n",
      "No baseline correction applied\n",
      "Not setting metadata\n",
      "0 projection items activated\n",
      "Ready.\n"
     ]
    },
    {
     "name": "stderr",
     "output_type": "stream",
     "text": [
      "<ipython-input-5-a40508d617f2>:25: RuntimeWarning: At least one epoch has multiple events. Only the latency of the first event will be retained.\n",
      "  return mne.io.read_epochs_eeglab(sets_locations[0]).ch_names\n"
     ]
    },
    {
     "data": {
      "text/plain": [
       "['Cz',\n",
       " 'C1',\n",
       " 'C2',\n",
       " 'C3',\n",
       " 'C4',\n",
       " 'C5',\n",
       " 'C6',\n",
       " 'C7',\n",
       " 'C8',\n",
       " 'FCz',\n",
       " 'FC1',\n",
       " 'FC2',\n",
       " 'FC3',\n",
       " 'FC4',\n",
       " 'FC5',\n",
       " 'FC6',\n",
       " 'FT7',\n",
       " 'FT8',\n",
       " 'CPz',\n",
       " 'CP1',\n",
       " 'CP2',\n",
       " 'CP3',\n",
       " 'CP4',\n",
       " 'CP5',\n",
       " 'CP6',\n",
       " 'TP7',\n",
       " 'TP8',\n",
       " 'Fz',\n",
       " 'F1',\n",
       " 'F2',\n",
       " 'F3',\n",
       " 'F4',\n",
       " 'F5',\n",
       " 'F6',\n",
       " 'F7',\n",
       " 'F8',\n",
       " 'Pz',\n",
       " 'P1',\n",
       " 'P2',\n",
       " 'P3',\n",
       " 'P4',\n",
       " 'P5',\n",
       " 'P6',\n",
       " 'P7',\n",
       " 'P8',\n",
       " 'AFz',\n",
       " 'AF3',\n",
       " 'AF4',\n",
       " 'AF7',\n",
       " 'AF8',\n",
       " 'Fp1',\n",
       " 'FP2',\n",
       " 'POz',\n",
       " 'PO3',\n",
       " 'PO4',\n",
       " 'PO7',\n",
       " 'PO8',\n",
       " 'Oz',\n",
       " 'O1',\n",
       " 'O2',\n",
       " 'Iz']"
      ]
     },
     "execution_count": 11,
     "metadata": {},
     "output_type": "execute_result"
    }
   ],
   "source": [
    "ch_names = get_channel_names(location_pain, rh['extension'])\n",
    "ch_names"
   ]
  },
  {
   "cell_type": "code",
   "execution_count": null,
   "metadata": {},
   "outputs": [],
   "source": []
  },
  {
   "cell_type": "code",
   "execution_count": 12,
   "metadata": {},
   "outputs": [],
   "source": [
    "# Check for any channels not present in both\n",
    "#for ch in ch_names_new:\n",
    "#    if not (ch in ch_names):\n",
    " #       print(ch, end=' ')"
   ]
  },
  {
   "cell_type": "code",
   "execution_count": 13,
   "metadata": {},
   "outputs": [
    {
     "data": {
      "text/plain": [
       "(0,)"
      ]
     },
     "execution_count": 13,
     "metadata": {},
     "output_type": "execute_result"
    }
   ],
   "source": [
    "pp_rh_raw.shape"
   ]
  },
  {
   "cell_type": "code",
   "execution_count": null,
   "metadata": {},
   "outputs": [],
   "source": []
  },
  {
   "cell_type": "code",
   "execution_count": 14,
   "metadata": {},
   "outputs": [
    {
     "ename": "IndexError",
     "evalue": "index 4 is out of bounds for axis 0 with size 0",
     "output_type": "error",
     "traceback": [
      "\u001b[1;31m---------------------------------------------------------------------------\u001b[0m",
      "\u001b[1;31mIndexError\u001b[0m                                Traceback (most recent call last)",
      "\u001b[1;32m<ipython-input-14-a6635e8b301b>\u001b[0m in \u001b[0;36m<module>\u001b[1;34m\u001b[0m\n\u001b[1;32m----> 1\u001b[1;33m \u001b[0mpp_rh_raw\u001b[0m\u001b[1;33m[\u001b[0m\u001b[1;36m4\u001b[0m\u001b[1;33m]\u001b[0m\u001b[1;33m[\u001b[0m\u001b[1;36m3\u001b[0m\u001b[1;33m]\u001b[0m\u001b[1;33m.\u001b[0m\u001b[0mshape\u001b[0m\u001b[1;33m\u001b[0m\u001b[1;33m\u001b[0m\u001b[0m\n\u001b[0m",
      "\u001b[1;31mIndexError\u001b[0m: index 4 is out of bounds for axis 0 with size 0"
     ]
    }
   ],
   "source": [
    "pp_rh_raw[4][3].shape"
   ]
  },
  {
   "cell_type": "code",
   "execution_count": null,
   "metadata": {},
   "outputs": [],
   "source": []
  },
  {
   "cell_type": "markdown",
   "metadata": {},
   "source": [
    "Get HFD over the set time window"
   ]
  },
  {
   "cell_type": "code",
   "execution_count": 24,
   "metadata": {},
   "outputs": [],
   "source": [
    "window_start_sec = 3\n",
    "window_size = 2\n",
    "freq = 250\n",
    "\n",
    "k = 7"
   ]
  },
  {
   "cell_type": "code",
   "execution_count": 45,
   "metadata": {},
   "outputs": [
    {
     "name": "stdout",
     "output_type": "stream",
     "text": [
      "Calculating HFD with window start 750 window size 500 step 1\n",
      "Calculating HFD with window start 750 window size 500 step 1\n",
      "Calculating HFD with window start 750 window size 500 step 1\n",
      "Calculating HFD with window start 750 window size 500 step 1\n",
      "Calculating HFD with window start 750 window size 500 step 1\n",
      "Calculating HFD with window start 750 window size 500 step 1\n",
      "Calculating HFD with window start 750 window size 500 step 1\n",
      "Calculating HFD with window start 750 window size 500 step 1\n",
      "Calculating HFD with window start 750 window size 500 step 1\n",
      "Calculating HFD with window start 750 window size 500 step 1\n",
      "Calculating HFD with window start 750 window size 500 step 1\n",
      "Calculating HFD with window start 750 window size 500 step 1\n"
     ]
    }
   ],
   "source": [
    "pp_rh = np.array([patient_array_to_hfd(patient, window_start=int(window_start_sec*freq), window_size=window_size*freq, k=k) for patient in pp_rh_raw])\n",
    "pnp_rh = np.array([patient_array_to_hfd(patient, window_start=int(window_start_sec*freq), window_size=window_size*freq, k=k) for patient in pnp_rh_raw])"
   ]
  },
  {
   "cell_type": "markdown",
   "metadata": {},
   "source": [
    "OR get HFD for all limbs"
   ]
  },
  {
   "cell_type": "code",
   "execution_count": 102,
   "metadata": {},
   "outputs": [
    {
     "ename": "NameError",
     "evalue": "name 'pp_all_limbs' is not defined",
     "output_type": "error",
     "traceback": [
      "\u001b[1;31m---------------------------------------------------------------------------\u001b[0m",
      "\u001b[1;31mNameError\u001b[0m                                 Traceback (most recent call last)",
      "\u001b[1;32m<ipython-input-102-29c63193957c>\u001b[0m in \u001b[0;36m<module>\u001b[1;34m\u001b[0m\n\u001b[1;32m----> 1\u001b[1;33m \u001b[0mpp_rh\u001b[0m \u001b[1;33m=\u001b[0m \u001b[0mnp\u001b[0m\u001b[1;33m.\u001b[0m\u001b[0marray\u001b[0m\u001b[1;33m(\u001b[0m\u001b[1;33m[\u001b[0m\u001b[0mpatient_array_to_hfd\u001b[0m\u001b[1;33m(\u001b[0m\u001b[0mpatient\u001b[0m\u001b[1;33m,\u001b[0m \u001b[0mwindow_start\u001b[0m\u001b[1;33m=\u001b[0m\u001b[0mint\u001b[0m\u001b[1;33m(\u001b[0m\u001b[0mwindow_start_sec\u001b[0m\u001b[1;33m*\u001b[0m\u001b[0mfreq\u001b[0m\u001b[1;33m)\u001b[0m\u001b[1;33m,\u001b[0m \u001b[0mwindow_size\u001b[0m\u001b[1;33m=\u001b[0m\u001b[0mwindow_size\u001b[0m\u001b[1;33m*\u001b[0m\u001b[0mfreq\u001b[0m\u001b[1;33m,\u001b[0m \u001b[0mk\u001b[0m\u001b[1;33m=\u001b[0m\u001b[0mk\u001b[0m\u001b[1;33m)\u001b[0m \u001b[1;32mfor\u001b[0m \u001b[0mpatient\u001b[0m \u001b[1;32min\u001b[0m \u001b[0mpp_all_limbs\u001b[0m\u001b[1;33m]\u001b[0m\u001b[1;33m)\u001b[0m\u001b[1;33m\u001b[0m\u001b[1;33m\u001b[0m\u001b[0m\n\u001b[0m\u001b[0;32m      2\u001b[0m \u001b[0mpnp_rh\u001b[0m \u001b[1;33m=\u001b[0m \u001b[0mnp\u001b[0m\u001b[1;33m.\u001b[0m\u001b[0marray\u001b[0m\u001b[1;33m(\u001b[0m\u001b[1;33m[\u001b[0m\u001b[0mpatient_array_to_hfd\u001b[0m\u001b[1;33m(\u001b[0m\u001b[0mpatient\u001b[0m\u001b[1;33m,\u001b[0m \u001b[0mwindow_start\u001b[0m\u001b[1;33m=\u001b[0m\u001b[0mint\u001b[0m\u001b[1;33m(\u001b[0m\u001b[0mwindow_start_sec\u001b[0m\u001b[1;33m*\u001b[0m\u001b[0mfreq\u001b[0m\u001b[1;33m)\u001b[0m\u001b[1;33m,\u001b[0m \u001b[0mwindow_size\u001b[0m\u001b[1;33m=\u001b[0m\u001b[0mwindow_size\u001b[0m\u001b[1;33m*\u001b[0m\u001b[0mfreq\u001b[0m\u001b[1;33m,\u001b[0m \u001b[0mk\u001b[0m\u001b[1;33m=\u001b[0m\u001b[0mk\u001b[0m\u001b[1;33m)\u001b[0m \u001b[1;32mfor\u001b[0m \u001b[0mpatient\u001b[0m \u001b[1;32min\u001b[0m \u001b[0mpnp_all_limbs\u001b[0m\u001b[1;33m]\u001b[0m\u001b[1;33m)\u001b[0m\u001b[1;33m\u001b[0m\u001b[1;33m\u001b[0m\u001b[0m\n\u001b[0;32m      3\u001b[0m \u001b[0mhv_rh\u001b[0m \u001b[1;33m=\u001b[0m \u001b[0mnp\u001b[0m\u001b[1;33m.\u001b[0m\u001b[0marray\u001b[0m\u001b[1;33m(\u001b[0m\u001b[1;33m[\u001b[0m\u001b[0mpatient_array_to_hfd\u001b[0m\u001b[1;33m(\u001b[0m\u001b[0mpatient\u001b[0m\u001b[1;33m,\u001b[0m \u001b[0mwindow_start\u001b[0m\u001b[1;33m=\u001b[0m\u001b[0mint\u001b[0m\u001b[1;33m(\u001b[0m\u001b[0mwindow_start_sec\u001b[0m\u001b[1;33m*\u001b[0m\u001b[0mfreq\u001b[0m\u001b[1;33m)\u001b[0m\u001b[1;33m,\u001b[0m \u001b[0mwindow_size\u001b[0m\u001b[1;33m=\u001b[0m\u001b[0mwindow_size\u001b[0m\u001b[1;33m*\u001b[0m\u001b[0mfreq\u001b[0m\u001b[1;33m,\u001b[0m \u001b[0mk\u001b[0m\u001b[1;33m=\u001b[0m\u001b[0mk\u001b[0m\u001b[1;33m)\u001b[0m \u001b[1;32mfor\u001b[0m \u001b[0mpatient\u001b[0m \u001b[1;32min\u001b[0m \u001b[0mhv_rh_limbs\u001b[0m\u001b[1;33m]\u001b[0m\u001b[1;33m)\u001b[0m\u001b[1;33m\u001b[0m\u001b[1;33m\u001b[0m\u001b[0m\n",
      "\u001b[1;31mNameError\u001b[0m: name 'pp_all_limbs' is not defined"
     ]
    }
   ],
   "source": [
    "pp_rh = np.array([patient_array_to_hfd(patient, window_start=int(window_start_sec*freq), window_size=window_size*freq, k=k) for patient in pp_all_limbs])\n",
    "pnp_rh = np.array([patient_array_to_hfd(patient, window_start=int(window_start_sec*freq), window_size=window_size*freq, k=k) for patient in pnp_all_limbs])\n",
    "#hv_rh = np.array([patient_array_to_hfd(patient, window_start=int(window_start_sec*freq), window_size=window_size*freq, k=k) for patient in hv_rh_limbs])"
   ]
  },
  {
   "cell_type": "markdown",
   "metadata": {},
   "source": [
    "Alternatively, get HFD over all windows of the specified size"
   ]
  },
  {
   "cell_type": "code",
   "execution_count": 25,
   "metadata": {},
   "outputs": [
    {
     "name": "stdout",
     "output_type": "stream",
     "text": [
      "Calculating HFD with window start 0 window size 500 step 1\n",
      "Calculating HFD with window start 0 window size 500 step 1\n",
      "Calculating HFD with window start 0 window size 500 step 1\n",
      "Calculating HFD with window start 0 window size 500 step 1\n",
      "Calculating HFD with window start 0 window size 500 step 1\n",
      "Calculating HFD with window start 0 window size 500 step 1\n",
      "Calculating HFD with window start 0 window size 500 step 1\n",
      "Calculating HFD with window start 0 window size 500 step 1\n",
      "Calculating HFD with window start 0 window size 500 step 1\n",
      "Calculating HFD with window start 0 window size 500 step 1\n",
      "Calculating HFD with window start 250 window size 500 step 1\n",
      "Calculating HFD with window start 250 window size 500 step 1\n",
      "Calculating HFD with window start 250 window size 500 step 1\n",
      "Calculating HFD with window start 250 window size 500 step 1\n",
      "Calculating HFD with window start 250 window size 500 step 1\n",
      "Calculating HFD with window start 250 window size 500 step 1\n",
      "Calculating HFD with window start 250 window size 500 step 1\n",
      "Calculating HFD with window start 250 window size 500 step 1\n",
      "Calculating HFD with window start 250 window size 500 step 1\n",
      "Calculating HFD with window start 250 window size 500 step 1\n",
      "Calculating HFD with window start 500 window size 500 step 1\n",
      "Calculating HFD with window start 500 window size 500 step 1\n",
      "Calculating HFD with window start 500 window size 500 step 1\n",
      "Calculating HFD with window start 500 window size 500 step 1\n",
      "Calculating HFD with window start 500 window size 500 step 1\n",
      "Calculating HFD with window start 500 window size 500 step 1\n",
      "Calculating HFD with window start 500 window size 500 step 1\n",
      "Calculating HFD with window start 500 window size 500 step 1\n",
      "Calculating HFD with window start 500 window size 500 step 1\n",
      "Calculating HFD with window start 500 window size 500 step 1\n",
      "Calculating HFD with window start 750 window size 500 step 1\n",
      "Calculating HFD with window start 750 window size 500 step 1\n",
      "Calculating HFD with window start 750 window size 500 step 1\n",
      "Calculating HFD with window start 750 window size 500 step 1\n",
      "Calculating HFD with window start 750 window size 500 step 1\n",
      "Calculating HFD with window start 750 window size 500 step 1\n",
      "Calculating HFD with window start 750 window size 500 step 1\n",
      "Calculating HFD with window start 750 window size 500 step 1\n",
      "Calculating HFD with window start 750 window size 500 step 1\n",
      "Calculating HFD with window start 750 window size 500 step 1\n",
      "Calculating HFD with window start 0 window size 500 step 1\n",
      "Calculating HFD with window start 0 window size 500 step 1\n",
      "Calculating HFD with window start 0 window size 500 step 1\n",
      "Calculating HFD with window start 0 window size 500 step 1\n",
      "Calculating HFD with window start 0 window size 500 step 1\n",
      "Calculating HFD with window start 0 window size 500 step 1\n",
      "Calculating HFD with window start 0 window size 500 step 1\n",
      "Calculating HFD with window start 0 window size 500 step 1\n",
      "Calculating HFD with window start 0 window size 500 step 1\n",
      "Calculating HFD with window start 250 window size 500 step 1\n",
      "Calculating HFD with window start 250 window size 500 step 1\n",
      "Calculating HFD with window start 250 window size 500 step 1\n",
      "Calculating HFD with window start 250 window size 500 step 1\n",
      "Calculating HFD with window start 250 window size 500 step 1\n",
      "Calculating HFD with window start 250 window size 500 step 1\n",
      "Calculating HFD with window start 250 window size 500 step 1\n",
      "Calculating HFD with window start 250 window size 500 step 1\n",
      "Calculating HFD with window start 250 window size 500 step 1\n",
      "Calculating HFD with window start 500 window size 500 step 1\n",
      "Calculating HFD with window start 500 window size 500 step 1\n",
      "Calculating HFD with window start 500 window size 500 step 1\n",
      "Calculating HFD with window start 500 window size 500 step 1\n",
      "Calculating HFD with window start 500 window size 500 step 1\n",
      "Calculating HFD with window start 500 window size 500 step 1\n",
      "Calculating HFD with window start 500 window size 500 step 1\n",
      "Calculating HFD with window start 500 window size 500 step 1\n",
      "Calculating HFD with window start 500 window size 500 step 1\n",
      "Calculating HFD with window start 750 window size 500 step 1\n",
      "Calculating HFD with window start 750 window size 500 step 1\n",
      "Calculating HFD with window start 750 window size 500 step 1\n",
      "Calculating HFD with window start 750 window size 500 step 1\n",
      "Calculating HFD with window start 750 window size 500 step 1\n",
      "Calculating HFD with window start 750 window size 500 step 1\n",
      "Calculating HFD with window start 750 window size 500 step 1\n",
      "Calculating HFD with window start 750 window size 500 step 1\n",
      "Calculating HFD with window start 750 window size 500 step 1\n",
      "Calculating HFD with window start 0 window size 500 step 1\n",
      "Calculating HFD with window start 0 window size 500 step 1\n",
      "Calculating HFD with window start 0 window size 500 step 1\n",
      "Calculating HFD with window start 0 window size 500 step 1\n",
      "Calculating HFD with window start 0 window size 500 step 1\n",
      "Calculating HFD with window start 0 window size 500 step 1\n",
      "Calculating HFD with window start 0 window size 500 step 1\n",
      "Calculating HFD with window start 0 window size 500 step 1\n",
      "Calculating HFD with window start 0 window size 500 step 1\n",
      "Calculating HFD with window start 0 window size 500 step 1\n",
      "Calculating HFD with window start 250 window size 500 step 1\n",
      "Calculating HFD with window start 250 window size 500 step 1\n",
      "Calculating HFD with window start 250 window size 500 step 1\n",
      "Calculating HFD with window start 250 window size 500 step 1\n",
      "Calculating HFD with window start 250 window size 500 step 1\n",
      "Calculating HFD with window start 250 window size 500 step 1\n",
      "Calculating HFD with window start 250 window size 500 step 1\n",
      "Calculating HFD with window start 250 window size 500 step 1\n",
      "Calculating HFD with window start 250 window size 500 step 1\n",
      "Calculating HFD with window start 250 window size 500 step 1\n",
      "Calculating HFD with window start 500 window size 500 step 1\n",
      "Calculating HFD with window start 500 window size 500 step 1\n",
      "Calculating HFD with window start 500 window size 500 step 1\n",
      "Calculating HFD with window start 500 window size 500 step 1\n",
      "Calculating HFD with window start 500 window size 500 step 1\n",
      "Calculating HFD with window start 500 window size 500 step 1\n",
      "Calculating HFD with window start 500 window size 500 step 1\n",
      "Calculating HFD with window start 500 window size 500 step 1\n",
      "Calculating HFD with window start 500 window size 500 step 1\n",
      "Calculating HFD with window start 500 window size 500 step 1\n",
      "Calculating HFD with window start 750 window size 500 step 1\n",
      "Calculating HFD with window start 750 window size 500 step 1\n",
      "Calculating HFD with window start 750 window size 500 step 1\n",
      "Calculating HFD with window start 750 window size 500 step 1\n",
      "Calculating HFD with window start 750 window size 500 step 1\n",
      "Calculating HFD with window start 750 window size 500 step 1\n",
      "Calculating HFD with window start 750 window size 500 step 1\n",
      "Calculating HFD with window start 750 window size 500 step 1\n",
      "Calculating HFD with window start 750 window size 500 step 1\n",
      "Calculating HFD with window start 750 window size 500 step 1\n"
     ]
    }
   ],
   "source": [
    "pp_all_windows = [[patient_array_to_hfd(patient, window_start=window*freq, window_size=window_size*freq, k=k) for patient in pp_rh_raw] for window in range(0,4)]\n",
    "pnp_all_windows = [[patient_array_to_hfd(patient, window_start=window*freq, window_size=window_size*freq, k=k) for patient in pnp_rh_raw] for window in range(0,4)]\n",
    "hv_all_windows = [[patient_array_to_hfd(patient, window_start=window*freq, window_size=window_size*freq, k=k) for patient in hv_rh_raw] for window in range(0,4)]"
   ]
  },
  {
   "cell_type": "code",
   "execution_count": 26,
   "metadata": {},
   "outputs": [],
   "source": [
    "np_all = np.array(pp_all_windows)"
   ]
  },
  {
   "cell_type": "code",
   "execution_count": 27,
   "metadata": {},
   "outputs": [
    {
     "data": {
      "text/plain": [
       "525"
      ]
     },
     "execution_count": 27,
     "metadata": {},
     "output_type": "execute_result"
    }
   ],
   "source": [
    "np.sum([s.shape[0] for s in np_all[0]])"
   ]
  },
  {
   "cell_type": "code",
   "execution_count": 28,
   "metadata": {},
   "outputs": [
    {
     "ename": "NameError",
     "evalue": "name 'pnp_rh' is not defined",
     "output_type": "error",
     "traceback": [
      "\u001b[1;31m---------------------------------------------------------------------------\u001b[0m",
      "\u001b[1;31mNameError\u001b[0m                                 Traceback (most recent call last)",
      "\u001b[1;32m<ipython-input-28-5a2bdda77d68>\u001b[0m in \u001b[0;36m<module>\u001b[1;34m\u001b[0m\n\u001b[1;32m----> 1\u001b[1;33m \u001b[0mpnp_rh\u001b[0m\u001b[1;33m.\u001b[0m\u001b[0mshape\u001b[0m\u001b[1;33m\u001b[0m\u001b[1;33m\u001b[0m\u001b[0m\n\u001b[0m",
      "\u001b[1;31mNameError\u001b[0m: name 'pnp_rh' is not defined"
     ]
    }
   ],
   "source": [
    "pnp_rh.shape"
   ]
  },
  {
   "cell_type": "code",
   "execution_count": null,
   "metadata": {},
   "outputs": [],
   "source": []
  },
  {
   "cell_type": "code",
   "execution_count": 29,
   "metadata": {},
   "outputs": [
    {
     "data": {
      "text/plain": [
       "(4, 9)"
      ]
     },
     "execution_count": 29,
     "metadata": {},
     "output_type": "execute_result"
    }
   ],
   "source": [
    "# Over individual patients\n",
    "pp_all_windows_patients_repetitions = np.array([[np.array([[ channel[0] for channel in repetition ] for repetition in patient ]) for patient in window ] for window in np.array(pp_all_windows) ])\n",
    "pnp_all_windows_patients_repetitions = np.array([[np.array([[ channel[0] for channel in repetition ] for repetition in patient ]) for patient in window ] for window in np.array(pnp_all_windows) ])\n",
    "hv_all_windows_patients_repetitions = np.array([[np.array([[ channel[0] for channel in repetition ] for repetition in patient ]) for patient in window ] for window in np.array(hv_all_windows) ])\n",
    "\n",
    "pnp_all_windows_patients_repetitions.shape"
   ]
  },
  {
   "cell_type": "code",
   "execution_count": 30,
   "metadata": {},
   "outputs": [
    {
     "data": {
      "text/plain": [
       "(4, 480, 61)"
      ]
     },
     "execution_count": 30,
     "metadata": {},
     "output_type": "execute_result"
    }
   ],
   "source": [
    "# All repetitions concatenated\n",
    "pp_all_windows_repetitions = np.array([np.vstack([np.array([[ channel[0] for channel in repetition ] for repetition in patient ]) for patient in window ]) for window in np.array(pp_all_windows) ])\n",
    "pnp_all_windows_repetitions = np.array([np.vstack([np.array([[ channel[0] for channel in repetition ] for repetition in patient ]) for patient in window ]) for window in np.array(pnp_all_windows) ])\n",
    "hv_all_windows_repetitions = np.array([np.vstack([np.array([[ channel[0] for channel in repetition ] for repetition in patient ]) for patient in window ]) for window in np.array(hv_all_windows) ])\n",
    "\n",
    "pnp_all_windows_repetitions.shape"
   ]
  },
  {
   "cell_type": "code",
   "execution_count": null,
   "metadata": {},
   "outputs": [],
   "source": []
  },
  {
   "cell_type": "code",
   "execution_count": 31,
   "metadata": {},
   "outputs": [
    {
     "data": {
      "text/plain": [
       "(61, 4)"
      ]
     },
     "execution_count": 31,
     "metadata": {},
     "output_type": "execute_result"
    }
   ],
   "source": [
    "pp_mean_all_windows = np.mean(pp_all_windows_repetitions, axis=1).transpose()\n",
    "pnp_mean_all_windows = np.mean(pnp_all_windows_repetitions, axis=1).transpose()\n",
    "hv_mean_all_windows = np.mean(hv_all_windows_repetitions, axis=1).transpose()\n",
    "\n",
    "pnp_mean_all_windows.shape"
   ]
  },
  {
   "cell_type": "code",
   "execution_count": null,
   "metadata": {},
   "outputs": [],
   "source": []
  },
  {
   "cell_type": "code",
   "execution_count": 32,
   "metadata": {},
   "outputs": [],
   "source": [
    "diff_pp_pnp_all_windows = pp_mean_all_windows - pnp_mean_all_windows\n",
    "diff_pp_pnp_all_windows = diff_pp_pnp_all_windows - diff_pp_pnp_all_windows.mean()\n",
    "\n",
    "diff_hv_pnp_all_windows = hv_mean_all_windows - pnp_mean_all_windows\n",
    "diff_hv_pnp_all_windows = diff_hv_pnp_all_windows - diff_hv_pnp_all_windows.mean()\n",
    "\n",
    "diff_hv_pp_all_windows = hv_mean_all_windows - pp_mean_all_windows\n",
    "diff_hv_pp_all_windows = diff_hv_pp_all_windows - diff_hv_pp_all_windows.mean()"
   ]
  },
  {
   "cell_type": "code",
   "execution_count": null,
   "metadata": {},
   "outputs": [],
   "source": []
  },
  {
   "cell_type": "code",
   "execution_count": 75,
   "metadata": {},
   "outputs": [],
   "source": [
    "scipy.io.savemat('./results/arrays/hfd_2s_window_means_l.mat', {'pp': pp_mean_all_windows, 'pnp': pnp_mean_all_windows, 'hv': hv_mean_all_windows,\n",
    "                                                                'diff_pp_pnp': diff_pp_pnp_all_windows, 'diff_hv_pnp': diff_hv_pnp_all_windows,\n",
    "                                                                'diff_hv_pp': diff_hv_pp_all_windows})"
   ]
  },
  {
   "cell_type": "code",
   "execution_count": 34,
   "metadata": {},
   "outputs": [],
   "source": [
    "scipy.io.savemat('./results/arrays/hfd_2s_window_individuals_lh.mat', {'pp': pp_all_windows_patients_repetitions, 'pnp': pnp_all_windows_patients_repetitions, 'hv': hv_all_windows_patients_repetitions,})"
   ]
  },
  {
   "cell_type": "code",
   "execution_count": 55,
   "metadata": {},
   "outputs": [],
   "source": [
    "scipy.io.savemat('./results/arrays/hfd_2s_window_repetitions_l.mat', {'pp': pp_all_windows_repetitions, 'pnp': pnp_all_windows_repetitions, 'hv': hv_all_windows_repetitions,})"
   ]
  },
  {
   "cell_type": "code",
   "execution_count": 86,
   "metadata": {},
   "outputs": [],
   "source": [
    "scipy.io.savemat('./results/arrays/pdp_hfd_2s_window_means_l.mat', {'pdp': pp_mean_all_windows, 'pnp': pnp_mean_all_windows,\n",
    "                                                                'diff_pp_pnp': diff_pp_pnp_all_windows})"
   ]
  },
  {
   "cell_type": "code",
   "execution_count": 87,
   "metadata": {},
   "outputs": [],
   "source": [
    "scipy.io.savemat('./results/arrays/pdp_hfd_2s_window_individuals_l.mat', {'pdp': pp_all_windows_patients_repetitions, 'pnp': pnp_all_windows_patients_repetitions})"
   ]
  },
  {
   "cell_type": "code",
   "execution_count": 88,
   "metadata": {},
   "outputs": [],
   "source": [
    "scipy.io.savemat('./results/arrays/pdp_hfd_2s_window_repetitions_l.mat', {'pdp': pp_all_windows_repetitions, 'pnp': pnp_all_windows_repetitions})"
   ]
  },
  {
   "cell_type": "code",
   "execution_count": null,
   "metadata": {},
   "outputs": [],
   "source": []
  },
  {
   "cell_type": "code",
   "execution_count": 30,
   "metadata": {},
   "outputs": [],
   "source": [
    "testtt = scipy.io.loadmat('./results/arrays/pp_pnp/hfd_2s_window_repetitions_rh.mat')"
   ]
  },
  {
   "cell_type": "code",
   "execution_count": 32,
   "metadata": {},
   "outputs": [
    {
     "data": {
      "text/plain": [
       "(4, 530, 61)"
      ]
     },
     "execution_count": 32,
     "metadata": {},
     "output_type": "execute_result"
    }
   ],
   "source": [
    "testtt['pp'].shape"
   ]
  },
  {
   "cell_type": "code",
   "execution_count": 12,
   "metadata": {},
   "outputs": [
    {
     "ename": "ValueError",
     "evalue": "operands could not be broadcast together with shapes (4,279,48) (4,369,48) ",
     "output_type": "error",
     "traceback": [
      "\u001b[1;31m---------------------------------------------------------------------------\u001b[0m",
      "\u001b[1;31mValueError\u001b[0m                                Traceback (most recent call last)",
      "\u001b[1;32m<ipython-input-12-ea206235d224>\u001b[0m in \u001b[0;36m<module>\u001b[1;34m\u001b[0m\n\u001b[1;32m----> 1\u001b[1;33m \u001b[1;33m(\u001b[0m\u001b[0mtesttt\u001b[0m\u001b[1;33m[\u001b[0m\u001b[1;34m'pdp'\u001b[0m\u001b[1;33m]\u001b[0m \u001b[1;33m-\u001b[0m \u001b[0mtesttt\u001b[0m\u001b[1;33m[\u001b[0m\u001b[1;34m'pnp'\u001b[0m\u001b[1;33m]\u001b[0m\u001b[1;33m)\u001b[0m \u001b[1;33m-\u001b[0m \u001b[1;33m(\u001b[0m\u001b[0mtesttt\u001b[0m\u001b[1;33m[\u001b[0m\u001b[1;34m'pdp'\u001b[0m\u001b[1;33m]\u001b[0m \u001b[1;33m-\u001b[0m \u001b[0mtesttt\u001b[0m\u001b[1;33m[\u001b[0m\u001b[1;34m'pnp'\u001b[0m\u001b[1;33m]\u001b[0m\u001b[1;33m)\u001b[0m\u001b[1;33m.\u001b[0m\u001b[0mmean\u001b[0m\u001b[1;33m(\u001b[0m\u001b[1;33m)\u001b[0m \u001b[1;33m-\u001b[0m \u001b[0mtesttt\u001b[0m\u001b[1;33m[\u001b[0m\u001b[1;34m'diff_pp_pnp'\u001b[0m\u001b[1;33m]\u001b[0m\u001b[1;33m\u001b[0m\u001b[1;33m\u001b[0m\u001b[0m\n\u001b[0m",
      "\u001b[1;31mValueError\u001b[0m: operands could not be broadcast together with shapes (4,279,48) (4,369,48) "
     ]
    }
   ],
   "source": [
    "(testtt['pdp'] - testtt['pnp']) - (testtt['pdp'] - testtt['pnp']).mean() - testtt['diff_pp_pnp']"
   ]
  },
  {
   "cell_type": "code",
   "execution_count": null,
   "metadata": {},
   "outputs": [],
   "source": []
  },
  {
   "cell_type": "code",
   "execution_count": 33,
   "metadata": {},
   "outputs": [
    {
     "data": {
      "text/plain": [
       "(61, 4)"
      ]
     },
     "execution_count": 33,
     "metadata": {},
     "output_type": "execute_result"
    }
   ],
   "source": [
    "diff_all_windows = pp_mean_all_windows - pnp_mean_all_windows\n",
    "diff_all_windows = diff_all_windows - diff_all_windows.mean()\n",
    "diff_all_windows.shape"
   ]
  },
  {
   "cell_type": "code",
   "execution_count": 34,
   "metadata": {},
   "outputs": [
    {
     "data": {
      "text/plain": [
       "NormaltestResult(statistic=2.5280177927926215, pvalue=0.28251916318974224)"
      ]
     },
     "execution_count": 34,
     "metadata": {},
     "output_type": "execute_result"
    }
   ],
   "source": [
    "scipy.stats.normaltest(diff_all_windows.flatten())"
   ]
  },
  {
   "cell_type": "code",
   "execution_count": 35,
   "metadata": {},
   "outputs": [],
   "source": [
    "max_hfd = np.max([np.max(pp_mean_all_windows), np.max(pnp_mean_all_windows), np.min(hv_mean_all_windows)])\n",
    "min_hfd = np.min([np.min(pp_mean_all_windows), np.min(pnp_mean_all_windows), np.min(hv_mean_all_windows)])"
   ]
  },
  {
   "cell_type": "code",
   "execution_count": null,
   "metadata": {},
   "outputs": [],
   "source": []
  },
  {
   "cell_type": "code",
   "execution_count": null,
   "metadata": {},
   "outputs": [],
   "source": []
  },
  {
   "cell_type": "code",
   "execution_count": 39,
   "metadata": {},
   "outputs": [
    {
     "data": {
      "text/plain": [
       "1.812531085969879"
      ]
     },
     "execution_count": 39,
     "metadata": {},
     "output_type": "execute_result"
    }
   ],
   "source": [
    "min_hfd"
   ]
  },
  {
   "cell_type": "code",
   "execution_count": 40,
   "metadata": {},
   "outputs": [
    {
     "data": {
      "text/plain": [
       "1.8327826670437195"
      ]
     },
     "execution_count": 40,
     "metadata": {},
     "output_type": "execute_result"
    }
   ],
   "source": [
    "np.mean(pnp_mean_all_windows)"
   ]
  },
  {
   "cell_type": "code",
   "execution_count": 41,
   "metadata": {},
   "outputs": [
    {
     "data": {
      "text/plain": [
       "1.8302081964838588"
      ]
     },
     "execution_count": 41,
     "metadata": {},
     "output_type": "execute_result"
    }
   ],
   "source": [
    "np.mean(pp_all_windows_repetitions, axis=1).transpose()[14][1]"
   ]
  },
  {
   "cell_type": "code",
   "execution_count": 51,
   "metadata": {},
   "outputs": [],
   "source": [
    "graph_font_label = 14\n",
    "graph_font_ticks = 15\n",
    "graph_labels = ch_names\n",
    "n_channels = 61"
   ]
  },
  {
   "cell_type": "code",
   "execution_count": 52,
   "metadata": {
    "scrolled": true
   },
   "outputs": [
    {
     "data": {
      "image/png": "[encoded data removed]",
      "text/plain": [
       "<Figure size 1080x1080 with 1 Axes>"
      ]
     },
     "metadata": {
      "needs_background": "light"
     },
     "output_type": "display_data"
    }
   ],
   "source": [
    "title = 'Normalized HFD values in ' + limb['name'] + ' within a 2s sliding window, PDP; k=7'\n",
    "graph_name = 'window_pp_' + limb['name']\n",
    "\n",
    "plt.figure(figsize=[15,15])\n",
    "#plt.title(title)\n",
    "plt.ylabel('Channel', fontsize=graph_font_label)\n",
    "plt.yticks(ticks=range(n_channels), labels=graph_labels, fontsize=graph_font_ticks)\n",
    "plt.xticks(range(4), fontsize=graph_font_ticks)\n",
    "plt.xlabel('Offset (s)', fontsize=graph_font_label)\n",
    "plt.imshow(pp_mean_all_windows, vmin=min_hfd, vmax=max_hfd)\n",
    "plt.tight_layout()\n",
    "plt.savefig('./results/graphs/no_captions_new/v/' + limb['name'] + '/' + graph_name + '.eps')\n",
    "plt.savefig('./results/graphs/no_captions_new/v/' + limb['name'] + '/' + graph_name + '.jpg')"
   ]
  },
  {
   "cell_type": "code",
   "execution_count": 53,
   "metadata": {},
   "outputs": [
    {
     "data": {
      "image/png": "[encoded data removed]",
      "text/plain": [
       "<Figure size 1080x1080 with 1 Axes>"
      ]
     },
     "metadata": {
      "needs_background": "light"
     },
     "output_type": "display_data"
    }
   ],
   "source": [
    "title = 'Normalized HFD values in ' + limb['name'] + ' within a 2s sliding window, PNP; k=7'\n",
    "graph_name = 'window_pnp_' + limb['name']\n",
    "\n",
    "plt.figure(figsize=[15,15])\n",
    "#plt.title(title)\n",
    "plt.ylabel('Channel', fontsize=graph_font_label)\n",
    "plt.yticks(ticks=range(n_channels), labels=graph_labels, fontsize=graph_font_ticks)\n",
    "plt.xticks(range(4), fontsize=graph_font_ticks)\n",
    "plt.xlabel('Offset (s)', fontsize=graph_font_label)\n",
    "plt.imshow(pnp_mean_all_windows, vmin=min_hfd, vmax=max_hfd)\n",
    "plt.tight_layout()\n",
    "plt.savefig('./results/graphs/no_captions_new/v/' + limb['name'] + '/' + graph_name + '.eps')\n",
    "plt.savefig('./results/graphs/no_captions_new/v/' + limb['name'] + '/' + graph_name + '.jpg')"
   ]
  },
  {
   "cell_type": "code",
   "execution_count": 54,
   "metadata": {},
   "outputs": [
    {
     "data": {
      "image/png": "[encoded data removed]",
      "text/plain": [
       "<Figure size 1080x1080 with 1 Axes>"
      ]
     },
     "metadata": {
      "needs_background": "light"
     },
     "output_type": "display_data"
    }
   ],
   "source": [
    "title = 'Normalized HFD values in ' + limb['name'] + ' within a 2s sliding window, PNP; k=7'\n",
    "graph_name = 'window_hv_' + limb['name']\n",
    "\n",
    "plt.figure(figsize=[15,15])\n",
    "#plt.title(title)\n",
    "plt.ylabel('Channel', fontsize=graph_font_label)\n",
    "plt.yticks(ticks=range(n_channels), labels=graph_labels, fontsize=graph_font_ticks)\n",
    "plt.xticks(range(4), fontsize=graph_font_ticks)\n",
    "plt.xlabel('Offset (s)', fontsize=graph_font_label)\n",
    "plt.imshow(hv_mean_all_windows, vmin=min_hfd, vmax=max_hfd)\n",
    "plt.tight_layout()\n",
    "plt.savefig('./results/graphs/no_captions_new/v/' + limb['name'] + '/' + graph_name + '.eps')\n",
    "plt.savefig('./results/graphs/no_captions_new/v/' + limb['name'] + '/' + graph_name + '.jpg')"
   ]
  },
  {
   "cell_type": "code",
   "execution_count": 55,
   "metadata": {},
   "outputs": [
    {
     "data": {
      "image/png": "[encoded data removed]",
      "text/plain": [
       "<Figure size 1080x1080 with 1 Axes>"
      ]
     },
     "metadata": {
      "needs_background": "light"
     },
     "output_type": "display_data"
    }
   ],
   "source": [
    "title = 'Normalized HFD values in ' + limb['name'] + ' within a 2s sliding window, PDP; k=7'\n",
    "graph_name = 'window_pdp_' + limb['name']\n",
    "\n",
    "plt.figure(figsize=[15,15])\n",
    "#plt.title(title)\n",
    "plt.xlabel('Channel', fontsize=graph_font_label)\n",
    "plt.xticks(ticks=range(n_channels), labels=graph_labels, rotation=-55, fontsize=graph_font_ticks)\n",
    "plt.yticks(range(4), fontsize=graph_font_ticks)\n",
    "plt.ylabel('Offset (s)', fontsize=graph_font_label)\n",
    "plt.imshow(pp_mean_all_windows.transpose(), vmin=min_hfd, vmax=max_hfd)\n",
    "plt.tight_layout()\n",
    "plt.savefig('./results/graphs/no_captions_new/h/' + limb['name'] + '/' + graph_name + '.eps')\n",
    "plt.savefig('./results/graphs/no_captions_new/h/' + limb['name'] + '/' + graph_name + '.jpg')"
   ]
  },
  {
   "cell_type": "code",
   "execution_count": 151,
   "metadata": {},
   "outputs": [
    {
     "data": {
      "image/png": "[encoded data removed]",
      "text/plain": [
       "<Figure size 1080x1080 with 1 Axes>"
      ]
     },
     "metadata": {
      "needs_background": "light"
     },
     "output_type": "display_data"
    }
   ],
   "source": [
    "title = 'Normalized HFD values in ' + limb['name'] + ' within a 2s sliding window, PNP; k=7'\n",
    "graph_name = 'window_pnp_' + limb['name']\n",
    "\n",
    "plt.figure(figsize=[15,15])\n",
    "#plt.title(title)\n",
    "plt.xlabel('Channel', fontsize=graph_font_label)\n",
    "plt.xticks(ticks=range(n_channels), labels=graph_labels, rotation=-55, fontsize=graph_font_ticks)\n",
    "plt.yticks(range(4), fontsize=graph_font_ticks)\n",
    "plt.ylabel('Offset (s)', fontsize=graph_font_label)\n",
    "plt.imshow(pnp_mean_all_windows.transpose(), vmin=min_hfd, vmax=max_hfd)\n",
    "plt.tight_layout()\n",
    "plt.savefig('./results/graphs/no_captions_new/h/' + limb['name'] + '/' + graph_name + '.eps')\n",
    "plt.savefig('./results/graphs/no_captions_new/h/' + limb['name'] + '/' + graph_name + '.jpg')"
   ]
  },
  {
   "cell_type": "code",
   "execution_count": 152,
   "metadata": {},
   "outputs": [
    {
     "data": {
      "image/png": "[encoded data removed]",
      "text/plain": [
       "<Figure size 1080x1080 with 1 Axes>"
      ]
     },
     "metadata": {
      "needs_background": "light"
     },
     "output_type": "display_data"
    }
   ],
   "source": [
    "title = 'Normalized HFD values in ' + limb['name'] + ' within a 2s sliding window, PNP; k=7'\n",
    "graph_name = 'window_hv_' + limb['name']\n",
    "\n",
    "plt.figure(figsize=[15,15])\n",
    "#plt.title(title)\n",
    "plt.xlabel('Channel', fontsize=graph_font_label)\n",
    "plt.xticks(ticks=range(n_channels), labels=graph_labels, rotation=-55, fontsize=graph_font_ticks)\n",
    "plt.yticks(range(4), fontsize=graph_font_ticks)\n",
    "plt.ylabel('Offset (s)', fontsize=graph_font_label)\n",
    "plt.imshow(hv_mean_all_windows.transpose(), vmin=min_hfd, vmax=max_hfd)\n",
    "plt.tight_layout()\n",
    "plt.savefig('./results/graphs/no_captions_new/h/' + limb['name'] + '/' + graph_name + '.eps')\n",
    "plt.savefig('./results/graphs/no_captions_new/h/' + limb['name'] + '/' + graph_name + '.jpg')"
   ]
  },
  {
   "cell_type": "code",
   "execution_count": null,
   "metadata": {},
   "outputs": [],
   "source": [
    "diff_all_windows[ch_names.index('P1')]"
   ]
  },
  {
   "cell_type": "code",
   "execution_count": null,
   "metadata": {},
   "outputs": [],
   "source": [
    "diff_all_windows.min()"
   ]
  },
  {
   "cell_type": "code",
   "execution_count": null,
   "metadata": {},
   "outputs": [],
   "source": [
    "asda = np.abs(diff_all_windows - np.zeros(diff_all_windows.shape))\n",
    "np.unravel_index(asda.argmin(), asda.shape)"
   ]
  },
  {
   "cell_type": "code",
   "execution_count": null,
   "metadata": {},
   "outputs": [],
   "source": [
    "ch_names[20]"
   ]
  },
  {
   "cell_type": "code",
   "execution_count": 88,
   "metadata": {},
   "outputs": [
    {
     "data": {
      "image/png": "[encoded data removed]",
      "text/plain": [
       "<Figure size 1080x1080 with 1 Axes>"
      ]
     },
     "metadata": {
      "needs_background": "light"
     },
     "output_type": "display_data"
    }
   ],
   "source": [
    "title = str('Normalized HFD difference in ' + limb['name'] + ' between PDP and PNP within a 2s sliding window; k=7\\n' +\n",
    "        'Red indicates PDP > PNP; Blue indicates PDP < PNP; white indicates similar values')\n",
    "graph_name = 'window_pdp_pnp_diff_' + limb['name']\n",
    "\n",
    "plt.figure(figsize=[15,15])\n",
    "#plt.title(title)\n",
    "plt.ylabel('Channel', fontsize=graph_font_label)\n",
    "plt.yticks(ticks=range(n_channels), labels=graph_labels, fontsize=graph_font_ticks)\n",
    "plt.xticks(range(4), fontsize=graph_font_ticks)\n",
    "plt.xlabel('Offset (s)', fontsize=graph_font_label)\n",
    "plt.imshow(diff_pp_pnp_all_windows, cmap='bwr')\n",
    "plt.tight_layout()\n",
    "plt.savefig('./results/graphs/no_captions_new/v/' + limb['name'] + '/' + graph_name + '.eps')\n",
    "plt.savefig('./results/graphs/no_captions_new/v/' + limb['name'] + '/' + graph_name + '.jpg')"
   ]
  },
  {
   "cell_type": "code",
   "execution_count": 100,
   "metadata": {},
   "outputs": [
    {
     "data": {
      "image/png": "[encoded data removed]",
      "text/plain": [
       "<Figure size 1080x1080 with 1 Axes>"
      ]
     },
     "metadata": {
      "needs_background": "light"
     },
     "output_type": "display_data"
    }
   ],
   "source": [
    "title = str('Normalized HFD difference in ' + limb['name'] + ' between PDP and PNP within a 2s sliding window; k=7\\n' +\n",
    "        'Red indicates PDP > PNP; Blue indicates PDP < PNP; white indicates similar values')\n",
    "graph_name = 'window_hv_pp_diff_' + limb['name']\n",
    "\n",
    "plt.figure(figsize=[15,15])\n",
    "#plt.title(title)\n",
    "plt.ylabel('Channel', fontsize=graph_font_label)\n",
    "plt.yticks(ticks=range(n_channels), labels=graph_labels, fontsize=graph_font_ticks)\n",
    "plt.xticks(range(4), fontsize=graph_font_ticks)\n",
    "plt.xlabel('Offset (s)', fontsize=graph_font_label)\n",
    "plt.imshow(diff_hv_pp_all_windows, cmap='bwr')\n",
    "plt.tight_layout()\n",
    "plt.savefig('./results/graphs/no_captions_new/v/' + limb['name'] + '/' + graph_name + '.eps')\n",
    "plt.savefig('./results/graphs/no_captions_new/v/' + limb['name'] + '/' + graph_name + '.jpg')"
   ]
  },
  {
   "cell_type": "code",
   "execution_count": 101,
   "metadata": {},
   "outputs": [
    {
     "data": {
      "image/png": "[encoded data removed]",
      "text/plain": [
       "<Figure size 1080x1080 with 1 Axes>"
      ]
     },
     "metadata": {
      "needs_background": "light"
     },
     "output_type": "display_data"
    }
   ],
   "source": [
    "title = str('Normalized HFD difference in ' + limb['name'] + ' between PDP and PNP within a 2s sliding window; k=7\\n' +\n",
    "        'Red indicates PDP > PNP; Blue indicates PDP < PNP; white indicates similar values')\n",
    "graph_name = 'window_hv_pnp_diff_' + limb['name']\n",
    "\n",
    "plt.figure(figsize=[15,15])\n",
    "#plt.title(title)\n",
    "plt.ylabel('Channel', fontsize=graph_font_label)\n",
    "plt.yticks(ticks=range(n_channels), labels=graph_labels, fontsize=graph_font_ticks)\n",
    "plt.xticks(range(4), fontsize=graph_font_ticks)\n",
    "plt.xlabel('Offset (s)', fontsize=graph_font_label)\n",
    "plt.imshow(diff_hv_pnp_all_windows, cmap='bwr')\n",
    "plt.tight_layout()\n",
    "plt.savefig('./results/graphs/no_captions_new/v/' + limb['name'] + '/' + graph_name + '.eps')\n",
    "plt.savefig('./results/graphs/no_captions_new/v/' + limb['name'] + '/' + graph_name + '.jpg')"
   ]
  },
  {
   "cell_type": "code",
   "execution_count": 89,
   "metadata": {},
   "outputs": [
    {
     "data": {
      "image/png": "[encoded data removed]",
      "text/plain": [
       "<Figure size 1080x1080 with 1 Axes>"
      ]
     },
     "metadata": {
      "needs_background": "light"
     },
     "output_type": "display_data"
    }
   ],
   "source": [
    "title = str('Normalized HFD difference in ' + limb['name'] + ' between PDP and PNP within a 2s sliding window; k=7\\n' +\n",
    "        'Red indicates PDP > PNP; Blue indicates PDP < PNP; white indicates similar values')\n",
    "graph_name = 'window_pdp_pnp_diff_' + limb['name']\n",
    "\n",
    "plt.figure(figsize=[15,15])\n",
    "#plt.title(title)\n",
    "plt.xlabel('Channel', fontsize=graph_font_label)\n",
    "plt.xticks(ticks=range(n_channels), labels=graph_labels, rotation=-55, fontsize=graph_font_ticks)\n",
    "plt.yticks(range(4), fontsize=graph_font_ticks)\n",
    "plt.ylabel('Offset (s)', fontsize=graph_font_label)\n",
    "plt.imshow(diff_pp_pnp_all_windows.transpose(), cmap='bwr')\n",
    "plt.tight_layout()\n",
    "plt.savefig('./results/graphs/no_captions_new/h/' + limb['name'] + '/' + graph_name + '.eps')\n",
    "plt.savefig('./results/graphs/no_captions_new/h/' + limb['name'] + '/' + graph_name + '.jpg')"
   ]
  },
  {
   "cell_type": "code",
   "execution_count": 118,
   "metadata": {},
   "outputs": [
    {
     "data": {
      "image/png": "[encoded data removed]",
      "text/plain": [
       "<Figure size 1080x1080 with 1 Axes>"
      ]
     },
     "metadata": {
      "needs_background": "light"
     },
     "output_type": "display_data"
    }
   ],
   "source": [
    "title = str('Normalized HFD difference in ' + limb['name'] + ' between PDP and PNP within a 2s sliding window; k=7\\n' +\n",
    "        'Red indicates PDP > PNP; Blue indicates PDP < PNP; white indicates similar values')\n",
    "graph_name = 'window_hv_pp_diff_' + limb['name']\n",
    "\n",
    "plt.figure(figsize=[15,15])\n",
    "#plt.title(title)\n",
    "plt.xlabel('Channel', fontsize=graph_font_label)\n",
    "plt.xticks(ticks=range(n_channels), labels=graph_labels, rotation=-55, fontsize=graph_font_ticks)\n",
    "plt.yticks(range(4), fontsize=graph_font_ticks)\n",
    "plt.ylabel('Offset (s)', fontsize=graph_font_label)\n",
    "plt.imshow(diff_hv_pp_all_windows.transpose(), cmap='bwr')\n",
    "plt.tight_layout()\n",
    "plt.savefig('./results/graphs/no_captions_new/h/' + limb['name'] + '/' + graph_name + '.eps')\n",
    "plt.savefig('./results/graphs/no_captions_new/h/' + limb['name'] + '/' + graph_name + '.jpg')"
   ]
  },
  {
   "cell_type": "code",
   "execution_count": 119,
   "metadata": {},
   "outputs": [
    {
     "data": {
      "image/png": "[encoded data removed]",
      "text/plain": [
       "<Figure size 1080x1080 with 1 Axes>"
      ]
     },
     "metadata": {
      "needs_background": "light"
     },
     "output_type": "display_data"
    }
   ],
   "source": [
    "title = str('Normalized HFD difference in ' + limb['name'] + ' between PDP and PNP within a 2s sliding window; k=7\\n' +\n",
    "        'Red indicates PDP > PNP; Blue indicates PDP < PNP; white indicates similar values')\n",
    "graph_name = 'window_hv_pnp_diff_' + limb['name']\n",
    "\n",
    "plt.figure(figsize=[15,15])\n",
    "#plt.title(title)\n",
    "plt.xlabel('Channel', fontsize=graph_font_label)\n",
    "plt.xticks(ticks=range(n_channels), labels=graph_labels, rotation=-55, fontsize=graph_font_ticks)\n",
    "plt.yticks(range(4), fontsize=graph_font_ticks)\n",
    "plt.ylabel('Offset (s)', fontsize=graph_font_label)\n",
    "plt.imshow(diff_hv_pnp_all_windows.transpose(), cmap='bwr')\n",
    "plt.tight_layout()\n",
    "plt.savefig('./results/graphs/no_captions_new/h/' + limb['name'] + '/' + graph_name + '.eps')\n",
    "plt.savefig('./results/graphs/no_captions_new/h/' + limb['name'] + '/' + graph_name + '.jpg')"
   ]
  },
  {
   "cell_type": "code",
   "execution_count": null,
   "metadata": {},
   "outputs": [],
   "source": []
  },
  {
   "cell_type": "code",
   "execution_count": null,
   "metadata": {},
   "outputs": [],
   "source": []
  },
  {
   "cell_type": "code",
   "execution_count": 57,
   "metadata": {},
   "outputs": [
    {
     "data": {
      "text/plain": [
       "MatlabOpaque([(b'locations', b'MCOS', b'table', array([[3707764736],\n",
       "       [         2],\n",
       "       [         1],\n",
       "       [         1],\n",
       "       [         1],\n",
       "       [         1]], dtype=uint32))],\n",
       "             dtype=[('s0', 'O'), ('s1', 'O'), ('s2', 'O'), ('arr', 'O')])"
      ]
     },
     "execution_count": 57,
     "metadata": {},
     "output_type": "execute_result"
    }
   ],
   "source": [
    "scipy.io.loadmat('./notebooks/Standard_10-10_61ch.mat')['None']"
   ]
  },
  {
   "cell_type": "code",
   "execution_count": null,
   "metadata": {},
   "outputs": [],
   "source": []
  },
  {
   "cell_type": "code",
   "execution_count": 22,
   "metadata": {},
   "outputs": [
    {
     "data": {
      "text/plain": [
       "(56, 48, 1)"
      ]
     },
     "execution_count": 22,
     "metadata": {},
     "output_type": "execute_result"
    }
   ],
   "source": [
    "pnp_rh[0].shape"
   ]
  },
  {
   "cell_type": "code",
   "execution_count": 23,
   "metadata": {},
   "outputs": [
    {
     "data": {
      "text/plain": [
       "(58, 48, 1)"
      ]
     },
     "execution_count": 23,
     "metadata": {},
     "output_type": "execute_result"
    }
   ],
   "source": [
    "pp_rh[3].shape"
   ]
  },
  {
   "cell_type": "code",
   "execution_count": 24,
   "metadata": {},
   "outputs": [
    {
     "data": {
      "text/plain": [
       "(14,)"
      ]
     },
     "execution_count": 24,
     "metadata": {},
     "output_type": "execute_result"
    }
   ],
   "source": [
    "pp_and_pnp = np.concatenate((pp_rh, pnp_rh))\n",
    "pp_and_pnp.shape"
   ]
  },
  {
   "cell_type": "code",
   "execution_count": null,
   "metadata": {},
   "outputs": [],
   "source": []
  },
  {
   "cell_type": "markdown",
   "metadata": {},
   "source": [
    "For rearranging channels"
   ]
  },
  {
   "cell_type": "code",
   "execution_count": 45,
   "metadata": {},
   "outputs": [
    {
     "data": {
      "text/plain": [
       "array(['C', 'B', 'A'], dtype='<U1')"
      ]
     },
     "execution_count": 45,
     "metadata": {},
     "output_type": "execute_result"
    }
   ],
   "source": [
    "example_1"
   ]
  },
  {
   "cell_type": "code",
   "execution_count": 61,
   "metadata": {},
   "outputs": [],
   "source": [
    "correct_order = np.array(['A', 'B', 'C'])\n",
    "current_order = np.array(['B', 'C', 'A'])"
   ]
  },
  {
   "cell_type": "code",
   "execution_count": 65,
   "metadata": {},
   "outputs": [
    {
     "data": {
      "text/plain": [
       "[2, 0, 1]"
      ]
     },
     "execution_count": 65,
     "metadata": {},
     "output_type": "execute_result"
    }
   ],
   "source": [
    "indices_rearranged = [np.where(current_order == channel_name)[0][0] for channel_name in correct_order]\n",
    "indices_rearranged"
   ]
  },
  {
   "cell_type": "code",
   "execution_count": 67,
   "metadata": {},
   "outputs": [
    {
     "data": {
      "text/plain": [
       "array(['B', 'C', 'A'], dtype='<U1')"
      ]
     },
     "execution_count": 67,
     "metadata": {},
     "output_type": "execute_result"
    }
   ],
   "source": [
    "current_order"
   ]
  },
  {
   "cell_type": "code",
   "execution_count": 66,
   "metadata": {},
   "outputs": [
    {
     "data": {
      "text/plain": [
       "array(['A', 'B', 'C'], dtype='<U1')"
      ]
     },
     "execution_count": 66,
     "metadata": {},
     "output_type": "execute_result"
    }
   ],
   "source": [
    "current_order[indices_rearranged]"
   ]
  },
  {
   "cell_type": "code",
   "execution_count": 48,
   "metadata": {},
   "outputs": [
    {
     "ename": "NameError",
     "evalue": "name 'pp_rh' is not defined",
     "output_type": "error",
     "traceback": [
      "\u001b[1;31m---------------------------------------------------------------------------\u001b[0m",
      "\u001b[1;31mNameError\u001b[0m                                 Traceback (most recent call last)",
      "\u001b[1;32m<ipython-input-48-e4a20e2000cc>\u001b[0m in \u001b[0;36m<module>\u001b[1;34m\u001b[0m\n\u001b[1;32m----> 1\u001b[1;33m \u001b[0mpp_rh\u001b[0m\u001b[1;33m[\u001b[0m\u001b[1;36m0\u001b[0m\u001b[1;33m]\u001b[0m\u001b[1;33m[\u001b[0m\u001b[1;36m0\u001b[0m\u001b[1;33m]\u001b[0m\u001b[1;33m.\u001b[0m\u001b[0mshape\u001b[0m\u001b[1;33m\u001b[0m\u001b[1;33m\u001b[0m\u001b[0m\n\u001b[0m",
      "\u001b[1;31mNameError\u001b[0m: name 'pp_rh' is not defined"
     ]
    }
   ],
   "source": [
    "pp_rh[0][0].shape"
   ]
  },
  {
   "cell_type": "code",
   "execution_count": null,
   "metadata": {},
   "outputs": [],
   "source": []
  },
  {
   "cell_type": "code",
   "execution_count": null,
   "metadata": {},
   "outputs": [],
   "source": []
  },
  {
   "cell_type": "code",
   "execution_count": 13,
   "metadata": {},
   "outputs": [
    {
     "data": {
      "text/plain": [
       "(61, 4)"
      ]
     },
     "execution_count": 13,
     "metadata": {},
     "output_type": "execute_result"
    }
   ],
   "source": [
    "current_array = scipy.io.loadmat('./results/arrays/pp_pnp/hfd_2s_window_means_l.mat')\n",
    "current_array['pp'].shape"
   ]
  },
  {
   "cell_type": "code",
   "execution_count": 14,
   "metadata": {},
   "outputs": [],
   "source": [
    "correct_order = np.array(['Fp1', 'FP2', 'AF7', 'AF3', 'AFz', 'AF4', 'AF8', 'F7', 'F5', 'F3', 'F1', 'Fz', 'F2', 'F4', 'F6', 'F8', 'FT7', 'FC5', 'FC3', 'FC1', 'FCz', 'FC2', 'FC4', 'FC6', 'FT8', 'C7', 'C5', 'C3', 'C1', 'Cz', 'C2', 'C4', 'C6', 'C8', 'TP7', 'CP5', 'CP3', 'CP1', 'CPz', 'CP2', 'CP4', 'CP6', 'TP8', 'P7', 'P5', 'P3', 'P1', 'Pz', 'P2', 'P4', 'P6', 'P8', 'PO7','PO3', 'POz', 'PO4', 'PO8', 'O1', 'Oz', 'O2','Iz'])\n",
    "current_order = np.array(ch_names)"
   ]
  },
  {
   "cell_type": "code",
   "execution_count": 18,
   "metadata": {},
   "outputs": [],
   "source": [
    "indices_rearranged = [np.where(current_order == channel_name)[0][0] for channel_name in correct_order]"
   ]
  },
  {
   "cell_type": "code",
   "execution_count": 21,
   "metadata": {},
   "outputs": [
    {
     "data": {
      "text/plain": [
       "array([1.82944554, 1.82878706, 1.83018283, 1.83125091, 1.83098103,\n",
       "       1.82870121, 1.83101779, 1.83156226, 1.83137508, 1.8343635 ,\n",
       "       1.83543213, 1.83433073, 1.83306887, 1.83028393, 1.83023464,\n",
       "       1.83527069, 1.83179804, 1.83265608, 1.83895252, 1.83867144,\n",
       "       1.83747702, 1.83450789, 1.83494854, 1.83750561, 1.84212986,\n",
       "       1.83478761, 1.83874968, 1.8455308 , 1.84053751, 1.83897644,\n",
       "       1.83826811, 1.84252731, 1.84460197, 1.84802746, 1.83727167,\n",
       "       1.83951499, 1.84295567, 1.84038728, 1.83525236, 1.83898306,\n",
       "       1.84172011, 1.84065434, 1.84596539, 1.83687105, 1.83487019,\n",
       "       1.83481768, 1.83419275, 1.82928853, 1.83263224, 1.83404899,\n",
       "       1.83507887, 1.83595565, 1.83288887, 1.828805  , 1.8252163 ,\n",
       "       1.82844504, 1.83278066, 1.8316504 , 1.82946538, 1.82987338,\n",
       "       1.83418559])"
      ]
     },
     "execution_count": 21,
     "metadata": {},
     "output_type": "execute_result"
    }
   ],
   "source": [
    "current_array['pp'][:, 0][indices_rearranged]"
   ]
  },
  {
   "cell_type": "code",
   "execution_count": 31,
   "metadata": {},
   "outputs": [
    {
     "data": {
      "text/plain": [
       "array([1.83897644, 1.84053751, 1.83826811, 1.8455308 , 1.84252731,\n",
       "       1.83874968, 1.84460197, 1.83478761, 1.84802746, 1.83747702,\n",
       "       1.83867144, 1.83450789, 1.83895252, 1.83494854, 1.83265608,\n",
       "       1.83750561, 1.83179804, 1.84212986, 1.83525236, 1.84038728,\n",
       "       1.83898306, 1.84295567, 1.84172011, 1.83951499, 1.84065434,\n",
       "       1.83727167, 1.84596539, 1.83433073, 1.83543213, 1.83306887,\n",
       "       1.8343635 , 1.83028393, 1.83137508, 1.83023464, 1.83156226,\n",
       "       1.83527069, 1.82928853, 1.83419275, 1.83263224, 1.83481768,\n",
       "       1.83404899, 1.83487019, 1.83507887, 1.83687105, 1.83595565,\n",
       "       1.83098103, 1.83125091, 1.82870121, 1.83018283, 1.83101779,\n",
       "       1.82944554, 1.82878706, 1.8252163 , 1.828805  , 1.82844504,\n",
       "       1.83288887, 1.83278066, 1.82946538, 1.8316504 , 1.82987338,\n",
       "       1.83418559])"
      ]
     },
     "execution_count": 31,
     "metadata": {},
     "output_type": "execute_result"
    }
   ],
   "source": [
    "current_array['pp'][:, 0]"
   ]
  },
  {
   "cell_type": "code",
   "execution_count": 24,
   "metadata": {},
   "outputs": [
    {
     "ename": "IndexError",
     "evalue": "invalid index to scalar variable.",
     "output_type": "error",
     "traceback": [
      "\u001b[1;31m---------------------------------------------------------------------------\u001b[0m",
      "\u001b[1;31mIndexError\u001b[0m                                Traceback (most recent call last)",
      "\u001b[1;32m<ipython-input-24-297bdb5b7fb0>\u001b[0m in \u001b[0;36m<module>\u001b[1;34m\u001b[0m\n\u001b[0;32m      1\u001b[0m rearranged_pp = np.array(list(map(lambda arr_p: list(map(lambda arr_r: arr_r[indices_rearranged], arr_p)), \n\u001b[1;32m----> 2\u001b[1;33m                                   current_array['pp'])))\n\u001b[0m\u001b[0;32m      3\u001b[0m \u001b[1;33m\u001b[0m\u001b[0m\n\u001b[0;32m      4\u001b[0m rearranged_pnp = np.array(list(map(lambda arr_p: list(map(lambda arr_r: arr_r[indices_rearranged], arr_p)),\n\u001b[0;32m      5\u001b[0m                                    current_array['pnp'])))\n",
      "\u001b[1;32m<ipython-input-24-297bdb5b7fb0>\u001b[0m in \u001b[0;36m<lambda>\u001b[1;34m(arr_p)\u001b[0m\n\u001b[1;32m----> 1\u001b[1;33m rearranged_pp = np.array(list(map(lambda arr_p: list(map(lambda arr_r: arr_r[indices_rearranged], arr_p)), \n\u001b[0m\u001b[0;32m      2\u001b[0m                                   current_array['pp'])))\n\u001b[0;32m      3\u001b[0m \u001b[1;33m\u001b[0m\u001b[0m\n\u001b[0;32m      4\u001b[0m rearranged_pnp = np.array(list(map(lambda arr_p: list(map(lambda arr_r: arr_r[indices_rearranged], arr_p)),\n\u001b[0;32m      5\u001b[0m                                    current_array['pnp'])))\n",
      "\u001b[1;32m<ipython-input-24-297bdb5b7fb0>\u001b[0m in \u001b[0;36m<lambda>\u001b[1;34m(arr_r)\u001b[0m\n\u001b[1;32m----> 1\u001b[1;33m rearranged_pp = np.array(list(map(lambda arr_p: list(map(lambda arr_r: arr_r[indices_rearranged], arr_p)), \n\u001b[0m\u001b[0;32m      2\u001b[0m                                   current_array['pp'])))\n\u001b[0;32m      3\u001b[0m \u001b[1;33m\u001b[0m\u001b[0m\n\u001b[0;32m      4\u001b[0m rearranged_pnp = np.array(list(map(lambda arr_p: list(map(lambda arr_r: arr_r[indices_rearranged], arr_p)),\n\u001b[0;32m      5\u001b[0m                                    current_array['pnp'])))\n",
      "\u001b[1;31mIndexError\u001b[0m: invalid index to scalar variable."
     ]
    }
   ],
   "source": [
    "rearranged_pp = np.array(list(map(lambda arr_p: list(map(lambda arr_r: arr_r[indices_rearranged], arr_p)), \n",
    "                                  current_array['pp'])))\n",
    "\n",
    "rearranged_pnp = np.array(list(map(lambda arr_p: list(map(lambda arr_r: arr_r[indices_rearranged], arr_p)),\n",
    "                                   current_array['pnp'])))\n",
    "\n",
    "rearranged_hv = np.array(list(map(lambda arr_p: list(map(lambda arr_r: arr_r[indices_rearranged], arr_p)), \n",
    "                                  current_array['hv'])))"
   ]
  },
  {
   "cell_type": "code",
   "execution_count": 33,
   "metadata": {},
   "outputs": [
    {
     "data": {
      "text/plain": [
       "array([[1.83897644, 1.82553499, 1.81828744, 1.82901062],\n",
       "       [1.84053751, 1.83220016, 1.82911756, 1.8365225 ],\n",
       "       [1.83826811, 1.83160734, 1.83050417, 1.83659515],\n",
       "       [1.8455308 , 1.84181306, 1.84117118, 1.8435972 ],\n",
       "       [1.84252731, 1.8407325 , 1.84328354, 1.84419153],\n",
       "       [1.83874968, 1.83603025, 1.83607544, 1.83825309],\n",
       "       [1.84460197, 1.84165228, 1.84375297, 1.84441384],\n",
       "       [1.83478761, 1.83169825, 1.83231813, 1.83689537],\n",
       "       [1.84802746, 1.84289045, 1.84396678, 1.84641809],\n",
       "       [1.83747702, 1.82499953, 1.82140901, 1.8342249 ],\n",
       "       [1.83867144, 1.82960909, 1.82730345, 1.83834773],\n",
       "       [1.83450789, 1.82711799, 1.82595639, 1.8344659 ],\n",
       "       [1.83895252, 1.83507232, 1.83485829, 1.84113699],\n",
       "       [1.83494854, 1.83404286, 1.83511943, 1.83606355],\n",
       "       [1.83265608, 1.82853731, 1.82919994, 1.83527647],\n",
       "       [1.83750561, 1.83545764, 1.83568792, 1.8370429 ],\n",
       "       [1.83179804, 1.82663036, 1.82699349, 1.83354925],\n",
       "       [1.84212986, 1.83803925, 1.83856293, 1.84196379],\n",
       "       [1.83525236, 1.82981005, 1.82912757, 1.83559205],\n",
       "       [1.84038728, 1.83589224, 1.83665402, 1.84021818],\n",
       "       [1.83898306, 1.83366225, 1.83375713, 1.83885515],\n",
       "       [1.84295567, 1.83943262, 1.84132037, 1.84222919],\n",
       "       [1.84172011, 1.83669271, 1.83736026, 1.84179268],\n",
       "       [1.83951499, 1.83820856, 1.83967189, 1.83918527],\n",
       "       [1.84065434, 1.83568079, 1.83599018, 1.8398225 ],\n",
       "       [1.83727167, 1.83694339, 1.83791638, 1.83910124],\n",
       "       [1.84596539, 1.84176096, 1.84008906, 1.84261087],\n",
       "       [1.83433073, 1.82729797, 1.82586761, 1.83356363],\n",
       "       [1.83543213, 1.82969295, 1.82776961, 1.8358847 ],\n",
       "       [1.83306887, 1.82749648, 1.826941  , 1.83253437],\n",
       "       [1.8343635 , 1.83033148, 1.8290557 , 1.83602418],\n",
       "       [1.83028393, 1.82717514, 1.82751631, 1.83027231],\n",
       "       [1.83137508, 1.82706557, 1.82672611, 1.83377203],\n",
       "       [1.83023464, 1.82798146, 1.82793095, 1.83020749],\n",
       "       [1.83156226, 1.82668807, 1.82656286, 1.83353084],\n",
       "       [1.83527069, 1.83260344, 1.83188953, 1.83528294],\n",
       "       [1.82928853, 1.8244228 , 1.82596908, 1.83291589],\n",
       "       [1.83419275, 1.83085207, 1.83259122, 1.83672699],\n",
       "       [1.83263224, 1.82686538, 1.82701791, 1.83515829],\n",
       "       [1.83481768, 1.83299553, 1.83499406, 1.83710549],\n",
       "       [1.83404899, 1.82872529, 1.8285638 , 1.83709043],\n",
       "       [1.83487019, 1.83473336, 1.83511051, 1.83721841],\n",
       "       [1.83507887, 1.83078988, 1.83042009, 1.83793352],\n",
       "       [1.83687105, 1.83743303, 1.83728207, 1.83917547],\n",
       "       [1.83595565, 1.83349763, 1.83139801, 1.83668099],\n",
       "       [1.83098103, 1.82638388, 1.8251799 , 1.83113439],\n",
       "       [1.83125091, 1.8272331 , 1.82562782, 1.83233561],\n",
       "       [1.82870121, 1.82502168, 1.82459914, 1.82846525],\n",
       "       [1.83018283, 1.82590523, 1.82524586, 1.83198372],\n",
       "       [1.83101779, 1.82816482, 1.8275618 , 1.83073418],\n",
       "       [1.82944554, 1.82526205, 1.82457858, 1.82976834],\n",
       "       [1.82878706, 1.82515933, 1.824971  , 1.8288142 ],\n",
       "       [1.8252163 , 1.82032301, 1.82133259, 1.82975437],\n",
       "       [1.828805  , 1.82653873, 1.8280045 , 1.83424965],\n",
       "       [1.82844504, 1.82501003, 1.82480675, 1.83361636],\n",
       "       [1.83288887, 1.83363113, 1.83404468, 1.83878365],\n",
       "       [1.83278066, 1.83153264, 1.82993092, 1.83734061],\n",
       "       [1.82946538, 1.82728675, 1.82739099, 1.83544316],\n",
       "       [1.8316504 , 1.83077177, 1.83181901, 1.83825235],\n",
       "       [1.82987338, 1.82851505, 1.82806581, 1.83629854],\n",
       "       [1.83418559, 1.83346489, 1.83243854, 1.83854632]])"
      ]
     },
     "execution_count": 33,
     "metadata": {},
     "output_type": "execute_result"
    }
   ],
   "source": [
    "current_array['pp']"
   ]
  },
  {
   "cell_type": "code",
   "execution_count": 28,
   "metadata": {},
   "outputs": [
    {
     "data": {
      "text/plain": [
       "array([[1.82944554, 1.82526205, 1.82457858, 1.82976834],\n",
       "       [1.82878706, 1.82515933, 1.824971  , 1.8288142 ],\n",
       "       [1.83018283, 1.82590523, 1.82524586, 1.83198372],\n",
       "       [1.83125091, 1.8272331 , 1.82562782, 1.83233561],\n",
       "       [1.83098103, 1.82638388, 1.8251799 , 1.83113439],\n",
       "       [1.82870121, 1.82502168, 1.82459914, 1.82846525],\n",
       "       [1.83101779, 1.82816482, 1.8275618 , 1.83073418],\n",
       "       [1.83156226, 1.82668807, 1.82656286, 1.83353084],\n",
       "       [1.83137508, 1.82706557, 1.82672611, 1.83377203],\n",
       "       [1.8343635 , 1.83033148, 1.8290557 , 1.83602418],\n",
       "       [1.83543213, 1.82969295, 1.82776961, 1.8358847 ],\n",
       "       [1.83433073, 1.82729797, 1.82586761, 1.83356363],\n",
       "       [1.83306887, 1.82749648, 1.826941  , 1.83253437],\n",
       "       [1.83028393, 1.82717514, 1.82751631, 1.83027231],\n",
       "       [1.83023464, 1.82798146, 1.82793095, 1.83020749],\n",
       "       [1.83527069, 1.83260344, 1.83188953, 1.83528294],\n",
       "       [1.83179804, 1.82663036, 1.82699349, 1.83354925],\n",
       "       [1.83265608, 1.82853731, 1.82919994, 1.83527647],\n",
       "       [1.83895252, 1.83507232, 1.83485829, 1.84113699],\n",
       "       [1.83867144, 1.82960909, 1.82730345, 1.83834773],\n",
       "       [1.83747702, 1.82499953, 1.82140901, 1.8342249 ],\n",
       "       [1.83450789, 1.82711799, 1.82595639, 1.8344659 ],\n",
       "       [1.83494854, 1.83404286, 1.83511943, 1.83606355],\n",
       "       [1.83750561, 1.83545764, 1.83568792, 1.8370429 ],\n",
       "       [1.84212986, 1.83803925, 1.83856293, 1.84196379],\n",
       "       [1.83478761, 1.83169825, 1.83231813, 1.83689537],\n",
       "       [1.83874968, 1.83603025, 1.83607544, 1.83825309],\n",
       "       [1.8455308 , 1.84181306, 1.84117118, 1.8435972 ],\n",
       "       [1.84053751, 1.83220016, 1.82911756, 1.8365225 ],\n",
       "       [1.83897644, 1.82553499, 1.81828744, 1.82901062],\n",
       "       [1.83826811, 1.83160734, 1.83050417, 1.83659515],\n",
       "       [1.84252731, 1.8407325 , 1.84328354, 1.84419153],\n",
       "       [1.84460197, 1.84165228, 1.84375297, 1.84441384],\n",
       "       [1.84802746, 1.84289045, 1.84396678, 1.84641809],\n",
       "       [1.83727167, 1.83694339, 1.83791638, 1.83910124],\n",
       "       [1.83951499, 1.83820856, 1.83967189, 1.83918527],\n",
       "       [1.84295567, 1.83943262, 1.84132037, 1.84222919],\n",
       "       [1.84038728, 1.83589224, 1.83665402, 1.84021818],\n",
       "       [1.83525236, 1.82981005, 1.82912757, 1.83559205],\n",
       "       [1.83898306, 1.83366225, 1.83375713, 1.83885515],\n",
       "       [1.84172011, 1.83669271, 1.83736026, 1.84179268],\n",
       "       [1.84065434, 1.83568079, 1.83599018, 1.8398225 ],\n",
       "       [1.84596539, 1.84176096, 1.84008906, 1.84261087],\n",
       "       [1.83687105, 1.83743303, 1.83728207, 1.83917547],\n",
       "       [1.83487019, 1.83473336, 1.83511051, 1.83721841],\n",
       "       [1.83481768, 1.83299553, 1.83499406, 1.83710549],\n",
       "       [1.83419275, 1.83085207, 1.83259122, 1.83672699],\n",
       "       [1.82928853, 1.8244228 , 1.82596908, 1.83291589],\n",
       "       [1.83263224, 1.82686538, 1.82701791, 1.83515829],\n",
       "       [1.83404899, 1.82872529, 1.8285638 , 1.83709043],\n",
       "       [1.83507887, 1.83078988, 1.83042009, 1.83793352],\n",
       "       [1.83595565, 1.83349763, 1.83139801, 1.83668099],\n",
       "       [1.83288887, 1.83363113, 1.83404468, 1.83878365],\n",
       "       [1.828805  , 1.82653873, 1.8280045 , 1.83424965],\n",
       "       [1.8252163 , 1.82032301, 1.82133259, 1.82975437],\n",
       "       [1.82844504, 1.82501003, 1.82480675, 1.83361636],\n",
       "       [1.83278066, 1.83153264, 1.82993092, 1.83734061],\n",
       "       [1.8316504 , 1.83077177, 1.83181901, 1.83825235],\n",
       "       [1.82946538, 1.82728675, 1.82739099, 1.83544316],\n",
       "       [1.82987338, 1.82851505, 1.82806581, 1.83629854],\n",
       "       [1.83418559, 1.83346489, 1.83243854, 1.83854632]])"
      ]
     },
     "execution_count": 28,
     "metadata": {},
     "output_type": "execute_result"
    }
   ],
   "source": [
    "current_array['pp'][indices_rearranged]"
   ]
  },
  {
   "cell_type": "code",
   "execution_count": 34,
   "metadata": {},
   "outputs": [
    {
     "ename": "IndexError",
     "evalue": "invalid index to scalar variable.",
     "output_type": "error",
     "traceback": [
      "\u001b[1;31m---------------------------------------------------------------------------\u001b[0m",
      "\u001b[1;31mIndexError\u001b[0m                                Traceback (most recent call last)",
      "\u001b[1;32m<ipython-input-34-297bdb5b7fb0>\u001b[0m in \u001b[0;36m<module>\u001b[1;34m\u001b[0m\n\u001b[0;32m      1\u001b[0m rearranged_pp = np.array(list(map(lambda arr_p: list(map(lambda arr_r: arr_r[indices_rearranged], arr_p)), \n\u001b[1;32m----> 2\u001b[1;33m                                   current_array['pp'])))\n\u001b[0m\u001b[0;32m      3\u001b[0m \u001b[1;33m\u001b[0m\u001b[0m\n\u001b[0;32m      4\u001b[0m rearranged_pnp = np.array(list(map(lambda arr_p: list(map(lambda arr_r: arr_r[indices_rearranged], arr_p)),\n\u001b[0;32m      5\u001b[0m                                    current_array['pnp'])))\n",
      "\u001b[1;32m<ipython-input-34-297bdb5b7fb0>\u001b[0m in \u001b[0;36m<lambda>\u001b[1;34m(arr_p)\u001b[0m\n\u001b[1;32m----> 1\u001b[1;33m rearranged_pp = np.array(list(map(lambda arr_p: list(map(lambda arr_r: arr_r[indices_rearranged], arr_p)), \n\u001b[0m\u001b[0;32m      2\u001b[0m                                   current_array['pp'])))\n\u001b[0;32m      3\u001b[0m \u001b[1;33m\u001b[0m\u001b[0m\n\u001b[0;32m      4\u001b[0m rearranged_pnp = np.array(list(map(lambda arr_p: list(map(lambda arr_r: arr_r[indices_rearranged], arr_p)),\n\u001b[0;32m      5\u001b[0m                                    current_array['pnp'])))\n",
      "\u001b[1;32m<ipython-input-34-297bdb5b7fb0>\u001b[0m in \u001b[0;36m<lambda>\u001b[1;34m(arr_r)\u001b[0m\n\u001b[1;32m----> 1\u001b[1;33m rearranged_pp = np.array(list(map(lambda arr_p: list(map(lambda arr_r: arr_r[indices_rearranged], arr_p)), \n\u001b[0m\u001b[0;32m      2\u001b[0m                                   current_array['pp'])))\n\u001b[0;32m      3\u001b[0m \u001b[1;33m\u001b[0m\u001b[0m\n\u001b[0;32m      4\u001b[0m rearranged_pnp = np.array(list(map(lambda arr_p: list(map(lambda arr_r: arr_r[indices_rearranged], arr_p)),\n\u001b[0;32m      5\u001b[0m                                    current_array['pnp'])))\n",
      "\u001b[1;31mIndexError\u001b[0m: invalid index to scalar variable."
     ]
    }
   ],
   "source": [
    "rearranged_pp = np.array(list(map(lambda arr_p: list(map(lambda arr_r: arr_r[indices_rearranged], arr_p)), \n",
    "                                  current_array['pp'])))\n",
    "\n",
    "rearranged_pnp = np.array(list(map(lambda arr_p: list(map(lambda arr_r: arr_r[indices_rearranged], arr_p)),\n",
    "                                   current_array['pnp'])))\n",
    "\n",
    "rearranged_hv = np.array(list(map(lambda arr_p: list(map(lambda arr_r: arr_r[indices_rearranged], arr_p)), \n",
    "                                  current_array['hv'])))"
   ]
  },
  {
   "cell_type": "code",
   "execution_count": null,
   "metadata": {},
   "outputs": [],
   "source": []
  },
  {
   "cell_type": "code",
   "execution_count": 113,
   "metadata": {},
   "outputs": [],
   "source": [
    "scipy.io.savemat('./results/arrays/hfd_2s_window_repetitions_rearranged_l.mat', {'pp': rearranged_pp, 'pnp': rearranged_pnp, 'hv': rearranged_hv})"
   ]
  },
  {
   "cell_type": "code",
   "execution_count": 114,
   "metadata": {},
   "outputs": [
    {
     "data": {
      "text/plain": [
       "(4, 528, 61)"
      ]
     },
     "execution_count": 114,
     "metadata": {},
     "output_type": "execute_result"
    }
   ],
   "source": [
    "testttt = scipy.io.loadmat('./results/arrays/pp_pnp/hfd_2s_window_repetitions_rearranged_l.mat')\n",
    "testttt['pp'].shape"
   ]
  },
  {
   "cell_type": "code",
   "execution_count": 115,
   "metadata": {},
   "outputs": [
    {
     "data": {
      "text/plain": [
       "array([1.84731532, 1.8360126 , 1.85882688, 1.85195306, 1.84423248,\n",
       "       1.83537166, 1.82971399, 1.86868226, 1.87026202, 1.86946938,\n",
       "       1.86157894, 1.84735954, 1.8393229 , 1.83176794, 1.82752963,\n",
       "       1.82559224, 1.89022829, 1.8941037 , 1.88649916, 1.87650477,\n",
       "       1.85378392, 1.83246668, 1.82341235, 1.8272976 , 1.82397022,\n",
       "       1.89310203, 1.8857764 , 1.87722414, 1.8805008 , 1.868837  ,\n",
       "       1.83548388, 1.83861148, 1.84039018, 1.83894312, 1.866221  ,\n",
       "       1.87106163, 1.86712009, 1.8582025 , 1.85122382, 1.843322  ,\n",
       "       1.8451434 , 1.84683443, 1.84644543, 1.84262577, 1.84455621,\n",
       "       1.84624889, 1.84881723, 1.86954189, 1.87493845, 1.87481331,\n",
       "       1.87239994, 1.86889409, 1.83523392, 1.83428848, 1.85251009,\n",
       "       1.87778849, 1.87749486, 1.83813253, 1.84864046, 1.86412149,\n",
       "       1.84426391])"
      ]
     },
     "execution_count": 115,
     "metadata": {},
     "output_type": "execute_result"
    }
   ],
   "source": [
    "testttt['pp'][0][0]"
   ]
  },
  {
   "cell_type": "code",
   "execution_count": null,
   "metadata": {},
   "outputs": [],
   "source": []
  },
  {
   "cell_type": "code",
   "execution_count": 20,
   "metadata": {},
   "outputs": [
    {
     "data": {
      "text/plain": [
       "(528, 1)"
      ]
     },
     "execution_count": 20,
     "metadata": {},
     "output_type": "execute_result"
    }
   ],
   "source": []
  },
  {
   "cell_type": "code",
   "execution_count": 48,
   "metadata": {},
   "outputs": [
    {
     "name": "stdout",
     "output_type": "stream",
     "text": [
      "1.862258071974336 1.8766024098274312\n"
     ]
    }
   ],
   "source": [
    "# sample from two overlapping distributions (classes)\n",
    "\n",
    "x0 = np.vstack(pnp_rh)[:, 7]\n",
    "x1 = np.vstack(pp_rh)[:, 7]\n",
    "\n",
    "mean0 = np.mean(x0)\n",
    "mean1 = np.mean(x1)\n",
    "\n",
    "range = [np.min([np.min(x0), np.min(x1)]), np.max([np.max(x0), np.max(x1)])]\n",
    "print(mean0, mean1)"
   ]
  },
  {
   "cell_type": "code",
   "execution_count": null,
   "metadata": {},
   "outputs": [],
   "source": []
  },
  {
   "cell_type": "code",
   "execution_count": 55,
   "metadata": {},
   "outputs": [
    {
     "data": {
      "image/png": "[encoded data removed]",
      "text/plain": [
       "<Figure size 432x288 with 1 Axes>"
      ]
     },
     "metadata": {
      "needs_background": "light"
     },
     "output_type": "display_data"
    }
   ],
   "source": [
    "# plot histogram of each, using same bin delimiters and non-zero transparency\n",
    "\n",
    "_, bins, _ = plt.hist(x0, bins=30, range=range, alpha=0.5)\n",
    "\n",
    "plt.hist(x1, bins=bins, alpha=0.5);\n"
   ]
  },
  {
   "cell_type": "code",
   "execution_count": 50,
   "metadata": {},
   "outputs": [
    {
     "name": "stdout",
     "output_type": "stream",
     "text": [
      "Accuracy: 0.8295\n"
     ]
    }
   ],
   "source": [
    " # estimate accuracy of classifier with threshold half-way between means\n",
    "\n",
    "threshold = (mean0 + mean1)/2\n",
    "\n",
    "# assume x1 is positive and mean1 is higher\n",
    "\n",
    "fp = np.sum(x0>=threshold)\n",
    "\n",
    "fn = np.sum(x1<threshold)\n",
    "\n",
    "accuracy = 1-(fp+fn)/(2*N)\n",
    "\n",
    "print(\"Accuracy:\", accuracy)"
   ]
  },
  {
   "cell_type": "code",
   "execution_count": null,
   "metadata": {},
   "outputs": [],
   "source": []
  },
  {
   "cell_type": "markdown",
   "metadata": {},
   "source": [
    "# It's time to learn"
   ]
  },
  {
   "cell_type": "code",
   "execution_count": 26,
   "metadata": {},
   "outputs": [],
   "source": [
    "log_proc_method = 'HFD'\n",
    "log_dataset = 'PP/PNP-' + limb['name']\n",
    "log_db_name = 'log.db'\n",
    "\n",
    "log_notes = {'window start': window_start_sec, 'window size': window_size, 'k': k}"
   ]
  },
  {
   "cell_type": "code",
   "execution_count": 27,
   "metadata": {},
   "outputs": [
    {
     "name": "stdout",
     "output_type": "stream",
     "text": [
      "PP/PNP-L\n",
      "{'window start': 3, 'window size': 2, 'k': 7}\n"
     ]
    }
   ],
   "source": [
    "print(log_dataset)\n",
    "print(log_notes)"
   ]
  },
  {
   "cell_type": "code",
   "execution_count": 46,
   "metadata": {},
   "outputs": [
    {
     "name": "stdout",
     "output_type": "stream",
     "text": [
      "7\n"
     ]
    }
   ],
   "source": [
    "#For finding channel indices\n",
    "\n",
    "channel_names_to_find = ['F2']\n",
    "\n",
    "find_in_pdp = True\n",
    "\n",
    "for c in channel_names_to_find:\n",
    "    if find_in_pdp:\n",
    "        print(ch_names_new.index(c))\n",
    "    else:\n",
    "        print(ch_names.index(c))\n",
    "        "
   ]
  },
  {
   "cell_type": "code",
   "execution_count": 47,
   "metadata": {},
   "outputs": [
    {
     "data": {
      "text/plain": [
       "'F2'"
      ]
     },
     "execution_count": 47,
     "metadata": {},
     "output_type": "execute_result"
    }
   ],
   "source": [
    "ch_names_new[7]"
   ]
  },
  {
   "cell_type": "code",
   "execution_count": 30,
   "metadata": {},
   "outputs": [
    {
     "name": "stdout",
     "output_type": "stream",
     "text": [
      "Test index 0 Test label 1 Preparing to classify set of 471 PP and 472 PNP.\n",
      "Train score: 0.5058324496288441   Test score: 0.9473684210526315 Intercept: [22.440225]\n",
      "Test index 1 Test label 1 Preparing to classify set of 469 PP and 472 PNP.\n",
      "Train score: 0.5015940488841658   Test score: 0.864406779661017 Intercept: [26.03980592]\n",
      "Test index 2 Test label 1 Preparing to classify set of 469 PP and 472 PNP.\n",
      "Train score: 0.5015940488841658   Test score: 1.0 Intercept: [-59.01411093]\n",
      "Test index 3 Test label 1 Preparing to classify set of 477 PP and 472 PNP.\n",
      "Train score: 0.5205479452054794   Test score: 0.8235294117647058 Intercept: [-80.0621362]\n",
      "Test index 4 Test label 1 Preparing to classify set of 476 PP and 472 PNP.\n",
      "Train score: 0.5031645569620253   Test score: 1.0 Intercept: [-8.50004708]\n",
      "Test index 5 Test label 1 Preparing to classify set of 471 PP and 472 PNP.\n",
      "Train score: 0.5153764581124072   Test score: 1.0 Intercept: [-15.16089933]\n",
      "Test index 6 Test label 1 Preparing to classify set of 473 PP and 472 PNP.\n",
      "Train score: 0.5026455026455027   Test score: 1.0 Intercept: [-165.13580088]\n",
      "Test index 7 Test label 1 Preparing to classify set of 496 PP and 472 PNP.\n",
      "Train score: 0.5134297520661157   Test score: 1.0 Intercept: [-13.59897368]\n",
      "Test index 8 Test label 1 Preparing to classify set of 476 PP and 472 PNP.\n",
      "Train score: 0.5052742616033755   Test score: 1.0 Intercept: [-16.10298909]\n",
      "Test index 9 Test label 1 Preparing to classify set of 474 PP and 472 PNP.\n",
      "Train score: 0.4989429175475687   Test score: 0.9629629629629629 Intercept: [51.64954638]\n",
      "Test index 10 Test label 0 Preparing to classify set of 528 PP and 422 PNP.\n",
      "Train score: 0.4768421052631579   Test score: 0.94 Intercept: [-92.19845424]\n",
      "Test index 11 Test label 0 Preparing to classify set of 528 PP and 415 PNP.\n",
      "Train score: 0.4591728525980912   Test score: 0.9298245614035088 Intercept: [-497.12149533]\n",
      "Test index 12 Test label 0 Preparing to classify set of 528 PP and 431 PNP.\n",
      "Train score: 0.5537017726798749   Test score: 0.0 Intercept: [-21.98988524]\n",
      "Test index 13 Test label 0 Preparing to classify set of 528 PP and 414 PNP.\n",
      "Train score: 0.46709129511677283   Test score: 0.9827586206896551 Intercept: [13603.09146957]\n",
      "Test index 14 Test label 0 Preparing to classify set of 528 PP and 422 PNP.\n",
      "Train score: 0.5631578947368421   Test score: 0.02 Intercept: [-49.65648307]\n",
      "Test index 15 Test label 0 Preparing to classify set of 528 PP and 419 PNP.\n",
      "Train score: 0.440337909186906   Test score: 1.0 Intercept: [1942.67493929]\n",
      "Test index 16 Test label 0 Preparing to classify set of 528 PP and 414 PNP.\n",
      "Train score: 0.4575371549893843   Test score: 0.7413793103448276 Intercept: [696.40077946]\n",
      "Test index 17 Test label 0 Preparing to classify set of 528 PP and 422 PNP.\n",
      "Train score: 0.4631578947368421   Test score: 0.78 Intercept: [-9.79231877]\n",
      "Test index 18 Test label 0 Preparing to classify set of 528 PP and 417 PNP.\n",
      "Train score: 0.5037037037037037   Test score: 0.7818181818181819 Intercept: [43.99060593]\n",
      "Correctly labeled 17 out of 19 accuracy 0.842\n",
      "Patient scores: [0.9473684210526315, 0.864406779661017, 1.0, 0.8235294117647058, 1.0, 1.0, 1.0, 1.0, 1.0, 0.9629629629629629, 0.94, 0.9298245614035088, 0.0, 0.9827586206896551, 0.02, 1.0, 0.7413793103448276, 0.78, 0.7818181818181819]\n",
      "Standard deviation: 0.2936211828842206\n",
      "Accuracy 0.842\n",
      "Sensitivity 0.9583333333333334\n",
      "Specificity 0.711864406779661\n",
      "Average accuracy 0.830213065773552\n"
     ]
    }
   ],
   "source": [
    "nu = 0.5\n",
    "channels = [29]\n",
    "\n",
    "acc, sensitivity, specificity, avg_acc = classify_nusvm_cross_valid(pp_rh, pnp_rh, nu, channels, ch_names,\n",
    "                                                                    log_db_name=log_db_name,\n",
    "                                                                    log_txt=True,\n",
    "                                                                    log_proc_method=log_proc_method,\n",
    "                                                                    log_dataset=log_dataset,\n",
    "                                                                    log_notes=log_notes,\n",
    "                                                                    log_details=True\n",
    "                                                                   )\n",
    "print('Accuracy', acc)\n",
    "print('Sensitivity', sensitivity)\n",
    "print('Specificity', specificity)\n",
    "print('Average accuracy', avg_acc)"
   ]
  },
  {
   "cell_type": "code",
   "execution_count": null,
   "metadata": {},
   "outputs": [],
   "source": []
  },
  {
   "cell_type": "code",
   "execution_count": null,
   "metadata": {},
   "outputs": [],
   "source": [
    "previous_channels=[7]\n",
    "nu = 0.15\n",
    "\n",
    "max_acc = {'index': 0, 'value': 0}\n",
    "for channel in range(61):        \n",
    "    accuracy, sensitivity, specificity, avg_accuracy = classify_nusvm_cross_valid(pp_rh, pnp_rh, nu, \n",
    "                                                                                  previous_channels + [channel], \n",
    "                                                                                  verbose=False,\n",
    "                                                                                  log_db_name=log_db_name,\n",
    "                                                                                  log_txt=True,\n",
    "                                                                                  log_proc_method=log_proc_method,\n",
    "                                                                                  log_dataset=log_dataset,\n",
    "                                                                                  log_notes=log_notes\n",
    "                                                                                 )\n",
    "    print(channel, accuracy, sensitivity, specificity, avg_accuracy)\n",
    "        \n",
    "    if accuracy > max_acc['value']:\n",
    "        max_acc['index'] = channel\n",
    "        max_acc['value'] = accuracy\n",
    "\n",
    "print('Max accuracy:', max_acc['index'], max_acc['value'])"
   ]
  },
  {
   "cell_type": "code",
   "execution_count": null,
   "metadata": {},
   "outputs": [],
   "source": []
  },
  {
   "cell_type": "code",
   "execution_count": 21,
   "metadata": {},
   "outputs": [
    {
     "name": "stdout",
     "output_type": "stream",
     "text": [
      "0.1 0.2700617283950617 0.3225806451612903 0.23035230352303523 0.26063072028356\n",
      "0.125 0.4799382716049383 0.7777777777777778 0.25474254742547425 0.4760025865396815\n",
      "0.15 0.4089506172839506 0.4982078853046595 0.34146341463414637 0.40130260415348135\n",
      "0.175 0.5246913580246914 0.7849462365591398 0.32791327913279134 0.5107279594723843\n",
      "0.19999999999999998 0.6265432098765432 0.7347670250896058 0.5447154471544715 0.6084180413726206\n",
      "0.22499999999999998 0.5540123456790124 0.5519713261648745 0.5555555555555556 0.5423756149633342\n",
      "0.24999999999999997 0.47685185185185186 0.03225806451612903 0.8130081300813008 0.4852805414208922\n",
      "0.27499999999999997 0.720679012345679 0.6093189964157706 0.8048780487804879 0.715864049855278\n",
      "0.29999999999999993 0.5540123456790124 0.20430107526881722 0.8184281842818428 0.5660807552858921\n",
      "0.32499999999999996 0.4583333333333333 0.41935483870967744 0.4878048780487805 0.4510943595864055\n",
      "0.35 0.5216049382716049 0.3978494623655914 0.6151761517615176 0.5220639656623153\n",
      "0.3749999999999999 0.4398148148148148 0.22580645161290322 0.6016260162601627 0.44927910052910053\n",
      "0.3999999999999999 0.6049382716049383 0.5627240143369175 0.6368563685636857 0.602090069556989\n",
      "0.42499999999999993 0.470679012345679 0.4874551971326165 0.45799457994579945 0.47072144199095584\n",
      "0.44999999999999996 0.24382716049382716 0.23297491039426524 0.25203252032520324 0.25105381057005355\n",
      "0.47499999999999987 0.4567901234567901 0.2724014336917563 0.5962059620596206 0.4629472487430412\n",
      "0.4999999999999999 0.5154320987654321 0.5949820788530465 0.45528455284552843 0.5191166321756568\n",
      "0.5249999999999999 0.5493827160493827 0.6810035842293907 0.44986449864498645 0.5450639176945674\n",
      "0.5499999999999999 0.6975308641975309 0.4910394265232975 0.8536585365853658 0.682351808711272\n",
      "0.5749999999999998 0.5246913580246914 0.5663082437275986 0.4932249322493225 0.5280012799504324\n",
      "0.5999999999999999 0.6111111111111112 0.5197132616487455 0.6802168021680217 0.6120407933783268\n",
      "0.6249999999999999 0.6141975308641975 0.44086021505376344 0.7452574525745257 0.6245658970658972\n",
      "0.6499999999999998 0.5879629629629629 0.4265232974910394 0.7100271002710027 0.5987191377690931\n",
      "0.6749999999999998 0.33024691358024694 0.16845878136200718 0.45257452574525747 0.33109476095649154\n",
      "0.6999999999999998 0.4521604938271605 0.36200716845878134 0.5203252032520326 0.45946674345797156\n",
      "0.7249999999999999 0.5 0.44802867383512546 0.5392953929539296 0.5114951151025712\n"
     ]
    },
    {
     "ename": "ValueError",
     "evalue": "specified nu is infeasible",
     "output_type": "error",
     "traceback": [
      "\u001b[1;31m---------------------------------------------------------------------------\u001b[0m",
      "\u001b[1;31mValueError\u001b[0m                                Traceback (most recent call last)",
      "\u001b[1;32m<ipython-input-21-3905dfdee6db>\u001b[0m in \u001b[0;36m<module>\u001b[1;34m\u001b[0m\n\u001b[0;32m     11\u001b[0m                                                                                   \u001b[0mlog_proc_method\u001b[0m\u001b[1;33m=\u001b[0m\u001b[0mlog_proc_method\u001b[0m\u001b[1;33m,\u001b[0m\u001b[1;33m\u001b[0m\u001b[1;33m\u001b[0m\u001b[0m\n\u001b[0;32m     12\u001b[0m                                                                                   \u001b[0mlog_dataset\u001b[0m\u001b[1;33m=\u001b[0m\u001b[0mlog_dataset\u001b[0m\u001b[1;33m,\u001b[0m\u001b[1;33m\u001b[0m\u001b[1;33m\u001b[0m\u001b[0m\n\u001b[1;32m---> 13\u001b[1;33m                                                                                   \u001b[0mlog_notes\u001b[0m\u001b[1;33m=\u001b[0m\u001b[0mlog_notes\u001b[0m\u001b[1;33m\u001b[0m\u001b[1;33m\u001b[0m\u001b[0m\n\u001b[0m\u001b[0;32m     14\u001b[0m                                                                                  ) \n\u001b[0;32m     15\u001b[0m \u001b[1;33m\u001b[0m\u001b[0m\n",
      "\u001b[1;32mD:\\etc\\uni\\yr5\\project\\workspace\\eeg-cnp-final-year-project\\utils\\experiments_classification.py\u001b[0m in \u001b[0;36mclassify_nusvm_cross_valid\u001b[1;34m(data_pp, data_pnp, nu, selected_channels, channel_names, pca_components, verbose, log_db_name, log_txt, log_proc_method, log_dataset, log_notes, log_location, log_details)\u001b[0m\n\u001b[0;32m    115\u001b[0m                                                                          \u001b[0mselected_channels\u001b[0m\u001b[1;33m,\u001b[0m \u001b[0mi\u001b[0m\u001b[1;33m,\u001b[0m\u001b[1;33m\u001b[0m\u001b[1;33m\u001b[0m\u001b[0m\n\u001b[0;32m    116\u001b[0m                                                                          \u001b[0mpca_components\u001b[0m\u001b[1;33m=\u001b[0m\u001b[0mpca_components\u001b[0m\u001b[1;33m,\u001b[0m \u001b[0mverbose\u001b[0m\u001b[1;33m=\u001b[0m\u001b[0mverbose\u001b[0m\u001b[1;33m,\u001b[0m\u001b[1;33m\u001b[0m\u001b[1;33m\u001b[0m\u001b[0m\n\u001b[1;32m--> 117\u001b[1;33m                                                                          probability=probability)\n\u001b[0m\u001b[0;32m    118\u001b[0m         \u001b[0mtotal_score\u001b[0m \u001b[1;33m+=\u001b[0m \u001b[0mscore\u001b[0m\u001b[1;33m\u001b[0m\u001b[1;33m\u001b[0m\u001b[0m\n\u001b[0;32m    119\u001b[0m         \u001b[0mtotal_tp\u001b[0m \u001b[1;33m+=\u001b[0m \u001b[0mtp\u001b[0m\u001b[1;33m\u001b[0m\u001b[1;33m\u001b[0m\u001b[0m\n",
      "\u001b[1;32mD:\\etc\\uni\\yr5\\project\\workspace\\eeg-cnp-final-year-project\\utils\\experiments_classification.py\u001b[0m in \u001b[0;36mclassify_linear_nusvm_with_valid\u001b[1;34m(data_pp, data_pnp, nu, selected_channels, test_index, pca_components, verbose, probability)\u001b[0m\n\u001b[0;32m     68\u001b[0m \u001b[1;33m\u001b[0m\u001b[0m\n\u001b[0;32m     69\u001b[0m     \u001b[0mclas\u001b[0m \u001b[1;33m=\u001b[0m \u001b[0msvm\u001b[0m\u001b[1;33m.\u001b[0m\u001b[0mNuSVC\u001b[0m\u001b[1;33m(\u001b[0m\u001b[0mnu\u001b[0m\u001b[1;33m=\u001b[0m\u001b[0mnu\u001b[0m\u001b[1;33m,\u001b[0m \u001b[0mkernel\u001b[0m\u001b[1;33m=\u001b[0m\u001b[1;34m'linear'\u001b[0m\u001b[1;33m,\u001b[0m \u001b[0mprobability\u001b[0m\u001b[1;33m=\u001b[0m\u001b[0mprobability\u001b[0m\u001b[1;33m)\u001b[0m\u001b[1;33m\u001b[0m\u001b[1;33m\u001b[0m\u001b[0m\n\u001b[1;32m---> 70\u001b[1;33m     \u001b[0mclas\u001b[0m\u001b[1;33m.\u001b[0m\u001b[0mfit\u001b[0m\u001b[1;33m(\u001b[0m\u001b[0mtrain\u001b[0m\u001b[1;33m,\u001b[0m \u001b[0mlabels\u001b[0m\u001b[1;33m)\u001b[0m\u001b[1;33m\u001b[0m\u001b[1;33m\u001b[0m\u001b[0m\n\u001b[0m\u001b[0;32m     71\u001b[0m     \u001b[0mtrain_acc\u001b[0m \u001b[1;33m=\u001b[0m \u001b[0mclas\u001b[0m\u001b[1;33m.\u001b[0m\u001b[0mscore\u001b[0m\u001b[1;33m(\u001b[0m\u001b[0mtrain\u001b[0m\u001b[1;33m,\u001b[0m \u001b[0mlabels\u001b[0m\u001b[1;33m)\u001b[0m\u001b[1;33m\u001b[0m\u001b[1;33m\u001b[0m\u001b[0m\n\u001b[0;32m     72\u001b[0m     \u001b[0mtest_acc\u001b[0m \u001b[1;33m=\u001b[0m \u001b[0mclas\u001b[0m\u001b[1;33m.\u001b[0m\u001b[0mscore\u001b[0m\u001b[1;33m(\u001b[0m\u001b[0mtest\u001b[0m\u001b[1;33m,\u001b[0m \u001b[0mtest_labels\u001b[0m\u001b[1;33m)\u001b[0m\u001b[1;33m\u001b[0m\u001b[1;33m\u001b[0m\u001b[0m\n",
      "\u001b[1;32mD:\\etc\\software\\Anaconda\\lib\\site-packages\\sklearn\\svm\\base.py\u001b[0m in \u001b[0;36mfit\u001b[1;34m(self, X, y, sample_weight)\u001b[0m\n\u001b[0;32m    207\u001b[0m \u001b[1;33m\u001b[0m\u001b[0m\n\u001b[0;32m    208\u001b[0m         \u001b[0mseed\u001b[0m \u001b[1;33m=\u001b[0m \u001b[0mrnd\u001b[0m\u001b[1;33m.\u001b[0m\u001b[0mrandint\u001b[0m\u001b[1;33m(\u001b[0m\u001b[0mnp\u001b[0m\u001b[1;33m.\u001b[0m\u001b[0miinfo\u001b[0m\u001b[1;33m(\u001b[0m\u001b[1;34m'i'\u001b[0m\u001b[1;33m)\u001b[0m\u001b[1;33m.\u001b[0m\u001b[0mmax\u001b[0m\u001b[1;33m)\u001b[0m\u001b[1;33m\u001b[0m\u001b[1;33m\u001b[0m\u001b[0m\n\u001b[1;32m--> 209\u001b[1;33m         \u001b[0mfit\u001b[0m\u001b[1;33m(\u001b[0m\u001b[0mX\u001b[0m\u001b[1;33m,\u001b[0m \u001b[0my\u001b[0m\u001b[1;33m,\u001b[0m \u001b[0msample_weight\u001b[0m\u001b[1;33m,\u001b[0m \u001b[0msolver_type\u001b[0m\u001b[1;33m,\u001b[0m \u001b[0mkernel\u001b[0m\u001b[1;33m,\u001b[0m \u001b[0mrandom_seed\u001b[0m\u001b[1;33m=\u001b[0m\u001b[0mseed\u001b[0m\u001b[1;33m)\u001b[0m\u001b[1;33m\u001b[0m\u001b[1;33m\u001b[0m\u001b[0m\n\u001b[0m\u001b[0;32m    210\u001b[0m         \u001b[1;31m# see comment on the other call to np.iinfo in this file\u001b[0m\u001b[1;33m\u001b[0m\u001b[1;33m\u001b[0m\u001b[1;33m\u001b[0m\u001b[0m\n\u001b[0;32m    211\u001b[0m \u001b[1;33m\u001b[0m\u001b[0m\n",
      "\u001b[1;32mD:\\etc\\software\\Anaconda\\lib\\site-packages\\sklearn\\svm\\base.py\u001b[0m in \u001b[0;36m_dense_fit\u001b[1;34m(self, X, y, sample_weight, solver_type, kernel, random_seed)\u001b[0m\n\u001b[0;32m    266\u001b[0m                 \u001b[0mcache_size\u001b[0m\u001b[1;33m=\u001b[0m\u001b[0mself\u001b[0m\u001b[1;33m.\u001b[0m\u001b[0mcache_size\u001b[0m\u001b[1;33m,\u001b[0m \u001b[0mcoef0\u001b[0m\u001b[1;33m=\u001b[0m\u001b[0mself\u001b[0m\u001b[1;33m.\u001b[0m\u001b[0mcoef0\u001b[0m\u001b[1;33m,\u001b[0m\u001b[1;33m\u001b[0m\u001b[1;33m\u001b[0m\u001b[0m\n\u001b[0;32m    267\u001b[0m                 \u001b[0mgamma\u001b[0m\u001b[1;33m=\u001b[0m\u001b[0mself\u001b[0m\u001b[1;33m.\u001b[0m\u001b[0m_gamma\u001b[0m\u001b[1;33m,\u001b[0m \u001b[0mepsilon\u001b[0m\u001b[1;33m=\u001b[0m\u001b[0mself\u001b[0m\u001b[1;33m.\u001b[0m\u001b[0mepsilon\u001b[0m\u001b[1;33m,\u001b[0m\u001b[1;33m\u001b[0m\u001b[1;33m\u001b[0m\u001b[0m\n\u001b[1;32m--> 268\u001b[1;33m                 max_iter=self.max_iter, random_seed=random_seed)\n\u001b[0m\u001b[0;32m    269\u001b[0m \u001b[1;33m\u001b[0m\u001b[0m\n\u001b[0;32m    270\u001b[0m         \u001b[0mself\u001b[0m\u001b[1;33m.\u001b[0m\u001b[0m_warn_from_fit_status\u001b[0m\u001b[1;33m(\u001b[0m\u001b[1;33m)\u001b[0m\u001b[1;33m\u001b[0m\u001b[1;33m\u001b[0m\u001b[0m\n",
      "\u001b[1;32msklearn\\svm\\libsvm.pyx\u001b[0m in \u001b[0;36msklearn.svm.libsvm.fit\u001b[1;34m()\u001b[0m\n",
      "\u001b[1;31mValueError\u001b[0m: specified nu is infeasible"
     ]
    }
   ],
   "source": [
    "channels = [7]\n",
    "\n",
    "max_acc = {'index': 0, 'value': 0}\n",
    "for param in np.arange(0.1, 0.8, 0.025):    \n",
    "    accuracy, sensitivity, specificity, avg_accuracy = classify_nusvm_cross_valid(pp_rh, pnp_rh, param,\n",
    "                                                                                  channels,\n",
    "                                                                                  ch_names_new,\n",
    "                                                                                  verbose=False, \n",
    "                                                                                  log_db_name=log_db_name,\n",
    "                                                                                  log_txt=True,\n",
    "                                                                                  log_proc_method=log_proc_method,\n",
    "                                                                                  log_dataset=log_dataset,\n",
    "                                                                                  log_notes=log_notes\n",
    "                                                                                 ) \n",
    "                                                      \n",
    "\n",
    "    print(param, accuracy, sensitivity, specificity, avg_accuracy)\n",
    "        \n",
    "    if accuracy > max_acc['value']:\n",
    "        max_acc['index'] = param\n",
    "        max_acc['value'] = accuracy\n",
    "\n",
    "        \n",
    "print('Max accuracy:', max_acc['index'], max_acc['value'])"
   ]
  },
  {
   "cell_type": "code",
   "execution_count": null,
   "metadata": {},
   "outputs": [],
   "source": []
  },
  {
   "cell_type": "code",
   "execution_count": 32,
   "metadata": {},
   "outputs": [
    {
     "name": "stdout",
     "output_type": "stream",
     "text": [
      "nu: 0.1\n",
      "[6] 0.76\n",
      "[6] 0.76\n",
      "Max Accuracy: {'channels': [6], 'value': 0.7631578947368421, 'nu': 0.1}\n",
      "nu: 0.125\n",
      "[8] 0.77\n",
      "[8] 0.77\n",
      "Max Accuracy: {'channels': [8], 'value': 0.7690058479532164, 'nu': 0.125}\n",
      "nu: 0.15\n",
      "[44] 0.75\n",
      "[44, 39] 0.75\n",
      "[44, 39] 0.75\n",
      "Max Accuracy: {'channels': [8], 'value': 0.7690058479532164, 'nu': 0.125}\n",
      "nu: 0.175\n",
      "[32] 0.73\n",
      "[32, 12] 0.77\n",
      "[32, 12] 0.77\n",
      "Max Accuracy: {'channels': [32, 12], 'value': 0.7733918128654971, 'nu': 0.175}\n",
      "nu: 0.19999999999999998\n",
      "[19] 0.75\n",
      "[19, 31] 0.81\n",
      "[19, 31, 9] 0.81\n",
      "[19, 31, 9] 0.81\n",
      "Max Accuracy: {'channels': [19, 31, 9], 'value': 0.8084795321637427, 'nu': 0.19999999999999998}\n",
      "nu: 0.22499999999999998\n",
      "[29] 0.70\n",
      "[29, 12] 0.71\n",
      "[29, 12, 15] 0.76\n",
      "[29, 12, 15, 6] 0.82\n",
      "[29, 12, 15, 6] 0.82\n",
      "Max Accuracy: {'channels': [29, 12, 15, 6], 'value': 0.8245614035087719, 'nu': 0.22499999999999998}\n",
      "nu: 0.24999999999999997\n",
      "[10] 0.69\n",
      "[10] 0.69\n",
      "Max Accuracy: {'channels': [29, 12, 15, 6], 'value': 0.8245614035087719, 'nu': 0.22499999999999998}\n",
      "nu: 0.27499999999999997\n",
      "[12] 0.71\n",
      "[12] 0.71\n",
      "Max Accuracy: {'channels': [29, 12, 15, 6], 'value': 0.8245614035087719, 'nu': 0.22499999999999998}\n",
      "nu: 0.29999999999999993\n",
      "[42] 0.82\n",
      "[42] 0.82\n",
      "Max Accuracy: {'channels': [29, 12, 15, 6], 'value': 0.8245614035087719, 'nu': 0.22499999999999998}\n",
      "nu: 0.32499999999999996\n",
      "[42] 0.78\n",
      "[42] 0.78\n",
      "Max Accuracy: {'channels': [29, 12, 15, 6], 'value': 0.8245614035087719, 'nu': 0.22499999999999998}\n",
      "nu: 0.35\n",
      "[17] 0.76\n",
      "[17, 20] 0.79\n",
      "[17, 20, 13] 0.79\n",
      "[17, 20, 13] 0.79\n",
      "Max Accuracy: {'channels': [29, 12, 15, 6], 'value': 0.8245614035087719, 'nu': 0.22499999999999998}\n",
      "nu: 0.3749999999999999\n",
      "[8] 0.85\n",
      "[8] 0.85\n",
      "Max Accuracy: {'channels': [8], 'value': 0.8523391812865497, 'nu': 0.3749999999999999}\n",
      "nu: 0.3999999999999999\n",
      "[42] 0.73\n",
      "[42] 0.73\n",
      "Max Accuracy: {'channels': [8], 'value': 0.8523391812865497, 'nu': 0.3749999999999999}\n",
      "nu: 0.42499999999999993\n",
      "[12] 0.84\n",
      "[12] 0.84\n",
      "Max Accuracy: {'channels': [8], 'value': 0.8523391812865497, 'nu': 0.3749999999999999}\n",
      "nu: 0.44999999999999996\n",
      "[43] 0.81\n",
      "[43] 0.81\n",
      "Max Accuracy: {'channels': [8], 'value': 0.8523391812865497, 'nu': 0.3749999999999999}\n",
      "nu: 0.47499999999999987\n",
      "[16] 0.72\n",
      "[16] 0.72\n",
      "Max Accuracy: {'channels': [8], 'value': 0.8523391812865497, 'nu': 0.3749999999999999}\n",
      "nu: 0.4999999999999999\n",
      "[20] 0.79\n",
      "[20] 0.79\n",
      "Max Accuracy: {'channels': [8], 'value': 0.8523391812865497, 'nu': 0.3749999999999999}\n",
      "nu: 0.5249999999999999\n",
      "[44] 0.70\n",
      "[44, 12] 0.73\n",
      "[44, 12] 0.73\n",
      "Max Accuracy: {'channels': [8], 'value': 0.8523391812865497, 'nu': 0.3749999999999999}\n",
      "nu: 0.5499999999999999\n",
      "[1] 0.84\n",
      "[1] 0.84\n",
      "Max Accuracy: {'channels': [8], 'value': 0.8523391812865497, 'nu': 0.3749999999999999}\n",
      "nu: 0.5749999999999998\n",
      "[19] 0.80\n",
      "[19] 0.80\n",
      "Max Accuracy: {'channels': [8], 'value': 0.8523391812865497, 'nu': 0.3749999999999999}\n",
      "nu: 0.5999999999999999\n",
      "[12] 0.68\n",
      "[12] 0.68\n",
      "Max Accuracy: {'channels': [8], 'value': 0.8523391812865497, 'nu': 0.3749999999999999}\n",
      "nu: 0.6249999999999999\n",
      "[29] 0.75\n",
      "[29] 0.75\n",
      "Max Accuracy: {'channels': [8], 'value': 0.8523391812865497, 'nu': 0.3749999999999999}\n",
      "nu: 0.6499999999999998\n",
      "[34] 0.76\n",
      "[34] 0.76\n",
      "Max Accuracy: {'channels': [8], 'value': 0.8523391812865497, 'nu': 0.3749999999999999}\n",
      "nu: 0.6749999999999998\n",
      "Nu value 0.6749999999999998 is infeasible.\n",
      "Nu value 0.6749999999999998 is infeasible.\n",
      "Nu value 0.6749999999999998 is infeasible.\n",
      "Nu value 0.6749999999999998 is infeasible.\n",
      "Nu value 0.6749999999999998 is infeasible.\n",
      "Nu value 0.6749999999999998 is infeasible.\n",
      "Nu value 0.6749999999999998 is infeasible.\n",
      "Nu value 0.6749999999999998 is infeasible.\n",
      "Nu value 0.6749999999999998 is infeasible.\n",
      "Nu value 0.6749999999999998 is infeasible.\n",
      "Nu value 0.6749999999999998 is infeasible.\n",
      "Nu value 0.6749999999999998 is infeasible.\n",
      "Nu value 0.6749999999999998 is infeasible.\n",
      "Nu value 0.6749999999999998 is infeasible.\n",
      "Nu value 0.6749999999999998 is infeasible.\n",
      "Nu value 0.6749999999999998 is infeasible.\n",
      "Nu value 0.6749999999999998 is infeasible.\n",
      "Nu value 0.6749999999999998 is infeasible.\n",
      "Nu value 0.6749999999999998 is infeasible.\n",
      "Nu value 0.6749999999999998 is infeasible.\n",
      "Nu value 0.6749999999999998 is infeasible.\n",
      "Nu value 0.6749999999999998 is infeasible.\n",
      "Nu value 0.6749999999999998 is infeasible.\n",
      "Nu value 0.6749999999999998 is infeasible.\n",
      "Nu value 0.6749999999999998 is infeasible.\n",
      "Nu value 0.6749999999999998 is infeasible.\n",
      "Nu value 0.6749999999999998 is infeasible.\n",
      "Nu value 0.6749999999999998 is infeasible.\n",
      "Nu value 0.6749999999999998 is infeasible.\n",
      "Nu value 0.6749999999999998 is infeasible.\n",
      "Nu value 0.6749999999999998 is infeasible.\n",
      "Nu value 0.6749999999999998 is infeasible.\n",
      "Nu value 0.6749999999999998 is infeasible.\n",
      "Nu value 0.6749999999999998 is infeasible.\n",
      "Nu value 0.6749999999999998 is infeasible.\n",
      "Nu value 0.6749999999999998 is infeasible.\n",
      "Nu value 0.6749999999999998 is infeasible.\n",
      "Nu value 0.6749999999999998 is infeasible.\n",
      "Nu value 0.6749999999999998 is infeasible.\n",
      "Nu value 0.6749999999999998 is infeasible.\n",
      "Nu value 0.6749999999999998 is infeasible.\n",
      "Nu value 0.6749999999999998 is infeasible.\n",
      "Nu value 0.6749999999999998 is infeasible.\n",
      "Nu value 0.6749999999999998 is infeasible.\n",
      "Nu value 0.6749999999999998 is infeasible.\n",
      "Nu value 0.6749999999999998 is infeasible.\n",
      "Nu value 0.6749999999999998 is infeasible.\n",
      "Nu value 0.6749999999999998 is infeasible.\n",
      "[0] 0.00\n",
      "Max Accuracy: {'channels': [8], 'value': 0.8523391812865497, 'nu': 0.3749999999999999}\n",
      "nu: 0.6999999999999998\n",
      "Nu value 0.6999999999999998 is infeasible.\n",
      "Nu value 0.6999999999999998 is infeasible.\n",
      "Nu value 0.6999999999999998 is infeasible.\n",
      "Nu value 0.6999999999999998 is infeasible.\n",
      "Nu value 0.6999999999999998 is infeasible.\n",
      "Nu value 0.6999999999999998 is infeasible.\n",
      "Nu value 0.6999999999999998 is infeasible.\n",
      "Nu value 0.6999999999999998 is infeasible.\n",
      "Nu value 0.6999999999999998 is infeasible.\n",
      "Nu value 0.6999999999999998 is infeasible.\n",
      "Nu value 0.6999999999999998 is infeasible.\n",
      "Nu value 0.6999999999999998 is infeasible.\n",
      "Nu value 0.6999999999999998 is infeasible.\n",
      "Nu value 0.6999999999999998 is infeasible.\n",
      "Nu value 0.6999999999999998 is infeasible.\n",
      "Nu value 0.6999999999999998 is infeasible.\n",
      "Nu value 0.6999999999999998 is infeasible.\n",
      "Nu value 0.6999999999999998 is infeasible.\n",
      "Nu value 0.6999999999999998 is infeasible.\n",
      "Nu value 0.6999999999999998 is infeasible.\n",
      "Nu value 0.6999999999999998 is infeasible.\n",
      "Nu value 0.6999999999999998 is infeasible.\n",
      "Nu value 0.6999999999999998 is infeasible.\n",
      "Nu value 0.6999999999999998 is infeasible.\n",
      "Nu value 0.6999999999999998 is infeasible.\n",
      "Nu value 0.6999999999999998 is infeasible.\n",
      "Nu value 0.6999999999999998 is infeasible.\n",
      "Nu value 0.6999999999999998 is infeasible.\n",
      "Nu value 0.6999999999999998 is infeasible.\n",
      "Nu value 0.6999999999999998 is infeasible.\n",
      "Nu value 0.6999999999999998 is infeasible.\n",
      "Nu value 0.6999999999999998 is infeasible.\n",
      "Nu value 0.6999999999999998 is infeasible.\n",
      "Nu value 0.6999999999999998 is infeasible.\n",
      "Nu value 0.6999999999999998 is infeasible.\n",
      "Nu value 0.6999999999999998 is infeasible.\n",
      "Nu value 0.6999999999999998 is infeasible.\n",
      "Nu value 0.6999999999999998 is infeasible.\n",
      "Nu value 0.6999999999999998 is infeasible.\n",
      "Nu value 0.6999999999999998 is infeasible.\n",
      "Nu value 0.6999999999999998 is infeasible.\n",
      "Nu value 0.6999999999999998 is infeasible.\n",
      "Nu value 0.6999999999999998 is infeasible.\n",
      "Nu value 0.6999999999999998 is infeasible.\n",
      "Nu value 0.6999999999999998 is infeasible.\n",
      "Nu value 0.6999999999999998 is infeasible.\n",
      "Nu value 0.6999999999999998 is infeasible.\n",
      "Nu value 0.6999999999999998 is infeasible.\n",
      "[0] 0.00\n",
      "Max Accuracy: {'channels': [8], 'value': 0.8523391812865497, 'nu': 0.3749999999999999}\n",
      "nu: 0.7249999999999999\n",
      "Nu value 0.7249999999999999 is infeasible.\n",
      "Nu value 0.7249999999999999 is infeasible.\n",
      "Nu value 0.7249999999999999 is infeasible.\n",
      "Nu value 0.7249999999999999 is infeasible.\n",
      "Nu value 0.7249999999999999 is infeasible.\n",
      "Nu value 0.7249999999999999 is infeasible.\n",
      "Nu value 0.7249999999999999 is infeasible.\n",
      "Nu value 0.7249999999999999 is infeasible.\n",
      "Nu value 0.7249999999999999 is infeasible.\n",
      "Nu value 0.7249999999999999 is infeasible.\n",
      "Nu value 0.7249999999999999 is infeasible.\n",
      "Nu value 0.7249999999999999 is infeasible.\n",
      "Nu value 0.7249999999999999 is infeasible.\n",
      "Nu value 0.7249999999999999 is infeasible.\n",
      "Nu value 0.7249999999999999 is infeasible.\n",
      "Nu value 0.7249999999999999 is infeasible.\n",
      "Nu value 0.7249999999999999 is infeasible.\n",
      "Nu value 0.7249999999999999 is infeasible.\n"
     ]
    },
    {
     "name": "stdout",
     "output_type": "stream",
     "text": [
      "Nu value 0.7249999999999999 is infeasible.\n",
      "Nu value 0.7249999999999999 is infeasible.\n",
      "Nu value 0.7249999999999999 is infeasible.\n",
      "Nu value 0.7249999999999999 is infeasible.\n",
      "Nu value 0.7249999999999999 is infeasible.\n",
      "Nu value 0.7249999999999999 is infeasible.\n",
      "Nu value 0.7249999999999999 is infeasible.\n",
      "Nu value 0.7249999999999999 is infeasible.\n",
      "Nu value 0.7249999999999999 is infeasible.\n",
      "Nu value 0.7249999999999999 is infeasible.\n",
      "Nu value 0.7249999999999999 is infeasible.\n",
      "Nu value 0.7249999999999999 is infeasible.\n",
      "Nu value 0.7249999999999999 is infeasible.\n",
      "Nu value 0.7249999999999999 is infeasible.\n",
      "Nu value 0.7249999999999999 is infeasible.\n",
      "Nu value 0.7249999999999999 is infeasible.\n",
      "Nu value 0.7249999999999999 is infeasible.\n",
      "Nu value 0.7249999999999999 is infeasible.\n",
      "Nu value 0.7249999999999999 is infeasible.\n",
      "Nu value 0.7249999999999999 is infeasible.\n",
      "Nu value 0.7249999999999999 is infeasible.\n",
      "Nu value 0.7249999999999999 is infeasible.\n",
      "Nu value 0.7249999999999999 is infeasible.\n",
      "Nu value 0.7249999999999999 is infeasible.\n",
      "Nu value 0.7249999999999999 is infeasible.\n",
      "Nu value 0.7249999999999999 is infeasible.\n",
      "Nu value 0.7249999999999999 is infeasible.\n",
      "Nu value 0.7249999999999999 is infeasible.\n",
      "Nu value 0.7249999999999999 is infeasible.\n",
      "Nu value 0.7249999999999999 is infeasible.\n",
      "[0] 0.00\n",
      "Max Accuracy: {'channels': [8], 'value': 0.8523391812865497, 'nu': 0.3749999999999999}\n",
      "nu: 0.7499999999999999\n",
      "Nu value 0.7499999999999999 is infeasible.\n",
      "Nu value 0.7499999999999999 is infeasible.\n",
      "Nu value 0.7499999999999999 is infeasible.\n",
      "Nu value 0.7499999999999999 is infeasible.\n",
      "Nu value 0.7499999999999999 is infeasible.\n",
      "Nu value 0.7499999999999999 is infeasible.\n",
      "Nu value 0.7499999999999999 is infeasible.\n",
      "Nu value 0.7499999999999999 is infeasible.\n",
      "Nu value 0.7499999999999999 is infeasible.\n",
      "Nu value 0.7499999999999999 is infeasible.\n",
      "Nu value 0.7499999999999999 is infeasible.\n",
      "Nu value 0.7499999999999999 is infeasible.\n",
      "Nu value 0.7499999999999999 is infeasible.\n",
      "Nu value 0.7499999999999999 is infeasible.\n",
      "Nu value 0.7499999999999999 is infeasible.\n",
      "Nu value 0.7499999999999999 is infeasible.\n",
      "Nu value 0.7499999999999999 is infeasible.\n",
      "Nu value 0.7499999999999999 is infeasible.\n",
      "Nu value 0.7499999999999999 is infeasible.\n",
      "Nu value 0.7499999999999999 is infeasible.\n",
      "Nu value 0.7499999999999999 is infeasible.\n",
      "Nu value 0.7499999999999999 is infeasible.\n",
      "Nu value 0.7499999999999999 is infeasible.\n",
      "Nu value 0.7499999999999999 is infeasible.\n",
      "Nu value 0.7499999999999999 is infeasible.\n",
      "Nu value 0.7499999999999999 is infeasible.\n",
      "Nu value 0.7499999999999999 is infeasible.\n",
      "Nu value 0.7499999999999999 is infeasible.\n",
      "Nu value 0.7499999999999999 is infeasible.\n",
      "Nu value 0.7499999999999999 is infeasible.\n",
      "Nu value 0.7499999999999999 is infeasible.\n",
      "Nu value 0.7499999999999999 is infeasible.\n",
      "Nu value 0.7499999999999999 is infeasible.\n",
      "Nu value 0.7499999999999999 is infeasible.\n",
      "Nu value 0.7499999999999999 is infeasible.\n",
      "Nu value 0.7499999999999999 is infeasible.\n",
      "Nu value 0.7499999999999999 is infeasible.\n",
      "Nu value 0.7499999999999999 is infeasible.\n",
      "Nu value 0.7499999999999999 is infeasible.\n",
      "Nu value 0.7499999999999999 is infeasible.\n",
      "Nu value 0.7499999999999999 is infeasible.\n",
      "Nu value 0.7499999999999999 is infeasible.\n",
      "Nu value 0.7499999999999999 is infeasible.\n",
      "Nu value 0.7499999999999999 is infeasible.\n",
      "Nu value 0.7499999999999999 is infeasible.\n",
      "Nu value 0.7499999999999999 is infeasible.\n",
      "Nu value 0.7499999999999999 is infeasible.\n",
      "Nu value 0.7499999999999999 is infeasible.\n",
      "[0] 0.00\n",
      "Max Accuracy: {'channels': [8], 'value': 0.8523391812865497, 'nu': 0.3749999999999999}\n",
      "nu: 0.7749999999999998\n",
      "Nu value 0.7749999999999998 is infeasible.\n",
      "Nu value 0.7749999999999998 is infeasible.\n",
      "Nu value 0.7749999999999998 is infeasible.\n",
      "Nu value 0.7749999999999998 is infeasible.\n",
      "Nu value 0.7749999999999998 is infeasible.\n",
      "Nu value 0.7749999999999998 is infeasible.\n",
      "Nu value 0.7749999999999998 is infeasible.\n",
      "Nu value 0.7749999999999998 is infeasible.\n",
      "Nu value 0.7749999999999998 is infeasible.\n",
      "Nu value 0.7749999999999998 is infeasible.\n",
      "Nu value 0.7749999999999998 is infeasible.\n",
      "Nu value 0.7749999999999998 is infeasible.\n",
      "Nu value 0.7749999999999998 is infeasible.\n",
      "Nu value 0.7749999999999998 is infeasible.\n",
      "Nu value 0.7749999999999998 is infeasible.\n",
      "Nu value 0.7749999999999998 is infeasible.\n",
      "Nu value 0.7749999999999998 is infeasible.\n",
      "Nu value 0.7749999999999998 is infeasible.\n",
      "Nu value 0.7749999999999998 is infeasible.\n",
      "Nu value 0.7749999999999998 is infeasible.\n",
      "Nu value 0.7749999999999998 is infeasible.\n",
      "Nu value 0.7749999999999998 is infeasible.\n",
      "Nu value 0.7749999999999998 is infeasible.\n",
      "Nu value 0.7749999999999998 is infeasible.\n",
      "Nu value 0.7749999999999998 is infeasible.\n",
      "Nu value 0.7749999999999998 is infeasible.\n",
      "Nu value 0.7749999999999998 is infeasible.\n",
      "Nu value 0.7749999999999998 is infeasible.\n",
      "Nu value 0.7749999999999998 is infeasible.\n",
      "Nu value 0.7749999999999998 is infeasible.\n",
      "Nu value 0.7749999999999998 is infeasible.\n",
      "Nu value 0.7749999999999998 is infeasible.\n",
      "Nu value 0.7749999999999998 is infeasible.\n",
      "Nu value 0.7749999999999998 is infeasible.\n",
      "Nu value 0.7749999999999998 is infeasible.\n",
      "Nu value 0.7749999999999998 is infeasible.\n",
      "Nu value 0.7749999999999998 is infeasible.\n",
      "Nu value 0.7749999999999998 is infeasible.\n",
      "Nu value 0.7749999999999998 is infeasible.\n",
      "Nu value 0.7749999999999998 is infeasible.\n",
      "Nu value 0.7749999999999998 is infeasible.\n",
      "Nu value 0.7749999999999998 is infeasible.\n",
      "Nu value 0.7749999999999998 is infeasible.\n",
      "Nu value 0.7749999999999998 is infeasible.\n",
      "Nu value 0.7749999999999998 is infeasible.\n",
      "Nu value 0.7749999999999998 is infeasible.\n",
      "Nu value 0.7749999999999998 is infeasible.\n",
      "Nu value 0.7749999999999998 is infeasible.\n",
      "[0] 0.00\n",
      "Max Accuracy: {'channels': [8], 'value': 0.8523391812865497, 'nu': 0.3749999999999999}\n",
      "Final Max Accuracy: {'channels': [8], 'value': 0.8523391812865497, 'nu': 0.3749999999999999}\n"
     ]
    }
   ],
   "source": [
    "channel_names = ch_names_new if 'PDP' in log_dataset else ch_names\n",
    "\n",
    "best_acc = classify_nusvm_param_seach(pp_rh, pnp_rh, 0.1, 0.8, 0.025, channel_names, constrain_channels=None,\n",
    "                                      log_txt=True, log_proc_method=log_proc_method,\n",
    "                                                                                  log_dataset=log_dataset,\n",
    "                                                                                  log_notes=log_notes)"
   ]
  },
  {
   "cell_type": "code",
   "execution_count": null,
   "metadata": {},
   "outputs": [],
   "source": [
    "best_acc"
   ]
  },
  {
   "cell_type": "code",
   "execution_count": null,
   "metadata": {},
   "outputs": [],
   "source": []
  }
 ],
 "metadata": {
  "kernelspec": {
   "display_name": "Python 3",
   "language": "python",
   "name": "python3"
  },
  "language_info": {
   "codemirror_mode": {
    "name": "ipython",
    "version": 3
   },
   "file_extension": ".py",
   "mimetype": "text/x-python",
   "name": "python",
   "nbconvert_exporter": "python",
   "pygments_lexer": "ipython3",
   "version": "3.7.3"
  }
 },
 "nbformat": 4,
 "nbformat_minor": 2
}
