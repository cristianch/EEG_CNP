{
 "cells": [
  {
   "cell_type": "code",
   "execution_count": 1,
   "metadata": {},
   "outputs": [],
   "source": [
    "# Only run this once\n",
    "import os\n",
    "os.chdir('..')"
   ]
  },
  {
   "cell_type": "code",
   "execution_count": 2,
   "metadata": {},
   "outputs": [],
   "source": [
    "import numpy as np\n",
    "import scipy\n",
    "from scipy import signal\n",
    "import mne\n",
    "import glob\n",
    "import HiguchiFractalDimension as hfd\n",
    "import csv\n",
    "import matplotlib.pyplot as plt\n",
    "from matplotlib import colors\n",
    "\n",
    "import utils.logger\n",
    "from utils.experiments_classification import classify_nusvm_cross_valid, classify_nusvm_param_seach"
   ]
  },
  {
   "cell_type": "code",
   "execution_count": 3,
   "metadata": {},
   "outputs": [
    {
     "data": {
      "text/plain": [
       "<module 'utils.experiments_classification' from 'D:\\\\etc\\\\uni\\\\yr5\\\\project\\\\workspace\\\\eeg-cnp-final-year-project\\\\utils\\\\experiments_classification.py'>"
      ]
     },
     "execution_count": 3,
     "metadata": {},
     "output_type": "execute_result"
    }
   ],
   "source": [
    "import importlib\n",
    "importlib.reload(utils.experiments_classification)"
   ]
  },
  {
   "cell_type": "code",
   "execution_count": null,
   "metadata": {},
   "outputs": [],
   "source": []
  },
  {
   "cell_type": "code",
   "execution_count": 4,
   "metadata": {},
   "outputs": [],
   "source": [
    "def patient_array_to_hfd(repetitions, window_start=None, window_size=500, step_size=1, k=7):\n",
    "    '''\n",
    "    Apply HFD to all repetitions from given patient; input shape [n_repetitions, n_channels, n_features]\n",
    "    '''\n",
    "    if window_start != None:\n",
    "        print('Calculating HFD with window start', str(window_start), 'window size', str(window_size), 'step', str(step_size))\n",
    "        return np.array([np.array([[hfd.hfd(channel[window_start:window_start+window_size:step_size], num_k=k)] for channel in repetition]) for repetition in repetitions])\n",
    "    print('Calculating HFD over entire time series')\n",
    "    return np.array([np.array([[hfd.hfd(channel, num_k=k)] for channel in repetition]) for repetition in repetitions])"
   ]
  },
  {
   "cell_type": "code",
   "execution_count": null,
   "metadata": {},
   "outputs": [],
   "source": []
  },
  {
   "cell_type": "markdown",
   "metadata": {},
   "source": [
    "# Apply HFD to datasets"
   ]
  },
  {
   "cell_type": "code",
   "execution_count": 5,
   "metadata": {},
   "outputs": [],
   "source": [
    "# Returns relevant datasets (f.e. all right-hand recordings of healthy patients) as a list of np arrays\n",
    "def get_datasets(patient_type_location, recording_type_expression):\n",
    "    if recording_type_expression != l_new:\n",
    "        sets_locations = glob.glob(patient_type_location + recording_type_expression + suffix)\n",
    "    else:\n",
    "        sets_locations = glob.glob(patient_type_location + recording_type_expression)\n",
    "    \n",
    "    sets = []\n",
    "    for path in sets_locations: \n",
    "        sets.append(mne.io.read_epochs_eeglab(path))\n",
    "        \n",
    "    return np.array(np.array([(patient._data) for patient in sets]))\n",
    "\n",
    "\n",
    "def get_channel_names(patient_type_location, recording_type_expression):\n",
    "    '''\n",
    "    Returns the list of channel names in order\n",
    "    Only works if ALL chosen datasets use the same channels\n",
    "    '''\n",
    "    if recording_type_expression != l_new:\n",
    "        sets_locations = glob.glob(patient_type_location + recording_type_expression + suffix)\n",
    "    else:\n",
    "        sets_locations = glob.glob(patient_type_location + recording_type_expression)\n",
    "        \n",
    "    return mne.io.read_epochs_eeglab(sets_locations[0]).ch_names\n",
    "    "
   ]
  },
  {
   "cell_type": "code",
   "execution_count": 26,
   "metadata": {},
   "outputs": [
    {
     "data": {
      "text/plain": [
       "['./../../data_new/raw/PdP\\\\PdP_3\\\\PdP_3_L.set',\n",
       " './../../data_new/raw/PdP\\\\PdP_4\\\\PdP_4_L.set',\n",
       " './../../data_new/raw/PdP\\\\PdP_5\\\\PdP_5_L.set',\n",
       " './../../data_new/raw/PdP\\\\PdP_6\\\\PdP_6_L.set',\n",
       " './../../data_new/raw/PdP\\\\PdP_7\\\\PdP_7_L.set']"
      ]
     },
     "execution_count": 26,
     "metadata": {},
     "output_type": "execute_result"
    }
   ],
   "source": [
    "root = './../../'\n",
    "suffix = '*.set'\n",
    "\n",
    "location_healthy = root + 'data/raw/HV/*/'\n",
    "location_pain = root + 'data/raw/PP/*/'\n",
    "location_nopain = root + 'data/raw/PnP/*/'\n",
    "\n",
    "location_pwp = root + 'data_new/raw/PwP/*/'\n",
    "location_pdp = root + 'data_new/raw/PdP/*/'\n",
    "location_pnp = root + 'data_new/raw/PnP/*/'\n",
    "\n",
    "\n",
    "rh = {'name': 'RH', 'extension': '*_RH*'}\n",
    "lh = {'name': 'LH', 'extension': '*_LH*'}\n",
    "l_new = {'name': 'L', 'extension': '*_L.set'}   # NO SUFFIX\n",
    "l_old = {'name': 'L', 'extension': '*_L_*'}\n",
    "\n",
    "sets_healthy_rh = glob.glob(location_pdp + l_new['extension'])\n",
    "sets_healthy_rh"
   ]
  },
  {
   "cell_type": "code",
   "execution_count": 36,
   "metadata": {},
   "outputs": [
    {
     "name": "stdout",
     "output_type": "stream",
     "text": [
      "Extracting parameters from ./../../data/raw/PP\\PP1\\PP1_F1_RH_Removed_ICA.set...\n"
     ]
    },
    {
     "name": "stderr",
     "output_type": "stream",
     "text": [
      "<ipython-input-5-f4cb1c0da255>:10: RuntimeWarning: At least one epoch has multiple events. Only the latency of the first event will be retained.\n",
      "  sets.append(mne.io.read_epochs_eeglab(path))\n"
     ]
    },
    {
     "name": "stdout",
     "output_type": "stream",
     "text": [
      "57 matching events found\n",
      "No baseline correction applied\n",
      "Not setting metadata\n",
      "0 projection items activated\n",
      "Ready.\n",
      "Extracting parameters from ./../../data/raw/PP\\PP10\\PP10_F1_RH_Removed_ICA.set...\n"
     ]
    },
    {
     "name": "stderr",
     "output_type": "stream",
     "text": [
      "<ipython-input-5-f4cb1c0da255>:10: RuntimeWarning: At least one epoch has multiple events. Only the latency of the first event will be retained.\n",
      "  sets.append(mne.io.read_epochs_eeglab(path))\n"
     ]
    },
    {
     "name": "stdout",
     "output_type": "stream",
     "text": [
      "57 matching events found\n",
      "No baseline correction applied\n",
      "Not setting metadata\n",
      "0 projection items activated\n",
      "Ready.\n",
      "Extracting parameters from ./../../data/raw/PP\\PP11\\PP11_F1_RH_Removed_ICA.set...\n"
     ]
    },
    {
     "name": "stderr",
     "output_type": "stream",
     "text": [
      "<ipython-input-5-f4cb1c0da255>:10: RuntimeWarning: At least one epoch has multiple events. Only the latency of the first event will be retained.\n",
      "  sets.append(mne.io.read_epochs_eeglab(path))\n"
     ]
    },
    {
     "name": "stdout",
     "output_type": "stream",
     "text": [
      "59 matching events found\n",
      "No baseline correction applied\n",
      "Not setting metadata\n",
      "0 projection items activated\n",
      "Ready.\n",
      "Extracting parameters from ./../../data/raw/PP\\PP2\\PP2_F1_RH_Removed_ICA.set...\n"
     ]
    },
    {
     "name": "stderr",
     "output_type": "stream",
     "text": [
      "<ipython-input-5-f4cb1c0da255>:10: RuntimeWarning: At least one epoch has multiple events. Only the latency of the first event will be retained.\n",
      "  sets.append(mne.io.read_epochs_eeglab(path))\n"
     ]
    },
    {
     "name": "stdout",
     "output_type": "stream",
     "text": [
      "54 matching events found\n",
      "No baseline correction applied\n",
      "Not setting metadata\n",
      "0 projection items activated\n",
      "Ready.\n",
      "Extracting parameters from ./../../data/raw/PP\\PP3\\PP3_F1_RH_Removed_ICA.set...\n",
      "51 matching events found\n",
      "No baseline correction applied\n",
      "Not setting metadata\n"
     ]
    },
    {
     "name": "stderr",
     "output_type": "stream",
     "text": [
      "<ipython-input-5-f4cb1c0da255>:10: RuntimeWarning: At least one epoch has multiple events. Only the latency of the first event will be retained.\n",
      "  sets.append(mne.io.read_epochs_eeglab(path))\n"
     ]
    },
    {
     "name": "stdout",
     "output_type": "stream",
     "text": [
      "0 projection items activated\n",
      "Ready.\n",
      "Extracting parameters from ./../../data/raw/PP\\PP4\\PP4_F1_RH_Removed_ICA.set...\n"
     ]
    },
    {
     "name": "stderr",
     "output_type": "stream",
     "text": [
      "<ipython-input-5-f4cb1c0da255>:10: RuntimeWarning: At least one epoch has multiple events. Only the latency of the first event will be retained.\n",
      "  sets.append(mne.io.read_epochs_eeglab(path))\n"
     ]
    },
    {
     "name": "stdout",
     "output_type": "stream",
     "text": [
      "58 matching events found\n",
      "No baseline correction applied\n",
      "Not setting metadata\n",
      "0 projection items activated\n",
      "Ready.\n",
      "Extracting parameters from ./../../data/raw/PP\\PP5\\PP5_F1_RH_Removed_ICA.set...\n",
      "56 matching events found\n"
     ]
    },
    {
     "name": "stderr",
     "output_type": "stream",
     "text": [
      "<ipython-input-5-f4cb1c0da255>:10: RuntimeWarning: At least one epoch has multiple events. Only the latency of the first event will be retained.\n",
      "  sets.append(mne.io.read_epochs_eeglab(path))\n"
     ]
    },
    {
     "name": "stdout",
     "output_type": "stream",
     "text": [
      "No baseline correction applied\n",
      "Not setting metadata\n",
      "0 projection items activated\n",
      "Ready.\n",
      "Extracting parameters from ./../../data/raw/PP\\PP6\\PP6_F1_RH_Removed_ICA.set...\n",
      "32 matching events found\n",
      "No baseline correction applied\n",
      "Not setting metadata\n",
      "0 projection items activated\n",
      "Ready.\n"
     ]
    },
    {
     "name": "stderr",
     "output_type": "stream",
     "text": [
      "<ipython-input-5-f4cb1c0da255>:10: RuntimeWarning: At least one epoch has multiple events. Only the latency of the first event will be retained.\n",
      "  sets.append(mne.io.read_epochs_eeglab(path))\n"
     ]
    },
    {
     "name": "stdout",
     "output_type": "stream",
     "text": [
      "Extracting parameters from ./../../data/raw/PP\\PP7\\PP7_F1_RH_Removed_ICA.set...\n"
     ]
    },
    {
     "name": "stderr",
     "output_type": "stream",
     "text": [
      "<ipython-input-5-f4cb1c0da255>:10: RuntimeWarning: At least one epoch has multiple events. Only the latency of the first event will be retained.\n",
      "  sets.append(mne.io.read_epochs_eeglab(path))\n"
     ]
    },
    {
     "name": "stdout",
     "output_type": "stream",
     "text": [
      "52 matching events found\n",
      "No baseline correction applied\n",
      "Not setting metadata\n",
      "0 projection items activated\n",
      "Ready.\n",
      "Extracting parameters from ./../../data/raw/PP\\PP9\\PP9_F1_RH_Removed_ICA.set...\n"
     ]
    },
    {
     "name": "stderr",
     "output_type": "stream",
     "text": [
      "<ipython-input-5-f4cb1c0da255>:10: RuntimeWarning: At least one epoch has multiple events. Only the latency of the first event will be retained.\n",
      "  sets.append(mne.io.read_epochs_eeglab(path))\n"
     ]
    },
    {
     "name": "stdout",
     "output_type": "stream",
     "text": [
      "54 matching events found\n",
      "No baseline correction applied\n",
      "Not setting metadata\n",
      "0 projection items activated\n",
      "Ready.\n",
      "Extracting parameters from ./../../data/raw/PnP\\PnP1\\PnP1_F1_RH_Removed_ICA.set...\n",
      "50 matching events found\n",
      "No baseline correction applied\n"
     ]
    },
    {
     "name": "stderr",
     "output_type": "stream",
     "text": [
      "<ipython-input-5-f4cb1c0da255>:10: RuntimeWarning: At least one epoch has multiple events. Only the latency of the first event will be retained.\n",
      "  sets.append(mne.io.read_epochs_eeglab(path))\n"
     ]
    },
    {
     "name": "stdout",
     "output_type": "stream",
     "text": [
      "Not setting metadata\n",
      "0 projection items activated\n",
      "Ready.\n",
      "Extracting parameters from ./../../data/raw/PnP\\PnP2\\PnP2_F1_RH_Removed_ICA.set...\n",
      "54 matching events found\n"
     ]
    },
    {
     "name": "stderr",
     "output_type": "stream",
     "text": [
      "<ipython-input-5-f4cb1c0da255>:10: RuntimeWarning: At least one epoch has multiple events. Only the latency of the first event will be retained.\n",
      "  sets.append(mne.io.read_epochs_eeglab(path))\n"
     ]
    },
    {
     "name": "stdout",
     "output_type": "stream",
     "text": [
      "No baseline correction applied\n",
      "Not setting metadata\n",
      "0 projection items activated\n",
      "Ready.\n",
      "Extracting parameters from ./../../data/raw/PnP\\PnP3\\PnP3_F1_RH_Removed_ICA.set...\n",
      "44 matching events found\n",
      "No baseline correction applied\n"
     ]
    },
    {
     "name": "stderr",
     "output_type": "stream",
     "text": [
      "<ipython-input-5-f4cb1c0da255>:10: RuntimeWarning: At least one epoch has multiple events. Only the latency of the first event will be retained.\n",
      "  sets.append(mne.io.read_epochs_eeglab(path))\n"
     ]
    },
    {
     "name": "stdout",
     "output_type": "stream",
     "text": [
      "Not setting metadata\n",
      "0 projection items activated\n",
      "Ready.\n",
      "Extracting parameters from ./../../data/raw/PnP\\PnP4\\PnP4_F1_RH_Removed_ICA.set...\n"
     ]
    },
    {
     "name": "stderr",
     "output_type": "stream",
     "text": [
      "<ipython-input-5-f4cb1c0da255>:10: RuntimeWarning: At least one epoch has multiple events. Only the latency of the first event will be retained.\n",
      "  sets.append(mne.io.read_epochs_eeglab(path))\n"
     ]
    },
    {
     "name": "stdout",
     "output_type": "stream",
     "text": [
      "55 matching events found\n",
      "No baseline correction applied\n",
      "Not setting metadata\n",
      "0 projection items activated\n",
      "Ready.\n",
      "Extracting parameters from ./../../data/raw/PnP\\PnP5\\PnP5_F1_RH_Removed_ICA.set...\n",
      "50 matching events found\n"
     ]
    },
    {
     "name": "stderr",
     "output_type": "stream",
     "text": [
      "<ipython-input-5-f4cb1c0da255>:10: RuntimeWarning: At least one epoch has multiple events. Only the latency of the first event will be retained.\n",
      "  sets.append(mne.io.read_epochs_eeglab(path))\n"
     ]
    },
    {
     "name": "stdout",
     "output_type": "stream",
     "text": [
      "No baseline correction applied\n",
      "Not setting metadata\n",
      "0 projection items activated\n",
      "Ready.\n",
      "Extracting parameters from ./../../data/raw/PnP\\PnP6\\PnP6_F1_RH_Removed_ICA.set...\n"
     ]
    },
    {
     "name": "stderr",
     "output_type": "stream",
     "text": [
      "<ipython-input-5-f4cb1c0da255>:10: RuntimeWarning: At least one epoch has multiple events. Only the latency of the first event will be retained.\n",
      "  sets.append(mne.io.read_epochs_eeglab(path))\n"
     ]
    },
    {
     "name": "stdout",
     "output_type": "stream",
     "text": [
      "55 matching events found\n",
      "No baseline correction applied\n",
      "Not setting metadata\n",
      "0 projection items activated\n",
      "Ready.\n",
      "Extracting parameters from ./../../data/raw/PnP\\PnP7\\PnP7_F01_RH_Removed_ICA.set...\n"
     ]
    },
    {
     "name": "stderr",
     "output_type": "stream",
     "text": [
      "<ipython-input-5-f4cb1c0da255>:10: RuntimeWarning: At least one epoch has multiple events. Only the latency of the first event will be retained.\n",
      "  sets.append(mne.io.read_epochs_eeglab(path))\n"
     ]
    },
    {
     "name": "stdout",
     "output_type": "stream",
     "text": [
      "58 matching events found\n",
      "No baseline correction applied\n",
      "Not setting metadata\n",
      "0 projection items activated\n",
      "Ready.\n",
      "Extracting parameters from ./../../data/raw/PnP\\PnP8\\PnP8_F1_RH_Removed_ICA.set...\n"
     ]
    },
    {
     "name": "stderr",
     "output_type": "stream",
     "text": [
      "<ipython-input-5-f4cb1c0da255>:10: RuntimeWarning: At least one epoch has multiple events. Only the latency of the first event will be retained.\n",
      "  sets.append(mne.io.read_epochs_eeglab(path))\n"
     ]
    },
    {
     "name": "stdout",
     "output_type": "stream",
     "text": [
      "53 matching events found\n",
      "No baseline correction applied\n",
      "Not setting metadata\n",
      "0 projection items activated\n",
      "Ready.\n",
      "Extracting parameters from ./../../data/raw/PnP\\PnP9\\PnP9_F1_RH_Removed_ICA.set...\n"
     ]
    },
    {
     "name": "stderr",
     "output_type": "stream",
     "text": [
      "<ipython-input-5-f4cb1c0da255>:10: RuntimeWarning: At least one epoch has multiple events. Only the latency of the first event will be retained.\n",
      "  sets.append(mne.io.read_epochs_eeglab(path))\n"
     ]
    },
    {
     "name": "stdout",
     "output_type": "stream",
     "text": [
      "54 matching events found\n",
      "No baseline correction applied\n",
      "Not setting metadata\n",
      "0 projection items activated\n",
      "Ready.\n"
     ]
    }
   ],
   "source": [
    "limb = rh\n",
    "\n",
    "pp_rh_raw = get_datasets(location_pain, limb['extension'])\n",
    "pnp_rh_raw = get_datasets(location_nopain, limb['extension'])"
   ]
  },
  {
   "cell_type": "code",
   "execution_count": 37,
   "metadata": {},
   "outputs": [
    {
     "name": "stdout",
     "output_type": "stream",
     "text": [
      "Extracting parameters from ./../../data_new/raw/PdP\\PdP_1\\PdP_1_RH.set...\n",
      "65 matching events found\n",
      "No baseline correction applied\n",
      "Not setting metadata\n",
      "0 projection items activated\n",
      "Ready.\n"
     ]
    },
    {
     "name": "stderr",
     "output_type": "stream",
     "text": [
      "<ipython-input-5-f4cb1c0da255>:25: RuntimeWarning: At least one epoch has multiple events. Only the latency of the first event will be retained.\n",
      "  return mne.io.read_epochs_eeglab(sets_locations[0]).ch_names\n"
     ]
    },
    {
     "data": {
      "text/plain": [
       "['Fp1',\n",
       " 'Fpz',\n",
       " 'Fp2',\n",
       " 'F7',\n",
       " 'F3',\n",
       " 'F1',\n",
       " 'Fz',\n",
       " 'F2',\n",
       " 'F4',\n",
       " 'F8',\n",
       " 'FC3',\n",
       " 'FC1',\n",
       " 'FCz',\n",
       " 'FC2',\n",
       " 'FC4',\n",
       " 'FC6',\n",
       " 'T7',\n",
       " 'C5',\n",
       " 'C3',\n",
       " 'C1',\n",
       " 'Cz',\n",
       " 'C2',\n",
       " 'C4',\n",
       " 'C6',\n",
       " 'T8',\n",
       " 'CP5',\n",
       " 'CP3',\n",
       " 'CP1',\n",
       " 'CPz',\n",
       " 'CP2',\n",
       " 'CP4',\n",
       " 'CP6',\n",
       " 'P7',\n",
       " 'P5',\n",
       " 'P3',\n",
       " 'P1',\n",
       " 'Pz',\n",
       " 'P2',\n",
       " 'P4',\n",
       " 'P6',\n",
       " 'P8',\n",
       " 'PO3',\n",
       " 'POz',\n",
       " 'PO4',\n",
       " 'O1',\n",
       " 'Oz',\n",
       " 'O2',\n",
       " 'FC5']"
      ]
     },
     "execution_count": 37,
     "metadata": {},
     "output_type": "execute_result"
    }
   ],
   "source": [
    "ch_names_new = get_channel_names(location_pdp, limb['extension'])\n",
    "ch_names_new"
   ]
  },
  {
   "cell_type": "code",
   "execution_count": 38,
   "metadata": {},
   "outputs": [
    {
     "name": "stdout",
     "output_type": "stream",
     "text": [
      "Extracting parameters from ./../../data/raw/PP\\PP1\\PP1_F1_RH_Removed_ICA.set...\n",
      "57 matching events found\n",
      "No baseline correction applied\n",
      "Not setting metadata\n",
      "0 projection items activated\n",
      "Ready.\n"
     ]
    },
    {
     "name": "stderr",
     "output_type": "stream",
     "text": [
      "<ipython-input-5-f4cb1c0da255>:25: RuntimeWarning: At least one epoch has multiple events. Only the latency of the first event will be retained.\n",
      "  return mne.io.read_epochs_eeglab(sets_locations[0]).ch_names\n"
     ]
    },
    {
     "data": {
      "text/plain": [
       "['Cz',\n",
       " 'C1',\n",
       " 'C2',\n",
       " 'C3',\n",
       " 'C4',\n",
       " 'C5',\n",
       " 'C6',\n",
       " 'C7',\n",
       " 'C8',\n",
       " 'FCz',\n",
       " 'FC1',\n",
       " 'FC2',\n",
       " 'FC3',\n",
       " 'FC4',\n",
       " 'FC5',\n",
       " 'FC6',\n",
       " 'FT7',\n",
       " 'FT8',\n",
       " 'CPz',\n",
       " 'CP1',\n",
       " 'CP2',\n",
       " 'CP3',\n",
       " 'CP4',\n",
       " 'CP5',\n",
       " 'CP6',\n",
       " 'TP7',\n",
       " 'TP8',\n",
       " 'Fz',\n",
       " 'F1',\n",
       " 'F2',\n",
       " 'F3',\n",
       " 'F4',\n",
       " 'F5',\n",
       " 'F6',\n",
       " 'F7',\n",
       " 'F8',\n",
       " 'Pz',\n",
       " 'P1',\n",
       " 'P2',\n",
       " 'P3',\n",
       " 'P4',\n",
       " 'P5',\n",
       " 'P6',\n",
       " 'P7',\n",
       " 'P8',\n",
       " 'AFz',\n",
       " 'AF3',\n",
       " 'AF4',\n",
       " 'AF7',\n",
       " 'AF8',\n",
       " 'Fp1',\n",
       " 'FP2',\n",
       " 'POz',\n",
       " 'PO3',\n",
       " 'PO4',\n",
       " 'PO7',\n",
       " 'PO8',\n",
       " 'Oz',\n",
       " 'O1',\n",
       " 'O2',\n",
       " 'Iz']"
      ]
     },
     "execution_count": 38,
     "metadata": {},
     "output_type": "execute_result"
    }
   ],
   "source": [
    "ch_names = get_channel_names(location_pain, limb['extension'])\n",
    "ch_names"
   ]
  },
  {
   "cell_type": "code",
   "execution_count": 35,
   "metadata": {},
   "outputs": [
    {
     "name": "stdout",
     "output_type": "stream",
     "text": [
      "Fpz Fp2 T7 T8 "
     ]
    }
   ],
   "source": [
    "# Check for any channels not present in both\n",
    "for ch in ch_names_new:\n",
    "    if not (ch in ch_names):\n",
    "        print(ch, end=' ')"
   ]
  },
  {
   "cell_type": "code",
   "execution_count": 106,
   "metadata": {},
   "outputs": [
    {
     "data": {
      "text/plain": [
       "array([array([[[-7.71240759e-06, -4.02704239e-06, -4.84238338e-06, ...,\n",
       "         -2.92115331e-06, -1.66777062e-06, -9.83924747e-07],\n",
       "        [-1.04198809e-05, -5.87063217e-06, -7.27376223e-06, ...,\n",
       "         -3.58757305e-06, -2.30453777e-06, -2.31281590e-06],\n",
       "        [-6.06872499e-07,  4.79701221e-07,  6.28845215e-07, ...,\n",
       "         -2.22211504e-06, -1.09852660e-06, -2.08171085e-07],\n",
       "        ...,\n",
       "        [ 7.62423325e-06,  4.36386442e-06,  3.03431416e-06, ...,\n",
       "         -6.00119638e-06, -2.71435475e-06, -5.57641840e-06],\n",
       "        [ 1.38475838e-05,  1.00448532e-05,  9.61759567e-06, ...,\n",
       "         -1.76986766e-06,  6.41890764e-08, -1.61100817e-06],\n",
       "        [ 5.61591482e-06,  5.61588669e-06,  3.54037333e-06, ...,\n",
       "         -9.07361269e-07, -1.66135526e-06, -2.27150297e-06]],\n",
       "\n",
       "       [[ 2.76465392e-06,  5.56807041e-06,  4.33591747e-06, ...,\n",
       "          8.27178860e-06,  9.72029781e-06,  1.05993032e-05],\n",
       "        [ 5.76801920e-06,  7.69195318e-06,  6.15382862e-06, ...,\n",
       "          4.69050550e-06,  7.00150061e-06,  6.63209963e-06],\n",
       "        [ 2.18773293e-06,  2.50782895e-06,  3.01838303e-06, ...,\n",
       "          6.08597374e-06,  6.21351099e-06,  8.49283314e-06],\n",
       "        ...,\n",
       "        [ 2.67150116e-06, -3.82113194e-06, -2.58632636e-06, ...,\n",
       "         -5.14699364e-06, -7.39575386e-06, -1.14338751e-05],\n",
       "        [-7.12512255e-07, -5.56723928e-06, -4.86885262e-06, ...,\n",
       "         -7.52978086e-06, -1.10506620e-05, -9.62480259e-06],\n",
       "        [-1.46954632e-06, -3.36621213e-06, -3.56998801e-06, ...,\n",
       "          9.02836561e-07, -3.07266641e-06, -4.88232708e-06]],\n",
       "\n",
       "       [[ 2.00237918e-06,  5.73025560e-06,  4.18184519e-06, ...,\n",
       "          9.43795490e-06,  8.05972672e-06,  6.14428139e-06],\n",
       "        [ 5.98164940e-06,  8.42520142e-06,  6.42047691e-06, ...,\n",
       "          1.01542912e-05,  8.68571663e-06,  6.09158373e-06],\n",
       "        [ 3.97379845e-07,  3.25192666e-06,  2.74865103e-06, ...,\n",
       "          6.49997473e-06,  6.67516041e-06,  4.95249462e-06],\n",
       "        ...,\n",
       "        [ 3.55874491e-06,  2.44567990e-07,  1.40145612e-06, ...,\n",
       "         -1.28922920e-05, -7.11096144e-06, -9.56417942e-06],\n",
       "        [-1.21498013e-06, -3.95712256e-06, -8.84455681e-07, ...,\n",
       "         -1.57621670e-05, -9.46456718e-06, -8.41543770e-06],\n",
       "        [-3.08921480e-06, -6.78057718e-06, -2.50173235e-06, ...,\n",
       "         -1.66889992e-05, -1.22331600e-05, -1.34231358e-05]],\n",
       "\n",
       "       ...,\n",
       "\n",
       "       [[-3.47131991e-06, -3.07882476e-06, -2.71429300e-06, ...,\n",
       "         -2.01010275e-06,  7.93417633e-07,  8.79462957e-07],\n",
       "        [-5.10361671e-06, -4.46565628e-06, -4.50190020e-06, ...,\n",
       "          2.56653595e-06,  6.67534590e-06,  6.16388369e-06],\n",
       "        [-4.97362757e-06, -7.08734035e-06, -7.18878937e-06, ...,\n",
       "         -4.98455429e-06, -4.78489733e-06, -3.30316257e-06],\n",
       "        ...,\n",
       "        [ 1.28779411e-08, -4.37776566e-07, -3.50767088e-06, ...,\n",
       "          4.56371164e-06,  3.50338173e-06,  2.79045773e-06],\n",
       "        [-9.17535782e-07, -1.17885399e-06, -3.96739149e-06, ...,\n",
       "          1.33317661e-06, -2.30372763e-06, -2.85362577e-06],\n",
       "        [ 1.89586234e-06,  5.39086294e-06,  4.03022718e-06, ...,\n",
       "          8.44477081e-06,  6.37567806e-06,  3.23988485e-06]],\n",
       "\n",
       "       [[-6.14737940e-06, -5.57354355e-06, -4.81553698e-06, ...,\n",
       "          6.32799053e-06,  5.44206858e-06,  1.01065087e-06],\n",
       "        [-1.08679132e-05, -8.07470417e-06, -6.76133633e-06, ...,\n",
       "          6.53844357e-06,  7.79050922e-06,  3.52029848e-06],\n",
       "        [-2.12081671e-06, -1.75045097e-06, -1.97068751e-06, ...,\n",
       "          6.10553598e-06,  2.11994195e-06, -1.63069463e-06],\n",
       "        ...,\n",
       "        [-6.85394764e-07,  4.67178345e-07,  1.27238178e-06, ...,\n",
       "         -2.06122255e-06, -2.68731642e-06,  2.34069252e-06],\n",
       "        [ 4.99686098e-06,  5.04903173e-06,  5.43725300e-06, ...,\n",
       "         -1.02163935e-05, -1.14186840e-05, -4.88122654e-06],\n",
       "        [ 7.35998249e-06,  6.10081577e-06,  3.69216490e-06, ...,\n",
       "         -1.12472820e-05, -1.25439949e-05, -5.90733004e-06]],\n",
       "\n",
       "       [[-5.05334425e-06, -5.97688103e-06, -6.06420660e-06, ...,\n",
       "         -8.49124336e-06, -3.19789648e-06,  1.30155504e-06],\n",
       "        [-7.85808516e-06, -8.65558910e-06, -8.53412342e-06, ...,\n",
       "         -2.16524100e-06,  8.87771666e-07,  3.41183901e-06],\n",
       "        [-3.67491412e-06, -4.54004383e-06, -5.41016817e-06, ...,\n",
       "         -1.07035160e-05, -7.16385365e-06, -3.11576319e-06],\n",
       "        ...,\n",
       "        [ 2.12816095e-06,  7.43616581e-07,  2.75681019e-08, ...,\n",
       "          2.04136047e-05,  1.42332945e-05,  9.39483261e-06],\n",
       "        [ 4.84493256e-06,  1.87658691e-06,  2.54386187e-06, ...,\n",
       "          1.47994404e-05,  1.15692167e-05,  7.53008175e-06],\n",
       "        [ 6.28276825e-06,  3.01748419e-06,  5.58523083e-06, ...,\n",
       "          1.37031717e-05,  1.28804474e-05,  7.98891735e-06]]]),\n",
       "       array([[[ 3.55792952e-06,  8.32946062e-07,  4.51023293e-06, ...,\n",
       "         -1.23675096e-06, -1.23159885e-08,  4.51538563e-08],\n",
       "        [ 2.02902150e-06,  8.62177968e-07,  3.64074230e-06, ...,\n",
       "          1.25634432e-06,  1.72252834e-06,  2.86938357e-06],\n",
       "        [ 2.05824900e-06,  5.99068046e-07,  2.47488189e-06, ...,\n",
       "         -3.49400282e-06, -2.66901183e-06, -3.00029516e-06],\n",
       "        ...,\n",
       "        [-3.88289642e-06, -2.09404755e-06, -6.55619192e-06, ...,\n",
       "         -4.70878792e-06,  3.04365110e-06, -5.31482697e-07],\n",
       "        [-7.35438871e-06, -4.31853008e-06, -6.81496954e-06, ...,\n",
       "         -4.94241858e-06,  1.03614974e-06, -3.79680395e-06],\n",
       "        [-4.48081112e-06, -2.63958001e-06, -7.19309473e-06, ...,\n",
       "         -1.86149132e-06,  2.53463697e-06, -1.27336121e-06]],\n",
       "\n",
       "       [[ 2.47493458e-06,  2.05213594e-06,  4.12695169e-06, ...,\n",
       "          8.18295240e-07,  1.22566938e-06,  1.47718203e-06],\n",
       "        [ 2.06616116e-06,  1.17147303e-06,  1.64434147e-06, ...,\n",
       "          1.15840924e-06,  1.63886523e-06,  1.83834004e-06],\n",
       "        [ 1.03884566e-06,  3.94472957e-07,  3.09468269e-06, ...,\n",
       "          6.47649050e-07,  4.18936968e-07, -1.16382241e-07],\n",
       "        ...,\n",
       "        [ 9.63149643e-06,  3.41138387e-06,  7.70983410e-06, ...,\n",
       "         -8.72432137e-06, -8.38612175e-06, -8.14715195e-06],\n",
       "        [ 4.78125715e-06,  2.49820781e-06,  4.61529827e-06, ...,\n",
       "         -8.85947704e-06, -8.14826679e-06, -6.67012358e-06],\n",
       "        [ 3.18913507e-06, -4.95691895e-08,  2.47426033e-06, ...,\n",
       "         -3.99285913e-06, -2.08178592e-06, -2.20184159e-06]],\n",
       "\n",
       "       [[ 1.21058025e-05,  3.37630224e-06,  3.77933049e-06, ...,\n",
       "         -9.87411022e-07, -1.48341763e-06, -4.71186876e-06],\n",
       "        [ 1.04215393e-05,  2.80293465e-06,  3.23069358e-06, ...,\n",
       "         -9.80646729e-07,  5.70636630e-07, -3.22773933e-06],\n",
       "        [ 1.02752790e-05,  4.07728434e-06,  3.80465269e-06, ...,\n",
       "         -4.03617352e-07, -2.00658774e-06, -4.98393583e-06],\n",
       "        ...,\n",
       "        [-1.04464302e-05, -5.11916542e-06, -5.44560766e-06, ...,\n",
       "         -8.58591843e-06, -6.39982510e-06, -4.80412865e-06],\n",
       "        [-1.24794283e-05, -8.36509991e-06, -6.72735548e-06, ...,\n",
       "         -4.53328991e-06, -7.05701542e-06, -5.42629623e-06],\n",
       "        [-1.28785591e-05, -6.82183886e-06, -7.68581438e-06, ...,\n",
       "         -1.71865344e-06, -1.45861483e-06,  6.70234919e-07]],\n",
       "\n",
       "       ...,\n",
       "\n",
       "       [[-4.83293533e-06, -2.85060716e-06, -9.93704259e-07, ...,\n",
       "         -9.39601123e-07, -8.67102563e-07, -1.12872994e-06],\n",
       "        [-3.61765099e-06, -2.40778637e-06, -9.47678149e-07, ...,\n",
       "         -1.46616471e-06, -1.41468251e-06, -1.29348445e-06],\n",
       "        [-2.43696594e-06, -8.86134028e-07, -2.72958875e-07, ...,\n",
       "          4.84304935e-07,  8.67420316e-07, -2.40451038e-07],\n",
       "        ...,\n",
       "        [ 2.14757061e-06,  8.91351104e-07, -3.91326278e-07, ...,\n",
       "          5.45967531e-06,  4.16590166e-06,  4.56876755e-06],\n",
       "        [ 3.54426670e-06,  8.28795791e-07, -1.47178411e-06, ...,\n",
       "          3.45107818e-06,  2.57847595e-06,  2.43000460e-06],\n",
       "        [ 3.84229755e-06,  2.41833186e-06,  7.17220962e-07, ...,\n",
       "          1.21419144e-06,  3.26052278e-07,  9.24358070e-07]],\n",
       "\n",
       "       [[-6.50751686e-06, -5.88874102e-06, -3.93337178e-06, ...,\n",
       "          8.84809494e-07,  1.79749799e-06,  1.28546983e-07],\n",
       "        [-3.42350578e-06, -3.71885443e-06, -1.61358106e-06, ...,\n",
       "          1.55147219e-06,  2.25810623e-06,  1.99367523e-06],\n",
       "        [-7.71167898e-06, -5.95175743e-06, -3.97287655e-06, ...,\n",
       "          7.93059945e-07,  9.80888844e-07, -3.88615847e-07],\n",
       "        ...,\n",
       "        [ 7.72564077e-06,  8.87617588e-06,  4.67196083e-06, ...,\n",
       "         -6.72270656e-07, -5.03641784e-07, -5.30710936e-07],\n",
       "        [ 2.05074406e-06,  2.20409536e-06,  6.07488811e-07, ...,\n",
       "          9.44293737e-07,  2.34027815e-06,  2.52740359e-06],\n",
       "        [ 3.65781808e-06,  3.95677161e-06,  1.61582947e-06, ...,\n",
       "         -2.36420602e-07, -3.93246599e-08, -6.84501350e-07]],\n",
       "\n",
       "       [[-3.51197982e-06, -5.36089277e-06, -3.10713911e-06, ...,\n",
       "         -3.01103234e-06, -3.92454028e-07, -5.33739376e-06],\n",
       "        [-3.44039536e-06, -4.72012663e-06, -2.84508801e-06, ...,\n",
       "         -1.44736874e-06, -1.73143983e-07, -4.75051975e-06],\n",
       "        [-3.26540661e-06, -4.99200678e-06, -3.16326714e-06, ...,\n",
       "         -2.93921614e-06, -7.86666512e-07, -3.33387470e-06],\n",
       "        ...,\n",
       "        [ 2.82295465e-06,  2.99505377e-06,  1.66714466e-06, ...,\n",
       "          1.02098360e-05,  1.31335163e-05,  9.57314396e-06],\n",
       "        [ 2.09120417e-06,  2.88355947e-06,  1.50466347e-06, ...,\n",
       "          3.13986778e-06,  3.51879287e-06,  2.32467866e-06],\n",
       "        [ 3.60056210e-06,  4.37825775e-06,  2.46110654e-06, ...,\n",
       "          3.41497040e-06,  4.29690742e-06,  4.53127480e-06]]]),\n",
       "       array([[[-1.12177551e-06, -9.66436744e-07, -5.25440574e-07, ...,\n",
       "          3.18111658e-06,  2.94914436e-06,  2.82729912e-06],\n",
       "        [-1.03477526e-06, -5.60708344e-07, -1.02162361e-10, ...,\n",
       "          3.24098468e-06,  2.85651374e-06,  2.54130363e-06],\n",
       "        [-9.18450713e-07, -1.19276667e-06, -1.18893051e-06, ...,\n",
       "          1.52990305e-06,  1.33098841e-06,  1.24552822e-06],\n",
       "        ...,\n",
       "        [-6.02744937e-07, -4.79499042e-07, -4.81416523e-07, ...,\n",
       "         -2.59515142e-06, -2.11802101e-06, -1.70170569e-06],\n",
       "        [-1.05016065e-06, -1.32135093e-06, -1.37544489e-06, ...,\n",
       "         -3.12940717e-06, -2.54770994e-06, -2.03826976e-06],\n",
       "        [-9.07130897e-07, -1.13361454e-06, -1.40088320e-06, ...,\n",
       "         -2.26373243e-06, -1.90624464e-06, -1.70943820e-06]],\n",
       "\n",
       "       [[ 6.76810265e-07,  1.04499280e-07, -1.38436049e-07, ...,\n",
       "         -4.74842787e-07, -3.71760994e-07, -7.95032620e-07],\n",
       "        [ 1.20997858e-06,  7.63096809e-07,  4.30522323e-07, ...,\n",
       "         -4.63473201e-07, -3.68887931e-08, -1.57656640e-07],\n",
       "        [ 4.19452727e-07, -1.34268016e-07, -4.05380756e-07, ...,\n",
       "         -1.77723780e-07, -3.99622172e-07, -1.10376465e-06],\n",
       "        ...,\n",
       "        [ 1.15287673e-06,  1.17050445e-06,  8.54217410e-07, ...,\n",
       "          6.34451509e-07,  3.33158672e-07,  4.44482625e-07],\n",
       "        [ 8.97661269e-07,  9.05234575e-07,  6.42474532e-07, ...,\n",
       "          2.33407110e-07, -3.22482251e-08,  1.89966857e-08],\n",
       "        [-2.19776668e-08,  4.80690658e-07,  4.95286167e-07, ...,\n",
       "         -7.13473320e-07, -8.27059269e-07, -4.05409545e-07]],\n",
       "\n",
       "       [[-1.25383818e-06, -1.82001650e-06, -2.13513064e-06, ...,\n",
       "         -2.05345273e-06, -1.81450450e-06, -1.31250489e-06],\n",
       "        [-1.82578063e-06, -2.26302671e-06, -2.34176397e-06, ...,\n",
       "         -1.24595881e-06, -1.24159455e-06, -8.21663737e-07],\n",
       "        [-4.02705133e-07, -8.89669657e-07, -1.21646249e-06, ...,\n",
       "         -1.09682226e-06, -6.61506534e-07, -1.76500440e-07],\n",
       "        ...,\n",
       "        [-1.93360734e-06, -1.34270048e-06, -8.48619580e-07, ...,\n",
       "          1.57430935e-06,  1.26221824e-06,  7.95152426e-07],\n",
       "        [-7.23526835e-07, -1.57201990e-07,  1.74844310e-07, ...,\n",
       "          1.61460185e-06,  1.47595310e-06,  1.02814424e-06],\n",
       "        [ 6.54175282e-07,  1.40008891e-06,  1.86779463e-06, ...,\n",
       "          2.36073422e-06,  1.86078942e-06,  1.14585328e-06]],\n",
       "\n",
       "       ...,\n",
       "\n",
       "       [[ 9.72613633e-07,  2.03859717e-07, -1.53358221e-07, ...,\n",
       "         -7.59078503e-07, -1.69779074e-06, -2.38464212e-06],\n",
       "        [ 4.18891758e-08, -6.79085076e-07, -1.13609314e-06, ...,\n",
       "         -3.27236772e-07, -1.49770129e-06, -2.33787942e-06],\n",
       "        [ 7.47855306e-07, -3.37008685e-08, -2.62575179e-07, ...,\n",
       "         -1.10723472e-06, -1.38134301e-06, -1.47715044e-06],\n",
       "        ...,\n",
       "        [-1.37199914e-06, -9.26921844e-07, -8.53778720e-07, ...,\n",
       "          1.41303992e-06,  2.09692526e-06,  2.22141504e-06],\n",
       "        [-1.20894694e-06, -8.01374555e-07, -6.93022132e-07, ...,\n",
       "          6.51459932e-07,  1.69452453e-06,  2.37183690e-06],\n",
       "        [-1.10882080e-06, -5.27841747e-07, -1.78257763e-07, ...,\n",
       "          1.49474457e-07,  1.30886483e-06,  2.05661011e-06]],\n",
       "\n",
       "       [[ 2.18807054e-06,  2.61917663e-06,  2.47612667e-06, ...,\n",
       "         -1.16432464e-06, -5.71968436e-07, -5.52089930e-07],\n",
       "        [ 1.55619335e-06,  1.90611875e-06,  1.93327343e-06, ...,\n",
       "         -1.00722897e-06, -5.32146513e-07, -4.37971264e-07],\n",
       "        [ 3.12191224e-06,  3.68971872e-06,  3.33932781e-06, ...,\n",
       "         -5.53421140e-07, -1.28621414e-07, -2.65506297e-07],\n",
       "        ...,\n",
       "        [-3.68846250e-06, -3.64723420e-06, -2.76467872e-06, ...,\n",
       "          6.09323859e-07,  7.17627406e-07,  1.09640443e-06],\n",
       "        [-2.19681859e-06, -1.86165202e-06, -1.39075470e-06, ...,\n",
       "          8.90523076e-07,  4.58465517e-07,  3.71143579e-07],\n",
       "        [-4.45781231e-06, -5.14621830e-06, -5.08039141e-06, ...,\n",
       "         -5.24922982e-08, -1.20182240e-06, -8.62060547e-07]],\n",
       "\n",
       "       [[-4.08873945e-07, -6.75499082e-07, -1.43285835e-06, ...,\n",
       "          1.22217214e-06,  5.66161215e-07, -1.30748898e-07],\n",
       "        [-5.01128972e-07, -7.54928887e-07, -1.69425571e-06, ...,\n",
       "          1.87832665e-06,  1.58889103e-06,  1.35270405e-06],\n",
       "        [-3.05371523e-07, -3.40992093e-07, -5.12476683e-07, ...,\n",
       "         -3.18396449e-07, -1.13880289e-06, -1.94582844e-06],\n",
       "        ...,\n",
       "        [-2.95122504e-06, -2.95393467e-06, -2.71063662e-06, ...,\n",
       "         -9.59437490e-08,  1.20746791e-06,  1.94538796e-06],\n",
       "        [-2.89011765e-06, -2.33673310e-06, -1.32813537e-06, ...,\n",
       "         -2.33068442e-06, -1.77948833e-06, -1.26102233e-06],\n",
       "        [-1.55228710e-06, -1.34950447e-06, -6.85388207e-07, ...,\n",
       "          4.50615406e-07,  7.44292378e-07,  6.71416044e-07]]]),\n",
       "       array([[[ 6.26526594e-06,  6.98287773e-06,  7.46817636e-06, ...,\n",
       "         -2.35557723e-06, -2.90609407e-06, -2.00713062e-06],\n",
       "        [ 2.59642410e-06,  4.25164890e-06,  4.64838362e-06, ...,\n",
       "         -4.81402874e-06, -5.57115698e-06, -4.74434137e-06],\n",
       "        [ 7.67990446e-06,  6.64878225e-06,  7.29958057e-06, ...,\n",
       "          1.29326653e-06,  9.53293860e-07,  1.70867956e-06],\n",
       "        ...,\n",
       "        [-4.30579424e-06, -8.26199532e-06, -6.09101677e-06, ...,\n",
       "          8.28495741e-07,  2.10148478e-06,  3.91839743e-06],\n",
       "        [-4.31044579e-06, -8.25734615e-06, -6.09085274e-06, ...,\n",
       "          8.26780736e-07,  2.09650707e-06,  3.91237140e-06],\n",
       "        [-4.29895639e-06, -8.26209164e-06, -6.08950663e-06, ...,\n",
       "          8.19441855e-07,  2.09504843e-06,  3.91242409e-06]],\n",
       "\n",
       "       [[-1.40102935e-06,  2.04357922e-07, -1.02377605e-06, ...,\n",
       "         -4.74690259e-07, -1.77530682e-06,  8.57430637e-07],\n",
       "        [-1.63928652e-06,  8.73497725e-08, -4.30004328e-07, ...,\n",
       "          8.09891880e-07, -8.35327029e-07,  1.91230357e-06],\n",
       "        [-7.92476594e-07,  5.39380670e-07, -4.52988654e-07, ...,\n",
       "         -1.09873283e-06, -2.02008533e-06,  9.54402983e-08],\n",
       "        ...,\n",
       "        [ 7.63447165e-07, -4.28446531e-06,  5.89550018e-07, ...,\n",
       "         -8.14223099e-06, -7.18195581e-06, -1.27609262e-05],\n",
       "        [ 7.49713659e-07, -4.29102564e-06,  5.74741244e-07, ...,\n",
       "         -8.13269615e-06, -7.16634846e-06, -1.27481194e-05],\n",
       "        [ 7.74421811e-07, -4.27579165e-06,  5.97131848e-07, ...,\n",
       "         -8.14266205e-06, -7.18567610e-06, -1.27701988e-05]],\n",
       "\n",
       "       [[-6.27236843e-06, -6.44841337e-06, -2.89613175e-06, ...,\n",
       "          2.17315841e-06,  1.86723650e-06, -4.37397778e-07],\n",
       "        [-7.09130955e-06, -9.26652813e-06, -6.56415176e-06, ...,\n",
       "          1.46886683e-06,  1.49275279e-06, -6.18253469e-07],\n",
       "        [-6.41126013e-06, -5.35784912e-06, -1.91392624e-06, ...,\n",
       "          2.43381572e-06,  1.43472576e-06, -1.61529124e-07],\n",
       "        ...,\n",
       "        [ 7.15635204e-06,  1.01377916e-05,  7.44221258e-06, ...,\n",
       "         -1.11152303e-06, -2.75162578e-06,  2.77504015e-06],\n",
       "        [ 7.15409231e-06,  1.01376228e-05,  7.44834328e-06, ...,\n",
       "         -1.13325524e-06, -2.75998163e-06,  2.75608730e-06],\n",
       "        [ 7.16352987e-06,  1.01528015e-05,  7.45580816e-06, ...,\n",
       "         -1.11139357e-06, -2.75369239e-06,  2.77557564e-06]],\n",
       "\n",
       "       ...,\n",
       "\n",
       "       [[-5.38525391e-06, -1.30619574e-06, -5.12658536e-07, ...,\n",
       "         -5.41744232e-06, -2.42877769e-06, -8.60375583e-07],\n",
       "        [ 2.15161800e-06,  5.16987562e-06,  5.13124704e-06, ...,\n",
       "         -5.30525732e-06, -2.45346975e-06, -1.19506931e-06],\n",
       "        [-1.02335157e-05, -5.97541904e-06, -4.69958258e-06, ...,\n",
       "         -3.94983816e-06, -2.57673860e-06, -6.48865342e-07],\n",
       "        ...,\n",
       "        [ 4.24318123e-06, -3.67902613e-06, -2.28334332e-06, ...,\n",
       "          5.80627108e-06,  4.86415148e-06, -1.80053985e-06],\n",
       "        [ 4.24740839e-06, -3.65999722e-06, -2.26876903e-06, ...,\n",
       "          5.80968857e-06,  4.85610676e-06, -1.79807377e-06],\n",
       "        [ 4.24663925e-06, -3.67445779e-06, -2.27818656e-06, ...,\n",
       "          5.80480433e-06,  4.86081123e-06, -1.79835069e-06]],\n",
       "\n",
       "       [[-3.61148119e-06, -1.68182027e-06, -2.62410307e-06, ...,\n",
       "         -2.07386851e-06, -2.39335847e-06, -3.17793489e-06],\n",
       "        [-3.15710735e-06, -5.43052137e-07, -1.57406759e-06, ...,\n",
       "         -2.60821676e-06, -3.14757466e-06, -4.24483490e-06],\n",
       "        [-2.50771379e-06, -2.14531469e-06, -2.16253066e-06, ...,\n",
       "          3.33177030e-07, -2.65904903e-07, -5.20334616e-08],\n",
       "        ...,\n",
       "        [ 5.33542347e-06,  5.70408106e-06,  4.62302160e-06, ...,\n",
       "          5.97409606e-07,  6.71936846e-06,  4.64123774e-06],\n",
       "        [ 5.34141779e-06,  5.70372438e-06,  4.62738085e-06, ...,\n",
       "          5.97424269e-07,  6.69846964e-06,  4.62996006e-06],\n",
       "        [ 5.33370399e-06,  5.69928789e-06,  4.62206697e-06, ...,\n",
       "          5.97022355e-07,  6.71837187e-06,  4.64576912e-06]],\n",
       "\n",
       "       [[-1.46541834e-06, -7.13344574e-07, -9.36958730e-07, ...,\n",
       "          2.36352897e-06,  2.25034380e-06,  4.30058360e-07],\n",
       "        [-2.29559273e-07, -2.37918377e-07, -4.53209460e-07, ...,\n",
       "          8.97616744e-07,  6.84959531e-07,  9.92923677e-08],\n",
       "        [-2.18318033e-06, -8.11627328e-07, -1.85437548e-06, ...,\n",
       "          3.27796102e-06,  1.70031822e-06,  1.08058727e-06],\n",
       "        ...,\n",
       "        [ 7.27355003e-07,  3.04559827e-06,  3.23277533e-07, ...,\n",
       "         -6.16265392e-06, -1.13538294e-05, -5.34104013e-06],\n",
       "        [ 7.29016244e-07,  3.04707837e-06,  3.40027601e-07, ...,\n",
       "         -6.15720272e-06, -1.13172503e-05, -5.32592821e-06],\n",
       "        [ 7.25532115e-07,  3.04158688e-06,  3.16111207e-07, ...,\n",
       "         -6.16085434e-06, -1.13539476e-05, -5.34072638e-06]]]),\n",
       "       array([[[-2.06162810e-06, -2.87986231e-06,  1.99195302e-06, ...,\n",
       "          1.82029188e-07,  4.01472896e-07,  7.10086897e-08],\n",
       "        [-3.30959415e-06, -3.43594670e-06, -2.31509149e-07, ...,\n",
       "         -9.15465653e-07, -4.10083950e-07, -9.57383454e-07],\n",
       "        [ 2.14417785e-07, -7.90173709e-07,  3.01449966e-06, ...,\n",
       "         -9.70289469e-07, -9.67759132e-07, -1.17809474e-06],\n",
       "        ...,\n",
       "        [ 1.85354996e-06,  3.05708790e-06, -7.03187585e-08, ...,\n",
       "         -1.44258142e-07,  5.03937364e-07, -1.31914347e-07],\n",
       "        [ 5.56907463e-06,  5.71861649e-06,  2.29634047e-06, ...,\n",
       "         -3.71825695e-08,  6.15878880e-07, -1.09059751e-07],\n",
       "        [ 2.72831273e-06,  3.63290715e-06,  7.98296332e-08, ...,\n",
       "          6.52578473e-07,  1.49342072e-06,  8.37813735e-07]],\n",
       "\n",
       "       [[ 2.98578310e-06,  3.65106153e-06,  2.75787473e-06, ...,\n",
       "          1.60418296e-06,  5.77812481e-06,  3.82522321e-06],\n",
       "        [ 2.86988080e-07,  1.43393242e-06,  1.61194658e-06, ...,\n",
       "          1.72673047e-06,  3.28939486e-06,  2.36947513e-06],\n",
       "        [ 4.16385221e-06,  4.79153728e-06,  1.91846931e-06, ...,\n",
       "          2.87315035e-06,  7.12575722e-06,  4.45437813e-06],\n",
       "        ...,\n",
       "        [-2.37565804e-06, -3.24055552e-06,  7.34084100e-08, ...,\n",
       "         -1.32193112e-06, -4.48779202e-06, -1.40965784e-06],\n",
       "        [-1.31830192e-06, -2.98807287e-06, -1.46348178e-07, ...,\n",
       "          1.10991502e-06, -2.07341003e-06,  2.41737366e-08],\n",
       "        [-2.55928278e-06, -4.69558430e-06, -1.29056990e-06, ...,\n",
       "         -1.18860197e-06, -4.83206654e-06, -1.46595252e-06]],\n",
       "\n",
       "       [[ 2.72315526e-06, -1.34944320e-07,  1.15004313e-06, ...,\n",
       "          1.59373403e-07,  8.38999450e-08,  1.41954577e-06],\n",
       "        [ 2.68914604e-06,  7.38875031e-07,  1.00037825e-06, ...,\n",
       "          1.25508165e-06,  5.65776378e-08,  2.31332612e-06],\n",
       "        [ 1.73931372e-06,  3.90164018e-07,  2.51545763e-06, ...,\n",
       "         -5.21379411e-07,  4.93428499e-07, -1.98056340e-07],\n",
       "        ...,\n",
       "        [ 4.07179236e-07,  7.15365350e-07, -7.49181449e-07, ...,\n",
       "          1.07848096e-06,  5.04022598e-07, -1.05750012e-06],\n",
       "        [-2.59728789e-07, -1.85063124e-07, -4.91383255e-07, ...,\n",
       "         -7.16629088e-07, -5.55262923e-07, -1.52375150e-06],\n",
       "        [ 5.57964623e-07,  1.11088729e-06,  4.62622941e-08, ...,\n",
       "         -9.26424861e-07, -2.91595340e-07, -1.67589259e-06]],\n",
       "\n",
       "       ...,\n",
       "\n",
       "       [[ 1.70616913e-06,  4.39133406e-06,  4.18463564e-06, ...,\n",
       "          3.07788563e-06,  1.97608328e-06,  2.91779995e-06],\n",
       "        [ 2.63989615e-06,  3.54857039e-06,  4.01582527e-06, ...,\n",
       "          1.93203986e-06,  5.48297405e-07,  2.41019249e-06],\n",
       "        [-5.49386442e-07,  2.79774308e-06,  2.15782642e-06, ...,\n",
       "          2.30784297e-06,  1.32554281e-06,  1.57470512e-06],\n",
       "        ...,\n",
       "        [ 3.25329685e-06,  3.92845988e-07,  1.99338019e-07, ...,\n",
       "         -4.00214291e-06, -1.48997664e-06, -3.32740331e-06],\n",
       "        [ 2.68750691e-06, -3.69559884e-07, -3.67762923e-07, ...,\n",
       "         -1.97517145e-06,  4.14038897e-07, -2.42827749e-06],\n",
       "        [ 2.21991444e-06, -6.52217984e-07, -7.60044694e-07, ...,\n",
       "         -1.26475883e-06,  8.85294020e-07, -1.12228930e-06]],\n",
       "\n",
       "       [[ 5.15451336e-06,  4.54087448e-06,  6.85369062e-06, ...,\n",
       "          1.49469862e-05,  1.27157717e-05,  1.58054686e-05],\n",
       "        [ 4.07357645e-06,  3.46535921e-06,  5.76421452e-06, ...,\n",
       "          1.25198469e-05,  1.07360611e-05,  1.35928297e-05],\n",
       "        [ 3.38833308e-06,  3.33200431e-06,  4.39391613e-06, ...,\n",
       "          1.02024345e-05,  7.11417437e-06,  9.67300415e-06],\n",
       "        ...,\n",
       "        [-4.14446402e-06, -2.89697695e-06, -4.34316587e-06, ...,\n",
       "         -2.10136509e-06, -1.97427750e-07, -2.44236517e-06],\n",
       "        [-5.80632019e-06, -4.74234009e-06, -6.71444035e-06, ...,\n",
       "         -4.67067242e-06, -2.48088169e-06, -6.14050961e-06],\n",
       "        [-4.18892336e-06, -3.09494710e-06, -4.66848564e-06, ...,\n",
       "         -4.45330191e-06, -1.63531268e-06, -4.93831253e-06]],\n",
       "\n",
       "       [[-3.60417652e-06, -2.79724121e-06, -3.34558821e-06, ...,\n",
       "          2.43190813e-06,  1.14300823e-06,  9.54030454e-08],\n",
       "        [-4.41264296e-06, -2.70708919e-06, -3.53855705e-06, ...,\n",
       "          2.65439248e-06,  6.34235561e-07, -1.81204975e-07],\n",
       "        [-2.44220901e-06, -1.87981260e-06, -2.19668961e-06, ...,\n",
       "          1.56675124e-06,  1.39025772e-06,  1.19360304e-06],\n",
       "        ...,\n",
       "        [ 2.98053694e-06,  1.53777838e-06,  1.57920361e-06, ...,\n",
       "         -4.40276146e-06, -3.58745790e-06, -2.53112268e-06],\n",
       "        [ 3.93596077e-06,  2.96306658e-06,  3.60137558e-06, ...,\n",
       "         -4.47646332e-06, -3.39812374e-06, -2.08195496e-06],\n",
       "        [ 3.95595980e-06,  2.71390462e-06,  3.11322546e-06, ...,\n",
       "         -3.00326872e-06, -2.31235385e-06, -1.93539488e-06]]]),\n",
       "       array([[[-4.32704353e-06, -4.65221500e-06, -8.29311848e-06, ...,\n",
       "         -6.98552907e-07, -2.09447765e-06, -1.68924928e-07],\n",
       "        [-4.25056696e-06, -3.51051974e-06, -6.21560526e-06, ...,\n",
       "          1.97651589e-06,  1.35863662e-06,  2.18933511e-06],\n",
       "        [-4.23614264e-07, -1.94703400e-07, -3.28547907e-06, ...,\n",
       "         -3.03515053e-06, -3.63065648e-06, -2.91987967e-06],\n",
       "        ...,\n",
       "        [-8.57771301e-06, -6.66022396e-06, -3.68993819e-07, ...,\n",
       "         -2.78386784e-06, -4.71686935e-06, -4.38858509e-06],\n",
       "        [ 1.28788447e-06,  2.19004631e-06,  7.07085180e-06, ...,\n",
       "         -7.40482807e-06, -8.80347729e-06, -9.78943443e-06],\n",
       "        [ 1.05279231e-06, -1.78888083e-07,  4.45425224e-06, ...,\n",
       "          2.91261464e-07, -3.09993267e-07, -8.16380143e-07]],\n",
       "\n",
       "       [[-3.18615103e-06, -4.70536613e-06, -3.26026368e-06, ...,\n",
       "          4.16855049e-06,  1.88927102e-06,  3.07800651e-06],\n",
       "        [-3.16392803e-06, -6.73154783e-06, -5.21485806e-06, ...,\n",
       "          3.43089533e-06,  2.04595995e-06,  2.93814373e-06],\n",
       "        [-2.53073621e-06, -3.92031217e-06, -2.39740610e-06, ...,\n",
       "          3.47261786e-06,  2.71904850e-06,  3.25937366e-06],\n",
       "        ...,\n",
       "        [-3.14389110e-06, -1.00520313e-06, -2.97385836e-06, ...,\n",
       "         -1.63494360e-06, -4.45286703e-06, -4.24730110e-06],\n",
       "        [-1.14503428e-08,  1.77112222e-06,  6.48378506e-08, ...,\n",
       "         -1.02528596e-06, -1.46507752e-06, -2.00224113e-06],\n",
       "        [ 2.69370103e-06,  7.28713369e-06,  3.89390993e-06, ...,\n",
       "         -2.84155130e-06, -3.00498080e-06, -3.52925944e-06]],\n",
       "\n",
       "       [[-7.62367725e-07,  2.88124180e-06,  2.33162642e-06, ...,\n",
       "         -5.74194098e-06, -4.83620644e-06, -3.91146135e-06],\n",
       "        [-1.00897121e-06,  9.33937311e-07,  2.12005305e-06, ...,\n",
       "         -3.27521300e-06, -2.98997998e-06, -1.53088796e-06],\n",
       "        [-1.79259861e-06,  2.97595799e-07, -1.34864843e-06, ...,\n",
       "         -3.48808837e-06, -2.92023802e-06, -2.65554380e-06],\n",
       "        ...,\n",
       "        [ 5.14358401e-07, -3.39086556e-06, -3.67139077e-06, ...,\n",
       "          6.53370380e-06,  6.49673319e-06,  4.38838100e-06],\n",
       "        [ 2.53779322e-07, -1.26867056e-06, -2.38307953e-06, ...,\n",
       "          5.86829329e-06,  5.34211826e-06,  3.00700593e-06],\n",
       "        [-4.58926618e-07, -2.68357754e-06, -3.50594282e-06, ...,\n",
       "          2.13853145e-06,  1.82587492e-06,  8.07763994e-07]],\n",
       "\n",
       "       ...,\n",
       "\n",
       "       [[-2.41947246e-06, -2.56131983e-06, -2.26743174e-06, ...,\n",
       "         -5.60238695e-06, -3.28327441e-06, -4.72333479e-06],\n",
       "        [-7.20606387e-07, -3.69725585e-07, -3.47621858e-07, ...,\n",
       "         -6.54500675e-06, -5.12921667e-06, -5.91923237e-06],\n",
       "        [-1.11559796e-06, -1.56984711e-06, -1.19101572e-06, ...,\n",
       "         -2.75463367e-06, -1.96073508e-06, -3.35346961e-06],\n",
       "        ...,\n",
       "        [ 3.54664731e-06,  5.58523703e-06,  6.61862183e-06, ...,\n",
       "          3.76372266e-06,  6.37082481e-06,  8.93776894e-06],\n",
       "        [ 3.59937692e-06,  2.42645168e-06,  3.45868587e-06, ...,\n",
       "          1.09650555e-05,  1.08913717e-05,  1.12951021e-05],\n",
       "        [ 1.78287649e-06,  2.77184868e-06,  2.71731710e-06, ...,\n",
       "          5.49297285e-06,  6.38443995e-06,  8.31171513e-06]],\n",
       "\n",
       "       [[-5.41960716e-06, -8.87977886e-06, -4.83142376e-06, ...,\n",
       "         -1.06075835e-06,  3.81311703e-06,  3.37471104e-06],\n",
       "        [-2.66474795e-06, -6.16723728e-06, -2.82996774e-06, ...,\n",
       "         -2.37342000e-06,  1.84261775e-06,  1.16418672e-06],\n",
       "        [-5.36058760e-06, -7.79808283e-06, -3.75095940e-06, ...,\n",
       "         -9.14170682e-07,  3.16302729e-06,  2.81543660e-06],\n",
       "        ...,\n",
       "        [ 6.56143713e-06,  8.78540993e-06,  5.03154659e-06, ...,\n",
       "          5.81492090e-06,  8.70530307e-08, -2.51367092e-07],\n",
       "        [ 2.36841130e-06,  4.03412008e-06,  2.48615861e-06, ...,\n",
       "          9.25022316e-06,  5.59920120e-06,  4.17075443e-06],\n",
       "        [ 7.18502283e-06,  1.13081388e-05,  5.82792997e-06, ...,\n",
       "          2.35912013e-06, -3.74796271e-06, -2.15562153e-06]],\n",
       "\n",
       "       [[ 1.44105947e-06, -1.15785205e-06,  3.50043154e-06, ...,\n",
       "         -1.53787982e-06, -6.06135488e-07,  7.72539079e-07],\n",
       "        [ 8.27097118e-07, -2.73051113e-09,  2.51141667e-06, ...,\n",
       "          1.48506486e-06,  1.58919251e-06,  2.67636776e-06],\n",
       "        [-6.06524825e-07, -2.46514344e-06, -2.40478665e-07, ...,\n",
       "         -4.52019739e-06, -3.12825656e-06, -2.07871532e-06],\n",
       "        ...,\n",
       "        [-2.02621388e-06, -8.74377966e-07, -2.41636086e-06, ...,\n",
       "          5.66723347e-06,  3.04639339e-06,  6.00567579e-07],\n",
       "        [-3.86352658e-06, -4.04366827e-06, -3.95781422e-06, ...,\n",
       "         -2.50661206e-06, -4.70745373e-06, -7.08495998e-06],\n",
       "        [-4.65135425e-07,  1.36040449e-07, -1.44783425e-06, ...,\n",
       "          1.43974626e-06,  6.76206648e-07, -8.39547813e-08]]]),\n",
       "       array([[[ 8.04682827e-06,  8.17350388e-06,  9.21587372e-06, ...,\n",
       "         -3.78962421e-06, -2.68078470e-06,  1.06326789e-07],\n",
       "        [ 5.48203993e-06,  4.94591904e-06,  6.43925714e-06, ...,\n",
       "         -3.05477786e-06, -2.26816821e-06,  4.27955568e-07],\n",
       "        [ 4.95413399e-06,  5.88545895e-06,  6.45717239e-06, ...,\n",
       "         -1.74604917e-06, -1.77691722e-06, -4.11562920e-08],\n",
       "        ...,\n",
       "        [-5.54928875e-06, -5.40585995e-06, -5.13767481e-06, ...,\n",
       "         -2.13492870e-06, -2.65795875e-06, -3.80028009e-06],\n",
       "        [-1.56567931e-06, -6.37501478e-07, -1.36028588e-06, ...,\n",
       "         -2.70406914e-06, -3.03315783e-06, -5.38953733e-06],\n",
       "        [-8.52618408e-06, -8.62997246e-06, -9.73737144e-06, ...,\n",
       "          4.38656521e-06,  4.25161219e-06,  1.54093337e-06]],\n",
       "\n",
       "       [[-9.54429340e-06, -1.32807732e-05, -9.11772346e-06, ...,\n",
       "         -5.47300220e-07,  1.56976551e-07, -1.83997869e-06],\n",
       "        [-6.00547600e-06, -1.02004433e-05, -7.44273329e-06, ...,\n",
       "          5.73150039e-07,  8.97250891e-07, -1.67747450e-06],\n",
       "        [-7.65393019e-06, -9.48823357e-06, -6.07305241e-06, ...,\n",
       "         -1.98162878e-06, -8.69327009e-07, -1.78241467e-06],\n",
       "        ...,\n",
       "        [ 1.69130554e-05,  2.04389668e-05,  1.94853516e-05, ...,\n",
       "         -1.55580115e-06,  9.73523021e-07,  1.02587080e-06],\n",
       "        [ 1.02534666e-05,  1.45531254e-05,  1.36245403e-05, ...,\n",
       "         -1.74047196e-06, -1.23929000e-06,  6.11519217e-07],\n",
       "        [ 1.11883087e-05,  1.70015583e-05,  1.28253307e-05, ...,\n",
       "         -1.86406448e-07, -1.49814308e-06,  1.98956501e-06]],\n",
       "\n",
       "       [[ 3.42755270e-06,  2.67281556e-06,  1.21761763e-06, ...,\n",
       "         -5.48990202e-06, -4.75509310e-06, -1.85382438e-06],\n",
       "        [ 5.52627611e-06,  3.70059562e-06,  2.44901347e-06, ...,\n",
       "         -4.72621775e-06, -3.77263141e-06, -2.19663286e-06],\n",
       "        [ 1.19652724e-06,  5.90414584e-07, -5.27689308e-08, ...,\n",
       "         -3.46343851e-06, -3.62407351e-06, -1.54315996e-06],\n",
       "        ...,\n",
       "        [-2.18232059e-06,  4.24623299e-06,  7.14409733e-06, ...,\n",
       "          2.84891081e-06,  1.36354470e-06,  1.17615056e-06],\n",
       "        [-2.94369817e-06,  2.38007903e-06,  3.43256307e-06, ...,\n",
       "          5.76108122e-06,  3.74305868e-06,  3.16106105e-06],\n",
       "        [-8.65537643e-06, -4.88054037e-06, -4.04521847e-06, ...,\n",
       "          5.15128040e-06,  4.44237995e-06,  4.21540451e-06]],\n",
       "\n",
       "       ...,\n",
       "\n",
       "       [[ 1.22872388e-06,  9.36116040e-07, -2.91318506e-07, ...,\n",
       "         -9.78972256e-07, -1.68972063e-06, -7.76169240e-07],\n",
       "        [ 1.51620674e-06,  1.70410657e-06,  4.98801887e-07, ...,\n",
       "         -5.16788960e-07, -9.37890112e-07, -1.38999954e-07],\n",
       "        [ 6.63050711e-07,  6.51084125e-07, -1.57165781e-07, ...,\n",
       "         -9.35652971e-07, -1.61825371e-06, -4.50245589e-07],\n",
       "        ...,\n",
       "        [-2.43162084e-06, -4.40967894e-06, -2.67257929e-06, ...,\n",
       "          2.88450718e-06,  3.58013248e-06,  1.62070787e-06],\n",
       "        [-1.34908545e-06, -3.33857965e-06, -1.43486488e-06, ...,\n",
       "          1.45990086e-06,  3.00525570e-06,  1.25782824e-06],\n",
       "        [-2.49415207e-06, -4.16380358e-06, -2.61761951e-06, ...,\n",
       "          2.08155179e-06,  2.21301198e-06,  3.01554173e-07]],\n",
       "\n",
       "       [[-4.53747332e-07,  6.49567127e-07,  2.07888752e-07, ...,\n",
       "          2.58164072e-06, -5.39015643e-08,  5.66578269e-07],\n",
       "        [-1.10724235e-06,  2.15941310e-07,  6.64584339e-07, ...,\n",
       "          1.20521224e-06, -3.89362156e-07,  3.88103127e-07],\n",
       "        [ 4.85906124e-07,  1.47657037e-06,  1.21576440e-06, ...,\n",
       "          2.16138911e-06,  4.15173054e-07, -4.85847473e-07],\n",
       "        ...,\n",
       "        [ 3.98138094e-06,  3.77350950e-06,  1.25781071e-06, ...,\n",
       "         -2.67550945e-06, -7.72421241e-07,  1.03681064e-06],\n",
       "        [ 3.29380846e-06,  2.76356816e-06,  1.43543983e-06, ...,\n",
       "          2.45258898e-07,  2.23412323e-06,  3.61195397e-06],\n",
       "        [ 6.82447910e-07, -1.25302589e-06, -2.19169831e-06, ...,\n",
       "         -3.89078021e-06, -1.77361059e-06, -9.69104290e-07]],\n",
       "\n",
       "       [[-8.75060201e-07, -1.30596697e-06, -1.83509564e-06, ...,\n",
       "          2.03598714e-06,  2.56975889e-07,  2.16659713e-06],\n",
       "        [-3.46707791e-07, -9.54730749e-07, -1.23552918e-06, ...,\n",
       "          9.92249429e-07,  1.94263369e-07,  1.64348173e-06],\n",
       "        [-9.98124063e-07, -1.20282936e-06, -1.07607949e-06, ...,\n",
       "         -2.88653612e-07, -1.72904968e-06,  2.22677752e-07],\n",
       "        ...,\n",
       "        [-3.50131154e-06, -7.28864551e-07, -2.81152427e-07, ...,\n",
       "          9.13514316e-07,  2.53713655e-06,  2.35609126e-06],\n",
       "        [-1.53490877e-06, -1.08980775e-07, -1.57113463e-07, ...,\n",
       "         -3.56939626e-06, -2.29634762e-06, -2.18571472e-06],\n",
       "        [-7.78748155e-07,  1.26070812e-07, -4.73584235e-07, ...,\n",
       "          3.17609954e-06,  3.54318595e-06,  1.18583226e-06]]]),\n",
       "       array([[[ 2.90877390e-06,  1.32733274e-06,  1.21938634e-06, ...,\n",
       "          6.79187775e-07,  2.38541508e-06,  7.55852818e-07],\n",
       "        [ 2.25842285e-06,  9.15897608e-07,  6.02073789e-07, ...,\n",
       "         -2.07361728e-08,  1.10438538e-06, -4.60169800e-08],\n",
       "        [ 1.57636118e-06,  4.98556271e-08,  9.86096740e-07, ...,\n",
       "          6.56999350e-07,  2.09348893e-06,  7.10624337e-07],\n",
       "        ...,\n",
       "        [-1.78153086e-06, -1.34627032e-06, -4.67404991e-07, ...,\n",
       "         -1.87699616e-06, -2.21274805e-06, -2.12558627e-06],\n",
       "        [-1.82153797e-06, -1.31958640e-06, -1.59254149e-07, ...,\n",
       "         -1.44849432e-06, -2.43469906e-06, -1.62728870e-06],\n",
       "        [-2.11912680e-06, -7.60276318e-07, -1.84878677e-07, ...,\n",
       "         -5.85677505e-07, -1.39757407e-06, -8.48090827e-07]],\n",
       "\n",
       "       [[-5.50255013e-06, -5.54126596e-06, -1.95379853e-06, ...,\n",
       "         -3.37400317e-06, -4.50679541e-06, -3.30958819e-06],\n",
       "        [-3.97603655e-06, -3.35188699e-06, -8.77348781e-07, ...,\n",
       "         -2.31604385e-06, -3.13539886e-06, -2.35619020e-06],\n",
       "        [-4.51425314e-06, -4.82656145e-06, -2.66672444e-06, ...,\n",
       "         -2.94594169e-06, -3.89684606e-06, -2.28245950e-06],\n",
       "        ...,\n",
       "        [ 4.37965345e-06,  3.98376656e-06,  4.07192326e-06, ...,\n",
       "          2.70912337e-06,  3.37901998e-06,  2.91975689e-06],\n",
       "        [ 4.09193087e-06,  4.44213343e-06,  4.38985634e-06, ...,\n",
       "          1.02159750e-06,  1.78274751e-06,  1.68583727e-06],\n",
       "        [ 4.64946222e-06,  4.45809460e-06,  3.35545349e-06, ...,\n",
       "          2.59654379e-06,  2.88016748e-06,  2.03838658e-06]],\n",
       "\n",
       "       [[ 5.73367453e-06,  3.84899759e-06,  5.12230778e-06, ...,\n",
       "          1.18136811e-06,  1.20535232e-08,  1.38811362e-06],\n",
       "        [ 3.65943718e-06,  2.69954848e-06,  3.21156812e-06, ...,\n",
       "          1.65494823e-06,  8.20275784e-07,  2.10918045e-06],\n",
       "        [ 4.01187944e-06,  2.26890516e-06,  4.01995373e-06, ...,\n",
       "         -4.84301001e-08, -5.58662713e-07,  6.60103858e-07],\n",
       "        ...,\n",
       "        [-4.89431858e-06, -2.08440042e-06, -3.62943268e-06, ...,\n",
       "         -3.18154007e-07,  3.78922641e-07, -1.27972519e-06],\n",
       "        [-5.08908272e-06, -3.11685491e-06, -3.73763514e-06, ...,\n",
       "         -4.42618430e-07,  4.50992197e-07, -1.96322882e-06],\n",
       "        [-5.26918507e-06, -1.67375708e-06, -4.05502176e-06, ...,\n",
       "         -6.60744190e-07,  8.11852515e-08, -1.65734577e-06]],\n",
       "\n",
       "       ...,\n",
       "\n",
       "       [[ 9.28198147e-06,  6.53747892e-06,  9.53343868e-06, ...,\n",
       "         -1.40005624e-06, -3.18889439e-07, -1.11868763e-06],\n",
       "        [ 5.80696583e-06,  3.88373303e-06,  6.15101862e-06, ...,\n",
       "          9.09416199e-07,  2.15233612e-06,  1.58335638e-06],\n",
       "        [ 9.13519859e-06,  6.16718102e-06,  1.01386299e-05, ...,\n",
       "         -2.97401333e-06, -2.89597201e-06, -3.49360251e-06],\n",
       "        ...,\n",
       "        [-7.35187387e-06, -3.80816245e-06, -7.59447956e-06, ...,\n",
       "         -1.85467148e-06, -1.02590275e-06,  4.38168049e-08],\n",
       "        [-4.40674591e-06, -4.91680086e-07, -4.16469240e-06, ...,\n",
       "         -5.27682495e-06, -4.45986748e-06, -3.31024003e-06],\n",
       "        [-9.86125088e-06, -3.91867948e-06, -1.15400658e-05, ...,\n",
       "         -3.35432887e-07, -1.50634503e-06, -3.41850609e-07]],\n",
       "\n",
       "       [[-1.95554245e-06, -2.02018094e-06, -2.45454288e-06, ...,\n",
       "          2.53990769e-06,  6.85701966e-08, -1.35213101e-06],\n",
       "        [-2.99706435e-06, -2.40470409e-06, -3.08120751e-06, ...,\n",
       "          2.09111309e-06, -5.49148679e-07, -1.15809810e-06],\n",
       "        [-1.73561573e-06, -2.49868870e-06, -2.06854582e-06, ...,\n",
       "          2.83958769e-06,  7.58512199e-07, -5.47465146e-07],\n",
       "        ...,\n",
       "        [-2.49012184e-06, -1.76688337e-06, -1.86613035e-06, ...,\n",
       "          4.73848999e-07,  1.36176229e-06,  1.02423453e-06],\n",
       "        [ 7.80864954e-07,  5.62931597e-07,  9.39650595e-07, ...,\n",
       "         -1.73287004e-07,  1.33418274e-06,  1.31192613e-06],\n",
       "        [ 2.58323431e-06,  2.14186406e-06,  2.42467976e-06, ...,\n",
       "         -1.78803086e-06,  5.16369760e-07,  1.20767617e-06]],\n",
       "\n",
       "       [[-2.02224660e-06,  5.62912762e-07, -2.63848782e-06, ...,\n",
       "         -4.15995866e-07,  1.56684861e-07,  2.57959187e-07],\n",
       "        [-1.61525214e-06,  5.43489873e-07, -1.86081052e-06, ...,\n",
       "          1.03491926e-06,  2.28169584e-06,  1.97312021e-06],\n",
       "        [-2.10481858e-06, -4.04466271e-07, -2.96627378e-06, ...,\n",
       "         -1.56963789e-06, -1.49224544e-06, -1.28812790e-06],\n",
       "        ...,\n",
       "        [ 8.88978660e-07,  9.44984376e-07,  2.29249859e-06, ...,\n",
       "         -4.42667818e-06, -4.06046867e-06, -4.09177065e-06],\n",
       "        [ 9.24033105e-07,  8.19607973e-08,  1.87717569e-06, ...,\n",
       "         -3.54688644e-06, -4.17039585e-06, -3.59065866e-06],\n",
       "        [ 1.65378380e-06,  3.15014571e-07,  2.55782557e-06, ...,\n",
       "         -1.09029543e-06, -1.60765862e-06, -2.34178400e-06]]]),\n",
       "       array([[[-2.09320140e-06,  4.40637887e-07, -3.25670242e-06, ...,\n",
       "          5.38217115e-06,  3.60157204e-06,  6.05805874e-06],\n",
       "        [-8.82718086e-07,  1.18778980e-06, -2.31093884e-06, ...,\n",
       "          3.74105859e-06,  1.92074943e-06,  3.96155810e-06],\n",
       "        [-1.47151983e-06,  7.26922750e-07, -1.04848063e-06, ...,\n",
       "          2.92751145e-06,  2.28289151e-06,  4.30406713e-06],\n",
       "        ...,\n",
       "        [ 2.38207078e-06, -1.50031447e-06,  1.53681111e-06, ...,\n",
       "         -4.47781026e-07, -1.93797827e-06, -3.45542431e-06],\n",
       "        [ 8.87224555e-07, -2.70404530e-06,  2.58950233e-06, ...,\n",
       "         -2.31465340e-06, -8.92441869e-07, -5.28674936e-06],\n",
       "        [ 4.12271786e-06, -5.01637161e-07,  3.76885700e-06, ...,\n",
       "         -7.83117414e-07,  1.44386888e-08, -4.27178812e-06]],\n",
       "\n",
       "       [[ 2.17163980e-07,  2.92729306e-06,  2.59529805e-06, ...,\n",
       "         -6.83766508e-06, -7.53334999e-06, -8.53345203e-06],\n",
       "        [ 7.22447157e-07,  2.20303607e-06,  2.55427814e-06, ...,\n",
       "         -3.34730959e-06, -3.62937117e-06, -4.00625086e-06],\n",
       "        [-5.09919524e-07,  1.17111099e-06,  9.74255741e-07, ...,\n",
       "         -8.65098190e-06, -8.93153000e-06, -9.27949715e-06],\n",
       "        ...,\n",
       "        [ 7.80213356e-07, -9.63681281e-07,  2.22710419e-06, ...,\n",
       "          8.35883522e-06,  9.51266098e-06,  1.10231133e-05],\n",
       "        [-3.57078266e-06, -6.58121777e-06, -6.95717335e-06, ...,\n",
       "          1.91045475e-06,  3.20596004e-06,  6.03112268e-06],\n",
       "        [-8.31182718e-07, -3.42316961e-06, -1.29866815e-06, ...,\n",
       "          5.45248127e-06,  6.62132692e-06,  8.79479408e-06]],\n",
       "\n",
       "       [[-5.44719028e-06, -1.49391878e-06,  1.58416128e-06, ...,\n",
       "          3.63080215e-06,  5.30970526e-06,  4.02711391e-06],\n",
       "        [-4.94243860e-06, -2.26631737e-06, -4.15027663e-08, ...,\n",
       "          3.49574447e-06,  4.28019667e-06,  4.07602501e-06],\n",
       "        [-2.39737344e-06,  5.95986426e-07,  2.45448256e-06, ...,\n",
       "          1.11528349e-06,  2.52722931e-06,  1.43745732e-06],\n",
       "        ...,\n",
       "        [ 8.15939426e-06,  7.10377026e-06,  1.63649285e-06, ...,\n",
       "         -3.24595881e-06, -7.01424694e-06, -4.00361109e-06],\n",
       "        [ 8.73225498e-06,  6.31759024e-06,  3.38422394e-06, ...,\n",
       "         -5.77925873e-06, -9.00528336e-06, -8.88885212e-06],\n",
       "        [ 7.03847218e-06,  7.10848093e-06,  2.25344014e-06, ...,\n",
       "         -2.64047146e-06, -6.88554621e-06, -4.78662586e-06]],\n",
       "\n",
       "       ...,\n",
       "\n",
       "       [[ 3.06689739e-09,  2.47639000e-07, -3.15658855e-06, ...,\n",
       "         -1.34702015e-05, -1.10473309e-05, -6.73321390e-06],\n",
       "        [-3.75623345e-07, -4.85876769e-07, -1.69663453e-06, ...,\n",
       "         -7.87365532e-06, -5.75936270e-06, -2.93070221e-06],\n",
       "        [ 1.30136943e-06,  1.99626958e-06, -2.59404469e-06, ...,\n",
       "         -1.20067511e-05, -1.10523806e-05, -6.44774055e-06],\n",
       "        ...,\n",
       "        [-2.94683623e-06, -6.29518127e-06,  3.55387592e-06, ...,\n",
       "          2.27455044e-06,  5.41708565e-06,  4.41409159e-06],\n",
       "        [ 2.99776554e-07,  6.77573800e-07, -1.40553713e-06, ...,\n",
       "          4.23086834e-06,  1.64024639e-06,  9.74592686e-07],\n",
       "        [-1.12623990e-06, -9.86811578e-07,  2.85778999e-06, ...,\n",
       "          3.38397908e-06,  3.35734725e-06,  4.08159161e-06]],\n",
       "\n",
       "       [[ 2.98875690e-06,  3.75580001e-06,  3.37459230e-06, ...,\n",
       "          8.19385290e-07, -1.78315735e-06, -7.52816796e-07],\n",
       "        [ 2.20580414e-07,  1.43463206e-06,  1.68224657e-06, ...,\n",
       "          4.60181713e-07, -7.58019209e-07, -1.16643190e-06],\n",
       "        [ 6.11795092e-06,  5.31313372e-06,  3.71207094e-06, ...,\n",
       "          1.34689772e-06, -7.07055092e-07,  9.63295043e-07],\n",
       "        ...,\n",
       "        [-9.76571274e-06, -7.15914297e-06, -6.70911694e-06, ...,\n",
       "          6.00565553e-07,  3.34078884e-06,  1.98256195e-06],\n",
       "        [ 5.54677665e-07, -1.66319191e-06, -1.65391415e-07, ...,\n",
       "          4.41356468e-06,  5.60985041e-06,  5.09203863e-06],\n",
       "        [-5.59188700e-06, -1.46263826e-06, -3.56440973e-06, ...,\n",
       "         -1.83638573e-06,  2.49756575e-06,  4.13793802e-07]],\n",
       "\n",
       "       [[-7.62083721e-06, -5.23771667e-06, -2.19003463e-06, ...,\n",
       "         -3.52808809e-06, -2.14797473e-06, -4.08735943e-06],\n",
       "        [-6.19881821e-06, -5.12576675e-06, -2.61411595e-06, ...,\n",
       "         -1.33696640e-06, -4.15540546e-07, -2.00469947e-06],\n",
       "        [-3.85970736e-06, -9.21426356e-07,  9.22884762e-07, ...,\n",
       "         -3.26267052e-06, -2.59944510e-06, -3.91730642e-06],\n",
       "        ...,\n",
       "        [ 4.19733286e-06,  1.88879681e-06, -1.55109465e-07, ...,\n",
       "          8.10153866e-06,  7.10102701e-06,  9.27044201e-06],\n",
       "        [ 5.53955317e-06,  3.39312267e-06,  2.45964766e-06, ...,\n",
       "          5.31656027e-06,  2.31907487e-06,  5.28067112e-06],\n",
       "        [ 6.51663828e-06,  5.06261444e-06,  2.92327189e-06, ...,\n",
       "          8.17980766e-06,  4.12770414e-06,  9.40591431e-06]]]),\n",
       "       array([[[ 1.40029898e-05,  1.32945290e-05,  1.33520489e-05, ...,\n",
       "         -3.61777353e-06, -4.41047573e-06, -5.18788815e-06],\n",
       "        [ 1.28165817e-05,  1.16554899e-05,  1.26042728e-05, ...,\n",
       "         -4.22016287e-06, -4.82076120e-06, -5.76330853e-06],\n",
       "        [ 1.30238886e-05,  1.30473795e-05,  1.27759066e-05, ...,\n",
       "         -3.23459888e-06, -3.78933358e-06, -4.67492199e-06],\n",
       "        ...,\n",
       "        [-4.73721218e-06, -6.89628744e-06, -9.28525639e-06, ...,\n",
       "          5.57285309e-06,  4.64615965e-06,  3.56138492e-06],\n",
       "        [-3.58923554e-06, -1.93351495e-06, -7.08760405e-06, ...,\n",
       "         -2.16246843e-08,  8.57786596e-07, -5.24898291e-07],\n",
       "        [-8.94965649e-06, -1.03584461e-05, -1.50223742e-05, ...,\n",
       "          4.79816389e-06,  4.57104301e-06,  5.64697170e-06]],\n",
       "\n",
       "       [[-1.14860821e-06, -9.18511569e-07, -1.76807547e-06, ...,\n",
       "         -2.19701362e-06, -3.45181394e-06, -2.72491241e-06],\n",
       "        [-6.38103604e-07, -8.07211161e-07, -2.03668976e-06, ...,\n",
       "         -2.65583515e-06, -3.38137579e-06, -2.74628305e-06],\n",
       "        [-2.24062252e-06, -9.66977835e-07, -1.21765852e-06, ...,\n",
       "          1.30730295e-06, -1.01567364e-06, -8.88203263e-07],\n",
       "        ...,\n",
       "        [ 2.59282017e-06,  2.40699267e-06,  4.30765629e-06, ...,\n",
       "         -1.23559797e-06, -3.94226956e-06, -1.28608871e-06],\n",
       "        [ 4.75449276e-06,  7.23942566e-06,  9.52895164e-06, ...,\n",
       "          5.29373550e-06,  5.39501429e-07,  3.81075978e-06],\n",
       "        [-6.60103112e-08,  8.12678412e-09,  1.56241620e-06, ...,\n",
       "         -1.45551130e-07,  2.29293033e-08,  8.26404512e-07]],\n",
       "\n",
       "       [[-8.59413743e-07, -4.54851180e-07,  1.67610145e-06, ...,\n",
       "         -1.55624998e-06, -4.18245411e-06, -2.97786474e-06],\n",
       "        [-1.32232702e-06, -3.55272800e-07,  1.87649000e-06, ...,\n",
       "         -1.45881391e-06, -3.66432929e-06, -2.98326969e-06],\n",
       "        [ 2.92065740e-08, -9.60918367e-07,  1.41952264e-06, ...,\n",
       "          3.51741165e-07, -1.82718968e-06, -1.54170609e-06],\n",
       "        ...,\n",
       "        [ 5.18426001e-07,  4.58376437e-07, -1.82720304e-06, ...,\n",
       "         -1.93145895e-06, -1.92391440e-07,  1.05089509e-06],\n",
       "        [ 5.66472673e-06, -1.49048960e-06,  6.59128547e-07, ...,\n",
       "         -3.22461009e-06, -3.51141238e-06, -2.70565152e-06],\n",
       "        [ 5.65432489e-07,  4.46986884e-07, -3.54021931e-06, ...,\n",
       "         -9.75746691e-07,  1.11653602e-06,  3.24200439e-06]],\n",
       "\n",
       "       ...,\n",
       "\n",
       "       [[-2.08969307e-06, -1.17940426e-06, -3.33464742e-07, ...,\n",
       "         -3.51381183e-06, -1.28539670e-06, -8.34954262e-07],\n",
       "        [-2.23280102e-07,  9.22081828e-07,  2.00735211e-06, ...,\n",
       "         -1.31463575e-06, -1.11679338e-07,  1.17897010e-06],\n",
       "        [-4.64368534e-06, -4.96096230e-06, -4.92597389e-06, ...,\n",
       "         -6.18341827e-06, -4.36628771e-06, -4.52359056e-06],\n",
       "        ...,\n",
       "        [-3.07596374e-06, -9.13435876e-07, -2.98574746e-07, ...,\n",
       "         -5.92485487e-07, -3.37720656e-06, -1.05408335e-06],\n",
       "        [ 1.58878660e-06,  2.72720814e-06,  5.46250391e-06, ...,\n",
       "         -8.54510117e-06, -1.29551153e-05, -1.45194235e-05],\n",
       "        [ 1.24924362e-07,  8.93378317e-07,  3.16164613e-07, ...,\n",
       "          3.49198413e-06,  1.92330730e-06,  2.89050388e-06]],\n",
       "\n",
       "       [[-1.46320045e-06,  3.91835064e-07,  5.40911674e-07, ...,\n",
       "          7.30886173e-06,  5.54935360e-06,  7.92154837e-06],\n",
       "        [-6.60955369e-07,  8.73528600e-07,  6.38710141e-07, ...,\n",
       "          7.46356010e-06,  5.66942930e-06,  7.45417595e-06],\n",
       "        [-2.54204941e-06, -6.22275233e-07,  7.25956321e-07, ...,\n",
       "          4.40582609e-06,  3.22610402e-06,  5.48615217e-06],\n",
       "        ...,\n",
       "        [ 3.66134477e-06, -7.58860946e-07,  9.74088788e-07, ...,\n",
       "         -4.16632271e-06, -1.79910064e-06, -6.74803782e-06],\n",
       "        [ 7.96182752e-07, -2.64063311e-06, -1.37389719e-07, ...,\n",
       "         -3.46221328e-08, -3.02074766e-06, -2.38058662e-06],\n",
       "        [ 1.46872973e-06, -1.00390124e-06, -5.83680630e-07, ...,\n",
       "         -4.98774195e-06, -1.77384448e-06, -3.89884853e-06]],\n",
       "\n",
       "       [[-6.21821761e-07,  1.74027526e-06, -1.30232072e-06, ...,\n",
       "          9.16392446e-07,  1.28719115e-06,  1.92791724e-06],\n",
       "        [-1.75286901e-06,  6.52100623e-07, -1.65733624e-06, ...,\n",
       "         -1.05213153e-06, -5.62049329e-07,  2.59975791e-08],\n",
       "        [ 1.14523208e-06,  2.81502271e-06, -9.75760996e-07, ...,\n",
       "          3.54512239e-06,  3.34512472e-06,  3.71443343e-06],\n",
       "        ...,\n",
       "        [-3.91262650e-06, -9.28375912e-06, -1.97386050e-06, ...,\n",
       "         -3.47250724e-06, -2.17101216e-06, -3.64029431e-06],\n",
       "        [-2.23275280e-06, -5.72793436e-06, -7.02658081e-06, ...,\n",
       "          3.57857823e-06, -2.63055861e-07,  2.20789933e-06],\n",
       "        [ 4.59636211e-06,  1.85024190e-06,  4.00019503e-06, ...,\n",
       "         -4.21487421e-07, -1.22341526e-06, -1.32022488e-06]]])],\n",
       "      dtype=object)"
      ]
     },
     "execution_count": 106,
     "metadata": {},
     "output_type": "execute_result"
    }
   ],
   "source": [
    "pp_rh_raw"
   ]
  },
  {
   "cell_type": "code",
   "execution_count": null,
   "metadata": {},
   "outputs": [],
   "source": []
  },
  {
   "cell_type": "code",
   "execution_count": 107,
   "metadata": {},
   "outputs": [
    {
     "data": {
      "text/plain": [
       "(61, 1250)"
      ]
     },
     "execution_count": 107,
     "metadata": {},
     "output_type": "execute_result"
    }
   ],
   "source": [
    "pp_rh_raw[4][3].shape"
   ]
  },
  {
   "cell_type": "code",
   "execution_count": null,
   "metadata": {},
   "outputs": [],
   "source": []
  },
  {
   "cell_type": "markdown",
   "metadata": {},
   "source": [
    "Get HFD over the set time window"
   ]
  },
  {
   "cell_type": "code",
   "execution_count": 39,
   "metadata": {},
   "outputs": [],
   "source": [
    "window_start_sec = 0\n",
    "window_size = 2\n",
    "freq = 250\n",
    "\n",
    "k = 7"
   ]
  },
  {
   "cell_type": "code",
   "execution_count": 60,
   "metadata": {},
   "outputs": [
    {
     "name": "stdout",
     "output_type": "stream",
     "text": [
      "Calculating HFD with window start 0 window size 500 step 1\n",
      "Calculating HFD with window start 0 window size 500 step 1\n",
      "Calculating HFD with window start 0 window size 500 step 1\n",
      "Calculating HFD with window start 0 window size 500 step 1\n",
      "Calculating HFD with window start 0 window size 500 step 1\n",
      "Calculating HFD with window start 0 window size 500 step 1\n",
      "Calculating HFD with window start 0 window size 500 step 1\n",
      "Calculating HFD with window start 0 window size 500 step 1\n",
      "Calculating HFD with window start 0 window size 500 step 1\n",
      "Calculating HFD with window start 0 window size 500 step 1\n",
      "Calculating HFD with window start 0 window size 500 step 1\n",
      "Calculating HFD with window start 0 window size 500 step 1\n",
      "Calculating HFD with window start 0 window size 500 step 1\n",
      "Calculating HFD with window start 0 window size 500 step 1\n",
      "Calculating HFD with window start 0 window size 500 step 1\n",
      "Calculating HFD with window start 0 window size 500 step 1\n",
      "Calculating HFD with window start 0 window size 500 step 1\n",
      "Calculating HFD with window start 0 window size 500 step 1\n",
      "Calculating HFD with window start 0 window size 500 step 1\n"
     ]
    }
   ],
   "source": [
    "pp_rh = np.array([patient_array_to_hfd(patient, window_start=int(window_start_sec*freq), window_size=window_size*freq, k=k) for patient in pp_rh_raw])\n",
    "pnp_rh = np.array([patient_array_to_hfd(patient, window_start=int(window_start_sec*freq), window_size=window_size*freq, k=k) for patient in pnp_rh_raw])"
   ]
  },
  {
   "cell_type": "markdown",
   "metadata": {},
   "source": [
    "Alternatively, get HFD over all windows of the specified size"
   ]
  },
  {
   "cell_type": "code",
   "execution_count": 40,
   "metadata": {},
   "outputs": [
    {
     "name": "stdout",
     "output_type": "stream",
     "text": [
      "Calculating HFD with window start 0 window size 500 step 1\n",
      "Calculating HFD with window start 0 window size 500 step 1\n",
      "Calculating HFD with window start 0 window size 500 step 1\n",
      "Calculating HFD with window start 0 window size 500 step 1\n",
      "Calculating HFD with window start 0 window size 500 step 1\n",
      "Calculating HFD with window start 0 window size 500 step 1\n",
      "Calculating HFD with window start 0 window size 500 step 1\n",
      "Calculating HFD with window start 0 window size 500 step 1\n",
      "Calculating HFD with window start 0 window size 500 step 1\n",
      "Calculating HFD with window start 0 window size 500 step 1\n",
      "Calculating HFD with window start 250 window size 500 step 1\n",
      "Calculating HFD with window start 250 window size 500 step 1\n",
      "Calculating HFD with window start 250 window size 500 step 1\n",
      "Calculating HFD with window start 250 window size 500 step 1\n",
      "Calculating HFD with window start 250 window size 500 step 1\n",
      "Calculating HFD with window start 250 window size 500 step 1\n",
      "Calculating HFD with window start 250 window size 500 step 1\n",
      "Calculating HFD with window start 250 window size 500 step 1\n",
      "Calculating HFD with window start 250 window size 500 step 1\n",
      "Calculating HFD with window start 250 window size 500 step 1\n",
      "Calculating HFD with window start 500 window size 500 step 1\n",
      "Calculating HFD with window start 500 window size 500 step 1\n",
      "Calculating HFD with window start 500 window size 500 step 1\n",
      "Calculating HFD with window start 500 window size 500 step 1\n",
      "Calculating HFD with window start 500 window size 500 step 1\n",
      "Calculating HFD with window start 500 window size 500 step 1\n",
      "Calculating HFD with window start 500 window size 500 step 1\n",
      "Calculating HFD with window start 500 window size 500 step 1\n",
      "Calculating HFD with window start 500 window size 500 step 1\n",
      "Calculating HFD with window start 500 window size 500 step 1\n",
      "Calculating HFD with window start 750 window size 500 step 1\n",
      "Calculating HFD with window start 750 window size 500 step 1\n",
      "Calculating HFD with window start 750 window size 500 step 1\n",
      "Calculating HFD with window start 750 window size 500 step 1\n",
      "Calculating HFD with window start 750 window size 500 step 1\n",
      "Calculating HFD with window start 750 window size 500 step 1\n",
      "Calculating HFD with window start 750 window size 500 step 1\n",
      "Calculating HFD with window start 750 window size 500 step 1\n",
      "Calculating HFD with window start 750 window size 500 step 1\n",
      "Calculating HFD with window start 750 window size 500 step 1\n",
      "Calculating HFD with window start 0 window size 500 step 1\n",
      "Calculating HFD with window start 0 window size 500 step 1\n",
      "Calculating HFD with window start 0 window size 500 step 1\n",
      "Calculating HFD with window start 0 window size 500 step 1\n",
      "Calculating HFD with window start 0 window size 500 step 1\n",
      "Calculating HFD with window start 0 window size 500 step 1\n",
      "Calculating HFD with window start 0 window size 500 step 1\n",
      "Calculating HFD with window start 0 window size 500 step 1\n",
      "Calculating HFD with window start 0 window size 500 step 1\n",
      "Calculating HFD with window start 250 window size 500 step 1\n",
      "Calculating HFD with window start 250 window size 500 step 1\n",
      "Calculating HFD with window start 250 window size 500 step 1\n",
      "Calculating HFD with window start 250 window size 500 step 1\n",
      "Calculating HFD with window start 250 window size 500 step 1\n",
      "Calculating HFD with window start 250 window size 500 step 1\n",
      "Calculating HFD with window start 250 window size 500 step 1\n",
      "Calculating HFD with window start 250 window size 500 step 1\n",
      "Calculating HFD with window start 250 window size 500 step 1\n",
      "Calculating HFD with window start 500 window size 500 step 1\n",
      "Calculating HFD with window start 500 window size 500 step 1\n",
      "Calculating HFD with window start 500 window size 500 step 1\n",
      "Calculating HFD with window start 500 window size 500 step 1\n",
      "Calculating HFD with window start 500 window size 500 step 1\n",
      "Calculating HFD with window start 500 window size 500 step 1\n",
      "Calculating HFD with window start 500 window size 500 step 1\n",
      "Calculating HFD with window start 500 window size 500 step 1\n",
      "Calculating HFD with window start 500 window size 500 step 1\n",
      "Calculating HFD with window start 750 window size 500 step 1\n",
      "Calculating HFD with window start 750 window size 500 step 1\n",
      "Calculating HFD with window start 750 window size 500 step 1\n",
      "Calculating HFD with window start 750 window size 500 step 1\n",
      "Calculating HFD with window start 750 window size 500 step 1\n",
      "Calculating HFD with window start 750 window size 500 step 1\n",
      "Calculating HFD with window start 750 window size 500 step 1\n",
      "Calculating HFD with window start 750 window size 500 step 1\n",
      "Calculating HFD with window start 750 window size 500 step 1\n"
     ]
    }
   ],
   "source": [
    "pp_all_windows = [[patient_array_to_hfd(patient, window_start=window*freq, window_size=window_size*freq, k=k) for patient in pp_rh_raw] for window in range(0,4)]\n",
    "pnp_all_windows = [[patient_array_to_hfd(patient, window_start=window*freq, window_size=window_size*freq, k=k) for patient in pnp_rh_raw] for window in range(0,4)]\n"
   ]
  },
  {
   "cell_type": "code",
   "execution_count": 41,
   "metadata": {},
   "outputs": [],
   "source": [
    "np_all = np.array(pp_all_windows)"
   ]
  },
  {
   "cell_type": "code",
   "execution_count": 42,
   "metadata": {},
   "outputs": [
    {
     "data": {
      "text/plain": [
       "530"
      ]
     },
     "execution_count": 42,
     "metadata": {},
     "output_type": "execute_result"
    }
   ],
   "source": [
    "np.sum([s.shape[0] for s in np_all[0]])"
   ]
  },
  {
   "cell_type": "code",
   "execution_count": 43,
   "metadata": {},
   "outputs": [
    {
     "data": {
      "text/plain": [
       "(4, 530, 61)"
      ]
     },
     "execution_count": 43,
     "metadata": {},
     "output_type": "execute_result"
    }
   ],
   "source": [
    "pp_all_windows_repetitions = np.array([np.vstack([np.array([[ channel[0] for channel in repetition ] for repetition in patient ]) for patient in window ]) for window in np.array(pp_all_windows) ])\n",
    "pnp_all_windows_repetitions = np.array([np.vstack([np.array([[ channel[0] for channel in repetition ] for repetition in patient ]) for patient in window ]) for window in np.array(pnp_all_windows) ])\n",
    "\n",
    "pp_all_windows_repetitions.shape"
   ]
  },
  {
   "cell_type": "code",
   "execution_count": 44,
   "metadata": {},
   "outputs": [
    {
     "data": {
      "text/plain": [
       "(61, 4)"
      ]
     },
     "execution_count": 44,
     "metadata": {},
     "output_type": "execute_result"
    }
   ],
   "source": [
    "pp_mean_all_windows = np.mean(pp_all_windows_repetitions, axis=1).transpose()\n",
    "pnp_mean_all_windows = np.mean(pnp_all_windows_repetitions, axis=1).transpose()\n",
    "pnp_mean_all_windows.shape"
   ]
  },
  {
   "cell_type": "code",
   "execution_count": 45,
   "metadata": {},
   "outputs": [
    {
     "data": {
      "text/plain": [
       "(61, 4)"
      ]
     },
     "execution_count": 45,
     "metadata": {},
     "output_type": "execute_result"
    }
   ],
   "source": [
    "diff_all_windows = pp_mean_all_windows - pnp_mean_all_windows\n",
    "diff_all_windows = diff_all_windows - diff_all_windows.mean()\n",
    "diff_all_windows.shape"
   ]
  },
  {
   "cell_type": "code",
   "execution_count": 50,
   "metadata": {},
   "outputs": [
    {
     "data": {
      "text/plain": [
       "NormaltestResult(statistic=6.237889128480401, pvalue=0.044203798077269985)"
      ]
     },
     "execution_count": 50,
     "metadata": {},
     "output_type": "execute_result"
    }
   ],
   "source": [
    "import scipy\n",
    "scipy.stats.normaltest(diff_all_windows.flatten())"
   ]
  },
  {
   "cell_type": "code",
   "execution_count": 48,
   "metadata": {},
   "outputs": [],
   "source": [
    "max_hfd = np.max([np.max(pp_all_windows_repetitions), np.max(pnp_all_windows_repetitions)])\n",
    "min_hfd = np.min([np.min(pp_all_windows_repetitions), np.min(pnp_all_windows_repetitions)])"
   ]
  },
  {
   "cell_type": "code",
   "execution_count": 116,
   "metadata": {},
   "outputs": [
    {
     "data": {
      "text/plain": [
       "2.0088042433392497"
      ]
     },
     "execution_count": 116,
     "metadata": {},
     "output_type": "execute_result"
    }
   ],
   "source": [
    "np.max(pp_all_windows_repetitions)"
   ]
  },
  {
   "cell_type": "code",
   "execution_count": 117,
   "metadata": {},
   "outputs": [
    {
     "data": {
      "text/plain": [
       "1.855078571120525"
      ]
     },
     "execution_count": 117,
     "metadata": {},
     "output_type": "execute_result"
    }
   ],
   "source": [
    "np.mean(pp_all_windows_repetitions, axis=1).transpose()[14][1]"
   ]
  },
  {
   "cell_type": "code",
   "execution_count": 102,
   "metadata": {
    "scrolled": true
   },
   "outputs": [
    {
     "data": {
      "image/png": "[encoded data removed]",
      "text/plain": [
       "<Figure size 1080x1080 with 1 Axes>"
      ]
     },
     "metadata": {
      "needs_background": "light"
     },
     "output_type": "display_data"
    }
   ],
   "source": [
    "title = 'Normalized HFD values in ' + limb['name'] + ' within a 2s sliding window, HV; k=7'\n",
    "graph_name = 'window_hv_' + limb['name']\n",
    "\n",
    "plt.figure(figsize=[15,15])\n",
    "plt.title(title)\n",
    "plt.ylabel('Channel')\n",
    "plt.yticks(ticks=range(61), labels=ch_names)\n",
    "plt.xticks(range(4))\n",
    "plt.xlabel('Time window start (s)')\n",
    "plt.imshow(pp_mean_all_windows)\n",
    "plt.savefig('./results/graphs/' + limb['name'] + '/' + graph_name + '.eps')\n",
    "plt.savefig('./results/graphs/' + limb['name'] + '/' + graph_name + '.jpg')"
   ]
  },
  {
   "cell_type": "code",
   "execution_count": 85,
   "metadata": {},
   "outputs": [
    {
     "data": {
      "image/png": "[encoded data removed]",
      "text/plain": [
       "<Figure size 1080x1080 with 1 Axes>"
      ]
     },
     "metadata": {
      "needs_background": "light"
     },
     "output_type": "display_data"
    }
   ],
   "source": [
    "title = 'Normalized HFD values in ' + limb['name'] + ' within a 2s sliding window, PNP; k=7'\n",
    "graph_name = 'window_pnp_' + limb['name']\n",
    "\n",
    "plt.figure(figsize=[15,15])\n",
    "plt.title(title)\n",
    "plt.ylabel('Channel')\n",
    "plt.yticks(ticks=range(61), labels=ch_names)\n",
    "plt.xticks(range(4))\n",
    "plt.xlabel('Time window start (s)')\n",
    "plt.imshow(pnp_mean_all_windows)\n",
    "plt.savefig('./results/graphs/' + limb['name'] + '/' + graph_name + '.eps')\n",
    "plt.savefig('./results/graphs/' + limb['name'] + '/' + graph_name + '.jpg')"
   ]
  },
  {
   "cell_type": "code",
   "execution_count": 26,
   "metadata": {},
   "outputs": [
    {
     "data": {
      "text/plain": [
       "array([-0.00362196,  0.00719893,  0.00538829, -0.0068483 ])"
      ]
     },
     "execution_count": 26,
     "metadata": {},
     "output_type": "execute_result"
    }
   ],
   "source": [
    "diff_all_windows[ch_names.index('P1')]"
   ]
  },
  {
   "cell_type": "code",
   "execution_count": 27,
   "metadata": {},
   "outputs": [
    {
     "data": {
      "text/plain": [
       "-0.014372063369156874"
      ]
     },
     "execution_count": 27,
     "metadata": {},
     "output_type": "execute_result"
    }
   ],
   "source": [
    "diff_all_windows.min()"
   ]
  },
  {
   "cell_type": "code",
   "execution_count": 28,
   "metadata": {},
   "outputs": [
    {
     "data": {
      "text/plain": [
       "(7, 0)"
      ]
     },
     "execution_count": 28,
     "metadata": {},
     "output_type": "execute_result"
    }
   ],
   "source": [
    "asda = np.abs(diff_all_windows - np.zeros(diff_all_windows.shape))\n",
    "np.unravel_index(asda.argmin(), asda.shape)"
   ]
  },
  {
   "cell_type": "code",
   "execution_count": 29,
   "metadata": {},
   "outputs": [
    {
     "data": {
      "text/plain": [
       "'CP2'"
      ]
     },
     "execution_count": 29,
     "metadata": {},
     "output_type": "execute_result"
    }
   ],
   "source": [
    "ch_names[20]"
   ]
  },
  {
   "cell_type": "code",
   "execution_count": 118,
   "metadata": {},
   "outputs": [
    {
     "data": {
      "image/png": "[encoded data removed]",
      "text/plain": [
       "<Figure size 1080x1080 with 1 Axes>"
      ]
     },
     "metadata": {
      "needs_background": "light"
     },
     "output_type": "display_data"
    }
   ],
   "source": [
    "title = str('Normalized HFD difference in ' + limb['name'] + ' between HV and PP within a 2s sliding window; k=7\\n' +\n",
    "        'Red indicates HV > PP; Blue indicates HV < PP; white indicates similar values')\n",
    "graph_name = 'window_hv_pp_diff_' + limb['name']\n",
    "\n",
    "plt.figure(figsize=[15,15])\n",
    "plt.title(title)\n",
    "plt.ylabel('Channel')\n",
    "plt.yticks(ticks=range(61), labels=ch_names)\n",
    "plt.xticks(range(4))\n",
    "plt.xlabel('Time window start (s)')\n",
    "plt.imshow(diff_all_windows, cmap='bwr')\n",
    "\n",
    "plt.savefig('./results/graphs/' + limb['name'] + '/' + graph_name + '.eps')\n",
    "plt.savefig('./results/graphs/' + limb['name'] + '/' + graph_name + '.jpg')"
   ]
  },
  {
   "cell_type": "code",
   "execution_count": null,
   "metadata": {},
   "outputs": [],
   "source": []
  },
  {
   "cell_type": "code",
   "execution_count": null,
   "metadata": {},
   "outputs": [],
   "source": []
  },
  {
   "cell_type": "code",
   "execution_count": null,
   "metadata": {},
   "outputs": [],
   "source": [
    "pnp_rh[0].shape"
   ]
  },
  {
   "cell_type": "code",
   "execution_count": null,
   "metadata": {},
   "outputs": [],
   "source": [
    "pp_rh[3].shape"
   ]
  },
  {
   "cell_type": "code",
   "execution_count": null,
   "metadata": {},
   "outputs": [],
   "source": [
    "pp_and_pnp = np.concatenate((pp_rh, pnp_rh))\n",
    "pp_and_pnp.shape"
   ]
  },
  {
   "cell_type": "markdown",
   "metadata": {},
   "source": [
    "It's time to learn"
   ]
  },
  {
   "cell_type": "code",
   "execution_count": 15,
   "metadata": {},
   "outputs": [],
   "source": [
    "log_proc_method = 'HFD'\n",
    "log_dataset = 'PP/PNP-' + limb['name']\n",
    "log_db_name = 'log.db'\n",
    "\n",
    "log_notes = {'window start': window_start_sec, 'window size': window_size, 'k': k}"
   ]
  },
  {
   "cell_type": "code",
   "execution_count": null,
   "metadata": {},
   "outputs": [],
   "source": []
  },
  {
   "cell_type": "code",
   "execution_count": null,
   "metadata": {},
   "outputs": [],
   "source": [
    "nu = 0.652008\n",
    "channels = [12, 16]\n",
    "\n",
    "acc, sensitivity, specificity, avg_acc = classify_nusvm_cross_valid(pp_rh, pnp_rh, nu, channels, ch_names,\n",
    "                                                                    log_db_name=log_db_name,\n",
    "                                                                    log_txt=True,\n",
    "                                                                    log_proc_method=log_proc_method,\n",
    "                                                                    log_dataset=log_dataset,\n",
    "                                                                    log_notes=log_notes,\n",
    "                                                                    log_details=False\n",
    "                                                                   )\n",
    "print('Accuracy', acc)\n",
    "print('Sensitivity', sensitivity)\n",
    "print('Specificity', specificity)\n",
    "print('Average accuracy', avg_acc)"
   ]
  },
  {
   "cell_type": "code",
   "execution_count": null,
   "metadata": {},
   "outputs": [],
   "source": []
  },
  {
   "cell_type": "code",
   "execution_count": null,
   "metadata": {},
   "outputs": [],
   "source": [
    "previous_channels=[17, 17, 24]\n",
    "nu = 0.7\n",
    "\n",
    "max_acc = {'index': 0, 'value': 0}\n",
    "for channel in range(61):        \n",
    "    accuracy, sensitivity, specificity, avg_accuracy = classify_nusvm_cross_valid(pp_rh, pnp_rh, nu, \n",
    "                                                                                  previous_channels + [channel], \n",
    "                                                                                  verbose=False,\n",
    "                                                                                  log_db_name=log_db_name,\n",
    "                                                                                  log_txt=True,\n",
    "                                                                                  log_proc_method=log_proc_method,\n",
    "                                                                                  log_dataset=log_dataset,\n",
    "                                                                                  log_notes=log_notes\n",
    "                                                                                 )\n",
    "    print(channel, accuracy, sensitivity, specificity, avg_accuracy)\n",
    "        \n",
    "    if accuracy > max_acc['value']:\n",
    "        max_acc['index'] = channel\n",
    "        max_acc['value'] = accuracy\n",
    "\n",
    "print('Max accuracy:', max_acc['index'], max_acc['value'])"
   ]
  },
  {
   "cell_type": "code",
   "execution_count": null,
   "metadata": {},
   "outputs": [],
   "source": []
  },
  {
   "cell_type": "code",
   "execution_count": null,
   "metadata": {},
   "outputs": [],
   "source": [
    "channels = [17, 17, 24]\n",
    "\n",
    "max_acc = {'index': 0, 'value': 0}\n",
    "for param in np.arange(0.1, 0.8, 0.001):    \n",
    "    accuracy, sensitivity, specificity, avg_accuracy = classify_nusvm_cross_valid(pp_rh, pnp_rh, param,\n",
    "                                                                                  channels,\n",
    "                                                                                  verbose=False, \n",
    "                                                                                  log_db_name=log_db_name,\n",
    "                                                                                  log_txt=True,\n",
    "                                                                                  log_proc_method=log_proc_method,\n",
    "                                                                                  log_dataset=log_dataset,\n",
    "                                                                                  log_notes=log_notes\n",
    "                                                                                 ) \n",
    "                                                      \n",
    "\n",
    "    print(param, accuracy, sensitivity, specificity, avg_accuracy)\n",
    "        \n",
    "    if accuracy > max_acc['value']:\n",
    "        max_acc['index'] = param\n",
    "        max_acc['value'] = accuracy\n",
    "\n",
    "        \n",
    "print('Max accuracy:', max_acc['index'], max_acc['value'])"
   ]
  },
  {
   "cell_type": "code",
   "execution_count": null,
   "metadata": {},
   "outputs": [],
   "source": []
  },
  {
   "cell_type": "code",
   "execution_count": null,
   "metadata": {},
   "outputs": [],
   "source": [
    "best_acc = classify_nusvm_param_seach(pp_rh, pnp_rh, 0.1, 0.81, 0.025, ch_names, log_txt=True, log_proc_method=log_proc_method,\n",
    "                                                                                  log_dataset=log_dataset,\n",
    "                                                                                  log_notes=log_notes)"
   ]
  },
  {
   "cell_type": "code",
   "execution_count": null,
   "metadata": {},
   "outputs": [],
   "source": [
    "best_acc"
   ]
  },
  {
   "cell_type": "code",
   "execution_count": null,
   "metadata": {},
   "outputs": [],
   "source": []
  }
 ],
 "metadata": {
  "kernelspec": {
   "display_name": "Python 3",
   "language": "python",
   "name": "python3"
  },
  "language_info": {
   "codemirror_mode": {
    "name": "ipython",
    "version": 3
   },
   "file_extension": ".py",
   "mimetype": "text/x-python",
   "name": "python",
   "nbconvert_exporter": "python",
   "pygments_lexer": "ipython3",
   "version": "3.7.3"
  }
 },
 "nbformat": 4,
 "nbformat_minor": 2
}
