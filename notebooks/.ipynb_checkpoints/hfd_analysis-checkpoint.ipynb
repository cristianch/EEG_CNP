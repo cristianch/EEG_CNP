{
 "cells": [
  {
   "cell_type": "code",
   "execution_count": 1,
   "metadata": {},
   "outputs": [],
   "source": [
    "# Only run this once\n",
    "import os\n",
    "os.chdir('..')"
   ]
  },
  {
   "cell_type": "code",
   "execution_count": 2,
   "metadata": {},
   "outputs": [],
   "source": [
    "import numpy as np\n",
    "import scipy\n",
    "from scipy import signal\n",
    "import mne\n",
    "import glob\n",
    "import HiguchiFractalDimension as hfd\n",
    "import csv\n",
    "import matplotlib.pyplot as plt\n",
    "from matplotlib import colors\n",
    "\n",
    "import utils.logger\n",
    "from utils.experiments_classification import classify_nusvm_cross_valid, classify_nusvm_param_seach"
   ]
  },
  {
   "cell_type": "code",
   "execution_count": 3,
   "metadata": {},
   "outputs": [
    {
     "data": {
      "text/plain": [
       "<module 'utils.experiments_setup' from 'D:\\\\etc\\\\uni\\\\yr5\\\\project\\\\workspace\\\\eeg-cnp-final-year-project\\\\utils\\\\experiments_setup.py'>"
      ]
     },
     "execution_count": 3,
     "metadata": {},
     "output_type": "execute_result"
    }
   ],
   "source": [
    "import importlib\n",
    "importlib.reload(utils.experiments_classification)\n",
    "importlib.reload(utils.experiments_setup)"
   ]
  },
  {
   "cell_type": "code",
   "execution_count": null,
   "metadata": {},
   "outputs": [],
   "source": []
  },
  {
   "cell_type": "code",
   "execution_count": 4,
   "metadata": {},
   "outputs": [],
   "source": [
    "def patient_array_to_hfd(repetitions, window_start=None, window_size=500, step_size=1, k=7):\n",
    "    '''\n",
    "    Apply HFD to all repetitions from given patient; input shape [n_repetitions, n_channels, n_features]\n",
    "    '''\n",
    "    if window_start != None:\n",
    "        print('Calculating HFD with window start', str(window_start), 'window size', str(window_size), 'step', str(step_size))\n",
    "        return np.array([np.array([[hfd.hfd(channel[window_start:window_start+window_size:step_size], num_k=k)] for channel in repetition]) for repetition in repetitions])\n",
    "    print('Calculating HFD over entire time series')\n",
    "    return np.array([np.array([[hfd.hfd(channel, num_k=k)] for channel in repetition]) for repetition in repetitions])"
   ]
  },
  {
   "cell_type": "code",
   "execution_count": null,
   "metadata": {},
   "outputs": [],
   "source": []
  },
  {
   "cell_type": "markdown",
   "metadata": {},
   "source": [
    "# Apply HFD to datasets"
   ]
  },
  {
   "cell_type": "code",
   "execution_count": 5,
   "metadata": {},
   "outputs": [],
   "source": [
    "# Returns relevant datasets (f.e. all right-hand recordings of healthy patients) as a list of np arrays\n",
    "def get_datasets(patient_type_location, recording_type_expression):\n",
    "    if recording_type_expression != l_new['extension']:\n",
    "        sets_locations = glob.glob(patient_type_location + recording_type_expression + suffix)\n",
    "    else:\n",
    "        sets_locations = glob.glob(patient_type_location + recording_type_expression)\n",
    "    \n",
    "    sets = []\n",
    "    for path in sets_locations: \n",
    "        sets.append(mne.io.read_epochs_eeglab(path))\n",
    "        \n",
    "    return np.array(np.array([(patient._data) for patient in sets]))\n",
    "\n",
    "\n",
    "def get_channel_names(patient_type_location, recording_type_expression):\n",
    "    '''\n",
    "    Returns the list of channel names in order\n",
    "    Only works if ALL chosen datasets use the same channels\n",
    "    '''\n",
    "    if recording_type_expression != l_new:\n",
    "        sets_locations = glob.glob(patient_type_location + recording_type_expression + suffix)\n",
    "    else:\n",
    "        sets_locations = glob.glob(patient_type_location + recording_type_expression)\n",
    "        \n",
    "    return mne.io.read_epochs_eeglab(sets_locations[0]).ch_names\n",
    "    "
   ]
  },
  {
   "cell_type": "code",
   "execution_count": 6,
   "metadata": {},
   "outputs": [
    {
     "data": {
      "text/plain": [
       "['./../../data_new/raw/PdP\\\\PdP_3\\\\PdP_3_L.set',\n",
       " './../../data_new/raw/PdP\\\\PdP_4\\\\PdP_4_L.set',\n",
       " './../../data_new/raw/PdP\\\\PdP_5\\\\PdP_5_L.set',\n",
       " './../../data_new/raw/PdP\\\\PdP_6\\\\PdP_6_L.set',\n",
       " './../../data_new/raw/PdP\\\\PdP_7\\\\PdP_7_L.set']"
      ]
     },
     "execution_count": 6,
     "metadata": {},
     "output_type": "execute_result"
    }
   ],
   "source": [
    "root = './../../'\n",
    "suffix = '*.set'\n",
    "\n",
    "location_healthy = root + 'data/raw/HV/*/'\n",
    "location_pain = root + 'data/raw/PP/*/'\n",
    "location_nopain = root + 'data/raw/PnP/*/'\n",
    "\n",
    "location_pwp = root + 'data_new/raw/PwP/*/'\n",
    "location_pdp = root + 'data_new/raw/PdP/*/'\n",
    "location_pnp = root + 'data_new/raw/PnP/*/'\n",
    "\n",
    "\n",
    "rh = {'name': 'RH', 'extension': '*_RH*'}\n",
    "lh = {'name': 'LH', 'extension': '*_LH*'}\n",
    "l_new = {'name': 'L', 'extension': '*_L.set'}   # NO SUFFIX\n",
    "l_old = {'name': 'L', 'extension': '*_L_*'}\n",
    "\n",
    "sets_healthy_rh = glob.glob(location_pdp + l_new['extension'])\n",
    "sets_healthy_rh"
   ]
  },
  {
   "cell_type": "code",
   "execution_count": 75,
   "metadata": {},
   "outputs": [
    {
     "name": "stdout",
     "output_type": "stream",
     "text": [
      "Extracting parameters from ./../../data/raw/PP\\PP1\\PP1_F1_L_Removed_ICA.set...\n"
     ]
    },
    {
     "name": "stderr",
     "output_type": "stream",
     "text": [
      "<ipython-input-5-a40508d617f2>:10: RuntimeWarning: At least one epoch has multiple events. Only the latency of the first event will be retained.\n",
      "  sets.append(mne.io.read_epochs_eeglab(path))\n"
     ]
    },
    {
     "name": "stdout",
     "output_type": "stream",
     "text": [
      "57 matching events found\n",
      "No baseline correction applied\n",
      "Not setting metadata\n",
      "0 projection items activated\n",
      "Ready.\n",
      "Extracting parameters from ./../../data/raw/PP\\PP10\\PP10_F1_L_Removed_ICA.set...\n"
     ]
    },
    {
     "name": "stderr",
     "output_type": "stream",
     "text": [
      "<ipython-input-5-a40508d617f2>:10: RuntimeWarning: At least one epoch has multiple events. Only the latency of the first event will be retained.\n",
      "  sets.append(mne.io.read_epochs_eeglab(path))\n"
     ]
    },
    {
     "name": "stdout",
     "output_type": "stream",
     "text": [
      "59 matching events found\n",
      "No baseline correction applied\n",
      "Not setting metadata\n",
      "0 projection items activated\n",
      "Ready.\n",
      "Extracting parameters from ./../../data/raw/PP\\PP11\\PP11_F1_L_Removed_ICA.set...\n"
     ]
    },
    {
     "name": "stderr",
     "output_type": "stream",
     "text": [
      "<ipython-input-5-a40508d617f2>:10: RuntimeWarning: At least one epoch has multiple events. Only the latency of the first event will be retained.\n",
      "  sets.append(mne.io.read_epochs_eeglab(path))\n"
     ]
    },
    {
     "name": "stdout",
     "output_type": "stream",
     "text": [
      "59 matching events found\n",
      "No baseline correction applied\n",
      "Not setting metadata\n",
      "0 projection items activated\n",
      "Ready.\n",
      "Extracting parameters from ./../../data/raw/PP\\PP2\\PP2_F1_L_Removed_ICA.set...\n",
      "51 matching events found\n",
      "No baseline correction applied\n"
     ]
    },
    {
     "name": "stderr",
     "output_type": "stream",
     "text": [
      "<ipython-input-5-a40508d617f2>:10: RuntimeWarning: At least one epoch has multiple events. Only the latency of the first event will be retained.\n",
      "  sets.append(mne.io.read_epochs_eeglab(path))\n"
     ]
    },
    {
     "name": "stdout",
     "output_type": "stream",
     "text": [
      "Not setting metadata\n",
      "0 projection items activated\n",
      "Ready.\n",
      "Extracting parameters from ./../../data/raw/PP\\PP3\\PP3_F1_L_Removed_ICA.set...\n"
     ]
    },
    {
     "name": "stderr",
     "output_type": "stream",
     "text": [
      "<ipython-input-5-a40508d617f2>:10: RuntimeWarning: At least one epoch has multiple events. Only the latency of the first event will be retained.\n",
      "  sets.append(mne.io.read_epochs_eeglab(path))\n"
     ]
    },
    {
     "name": "stdout",
     "output_type": "stream",
     "text": [
      "52 matching events found\n",
      "No baseline correction applied\n",
      "Not setting metadata\n",
      "0 projection items activated\n",
      "Ready.\n",
      "Extracting parameters from ./../../data/raw/PP\\PP4\\PP4_F1_L_Removed_ICA.set...\n"
     ]
    },
    {
     "name": "stderr",
     "output_type": "stream",
     "text": [
      "<ipython-input-5-a40508d617f2>:10: RuntimeWarning: At least one epoch has multiple events. Only the latency of the first event will be retained.\n",
      "  sets.append(mne.io.read_epochs_eeglab(path))\n"
     ]
    },
    {
     "name": "stdout",
     "output_type": "stream",
     "text": [
      "57 matching events found\n",
      "No baseline correction applied\n",
      "Not setting metadata\n",
      "0 projection items activated\n",
      "Ready.\n",
      "Extracting parameters from ./../../data/raw/PP\\PP5\\PP5_F1_L_Removed_ICA.set...\n"
     ]
    },
    {
     "name": "stderr",
     "output_type": "stream",
     "text": [
      "<ipython-input-5-a40508d617f2>:10: RuntimeWarning: At least one epoch has multiple events. Only the latency of the first event will be retained.\n",
      "  sets.append(mne.io.read_epochs_eeglab(path))\n"
     ]
    },
    {
     "name": "stdout",
     "output_type": "stream",
     "text": [
      "55 matching events found\n",
      "No baseline correction applied\n",
      "Not setting metadata\n",
      "0 projection items activated\n",
      "Ready.\n",
      "Extracting parameters from ./../../data/raw/PP\\PP6\\PP6_F1_L_Removed_ICA.set...\n",
      "32 matching events found\n"
     ]
    },
    {
     "name": "stderr",
     "output_type": "stream",
     "text": [
      "<ipython-input-5-a40508d617f2>:10: RuntimeWarning: At least one epoch has multiple events. Only the latency of the first event will be retained.\n",
      "  sets.append(mne.io.read_epochs_eeglab(path))\n"
     ]
    },
    {
     "name": "stdout",
     "output_type": "stream",
     "text": [
      "No baseline correction applied\n",
      "Not setting metadata\n",
      "0 projection items activated\n",
      "Ready.\n",
      "Extracting parameters from ./../../data/raw/PP\\PP7\\PP7_F1_L_Removed_ICA.set...\n",
      "52 matching events found\n"
     ]
    },
    {
     "name": "stderr",
     "output_type": "stream",
     "text": [
      "<ipython-input-5-a40508d617f2>:10: RuntimeWarning: At least one epoch has multiple events. Only the latency of the first event will be retained.\n",
      "  sets.append(mne.io.read_epochs_eeglab(path))\n"
     ]
    },
    {
     "name": "stdout",
     "output_type": "stream",
     "text": [
      "No baseline correction applied\n",
      "Not setting metadata\n",
      "0 projection items activated\n",
      "Ready.\n",
      "Extracting parameters from ./../../data/raw/PP\\PP9\\PP9_F1_L_Removed_ICA.set...\n"
     ]
    },
    {
     "name": "stderr",
     "output_type": "stream",
     "text": [
      "<ipython-input-5-a40508d617f2>:10: RuntimeWarning: At least one epoch has multiple events. Only the latency of the first event will be retained.\n",
      "  sets.append(mne.io.read_epochs_eeglab(path))\n"
     ]
    },
    {
     "name": "stdout",
     "output_type": "stream",
     "text": [
      "54 matching events found\n",
      "No baseline correction applied\n",
      "Not setting metadata\n",
      "0 projection items activated\n",
      "Ready.\n",
      "Extracting parameters from ./../../data/raw/PnP\\PnP1\\PnP1_F1_L_Removed_ICA.set...\n",
      "50 matching events found\n"
     ]
    },
    {
     "name": "stderr",
     "output_type": "stream",
     "text": [
      "<ipython-input-5-a40508d617f2>:10: RuntimeWarning: At least one epoch has multiple events. Only the latency of the first event will be retained.\n",
      "  sets.append(mne.io.read_epochs_eeglab(path))\n"
     ]
    },
    {
     "name": "stdout",
     "output_type": "stream",
     "text": [
      "No baseline correction applied\n",
      "Not setting metadata\n",
      "0 projection items activated\n",
      "Ready.\n",
      "Extracting parameters from ./../../data/raw/PnP\\PnP2\\PnP2_F1_L_Removed_ICA.set...\n"
     ]
    },
    {
     "name": "stderr",
     "output_type": "stream",
     "text": [
      "<ipython-input-5-a40508d617f2>:10: RuntimeWarning: At least one epoch has multiple events. Only the latency of the first event will be retained.\n",
      "  sets.append(mne.io.read_epochs_eeglab(path))\n"
     ]
    },
    {
     "name": "stdout",
     "output_type": "stream",
     "text": [
      "57 matching events found\n",
      "No baseline correction applied\n",
      "Not setting metadata\n",
      "0 projection items activated\n",
      "Ready.\n",
      "Extracting parameters from ./../../data/raw/PnP\\PnP3\\PnP3_F1_L_Removed_ICA.set...\n",
      "41 matching events found\n",
      "No baseline correction applied\n",
      "Not setting metadata\n",
      "0 projection items activated\n"
     ]
    },
    {
     "name": "stderr",
     "output_type": "stream",
     "text": [
      "<ipython-input-5-a40508d617f2>:10: RuntimeWarning: At least one epoch has multiple events. Only the latency of the first event will be retained.\n",
      "  sets.append(mne.io.read_epochs_eeglab(path))\n"
     ]
    },
    {
     "name": "stdout",
     "output_type": "stream",
     "text": [
      "Ready.\n",
      "Extracting parameters from ./../../data/raw/PnP\\PnP4\\PnP4_F1_L_Removed_ICA.set...\n"
     ]
    },
    {
     "name": "stderr",
     "output_type": "stream",
     "text": [
      "<ipython-input-5-a40508d617f2>:10: RuntimeWarning: At least one epoch has multiple events. Only the latency of the first event will be retained.\n",
      "  sets.append(mne.io.read_epochs_eeglab(path))\n"
     ]
    },
    {
     "name": "stdout",
     "output_type": "stream",
     "text": [
      "58 matching events found\n",
      "No baseline correction applied\n",
      "Not setting metadata\n",
      "0 projection items activated\n",
      "Ready.\n",
      "Extracting parameters from ./../../data/raw/PnP\\PnP5\\PnP5_F1_L_Removed_ICA.set...\n"
     ]
    },
    {
     "name": "stderr",
     "output_type": "stream",
     "text": [
      "<ipython-input-5-a40508d617f2>:10: RuntimeWarning: At least one epoch has multiple events. Only the latency of the first event will be retained.\n",
      "  sets.append(mne.io.read_epochs_eeglab(path))\n"
     ]
    },
    {
     "name": "stdout",
     "output_type": "stream",
     "text": [
      "50 matching events found\n",
      "No baseline correction applied\n",
      "Not setting metadata\n",
      "0 projection items activated\n",
      "Ready.\n",
      "Extracting parameters from ./../../data/raw/PnP\\PnP6\\PnP6_F1_L_Removed_ICA.set...\n",
      "53 matching events found\n"
     ]
    },
    {
     "name": "stderr",
     "output_type": "stream",
     "text": [
      "<ipython-input-5-a40508d617f2>:10: RuntimeWarning: At least one epoch has multiple events. Only the latency of the first event will be retained.\n",
      "  sets.append(mne.io.read_epochs_eeglab(path))\n"
     ]
    },
    {
     "name": "stdout",
     "output_type": "stream",
     "text": [
      "No baseline correction applied\n",
      "Not setting metadata\n",
      "0 projection items activated\n",
      "Ready.\n",
      "Extracting parameters from ./../../data/raw/PnP\\PnP7\\PnP7_F01_L_Removed_ICA.set...\n"
     ]
    },
    {
     "name": "stderr",
     "output_type": "stream",
     "text": [
      "<ipython-input-5-a40508d617f2>:10: RuntimeWarning: At least one epoch has multiple events. Only the latency of the first event will be retained.\n",
      "  sets.append(mne.io.read_epochs_eeglab(path))\n"
     ]
    },
    {
     "name": "stdout",
     "output_type": "stream",
     "text": [
      "58 matching events found\n",
      "No baseline correction applied\n",
      "Not setting metadata\n",
      "0 projection items activated\n",
      "Ready.\n",
      "Extracting parameters from ./../../data/raw/PnP\\PnP8\\PnP8_F1_L_Removed_ICA.set...\n"
     ]
    },
    {
     "name": "stderr",
     "output_type": "stream",
     "text": [
      "<ipython-input-5-a40508d617f2>:10: RuntimeWarning: At least one epoch has multiple events. Only the latency of the first event will be retained.\n",
      "  sets.append(mne.io.read_epochs_eeglab(path))\n"
     ]
    },
    {
     "name": "stdout",
     "output_type": "stream",
     "text": [
      "50 matching events found\n",
      "No baseline correction applied\n",
      "Not setting metadata\n",
      "0 projection items activated\n",
      "Ready.\n",
      "Extracting parameters from ./../../data/raw/PnP\\PnP9\\PnP9_F1_L_Removed_ICA.set...\n"
     ]
    },
    {
     "name": "stderr",
     "output_type": "stream",
     "text": [
      "<ipython-input-5-a40508d617f2>:10: RuntimeWarning: At least one epoch has multiple events. Only the latency of the first event will be retained.\n",
      "  sets.append(mne.io.read_epochs_eeglab(path))\n"
     ]
    },
    {
     "name": "stdout",
     "output_type": "stream",
     "text": [
      "55 matching events found\n",
      "No baseline correction applied\n",
      "Not setting metadata\n",
      "0 projection items activated\n",
      "Ready.\n",
      "Extracting parameters from ./../../data/raw/HV\\HV1\\HV1_F1_L_Removed_ICA.set...\n"
     ]
    },
    {
     "name": "stderr",
     "output_type": "stream",
     "text": [
      "<ipython-input-5-a40508d617f2>:10: RuntimeWarning: At least one epoch has multiple events. Only the latency of the first event will be retained.\n",
      "  sets.append(mne.io.read_epochs_eeglab(path))\n"
     ]
    },
    {
     "name": "stdout",
     "output_type": "stream",
     "text": [
      "56 matching events found\n",
      "No baseline correction applied\n",
      "Not setting metadata\n",
      "0 projection items activated\n",
      "Ready.\n",
      "Extracting parameters from ./../../data/raw/HV\\HV10\\HV10_F1_L_Removed_ICA.set...\n"
     ]
    },
    {
     "name": "stderr",
     "output_type": "stream",
     "text": [
      "<ipython-input-5-a40508d617f2>:10: RuntimeWarning: At least one epoch has multiple events. Only the latency of the first event will be retained.\n",
      "  sets.append(mne.io.read_epochs_eeglab(path))\n"
     ]
    },
    {
     "name": "stdout",
     "output_type": "stream",
     "text": [
      "53 matching events found\n",
      "No baseline correction applied\n",
      "Not setting metadata\n",
      "0 projection items activated\n",
      "Ready.\n",
      "Extracting parameters from ./../../data/raw/HV\\HV2\\HV2_F1_L_Removed_ICA.set...\n",
      "55 matching events found\n"
     ]
    },
    {
     "name": "stderr",
     "output_type": "stream",
     "text": [
      "<ipython-input-5-a40508d617f2>:10: RuntimeWarning: At least one epoch has multiple events. Only the latency of the first event will be retained.\n",
      "  sets.append(mne.io.read_epochs_eeglab(path))\n"
     ]
    },
    {
     "name": "stdout",
     "output_type": "stream",
     "text": [
      "No baseline correction applied\n",
      "Not setting metadata\n",
      "0 projection items activated\n",
      "Ready.\n",
      "Extracting parameters from ./../../data/raw/HV\\HV3\\HV3_F1_L_Removed_ICA.set...\n"
     ]
    },
    {
     "name": "stderr",
     "output_type": "stream",
     "text": [
      "<ipython-input-5-a40508d617f2>:10: RuntimeWarning: At least one epoch has multiple events. Only the latency of the first event will be retained.\n",
      "  sets.append(mne.io.read_epochs_eeglab(path))\n"
     ]
    },
    {
     "name": "stdout",
     "output_type": "stream",
     "text": [
      "58 matching events found\n",
      "No baseline correction applied\n",
      "Not setting metadata\n",
      "0 projection items activated\n",
      "Ready.\n",
      "Extracting parameters from ./../../data/raw/HV\\HV4\\HV4_F1_L_Removed_ICA.set...\n"
     ]
    },
    {
     "name": "stderr",
     "output_type": "stream",
     "text": [
      "<ipython-input-5-a40508d617f2>:10: RuntimeWarning: At least one epoch has multiple events. Only the latency of the first event will be retained.\n",
      "  sets.append(mne.io.read_epochs_eeglab(path))\n"
     ]
    },
    {
     "name": "stdout",
     "output_type": "stream",
     "text": [
      "54 matching events found\n",
      "No baseline correction applied\n",
      "Not setting metadata\n",
      "0 projection items activated\n",
      "Ready.\n",
      "Extracting parameters from ./../../data/raw/HV\\HV5\\HV5_F1_L_Removed_ICA.set...\n"
     ]
    },
    {
     "name": "stderr",
     "output_type": "stream",
     "text": [
      "<ipython-input-5-a40508d617f2>:10: RuntimeWarning: At least one epoch has multiple events. Only the latency of the first event will be retained.\n",
      "  sets.append(mne.io.read_epochs_eeglab(path))\n"
     ]
    },
    {
     "name": "stdout",
     "output_type": "stream",
     "text": [
      "58 matching events found\n",
      "No baseline correction applied\n",
      "Not setting metadata\n",
      "0 projection items activated\n",
      "Ready.\n",
      "Extracting parameters from ./../../data/raw/HV\\HV6\\HV6_F1_L_Removed_ICA.set...\n"
     ]
    },
    {
     "name": "stderr",
     "output_type": "stream",
     "text": [
      "<ipython-input-5-a40508d617f2>:10: RuntimeWarning: At least one epoch has multiple events. Only the latency of the first event will be retained.\n",
      "  sets.append(mne.io.read_epochs_eeglab(path))\n"
     ]
    },
    {
     "name": "stdout",
     "output_type": "stream",
     "text": [
      "59 matching events found\n",
      "No baseline correction applied\n",
      "Not setting metadata\n",
      "0 projection items activated\n",
      "Ready.\n",
      "Extracting parameters from ./../../data/raw/HV\\HV7\\HV7_F1_L_Removed_ICA.set...\n"
     ]
    },
    {
     "name": "stderr",
     "output_type": "stream",
     "text": [
      "<ipython-input-5-a40508d617f2>:10: RuntimeWarning: At least one epoch has multiple events. Only the latency of the first event will be retained.\n",
      "  sets.append(mne.io.read_epochs_eeglab(path))\n"
     ]
    },
    {
     "name": "stdout",
     "output_type": "stream",
     "text": [
      "59 matching events found\n",
      "No baseline correction applied\n",
      "Not setting metadata\n",
      "0 projection items activated\n",
      "Ready.\n",
      "Extracting parameters from ./../../data/raw/HV\\HV8\\HV8_F1_L_Removed_ICA.set...\n"
     ]
    },
    {
     "name": "stderr",
     "output_type": "stream",
     "text": [
      "<ipython-input-5-a40508d617f2>:10: RuntimeWarning: At least one epoch has multiple events. Only the latency of the first event will be retained.\n",
      "  sets.append(mne.io.read_epochs_eeglab(path))\n"
     ]
    },
    {
     "name": "stdout",
     "output_type": "stream",
     "text": [
      "53 matching events found\n",
      "No baseline correction applied\n",
      "Not setting metadata\n",
      "0 projection items activated\n",
      "Ready.\n",
      "Extracting parameters from ./../../data/raw/HV\\HV9\\HV9_F1_L_Removed_ICA.set...\n"
     ]
    },
    {
     "name": "stderr",
     "output_type": "stream",
     "text": [
      "<ipython-input-5-a40508d617f2>:10: RuntimeWarning: At least one epoch has multiple events. Only the latency of the first event will be retained.\n",
      "  sets.append(mne.io.read_epochs_eeglab(path))\n"
     ]
    },
    {
     "name": "stdout",
     "output_type": "stream",
     "text": [
      "54 matching events found\n",
      "No baseline correction applied\n",
      "Not setting metadata\n",
      "0 projection items activated\n",
      "Ready.\n"
     ]
    }
   ],
   "source": [
    "limb = l_old\n",
    "\n",
    "# PP/PNP\n",
    "pp_rh_raw = get_datasets(location_pain, limb['extension'])\n",
    "pnp_rh_raw = get_datasets(location_nopain, limb['extension'])\n",
    "hv_rh_raw = get_datasets(location_healthy, limb['extension'])\n",
    "\n",
    "# PDP/pnp\n",
    "#pp_rh_raw = get_datasets(location_pdp, limb['extension'])\n",
    "#pnp_rh_raw = get_datasets(location_pnp, limb['extension'])\n",
    "#hv_rh_raw = get_datasets(location_pwp, limb['extension'])"
   ]
  },
  {
   "cell_type": "markdown",
   "metadata": {},
   "source": [
    "Alternatively, use all limbs"
   ]
  },
  {
   "cell_type": "code",
   "execution_count": 9,
   "metadata": {},
   "outputs": [
    {
     "name": "stdout",
     "output_type": "stream",
     "text": [
      "Extracting parameters from ./../../data/raw/PP\\PP1\\PP1_F1_RH_Removed_ICA.set...\n",
      "57 matching events found\n",
      "No baseline correction applied\n",
      "Not setting metadata\n",
      "0 projection items activated\n",
      "Ready.\n",
      "Extracting parameters from ./../../data/raw/PP\\PP10\\PP10_F1_RH_Removed_ICA.set...\n",
      "57 matching events found\n",
      "No baseline correction applied\n",
      "Not setting metadata\n"
     ]
    },
    {
     "name": "stderr",
     "output_type": "stream",
     "text": [
      "<ipython-input-5-a40508d617f2>:10: RuntimeWarning: At least one epoch has multiple events. Only the latency of the first event will be retained.\n",
      "  sets.append(mne.io.read_epochs_eeglab(path))\n",
      "<ipython-input-5-a40508d617f2>:10: RuntimeWarning: At least one epoch has multiple events. Only the latency of the first event will be retained.\n",
      "  sets.append(mne.io.read_epochs_eeglab(path))\n"
     ]
    },
    {
     "name": "stdout",
     "output_type": "stream",
     "text": [
      "0 projection items activated\n",
      "Ready.\n",
      "Extracting parameters from ./../../data/raw/PP\\PP11\\PP11_F1_RH_Removed_ICA.set...\n",
      "59 matching events found\n",
      "No baseline correction applied\n",
      "Not setting metadata\n",
      "0 projection items activated\n",
      "Ready.\n",
      "Extracting parameters from ./../../data/raw/PP\\PP2\\PP2_F1_RH_Removed_ICA.set...\n",
      "54 matching events found\n",
      "No baseline correction applied\n",
      "Not setting metadata\n",
      "0 projection items activated\n"
     ]
    },
    {
     "name": "stderr",
     "output_type": "stream",
     "text": [
      "<ipython-input-5-a40508d617f2>:10: RuntimeWarning: At least one epoch has multiple events. Only the latency of the first event will be retained.\n",
      "  sets.append(mne.io.read_epochs_eeglab(path))\n",
      "<ipython-input-5-a40508d617f2>:10: RuntimeWarning: At least one epoch has multiple events. Only the latency of the first event will be retained.\n",
      "  sets.append(mne.io.read_epochs_eeglab(path))\n"
     ]
    },
    {
     "name": "stdout",
     "output_type": "stream",
     "text": [
      "Ready.\n",
      "Extracting parameters from ./../../data/raw/PP\\PP3\\PP3_F1_RH_Removed_ICA.set...\n",
      "51 matching events found\n",
      "No baseline correction applied\n",
      "Not setting metadata\n",
      "0 projection items activated\n",
      "Ready.\n",
      "Extracting parameters from ./../../data/raw/PP\\PP4\\PP4_F1_RH_Removed_ICA.set...\n",
      "58 matching events found\n",
      "No baseline correction applied\n",
      "Not setting metadata\n",
      "0 projection items activated\n",
      "Ready.\n"
     ]
    },
    {
     "name": "stderr",
     "output_type": "stream",
     "text": [
      "<ipython-input-5-a40508d617f2>:10: RuntimeWarning: At least one epoch has multiple events. Only the latency of the first event will be retained.\n",
      "  sets.append(mne.io.read_epochs_eeglab(path))\n",
      "<ipython-input-5-a40508d617f2>:10: RuntimeWarning: At least one epoch has multiple events. Only the latency of the first event will be retained.\n",
      "  sets.append(mne.io.read_epochs_eeglab(path))\n"
     ]
    },
    {
     "name": "stdout",
     "output_type": "stream",
     "text": [
      "Extracting parameters from ./../../data/raw/PP\\PP5\\PP5_F1_RH_Removed_ICA.set...\n",
      "56 matching events found\n",
      "No baseline correction applied\n",
      "Not setting metadata\n",
      "0 projection items activated\n",
      "Ready.\n",
      "Extracting parameters from ./../../data/raw/PP\\PP6\\PP6_F1_RH_Removed_ICA.set...\n",
      "32 matching events found\n",
      "No baseline correction applied\n",
      "Not setting metadata\n",
      "0 projection items activated\n",
      "Ready.\n"
     ]
    },
    {
     "name": "stderr",
     "output_type": "stream",
     "text": [
      "<ipython-input-5-a40508d617f2>:10: RuntimeWarning: At least one epoch has multiple events. Only the latency of the first event will be retained.\n",
      "  sets.append(mne.io.read_epochs_eeglab(path))\n",
      "<ipython-input-5-a40508d617f2>:10: RuntimeWarning: At least one epoch has multiple events. Only the latency of the first event will be retained.\n",
      "  sets.append(mne.io.read_epochs_eeglab(path))\n"
     ]
    },
    {
     "name": "stdout",
     "output_type": "stream",
     "text": [
      "Extracting parameters from ./../../data/raw/PP\\PP7\\PP7_F1_RH_Removed_ICA.set...\n",
      "52 matching events found\n",
      "No baseline correction applied\n",
      "Not setting metadata\n",
      "0 projection items activated\n",
      "Ready.\n",
      "Extracting parameters from ./../../data/raw/PP\\PP9\\PP9_F1_RH_Removed_ICA.set...\n",
      "54 matching events found\n",
      "No baseline correction applied\n",
      "Not setting metadata\n"
     ]
    },
    {
     "name": "stderr",
     "output_type": "stream",
     "text": [
      "<ipython-input-5-a40508d617f2>:10: RuntimeWarning: At least one epoch has multiple events. Only the latency of the first event will be retained.\n",
      "  sets.append(mne.io.read_epochs_eeglab(path))\n",
      "<ipython-input-5-a40508d617f2>:10: RuntimeWarning: At least one epoch has multiple events. Only the latency of the first event will be retained.\n",
      "  sets.append(mne.io.read_epochs_eeglab(path))\n"
     ]
    },
    {
     "name": "stdout",
     "output_type": "stream",
     "text": [
      "0 projection items activated\n",
      "Ready.\n",
      "Extracting parameters from ./../../data/raw/PnP\\PnP1\\PnP1_F1_RH_Removed_ICA.set...\n",
      "50 matching events found\n",
      "No baseline correction applied\n",
      "Not setting metadata\n",
      "0 projection items activated\n",
      "Ready.\n",
      "Extracting parameters from ./../../data/raw/PnP\\PnP2\\PnP2_F1_RH_Removed_ICA.set...\n",
      "54 matching events found\n",
      "No baseline correction applied\n",
      "Not setting metadata\n",
      "0 projection items activated\n",
      "Ready.\n"
     ]
    },
    {
     "name": "stderr",
     "output_type": "stream",
     "text": [
      "<ipython-input-5-a40508d617f2>:10: RuntimeWarning: At least one epoch has multiple events. Only the latency of the first event will be retained.\n",
      "  sets.append(mne.io.read_epochs_eeglab(path))\n",
      "<ipython-input-5-a40508d617f2>:10: RuntimeWarning: At least one epoch has multiple events. Only the latency of the first event will be retained.\n",
      "  sets.append(mne.io.read_epochs_eeglab(path))\n"
     ]
    },
    {
     "name": "stdout",
     "output_type": "stream",
     "text": [
      "Extracting parameters from ./../../data/raw/PnP\\PnP3\\PnP3_F1_RH_Removed_ICA.set...\n",
      "44 matching events found\n",
      "No baseline correction applied\n",
      "Not setting metadata\n",
      "0 projection items activated\n",
      "Ready.\n",
      "Extracting parameters from ./../../data/raw/PnP\\PnP4\\PnP4_F1_RH_Removed_ICA.set...\n",
      "55 matching events found\n",
      "No baseline correction applied\n",
      "Not setting metadata\n"
     ]
    },
    {
     "name": "stderr",
     "output_type": "stream",
     "text": [
      "<ipython-input-5-a40508d617f2>:10: RuntimeWarning: At least one epoch has multiple events. Only the latency of the first event will be retained.\n",
      "  sets.append(mne.io.read_epochs_eeglab(path))\n",
      "<ipython-input-5-a40508d617f2>:10: RuntimeWarning: At least one epoch has multiple events. Only the latency of the first event will be retained.\n",
      "  sets.append(mne.io.read_epochs_eeglab(path))\n"
     ]
    },
    {
     "name": "stdout",
     "output_type": "stream",
     "text": [
      "0 projection items activated\n",
      "Ready.\n",
      "Extracting parameters from ./../../data/raw/PnP\\PnP5\\PnP5_F1_RH_Removed_ICA.set...\n",
      "50 matching events found\n",
      "No baseline correction applied\n",
      "Not setting metadata\n",
      "0 projection items activated\n",
      "Ready.\n",
      "Extracting parameters from ./../../data/raw/PnP\\PnP6\\PnP6_F1_RH_Removed_ICA.set...\n",
      "55 matching events found\n",
      "No baseline correction applied\n",
      "Not setting metadata\n",
      "0 projection items activated\n",
      "Ready.\n"
     ]
    },
    {
     "name": "stderr",
     "output_type": "stream",
     "text": [
      "<ipython-input-5-a40508d617f2>:10: RuntimeWarning: At least one epoch has multiple events. Only the latency of the first event will be retained.\n",
      "  sets.append(mne.io.read_epochs_eeglab(path))\n",
      "<ipython-input-5-a40508d617f2>:10: RuntimeWarning: At least one epoch has multiple events. Only the latency of the first event will be retained.\n",
      "  sets.append(mne.io.read_epochs_eeglab(path))\n"
     ]
    },
    {
     "name": "stdout",
     "output_type": "stream",
     "text": [
      "Extracting parameters from ./../../data/raw/PnP\\PnP7\\PnP7_F01_RH_Removed_ICA.set...\n",
      "58 matching events found\n",
      "No baseline correction applied\n",
      "Not setting metadata\n",
      "0 projection items activated\n",
      "Ready.\n",
      "Extracting parameters from ./../../data/raw/PnP\\PnP8\\PnP8_F1_RH_Removed_ICA.set...\n",
      "53 matching events found\n",
      "No baseline correction applied\n",
      "Not setting metadata\n"
     ]
    },
    {
     "name": "stderr",
     "output_type": "stream",
     "text": [
      "<ipython-input-5-a40508d617f2>:10: RuntimeWarning: At least one epoch has multiple events. Only the latency of the first event will be retained.\n",
      "  sets.append(mne.io.read_epochs_eeglab(path))\n",
      "<ipython-input-5-a40508d617f2>:10: RuntimeWarning: At least one epoch has multiple events. Only the latency of the first event will be retained.\n",
      "  sets.append(mne.io.read_epochs_eeglab(path))\n"
     ]
    },
    {
     "name": "stdout",
     "output_type": "stream",
     "text": [
      "0 projection items activated\n",
      "Ready.\n",
      "Extracting parameters from ./../../data/raw/PnP\\PnP9\\PnP9_F1_RH_Removed_ICA.set...\n",
      "54 matching events found\n",
      "No baseline correction applied\n",
      "Not setting metadata\n",
      "0 projection items activated\n",
      "Ready.\n"
     ]
    },
    {
     "name": "stderr",
     "output_type": "stream",
     "text": [
      "<ipython-input-5-a40508d617f2>:10: RuntimeWarning: At least one epoch has multiple events. Only the latency of the first event will be retained.\n",
      "  sets.append(mne.io.read_epochs_eeglab(path))\n"
     ]
    },
    {
     "name": "stdout",
     "output_type": "stream",
     "text": [
      "Extracting parameters from ./../../data/raw/PP\\PP1\\PP1_F1_LH_Removed_ICA.set...\n"
     ]
    },
    {
     "name": "stderr",
     "output_type": "stream",
     "text": [
      "<ipython-input-5-a40508d617f2>:10: RuntimeWarning: At least one epoch has multiple events. Only the latency of the first event will be retained.\n",
      "  sets.append(mne.io.read_epochs_eeglab(path))\n"
     ]
    },
    {
     "name": "stdout",
     "output_type": "stream",
     "text": [
      "56 matching events found\n",
      "No baseline correction applied\n",
      "Not setting metadata\n",
      "0 projection items activated\n",
      "Ready.\n",
      "Extracting parameters from ./../../data/raw/PP\\PP10\\PP10_F1_LH_Removed_ICA.set...\n"
     ]
    },
    {
     "name": "stderr",
     "output_type": "stream",
     "text": [
      "<ipython-input-5-a40508d617f2>:10: RuntimeWarning: At least one epoch has multiple events. Only the latency of the first event will be retained.\n",
      "  sets.append(mne.io.read_epochs_eeglab(path))\n"
     ]
    },
    {
     "name": "stdout",
     "output_type": "stream",
     "text": [
      "60 matching events found\n",
      "No baseline correction applied\n",
      "Not setting metadata\n",
      "0 projection items activated\n",
      "Ready.\n",
      "Extracting parameters from ./../../data/raw/PP\\PP11\\PP11_F1_LH_Removed_ICA.set...\n"
     ]
    },
    {
     "name": "stderr",
     "output_type": "stream",
     "text": [
      "<ipython-input-5-a40508d617f2>:10: RuntimeWarning: At least one epoch has multiple events. Only the latency of the first event will be retained.\n",
      "  sets.append(mne.io.read_epochs_eeglab(path))\n"
     ]
    },
    {
     "name": "stdout",
     "output_type": "stream",
     "text": [
      "60 matching events found\n",
      "No baseline correction applied\n",
      "Not setting metadata\n",
      "0 projection items activated\n",
      "Ready.\n",
      "Extracting parameters from ./../../data/raw/PP\\PP2\\PP2_F1_LH_Removed_ICA.set...\n"
     ]
    },
    {
     "name": "stderr",
     "output_type": "stream",
     "text": [
      "<ipython-input-5-a40508d617f2>:10: RuntimeWarning: At least one epoch has multiple events. Only the latency of the first event will be retained.\n",
      "  sets.append(mne.io.read_epochs_eeglab(path))\n"
     ]
    },
    {
     "name": "stdout",
     "output_type": "stream",
     "text": [
      "54 matching events found\n",
      "No baseline correction applied\n",
      "Not setting metadata\n",
      "0 projection items activated\n",
      "Ready.\n",
      "Extracting parameters from ./../../data/raw/PP\\PP3\\PP3_F1_LH_Removed_ICA.set...\n",
      "51 matching events found\n"
     ]
    },
    {
     "name": "stderr",
     "output_type": "stream",
     "text": [
      "<ipython-input-5-a40508d617f2>:10: RuntimeWarning: At least one epoch has multiple events. Only the latency of the first event will be retained.\n",
      "  sets.append(mne.io.read_epochs_eeglab(path))\n"
     ]
    },
    {
     "name": "stdout",
     "output_type": "stream",
     "text": [
      "No baseline correction applied\n",
      "Not setting metadata\n",
      "0 projection items activated\n",
      "Ready.\n",
      "Extracting parameters from ./../../data/raw/PP\\PP4\\PP4_F1_LH_Removed_ICA.set...\n"
     ]
    },
    {
     "name": "stderr",
     "output_type": "stream",
     "text": [
      "<ipython-input-5-a40508d617f2>:10: RuntimeWarning: At least one epoch has multiple events. Only the latency of the first event will be retained.\n",
      "  sets.append(mne.io.read_epochs_eeglab(path))\n"
     ]
    },
    {
     "name": "stdout",
     "output_type": "stream",
     "text": [
      "58 matching events found\n",
      "No baseline correction applied\n",
      "Not setting metadata\n",
      "0 projection items activated\n",
      "Ready.\n",
      "Extracting parameters from ./../../data/raw/PP\\PP5\\PP5_F1_LH_Removed_ICA.set...\n"
     ]
    },
    {
     "name": "stderr",
     "output_type": "stream",
     "text": [
      "<ipython-input-5-a40508d617f2>:10: RuntimeWarning: At least one epoch has multiple events. Only the latency of the first event will be retained.\n",
      "  sets.append(mne.io.read_epochs_eeglab(path))\n"
     ]
    },
    {
     "name": "stdout",
     "output_type": "stream",
     "text": [
      "55 matching events found\n",
      "No baseline correction applied\n",
      "Not setting metadata\n",
      "0 projection items activated\n",
      "Ready.\n",
      "Extracting parameters from ./../../data/raw/PP\\PP6\\PP6_F1_LH_Removed_ICA.set...\n",
      "27 matching events found\n",
      "No baseline correction applied\n",
      "Not setting metadata\n",
      "0 projection items activated\n",
      "Ready.\n",
      "Extracting parameters from ./../../data/raw/PP\\PP7\\PP7_F1_LH_Removed_ICA.set...\n"
     ]
    },
    {
     "name": "stderr",
     "output_type": "stream",
     "text": [
      "<ipython-input-5-a40508d617f2>:10: RuntimeWarning: At least one epoch has multiple events. Only the latency of the first event will be retained.\n",
      "  sets.append(mne.io.read_epochs_eeglab(path))\n",
      "<ipython-input-5-a40508d617f2>:10: RuntimeWarning: At least one epoch has multiple events. Only the latency of the first event will be retained.\n",
      "  sets.append(mne.io.read_epochs_eeglab(path))\n"
     ]
    },
    {
     "name": "stdout",
     "output_type": "stream",
     "text": [
      "53 matching events found\n",
      "No baseline correction applied\n",
      "Not setting metadata\n",
      "0 projection items activated\n",
      "Ready.\n",
      "Extracting parameters from ./../../data/raw/PP\\PP9\\PP9_F1_LH_Removed_ICA.set...\n"
     ]
    },
    {
     "name": "stderr",
     "output_type": "stream",
     "text": [
      "<ipython-input-5-a40508d617f2>:10: RuntimeWarning: At least one epoch has multiple events. Only the latency of the first event will be retained.\n",
      "  sets.append(mne.io.read_epochs_eeglab(path))\n"
     ]
    },
    {
     "name": "stdout",
     "output_type": "stream",
     "text": [
      "51 matching events found\n",
      "No baseline correction applied\n",
      "Not setting metadata\n",
      "0 projection items activated\n",
      "Ready.\n",
      "Extracting parameters from ./../../data/raw/PnP\\PnP1\\PnP1_F1_LH_Removed_ICA.set...\n"
     ]
    },
    {
     "name": "stderr",
     "output_type": "stream",
     "text": [
      "<ipython-input-5-a40508d617f2>:10: RuntimeWarning: At least one epoch has multiple events. Only the latency of the first event will be retained.\n",
      "  sets.append(mne.io.read_epochs_eeglab(path))\n"
     ]
    },
    {
     "name": "stdout",
     "output_type": "stream",
     "text": [
      "51 matching events found\n",
      "No baseline correction applied\n",
      "Not setting metadata\n",
      "0 projection items activated\n",
      "Ready.\n",
      "Extracting parameters from ./../../data/raw/PnP\\PnP2\\PnP2_F1_LH_Removed_ICA.set...\n"
     ]
    },
    {
     "name": "stderr",
     "output_type": "stream",
     "text": [
      "<ipython-input-5-a40508d617f2>:10: RuntimeWarning: At least one epoch has multiple events. Only the latency of the first event will be retained.\n",
      "  sets.append(mne.io.read_epochs_eeglab(path))\n"
     ]
    },
    {
     "name": "stdout",
     "output_type": "stream",
     "text": [
      "55 matching events found\n",
      "No baseline correction applied\n",
      "Not setting metadata\n",
      "0 projection items activated\n",
      "Ready.\n",
      "Extracting parameters from ./../../data/raw/PnP\\PnP3\\PnP3_F1_LH_Removed_ICA.set...\n",
      "43 matching events found\n"
     ]
    },
    {
     "name": "stderr",
     "output_type": "stream",
     "text": [
      "<ipython-input-5-a40508d617f2>:10: RuntimeWarning: At least one epoch has multiple events. Only the latency of the first event will be retained.\n",
      "  sets.append(mne.io.read_epochs_eeglab(path))\n"
     ]
    },
    {
     "name": "stdout",
     "output_type": "stream",
     "text": [
      "No baseline correction applied\n",
      "Not setting metadata\n",
      "0 projection items activated\n",
      "Ready.\n",
      "Extracting parameters from ./../../data/raw/PnP\\PnP4\\PnP4_F1_LH_Removed_ICA.set...\n"
     ]
    },
    {
     "name": "stderr",
     "output_type": "stream",
     "text": [
      "<ipython-input-5-a40508d617f2>:10: RuntimeWarning: At least one epoch has multiple events. Only the latency of the first event will be retained.\n",
      "  sets.append(mne.io.read_epochs_eeglab(path))\n"
     ]
    },
    {
     "name": "stdout",
     "output_type": "stream",
     "text": [
      "57 matching events found\n",
      "No baseline correction applied\n",
      "Not setting metadata\n",
      "0 projection items activated\n",
      "Ready.\n",
      "Extracting parameters from ./../../data/raw/PnP\\PnP5\\PnP5_F1_LH_Removed_ICA.set...\n"
     ]
    },
    {
     "name": "stderr",
     "output_type": "stream",
     "text": [
      "<ipython-input-5-a40508d617f2>:10: RuntimeWarning: At least one epoch has multiple events. Only the latency of the first event will be retained.\n",
      "  sets.append(mne.io.read_epochs_eeglab(path))\n"
     ]
    },
    {
     "name": "stdout",
     "output_type": "stream",
     "text": [
      "54 matching events found\n",
      "No baseline correction applied\n",
      "Not setting metadata\n",
      "0 projection items activated\n",
      "Ready.\n",
      "Extracting parameters from ./../../data/raw/PnP\\PnP6\\PnP6_F1_LH_Removed_ICA.set...\n",
      "53 matching events found\n"
     ]
    },
    {
     "name": "stderr",
     "output_type": "stream",
     "text": [
      "<ipython-input-5-a40508d617f2>:10: RuntimeWarning: At least one epoch has multiple events. Only the latency of the first event will be retained.\n",
      "  sets.append(mne.io.read_epochs_eeglab(path))\n"
     ]
    },
    {
     "name": "stdout",
     "output_type": "stream",
     "text": [
      "No baseline correction applied\n",
      "Not setting metadata\n",
      "0 projection items activated\n",
      "Ready.\n",
      "Extracting parameters from ./../../data/raw/PnP\\PnP7\\PnP7_F01_LH_Removed_ICA.set...\n"
     ]
    },
    {
     "name": "stderr",
     "output_type": "stream",
     "text": [
      "<ipython-input-5-a40508d617f2>:10: RuntimeWarning: At least one epoch has multiple events. Only the latency of the first event will be retained.\n",
      "  sets.append(mne.io.read_epochs_eeglab(path))\n"
     ]
    },
    {
     "name": "stdout",
     "output_type": "stream",
     "text": [
      "59 matching events found\n",
      "No baseline correction applied\n",
      "Not setting metadata\n",
      "0 projection items activated\n",
      "Ready.\n",
      "Extracting parameters from ./../../data/raw/PnP\\PnP8\\PnP8_F1_LH_Removed_ICA.set...\n"
     ]
    },
    {
     "name": "stderr",
     "output_type": "stream",
     "text": [
      "<ipython-input-5-a40508d617f2>:10: RuntimeWarning: At least one epoch has multiple events. Only the latency of the first event will be retained.\n",
      "  sets.append(mne.io.read_epochs_eeglab(path))\n"
     ]
    },
    {
     "name": "stdout",
     "output_type": "stream",
     "text": [
      "58 matching events found\n",
      "No baseline correction applied\n",
      "Not setting metadata\n",
      "0 projection items activated\n",
      "Ready.\n",
      "Extracting parameters from ./../../data/raw/PnP\\PnP9\\PnP9_F1_LH_Removed_ICA.set...\n",
      "50 matching events found\n",
      "No baseline correction applied\n",
      "Not setting metadata\n"
     ]
    },
    {
     "name": "stderr",
     "output_type": "stream",
     "text": [
      "<ipython-input-5-a40508d617f2>:10: RuntimeWarning: At least one epoch has multiple events. Only the latency of the first event will be retained.\n",
      "  sets.append(mne.io.read_epochs_eeglab(path))\n"
     ]
    },
    {
     "name": "stdout",
     "output_type": "stream",
     "text": [
      "0 projection items activated\n",
      "Ready.\n",
      "Extracting parameters from ./../../data/raw/PP\\PP1\\PP1_F1_L_Removed_ICA.set...\n"
     ]
    },
    {
     "name": "stderr",
     "output_type": "stream",
     "text": [
      "<ipython-input-5-a40508d617f2>:10: RuntimeWarning: At least one epoch has multiple events. Only the latency of the first event will be retained.\n",
      "  sets.append(mne.io.read_epochs_eeglab(path))\n"
     ]
    },
    {
     "name": "stdout",
     "output_type": "stream",
     "text": [
      "57 matching events found\n",
      "No baseline correction applied\n",
      "Not setting metadata\n",
      "0 projection items activated\n",
      "Ready.\n",
      "Extracting parameters from ./../../data/raw/PP\\PP10\\PP10_F1_L_Removed_ICA.set...\n"
     ]
    },
    {
     "name": "stderr",
     "output_type": "stream",
     "text": [
      "<ipython-input-5-a40508d617f2>:10: RuntimeWarning: At least one epoch has multiple events. Only the latency of the first event will be retained.\n",
      "  sets.append(mne.io.read_epochs_eeglab(path))\n"
     ]
    },
    {
     "name": "stdout",
     "output_type": "stream",
     "text": [
      "59 matching events found\n",
      "No baseline correction applied\n",
      "Not setting metadata\n",
      "0 projection items activated\n",
      "Ready.\n",
      "Extracting parameters from ./../../data/raw/PP\\PP11\\PP11_F1_L_Removed_ICA.set...\n"
     ]
    },
    {
     "name": "stderr",
     "output_type": "stream",
     "text": [
      "<ipython-input-5-a40508d617f2>:10: RuntimeWarning: At least one epoch has multiple events. Only the latency of the first event will be retained.\n",
      "  sets.append(mne.io.read_epochs_eeglab(path))\n"
     ]
    },
    {
     "name": "stdout",
     "output_type": "stream",
     "text": [
      "59 matching events found\n",
      "No baseline correction applied\n",
      "Not setting metadata\n",
      "0 projection items activated\n",
      "Ready.\n",
      "Extracting parameters from ./../../data/raw/PP\\PP2\\PP2_F1_L_Removed_ICA.set...\n",
      "51 matching events found\n"
     ]
    },
    {
     "name": "stderr",
     "output_type": "stream",
     "text": [
      "<ipython-input-5-a40508d617f2>:10: RuntimeWarning: At least one epoch has multiple events. Only the latency of the first event will be retained.\n",
      "  sets.append(mne.io.read_epochs_eeglab(path))\n"
     ]
    },
    {
     "name": "stdout",
     "output_type": "stream",
     "text": [
      "No baseline correction applied\n",
      "Not setting metadata\n",
      "0 projection items activated\n",
      "Ready.\n",
      "Extracting parameters from ./../../data/raw/PP\\PP3\\PP3_F1_L_Removed_ICA.set...\n"
     ]
    },
    {
     "name": "stderr",
     "output_type": "stream",
     "text": [
      "<ipython-input-5-a40508d617f2>:10: RuntimeWarning: At least one epoch has multiple events. Only the latency of the first event will be retained.\n",
      "  sets.append(mne.io.read_epochs_eeglab(path))\n"
     ]
    },
    {
     "name": "stdout",
     "output_type": "stream",
     "text": [
      "52 matching events found\n",
      "No baseline correction applied\n",
      "Not setting metadata\n",
      "0 projection items activated\n",
      "Ready.\n",
      "Extracting parameters from ./../../data/raw/PP\\PP4\\PP4_F1_L_Removed_ICA.set...\n"
     ]
    },
    {
     "name": "stderr",
     "output_type": "stream",
     "text": [
      "<ipython-input-5-a40508d617f2>:10: RuntimeWarning: At least one epoch has multiple events. Only the latency of the first event will be retained.\n",
      "  sets.append(mne.io.read_epochs_eeglab(path))\n"
     ]
    },
    {
     "name": "stdout",
     "output_type": "stream",
     "text": [
      "57 matching events found\n",
      "No baseline correction applied\n",
      "Not setting metadata\n",
      "0 projection items activated\n",
      "Ready.\n",
      "Extracting parameters from ./../../data/raw/PP\\PP5\\PP5_F1_L_Removed_ICA.set...\n"
     ]
    },
    {
     "name": "stderr",
     "output_type": "stream",
     "text": [
      "<ipython-input-5-a40508d617f2>:10: RuntimeWarning: At least one epoch has multiple events. Only the latency of the first event will be retained.\n",
      "  sets.append(mne.io.read_epochs_eeglab(path))\n"
     ]
    },
    {
     "name": "stdout",
     "output_type": "stream",
     "text": [
      "55 matching events found\n",
      "No baseline correction applied\n",
      "Not setting metadata\n",
      "0 projection items activated\n",
      "Ready.\n",
      "Extracting parameters from ./../../data/raw/PP\\PP6\\PP6_F1_L_Removed_ICA.set...\n",
      "32 matching events found\n",
      "No baseline correction applied\n",
      "Not setting metadata\n",
      "0 projection items activated\n",
      "Ready.\n"
     ]
    },
    {
     "name": "stderr",
     "output_type": "stream",
     "text": [
      "<ipython-input-5-a40508d617f2>:10: RuntimeWarning: At least one epoch has multiple events. Only the latency of the first event will be retained.\n",
      "  sets.append(mne.io.read_epochs_eeglab(path))\n"
     ]
    },
    {
     "name": "stdout",
     "output_type": "stream",
     "text": [
      "Extracting parameters from ./../../data/raw/PP\\PP7\\PP7_F1_L_Removed_ICA.set...\n"
     ]
    },
    {
     "name": "stderr",
     "output_type": "stream",
     "text": [
      "<ipython-input-5-a40508d617f2>:10: RuntimeWarning: At least one epoch has multiple events. Only the latency of the first event will be retained.\n",
      "  sets.append(mne.io.read_epochs_eeglab(path))\n"
     ]
    },
    {
     "name": "stdout",
     "output_type": "stream",
     "text": [
      "52 matching events found\n",
      "No baseline correction applied\n",
      "Not setting metadata\n",
      "0 projection items activated\n",
      "Ready.\n",
      "Extracting parameters from ./../../data/raw/PP\\PP9\\PP9_F1_L_Removed_ICA.set...\n"
     ]
    },
    {
     "name": "stderr",
     "output_type": "stream",
     "text": [
      "<ipython-input-5-a40508d617f2>:10: RuntimeWarning: At least one epoch has multiple events. Only the latency of the first event will be retained.\n",
      "  sets.append(mne.io.read_epochs_eeglab(path))\n"
     ]
    },
    {
     "name": "stdout",
     "output_type": "stream",
     "text": [
      "54 matching events found\n",
      "No baseline correction applied\n",
      "Not setting metadata\n",
      "0 projection items activated\n",
      "Ready.\n",
      "Extracting parameters from ./../../data/raw/PnP\\PnP1\\PnP1_F1_L_Removed_ICA.set...\n"
     ]
    },
    {
     "name": "stderr",
     "output_type": "stream",
     "text": [
      "<ipython-input-5-a40508d617f2>:10: RuntimeWarning: At least one epoch has multiple events. Only the latency of the first event will be retained.\n",
      "  sets.append(mne.io.read_epochs_eeglab(path))\n"
     ]
    },
    {
     "name": "stdout",
     "output_type": "stream",
     "text": [
      "50 matching events found\n",
      "No baseline correction applied\n",
      "Not setting metadata\n",
      "0 projection items activated\n",
      "Ready.\n",
      "Extracting parameters from ./../../data/raw/PnP\\PnP2\\PnP2_F1_L_Removed_ICA.set...\n"
     ]
    },
    {
     "name": "stderr",
     "output_type": "stream",
     "text": [
      "<ipython-input-5-a40508d617f2>:10: RuntimeWarning: At least one epoch has multiple events. Only the latency of the first event will be retained.\n",
      "  sets.append(mne.io.read_epochs_eeglab(path))\n"
     ]
    },
    {
     "name": "stdout",
     "output_type": "stream",
     "text": [
      "57 matching events found\n",
      "No baseline correction applied\n",
      "Not setting metadata\n",
      "0 projection items activated\n",
      "Ready.\n",
      "Extracting parameters from ./../../data/raw/PnP\\PnP3\\PnP3_F1_L_Removed_ICA.set...\n",
      "41 matching events found\n",
      "No baseline correction applied\n",
      "Not setting metadata\n"
     ]
    },
    {
     "name": "stderr",
     "output_type": "stream",
     "text": [
      "<ipython-input-5-a40508d617f2>:10: RuntimeWarning: At least one epoch has multiple events. Only the latency of the first event will be retained.\n",
      "  sets.append(mne.io.read_epochs_eeglab(path))\n"
     ]
    },
    {
     "name": "stdout",
     "output_type": "stream",
     "text": [
      "0 projection items activated\n",
      "Ready.\n",
      "Extracting parameters from ./../../data/raw/PnP\\PnP4\\PnP4_F1_L_Removed_ICA.set...\n"
     ]
    },
    {
     "name": "stderr",
     "output_type": "stream",
     "text": [
      "<ipython-input-5-a40508d617f2>:10: RuntimeWarning: At least one epoch has multiple events. Only the latency of the first event will be retained.\n",
      "  sets.append(mne.io.read_epochs_eeglab(path))\n"
     ]
    },
    {
     "name": "stdout",
     "output_type": "stream",
     "text": [
      "58 matching events found\n",
      "No baseline correction applied\n",
      "Not setting metadata\n",
      "0 projection items activated\n",
      "Ready.\n",
      "Extracting parameters from ./../../data/raw/PnP\\PnP5\\PnP5_F1_L_Removed_ICA.set...\n",
      "50 matching events found\n"
     ]
    },
    {
     "name": "stderr",
     "output_type": "stream",
     "text": [
      "<ipython-input-5-a40508d617f2>:10: RuntimeWarning: At least one epoch has multiple events. Only the latency of the first event will be retained.\n",
      "  sets.append(mne.io.read_epochs_eeglab(path))\n"
     ]
    },
    {
     "name": "stdout",
     "output_type": "stream",
     "text": [
      "No baseline correction applied\n",
      "Not setting metadata\n",
      "0 projection items activated\n",
      "Ready.\n",
      "Extracting parameters from ./../../data/raw/PnP\\PnP6\\PnP6_F1_L_Removed_ICA.set...\n",
      "53 matching events found\n"
     ]
    },
    {
     "name": "stderr",
     "output_type": "stream",
     "text": [
      "<ipython-input-5-a40508d617f2>:10: RuntimeWarning: At least one epoch has multiple events. Only the latency of the first event will be retained.\n",
      "  sets.append(mne.io.read_epochs_eeglab(path))\n"
     ]
    },
    {
     "name": "stdout",
     "output_type": "stream",
     "text": [
      "No baseline correction applied\n",
      "Not setting metadata\n",
      "0 projection items activated\n",
      "Ready.\n",
      "Extracting parameters from ./../../data/raw/PnP\\PnP7\\PnP7_F01_L_Removed_ICA.set...\n"
     ]
    },
    {
     "name": "stderr",
     "output_type": "stream",
     "text": [
      "<ipython-input-5-a40508d617f2>:10: RuntimeWarning: At least one epoch has multiple events. Only the latency of the first event will be retained.\n",
      "  sets.append(mne.io.read_epochs_eeglab(path))\n"
     ]
    },
    {
     "name": "stdout",
     "output_type": "stream",
     "text": [
      "58 matching events found\n",
      "No baseline correction applied\n",
      "Not setting metadata\n",
      "0 projection items activated\n",
      "Ready.\n",
      "Extracting parameters from ./../../data/raw/PnP\\PnP8\\PnP8_F1_L_Removed_ICA.set...\n",
      "50 matching events found\n"
     ]
    },
    {
     "name": "stderr",
     "output_type": "stream",
     "text": [
      "<ipython-input-5-a40508d617f2>:10: RuntimeWarning: At least one epoch has multiple events. Only the latency of the first event will be retained.\n",
      "  sets.append(mne.io.read_epochs_eeglab(path))\n"
     ]
    },
    {
     "name": "stdout",
     "output_type": "stream",
     "text": [
      "No baseline correction applied\n",
      "Not setting metadata\n",
      "0 projection items activated\n",
      "Ready.\n",
      "Extracting parameters from ./../../data/raw/PnP\\PnP9\\PnP9_F1_L_Removed_ICA.set...\n"
     ]
    },
    {
     "name": "stderr",
     "output_type": "stream",
     "text": [
      "<ipython-input-5-a40508d617f2>:10: RuntimeWarning: At least one epoch has multiple events. Only the latency of the first event will be retained.\n",
      "  sets.append(mne.io.read_epochs_eeglab(path))\n"
     ]
    },
    {
     "name": "stdout",
     "output_type": "stream",
     "text": [
      "55 matching events found\n",
      "No baseline correction applied\n",
      "Not setting metadata\n",
      "0 projection items activated\n",
      "Ready.\n"
     ]
    }
   ],
   "source": [
    "limb = {'name': 'all_limbs'}\n",
    "\n",
    "pp_rh_raw = get_datasets(location_pain, rh['extension'])\n",
    "pnp_rh_raw = get_datasets(location_nopain, rh['extension'])\n",
    "\n",
    "pp_lh_raw = get_datasets(location_pain, lh['extension'])\n",
    "pnp_lh_raw = get_datasets(location_nopain, lh['extension'])\n",
    "\n",
    "pp_l_raw = get_datasets(location_pain, l_old['extension'])\n",
    "pnp_l_raw = get_datasets(location_nopain, l_old['extension'])"
   ]
  },
  {
   "cell_type": "code",
   "execution_count": 78,
   "metadata": {},
   "outputs": [
    {
     "ename": "NameError",
     "evalue": "name 'pp_lh_raw' is not defined",
     "output_type": "error",
     "traceback": [
      "\u001b[1;31m---------------------------------------------------------------------------\u001b[0m",
      "\u001b[1;31mNameError\u001b[0m                                 Traceback (most recent call last)",
      "\u001b[1;32m<ipython-input-78-431a486ee634>\u001b[0m in \u001b[0;36m<module>\u001b[1;34m\u001b[0m\n\u001b[1;32m----> 1\u001b[1;33m \u001b[0mpp_all_limbs\u001b[0m \u001b[1;33m=\u001b[0m \u001b[0mnp\u001b[0m\u001b[1;33m.\u001b[0m\u001b[0mconcatenate\u001b[0m\u001b[1;33m(\u001b[0m\u001b[1;33m(\u001b[0m\u001b[0mpp_rh_raw\u001b[0m\u001b[1;33m,\u001b[0m \u001b[0mpp_lh_raw\u001b[0m\u001b[1;33m,\u001b[0m \u001b[0mpp_l_raw\u001b[0m\u001b[1;33m)\u001b[0m\u001b[1;33m)\u001b[0m\u001b[1;33m\u001b[0m\u001b[1;33m\u001b[0m\u001b[0m\n\u001b[0m\u001b[0;32m      2\u001b[0m \u001b[0mpnp_all_limbs\u001b[0m \u001b[1;33m=\u001b[0m \u001b[0mnp\u001b[0m\u001b[1;33m.\u001b[0m\u001b[0mconcatenate\u001b[0m\u001b[1;33m(\u001b[0m\u001b[1;33m(\u001b[0m\u001b[0mpnp_rh_raw\u001b[0m\u001b[1;33m,\u001b[0m \u001b[0mpnp_lh_raw\u001b[0m\u001b[1;33m,\u001b[0m \u001b[0mpnp_l_raw\u001b[0m\u001b[1;33m)\u001b[0m\u001b[1;33m)\u001b[0m\u001b[1;33m\u001b[0m\u001b[1;33m\u001b[0m\u001b[0m\n",
      "\u001b[1;31mNameError\u001b[0m: name 'pp_lh_raw' is not defined"
     ]
    }
   ],
   "source": [
    "pp_all_limbs = np.concatenate((pp_rh_raw, pp_lh_raw, pp_l_raw))\n",
    "pnp_all_limbs = np.concatenate((pnp_rh_raw, pnp_lh_raw, pnp_l_raw))"
   ]
  },
  {
   "cell_type": "code",
   "execution_count": 79,
   "metadata": {},
   "outputs": [
    {
     "ename": "NameError",
     "evalue": "name 'pnp_all_limbs' is not defined",
     "output_type": "error",
     "traceback": [
      "\u001b[1;31m---------------------------------------------------------------------------\u001b[0m",
      "\u001b[1;31mNameError\u001b[0m                                 Traceback (most recent call last)",
      "\u001b[1;32m<ipython-input-79-eb07e33f911b>\u001b[0m in \u001b[0;36m<module>\u001b[1;34m\u001b[0m\n\u001b[1;32m----> 1\u001b[1;33m \u001b[0mpnp_all_limbs\u001b[0m\u001b[1;33m.\u001b[0m\u001b[0mshape\u001b[0m\u001b[1;33m\u001b[0m\u001b[1;33m\u001b[0m\u001b[0m\n\u001b[0m",
      "\u001b[1;31mNameError\u001b[0m: name 'pnp_all_limbs' is not defined"
     ]
    }
   ],
   "source": [
    "pnp_all_limbs.shape"
   ]
  },
  {
   "cell_type": "code",
   "execution_count": null,
   "metadata": {},
   "outputs": [],
   "source": []
  },
  {
   "cell_type": "code",
   "execution_count": 8,
   "metadata": {},
   "outputs": [
    {
     "name": "stdout",
     "output_type": "stream",
     "text": [
      "Extracting parameters from ./../../data_new/raw/PdP\\PdP_1\\PdP_1_RH.set...\n",
      "65 matching events found\n"
     ]
    },
    {
     "name": "stderr",
     "output_type": "stream",
     "text": [
      "<ipython-input-5-a40508d617f2>:25: RuntimeWarning: At least one epoch has multiple events. Only the latency of the first event will be retained.\n",
      "  return mne.io.read_epochs_eeglab(sets_locations[0]).ch_names\n"
     ]
    },
    {
     "name": "stdout",
     "output_type": "stream",
     "text": [
      "No baseline correction applied\n",
      "Not setting metadata\n",
      "0 projection items activated\n",
      "Ready.\n"
     ]
    },
    {
     "data": {
      "text/plain": [
       "['Fp1',\n",
       " 'Fpz',\n",
       " 'Fp2',\n",
       " 'F7',\n",
       " 'F3',\n",
       " 'F1',\n",
       " 'Fz',\n",
       " 'F2',\n",
       " 'F4',\n",
       " 'F8',\n",
       " 'FC3',\n",
       " 'FC1',\n",
       " 'FCz',\n",
       " 'FC2',\n",
       " 'FC4',\n",
       " 'FC6',\n",
       " 'T7',\n",
       " 'C5',\n",
       " 'C3',\n",
       " 'C1',\n",
       " 'Cz',\n",
       " 'C2',\n",
       " 'C4',\n",
       " 'C6',\n",
       " 'T8',\n",
       " 'CP5',\n",
       " 'CP3',\n",
       " 'CP1',\n",
       " 'CPz',\n",
       " 'CP2',\n",
       " 'CP4',\n",
       " 'CP6',\n",
       " 'P7',\n",
       " 'P5',\n",
       " 'P3',\n",
       " 'P1',\n",
       " 'Pz',\n",
       " 'P2',\n",
       " 'P4',\n",
       " 'P6',\n",
       " 'P8',\n",
       " 'PO3',\n",
       " 'POz',\n",
       " 'PO4',\n",
       " 'O1',\n",
       " 'Oz',\n",
       " 'O2',\n",
       " 'FC5']"
      ]
     },
     "execution_count": 8,
     "metadata": {},
     "output_type": "execute_result"
    }
   ],
   "source": [
    "ch_names_new = get_channel_names(location_pdp, rh['extension'])\n",
    "ch_names_new"
   ]
  },
  {
   "cell_type": "code",
   "execution_count": 9,
   "metadata": {},
   "outputs": [
    {
     "name": "stdout",
     "output_type": "stream",
     "text": [
      "Extracting parameters from ./../../data/raw/PP\\PP1\\PP1_F1_RH_Removed_ICA.set...\n"
     ]
    },
    {
     "name": "stderr",
     "output_type": "stream",
     "text": [
      "<ipython-input-5-a40508d617f2>:25: RuntimeWarning: At least one epoch has multiple events. Only the latency of the first event will be retained.\n",
      "  return mne.io.read_epochs_eeglab(sets_locations[0]).ch_names\n"
     ]
    },
    {
     "name": "stdout",
     "output_type": "stream",
     "text": [
      "57 matching events found\n",
      "No baseline correction applied\n",
      "Not setting metadata\n",
      "0 projection items activated\n",
      "Ready.\n"
     ]
    },
    {
     "data": {
      "text/plain": [
       "['Cz',\n",
       " 'C1',\n",
       " 'C2',\n",
       " 'C3',\n",
       " 'C4',\n",
       " 'C5',\n",
       " 'C6',\n",
       " 'C7',\n",
       " 'C8',\n",
       " 'FCz',\n",
       " 'FC1',\n",
       " 'FC2',\n",
       " 'FC3',\n",
       " 'FC4',\n",
       " 'FC5',\n",
       " 'FC6',\n",
       " 'FT7',\n",
       " 'FT8',\n",
       " 'CPz',\n",
       " 'CP1',\n",
       " 'CP2',\n",
       " 'CP3',\n",
       " 'CP4',\n",
       " 'CP5',\n",
       " 'CP6',\n",
       " 'TP7',\n",
       " 'TP8',\n",
       " 'Fz',\n",
       " 'F1',\n",
       " 'F2',\n",
       " 'F3',\n",
       " 'F4',\n",
       " 'F5',\n",
       " 'F6',\n",
       " 'F7',\n",
       " 'F8',\n",
       " 'Pz',\n",
       " 'P1',\n",
       " 'P2',\n",
       " 'P3',\n",
       " 'P4',\n",
       " 'P5',\n",
       " 'P6',\n",
       " 'P7',\n",
       " 'P8',\n",
       " 'AFz',\n",
       " 'AF3',\n",
       " 'AF4',\n",
       " 'AF7',\n",
       " 'AF8',\n",
       " 'Fp1',\n",
       " 'FP2',\n",
       " 'POz',\n",
       " 'PO3',\n",
       " 'PO4',\n",
       " 'PO7',\n",
       " 'PO8',\n",
       " 'Oz',\n",
       " 'O1',\n",
       " 'O2',\n",
       " 'Iz']"
      ]
     },
     "execution_count": 9,
     "metadata": {},
     "output_type": "execute_result"
    }
   ],
   "source": [
    "ch_names = get_channel_names(location_pain, rh['extension'])\n",
    "ch_names"
   ]
  },
  {
   "cell_type": "code",
   "execution_count": null,
   "metadata": {},
   "outputs": [],
   "source": []
  },
  {
   "cell_type": "code",
   "execution_count": 146,
   "metadata": {},
   "outputs": [],
   "source": [
    "# Check for any channels not present in both\n",
    "#for ch in ch_names_new:\n",
    "#    if not (ch in ch_names):\n",
    " #       print(ch, end=' ')"
   ]
  },
  {
   "cell_type": "code",
   "execution_count": 26,
   "metadata": {},
   "outputs": [
    {
     "data": {
      "text/plain": [
       "(7,)"
      ]
     },
     "execution_count": 26,
     "metadata": {},
     "output_type": "execute_result"
    }
   ],
   "source": [
    "pp_rh_raw.shape"
   ]
  },
  {
   "cell_type": "code",
   "execution_count": null,
   "metadata": {},
   "outputs": [],
   "source": []
  },
  {
   "cell_type": "code",
   "execution_count": 10,
   "metadata": {},
   "outputs": [
    {
     "data": {
      "text/plain": [
       "(48, 1280)"
      ]
     },
     "execution_count": 10,
     "metadata": {},
     "output_type": "execute_result"
    }
   ],
   "source": [
    "pp_rh_raw[4][3].shape"
   ]
  },
  {
   "cell_type": "code",
   "execution_count": null,
   "metadata": {},
   "outputs": [],
   "source": []
  },
  {
   "cell_type": "markdown",
   "metadata": {},
   "source": [
    "Rearrange as needed"
   ]
  },
  {
   "cell_type": "code",
   "execution_count": 188,
   "metadata": {},
   "outputs": [],
   "source": [
    "def rearrange_channels(data, indices_rearranged):\n",
    "    return np.array(list(map(lambda arr_p: np.array(list(map(lambda arr_r: arr_r[indices_rearranged], arr_p))), data)))"
   ]
  },
  {
   "cell_type": "code",
   "execution_count": 189,
   "metadata": {},
   "outputs": [],
   "source": [
    "correct_order = np.array(['Fp1', 'FP2', 'AF7', 'AF3', 'AFz', 'AF4', 'AF8', 'F7', 'F5', 'F3', 'F1', 'Fz', 'F2', 'F4', 'F6', 'F8', 'FT7', 'FC5', 'FC3', 'FC1', 'FCz', 'FC2', 'FC4', 'FC6', 'FT8', 'C7', 'C5', 'C3', 'C1', 'Cz', 'C2', 'C4', 'C6', 'C8', 'TP7', 'CP5', 'CP3', 'CP1', 'CPz', 'CP2', 'CP4', 'CP6', 'TP8', 'P7', 'P5', 'P3', 'P1', 'Pz', 'P2', 'P4', 'P6', 'P8', 'PO7','PO3', 'POz', 'PO4', 'PO8', 'O1', 'Oz', 'O2','Iz'])\n",
    "current_order = np.array(ch_names)"
   ]
  },
  {
   "cell_type": "code",
   "execution_count": 190,
   "metadata": {},
   "outputs": [],
   "source": [
    "ch_names = correct_order.tolist()"
   ]
  },
  {
   "cell_type": "code",
   "execution_count": 191,
   "metadata": {},
   "outputs": [],
   "source": [
    "indices_rearranged = [np.where(current_order == channel_name)[0][0] for channel_name in correct_order]"
   ]
  },
  {
   "cell_type": "code",
   "execution_count": 192,
   "metadata": {},
   "outputs": [],
   "source": [
    "pp_rh_raw_rearranged = rearrange_channels(pp_rh_raw, indices_rearranged)\n",
    "pnp_rh_raw_rearranged = rearrange_channels(pnp_rh_raw, indices_rearranged)\n",
    "hv_rh_raw_rearranged = rearrange_channels(hv_rh_raw, indices_rearranged)"
   ]
  },
  {
   "cell_type": "code",
   "execution_count": 193,
   "metadata": {},
   "outputs": [
    {
     "data": {
      "text/plain": [
       "array([-8.53057384e-06, -3.50579047e-06, -3.66515231e-06, ...,\n",
       "        9.15885639e-06,  4.19314712e-07,  5.83513737e-06])"
      ]
     },
     "execution_count": 193,
     "metadata": {},
     "output_type": "execute_result"
    }
   ],
   "source": [
    "hv_rh_raw_rearranged[0][0][1]"
   ]
  },
  {
   "cell_type": "code",
   "execution_count": 194,
   "metadata": {},
   "outputs": [
    {
     "data": {
      "text/plain": [
       "['Fp1',\n",
       " 'FP2',\n",
       " 'AF7',\n",
       " 'AF3',\n",
       " 'AFz',\n",
       " 'AF4',\n",
       " 'AF8',\n",
       " 'F7',\n",
       " 'F5',\n",
       " 'F3',\n",
       " 'F1',\n",
       " 'Fz',\n",
       " 'F2',\n",
       " 'F4',\n",
       " 'F6',\n",
       " 'F8',\n",
       " 'FT7',\n",
       " 'FC5',\n",
       " 'FC3',\n",
       " 'FC1',\n",
       " 'FCz',\n",
       " 'FC2',\n",
       " 'FC4',\n",
       " 'FC6',\n",
       " 'FT8',\n",
       " 'C7',\n",
       " 'C5',\n",
       " 'C3',\n",
       " 'C1',\n",
       " 'Cz',\n",
       " 'C2',\n",
       " 'C4',\n",
       " 'C6',\n",
       " 'C8',\n",
       " 'TP7',\n",
       " 'CP5',\n",
       " 'CP3',\n",
       " 'CP1',\n",
       " 'CPz',\n",
       " 'CP2',\n",
       " 'CP4',\n",
       " 'CP6',\n",
       " 'TP8',\n",
       " 'P7',\n",
       " 'P5',\n",
       " 'P3',\n",
       " 'P1',\n",
       " 'Pz',\n",
       " 'P2',\n",
       " 'P4',\n",
       " 'P6',\n",
       " 'P8',\n",
       " 'PO7',\n",
       " 'PO3',\n",
       " 'POz',\n",
       " 'PO4',\n",
       " 'PO8',\n",
       " 'O1',\n",
       " 'Oz',\n",
       " 'O2',\n",
       " 'Iz']"
      ]
     },
     "execution_count": 194,
     "metadata": {},
     "output_type": "execute_result"
    }
   ],
   "source": [
    "ch_names"
   ]
  },
  {
   "cell_type": "code",
   "execution_count": null,
   "metadata": {},
   "outputs": [],
   "source": []
  },
  {
   "cell_type": "code",
   "execution_count": null,
   "metadata": {},
   "outputs": [],
   "source": []
  },
  {
   "cell_type": "markdown",
   "metadata": {},
   "source": [
    "Get HFD over the set time window"
   ]
  },
  {
   "cell_type": "code",
   "execution_count": 94,
   "metadata": {},
   "outputs": [],
   "source": [
    "window_start_sec = 3\n",
    "window_size = 2\n",
    "freq = 250\n",
    "\n",
    "k = 7"
   ]
  },
  {
   "cell_type": "code",
   "execution_count": 95,
   "metadata": {},
   "outputs": [
    {
     "name": "stdout",
     "output_type": "stream",
     "text": [
      "Calculating HFD with window start 750 window size 500 step 1\n",
      "Calculating HFD with window start 750 window size 500 step 1\n",
      "Calculating HFD with window start 750 window size 500 step 1\n",
      "Calculating HFD with window start 750 window size 500 step 1\n",
      "Calculating HFD with window start 750 window size 500 step 1\n",
      "Calculating HFD with window start 750 window size 500 step 1\n",
      "Calculating HFD with window start 750 window size 500 step 1\n",
      "Calculating HFD with window start 750 window size 500 step 1\n",
      "Calculating HFD with window start 750 window size 500 step 1\n",
      "Calculating HFD with window start 750 window size 500 step 1\n",
      "Calculating HFD with window start 750 window size 500 step 1\n",
      "Calculating HFD with window start 750 window size 500 step 1\n",
      "Calculating HFD with window start 750 window size 500 step 1\n",
      "Calculating HFD with window start 750 window size 500 step 1\n",
      "Calculating HFD with window start 750 window size 500 step 1\n",
      "Calculating HFD with window start 750 window size 500 step 1\n",
      "Calculating HFD with window start 750 window size 500 step 1\n",
      "Calculating HFD with window start 750 window size 500 step 1\n",
      "Calculating HFD with window start 750 window size 500 step 1\n"
     ]
    }
   ],
   "source": [
    "pp_rh = np.array([patient_array_to_hfd(patient, window_start=int(window_start_sec*freq), window_size=window_size*freq, k=k) for patient in pp_rh_raw])\n",
    "pnp_rh = np.array([patient_array_to_hfd(patient, window_start=int(window_start_sec*freq), window_size=window_size*freq, k=k) for patient in pnp_rh_raw])"
   ]
  },
  {
   "cell_type": "markdown",
   "metadata": {},
   "source": [
    "OR get HFD for all limbs"
   ]
  },
  {
   "cell_type": "code",
   "execution_count": 16,
   "metadata": {},
   "outputs": [
    {
     "ename": "NameError",
     "evalue": "name 'pp_all_limbs' is not defined",
     "output_type": "error",
     "traceback": [
      "\u001b[1;31m---------------------------------------------------------------------------\u001b[0m",
      "\u001b[1;31mNameError\u001b[0m                                 Traceback (most recent call last)",
      "\u001b[1;32m<ipython-input-16-508bec78a061>\u001b[0m in \u001b[0;36m<module>\u001b[1;34m\u001b[0m\n\u001b[1;32m----> 1\u001b[1;33m \u001b[0mpp_rh\u001b[0m \u001b[1;33m=\u001b[0m \u001b[0mnp\u001b[0m\u001b[1;33m.\u001b[0m\u001b[0marray\u001b[0m\u001b[1;33m(\u001b[0m\u001b[1;33m[\u001b[0m\u001b[0mpatient_array_to_hfd\u001b[0m\u001b[1;33m(\u001b[0m\u001b[0mpatient\u001b[0m\u001b[1;33m,\u001b[0m \u001b[0mwindow_start\u001b[0m\u001b[1;33m=\u001b[0m\u001b[0mint\u001b[0m\u001b[1;33m(\u001b[0m\u001b[0mwindow_start_sec\u001b[0m\u001b[1;33m*\u001b[0m\u001b[0mfreq\u001b[0m\u001b[1;33m)\u001b[0m\u001b[1;33m,\u001b[0m \u001b[0mwindow_size\u001b[0m\u001b[1;33m=\u001b[0m\u001b[0mwindow_size\u001b[0m\u001b[1;33m*\u001b[0m\u001b[0mfreq\u001b[0m\u001b[1;33m,\u001b[0m \u001b[0mk\u001b[0m\u001b[1;33m=\u001b[0m\u001b[0mk\u001b[0m\u001b[1;33m)\u001b[0m \u001b[1;32mfor\u001b[0m \u001b[0mpatient\u001b[0m \u001b[1;32min\u001b[0m \u001b[0mpp_all_limbs\u001b[0m\u001b[1;33m]\u001b[0m\u001b[1;33m)\u001b[0m\u001b[1;33m\u001b[0m\u001b[1;33m\u001b[0m\u001b[0m\n\u001b[0m\u001b[0;32m      2\u001b[0m \u001b[0mpnp_rh\u001b[0m \u001b[1;33m=\u001b[0m \u001b[0mnp\u001b[0m\u001b[1;33m.\u001b[0m\u001b[0marray\u001b[0m\u001b[1;33m(\u001b[0m\u001b[1;33m[\u001b[0m\u001b[0mpatient_array_to_hfd\u001b[0m\u001b[1;33m(\u001b[0m\u001b[0mpatient\u001b[0m\u001b[1;33m,\u001b[0m \u001b[0mwindow_start\u001b[0m\u001b[1;33m=\u001b[0m\u001b[0mint\u001b[0m\u001b[1;33m(\u001b[0m\u001b[0mwindow_start_sec\u001b[0m\u001b[1;33m*\u001b[0m\u001b[0mfreq\u001b[0m\u001b[1;33m)\u001b[0m\u001b[1;33m,\u001b[0m \u001b[0mwindow_size\u001b[0m\u001b[1;33m=\u001b[0m\u001b[0mwindow_size\u001b[0m\u001b[1;33m*\u001b[0m\u001b[0mfreq\u001b[0m\u001b[1;33m,\u001b[0m \u001b[0mk\u001b[0m\u001b[1;33m=\u001b[0m\u001b[0mk\u001b[0m\u001b[1;33m)\u001b[0m \u001b[1;32mfor\u001b[0m \u001b[0mpatient\u001b[0m \u001b[1;32min\u001b[0m \u001b[0mpnp_all_limbs\u001b[0m\u001b[1;33m]\u001b[0m\u001b[1;33m)\u001b[0m\u001b[1;33m\u001b[0m\u001b[1;33m\u001b[0m\u001b[0m\n\u001b[0;32m      3\u001b[0m \u001b[1;31m#hv_rh = np.array([patient_array_to_hfd(patient, window_start=int(window_start_sec*freq), window_size=window_size*freq, k=k) for patient in hv_rh_limbs])\u001b[0m\u001b[1;33m\u001b[0m\u001b[1;33m\u001b[0m\u001b[1;33m\u001b[0m\u001b[0m\n",
      "\u001b[1;31mNameError\u001b[0m: name 'pp_all_limbs' is not defined"
     ]
    }
   ],
   "source": [
    "pp_rh = np.array([patient_array_to_hfd(patient, window_start=int(window_start_sec*freq), window_size=window_size*freq, k=k) for patient in pp_all_limbs])\n",
    "pnp_rh = np.array([patient_array_to_hfd(patient, window_start=int(window_start_sec*freq), window_size=window_size*freq, k=k) for patient in pnp_all_limbs])\n",
    "#hv_rh = np.array([patient_array_to_hfd(patient, window_start=int(window_start_sec*freq), window_size=window_size*freq, k=k) for patient in hv_rh_limbs])"
   ]
  },
  {
   "cell_type": "markdown",
   "metadata": {},
   "source": [
    "Alternatively, get HFD over all windows of the specified size"
   ]
  },
  {
   "cell_type": "code",
   "execution_count": 196,
   "metadata": {},
   "outputs": [
    {
     "name": "stdout",
     "output_type": "stream",
     "text": [
      "Calculating HFD with window start 0 window size 500 step 1\n",
      "Calculating HFD with window start 0 window size 500 step 1\n",
      "Calculating HFD with window start 0 window size 500 step 1\n",
      "Calculating HFD with window start 0 window size 500 step 1\n",
      "Calculating HFD with window start 0 window size 500 step 1\n",
      "Calculating HFD with window start 0 window size 500 step 1\n",
      "Calculating HFD with window start 0 window size 500 step 1\n",
      "Calculating HFD with window start 0 window size 500 step 1\n",
      "Calculating HFD with window start 0 window size 500 step 1\n",
      "Calculating HFD with window start 0 window size 500 step 1\n",
      "Calculating HFD with window start 250 window size 500 step 1\n",
      "Calculating HFD with window start 250 window size 500 step 1\n",
      "Calculating HFD with window start 250 window size 500 step 1\n",
      "Calculating HFD with window start 250 window size 500 step 1\n",
      "Calculating HFD with window start 250 window size 500 step 1\n",
      "Calculating HFD with window start 250 window size 500 step 1\n",
      "Calculating HFD with window start 250 window size 500 step 1\n",
      "Calculating HFD with window start 250 window size 500 step 1\n",
      "Calculating HFD with window start 250 window size 500 step 1\n",
      "Calculating HFD with window start 250 window size 500 step 1\n",
      "Calculating HFD with window start 500 window size 500 step 1\n",
      "Calculating HFD with window start 500 window size 500 step 1\n",
      "Calculating HFD with window start 500 window size 500 step 1\n",
      "Calculating HFD with window start 500 window size 500 step 1\n",
      "Calculating HFD with window start 500 window size 500 step 1\n",
      "Calculating HFD with window start 500 window size 500 step 1\n",
      "Calculating HFD with window start 500 window size 500 step 1\n",
      "Calculating HFD with window start 500 window size 500 step 1\n",
      "Calculating HFD with window start 500 window size 500 step 1\n",
      "Calculating HFD with window start 500 window size 500 step 1\n",
      "Calculating HFD with window start 750 window size 500 step 1\n",
      "Calculating HFD with window start 750 window size 500 step 1\n",
      "Calculating HFD with window start 750 window size 500 step 1\n",
      "Calculating HFD with window start 750 window size 500 step 1\n",
      "Calculating HFD with window start 750 window size 500 step 1\n",
      "Calculating HFD with window start 750 window size 500 step 1\n",
      "Calculating HFD with window start 750 window size 500 step 1\n",
      "Calculating HFD with window start 750 window size 500 step 1\n",
      "Calculating HFD with window start 750 window size 500 step 1\n",
      "Calculating HFD with window start 750 window size 500 step 1\n",
      "Calculating HFD with window start 0 window size 500 step 1\n",
      "Calculating HFD with window start 0 window size 500 step 1\n",
      "Calculating HFD with window start 0 window size 500 step 1\n",
      "Calculating HFD with window start 0 window size 500 step 1\n",
      "Calculating HFD with window start 0 window size 500 step 1\n",
      "Calculating HFD with window start 0 window size 500 step 1\n",
      "Calculating HFD with window start 0 window size 500 step 1\n",
      "Calculating HFD with window start 0 window size 500 step 1\n",
      "Calculating HFD with window start 0 window size 500 step 1\n",
      "Calculating HFD with window start 250 window size 500 step 1\n",
      "Calculating HFD with window start 250 window size 500 step 1\n",
      "Calculating HFD with window start 250 window size 500 step 1\n",
      "Calculating HFD with window start 250 window size 500 step 1\n",
      "Calculating HFD with window start 250 window size 500 step 1\n",
      "Calculating HFD with window start 250 window size 500 step 1\n",
      "Calculating HFD with window start 250 window size 500 step 1\n",
      "Calculating HFD with window start 250 window size 500 step 1\n",
      "Calculating HFD with window start 250 window size 500 step 1\n",
      "Calculating HFD with window start 500 window size 500 step 1\n",
      "Calculating HFD with window start 500 window size 500 step 1\n",
      "Calculating HFD with window start 500 window size 500 step 1\n",
      "Calculating HFD with window start 500 window size 500 step 1\n",
      "Calculating HFD with window start 500 window size 500 step 1\n",
      "Calculating HFD with window start 500 window size 500 step 1\n",
      "Calculating HFD with window start 500 window size 500 step 1\n",
      "Calculating HFD with window start 500 window size 500 step 1\n",
      "Calculating HFD with window start 500 window size 500 step 1\n",
      "Calculating HFD with window start 750 window size 500 step 1\n",
      "Calculating HFD with window start 750 window size 500 step 1\n",
      "Calculating HFD with window start 750 window size 500 step 1\n",
      "Calculating HFD with window start 750 window size 500 step 1\n",
      "Calculating HFD with window start 750 window size 500 step 1\n",
      "Calculating HFD with window start 750 window size 500 step 1\n",
      "Calculating HFD with window start 750 window size 500 step 1\n",
      "Calculating HFD with window start 750 window size 500 step 1\n",
      "Calculating HFD with window start 750 window size 500 step 1\n",
      "Calculating HFD with window start 0 window size 500 step 1\n",
      "Calculating HFD with window start 0 window size 500 step 1\n",
      "Calculating HFD with window start 0 window size 500 step 1\n",
      "Calculating HFD with window start 0 window size 500 step 1\n",
      "Calculating HFD with window start 0 window size 500 step 1\n",
      "Calculating HFD with window start 0 window size 500 step 1\n",
      "Calculating HFD with window start 0 window size 500 step 1\n",
      "Calculating HFD with window start 0 window size 500 step 1\n",
      "Calculating HFD with window start 0 window size 500 step 1\n",
      "Calculating HFD with window start 0 window size 500 step 1\n",
      "Calculating HFD with window start 250 window size 500 step 1\n",
      "Calculating HFD with window start 250 window size 500 step 1\n",
      "Calculating HFD with window start 250 window size 500 step 1\n",
      "Calculating HFD with window start 250 window size 500 step 1\n",
      "Calculating HFD with window start 250 window size 500 step 1\n",
      "Calculating HFD with window start 250 window size 500 step 1\n",
      "Calculating HFD with window start 250 window size 500 step 1\n",
      "Calculating HFD with window start 250 window size 500 step 1\n",
      "Calculating HFD with window start 250 window size 500 step 1\n",
      "Calculating HFD with window start 250 window size 500 step 1\n",
      "Calculating HFD with window start 500 window size 500 step 1\n",
      "Calculating HFD with window start 500 window size 500 step 1\n",
      "Calculating HFD with window start 500 window size 500 step 1\n",
      "Calculating HFD with window start 500 window size 500 step 1\n",
      "Calculating HFD with window start 500 window size 500 step 1\n",
      "Calculating HFD with window start 500 window size 500 step 1\n",
      "Calculating HFD with window start 500 window size 500 step 1\n",
      "Calculating HFD with window start 500 window size 500 step 1\n",
      "Calculating HFD with window start 500 window size 500 step 1\n",
      "Calculating HFD with window start 500 window size 500 step 1\n",
      "Calculating HFD with window start 750 window size 500 step 1\n",
      "Calculating HFD with window start 750 window size 500 step 1\n",
      "Calculating HFD with window start 750 window size 500 step 1\n",
      "Calculating HFD with window start 750 window size 500 step 1\n",
      "Calculating HFD with window start 750 window size 500 step 1\n",
      "Calculating HFD with window start 750 window size 500 step 1\n",
      "Calculating HFD with window start 750 window size 500 step 1\n",
      "Calculating HFD with window start 750 window size 500 step 1\n",
      "Calculating HFD with window start 750 window size 500 step 1\n",
      "Calculating HFD with window start 750 window size 500 step 1\n"
     ]
    }
   ],
   "source": [
    "pp_all_windows = [[patient_array_to_hfd(patient, window_start=window*freq, window_size=window_size*freq, k=k) for patient in pp_rh_raw_rearranged] for window in range(0,4)]\n",
    "pnp_all_windows = [[patient_array_to_hfd(patient, window_start=window*freq, window_size=window_size*freq, k=k) for patient in pnp_rh_raw_rearranged] for window in range(0,4)]\n",
    "hv_all_windows = [[patient_array_to_hfd(patient, window_start=window*freq, window_size=window_size*freq, k=k) for patient in hv_rh_raw_rearranged] for window in range(0,4)]"
   ]
  },
  {
   "cell_type": "code",
   "execution_count": 197,
   "metadata": {},
   "outputs": [],
   "source": [
    "np_all = np.array(pp_all_windows)"
   ]
  },
  {
   "cell_type": "code",
   "execution_count": 198,
   "metadata": {},
   "outputs": [
    {
     "data": {
      "text/plain": [
       "528"
      ]
     },
     "execution_count": 198,
     "metadata": {},
     "output_type": "execute_result"
    }
   ],
   "source": [
    "np.sum([s.shape[0] for s in np_all[0]])"
   ]
  },
  {
   "cell_type": "code",
   "execution_count": 199,
   "metadata": {},
   "outputs": [
    {
     "data": {
      "text/plain": [
       "(9,)"
      ]
     },
     "execution_count": 199,
     "metadata": {},
     "output_type": "execute_result"
    }
   ],
   "source": [
    "pnp_rh.shape"
   ]
  },
  {
   "cell_type": "code",
   "execution_count": null,
   "metadata": {},
   "outputs": [],
   "source": []
  },
  {
   "cell_type": "code",
   "execution_count": 200,
   "metadata": {},
   "outputs": [
    {
     "data": {
      "text/plain": [
       "(4, 9)"
      ]
     },
     "execution_count": 200,
     "metadata": {},
     "output_type": "execute_result"
    }
   ],
   "source": [
    "# Over individual patients\n",
    "pp_all_windows_patients_repetitions = np.array([[np.array([[ channel[0] for channel in repetition ] for repetition in patient ]) for patient in window ] for window in np.array(pp_all_windows) ])\n",
    "pnp_all_windows_patients_repetitions = np.array([[np.array([[ channel[0] for channel in repetition ] for repetition in patient ]) for patient in window ] for window in np.array(pnp_all_windows) ])\n",
    "hv_all_windows_patients_repetitions = np.array([[np.array([[ channel[0] for channel in repetition ] for repetition in patient ]) for patient in window ] for window in np.array(hv_all_windows) ])\n",
    "\n",
    "pnp_all_windows_patients_repetitions.shape"
   ]
  },
  {
   "cell_type": "code",
   "execution_count": 201,
   "metadata": {},
   "outputs": [
    {
     "data": {
      "text/plain": [
       "(4, 472, 61)"
      ]
     },
     "execution_count": 201,
     "metadata": {},
     "output_type": "execute_result"
    }
   ],
   "source": [
    "# All repetitions concatenated\n",
    "pp_all_windows_repetitions = np.array([np.vstack([np.array([[ channel[0] for channel in repetition ] for repetition in patient ]) for patient in window ]) for window in np.array(pp_all_windows) ])\n",
    "pnp_all_windows_repetitions = np.array([np.vstack([np.array([[ channel[0] for channel in repetition ] for repetition in patient ]) for patient in window ]) for window in np.array(pnp_all_windows) ])\n",
    "hv_all_windows_repetitions = np.array([np.vstack([np.array([[ channel[0] for channel in repetition ] for repetition in patient ]) for patient in window ]) for window in np.array(hv_all_windows) ])\n",
    "\n",
    "pnp_all_windows_repetitions.shape"
   ]
  },
  {
   "cell_type": "code",
   "execution_count": null,
   "metadata": {},
   "outputs": [],
   "source": []
  },
  {
   "cell_type": "code",
   "execution_count": 202,
   "metadata": {},
   "outputs": [
    {
     "data": {
      "text/plain": [
       "(61, 4)"
      ]
     },
     "execution_count": 202,
     "metadata": {},
     "output_type": "execute_result"
    }
   ],
   "source": [
    "pp_mean_all_windows = np.mean(pp_all_windows_repetitions, axis=1).transpose()\n",
    "pnp_mean_all_windows = np.mean(pnp_all_windows_repetitions, axis=1).transpose()\n",
    "hv_mean_all_windows = np.mean(hv_all_windows_repetitions, axis=1).transpose()\n",
    "\n",
    "pnp_mean_all_windows.shape"
   ]
  },
  {
   "cell_type": "code",
   "execution_count": null,
   "metadata": {},
   "outputs": [],
   "source": []
  },
  {
   "cell_type": "code",
   "execution_count": 203,
   "metadata": {},
   "outputs": [],
   "source": [
    "diff_pp_pnp_all_windows = pp_mean_all_windows - pnp_mean_all_windows\n",
    "diff_pp_pnp_all_windows = diff_pp_pnp_all_windows - diff_pp_pnp_all_windows.mean()\n",
    "\n",
    "diff_hv_pnp_all_windows = hv_mean_all_windows - pnp_mean_all_windows\n",
    "diff_hv_pnp_all_windows = diff_hv_pnp_all_windows - diff_hv_pnp_all_windows.mean()\n",
    "\n",
    "diff_hv_pp_all_windows = hv_mean_all_windows - pp_mean_all_windows\n",
    "diff_hv_pp_all_windows = diff_hv_pp_all_windows - diff_hv_pp_all_windows.mean()"
   ]
  },
  {
   "cell_type": "code",
   "execution_count": null,
   "metadata": {},
   "outputs": [],
   "source": []
  },
  {
   "cell_type": "code",
   "execution_count": 75,
   "metadata": {},
   "outputs": [],
   "source": [
    "scipy.io.savemat('./results/arrays/hfd_2s_window_means_l.mat', {'pp': pp_mean_all_windows, 'pnp': pnp_mean_all_windows, 'hv': hv_mean_all_windows,\n",
    "                                                                'diff_pp_pnp': diff_pp_pnp_all_windows, 'diff_hv_pnp': diff_hv_pnp_all_windows,\n",
    "                                                                'diff_hv_pp': diff_hv_pp_all_windows})"
   ]
  },
  {
   "cell_type": "code",
   "execution_count": 34,
   "metadata": {},
   "outputs": [],
   "source": [
    "scipy.io.savemat('./results/arrays/hfd_2s_window_individuals_lh.mat', {'pp': pp_all_windows_patients_repetitions, 'pnp': pnp_all_windows_patients_repetitions, 'hv': hv_all_windows_patients_repetitions,})"
   ]
  },
  {
   "cell_type": "code",
   "execution_count": 55,
   "metadata": {},
   "outputs": [],
   "source": [
    "scipy.io.savemat('./results/arrays/hfd_2s_window_repetitions_l.mat', {'pp': pp_all_windows_repetitions, 'pnp': pnp_all_windows_repetitions, 'hv': hv_all_windows_repetitions,})"
   ]
  },
  {
   "cell_type": "code",
   "execution_count": 86,
   "metadata": {},
   "outputs": [],
   "source": [
    "scipy.io.savemat('./results/arrays/pdp_hfd_2s_window_means_l.mat', {'pdp': pp_mean_all_windows, 'pnp': pnp_mean_all_windows,\n",
    "                                                                'diff_pp_pnp': diff_pp_pnp_all_windows})"
   ]
  },
  {
   "cell_type": "code",
   "execution_count": 87,
   "metadata": {},
   "outputs": [],
   "source": [
    "scipy.io.savemat('./results/arrays/pdp_hfd_2s_window_individuals_l.mat', {'pdp': pp_all_windows_patients_repetitions, 'pnp': pnp_all_windows_patients_repetitions})"
   ]
  },
  {
   "cell_type": "code",
   "execution_count": 88,
   "metadata": {},
   "outputs": [],
   "source": [
    "scipy.io.savemat('./results/arrays/pdp_hfd_2s_window_repetitions_l.mat', {'pdp': pp_all_windows_repetitions, 'pnp': pnp_all_windows_repetitions})"
   ]
  },
  {
   "cell_type": "code",
   "execution_count": null,
   "metadata": {},
   "outputs": [],
   "source": []
  },
  {
   "cell_type": "code",
   "execution_count": 5,
   "metadata": {},
   "outputs": [],
   "source": [
    "testtt = scipy.io.loadmat('./results/arrays/pp_pnp/hfd_2s_window_repetitions_rearranged_rh.mat')"
   ]
  },
  {
   "cell_type": "code",
   "execution_count": 7,
   "metadata": {},
   "outputs": [
    {
     "data": {
      "text/plain": [
       "array([[[1.79166786, 1.78401473, 1.81313926, ..., 1.83237948,\n",
       "         1.82285969, 1.82381206],\n",
       "        [1.8049908 , 1.79910915, 1.81358053, ..., 1.8163998 ,\n",
       "         1.81097667, 1.81562021],\n",
       "        [1.84394423, 1.84294878, 1.84402905, ..., 1.84364227,\n",
       "         1.83450897, 1.84388682],\n",
       "        ...,\n",
       "        [1.77848334, 1.77840338, 1.78024777, ..., 1.78598116,\n",
       "         1.78403113, 1.79062829],\n",
       "        [1.83811583, 1.82367517, 1.82301994, ..., 1.84413346,\n",
       "         1.84941842, 1.83956777],\n",
       "        [1.7576648 , 1.74541144, 1.76891619, ..., 1.81572668,\n",
       "         1.81580196, 1.82415748]],\n",
       "\n",
       "       [[1.72826174, 1.75028739, 1.73119668, ..., 1.78781448,\n",
       "         1.78032683, 1.77771765],\n",
       "        [1.77803243, 1.75889539, 1.80070754, ..., 1.79602299,\n",
       "         1.80093982, 1.78955532],\n",
       "        [1.82985638, 1.82300306, 1.84298256, ..., 1.84612935,\n",
       "         1.83602015, 1.84166826],\n",
       "        ...,\n",
       "        [1.82283138, 1.84442168, 1.80127265, ..., 1.87214095,\n",
       "         1.86889475, 1.8713407 ],\n",
       "        [1.82414486, 1.81769406, 1.82637344, ..., 1.8678301 ,\n",
       "         1.87136902, 1.86574036],\n",
       "        [1.81483   , 1.82545639, 1.8065886 , ..., 1.83515219,\n",
       "         1.82197755, 1.83304181]],\n",
       "\n",
       "       [[1.80769827, 1.81902778, 1.80078763, ..., 1.80224883,\n",
       "         1.79894443, 1.79551571],\n",
       "        [1.81267795, 1.79599211, 1.84049535, ..., 1.8340853 ,\n",
       "         1.83316421, 1.82964454],\n",
       "        [1.89223329, 1.87325165, 1.89383878, ..., 1.84515848,\n",
       "         1.85232054, 1.8457744 ],\n",
       "        ...,\n",
       "        [1.79854652, 1.8018473 , 1.80280861, ..., 1.815248  ,\n",
       "         1.81358604, 1.82555605],\n",
       "        [1.80844986, 1.86535269, 1.77315465, ..., 1.85000911,\n",
       "         1.82535086, 1.85774498],\n",
       "        [1.79010692, 1.81156302, 1.77334381, ..., 1.81370125,\n",
       "         1.80600393, 1.82447866]],\n",
       "\n",
       "       [[1.79881673, 1.78852764, 1.80372961, ..., 1.7870793 ,\n",
       "         1.78048135, 1.78110171],\n",
       "        [1.8478977 , 1.84412931, 1.84801636, ..., 1.82836492,\n",
       "         1.83117977, 1.82600642],\n",
       "        [1.86854514, 1.85822449, 1.88114729, ..., 1.83221324,\n",
       "         1.85115895, 1.83590168],\n",
       "        ...,\n",
       "        [1.78318336, 1.80081312, 1.78503808, ..., 1.81418643,\n",
       "         1.80772771, 1.82090931],\n",
       "        [1.82117248, 1.81563182, 1.81915045, ..., 1.81917938,\n",
       "         1.81431044, 1.81482642],\n",
       "        [1.82964131, 1.8021717 , 1.84302673, ..., 1.79519604,\n",
       "         1.79520049, 1.78905563]]])"
      ]
     },
     "execution_count": 7,
     "metadata": {},
     "output_type": "execute_result"
    }
   ],
   "source": [
    "testtt['pp']"
   ]
  },
  {
   "cell_type": "code",
   "execution_count": 12,
   "metadata": {},
   "outputs": [
    {
     "ename": "ValueError",
     "evalue": "operands could not be broadcast together with shapes (4,279,48) (4,369,48) ",
     "output_type": "error",
     "traceback": [
      "\u001b[1;31m---------------------------------------------------------------------------\u001b[0m",
      "\u001b[1;31mValueError\u001b[0m                                Traceback (most recent call last)",
      "\u001b[1;32m<ipython-input-12-ea206235d224>\u001b[0m in \u001b[0;36m<module>\u001b[1;34m\u001b[0m\n\u001b[1;32m----> 1\u001b[1;33m \u001b[1;33m(\u001b[0m\u001b[0mtesttt\u001b[0m\u001b[1;33m[\u001b[0m\u001b[1;34m'pdp'\u001b[0m\u001b[1;33m]\u001b[0m \u001b[1;33m-\u001b[0m \u001b[0mtesttt\u001b[0m\u001b[1;33m[\u001b[0m\u001b[1;34m'pnp'\u001b[0m\u001b[1;33m]\u001b[0m\u001b[1;33m)\u001b[0m \u001b[1;33m-\u001b[0m \u001b[1;33m(\u001b[0m\u001b[0mtesttt\u001b[0m\u001b[1;33m[\u001b[0m\u001b[1;34m'pdp'\u001b[0m\u001b[1;33m]\u001b[0m \u001b[1;33m-\u001b[0m \u001b[0mtesttt\u001b[0m\u001b[1;33m[\u001b[0m\u001b[1;34m'pnp'\u001b[0m\u001b[1;33m]\u001b[0m\u001b[1;33m)\u001b[0m\u001b[1;33m.\u001b[0m\u001b[0mmean\u001b[0m\u001b[1;33m(\u001b[0m\u001b[1;33m)\u001b[0m \u001b[1;33m-\u001b[0m \u001b[0mtesttt\u001b[0m\u001b[1;33m[\u001b[0m\u001b[1;34m'diff_pp_pnp'\u001b[0m\u001b[1;33m]\u001b[0m\u001b[1;33m\u001b[0m\u001b[1;33m\u001b[0m\u001b[0m\n\u001b[0m",
      "\u001b[1;31mValueError\u001b[0m: operands could not be broadcast together with shapes (4,279,48) (4,369,48) "
     ]
    }
   ],
   "source": [
    "(testtt['pdp'] - testtt['pnp']) - (testtt['pdp'] - testtt['pnp']).mean() - testtt['diff_pp_pnp']"
   ]
  },
  {
   "cell_type": "code",
   "execution_count": null,
   "metadata": {},
   "outputs": [],
   "source": []
  },
  {
   "cell_type": "code",
   "execution_count": 204,
   "metadata": {},
   "outputs": [
    {
     "data": {
      "text/plain": [
       "(61, 4)"
      ]
     },
     "execution_count": 204,
     "metadata": {},
     "output_type": "execute_result"
    }
   ],
   "source": [
    "diff_all_windows = pp_mean_all_windows - pnp_mean_all_windows\n",
    "diff_all_windows = diff_all_windows - diff_all_windows.mean()\n",
    "diff_all_windows.shape"
   ]
  },
  {
   "cell_type": "code",
   "execution_count": 205,
   "metadata": {},
   "outputs": [
    {
     "data": {
      "text/plain": [
       "NormaltestResult(statistic=12.527860769059263, pvalue=0.001903748608788118)"
      ]
     },
     "execution_count": 205,
     "metadata": {},
     "output_type": "execute_result"
    }
   ],
   "source": [
    "scipy.stats.normaltest(diff_all_windows.flatten())"
   ]
  },
  {
   "cell_type": "code",
   "execution_count": 206,
   "metadata": {},
   "outputs": [],
   "source": [
    "max_hfd = np.max([np.max(pp_mean_all_windows), np.max(pnp_mean_all_windows), np.min(hv_mean_all_windows)])\n",
    "min_hfd = np.min([np.min(pp_mean_all_windows), np.min(pnp_mean_all_windows), np.min(hv_mean_all_windows)])"
   ]
  },
  {
   "cell_type": "code",
   "execution_count": null,
   "metadata": {},
   "outputs": [],
   "source": []
  },
  {
   "cell_type": "code",
   "execution_count": null,
   "metadata": {},
   "outputs": [],
   "source": []
  },
  {
   "cell_type": "code",
   "execution_count": 207,
   "metadata": {},
   "outputs": [
    {
     "data": {
      "text/plain": [
       "1.809262979856341"
      ]
     },
     "execution_count": 207,
     "metadata": {},
     "output_type": "execute_result"
    }
   ],
   "source": [
    "min_hfd"
   ]
  },
  {
   "cell_type": "code",
   "execution_count": 208,
   "metadata": {},
   "outputs": [
    {
     "data": {
      "text/plain": [
       "1.8320607168921472"
      ]
     },
     "execution_count": 208,
     "metadata": {},
     "output_type": "execute_result"
    }
   ],
   "source": [
    "np.mean(pnp_mean_all_windows)"
   ]
  },
  {
   "cell_type": "code",
   "execution_count": 209,
   "metadata": {},
   "outputs": [
    {
     "data": {
      "text/plain": [
       "1.827981456085341"
      ]
     },
     "execution_count": 209,
     "metadata": {},
     "output_type": "execute_result"
    }
   ],
   "source": [
    "np.mean(pp_all_windows_repetitions, axis=1).transpose()[14][1]"
   ]
  },
  {
   "cell_type": "code",
   "execution_count": 210,
   "metadata": {},
   "outputs": [],
   "source": [
    "graph_font_label = 19\n",
    "graph_font_ticks = 15\n",
    "graph_labels = ch_names\n",
    "n_channels = len(graph_labels)"
   ]
  },
  {
   "cell_type": "code",
   "execution_count": 211,
   "metadata": {
    "scrolled": true
   },
   "outputs": [
    {
     "data": {
      "image/png": "[encoded data removed]",
      "text/plain": [
       "<Figure size 1080x1080 with 1 Axes>"
      ]
     },
     "metadata": {
      "needs_background": "light"
     },
     "output_type": "display_data"
    }
   ],
   "source": [
    "title = 'Normalized HFD values in ' + limb['name'] + ' within a 2s sliding window, PDP; k=7'\n",
    "graph_name = 'window_pp_' + limb['name']\n",
    "\n",
    "plt.figure(figsize=[15,15])\n",
    "#plt.title(title)\n",
    "plt.ylabel('Channel', fontsize=graph_font_label)\n",
    "plt.yticks(ticks=range(n_channels), labels=graph_labels, fontsize=graph_font_ticks)\n",
    "plt.xticks(range(4), fontsize=graph_font_ticks)\n",
    "plt.xlabel('Offset (s)', fontsize=graph_font_label)\n",
    "plt.imshow(pp_mean_all_windows, vmin=min_hfd, vmax=max_hfd)\n",
    "plt.tight_layout()\n",
    "plt.savefig('./results/graphs/rearranged/v/' + limb['name'] + '/' + graph_name + '.eps', bbox_inches='tight')\n",
    "plt.savefig('./results/graphs/rearranged/v/' + limb['name'] + '/' + graph_name + '.jpg', bbox_inches='tight')"
   ]
  },
  {
   "cell_type": "code",
   "execution_count": 212,
   "metadata": {},
   "outputs": [
    {
     "data": {
      "image/png": "[encoded data removed]",
      "text/plain": [
       "<Figure size 1080x1080 with 1 Axes>"
      ]
     },
     "metadata": {
      "needs_background": "light"
     },
     "output_type": "display_data"
    }
   ],
   "source": [
    "title = 'Normalized HFD values in ' + limb['name'] + ' within a 2s sliding window, PNP; k=7'\n",
    "graph_name = 'window_pnp_' + limb['name']\n",
    "\n",
    "plt.figure(figsize=[15,15])\n",
    "#plt.title(title)\n",
    "plt.ylabel('Channel', fontsize=graph_font_label)\n",
    "plt.yticks(ticks=range(n_channels), labels=graph_labels, fontsize=graph_font_ticks)\n",
    "plt.xticks(range(4), fontsize=graph_font_ticks)\n",
    "plt.xlabel('Offset (s)', fontsize=graph_font_label)\n",
    "plt.imshow(pnp_mean_all_windows, vmin=min_hfd, vmax=max_hfd)\n",
    "plt.tight_layout()\n",
    "plt.savefig('./results/graphs/rearranged/v/' + limb['name'] + '/' + graph_name + '.eps', bbox_inches='tight')\n",
    "plt.savefig('./results/graphs/rearranged/v/' + limb['name'] + '/' + graph_name + '.jpg', bbox_inches='tight')"
   ]
  },
  {
   "cell_type": "code",
   "execution_count": 213,
   "metadata": {},
   "outputs": [
    {
     "data": {
      "image/png": "[encoded data removed]",
      "text/plain": [
       "<Figure size 1080x1080 with 1 Axes>"
      ]
     },
     "metadata": {
      "needs_background": "light"
     },
     "output_type": "display_data"
    }
   ],
   "source": [
    "title = 'Normalized HFD values in ' + limb['name'] + ' within a 2s sliding window, PNP; k=7'\n",
    "graph_name = 'window_hv_' + limb['name']\n",
    "\n",
    "plt.figure(figsize=[15,15])\n",
    "#plt.title(title)\n",
    "plt.ylabel('Channel', fontsize=graph_font_label)\n",
    "plt.yticks(ticks=range(n_channels), labels=graph_labels, fontsize=graph_font_ticks)\n",
    "plt.xticks(range(4), fontsize=graph_font_ticks)\n",
    "plt.xlabel('Offset (s)', fontsize=graph_font_label)\n",
    "plt.imshow(hv_mean_all_windows, vmin=min_hfd, vmax=max_hfd)\n",
    "plt.tight_layout()\n",
    "plt.savefig('./results/graphs/rearranged/v/' + limb['name'] + '/' + graph_name + '.eps', bbox_inches='tight')\n",
    "plt.savefig('./results/graphs/rearranged/v/' + limb['name'] + '/' + graph_name + '.jpg', bbox_inches='tight')"
   ]
  },
  {
   "cell_type": "code",
   "execution_count": null,
   "metadata": {},
   "outputs": [],
   "source": []
  },
  {
   "cell_type": "code",
   "execution_count": 214,
   "metadata": {},
   "outputs": [
    {
     "data": {
      "image/png": "[encoded data removed]",
      "text/plain": [
       "<Figure size 1080x1080 with 1 Axes>"
      ]
     },
     "metadata": {
      "needs_background": "light"
     },
     "output_type": "display_data"
    }
   ],
   "source": [
    "title = 'Normalized HFD values in ' + limb['name'] + ' within a 2s sliding window, PDP; k=7'\n",
    "graph_name = 'window_pp_' + limb['name']\n",
    "\n",
    "plt.figure(figsize=[15,15])\n",
    "#plt.title(title)\n",
    "plt.xlabel('Channel', fontsize=graph_font_label)\n",
    "plt.xticks(ticks=range(n_channels), labels=graph_labels, rotation=-55, fontsize=graph_font_ticks)\n",
    "plt.yticks(range(4), fontsize=graph_font_ticks)\n",
    "plt.ylabel('Offset (s)', fontsize=graph_font_label)\n",
    "plt.imshow(pp_mean_all_windows.transpose(), vmin=min_hfd, vmax=max_hfd)\n",
    "plt.tight_layout()\n",
    "plt.savefig('./results/graphs/rearranged/h/' + limb['name'] + '/' + graph_name + '.eps', bbox_inches='tight')\n",
    "plt.savefig('./results/graphs/rearranged/h/' + limb['name'] + '/' + graph_name + '.jpg', bbox_inches='tight')"
   ]
  },
  {
   "cell_type": "code",
   "execution_count": 215,
   "metadata": {},
   "outputs": [
    {
     "data": {
      "image/png": "[encoded data removed]",
      "text/plain": [
       "<Figure size 1080x1080 with 1 Axes>"
      ]
     },
     "metadata": {
      "needs_background": "light"
     },
     "output_type": "display_data"
    }
   ],
   "source": [
    "title = 'Normalized HFD values in ' + limb['name'] + ' within a 2s sliding window, PNP; k=7'\n",
    "graph_name = 'window_pnp_' + limb['name']\n",
    "\n",
    "plt.figure(figsize=[15,15])\n",
    "#plt.title(title)\n",
    "plt.xlabel('Channel', fontsize=graph_font_label)\n",
    "plt.xticks(ticks=range(n_channels), labels=graph_labels, rotation=-55, fontsize=graph_font_ticks)\n",
    "plt.yticks(range(4), fontsize=graph_font_ticks)\n",
    "plt.ylabel('Offset (s)', fontsize=graph_font_label)\n",
    "plt.imshow(pnp_mean_all_windows.transpose(), vmin=min_hfd, vmax=max_hfd)\n",
    "plt.tight_layout()\n",
    "plt.savefig('./results/graphs/rearranged/h/' + limb['name'] + '/' + graph_name + '.eps', bbox_inches='tight')\n",
    "plt.savefig('./results/graphs/rearranged/h/' + limb['name'] + '/' + graph_name + '.jpg', bbox_inches='tight')"
   ]
  },
  {
   "cell_type": "code",
   "execution_count": 216,
   "metadata": {},
   "outputs": [
    {
     "data": {
      "image/png": "[encoded data removed]",
      "text/plain": [
       "<Figure size 1080x1080 with 1 Axes>"
      ]
     },
     "metadata": {
      "needs_background": "light"
     },
     "output_type": "display_data"
    }
   ],
   "source": [
    "title = 'Normalized HFD values in ' + limb['name'] + ' within a 2s sliding window, PNP; k=7'\n",
    "graph_name = 'window_hv_' + limb['name']\n",
    "\n",
    "plt.figure(figsize=[15,15])\n",
    "#plt.title(title)\n",
    "plt.xlabel('Channel', fontsize=graph_font_label)\n",
    "plt.xticks(ticks=range(n_channels), labels=graph_labels, rotation=-55, fontsize=graph_font_ticks)\n",
    "plt.yticks(range(4), fontsize=graph_font_ticks)\n",
    "plt.ylabel('Offset (s)', fontsize=graph_font_label)\n",
    "plt.imshow(hv_mean_all_windows.transpose(), vmin=min_hfd, vmax=max_hfd)\n",
    "plt.tight_layout()\n",
    "plt.savefig('./results/graphs/rearranged/h/' + limb['name'] + '/' + graph_name + '.eps', bbox_inches='tight')\n",
    "plt.savefig('./results/graphs/rearranged/h/' + limb['name'] + '/' + graph_name + '.jpg', bbox_inches='tight')"
   ]
  },
  {
   "cell_type": "code",
   "execution_count": 217,
   "metadata": {},
   "outputs": [
    {
     "data": {
      "text/plain": [
       "array([-0.00362196,  0.00719893,  0.00538829, -0.0068483 ])"
      ]
     },
     "execution_count": 217,
     "metadata": {},
     "output_type": "execute_result"
    }
   ],
   "source": [
    "diff_all_windows[ch_names.index('P1')]"
   ]
  },
  {
   "cell_type": "code",
   "execution_count": 218,
   "metadata": {},
   "outputs": [
    {
     "data": {
      "text/plain": [
       "-0.014372063369156874"
      ]
     },
     "execution_count": 218,
     "metadata": {},
     "output_type": "execute_result"
    }
   ],
   "source": [
    "diff_all_windows.min()"
   ]
  },
  {
   "cell_type": "code",
   "execution_count": 219,
   "metadata": {},
   "outputs": [
    {
     "data": {
      "text/plain": [
       "(25, 0)"
      ]
     },
     "execution_count": 219,
     "metadata": {},
     "output_type": "execute_result"
    }
   ],
   "source": [
    "asda = np.abs(diff_all_windows - np.zeros(diff_all_windows.shape))\n",
    "np.unravel_index(asda.argmin(), asda.shape)"
   ]
  },
  {
   "cell_type": "code",
   "execution_count": 220,
   "metadata": {},
   "outputs": [
    {
     "data": {
      "text/plain": [
       "'FCz'"
      ]
     },
     "execution_count": 220,
     "metadata": {},
     "output_type": "execute_result"
    }
   ],
   "source": [
    "ch_names[20]"
   ]
  },
  {
   "cell_type": "code",
   "execution_count": 221,
   "metadata": {},
   "outputs": [
    {
     "data": {
      "image/png": "[encoded data removed]",
      "text/plain": [
       "<Figure size 1080x1080 with 1 Axes>"
      ]
     },
     "metadata": {
      "needs_background": "light"
     },
     "output_type": "display_data"
    }
   ],
   "source": [
    "title = str('Normalized HFD difference in ' + limb['name'] + ' between PDP and PNP within a 2s sliding window; k=7\\n' +\n",
    "        'Red indicates PDP > PNP; Blue indicates PDP < PNP; white indicates similar values')\n",
    "graph_name = 'window_pp_pnp_diff_' + limb['name']\n",
    "\n",
    "plt.figure(figsize=[15,15])\n",
    "#plt.title(title)\n",
    "plt.ylabel('Channel', fontsize=graph_font_label)\n",
    "plt.yticks(ticks=range(n_channels), labels=graph_labels, fontsize=graph_font_ticks)\n",
    "plt.xticks(range(4), fontsize=graph_font_ticks)\n",
    "plt.xlabel('Offset (s)', fontsize=graph_font_label)\n",
    "plt.imshow(diff_pp_pnp_all_windows, cmap='bwr')\n",
    "plt.tight_layout()\n",
    "plt.savefig('./results/graphs/rearranged/v/' + limb['name'] + '/' + graph_name + '.eps', bbox_inches='tight')\n",
    "plt.savefig('./results/graphs/rearranged/v/' + limb['name'] + '/' + graph_name + '.jpg', bbox_inches='tight')"
   ]
  },
  {
   "cell_type": "code",
   "execution_count": 222,
   "metadata": {},
   "outputs": [
    {
     "data": {
      "image/png": "[encoded data removed]",
      "text/plain": [
       "<Figure size 1080x1080 with 1 Axes>"
      ]
     },
     "metadata": {
      "needs_background": "light"
     },
     "output_type": "display_data"
    }
   ],
   "source": [
    "title = str('Normalized HFD difference in ' + limb['name'] + ' between PDP and PNP within a 2s sliding window; k=7\\n' +\n",
    "        'Red indicates PDP > PNP; Blue indicates PDP < PNP; white indicates similar values')\n",
    "graph_name = 'window_hv_pp_diff_' + limb['name']\n",
    "\n",
    "plt.figure(figsize=[15,15])\n",
    "#plt.title(title)\n",
    "plt.ylabel('Channel', fontsize=graph_font_label)\n",
    "plt.yticks(ticks=range(n_channels), labels=graph_labels, fontsize=graph_font_ticks)\n",
    "plt.xticks(range(4), fontsize=graph_font_ticks)\n",
    "plt.xlabel('Offset (s)', fontsize=graph_font_label)\n",
    "plt.imshow(diff_hv_pp_all_windows, cmap='bwr')\n",
    "plt.tight_layout()\n",
    "plt.savefig('./results/graphs/rearranged/v/' + limb['name'] + '/' + graph_name + '.eps', bbox_inches='tight')\n",
    "plt.savefig('./results/graphs/rearranged/v/' + limb['name'] + '/' + graph_name + '.jpg', bbox_inches='tight')"
   ]
  },
  {
   "cell_type": "code",
   "execution_count": 223,
   "metadata": {},
   "outputs": [
    {
     "data": {
      "image/png": "[encoded data removed]",
      "text/plain": [
       "<Figure size 1080x1080 with 1 Axes>"
      ]
     },
     "metadata": {
      "needs_background": "light"
     },
     "output_type": "display_data"
    }
   ],
   "source": [
    "title = str('Normalized HFD difference in ' + limb['name'] + ' between PDP and PNP within a 2s sliding window; k=7\\n' +\n",
    "        'Red indicates PDP > PNP; Blue indicates PDP < PNP; white indicates similar values')\n",
    "graph_name = 'window_hv_pnp_diff_' + limb['name']\n",
    "\n",
    "plt.figure(figsize=[15,15])\n",
    "#plt.title(title)\n",
    "plt.ylabel('Channel', fontsize=graph_font_label)\n",
    "plt.yticks(ticks=range(n_channels), labels=graph_labels, fontsize=graph_font_ticks)\n",
    "plt.xticks(range(4), fontsize=graph_font_ticks)\n",
    "plt.xlabel('Offset (s)', fontsize=graph_font_label)\n",
    "plt.imshow(diff_hv_pnp_all_windows, cmap='bwr')\n",
    "plt.tight_layout()\n",
    "plt.savefig('./results/graphs/rearranged/v/' + limb['name'] + '/' + graph_name + '.eps', bbox_inches='tight')\n",
    "plt.savefig('./results/graphs/rearranged/v/' + limb['name'] + '/' + graph_name + '.jpg', bbox_inches='tight')"
   ]
  },
  {
   "cell_type": "code",
   "execution_count": 224,
   "metadata": {},
   "outputs": [
    {
     "data": {
      "image/png": "[encoded data removed]",
      "text/plain": [
       "<Figure size 1080x1080 with 1 Axes>"
      ]
     },
     "metadata": {
      "needs_background": "light"
     },
     "output_type": "display_data"
    }
   ],
   "source": [
    "title = str('Normalized HFD difference in ' + limb['name'] + ' between PDP and PNP within a 2s sliding window; k=7\\n' +\n",
    "        'Red indicates PDP > PNP; Blue indicates PDP < PNP; white indicates similar values')\n",
    "graph_name = 'window_pp_pnp_diff_' + limb['name']\n",
    "\n",
    "plt.figure(figsize=[15,15])\n",
    "#plt.title(title)\n",
    "plt.xlabel('Channel', fontsize=graph_font_label)\n",
    "plt.xticks(ticks=range(n_channels), labels=graph_labels, rotation=-55, fontsize=graph_font_ticks)\n",
    "plt.yticks(range(4), fontsize=graph_font_ticks)\n",
    "plt.ylabel('Offset (s)', fontsize=graph_font_label)\n",
    "plt.imshow(diff_pp_pnp_all_windows.transpose(), cmap='bwr')\n",
    "plt.tight_layout()\n",
    "plt.savefig('./results/graphs/rearranged/h/' + limb['name'] + '/' + graph_name + '.eps', bbox_inches='tight')\n",
    "plt.savefig('./results/graphs/rearranged/h/' + limb['name'] + '/' + graph_name + '.jpg', bbox_inches='tight')"
   ]
  },
  {
   "cell_type": "code",
   "execution_count": 225,
   "metadata": {},
   "outputs": [
    {
     "data": {
      "image/png": "[encoded data removed]",
      "text/plain": [
       "<Figure size 1080x1080 with 1 Axes>"
      ]
     },
     "metadata": {
      "needs_background": "light"
     },
     "output_type": "display_data"
    }
   ],
   "source": [
    "title = str('Normalized HFD difference in ' + limb['name'] + ' between PDP and PNP within a 2s sliding window; k=7\\n' +\n",
    "        'Red indicates PDP > PNP; Blue indicates PDP < PNP; white indicates similar values')\n",
    "graph_name = 'window_hv_pp_diff_' + limb['name']\n",
    "\n",
    "plt.figure(figsize=[15,15])\n",
    "#plt.title(title)\n",
    "plt.xlabel('Channel', fontsize=graph_font_label)\n",
    "plt.xticks(ticks=range(n_channels), labels=graph_labels, rotation=-55, fontsize=graph_font_ticks)\n",
    "plt.yticks(range(4), fontsize=graph_font_ticks)\n",
    "plt.ylabel('Offset (s)', fontsize=graph_font_label)\n",
    "plt.imshow(diff_hv_pp_all_windows.transpose(), cmap='bwr')\n",
    "plt.tight_layout()\n",
    "plt.savefig('./results/graphs/rearranged/h/' + limb['name'] + '/' + graph_name + '.eps', bbox_inches='tight')\n",
    "plt.savefig('./results/graphs/rearranged/h/' + limb['name'] + '/' + graph_name + '.jpg', bbox_inches='tight')"
   ]
  },
  {
   "cell_type": "code",
   "execution_count": 226,
   "metadata": {},
   "outputs": [
    {
     "data": {
      "image/png": "[encoded data removed]",
      "text/plain": [
       "<Figure size 1080x1080 with 1 Axes>"
      ]
     },
     "metadata": {
      "needs_background": "light"
     },
     "output_type": "display_data"
    }
   ],
   "source": [
    "title = str('Normalized HFD difference in ' + limb['name'] + ' between PDP and PNP within a 2s sliding window; k=7\\n' +\n",
    "        'Red indicates PDP > PNP; Blue indicates PDP < PNP; white indicates similar values')\n",
    "graph_name = 'window_hv_pnp_diff_' + limb['name']\n",
    "\n",
    "plt.figure(figsize=[15,15])\n",
    "#plt.title(title)\n",
    "plt.xlabel('Channel', fontsize=graph_font_label)\n",
    "plt.xticks(ticks=range(n_channels), labels=graph_labels, rotation=-55, fontsize=graph_font_ticks)\n",
    "plt.yticks(range(4), fontsize=graph_font_ticks)\n",
    "plt.ylabel('Offset (s)', fontsize=graph_font_label)\n",
    "plt.imshow(diff_hv_pnp_all_windows.transpose(), cmap='bwr')\n",
    "plt.tight_layout()\n",
    "plt.savefig('./results/graphs/rearranged/h/' + limb['name'] + '/' + graph_name + '.eps', bbox_inches='tight')\n",
    "plt.savefig('./results/graphs/rearranged/h/' + limb['name'] + '/' + graph_name + '.jpg', bbox_inches='tight')"
   ]
  },
  {
   "cell_type": "code",
   "execution_count": null,
   "metadata": {},
   "outputs": [],
   "source": []
  },
  {
   "cell_type": "code",
   "execution_count": null,
   "metadata": {},
   "outputs": [],
   "source": []
  },
  {
   "cell_type": "code",
   "execution_count": 8,
   "metadata": {},
   "outputs": [
    {
     "data": {
      "text/plain": [
       "MatlabOpaque([(b'locations', b'MCOS', b'table', array([[3707764736],\n",
       "       [         2],\n",
       "       [         1],\n",
       "       [         1],\n",
       "       [         1],\n",
       "       [         1]], dtype=uint32))],\n",
       "             dtype=[('s0', 'O'), ('s1', 'O'), ('s2', 'O'), ('arr', 'O')])"
      ]
     },
     "execution_count": 8,
     "metadata": {},
     "output_type": "execute_result"
    }
   ],
   "source": [
    "scipy.io.loadmat('./notebooks/Standard_10-10_61ch.mat')['None']"
   ]
  },
  {
   "cell_type": "code",
   "execution_count": null,
   "metadata": {},
   "outputs": [],
   "source": []
  },
  {
   "cell_type": "code",
   "execution_count": 22,
   "metadata": {},
   "outputs": [
    {
     "data": {
      "text/plain": [
       "(56, 48, 1)"
      ]
     },
     "execution_count": 22,
     "metadata": {},
     "output_type": "execute_result"
    }
   ],
   "source": [
    "pnp_rh[0].shape"
   ]
  },
  {
   "cell_type": "code",
   "execution_count": 23,
   "metadata": {},
   "outputs": [
    {
     "data": {
      "text/plain": [
       "(58, 48, 1)"
      ]
     },
     "execution_count": 23,
     "metadata": {},
     "output_type": "execute_result"
    }
   ],
   "source": [
    "pp_rh[3].shape"
   ]
  },
  {
   "cell_type": "code",
   "execution_count": 24,
   "metadata": {},
   "outputs": [
    {
     "data": {
      "text/plain": [
       "(14,)"
      ]
     },
     "execution_count": 24,
     "metadata": {},
     "output_type": "execute_result"
    }
   ],
   "source": [
    "pp_and_pnp = np.concatenate((pp_rh, pnp_rh))\n",
    "pp_and_pnp.shape"
   ]
  },
  {
   "cell_type": "code",
   "execution_count": null,
   "metadata": {},
   "outputs": [],
   "source": []
  },
  {
   "cell_type": "markdown",
   "metadata": {},
   "source": [
    "For rearranging channels"
   ]
  },
  {
   "cell_type": "code",
   "execution_count": 45,
   "metadata": {},
   "outputs": [
    {
     "data": {
      "text/plain": [
       "array(['C', 'B', 'A'], dtype='<U1')"
      ]
     },
     "execution_count": 45,
     "metadata": {},
     "output_type": "execute_result"
    }
   ],
   "source": [
    "example_1"
   ]
  },
  {
   "cell_type": "code",
   "execution_count": 61,
   "metadata": {},
   "outputs": [],
   "source": [
    "correct_order = np.array(['A', 'B', 'C'])\n",
    "current_order = np.array(['B', 'C', 'A'])"
   ]
  },
  {
   "cell_type": "code",
   "execution_count": 65,
   "metadata": {},
   "outputs": [
    {
     "data": {
      "text/plain": [
       "[2, 0, 1]"
      ]
     },
     "execution_count": 65,
     "metadata": {},
     "output_type": "execute_result"
    }
   ],
   "source": [
    "indices_rearranged = [np.where(current_order == channel_name)[0][0] for channel_name in correct_order]\n",
    "indices_rearranged"
   ]
  },
  {
   "cell_type": "code",
   "execution_count": 67,
   "metadata": {},
   "outputs": [
    {
     "data": {
      "text/plain": [
       "array(['B', 'C', 'A'], dtype='<U1')"
      ]
     },
     "execution_count": 67,
     "metadata": {},
     "output_type": "execute_result"
    }
   ],
   "source": [
    "current_order"
   ]
  },
  {
   "cell_type": "code",
   "execution_count": 66,
   "metadata": {},
   "outputs": [
    {
     "data": {
      "text/plain": [
       "array(['A', 'B', 'C'], dtype='<U1')"
      ]
     },
     "execution_count": 66,
     "metadata": {},
     "output_type": "execute_result"
    }
   ],
   "source": [
    "current_order[indices_rearranged]"
   ]
  },
  {
   "cell_type": "code",
   "execution_count": 48,
   "metadata": {},
   "outputs": [
    {
     "ename": "NameError",
     "evalue": "name 'pp_rh' is not defined",
     "output_type": "error",
     "traceback": [
      "\u001b[1;31m---------------------------------------------------------------------------\u001b[0m",
      "\u001b[1;31mNameError\u001b[0m                                 Traceback (most recent call last)",
      "\u001b[1;32m<ipython-input-48-e4a20e2000cc>\u001b[0m in \u001b[0;36m<module>\u001b[1;34m\u001b[0m\n\u001b[1;32m----> 1\u001b[1;33m \u001b[0mpp_rh\u001b[0m\u001b[1;33m[\u001b[0m\u001b[1;36m0\u001b[0m\u001b[1;33m]\u001b[0m\u001b[1;33m[\u001b[0m\u001b[1;36m0\u001b[0m\u001b[1;33m]\u001b[0m\u001b[1;33m.\u001b[0m\u001b[0mshape\u001b[0m\u001b[1;33m\u001b[0m\u001b[1;33m\u001b[0m\u001b[0m\n\u001b[0m",
      "\u001b[1;31mNameError\u001b[0m: name 'pp_rh' is not defined"
     ]
    }
   ],
   "source": [
    "pp_rh[0][0].shape"
   ]
  },
  {
   "cell_type": "code",
   "execution_count": null,
   "metadata": {},
   "outputs": [],
   "source": []
  },
  {
   "cell_type": "code",
   "execution_count": null,
   "metadata": {},
   "outputs": [],
   "source": []
  },
  {
   "cell_type": "code",
   "execution_count": 13,
   "metadata": {},
   "outputs": [
    {
     "data": {
      "text/plain": [
       "(61, 4)"
      ]
     },
     "execution_count": 13,
     "metadata": {},
     "output_type": "execute_result"
    }
   ],
   "source": [
    "current_array = scipy.io.loadmat('./results/arrays/pp_pnp/hfd_2s_window_means_l.mat')\n",
    "current_array['pp'].shape"
   ]
  },
  {
   "cell_type": "code",
   "execution_count": 15,
   "metadata": {},
   "outputs": [],
   "source": []
  },
  {
   "cell_type": "code",
   "execution_count": 16,
   "metadata": {},
   "outputs": [],
   "source": [
    "indices_rearranged = [np.where(current_order == channel_name)[0][0] for channel_name in correct_order]"
   ]
  },
  {
   "cell_type": "code",
   "execution_count": 18,
   "metadata": {},
   "outputs": [
    {
     "ename": "AttributeError",
     "evalue": "'list' object has no attribute 'shape'",
     "output_type": "error",
     "traceback": [
      "\u001b[1;31m---------------------------------------------------------------------------\u001b[0m",
      "\u001b[1;31mAttributeError\u001b[0m                            Traceback (most recent call last)",
      "\u001b[1;32m<ipython-input-18-07c83818b8bc>\u001b[0m in \u001b[0;36m<module>\u001b[1;34m\u001b[0m\n\u001b[1;32m----> 1\u001b[1;33m \u001b[0mpp_all_windows\u001b[0m\u001b[1;33m.\u001b[0m\u001b[0mshape\u001b[0m\u001b[1;33m\u001b[0m\u001b[1;33m\u001b[0m\u001b[0m\n\u001b[0m",
      "\u001b[1;31mAttributeError\u001b[0m: 'list' object has no attribute 'shape'"
     ]
    }
   ],
   "source": [
    "pp_all_windows.shape"
   ]
  },
  {
   "cell_type": "code",
   "execution_count": null,
   "metadata": {},
   "outputs": [],
   "source": []
  },
  {
   "cell_type": "code",
   "execution_count": 21,
   "metadata": {},
   "outputs": [
    {
     "data": {
      "text/plain": [
       "array([1.82944554, 1.82878706, 1.83018283, 1.83125091, 1.83098103,\n",
       "       1.82870121, 1.83101779, 1.83156226, 1.83137508, 1.8343635 ,\n",
       "       1.83543213, 1.83433073, 1.83306887, 1.83028393, 1.83023464,\n",
       "       1.83527069, 1.83179804, 1.83265608, 1.83895252, 1.83867144,\n",
       "       1.83747702, 1.83450789, 1.83494854, 1.83750561, 1.84212986,\n",
       "       1.83478761, 1.83874968, 1.8455308 , 1.84053751, 1.83897644,\n",
       "       1.83826811, 1.84252731, 1.84460197, 1.84802746, 1.83727167,\n",
       "       1.83951499, 1.84295567, 1.84038728, 1.83525236, 1.83898306,\n",
       "       1.84172011, 1.84065434, 1.84596539, 1.83687105, 1.83487019,\n",
       "       1.83481768, 1.83419275, 1.82928853, 1.83263224, 1.83404899,\n",
       "       1.83507887, 1.83595565, 1.83288887, 1.828805  , 1.8252163 ,\n",
       "       1.82844504, 1.83278066, 1.8316504 , 1.82946538, 1.82987338,\n",
       "       1.83418559])"
      ]
     },
     "execution_count": 21,
     "metadata": {},
     "output_type": "execute_result"
    }
   ],
   "source": [
    "current_array['pp'][:, 0][indices_rearranged]"
   ]
  },
  {
   "cell_type": "code",
   "execution_count": 31,
   "metadata": {},
   "outputs": [
    {
     "data": {
      "text/plain": [
       "array([1.83897644, 1.84053751, 1.83826811, 1.8455308 , 1.84252731,\n",
       "       1.83874968, 1.84460197, 1.83478761, 1.84802746, 1.83747702,\n",
       "       1.83867144, 1.83450789, 1.83895252, 1.83494854, 1.83265608,\n",
       "       1.83750561, 1.83179804, 1.84212986, 1.83525236, 1.84038728,\n",
       "       1.83898306, 1.84295567, 1.84172011, 1.83951499, 1.84065434,\n",
       "       1.83727167, 1.84596539, 1.83433073, 1.83543213, 1.83306887,\n",
       "       1.8343635 , 1.83028393, 1.83137508, 1.83023464, 1.83156226,\n",
       "       1.83527069, 1.82928853, 1.83419275, 1.83263224, 1.83481768,\n",
       "       1.83404899, 1.83487019, 1.83507887, 1.83687105, 1.83595565,\n",
       "       1.83098103, 1.83125091, 1.82870121, 1.83018283, 1.83101779,\n",
       "       1.82944554, 1.82878706, 1.8252163 , 1.828805  , 1.82844504,\n",
       "       1.83288887, 1.83278066, 1.82946538, 1.8316504 , 1.82987338,\n",
       "       1.83418559])"
      ]
     },
     "execution_count": 31,
     "metadata": {},
     "output_type": "execute_result"
    }
   ],
   "source": [
    "current_array['pp'][:, 0]"
   ]
  },
  {
   "cell_type": "code",
   "execution_count": 24,
   "metadata": {},
   "outputs": [
    {
     "ename": "IndexError",
     "evalue": "invalid index to scalar variable.",
     "output_type": "error",
     "traceback": [
      "\u001b[1;31m---------------------------------------------------------------------------\u001b[0m",
      "\u001b[1;31mIndexError\u001b[0m                                Traceback (most recent call last)",
      "\u001b[1;32m<ipython-input-24-297bdb5b7fb0>\u001b[0m in \u001b[0;36m<module>\u001b[1;34m\u001b[0m\n\u001b[0;32m      1\u001b[0m rearranged_pp = np.array(list(map(lambda arr_p: list(map(lambda arr_r: arr_r[indices_rearranged], arr_p)), \n\u001b[1;32m----> 2\u001b[1;33m                                   current_array['pp'])))\n\u001b[0m\u001b[0;32m      3\u001b[0m \u001b[1;33m\u001b[0m\u001b[0m\n\u001b[0;32m      4\u001b[0m rearranged_pnp = np.array(list(map(lambda arr_p: list(map(lambda arr_r: arr_r[indices_rearranged], arr_p)),\n\u001b[0;32m      5\u001b[0m                                    current_array['pnp'])))\n",
      "\u001b[1;32m<ipython-input-24-297bdb5b7fb0>\u001b[0m in \u001b[0;36m<lambda>\u001b[1;34m(arr_p)\u001b[0m\n\u001b[1;32m----> 1\u001b[1;33m rearranged_pp = np.array(list(map(lambda arr_p: list(map(lambda arr_r: arr_r[indices_rearranged], arr_p)), \n\u001b[0m\u001b[0;32m      2\u001b[0m                                   current_array['pp'])))\n\u001b[0;32m      3\u001b[0m \u001b[1;33m\u001b[0m\u001b[0m\n\u001b[0;32m      4\u001b[0m rearranged_pnp = np.array(list(map(lambda arr_p: list(map(lambda arr_r: arr_r[indices_rearranged], arr_p)),\n\u001b[0;32m      5\u001b[0m                                    current_array['pnp'])))\n",
      "\u001b[1;32m<ipython-input-24-297bdb5b7fb0>\u001b[0m in \u001b[0;36m<lambda>\u001b[1;34m(arr_r)\u001b[0m\n\u001b[1;32m----> 1\u001b[1;33m rearranged_pp = np.array(list(map(lambda arr_p: list(map(lambda arr_r: arr_r[indices_rearranged], arr_p)), \n\u001b[0m\u001b[0;32m      2\u001b[0m                                   current_array['pp'])))\n\u001b[0;32m      3\u001b[0m \u001b[1;33m\u001b[0m\u001b[0m\n\u001b[0;32m      4\u001b[0m rearranged_pnp = np.array(list(map(lambda arr_p: list(map(lambda arr_r: arr_r[indices_rearranged], arr_p)),\n\u001b[0;32m      5\u001b[0m                                    current_array['pnp'])))\n",
      "\u001b[1;31mIndexError\u001b[0m: invalid index to scalar variable."
     ]
    }
   ],
   "source": [
    "rearranged_pp = np.array(list(map(lambda arr_p: list(map(lambda arr_r: arr_r[indices_rearranged], arr_p)), \n",
    "                                  current_array['pp'])))\n",
    "\n",
    "rearranged_pnp = np.array(list(map(lambda arr_p: list(map(lambda arr_r: arr_r[indices_rearranged], arr_p)),\n",
    "                                   current_array['pnp'])))\n",
    "\n",
    "rearranged_hv = np.array(list(map(lambda arr_p: list(map(lambda arr_r: arr_r[indices_rearranged], arr_p)), \n",
    "                                  current_array['hv'])))"
   ]
  },
  {
   "cell_type": "code",
   "execution_count": 33,
   "metadata": {},
   "outputs": [
    {
     "data": {
      "text/plain": [
       "array([[1.83897644, 1.82553499, 1.81828744, 1.82901062],\n",
       "       [1.84053751, 1.83220016, 1.82911756, 1.8365225 ],\n",
       "       [1.83826811, 1.83160734, 1.83050417, 1.83659515],\n",
       "       [1.8455308 , 1.84181306, 1.84117118, 1.8435972 ],\n",
       "       [1.84252731, 1.8407325 , 1.84328354, 1.84419153],\n",
       "       [1.83874968, 1.83603025, 1.83607544, 1.83825309],\n",
       "       [1.84460197, 1.84165228, 1.84375297, 1.84441384],\n",
       "       [1.83478761, 1.83169825, 1.83231813, 1.83689537],\n",
       "       [1.84802746, 1.84289045, 1.84396678, 1.84641809],\n",
       "       [1.83747702, 1.82499953, 1.82140901, 1.8342249 ],\n",
       "       [1.83867144, 1.82960909, 1.82730345, 1.83834773],\n",
       "       [1.83450789, 1.82711799, 1.82595639, 1.8344659 ],\n",
       "       [1.83895252, 1.83507232, 1.83485829, 1.84113699],\n",
       "       [1.83494854, 1.83404286, 1.83511943, 1.83606355],\n",
       "       [1.83265608, 1.82853731, 1.82919994, 1.83527647],\n",
       "       [1.83750561, 1.83545764, 1.83568792, 1.8370429 ],\n",
       "       [1.83179804, 1.82663036, 1.82699349, 1.83354925],\n",
       "       [1.84212986, 1.83803925, 1.83856293, 1.84196379],\n",
       "       [1.83525236, 1.82981005, 1.82912757, 1.83559205],\n",
       "       [1.84038728, 1.83589224, 1.83665402, 1.84021818],\n",
       "       [1.83898306, 1.83366225, 1.83375713, 1.83885515],\n",
       "       [1.84295567, 1.83943262, 1.84132037, 1.84222919],\n",
       "       [1.84172011, 1.83669271, 1.83736026, 1.84179268],\n",
       "       [1.83951499, 1.83820856, 1.83967189, 1.83918527],\n",
       "       [1.84065434, 1.83568079, 1.83599018, 1.8398225 ],\n",
       "       [1.83727167, 1.83694339, 1.83791638, 1.83910124],\n",
       "       [1.84596539, 1.84176096, 1.84008906, 1.84261087],\n",
       "       [1.83433073, 1.82729797, 1.82586761, 1.83356363],\n",
       "       [1.83543213, 1.82969295, 1.82776961, 1.8358847 ],\n",
       "       [1.83306887, 1.82749648, 1.826941  , 1.83253437],\n",
       "       [1.8343635 , 1.83033148, 1.8290557 , 1.83602418],\n",
       "       [1.83028393, 1.82717514, 1.82751631, 1.83027231],\n",
       "       [1.83137508, 1.82706557, 1.82672611, 1.83377203],\n",
       "       [1.83023464, 1.82798146, 1.82793095, 1.83020749],\n",
       "       [1.83156226, 1.82668807, 1.82656286, 1.83353084],\n",
       "       [1.83527069, 1.83260344, 1.83188953, 1.83528294],\n",
       "       [1.82928853, 1.8244228 , 1.82596908, 1.83291589],\n",
       "       [1.83419275, 1.83085207, 1.83259122, 1.83672699],\n",
       "       [1.83263224, 1.82686538, 1.82701791, 1.83515829],\n",
       "       [1.83481768, 1.83299553, 1.83499406, 1.83710549],\n",
       "       [1.83404899, 1.82872529, 1.8285638 , 1.83709043],\n",
       "       [1.83487019, 1.83473336, 1.83511051, 1.83721841],\n",
       "       [1.83507887, 1.83078988, 1.83042009, 1.83793352],\n",
       "       [1.83687105, 1.83743303, 1.83728207, 1.83917547],\n",
       "       [1.83595565, 1.83349763, 1.83139801, 1.83668099],\n",
       "       [1.83098103, 1.82638388, 1.8251799 , 1.83113439],\n",
       "       [1.83125091, 1.8272331 , 1.82562782, 1.83233561],\n",
       "       [1.82870121, 1.82502168, 1.82459914, 1.82846525],\n",
       "       [1.83018283, 1.82590523, 1.82524586, 1.83198372],\n",
       "       [1.83101779, 1.82816482, 1.8275618 , 1.83073418],\n",
       "       [1.82944554, 1.82526205, 1.82457858, 1.82976834],\n",
       "       [1.82878706, 1.82515933, 1.824971  , 1.8288142 ],\n",
       "       [1.8252163 , 1.82032301, 1.82133259, 1.82975437],\n",
       "       [1.828805  , 1.82653873, 1.8280045 , 1.83424965],\n",
       "       [1.82844504, 1.82501003, 1.82480675, 1.83361636],\n",
       "       [1.83288887, 1.83363113, 1.83404468, 1.83878365],\n",
       "       [1.83278066, 1.83153264, 1.82993092, 1.83734061],\n",
       "       [1.82946538, 1.82728675, 1.82739099, 1.83544316],\n",
       "       [1.8316504 , 1.83077177, 1.83181901, 1.83825235],\n",
       "       [1.82987338, 1.82851505, 1.82806581, 1.83629854],\n",
       "       [1.83418559, 1.83346489, 1.83243854, 1.83854632]])"
      ]
     },
     "execution_count": 33,
     "metadata": {},
     "output_type": "execute_result"
    }
   ],
   "source": [
    "current_array['pp']"
   ]
  },
  {
   "cell_type": "code",
   "execution_count": 28,
   "metadata": {},
   "outputs": [
    {
     "data": {
      "text/plain": [
       "array([[1.82944554, 1.82526205, 1.82457858, 1.82976834],\n",
       "       [1.82878706, 1.82515933, 1.824971  , 1.8288142 ],\n",
       "       [1.83018283, 1.82590523, 1.82524586, 1.83198372],\n",
       "       [1.83125091, 1.8272331 , 1.82562782, 1.83233561],\n",
       "       [1.83098103, 1.82638388, 1.8251799 , 1.83113439],\n",
       "       [1.82870121, 1.82502168, 1.82459914, 1.82846525],\n",
       "       [1.83101779, 1.82816482, 1.8275618 , 1.83073418],\n",
       "       [1.83156226, 1.82668807, 1.82656286, 1.83353084],\n",
       "       [1.83137508, 1.82706557, 1.82672611, 1.83377203],\n",
       "       [1.8343635 , 1.83033148, 1.8290557 , 1.83602418],\n",
       "       [1.83543213, 1.82969295, 1.82776961, 1.8358847 ],\n",
       "       [1.83433073, 1.82729797, 1.82586761, 1.83356363],\n",
       "       [1.83306887, 1.82749648, 1.826941  , 1.83253437],\n",
       "       [1.83028393, 1.82717514, 1.82751631, 1.83027231],\n",
       "       [1.83023464, 1.82798146, 1.82793095, 1.83020749],\n",
       "       [1.83527069, 1.83260344, 1.83188953, 1.83528294],\n",
       "       [1.83179804, 1.82663036, 1.82699349, 1.83354925],\n",
       "       [1.83265608, 1.82853731, 1.82919994, 1.83527647],\n",
       "       [1.83895252, 1.83507232, 1.83485829, 1.84113699],\n",
       "       [1.83867144, 1.82960909, 1.82730345, 1.83834773],\n",
       "       [1.83747702, 1.82499953, 1.82140901, 1.8342249 ],\n",
       "       [1.83450789, 1.82711799, 1.82595639, 1.8344659 ],\n",
       "       [1.83494854, 1.83404286, 1.83511943, 1.83606355],\n",
       "       [1.83750561, 1.83545764, 1.83568792, 1.8370429 ],\n",
       "       [1.84212986, 1.83803925, 1.83856293, 1.84196379],\n",
       "       [1.83478761, 1.83169825, 1.83231813, 1.83689537],\n",
       "       [1.83874968, 1.83603025, 1.83607544, 1.83825309],\n",
       "       [1.8455308 , 1.84181306, 1.84117118, 1.8435972 ],\n",
       "       [1.84053751, 1.83220016, 1.82911756, 1.8365225 ],\n",
       "       [1.83897644, 1.82553499, 1.81828744, 1.82901062],\n",
       "       [1.83826811, 1.83160734, 1.83050417, 1.83659515],\n",
       "       [1.84252731, 1.8407325 , 1.84328354, 1.84419153],\n",
       "       [1.84460197, 1.84165228, 1.84375297, 1.84441384],\n",
       "       [1.84802746, 1.84289045, 1.84396678, 1.84641809],\n",
       "       [1.83727167, 1.83694339, 1.83791638, 1.83910124],\n",
       "       [1.83951499, 1.83820856, 1.83967189, 1.83918527],\n",
       "       [1.84295567, 1.83943262, 1.84132037, 1.84222919],\n",
       "       [1.84038728, 1.83589224, 1.83665402, 1.84021818],\n",
       "       [1.83525236, 1.82981005, 1.82912757, 1.83559205],\n",
       "       [1.83898306, 1.83366225, 1.83375713, 1.83885515],\n",
       "       [1.84172011, 1.83669271, 1.83736026, 1.84179268],\n",
       "       [1.84065434, 1.83568079, 1.83599018, 1.8398225 ],\n",
       "       [1.84596539, 1.84176096, 1.84008906, 1.84261087],\n",
       "       [1.83687105, 1.83743303, 1.83728207, 1.83917547],\n",
       "       [1.83487019, 1.83473336, 1.83511051, 1.83721841],\n",
       "       [1.83481768, 1.83299553, 1.83499406, 1.83710549],\n",
       "       [1.83419275, 1.83085207, 1.83259122, 1.83672699],\n",
       "       [1.82928853, 1.8244228 , 1.82596908, 1.83291589],\n",
       "       [1.83263224, 1.82686538, 1.82701791, 1.83515829],\n",
       "       [1.83404899, 1.82872529, 1.8285638 , 1.83709043],\n",
       "       [1.83507887, 1.83078988, 1.83042009, 1.83793352],\n",
       "       [1.83595565, 1.83349763, 1.83139801, 1.83668099],\n",
       "       [1.83288887, 1.83363113, 1.83404468, 1.83878365],\n",
       "       [1.828805  , 1.82653873, 1.8280045 , 1.83424965],\n",
       "       [1.8252163 , 1.82032301, 1.82133259, 1.82975437],\n",
       "       [1.82844504, 1.82501003, 1.82480675, 1.83361636],\n",
       "       [1.83278066, 1.83153264, 1.82993092, 1.83734061],\n",
       "       [1.8316504 , 1.83077177, 1.83181901, 1.83825235],\n",
       "       [1.82946538, 1.82728675, 1.82739099, 1.83544316],\n",
       "       [1.82987338, 1.82851505, 1.82806581, 1.83629854],\n",
       "       [1.83418559, 1.83346489, 1.83243854, 1.83854632]])"
      ]
     },
     "execution_count": 28,
     "metadata": {},
     "output_type": "execute_result"
    }
   ],
   "source": [
    "current_array['pp'][indices_rearranged]"
   ]
  },
  {
   "cell_type": "code",
   "execution_count": 34,
   "metadata": {},
   "outputs": [
    {
     "ename": "IndexError",
     "evalue": "invalid index to scalar variable.",
     "output_type": "error",
     "traceback": [
      "\u001b[1;31m---------------------------------------------------------------------------\u001b[0m",
      "\u001b[1;31mIndexError\u001b[0m                                Traceback (most recent call last)",
      "\u001b[1;32m<ipython-input-34-297bdb5b7fb0>\u001b[0m in \u001b[0;36m<module>\u001b[1;34m\u001b[0m\n\u001b[0;32m      1\u001b[0m rearranged_pp = np.array(list(map(lambda arr_p: list(map(lambda arr_r: arr_r[indices_rearranged], arr_p)), \n\u001b[1;32m----> 2\u001b[1;33m                                   current_array['pp'])))\n\u001b[0m\u001b[0;32m      3\u001b[0m \u001b[1;33m\u001b[0m\u001b[0m\n\u001b[0;32m      4\u001b[0m rearranged_pnp = np.array(list(map(lambda arr_p: list(map(lambda arr_r: arr_r[indices_rearranged], arr_p)),\n\u001b[0;32m      5\u001b[0m                                    current_array['pnp'])))\n",
      "\u001b[1;32m<ipython-input-34-297bdb5b7fb0>\u001b[0m in \u001b[0;36m<lambda>\u001b[1;34m(arr_p)\u001b[0m\n\u001b[1;32m----> 1\u001b[1;33m rearranged_pp = np.array(list(map(lambda arr_p: list(map(lambda arr_r: arr_r[indices_rearranged], arr_p)), \n\u001b[0m\u001b[0;32m      2\u001b[0m                                   current_array['pp'])))\n\u001b[0;32m      3\u001b[0m \u001b[1;33m\u001b[0m\u001b[0m\n\u001b[0;32m      4\u001b[0m rearranged_pnp = np.array(list(map(lambda arr_p: list(map(lambda arr_r: arr_r[indices_rearranged], arr_p)),\n\u001b[0;32m      5\u001b[0m                                    current_array['pnp'])))\n",
      "\u001b[1;32m<ipython-input-34-297bdb5b7fb0>\u001b[0m in \u001b[0;36m<lambda>\u001b[1;34m(arr_r)\u001b[0m\n\u001b[1;32m----> 1\u001b[1;33m rearranged_pp = np.array(list(map(lambda arr_p: list(map(lambda arr_r: arr_r[indices_rearranged], arr_p)), \n\u001b[0m\u001b[0;32m      2\u001b[0m                                   current_array['pp'])))\n\u001b[0;32m      3\u001b[0m \u001b[1;33m\u001b[0m\u001b[0m\n\u001b[0;32m      4\u001b[0m rearranged_pnp = np.array(list(map(lambda arr_p: list(map(lambda arr_r: arr_r[indices_rearranged], arr_p)),\n\u001b[0;32m      5\u001b[0m                                    current_array['pnp'])))\n",
      "\u001b[1;31mIndexError\u001b[0m: invalid index to scalar variable."
     ]
    }
   ],
   "source": [
    "rearranged_pp = np.array(list(map(lambda arr_p: list(map(lambda arr_r: arr_r[indices_rearranged], arr_p)), \n",
    "                                  current_array['pp'])))\n",
    "\n",
    "rearranged_pnp = np.array(list(map(lambda arr_p: list(map(lambda arr_r: arr_r[indices_rearranged], arr_p)),\n",
    "                                   current_array['pnp'])))\n",
    "\n",
    "rearranged_hv = np.array(list(map(lambda arr_p: list(map(lambda arr_r: arr_r[indices_rearranged], arr_p)), \n",
    "                                  current_array['hv'])))"
   ]
  },
  {
   "cell_type": "code",
   "execution_count": null,
   "metadata": {},
   "outputs": [],
   "source": []
  },
  {
   "cell_type": "code",
   "execution_count": 113,
   "metadata": {},
   "outputs": [],
   "source": [
    "scipy.io.savemat('./results/arrays/hfd_2s_window_repetitions_rearranged_l.mat', {'pp': rearranged_pp, 'pnp': rearranged_pnp, 'hv': rearranged_hv})"
   ]
  },
  {
   "cell_type": "code",
   "execution_count": 114,
   "metadata": {},
   "outputs": [
    {
     "data": {
      "text/plain": [
       "(4, 528, 61)"
      ]
     },
     "execution_count": 114,
     "metadata": {},
     "output_type": "execute_result"
    }
   ],
   "source": [
    "testttt = scipy.io.loadmat('./results/arrays/pp_pnp/hfd_2s_window_repetitions_rearranged_l.mat')\n",
    "testttt['pp'].shape"
   ]
  },
  {
   "cell_type": "code",
   "execution_count": 115,
   "metadata": {},
   "outputs": [
    {
     "data": {
      "text/plain": [
       "array([1.84731532, 1.8360126 , 1.85882688, 1.85195306, 1.84423248,\n",
       "       1.83537166, 1.82971399, 1.86868226, 1.87026202, 1.86946938,\n",
       "       1.86157894, 1.84735954, 1.8393229 , 1.83176794, 1.82752963,\n",
       "       1.82559224, 1.89022829, 1.8941037 , 1.88649916, 1.87650477,\n",
       "       1.85378392, 1.83246668, 1.82341235, 1.8272976 , 1.82397022,\n",
       "       1.89310203, 1.8857764 , 1.87722414, 1.8805008 , 1.868837  ,\n",
       "       1.83548388, 1.83861148, 1.84039018, 1.83894312, 1.866221  ,\n",
       "       1.87106163, 1.86712009, 1.8582025 , 1.85122382, 1.843322  ,\n",
       "       1.8451434 , 1.84683443, 1.84644543, 1.84262577, 1.84455621,\n",
       "       1.84624889, 1.84881723, 1.86954189, 1.87493845, 1.87481331,\n",
       "       1.87239994, 1.86889409, 1.83523392, 1.83428848, 1.85251009,\n",
       "       1.87778849, 1.87749486, 1.83813253, 1.84864046, 1.86412149,\n",
       "       1.84426391])"
      ]
     },
     "execution_count": 115,
     "metadata": {},
     "output_type": "execute_result"
    }
   ],
   "source": [
    "testttt['pp'][0][0]"
   ]
  },
  {
   "cell_type": "code",
   "execution_count": null,
   "metadata": {},
   "outputs": [],
   "source": []
  },
  {
   "cell_type": "code",
   "execution_count": 20,
   "metadata": {},
   "outputs": [
    {
     "data": {
      "text/plain": [
       "(528, 1)"
      ]
     },
     "execution_count": 20,
     "metadata": {},
     "output_type": "execute_result"
    }
   ],
   "source": []
  },
  {
   "cell_type": "markdown",
   "metadata": {},
   "source": [
    "Plot histograms"
   ]
  },
  {
   "cell_type": "code",
   "execution_count": 20,
   "metadata": {},
   "outputs": [
    {
     "name": "stdout",
     "output_type": "stream",
     "text": [
      "1.8961302461744058 1.8915257412494955\n"
     ]
    }
   ],
   "source": [
    "# sample from two overlapping distributions (classes)\n",
    "\n",
    "x0 = np.vstack(pnp_rh)[:, 26]\n",
    "x1 = np.vstack(pp_rh)[:, 26]\n",
    "\n",
    "mean0 = np.mean(x0)\n",
    "mean1 = np.mean(x1)\n",
    "\n",
    "range = [np.min([np.min(x0), np.min(x1)]), np.max([np.max(x0), np.max(x1)])]\n",
    "print(mean0, mean1)"
   ]
  },
  {
   "cell_type": "code",
   "execution_count": null,
   "metadata": {},
   "outputs": [],
   "source": []
  },
  {
   "cell_type": "code",
   "execution_count": 53,
   "metadata": {},
   "outputs": [
    {
     "name": "stderr",
     "output_type": "stream",
     "text": [
      "D:\\etc\\software\\Anaconda\\lib\\site-packages\\matplotlib\\axes\\_axes.py:6510: MatplotlibDeprecationWarning: \n",
      "The 'normed' kwarg was deprecated in Matplotlib 2.1 and will be removed in 3.1. Use 'density' instead.\n",
      "  alternative=\"'density'\", removal=\"3.1\")\n"
     ]
    },
    {
     "data": {
      "image/png": "[encoded data removed]",
      "text/plain": [
       "<Figure size 864x432 with 1 Axes>"
      ]
     },
     "metadata": {
      "needs_background": "light"
     },
     "output_type": "display_data"
    }
   ],
   "source": [
    "# plot histogram of each, using same bin delimiters and non-zero transparency\n",
    "\n",
    "plt.figure(figsize=(12, 6))\n",
    "\n",
    "_, bins, _ = plt.hist(x0, bins=30, range=range, alpha=0.5, normed=True)\n",
    "\n",
    "plt.hist(x1, bins=bins, alpha=0.5, normed=True);\n",
    "\n",
    "plt.xlabel('Higuchi fractal dimension', fontsize=13)\n",
    "plt.ylabel('Repetitions', fontsize=13)\n",
    "plt.legend(['PNP', 'PDP'])\n",
    "\n",
    "plt.savefig('./results/graphs_etc/PDP_PNP_L_CP3_hist_norm.jpg', bbox_inches='tight')\n",
    "plt.savefig('./results/graphs_etc/PDP_PNP_L_CP3_hist_norm.eps', bbox_inches='tight')"
   ]
  },
  {
   "cell_type": "code",
   "execution_count": 22,
   "metadata": {},
   "outputs": [
    {
     "name": "stdout",
     "output_type": "stream",
     "text": [
      "Accuracy: 0.7445987654320987\n"
     ]
    }
   ],
   "source": [
    " # estimate accuracy of classifier with threshold half-way between means\n",
    "\n",
    "threshold = (mean0 + mean1)/2\n",
    "\n",
    "# assume x1 is positive and mean1 is higher\n",
    "\n",
    "fp = np.sum(x0>=threshold)\n",
    "\n",
    "fn = np.sum(x1<threshold)\n",
    "\n",
    "accuracy = 1-(fp+fn)/(2*(len(x0) + len(x1)))\n",
    "\n",
    "print(\"Accuracy:\", accuracy)"
   ]
  },
  {
   "cell_type": "code",
   "execution_count": 23,
   "metadata": {},
   "outputs": [
    {
     "data": {
      "text/plain": [
       "array([array([[[1.88609379],\n",
       "        [1.71198433],\n",
       "        [1.82304706],\n",
       "        ...,\n",
       "        [1.78504494],\n",
       "        [1.82568945],\n",
       "        [2.0196318 ]],\n",
       "\n",
       "       [[1.98630118],\n",
       "        [1.87906954],\n",
       "        [1.96253203],\n",
       "        ...,\n",
       "        [1.86150693],\n",
       "        [1.91337665],\n",
       "        [2.02122305]],\n",
       "\n",
       "       [[1.88313373],\n",
       "        [1.74318489],\n",
       "        [1.84477828],\n",
       "        ...,\n",
       "        [1.84664474],\n",
       "        [1.86682423],\n",
       "        [2.00693083]],\n",
       "\n",
       "       ...,\n",
       "\n",
       "       [[1.69790035],\n",
       "        [1.57746673],\n",
       "        [1.60137938],\n",
       "        ...,\n",
       "        [1.71610943],\n",
       "        [1.75725196],\n",
       "        [2.00658309]],\n",
       "\n",
       "       [[1.95627755],\n",
       "        [1.88072121],\n",
       "        [1.95448062],\n",
       "        ...,\n",
       "        [1.93364023],\n",
       "        [1.88235008],\n",
       "        [2.02494264]],\n",
       "\n",
       "       [[1.73802306],\n",
       "        [1.64613735],\n",
       "        [1.75135353],\n",
       "        ...,\n",
       "        [1.78143155],\n",
       "        [1.79499836],\n",
       "        [1.99422218]]]),\n",
       "       array([[[1.9877621 ],\n",
       "        [1.98445638],\n",
       "        [1.98545131],\n",
       "        ...,\n",
       "        [1.92490955],\n",
       "        [1.91536316],\n",
       "        [1.94146239]],\n",
       "\n",
       "       [[1.94686011],\n",
       "        [1.94469497],\n",
       "        [1.94565921],\n",
       "        ...,\n",
       "        [1.93131395],\n",
       "        [1.91780903],\n",
       "        [1.95383711]],\n",
       "\n",
       "       [[2.0191178 ],\n",
       "        [2.0196213 ],\n",
       "        [2.02400403],\n",
       "        ...,\n",
       "        [1.93556695],\n",
       "        [1.95329094],\n",
       "        [1.95164739]],\n",
       "\n",
       "       ...,\n",
       "\n",
       "       [[2.05649015],\n",
       "        [2.05380562],\n",
       "        [2.05004184],\n",
       "        ...,\n",
       "        [1.97379365],\n",
       "        [1.97503555],\n",
       "        [1.94219061]],\n",
       "\n",
       "       [[1.98251572],\n",
       "        [1.97794872],\n",
       "        [1.97876393],\n",
       "        ...,\n",
       "        [1.929284  ],\n",
       "        [1.92170235],\n",
       "        [1.92081709]],\n",
       "\n",
       "       [[1.86580817],\n",
       "        [1.83124061],\n",
       "        [1.77123958],\n",
       "        ...,\n",
       "        [1.86512902],\n",
       "        [1.88161526],\n",
       "        [1.93360987]]]),\n",
       "       array([[[1.89432683],\n",
       "        [1.85909849],\n",
       "        [1.85893957],\n",
       "        ...,\n",
       "        [1.94420416],\n",
       "        [1.9455829 ],\n",
       "        [1.99489744]],\n",
       "\n",
       "       [[1.73608591],\n",
       "        [1.70340509],\n",
       "        [1.69377393],\n",
       "        ...,\n",
       "        [1.88863377],\n",
       "        [1.94518224],\n",
       "        [1.98785819]],\n",
       "\n",
       "       [[1.64345434],\n",
       "        [1.64378687],\n",
       "        [1.63714319],\n",
       "        ...,\n",
       "        [1.79134131],\n",
       "        [1.85211704],\n",
       "        [1.91688727]],\n",
       "\n",
       "       ...,\n",
       "\n",
       "       [[1.76272343],\n",
       "        [1.76770448],\n",
       "        [1.76022117],\n",
       "        ...,\n",
       "        [1.90176221],\n",
       "        [1.9068187 ],\n",
       "        [1.94054716]],\n",
       "\n",
       "       [[1.62191625],\n",
       "        [1.63253611],\n",
       "        [1.60696995],\n",
       "        ...,\n",
       "        [1.88074523],\n",
       "        [1.90771703],\n",
       "        [1.8187257 ]],\n",
       "\n",
       "       [[1.71244195],\n",
       "        [1.74925941],\n",
       "        [1.78086126],\n",
       "        ...,\n",
       "        [1.93798332],\n",
       "        [1.94874006],\n",
       "        [1.86334716]]]),\n",
       "       array([[[1.64040273],\n",
       "        [1.61714843],\n",
       "        [1.67625803],\n",
       "        ...,\n",
       "        [1.79061761],\n",
       "        [1.88812156],\n",
       "        [1.91067097]],\n",
       "\n",
       "       [[1.69442012],\n",
       "        [1.66716483],\n",
       "        [1.68155325],\n",
       "        ...,\n",
       "        [1.84240105],\n",
       "        [1.91385486],\n",
       "        [1.8488799 ]],\n",
       "\n",
       "       [[1.68660823],\n",
       "        [1.66541808],\n",
       "        [1.69486606],\n",
       "        ...,\n",
       "        [1.90620494],\n",
       "        [1.95442776],\n",
       "        [1.94321919]],\n",
       "\n",
       "       ...,\n",
       "\n",
       "       [[1.75040492],\n",
       "        [1.71901571],\n",
       "        [1.80551912],\n",
       "        ...,\n",
       "        [1.87905486],\n",
       "        [1.90547073],\n",
       "        [1.89219011]],\n",
       "\n",
       "       [[1.75442613],\n",
       "        [1.70333442],\n",
       "        [1.79478253],\n",
       "        ...,\n",
       "        [1.89433163],\n",
       "        [1.94204094],\n",
       "        [2.00648157]],\n",
       "\n",
       "       [[1.76375892],\n",
       "        [1.7266839 ],\n",
       "        [1.76641276],\n",
       "        ...,\n",
       "        [1.94411544],\n",
       "        [1.93779803],\n",
       "        [1.98575502]]]),\n",
       "       array([[[1.96356505],\n",
       "        [1.85413896],\n",
       "        [1.95468721],\n",
       "        ...,\n",
       "        [1.96393294],\n",
       "        [1.94479582],\n",
       "        [2.01311357]],\n",
       "\n",
       "       [[1.82068553],\n",
       "        [1.68378256],\n",
       "        [1.85702236],\n",
       "        ...,\n",
       "        [1.85794172],\n",
       "        [1.91706187],\n",
       "        [1.98949727]],\n",
       "\n",
       "       [[1.78673443],\n",
       "        [1.69106037],\n",
       "        [1.8106155 ],\n",
       "        ...,\n",
       "        [1.84646259],\n",
       "        [1.92798974],\n",
       "        [1.98426144]],\n",
       "\n",
       "       ...,\n",
       "\n",
       "       [[1.72684489],\n",
       "        [1.7112363 ],\n",
       "        [1.73360565],\n",
       "        ...,\n",
       "        [1.8676014 ],\n",
       "        [1.84334068],\n",
       "        [1.94377428]],\n",
       "\n",
       "       [[1.64092935],\n",
       "        [1.60813737],\n",
       "        [1.60119187],\n",
       "        ...,\n",
       "        [1.81431558],\n",
       "        [1.83480968],\n",
       "        [1.93796706]],\n",
       "\n",
       "       [[1.73800584],\n",
       "        [1.6956232 ],\n",
       "        [1.69022508],\n",
       "        ...,\n",
       "        [1.86668716],\n",
       "        [1.89162439],\n",
       "        [1.96503777]]])], dtype=object)"
      ]
     },
     "execution_count": 23,
     "metadata": {},
     "output_type": "execute_result"
    }
   ],
   "source": [
    "pp_rh"
   ]
  },
  {
   "cell_type": "code",
   "execution_count": 31,
   "metadata": {},
   "outputs": [
    {
     "data": {
      "text/plain": [
       "[1.8903219430914342,\n",
       " 1.8807569029343596,\n",
       " 1.9013542933447398,\n",
       " 1.8798902820167507,\n",
       " 1.8970742646915366,\n",
       " 1.8680312138269002,\n",
       " 1.8842386639704027,\n",
       " 1.9089061329720844,\n",
       " 1.8101834096943712,\n",
       " 1.926207989360454,\n",
       " 1.9063441012245332,\n",
       " 1.8887434811974608,\n",
       " 1.8956859477335248,\n",
       " 1.8547204956197805,\n",
       " 1.9203985558463836,\n",
       " 1.8841605023081165,\n",
       " 1.893001842954505,\n",
       " 1.909418543551268,\n",
       " 1.9100653346995247,\n",
       " 1.8485020236859193,\n",
       " 1.9132729485553968,\n",
       " 1.8874339910683617,\n",
       " 1.7113000939343366,\n",
       " 1.8668805975828002,\n",
       " 1.8689560748755205,\n",
       " 1.8970959629960322,\n",
       " 1.9211514920827872,\n",
       " 1.8269895263863152,\n",
       " 1.894929679235232,\n",
       " 1.9219611987477896,\n",
       " 1.8882462210390607,\n",
       " 1.7869288978639608,\n",
       " 1.8597044943079974,\n",
       " 1.9253822060811454,\n",
       " 1.854706741414934,\n",
       " 1.8885411213789451,\n",
       " 1.875958764572405,\n",
       " 1.9221376930604008,\n",
       " 1.903400570116471,\n",
       " 1.8595821307637903,\n",
       " 1.9331288645768896,\n",
       " 1.8884494889694035,\n",
       " 1.8880343022210928,\n",
       " 1.8851055207354706,\n",
       " 1.8840587417767856,\n",
       " 1.8775765739591672,\n",
       " 1.8334996444997487,\n",
       " 1.8947199091614044,\n",
       " 1.8572620572703888,\n",
       " 1.8732401505970677,\n",
       " 1.864001176472497,\n",
       " 1.8389187367529531,\n",
       " 1.895071241833875,\n",
       " 1.9074720641558423,\n",
       " 1.917337566279793,\n",
       " 1.9196543411815166,\n",
       " 1.900840963496848,\n",
       " 1.8972615235592274,\n",
       " 1.8682861930857162,\n",
       " 1.8980242457673338,\n",
       " 1.917704286412533,\n",
       " 1.9380492743020907,\n",
       " 1.8632679046444727,\n",
       " 1.871765157158201,\n",
       " 1.902598549077946,\n",
       " 1.8945949763557857,\n",
       " 1.9274077040191522,\n",
       " 1.9092738459580416,\n",
       " 1.9116901738989804,\n",
       " 1.8913665770818273,\n",
       " 1.8928957073079689,\n",
       " 1.9048880519516613,\n",
       " 1.8554377083968796,\n",
       " 1.941390515559495,\n",
       " 1.918997640300663,\n",
       " 1.953768658890552,\n",
       " 1.9420439082611103,\n",
       " 1.9142395870102307,\n",
       " 1.9203830871615142,\n",
       " 1.892247433353497,\n",
       " 1.98831486851127,\n",
       " 1.9859381041516024,\n",
       " 1.92403805104123,\n",
       " 1.9695289094165194,\n",
       " 1.9375942659456653,\n",
       " 1.6974609265926337,\n",
       " 1.8713218095235118,\n",
       " 1.8932582879285256,\n",
       " 1.9518063839031903,\n",
       " 1.9133071195293432,\n",
       " 1.9426860326142712,\n",
       " 1.8902602105547035,\n",
       " 1.9112852831481197,\n",
       " 1.9033153260374382,\n",
       " 1.9433842952450253,\n",
       " 1.9299998933470985,\n",
       " 1.8803171332033068,\n",
       " 1.900639597378311,\n",
       " 1.9132853231033804,\n",
       " 1.824699833130016,\n",
       " 1.8680214444313739,\n",
       " 1.9525011901303484,\n",
       " 1.8813581771061647,\n",
       " 1.9362880048569744,\n",
       " 1.9161764756544337,\n",
       " 1.9179024566514973,\n",
       " 1.944789612078543,\n",
       " 1.9508077051642894,\n",
       " 1.9709488525584762,\n",
       " 1.9236527223043915,\n",
       " 1.9616139741885361,\n",
       " 1.922786881832166,\n",
       " 1.810115165475233,\n",
       " 1.7975473894849014,\n",
       " 1.8896821424795773,\n",
       " 1.8029339145139966,\n",
       " 1.7875179741111686,\n",
       " 1.7055719556736342,\n",
       " 1.833798874373056,\n",
       " 1.9087783731844303,\n",
       " 1.793295495838226,\n",
       " 1.8196848499112603,\n",
       " 1.6752212684664256,\n",
       " 1.8557585556128606,\n",
       " 1.8340635476049083,\n",
       " 1.8522213589780105,\n",
       " 1.8567239209888782,\n",
       " 1.8515140564330943,\n",
       " 1.7799415231203235,\n",
       " 1.821648830570343,\n",
       " 1.8024769804511538,\n",
       " 1.8103313827993057,\n",
       " 1.7780186590548808,\n",
       " 1.8895193919097764,\n",
       " 1.786154902069788,\n",
       " 1.8503625981949285,\n",
       " 1.7806533922316439,\n",
       " 1.8011853469439467,\n",
       " 1.7668999237310377,\n",
       " 1.8554631499998218,\n",
       " 1.8701762735067924,\n",
       " 1.8336576272640717,\n",
       " 1.7914183490840843,\n",
       " 1.8074543871888555,\n",
       " 1.8866209538764664,\n",
       " 1.7721531491119737,\n",
       " 1.8108950680005251,\n",
       " 1.8605200374160848,\n",
       " 1.8259775447550193,\n",
       " 1.8652549552820945,\n",
       " 1.90550709091379,\n",
       " 1.9272514952544328,\n",
       " 1.8759533561651438,\n",
       " 1.9510557361930199,\n",
       " 1.986659865884449,\n",
       " 1.9464105601029418,\n",
       " 1.9532337853313142,\n",
       " 1.9816015495884043,\n",
       " 1.9719114851602622,\n",
       " 2.0073151905124886,\n",
       " 1.922783572881555,\n",
       " 1.9409976456831897,\n",
       " 1.9313409763931322,\n",
       " 1.9582397920566572,\n",
       " 1.8895800728615018,\n",
       " 1.9170610456093422,\n",
       " 1.9486837881833923,\n",
       " 1.94546263607688,\n",
       " 1.9206171298614296,\n",
       " 1.965971042115301,\n",
       " 1.8920402472019817,\n",
       " 1.9936673083966594,\n",
       " 1.976468472643002,\n",
       " 1.982352413344359,\n",
       " 1.9701116128912706,\n",
       " 1.9933410091482644,\n",
       " 1.9988866980832798,\n",
       " 1.9817696924170445,\n",
       " 1.9794087433112297,\n",
       " 1.9667128943999488,\n",
       " 1.860637858080894,\n",
       " 1.8335733779854613,\n",
       " 1.8927692237528984,\n",
       " 1.8774997368245543,\n",
       " 1.9194566322391329,\n",
       " 1.8831152999560359,\n",
       " 1.8443088371625616,\n",
       " 1.8529681522406403,\n",
       " 1.9422342889382638,\n",
       " 1.9312835606737502,\n",
       " 1.896728196190096,\n",
       " 1.9403378466069172,\n",
       " 1.9310693621829023,\n",
       " 1.8927822905577578,\n",
       " 1.9259806898499356,\n",
       " 1.9233472131233902,\n",
       " 1.934651345672923,\n",
       " 1.9331254979103683,\n",
       " 1.9411646400365987,\n",
       " 1.915597160016959,\n",
       " 1.8510835809829862,\n",
       " 1.955727557023347,\n",
       " 1.9977500580724317,\n",
       " 1.9149242955863297,\n",
       " 1.830600411699173,\n",
       " 1.9335192437431488,\n",
       " 1.9722228402896402,\n",
       " 1.8995367260322082,\n",
       " 1.959886141212348,\n",
       " 1.8774072431882014,\n",
       " 1.846940468873343,\n",
       " 1.857373450775136,\n",
       " 1.8563062437994455,\n",
       " 1.8265540596469634,\n",
       " 1.834261501939681,\n",
       " 1.8495343673352376,\n",
       " 1.8583369741419045,\n",
       " 1.8553821843691851,\n",
       " 1.8760459845883037,\n",
       " 1.8756891064876713,\n",
       " 1.9037039120549992,\n",
       " 1.8181658469687574,\n",
       " 1.7735517025806464,\n",
       " 1.8899978678772704,\n",
       " 1.885476494618361,\n",
       " 1.8172246135229837,\n",
       " 1.7674657181018842,\n",
       " 1.8682859737848747,\n",
       " 1.8654273622822761,\n",
       " 1.8325272439471236,\n",
       " 1.918657327609679,\n",
       " 1.904739324060461,\n",
       " 1.870496591141924,\n",
       " 1.87107604564218,\n",
       " 1.8836780419374097,\n",
       " 1.8595424640665401,\n",
       " 1.8713472122750308,\n",
       " 1.8435597187247632,\n",
       " 1.8768088782471286,\n",
       " 1.8661027332651203,\n",
       " 1.8634225836121117,\n",
       " 1.8714880147011794,\n",
       " 1.813491845714605,\n",
       " 1.8773941261779719,\n",
       " 1.8684625681834068,\n",
       " 1.8293894347805937,\n",
       " 1.834361220191795,\n",
       " 1.8700537892709441,\n",
       " 1.8019814830549394,\n",
       " 1.8690997577846526,\n",
       " 1.8773216078466939,\n",
       " 1.8284191474035534,\n",
       " 1.8854421753380202,\n",
       " 1.8336913361092793,\n",
       " 1.8566942034464735,\n",
       " 1.8163698172845921,\n",
       " 1.8323393423301655,\n",
       " 1.8955186830831547,\n",
       " 1.7656245023465174,\n",
       " 1.9168147993975793,\n",
       " 1.813701812020694,\n",
       " 1.863937121065609,\n",
       " 1.8567929459418924,\n",
       " 1.839708458244485,\n",
       " 1.8573242212752277,\n",
       " 1.8317542249501066,\n",
       " 1.8720333086620038,\n",
       " 1.8221408683480487,\n",
       " 1.9076104079805303,\n",
       " 1.8947609026424355,\n",
       " 1.9217147564533563,\n",
       " 1.8890562012595307,\n",
       " 1.9193237553992895,\n",
       " 1.8180192309016274,\n",
       " 1.81670679658321,\n",
       " 1.9353573519093348,\n",
       " 2.0014695085141954,\n",
       " 1.9884058939157112,\n",
       " 1.9183861615891689,\n",
       " 1.999149764683966,\n",
       " 1.971014644158707,\n",
       " 2.001292870680433,\n",
       " 1.8890227618191322,\n",
       " 1.9531961276863457,\n",
       " 1.8744726521156292,\n",
       " 1.967945114854177,\n",
       " 1.894843258680047,\n",
       " 1.8183011809532001,\n",
       " 1.9259333244950672,\n",
       " 1.9660808172347757,\n",
       " 1.9165383120391402,\n",
       " 1.8533512216272552,\n",
       " 1.7653530596219382,\n",
       " 1.8446438085200123,\n",
       " 1.9514059607175536,\n",
       " 1.9541649734961248,\n",
       " 1.85703868159756,\n",
       " 1.8103126993048857,\n",
       " 1.959289782653945,\n",
       " 1.9867692510224522,\n",
       " 1.9906025034247197,\n",
       " 1.9651736233894435,\n",
       " 1.9449847908633668,\n",
       " 1.9354788557430282,\n",
       " 1.995603864295756,\n",
       " 1.9790222565537638,\n",
       " 1.932169975929713,\n",
       " 1.9599954354906077,\n",
       " 1.888109103273377,\n",
       " 1.9883776427610675,\n",
       " 1.9793268891730789,\n",
       " 1.9611183767990683,\n",
       " 1.9472235295416953,\n",
       " 1.966360635432658,\n",
       " 1.9613095631319308,\n",
       " 2.008895998973652,\n",
       " 1.9350178231614745,\n",
       " 1.9861576291045173,\n",
       " 1.9455033451084474,\n",
       " 1.9480312833352758,\n",
       " 1.986278237894754,\n",
       " 1.9329720851638368,\n",
       " 1.8811538743112974,\n",
       " 1.9308545151913954,\n",
       " 1.9166194136352468,\n",
       " 1.924949140238653,\n",
       " 1.9600599485855583,\n",
       " 1.947035176895759,\n",
       " 1.932746291254128,\n",
       " 1.8886088237154817,\n",
       " 1.9678946216951203,\n",
       " 1.8470029734268714,\n",
       " 1.925613693668547,\n",
       " 1.968331350012177,\n",
       " 1.9698752668806347,\n",
       " 1.9187575712300111,\n",
       " 1.9024289155430938,\n",
       " 1.9469535859340927,\n",
       " 1.909829043386847,\n",
       " 1.928074196623804,\n",
       " 1.9604126866947185,\n",
       " 1.8918978944218328,\n",
       " 1.9552514157317085,\n",
       " 1.9169176348562211,\n",
       " 1.9214985942878005,\n",
       " 1.9226817091495794,\n",
       " 1.948875824388752,\n",
       " 1.899261303757897,\n",
       " 1.7975432277369936,\n",
       " 1.9176929364061581,\n",
       " 1.9146804814085145,\n",
       " 1.92488674647527,\n",
       " 1.9708268325481677,\n",
       " 1.9182524976274062,\n",
       " 1.8526082350554516,\n",
       " 1.918713603544169,\n",
       " 1.9574865600350007,\n",
       " 1.9579685906336806,\n",
       " 1.9535387385995167,\n",
       " 1.9396395705297376,\n",
       " 1.9778394448841237,\n",
       " 1.9629441335840565,\n",
       " 1.9393458122176226,\n",
       " 1.9163778960300668,\n",
       " 1.8870645252816982,\n",
       " 1.9090780607618423,\n",
       " 1.9396600067502425,\n",
       " 1.85855857687483,\n",
       " 1.9693823772695296]"
      ]
     },
     "execution_count": 31,
     "metadata": {},
     "output_type": "execute_result"
    }
   ],
   "source": [
    "x0.flatten().tolist()"
   ]
  },
  {
   "cell_type": "code",
   "execution_count": 54,
   "metadata": {},
   "outputs": [
    {
     "data": {
      "image/png": "[encoded data removed]",
      "text/plain": [
       "<Figure size 576x432 with 1 Axes>"
      ]
     },
     "metadata": {
      "needs_background": "light"
     },
     "output_type": "display_data"
    }
   ],
   "source": [
    "# sample from two overlapping distributions (classes)\n",
    "\n",
    "N = 1000\n",
    "\n",
    " \n",
    "\n",
    "# cumulative distributions of feature across trials in each group\n",
    "\n",
    "# for example, 60% of trials in class 0 had 'HFD' below 0.3, and\n",
    "\n",
    "# the same was true for only 20% of trials in class 1.\n",
    "\n",
    "plt.figure(figsize=(8, 6))\n",
    "\n",
    "plt.plot(np.sort(x0.flatten()), np.arange(len(x0))/len(x0), label='PNP')\n",
    "\n",
    "plt.plot(np.sort(x1.flatten()), np.arange(len(x1))/len(x1), label='PDP')\n",
    "\n",
    "plt.grid()\n",
    "\n",
    "plt.xlabel('HFD', fontsize=13)\n",
    "\n",
    "plt.ylabel('Cumulative distribution', fontsize=13)\n",
    "\n",
    "plt.legend()\n",
    "\n",
    "plt.tight_layout()\n",
    "\n",
    "plt.savefig('./results/graphs_etc/PDP_PNP_L_CP3_cumulative.jpg', dpi=300, bbox_inches='tight')\n",
    "plt.savefig('./results/graphs_etc/PDP_PNP_L_CP3_cumulative.eps', dpi=300, bbox_inches='tight')\n"
   ]
  },
  {
   "cell_type": "markdown",
   "metadata": {},
   "source": [
    "# It's time to learn"
   ]
  },
  {
   "cell_type": "code",
   "execution_count": 96,
   "metadata": {},
   "outputs": [],
   "source": [
    "log_proc_method = 'HFD'\n",
    "log_dataset = 'PP/PNP-' + limb['name']\n",
    "log_db_name = 'log.db'\n",
    "\n",
    "log_notes = {'window start': window_start_sec, 'window size': window_size, 'k': k}\n",
    "\n",
    "channel_names = ch_names_new if 'PDP' in log_dataset else ch_names"
   ]
  },
  {
   "cell_type": "code",
   "execution_count": 97,
   "metadata": {},
   "outputs": [
    {
     "name": "stdout",
     "output_type": "stream",
     "text": [
      "PP/PNP-L\n",
      "{'window start': 3, 'window size': 2, 'k': 7}\n"
     ]
    }
   ],
   "source": [
    "print(log_dataset)\n",
    "print(log_notes)"
   ]
  },
  {
   "cell_type": "code",
   "execution_count": 98,
   "metadata": {},
   "outputs": [
    {
     "name": "stdout",
     "output_type": "stream",
     "text": [
      "29\n"
     ]
    }
   ],
   "source": [
    "#For finding channel indices\n",
    "\n",
    "channel_names_to_find = ['F2']\n",
    "\n",
    "find_in_pdp = False\n",
    "\n",
    "for c in channel_names_to_find:\n",
    "    if find_in_pdp:\n",
    "        print(ch_names_new.index(c))\n",
    "    else:\n",
    "        print(ch_names.index(c))\n",
    "        "
   ]
  },
  {
   "cell_type": "code",
   "execution_count": 43,
   "metadata": {},
   "outputs": [
    {
     "data": {
      "text/plain": [
       "'C4'"
      ]
     },
     "execution_count": 43,
     "metadata": {},
     "output_type": "execute_result"
    }
   ],
   "source": [
    "ch_names[23]"
   ]
  },
  {
   "cell_type": "code",
   "execution_count": 99,
   "metadata": {},
   "outputs": [
    {
     "name": "stdout",
     "output_type": "stream",
     "text": [
      "Test index 0 Test label 1 Preparing to classify set of 471 PP and 472 PNP.\n",
      "Train score: 0.5058324496288441   Test score: 0.9473684210526315 Intercept: [22.44022485]\n",
      "Test index 1 Test label 1 Preparing to classify set of 469 PP and 472 PNP.\n",
      "Train score: 0.5015940488841658   Test score: 0.864406779661017 Intercept: [26.03980519]\n",
      "Test index 2 Test label 1 Preparing to classify set of 469 PP and 472 PNP.\n",
      "Train score: 0.5015940488841658   Test score: 1.0 Intercept: [-59.01411654]\n",
      "Test index 3 Test label 1 Preparing to classify set of 477 PP and 472 PNP.\n",
      "Train score: 0.5205479452054794   Test score: 0.8235294117647058 Intercept: [-80.06212758]\n",
      "Test index 4 Test label 1 Preparing to classify set of 476 PP and 472 PNP.\n",
      "Train score: 0.5042194092827004   Test score: 1.0 Intercept: [-16.01605346]\n",
      "Test index 5 Test label 1 Preparing to classify set of 471 PP and 472 PNP.\n",
      "Train score: 0.5153764581124072   Test score: 1.0 Intercept: [-15.16089946]\n",
      "Test index 6 Test label 1 Preparing to classify set of 473 PP and 472 PNP.\n",
      "Train score: 0.5026455026455027   Test score: 1.0 Intercept: [-165.13588424]\n",
      "Test index 7 Test label 1 Preparing to classify set of 496 PP and 472 PNP.\n",
      "Train score: 0.515495867768595   Test score: 1.0 Intercept: [-8.47610675]\n",
      "Test index 8 Test label 1 Preparing to classify set of 476 PP and 472 PNP.\n",
      "Train score: 0.5042194092827004   Test score: 1.0 Intercept: [-998.31000715]\n",
      "Test index 9 Test label 1 Preparing to classify set of 474 PP and 472 PNP.\n",
      "Train score: 0.4989429175475687   Test score: 0.9629629629629629 Intercept: [51.64954626]\n",
      "Test index 10 Test label 0 Preparing to classify set of 528 PP and 422 PNP.\n",
      "Train score: 0.4768421052631579   Test score: 0.94 Intercept: [-92.19846261]\n",
      "Test index 11 Test label 0 Preparing to classify set of 528 PP and 415 PNP.\n",
      "Train score: 0.4591728525980912   Test score: 0.9298245614035088 Intercept: [-497.1215291]\n",
      "Test index 12 Test label 0 Preparing to classify set of 528 PP and 431 PNP.\n",
      "Train score: 0.5537017726798749   Test score: 0.0 Intercept: [-21.98988489]\n",
      "Test index 13 Test label 0 Preparing to classify set of 528 PP and 414 PNP.\n",
      "Train score: 0.46709129511677283   Test score: 0.9827586206896551 Intercept: [13603.01722536]\n",
      "Test index 14 Test label 0 Preparing to classify set of 528 PP and 422 PNP.\n",
      "Train score: 0.5631578947368421   Test score: 0.02 Intercept: [-49.65648329]\n",
      "Test index 15 Test label 0 Preparing to classify set of 528 PP and 419 PNP.\n",
      "Train score: 0.440337909186906   Test score: 1.0 Intercept: [1942.66069193]\n",
      "Test index 16 Test label 0 Preparing to classify set of 528 PP and 414 PNP.\n",
      "Train score: 0.4575371549893843   Test score: 0.7413793103448276 Intercept: [696.40062287]\n",
      "Test index 17 Test label 0 Preparing to classify set of 528 PP and 422 PNP.\n",
      "Train score: 0.4631578947368421   Test score: 0.78 Intercept: [-9.7923189]\n",
      "Test index 18 Test label 0 Preparing to classify set of 528 PP and 417 PNP.\n",
      "Train score: 0.5037037037037037   Test score: 0.7818181818181819 Intercept: [43.99060564]\n",
      "Correctly labeled 17 out of 19 accuracy 0.842\n",
      "Patient scores: [0.9473684210526315, 0.864406779661017, 1.0, 0.8235294117647058, 1.0, 1.0, 1.0, 1.0, 1.0, 0.9629629629629629, 0.94, 0.9298245614035088, 0.0, 0.9827586206896551, 0.02, 1.0, 0.7413793103448276, 0.78, 0.7818181818181819]\n",
      "Standard deviation: 0.2936211828842206\n",
      "Accuracy 0.842\n",
      "Sensitivity 0.9583333333333334\n",
      "Specificity 0.711864406779661\n",
      "Average accuracy 0.830213065773552\n"
     ]
    }
   ],
   "source": [
    "nu = 0.499999999\n",
    "channels = [29]\n",
    "\n",
    "acc, sensitivity, specificity, avg_acc = classify_nusvm_cross_valid(pp_rh, pnp_rh, nu, channels, channel_names,\n",
    "                                                                    log_db_name=log_db_name,\n",
    "                                                                    log_txt=True,\n",
    "                                                                    log_proc_method=log_proc_method,\n",
    "                                                                    log_dataset=log_dataset,\n",
    "                                                                    log_notes=log_notes,\n",
    "                                                                    log_details=True\n",
    "                                                                   )\n",
    "print('Accuracy', acc)\n",
    "print('Sensitivity', sensitivity)\n",
    "print('Specificity', specificity)\n",
    "print('Average accuracy', avg_acc)"
   ]
  },
  {
   "cell_type": "code",
   "execution_count": null,
   "metadata": {},
   "outputs": [],
   "source": []
  },
  {
   "cell_type": "code",
   "execution_count": 124,
   "metadata": {},
   "outputs": [
    {
     "name": "stdout",
     "output_type": "stream",
     "text": [
      "0 0.5730994152046783 0.5216346153846154 0.6529850746268657 0.5831883649599486\n",
      "1 0.5321637426900585 0.8269230769230769 0.07462686567164178 0.5097014793327518\n",
      "2 0.5891812865497076 0.8677884615384616 0.15671641791044777 0.5666796768189957\n",
      "3 0.6432748538011696 0.6995192307692307 0.5559701492537313 0.6417948393603695\n",
      "4 0.631578947368421 0.6826923076923077 0.5522388059701493 0.6172820211455401\n",
      "5 0.3406432748538012 0.10336538461538461 0.7089552238805971 0.36155131418289316\n",
      "6 0.6388888888888888 0.5985576923076923 0.7014925373134329 0.64842966292748\n",
      "7 0.5014619883040936 0.28125 0.8432835820895522 0.5118824684945175\n",
      "8 0.6374269005847953 0.6153846153846154 0.6716417910447762 0.6332798668565336\n",
      "9 0.47514619883040937 0.5769230769230769 0.31716417910447764 0.45895481618198336\n",
      "10 0.42105263157894735 0.47836538461538464 0.332089552238806 0.43727168836495456\n",
      "11 0.41812865497076024 0.47836538461538464 0.3246268656716418 0.43347915025662215\n",
      "12 0.7251461988304093 0.8389423076923077 0.5485074626865671 0.7020282436336357\n",
      "13 0.3932748538011696 0.38221153846153844 0.41044776119402987 0.40564934898311217\n",
      "14 0.42105263157894735 0.42788461538461536 0.41044776119402987 0.4136132098981939\n",
      "15 0.2412280701754386 0.25 0.22761194029850745 0.23495454248871814\n",
      "16 0.6812865497076024 0.7259615384615384 0.6119402985074627 0.6730211702726745\n",
      "17 0.5994152046783626 0.6850961538461539 0.4664179104477612 0.5917313107310332\n",
      "18 0.4619883040935672 0.3269230769230769 0.6716417910447762 0.4636080774582198\n",
      "19 0.6008771929824561 0.4831730769230769 0.7835820895522388 0.5937979558054475\n",
      "20 0.6622807017543859 0.6490384615384616 0.6828358208955224 0.6667555377247742\n",
      "21 0.47953216374269003 0.5625 0.35074626865671643 0.4877518279153841\n",
      "22 0.35526315789473684 0.25961538461538464 0.503731343283582 0.366416859527797\n",
      "23 0.5584795321637427 0.5673076923076923 0.5447761194029851 0.5561901308414702\n",
      "24 0.5131578947368421 0.3918269230769231 0.7014925373134329 0.5078192998605521\n",
      "25 0.33187134502923976 0.3894230769230769 0.24253731343283583 0.33933207639384405\n",
      "26 0.4853801169590643 0.5985576923076923 0.30970149253731344 0.4771325196048745\n",
      "27 0.5614035087719298 0.5552884615384616 0.5708955223880597 0.5513466687274576\n",
      "28 0.4093567251461988 0.46153846153846156 0.3283582089552239 0.4191062780452355\n",
      "29 0.5804093567251462 0.6105769230769231 0.5335820895522388 0.5667838256474987\n",
      "30 0.6345029239766082 0.6009615384615384 0.6865671641791045 0.6191180497022516\n",
      "31 0.4166666666666667 0.44471153846153844 0.373134328358209 0.4099494970143389\n",
      "32 0.4619883040935672 0.49278846153846156 0.4141791044776119 0.46989219074788546\n",
      "33 0.4269005847953216 0.6322115384615384 0.10820895522388059 0.41959951042115334\n",
      "34 0.49853801169590645 0.4543269230769231 0.5671641791044776 0.5049686508175287\n",
      "35 0.26169590643274854 0.37259615384615385 0.08955223880597014 0.26133259083203575\n",
      "36 0.36257309941520466 0.34615384615384615 0.3880597014925373 0.3594482804383657\n",
      "37 0.4780701754385965 0.41346153846153844 0.5783582089552238 0.4837227215547242\n",
      "38 0.34649122807017546 0.23798076923076922 0.5149253731343284 0.36465044655688095\n",
      "39 0.5160818713450293 0.40384615384615385 0.6902985074626866 0.5297007240881737\n",
      "40 0.3961988304093567 0.49038461538461536 0.25 0.41791705450262223\n",
      "41 0.6476608187134503 0.7163461538461539 0.5410447761194029 0.6414163296917538\n",
      "42 0.5555555555555556 0.5384615384615384 0.582089552238806 0.5522450735000043\n",
      "43 0.260233918128655 0.14182692307692307 0.44402985074626866 0.27107228188975213\n",
      "44 0.6169590643274854 0.6730769230769231 0.5298507462686567 0.6124631250164052\n",
      "45 0.7792397660818714 0.8581730769230769 0.6567164179104478 0.7703409886771019\n",
      "46 0.4678362573099415 0.6129807692307693 0.24253731343283583 0.4529995035243919\n",
      "47 0.5614035087719298 0.32211538461538464 0.9328358208955224 0.5582505576111078\n",
      "Max accuracy: 45 0.7792397660818714\n"
     ]
    }
   ],
   "source": [
    "previous_channels=[]\n",
    "nu = 0.5\n",
    "\n",
    "max_acc = {'index': 0, 'value': 0}\n",
    "for channel in range(len(channel_names)):        \n",
    "    accuracy, sensitivity, specificity, avg_accuracy = classify_nusvm_cross_valid(pp_rh, pnp_rh, nu, \n",
    "                                                                                  previous_channels + [channel],\n",
    "                                                                                  channel_names,\n",
    "                                                                                  verbose=False,\n",
    "                                                                                  log_db_name=log_db_name,\n",
    "                                                                                  log_txt=True,\n",
    "                                                                                  log_proc_method=log_proc_method,\n",
    "                                                                                  log_dataset=log_dataset,\n",
    "                                                                                  log_notes=log_notes\n",
    "                                                                                 )\n",
    "    print(channel, accuracy, sensitivity, specificity, avg_accuracy)\n",
    "        \n",
    "    if accuracy > max_acc['value']:\n",
    "        max_acc['index'] = channel\n",
    "        max_acc['value'] = accuracy\n",
    "\n",
    "print('Max accuracy:', max_acc['index'], max_acc['value'])"
   ]
  },
  {
   "cell_type": "code",
   "execution_count": null,
   "metadata": {},
   "outputs": [],
   "source": []
  },
  {
   "cell_type": "code",
   "execution_count": 90,
   "metadata": {},
   "outputs": [
    {
     "name": "stdout",
     "output_type": "stream",
     "text": [
      "0.1 0.41358024691358025 0.4157706093189964 0.41192411924119243 0.42056313581848825\n",
      "0.125 0.5478395061728395 0.4946236559139785 0.5880758807588076 0.5384528504391722\n",
      "0.15 0.5601851851851852 0.2831541218637993 0.7696476964769647 0.5740539749977008\n",
      "0.175 0.5817901234567902 0.7491039426523297 0.45528455284552843 0.5859345810382831\n",
      "0.19999999999999998 0.43364197530864196 0.8422939068100358 0.12466124661246612 0.4215052627931754\n",
      "0.22499999999999998 0.39351851851851855 0.36917562724014336 0.41192411924119243 0.39635048823050606\n",
      "0.24999999999999997 0.5262345679012346 0.6344086021505376 0.4444444444444444 0.5227146920545672\n",
      "0.27499999999999997 0.4243827160493827 0.6702508960573477 0.23848238482384823 0.4089619858905096\n",
      "0.29999999999999993 0.5416666666666666 0.6881720430107527 0.43089430894308944 0.525477654002037\n",
      "0.32499999999999996 0.5648148148148148 0.5125448028673835 0.6043360433604336 0.5509199556129382\n",
      "0.35 0.5154320987654321 0.46236559139784944 0.5555555555555556 0.507370723969371\n",
      "0.3749999999999999 0.42901234567901236 0.6093189964157706 0.2926829268292683 0.42094819856881266\n",
      "0.3999999999999999 0.6234567901234568 0.43010752688172044 0.7696476964769647 0.6286718954372464\n",
      "0.42499999999999993 0.4351851851851852 0.45878136200716846 0.4173441734417344 0.4320545914806991\n",
      "0.44999999999999996 0.3904320987654321 0.1935483870967742 0.5392953929539296 0.3947533511094692\n",
      "0.47499999999999987 0.4212962962962963 0.23297491039426524 0.5636856368563685 0.4444847176864721\n",
      "0.4999999999999999 0.4074074074074074 0.3548387096774194 0.44715447154471544 0.4063454679757088\n",
      "0.5249999999999999 0.6820987654320988 0.8028673835125448 0.5907859078590786 0.670017865170259\n",
      "0.5499999999999999 0.39969135802469136 0.5125448028673835 0.3143631436314363 0.40113764381921535\n",
      "0.5749999999999998 0.49691358024691357 0.6272401433691757 0.3983739837398374 0.4961324747267357\n",
      "0.5999999999999999 0.5910493827160493 0.6379928315412187 0.5555555555555556 0.5886520285119007\n",
      "0.6249999999999999 0.5972222222222222 0.7491039426523297 0.4823848238482385 0.5960303036918039\n",
      "0.6499999999999998 0.558641975308642 0.6164874551971327 0.5149051490514905 0.5583646524467591\n",
      "0.6749999999999998 0.5987654320987654 0.7849462365591398 0.45799457994579945 0.5984242737829565\n",
      "0.6999999999999998 0.7608024691358025 0.7240143369175627 0.7886178861788617 0.7644994202571143\n",
      "0.7249999999999999 0.8595679012345679 0.8853046594982079 0.8401084010840109 0.8589579685245757\n"
     ]
    },
    {
     "ename": "ValueError",
     "evalue": "specified nu is infeasible",
     "output_type": "error",
     "traceback": [
      "\u001b[1;31m---------------------------------------------------------------------------\u001b[0m",
      "\u001b[1;31mValueError\u001b[0m                                Traceback (most recent call last)",
      "\u001b[1;32m<ipython-input-90-67ead16cd53a>\u001b[0m in \u001b[0;36m<module>\u001b[1;34m\u001b[0m\n\u001b[0;32m     13\u001b[0m                                                                                   \u001b[0mlog_proc_method\u001b[0m\u001b[1;33m=\u001b[0m\u001b[0mlog_proc_method\u001b[0m\u001b[1;33m,\u001b[0m\u001b[1;33m\u001b[0m\u001b[1;33m\u001b[0m\u001b[0m\n\u001b[0;32m     14\u001b[0m                                                                                   \u001b[0mlog_dataset\u001b[0m\u001b[1;33m=\u001b[0m\u001b[0mlog_dataset\u001b[0m\u001b[1;33m,\u001b[0m\u001b[1;33m\u001b[0m\u001b[1;33m\u001b[0m\u001b[0m\n\u001b[1;32m---> 15\u001b[1;33m                                                                                   \u001b[0mlog_notes\u001b[0m\u001b[1;33m=\u001b[0m\u001b[0mlog_notes\u001b[0m\u001b[1;33m\u001b[0m\u001b[1;33m\u001b[0m\u001b[0m\n\u001b[0m\u001b[0;32m     16\u001b[0m                                                                                  ) \n\u001b[0;32m     17\u001b[0m \u001b[1;33m\u001b[0m\u001b[0m\n",
      "\u001b[1;32mD:\\etc\\uni\\yr5\\project\\workspace\\eeg-cnp-final-year-project\\utils\\experiments_classification.py\u001b[0m in \u001b[0;36mclassify_nusvm_cross_valid\u001b[1;34m(data_pp, data_pnp, nu, selected_channels, channel_names, pca_components, verbose, log_db_name, log_txt, log_proc_method, log_dataset, log_notes, log_location, log_details)\u001b[0m\n\u001b[0;32m    116\u001b[0m                                                                          \u001b[0mselected_channels\u001b[0m\u001b[1;33m,\u001b[0m \u001b[0mi\u001b[0m\u001b[1;33m,\u001b[0m\u001b[1;33m\u001b[0m\u001b[1;33m\u001b[0m\u001b[0m\n\u001b[0;32m    117\u001b[0m                                                                          \u001b[0mpca_components\u001b[0m\u001b[1;33m=\u001b[0m\u001b[0mpca_components\u001b[0m\u001b[1;33m,\u001b[0m \u001b[0mverbose\u001b[0m\u001b[1;33m=\u001b[0m\u001b[0mverbose\u001b[0m\u001b[1;33m,\u001b[0m\u001b[1;33m\u001b[0m\u001b[1;33m\u001b[0m\u001b[0m\n\u001b[1;32m--> 118\u001b[1;33m                                                                          probability=probability)\n\u001b[0m\u001b[0;32m    119\u001b[0m         \u001b[0mtotal_score\u001b[0m \u001b[1;33m+=\u001b[0m \u001b[0mscore\u001b[0m\u001b[1;33m\u001b[0m\u001b[1;33m\u001b[0m\u001b[0m\n\u001b[0;32m    120\u001b[0m         \u001b[0mtotal_tp\u001b[0m \u001b[1;33m+=\u001b[0m \u001b[0mtp\u001b[0m\u001b[1;33m\u001b[0m\u001b[1;33m\u001b[0m\u001b[0m\n",
      "\u001b[1;32mD:\\etc\\uni\\yr5\\project\\workspace\\eeg-cnp-final-year-project\\utils\\experiments_classification.py\u001b[0m in \u001b[0;36mclassify_linear_nusvm_with_valid\u001b[1;34m(data_pp, data_pnp, nu, selected_channels, test_index, pca_components, verbose, probability)\u001b[0m\n\u001b[0;32m     68\u001b[0m \u001b[1;33m\u001b[0m\u001b[0m\n\u001b[0;32m     69\u001b[0m     \u001b[0mclas\u001b[0m \u001b[1;33m=\u001b[0m \u001b[0msvm\u001b[0m\u001b[1;33m.\u001b[0m\u001b[0mNuSVC\u001b[0m\u001b[1;33m(\u001b[0m\u001b[0mnu\u001b[0m\u001b[1;33m=\u001b[0m\u001b[0mnu\u001b[0m\u001b[1;33m,\u001b[0m \u001b[0mkernel\u001b[0m\u001b[1;33m=\u001b[0m\u001b[1;34m'linear'\u001b[0m\u001b[1;33m,\u001b[0m \u001b[0mprobability\u001b[0m\u001b[1;33m=\u001b[0m\u001b[0mprobability\u001b[0m\u001b[1;33m)\u001b[0m\u001b[1;33m\u001b[0m\u001b[1;33m\u001b[0m\u001b[0m\n\u001b[1;32m---> 70\u001b[1;33m     \u001b[0mclas\u001b[0m\u001b[1;33m.\u001b[0m\u001b[0mfit\u001b[0m\u001b[1;33m(\u001b[0m\u001b[0mtrain\u001b[0m\u001b[1;33m,\u001b[0m \u001b[0mlabels\u001b[0m\u001b[1;33m)\u001b[0m\u001b[1;33m\u001b[0m\u001b[1;33m\u001b[0m\u001b[0m\n\u001b[0m\u001b[0;32m     71\u001b[0m     \u001b[0mtrain_acc\u001b[0m \u001b[1;33m=\u001b[0m \u001b[0mclas\u001b[0m\u001b[1;33m.\u001b[0m\u001b[0mscore\u001b[0m\u001b[1;33m(\u001b[0m\u001b[0mtrain\u001b[0m\u001b[1;33m,\u001b[0m \u001b[0mlabels\u001b[0m\u001b[1;33m)\u001b[0m\u001b[1;33m\u001b[0m\u001b[1;33m\u001b[0m\u001b[0m\n\u001b[0;32m     72\u001b[0m     \u001b[0mtest_acc\u001b[0m \u001b[1;33m=\u001b[0m \u001b[0mclas\u001b[0m\u001b[1;33m.\u001b[0m\u001b[0mscore\u001b[0m\u001b[1;33m(\u001b[0m\u001b[0mtest\u001b[0m\u001b[1;33m,\u001b[0m \u001b[0mtest_labels\u001b[0m\u001b[1;33m)\u001b[0m\u001b[1;33m\u001b[0m\u001b[1;33m\u001b[0m\u001b[0m\n",
      "\u001b[1;32mD:\\etc\\software\\Anaconda\\lib\\site-packages\\sklearn\\svm\\base.py\u001b[0m in \u001b[0;36mfit\u001b[1;34m(self, X, y, sample_weight)\u001b[0m\n\u001b[0;32m    207\u001b[0m \u001b[1;33m\u001b[0m\u001b[0m\n\u001b[0;32m    208\u001b[0m         \u001b[0mseed\u001b[0m \u001b[1;33m=\u001b[0m \u001b[0mrnd\u001b[0m\u001b[1;33m.\u001b[0m\u001b[0mrandint\u001b[0m\u001b[1;33m(\u001b[0m\u001b[0mnp\u001b[0m\u001b[1;33m.\u001b[0m\u001b[0miinfo\u001b[0m\u001b[1;33m(\u001b[0m\u001b[1;34m'i'\u001b[0m\u001b[1;33m)\u001b[0m\u001b[1;33m.\u001b[0m\u001b[0mmax\u001b[0m\u001b[1;33m)\u001b[0m\u001b[1;33m\u001b[0m\u001b[1;33m\u001b[0m\u001b[0m\n\u001b[1;32m--> 209\u001b[1;33m         \u001b[0mfit\u001b[0m\u001b[1;33m(\u001b[0m\u001b[0mX\u001b[0m\u001b[1;33m,\u001b[0m \u001b[0my\u001b[0m\u001b[1;33m,\u001b[0m \u001b[0msample_weight\u001b[0m\u001b[1;33m,\u001b[0m \u001b[0msolver_type\u001b[0m\u001b[1;33m,\u001b[0m \u001b[0mkernel\u001b[0m\u001b[1;33m,\u001b[0m \u001b[0mrandom_seed\u001b[0m\u001b[1;33m=\u001b[0m\u001b[0mseed\u001b[0m\u001b[1;33m)\u001b[0m\u001b[1;33m\u001b[0m\u001b[1;33m\u001b[0m\u001b[0m\n\u001b[0m\u001b[0;32m    210\u001b[0m         \u001b[1;31m# see comment on the other call to np.iinfo in this file\u001b[0m\u001b[1;33m\u001b[0m\u001b[1;33m\u001b[0m\u001b[1;33m\u001b[0m\u001b[0m\n\u001b[0;32m    211\u001b[0m \u001b[1;33m\u001b[0m\u001b[0m\n",
      "\u001b[1;32mD:\\etc\\software\\Anaconda\\lib\\site-packages\\sklearn\\svm\\base.py\u001b[0m in \u001b[0;36m_dense_fit\u001b[1;34m(self, X, y, sample_weight, solver_type, kernel, random_seed)\u001b[0m\n\u001b[0;32m    266\u001b[0m                 \u001b[0mcache_size\u001b[0m\u001b[1;33m=\u001b[0m\u001b[0mself\u001b[0m\u001b[1;33m.\u001b[0m\u001b[0mcache_size\u001b[0m\u001b[1;33m,\u001b[0m \u001b[0mcoef0\u001b[0m\u001b[1;33m=\u001b[0m\u001b[0mself\u001b[0m\u001b[1;33m.\u001b[0m\u001b[0mcoef0\u001b[0m\u001b[1;33m,\u001b[0m\u001b[1;33m\u001b[0m\u001b[1;33m\u001b[0m\u001b[0m\n\u001b[0;32m    267\u001b[0m                 \u001b[0mgamma\u001b[0m\u001b[1;33m=\u001b[0m\u001b[0mself\u001b[0m\u001b[1;33m.\u001b[0m\u001b[0m_gamma\u001b[0m\u001b[1;33m,\u001b[0m \u001b[0mepsilon\u001b[0m\u001b[1;33m=\u001b[0m\u001b[0mself\u001b[0m\u001b[1;33m.\u001b[0m\u001b[0mepsilon\u001b[0m\u001b[1;33m,\u001b[0m\u001b[1;33m\u001b[0m\u001b[1;33m\u001b[0m\u001b[0m\n\u001b[1;32m--> 268\u001b[1;33m                 max_iter=self.max_iter, random_seed=random_seed)\n\u001b[0m\u001b[0;32m    269\u001b[0m \u001b[1;33m\u001b[0m\u001b[0m\n\u001b[0;32m    270\u001b[0m         \u001b[0mself\u001b[0m\u001b[1;33m.\u001b[0m\u001b[0m_warn_from_fit_status\u001b[0m\u001b[1;33m(\u001b[0m\u001b[1;33m)\u001b[0m\u001b[1;33m\u001b[0m\u001b[1;33m\u001b[0m\u001b[0m\n",
      "\u001b[1;32msklearn\\svm\\libsvm.pyx\u001b[0m in \u001b[0;36msklearn.svm.libsvm.fit\u001b[1;34m()\u001b[0m\n",
      "\u001b[1;31mValueError\u001b[0m: specified nu is infeasible"
     ]
    }
   ],
   "source": [
    "channels = [26]\n",
    "\n",
    "max_acc = {'index': 0, 'value': 0}\n",
    "all_nu = []\n",
    "\n",
    "for param in np.arange(0.1, 0.8, 0.025):    \n",
    "    accuracy, sensitivity, specificity, avg_accuracy = classify_nusvm_cross_valid(pp_rh, pnp_rh, param,\n",
    "                                                                                  channels,\n",
    "                                                                                  channel_names,\n",
    "                                                                                  verbose=False, \n",
    "                                                                                  log_db_name=log_db_name,\n",
    "                                                                                  log_txt=True,\n",
    "                                                                                  log_proc_method=log_proc_method,\n",
    "                                                                                  log_dataset=log_dataset,\n",
    "                                                                                  log_notes=log_notes\n",
    "                                                                                 ) \n",
    "                                                      \n",
    "\n",
    "    print(param, accuracy, sensitivity, specificity, avg_accuracy)\n",
    "        \n",
    "    all_nu.append({'nu': param, 'accuracy': accuracy})\n",
    "        \n",
    "    if accuracy > max_acc['value']:\n",
    "        max_acc['index'] = param\n",
    "        max_acc['value'] = accuracy\n",
    "\n",
    "        \n",
    "print('Max accuracy:', max_acc['index'], max_acc['value'])"
   ]
  },
  {
   "cell_type": "code",
   "execution_count": 108,
   "metadata": {},
   "outputs": [
    {
     "data": {
      "image/png": "[encoded data removed]",
      "text/plain": [
       "<Figure size 864x432 with 1 Axes>"
      ]
     },
     "metadata": {
      "needs_background": "light"
     },
     "output_type": "display_data"
    }
   ],
   "source": [
    "plt.figure(figsize=(12, 6))\n",
    "\n",
    "\n",
    "plt.plot([i['nu'] for i in all_nu], [i['accuracy'] for i in all_nu])\n",
    "plt.xlabel('nu', fontsize=13)\n",
    "plt.ylabel('Accuracy', fontsize=13)\n",
    "plt.yticks(np.arange(0.0, 1.0, 0.1))\n",
    "plt.xticks(np.arange(0.1, 0.8, 0.05))\n",
    "\n",
    "plt.grid()\n",
    "\n",
    "plt.savefig('./results/graphs_etc/PDP_PNP_L_CP3_nu.jpg', bbox_inches='tight')\n",
    "plt.savefig('./results/graphs_etc/PDP_PNP_L_CP3_nu.eps', bbox_inches='tight')"
   ]
  },
  {
   "cell_type": "code",
   "execution_count": null,
   "metadata": {},
   "outputs": [],
   "source": []
  },
  {
   "cell_type": "code",
   "execution_count": 125,
   "metadata": {},
   "outputs": [
    {
     "name": "stdout",
     "output_type": "stream",
     "text": [
      "nu: 0.5\n",
      "[45] 0.78\n",
      "[45] 0.78\n",
      "Max Accuracy: {'channels': [45], 'value': 0.7792397660818714, 'nu': 0.5}\n",
      "Final Max Accuracy: {'channels': [45], 'value': 0.7792397660818714, 'nu': 0.5}\n"
     ]
    }
   ],
   "source": [
    "channel_names = ch_names_new if 'PDP' in log_dataset else ch_names\n",
    "\n",
    "best_acc = classify_nusvm_param_seach(pp_rh, pnp_rh, 0.5, 0.501, 0.025, channel_names, constrain_channels=None,\n",
    "                                      log_txt=True, log_proc_method=log_proc_method,\n",
    "                                                                                  log_dataset=log_dataset,\n",
    "                                                                                  log_notes=log_notes)"
   ]
  },
  {
   "cell_type": "code",
   "execution_count": null,
   "metadata": {},
   "outputs": [],
   "source": [
    "best_acc"
   ]
  },
  {
   "cell_type": "code",
   "execution_count": null,
   "metadata": {},
   "outputs": [],
   "source": []
  }
 ],
 "metadata": {
  "kernelspec": {
   "display_name": "Python 3",
   "language": "python",
   "name": "python3"
  },
  "language_info": {
   "codemirror_mode": {
    "name": "ipython",
    "version": 3
   },
   "file_extension": ".py",
   "mimetype": "text/x-python",
   "name": "python",
   "nbconvert_exporter": "python",
   "pygments_lexer": "ipython3",
   "version": "3.7.3"
  }
 },
 "nbformat": 4,
 "nbformat_minor": 2
}
