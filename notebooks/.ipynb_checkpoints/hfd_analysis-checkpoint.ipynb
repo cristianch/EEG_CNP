{
 "cells": [
  {
   "cell_type": "code",
   "execution_count": 1,
   "metadata": {},
   "outputs": [],
   "source": [
    "# Only run this once\n",
    "import os\n",
    "os.chdir('..')"
   ]
  },
  {
   "cell_type": "code",
   "execution_count": 2,
   "metadata": {},
   "outputs": [],
   "source": [
    "import numpy as np\n",
    "import scipy\n",
    "from scipy import signal\n",
    "import mne\n",
    "import glob\n",
    "import HiguchiFractalDimension as hfd\n",
    "import csv\n",
    "import matplotlib.pyplot as plt\n",
    "from matplotlib import colors\n",
    "\n",
    "import utils.logger\n",
    "from utils.experiments_classification import classify_nusvm_cross_valid, classify_nusvm_param_seach"
   ]
  },
  {
   "cell_type": "code",
   "execution_count": 3,
   "metadata": {},
   "outputs": [
    {
     "data": {
      "text/plain": [
       "<module 'utils.experiments_classification' from 'D:\\\\etc\\\\uni\\\\yr5\\\\project\\\\workspace\\\\eeg-cnp-final-year-project\\\\utils\\\\experiments_classification.py'>"
      ]
     },
     "execution_count": 3,
     "metadata": {},
     "output_type": "execute_result"
    }
   ],
   "source": [
    "import importlib\n",
    "importlib.reload(utils.experiments_classification)"
   ]
  },
  {
   "cell_type": "code",
   "execution_count": null,
   "metadata": {},
   "outputs": [],
   "source": []
  },
  {
   "cell_type": "code",
   "execution_count": 4,
   "metadata": {},
   "outputs": [],
   "source": [
    "def patient_array_to_hfd(repetitions, window_start=None, window_size=500, step_size=1, k=7):\n",
    "    '''\n",
    "    Apply HFD to all repetitions from given patient; input shape [n_repetitions, n_channels, n_features]\n",
    "    '''\n",
    "    if window_start != None:\n",
    "        print('Calculating HFD with window start', str(window_start), 'window size', str(window_size), 'step', str(step_size))\n",
    "        return np.array([np.array([[hfd.hfd(channel[window_start:window_start+window_size:step_size], num_k=k)] for channel in repetition]) for repetition in repetitions])\n",
    "    print('Calculating HFD over entire time series')\n",
    "    return np.array([np.array([[hfd.hfd(channel, num_k=k)] for channel in repetition]) for repetition in repetitions])"
   ]
  },
  {
   "cell_type": "code",
   "execution_count": null,
   "metadata": {},
   "outputs": [],
   "source": []
  },
  {
   "cell_type": "markdown",
   "metadata": {},
   "source": [
    "# Apply HFD to datasets"
   ]
  },
  {
   "cell_type": "code",
   "execution_count": 77,
   "metadata": {},
   "outputs": [],
   "source": [
    "# Returns relevant datasets (f.e. all right-hand recordings of healthy patients) as a list of np arrays\n",
    "def get_datasets(patient_type_location, recording_type_expression):\n",
    "    if recording_type_expression != l_new['extension']:\n",
    "        sets_locations = glob.glob(patient_type_location + recording_type_expression + suffix)\n",
    "    else:\n",
    "        sets_locations = glob.glob(patient_type_location + recording_type_expression)\n",
    "    \n",
    "    sets = []\n",
    "    for path in sets_locations: \n",
    "        sets.append(mne.io.read_epochs_eeglab(path))\n",
    "        \n",
    "    return np.array(np.array([(patient._data) for patient in sets]))\n",
    "\n",
    "\n",
    "def get_channel_names(patient_type_location, recording_type_expression):\n",
    "    '''\n",
    "    Returns the list of channel names in order\n",
    "    Only works if ALL chosen datasets use the same channels\n",
    "    '''\n",
    "    if recording_type_expression != l_new:\n",
    "        sets_locations = glob.glob(patient_type_location + recording_type_expression + suffix)\n",
    "    else:\n",
    "        sets_locations = glob.glob(patient_type_location + recording_type_expression)\n",
    "        \n",
    "    return mne.io.read_epochs_eeglab(sets_locations[0]).ch_names\n",
    "    "
   ]
  },
  {
   "cell_type": "code",
   "execution_count": 78,
   "metadata": {},
   "outputs": [
    {
     "data": {
      "text/plain": [
       "['./../../data_new/raw/PdP\\\\PdP_3\\\\PdP_3_L.set',\n",
       " './../../data_new/raw/PdP\\\\PdP_4\\\\PdP_4_L.set',\n",
       " './../../data_new/raw/PdP\\\\PdP_5\\\\PdP_5_L.set',\n",
       " './../../data_new/raw/PdP\\\\PdP_6\\\\PdP_6_L.set',\n",
       " './../../data_new/raw/PdP\\\\PdP_7\\\\PdP_7_L.set']"
      ]
     },
     "execution_count": 78,
     "metadata": {},
     "output_type": "execute_result"
    }
   ],
   "source": [
    "root = './../../'\n",
    "suffix = '*.set'\n",
    "\n",
    "location_healthy = root + 'data/raw/HV/*/'\n",
    "location_pain = root + 'data/raw/PP/*/'\n",
    "location_nopain = root + 'data/raw/PnP/*/'\n",
    "\n",
    "location_pwp = root + 'data_new/raw/PwP/*/'\n",
    "location_pdp = root + 'data_new/raw/PdP/*/'\n",
    "location_pnp = root + 'data_new/raw/PnP/*/'\n",
    "\n",
    "\n",
    "rh = {'name': 'RH', 'extension': '*_RH*'}\n",
    "lh = {'name': 'LH', 'extension': '*_LH*'}\n",
    "l_new = {'name': 'L', 'extension': '*_L.set'}   # NO SUFFIX\n",
    "l_old = {'name': 'L', 'extension': '*_L_*'}\n",
    "\n",
    "sets_healthy_rh = glob.glob(location_pdp + l_new['extension'])\n",
    "sets_healthy_rh"
   ]
  },
  {
   "cell_type": "code",
   "execution_count": 79,
   "metadata": {},
   "outputs": [
    {
     "name": "stdout",
     "output_type": "stream",
     "text": [
      "Extracting parameters from ./../../data_new/raw/PdP\\PdP_3\\PdP_3_L.set...\n",
      "55 matching events found\n"
     ]
    },
    {
     "name": "stderr",
     "output_type": "stream",
     "text": [
      "<ipython-input-77-a40508d617f2>:10: RuntimeWarning: At least one epoch has multiple events. Only the latency of the first event will be retained.\n",
      "  sets.append(mne.io.read_epochs_eeglab(path))\n"
     ]
    },
    {
     "name": "stdout",
     "output_type": "stream",
     "text": [
      "No baseline correction applied\n",
      "Not setting metadata\n",
      "0 projection items activated\n",
      "Ready.\n",
      "Extracting parameters from ./../../data_new/raw/PdP\\PdP_4\\PdP_4_L.set...\n",
      "59 matching events found\n"
     ]
    },
    {
     "name": "stderr",
     "output_type": "stream",
     "text": [
      "<ipython-input-77-a40508d617f2>:10: RuntimeWarning: At least one epoch has multiple events. Only the latency of the first event will be retained.\n",
      "  sets.append(mne.io.read_epochs_eeglab(path))\n"
     ]
    },
    {
     "name": "stdout",
     "output_type": "stream",
     "text": [
      "No baseline correction applied\n",
      "Not setting metadata\n",
      "0 projection items activated\n",
      "Ready.\n",
      "Extracting parameters from ./../../data_new/raw/PdP\\PdP_5\\PdP_5_L.set...\n",
      "50 matching events found\n",
      "No baseline correction applied\n",
      "Not setting metadata\n",
      "0 projection items activated\n",
      "Ready.\n"
     ]
    },
    {
     "name": "stderr",
     "output_type": "stream",
     "text": [
      "<ipython-input-77-a40508d617f2>:10: RuntimeWarning: At least one epoch has multiple events. Only the latency of the first event will be retained.\n",
      "  sets.append(mne.io.read_epochs_eeglab(path))\n"
     ]
    },
    {
     "name": "stdout",
     "output_type": "stream",
     "text": [
      "Extracting parameters from ./../../data_new/raw/PdP\\PdP_6\\PdP_6_L.set...\n",
      "56 matching events found\n",
      "No baseline correction applied\n",
      "Not setting metadata\n",
      "0 projection items activated\n"
     ]
    },
    {
     "name": "stderr",
     "output_type": "stream",
     "text": [
      "<ipython-input-77-a40508d617f2>:10: RuntimeWarning: At least one epoch has multiple events. Only the latency of the first event will be retained.\n",
      "  sets.append(mne.io.read_epochs_eeglab(path))\n"
     ]
    },
    {
     "name": "stdout",
     "output_type": "stream",
     "text": [
      "Ready.\n",
      "Extracting parameters from ./../../data_new/raw/PdP\\PdP_7\\PdP_7_L.set...\n",
      "59 matching events found\n",
      "No baseline correction applied\n",
      "Not setting metadata\n",
      "0 projection items activated\n"
     ]
    },
    {
     "name": "stderr",
     "output_type": "stream",
     "text": [
      "<ipython-input-77-a40508d617f2>:10: RuntimeWarning: At least one epoch has multiple events. Only the latency of the first event will be retained.\n",
      "  sets.append(mne.io.read_epochs_eeglab(path))\n"
     ]
    },
    {
     "name": "stdout",
     "output_type": "stream",
     "text": [
      "Ready.\n",
      "Extracting parameters from ./../../data_new/raw/PnP\\PnP_1\\PnP_1_L.set...\n",
      "54 matching events found\n",
      "No baseline correction applied\n",
      "Not setting metadata\n",
      "0 projection items activated\n"
     ]
    },
    {
     "name": "stderr",
     "output_type": "stream",
     "text": [
      "<ipython-input-77-a40508d617f2>:10: RuntimeWarning: At least one epoch has multiple events. Only the latency of the first event will be retained.\n",
      "  sets.append(mne.io.read_epochs_eeglab(path))\n"
     ]
    },
    {
     "name": "stdout",
     "output_type": "stream",
     "text": [
      "Ready.\n",
      "Extracting parameters from ./../../data_new/raw/PnP\\PnP_3\\PnP_3_L.set...\n",
      "54 matching events found\n",
      "No baseline correction applied\n",
      "Not setting metadata\n",
      "0 projection items activated\n"
     ]
    },
    {
     "name": "stderr",
     "output_type": "stream",
     "text": [
      "<ipython-input-77-a40508d617f2>:10: RuntimeWarning: At least one epoch has multiple events. Only the latency of the first event will be retained.\n",
      "  sets.append(mne.io.read_epochs_eeglab(path))\n"
     ]
    },
    {
     "name": "stdout",
     "output_type": "stream",
     "text": [
      "Ready.\n",
      "Extracting parameters from ./../../data_new/raw/PnP\\PnP_4\\PnP_4_L.set...\n",
      "44 matching events found\n",
      "No baseline correction applied\n",
      "Not setting metadata\n",
      "0 projection items activated\n",
      "Ready.\n"
     ]
    },
    {
     "name": "stderr",
     "output_type": "stream",
     "text": [
      "<ipython-input-77-a40508d617f2>:10: RuntimeWarning: At least one epoch has multiple events. Only the latency of the first event will be retained.\n",
      "  sets.append(mne.io.read_epochs_eeglab(path))\n"
     ]
    },
    {
     "name": "stdout",
     "output_type": "stream",
     "text": [
      "Extracting parameters from ./../../data_new/raw/PnP\\PnP_5\\PnP_5_L.set...\n",
      "57 matching events found\n",
      "No baseline correction applied\n",
      "Not setting metadata\n",
      "0 projection items activated\n"
     ]
    },
    {
     "name": "stderr",
     "output_type": "stream",
     "text": [
      "<ipython-input-77-a40508d617f2>:10: RuntimeWarning: At least one epoch has multiple events. Only the latency of the first event will be retained.\n",
      "  sets.append(mne.io.read_epochs_eeglab(path))\n"
     ]
    },
    {
     "name": "stdout",
     "output_type": "stream",
     "text": [
      "Ready.\n",
      "Extracting parameters from ./../../data_new/raw/PnP\\PnP_7\\PnP_7_L.set...\n",
      "56 matching events found\n",
      "No baseline correction applied\n",
      "Not setting metadata\n",
      "0 projection items activated\n"
     ]
    },
    {
     "name": "stderr",
     "output_type": "stream",
     "text": [
      "<ipython-input-77-a40508d617f2>:10: RuntimeWarning: At least one epoch has multiple events. Only the latency of the first event will be retained.\n",
      "  sets.append(mne.io.read_epochs_eeglab(path))\n"
     ]
    },
    {
     "name": "stdout",
     "output_type": "stream",
     "text": [
      "Ready.\n",
      "Extracting parameters from ./../../data_new/raw/PnP\\PnP_8\\PnP_8_L.set...\n",
      "56 matching events found\n"
     ]
    },
    {
     "name": "stderr",
     "output_type": "stream",
     "text": [
      "<ipython-input-77-a40508d617f2>:10: RuntimeWarning: At least one epoch has multiple events. Only the latency of the first event will be retained.\n",
      "  sets.append(mne.io.read_epochs_eeglab(path))\n"
     ]
    },
    {
     "name": "stdout",
     "output_type": "stream",
     "text": [
      "No baseline correction applied\n",
      "Not setting metadata\n",
      "0 projection items activated\n",
      "Ready.\n",
      "Extracting parameters from ./../../data_new/raw/PnP\\PnP_9\\PnP_9_L.set...\n",
      "48 matching events found\n",
      "No baseline correction applied\n",
      "Not setting metadata\n",
      "0 projection items activated\n",
      "Ready.\n"
     ]
    },
    {
     "name": "stderr",
     "output_type": "stream",
     "text": [
      "<ipython-input-77-a40508d617f2>:10: RuntimeWarning: At least one epoch has multiple events. Only the latency of the first event will be retained.\n",
      "  sets.append(mne.io.read_epochs_eeglab(path))\n"
     ]
    }
   ],
   "source": [
    "limb = l_new\n",
    "\n",
    "pp_rh_raw = get_datasets(location_pdp, limb['extension'])\n",
    "pnp_rh_raw = get_datasets(location_pnp, limb['extension'])\n",
    "hv_rh_raw = get_datasets(location_pwp, limb['extension'])"
   ]
  },
  {
   "cell_type": "markdown",
   "metadata": {},
   "source": [
    "Alternatively, use all limbs"
   ]
  },
  {
   "cell_type": "code",
   "execution_count": 6,
   "metadata": {},
   "outputs": [
    {
     "ename": "NameError",
     "evalue": "name 'location_pain' is not defined",
     "output_type": "error",
     "traceback": [
      "\u001b[1;31m---------------------------------------------------------------------------\u001b[0m",
      "\u001b[1;31mNameError\u001b[0m                                 Traceback (most recent call last)",
      "\u001b[1;32m<ipython-input-6-e8e2694994f6>\u001b[0m in \u001b[0;36m<module>\u001b[1;34m\u001b[0m\n\u001b[0;32m      1\u001b[0m \u001b[0mlimb\u001b[0m \u001b[1;33m=\u001b[0m \u001b[1;33m{\u001b[0m\u001b[1;34m'name'\u001b[0m\u001b[1;33m:\u001b[0m \u001b[1;34m'all_limbs'\u001b[0m\u001b[1;33m}\u001b[0m\u001b[1;33m\u001b[0m\u001b[1;33m\u001b[0m\u001b[0m\n\u001b[0;32m      2\u001b[0m \u001b[1;33m\u001b[0m\u001b[0m\n\u001b[1;32m----> 3\u001b[1;33m \u001b[0mpp_rh_raw\u001b[0m \u001b[1;33m=\u001b[0m \u001b[0mget_datasets\u001b[0m\u001b[1;33m(\u001b[0m\u001b[0mlocation_pain\u001b[0m\u001b[1;33m,\u001b[0m \u001b[0mrh\u001b[0m\u001b[1;33m[\u001b[0m\u001b[1;34m'extension'\u001b[0m\u001b[1;33m]\u001b[0m\u001b[1;33m)\u001b[0m\u001b[1;33m\u001b[0m\u001b[1;33m\u001b[0m\u001b[0m\n\u001b[0m\u001b[0;32m      4\u001b[0m \u001b[0mpnp_rh_raw\u001b[0m \u001b[1;33m=\u001b[0m \u001b[0mget_datasets\u001b[0m\u001b[1;33m(\u001b[0m\u001b[0mlocation_nopain\u001b[0m\u001b[1;33m,\u001b[0m \u001b[0mrh\u001b[0m\u001b[1;33m[\u001b[0m\u001b[1;34m'extension'\u001b[0m\u001b[1;33m]\u001b[0m\u001b[1;33m)\u001b[0m\u001b[1;33m\u001b[0m\u001b[1;33m\u001b[0m\u001b[0m\n\u001b[0;32m      5\u001b[0m \u001b[1;33m\u001b[0m\u001b[0m\n",
      "\u001b[1;31mNameError\u001b[0m: name 'location_pain' is not defined"
     ]
    }
   ],
   "source": [
    "limb = {'name': 'all_limbs'}\n",
    "\n",
    "pp_rh_raw = get_datasets(location_pain, rh['extension'])\n",
    "pnp_rh_raw = get_datasets(location_nopain, rh['extension'])\n",
    "\n",
    "pp_lh_raw = get_datasets(location_pain, lh['extension'])\n",
    "pnp_lh_raw = get_datasets(location_nopain, lh['extension'])\n",
    "\n",
    "pp_l_raw = get_datasets(location_pain, l_old['extension'])\n",
    "pnp_l_raw = get_datasets(location_nopain, l_old['extension'])"
   ]
  },
  {
   "cell_type": "code",
   "execution_count": 9,
   "metadata": {},
   "outputs": [
    {
     "ename": "NameError",
     "evalue": "name 'pp_lh_raw' is not defined",
     "output_type": "error",
     "traceback": [
      "\u001b[1;31m---------------------------------------------------------------------------\u001b[0m",
      "\u001b[1;31mNameError\u001b[0m                                 Traceback (most recent call last)",
      "\u001b[1;32m<ipython-input-9-431a486ee634>\u001b[0m in \u001b[0;36m<module>\u001b[1;34m\u001b[0m\n\u001b[1;32m----> 1\u001b[1;33m \u001b[0mpp_all_limbs\u001b[0m \u001b[1;33m=\u001b[0m \u001b[0mnp\u001b[0m\u001b[1;33m.\u001b[0m\u001b[0mconcatenate\u001b[0m\u001b[1;33m(\u001b[0m\u001b[1;33m(\u001b[0m\u001b[0mpp_rh_raw\u001b[0m\u001b[1;33m,\u001b[0m \u001b[0mpp_lh_raw\u001b[0m\u001b[1;33m,\u001b[0m \u001b[0mpp_l_raw\u001b[0m\u001b[1;33m)\u001b[0m\u001b[1;33m)\u001b[0m\u001b[1;33m\u001b[0m\u001b[1;33m\u001b[0m\u001b[0m\n\u001b[0m\u001b[0;32m      2\u001b[0m \u001b[0mpnp_all_limbs\u001b[0m \u001b[1;33m=\u001b[0m \u001b[0mnp\u001b[0m\u001b[1;33m.\u001b[0m\u001b[0mconcatenate\u001b[0m\u001b[1;33m(\u001b[0m\u001b[1;33m(\u001b[0m\u001b[0mpnp_rh_raw\u001b[0m\u001b[1;33m,\u001b[0m \u001b[0mpnp_lh_raw\u001b[0m\u001b[1;33m,\u001b[0m \u001b[0mpnp_l_raw\u001b[0m\u001b[1;33m)\u001b[0m\u001b[1;33m)\u001b[0m\u001b[1;33m\u001b[0m\u001b[1;33m\u001b[0m\u001b[0m\n",
      "\u001b[1;31mNameError\u001b[0m: name 'pp_lh_raw' is not defined"
     ]
    }
   ],
   "source": [
    "pp_all_limbs = np.concatenate((pp_rh_raw, pp_lh_raw, pp_l_raw))\n",
    "pnp_all_limbs = np.concatenate((pnp_rh_raw, pnp_lh_raw, pnp_l_raw))"
   ]
  },
  {
   "cell_type": "code",
   "execution_count": 9,
   "metadata": {},
   "outputs": [
    {
     "data": {
      "text/plain": [
       "(27,)"
      ]
     },
     "execution_count": 9,
     "metadata": {},
     "output_type": "execute_result"
    }
   ],
   "source": [
    "pnp_all_limbs.shape"
   ]
  },
  {
   "cell_type": "code",
   "execution_count": null,
   "metadata": {},
   "outputs": [],
   "source": []
  },
  {
   "cell_type": "code",
   "execution_count": 8,
   "metadata": {},
   "outputs": [
    {
     "name": "stdout",
     "output_type": "stream",
     "text": [
      "Extracting parameters from ./../../data_new/raw/PdP\\PdP_1\\PdP_1_RH.set...\n",
      "65 matching events found\n",
      "No baseline correction applied\n",
      "Not setting metadata\n",
      "0 projection items activated\n",
      "Ready.\n"
     ]
    },
    {
     "name": "stderr",
     "output_type": "stream",
     "text": [
      "<ipython-input-5-f4cb1c0da255>:25: RuntimeWarning: At least one epoch has multiple events. Only the latency of the first event will be retained.\n",
      "  return mne.io.read_epochs_eeglab(sets_locations[0]).ch_names\n"
     ]
    },
    {
     "data": {
      "text/plain": [
       "['Fp1',\n",
       " 'Fpz',\n",
       " 'Fp2',\n",
       " 'F7',\n",
       " 'F3',\n",
       " 'F1',\n",
       " 'Fz',\n",
       " 'F2',\n",
       " 'F4',\n",
       " 'F8',\n",
       " 'FC3',\n",
       " 'FC1',\n",
       " 'FCz',\n",
       " 'FC2',\n",
       " 'FC4',\n",
       " 'FC6',\n",
       " 'T7',\n",
       " 'C5',\n",
       " 'C3',\n",
       " 'C1',\n",
       " 'Cz',\n",
       " 'C2',\n",
       " 'C4',\n",
       " 'C6',\n",
       " 'T8',\n",
       " 'CP5',\n",
       " 'CP3',\n",
       " 'CP1',\n",
       " 'CPz',\n",
       " 'CP2',\n",
       " 'CP4',\n",
       " 'CP6',\n",
       " 'P7',\n",
       " 'P5',\n",
       " 'P3',\n",
       " 'P1',\n",
       " 'Pz',\n",
       " 'P2',\n",
       " 'P4',\n",
       " 'P6',\n",
       " 'P8',\n",
       " 'PO3',\n",
       " 'POz',\n",
       " 'PO4',\n",
       " 'O1',\n",
       " 'Oz',\n",
       " 'O2',\n",
       " 'FC5']"
      ]
     },
     "execution_count": 8,
     "metadata": {},
     "output_type": "execute_result"
    }
   ],
   "source": [
    "ch_names_new = get_channel_names(location_pdp, rh['extension'])\n",
    "ch_names_new"
   ]
  },
  {
   "cell_type": "code",
   "execution_count": 9,
   "metadata": {},
   "outputs": [
    {
     "name": "stdout",
     "output_type": "stream",
     "text": [
      "Extracting parameters from ./../../data/raw/PP\\PP1\\PP1_F1_RH_Removed_ICA.set...\n"
     ]
    },
    {
     "name": "stderr",
     "output_type": "stream",
     "text": [
      "<ipython-input-5-f4cb1c0da255>:25: RuntimeWarning: At least one epoch has multiple events. Only the latency of the first event will be retained.\n",
      "  return mne.io.read_epochs_eeglab(sets_locations[0]).ch_names\n"
     ]
    },
    {
     "name": "stdout",
     "output_type": "stream",
     "text": [
      "57 matching events found\n",
      "No baseline correction applied\n",
      "Not setting metadata\n",
      "0 projection items activated\n",
      "Ready.\n"
     ]
    },
    {
     "data": {
      "text/plain": [
       "['Cz',\n",
       " 'C1',\n",
       " 'C2',\n",
       " 'C3',\n",
       " 'C4',\n",
       " 'C5',\n",
       " 'C6',\n",
       " 'C7',\n",
       " 'C8',\n",
       " 'FCz',\n",
       " 'FC1',\n",
       " 'FC2',\n",
       " 'FC3',\n",
       " 'FC4',\n",
       " 'FC5',\n",
       " 'FC6',\n",
       " 'FT7',\n",
       " 'FT8',\n",
       " 'CPz',\n",
       " 'CP1',\n",
       " 'CP2',\n",
       " 'CP3',\n",
       " 'CP4',\n",
       " 'CP5',\n",
       " 'CP6',\n",
       " 'TP7',\n",
       " 'TP8',\n",
       " 'Fz',\n",
       " 'F1',\n",
       " 'F2',\n",
       " 'F3',\n",
       " 'F4',\n",
       " 'F5',\n",
       " 'F6',\n",
       " 'F7',\n",
       " 'F8',\n",
       " 'Pz',\n",
       " 'P1',\n",
       " 'P2',\n",
       " 'P3',\n",
       " 'P4',\n",
       " 'P5',\n",
       " 'P6',\n",
       " 'P7',\n",
       " 'P8',\n",
       " 'AFz',\n",
       " 'AF3',\n",
       " 'AF4',\n",
       " 'AF7',\n",
       " 'AF8',\n",
       " 'Fp1',\n",
       " 'FP2',\n",
       " 'POz',\n",
       " 'PO3',\n",
       " 'PO4',\n",
       " 'PO7',\n",
       " 'PO8',\n",
       " 'Oz',\n",
       " 'O1',\n",
       " 'O2',\n",
       " 'Iz']"
      ]
     },
     "execution_count": 9,
     "metadata": {},
     "output_type": "execute_result"
    }
   ],
   "source": [
    "ch_names = get_channel_names(location_pain, rh['extension'])\n",
    "ch_names"
   ]
  },
  {
   "cell_type": "code",
   "execution_count": 42,
   "metadata": {},
   "outputs": [],
   "source": [
    "# Check for any channels not present in both\n",
    "#for ch in ch_names_new:\n",
    "#    if not (ch in ch_names):\n",
    " #       print(ch, end=' ')"
   ]
  },
  {
   "cell_type": "code",
   "execution_count": 13,
   "metadata": {},
   "outputs": [
    {
     "data": {
      "text/plain": [
       "array([array([[[ 1.25291641e-04,  1.14875008e-04,  1.00458344e-04, ...,\n",
       "          3.14374981e-05,  2.43541660e-05,  2.19166679e-05],\n",
       "        [ 9.22916718e-05,  9.18749924e-05,  8.94583511e-05, ...,\n",
       "          2.34375000e-05,  1.53541670e-05,  8.91666698e-06],\n",
       "        [ 1.01291672e-04,  7.38749924e-05,  5.24583321e-05, ...,\n",
       "          1.54375019e-05,  1.63541679e-05,  2.29166679e-05],\n",
       "        ...,\n",
       "        [-4.70833492e-06, -9.12500000e-06, -1.35416660e-05, ...,\n",
       "          4.37499434e-07, -2.64583325e-06, -1.40833330e-05],\n",
       "        [-7.08333313e-07, -9.12500095e-06, -1.65416660e-05, ...,\n",
       "          8.43750000e-06, -1.64583397e-06, -1.40833330e-05],\n",
       "        [-4.27083321e-05, -4.21250038e-05, -4.35416641e-05, ...,\n",
       "         -1.56250048e-06,  3.54166985e-07, -1.08333397e-06]],\n",
       "\n",
       "       [[-4.57500114e-05, -3.57916794e-05, -3.01249886e-05, ...,\n",
       "          4.93541527e-05,  6.24791794e-05,  7.18750153e-05],\n",
       "        [-2.77499943e-05, -2.87916603e-05, -2.91249943e-05, ...,\n",
       "          5.73541794e-05,  6.74791641e-05,  7.28750229e-05],\n",
       "        [-5.37500153e-05, -5.47916756e-05, -4.81249886e-05, ...,\n",
       "          3.33541565e-05,  4.04791679e-05,  3.78749962e-05],\n",
       "        ...,\n",
       "        [ 9.25000191e-06,  1.12083340e-05,  2.87500358e-06, ...,\n",
       "         -1.06458340e-05, -1.95208359e-05, -2.71249962e-05],\n",
       "        [ 9.25000191e-06,  1.32083349e-05,  8.87500381e-06, ...,\n",
       "         -5.64583397e-06, -1.85208359e-05, -2.51249962e-05],\n",
       "        [ 8.25000191e-06,  3.20833349e-06,  6.87500334e-06, ...,\n",
       "         -1.64583397e-06, -1.15208359e-05, -1.81249962e-05]],\n",
       "\n",
       "       [[ 6.54166698e-06,  1.02083313e-06, -5.89583397e-06, ...,\n",
       "          6.04168236e-07, -7.70836234e-07,  3.52083516e-06],\n",
       "        [ 3.54166913e-06,  9.02083206e-06, -8.95835698e-07, ...,\n",
       "          2.60416532e-06,  4.22916508e-06,  5.20833015e-07],\n",
       "        [ 2.35416679e-05,  2.50208340e-05,  1.51041660e-05, ...,\n",
       "          6.60416746e-06,  1.22291651e-05,  1.65208340e-05],\n",
       "        ...,\n",
       "        [ 5.41669250e-07,  7.02083492e-06,  1.11041660e-05, ...,\n",
       "         -3.39583325e-06,  1.22916543e-06,  5.20829558e-07],\n",
       "        [ 5.41669250e-07,  6.02083445e-06,  1.01041660e-05, ...,\n",
       "         -3.39583278e-06,  4.22916603e-06,  6.52083015e-06],\n",
       "        [ 1.15416689e-05,  1.50208349e-05,  1.51041660e-05, ...,\n",
       "          2.06041698e-05,  2.32291679e-05,  2.25208321e-05]],\n",
       "\n",
       "       ...,\n",
       "\n",
       "       [[-1.58750019e-05, -1.31666660e-05, -1.89583397e-06, ...,\n",
       "         -1.22083330e-05, -1.75416698e-05, -1.78749981e-05],\n",
       "        [ 1.31249981e-05,  1.38333368e-05,  1.51041679e-05, ...,\n",
       "         -1.92083397e-05, -2.75416622e-05, -6.87500143e-06],\n",
       "        [-7.87499905e-06, -1.66666955e-07,  2.11041641e-05, ...,\n",
       "          7.79166508e-06, -3.54166555e-06, -1.68749943e-05],\n",
       "        ...,\n",
       "        [-1.28750000e-05, -1.71666679e-05, -2.38958340e-05, ...,\n",
       "          2.37916698e-05,  2.14583378e-05,  1.01249990e-05],\n",
       "        [-1.58750000e-05, -1.91666660e-05, -2.28958340e-05, ...,\n",
       "          1.77916698e-05,  1.44583378e-05,  1.12499940e-06],\n",
       "        [ 1.71250000e-05,  1.68333359e-05,  2.31041679e-05, ...,\n",
       "          1.97916698e-05,  2.24583378e-05,  2.51250019e-05]],\n",
       "\n",
       "       [[ 1.24625031e-04,  1.13520844e-04,  1.00458328e-04, ...,\n",
       "         -1.12562508e-04, -1.22125015e-04, -1.29624985e-04],\n",
       "        [ 1.25625023e-04,  1.07520836e-04,  9.24583588e-05, ...,\n",
       "         -8.45625076e-05, -1.01124992e-04, -1.27624962e-04],\n",
       "        [ 7.06249924e-05,  6.35208397e-05,  6.24583511e-05, ...,\n",
       "         -1.43562485e-04, -1.45125031e-04, -1.54624969e-04],\n",
       "        ...,\n",
       "        [-5.03750038e-05, -4.24791679e-05, -2.15416756e-05, ...,\n",
       "          3.14375000e-05,  2.58750038e-05,  2.23749943e-05],\n",
       "        [-5.13750076e-05, -4.34791679e-05, -2.35416775e-05, ...,\n",
       "          3.14375000e-05,  2.38750038e-05,  1.83749924e-05],\n",
       "        [-7.37500381e-06, -1.34791641e-05, -2.85416756e-05, ...,\n",
       "          1.24374990e-05,  1.88750038e-05,  2.23749924e-05]],\n",
       "\n",
       "       [[-7.14583445e-06, -7.54166842e-06, -1.42916708e-05, ...,\n",
       "         -3.20208435e-05, -3.03958340e-05, -3.28958359e-05],\n",
       "        [ 1.98541718e-05,  5.45833302e-06,  4.70833302e-06, ...,\n",
       "         -1.80208359e-05, -2.33958340e-05, -3.48958321e-05],\n",
       "        [ 1.18541641e-05,  4.45833302e-06, -1.29166734e-06, ...,\n",
       "         -2.30208359e-05, -1.43958340e-05, -3.89583373e-06],\n",
       "        ...,\n",
       "        [-1.14583397e-06, -5.41666627e-07,  3.70833278e-06, ...,\n",
       "          1.29791679e-05,  1.36041670e-05,  1.71041679e-05],\n",
       "        [-1.14583385e-06,  4.58333164e-07,  3.70833278e-06, ...,\n",
       "          1.49791670e-05,  1.76041660e-05,  2.21041679e-05],\n",
       "        [ 6.85416651e-06,  9.45833302e-06,  1.17083330e-05, ...,\n",
       "          6.97916746e-06,  5.60416651e-06,  6.10416746e-06]]]),\n",
       "       array([[[ 8.75000060e-07,  3.62500024e-06,  4.33333349e-06, ...,\n",
       "         -5.41665792e-07,  4.12500000e-06,  7.75000048e-06],\n",
       "        [ 1.87500000e-06,  2.62500000e-06,  7.33333302e-06, ...,\n",
       "          1.64583302e-05,  9.12500095e-06,  5.75000095e-06],\n",
       "        [-8.12499905e-06, -1.03750010e-05, -1.76666679e-05, ...,\n",
       "          4.45833349e-06, -1.88750038e-05, -2.92500000e-05],\n",
       "        ...,\n",
       "        [-1.41250010e-05, -1.13750010e-05, -8.66666698e-06, ...,\n",
       "         -2.65416679e-05, -7.87500000e-06,  1.47500000e-05],\n",
       "        [-1.01250010e-05, -4.37500000e-06, -9.66666698e-06, ...,\n",
       "         -3.85416679e-05, -2.08750000e-05, -2.02500000e-05],\n",
       "        [-1.12499988e-06,  8.62500000e-06,  1.53333330e-05, ...,\n",
       "          4.54583359e-05,  6.11250038e-05,  9.75000095e-06]],\n",
       "\n",
       "       [[ 1.10208330e-05,  1.48958359e-05,  1.43541651e-05, ...,\n",
       "          3.41041641e-05,  2.57291718e-05,  2.12291679e-05],\n",
       "        [ 1.00208340e-05,  1.58958340e-05,  2.03541718e-05, ...,\n",
       "          3.31041718e-05,  2.77291698e-05,  1.82291679e-05],\n",
       "        [ 4.50208282e-05,  5.68958244e-05,  6.33541603e-05, ...,\n",
       "          4.21041718e-05,  3.77291641e-05,  3.12291641e-05],\n",
       "        ...,\n",
       "        [-7.97916603e-06, -1.31041679e-05,  2.03541679e-05, ...,\n",
       "         -4.38958321e-05, -1.72708340e-05,  9.22916698e-06],\n",
       "        [-3.49791679e-05, -4.71041679e-05, -2.76458340e-05, ...,\n",
       "         -5.18958359e-05, -3.12708340e-05, -1.57708340e-05],\n",
       "        [ 1.02083349e-06,  8.95832539e-07, -5.64583349e-06, ...,\n",
       "          3.61041718e-05,  3.17291679e-05,  7.22916651e-06]],\n",
       "\n",
       "       [[-3.37500238e-06, -8.50000095e-06, -1.08333368e-05, ...,\n",
       "         -1.01458349e-05, -4.79166794e-06,  4.58333397e-06],\n",
       "        [ 1.16250038e-05, -1.44999990e-05, -4.28333321e-05, ...,\n",
       "         -1.61458302e-05, -5.79166794e-06,  5.83333015e-07],\n",
       "        [-3.75002861e-07, -8.75000000e-05, -1.61833282e-04, ...,\n",
       "         -6.91458664e-05, -7.47916870e-05, -3.64166641e-05],\n",
       "        ...,\n",
       "        [-6.63750000e-05, -6.35000038e-05, -6.08333282e-05, ...,\n",
       "          1.38541670e-05, -2.79166627e-06, -2.14166698e-05],\n",
       "        [-2.93749943e-05, -2.45000000e-05, -1.68333282e-05, ...,\n",
       "          2.18541660e-05,  3.20833373e-06, -3.04166698e-05],\n",
       "        [ 6.25007629e-07, -1.05000000e-05, -3.88333282e-05, ...,\n",
       "         -1.11458340e-05, -1.07916670e-05, -4.41666698e-06]],\n",
       "\n",
       "       ...,\n",
       "\n",
       "       [[-1.37291689e-05, -1.87291641e-05, -1.95833302e-06, ...,\n",
       "          3.93750024e-06,  2.54166651e-06,  5.06250000e-06],\n",
       "        [-5.72916555e-06, -2.72916770e-06,  1.80416679e-05, ...,\n",
       "          1.59375010e-05,  6.54166651e-06,  1.00625010e-05],\n",
       "        [ 2.70834267e-07,  2.70833701e-07,  2.90416718e-05, ...,\n",
       "          1.39375000e-05, -1.24583311e-05,  2.06250000e-06],\n",
       "        ...,\n",
       "        [ 1.52708340e-05,  1.12708340e-05, -9.58333373e-07, ...,\n",
       "         -1.60625000e-05, -4.45833302e-06, -9.93750000e-06],\n",
       "        [ 2.02708359e-05,  2.62708359e-05, -4.95833302e-06, ...,\n",
       "         -1.80625019e-05, -8.45833302e-06, -2.93750024e-06],\n",
       "        [ 2.70833194e-07, -4.72916603e-06,  1.04166698e-06, ...,\n",
       "          1.39375010e-05,  3.54166698e-06,  4.06250000e-06]],\n",
       "\n",
       "       [[-1.83958359e-05, -1.54166670e-05, -2.60000019e-05, ...,\n",
       "          1.68749952e-06,  6.58333492e-06,  5.70833302e-06],\n",
       "        [-2.23958378e-05,  7.58333254e-06, -7.99999857e-06, ...,\n",
       "         -3.31249976e-06, -3.41666746e-06, -5.29166889e-06],\n",
       "        [-7.83958359e-05, -4.44166756e-05, -8.80000076e-05, ...,\n",
       "         -2.43125019e-05, -3.54166794e-05, -4.02916794e-05],\n",
       "        ...,\n",
       "        [ 1.36041698e-05,  5.58333349e-06,  9.00000000e-06, ...,\n",
       "         -1.31249905e-06, -3.04166660e-05, -2.62916679e-05],\n",
       "        [-1.39583111e-06, -1.34166670e-05, -6.00000095e-06, ...,\n",
       "          7.68750238e-06,  3.58333540e-06, -7.29166651e-06],\n",
       "        [-1.43958311e-05, -1.94166679e-05, -2.10000019e-05, ...,\n",
       "          2.68750191e-06,  4.58333492e-06,  9.70833397e-06]],\n",
       "\n",
       "       [[ 4.37500048e-06,  1.43750072e-06, -2.25000501e-06, ...,\n",
       "         -5.20833254e-06, -9.47916698e-06, -1.22291679e-05],\n",
       "        [ 5.63750000e-05,  4.24375076e-05,  1.67499981e-05, ...,\n",
       "          2.97916641e-05,  1.75208378e-05,  6.77083540e-06],\n",
       "        [ 1.41374985e-04,  1.09437500e-04,  6.07500114e-05, ...,\n",
       "          1.12791664e-04,  5.25208321e-05, -2.62291679e-05],\n",
       "        ...,\n",
       "        [ 1.63750000e-05,  1.74374962e-05,  2.47500000e-05, ...,\n",
       "          4.79166651e-06, -7.47916508e-06, -4.22916651e-06],\n",
       "        [-8.62500191e-06, -9.56250477e-06, -4.25000143e-06, ...,\n",
       "          1.17916660e-05,  3.52083492e-06, -8.22916698e-06],\n",
       "        [ 3.13750000e-05,  3.64374962e-05,  3.37500000e-05, ...,\n",
       "          3.57916679e-05,  3.25208359e-05,  1.77708340e-05]]]),\n",
       "       array([[[-1.62500000e-05,  1.00625057e-05,  1.87083359e-05, ...,\n",
       "          1.33333421e-06,  7.33333492e-06,  1.29374981e-05],\n",
       "        [-1.25000072e-06, -4.93750048e-06, -1.02916670e-05, ...,\n",
       "         -2.66666651e-06, -7.66666603e-06, -1.10625010e-05],\n",
       "        [-2.52499981e-05, -3.69374962e-05, -4.12916641e-05, ...,\n",
       "         -2.46666660e-05, -4.26666641e-05, -5.20625000e-05],\n",
       "        ...,\n",
       "        [-1.02500010e-05, -4.93749905e-06, -4.29166508e-06, ...,\n",
       "         -1.46666670e-05, -1.16666660e-05, -8.06250000e-06],\n",
       "        [-8.25000095e-06, -2.93749905e-06, -2.91665405e-07, ...,\n",
       "         -1.06666670e-05, -7.66666603e-06, -5.06249952e-06],\n",
       "        [-2.42500019e-05, -2.69375000e-05, -1.32916651e-05, ...,\n",
       "         -1.56666670e-05, -2.66666660e-05, -5.06249952e-06]],\n",
       "\n",
       "       [[-3.70416679e-05, -8.12499809e-06,  1.78749981e-05, ...,\n",
       "          1.05833321e-05,  2.41666627e-06,  8.12499046e-07],\n",
       "        [-1.60416660e-05, -1.11250029e-05, -5.12500334e-06, ...,\n",
       "          7.58333158e-06,  2.41666627e-06, -1.87498927e-07],\n",
       "        [ 6.95833302e-06, -1.12499845e-06, -1.12500226e-06, ...,\n",
       "          3.35833244e-05,  2.04166641e-05,  1.18124990e-05],\n",
       "        ...,\n",
       "        [ 9.58331704e-07, -1.24998719e-07,  1.87500000e-06, ...,\n",
       "          5.83335161e-07, -2.58333302e-06, -7.18750000e-06],\n",
       "        [-1.04166734e-06, -2.12500000e-06, -1.12500000e-06, ...,\n",
       "         -5.41666460e-06, -6.58333302e-06, -8.18750000e-06],\n",
       "        [ 2.99583321e-05,  7.87500191e-06,  1.08750000e-05, ...,\n",
       "          3.65833359e-05,  3.84166679e-05,  2.98125000e-05]],\n",
       "\n",
       "       [[ 4.96041679e-05,  2.64791679e-05,  9.20833302e-06, ...,\n",
       "          4.03333359e-05,  4.61875000e-05,  5.63750114e-05],\n",
       "        [ 1.86041679e-05,  1.74791660e-05,  8.20833302e-06, ...,\n",
       "          2.93333359e-05,  2.91875019e-05,  2.73749962e-05],\n",
       "        [ 4.60416746e-06,  5.47916651e-06,  8.20833302e-06, ...,\n",
       "          4.63333321e-05,  3.71874924e-05,  3.43750038e-05],\n",
       "        ...,\n",
       "        [ 6.04166031e-07,  5.47916651e-06,  1.22083330e-05, ...,\n",
       "         -5.66666698e-06, -1.81250072e-06, -1.62499976e-06],\n",
       "        [ 4.60416603e-06,  7.47916603e-06,  1.22083330e-05, ...,\n",
       "          3.33333492e-07,  7.18750000e-06,  9.37500095e-06],\n",
       "        [ 4.60416603e-06,  1.14791660e-05,  1.72083340e-05, ...,\n",
       "         -6.66666508e-07,  7.18750000e-06,  1.63750000e-05]],\n",
       "\n",
       "       ...,\n",
       "\n",
       "       [[ 4.85416651e-06, -2.68749952e-06, -9.08333206e-06, ...,\n",
       "          1.01458321e-05,  5.74999952e-06,  3.87499928e-06],\n",
       "        [-1.45833403e-07,  5.31249952e-06,  8.91667080e-06, ...,\n",
       "          1.61458321e-05,  1.47499981e-05,  1.38750010e-05],\n",
       "        [ 4.85416651e-06, -1.68749976e-06, -1.08333325e-06, ...,\n",
       "          2.51458359e-05,  1.67499962e-05,  8.87500191e-06],\n",
       "        ...,\n",
       "        [-1.11458330e-05, -1.06875010e-05, -1.00833340e-05, ...,\n",
       "         -9.85416603e-06, -1.12500010e-05, -1.01250010e-05],\n",
       "        [-1.51458340e-05, -1.36875010e-05, -1.30833340e-05, ...,\n",
       "         -1.38541660e-05, -1.62500000e-05, -1.21250010e-05],\n",
       "        [-7.14583302e-06, -2.86875019e-05, -3.10833359e-05, ...,\n",
       "          2.21458340e-05, -5.25000000e-06, -1.21250000e-05]],\n",
       "\n",
       "       [[-1.77291660e-05, -5.39583349e-06,  3.22916722e-06, ...,\n",
       "         -2.87500000e-05, -2.81041641e-05, -3.37500095e-06],\n",
       "        [ 7.27083397e-06,  3.60416651e-06,  2.22916675e-06, ...,\n",
       "          3.24999976e-06, -1.04166269e-07,  6.24999583e-07],\n",
       "        [ 1.42708340e-05, -5.39583302e-06, -6.77083445e-06, ...,\n",
       "          6.25000000e-06,  8.95833373e-07,  1.16249971e-05],\n",
       "        ...,\n",
       "        [-8.72916603e-06, -1.03958340e-05, -1.37708330e-05, ...,\n",
       "         -7.50000060e-07, -1.10416675e-06,  1.62500131e-06],\n",
       "        [-1.47291660e-05, -1.63958321e-05, -2.07708340e-05, ...,\n",
       "         -6.75000048e-06, -7.10416698e-06, -4.37499857e-06],\n",
       "        [ 1.32708340e-05,  7.60416698e-06, -7.70833254e-07, ...,\n",
       "          5.25000000e-06,  9.89583397e-06,  1.26250019e-05]],\n",
       "\n",
       "       [[ 2.97916679e-05,  2.23749943e-05,  2.65833359e-05, ...,\n",
       "          2.33958340e-05,  2.44791660e-05,  1.57083349e-05],\n",
       "        [ 2.67916679e-05,  2.63749962e-05,  2.85833340e-05, ...,\n",
       "          1.13958330e-05,  1.24791660e-05,  1.37083330e-05],\n",
       "        [ 1.87916660e-05,  1.03750029e-05,  2.65833359e-05, ...,\n",
       "          6.39583349e-06,  4.47916746e-06,  1.47083340e-05],\n",
       "        ...,\n",
       "        [-9.20833492e-06, -6.62500143e-06, -6.41666651e-06, ...,\n",
       "         -1.26041670e-05, -1.45208340e-05, -1.42916670e-05],\n",
       "        [-1.22083349e-05, -7.62500143e-06, -5.41666651e-06, ...,\n",
       "         -1.96041660e-05, -2.25208340e-05, -2.32916679e-05],\n",
       "        [-1.22083340e-05, -1.26250019e-05, -1.94166660e-05, ...,\n",
       "         -4.60416603e-06, -1.52083302e-06, -6.29166651e-06]]]),\n",
       "       array([[[-9.89583588e-06,  9.58333492e-06, -7.89583302e-06, ...,\n",
       "         -1.87916660e-05, -3.61458244e-05, -2.80416679e-05],\n",
       "        [-1.08958378e-05,  8.58333492e-06, -7.89583302e-06, ...,\n",
       "         -1.77916660e-05, -4.01458359e-05, -3.30416641e-05],\n",
       "        [-6.89583111e-06,  1.05833359e-05, -8.89583206e-06, ...,\n",
       "         -1.87916660e-05, -4.31458473e-05, -3.50416679e-05],\n",
       "        ...,\n",
       "        [-8.95833313e-07, -1.41666651e-06,  3.10416579e-06, ...,\n",
       "          2.22083359e-05,  1.18541670e-05,  8.95833397e-06],\n",
       "        [-8.95833313e-07, -4.16666597e-07,  4.10416603e-06, ...,\n",
       "          2.22083359e-05,  1.18541670e-05,  6.95833445e-06],\n",
       "        [ 2.10416675e-06,  6.58333397e-06,  1.51041660e-05, ...,\n",
       "          2.12083340e-05,  1.88541679e-05,  1.99583359e-05]],\n",
       "\n",
       "       [[-1.43124952e-05, -4.58337069e-07, -2.37500954e-06, ...,\n",
       "         -7.45832634e-06,  1.22083368e-05,  2.59375019e-05],\n",
       "        [-1.23125019e-05,  2.54167008e-06,  6.24991417e-07, ...,\n",
       "         -1.34583359e-05,  1.12083368e-05,  2.89375038e-05],\n",
       "        [-1.43124952e-05,  1.54167008e-06, -2.37500954e-06, ...,\n",
       "         -2.04583473e-05,  6.20833254e-06,  2.89375038e-05],\n",
       "        ...,\n",
       "        [-3.31250381e-06, -4.58330870e-07, -2.37500000e-06, ...,\n",
       "         -1.14583321e-05, -1.07916632e-05, -1.40624981e-05],\n",
       "        [-1.03125038e-05, -8.45833492e-06, -8.37500000e-06, ...,\n",
       "         -2.44583282e-05, -1.87916641e-05, -2.00624981e-05],\n",
       "        [ 1.68749619e-06, -3.45833588e-06, -1.13750000e-05, ...,\n",
       "         -1.24583282e-05, -1.17916603e-05, -1.70625000e-05]],\n",
       "\n",
       "       [[ 1.15625019e-05, -1.66458397e-05, -1.16250038e-05, ...,\n",
       "          1.96666679e-05,  3.89583397e-05,  2.26458416e-05],\n",
       "        [ 1.55624981e-05, -1.56458387e-05, -1.26249981e-05, ...,\n",
       "          1.96666679e-05,  3.79583397e-05,  2.06458397e-05],\n",
       "        [ 1.35625010e-05, -1.66458397e-05, -1.36250010e-05, ...,\n",
       "          1.66666660e-05,  3.19583302e-05,  1.26458302e-05],\n",
       "        ...,\n",
       "        [-9.43750000e-06, -5.64583492e-06, -6.62499475e-06, ...,\n",
       "         -5.33333349e-06, -3.04166675e-06, -3.35416770e-06],\n",
       "        [-5.43749762e-06, -2.64583325e-06, -4.62499619e-06, ...,\n",
       "         -2.33333349e-06,  1.95833313e-06,  1.64583242e-06],\n",
       "        [-3.43750000e-06,  3.35416985e-06,  5.37500381e-06, ...,\n",
       "         -4.33333397e-06, -9.04166794e-06, -9.35416794e-06]],\n",
       "\n",
       "       ...,\n",
       "\n",
       "       [[-3.30000000e-05, -9.18750000e-06, -3.43750143e-06, ...,\n",
       "         -9.89583302e-06,  1.18958340e-05,  8.08333302e-06],\n",
       "        [-3.70000000e-05, -1.11875010e-05, -4.43750095e-06, ...,\n",
       "         -1.28958321e-05,  8.89583302e-06,  5.08333302e-06],\n",
       "        [-4.80000000e-05, -1.71875000e-05, -7.43749952e-06, ...,\n",
       "         -9.89583397e-06,  1.18958340e-05,  7.08333302e-06],\n",
       "        ...,\n",
       "        [ 4.84287739e-13, -2.18750095e-06, -9.43749905e-06, ...,\n",
       "         -1.48958340e-05, -1.41041679e-05, -8.91666698e-06],\n",
       "        [-9.99999821e-07, -1.18750107e-06, -8.43749905e-06, ...,\n",
       "         -1.08958330e-05, -1.11041679e-05, -5.91666698e-06],\n",
       "        [ 1.00000010e-05,  7.81249952e-06,  1.56250060e-06, ...,\n",
       "         -1.08958330e-05, -8.10416603e-06, -4.91666698e-06]],\n",
       "\n",
       "       [[-1.14791679e-05, -1.01666660e-05,  3.72916508e-06, ...,\n",
       "          1.20416718e-05, -9.02083302e-06,  4.75000143e-06],\n",
       "        [-1.34791670e-05, -1.31666660e-05,  1.72916508e-06, ...,\n",
       "          1.80416622e-05, -7.02083397e-06,  3.74999833e-06],\n",
       "        [-1.14791679e-05, -9.16666603e-06,  6.72916842e-06, ...,\n",
       "          2.00416622e-05, -6.02083397e-06,  2.74999666e-06],\n",
       "        ...,\n",
       "        [ 1.52083230e-06,  3.83333302e-06,  1.72916627e-06, ...,\n",
       "          1.04166710e-06,  1.97916687e-06,  4.75000048e-06],\n",
       "        [ 6.52083302e-06,  8.83333397e-06,  5.72916746e-06, ...,\n",
       "          4.04166698e-06,  9.79166329e-07,  3.75000095e-06],\n",
       "        [-7.47916794e-06, -4.16666698e-06, -6.27083302e-06, ...,\n",
       "         -2.95833349e-06, -3.02083349e-06, -4.25000000e-06]],\n",
       "\n",
       "       [[-2.64583254e-06, -1.34166641e-05, -3.47083321e-05, ...,\n",
       "         -2.61041660e-05, -3.93749928e-06, -5.83333433e-07],\n",
       "        [-8.64583111e-06, -1.84166698e-05, -3.67083282e-05, ...,\n",
       "         -3.01041660e-05, -4.93750000e-06, -2.58333325e-06],\n",
       "        [-9.64582920e-06, -1.84166698e-05, -3.57083282e-05, ...,\n",
       "         -3.11041679e-05,  1.06249976e-06,  6.41666555e-06],\n",
       "        ...,\n",
       "        [-1.64583278e-06, -3.41666627e-06, -3.70833278e-06, ...,\n",
       "         -2.10416627e-06,  2.06250072e-06, -1.58333313e-06],\n",
       "        [-4.64583302e-06, -6.41666651e-06, -5.70833302e-06, ...,\n",
       "         -5.10416603e-06,  6.25008792e-08, -2.58333325e-06],\n",
       "        [-1.06458330e-05, -8.41666698e-06, -6.70833302e-06, ...,\n",
       "         -1.01041660e-05, -8.93750000e-06, -6.58333302e-06]]]),\n",
       "       array([[[-1.04374990e-05, -1.22083340e-05, -1.48125000e-05, ...,\n",
       "         -2.02083349e-06, -1.93750048e-06, -4.10416698e-06],\n",
       "        [-8.43750000e-06, -1.12083330e-05, -1.48125000e-05, ...,\n",
       "         -1.02083349e-06, -1.93750048e-06, -4.10416698e-06],\n",
       "        [-9.43749905e-06, -1.12083330e-05, -1.28125000e-05, ...,\n",
       "         -1.02083349e-06, -2.93749952e-06, -4.10416698e-06],\n",
       "        ...,\n",
       "        [-3.43750000e-06, -1.02083340e-05, -1.38125000e-05, ...,\n",
       "         -2.08330303e-08,  2.06250000e-06,  7.89583302e-06],\n",
       "        [ 4.56249952e-06, -3.20833397e-06, -1.48125000e-05, ...,\n",
       "          9.97916698e-06,  9.06250095e-06,  1.18958340e-05],\n",
       "        [-1.04375000e-05, -2.08333969e-07,  1.18750000e-06, ...,\n",
       "          4.97916698e-06,  3.06250024e-06, -1.04166329e-07]],\n",
       "\n",
       "       [[-2.26458340e-05, -2.10416660e-05, -2.23958282e-05, ...,\n",
       "         -1.38958330e-05, -1.12916660e-05, -1.11874990e-05],\n",
       "        [-2.06458340e-05, -1.80416641e-05, -2.03958282e-05, ...,\n",
       "         -1.48958340e-05, -1.22916660e-05, -1.21875000e-05],\n",
       "        [-2.76458359e-05, -2.50416718e-05, -2.63958359e-05, ...,\n",
       "         -1.68958302e-05, -1.52916660e-05, -1.61874981e-05],\n",
       "        ...,\n",
       "        [ 1.83541660e-05,  1.99583321e-05,  2.06041660e-05, ...,\n",
       "          1.31041670e-05,  8.70833206e-06,  5.81250000e-06],\n",
       "        [ 2.33541660e-05,  2.69583340e-05,  2.56041679e-05, ...,\n",
       "          1.01041670e-05,  1.17083321e-05,  1.68124981e-05],\n",
       "        [-1.46458349e-05, -1.40416679e-05, -1.13958330e-05, ...,\n",
       "         -4.89583302e-06, -6.29166746e-06, -6.18750048e-06]],\n",
       "\n",
       "       [[-1.31249988e-06, -4.77083540e-06, -5.50000048e-06, ...,\n",
       "         -1.78541679e-05, -1.81458359e-05, -1.99999962e-05],\n",
       "        [-1.31249988e-06, -4.77083540e-06, -5.50000048e-06, ...,\n",
       "         -1.68541679e-05, -1.61458378e-05, -1.69999962e-05],\n",
       "        [ 3.68750095e-06,  2.29168877e-07, -2.50000238e-06, ...,\n",
       "         -1.48541679e-05, -1.61458378e-05, -1.60000019e-05],\n",
       "        ...,\n",
       "        [-2.31250072e-06,  2.29167625e-07,  2.50000048e-06, ...,\n",
       "          8.14583492e-06,  1.38541670e-05,  1.79999962e-05],\n",
       "        [ 1.68749869e-06,  4.22916651e-06,  4.50000143e-06, ...,\n",
       "          1.31458349e-05,  1.78541679e-05,  2.09999981e-05],\n",
       "        [-1.83125019e-05, -1.57708330e-05, -1.65000000e-05, ...,\n",
       "         -1.28541660e-05, -1.71458340e-05, -2.00000038e-05]],\n",
       "\n",
       "       ...,\n",
       "\n",
       "       [[-1.83750019e-05, -1.80416679e-05, -2.02916679e-05, ...,\n",
       "          3.14583349e-06,  2.50000000e-06,  1.64583325e-06],\n",
       "        [-1.93750000e-05, -1.90416679e-05, -2.02916679e-05, ...,\n",
       "         -4.85416698e-06, -3.50000000e-06, -2.35416675e-06],\n",
       "        [-1.73750038e-05, -1.90416679e-05, -2.12916698e-05, ...,\n",
       "         -1.18541689e-05, -1.04999990e-05, -8.35416698e-06],\n",
       "        ...,\n",
       "        [-3.74999702e-07, -4.16651070e-08,  4.70833302e-06, ...,\n",
       "          2.14583349e-06,  1.49999988e-06,  1.64583349e-06],\n",
       "        [ 1.86250000e-05,  1.79583340e-05,  2.07083340e-05, ...,\n",
       "          3.14583325e-06,  8.50000095e-06,  1.16458330e-05],\n",
       "        [-1.37500000e-06, -1.04166603e-06, -4.29166698e-06, ...,\n",
       "          2.01458340e-05,  2.55000019e-05,  1.86458340e-05]],\n",
       "\n",
       "       [[ 1.08541670e-05,  8.79167271e-06,  7.14583158e-06, ...,\n",
       "          1.21041660e-05,  1.16666622e-05,  1.02708349e-05],\n",
       "        [ 6.85416698e-06,  3.79166770e-06,  4.14582968e-06, ...,\n",
       "          1.91041603e-05,  1.86666698e-05,  1.72708378e-05],\n",
       "        [ 3.85417652e-06,  1.79166627e-06,  7.14583540e-06, ...,\n",
       "          2.41041679e-05,  2.46666622e-05,  2.22708302e-05],\n",
       "        ...,\n",
       "        [-1.41458330e-05, -1.52083349e-05, -2.08541622e-05, ...,\n",
       "         -5.89583302e-06, -1.33333325e-06,  2.27083969e-06],\n",
       "        [-7.14583588e-06, -1.22083330e-05, -1.58541594e-05, ...,\n",
       "          2.10416412e-06,  5.66666412e-06,  7.27083874e-06],\n",
       "        [ 1.58541679e-05,  1.37916641e-05,  1.14583969e-06, ...,\n",
       "         -1.89583206e-06, -4.33333206e-06, -5.72916412e-06]],\n",
       "\n",
       "       [[-6.78958206e-05, -6.30625038e-05, -5.88541603e-05, ...,\n",
       "         -1.51666670e-05, -1.58958359e-05, -1.58958349e-05],\n",
       "        [-6.38958130e-05, -6.00624962e-05, -5.48541565e-05, ...,\n",
       "         -1.31666622e-05, -1.48958330e-05, -1.48958311e-05],\n",
       "        [-7.18958130e-05, -7.10625076e-05, -6.28541679e-05, ...,\n",
       "         -1.71666622e-05, -1.48958330e-05, -1.38958311e-05],\n",
       "        ...,\n",
       "        [ 3.21041641e-05,  2.79374962e-05,  2.81458321e-05, ...,\n",
       "          1.58333321e-05,  1.41041660e-05,  2.01041622e-05],\n",
       "        [ 2.81041603e-05,  1.79374943e-05,  1.41458254e-05, ...,\n",
       "          1.88333340e-05,  2.21041660e-05,  2.91041622e-05],\n",
       "        [-8.95839691e-07,  2.93749619e-06,  6.14582443e-06, ...,\n",
       "          1.83333397e-06,  1.10416603e-06,  2.10416222e-06]]]),\n",
       "       array([[[ 2.16250000e-05,  2.18541737e-05,  2.36458321e-05, ...,\n",
       "          9.37500000e-06,  1.37500010e-05,  1.35208340e-05],\n",
       "        [ 2.56250019e-05,  2.68541756e-05,  2.86458397e-05, ...,\n",
       "          1.23749981e-05,  1.47499962e-05,  1.75208340e-05],\n",
       "        [ 3.56250038e-05,  3.78541527e-05,  4.16458359e-05, ...,\n",
       "          1.93750019e-05,  1.77499962e-05,  2.05208340e-05],\n",
       "        ...,\n",
       "        [-4.37500000e-06, -5.14583254e-06, -4.35416698e-06, ...,\n",
       "         -5.62500000e-06, -7.25000000e-06, -6.47916698e-06],\n",
       "        [-1.37499940e-06, -5.14583254e-06, -4.35416746e-06, ...,\n",
       "          1.37500000e-06, -3.25000024e-06, -4.47916651e-06],\n",
       "        [-7.37499952e-06, -1.21458330e-05, -1.23541679e-05, ...,\n",
       "         -9.62500000e-06, -9.25000000e-06, -8.47916698e-06]],\n",
       "\n",
       "       [[ 2.17083378e-05,  2.38750038e-05,  2.66458378e-05, ...,\n",
       "          2.03125000e-05,  1.76250038e-05,  1.61458263e-05],\n",
       "        [ 2.37083340e-05,  2.48749981e-05,  2.66458378e-05, ...,\n",
       "          2.33125038e-05,  2.26250019e-05,  2.21458359e-05],\n",
       "        [ 1.97083435e-05,  2.18749943e-05,  2.46458359e-05, ...,\n",
       "          2.13124981e-05,  2.36249962e-05,  2.61458435e-05],\n",
       "        ...,\n",
       "        [-1.52916670e-05, -1.71249981e-05, -1.83541679e-05, ...,\n",
       "         -1.66875038e-05, -1.33749990e-05, -7.85416603e-06],\n",
       "        [ 4.70833397e-06,  2.87500191e-06, -3.54165405e-07, ...,\n",
       "          2.31249881e-06,  1.16250010e-05,  1.51458349e-05],\n",
       "        [-3.29166698e-06, -2.12499809e-06, -3.54166031e-07, ...,\n",
       "         -3.68750095e-06, -1.13749990e-05, -1.88541660e-05]],\n",
       "\n",
       "       [[ 9.70833397e-06,  1.06458302e-05,  1.14583359e-05, ...,\n",
       "         -1.68333340e-05, -1.45208282e-05, -1.28541632e-05],\n",
       "        [ 1.07083349e-05,  1.26458292e-05,  1.24583359e-05, ...,\n",
       "         -1.78333359e-05, -1.65208340e-05, -1.48541698e-05],\n",
       "        [ 1.17083340e-05,  1.66458321e-05,  1.74583340e-05, ...,\n",
       "         -1.88333340e-05, -1.65208340e-05, -1.58541698e-05],\n",
       "        ...,\n",
       "        [-8.29166603e-06, -1.43541689e-05, -1.75416660e-05, ...,\n",
       "         -2.83333349e-06, -1.52083373e-06,  2.14583349e-06],\n",
       "        [-8.29166603e-06, -1.83541698e-05, -1.65416660e-05, ...,\n",
       "          2.16666675e-06,  1.47916615e-06,  8.14583397e-06],\n",
       "        [-2.91665077e-07, -3.54168892e-07, -2.54166603e-06, ...,\n",
       "         -5.83333349e-06, -4.52083445e-06, -8.54166508e-07]],\n",
       "\n",
       "       ...,\n",
       "\n",
       "       [[ 4.45833349e-06,  5.58333302e-06,  5.22916746e-06, ...,\n",
       "          1.30208321e-05,  7.10416555e-06,  6.02083302e-06],\n",
       "        [ 4.45833349e-06,  6.58333254e-06,  6.22916746e-06, ...,\n",
       "          1.60208321e-05,  1.41041689e-05,  1.20208330e-05],\n",
       "        [ 8.45833302e-06,  6.58333254e-06,  6.22916746e-06, ...,\n",
       "          1.60208359e-05,  1.61041641e-05,  1.10208340e-05],\n",
       "        ...,\n",
       "        [ 1.45833349e-06,  1.58333254e-06,  2.29165241e-07, ...,\n",
       "         -6.97916555e-06, -1.89583492e-06,  1.02083337e-06],\n",
       "        [ 5.45833349e-06,  3.58333254e-06,  1.22916543e-06, ...,\n",
       "         -8.97916603e-06, -1.89583492e-06,  1.02083349e-06],\n",
       "        [ 1.54583340e-05,  1.85833321e-05,  1.92291660e-05, ...,\n",
       "          5.02083492e-06,  4.10416508e-06,  9.02083397e-06]],\n",
       "\n",
       "       [[-4.50000143e-06, -4.58333492e-06, -5.20833397e-06, ...,\n",
       "         -8.95833492e-06, -1.14583387e-05, -1.30208368e-05],\n",
       "        [-4.50000143e-06, -4.58333492e-06, -6.20833445e-06, ...,\n",
       "         -6.95833206e-06, -5.45833158e-06, -7.02083635e-06],\n",
       "        [ 1.49999928e-06,  1.41666627e-06, -2.08334208e-07, ...,\n",
       "          3.04166675e-06,  4.54166651e-06,  1.97916687e-06],\n",
       "        ...,\n",
       "        [ 5.00000358e-07, -2.58333373e-06, -5.20833302e-06, ...,\n",
       "         -2.95833158e-06, -2.45833611e-06, -4.02083254e-06],\n",
       "        [ 3.50000119e-06, -1.58333302e-06, -8.20833302e-06, ...,\n",
       "          4.16684151e-08, -4.58335221e-07, -2.02083182e-06],\n",
       "        [ 5.00000954e-07,  1.44166670e-05,  2.17916679e-05, ...,\n",
       "         -5.95833158e-06, -1.44583359e-05, -9.02083302e-06]],\n",
       "\n",
       "       [[-6.54166651e-06, -7.60416794e-06, -5.87499952e-06, ...,\n",
       "         -2.55416622e-05, -2.18541679e-05, -2.22499981e-05],\n",
       "        [-1.45416679e-05, -1.46041641e-05, -1.28750000e-05, ...,\n",
       "         -3.45416679e-05, -3.08541679e-05, -3.02500000e-05],\n",
       "        [-1.35416670e-05, -1.26041651e-05, -1.28750000e-05, ...,\n",
       "         -4.25416794e-05, -3.78541679e-05, -3.42500038e-05],\n",
       "        ...,\n",
       "        [ 5.45833349e-06,  7.39583302e-06,  9.12499905e-06, ...,\n",
       "          2.45833349e-06,  3.14583349e-06,  3.74999976e-06],\n",
       "        [ 1.44583330e-05,  1.33958330e-05,  1.11250000e-05, ...,\n",
       "          2.45833349e-06,  4.14583349e-06,  4.75000048e-06],\n",
       "        [ 1.04583340e-05,  1.33958330e-05,  1.41250010e-05, ...,\n",
       "          3.14583359e-05,  2.51458359e-05,  1.47500010e-05]]]),\n",
       "       array([[[ 9.43750191e-06,  9.33333492e-06,  9.12500000e-06, ...,\n",
       "         -1.24999988e-06, -6.62500048e-06, -4.10416698e-06],\n",
       "        [ 1.34375010e-05,  1.13333340e-05,  8.12500095e-06, ...,\n",
       "          4.75000048e-06, -6.25000477e-07, -3.10416698e-06],\n",
       "        [ 7.43749905e-06,  1.33333337e-06, -4.87500048e-06, ...,\n",
       "         -1.02500010e-05, -7.62499952e-06, -1.04166329e-07],\n",
       "        ...,\n",
       "        [ 5.43750000e-06,  2.33333349e-06, -3.87499976e-06, ...,\n",
       "         -2.49999821e-07, -1.62500000e-06, -1.10416734e-06],\n",
       "        [ 2.43750024e-06,  1.33333349e-06, -4.87500000e-06, ...,\n",
       "         -2.49999851e-07,  3.37500024e-06,  2.89583302e-06],\n",
       "        [ 8.43750000e-06,  2.13333340e-05,  2.31250000e-05, ...,\n",
       "         -1.12500000e-05, -1.26250000e-05,  1.89583278e-06]],\n",
       "\n",
       "       [[ 1.44166679e-05,  1.80000019e-05,  1.62708302e-05, ...,\n",
       "          4.16666567e-08, -1.66666675e-06,  9.79166389e-07],\n",
       "        [ 7.41666651e-06,  9.00000095e-06,  9.27083302e-06, ...,\n",
       "         -7.95833445e-06, -1.26666670e-05, -8.02083302e-06],\n",
       "        [ 5.41666746e-06,  1.00000000e-05,  7.27083349e-06, ...,\n",
       "         -1.39583311e-05, -1.36666679e-05, -2.02083349e-06],\n",
       "        ...,\n",
       "        [ 3.41666746e-06,  3.00000024e-06,  2.27083325e-06, ...,\n",
       "         -9.58333194e-07,  2.33333325e-06,  4.97916698e-06],\n",
       "        [-8.58333206e-06, -4.00000000e-06, -3.72916675e-06, ...,\n",
       "          2.04166698e-06,  3.33333302e-06,  5.97916651e-06],\n",
       "        [ 4.41666794e-06,  4.76837158e-13, -7.72916698e-06, ...,\n",
       "         -1.29583340e-05, -1.16666670e-05, -1.00208340e-05]],\n",
       "\n",
       "       [[ 6.02083397e-06,  6.00000000e-06, -4.99998868e-07, ...,\n",
       "         -5.91666460e-06, -2.87500024e-06,  2.47916651e-06],\n",
       "        [-2.97916698e-06, -3.99999976e-06, -2.50000000e-06, ...,\n",
       "         -3.91666603e-06, -5.87500381e-06, -7.52083445e-06],\n",
       "        [ 1.02083349e-06, -5.00000000e-06, -1.14999990e-05, ...,\n",
       "         -5.91666460e-06, -1.08750010e-05, -1.65208321e-05],\n",
       "        ...,\n",
       "        [-2.97916675e-06, -4.00000048e-06, -1.50000000e-06, ...,\n",
       "         -2.91666722e-06, -3.87500167e-06, -4.52083397e-06],\n",
       "        [-8.97916698e-06, -1.20000000e-05, -8.50000000e-06, ...,\n",
       "         -6.91666794e-06, -6.87500143e-06, -1.25208340e-05],\n",
       "        [-2.19791660e-05, -1.60000000e-05, -1.25000000e-05, ...,\n",
       "         -4.91666698e-06, -1.18750019e-05, -4.52083397e-06]],\n",
       "\n",
       "       ...,\n",
       "\n",
       "       [[-1.07916679e-05, -1.28750010e-05, -1.30000010e-05, ...,\n",
       "          5.97916651e-06,  3.20833373e-06, -2.81249976e-06],\n",
       "        [-8.79166603e-06, -1.08750000e-05, -1.20000029e-05, ...,\n",
       "          4.97916603e-06,  2.20833325e-06, -2.81249976e-06],\n",
       "        [-9.79166698e-06, -8.87499809e-06, -1.20000029e-05, ...,\n",
       "          1.97916675e-06,  1.20833313e-06, -2.81249976e-06],\n",
       "        ...,\n",
       "        [ 2.20833373e-06,  3.12500072e-06,  2.00000095e-06, ...,\n",
       "         -2.08330899e-08, -2.79166698e-06, -3.81249976e-06],\n",
       "        [ 4.20833397e-06,  5.12500000e-06,  3.00000119e-06, ...,\n",
       "         -2.02083325e-06, -1.79166687e-06,  1.18750012e-06],\n",
       "        [-8.79166603e-06, -5.87500000e-06, -2.99999928e-06, ...,\n",
       "          1.19791670e-05,  1.02083340e-05,  1.18750024e-06]],\n",
       "\n",
       "       [[ 8.04166985e-06,  8.62500191e-06,  6.47917080e-06, ...,\n",
       "          2.28333340e-05,  2.12916660e-05,  2.09375000e-05],\n",
       "        [ 9.04166603e-06,  8.62500191e-06,  7.47917128e-06, ...,\n",
       "          3.48333359e-05,  2.92916679e-05,  2.69375019e-05],\n",
       "        [-1.95833492e-06, -1.37500072e-06,  1.47916615e-06, ...,\n",
       "          3.58333321e-05,  3.12916660e-05,  2.59375000e-05],\n",
       "        ...,\n",
       "        [-1.39583311e-05, -1.03750010e-05, -4.52083063e-06, ...,\n",
       "         -1.21666679e-05, -1.17083349e-05, -1.10625019e-05],\n",
       "        [-1.39583311e-05, -9.37500095e-06, -2.52083158e-06, ...,\n",
       "         -7.16666746e-06, -4.70833349e-06, -6.25001490e-08],\n",
       "        [ 9.04166985e-06,  6.62500000e-06,  1.24791698e-05, ...,\n",
       "          1.68333340e-05,  1.29166651e-06, -5.06250048e-06]],\n",
       "\n",
       "       [[-2.35416627e-06, -1.60416663e-06, -3.95833224e-07, ...,\n",
       "         -1.14791651e-05, -9.70833397e-06, -1.02083349e-06],\n",
       "        [-4.35416698e-06, -2.60416698e-06,  6.04166627e-07, ...,\n",
       "         -1.14791651e-05, -6.70833302e-06, -2.08325982e-08],\n",
       "        [ 1.64583337e-06,  2.39583254e-06,  2.60416746e-06, ...,\n",
       "         -9.47916508e-06, -2.70833302e-06, -2.08325982e-08],\n",
       "        ...,\n",
       "        [ 1.16458340e-05,  1.23958330e-05,  6.60416698e-06, ...,\n",
       "          4.52083302e-06,  7.29166603e-06,  7.97916698e-06],\n",
       "        [-3.54166597e-07, -1.60416687e-06, -5.39583349e-06, ...,\n",
       "         -7.47916746e-06, -4.70833397e-06, -3.02083302e-06],\n",
       "        [-3.35416675e-06, -1.26041670e-05, -1.03958340e-05, ...,\n",
       "          6.52083254e-06,  1.42916679e-05,  1.59791670e-05]]])],\n",
       "      dtype=object)"
      ]
     },
     "execution_count": 13,
     "metadata": {},
     "output_type": "execute_result"
    }
   ],
   "source": [
    "pp_rh_raw"
   ]
  },
  {
   "cell_type": "code",
   "execution_count": null,
   "metadata": {},
   "outputs": [],
   "source": []
  },
  {
   "cell_type": "code",
   "execution_count": 44,
   "metadata": {},
   "outputs": [
    {
     "data": {
      "text/plain": [
       "(61, 1250)"
      ]
     },
     "execution_count": 44,
     "metadata": {},
     "output_type": "execute_result"
    }
   ],
   "source": [
    "pp_rh_raw[4][3].shape"
   ]
  },
  {
   "cell_type": "code",
   "execution_count": null,
   "metadata": {},
   "outputs": [],
   "source": []
  },
  {
   "cell_type": "markdown",
   "metadata": {},
   "source": [
    "Get HFD over the set time window"
   ]
  },
  {
   "cell_type": "code",
   "execution_count": 15,
   "metadata": {},
   "outputs": [],
   "source": [
    "window_start_sec = 3\n",
    "window_size = 2\n",
    "freq = 250\n",
    "\n",
    "k = 7"
   ]
  },
  {
   "cell_type": "code",
   "execution_count": 38,
   "metadata": {},
   "outputs": [
    {
     "name": "stdout",
     "output_type": "stream",
     "text": [
      "Calculating HFD with window start 750 window size 500 step 1\n",
      "Calculating HFD with window start 750 window size 500 step 1\n",
      "Calculating HFD with window start 750 window size 500 step 1\n",
      "Calculating HFD with window start 750 window size 500 step 1\n",
      "Calculating HFD with window start 750 window size 500 step 1\n",
      "Calculating HFD with window start 750 window size 500 step 1\n",
      "Calculating HFD with window start 750 window size 500 step 1\n",
      "Calculating HFD with window start 750 window size 500 step 1\n",
      "Calculating HFD with window start 750 window size 500 step 1\n",
      "Calculating HFD with window start 750 window size 500 step 1\n",
      "Calculating HFD with window start 750 window size 500 step 1\n",
      "Calculating HFD with window start 750 window size 500 step 1\n"
     ]
    }
   ],
   "source": [
    "pp_rh = np.array([patient_array_to_hfd(patient, window_start=int(window_start_sec*freq), window_size=window_size*freq, k=k) for patient in pp_rh_raw])\n",
    "pnp_rh = np.array([patient_array_to_hfd(patient, window_start=int(window_start_sec*freq), window_size=window_size*freq, k=k) for patient in pnp_rh_raw])"
   ]
  },
  {
   "cell_type": "markdown",
   "metadata": {},
   "source": [
    "OR get HFD for all limbs"
   ]
  },
  {
   "cell_type": "code",
   "execution_count": 13,
   "metadata": {},
   "outputs": [
    {
     "name": "stdout",
     "output_type": "stream",
     "text": [
      "Calculating HFD with window start 750 window size 500 step 1\n",
      "Calculating HFD with window start 750 window size 500 step 1\n",
      "Calculating HFD with window start 750 window size 500 step 1\n",
      "Calculating HFD with window start 750 window size 500 step 1\n",
      "Calculating HFD with window start 750 window size 500 step 1\n",
      "Calculating HFD with window start 750 window size 500 step 1\n",
      "Calculating HFD with window start 750 window size 500 step 1\n",
      "Calculating HFD with window start 750 window size 500 step 1\n",
      "Calculating HFD with window start 750 window size 500 step 1\n",
      "Calculating HFD with window start 750 window size 500 step 1\n",
      "Calculating HFD with window start 750 window size 500 step 1\n",
      "Calculating HFD with window start 750 window size 500 step 1\n",
      "Calculating HFD with window start 750 window size 500 step 1\n",
      "Calculating HFD with window start 750 window size 500 step 1\n",
      "Calculating HFD with window start 750 window size 500 step 1\n",
      "Calculating HFD with window start 750 window size 500 step 1\n",
      "Calculating HFD with window start 750 window size 500 step 1\n",
      "Calculating HFD with window start 750 window size 500 step 1\n",
      "Calculating HFD with window start 750 window size 500 step 1\n",
      "Calculating HFD with window start 750 window size 500 step 1\n",
      "Calculating HFD with window start 750 window size 500 step 1\n",
      "Calculating HFD with window start 750 window size 500 step 1\n",
      "Calculating HFD with window start 750 window size 500 step 1\n",
      "Calculating HFD with window start 750 window size 500 step 1\n",
      "Calculating HFD with window start 750 window size 500 step 1\n",
      "Calculating HFD with window start 750 window size 500 step 1\n",
      "Calculating HFD with window start 750 window size 500 step 1\n",
      "Calculating HFD with window start 750 window size 500 step 1\n",
      "Calculating HFD with window start 750 window size 500 step 1\n",
      "Calculating HFD with window start 750 window size 500 step 1\n",
      "Calculating HFD with window start 750 window size 500 step 1\n",
      "Calculating HFD with window start 750 window size 500 step 1\n",
      "Calculating HFD with window start 750 window size 500 step 1\n",
      "Calculating HFD with window start 750 window size 500 step 1\n",
      "Calculating HFD with window start 750 window size 500 step 1\n",
      "Calculating HFD with window start 750 window size 500 step 1\n",
      "Calculating HFD with window start 750 window size 500 step 1\n",
      "Calculating HFD with window start 750 window size 500 step 1\n",
      "Calculating HFD with window start 750 window size 500 step 1\n",
      "Calculating HFD with window start 750 window size 500 step 1\n",
      "Calculating HFD with window start 750 window size 500 step 1\n",
      "Calculating HFD with window start 750 window size 500 step 1\n",
      "Calculating HFD with window start 750 window size 500 step 1\n",
      "Calculating HFD with window start 750 window size 500 step 1\n",
      "Calculating HFD with window start 750 window size 500 step 1\n",
      "Calculating HFD with window start 750 window size 500 step 1\n",
      "Calculating HFD with window start 750 window size 500 step 1\n",
      "Calculating HFD with window start 750 window size 500 step 1\n",
      "Calculating HFD with window start 750 window size 500 step 1\n",
      "Calculating HFD with window start 750 window size 500 step 1\n",
      "Calculating HFD with window start 750 window size 500 step 1\n",
      "Calculating HFD with window start 750 window size 500 step 1\n",
      "Calculating HFD with window start 750 window size 500 step 1\n",
      "Calculating HFD with window start 750 window size 500 step 1\n",
      "Calculating HFD with window start 750 window size 500 step 1\n",
      "Calculating HFD with window start 750 window size 500 step 1\n",
      "Calculating HFD with window start 750 window size 500 step 1\n"
     ]
    }
   ],
   "source": [
    "pp_rh = np.array([patient_array_to_hfd(patient, window_start=int(window_start_sec*freq), window_size=window_size*freq, k=k) for patient in pp_all_limbs])\n",
    "pnp_rh = np.array([patient_array_to_hfd(patient, window_start=int(window_start_sec*freq), window_size=window_size*freq, k=k) for patient in pnp_all_limbs])\n",
    "#hv_rh = np.array([patient_array_to_hfd(patient, window_start=int(window_start_sec*freq), window_size=window_size*freq, k=k) for patient in hv_rh_limbs])"
   ]
  },
  {
   "cell_type": "markdown",
   "metadata": {},
   "source": [
    "Alternatively, get HFD over all windows of the specified size"
   ]
  },
  {
   "cell_type": "code",
   "execution_count": 80,
   "metadata": {},
   "outputs": [
    {
     "name": "stdout",
     "output_type": "stream",
     "text": [
      "Calculating HFD with window start 0 window size 500 step 1\n",
      "Calculating HFD with window start 0 window size 500 step 1\n",
      "Calculating HFD with window start 0 window size 500 step 1\n",
      "Calculating HFD with window start 0 window size 500 step 1\n",
      "Calculating HFD with window start 0 window size 500 step 1\n",
      "Calculating HFD with window start 250 window size 500 step 1\n",
      "Calculating HFD with window start 250 window size 500 step 1\n",
      "Calculating HFD with window start 250 window size 500 step 1\n",
      "Calculating HFD with window start 250 window size 500 step 1\n",
      "Calculating HFD with window start 250 window size 500 step 1\n",
      "Calculating HFD with window start 500 window size 500 step 1\n",
      "Calculating HFD with window start 500 window size 500 step 1\n",
      "Calculating HFD with window start 500 window size 500 step 1\n",
      "Calculating HFD with window start 500 window size 500 step 1\n",
      "Calculating HFD with window start 500 window size 500 step 1\n",
      "Calculating HFD with window start 750 window size 500 step 1\n",
      "Calculating HFD with window start 750 window size 500 step 1\n",
      "Calculating HFD with window start 750 window size 500 step 1\n",
      "Calculating HFD with window start 750 window size 500 step 1\n",
      "Calculating HFD with window start 750 window size 500 step 1\n",
      "Calculating HFD with window start 0 window size 500 step 1\n",
      "Calculating HFD with window start 0 window size 500 step 1\n",
      "Calculating HFD with window start 0 window size 500 step 1\n",
      "Calculating HFD with window start 0 window size 500 step 1\n",
      "Calculating HFD with window start 0 window size 500 step 1\n",
      "Calculating HFD with window start 0 window size 500 step 1\n",
      "Calculating HFD with window start 0 window size 500 step 1\n",
      "Calculating HFD with window start 250 window size 500 step 1\n",
      "Calculating HFD with window start 250 window size 500 step 1\n",
      "Calculating HFD with window start 250 window size 500 step 1\n",
      "Calculating HFD with window start 250 window size 500 step 1\n",
      "Calculating HFD with window start 250 window size 500 step 1\n",
      "Calculating HFD with window start 250 window size 500 step 1\n",
      "Calculating HFD with window start 250 window size 500 step 1\n",
      "Calculating HFD with window start 500 window size 500 step 1\n",
      "Calculating HFD with window start 500 window size 500 step 1\n",
      "Calculating HFD with window start 500 window size 500 step 1\n",
      "Calculating HFD with window start 500 window size 500 step 1\n",
      "Calculating HFD with window start 500 window size 500 step 1\n",
      "Calculating HFD with window start 500 window size 500 step 1\n",
      "Calculating HFD with window start 500 window size 500 step 1\n",
      "Calculating HFD with window start 750 window size 500 step 1\n",
      "Calculating HFD with window start 750 window size 500 step 1\n",
      "Calculating HFD with window start 750 window size 500 step 1\n",
      "Calculating HFD with window start 750 window size 500 step 1\n",
      "Calculating HFD with window start 750 window size 500 step 1\n",
      "Calculating HFD with window start 750 window size 500 step 1\n",
      "Calculating HFD with window start 750 window size 500 step 1\n"
     ]
    }
   ],
   "source": [
    "pp_all_windows = [[patient_array_to_hfd(patient, window_start=window*freq, window_size=window_size*freq, k=k) for patient in pp_rh_raw] for window in range(0,4)]\n",
    "pnp_all_windows = [[patient_array_to_hfd(patient, window_start=window*freq, window_size=window_size*freq, k=k) for patient in pnp_rh_raw] for window in range(0,4)]\n",
    "hv_all_windows = [[patient_array_to_hfd(patient, window_start=window*freq, window_size=window_size*freq, k=k) for patient in hv_rh_raw] for window in range(0,4)]"
   ]
  },
  {
   "cell_type": "code",
   "execution_count": 52,
   "metadata": {},
   "outputs": [],
   "source": [
    "np_all = np.array(pp_all_windows)"
   ]
  },
  {
   "cell_type": "code",
   "execution_count": 53,
   "metadata": {},
   "outputs": [
    {
     "data": {
      "text/plain": [
       "413"
      ]
     },
     "execution_count": 53,
     "metadata": {},
     "output_type": "execute_result"
    }
   ],
   "source": [
    "np.sum([s.shape[0] for s in np_all[0]])"
   ]
  },
  {
   "cell_type": "code",
   "execution_count": 19,
   "metadata": {},
   "outputs": [
    {
     "ename": "NameError",
     "evalue": "name 'pnp_rh' is not defined",
     "output_type": "error",
     "traceback": [
      "\u001b[1;31m---------------------------------------------------------------------------\u001b[0m",
      "\u001b[1;31mNameError\u001b[0m                                 Traceback (most recent call last)",
      "\u001b[1;32m<ipython-input-19-5a2bdda77d68>\u001b[0m in \u001b[0;36m<module>\u001b[1;34m\u001b[0m\n\u001b[1;32m----> 1\u001b[1;33m \u001b[0mpnp_rh\u001b[0m\u001b[1;33m.\u001b[0m\u001b[0mshape\u001b[0m\u001b[1;33m\u001b[0m\u001b[1;33m\u001b[0m\u001b[0m\n\u001b[0m",
      "\u001b[1;31mNameError\u001b[0m: name 'pnp_rh' is not defined"
     ]
    }
   ],
   "source": [
    "pnp_rh.shape"
   ]
  },
  {
   "cell_type": "code",
   "execution_count": null,
   "metadata": {},
   "outputs": [],
   "source": []
  },
  {
   "cell_type": "code",
   "execution_count": 81,
   "metadata": {},
   "outputs": [
    {
     "data": {
      "text/plain": [
       "(4, 7)"
      ]
     },
     "execution_count": 81,
     "metadata": {},
     "output_type": "execute_result"
    }
   ],
   "source": [
    "# Over individual patients\n",
    "pp_all_windows_patients_repetitions = np.array([[np.array([[ channel[0] for channel in repetition ] for repetition in patient ]) for patient in window ] for window in np.array(pp_all_windows) ])\n",
    "pnp_all_windows_patients_repetitions = np.array([[np.array([[ channel[0] for channel in repetition ] for repetition in patient ]) for patient in window ] for window in np.array(pnp_all_windows) ])\n",
    "hv_all_windows_patients_repetitions = np.array([[np.array([[ channel[0] for channel in repetition ] for repetition in patient ]) for patient in window ] for window in np.array(hv_all_windows) ])\n",
    "\n",
    "pnp_all_windows_patients_repetitions.shape"
   ]
  },
  {
   "cell_type": "code",
   "execution_count": 83,
   "metadata": {},
   "outputs": [
    {
     "data": {
      "text/plain": [
       "(4, 369, 48)"
      ]
     },
     "execution_count": 83,
     "metadata": {},
     "output_type": "execute_result"
    }
   ],
   "source": [
    "# All repetitions concatenated\n",
    "pp_all_windows_repetitions = np.array([np.vstack([np.array([[ channel[0] for channel in repetition ] for repetition in patient ]) for patient in window ]) for window in np.array(pp_all_windows) ])\n",
    "pnp_all_windows_repetitions = np.array([np.vstack([np.array([[ channel[0] for channel in repetition ] for repetition in patient ]) for patient in window ]) for window in np.array(pnp_all_windows) ])\n",
    "#hv_all_windows_repetitions = np.array([np.vstack([np.array([[ channel[0] for channel in repetition ] for repetition in patient ]) for patient in window ]) for window in np.array(hv_all_windows) ])\n",
    "\n",
    "pnp_all_windows_repetitions.shape"
   ]
  },
  {
   "cell_type": "code",
   "execution_count": null,
   "metadata": {},
   "outputs": [],
   "source": []
  },
  {
   "cell_type": "code",
   "execution_count": 84,
   "metadata": {},
   "outputs": [
    {
     "data": {
      "text/plain": [
       "(48, 4)"
      ]
     },
     "execution_count": 84,
     "metadata": {},
     "output_type": "execute_result"
    }
   ],
   "source": [
    "pp_mean_all_windows = np.mean(pp_all_windows_repetitions, axis=1).transpose()\n",
    "pnp_mean_all_windows = np.mean(pnp_all_windows_repetitions, axis=1).transpose()\n",
    "#hv_mean_all_windows = np.mean(hv_all_windows_repetitions, axis=1).transpose()\n",
    "\n",
    "pnp_mean_all_windows.shape"
   ]
  },
  {
   "cell_type": "code",
   "execution_count": null,
   "metadata": {},
   "outputs": [],
   "source": []
  },
  {
   "cell_type": "code",
   "execution_count": 85,
   "metadata": {},
   "outputs": [],
   "source": [
    "diff_pp_pnp_all_windows = pp_mean_all_windows - pnp_mean_all_windows\n",
    "diff_pp_pnp_all_windows = diff_pp_pnp_all_windows - diff_pp_pnp_all_windows.mean()\n",
    "\n",
    "#diff_hv_pnp_all_windows = hv_mean_all_windows - pnp_mean_all_windows\n",
    "#diff_hv_pnp_all_windows = diff_hv_pnp_all_windows - diff_hv_pnp_all_windows.mean()\n",
    "\n",
    "#diff_hv_pp_all_windows = hv_mean_all_windows - pp_mean_all_windows\n",
    "#diff_hv_pp_all_windows = diff_hv_pp_all_windows - diff_hv_pp_all_windows.mean()"
   ]
  },
  {
   "cell_type": "code",
   "execution_count": null,
   "metadata": {},
   "outputs": [],
   "source": []
  },
  {
   "cell_type": "code",
   "execution_count": 75,
   "metadata": {},
   "outputs": [],
   "source": [
    "scipy.io.savemat('./results/arrays/hfd_2s_window_means_l.mat', {'pp': pp_mean_all_windows, 'pnp': pnp_mean_all_windows, 'hv': hv_mean_all_windows,\n",
    "                                                                'diff_pp_pnp': diff_pp_pnp_all_windows, 'diff_hv_pnp': diff_hv_pnp_all_windows,\n",
    "                                                                'diff_hv_pp': diff_hv_pp_all_windows})"
   ]
  },
  {
   "cell_type": "code",
   "execution_count": 34,
   "metadata": {},
   "outputs": [],
   "source": [
    "scipy.io.savemat('./results/arrays/hfd_2s_window_individuals_lh.mat', {'pp': pp_all_windows_patients_repetitions, 'pnp': pnp_all_windows_patients_repetitions, 'hv': hv_all_windows_patients_repetitions,})"
   ]
  },
  {
   "cell_type": "code",
   "execution_count": 55,
   "metadata": {},
   "outputs": [],
   "source": [
    "scipy.io.savemat('./results/arrays/hfd_2s_window_repetitions_l.mat', {'pp': pp_all_windows_repetitions, 'pnp': pnp_all_windows_repetitions, 'hv': hv_all_windows_repetitions,})"
   ]
  },
  {
   "cell_type": "code",
   "execution_count": 86,
   "metadata": {},
   "outputs": [],
   "source": [
    "scipy.io.savemat('./results/arrays/pdp_hfd_2s_window_means_l.mat', {'pdp': pp_mean_all_windows, 'pnp': pnp_mean_all_windows,\n",
    "                                                                'diff_pp_pnp': diff_pp_pnp_all_windows})"
   ]
  },
  {
   "cell_type": "code",
   "execution_count": 87,
   "metadata": {},
   "outputs": [],
   "source": [
    "scipy.io.savemat('./results/arrays/pdp_hfd_2s_window_individuals_l.mat', {'pdp': pp_all_windows_patients_repetitions, 'pnp': pnp_all_windows_patients_repetitions})"
   ]
  },
  {
   "cell_type": "code",
   "execution_count": 88,
   "metadata": {},
   "outputs": [],
   "source": [
    "scipy.io.savemat('./results/arrays/pdp_hfd_2s_window_repetitions_l.mat', {'pdp': pp_all_windows_repetitions, 'pnp': pnp_all_windows_repetitions})"
   ]
  },
  {
   "cell_type": "code",
   "execution_count": null,
   "metadata": {},
   "outputs": [],
   "source": []
  },
  {
   "cell_type": "code",
   "execution_count": 100,
   "metadata": {},
   "outputs": [],
   "source": [
    "testtt = scipy.io.loadmat('./results/arrays/pdp_hfd_2s_window_repetitions_l.mat')"
   ]
  },
  {
   "cell_type": "code",
   "execution_count": 101,
   "metadata": {},
   "outputs": [
    {
     "data": {
      "text/plain": [
       "(4, 279, 48)"
      ]
     },
     "execution_count": 101,
     "metadata": {},
     "output_type": "execute_result"
    }
   ],
   "source": [
    "testtt['pdp'].shape"
   ]
  },
  {
   "cell_type": "code",
   "execution_count": 92,
   "metadata": {},
   "outputs": [
    {
     "data": {
      "text/plain": [
       "array([[0., 0., 0., 0.],\n",
       "       [0., 0., 0., 0.],\n",
       "       [0., 0., 0., 0.],\n",
       "       [0., 0., 0., 0.],\n",
       "       [0., 0., 0., 0.],\n",
       "       [0., 0., 0., 0.],\n",
       "       [0., 0., 0., 0.],\n",
       "       [0., 0., 0., 0.],\n",
       "       [0., 0., 0., 0.],\n",
       "       [0., 0., 0., 0.],\n",
       "       [0., 0., 0., 0.],\n",
       "       [0., 0., 0., 0.],\n",
       "       [0., 0., 0., 0.],\n",
       "       [0., 0., 0., 0.],\n",
       "       [0., 0., 0., 0.],\n",
       "       [0., 0., 0., 0.],\n",
       "       [0., 0., 0., 0.],\n",
       "       [0., 0., 0., 0.],\n",
       "       [0., 0., 0., 0.],\n",
       "       [0., 0., 0., 0.],\n",
       "       [0., 0., 0., 0.],\n",
       "       [0., 0., 0., 0.],\n",
       "       [0., 0., 0., 0.],\n",
       "       [0., 0., 0., 0.],\n",
       "       [0., 0., 0., 0.],\n",
       "       [0., 0., 0., 0.],\n",
       "       [0., 0., 0., 0.],\n",
       "       [0., 0., 0., 0.],\n",
       "       [0., 0., 0., 0.],\n",
       "       [0., 0., 0., 0.],\n",
       "       [0., 0., 0., 0.],\n",
       "       [0., 0., 0., 0.],\n",
       "       [0., 0., 0., 0.],\n",
       "       [0., 0., 0., 0.],\n",
       "       [0., 0., 0., 0.],\n",
       "       [0., 0., 0., 0.],\n",
       "       [0., 0., 0., 0.],\n",
       "       [0., 0., 0., 0.],\n",
       "       [0., 0., 0., 0.],\n",
       "       [0., 0., 0., 0.],\n",
       "       [0., 0., 0., 0.],\n",
       "       [0., 0., 0., 0.],\n",
       "       [0., 0., 0., 0.],\n",
       "       [0., 0., 0., 0.],\n",
       "       [0., 0., 0., 0.],\n",
       "       [0., 0., 0., 0.],\n",
       "       [0., 0., 0., 0.],\n",
       "       [0., 0., 0., 0.]])"
      ]
     },
     "execution_count": 92,
     "metadata": {},
     "output_type": "execute_result"
    }
   ],
   "source": [
    "(testtt['pdp'] - testtt['pnp']) - (testtt['pdp'] - testtt['pnp']).mean() - testtt['diff_pp_pnp']"
   ]
  },
  {
   "cell_type": "code",
   "execution_count": null,
   "metadata": {},
   "outputs": [],
   "source": []
  },
  {
   "cell_type": "code",
   "execution_count": 102,
   "metadata": {},
   "outputs": [
    {
     "data": {
      "text/plain": [
       "(48, 4)"
      ]
     },
     "execution_count": 102,
     "metadata": {},
     "output_type": "execute_result"
    }
   ],
   "source": [
    "diff_all_windows = pp_mean_all_windows - pnp_mean_all_windows\n",
    "diff_all_windows = diff_all_windows - diff_all_windows.mean()\n",
    "diff_all_windows.shape"
   ]
  },
  {
   "cell_type": "code",
   "execution_count": 50,
   "metadata": {},
   "outputs": [
    {
     "data": {
      "text/plain": [
       "NormaltestResult(statistic=6.237889128480401, pvalue=0.044203798077269985)"
      ]
     },
     "execution_count": 50,
     "metadata": {},
     "output_type": "execute_result"
    }
   ],
   "source": [
    "scipy.stats.normaltest(diff_all_windows.flatten())"
   ]
  },
  {
   "cell_type": "code",
   "execution_count": 48,
   "metadata": {},
   "outputs": [],
   "source": [
    "max_hfd = np.max([np.max(pp_all_windows_repetitions), np.max(pnp_all_windows_repetitions)])\n",
    "min_hfd = np.min([np.min(pp_all_windows_repetitions), np.min(pnp_all_windows_repetitions)])"
   ]
  },
  {
   "cell_type": "code",
   "execution_count": 116,
   "metadata": {},
   "outputs": [
    {
     "data": {
      "text/plain": [
       "2.0088042433392497"
      ]
     },
     "execution_count": 116,
     "metadata": {},
     "output_type": "execute_result"
    }
   ],
   "source": [
    "np.max(pp_all_windows_repetitions)"
   ]
  },
  {
   "cell_type": "code",
   "execution_count": 117,
   "metadata": {},
   "outputs": [
    {
     "data": {
      "text/plain": [
       "1.855078571120525"
      ]
     },
     "execution_count": 117,
     "metadata": {},
     "output_type": "execute_result"
    }
   ],
   "source": [
    "np.mean(pp_all_windows_repetitions, axis=1).transpose()[14][1]"
   ]
  },
  {
   "cell_type": "code",
   "execution_count": 104,
   "metadata": {
    "scrolled": true
   },
   "outputs": [
    {
     "data": {
      "image/png": "[encoded data removed]",
      "text/plain": [
       "<Figure size 1080x1080 with 1 Axes>"
      ]
     },
     "metadata": {
      "needs_background": "light"
     },
     "output_type": "display_data"
    }
   ],
   "source": [
    "title = 'Normalized HFD values in ' + limb['name'] + ' within a 2s sliding window, PDP; k=7'\n",
    "graph_name = 'window_pdp_' + limb['name']\n",
    "\n",
    "plt.figure(figsize=[15,15])\n",
    "plt.title(title)\n",
    "plt.ylabel('Channel')\n",
    "plt.yticks(ticks=range(48), labels=ch_names_new)\n",
    "plt.xticks(range(4))\n",
    "plt.xlabel('Time window start (s)')\n",
    "plt.imshow(pp_mean_all_windows)\n",
    "plt.savefig('./results/graphs/' + limb['name'] + '/' + graph_name + '.eps')\n",
    "plt.savefig('./results/graphs/' + limb['name'] + '/' + graph_name + '.jpg')"
   ]
  },
  {
   "cell_type": "code",
   "execution_count": 105,
   "metadata": {},
   "outputs": [
    {
     "data": {
      "image/png": "[encoded data removed]",
      "text/plain": [
       "<Figure size 1080x1080 with 1 Axes>"
      ]
     },
     "metadata": {
      "needs_background": "light"
     },
     "output_type": "display_data"
    }
   ],
   "source": [
    "title = 'Normalized HFD values in ' + limb['name'] + ' within a 2s sliding window, PNP; k=7'\n",
    "graph_name = 'window_pnp_' + limb['name']\n",
    "\n",
    "plt.figure(figsize=[15,15])\n",
    "plt.title(title)\n",
    "plt.ylabel('Channel')\n",
    "plt.yticks(ticks=range(48), labels=ch_names_new)\n",
    "plt.xticks(range(4))\n",
    "plt.xlabel('Time window start (s)')\n",
    "plt.imshow(pnp_mean_all_windows)\n",
    "plt.savefig('./results/graphs/' + limb['name'] + '/' + graph_name + '.eps')\n",
    "plt.savefig('./results/graphs/' + limb['name'] + '/' + graph_name + '.jpg')"
   ]
  },
  {
   "cell_type": "code",
   "execution_count": 106,
   "metadata": {},
   "outputs": [
    {
     "data": {
      "text/plain": [
       "array([0.02528689, 0.02843307, 0.01488059, 0.00448531])"
      ]
     },
     "execution_count": 106,
     "metadata": {},
     "output_type": "execute_result"
    }
   ],
   "source": [
    "diff_all_windows[ch_names.index('P1')]"
   ]
  },
  {
   "cell_type": "code",
   "execution_count": 107,
   "metadata": {},
   "outputs": [
    {
     "data": {
      "text/plain": [
       "-0.03988151696212492"
      ]
     },
     "execution_count": 107,
     "metadata": {},
     "output_type": "execute_result"
    }
   ],
   "source": [
    "diff_all_windows.min()"
   ]
  },
  {
   "cell_type": "code",
   "execution_count": 112,
   "metadata": {},
   "outputs": [
    {
     "data": {
      "text/plain": [
       "(19, 0)"
      ]
     },
     "execution_count": 112,
     "metadata": {},
     "output_type": "execute_result"
    }
   ],
   "source": [
    "asda = np.abs(diff_all_windows - np.zeros(diff_all_windows.shape))\n",
    "np.unravel_index(asda.argmin(), asda.shape)"
   ]
  },
  {
   "cell_type": "code",
   "execution_count": 113,
   "metadata": {},
   "outputs": [
    {
     "data": {
      "text/plain": [
       "'CP2'"
      ]
     },
     "execution_count": 113,
     "metadata": {},
     "output_type": "execute_result"
    }
   ],
   "source": [
    "ch_names[20]"
   ]
  },
  {
   "cell_type": "code",
   "execution_count": 114,
   "metadata": {},
   "outputs": [
    {
     "data": {
      "image/png": "[encoded data removed]",
      "text/plain": [
       "<Figure size 1080x1080 with 1 Axes>"
      ]
     },
     "metadata": {
      "needs_background": "light"
     },
     "output_type": "display_data"
    }
   ],
   "source": [
    "title = str('Normalized HFD difference in ' + limb['name'] + ' between PDP and PNP within a 2s sliding window; k=7\\n' +\n",
    "        'Red indicates PDP > PNP; Blue indicates PDP < PNP; white indicates similar values')\n",
    "graph_name = 'window_pdp_pnp_diff_' + limb['name']\n",
    "\n",
    "plt.figure(figsize=[15,15])\n",
    "plt.title(title)\n",
    "plt.ylabel('Channel')\n",
    "plt.yticks(ticks=range(48), labels=ch_names_new)\n",
    "plt.xticks(range(4))\n",
    "plt.xlabel('Time window start (s)')\n",
    "plt.imshow(diff_all_windows, cmap='bwr')\n",
    "\n",
    "plt.savefig('./results/graphs/' + limb['name'] + '/' + graph_name + '.eps')\n",
    "plt.savefig('./results/graphs/' + limb['name'] + '/' + graph_name + '.jpg')"
   ]
  },
  {
   "cell_type": "code",
   "execution_count": null,
   "metadata": {},
   "outputs": [],
   "source": []
  },
  {
   "cell_type": "code",
   "execution_count": null,
   "metadata": {},
   "outputs": [],
   "source": []
  },
  {
   "cell_type": "code",
   "execution_count": null,
   "metadata": {},
   "outputs": [],
   "source": [
    "pnp_rh[0].shape"
   ]
  },
  {
   "cell_type": "code",
   "execution_count": null,
   "metadata": {},
   "outputs": [],
   "source": [
    "pp_rh[3].shape"
   ]
  },
  {
   "cell_type": "code",
   "execution_count": null,
   "metadata": {},
   "outputs": [],
   "source": [
    "pp_and_pnp = np.concatenate((pp_rh, pnp_rh))\n",
    "pp_and_pnp.shape"
   ]
  },
  {
   "cell_type": "markdown",
   "metadata": {},
   "source": [
    "# It's time to learn"
   ]
  },
  {
   "cell_type": "code",
   "execution_count": 40,
   "metadata": {},
   "outputs": [],
   "source": [
    "log_proc_method = 'HFD'\n",
    "log_dataset = 'PP/PDP-' + limb['name']\n",
    "log_db_name = 'log.db'\n",
    "\n",
    "log_notes = {'window start': window_start_sec, 'window size': window_size, 'k': k}"
   ]
  },
  {
   "cell_type": "code",
   "execution_count": 41,
   "metadata": {},
   "outputs": [
    {
     "data": {
      "text/plain": [
       "'PP/PDP-RH'"
      ]
     },
     "execution_count": 41,
     "metadata": {},
     "output_type": "execute_result"
    }
   ],
   "source": [
    "log_dataset"
   ]
  },
  {
   "cell_type": "code",
   "execution_count": null,
   "metadata": {},
   "outputs": [],
   "source": [
    "nu = 0.652008\n",
    "channels = [12, 16]\n",
    "\n",
    "acc, sensitivity, specificity, avg_acc = classify_nusvm_cross_valid(pp_rh, pnp_rh, nu, channels, ch_names,\n",
    "                                                                    log_db_name=log_db_name,\n",
    "                                                                    log_txt=True,\n",
    "                                                                    log_proc_method=log_proc_method,\n",
    "                                                                    log_dataset=log_dataset,\n",
    "                                                                    log_notes=log_notes,\n",
    "                                                                    log_details=False\n",
    "                                                                   )\n",
    "print('Accuracy', acc)\n",
    "print('Sensitivity', sensitivity)\n",
    "print('Specificity', specificity)\n",
    "print('Average accuracy', avg_acc)"
   ]
  },
  {
   "cell_type": "code",
   "execution_count": null,
   "metadata": {},
   "outputs": [],
   "source": []
  },
  {
   "cell_type": "code",
   "execution_count": null,
   "metadata": {},
   "outputs": [],
   "source": [
    "previous_channels=[17, 17, 24]\n",
    "nu = 0.7\n",
    "\n",
    "max_acc = {'index': 0, 'value': 0}\n",
    "for channel in range(61):        \n",
    "    accuracy, sensitivity, specificity, avg_accuracy = classify_nusvm_cross_valid(pp_rh, pnp_rh, nu, \n",
    "                                                                                  previous_channels + [channel], \n",
    "                                                                                  verbose=False,\n",
    "                                                                                  log_db_name=log_db_name,\n",
    "                                                                                  log_txt=True,\n",
    "                                                                                  log_proc_method=log_proc_method,\n",
    "                                                                                  log_dataset=log_dataset,\n",
    "                                                                                  log_notes=log_notes\n",
    "                                                                                 )\n",
    "    print(channel, accuracy, sensitivity, specificity, avg_accuracy)\n",
    "        \n",
    "    if accuracy > max_acc['value']:\n",
    "        max_acc['index'] = channel\n",
    "        max_acc['value'] = accuracy\n",
    "\n",
    "print('Max accuracy:', max_acc['index'], max_acc['value'])"
   ]
  },
  {
   "cell_type": "code",
   "execution_count": null,
   "metadata": {},
   "outputs": [],
   "source": []
  },
  {
   "cell_type": "code",
   "execution_count": null,
   "metadata": {},
   "outputs": [],
   "source": [
    "channels = [17, 17, 24]\n",
    "\n",
    "max_acc = {'index': 0, 'value': 0}\n",
    "for param in np.arange(0.1, 0.8, 0.001):    \n",
    "    accuracy, sensitivity, specificity, avg_accuracy = classify_nusvm_cross_valid(pp_rh, pnp_rh, param,\n",
    "                                                                                  channels,\n",
    "                                                                                  verbose=False, \n",
    "                                                                                  log_db_name=log_db_name,\n",
    "                                                                                  log_txt=True,\n",
    "                                                                                  log_proc_method=log_proc_method,\n",
    "                                                                                  log_dataset=log_dataset,\n",
    "                                                                                  log_notes=log_notes\n",
    "                                                                                 ) \n",
    "                                                      \n",
    "\n",
    "    print(param, accuracy, sensitivity, specificity, avg_accuracy)\n",
    "        \n",
    "    if accuracy > max_acc['value']:\n",
    "        max_acc['index'] = param\n",
    "        max_acc['value'] = accuracy\n",
    "\n",
    "        \n",
    "print('Max accuracy:', max_acc['index'], max_acc['value'])"
   ]
  },
  {
   "cell_type": "code",
   "execution_count": null,
   "metadata": {},
   "outputs": [],
   "source": []
  },
  {
   "cell_type": "code",
   "execution_count": 42,
   "metadata": {},
   "outputs": [
    {
     "name": "stdout",
     "output_type": "stream",
     "text": [
      "nu: 0.1\n",
      "[6] 0.76\n",
      "[6] 0.76\n",
      "Max Accuracy: {'channels': [6], 'value': 0.7631578947368421, 'nu': 0.1}\n",
      "nu: 0.125\n",
      "[8] 0.77\n",
      "[8] 0.77\n",
      "Max Accuracy: {'channels': [8], 'value': 0.7690058479532164, 'nu': 0.125}\n",
      "nu: 0.15\n",
      "[44] 0.75\n",
      "[44, 39] 0.75\n",
      "[44, 39] 0.75\n",
      "Max Accuracy: {'channels': [8], 'value': 0.7690058479532164, 'nu': 0.125}\n",
      "nu: 0.175\n",
      "[32] 0.73\n",
      "[32, 12] 0.77\n",
      "[32, 12] 0.77\n",
      "Max Accuracy: {'channels': [32, 12], 'value': 0.7733918128654971, 'nu': 0.175}\n",
      "nu: 0.19999999999999998\n",
      "[19] 0.75\n",
      "[19, 31] 0.81\n",
      "[19, 31, 9] 0.81\n",
      "[19, 31, 9] 0.81\n",
      "Max Accuracy: {'channels': [19, 31, 9], 'value': 0.8084795321637427, 'nu': 0.19999999999999998}\n",
      "nu: 0.22499999999999998\n",
      "[29] 0.70\n",
      "[29, 12] 0.71\n",
      "[29, 12, 15] 0.76\n",
      "[29, 12, 15, 6] 0.82\n",
      "[29, 12, 15, 6] 0.82\n",
      "Max Accuracy: {'channels': [29, 12, 15, 6], 'value': 0.8245614035087719, 'nu': 0.22499999999999998}\n",
      "nu: 0.24999999999999997\n",
      "[10] 0.69\n",
      "[10] 0.69\n",
      "Max Accuracy: {'channels': [29, 12, 15, 6], 'value': 0.8245614035087719, 'nu': 0.22499999999999998}\n",
      "nu: 0.27499999999999997\n",
      "[12] 0.71\n",
      "[12] 0.71\n",
      "Max Accuracy: {'channels': [29, 12, 15, 6], 'value': 0.8245614035087719, 'nu': 0.22499999999999998}\n",
      "nu: 0.29999999999999993\n",
      "[42] 0.82\n",
      "[42] 0.82\n",
      "Max Accuracy: {'channels': [29, 12, 15, 6], 'value': 0.8245614035087719, 'nu': 0.22499999999999998}\n",
      "nu: 0.32499999999999996\n",
      "[42] 0.78\n",
      "[42] 0.78\n",
      "Max Accuracy: {'channels': [29, 12, 15, 6], 'value': 0.8245614035087719, 'nu': 0.22499999999999998}\n",
      "nu: 0.35\n",
      "[17] 0.76\n",
      "[17, 20] 0.79\n",
      "[17, 20, 13] 0.79\n",
      "[17, 20, 13] 0.79\n",
      "Max Accuracy: {'channels': [29, 12, 15, 6], 'value': 0.8245614035087719, 'nu': 0.22499999999999998}\n",
      "nu: 0.3749999999999999\n",
      "[8] 0.85\n",
      "[8] 0.85\n",
      "Max Accuracy: {'channels': [8], 'value': 0.8523391812865497, 'nu': 0.3749999999999999}\n",
      "nu: 0.3999999999999999\n",
      "[42] 0.73\n",
      "[42] 0.73\n",
      "Max Accuracy: {'channels': [8], 'value': 0.8523391812865497, 'nu': 0.3749999999999999}\n",
      "nu: 0.42499999999999993\n",
      "[12] 0.84\n",
      "[12] 0.84\n",
      "Max Accuracy: {'channels': [8], 'value': 0.8523391812865497, 'nu': 0.3749999999999999}\n",
      "nu: 0.44999999999999996\n",
      "[43] 0.81\n",
      "[43] 0.81\n",
      "Max Accuracy: {'channels': [8], 'value': 0.8523391812865497, 'nu': 0.3749999999999999}\n",
      "nu: 0.47499999999999987\n",
      "[16] 0.72\n",
      "[16] 0.72\n",
      "Max Accuracy: {'channels': [8], 'value': 0.8523391812865497, 'nu': 0.3749999999999999}\n",
      "nu: 0.4999999999999999\n",
      "[20] 0.79\n",
      "[20] 0.79\n",
      "Max Accuracy: {'channels': [8], 'value': 0.8523391812865497, 'nu': 0.3749999999999999}\n",
      "nu: 0.5249999999999999\n",
      "[44] 0.70\n",
      "[44, 12] 0.73\n",
      "[44, 12] 0.73\n",
      "Max Accuracy: {'channels': [8], 'value': 0.8523391812865497, 'nu': 0.3749999999999999}\n",
      "nu: 0.5499999999999999\n",
      "[1] 0.84\n",
      "[1] 0.84\n",
      "Max Accuracy: {'channels': [8], 'value': 0.8523391812865497, 'nu': 0.3749999999999999}\n",
      "nu: 0.5749999999999998\n",
      "[19] 0.80\n",
      "[19] 0.80\n",
      "Max Accuracy: {'channels': [8], 'value': 0.8523391812865497, 'nu': 0.3749999999999999}\n",
      "nu: 0.5999999999999999\n",
      "[12] 0.68\n",
      "[12] 0.68\n",
      "Max Accuracy: {'channels': [8], 'value': 0.8523391812865497, 'nu': 0.3749999999999999}\n",
      "nu: 0.6249999999999999\n",
      "[29] 0.75\n",
      "[29] 0.75\n",
      "Max Accuracy: {'channels': [8], 'value': 0.8523391812865497, 'nu': 0.3749999999999999}\n",
      "nu: 0.6499999999999998\n",
      "[34] 0.76\n",
      "[34] 0.76\n",
      "Max Accuracy: {'channels': [8], 'value': 0.8523391812865497, 'nu': 0.3749999999999999}\n",
      "nu: 0.6749999999999998\n",
      "Nu value 0.6749999999999998 is infeasible.\n",
      "Nu value 0.6749999999999998 is infeasible.\n",
      "Nu value 0.6749999999999998 is infeasible.\n",
      "Nu value 0.6749999999999998 is infeasible.\n",
      "Nu value 0.6749999999999998 is infeasible.\n",
      "Nu value 0.6749999999999998 is infeasible.\n",
      "Nu value 0.6749999999999998 is infeasible.\n",
      "Nu value 0.6749999999999998 is infeasible.\n",
      "Nu value 0.6749999999999998 is infeasible.\n",
      "Nu value 0.6749999999999998 is infeasible.\n",
      "Nu value 0.6749999999999998 is infeasible.\n",
      "Nu value 0.6749999999999998 is infeasible.\n",
      "Nu value 0.6749999999999998 is infeasible.\n",
      "Nu value 0.6749999999999998 is infeasible.\n",
      "Nu value 0.6749999999999998 is infeasible.\n",
      "Nu value 0.6749999999999998 is infeasible.\n",
      "Nu value 0.6749999999999998 is infeasible.\n",
      "Nu value 0.6749999999999998 is infeasible.\n",
      "Nu value 0.6749999999999998 is infeasible.\n",
      "Nu value 0.6749999999999998 is infeasible.\n",
      "Nu value 0.6749999999999998 is infeasible.\n",
      "Nu value 0.6749999999999998 is infeasible.\n",
      "Nu value 0.6749999999999998 is infeasible.\n",
      "Nu value 0.6749999999999998 is infeasible.\n",
      "Nu value 0.6749999999999998 is infeasible.\n",
      "Nu value 0.6749999999999998 is infeasible.\n",
      "Nu value 0.6749999999999998 is infeasible.\n",
      "Nu value 0.6749999999999998 is infeasible.\n",
      "Nu value 0.6749999999999998 is infeasible.\n",
      "Nu value 0.6749999999999998 is infeasible.\n",
      "Nu value 0.6749999999999998 is infeasible.\n",
      "Nu value 0.6749999999999998 is infeasible.\n",
      "Nu value 0.6749999999999998 is infeasible.\n",
      "Nu value 0.6749999999999998 is infeasible.\n",
      "Nu value 0.6749999999999998 is infeasible.\n",
      "Nu value 0.6749999999999998 is infeasible.\n",
      "Nu value 0.6749999999999998 is infeasible.\n",
      "Nu value 0.6749999999999998 is infeasible.\n",
      "Nu value 0.6749999999999998 is infeasible.\n",
      "Nu value 0.6749999999999998 is infeasible.\n",
      "Nu value 0.6749999999999998 is infeasible.\n",
      "Nu value 0.6749999999999998 is infeasible.\n",
      "Nu value 0.6749999999999998 is infeasible.\n",
      "Nu value 0.6749999999999998 is infeasible.\n",
      "Nu value 0.6749999999999998 is infeasible.\n",
      "Nu value 0.6749999999999998 is infeasible.\n",
      "Nu value 0.6749999999999998 is infeasible.\n",
      "Nu value 0.6749999999999998 is infeasible.\n",
      "[0] 0.00\n",
      "Max Accuracy: {'channels': [8], 'value': 0.8523391812865497, 'nu': 0.3749999999999999}\n",
      "nu: 0.6999999999999998\n",
      "Nu value 0.6999999999999998 is infeasible.\n",
      "Nu value 0.6999999999999998 is infeasible.\n",
      "Nu value 0.6999999999999998 is infeasible.\n",
      "Nu value 0.6999999999999998 is infeasible.\n",
      "Nu value 0.6999999999999998 is infeasible.\n",
      "Nu value 0.6999999999999998 is infeasible.\n",
      "Nu value 0.6999999999999998 is infeasible.\n",
      "Nu value 0.6999999999999998 is infeasible.\n",
      "Nu value 0.6999999999999998 is infeasible.\n",
      "Nu value 0.6999999999999998 is infeasible.\n",
      "Nu value 0.6999999999999998 is infeasible.\n",
      "Nu value 0.6999999999999998 is infeasible.\n",
      "Nu value 0.6999999999999998 is infeasible.\n",
      "Nu value 0.6999999999999998 is infeasible.\n",
      "Nu value 0.6999999999999998 is infeasible.\n",
      "Nu value 0.6999999999999998 is infeasible.\n",
      "Nu value 0.6999999999999998 is infeasible.\n",
      "Nu value 0.6999999999999998 is infeasible.\n",
      "Nu value 0.6999999999999998 is infeasible.\n",
      "Nu value 0.6999999999999998 is infeasible.\n",
      "Nu value 0.6999999999999998 is infeasible.\n",
      "Nu value 0.6999999999999998 is infeasible.\n",
      "Nu value 0.6999999999999998 is infeasible.\n",
      "Nu value 0.6999999999999998 is infeasible.\n",
      "Nu value 0.6999999999999998 is infeasible.\n",
      "Nu value 0.6999999999999998 is infeasible.\n",
      "Nu value 0.6999999999999998 is infeasible.\n",
      "Nu value 0.6999999999999998 is infeasible.\n",
      "Nu value 0.6999999999999998 is infeasible.\n",
      "Nu value 0.6999999999999998 is infeasible.\n",
      "Nu value 0.6999999999999998 is infeasible.\n",
      "Nu value 0.6999999999999998 is infeasible.\n",
      "Nu value 0.6999999999999998 is infeasible.\n",
      "Nu value 0.6999999999999998 is infeasible.\n",
      "Nu value 0.6999999999999998 is infeasible.\n",
      "Nu value 0.6999999999999998 is infeasible.\n",
      "Nu value 0.6999999999999998 is infeasible.\n",
      "Nu value 0.6999999999999998 is infeasible.\n",
      "Nu value 0.6999999999999998 is infeasible.\n",
      "Nu value 0.6999999999999998 is infeasible.\n",
      "Nu value 0.6999999999999998 is infeasible.\n",
      "Nu value 0.6999999999999998 is infeasible.\n",
      "Nu value 0.6999999999999998 is infeasible.\n",
      "Nu value 0.6999999999999998 is infeasible.\n",
      "Nu value 0.6999999999999998 is infeasible.\n",
      "Nu value 0.6999999999999998 is infeasible.\n",
      "Nu value 0.6999999999999998 is infeasible.\n",
      "Nu value 0.6999999999999998 is infeasible.\n",
      "[0] 0.00\n",
      "Max Accuracy: {'channels': [8], 'value': 0.8523391812865497, 'nu': 0.3749999999999999}\n",
      "nu: 0.7249999999999999\n",
      "Nu value 0.7249999999999999 is infeasible.\n",
      "Nu value 0.7249999999999999 is infeasible.\n",
      "Nu value 0.7249999999999999 is infeasible.\n",
      "Nu value 0.7249999999999999 is infeasible.\n",
      "Nu value 0.7249999999999999 is infeasible.\n",
      "Nu value 0.7249999999999999 is infeasible.\n",
      "Nu value 0.7249999999999999 is infeasible.\n",
      "Nu value 0.7249999999999999 is infeasible.\n",
      "Nu value 0.7249999999999999 is infeasible.\n",
      "Nu value 0.7249999999999999 is infeasible.\n",
      "Nu value 0.7249999999999999 is infeasible.\n",
      "Nu value 0.7249999999999999 is infeasible.\n",
      "Nu value 0.7249999999999999 is infeasible.\n",
      "Nu value 0.7249999999999999 is infeasible.\n",
      "Nu value 0.7249999999999999 is infeasible.\n",
      "Nu value 0.7249999999999999 is infeasible.\n",
      "Nu value 0.7249999999999999 is infeasible.\n",
      "Nu value 0.7249999999999999 is infeasible.\n",
      "Nu value 0.7249999999999999 is infeasible.\n",
      "Nu value 0.7249999999999999 is infeasible.\n",
      "Nu value 0.7249999999999999 is infeasible.\n",
      "Nu value 0.7249999999999999 is infeasible.\n",
      "Nu value 0.7249999999999999 is infeasible.\n",
      "Nu value 0.7249999999999999 is infeasible.\n",
      "Nu value 0.7249999999999999 is infeasible.\n",
      "Nu value 0.7249999999999999 is infeasible.\n",
      "Nu value 0.7249999999999999 is infeasible.\n",
      "Nu value 0.7249999999999999 is infeasible.\n",
      "Nu value 0.7249999999999999 is infeasible.\n",
      "Nu value 0.7249999999999999 is infeasible.\n",
      "Nu value 0.7249999999999999 is infeasible.\n",
      "Nu value 0.7249999999999999 is infeasible.\n",
      "Nu value 0.7249999999999999 is infeasible.\n",
      "Nu value 0.7249999999999999 is infeasible.\n",
      "Nu value 0.7249999999999999 is infeasible.\n",
      "Nu value 0.7249999999999999 is infeasible.\n",
      "Nu value 0.7249999999999999 is infeasible.\n",
      "Nu value 0.7249999999999999 is infeasible.\n",
      "Nu value 0.7249999999999999 is infeasible.\n",
      "Nu value 0.7249999999999999 is infeasible.\n",
      "Nu value 0.7249999999999999 is infeasible.\n",
      "Nu value 0.7249999999999999 is infeasible.\n",
      "Nu value 0.7249999999999999 is infeasible.\n",
      "Nu value 0.7249999999999999 is infeasible.\n",
      "Nu value 0.7249999999999999 is infeasible.\n",
      "Nu value 0.7249999999999999 is infeasible.\n",
      "Nu value 0.7249999999999999 is infeasible.\n",
      "Nu value 0.7249999999999999 is infeasible.\n",
      "[0] 0.00\n",
      "Max Accuracy: {'channels': [8], 'value': 0.8523391812865497, 'nu': 0.3749999999999999}\n",
      "nu: 0.7499999999999999\n",
      "Nu value 0.7499999999999999 is infeasible.\n",
      "Nu value 0.7499999999999999 is infeasible.\n",
      "Nu value 0.7499999999999999 is infeasible.\n",
      "Nu value 0.7499999999999999 is infeasible.\n",
      "Nu value 0.7499999999999999 is infeasible.\n",
      "Nu value 0.7499999999999999 is infeasible.\n",
      "Nu value 0.7499999999999999 is infeasible.\n",
      "Nu value 0.7499999999999999 is infeasible.\n",
      "Nu value 0.7499999999999999 is infeasible.\n",
      "Nu value 0.7499999999999999 is infeasible.\n",
      "Nu value 0.7499999999999999 is infeasible.\n",
      "Nu value 0.7499999999999999 is infeasible.\n",
      "Nu value 0.7499999999999999 is infeasible.\n",
      "Nu value 0.7499999999999999 is infeasible.\n",
      "Nu value 0.7499999999999999 is infeasible.\n",
      "Nu value 0.7499999999999999 is infeasible.\n",
      "Nu value 0.7499999999999999 is infeasible.\n",
      "Nu value 0.7499999999999999 is infeasible.\n",
      "Nu value 0.7499999999999999 is infeasible.\n",
      "Nu value 0.7499999999999999 is infeasible.\n",
      "Nu value 0.7499999999999999 is infeasible.\n",
      "Nu value 0.7499999999999999 is infeasible.\n",
      "Nu value 0.7499999999999999 is infeasible.\n",
      "Nu value 0.7499999999999999 is infeasible.\n",
      "Nu value 0.7499999999999999 is infeasible.\n",
      "Nu value 0.7499999999999999 is infeasible.\n",
      "Nu value 0.7499999999999999 is infeasible.\n",
      "Nu value 0.7499999999999999 is infeasible.\n",
      "Nu value 0.7499999999999999 is infeasible.\n",
      "Nu value 0.7499999999999999 is infeasible.\n",
      "Nu value 0.7499999999999999 is infeasible.\n",
      "Nu value 0.7499999999999999 is infeasible.\n",
      "Nu value 0.7499999999999999 is infeasible.\n",
      "Nu value 0.7499999999999999 is infeasible.\n",
      "Nu value 0.7499999999999999 is infeasible.\n",
      "Nu value 0.7499999999999999 is infeasible.\n",
      "Nu value 0.7499999999999999 is infeasible.\n",
      "Nu value 0.7499999999999999 is infeasible.\n",
      "Nu value 0.7499999999999999 is infeasible.\n",
      "Nu value 0.7499999999999999 is infeasible.\n",
      "Nu value 0.7499999999999999 is infeasible.\n",
      "Nu value 0.7499999999999999 is infeasible.\n",
      "Nu value 0.7499999999999999 is infeasible.\n",
      "Nu value 0.7499999999999999 is infeasible.\n",
      "Nu value 0.7499999999999999 is infeasible.\n",
      "Nu value 0.7499999999999999 is infeasible.\n",
      "Nu value 0.7499999999999999 is infeasible.\n",
      "Nu value 0.7499999999999999 is infeasible.\n",
      "[0] 0.00\n",
      "Max Accuracy: {'channels': [8], 'value': 0.8523391812865497, 'nu': 0.3749999999999999}\n",
      "nu: 0.7749999999999998\n",
      "Nu value 0.7749999999999998 is infeasible.\n",
      "Nu value 0.7749999999999998 is infeasible.\n",
      "Nu value 0.7749999999999998 is infeasible.\n",
      "Nu value 0.7749999999999998 is infeasible.\n",
      "Nu value 0.7749999999999998 is infeasible.\n",
      "Nu value 0.7749999999999998 is infeasible.\n",
      "Nu value 0.7749999999999998 is infeasible.\n",
      "Nu value 0.7749999999999998 is infeasible.\n",
      "Nu value 0.7749999999999998 is infeasible.\n",
      "Nu value 0.7749999999999998 is infeasible.\n",
      "Nu value 0.7749999999999998 is infeasible.\n",
      "Nu value 0.7749999999999998 is infeasible.\n",
      "Nu value 0.7749999999999998 is infeasible.\n",
      "Nu value 0.7749999999999998 is infeasible.\n",
      "Nu value 0.7749999999999998 is infeasible.\n",
      "Nu value 0.7749999999999998 is infeasible.\n",
      "Nu value 0.7749999999999998 is infeasible.\n",
      "Nu value 0.7749999999999998 is infeasible.\n",
      "Nu value 0.7749999999999998 is infeasible.\n",
      "Nu value 0.7749999999999998 is infeasible.\n",
      "Nu value 0.7749999999999998 is infeasible.\n",
      "Nu value 0.7749999999999998 is infeasible.\n",
      "Nu value 0.7749999999999998 is infeasible.\n",
      "Nu value 0.7749999999999998 is infeasible.\n",
      "Nu value 0.7749999999999998 is infeasible.\n",
      "Nu value 0.7749999999999998 is infeasible.\n",
      "Nu value 0.7749999999999998 is infeasible.\n",
      "Nu value 0.7749999999999998 is infeasible.\n",
      "Nu value 0.7749999999999998 is infeasible.\n",
      "Nu value 0.7749999999999998 is infeasible.\n",
      "Nu value 0.7749999999999998 is infeasible.\n",
      "Nu value 0.7749999999999998 is infeasible.\n",
      "Nu value 0.7749999999999998 is infeasible.\n",
      "Nu value 0.7749999999999998 is infeasible.\n",
      "Nu value 0.7749999999999998 is infeasible.\n",
      "Nu value 0.7749999999999998 is infeasible.\n",
      "Nu value 0.7749999999999998 is infeasible.\n",
      "Nu value 0.7749999999999998 is infeasible.\n",
      "Nu value 0.7749999999999998 is infeasible.\n",
      "Nu value 0.7749999999999998 is infeasible.\n",
      "Nu value 0.7749999999999998 is infeasible.\n",
      "Nu value 0.7749999999999998 is infeasible.\n",
      "Nu value 0.7749999999999998 is infeasible.\n",
      "Nu value 0.7749999999999998 is infeasible.\n",
      "Nu value 0.7749999999999998 is infeasible.\n",
      "Nu value 0.7749999999999998 is infeasible.\n",
      "Nu value 0.7749999999999998 is infeasible.\n",
      "Nu value 0.7749999999999998 is infeasible.\n",
      "[0] 0.00\n",
      "Max Accuracy: {'channels': [8], 'value': 0.8523391812865497, 'nu': 0.3749999999999999}\n",
      "nu: 0.7999999999999998\n",
      "Nu value 0.7999999999999998 is infeasible.\n",
      "Nu value 0.7999999999999998 is infeasible.\n",
      "Nu value 0.7999999999999998 is infeasible.\n",
      "Nu value 0.7999999999999998 is infeasible.\n",
      "Nu value 0.7999999999999998 is infeasible.\n",
      "Nu value 0.7999999999999998 is infeasible.\n",
      "Nu value 0.7999999999999998 is infeasible.\n",
      "Nu value 0.7999999999999998 is infeasible.\n",
      "Nu value 0.7999999999999998 is infeasible.\n",
      "Nu value 0.7999999999999998 is infeasible.\n",
      "Nu value 0.7999999999999998 is infeasible.\n",
      "Nu value 0.7999999999999998 is infeasible.\n",
      "Nu value 0.7999999999999998 is infeasible.\n",
      "Nu value 0.7999999999999998 is infeasible.\n",
      "Nu value 0.7999999999999998 is infeasible.\n",
      "Nu value 0.7999999999999998 is infeasible.\n",
      "Nu value 0.7999999999999998 is infeasible.\n",
      "Nu value 0.7999999999999998 is infeasible.\n",
      "Nu value 0.7999999999999998 is infeasible.\n",
      "Nu value 0.7999999999999998 is infeasible.\n",
      "Nu value 0.7999999999999998 is infeasible.\n",
      "Nu value 0.7999999999999998 is infeasible.\n",
      "Nu value 0.7999999999999998 is infeasible.\n",
      "Nu value 0.7999999999999998 is infeasible.\n",
      "Nu value 0.7999999999999998 is infeasible.\n",
      "Nu value 0.7999999999999998 is infeasible.\n",
      "Nu value 0.7999999999999998 is infeasible.\n",
      "Nu value 0.7999999999999998 is infeasible.\n",
      "Nu value 0.7999999999999998 is infeasible.\n",
      "Nu value 0.7999999999999998 is infeasible.\n",
      "Nu value 0.7999999999999998 is infeasible.\n",
      "Nu value 0.7999999999999998 is infeasible.\n",
      "Nu value 0.7999999999999998 is infeasible.\n",
      "Nu value 0.7999999999999998 is infeasible.\n",
      "Nu value 0.7999999999999998 is infeasible.\n",
      "Nu value 0.7999999999999998 is infeasible.\n",
      "Nu value 0.7999999999999998 is infeasible.\n",
      "Nu value 0.7999999999999998 is infeasible.\n",
      "Nu value 0.7999999999999998 is infeasible.\n",
      "Nu value 0.7999999999999998 is infeasible.\n",
      "Nu value 0.7999999999999998 is infeasible.\n",
      "Nu value 0.7999999999999998 is infeasible.\n",
      "Nu value 0.7999999999999998 is infeasible.\n",
      "Nu value 0.7999999999999998 is infeasible.\n",
      "Nu value 0.7999999999999998 is infeasible.\n",
      "Nu value 0.7999999999999998 is infeasible.\n",
      "Nu value 0.7999999999999998 is infeasible.\n",
      "Nu value 0.7999999999999998 is infeasible.\n",
      "[0] 0.00\n",
      "Max Accuracy: {'channels': [8], 'value': 0.8523391812865497, 'nu': 0.3749999999999999}\n",
      "Final Max Accuracy: {'channels': [8], 'value': 0.8523391812865497, 'nu': 0.3749999999999999}\n"
     ]
    }
   ],
   "source": [
    "best_acc = classify_nusvm_param_seach(pp_rh, pnp_rh, 0.1, 0.81, 0.025, ch_names_new, constrain_channels=None,\n",
    "                                      log_txt=True, log_proc_method=log_proc_method,\n",
    "                                                                                  log_dataset=log_dataset,\n",
    "                                                                                  log_notes=log_notes)"
   ]
  },
  {
   "cell_type": "code",
   "execution_count": null,
   "metadata": {},
   "outputs": [],
   "source": [
    "best_acc"
   ]
  },
  {
   "cell_type": "code",
   "execution_count": null,
   "metadata": {},
   "outputs": [],
   "source": []
  }
 ],
 "metadata": {
  "kernelspec": {
   "display_name": "Python 3",
   "language": "python",
   "name": "python3"
  },
  "language_info": {
   "codemirror_mode": {
    "name": "ipython",
    "version": 3
   },
   "file_extension": ".py",
   "mimetype": "text/x-python",
   "name": "python",
   "nbconvert_exporter": "python",
   "pygments_lexer": "ipython3",
   "version": "3.7.3"
  }
 },
 "nbformat": 4,
 "nbformat_minor": 2
}
