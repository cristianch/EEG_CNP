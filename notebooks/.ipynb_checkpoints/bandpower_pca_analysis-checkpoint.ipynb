{
 "cells": [
  {
   "cell_type": "code",
   "execution_count": 17,
   "metadata": {},
   "outputs": [],
   "source": [
    "import numpy as np\n",
    "import scipy\n",
    "from scipy import signal\n",
    "import mne\n",
    "import glob\n",
    "from sklearn.decomposition import PCA\n",
    "import csv\n",
    "\n",
    "from utils.experiments_classification import classify_nusvm_cross_valid"
   ]
  },
  {
   "cell_type": "code",
   "execution_count": 18,
   "metadata": {},
   "outputs": [
    {
     "data": {
      "text/plain": [
       "<module 'utils.experiments_classification' from 'D:\\\\etc\\\\uni\\\\yr5\\\\project\\\\workspace\\\\eeg-cnp-final-year-project\\\\notebooks\\\\utils\\\\experiments_classification.py'>"
      ]
     },
     "execution_count": 18,
     "metadata": {},
     "output_type": "execute_result"
    }
   ],
   "source": [
    "import importlib\n",
    "importlib.reload(experiments_classification)\n"
   ]
  },
  {
   "cell_type": "markdown",
   "metadata": {},
   "source": [
    "#### Calculate the band power over a time series"
   ]
  },
  {
   "cell_type": "code",
   "execution_count": 3,
   "metadata": {},
   "outputs": [],
   "source": [
    "# Calculate the band power over a time series\n",
    "\n",
    "def bandpower(x, fs, fmin, fmax):\n",
    "    \"\"\"\n",
    "    Returns the band power over the specified frequency interval\n",
    "    \n",
    "    x - input time series (1D array)\n",
    "    fs - sampling frequency\n",
    "    fmin - min frequency\n",
    "    fmax - max frequency\n",
    "    \"\"\"\n",
    "    \n",
    "    f, Pxx = signal.periodogram(x, fs=fs)\n",
    "    ind_min = scipy.argmax(f > fmin) - 1\n",
    "    ind_max = scipy.argmax(f > fmax) - 1\n",
    "    return scipy.trapz(Pxx[ind_min: ind_max], f[ind_min: ind_max])"
   ]
  },
  {
   "cell_type": "code",
   "execution_count": null,
   "metadata": {},
   "outputs": [],
   "source": []
  },
  {
   "cell_type": "markdown",
   "metadata": {},
   "source": [
    "# Apply bandpower to datasets"
   ]
  },
  {
   "cell_type": "code",
   "execution_count": 4,
   "metadata": {},
   "outputs": [],
   "source": [
    "def get_datasets(patient_type_location, recording_type_expression):\n",
    "    \"\"\"\n",
    "    Returns relevant datasets (f.e. all right-hand recordings of patients with pain) as a list of np arrays\n",
    "    First parameter should be a regex for location, second parameter should be a regex for dataset type\n",
    "    E.g. if right-hand movement datasets of patients with pain are in /data/pp/ and their file names contain '_RH_'\n",
    "    then patient_type_location=/data/pp/ and recording_type_expression='_RH_'\n",
    "    \"\"\"\n",
    "    \n",
    "    # Find locations of matching dataset files\n",
    "    if recording_type_expression != l_new:\n",
    "        sets_locations = glob.glob(patient_type_location + recording_type_expression + suffix)\n",
    "    else:\n",
    "        # For the newer (PDP/PP) dataset we had to use a separate expression with includes the file extension\n",
    "        sets_locations = glob.glob(patient_type_location + recording_type_expression)\n",
    "    \n",
    "    sets = []\n",
    "    for path in sets_locations: \n",
    "        sets.append(mne.io.read_epochs_eeglab(path))\n",
    "        \n",
    "    return np.array(np.array([(patient._data) for patient in sets]))"
   ]
  },
  {
   "cell_type": "code",
   "execution_count": 5,
   "metadata": {},
   "outputs": [],
   "source": [
    "# Calculate bandpower for all channels for a patient\n",
    "bands = [(4, 8), (8, 13), (13, 30)]\n",
    "time_series_index = range(1250)[:]\n",
    "\n",
    "def channels_bandpower(channels, bands, fs=250):\n",
    "    b = bandpower\n",
    "    return np.array(list(map( lambda arr: [b(arr[time_series_index], fs, band[0], band[1]) for band in bands], channels)))"
   ]
  },
  {
   "cell_type": "code",
   "execution_count": null,
   "metadata": {},
   "outputs": [],
   "source": []
  },
  {
   "cell_type": "markdown",
   "metadata": {},
   "source": [
    "#### Define dataset locations and expressions"
   ]
  },
  {
   "cell_type": "code",
   "execution_count": 6,
   "metadata": {},
   "outputs": [
    {
     "data": {
      "text/plain": [
       "['./../../../data/raw/PP\\\\PP1\\\\PP1_F1_RH_Removed_ICA.set',\n",
       " './../../../data/raw/PP\\\\PP10\\\\PP10_F1_RH_Removed_ICA.set',\n",
       " './../../../data/raw/PP\\\\PP11\\\\PP11_F1_RH_Removed_ICA.set',\n",
       " './../../../data/raw/PP\\\\PP2\\\\PP2_F1_RH_Removed_ICA.set',\n",
       " './../../../data/raw/PP\\\\PP3\\\\PP3_F1_RH_Removed_ICA.set',\n",
       " './../../../data/raw/PP\\\\PP4\\\\PP4_F1_RH_Removed_ICA.set',\n",
       " './../../../data/raw/PP\\\\PP5\\\\PP5_F1_RH_Removed_ICA.set',\n",
       " './../../../data/raw/PP\\\\PP6\\\\PP6_F1_RH_Removed_ICA.set',\n",
       " './../../../data/raw/PP\\\\PP7\\\\PP7_F1_RH_Removed_ICA.set',\n",
       " './../../../data/raw/PP\\\\PP9\\\\PP9_F1_RH_Removed_ICA.set']"
      ]
     },
     "execution_count": 6,
     "metadata": {},
     "output_type": "execute_result"
    }
   ],
   "source": [
    "root = './../../../'\n",
    "suffix = '*.set'\n",
    "\n",
    "# Old (PP/PNP datasets)\n",
    "location_healthy = root + 'data/raw/HV/*/'\n",
    "location_pain = root + 'data/raw/PP/*/'\n",
    "location_nopain = root + 'data/raw/PnP/*/'\n",
    "\n",
    "# New (PDP/PNP datasets)\n",
    "location_pwp = root + 'data_new/raw/PwP/*/'\n",
    "location_pdp = root + 'data_new/raw/PdP/*/'\n",
    "location_pnp = root + 'data_new/raw/PnP/*/'\n",
    "\n",
    "rh = '*_RH*'\n",
    "lh = '*_LH*'\n",
    "l_new = '*_L.set'   # NO SUFFIX\n",
    "l_old = '*_L_*'\n",
    "\n",
    "\n",
    "# As an example, get paths of all PP/PNP datasets from right-hand movements\n",
    "sets_healthy_rh = glob.glob(location_pain + rh + suffix)\n",
    "sets_healthy_rh"
   ]
  },
  {
   "cell_type": "markdown",
   "metadata": {},
   "source": [
    "#### Now read the chosen datasets"
   ]
  },
  {
   "cell_type": "code",
   "execution_count": 7,
   "metadata": {},
   "outputs": [
    {
     "name": "stdout",
     "output_type": "stream",
     "text": [
      "Extracting parameters from ./../../../data/raw/PP\\PP1\\PP1_F1_RH_Removed_ICA.set...\n"
     ]
    },
    {
     "name": "stderr",
     "output_type": "stream",
     "text": [
      "<ipython-input-4-916861aa92ff>:18: RuntimeWarning: At least one epoch has multiple events. Only the latency of the first event will be retained.\n",
      "  sets.append(mne.io.read_epochs_eeglab(path))\n"
     ]
    },
    {
     "name": "stdout",
     "output_type": "stream",
     "text": [
      "57 matching events found\n",
      "No baseline correction applied\n",
      "Not setting metadata\n",
      "0 projection items activated\n",
      "Ready.\n",
      "Extracting parameters from ./../../../data/raw/PP\\PP10\\PP10_F1_RH_Removed_ICA.set...\n"
     ]
    },
    {
     "name": "stderr",
     "output_type": "stream",
     "text": [
      "<ipython-input-4-916861aa92ff>:18: RuntimeWarning: At least one epoch has multiple events. Only the latency of the first event will be retained.\n",
      "  sets.append(mne.io.read_epochs_eeglab(path))\n"
     ]
    },
    {
     "name": "stdout",
     "output_type": "stream",
     "text": [
      "57 matching events found\n",
      "No baseline correction applied\n",
      "Not setting metadata\n",
      "0 projection items activated\n",
      "Ready.\n",
      "Extracting parameters from ./../../../data/raw/PP\\PP11\\PP11_F1_RH_Removed_ICA.set...\n"
     ]
    },
    {
     "name": "stderr",
     "output_type": "stream",
     "text": [
      "<ipython-input-4-916861aa92ff>:18: RuntimeWarning: At least one epoch has multiple events. Only the latency of the first event will be retained.\n",
      "  sets.append(mne.io.read_epochs_eeglab(path))\n"
     ]
    },
    {
     "name": "stdout",
     "output_type": "stream",
     "text": [
      "59 matching events found\n",
      "No baseline correction applied\n",
      "Not setting metadata\n",
      "0 projection items activated\n",
      "Ready.\n",
      "Extracting parameters from ./../../../data/raw/PP\\PP2\\PP2_F1_RH_Removed_ICA.set...\n",
      "54 matching events found\n"
     ]
    },
    {
     "name": "stderr",
     "output_type": "stream",
     "text": [
      "<ipython-input-4-916861aa92ff>:18: RuntimeWarning: At least one epoch has multiple events. Only the latency of the first event will be retained.\n",
      "  sets.append(mne.io.read_epochs_eeglab(path))\n"
     ]
    },
    {
     "name": "stdout",
     "output_type": "stream",
     "text": [
      "No baseline correction applied\n",
      "Not setting metadata\n",
      "0 projection items activated\n",
      "Ready.\n",
      "Extracting parameters from ./../../../data/raw/PP\\PP3\\PP3_F1_RH_Removed_ICA.set...\n"
     ]
    },
    {
     "name": "stderr",
     "output_type": "stream",
     "text": [
      "<ipython-input-4-916861aa92ff>:18: RuntimeWarning: At least one epoch has multiple events. Only the latency of the first event will be retained.\n",
      "  sets.append(mne.io.read_epochs_eeglab(path))\n"
     ]
    },
    {
     "name": "stdout",
     "output_type": "stream",
     "text": [
      "51 matching events found\n",
      "No baseline correction applied\n",
      "Not setting metadata\n",
      "0 projection items activated\n",
      "Ready.\n",
      "Extracting parameters from ./../../../data/raw/PP\\PP4\\PP4_F1_RH_Removed_ICA.set...\n"
     ]
    },
    {
     "name": "stderr",
     "output_type": "stream",
     "text": [
      "<ipython-input-4-916861aa92ff>:18: RuntimeWarning: At least one epoch has multiple events. Only the latency of the first event will be retained.\n",
      "  sets.append(mne.io.read_epochs_eeglab(path))\n"
     ]
    },
    {
     "name": "stdout",
     "output_type": "stream",
     "text": [
      "58 matching events found\n",
      "No baseline correction applied\n",
      "Not setting metadata\n",
      "0 projection items activated\n",
      "Ready.\n",
      "Extracting parameters from ./../../../data/raw/PP\\PP5\\PP5_F1_RH_Removed_ICA.set...\n"
     ]
    },
    {
     "name": "stderr",
     "output_type": "stream",
     "text": [
      "<ipython-input-4-916861aa92ff>:18: RuntimeWarning: At least one epoch has multiple events. Only the latency of the first event will be retained.\n",
      "  sets.append(mne.io.read_epochs_eeglab(path))\n"
     ]
    },
    {
     "name": "stdout",
     "output_type": "stream",
     "text": [
      "56 matching events found\n",
      "No baseline correction applied\n",
      "Not setting metadata\n",
      "0 projection items activated\n",
      "Ready.\n",
      "Extracting parameters from ./../../../data/raw/PP\\PP6\\PP6_F1_RH_Removed_ICA.set...\n"
     ]
    },
    {
     "name": "stderr",
     "output_type": "stream",
     "text": [
      "<ipython-input-4-916861aa92ff>:18: RuntimeWarning: At least one epoch has multiple events. Only the latency of the first event will be retained.\n",
      "  sets.append(mne.io.read_epochs_eeglab(path))\n"
     ]
    },
    {
     "name": "stdout",
     "output_type": "stream",
     "text": [
      "32 matching events found\n",
      "No baseline correction applied\n",
      "Not setting metadata\n",
      "0 projection items activated\n",
      "Ready.\n",
      "Extracting parameters from ./../../../data/raw/PP\\PP7\\PP7_F1_RH_Removed_ICA.set...\n"
     ]
    },
    {
     "name": "stderr",
     "output_type": "stream",
     "text": [
      "<ipython-input-4-916861aa92ff>:18: RuntimeWarning: At least one epoch has multiple events. Only the latency of the first event will be retained.\n",
      "  sets.append(mne.io.read_epochs_eeglab(path))\n"
     ]
    },
    {
     "name": "stdout",
     "output_type": "stream",
     "text": [
      "52 matching events found\n",
      "No baseline correction applied\n",
      "Not setting metadata\n",
      "0 projection items activated\n",
      "Ready.\n",
      "Extracting parameters from ./../../../data/raw/PP\\PP9\\PP9_F1_RH_Removed_ICA.set...\n",
      "54 matching events found\n"
     ]
    },
    {
     "name": "stderr",
     "output_type": "stream",
     "text": [
      "<ipython-input-4-916861aa92ff>:18: RuntimeWarning: At least one epoch has multiple events. Only the latency of the first event will be retained.\n",
      "  sets.append(mne.io.read_epochs_eeglab(path))\n"
     ]
    },
    {
     "name": "stdout",
     "output_type": "stream",
     "text": [
      "No baseline correction applied\n",
      "Not setting metadata\n",
      "0 projection items activated\n",
      "Ready.\n",
      "Extracting parameters from ./../../../data/raw/PnP\\PnP1\\PnP1_F1_RH_Removed_ICA.set...\n"
     ]
    },
    {
     "name": "stderr",
     "output_type": "stream",
     "text": [
      "<ipython-input-4-916861aa92ff>:18: RuntimeWarning: At least one epoch has multiple events. Only the latency of the first event will be retained.\n",
      "  sets.append(mne.io.read_epochs_eeglab(path))\n"
     ]
    },
    {
     "name": "stdout",
     "output_type": "stream",
     "text": [
      "50 matching events found\n",
      "No baseline correction applied\n",
      "Not setting metadata\n",
      "0 projection items activated\n",
      "Ready.\n",
      "Extracting parameters from ./../../../data/raw/PnP\\PnP2\\PnP2_F1_RH_Removed_ICA.set...\n"
     ]
    },
    {
     "name": "stderr",
     "output_type": "stream",
     "text": [
      "<ipython-input-4-916861aa92ff>:18: RuntimeWarning: At least one epoch has multiple events. Only the latency of the first event will be retained.\n",
      "  sets.append(mne.io.read_epochs_eeglab(path))\n"
     ]
    },
    {
     "name": "stdout",
     "output_type": "stream",
     "text": [
      "54 matching events found\n",
      "No baseline correction applied\n",
      "Not setting metadata\n",
      "0 projection items activated\n",
      "Ready.\n",
      "Extracting parameters from ./../../../data/raw/PnP\\PnP3\\PnP3_F1_RH_Removed_ICA.set...\n"
     ]
    },
    {
     "name": "stderr",
     "output_type": "stream",
     "text": [
      "<ipython-input-4-916861aa92ff>:18: RuntimeWarning: At least one epoch has multiple events. Only the latency of the first event will be retained.\n",
      "  sets.append(mne.io.read_epochs_eeglab(path))\n"
     ]
    },
    {
     "name": "stdout",
     "output_type": "stream",
     "text": [
      "44 matching events found\n",
      "No baseline correction applied\n",
      "Not setting metadata\n",
      "0 projection items activated\n",
      "Ready.\n",
      "Extracting parameters from ./../../../data/raw/PnP\\PnP4\\PnP4_F1_RH_Removed_ICA.set...\n"
     ]
    },
    {
     "name": "stderr",
     "output_type": "stream",
     "text": [
      "<ipython-input-4-916861aa92ff>:18: RuntimeWarning: At least one epoch has multiple events. Only the latency of the first event will be retained.\n",
      "  sets.append(mne.io.read_epochs_eeglab(path))\n"
     ]
    },
    {
     "name": "stdout",
     "output_type": "stream",
     "text": [
      "55 matching events found\n",
      "No baseline correction applied\n",
      "Not setting metadata\n",
      "0 projection items activated\n",
      "Ready.\n",
      "Extracting parameters from ./../../../data/raw/PnP\\PnP5\\PnP5_F1_RH_Removed_ICA.set...\n"
     ]
    },
    {
     "name": "stderr",
     "output_type": "stream",
     "text": [
      "<ipython-input-4-916861aa92ff>:18: RuntimeWarning: At least one epoch has multiple events. Only the latency of the first event will be retained.\n",
      "  sets.append(mne.io.read_epochs_eeglab(path))\n"
     ]
    },
    {
     "name": "stdout",
     "output_type": "stream",
     "text": [
      "50 matching events found\n",
      "No baseline correction applied\n",
      "Not setting metadata\n",
      "0 projection items activated\n",
      "Ready.\n",
      "Extracting parameters from ./../../../data/raw/PnP\\PnP6\\PnP6_F1_RH_Removed_ICA.set...\n"
     ]
    },
    {
     "name": "stderr",
     "output_type": "stream",
     "text": [
      "<ipython-input-4-916861aa92ff>:18: RuntimeWarning: At least one epoch has multiple events. Only the latency of the first event will be retained.\n",
      "  sets.append(mne.io.read_epochs_eeglab(path))\n"
     ]
    },
    {
     "name": "stdout",
     "output_type": "stream",
     "text": [
      "55 matching events found\n",
      "No baseline correction applied\n",
      "Not setting metadata\n",
      "0 projection items activated\n",
      "Ready.\n",
      "Extracting parameters from ./../../../data/raw/PnP\\PnP7\\PnP7_F01_RH_Removed_ICA.set...\n"
     ]
    },
    {
     "name": "stderr",
     "output_type": "stream",
     "text": [
      "<ipython-input-4-916861aa92ff>:18: RuntimeWarning: At least one epoch has multiple events. Only the latency of the first event will be retained.\n",
      "  sets.append(mne.io.read_epochs_eeglab(path))\n"
     ]
    },
    {
     "name": "stdout",
     "output_type": "stream",
     "text": [
      "58 matching events found\n",
      "No baseline correction applied\n",
      "Not setting metadata\n",
      "0 projection items activated\n",
      "Ready.\n",
      "Extracting parameters from ./../../../data/raw/PnP\\PnP8\\PnP8_F1_RH_Removed_ICA.set...\n"
     ]
    },
    {
     "name": "stderr",
     "output_type": "stream",
     "text": [
      "<ipython-input-4-916861aa92ff>:18: RuntimeWarning: At least one epoch has multiple events. Only the latency of the first event will be retained.\n",
      "  sets.append(mne.io.read_epochs_eeglab(path))\n"
     ]
    },
    {
     "name": "stdout",
     "output_type": "stream",
     "text": [
      "53 matching events found\n",
      "No baseline correction applied\n",
      "Not setting metadata\n",
      "0 projection items activated\n",
      "Ready.\n",
      "Extracting parameters from ./../../../data/raw/PnP\\PnP9\\PnP9_F1_RH_Removed_ICA.set...\n"
     ]
    },
    {
     "name": "stderr",
     "output_type": "stream",
     "text": [
      "<ipython-input-4-916861aa92ff>:18: RuntimeWarning: At least one epoch has multiple events. Only the latency of the first event will be retained.\n",
      "  sets.append(mne.io.read_epochs_eeglab(path))\n"
     ]
    },
    {
     "name": "stdout",
     "output_type": "stream",
     "text": [
      "54 matching events found\n",
      "No baseline correction applied\n",
      "Not setting metadata\n",
      "0 projection items activated\n",
      "Ready.\n"
     ]
    }
   ],
   "source": [
    "pp_rh_raw = get_datasets(location_pain, rh)\n",
    "pnp_rh_raw = get_datasets(location_nopain, rh)"
   ]
  },
  {
   "cell_type": "code",
   "execution_count": null,
   "metadata": {},
   "outputs": [],
   "source": []
  },
  {
   "cell_type": "code",
   "execution_count": 8,
   "metadata": {},
   "outputs": [
    {
     "data": {
      "text/plain": [
       "(51, 61, 1250)"
      ]
     },
     "execution_count": 8,
     "metadata": {},
     "output_type": "execute_result"
    }
   ],
   "source": [
    "# The entry for a patient should have shape (n_repetitions, n_channels, n_readings)\n",
    "pp_rh_raw[4].shape"
   ]
  },
  {
   "cell_type": "markdown",
   "metadata": {},
   "source": [
    "#### Apply the bandpower "
   ]
  },
  {
   "cell_type": "code",
   "execution_count": 9,
   "metadata": {},
   "outputs": [],
   "source": [
    "pp_rh_bp = np.array([np.array([channels_bandpower(repetition, bands) for repetition in patient]) for patient in pp_rh_raw])\n",
    "pnp_rh_bp = np.array([np.array([channels_bandpower(repetition, bands) for repetition in patient]) for patient in pnp_rh_raw])"
   ]
  },
  {
   "cell_type": "code",
   "execution_count": 10,
   "metadata": {},
   "outputs": [
    {
     "data": {
      "text/plain": [
       "473"
      ]
     },
     "execution_count": 10,
     "metadata": {},
     "output_type": "execute_result"
    }
   ],
   "source": [
    "# Get the total number of repetitions for each class\n",
    "pp_count = np.vstack(pp_rh_bp).shape[0]\n",
    "pnp_count = np.vstack(pnp_rh_bp).shape[0]\n",
    "pnp_count"
   ]
  },
  {
   "cell_type": "code",
   "execution_count": 11,
   "metadata": {},
   "outputs": [
    {
     "data": {
      "text/plain": [
       "(50, 61, 3)"
      ]
     },
     "execution_count": 11,
     "metadata": {},
     "output_type": "execute_result"
    }
   ],
   "source": [
    "pnp_rh_bp[0].shape"
   ]
  },
  {
   "cell_type": "markdown",
   "metadata": {},
   "source": [
    "#### Concatenate the two classes"
   ]
  },
  {
   "cell_type": "code",
   "execution_count": 12,
   "metadata": {},
   "outputs": [
    {
     "data": {
      "text/plain": [
       "(19,)"
      ]
     },
     "execution_count": 12,
     "metadata": {},
     "output_type": "execute_result"
    }
   ],
   "source": [
    "pp_and_pnp_bp = np.concatenate((pp_rh_bp, pnp_rh_bp))\n",
    "pp_and_pnp_bp.shape"
   ]
  },
  {
   "cell_type": "markdown",
   "metadata": {},
   "source": [
    "# SVM classification"
   ]
  },
  {
   "cell_type": "code",
   "execution_count": 13,
   "metadata": {},
   "outputs": [
    {
     "name": "stdout",
     "output_type": "stream",
     "text": [
      "Test index 0 Preparing to classify set of 473 PP and 473 PNP.\n",
      "Train score: 0.6807610993657506   Test score: 0.9649122807017544\n",
      "Test index 1 Preparing to classify set of 473 PP and 473 PNP.\n",
      "Train score: 0.7071881606765328   Test score: 1.0\n",
      "Test index 2 Preparing to classify set of 471 PP and 473 PNP.\n",
      "Train score: 0.6917372881355932   Test score: 0.5254237288135594\n",
      "Test index 3 Preparing to classify set of 476 PP and 473 PNP.\n",
      "Train score: 0.6891464699683878   Test score: 0.9814814814814815\n",
      "Test index 4 Preparing to classify set of 479 PP and 473 PNP.\n",
      "Train score: 0.7121848739495799   Test score: 1.0\n",
      "Test index 5 Preparing to classify set of 472 PP and 473 PNP.\n",
      "Train score: 0.6835978835978836   Test score: 0.9827586206896551\n",
      "Test index 6 Preparing to classify set of 474 PP and 473 PNP.\n",
      "Train score: 0.7286166842661035   Test score: 1.0\n",
      "Test index 7 Preparing to classify set of 498 PP and 473 PNP.\n",
      "Train score: 0.713697219361483   Test score: 1.0\n",
      "Test index 8 Preparing to classify set of 478 PP and 473 PNP.\n",
      "Train score: 0.5793901156677181   Test score: 1.0\n",
      "Test index 9 Preparing to classify set of 476 PP and 473 PNP.\n",
      "Train score: 0.5563751317175974   Test score: 0.7962962962962963\n",
      "Test index 10 Preparing to classify set of 530 PP and 423 PNP.\n",
      "Train score: 0.2770199370409234   Test score: 1.0\n",
      "Test index 11 Preparing to classify set of 530 PP and 419 PNP.\n",
      "Train score: 0.2834562697576396   Test score: 1.0\n",
      "Test index 12 Preparing to classify set of 530 PP and 429 PNP.\n",
      "Train score: 0.2805005213764338   Test score: 1.0\n",
      "Test index 13 Preparing to classify set of 530 PP and 418 PNP.\n",
      "Train score: 0.2795358649789029   Test score: 1.0\n",
      "Test index 14 Preparing to classify set of 530 PP and 423 PNP.\n",
      "Train score: 0.316894018887723   Test score: 1.0\n",
      "Test index 15 Preparing to classify set of 530 PP and 418 PNP.\n",
      "Train score: 0.33649789029535865   Test score: 1.0\n",
      "Test index 16 Preparing to classify set of 530 PP and 415 PNP.\n",
      "Train score: 0.32275132275132273   Test score: 1.0\n",
      "Test index 17 Preparing to classify set of 530 PP and 420 PNP.\n",
      "Train score: 0.31894736842105265   Test score: 1.0\n",
      "Test index 18 Preparing to classify set of 530 PP and 419 PNP.\n",
      "Train score: 0.3898840885142255   Test score: 1.0\n",
      "Correctly labeled 19 out of 19 accuracy 0.9571286141575274\n",
      "Accuracy 0.9571286141575274\n",
      "Sensitivity 0.9188679245283019\n",
      "Specificity 1.0\n",
      "Average accuracy 0.9605722319990919\n"
     ]
    }
   ],
   "source": [
    "nu = 0.8585\n",
    "channels = [0, 1, 1, 2, 3, 3, 5, 12, 13, 23, 30, 52, 57]\n",
    "pca_components=3\n",
    "\n",
    "acc, sensitivity, specificity, avg_acc = experiments_classification.classify_nusvm_cross_valid(pp_rh_bp, pnp_rh_bp, nu, channels, pca_components=pca_components)\n",
    "print('Accuracy', acc)\n",
    "print('Sensitivity', sensitivity)\n",
    "print('Specificity', specificity)\n",
    "print('Average accuracy', avg_acc)"
   ]
  },
  {
   "cell_type": "code",
   "execution_count": null,
   "metadata": {},
   "outputs": [],
   "source": []
  },
  {
   "cell_type": "code",
   "execution_count": 22,
   "metadata": {},
   "outputs": [
    {
     "name": "stdout",
     "output_type": "stream",
     "text": [
      "0 0.8494516450648056 0.9264150943396227 0.7632135306553911 0.8592856906862258\n",
      "1 0.8494516450648056 0.9264150943396227 0.7632135306553911 0.8592856906862258\n",
      "2 0.8494516450648056 0.9264150943396227 0.7632135306553911 0.8592856906862258\n",
      "3 0.847457627118644 0.9226415094339623 0.7632135306553911 0.8573363729474345\n",
      "4 0.8504486540378864 0.9283018867924528 0.7632135306553911 0.86009515313708\n",
      "5 0.847457627118644 0.9226415094339623 0.7632135306553911 0.8573363729474345\n",
      "6 0.8494516450648056 0.9264150943396227 0.7632135306553911 0.859203092476955\n",
      "7 0.8494516450648056 0.9264150943396227 0.7632135306553911 0.859203092476955\n",
      "8 0.8305084745762712 0.8905660377358491 0.7632135306553911 0.8407671721677074\n",
      "9 0.8464606181455633 0.9207547169811321 0.7632135306553911 0.8563617140780387\n",
      "10 0.8464606181455633 0.9207547169811321 0.7632135306553911 0.8563617140780387\n",
      "11 0.8464606181455633 0.9207547169811321 0.7632135306553911 0.8563617140780387\n",
      "12 0.847457627118644 0.9226415094339623 0.7632135306553911 0.8573363729474345\n",
      "13 0.8484546360917248 0.9245283018867925 0.7632135306553911 0.8581458353982885\n",
      "14 0.847457627118644 0.9226415094339623 0.7632135306553911 0.8573363729474345\n",
      "15 0.847457627118644 0.9226415094339623 0.7632135306553911 0.8573363729474345\n",
      "16 0.847457627118644 0.9226415094339623 0.7632135306553911 0.8572537747381638\n",
      "17 0.839481555333998 0.9075471698113208 0.7632135306553911 0.8495391019922688\n",
      "18 0.8494516450648056 0.9264150943396227 0.7632135306553911 0.8592856906862258\n",
      "19 0.8494516450648056 0.9264150943396227 0.7632135306553911 0.8592856906862258\n",
      "20 0.8484546360917248 0.9245283018867925 0.7632135306553911 0.8583110318168302\n",
      "21 0.8484546360917248 0.9245283018867925 0.7632135306553911 0.8583110318168302\n",
      "22 0.847457627118644 0.9226415094339623 0.7632135306553911 0.8573363729474345\n",
      "23 0.8484546360917248 0.9245283018867925 0.7632135306553911 0.8581458353982885\n",
      "24 0.8494516450648056 0.9264150943396227 0.7632135306553911 0.859203092476955\n",
      "25 0.8494516450648056 0.9264150943396227 0.7632135306553911 0.859203092476955\n",
      "26 0.8354935194416749 0.9 0.7632135306553911 0.8456404665146858\n",
      "27 0.8464606181455633 0.9207547169811321 0.7632135306553911 0.8563617140780387\n",
      "28 0.8464606181455633 0.9207547169811321 0.7632135306553911 0.8563617140780387\n",
      "29 0.8464606181455633 0.9207547169811321 0.7632135306553911 0.856279115868768\n",
      "30 0.847457627118644 0.9226415094339623 0.7632135306553911 0.8572537747381636\n",
      "31 0.847457627118644 0.9226415094339623 0.7632135306553911 0.857171176528893\n",
      "32 0.8484546360917248 0.9245283018867925 0.7632135306553911 0.8582284336075593\n",
      "33 0.8484546360917248 0.9245283018867925 0.7632135306553911 0.8581458353982885\n",
      "34 0.8464606181455633 0.9207547169811321 0.7632135306553911 0.856279115868768\n",
      "35 0.8464606181455633 0.9207547169811321 0.7632135306553911 0.8563617140780387\n",
      "36 0.8494516450648056 0.9264150943396227 0.7632135306553911 0.8591204942676842\n",
      "37 0.847457627118644 0.9226415094339623 0.7632135306553911 0.8572537747381636\n",
      "38 0.8454636091724825 0.9188679245283019 0.7632135306553911 0.8553870552086432\n",
      "39 0.8464606181455633 0.9207547169811321 0.7632135306553911 0.8562791158687678\n",
      "40 0.8454636091724825 0.9188679245283019 0.7632135306553911 0.8554542730617049\n",
      "41 0.8444666001994018 0.9169811320754717 0.7632135306553911 0.8544123963392475\n",
      "42 0.8454636091724825 0.9188679245283019 0.7632135306553911 0.8554388927054957\n",
      "43 0.8464606181455633 0.9207547169811321 0.7632135306553911 0.8563617140780387\n",
      "44 0.8414755732801595 0.9113207547169812 0.7632135306553911 0.8517572911433074\n",
      "45 0.8464606181455633 0.9207547169811321 0.7632135306553911 0.8563617140780387\n",
      "46 0.847457627118644 0.9226415094339623 0.7632135306553911 0.8572537747381636\n",
      "47 0.8464606181455633 0.9207547169811321 0.7632135306553911 0.8563617140780387\n",
      "48 0.8484546360917248 0.9245283018867925 0.7632135306553911 0.8582284336075593\n",
      "49 0.847457627118644 0.9226415094339623 0.7632135306553911 0.8572537747381636\n",
      "50 0.847457627118644 0.9226415094339623 0.7632135306553911 0.8572537747381636\n",
      "51 0.8464606181455633 0.9207547169811321 0.7632135306553911 0.8563617140780387\n",
      "52 0.8494516450648056 0.9264150943396227 0.7632135306553911 0.8592856906862258\n",
      "53 0.8484546360917248 0.9245283018867925 0.7632135306553911 0.8581458353982885\n",
      "54 0.8235294117647058 0.9207547169811321 0.7145877378435518 0.8335215949121997\n",
      "55 0.839481555333998 0.9075471698113208 0.7632135306553911 0.8499942466074922\n",
      "56 0.8295114656031904 0.8886792452830189 0.7632135306553911 0.8409044560879437\n",
      "57 0.8484546360917248 0.9245283018867925 0.7632135306553911 0.8581458353982885\n",
      "58 0.8384845463609173 0.9056603773584906 0.7632135306553911 0.8491021859473673\n",
      "59 0.8484546360917248 0.9245283018867925 0.7632135306553911 0.8581458353982885\n",
      "60 0.847457627118644 0.9226415094339623 0.7632135306553911 0.8572537747381636\n",
      "Max accuracy: 4 0.8504486540378864\n"
     ]
    }
   ],
   "source": [
    "previous_channels=[11, 36, 52]\n",
    "nu = 0.8\n",
    "pca_components = 3\n",
    "\n",
    "max_acc = {'index': 0, 'value': 0}\n",
    "for channel in range(61):        \n",
    "    accuracy, sensitivity, specificity, avg_accuracy = classify_nusvm_cross_valid(pp_rh_bp, pnp_rh_bp, nu, previous_channels + [channel], \n",
    "                                                                                  verbose=False, pca_components=pca_components)\n",
    "    print(channel, accuracy, sensitivity, specificity, avg_accuracy)\n",
    "        \n",
    "    if accuracy > max_acc['value']:\n",
    "        max_acc['index'] = channel\n",
    "        max_acc['value'] = accuracy\n",
    "\n",
    "print('Max accuracy:', max_acc['index'], max_acc['value'])"
   ]
  },
  {
   "cell_type": "code",
   "execution_count": null,
   "metadata": {},
   "outputs": [],
   "source": []
  },
  {
   "cell_type": "markdown",
   "metadata": {},
   "source": [
    "#### Cross validate over multiple nu values"
   ]
  },
  {
   "cell_type": "code",
   "execution_count": 24,
   "metadata": {},
   "outputs": [
    {
     "name": "stdout",
     "output_type": "stream",
     "text": [
      "0.5 0.847457627118644 0.9226415094339623 0.7632135306553911 0.8572537747381636\n",
      "0.51 0.847457627118644 0.9226415094339623 0.7632135306553911 0.8572537747381636\n",
      "0.52 0.847457627118644 0.9226415094339623 0.7632135306553911 0.8572537747381636\n",
      "0.53 0.847457627118644 0.9226415094339623 0.7632135306553911 0.8572537747381636\n",
      "0.54 0.847457627118644 0.9226415094339623 0.7632135306553911 0.8572537747381636\n",
      "0.55 0.847457627118644 0.9226415094339623 0.7632135306553911 0.8572537747381636\n",
      "0.56 0.847457627118644 0.9226415094339623 0.7632135306553911 0.8572537747381636\n",
      "0.5700000000000001 0.847457627118644 0.9226415094339623 0.7632135306553911 0.8572537747381636\n",
      "0.5800000000000001 0.847457627118644 0.9226415094339623 0.7632135306553911 0.8572537747381636\n",
      "0.5900000000000001 0.847457627118644 0.9226415094339623 0.7632135306553911 0.8572537747381636\n",
      "0.6000000000000001 0.847457627118644 0.9226415094339623 0.7632135306553911 0.8572537747381636\n",
      "0.6100000000000001 0.847457627118644 0.9226415094339623 0.7632135306553911 0.8572537747381636\n",
      "0.6200000000000001 0.847457627118644 0.9226415094339623 0.7632135306553911 0.8572537747381636\n",
      "0.6300000000000001 0.847457627118644 0.9226415094339623 0.7632135306553911 0.8572537747381636\n",
      "0.6400000000000001 0.847457627118644 0.9226415094339623 0.7632135306553911 0.8572537747381636\n",
      "0.6500000000000001 0.847457627118644 0.9226415094339623 0.7632135306553911 0.8572537747381636\n",
      "0.6600000000000001 0.847457627118644 0.9226415094339623 0.7632135306553911 0.8572537747381636\n",
      "0.6700000000000002 0.847457627118644 0.9226415094339623 0.7632135306553911 0.8572537747381636\n",
      "0.6800000000000002 0.847457627118644 0.9226415094339623 0.7632135306553911 0.8572537747381636\n",
      "0.6900000000000002 0.847457627118644 0.9226415094339623 0.7632135306553911 0.8572537747381636\n",
      "0.7000000000000002 0.847457627118644 0.9226415094339623 0.7632135306553911 0.8572537747381636\n",
      "0.7100000000000002 0.847457627118644 0.9226415094339623 0.7632135306553911 0.8572537747381636\n",
      "0.7200000000000002 0.847457627118644 0.9226415094339623 0.7632135306553911 0.8572537747381636\n",
      "0.7300000000000002 0.847457627118644 0.9226415094339623 0.7632135306553911 0.8572537747381636\n",
      "0.7400000000000002 0.847457627118644 0.9226415094339623 0.7632135306553911 0.8572537747381636\n",
      "0.7500000000000002 0.847457627118644 0.9226415094339623 0.7632135306553911 0.8572537747381636\n",
      "0.7600000000000002 0.847457627118644 0.9226415094339623 0.7632135306553911 0.8572537747381636\n",
      "0.7700000000000002 0.847457627118644 0.9226415094339623 0.7632135306553911 0.8572537747381636\n",
      "0.7800000000000002 0.847457627118644 0.9226415094339623 0.7632135306553911 0.8572537747381636\n",
      "0.7900000000000003 0.847457627118644 0.9226415094339623 0.7632135306553911 0.8572537747381636\n",
      "0.8000000000000003 0.847457627118644 0.9226415094339623 0.7632135306553911 0.8572537747381636\n",
      "0.8100000000000003 0.847457627118644 0.9226415094339623 0.7632135306553911 0.8572537747381636\n",
      "0.8200000000000003 0.847457627118644 0.9226415094339623 0.7632135306553911 0.8572537747381636\n",
      "0.8300000000000003 0.847457627118644 0.9226415094339623 0.7632135306553911 0.8572537747381636\n",
      "0.8400000000000003 0.847457627118644 0.9226415094339623 0.7632135306553911 0.8572537747381636\n",
      "0.8500000000000003 0.847457627118644 0.9226415094339623 0.7632135306553911 0.8572537747381636\n",
      "0.8600000000000003 0.847457627118644 0.9226415094339623 0.7632135306553911 0.8572537747381636\n",
      "0.8700000000000003 0.847457627118644 0.9226415094339623 0.7632135306553911 0.8572537747381636\n",
      "Max accuracy: 0.5 0.847457627118644\n"
     ]
    }
   ],
   "source": [
    "channels = [11, 36, 52]\n",
    "\n",
    "max_acc = {'index': 0, 'value': 0}\n",
    "for param in np.arange(0.5, 0.875, 0.01):    \n",
    "    accuracy, sensitivity, specificity, avg_accuracy = classify_nusvm_cross_valid(pp_rh_bp, pnp_rh_bp, nu, previous_channels + [channel], \n",
    "                                           verbose=False, pca_components=pca_components)    \n",
    "\n",
    "    print(param, accuracy, sensitivity, specificity, avg_accuracy)\n",
    "        \n",
    "    if accuracy > max_acc['value']:\n",
    "        max_acc['index'] = param\n",
    "        max_acc['value'] = accuracy\n",
    "\n",
    "        \n",
    "print('Max accuracy:', max_acc['index'], max_acc['value'])"
   ]
  },
  {
   "cell_type": "code",
   "execution_count": 106,
   "metadata": {},
   "outputs": [],
   "source": [
    "file.close()"
   ]
  },
  {
   "cell_type": "code",
   "execution_count": null,
   "metadata": {},
   "outputs": [],
   "source": []
  }
 ],
 "metadata": {
  "kernelspec": {
   "display_name": "Python 3",
   "language": "python",
   "name": "python3"
  },
  "language_info": {
   "codemirror_mode": {
    "name": "ipython",
    "version": 3
   },
   "file_extension": ".py",
   "mimetype": "text/x-python",
   "name": "python",
   "nbconvert_exporter": "python",
   "pygments_lexer": "ipython3",
   "version": "3.7.3"
  }
 },
 "nbformat": 4,
 "nbformat_minor": 2
}
