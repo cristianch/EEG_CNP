{
 "cells": [
  {
   "cell_type": "code",
   "execution_count": 1,
   "metadata": {},
   "outputs": [],
   "source": [
    "import numpy as np\n",
    "import scipy\n",
    "from scipy import signal\n",
    "import mne\n",
    "import glob\n",
    "from sklearn.decomposition import PCA\n",
    "import csv"
   ]
  },
  {
   "cell_type": "code",
   "execution_count": null,
   "metadata": {},
   "outputs": [],
   "source": [
    "\n"
   ]
  },
  {
   "cell_type": "markdown",
   "metadata": {},
   "source": [
    "#### Calculate the band power over a time series"
   ]
  },
  {
   "cell_type": "code",
   "execution_count": 2,
   "metadata": {},
   "outputs": [],
   "source": [
    "# Calculate the band power over a time series\n",
    "\n",
    "def bandpower(x, fs, fmin, fmax):\n",
    "    \"\"\"\n",
    "    Returns the band power over the specified frequency interval\n",
    "    \n",
    "    x - input time series (1D array)\n",
    "    fs - sampling frequency\n",
    "    fmin - min frequency\n",
    "    fmax - max frequency\n",
    "    \"\"\"\n",
    "    \n",
    "    f, Pxx = signal.periodogram(x, fs=fs)\n",
    "    ind_min = scipy.argmax(f > fmin) - 1\n",
    "    ind_max = scipy.argmax(f > fmax) - 1\n",
    "    return scipy.trapz(Pxx[ind_min: ind_max], f[ind_min: ind_max])"
   ]
  },
  {
   "cell_type": "code",
   "execution_count": null,
   "metadata": {},
   "outputs": [],
   "source": []
  },
  {
   "cell_type": "markdown",
   "metadata": {},
   "source": [
    "#### Reduce the dimensionality of an array to the specified number of components"
   ]
  },
  {
   "cell_type": "code",
   "execution_count": 3,
   "metadata": {},
   "outputs": [],
   "source": [
    "def pca(array, n_components=5, get_pca_object=False):\n",
    "    pca = PCA(n_components=n_components)\n",
    "    if not get_pca_object:\n",
    "        return pca.fit_transform(array)\n",
    "    return pca.fit_transform(array), pca"
   ]
  },
  {
   "cell_type": "code",
   "execution_count": null,
   "metadata": {},
   "outputs": [],
   "source": []
  },
  {
   "cell_type": "markdown",
   "metadata": {},
   "source": [
    "#### This will be used for logging"
   ]
  },
  {
   "cell_type": "code",
   "execution_count": 4,
   "metadata": {},
   "outputs": [],
   "source": [
    "def log_result(file, name, accuracy, patients_correct, patients_total, set_name, channels, notes):\n",
    "    \"\"\"\n",
    "    Log the result of an experiment in a csv file with the following information:\n",
    "        experiment name, accuracy (over all repetitions), number of correct patients/total number of patients, \n",
    "        dataset name, selected channels, notes\n",
    "    \"\"\"\n",
    "    writer = csv.writer(file)\n",
    "    writer.writerow([name, str(accuracy*100) + '%', ' ' + str(patients_correct) + '/' + str(patients_total), set_name, channels, notes])\n",
    "        "
   ]
  },
  {
   "cell_type": "code",
   "execution_count": null,
   "metadata": {},
   "outputs": [],
   "source": []
  },
  {
   "cell_type": "markdown",
   "metadata": {},
   "source": [
    "# Apply bandpower to datasets"
   ]
  },
  {
   "cell_type": "code",
   "execution_count": 5,
   "metadata": {},
   "outputs": [],
   "source": [
    "def get_datasets(patient_type_location, recording_type_expression):\n",
    "    \"\"\"\n",
    "    Returns relevant datasets (f.e. all right-hand recordings of patients with pain) as a list of np arrays\n",
    "    First parameter should be a regex for location, second parameter should be a regex for dataset type\n",
    "    E.g. if right-hand movement datasets of patients with pain are in /data/pp/ and their file names contain '_RH_'\n",
    "    then patient_type_location=/data/pp/ and recording_type_expression='_RH_'\n",
    "    \"\"\"\n",
    "    \n",
    "    # Find locations of matching dataset files\n",
    "    if recording_type_expression != l_new:\n",
    "        sets_locations = glob.glob(patient_type_location + recording_type_expression + suffix)\n",
    "    else:\n",
    "        # For the newer (PDP/PP) dataset we had to use a separate expression with includes the file extension\n",
    "        sets_locations = glob.glob(patient_type_location + recording_type_expression)\n",
    "    \n",
    "    sets = []\n",
    "    for path in sets_locations: \n",
    "        sets.append(mne.io.read_epochs_eeglab(path))\n",
    "        \n",
    "    return np.array(np.array([(patient._data) for patient in sets]))"
   ]
  },
  {
   "cell_type": "code",
   "execution_count": 7,
   "metadata": {},
   "outputs": [],
   "source": [
    "# Calculate bandpower for all channels for a patient\n",
    "bands = [(4, 8), (8, 13), (13, 30)]\n",
    "time_series_index = range(1250)\n",
    "\n",
    "def channels_bandpower(channels, bands, fs=250):\n",
    "    b = bandpower\n",
    "    return np.array(list(map( lambda arr: [b(arr[time_series_index], fs, band[0], band[1]) for band in bands], channels)))"
   ]
  },
  {
   "cell_type": "code",
   "execution_count": null,
   "metadata": {},
   "outputs": [],
   "source": []
  },
  {
   "cell_type": "markdown",
   "metadata": {},
   "source": [
    "#### Define dataset locations and expressions"
   ]
  },
  {
   "cell_type": "code",
   "execution_count": 8,
   "metadata": {},
   "outputs": [
    {
     "data": {
      "text/plain": [
       "['./../../../data/raw/PP\\\\PP1\\\\PP1_F1_RH_Removed_ICA.set',\n",
       " './../../../data/raw/PP\\\\PP10\\\\PP10_F1_RH_Removed_ICA.set',\n",
       " './../../../data/raw/PP\\\\PP11\\\\PP11_F1_RH_Removed_ICA.set',\n",
       " './../../../data/raw/PP\\\\PP2\\\\PP2_F1_RH_Removed_ICA.set',\n",
       " './../../../data/raw/PP\\\\PP3\\\\PP3_F1_RH_Removed_ICA.set',\n",
       " './../../../data/raw/PP\\\\PP4\\\\PP4_F1_RH_Removed_ICA.set',\n",
       " './../../../data/raw/PP\\\\PP5\\\\PP5_F1_RH_Removed_ICA.set',\n",
       " './../../../data/raw/PP\\\\PP6\\\\PP6_F1_RH_Removed_ICA.set',\n",
       " './../../../data/raw/PP\\\\PP7\\\\PP7_F1_RH_Removed_ICA.set',\n",
       " './../../../data/raw/PP\\\\PP9\\\\PP9_F1_RH_Removed_ICA.set']"
      ]
     },
     "execution_count": 8,
     "metadata": {},
     "output_type": "execute_result"
    }
   ],
   "source": [
    "root = './../../../'\n",
    "suffix = '*.set'\n",
    "\n",
    "# Old (PP/PNP datasets)\n",
    "location_healthy = root + 'data/raw/HV/*/'\n",
    "location_pain = root + 'data/raw/PP/*/'\n",
    "location_nopain = root + 'data/raw/PnP/*/'\n",
    "\n",
    "# New (PDP/PNP datasets)\n",
    "location_pwp = root + 'data_new/raw/PwP/*/'\n",
    "location_pdp = root + 'data_new/raw/PdP/*/'\n",
    "location_pnp = root + 'data_new/raw/PnP/*/'\n",
    "\n",
    "rh = '*_RH*'\n",
    "lh = '*_LH*'\n",
    "l_new = '*_L.set'   # NO SUFFIX\n",
    "l_old = '*_L_*'\n",
    "\n",
    "\n",
    "# As an example, get paths of all PP/PNP datasets from right-hand movements\n",
    "sets_healthy_rh = glob.glob(location_pain + rh + suffix)\n",
    "sets_healthy_rh"
   ]
  },
  {
   "cell_type": "markdown",
   "metadata": {},
   "source": [
    "#### Now read the chosen datasets"
   ]
  },
  {
   "cell_type": "code",
   "execution_count": 147,
   "metadata": {},
   "outputs": [
    {
     "name": "stdout",
     "output_type": "stream",
     "text": [
      "Extracting parameters from ./../../../data/raw/PP\\PP1\\PP1_F1_RH_Removed_ICA.set...\n",
      "57 matching events found\n",
      "No baseline correction applied\n",
      "Not setting metadata\n",
      "0 projection items activated\n",
      "Ready.\n",
      "Extracting parameters from ./../../../data/raw/PP\\PP10\\PP10_F1_RH_Removed_ICA.set...\n",
      "57 matching events found\n",
      "No baseline correction applied\n",
      "Not setting metadata\n",
      "0 projection items activated\n",
      "Ready.\n",
      "Extracting parameters from ./../../../data/raw/PP\\PP11\\PP11_F1_RH_Removed_ICA.set...\n",
      "59 matching events found\n",
      "No baseline correction applied\n",
      "Not setting metadata\n",
      "0 projection items activated\n",
      "Ready.\n",
      "Extracting parameters from ./../../../data/raw/PP\\PP2\\PP2_F1_RH_Removed_ICA.set...\n",
      "54 matching events found\n",
      "No baseline correction applied\n",
      "Not setting metadata\n",
      "0 projection items activated\n",
      "Ready.\n",
      "Extracting parameters from ./../../../data/raw/PP\\PP3\\PP3_F1_RH_Removed_ICA.set...\n",
      "51 matching events found\n",
      "No baseline correction applied\n",
      "Not setting metadata\n",
      "0 projection items activated\n",
      "Ready.\n",
      "Extracting parameters from ./../../../data/raw/PP\\PP4\\PP4_F1_RH_Removed_ICA.set...\n",
      "58 matching events found\n",
      "No baseline correction applied\n",
      "Not setting metadata\n",
      "0 projection items activated\n",
      "Ready.\n",
      "Extracting parameters from ./../../../data/raw/PP\\PP5\\PP5_F1_RH_Removed_ICA.set...\n",
      "56 matching events found\n",
      "No baseline correction applied\n",
      "Not setting metadata\n",
      "0 projection items activated\n",
      "Ready.\n",
      "Extracting parameters from ./../../../data/raw/PP\\PP6\\PP6_F1_RH_Removed_ICA.set...\n",
      "32 matching events found\n",
      "No baseline correction applied\n",
      "Not setting metadata\n",
      "0 projection items activated\n",
      "Ready.\n",
      "Extracting parameters from ./../../../data/raw/PP\\PP7\\PP7_F1_RH_Removed_ICA.set...\n",
      "52 matching events found\n",
      "No baseline correction applied\n",
      "Not setting metadata\n",
      "0 projection items activated\n",
      "Ready.\n",
      "Extracting parameters from ./../../../data/raw/PP\\PP9\\PP9_F1_RH_Removed_ICA.set...\n",
      "54 matching events found\n",
      "No baseline correction applied\n",
      "Not setting metadata\n",
      "0 projection items activated\n",
      "Ready.\n",
      "Extracting parameters from ./../../../data/raw/PnP\\PnP1\\PnP1_F1_RH_Removed_ICA.set...\n",
      "50 matching events found\n",
      "No baseline correction applied\n",
      "Not setting metadata\n",
      "0 projection items activated\n",
      "Ready.\n",
      "Extracting parameters from ./../../../data/raw/PnP\\PnP2\\PnP2_F1_RH_Removed_ICA.set...\n",
      "54 matching events found\n",
      "No baseline correction applied\n",
      "Not setting metadata\n",
      "0 projection items activated\n",
      "Ready.\n",
      "Extracting parameters from ./../../../data/raw/PnP\\PnP3\\PnP3_F1_RH_Removed_ICA.set...\n",
      "44 matching events found\n",
      "No baseline correction applied\n",
      "Not setting metadata\n",
      "0 projection items activated\n",
      "Ready.\n",
      "Extracting parameters from ./../../../data/raw/PnP\\PnP4\\PnP4_F1_RH_Removed_ICA.set...\n",
      "55 matching events found\n",
      "No baseline correction applied\n",
      "Not setting metadata\n",
      "0 projection items activated\n",
      "Ready.\n",
      "Extracting parameters from ./../../../data/raw/PnP\\PnP5\\PnP5_F1_RH_Removed_ICA.set...\n",
      "50 matching events found\n",
      "No baseline correction applied\n",
      "Not setting metadata\n",
      "0 projection items activated\n",
      "Ready.\n",
      "Extracting parameters from ./../../../data/raw/PnP\\PnP6\\PnP6_F1_RH_Removed_ICA.set...\n",
      "55 matching events found\n",
      "No baseline correction applied\n",
      "Not setting metadata\n",
      "0 projection items activated\n",
      "Ready.\n",
      "Extracting parameters from ./../../../data/raw/PnP\\PnP7\\PnP7_F01_RH_Removed_ICA.set...\n",
      "58 matching events found\n",
      "No baseline correction applied\n",
      "Not setting metadata\n",
      "0 projection items activated\n",
      "Ready.\n",
      "Extracting parameters from ./../../../data/raw/PnP\\PnP8\\PnP8_F1_RH_Removed_ICA.set...\n",
      "53 matching events found\n",
      "No baseline correction applied\n",
      "Not setting metadata\n",
      "0 projection items activated\n",
      "Ready.\n",
      "Extracting parameters from ./../../../data/raw/PnP\\PnP9\\PnP9_F1_RH_Removed_ICA.set...\n",
      "54 matching events found\n",
      "No baseline correction applied\n",
      "Not setting metadata\n",
      "0 projection items activated\n",
      "Ready.\n"
     ]
    }
   ],
   "source": [
    "pp_rh_raw = get_datasets(location_pain, rh)\n",
    "pnp_rh_raw = get_datasets(location_nopain, rh)"
   ]
  },
  {
   "cell_type": "code",
   "execution_count": null,
   "metadata": {},
   "outputs": [],
   "source": []
  },
  {
   "cell_type": "code",
   "execution_count": 148,
   "metadata": {},
   "outputs": [
    {
     "data": {
      "text/plain": [
       "(51, 61, 1250)"
      ]
     },
     "execution_count": 148,
     "metadata": {},
     "output_type": "execute_result"
    }
   ],
   "source": [
    "# The entry for a patient should have shape (n_repetitions, n_channels, n_readings)\n",
    "pp_rh_raw[4].shape"
   ]
  },
  {
   "cell_type": "markdown",
   "metadata": {},
   "source": [
    "#### Apply the bandpower "
   ]
  },
  {
   "cell_type": "code",
   "execution_count": 149,
   "metadata": {},
   "outputs": [],
   "source": [
    "pp_rh_bp = np.array([np.array([channels_bandpower(repetition, bands) for repetition in patient]) for patient in pp_rh_raw])\n",
    "pnp_rh_bp = np.array([np.array([channels_bandpower(repetition, bands) for repetition in patient]) for patient in pnp_rh_raw])"
   ]
  },
  {
   "cell_type": "code",
   "execution_count": 21,
   "metadata": {},
   "outputs": [
    {
     "data": {
      "text/plain": [
       "268"
      ]
     },
     "execution_count": 21,
     "metadata": {},
     "output_type": "execute_result"
    }
   ],
   "source": [
    "# Get the total number of repetitions for each class\n",
    "pp_count = np.vstack(pp_rh_bp).shape[0]\n",
    "pnp_count = np.vstack(pnp_rh_bp).shape[0]\n",
    "pnp_count"
   ]
  },
  {
   "cell_type": "code",
   "execution_count": 22,
   "metadata": {},
   "outputs": [
    {
     "data": {
      "text/plain": [
       "(5,)"
      ]
     },
     "execution_count": 22,
     "metadata": {},
     "output_type": "execute_result"
    }
   ],
   "source": [
    "pnp_rh_bp.shape"
   ]
  },
  {
   "cell_type": "markdown",
   "metadata": {},
   "source": [
    "#### Concatenate the two classes"
   ]
  },
  {
   "cell_type": "code",
   "execution_count": 23,
   "metadata": {},
   "outputs": [
    {
     "data": {
      "text/plain": [
       "(12,)"
      ]
     },
     "execution_count": 23,
     "metadata": {},
     "output_type": "execute_result"
    }
   ],
   "source": [
    "pp_and_pnp_bp = np.concatenate((pp_rh_bp, pnp_rh_bp))\n",
    "pp_and_pnp_bp.shape"
   ]
  },
  {
   "cell_type": "markdown",
   "metadata": {},
   "source": [
    "#### Set some patients aside for testing"
   ]
  },
  {
   "cell_type": "code",
   "execution_count": null,
   "metadata": {},
   "outputs": [],
   "source": []
  },
  {
   "cell_type": "code",
   "execution_count": 24,
   "metadata": {},
   "outputs": [],
   "source": [
    "def test_setup(test_index, total_size):\n",
    "    \"\"\"\n",
    "    Returns a pair consisting of boolean (True is test patient is PP) and test label\n",
    "    Labels are 1 for pain, 0 for no pain\n",
    "    \"\"\"\n",
    "    \n",
    "    test_is_pp = test_index < len(pp_rh_bp)\n",
    "    test_label = 1 if test_is_pp else 0\n",
    "    return test_is_pp, test_label\n",
    "\n",
    "\n",
    "def get_train_test(data, test_index):\n",
    "    \"\"\"\n",
    "    Splits into train and test sets based on the index of the test patient\n",
    "    Returns pair of test and train\n",
    "    \"\"\"\n",
    "    \n",
    "    return data[test_index], np.delete(data, test_index)\n",
    "\n",
    "\n",
    "def get_pp_pnp_length(pp_count, pnp_count, test_count, test_is_pp):\n",
    "    \"\"\" Returns pair of the lengths of PP train data and respectively PNP train data \"\"\"\n",
    "    \n",
    "    pp_train_len = pp_count if not test_is_pp else pp_count - test_count\n",
    "    pnp_train_len = pnp_count if test_is_pp else pnp_count - test_count\n",
    "    return pp_train_len, pnp_train_len\n",
    "\n",
    "\n",
    "def ravel_all_trials(data, channels):\n",
    "    \"\"\"\n",
    "    Ravel first dimention so that trials from all patients are treated separately; select channels\n",
    "    \"\"\"\n",
    "    return np.array(list(map(np.ravel, data[:, channels, :])))"
   ]
  },
  {
   "cell_type": "code",
   "execution_count": null,
   "metadata": {},
   "outputs": [],
   "source": []
  },
  {
   "cell_type": "code",
   "execution_count": 25,
   "metadata": {},
   "outputs": [
    {
     "data": {
      "text/plain": [
       "1"
      ]
     },
     "execution_count": 25,
     "metadata": {},
     "output_type": "execute_result"
    }
   ],
   "source": [
    "test_index = 4\n",
    "\n",
    "test_is_pp, test_label = test_setup(test_index, len(pp_rh_bp))\n",
    "test_label"
   ]
  },
  {
   "cell_type": "code",
   "execution_count": 26,
   "metadata": {},
   "outputs": [
    {
     "data": {
      "text/plain": [
       "(53, 48, 3)"
      ]
     },
     "execution_count": 26,
     "metadata": {},
     "output_type": "execute_result"
    }
   ],
   "source": [
    "test_p, train_p = get_train_test(pp_and_pnp_bp, test_index)\n",
    "test_p.shape"
   ]
  },
  {
   "cell_type": "code",
   "execution_count": 27,
   "metadata": {},
   "outputs": [
    {
     "data": {
      "text/plain": [
       "(631, 48, 3)"
      ]
     },
     "execution_count": 27,
     "metadata": {},
     "output_type": "execute_result"
    }
   ],
   "source": [
    "train_p_separated = np.vstack(train_p)\n",
    "train_p_separated.shape"
   ]
  },
  {
   "cell_type": "code",
   "execution_count": null,
   "metadata": {},
   "outputs": [],
   "source": []
  },
  {
   "cell_type": "code",
   "execution_count": 28,
   "metadata": {},
   "outputs": [
    {
     "data": {
      "text/plain": [
       "363"
      ]
     },
     "execution_count": 28,
     "metadata": {},
     "output_type": "execute_result"
    }
   ],
   "source": [
    "pp_train_len, pnp_train_len = get_pp_pnp_length(pp_count, pnp_count, len(test_p), test_is_pp)\n",
    "pp_train_len"
   ]
  },
  {
   "cell_type": "code",
   "execution_count": null,
   "metadata": {},
   "outputs": [],
   "source": []
  },
  {
   "cell_type": "markdown",
   "metadata": {},
   "source": [
    "Define a multiplier for all features - if 1, then input data is unaltered"
   ]
  },
  {
   "cell_type": "code",
   "execution_count": 29,
   "metadata": {},
   "outputs": [],
   "source": [
    "mul = 1"
   ]
  },
  {
   "cell_type": "code",
   "execution_count": 30,
   "metadata": {},
   "outputs": [],
   "source": [
    "selected_channels = [10, 11]"
   ]
  },
  {
   "cell_type": "code",
   "execution_count": 31,
   "metadata": {},
   "outputs": [
    {
     "data": {
      "text/plain": [
       "(631, 6)"
      ]
     },
     "execution_count": 31,
     "metadata": {},
     "output_type": "execute_result"
    }
   ],
   "source": [
    "train = ravel_all_trials(train_p_separated, selected_channels) * mul\n",
    "train.shape"
   ]
  },
  {
   "cell_type": "code",
   "execution_count": 32,
   "metadata": {},
   "outputs": [
    {
     "data": {
      "text/plain": [
       "(53, 6)"
      ]
     },
     "execution_count": 32,
     "metadata": {},
     "output_type": "execute_result"
    }
   ],
   "source": [
    "test = ravel_all_trials(test_p, selected_channels) * mul\n",
    "test.shape"
   ]
  },
  {
   "cell_type": "markdown",
   "metadata": {},
   "source": [
    "#### Define the number of PCA components we will use"
   ]
  },
  {
   "cell_type": "code",
   "execution_count": 33,
   "metadata": {},
   "outputs": [],
   "source": [
    "n_components = 3"
   ]
  },
  {
   "cell_type": "code",
   "execution_count": 34,
   "metadata": {},
   "outputs": [
    {
     "data": {
      "text/plain": [
       "(631, 3)"
      ]
     },
     "execution_count": 34,
     "metadata": {},
     "output_type": "execute_result"
    }
   ],
   "source": [
    "pca(train, n_components).shape"
   ]
  },
  {
   "cell_type": "markdown",
   "metadata": {},
   "source": [
    "Some analysis of the PCA components"
   ]
  },
  {
   "cell_type": "code",
   "execution_count": 35,
   "metadata": {},
   "outputs": [],
   "source": [
    "import matplotlib.pyplot as plt\n",
    "from mpl_toolkits.mplot3d import Axes3D"
   ]
  },
  {
   "cell_type": "code",
   "execution_count": 37,
   "metadata": {},
   "outputs": [
    {
     "data": {
      "text/plain": [
       "(3, 144)"
      ]
     },
     "execution_count": 37,
     "metadata": {},
     "output_type": "execute_result"
    }
   ],
   "source": [
    "channels_to_plot = list(range(61))\n",
    "\n",
    "arr_pp, components_pp = pca(ravel_all_trials(np.vstack(pp_rh_bp), channels_to_plot), n_components, get_pca_object=True)\n",
    "arr_pnp, components_pnp = pca(ravel_all_trials(np.vstack(pnp_rh_bp), channels_to_plot), n_components, get_pca_object=True)\n",
    "\n",
    "arr_all, components_all = pca(ravel_all_trials(np.vstack(np.concatenate((pp_rh_bp, pnp_rh_bp))), channels_to_plot), n_components, get_pca_object=True)\n",
    "\n",
    "components_all.components_.shape"
   ]
  },
  {
   "cell_type": "code",
   "execution_count": 38,
   "metadata": {},
   "outputs": [],
   "source": [
    "plot_mul = 10**10"
   ]
  },
  {
   "cell_type": "code",
   "execution_count": null,
   "metadata": {},
   "outputs": [],
   "source": []
  },
  {
   "cell_type": "code",
   "execution_count": 39,
   "metadata": {},
   "outputs": [
    {
     "data": {
      "text/plain": [
       "[<matplotlib.lines.Line2D at 0x27db50a93c8>]"
      ]
     },
     "execution_count": 39,
     "metadata": {},
     "output_type": "execute_result"
    },
    {
     "data": {
      "image/png": "[encoded data removed]",
      "text/plain": [
       "<Figure size 432x288 with 1 Axes>"
      ]
     },
     "metadata": {
      "needs_background": "light"
     },
     "output_type": "display_data"
    }
   ],
   "source": [
    "plt.plot(arr_pp[:,0]*plot_mul)\n",
    "plt.plot(arr_pnp[:,0]*plot_mul)"
   ]
  },
  {
   "cell_type": "code",
   "execution_count": 40,
   "metadata": {},
   "outputs": [
    {
     "data": {
      "text/plain": [
       "<matplotlib.collections.PathCollection at 0x27db5136dd8>"
      ]
     },
     "execution_count": 40,
     "metadata": {},
     "output_type": "execute_result"
    },
    {
     "data": {
      "image/png": "[encoded data removed]",
      "text/plain": [
       "<Figure size 432x288 with 1 Axes>"
      ]
     },
     "metadata": {
      "needs_background": "light"
     },
     "output_type": "display_data"
    }
   ],
   "source": [
    "plt.scatter(arr_pp[:,0]*plot_mul,arr_pp[:,1]*plot_mul)\n",
    "plt.scatter(arr_pnp[:,0]*plot_mul,arr_pnp[:,1]*plot_mul)\n",
    "#plt.xlim((-0.18, 0.1))\n",
    "#plt.ylim((-0.2, 0.2))"
   ]
  },
  {
   "cell_type": "code",
   "execution_count": 41,
   "metadata": {},
   "outputs": [
    {
     "data": {
      "text/plain": [
       "<matplotlib.collections.PathCollection at 0x27db51b84e0>"
      ]
     },
     "execution_count": 41,
     "metadata": {},
     "output_type": "execute_result"
    },
    {
     "data": {
      "image/png": "[encoded data removed]",
      "text/plain": [
       "<Figure size 432x288 with 1 Axes>"
      ]
     },
     "metadata": {
      "needs_background": "light"
     },
     "output_type": "display_data"
    }
   ],
   "source": [
    "plt.scatter(arr_pp[:,0]*plot_mul,arr_pp[:,2]*plot_mul)\n",
    "plt.scatter(arr_pnp[:,0]*plot_mul,arr_pnp[:,2]*plot_mul)\n",
    "#plt.xlim((-0.12, 0.1))\n",
    "#plt.ylim((-0.15, 0.2))"
   ]
  },
  {
   "cell_type": "code",
   "execution_count": 42,
   "metadata": {},
   "outputs": [
    {
     "data": {
      "text/plain": [
       "<matplotlib.collections.PathCollection at 0x27db5827780>"
      ]
     },
     "execution_count": 42,
     "metadata": {},
     "output_type": "execute_result"
    },
    {
     "data": {
      "image/png": "[encoded data removed]",
      "text/plain": [
       "<Figure size 432x288 with 1 Axes>"
      ]
     },
     "metadata": {
      "needs_background": "light"
     },
     "output_type": "display_data"
    }
   ],
   "source": [
    "plt.scatter(arr_pp[:,1]*plot_mul,arr_pp[:,2]*plot_mul)\n",
    "plt.scatter(arr_pnp[:,1]*plot_mul,arr_pnp[:,2]*plot_mul)\n",
    "#plt.xlim((-0.12, 0.1))\n",
    "#plt.ylim((-0.15, 0.2))"
   ]
  },
  {
   "cell_type": "code",
   "execution_count": 43,
   "metadata": {},
   "outputs": [
    {
     "data": {
      "text/plain": [
       "-0.01687760839881193"
      ]
     },
     "execution_count": 43,
     "metadata": {},
     "output_type": "execute_result"
    }
   ],
   "source": [
    "np.mean(components_pp.components_[2])"
   ]
  },
  {
   "cell_type": "code",
   "execution_count": 44,
   "metadata": {},
   "outputs": [],
   "source": [
    "plt_vmin = 0\n",
    "plt_vmax = 0.2"
   ]
  },
  {
   "cell_type": "code",
   "execution_count": 45,
   "metadata": {},
   "outputs": [
    {
     "data": {
      "text/plain": [
       "<matplotlib.image.AxesImage at 0x27db58ef5c0>"
      ]
     },
     "execution_count": 45,
     "metadata": {},
     "output_type": "execute_result"
    },
    {
     "data": {
      "image/png": "[encoded data removed]",
      "text/plain": [
       "<Figure size 1440x720 with 1 Axes>"
      ]
     },
     "metadata": {
      "needs_background": "light"
     },
     "output_type": "display_data"
    }
   ],
   "source": [
    "plt.figure(figsize=(20, 10))\n",
    "plt.xticks(channels_to_plot)\n",
    "plt.yticks([0,1,2], labels=['alpha', 'beta', 'gamma'])\n",
    "plt.imshow(np.abs([components_all.components_[0][::3], components_all.components_[0][1::3], components_all.components_[0][2::3]]), vmin=plt_vmin, vmax=plt_vmax)"
   ]
  },
  {
   "cell_type": "code",
   "execution_count": 46,
   "metadata": {},
   "outputs": [
    {
     "data": {
      "text/plain": [
       "<matplotlib.image.AxesImage at 0x27db59b7c50>"
      ]
     },
     "execution_count": 46,
     "metadata": {},
     "output_type": "execute_result"
    },
    {
     "data": {
      "image/png": "[encoded data removed]",
      "text/plain": [
       "<Figure size 1440x720 with 1 Axes>"
      ]
     },
     "metadata": {
      "needs_background": "light"
     },
     "output_type": "display_data"
    }
   ],
   "source": [
    "plt.figure(figsize=(20, 10))\n",
    "plt.xticks(channels_to_plot)\n",
    "plt.yticks([0,1,2], labels=['alpha', 'beta', 'gamma'])\n",
    "plt.imshow(np.abs([components_all.components_[1][::3], components_all.components_[1][1::3], components_all.components_[1][2::3]]), vmin=plt_vmin, vmax=plt_vmax)"
   ]
  },
  {
   "cell_type": "code",
   "execution_count": 47,
   "metadata": {},
   "outputs": [
    {
     "data": {
      "text/plain": [
       "<matplotlib.image.AxesImage at 0x27db540aba8>"
      ]
     },
     "execution_count": 47,
     "metadata": {},
     "output_type": "execute_result"
    },
    {
     "data": {
      "image/png": "[encoded data removed]",
      "text/plain": [
       "<Figure size 1440x720 with 1 Axes>"
      ]
     },
     "metadata": {
      "needs_background": "light"
     },
     "output_type": "display_data"
    }
   ],
   "source": [
    "plt.figure(figsize=(20, 10))\n",
    "plt.xticks(channels_to_plot)\n",
    "plt.yticks([0,1,2], labels=['alpha', 'beta', 'gamma'])\n",
    "plt.imshow(np.abs([components_all.components_[2][::3], components_all.components_[2][1::3], components_all.components_[2][2::3]]), vmin=plt_vmin, vmax=plt_vmax)"
   ]
  },
  {
   "cell_type": "markdown",
   "metadata": {},
   "source": [
    "#### Generate labels"
   ]
  },
  {
   "cell_type": "code",
   "execution_count": 49,
   "metadata": {},
   "outputs": [],
   "source": [
    "labels = [1] * pp_train_len + [0] * pnp_train_len\n",
    "test_labels = [test_label] * len(test)"
   ]
  },
  {
   "cell_type": "markdown",
   "metadata": {},
   "source": [
    "#### It's time to learn"
   ]
  },
  {
   "cell_type": "code",
   "execution_count": 50,
   "metadata": {},
   "outputs": [],
   "source": [
    "from sklearn import neighbors, svm\n",
    "from sklearn.model_selection import train_test_split"
   ]
  },
  {
   "cell_type": "code",
   "execution_count": 39,
   "metadata": {},
   "outputs": [
    {
     "data": {
      "text/plain": [
       "0.8333333333333334"
      ]
     },
     "execution_count": 39,
     "metadata": {},
     "output_type": "execute_result"
    }
   ],
   "source": [
    "# Try a simple KNN classification\n",
    "\n",
    "knn = neighbors.KNeighborsClassifier(n_neighbors=3)\n",
    "x_train, x_test, y_train, y_test = train_test_split(train, labels, test_size=0.05)\n",
    "knn.fit(x_train, y_train)\n",
    "knn.score(x_train, y_train)\n",
    "knn.score(x_test, y_test)"
   ]
  },
  {
   "cell_type": "code",
   "execution_count": 40,
   "metadata": {},
   "outputs": [
    {
     "data": {
      "text/plain": [
       "0.21568627450980393"
      ]
     },
     "execution_count": 40,
     "metadata": {},
     "output_type": "execute_result"
    }
   ],
   "source": [
    "knn.score(test, [test_label]*len(test))"
   ]
  },
  {
   "cell_type": "code",
   "execution_count": 41,
   "metadata": {},
   "outputs": [
    {
     "data": {
      "text/plain": [
       "0.21568627450980393"
      ]
     },
     "execution_count": 41,
     "metadata": {},
     "output_type": "execute_result"
    }
   ],
   "source": [
    "np.count_nonzero(knn.predict(test) == test_labels)/len(test)"
   ]
  },
  {
   "cell_type": "markdown",
   "metadata": {},
   "source": [
    "## Classification with cross validation"
   ]
  },
  {
   "cell_type": "markdown",
   "metadata": {},
   "source": [
    "### KNN"
   ]
  },
  {
   "cell_type": "code",
   "execution_count": 283,
   "metadata": {},
   "outputs": [],
   "source": [
    "def classify_knn_with_xvalid(data_pp_bp, data_pnp_bp, n_neighbours, selected_channels, test_index, mul, verbose=True):\n",
    "    \"\"\"\n",
    "    Leaves out patient at test_index and trains a KNN classifier on all other patients\n",
    "    Validates classifier on patient at test_index\n",
    "    Returns accuracy over all repetitions for the test patient\n",
    "    \"\"\"\n",
    "    \n",
    "    data_bp = np.concatenate((data_pp_bp, data_pnp_bp))\n",
    "    \n",
    "    test_is_pp, test_label = test_setup(test_index, len(data_pp_bp))\n",
    "    test_p, train_p = get_train_test(data_bp, test_index)\n",
    "    train_p_separated = np.vstack(train_p)\n",
    "    pp_train_len, pnp_train_len = get_pp_pnp_length(pp_count, pnp_count, len(test_p), test_is_pp)\n",
    "    \n",
    "    # Apply PCA for dimensionality reduction as defined above\n",
    "    train = pca(ravel_all_trials(train_p_separated, selected_channels)[:, 1::3] * mul, n_components=n_components)\n",
    "    test = pca(ravel_all_trials(test_p, selected_channels)[:, 1::3] * mul, n_components=n_components)\n",
    "    \n",
    "    labels = [1] * pp_train_len + [0] * pnp_train_len\n",
    "    test_labels = [test_label] * len(test)\n",
    "    \n",
    "    if verbose:\n",
    "        print('Test index', test_index, 'Testing on patient with', len(test), 'repetitions.')\n",
    "    \n",
    "    clas = neighbors.KNeighborsClassifier(n_neighbors=n_neighbours)\n",
    "    clas.fit(train, labels)\n",
    "    train_acc = clas.score(train, labels)\n",
    "    test_acc = clas.score(test, test_labels)\n",
    "    \n",
    "    if verbose:\n",
    "        print('Train score:', train_acc, '  Test score:', test_acc)\n",
    "    \n",
    "    return test_acc\n",
    "    \n",
    "    "
   ]
  },
  {
   "cell_type": "code",
   "execution_count": 284,
   "metadata": {},
   "outputs": [
    {
     "name": "stdout",
     "output_type": "stream",
     "text": [
      "Test index 2 Testing on patient with 59 repetitions.\n",
      "Train score: 0.736228813559322   Test score: 0.5254237288135594\n"
     ]
    },
    {
     "data": {
      "text/plain": [
       "0.5254237288135594"
      ]
     },
     "execution_count": 284,
     "metadata": {},
     "output_type": "execute_result"
    }
   ],
   "source": [
    "classify_knn_with_xvalid(pp_rh_bp, pnp_rh_bp, 23, [36, 38], 2, 10000000000000)"
   ]
  },
  {
   "cell_type": "markdown",
   "metadata": {},
   "source": [
    "#### Cross validate over the whole dataset"
   ]
  },
  {
   "cell_type": "code",
   "execution_count": 288,
   "metadata": {},
   "outputs": [
    {
     "name": "stdout",
     "output_type": "stream",
     "text": [
      "Test index 0 Testing on patient with 57 repetitions.\n",
      "Train score: 0.7029598308668076   Test score: 1.0\n",
      "Test index 1 Testing on patient with 57 repetitions.\n",
      "Train score: 0.718816067653277   Test score: 1.0\n",
      "Test index 2 Testing on patient with 59 repetitions.\n",
      "Train score: 0.6949152542372882   Test score: 0.4745762711864407\n",
      "Test index 3 Testing on patient with 54 repetitions.\n",
      "Train score: 0.702845100105374   Test score: 1.0\n",
      "Test index 4 Testing on patient with 51 repetitions.\n",
      "Train score: 0.7478991596638656   Test score: 1.0\n",
      "Test index 5 Testing on patient with 58 repetitions.\n",
      "Train score: 0.6984126984126984   Test score: 0.9827586206896551\n",
      "Test index 6 Testing on patient with 56 repetitions.\n",
      "Train score: 0.7243928194297783   Test score: 1.0\n",
      "Test index 7 Testing on patient with 32 repetitions.\n",
      "Train score: 0.733264675592173   Test score: 1.0\n",
      "Test index 8 Testing on patient with 52 repetitions.\n",
      "Train score: 0.6992639327024185   Test score: 1.0\n",
      "Test index 9 Testing on patient with 54 repetitions.\n",
      "Train score: 0.6996838777660696   Test score: 1.0\n",
      "Test index 10 Testing on patient with 50 repetitions.\n",
      "Train score: 0.7345225603357818   Test score: 0.0\n",
      "Test index 11 Testing on patient with 54 repetitions.\n",
      "Train score: 0.7281348788198103   Test score: 0.0\n",
      "Test index 12 Testing on patient with 44 repetitions.\n",
      "Train score: 0.7111574556830031   Test score: 0.0\n",
      "Test index 13 Testing on patient with 55 repetitions.\n",
      "Train score: 0.7447257383966245   Test score: 0.0\n",
      "Test index 14 Testing on patient with 50 repetitions.\n",
      "Train score: 0.7082896117523609   Test score: 0.0\n",
      "Test index 15 Testing on patient with 55 repetitions.\n",
      "Train score: 0.6993670886075949   Test score: 0.0\n",
      "Test index 16 Testing on patient with 58 repetitions.\n",
      "Train score: 0.6984126984126984   Test score: 0.0\n",
      "Test index 17 Testing on patient with 53 repetitions.\n",
      "Train score: 0.7   Test score: 0.0\n",
      "Test index 18 Testing on patient with 54 repetitions.\n",
      "Train score: 0.743940990516333   Test score: 0.0\n",
      "Overall accuracy 0.4977544679934787\n",
      "Correctly labeled 9 out of 19\n"
     ]
    }
   ],
   "source": [
    "total_score = 0\n",
    "patients_correct = 0\n",
    "for i in range(len(pp_and_pnp_bp)):\n",
    "    score = classify_knn_with_xvalid(pp_rh_bp, pnp_rh_bp, 111, [36, 38, 52, 53, 54], i, mul)\n",
    "    total_score += score\n",
    "    if score > 0.5:\n",
    "        patients_correct += 1\n",
    "    \n",
    "print('Overall accuracy', total_score/len(pp_and_pnp_bp))\n",
    "print('Correctly labeled', patients_correct, 'out of', len(pp_and_pnp_bp))"
   ]
  },
  {
   "cell_type": "markdown",
   "metadata": {},
   "source": [
    "#### Cross validate over multiple channels\n",
    "\n",
    "We use this to check which channels yield better results"
   ]
  },
  {
   "cell_type": "code",
   "execution_count": 78,
   "metadata": {},
   "outputs": [
    {
     "name": "stdout",
     "output_type": "stream",
     "text": [
      "0 0.43420301373444276 4\n",
      "1 0.3940722792469556 6\n",
      "2 0.4839876033874894 10\n",
      "3 0.43574237659561116 9\n",
      "4 0.4175584036193553 8\n",
      "5 0.4211539121757564 8\n",
      "6 0.40926323103658424 8\n",
      "7 0.42670350660701134 8\n",
      "8 0.4898770266642892 11\n",
      "9 0.42741570612095087 8\n",
      "10 0.4269108187798073 8\n",
      "11 0.4446211972808326 8\n",
      "12 0.43944660624654075 10\n",
      "13 0.4369341860318163 9\n",
      "14 0.42801395997353064 7\n",
      "15 0.4238064229931583 8\n",
      "16 0.4348907421590404 9\n",
      "17 0.46892721052628994 11\n",
      "18 0.44173993113197807 9\n",
      "19 0.4193551351745775 9\n",
      "20 0.41678713337638557 8\n",
      "21 0.4058881813414496 7\n",
      "22 0.4222684956064862 9\n",
      "23 0.41460126184117396 8\n",
      "24 0.42073875367182284 9\n",
      "25 0.4603265204875383 5\n",
      "26 0.476384859495798 9\n",
      "27 0.4049864591960903 9\n",
      "28 0.41530172792174724 10\n",
      "29 0.4075430221114767 8\n",
      "30 0.43180377311706125 9\n",
      "31 0.448729877189854 8\n",
      "32 0.41945741447795504 7\n",
      "33 0.4410620639655514 9\n",
      "34 0.4395477580724258 8\n",
      "35 0.4291558694505733 8\n",
      "36 0.4819196244493854 9\n",
      "37 0.45269399678915423 9\n",
      "38 0.453800635610774 9\n",
      "39 0.4174689180255331 8\n",
      "40 0.4357220417069145 8\n",
      "41 0.38568047197122385 8\n",
      "42 0.41194410782698887 7\n",
      "43 0.43113072626144644 7\n",
      "44 0.4897276131152853 10\n",
      "45 0.3741735916285936 7\n",
      "46 0.42183063837015916 8\n",
      "47 0.41036240032264193 9\n",
      "48 0.40318809490982055 7\n",
      "49 0.4185107872203429 9\n",
      "50 0.404788656074211 8\n",
      "51 0.3982739244806753 9\n",
      "52 0.48415031806756526 10\n",
      "53 0.4462076072277944 9\n",
      "54 0.46003553582776524 10\n",
      "55 0.42572415255724816 8\n",
      "56 0.429148074163193 6\n",
      "57 0.42068726925547284 8\n",
      "58 0.4377958706734124 10\n",
      "59 0.4555039962975325 7\n",
      "60 0.4459556433349326 4\n",
      "Max accuracy: 8 0.4898770266642892\n"
     ]
    }
   ],
   "source": [
    "# Log results in a csv file\n",
    "file = open('all_results/bandpower_pca_knn_results.csv', 'a', newline='')\n",
    "name = 'Bandpower + PCA + KNN'\n",
    "notes = 'freq bands 4-8,8-13,13-30, k='\n",
    "notes_c = ', n_components='\n",
    "\n",
    "previous_channels = []\n",
    "k = 19\n",
    "\n",
    "max_acc = {'index': 0, 'value': 0}\n",
    "for channel in range(61):    \n",
    "    total_score = 0\n",
    "    correct_patients = 0\n",
    "    for i in range(len(pp_and_pnp_bp)):\n",
    "        score = classify_knn_with_xvalid(pp_rh_bp, pnp_rh_bp, k, previous_channels + [channel], i, mul, verbose=False)\n",
    "        total_score += score\n",
    "        if score > 0.5:\n",
    "            correct_patients += 1\n",
    "        \n",
    "    avg_score = total_score/len(pp_and_pnp_bp)\n",
    "    print(channel, avg_score, correct_patients)\n",
    "    \n",
    "    log_result(file, name, avg_score, correct_patients, len(pp_and_pnp_bp), 'RH', str(previous_channels + [channel]), notes + str(k) + notes_c + str(n_components))\n",
    "    \n",
    "    if avg_score > max_acc['value']:\n",
    "        max_acc['index'] = channel\n",
    "        max_acc['value'] = avg_score\n",
    "        \n",
    "file.close()\n",
    "        \n",
    "print('Max accuracy:', max_acc['index'], max_acc['value'])"
   ]
  },
  {
   "cell_type": "markdown",
   "metadata": {},
   "source": [
    "### Cross validate over multiple n_neighbours"
   ]
  },
  {
   "cell_type": "code",
   "execution_count": 96,
   "metadata": {},
   "outputs": [
    {
     "name": "stdout",
     "output_type": "stream",
     "text": [
      "1 0.5136758819146736 9\n",
      "6 0.4785311886755917 9\n",
      "11 0.48965425136444224 11\n",
      "16 0.4937298620472069 11\n",
      "21 0.49126711494484204 11\n",
      "26 0.48407435339847965 11\n",
      "31 0.4875966262529175 11\n",
      "36 0.48109807174234204 11\n",
      "41 0.4801769571049895 11\n",
      "46 0.4696324291032629 10\n",
      "51 0.4712037660398563 11\n",
      "56 0.47144413406415764 10\n",
      "61 0.4683555016129158 10\n",
      "66 0.46640973578171946 11\n",
      "71 0.46275900828654204 10\n",
      "76 0.46201038866523786 10\n",
      "81 0.4598490609795047 10\n",
      "86 0.4640143091453645 10\n",
      "91 0.46357357234919744 10\n",
      "96 0.4736341906312313 10\n",
      "Max accuracy: 1 0.5136758819146736\n"
     ]
    }
   ],
   "source": [
    "file = open('all_results/bandpower_pca_knn_results.csv', 'a', newline='')\n",
    "name = 'Bandpower + PCA + KNN'\n",
    "notes = 'freq bands 4-8,8-13,13-30, k='\n",
    "notes_c = ', n_components='\n",
    "\n",
    "channels = [8]\n",
    "\n",
    "max_acc = {'index': 0, 'value': 0}\n",
    "for n_neighbours in range(1, 100, 5):    \n",
    "    total_score = 0\n",
    "    correct_patients = 0\n",
    "    for i in range(len(pp_and_pnp_bp)):\n",
    "        score = classify_knn_with_xvalid(pp_rh_bp, pnp_rh_bp, n_neighbours, channels, i, mul, verbose=False)\n",
    "        total_score += score\n",
    "        if score > 0.5:\n",
    "            correct_patients += 1\n",
    "        \n",
    "    avg_score = total_score/len(pp_and_pnp_bp)\n",
    "    print(n_neighbours, avg_score, correct_patients)\n",
    "    \n",
    "    log_result(file, name, avg_score, correct_patients, len(pp_and_pnp_bp), 'RH', str(channels), notes + str(n_neighbours) + notes_c + str(n_components))\n",
    "    \n",
    "    if avg_score > max_acc['value']:\n",
    "        max_acc['index'] = n_neighbours\n",
    "        max_acc['value'] = avg_score\n",
    "        \n",
    "file.close()\n",
    "        \n",
    "print('Max accuracy:', max_acc['index'], max_acc['value'])"
   ]
  },
  {
   "cell_type": "code",
   "execution_count": null,
   "metadata": {},
   "outputs": [],
   "source": []
  },
  {
   "cell_type": "markdown",
   "metadata": {},
   "source": [
    "## SVM"
   ]
  },
  {
   "cell_type": "code",
   "execution_count": 51,
   "metadata": {},
   "outputs": [],
   "source": [
    "import warnings\n",
    "warnings.filterwarnings('ignore')"
   ]
  },
  {
   "cell_type": "code",
   "execution_count": 52,
   "metadata": {},
   "outputs": [],
   "source": [
    "pca_components = 3"
   ]
  },
  {
   "cell_type": "code",
   "execution_count": 53,
   "metadata": {},
   "outputs": [],
   "source": [
    "def classify_nusvm_with_xvalid(data_pp_bp, data_pnp_bp, nu, selected_channels, test_index, mul, verbose=True):\n",
    "    \"\"\"\n",
    "    Leaves out patient at test_index and trains a linear SVM classifier on all other patients\n",
    "    Validates classifier on patient at test_index\n",
    "    Returns accuracy over all repetitions for the test patient\n",
    "    \"\"\"\n",
    "    \n",
    "    data_bp = np.concatenate((data_pp_bp, data_pnp_bp))\n",
    "    \n",
    "    test_is_pp, test_label = test_setup(test_index, len(data_pp_bp))\n",
    "    test_p, train_p = get_train_test(data_bp, test_index)\n",
    "    train_p_separated = np.vstack(train_p)\n",
    "    pp_train_len, pnp_train_len = get_pp_pnp_length(pp_count, pnp_count, len(test_p), test_is_pp)\n",
    "    \n",
    "    train = pca(ravel_all_trials(train_p_separated, selected_channels) * mul, n_components=pca_components)\n",
    "    test = pca(ravel_all_trials(test_p, selected_channels) * mul, n_components=pca_components)\n",
    "    \n",
    "    labels = [1] * pp_train_len + [0] * pnp_train_len\n",
    "    test_labels = [test_label] * len(test)\n",
    "    \n",
    "    if verbose:\n",
    "        print('Test index', test_index, 'Preparing to classify set of', pp_train_len, 'PP and', pnp_train_len, 'PNP.')\n",
    "    \n",
    "    clas = svm.NuSVC(nu=nu, kernel='linear')\n",
    "    clas.fit(train, labels)\n",
    "    train_acc = clas.score(train, labels)\n",
    "    test_acc = clas.score(test, test_labels)\n",
    "    \n",
    "    if verbose:\n",
    "        print('Train score:', train_acc, '  Test score:', test_acc)\n",
    "    \n",
    "    return test_acc\n",
    "    "
   ]
  },
  {
   "cell_type": "code",
   "execution_count": 104,
   "metadata": {},
   "outputs": [
    {
     "name": "stdout",
     "output_type": "stream",
     "text": [
      "Test index 0 Preparing to classify set of 351 PP and 268 PNP.\n",
      "Train score: 0.529886914378029   Test score: 0.8615384615384616\n",
      "Test index 1 Preparing to classify set of 345 PP and 268 PNP.\n",
      "Train score: 0.5220228384991843   Test score: 0.5352112676056338\n",
      "Test index 2 Preparing to classify set of 365 PP and 268 PNP.\n",
      "Train score: 0.5118483412322274   Test score: 1.0\n",
      "Test index 3 Preparing to classify set of 356 PP and 268 PNP.\n",
      "Train score: 0.5128205128205128   Test score: 1.0\n",
      "Test index 4 Preparing to classify set of 363 PP and 268 PNP.\n",
      "Train score: 0.4960380348652932   Test score: 1.0\n",
      "Test index 5 Preparing to classify set of 360 PP and 268 PNP.\n",
      "Train score: 0.5573248407643312   Test score: 1.0\n",
      "Test index 6 Preparing to classify set of 356 PP and 268 PNP.\n",
      "Train score: 0.5560897435897436   Test score: 1.0\n",
      "Test index 7 Preparing to classify set of 416 PP and 214 PNP.\n",
      "Train score: 0.4126984126984127   Test score: 1.0\n",
      "Test index 8 Preparing to classify set of 416 PP and 220 PNP.\n",
      "Train score: 0.4386792452830189   Test score: 1.0\n",
      "Test index 9 Preparing to classify set of 416 PP and 211 PNP.\n",
      "Train score: 0.4784688995215311   Test score: 0.9473684210526315\n",
      "Test index 10 Preparing to classify set of 416 PP and 216 PNP.\n",
      "Train score: 0.43670886075949367   Test score: 0.8269230769230769\n",
      "Test index 11 Preparing to classify set of 416 PP and 211 PNP.\n",
      "Train score: 0.5725677830940988   Test score: 0.6140350877192983\n",
      "0.8987563595699251\n",
      "Correctly labeled 12 out of 12\n"
     ]
    }
   ],
   "source": [
    "total_score = 0\n",
    "patients_correct = 0\n",
    "for i in range(len(pp_and_pnp_bp)):\n",
    "    score = classify_nusvm_with_xvalid(pp_rh_bp, pnp_rh_bp, 0.6022, [0, 3, 7, 13, 13, 13, 18, 20, 22, 24, 29, 30, 35, 46], i, mul)\n",
    "    total_score += score\n",
    "    if score > 0.5:\n",
    "        patients_correct += 1\n",
    "    \n",
    "\n",
    "print(total_score/len(pp_and_pnp_bp))\n",
    "print('Correctly labeled', patients_correct, 'out of', len(pp_and_pnp_bp))"
   ]
  },
  {
   "cell_type": "code",
   "execution_count": 119,
   "metadata": {},
   "outputs": [],
   "source": [
    "mul = 10**0"
   ]
  },
  {
   "cell_type": "code",
   "execution_count": 146,
   "metadata": {},
   "outputs": [
    {
     "name": "stdout",
     "output_type": "stream",
     "text": [
      "0 0.8720395645285542 11\n",
      "1 0.8707877946943924 10\n",
      "2 0.8298685952874241 10\n",
      "3 0.789417612286404 11\n",
      "4 0.8805883433755931 12\n",
      "5 0.8835123199837801 12\n",
      "6 0.8835123199837801 12\n",
      "7 0.8715648818688106 11\n",
      "8 0.48698434421192016 6\n",
      "9 0.41448397990280866 5\n",
      "10 0.8637293848561453 11\n",
      "11 0.8835123199837801 12\n",
      "12 0.8835123199837801 12\n",
      "13 0.8835123199837801 12\n",
      "14 0.8711682601230414 12\n",
      "15 0.5734513601681003 7\n",
      "16 0.7009694186260161 8\n",
      "17 0.8514666097189099 11\n",
      "18 0.8760018500567055 11\n",
      "19 0.8835123199837801 12\n",
      "20 0.8835123199837801 12\n",
      "21 0.8835123199837801 12\n",
      "22 0.8791263550714995 12\n",
      "23 0.8704627676088017 12\n",
      "24 0.8652809456830955 11\n",
      "25 0.8836206623456437 12\n",
      "26 0.8811649021434046 12\n",
      "27 0.8835123199837801 12\n",
      "28 0.8835123199837801 12\n",
      "29 0.8835123199837801 12\n",
      "30 0.8835123199837801 12\n",
      "31 0.8833323829617378 12\n",
      "32 0.8642181926466582 11\n",
      "33 0.8656801809507518 11\n",
      "34 0.8846860289039681 12\n",
      "35 0.8846860289039681 12\n",
      "36 0.8835123199837801 12\n",
      "37 0.8835123199837801 12\n",
      "38 0.8835123199837801 12\n",
      "39 0.8659684603346575 11\n",
      "40 0.7187571860205183 9\n",
      "41 0.8870334467443436 12\n",
      "42 0.8835123199837801 12\n",
      "43 0.8849743082878737 12\n",
      "44 0.8659684603346575 11\n",
      "45 0.8635127001324184 11\n",
      "46 0.8825185480856348 12\n",
      "47 0.859919848268516 12\n",
      "Max accuracy: 41 0.8870334467443436\n"
     ]
    }
   ],
   "source": [
    "file = open('all_results/bandpower_pca_svm_pdp_results.csv', 'a', newline='')\n",
    "n_components = pca_components\n",
    "name = 'Bandpower + PCA + SVM'\n",
    "notes = 'freq bands 4-8,8-13,13-30, nu='\n",
    "notes_c = ', n_components='\n",
    "\n",
    "previous_channels=[0, 3, 7, 13, 13, 13, 18, 20, 22, 24, 29, 30, 35, 41, 46]\n",
    "nu = 0.602\n",
    "\n",
    "max_acc = {'index': 0, 'value': 0}\n",
    "for channel in range(61):    \n",
    "    total_score = 0\n",
    "    correct_patients = 0\n",
    "    for i in range(len(pp_and_pnp_bp)):\n",
    "        score = classify_nusvm_with_xvalid(pp_rh_bp, pnp_rh_bp, nu, previous_channels + [channel], i, mul, verbose=False)\n",
    "        total_score += score\n",
    "        if score > 0.5:\n",
    "            correct_patients += 1\n",
    "        \n",
    "    avg_score = total_score/len(pp_and_pnp_bp)\n",
    "    print(channel, avg_score, correct_patients)\n",
    "    \n",
    "    log_result(file, name, avg_score, correct_patients, len(pp_and_pnp_bp), 'RH', str(previous_channels + [channel]), notes + str(nu) + notes_c + str(n_components))\n",
    "    \n",
    "    if avg_score > max_acc['value']:\n",
    "        max_acc['index'] = channel\n",
    "        max_acc['value'] = avg_score\n",
    "        \n",
    "\n",
    "file.close()\n",
    "        \n",
    "print('Max accuracy:', max_acc['index'], max_acc['value'])"
   ]
  },
  {
   "cell_type": "code",
   "execution_count": null,
   "metadata": {},
   "outputs": [],
   "source": []
  },
  {
   "cell_type": "markdown",
   "metadata": {},
   "source": [
    "#### Cross validate over multiple nu values"
   ]
  },
  {
   "cell_type": "code",
   "execution_count": 132,
   "metadata": {},
   "outputs": [
    {
     "name": "stdout",
     "output_type": "stream",
     "text": [
      "0.4 0.8889076587278959 11\n",
      "0.4001 0.8889076587278959 11\n",
      "0.4002 0.8889076587278959 11\n",
      "0.4003 0.8889076587278959 11\n",
      "0.4004 0.8889076587278959 11\n",
      "0.40049999999999997 0.8889076587278959 11\n",
      "0.40059999999999996 0.8889076587278959 11\n",
      "0.40069999999999995 0.8901897100099472 11\n",
      "0.40079999999999993 0.8901897100099472 11\n",
      "0.4008999999999999 0.8901897100099472 11\n",
      "0.4009999999999999 0.8901897100099472 11\n",
      "0.4010999999999999 0.8068563766766138 10\n",
      "0.4011999999999999 0.8068563766766138 10\n",
      "0.4012999999999999 0.8068563766766138 10\n",
      "0.40139999999999987 0.8068563766766138 10\n",
      "0.40149999999999986 0.8068563766766138 10\n",
      "0.40159999999999985 0.7235230433432805 9\n",
      "0.40169999999999983 0.7235230433432805 9\n",
      "0.4017999999999998 0.7235230433432805 9\n",
      "0.4018999999999998 0.7235230433432805 9\n",
      "0.4019999999999998 0.7264470199514675 9\n",
      "Max accuracy: 0.40069999999999995 0.8901897100099472\n"
     ]
    }
   ],
   "source": [
    "file = open('all_results/bandpower_pca_svm_pdp_results.csv', 'a', newline='')\n",
    "n_components = pca_components\n",
    "name = 'Bandpower + PCA + SVM'\n",
    "notes = 'freq bands 4-8,8-13,13-30 nu='\n",
    "notes_c = ', n_components='\n",
    "\n",
    "channels = [12, 14, 14, 22, 22, 41, 47]\n",
    "\n",
    "max_acc = {'index': 0, 'value': 0}\n",
    "for param in np.arange(0.400, 0.402, 0.0001):    \n",
    "    total_score = 0\n",
    "    correct_patients = 0\n",
    "    for i in range(len(pp_and_pnp_bp)):\n",
    "        score = classify_nusvm_with_xvalid(pp_rh_bp, pnp_rh_bp, param, channels, i, mul, verbose=False)\n",
    "        total_score += score\n",
    "        if score > 0.5:\n",
    "            correct_patients += 1\n",
    "        \n",
    "    avg_score = total_score/len(pp_and_pnp_bp)\n",
    "    print(param, avg_score, correct_patients)\n",
    "    \n",
    "    log_result(file, name, avg_score, correct_patients, len(pp_and_pnp_bp), 'RH', str(channels), notes + str(param) + notes_c + str(n_components))\n",
    "    \n",
    "    if avg_score > max_acc['value']:\n",
    "        max_acc['index'] = param\n",
    "        max_acc['value'] = avg_score\n",
    "\n",
    "file.close()\n",
    "        \n",
    "print('Max accuracy:', max_acc['index'], max_acc['value'])"
   ]
  },
  {
   "cell_type": "code",
   "execution_count": 100,
   "metadata": {},
   "outputs": [],
   "source": [
    "file.close()"
   ]
  },
  {
   "cell_type": "code",
   "execution_count": null,
   "metadata": {},
   "outputs": [],
   "source": []
  }
 ],
 "metadata": {
  "kernelspec": {
   "display_name": "Python 3",
   "language": "python",
   "name": "python3"
  },
  "language_info": {
   "codemirror_mode": {
    "name": "ipython",
    "version": 3
   },
   "file_extension": ".py",
   "mimetype": "text/x-python",
   "name": "python",
   "nbconvert_exporter": "python",
   "pygments_lexer": "ipython3",
   "version": "3.7.3"
  }
 },
 "nbformat": 4,
 "nbformat_minor": 2
}
