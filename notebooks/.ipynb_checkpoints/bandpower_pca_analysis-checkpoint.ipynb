{
 "cells": [
  {
   "cell_type": "code",
   "execution_count": 1,
   "metadata": {},
   "outputs": [],
   "source": [
    "import numpy as np\n",
    "import scipy\n",
    "from scipy import signal\n",
    "import mne\n",
    "import glob\n",
    "from sklearn.decomposition import PCA\n",
    "import csv"
   ]
  },
  {
   "cell_type": "code",
   "execution_count": null,
   "metadata": {},
   "outputs": [],
   "source": [
    "\n"
   ]
  },
  {
   "cell_type": "markdown",
   "metadata": {},
   "source": [
    "#### Calculate the band power over a time series"
   ]
  },
  {
   "cell_type": "code",
   "execution_count": 2,
   "metadata": {},
   "outputs": [],
   "source": [
    "# Calculate the band power over a time series\n",
    "\n",
    "def bandpower(x, fs, fmin, fmax):\n",
    "    \"\"\"\n",
    "    Returns the band power over the specified frequency interval\n",
    "    \n",
    "    x - input time series (1D array)\n",
    "    fs - sampling frequency\n",
    "    fmin - min frequency\n",
    "    fmax - max frequency\n",
    "    \"\"\"\n",
    "    \n",
    "    f, Pxx = signal.periodogram(x, fs=fs)\n",
    "    ind_min = scipy.argmax(f > fmin) - 1\n",
    "    ind_max = scipy.argmax(f > fmax) - 1\n",
    "    return scipy.trapz(Pxx[ind_min: ind_max], f[ind_min: ind_max])"
   ]
  },
  {
   "cell_type": "code",
   "execution_count": null,
   "metadata": {},
   "outputs": [],
   "source": []
  },
  {
   "cell_type": "markdown",
   "metadata": {},
   "source": [
    "#### Reduce the dimensionality of an array to the specified number of components"
   ]
  },
  {
   "cell_type": "code",
   "execution_count": 3,
   "metadata": {},
   "outputs": [],
   "source": [
    "def pca(array, n_components=5, get_pca_object=False):\n",
    "    pca = PCA(n_components=n_components)\n",
    "    if not get_pca_object:\n",
    "        return pca.fit_transform(array)\n",
    "    return pca.fit_transform(array), pca"
   ]
  },
  {
   "cell_type": "code",
   "execution_count": null,
   "metadata": {},
   "outputs": [],
   "source": []
  },
  {
   "cell_type": "markdown",
   "metadata": {},
   "source": [
    "#### This will be used for logging"
   ]
  },
  {
   "cell_type": "code",
   "execution_count": 4,
   "metadata": {},
   "outputs": [],
   "source": [
    "def log_result(file, name, accuracy, patients_correct, patients_total, set_name, channels, notes):\n",
    "    \"\"\"\n",
    "    Log the result of an experiment in a csv file with the following information:\n",
    "        experiment name, accuracy (over all repetitions), number of correct patients/total number of patients, \n",
    "        dataset name, selected channels, notes\n",
    "    \"\"\"\n",
    "    writer = csv.writer(file)\n",
    "    writer.writerow([name, str(accuracy*100) + '%', ' ' + str(patients_correct) + '/' + str(patients_total), set_name, channels, notes])\n",
    "        "
   ]
  },
  {
   "cell_type": "code",
   "execution_count": null,
   "metadata": {},
   "outputs": [],
   "source": []
  },
  {
   "cell_type": "markdown",
   "metadata": {},
   "source": [
    "# Apply bandpower to datasets"
   ]
  },
  {
   "cell_type": "code",
   "execution_count": 5,
   "metadata": {},
   "outputs": [],
   "source": [
    "def get_datasets(patient_type_location, recording_type_expression):\n",
    "    \"\"\"\n",
    "    Returns relevant datasets (f.e. all right-hand recordings of patients with pain) as a list of np arrays\n",
    "    First parameter should be a regex for location, second parameter should be a regex for dataset type\n",
    "    E.g. if right-hand movement datasets of patients with pain are in /data/pp/ and their file names contain '_RH_'\n",
    "    then patient_type_location=/data/pp/ and recording_type_expression='_RH_'\n",
    "    \"\"\"\n",
    "    \n",
    "    # Find locations of matching dataset files\n",
    "    if recording_type_expression != l_new:\n",
    "        sets_locations = glob.glob(patient_type_location + recording_type_expression + suffix)\n",
    "    else:\n",
    "        # For the newer (PDP/PP) dataset we had to use a separate expression with includes the file extension\n",
    "        sets_locations = glob.glob(patient_type_location + recording_type_expression)\n",
    "    \n",
    "    sets = []\n",
    "    for path in sets_locations: \n",
    "        sets.append(mne.io.read_epochs_eeglab(path))\n",
    "        \n",
    "    return np.array(np.array([(patient._data) for patient in sets]))"
   ]
  },
  {
   "cell_type": "code",
   "execution_count": 6,
   "metadata": {},
   "outputs": [],
   "source": [
    "# Calculate bandpower for all channels for a patient\n",
    "bands = [(4, 8), (8, 13), (13, 30)]\n",
    "time_series_index = range(1250)[0:1250]\n",
    "\n",
    "def channels_bandpower(channels, bands, fs=250):\n",
    "    b = bandpower\n",
    "    return np.array(list(map( lambda arr: [b(arr[time_series_index], fs, band[0], band[1]) for band in bands], channels)))"
   ]
  },
  {
   "cell_type": "code",
   "execution_count": null,
   "metadata": {},
   "outputs": [],
   "source": []
  },
  {
   "cell_type": "markdown",
   "metadata": {},
   "source": [
    "#### Define dataset locations and expressions"
   ]
  },
  {
   "cell_type": "code",
   "execution_count": 7,
   "metadata": {},
   "outputs": [
    {
     "data": {
      "text/plain": [
       "['./../../../data/raw/PP\\\\PP1\\\\PP1_F1_RH_Removed_ICA.set',\n",
       " './../../../data/raw/PP\\\\PP10\\\\PP10_F1_RH_Removed_ICA.set',\n",
       " './../../../data/raw/PP\\\\PP11\\\\PP11_F1_RH_Removed_ICA.set',\n",
       " './../../../data/raw/PP\\\\PP2\\\\PP2_F1_RH_Removed_ICA.set',\n",
       " './../../../data/raw/PP\\\\PP3\\\\PP3_F1_RH_Removed_ICA.set',\n",
       " './../../../data/raw/PP\\\\PP4\\\\PP4_F1_RH_Removed_ICA.set',\n",
       " './../../../data/raw/PP\\\\PP5\\\\PP5_F1_RH_Removed_ICA.set',\n",
       " './../../../data/raw/PP\\\\PP6\\\\PP6_F1_RH_Removed_ICA.set',\n",
       " './../../../data/raw/PP\\\\PP7\\\\PP7_F1_RH_Removed_ICA.set',\n",
       " './../../../data/raw/PP\\\\PP9\\\\PP9_F1_RH_Removed_ICA.set']"
      ]
     },
     "execution_count": 7,
     "metadata": {},
     "output_type": "execute_result"
    }
   ],
   "source": [
    "root = './../../../'\n",
    "suffix = '*.set'\n",
    "\n",
    "# Old (PP/PNP datasets)\n",
    "location_healthy = root + 'data/raw/HV/*/'\n",
    "location_pain = root + 'data/raw/PP/*/'\n",
    "location_nopain = root + 'data/raw/PnP/*/'\n",
    "\n",
    "# New (PDP/PNP datasets)\n",
    "location_pwp = root + 'data_new/raw/PwP/*/'\n",
    "location_pdp = root + 'data_new/raw/PdP/*/'\n",
    "location_pnp = root + 'data_new/raw/PnP/*/'\n",
    "\n",
    "rh = '*_RH*'\n",
    "lh = '*_LH*'\n",
    "l_new = '*_L.set'   # NO SUFFIX\n",
    "l_old = '*_L_*'\n",
    "\n",
    "\n",
    "# As an example, get paths of all PP/PNP datasets from right-hand movements\n",
    "sets_healthy_rh = glob.glob(location_pain + rh + suffix)\n",
    "sets_healthy_rh"
   ]
  },
  {
   "cell_type": "markdown",
   "metadata": {},
   "source": [
    "#### Now read the chosen datasets"
   ]
  },
  {
   "cell_type": "code",
   "execution_count": 32,
   "metadata": {},
   "outputs": [
    {
     "name": "stdout",
     "output_type": "stream",
     "text": [
      "Extracting parameters from ./../../../data/raw/PP\\PP1\\PP1_F1_RH_Removed_ICA.set...\n",
      "57 matching events found\n",
      "No baseline correction applied\n",
      "Not setting metadata\n",
      "0 projection items activated\n",
      "Ready.\n",
      "Extracting parameters from ./../../../data/raw/PP\\PP10\\PP10_F1_RH_Removed_ICA.set...\n",
      "57 matching events found\n",
      "No baseline correction applied\n",
      "Not setting metadata\n"
     ]
    },
    {
     "name": "stderr",
     "output_type": "stream",
     "text": [
      "<ipython-input-5-916861aa92ff>:18: RuntimeWarning: At least one epoch has multiple events. Only the latency of the first event will be retained.\n",
      "  sets.append(mne.io.read_epochs_eeglab(path))\n",
      "<ipython-input-5-916861aa92ff>:18: RuntimeWarning: At least one epoch has multiple events. Only the latency of the first event will be retained.\n",
      "  sets.append(mne.io.read_epochs_eeglab(path))\n"
     ]
    },
    {
     "name": "stdout",
     "output_type": "stream",
     "text": [
      "0 projection items activated\n",
      "Ready.\n",
      "Extracting parameters from ./../../../data/raw/PP\\PP11\\PP11_F1_RH_Removed_ICA.set...\n",
      "59 matching events found\n",
      "No baseline correction applied\n",
      "Not setting metadata\n",
      "0 projection items activated\n",
      "Ready.\n",
      "Extracting parameters from ./../../../data/raw/PP\\PP2\\PP2_F1_RH_Removed_ICA.set...\n",
      "54 matching events found\n",
      "No baseline correction applied\n"
     ]
    },
    {
     "name": "stderr",
     "output_type": "stream",
     "text": [
      "<ipython-input-5-916861aa92ff>:18: RuntimeWarning: At least one epoch has multiple events. Only the latency of the first event will be retained.\n",
      "  sets.append(mne.io.read_epochs_eeglab(path))\n",
      "<ipython-input-5-916861aa92ff>:18: RuntimeWarning: At least one epoch has multiple events. Only the latency of the first event will be retained.\n",
      "  sets.append(mne.io.read_epochs_eeglab(path))\n"
     ]
    },
    {
     "name": "stdout",
     "output_type": "stream",
     "text": [
      "Not setting metadata\n",
      "0 projection items activated\n",
      "Ready.\n",
      "Extracting parameters from ./../../../data/raw/PP\\PP3\\PP3_F1_RH_Removed_ICA.set...\n",
      "51 matching events found\n",
      "No baseline correction applied\n",
      "Not setting metadata\n",
      "0 projection items activated\n",
      "Ready.\n",
      "Extracting parameters from ./../../../data/raw/PP\\PP4\\PP4_F1_RH_Removed_ICA.set...\n"
     ]
    },
    {
     "name": "stderr",
     "output_type": "stream",
     "text": [
      "<ipython-input-5-916861aa92ff>:18: RuntimeWarning: At least one epoch has multiple events. Only the latency of the first event will be retained.\n",
      "  sets.append(mne.io.read_epochs_eeglab(path))\n",
      "<ipython-input-5-916861aa92ff>:18: RuntimeWarning: At least one epoch has multiple events. Only the latency of the first event will be retained.\n",
      "  sets.append(mne.io.read_epochs_eeglab(path))\n"
     ]
    },
    {
     "name": "stdout",
     "output_type": "stream",
     "text": [
      "58 matching events found\n",
      "No baseline correction applied\n",
      "Not setting metadata\n",
      "0 projection items activated\n",
      "Ready.\n",
      "Extracting parameters from ./../../../data/raw/PP\\PP5\\PP5_F1_RH_Removed_ICA.set...\n",
      "56 matching events found\n",
      "No baseline correction applied\n",
      "Not setting metadata\n",
      "0 projection items activated\n",
      "Ready.\n",
      "Extracting parameters from ./../../../data/raw/PP\\PP6\\PP6_F1_RH_Removed_ICA.set...\n",
      "32 matching events found\n",
      "No baseline correction applied\n",
      "Not setting metadata\n",
      "0 projection items activated\n",
      "Ready.\n"
     ]
    },
    {
     "name": "stderr",
     "output_type": "stream",
     "text": [
      "<ipython-input-5-916861aa92ff>:18: RuntimeWarning: At least one epoch has multiple events. Only the latency of the first event will be retained.\n",
      "  sets.append(mne.io.read_epochs_eeglab(path))\n",
      "<ipython-input-5-916861aa92ff>:18: RuntimeWarning: At least one epoch has multiple events. Only the latency of the first event will be retained.\n",
      "  sets.append(mne.io.read_epochs_eeglab(path))\n"
     ]
    },
    {
     "name": "stdout",
     "output_type": "stream",
     "text": [
      "Extracting parameters from ./../../../data/raw/PP\\PP7\\PP7_F1_RH_Removed_ICA.set...\n",
      "52 matching events found\n",
      "No baseline correction applied\n",
      "Not setting metadata\n",
      "0 projection items activated\n",
      "Ready.\n",
      "Extracting parameters from ./../../../data/raw/PP\\PP9\\PP9_F1_RH_Removed_ICA.set...\n",
      "54 matching events found\n",
      "No baseline correction applied\n",
      "Not setting metadata\n"
     ]
    },
    {
     "name": "stderr",
     "output_type": "stream",
     "text": [
      "<ipython-input-5-916861aa92ff>:18: RuntimeWarning: At least one epoch has multiple events. Only the latency of the first event will be retained.\n",
      "  sets.append(mne.io.read_epochs_eeglab(path))\n",
      "<ipython-input-5-916861aa92ff>:18: RuntimeWarning: At least one epoch has multiple events. Only the latency of the first event will be retained.\n",
      "  sets.append(mne.io.read_epochs_eeglab(path))\n"
     ]
    },
    {
     "name": "stdout",
     "output_type": "stream",
     "text": [
      "0 projection items activated\n",
      "Ready.\n",
      "Extracting parameters from ./../../../data/raw/PnP\\PnP1\\PnP1_F1_RH_Removed_ICA.set...\n",
      "50 matching events found\n",
      "No baseline correction applied\n",
      "Not setting metadata\n",
      "0 projection items activated\n",
      "Ready.\n",
      "Extracting parameters from ./../../../data/raw/PnP\\PnP2\\PnP2_F1_RH_Removed_ICA.set...\n",
      "54 matching events found\n",
      "No baseline correction applied\n",
      "Not setting metadata\n",
      "0 projection items activated\n",
      "Ready.\n"
     ]
    },
    {
     "name": "stderr",
     "output_type": "stream",
     "text": [
      "<ipython-input-5-916861aa92ff>:18: RuntimeWarning: At least one epoch has multiple events. Only the latency of the first event will be retained.\n",
      "  sets.append(mne.io.read_epochs_eeglab(path))\n",
      "<ipython-input-5-916861aa92ff>:18: RuntimeWarning: At least one epoch has multiple events. Only the latency of the first event will be retained.\n",
      "  sets.append(mne.io.read_epochs_eeglab(path))\n"
     ]
    },
    {
     "name": "stdout",
     "output_type": "stream",
     "text": [
      "Extracting parameters from ./../../../data/raw/PnP\\PnP3\\PnP3_F1_RH_Removed_ICA.set...\n",
      "44 matching events found\n",
      "No baseline correction applied\n",
      "Not setting metadata\n",
      "0 projection items activated\n",
      "Ready.\n",
      "Extracting parameters from ./../../../data/raw/PnP\\PnP4\\PnP4_F1_RH_Removed_ICA.set...\n",
      "55 matching events found\n",
      "No baseline correction applied\n",
      "Not setting metadata\n",
      "0 projection items activated\n",
      "Ready.\n"
     ]
    },
    {
     "name": "stderr",
     "output_type": "stream",
     "text": [
      "<ipython-input-5-916861aa92ff>:18: RuntimeWarning: At least one epoch has multiple events. Only the latency of the first event will be retained.\n",
      "  sets.append(mne.io.read_epochs_eeglab(path))\n",
      "<ipython-input-5-916861aa92ff>:18: RuntimeWarning: At least one epoch has multiple events. Only the latency of the first event will be retained.\n",
      "  sets.append(mne.io.read_epochs_eeglab(path))\n"
     ]
    },
    {
     "name": "stdout",
     "output_type": "stream",
     "text": [
      "Extracting parameters from ./../../../data/raw/PnP\\PnP5\\PnP5_F1_RH_Removed_ICA.set...\n",
      "50 matching events found\n",
      "No baseline correction applied\n",
      "Not setting metadata\n",
      "0 projection items activated\n",
      "Ready.\n",
      "Extracting parameters from ./../../../data/raw/PnP\\PnP6\\PnP6_F1_RH_Removed_ICA.set...\n",
      "55 matching events found\n",
      "No baseline correction applied\n",
      "Not setting metadata\n",
      "0 projection items activated\n",
      "Ready.\n"
     ]
    },
    {
     "name": "stderr",
     "output_type": "stream",
     "text": [
      "<ipython-input-5-916861aa92ff>:18: RuntimeWarning: At least one epoch has multiple events. Only the latency of the first event will be retained.\n",
      "  sets.append(mne.io.read_epochs_eeglab(path))\n",
      "<ipython-input-5-916861aa92ff>:18: RuntimeWarning: At least one epoch has multiple events. Only the latency of the first event will be retained.\n",
      "  sets.append(mne.io.read_epochs_eeglab(path))\n"
     ]
    },
    {
     "name": "stdout",
     "output_type": "stream",
     "text": [
      "Extracting parameters from ./../../../data/raw/PnP\\PnP7\\PnP7_F01_RH_Removed_ICA.set...\n",
      "58 matching events found\n",
      "No baseline correction applied\n",
      "Not setting metadata\n",
      "0 projection items activated\n",
      "Ready.\n",
      "Extracting parameters from ./../../../data/raw/PnP\\PnP8\\PnP8_F1_RH_Removed_ICA.set...\n",
      "53 matching events found\n",
      "No baseline correction applied\n",
      "Not setting metadata\n",
      "0 projection items activated\n",
      "Ready.\n"
     ]
    },
    {
     "name": "stderr",
     "output_type": "stream",
     "text": [
      "<ipython-input-5-916861aa92ff>:18: RuntimeWarning: At least one epoch has multiple events. Only the latency of the first event will be retained.\n",
      "  sets.append(mne.io.read_epochs_eeglab(path))\n",
      "<ipython-input-5-916861aa92ff>:18: RuntimeWarning: At least one epoch has multiple events. Only the latency of the first event will be retained.\n",
      "  sets.append(mne.io.read_epochs_eeglab(path))\n"
     ]
    },
    {
     "name": "stdout",
     "output_type": "stream",
     "text": [
      "Extracting parameters from ./../../../data/raw/PnP\\PnP9\\PnP9_F1_RH_Removed_ICA.set...\n",
      "54 matching events found\n",
      "No baseline correction applied\n",
      "Not setting metadata\n",
      "0 projection items activated\n",
      "Ready.\n"
     ]
    },
    {
     "name": "stderr",
     "output_type": "stream",
     "text": [
      "<ipython-input-5-916861aa92ff>:18: RuntimeWarning: At least one epoch has multiple events. Only the latency of the first event will be retained.\n",
      "  sets.append(mne.io.read_epochs_eeglab(path))\n"
     ]
    }
   ],
   "source": [
    "pp_rh_raw = get_datasets(location_pain, rh)\n",
    "pnp_rh_raw = get_datasets(location_nopain, rh)"
   ]
  },
  {
   "cell_type": "code",
   "execution_count": null,
   "metadata": {},
   "outputs": [],
   "source": []
  },
  {
   "cell_type": "code",
   "execution_count": 33,
   "metadata": {},
   "outputs": [
    {
     "data": {
      "text/plain": [
       "(51, 61, 1250)"
      ]
     },
     "execution_count": 33,
     "metadata": {},
     "output_type": "execute_result"
    }
   ],
   "source": [
    "# The entry for a patient should have shape (n_repetitions, n_channels, n_readings)\n",
    "pp_rh_raw[4].shape"
   ]
  },
  {
   "cell_type": "markdown",
   "metadata": {},
   "source": [
    "#### Apply the bandpower "
   ]
  },
  {
   "cell_type": "code",
   "execution_count": 34,
   "metadata": {},
   "outputs": [],
   "source": [
    "pp_rh_bp = np.array([np.array([channels_bandpower(repetition, bands) for repetition in patient]) for patient in pp_rh_raw])\n",
    "pnp_rh_bp = np.array([np.array([channels_bandpower(repetition, bands) for repetition in patient]) for patient in pnp_rh_raw])"
   ]
  },
  {
   "cell_type": "code",
   "execution_count": 35,
   "metadata": {},
   "outputs": [
    {
     "data": {
      "text/plain": [
       "473"
      ]
     },
     "execution_count": 35,
     "metadata": {},
     "output_type": "execute_result"
    }
   ],
   "source": [
    "# Get the total number of repetitions for each class\n",
    "pp_count = np.vstack(pp_rh_bp).shape[0]\n",
    "pnp_count = np.vstack(pnp_rh_bp).shape[0]\n",
    "pnp_count"
   ]
  },
  {
   "cell_type": "code",
   "execution_count": 36,
   "metadata": {},
   "outputs": [
    {
     "data": {
      "text/plain": [
       "(9,)"
      ]
     },
     "execution_count": 36,
     "metadata": {},
     "output_type": "execute_result"
    }
   ],
   "source": [
    "pnp_rh_bp.shape"
   ]
  },
  {
   "cell_type": "markdown",
   "metadata": {},
   "source": [
    "#### Concatenate the two classes"
   ]
  },
  {
   "cell_type": "code",
   "execution_count": 37,
   "metadata": {},
   "outputs": [
    {
     "data": {
      "text/plain": [
       "(19,)"
      ]
     },
     "execution_count": 37,
     "metadata": {},
     "output_type": "execute_result"
    }
   ],
   "source": [
    "pp_and_pnp_bp = np.concatenate((pp_rh_bp, pnp_rh_bp))\n",
    "pp_and_pnp_bp.shape"
   ]
  },
  {
   "cell_type": "markdown",
   "metadata": {},
   "source": [
    "#### Set some patients aside for testing"
   ]
  },
  {
   "cell_type": "code",
   "execution_count": null,
   "metadata": {},
   "outputs": [],
   "source": []
  },
  {
   "cell_type": "code",
   "execution_count": 16,
   "metadata": {},
   "outputs": [],
   "source": [
    "def test_setup(test_index, total_size):\n",
    "    \"\"\"\n",
    "    Returns a pair consisting of boolean (True is test patient is PP) and test label\n",
    "    Labels are 1 for pain, 0 for no pain\n",
    "    \"\"\"\n",
    "    \n",
    "    test_is_pp = test_index < len(pp_rh_bp)\n",
    "    test_label = 1 if test_is_pp else 0\n",
    "    return test_is_pp, test_label\n",
    "\n",
    "\n",
    "def get_train_test(data, test_index):\n",
    "    \"\"\"\n",
    "    Splits into train and test sets based on the index of the test patient\n",
    "    Returns pair of test and train\n",
    "    \"\"\"\n",
    "    \n",
    "    return data[test_index], np.delete(data, test_index)\n",
    "\n",
    "\n",
    "def get_pp_pnp_length(pp_count, pnp_count, test_count, test_is_pp):\n",
    "    \"\"\" Returns pair of the lengths of PP train data and respectively PNP train data \"\"\"\n",
    "    \n",
    "    pp_train_len = pp_count if not test_is_pp else pp_count - test_count\n",
    "    pnp_train_len = pnp_count if test_is_pp else pnp_count - test_count\n",
    "    return pp_train_len, pnp_train_len\n",
    "\n",
    "\n",
    "def ravel_all_trials(data, channels):\n",
    "    \"\"\"\n",
    "    Ravel first dimention so that trials from all patients are treated separately; select channels\n",
    "    \"\"\"\n",
    "    return np.array(list(map(np.ravel, data[:, channels, :])))"
   ]
  },
  {
   "cell_type": "code",
   "execution_count": null,
   "metadata": {},
   "outputs": [],
   "source": []
  },
  {
   "cell_type": "code",
   "execution_count": 17,
   "metadata": {},
   "outputs": [
    {
     "data": {
      "text/plain": [
       "1"
      ]
     },
     "execution_count": 17,
     "metadata": {},
     "output_type": "execute_result"
    }
   ],
   "source": [
    "test_index = 4\n",
    "\n",
    "test_is_pp, test_label = test_setup(test_index, len(pp_rh_bp))\n",
    "test_label"
   ]
  },
  {
   "cell_type": "code",
   "execution_count": 18,
   "metadata": {},
   "outputs": [
    {
     "data": {
      "text/plain": [
       "(52, 61, 3)"
      ]
     },
     "execution_count": 18,
     "metadata": {},
     "output_type": "execute_result"
    }
   ],
   "source": [
    "test_p, train_p = get_train_test(pp_and_pnp_bp, test_index)\n",
    "test_p.shape"
   ]
  },
  {
   "cell_type": "code",
   "execution_count": 19,
   "metadata": {},
   "outputs": [
    {
     "data": {
      "text/plain": [
       "(948, 61, 3)"
      ]
     },
     "execution_count": 19,
     "metadata": {},
     "output_type": "execute_result"
    }
   ],
   "source": [
    "train_p_separated = np.vstack(train_p)\n",
    "train_p_separated.shape"
   ]
  },
  {
   "cell_type": "code",
   "execution_count": null,
   "metadata": {},
   "outputs": [],
   "source": []
  },
  {
   "cell_type": "code",
   "execution_count": 20,
   "metadata": {},
   "outputs": [
    {
     "data": {
      "text/plain": [
       "476"
      ]
     },
     "execution_count": 20,
     "metadata": {},
     "output_type": "execute_result"
    }
   ],
   "source": [
    "pp_train_len, pnp_train_len = get_pp_pnp_length(pp_count, pnp_count, len(test_p), test_is_pp)\n",
    "pp_train_len"
   ]
  },
  {
   "cell_type": "code",
   "execution_count": null,
   "metadata": {},
   "outputs": [],
   "source": []
  },
  {
   "cell_type": "markdown",
   "metadata": {},
   "source": [
    "Define a multiplier for all features - if 1, then input data is unaltered"
   ]
  },
  {
   "cell_type": "code",
   "execution_count": 21,
   "metadata": {},
   "outputs": [],
   "source": [
    "mul = 1"
   ]
  },
  {
   "cell_type": "code",
   "execution_count": 20,
   "metadata": {},
   "outputs": [],
   "source": [
    "selected_channels = [10, 11]"
   ]
  },
  {
   "cell_type": "code",
   "execution_count": 21,
   "metadata": {},
   "outputs": [
    {
     "data": {
      "text/plain": [
       "(589, 6)"
      ]
     },
     "execution_count": 21,
     "metadata": {},
     "output_type": "execute_result"
    }
   ],
   "source": [
    "train = ravel_all_trials(train_p_separated, selected_channels) * mul\n",
    "train.shape"
   ]
  },
  {
   "cell_type": "code",
   "execution_count": 22,
   "metadata": {},
   "outputs": [
    {
     "data": {
      "text/plain": [
       "(59, 6)"
      ]
     },
     "execution_count": 22,
     "metadata": {},
     "output_type": "execute_result"
    }
   ],
   "source": [
    "test = ravel_all_trials(test_p, selected_channels) * mul\n",
    "test.shape"
   ]
  },
  {
   "cell_type": "markdown",
   "metadata": {},
   "source": [
    "#### Define the number of PCA components we will use"
   ]
  },
  {
   "cell_type": "code",
   "execution_count": 26,
   "metadata": {},
   "outputs": [],
   "source": [
    "n_components = 3"
   ]
  },
  {
   "cell_type": "code",
   "execution_count": 24,
   "metadata": {},
   "outputs": [
    {
     "data": {
      "text/plain": [
       "(589, 3)"
      ]
     },
     "execution_count": 24,
     "metadata": {},
     "output_type": "execute_result"
    }
   ],
   "source": [
    "pca(train, n_components).shape"
   ]
  },
  {
   "cell_type": "markdown",
   "metadata": {},
   "source": [
    "Some analysis of the PCA components"
   ]
  },
  {
   "cell_type": "code",
   "execution_count": 30,
   "metadata": {},
   "outputs": [],
   "source": [
    "import matplotlib.pyplot as plt\n",
    "from mpl_toolkits.mplot3d import Axes3D"
   ]
  },
  {
   "cell_type": "code",
   "execution_count": 31,
   "metadata": {},
   "outputs": [
    {
     "data": {
      "text/plain": [
       "(3, 183)"
      ]
     },
     "execution_count": 31,
     "metadata": {},
     "output_type": "execute_result"
    }
   ],
   "source": [
    "channels_to_plot = list(range(61))\n",
    "\n",
    "arr_pp, components_pp = pca(ravel_all_trials(np.vstack(pp_rh_bp), channels_to_plot), n_components, get_pca_object=True)\n",
    "arr_pnp, components_pnp = pca(ravel_all_trials(np.vstack(pnp_rh_bp), channels_to_plot), n_components, get_pca_object=True)\n",
    "\n",
    "arr_all, components_all = pca(ravel_all_trials(np.vstack(np.concatenate((pp_rh_bp, pnp_rh_bp))), channels_to_plot), n_components, get_pca_object=True)\n",
    "\n",
    "components_all.components_.shape"
   ]
  },
  {
   "cell_type": "code",
   "execution_count": 32,
   "metadata": {},
   "outputs": [],
   "source": [
    "plot_mul = 10**10"
   ]
  },
  {
   "cell_type": "code",
   "execution_count": null,
   "metadata": {},
   "outputs": [],
   "source": []
  },
  {
   "cell_type": "code",
   "execution_count": 33,
   "metadata": {},
   "outputs": [
    {
     "data": {
      "text/plain": [
       "[<matplotlib.lines.Line2D at 0x1f112f6c048>]"
      ]
     },
     "execution_count": 33,
     "metadata": {},
     "output_type": "execute_result"
    },
    {
     "data": {
      "image/png": "[encoded data removed]",
      "text/plain": [
       "<Figure size 432x288 with 1 Axes>"
      ]
     },
     "metadata": {
      "needs_background": "light"
     },
     "output_type": "display_data"
    }
   ],
   "source": [
    "plt.plot(arr_pp[:,0]*plot_mul)\n",
    "plt.plot(arr_pnp[:,0]*plot_mul)"
   ]
  },
  {
   "cell_type": "code",
   "execution_count": 34,
   "metadata": {},
   "outputs": [
    {
     "data": {
      "text/plain": [
       "<matplotlib.collections.PathCollection at 0x1f112fb5c50>"
      ]
     },
     "execution_count": 34,
     "metadata": {},
     "output_type": "execute_result"
    },
    {
     "data": {
      "image/png": "[encoded data removed]",
      "text/plain": [
       "<Figure size 432x288 with 1 Axes>"
      ]
     },
     "metadata": {
      "needs_background": "light"
     },
     "output_type": "display_data"
    }
   ],
   "source": [
    "plt.scatter(arr_pp[:,0]*plot_mul,arr_pp[:,1]*plot_mul)\n",
    "plt.scatter(arr_pnp[:,0]*plot_mul,arr_pnp[:,1]*plot_mul)\n",
    "#plt.xlim((-0.18, 0.1))\n",
    "#plt.ylim((-0.2, 0.2))"
   ]
  },
  {
   "cell_type": "code",
   "execution_count": 35,
   "metadata": {},
   "outputs": [
    {
     "data": {
      "text/plain": [
       "<matplotlib.collections.PathCollection at 0x1f113054908>"
      ]
     },
     "execution_count": 35,
     "metadata": {},
     "output_type": "execute_result"
    },
    {
     "data": {
      "image/png": "[encoded data removed]",
      "text/plain": [
       "<Figure size 432x288 with 1 Axes>"
      ]
     },
     "metadata": {
      "needs_background": "light"
     },
     "output_type": "display_data"
    }
   ],
   "source": [
    "plt.scatter(arr_pp[:,0]*plot_mul,arr_pp[:,2]*plot_mul)\n",
    "plt.scatter(arr_pnp[:,0]*plot_mul,arr_pnp[:,2]*plot_mul)\n",
    "#plt.xlim((-0.12, 0.1))\n",
    "#plt.ylim((-0.15, 0.2))"
   ]
  },
  {
   "cell_type": "code",
   "execution_count": 36,
   "metadata": {},
   "outputs": [
    {
     "data": {
      "text/plain": [
       "<matplotlib.collections.PathCollection at 0x1f1130b4eb8>"
      ]
     },
     "execution_count": 36,
     "metadata": {},
     "output_type": "execute_result"
    },
    {
     "data": {
      "image/png": "[encoded data removed]",
      "text/plain": [
       "<Figure size 432x288 with 1 Axes>"
      ]
     },
     "metadata": {
      "needs_background": "light"
     },
     "output_type": "display_data"
    }
   ],
   "source": [
    "plt.scatter(arr_pp[:,1]*plot_mul,arr_pp[:,2]*plot_mul)\n",
    "plt.scatter(arr_pnp[:,1]*plot_mul,arr_pnp[:,2]*plot_mul)\n",
    "#plt.xlim((-0.12, 0.1))\n",
    "#plt.ylim((-0.15, 0.2))"
   ]
  },
  {
   "cell_type": "code",
   "execution_count": 37,
   "metadata": {},
   "outputs": [
    {
     "data": {
      "text/plain": [
       "0.0199456507636704"
      ]
     },
     "execution_count": 37,
     "metadata": {},
     "output_type": "execute_result"
    }
   ],
   "source": [
    "np.mean(components_pp.components_[2])"
   ]
  },
  {
   "cell_type": "code",
   "execution_count": 38,
   "metadata": {},
   "outputs": [],
   "source": [
    "plt_vmin = 0\n",
    "plt_vmax = 0.2"
   ]
  },
  {
   "cell_type": "code",
   "execution_count": 39,
   "metadata": {},
   "outputs": [],
   "source": [
    "band_names = ['theta', 'alpha', 'beta']\n",
    "channel_names = ['Cz', 'C1', 'C2', 'C3', 'C4', 'C5', 'C6', 'C7', 'C8', 'FCz', 'FC1', 'FC2', 'FC3', 'FC4', 'FC5', 'FC6', 'FT7', 'FT8', 'CPz', 'CP1', 'CP2', 'CP3', 'CP4', 'CP5', 'CP6', 'TP7', 'TP8', 'Fz', 'F1', 'F2', 'F3', 'F4', 'F5', 'F6', 'F7', 'F8', 'Pz', 'P1', 'P2', 'P3', 'P4', 'P5', 'P6', 'P7', 'P8', 'AFz', 'AF3', 'AF4', 'AF7', 'AF8', 'Fp1', 'FP2', 'POz', 'PO3', 'PO4', 'PO7', 'PO8', 'Oz', 'O1', 'O2', 'Iz']"
   ]
  },
  {
   "cell_type": "code",
   "execution_count": 40,
   "metadata": {},
   "outputs": [
    {
     "data": {
      "text/plain": [
       "<matplotlib.image.AxesImage at 0x1f11319f470>"
      ]
     },
     "execution_count": 40,
     "metadata": {},
     "output_type": "execute_result"
    },
    {
     "data": {
      "image/png": "[encoded data removed]",
      "text/plain": [
       "<Figure size 1800x720 with 1 Axes>"
      ]
     },
     "metadata": {
      "needs_background": "light"
     },
     "output_type": "display_data"
    }
   ],
   "source": [
    "plt.figure(figsize=(25, 10))\n",
    "plt.xticks(channels_to_plot, labels=channel_names)\n",
    "plt.yticks([0,1,2], labels=band_names)\n",
    "plt.imshow(np.abs([components_all.components_[0][::3], components_all.components_[0][1::3], components_all.components_[0][2::3]]), vmin=plt_vmin, vmax=plt_vmax)"
   ]
  },
  {
   "cell_type": "code",
   "execution_count": 41,
   "metadata": {},
   "outputs": [
    {
     "data": {
      "text/plain": [
       "<matplotlib.image.AxesImage at 0x1f113288160>"
      ]
     },
     "execution_count": 41,
     "metadata": {},
     "output_type": "execute_result"
    },
    {
     "data": {
      "image/png": "[encoded data removed]",
      "text/plain": [
       "<Figure size 1800x720 with 1 Axes>"
      ]
     },
     "metadata": {
      "needs_background": "light"
     },
     "output_type": "display_data"
    }
   ],
   "source": [
    "plt.figure(figsize=(25, 10))\n",
    "plt.xticks(channels_to_plot, labels=channel_names)\n",
    "plt.yticks([0,1,2], labels=band_names)\n",
    "plt.imshow(np.abs([components_all.components_[1][::3], components_all.components_[1][1::3], components_all.components_[1][2::3]]), vmin=plt_vmin, vmax=plt_vmax)"
   ]
  },
  {
   "cell_type": "code",
   "execution_count": 42,
   "metadata": {},
   "outputs": [
    {
     "data": {
      "text/plain": [
       "<matplotlib.image.AxesImage at 0x1f11336e7f0>"
      ]
     },
     "execution_count": 42,
     "metadata": {},
     "output_type": "execute_result"
    },
    {
     "data": {
      "image/png": "[encoded data removed]",
      "text/plain": [
       "<Figure size 1800x720 with 1 Axes>"
      ]
     },
     "metadata": {
      "needs_background": "light"
     },
     "output_type": "display_data"
    }
   ],
   "source": [
    "plt.figure(figsize=(25, 10))\n",
    "plt.xticks(channels_to_plot, labels=channel_names)\n",
    "plt.yticks([0,1,2], labels=band_names)\n",
    "plt.imshow(np.abs([components_all.components_[2][::3], components_all.components_[2][1::3], components_all.components_[2][2::3]]), vmin=plt_vmin, vmax=plt_vmax)"
   ]
  },
  {
   "cell_type": "markdown",
   "metadata": {},
   "source": [
    "#### Generate labels"
   ]
  },
  {
   "cell_type": "code",
   "execution_count": 27,
   "metadata": {},
   "outputs": [],
   "source": [
    "labels = [1] * pp_train_len + [0] * pnp_train_len\n",
    "test_labels = [test_label] * len(test)"
   ]
  },
  {
   "cell_type": "markdown",
   "metadata": {},
   "source": [
    "#### It's time to learn"
   ]
  },
  {
   "cell_type": "code",
   "execution_count": 38,
   "metadata": {},
   "outputs": [],
   "source": [
    "from sklearn import neighbors, svm\n",
    "from sklearn.model_selection import train_test_split"
   ]
  },
  {
   "cell_type": "code",
   "execution_count": 29,
   "metadata": {},
   "outputs": [
    {
     "data": {
      "text/plain": [
       "0.8666666666666667"
      ]
     },
     "execution_count": 29,
     "metadata": {},
     "output_type": "execute_result"
    }
   ],
   "source": [
    "# Try a simple KNN classification\n",
    "\n",
    "knn = neighbors.KNeighborsClassifier(n_neighbors=3)\n",
    "x_train, x_test, y_train, y_test = train_test_split(train, labels, test_size=0.05)\n",
    "knn.fit(x_train, y_train)\n",
    "knn.score(x_train, y_train)\n",
    "knn.score(x_test, y_test)"
   ]
  },
  {
   "cell_type": "code",
   "execution_count": 30,
   "metadata": {},
   "outputs": [
    {
     "data": {
      "text/plain": [
       "0.22033898305084745"
      ]
     },
     "execution_count": 30,
     "metadata": {},
     "output_type": "execute_result"
    }
   ],
   "source": [
    "knn.score(test, [test_label]*len(test))"
   ]
  },
  {
   "cell_type": "code",
   "execution_count": 31,
   "metadata": {},
   "outputs": [
    {
     "data": {
      "text/plain": [
       "0.22033898305084745"
      ]
     },
     "execution_count": 31,
     "metadata": {},
     "output_type": "execute_result"
    }
   ],
   "source": [
    "np.count_nonzero(knn.predict(test) == test_labels)/len(test)"
   ]
  },
  {
   "cell_type": "markdown",
   "metadata": {},
   "source": [
    "## Classification with cross validation"
   ]
  },
  {
   "cell_type": "markdown",
   "metadata": {},
   "source": [
    "### KNN"
   ]
  },
  {
   "cell_type": "code",
   "execution_count": 39,
   "metadata": {},
   "outputs": [],
   "source": [
    "def classify_knn_with_xvalid(data_pp_bp, data_pnp_bp, n_neighbours, selected_channels, test_index, mul, verbose=True):\n",
    "    \"\"\"\n",
    "    Leaves out patient at test_index and trains a KNN classifier on all other patients\n",
    "    Validates classifier on patient at test_index\n",
    "    Returns accuracy over all repetitions for the test patient\n",
    "    \"\"\"\n",
    "    \n",
    "    data_bp = np.concatenate((data_pp_bp, data_pnp_bp))\n",
    "    \n",
    "    test_is_pp, test_label = test_setup(test_index, len(data_pp_bp))\n",
    "    test_p, train_p = get_train_test(data_bp, test_index)\n",
    "    train_p_separated = np.vstack(train_p)\n",
    "    pp_train_len, pnp_train_len = get_pp_pnp_length(pp_count, pnp_count, len(test_p), test_is_pp)\n",
    "    \n",
    "    # Apply PCA for dimensionality reduction as defined above\n",
    "    train = pca(ravel_all_trials(train_p_separated, selected_channels) * mul, n_components=n_components)\n",
    "    test = pca(ravel_all_trials(test_p, selected_channels) * mul, n_components=n_components)\n",
    "    \n",
    "    labels = [1] * pp_train_len + [0] * pnp_train_len\n",
    "    test_labels = [test_label] * len(test)\n",
    "    \n",
    "    if verbose:\n",
    "        print('Test index', test_index, 'Testing on patient with', len(test), 'repetitions.')\n",
    "    \n",
    "    clas = neighbors.KNeighborsClassifier(n_neighbors=n_neighbours)\n",
    "    clas.fit(train, labels)\n",
    "    train_acc = clas.score(train, labels)\n",
    "    test_acc = clas.score(test, test_labels)\n",
    "    \n",
    "    if verbose:\n",
    "        print('Train score:', train_acc, '  Test score:', test_acc)\n",
    "    \n",
    "    return test_acc\n",
    "    \n",
    "    "
   ]
  },
  {
   "cell_type": "code",
   "execution_count": 24,
   "metadata": {},
   "outputs": [
    {
     "ename": "NameError",
     "evalue": "name 'n_components' is not defined",
     "output_type": "error",
     "traceback": [
      "\u001b[1;31m---------------------------------------------------------------------------\u001b[0m",
      "\u001b[1;31mNameError\u001b[0m                                 Traceback (most recent call last)",
      "\u001b[1;32m<ipython-input-24-6b5e9fd10d4d>\u001b[0m in \u001b[0;36m<module>\u001b[1;34m\u001b[0m\n\u001b[1;32m----> 1\u001b[1;33m \u001b[0mclassify_knn_with_xvalid\u001b[0m\u001b[1;33m(\u001b[0m\u001b[0mpp_rh_bp\u001b[0m\u001b[1;33m,\u001b[0m \u001b[0mpnp_rh_bp\u001b[0m\u001b[1;33m,\u001b[0m \u001b[1;36m23\u001b[0m\u001b[1;33m,\u001b[0m \u001b[1;33m[\u001b[0m\u001b[1;36m36\u001b[0m\u001b[1;33m,\u001b[0m \u001b[1;36m38\u001b[0m\u001b[1;33m]\u001b[0m\u001b[1;33m,\u001b[0m \u001b[1;36m2\u001b[0m\u001b[1;33m,\u001b[0m \u001b[1;36m10000000000000\u001b[0m\u001b[1;33m)\u001b[0m\u001b[1;33m\u001b[0m\u001b[1;33m\u001b[0m\u001b[0m\n\u001b[0m",
      "\u001b[1;32m<ipython-input-23-089120251a98>\u001b[0m in \u001b[0;36mclassify_knn_with_xvalid\u001b[1;34m(data_pp_bp, data_pnp_bp, n_neighbours, selected_channels, test_index, mul, verbose)\u001b[0m\n\u001b[0;32m     14\u001b[0m \u001b[1;33m\u001b[0m\u001b[0m\n\u001b[0;32m     15\u001b[0m     \u001b[1;31m# Apply PCA for dimensionality reduction as defined above\u001b[0m\u001b[1;33m\u001b[0m\u001b[1;33m\u001b[0m\u001b[1;33m\u001b[0m\u001b[0m\n\u001b[1;32m---> 16\u001b[1;33m     \u001b[0mtrain\u001b[0m \u001b[1;33m=\u001b[0m \u001b[0mpca\u001b[0m\u001b[1;33m(\u001b[0m\u001b[0mravel_all_trials\u001b[0m\u001b[1;33m(\u001b[0m\u001b[0mtrain_p_separated\u001b[0m\u001b[1;33m,\u001b[0m \u001b[0mselected_channels\u001b[0m\u001b[1;33m)\u001b[0m \u001b[1;33m*\u001b[0m \u001b[0mmul\u001b[0m\u001b[1;33m,\u001b[0m \u001b[0mn_components\u001b[0m\u001b[1;33m=\u001b[0m\u001b[0mn_components\u001b[0m\u001b[1;33m)\u001b[0m\u001b[1;33m\u001b[0m\u001b[1;33m\u001b[0m\u001b[0m\n\u001b[0m\u001b[0;32m     17\u001b[0m     \u001b[0mtest\u001b[0m \u001b[1;33m=\u001b[0m \u001b[0mpca\u001b[0m\u001b[1;33m(\u001b[0m\u001b[0mravel_all_trials\u001b[0m\u001b[1;33m(\u001b[0m\u001b[0mtest_p\u001b[0m\u001b[1;33m,\u001b[0m \u001b[0mselected_channels\u001b[0m\u001b[1;33m)\u001b[0m \u001b[1;33m*\u001b[0m \u001b[0mmul\u001b[0m\u001b[1;33m,\u001b[0m \u001b[0mn_components\u001b[0m\u001b[1;33m=\u001b[0m\u001b[0mn_components\u001b[0m\u001b[1;33m)\u001b[0m\u001b[1;33m\u001b[0m\u001b[1;33m\u001b[0m\u001b[0m\n\u001b[0;32m     18\u001b[0m \u001b[1;33m\u001b[0m\u001b[0m\n",
      "\u001b[1;31mNameError\u001b[0m: name 'n_components' is not defined"
     ]
    }
   ],
   "source": [
    "classify_knn_with_xvalid(pp_rh_bp, pnp_rh_bp, 23, [36, 38], 2, 10000000000000)"
   ]
  },
  {
   "cell_type": "markdown",
   "metadata": {},
   "source": [
    "#### Cross validate over the whole dataset"
   ]
  },
  {
   "cell_type": "code",
   "execution_count": 40,
   "metadata": {},
   "outputs": [
    {
     "name": "stdout",
     "output_type": "stream",
     "text": [
      "Test index 0 Testing on patient with 57 repetitions.\n",
      "Train score: 1.0   Test score: 0.45614035087719296\n",
      "Test index 1 Testing on patient with 57 repetitions.\n",
      "Train score: 1.0   Test score: 0.5087719298245614\n",
      "Test index 2 Testing on patient with 59 repetitions.\n",
      "Train score: 1.0   Test score: 0.4915254237288136\n",
      "Test index 3 Testing on patient with 54 repetitions.\n",
      "Train score: 1.0   Test score: 0.7037037037037037\n",
      "Test index 4 Testing on patient with 51 repetitions.\n",
      "Train score: 1.0   Test score: 0.3333333333333333\n",
      "Test index 5 Testing on patient with 58 repetitions.\n",
      "Train score: 1.0   Test score: 0.46551724137931033\n",
      "Test index 6 Testing on patient with 56 repetitions.\n",
      "Train score: 1.0   Test score: 0.42857142857142855\n",
      "Test index 7 Testing on patient with 32 repetitions.\n",
      "Train score: 1.0   Test score: 0.40625\n",
      "Test index 8 Testing on patient with 52 repetitions.\n",
      "Train score: 1.0   Test score: 0.5384615384615384\n",
      "Test index 9 Testing on patient with 54 repetitions.\n",
      "Train score: 1.0   Test score: 0.42592592592592593\n",
      "Test index 10 Testing on patient with 50 repetitions.\n",
      "Train score: 1.0   Test score: 0.26\n",
      "Test index 11 Testing on patient with 54 repetitions.\n",
      "Train score: 1.0   Test score: 0.5185185185185185\n",
      "Test index 12 Testing on patient with 44 repetitions.\n",
      "Train score: 1.0   Test score: 0.5454545454545454\n",
      "Test index 13 Testing on patient with 55 repetitions.\n",
      "Train score: 1.0   Test score: 0.2545454545454545\n",
      "Test index 14 Testing on patient with 50 repetitions.\n",
      "Train score: 1.0   Test score: 0.82\n",
      "Test index 15 Testing on patient with 55 repetitions.\n",
      "Train score: 1.0   Test score: 0.9272727272727272\n",
      "Test index 16 Testing on patient with 58 repetitions.\n",
      "Train score: 1.0   Test score: 0.9482758620689655\n",
      "Test index 17 Testing on patient with 53 repetitions.\n",
      "Train score: 1.0   Test score: 1.0\n",
      "Test index 18 Testing on patient with 54 repetitions.\n",
      "Train score: 1.0   Test score: 0.35185185185185186\n",
      "Overall accuracy 0.5465326229219931\n",
      "Correctly labeled 9 out of 19\n",
      "std 0.22128446909874155\n"
     ]
    }
   ],
   "source": [
    "total_score = 0\n",
    "patients_correct = 0\n",
    "accs = []\n",
    "for i in range(len(pp_and_pnp_bp)):\n",
    "    score = classify_knn_with_xvalid(pp_rh_bp, pnp_rh_bp, 1, [42], i, mul)\n",
    "    accs.append(score)\n",
    "    total_score += score\n",
    "    if score > 0.5:\n",
    "        patients_correct += 1\n",
    "    \n",
    "print('Overall accuracy', total_score/len(pp_and_pnp_bp))\n",
    "print('Correctly labeled', patients_correct, 'out of', len(pp_and_pnp_bp))\n",
    "print('std', np.std(accs))"
   ]
  },
  {
   "cell_type": "markdown",
   "metadata": {},
   "source": [
    "#### Cross validate over multiple channels\n",
    "\n",
    "We use this to check which channels yield better results"
   ]
  },
  {
   "cell_type": "code",
   "execution_count": 71,
   "metadata": {},
   "outputs": [
    {
     "name": "stdout",
     "output_type": "stream",
     "text": [
      "0 0.5111021719298109 7\n",
      "1 0.5158619477635346 7\n",
      "2 0.5213870195476474 7\n",
      "3 0.5424761845927586 10\n",
      "4 0.5075884523425922 9\n",
      "5 0.4345336139659855 8\n",
      "6 0.4328427663510304 9\n",
      "7 0.4709121398004717 9\n",
      "8 0.4607955835571042 6\n",
      "9 0.44709525041272363 6\n",
      "10 0.496164105027943 8\n",
      "11 0.4898097191486595 9\n",
      "12 0.41969058971968237 6\n",
      "13 0.4821553715771834 6\n",
      "14 0.3974077723171117 3\n",
      "15 0.41727740578184214 5\n",
      "16 0.4315060042067785 4\n",
      "17 0.3976346592527337 7\n",
      "18 0.4733982136712487 9\n",
      "19 0.5094899375450033 8\n",
      "20 0.4350060213143883 5\n",
      "21 0.437489892016679 9\n",
      "22 0.48231648678881944 9\n",
      "23 0.431440330598427 8\n",
      "24 0.4272127604270761 9\n",
      "25 0.4199236079275012 3\n",
      "26 0.503465864790067 8\n",
      "27 0.3712939999007045 6\n",
      "28 0.37564228508682973 6\n",
      "29 0.3949663232972068 5\n",
      "30 0.41443594456022337 6\n",
      "31 0.3931755262101615 5\n",
      "32 0.406703394233204 7\n",
      "33 0.3919701081862276 7\n",
      "34 0.4086907160221717 5\n",
      "35 0.4174122130977443 8\n",
      "36 0.4330331049976084 10\n",
      "37 0.5042014203857503 10\n",
      "38 0.5261574547920786 11\n",
      "39 0.43605794807629855 8\n",
      "40 0.4115137926976091 8\n",
      "41 0.4055131073742863 8\n",
      "42 0.5465326229219931 9\n",
      "43 0.5417961418586804 9\n",
      "44 0.44337107040931234 8\n",
      "45 0.3853157300564219 6\n",
      "46 0.3967381121153832 6\n",
      "47 0.39252165101583175 6\n",
      "48 0.45647639332716006 5\n",
      "49 0.40949224515777444 6\n",
      "50 0.42374970759365427 7\n",
      "51 0.3909548338063475 8\n",
      "52 0.5208692079086382 11\n",
      "53 0.4115856362188086 7\n",
      "54 0.4784846082273795 6\n",
      "55 0.3910160913078342 6\n",
      "56 0.4068149141112722 4\n",
      "57 0.42844788403853207 5\n",
      "58 0.4124399396595145 8\n",
      "59 0.4642163763544847 6\n",
      "60 0.5178679450487111 8\n",
      "Max accuracy: 42 0.5465326229219931\n"
     ]
    }
   ],
   "source": [
    "# Log results in a csv file\n",
    "file = open('all_results/bandpower_pca_knn_results.csv', 'a', newline='')\n",
    "name = 'Bandpower + PCA + KNN'\n",
    "notes = 'freq bands 4-8,8-13,13-30, k='\n",
    "notes_c = ', n_components='\n",
    "\n",
    "previous_channels = [42]\n",
    "k = 1\n",
    "\n",
    "max_acc = {'index': 0, 'value': 0}\n",
    "for channel in range(61):    \n",
    "    total_score = 0\n",
    "    correct_patients = 0\n",
    "    for i in range(len(pp_and_pnp_bp)):\n",
    "        score = classify_knn_with_xvalid(pp_rh_bp, pnp_rh_bp, k, previous_channels + [channel], i, mul, verbose=False)\n",
    "        total_score += score\n",
    "        if score > 0.5:\n",
    "            correct_patients += 1\n",
    "        \n",
    "    avg_score = total_score/len(pp_and_pnp_bp)\n",
    "    print(channel, avg_score, correct_patients)\n",
    "    \n",
    "    log_result(file, name, avg_score, correct_patients, len(pp_and_pnp_bp), 'RH', str(previous_channels + [channel]), notes + str(k) + notes_c + str(n_components))\n",
    "    \n",
    "    if avg_score > max_acc['value']:\n",
    "        max_acc['index'] = channel\n",
    "        max_acc['value'] = avg_score\n",
    "        \n",
    "file.close()\n",
    "        \n",
    "print('Max accuracy:', max_acc['index'], max_acc['value'])"
   ]
  },
  {
   "cell_type": "markdown",
   "metadata": {},
   "source": [
    "### Cross validate over multiple n_neighbours"
   ]
  },
  {
   "cell_type": "code",
   "execution_count": 72,
   "metadata": {},
   "outputs": [
    {
     "name": "stdout",
     "output_type": "stream",
     "text": [
      "1 0.5465326229219931 9\n",
      "4 0.4983808658728607 5\n",
      "7 0.4185303253559405 10\n",
      "10 0.39452572332041685 10\n",
      "13 0.43306806511943935 10\n",
      "16 0.425365808179489 10\n",
      "19 0.4346453182278237 10\n",
      "22 0.4323314748333765 10\n",
      "25 0.43987678164978056 10\n",
      "28 0.4234724373415031 10\n",
      "31 0.4308814515703253 10\n",
      "34 0.42646846894434576 10\n",
      "37 0.43656641066409757 10\n",
      "40 0.4252752999927343 10\n",
      "43 0.4366048245705701 10\n",
      "46 0.42693563028348425 10\n",
      "49 0.4306455630100374 10\n",
      "Max accuracy: 1 0.5465326229219931\n"
     ]
    }
   ],
   "source": [
    "file = open('all_results/bandpower_pca_knn_results.csv', 'a', newline='')\n",
    "name = 'Bandpower + PCA + KNN'\n",
    "notes = 'freq bands 4-8,8-13,13-30, k='\n",
    "notes_c = ', n_components='\n",
    "\n",
    "channels = [42]\n",
    "\n",
    "max_acc = {'index': 0, 'value': 0}\n",
    "for n_neighbours in range(1, 50, 3):    \n",
    "    total_score = 0\n",
    "    correct_patients = 0\n",
    "    for i in range(len(pp_and_pnp_bp)):\n",
    "        score = classify_knn_with_xvalid(pp_rh_bp, pnp_rh_bp, n_neighbours, channels, i, mul, verbose=False)\n",
    "        total_score += score\n",
    "        if score > 0.5:\n",
    "            correct_patients += 1\n",
    "        \n",
    "    avg_score = total_score/len(pp_and_pnp_bp)\n",
    "    print(n_neighbours, avg_score, correct_patients)\n",
    "    \n",
    "    log_result(file, name, avg_score, correct_patients, len(pp_and_pnp_bp), 'RH', str(channels), notes + str(n_neighbours) + notes_c + str(n_components))\n",
    "    \n",
    "    if avg_score > max_acc['value']:\n",
    "        max_acc['index'] = n_neighbours\n",
    "        max_acc['value'] = avg_score\n",
    "        \n",
    "file.close()\n",
    "        \n",
    "print('Max accuracy:', max_acc['index'], max_acc['value'])"
   ]
  },
  {
   "cell_type": "code",
   "execution_count": null,
   "metadata": {},
   "outputs": [],
   "source": []
  },
  {
   "cell_type": "markdown",
   "metadata": {},
   "source": [
    "## SVM"
   ]
  },
  {
   "cell_type": "code",
   "execution_count": 45,
   "metadata": {},
   "outputs": [],
   "source": [
    "import warnings\n",
    "warnings.filterwarnings('ignore')"
   ]
  },
  {
   "cell_type": "code",
   "execution_count": 28,
   "metadata": {},
   "outputs": [],
   "source": [
    "pca_components = 3"
   ]
  },
  {
   "cell_type": "code",
   "execution_count": 41,
   "metadata": {},
   "outputs": [],
   "source": [
    "def classify_nusvm_with_xvalid(data_pp_bp, data_pnp_bp, nu, selected_channels, test_index, mul, verbose=True):\n",
    "    \"\"\"\n",
    "    Leaves out patient at test_index and trains a linear SVM classifier on all other patients\n",
    "    Validates classifier on patient at test_index\n",
    "    Returns accuracy over all repetitions for the test patient\n",
    "    \"\"\"\n",
    "    \n",
    "    data_bp = np.concatenate((data_pp_bp, data_pnp_bp))\n",
    "    \n",
    "    test_is_pp, test_label = test_setup(test_index, len(data_pp_bp))\n",
    "    test_p, train_p = get_train_test(data_bp, test_index)\n",
    "    train_p_separated = np.vstack(train_p)\n",
    "    pp_train_len, pnp_train_len = get_pp_pnp_length(pp_count, pnp_count, len(test_p), test_is_pp)\n",
    "    \n",
    "    train = pca(ravel_all_trials(train_p_separated, selected_channels) * mul, n_components=pca_components)\n",
    "    test = pca(ravel_all_trials(test_p, selected_channels) * mul, n_components=pca_components)\n",
    "    \n",
    "    labels = [1] * pp_train_len + [0] * pnp_train_len\n",
    "    test_labels = [test_label] * len(test)\n",
    "    \n",
    "    if verbose:\n",
    "        print('Test index', test_index, 'Preparing to classify set of', pp_train_len, 'PP and', pnp_train_len, 'PNP.')\n",
    "    \n",
    "    clas = svm.NuSVC(nu=nu, kernel='linear')\n",
    "    clas.fit(train, labels)\n",
    "    train_acc = clas.score(train, labels)\n",
    "    test_acc = clas.score(test, test_labels)\n",
    "    \n",
    "    if verbose:\n",
    "        print('Train score:', train_acc, '  Test score:', test_acc)\n",
    "    \n",
    "    return test_acc\n",
    "    "
   ]
  },
  {
   "cell_type": "code",
   "execution_count": 42,
   "metadata": {},
   "outputs": [
    {
     "name": "stdout",
     "output_type": "stream",
     "text": [
      "Test index 0 Preparing to classify set of 473 PP and 473 PNP.\n",
      "Train score: 0.6807610993657506   Test score: 0.9649122807017544\n",
      "Test index 1 Preparing to classify set of 473 PP and 473 PNP.\n",
      "Train score: 0.7071881606765328   Test score: 1.0\n",
      "Test index 2 Preparing to classify set of 471 PP and 473 PNP.\n",
      "Train score: 0.6917372881355932   Test score: 0.5254237288135594\n",
      "Test index 3 Preparing to classify set of 476 PP and 473 PNP.\n",
      "Train score: 0.6891464699683878   Test score: 0.9814814814814815\n",
      "Test index 4 Preparing to classify set of 479 PP and 473 PNP.\n",
      "Train score: 0.7121848739495799   Test score: 1.0\n",
      "Test index 5 Preparing to classify set of 472 PP and 473 PNP.\n",
      "Train score: 0.6835978835978836   Test score: 0.9827586206896551\n",
      "Test index 6 Preparing to classify set of 474 PP and 473 PNP.\n",
      "Train score: 0.7286166842661035   Test score: 1.0\n",
      "Test index 7 Preparing to classify set of 498 PP and 473 PNP.\n",
      "Train score: 0.713697219361483   Test score: 1.0\n",
      "Test index 8 Preparing to classify set of 478 PP and 473 PNP.\n",
      "Train score: 0.5793901156677181   Test score: 1.0\n",
      "Test index 9 Preparing to classify set of 476 PP and 473 PNP.\n",
      "Train score: 0.5563751317175974   Test score: 0.7962962962962963\n",
      "Test index 10 Preparing to classify set of 530 PP and 423 PNP.\n",
      "Train score: 0.2770199370409234   Test score: 1.0\n",
      "Test index 11 Preparing to classify set of 530 PP and 419 PNP.\n",
      "Train score: 0.2834562697576396   Test score: 1.0\n",
      "Test index 12 Preparing to classify set of 530 PP and 429 PNP.\n",
      "Train score: 0.2805005213764338   Test score: 1.0\n",
      "Test index 13 Preparing to classify set of 530 PP and 418 PNP.\n",
      "Train score: 0.2795358649789029   Test score: 1.0\n",
      "Test index 14 Preparing to classify set of 530 PP and 423 PNP.\n",
      "Train score: 0.316894018887723   Test score: 1.0\n",
      "Test index 15 Preparing to classify set of 530 PP and 418 PNP.\n",
      "Train score: 0.33649789029535865   Test score: 1.0\n",
      "Test index 16 Preparing to classify set of 530 PP and 415 PNP.\n",
      "Train score: 0.32275132275132273   Test score: 1.0\n",
      "Test index 17 Preparing to classify set of 530 PP and 420 PNP.\n",
      "Train score: 0.31894736842105265   Test score: 1.0\n",
      "Test index 18 Preparing to classify set of 530 PP and 419 PNP.\n",
      "Train score: 0.3898840885142255   Test score: 1.0\n",
      "0.9605722319990919\n",
      "Correctly labeled 19 out of 19\n",
      "std 0.1121682842661192\n"
     ]
    }
   ],
   "source": [
    "total_score = 0\n",
    "patients_correct = 0\n",
    "accs = []\n",
    "for i in range(len(pp_and_pnp_bp)):\n",
    "    score = classify_nusvm_with_xvalid(pp_rh_bp, pnp_rh_bp, 0.8585, [0, 1, 1, 2, 3, 3, 5, 12, 13, 23, 30, 52, 57], i, mul)\n",
    "    accs.append(score)\n",
    "    total_score += score\n",
    "    if score > 0.5:\n",
    "        patients_correct += 1\n",
    "    \n",
    "\n",
    "print(total_score/len(pp_and_pnp_bp))\n",
    "print('Correctly labeled', patients_correct, 'out of', len(pp_and_pnp_bp))\n",
    "print('std', np.std(accs))"
   ]
  },
  {
   "cell_type": "code",
   "execution_count": 49,
   "metadata": {},
   "outputs": [],
   "source": [
    "mul = 10**0"
   ]
  },
  {
   "cell_type": "code",
   "execution_count": 55,
   "metadata": {},
   "outputs": [
    {
     "name": "stdout",
     "output_type": "stream",
     "text": [
      "0 0.7573651119395247 10\n",
      "1 0.6575251429306589 8\n",
      "2 0.6777518800210593 8\n",
      "3 0.6038126448418598 7\n",
      "4 0.6229646664169411 8\n",
      "5 0.7204132720948065 9\n",
      "6 0.719173510339508 9\n",
      "7 0.8024851596762836 10\n",
      "8 0.806867588598558 10\n",
      "9 0.5835380942941157 7\n",
      "10 0.6514209167914936 11\n",
      "11 0.7370634486189793 10\n",
      "12 0.8098772097166388 10\n",
      "13 0.8083891144785436 10\n",
      "14 0.5708169804969538 7\n",
      "15 0.6892310514344412 9\n",
      "16 0.426466633648837 5\n",
      "17 0.8170373416849777 11\n",
      "18 0.8098904372298663 10\n",
      "19 0.8095884090111714 11\n",
      "20 0.8081003137730761 10\n",
      "21 0.8012924041685564 10\n",
      "22 0.7142423725738475 10\n",
      "23 0.7138521659395879 9\n",
      "24 0.6064821980477645 8\n",
      "25 0.7963477022393913 11\n",
      "26 0.7973341760496088 10\n",
      "27 0.8050429017244362 10\n",
      "28 0.8037061382054692 10\n",
      "29 0.79769018613131 11\n",
      "30 0.7964085372507911 11\n",
      "31 0.7846289661621954 10\n",
      "32 0.6227305648558994 8\n",
      "33 0.7696309653249144 10\n",
      "34 0.7709752172118364 10\n",
      "35 0.7222459178963788 10\n",
      "36 0.7997855257043481 11\n",
      "37 0.7970823557424063 10\n",
      "38 0.8044060636310859 10\n",
      "39 0.7857027217862038 11\n",
      "40 0.695416687048043 9\n",
      "41 0.6430730268646564 8\n",
      "42 0.7950916897333786 11\n",
      "43 0.7875626802410923 11\n",
      "44 0.7161888633799873 9\n",
      "45 0.8066878843945452 10\n",
      "46 0.7992762852174091 10\n",
      "47 0.688005145439356 8\n",
      "Max accuracy: 17 0.8170373416849777\n"
     ]
    }
   ],
   "source": [
    "file = open('all_results/bandpower_pca_svm_results_pdp_legs.csv', 'a', newline='')\n",
    "n_components = pca_components\n",
    "name = 'Bandpower + PCA + SVM'\n",
    "notes = 'freq bands 4-8,8-13,13-30, nu='\n",
    "notes_c = ', n_components='\n",
    "\n",
    "previous_channels=[8, 11, 17, 17, 18, 19]\n",
    "nu = 0.601\n",
    "\n",
    "max_acc = {'index': 0, 'value': 0}\n",
    "for channel in range(48):    \n",
    "    total_score = 0\n",
    "    correct_patients = 0\n",
    "    for i in range(len(pp_and_pnp_bp)):\n",
    "        score = classify_nusvm_with_xvalid(pp_rh_bp, pnp_rh_bp, nu, previous_channels + [channel], i, mul, verbose=False)\n",
    "        total_score += score\n",
    "        if score > 0.5:\n",
    "            correct_patients += 1\n",
    "        \n",
    "    avg_score = total_score/len(pp_and_pnp_bp)\n",
    "    print(channel, avg_score, correct_patients)\n",
    "    \n",
    "    log_result(file, name, avg_score, correct_patients, len(pp_and_pnp_bp), 'L', str(previous_channels + [channel]), notes + str(nu) + notes_c + str(n_components))\n",
    "    \n",
    "    if avg_score > max_acc['value']:\n",
    "        max_acc['index'] = channel\n",
    "        max_acc['value'] = avg_score\n",
    "        \n",
    "\n",
    "file.close()\n",
    "        \n",
    "print('Max accuracy:', max_acc['index'], max_acc['value'])"
   ]
  },
  {
   "cell_type": "code",
   "execution_count": null,
   "metadata": {},
   "outputs": [],
   "source": []
  },
  {
   "cell_type": "markdown",
   "metadata": {},
   "source": [
    "#### Cross validate over multiple nu values"
   ]
  },
  {
   "cell_type": "code",
   "execution_count": 58,
   "metadata": {},
   "outputs": [
    {
     "name": "stdout",
     "output_type": "stream",
     "text": [
      "0.59 0.7169508811155034 10\n",
      "0.5901 0.72736754778217 10\n",
      "0.5902 0.72736754778217 10\n",
      "0.5902999999999999 0.7303978508124732 10\n",
      "0.5903999999999999 0.7303978508124732 10\n",
      "0.5904999999999999 0.7303978508124732 10\n",
      "0.5905999999999999 0.7303978508124732 10\n",
      "0.5906999999999999 0.7303978508124732 10\n",
      "0.5907999999999999 0.7303978508124732 10\n",
      "0.5908999999999999 0.6442396587220777 8\n",
      "0.5909999999999999 0.6442396587220777 8\n",
      "0.5910999999999998 0.6442396587220777 8\n",
      "0.5911999999999998 0.6442396587220777 8\n",
      "0.5912999999999998 0.6635848968173158 7\n",
      "0.5913999999999998 0.6635848968173158 7\n",
      "0.5914999999999998 0.6635848968173158 7\n",
      "0.5915999999999998 0.6635848968173158 7\n",
      "0.5916999999999998 0.6635848968173158 7\n",
      "0.5917999999999998 0.6635848968173158 7\n",
      "0.5918999999999998 0.6635848968173158 7\n",
      "0.5919999999999997 0.6552515634839824 7\n",
      "0.5920999999999997 0.6552515634839824 7\n",
      "0.5921999999999997 0.6552515634839824 7\n",
      "0.5922999999999997 0.6640234933085437 7\n",
      "0.5923999999999997 0.6640234933085437 7\n",
      "0.5924999999999997 0.6640234933085437 7\n",
      "0.5925999999999997 0.6640234933085437 7\n",
      "0.5926999999999997 0.6640234933085437 7\n",
      "0.5927999999999997 0.6640234933085437 7\n",
      "0.5928999999999996 0.6640234933085437 7\n",
      "0.5929999999999996 0.6640234933085437 7\n",
      "0.5930999999999996 0.6640234933085437 7\n",
      "0.5931999999999996 0.6640234933085437 7\n",
      "0.5932999999999996 0.6640234933085437 7\n",
      "0.5933999999999996 0.6674957155307659 7\n",
      "0.5934999999999996 0.6674957155307659 7\n",
      "0.5935999999999996 0.6690108670459175 7\n",
      "0.5936999999999996 0.6690108670459175 7\n",
      "0.5937999999999996 0.6690108670459175 7\n",
      "0.5938999999999995 0.6690108670459175 7\n",
      "0.5939999999999995 0.6690108670459175 7\n",
      "0.5940999999999995 0.6690108670459175 7\n",
      "0.5941999999999995 0.6690108670459175 7\n",
      "0.5942999999999995 0.753756629757782 9\n",
      "0.5943999999999995 0.753756629757782 9\n",
      "0.5944999999999995 0.753756629757782 9\n",
      "0.5945999999999995 0.7373875821387345 9\n",
      "0.5946999999999995 0.7373875821387345 9\n",
      "0.5947999999999994 0.7373875821387345 9\n",
      "0.5948999999999994 0.7357209154720677 9\n",
      "0.5949999999999994 0.735796581331632 9\n",
      "0.5950999999999994 0.735796581331632 9\n",
      "0.5951999999999994 0.735796581331632 9\n",
      "0.5952999999999994 0.735796581331632 9\n",
      "0.5953999999999994 0.7407965813316321 9\n",
      "0.5954999999999994 0.7407965813316321 9\n",
      "0.5955999999999994 0.7407965813316321 9\n",
      "0.5956999999999993 0.7422585696357255 9\n",
      "0.5957999999999993 0.7422585696357255 9\n",
      "0.5958999999999993 0.7422585696357255 9\n",
      "0.5959999999999993 0.7422585696357255 9\n",
      "0.5960999999999993 0.7422585696357255 9\n",
      "0.5961999999999993 0.7422585696357255 9\n",
      "0.5962999999999993 0.7422585696357255 9\n",
      "0.5963999999999993 0.7422585696357255 9\n",
      "0.5964999999999993 0.7422585696357255 9\n",
      "0.5965999999999992 0.7422585696357255 9\n",
      "0.5966999999999992 0.7387863474135034 9\n",
      "0.5967999999999992 0.7387863474135034 9\n",
      "0.5968999999999992 0.7387863474135034 9\n",
      "0.5969999999999992 0.7372711958983519 9\n",
      "0.5970999999999992 0.7372711958983519 9\n",
      "0.5971999999999992 0.7372711958983519 9\n",
      "0.5972999999999992 0.7372711958983519 9\n",
      "0.5973999999999992 0.7372711958983519 9\n",
      "0.5974999999999991 0.7372711958983519 9\n",
      "0.5975999999999991 0.7372711958983519 9\n",
      "0.5976999999999991 0.7499830603051315 9\n",
      "0.5977999999999991 0.7499830603051315 9\n",
      "0.5978999999999991 0.7499830603051315 9\n",
      "0.5979999999999991 0.7589116317337029 10\n",
      "0.5980999999999991 0.6755782984003695 9\n",
      "0.5981999999999991 0.6755782984003695 9\n",
      "0.598299999999999 0.6755782984003695 9\n",
      "0.598399999999999 0.6755782984003695 9\n",
      "0.598499999999999 0.6755782984003695 9\n",
      "0.598599999999999 0.6755782984003695 9\n",
      "0.598699999999999 0.6755782984003695 9\n",
      "0.598799999999999 0.6755782984003695 9\n",
      "0.598899999999999 0.6770663936384648 9\n",
      "0.598999999999999 0.6756044053343712 9\n",
      "0.599099999999999 0.6756044053343712 9\n",
      "0.599199999999999 0.6756044053343712 9\n",
      "0.599299999999999 0.6756044053343712 9\n",
      "0.5993999999999989 0.7712834176800502 10\n",
      "0.5994999999999989 0.769795322441955 10\n",
      "0.5995999999999989 0.769795322441955 10\n",
      "0.5996999999999989 0.769795322441955 10\n",
      "0.5997999999999989 0.769795322441955 10\n",
      "0.5998999999999989 0.769795322441955 10\n",
      "0.5999999999999989 0.8201425446641771 11\n",
      "0.6000999999999989 0.8201425446641771 11\n",
      "0.6001999999999988 0.8201425446641771 11\n",
      "0.6002999999999988 0.8201425446641771 11\n",
      "0.6003999999999988 0.8201425446641771 11\n",
      "0.6004999999999988 0.8201425446641771 11\n",
      "0.6005999999999988 0.8201425446641771 11\n",
      "0.6006999999999988 0.8201425446641771 11\n",
      "0.6007999999999988 0.8201425446641771 11\n",
      "0.6008999999999988 0.8201425446641771 11\n",
      "0.6009999999999988 0.8201425446641771 11\n",
      "0.6010999999999987 0.8003685333647422 11\n",
      "0.6011999999999987 0.8003685333647422 11\n",
      "0.6012999999999987 0.8003685333647422 11\n",
      "0.6013999999999987 0.8122732952695041 11\n",
      "0.6014999999999987 0.8122732952695041 11\n",
      "0.6015999999999987 0.8122732952695041 11\n",
      "0.6016999999999987 0.8122732952695041 11\n",
      "0.6017999999999987 0.8122732952695041 11\n",
      "0.6018999999999987 0.8122732952695041 11\n",
      "0.6019999999999986 0.8122732952695041 11\n",
      "0.6020999999999986 0.7989399619361707 11\n",
      "0.6021999999999986 0.7989399619361707 11\n",
      "0.6022999999999986 0.7989399619361707 11\n",
      "0.6023999999999986 0.7989399619361707 11\n",
      "0.6024999999999986 0.7989399619361707 11\n",
      "0.6025999999999986 0.7989399619361707 11\n",
      "0.6026999999999986 0.7912239125534547 11\n",
      "0.6027999999999986 0.7912239125534547 11\n",
      "0.6028999999999985 0.7912239125534547 11\n",
      "0.6029999999999985 0.7912239125534547 11\n",
      "0.6030999999999985 0.7912239125534547 11\n",
      "0.6031999999999985 0.7912239125534547 11\n",
      "0.6032999999999985 0.7912239125534547 11\n",
      "0.6033999999999985 0.7912239125534547 11\n",
      "0.6034999999999985 0.7912239125534547 11\n",
      "0.6035999999999985 0.7912239125534547 11\n",
      "0.6036999999999985 0.7912239125534547 11\n",
      "0.6037999999999984 0.7912239125534547 11\n",
      "0.6038999999999984 0.7912239125534547 11\n",
      "0.6039999999999984 0.7912239125534547 11\n",
      "0.6040999999999984 0.7912239125534547 11\n",
      "0.6041999999999984 0.7912239125534547 11\n",
      "0.6042999999999984 0.7912239125534547 11\n",
      "0.6043999999999984 0.7912239125534547 11\n",
      "0.6044999999999984 0.7135402967342456 10\n",
      "0.6045999999999984 0.7135402967342456 10\n",
      "0.6046999999999983 0.7135402967342456 10\n",
      "0.6047999999999983 0.7075879157818648 9\n",
      "0.6048999999999983 0.7075879157818648 9\n",
      "0.6049999999999983 0.7075879157818648 9\n",
      "0.6050999999999983 0.7075879157818648 9\n",
      "0.6051999999999983 0.7075879157818648 9\n",
      "0.6052999999999983 0.7091311256584077 9\n",
      "0.6053999999999983 0.7107977923250743 9\n",
      "0.6054999999999983 0.7093853629465435 9\n",
      "0.6055999999999983 0.7093853629465435 9\n",
      "0.6056999999999982 0.7093853629465435 9\n",
      "0.6057999999999982 0.7123093395547304 9\n",
      "0.6058999999999982 0.7123093395547304 9\n",
      "0.6059999999999982 0.7123093395547304 9\n",
      "0.6060999999999982 0.7184821790609033 9\n",
      "0.6061999999999982 0.7184821790609033 9\n",
      "0.6062999999999982 0.7184821790609033 9\n",
      "0.6063999999999982 0.7184821790609033 9\n",
      "0.6064999999999982 0.7184821790609033 9\n",
      "0.6065999999999981 0.7184821790609033 9\n",
      "0.6066999999999981 0.7184821790609033 9\n",
      "0.6067999999999981 0.7184821790609033 9\n",
      "0.6068999999999981 0.7184821790609033 9\n",
      "0.6069999999999981 0.7184821790609033 9\n",
      "0.6070999999999981 0.7139367245154488 9\n",
      "0.6071999999999981 0.7139367245154488 9\n",
      "0.6072999999999981 0.7139367245154488 9\n",
      "0.607399999999998 0.7139367245154488 9\n",
      "0.607499999999998 0.7139367245154488 9\n",
      "0.607599999999998 0.7139367245154488 9\n",
      "0.607699999999998 0.7139367245154488 9\n",
      "0.607799999999998 0.7139367245154488 9\n",
      "0.607899999999998 0.7167615832725108 9\n",
      "0.607999999999998 0.7167615832725108 9\n",
      "0.608099999999998 0.7167615832725108 9\n",
      "0.608199999999998 0.6810472975582252 10\n",
      "0.608299999999998 0.6810472975582252 10\n",
      "0.6083999999999979 0.6810472975582252 10\n",
      "0.6084999999999979 0.6810472975582252 10\n",
      "0.6085999999999979 0.6810472975582252 10\n",
      "0.6086999999999979 0.6843806308915585 10\n",
      "0.6087999999999979 0.6843806308915585 10\n",
      "0.6088999999999979 0.6843806308915585 10\n",
      "0.6089999999999979 0.6843806308915585 10\n",
      "0.6090999999999979 0.6843806308915585 10\n",
      "0.6091999999999979 0.6799946659792778 10\n",
      "0.6092999999999978 0.6799946659792778 10\n",
      "0.6093999999999978 0.6799946659792778 10\n",
      "0.6094999999999978 0.7571551598064383 11\n",
      "0.6095999999999978 0.7571551598064383 11\n",
      "0.6096999999999978 0.7571551598064383 11\n",
      "0.6097999999999978 0.7571551598064383 11\n",
      "0.6098999999999978 0.7571551598064383 11\n",
      "0.6099999999999978 0.7571551598064383 11\n",
      "Max accuracy: 0.5999999999999989 0.8201425446641771\n"
     ]
    }
   ],
   "source": [
    "file = open('all_results/bandpower_pca_svm_results_pdp_legs.csv', 'a', newline='')\n",
    "n_components = pca_components\n",
    "name = 'Bandpower + PCA + SVM'\n",
    "notes = 'freq bands 4-8,8-13,13-30 nu='\n",
    "notes_c = ', n_components='\n",
    "\n",
    "channels = [8, 11, 17, 17, 18, 19]\n",
    "\n",
    "max_acc = {'index': 0, 'value': 0}\n",
    "for param in np.arange(0.59, 0.61, 0.0001):    \n",
    "    total_score = 0\n",
    "    correct_patients = 0\n",
    "    for i in range(len(pp_and_pnp_bp)):\n",
    "        score = classify_nusvm_with_xvalid(pp_rh_bp, pnp_rh_bp, param, channels, i, mul, verbose=False)\n",
    "        total_score += score\n",
    "        if score > 0.5:\n",
    "            correct_patients += 1\n",
    "        \n",
    "    avg_score = total_score/len(pp_and_pnp_bp)\n",
    "    print(param, avg_score, correct_patients)\n",
    "    \n",
    "    log_result(file, name, avg_score, correct_patients, len(pp_and_pnp_bp), 'L', str(channels), notes + str(param) + notes_c + str(n_components))\n",
    "    \n",
    "    if avg_score > max_acc['value']:\n",
    "        max_acc['index'] = param\n",
    "        max_acc['value'] = avg_score\n",
    "\n",
    "file.close()\n",
    "        \n",
    "print('Max accuracy:', max_acc['index'], max_acc['value'])"
   ]
  },
  {
   "cell_type": "code",
   "execution_count": 45,
   "metadata": {},
   "outputs": [],
   "source": [
    "file.close()"
   ]
  },
  {
   "cell_type": "code",
   "execution_count": null,
   "metadata": {},
   "outputs": [],
   "source": []
  }
 ],
 "metadata": {
  "kernelspec": {
   "display_name": "Python 3",
   "language": "python",
   "name": "python3"
  },
  "language_info": {
   "codemirror_mode": {
    "name": "ipython",
    "version": 3
   },
   "file_extension": ".py",
   "mimetype": "text/x-python",
   "name": "python",
   "nbconvert_exporter": "python",
   "pygments_lexer": "ipython3",
   "version": "3.7.3"
  }
 },
 "nbformat": 4,
 "nbformat_minor": 2
}
