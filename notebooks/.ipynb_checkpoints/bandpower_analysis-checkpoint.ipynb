{
 "cells": [
  {
   "cell_type": "code",
   "execution_count": 1,
   "metadata": {},
   "outputs": [],
   "source": [
    "import numpy as np\n",
    "import scipy\n",
    "from scipy import signal\n",
    "import mne\n",
    "import glob"
   ]
  },
  {
   "cell_type": "code",
   "execution_count": 2,
   "metadata": {},
   "outputs": [],
   "source": [
    "local_path = './../../../data/raw/HV/HV1/HV1_F1_L_Removed_ICA.set'\n"
   ]
  },
  {
   "cell_type": "code",
   "execution_count": 3,
   "metadata": {},
   "outputs": [],
   "source": [
    "def bandpower(x, fs, fmin, fmax):\n",
    "    f, Pxx = signal.periodogram(x, fs=fs)\n",
    "    ind_min = scipy.argmax(f > fmin) - 1\n",
    "    ind_max = scipy.argmax(f > fmax) - 1\n",
    "    return scipy.trapz(Pxx[ind_min: ind_max], f[ind_min: ind_max])"
   ]
  },
  {
   "cell_type": "code",
   "execution_count": 4,
   "metadata": {},
   "outputs": [
    {
     "name": "stdout",
     "output_type": "stream",
     "text": [
      "Extracting parameters from ./../../../data/raw/HV/HV1/HV1_F1_L_Removed_ICA.set...\n"
     ]
    },
    {
     "name": "stderr",
     "output_type": "stream",
     "text": [
      "<ipython-input-4-e0a8228b57c9>:1: RuntimeWarning: At least one epoch has multiple events. Only the latency of the first event will be retained.\n",
      "  data = mne.io.read_epochs_eeglab(local_path)._data\n"
     ]
    },
    {
     "name": "stdout",
     "output_type": "stream",
     "text": [
      "56 matching events found\n",
      "No baseline correction applied\n",
      "Not setting metadata\n",
      "0 projection items activated\n",
      "Ready.\n"
     ]
    }
   ],
   "source": [
    "data = mne.io.read_epochs_eeglab(local_path)._data"
   ]
  },
  {
   "cell_type": "code",
   "execution_count": 5,
   "metadata": {},
   "outputs": [
    {
     "data": {
      "text/plain": [
       "(56, 61, 1250)"
      ]
     },
     "execution_count": 5,
     "metadata": {},
     "output_type": "execute_result"
    }
   ],
   "source": [
    "data.shape"
   ]
  },
  {
   "cell_type": "code",
   "execution_count": 6,
   "metadata": {},
   "outputs": [],
   "source": [
    "test_bp = bandpower(data[0][0], 250, 13, 30)"
   ]
  },
  {
   "cell_type": "code",
   "execution_count": 7,
   "metadata": {},
   "outputs": [
    {
     "data": {
      "text/plain": [
       "1.7894988777039823e-12"
      ]
     },
     "execution_count": 7,
     "metadata": {},
     "output_type": "execute_result"
    }
   ],
   "source": [
    "test_bp"
   ]
  },
  {
   "cell_type": "markdown",
   "metadata": {},
   "source": [
    "# Apply bandpower to datasets"
   ]
  },
  {
   "cell_type": "code",
   "execution_count": 8,
   "metadata": {},
   "outputs": [],
   "source": [
    "# Returns relevant datasets (f.e. all right-hand recordings of healthy patients) as a list of np arrays\n",
    "def get_datasets(patient_type_location, recording_type_expression):\n",
    "    if recording_type_expression != l_new:\n",
    "        sets_locations = glob.glob(patient_type_location + recording_type_expression + suffix)\n",
    "    else:\n",
    "        sets_locations = glob.glob(patient_type_location + recording_type_expression)\n",
    "    \n",
    "    sets = []\n",
    "    for path in sets_locations: \n",
    "        sets.append(mne.io.read_epochs_eeglab(path))\n",
    "        \n",
    "    return np.array(np.array([(patient._data) for patient in sets]))"
   ]
  },
  {
   "cell_type": "code",
   "execution_count": 9,
   "metadata": {},
   "outputs": [],
   "source": [
    "# Calculate bandpower for all channels for a patient\n",
    "def channels_bandpower(channels):\n",
    "    fs = 250\n",
    "    b = bandpower\n",
    "    return np.array(list(map( lambda arr: [b(arr, fs, 4, 7), b(arr, fs, 8, 12), b(arr, fs, 13, 30)], channels)))"
   ]
  },
  {
   "cell_type": "code",
   "execution_count": 10,
   "metadata": {},
   "outputs": [
    {
     "data": {
      "text/plain": [
       "['./../../../data_new/raw/PnP\\\\PnP_1\\\\PnP_1_L.set',\n",
       " './../../../data_new/raw/PnP\\\\PnP_3\\\\PnP_3_L.set',\n",
       " './../../../data_new/raw/PnP\\\\PnP_4\\\\PnP_4_L.set',\n",
       " './../../../data_new/raw/PnP\\\\PnP_5\\\\PnP_5_L.set',\n",
       " './../../../data_new/raw/PnP\\\\PnP_7\\\\PnP_7_L.set',\n",
       " './../../../data_new/raw/PnP\\\\PnP_8\\\\PnP_8_L.set',\n",
       " './../../../data_new/raw/PnP\\\\PnP_9\\\\PnP_9_L.set']"
      ]
     },
     "execution_count": 10,
     "metadata": {},
     "output_type": "execute_result"
    }
   ],
   "source": [
    "root = './../../../'\n",
    "suffix = '*.set'\n",
    "\n",
    "location_healthy = root + 'data/raw/HV/*/'\n",
    "location_pain = root + 'data/raw/PP/*/'\n",
    "location_nopain = root + 'data/raw/PnP/*/'\n",
    "\n",
    "location_pwp = root + 'data_new/raw/PwP/*/'\n",
    "location_pdp = root + 'data_new/raw/PdP/*/'\n",
    "location_pnp = root + 'data_new/raw/PnP/*/'\n",
    "\n",
    "\n",
    "rh = '*_RH*'\n",
    "lh = '*_LH*'\n",
    "l_new = '*_L.set'   # NO SUFFIX\n",
    "l_old = '*_L_*'\n",
    "\n",
    "sets_healthy_rh = glob.glob(location_pnp + l_new)\n",
    "\n",
    "sets_healthy_rh"
   ]
  },
  {
   "cell_type": "code",
   "execution_count": 11,
   "metadata": {},
   "outputs": [
    {
     "name": "stdout",
     "output_type": "stream",
     "text": [
      "Extracting parameters from ./../../../data/raw/PP\\PP1\\PP1_F1_RH_Removed_ICA.set...\n"
     ]
    },
    {
     "name": "stderr",
     "output_type": "stream",
     "text": [
      "<ipython-input-8-ca455454a3e4>:10: RuntimeWarning: At least one epoch has multiple events. Only the latency of the first event will be retained.\n",
      "  sets.append(mne.io.read_epochs_eeglab(path))\n"
     ]
    },
    {
     "name": "stdout",
     "output_type": "stream",
     "text": [
      "57 matching events found\n",
      "No baseline correction applied\n",
      "Not setting metadata\n",
      "0 projection items activated\n",
      "Ready.\n",
      "Extracting parameters from ./../../../data/raw/PP\\PP10\\PP10_F1_RH_Removed_ICA.set...\n"
     ]
    },
    {
     "name": "stderr",
     "output_type": "stream",
     "text": [
      "<ipython-input-8-ca455454a3e4>:10: RuntimeWarning: At least one epoch has multiple events. Only the latency of the first event will be retained.\n",
      "  sets.append(mne.io.read_epochs_eeglab(path))\n"
     ]
    },
    {
     "name": "stdout",
     "output_type": "stream",
     "text": [
      "57 matching events found\n",
      "No baseline correction applied\n",
      "Not setting metadata\n",
      "0 projection items activated\n",
      "Ready.\n",
      "Extracting parameters from ./../../../data/raw/PP\\PP11\\PP11_F1_RH_Removed_ICA.set...\n"
     ]
    },
    {
     "name": "stderr",
     "output_type": "stream",
     "text": [
      "<ipython-input-8-ca455454a3e4>:10: RuntimeWarning: At least one epoch has multiple events. Only the latency of the first event will be retained.\n",
      "  sets.append(mne.io.read_epochs_eeglab(path))\n"
     ]
    },
    {
     "name": "stdout",
     "output_type": "stream",
     "text": [
      "59 matching events found\n",
      "No baseline correction applied\n",
      "Not setting metadata\n",
      "0 projection items activated\n",
      "Ready.\n",
      "Extracting parameters from ./../../../data/raw/PP\\PP2\\PP2_F1_RH_Removed_ICA.set...\n"
     ]
    },
    {
     "name": "stderr",
     "output_type": "stream",
     "text": [
      "<ipython-input-8-ca455454a3e4>:10: RuntimeWarning: At least one epoch has multiple events. Only the latency of the first event will be retained.\n",
      "  sets.append(mne.io.read_epochs_eeglab(path))\n"
     ]
    },
    {
     "name": "stdout",
     "output_type": "stream",
     "text": [
      "54 matching events found\n",
      "No baseline correction applied\n",
      "Not setting metadata\n",
      "0 projection items activated\n",
      "Ready.\n",
      "Extracting parameters from ./../../../data/raw/PP\\PP3\\PP3_F1_RH_Removed_ICA.set...\n"
     ]
    },
    {
     "name": "stderr",
     "output_type": "stream",
     "text": [
      "<ipython-input-8-ca455454a3e4>:10: RuntimeWarning: At least one epoch has multiple events. Only the latency of the first event will be retained.\n",
      "  sets.append(mne.io.read_epochs_eeglab(path))\n"
     ]
    },
    {
     "name": "stdout",
     "output_type": "stream",
     "text": [
      "51 matching events found\n",
      "No baseline correction applied\n",
      "Not setting metadata\n",
      "0 projection items activated\n",
      "Ready.\n",
      "Extracting parameters from ./../../../data/raw/PP\\PP4\\PP4_F1_RH_Removed_ICA.set...\n"
     ]
    },
    {
     "name": "stderr",
     "output_type": "stream",
     "text": [
      "<ipython-input-8-ca455454a3e4>:10: RuntimeWarning: At least one epoch has multiple events. Only the latency of the first event will be retained.\n",
      "  sets.append(mne.io.read_epochs_eeglab(path))\n"
     ]
    },
    {
     "name": "stdout",
     "output_type": "stream",
     "text": [
      "58 matching events found\n",
      "No baseline correction applied\n",
      "Not setting metadata\n",
      "0 projection items activated\n",
      "Ready.\n",
      "Extracting parameters from ./../../../data/raw/PP\\PP5\\PP5_F1_RH_Removed_ICA.set...\n"
     ]
    },
    {
     "name": "stderr",
     "output_type": "stream",
     "text": [
      "<ipython-input-8-ca455454a3e4>:10: RuntimeWarning: At least one epoch has multiple events. Only the latency of the first event will be retained.\n",
      "  sets.append(mne.io.read_epochs_eeglab(path))\n"
     ]
    },
    {
     "name": "stdout",
     "output_type": "stream",
     "text": [
      "56 matching events found\n",
      "No baseline correction applied\n",
      "Not setting metadata\n",
      "0 projection items activated\n",
      "Ready.\n",
      "Extracting parameters from ./../../../data/raw/PP\\PP6\\PP6_F1_RH_Removed_ICA.set...\n",
      "32 matching events found\n",
      "No baseline correction applied\n",
      "Not setting metadata\n"
     ]
    },
    {
     "name": "stderr",
     "output_type": "stream",
     "text": [
      "<ipython-input-8-ca455454a3e4>:10: RuntimeWarning: At least one epoch has multiple events. Only the latency of the first event will be retained.\n",
      "  sets.append(mne.io.read_epochs_eeglab(path))\n"
     ]
    },
    {
     "name": "stdout",
     "output_type": "stream",
     "text": [
      "0 projection items activated\n",
      "Ready.\n",
      "Extracting parameters from ./../../../data/raw/PP\\PP7\\PP7_F1_RH_Removed_ICA.set...\n",
      "52 matching events found"
     ]
    },
    {
     "name": "stderr",
     "output_type": "stream",
     "text": [
      "<ipython-input-8-ca455454a3e4>:10: RuntimeWarning: At least one epoch has multiple events. Only the latency of the first event will be retained.\n",
      "  sets.append(mne.io.read_epochs_eeglab(path))\n"
     ]
    },
    {
     "name": "stdout",
     "output_type": "stream",
     "text": [
      "\n",
      "No baseline correction applied\n",
      "Not setting metadata\n",
      "0 projection items activated\n",
      "Ready.\n",
      "Extracting parameters from ./../../../data/raw/PP\\PP9\\PP9_F1_RH_Removed_ICA.set...\n"
     ]
    },
    {
     "name": "stderr",
     "output_type": "stream",
     "text": [
      "<ipython-input-8-ca455454a3e4>:10: RuntimeWarning: At least one epoch has multiple events. Only the latency of the first event will be retained.\n",
      "  sets.append(mne.io.read_epochs_eeglab(path))\n"
     ]
    },
    {
     "name": "stdout",
     "output_type": "stream",
     "text": [
      "54 matching events found\n",
      "No baseline correction applied\n",
      "Not setting metadata\n",
      "0 projection items activated\n",
      "Ready.\n",
      "Extracting parameters from ./../../../data/raw/PnP\\PnP1\\PnP1_F1_RH_Removed_ICA.set...\n",
      "50 matching events found\n"
     ]
    },
    {
     "name": "stderr",
     "output_type": "stream",
     "text": [
      "<ipython-input-8-ca455454a3e4>:10: RuntimeWarning: At least one epoch has multiple events. Only the latency of the first event will be retained.\n",
      "  sets.append(mne.io.read_epochs_eeglab(path))\n"
     ]
    },
    {
     "name": "stdout",
     "output_type": "stream",
     "text": [
      "No baseline correction applied\n",
      "Not setting metadata\n",
      "0 projection items activated\n",
      "Ready.\n",
      "Extracting parameters from ./../../../data/raw/PnP\\PnP2\\PnP2_F1_RH_Removed_ICA.set...\n"
     ]
    },
    {
     "name": "stderr",
     "output_type": "stream",
     "text": [
      "<ipython-input-8-ca455454a3e4>:10: RuntimeWarning: At least one epoch has multiple events. Only the latency of the first event will be retained.\n",
      "  sets.append(mne.io.read_epochs_eeglab(path))\n"
     ]
    },
    {
     "name": "stdout",
     "output_type": "stream",
     "text": [
      "54 matching events found\n",
      "No baseline correction applied\n",
      "Not setting metadata\n",
      "0 projection items activated\n",
      "Ready.\n",
      "Extracting parameters from ./../../../data/raw/PnP\\PnP3\\PnP3_F1_RH_Removed_ICA.set...\n",
      "44 matching events found\n",
      "No baseline correction applied\n",
      "Not setting metadata\n"
     ]
    },
    {
     "name": "stderr",
     "output_type": "stream",
     "text": [
      "<ipython-input-8-ca455454a3e4>:10: RuntimeWarning: At least one epoch has multiple events. Only the latency of the first event will be retained.\n",
      "  sets.append(mne.io.read_epochs_eeglab(path))\n"
     ]
    },
    {
     "name": "stdout",
     "output_type": "stream",
     "text": [
      "0 projection items activated\n",
      "Ready.\n",
      "Extracting parameters from ./../../../data/raw/PnP\\PnP4\\PnP4_F1_RH_Removed_ICA.set...\n"
     ]
    },
    {
     "name": "stderr",
     "output_type": "stream",
     "text": [
      "<ipython-input-8-ca455454a3e4>:10: RuntimeWarning: At least one epoch has multiple events. Only the latency of the first event will be retained.\n",
      "  sets.append(mne.io.read_epochs_eeglab(path))\n"
     ]
    },
    {
     "name": "stdout",
     "output_type": "stream",
     "text": [
      "55 matching events found\n",
      "No baseline correction applied\n",
      "Not setting metadata\n",
      "0 projection items activated\n",
      "Ready.\n",
      "Extracting parameters from ./../../../data/raw/PnP\\PnP5\\PnP5_F1_RH_Removed_ICA.set...\n"
     ]
    },
    {
     "name": "stderr",
     "output_type": "stream",
     "text": [
      "<ipython-input-8-ca455454a3e4>:10: RuntimeWarning: At least one epoch has multiple events. Only the latency of the first event will be retained.\n",
      "  sets.append(mne.io.read_epochs_eeglab(path))\n"
     ]
    },
    {
     "name": "stdout",
     "output_type": "stream",
     "text": [
      "50 matching events found\n",
      "No baseline correction applied\n",
      "Not setting metadata\n",
      "0 projection items activated\n",
      "Ready.\n",
      "Extracting parameters from ./../../../data/raw/PnP\\PnP6\\PnP6_F1_RH_Removed_ICA.set...\n"
     ]
    },
    {
     "name": "stderr",
     "output_type": "stream",
     "text": [
      "<ipython-input-8-ca455454a3e4>:10: RuntimeWarning: At least one epoch has multiple events. Only the latency of the first event will be retained.\n",
      "  sets.append(mne.io.read_epochs_eeglab(path))\n"
     ]
    },
    {
     "name": "stdout",
     "output_type": "stream",
     "text": [
      "55 matching events found\n",
      "No baseline correction applied\n",
      "Not setting metadata\n",
      "0 projection items activated\n",
      "Ready.\n",
      "Extracting parameters from ./../../../data/raw/PnP\\PnP7\\PnP7_F01_RH_Removed_ICA.set...\n"
     ]
    },
    {
     "name": "stderr",
     "output_type": "stream",
     "text": [
      "<ipython-input-8-ca455454a3e4>:10: RuntimeWarning: At least one epoch has multiple events. Only the latency of the first event will be retained.\n",
      "  sets.append(mne.io.read_epochs_eeglab(path))\n"
     ]
    },
    {
     "name": "stdout",
     "output_type": "stream",
     "text": [
      "58 matching events found\n",
      "No baseline correction applied\n",
      "Not setting metadata\n",
      "0 projection items activated\n",
      "Ready.\n",
      "Extracting parameters from ./../../../data/raw/PnP\\PnP8\\PnP8_F1_RH_Removed_ICA.set...\n",
      "53 matching events found"
     ]
    },
    {
     "name": "stderr",
     "output_type": "stream",
     "text": [
      "<ipython-input-8-ca455454a3e4>:10: RuntimeWarning: At least one epoch has multiple events. Only the latency of the first event will be retained.\n",
      "  sets.append(mne.io.read_epochs_eeglab(path))\n"
     ]
    },
    {
     "name": "stdout",
     "output_type": "stream",
     "text": [
      "\n",
      "No baseline correction applied\n",
      "Not setting metadata\n",
      "0 projection items activated\n",
      "Ready.\n",
      "Extracting parameters from ./../../../data/raw/PnP\\PnP9\\PnP9_F1_RH_Removed_ICA.set...\n"
     ]
    },
    {
     "name": "stderr",
     "output_type": "stream",
     "text": [
      "<ipython-input-8-ca455454a3e4>:10: RuntimeWarning: At least one epoch has multiple events. Only the latency of the first event will be retained.\n",
      "  sets.append(mne.io.read_epochs_eeglab(path))\n"
     ]
    },
    {
     "name": "stdout",
     "output_type": "stream",
     "text": [
      "54 matching events found\n",
      "No baseline correction applied\n",
      "Not setting metadata\n",
      "0 projection items activated\n",
      "Ready.\n"
     ]
    }
   ],
   "source": [
    "pp_rh_raw = get_datasets(location_pain, rh)\n",
    "pnp_rh_raw = get_datasets(location_nopain, rh)"
   ]
  },
  {
   "cell_type": "code",
   "execution_count": 12,
   "metadata": {},
   "outputs": [
    {
     "data": {
      "text/plain": [
       "(57, 61, 1250)"
      ]
     },
     "execution_count": 12,
     "metadata": {},
     "output_type": "execute_result"
    }
   ],
   "source": [
    "pp_rh_raw[0].shape"
   ]
  },
  {
   "cell_type": "code",
   "execution_count": 13,
   "metadata": {},
   "outputs": [],
   "source": [
    "pp_rh_bp = np.array([np.array([channels_bandpower(arr) for arr in patient]) for patient in pp_rh_raw])\n",
    "pnp_rh_bp = np.array([np.array([channels_bandpower(arr) for arr in patient]) for patient in pnp_rh_raw])"
   ]
  },
  {
   "cell_type": "code",
   "execution_count": null,
   "metadata": {},
   "outputs": [],
   "source": []
  },
  {
   "cell_type": "code",
   "execution_count": 122,
   "metadata": {},
   "outputs": [
    {
     "data": {
      "text/plain": [
       "(9,)"
      ]
     },
     "execution_count": 122,
     "metadata": {},
     "output_type": "execute_result"
    }
   ],
   "source": [
    "pnp_rh_bp.shape"
   ]
  },
  {
   "cell_type": "markdown",
   "metadata": {},
   "source": [
    "Set some patients aside for testing"
   ]
  },
  {
   "cell_type": "code",
   "execution_count": 718,
   "metadata": {},
   "outputs": [
    {
     "data": {
      "text/plain": [
       "58"
      ]
     },
     "execution_count": 718,
     "metadata": {},
     "output_type": "execute_result"
    }
   ],
   "source": [
    "test_index = 5\n",
    "pp_test_len = len(pp_rh[test_index])\n",
    "pnp_test_len = len(pnp_rh[test_index])\n",
    "test_p = [pp_rh[test_index]] + [pnp_rh[test_index]]\n",
    "pp_rh = np.delete(pp_rh, test_index)\n",
    "pnp_rh = np.delete(pnp_rh, test_index)\n",
    "pp_test_len"
   ]
  },
  {
   "cell_type": "code",
   "execution_count": 15,
   "metadata": {},
   "outputs": [
    {
     "data": {
      "text/plain": [
       "(19,)"
      ]
     },
     "execution_count": 15,
     "metadata": {},
     "output_type": "execute_result"
    }
   ],
   "source": [
    "pp_and_pnp_bp = np.concatenate((pp_rh_bp, pnp_rh_bp))\n",
    "pp_and_pnp_bp.shape"
   ]
  },
  {
   "cell_type": "code",
   "execution_count": null,
   "metadata": {},
   "outputs": [],
   "source": [
    "test_index = []"
   ]
  },
  {
   "cell_type": "code",
   "execution_count": 719,
   "metadata": {},
   "outputs": [
    {
     "data": {
      "text/plain": [
       "(113, 61, 1250)"
      ]
     },
     "execution_count": 719,
     "metadata": {},
     "output_type": "execute_result"
    }
   ],
   "source": [
    "test_p_separated = np.vstack(test_p)\n",
    "test_p_separated.shape"
   ]
  },
  {
   "cell_type": "code",
   "execution_count": 720,
   "metadata": {},
   "outputs": [
    {
     "data": {
      "text/plain": [
       "418"
      ]
     },
     "execution_count": 720,
     "metadata": {},
     "output_type": "execute_result"
    }
   ],
   "source": [
    "pp_rh_separated = np.vstack(pp_rh)\n",
    "pnp_rh_separated = np.vstack(pnp_rh)\n",
    "pp_train_len = pp_rh_separated.shape[0]\n",
    "pnp_train_len = pnp_rh_separated.shape[0]\n",
    "pnp_train_len"
   ]
  },
  {
   "cell_type": "code",
   "execution_count": 721,
   "metadata": {},
   "outputs": [
    {
     "data": {
      "text/plain": [
       "(890, 61, 1250)"
      ]
     },
     "execution_count": 721,
     "metadata": {},
     "output_type": "execute_result"
    }
   ],
   "source": [
    "pnp_vs_pp_rh = np.concatenate((pp_rh_separated, pnp_rh_separated))\n",
    "pnp_vs_pp_rh.shape"
   ]
  },
  {
   "cell_type": "code",
   "execution_count": null,
   "metadata": {},
   "outputs": [],
   "source": []
  },
  {
   "cell_type": "code",
   "execution_count": 722,
   "metadata": {},
   "outputs": [],
   "source": [
    "# Calculate bandpower for all channels for a patient\n",
    "def channels_bandpower(channels):\n",
    "    fs = 250\n",
    "    b = bandpower\n",
    "    return np.array(list(map( lambda arr: [b(arr, fs, 4, 7), b(arr, fs, 8, 12), b(arr, fs, 13, 30)], channels)))\n",
    "    "
   ]
  },
  {
   "cell_type": "code",
   "execution_count": null,
   "metadata": {},
   "outputs": [],
   "source": []
  },
  {
   "cell_type": "code",
   "execution_count": 723,
   "metadata": {},
   "outputs": [],
   "source": [
    "train_bp = np.array([channels_bandpower(arr) for arr in pnp_vs_pp_rh])"
   ]
  },
  {
   "cell_type": "code",
   "execution_count": 724,
   "metadata": {},
   "outputs": [],
   "source": [
    "test_p_bp = np.array([channels_bandpower(arr) for arr in test_p_separated])"
   ]
  },
  {
   "cell_type": "code",
   "execution_count": 725,
   "metadata": {},
   "outputs": [
    {
     "data": {
      "text/plain": [
       "(113, 61, 3)"
      ]
     },
     "execution_count": 725,
     "metadata": {},
     "output_type": "execute_result"
    }
   ],
   "source": [
    "test_p_bp.shape"
   ]
  },
  {
   "cell_type": "code",
   "execution_count": 726,
   "metadata": {},
   "outputs": [],
   "source": [
    "mul = 10000000000000"
   ]
  },
  {
   "cell_type": "code",
   "execution_count": 694,
   "metadata": {},
   "outputs": [
    {
     "data": {
      "text/plain": [
       "(902, 12)"
      ]
     },
     "execution_count": 694,
     "metadata": {},
     "output_type": "execute_result"
    }
   ],
   "source": [
    "train = np.array(list(map(np.ravel, train_bp[:, [0, 3, 10, 36], :]))) * mul\n",
    "train.shape"
   ]
  },
  {
   "cell_type": "code",
   "execution_count": 695,
   "metadata": {},
   "outputs": [
    {
     "data": {
      "text/plain": [
       "(101, 12)"
      ]
     },
     "execution_count": 695,
     "metadata": {},
     "output_type": "execute_result"
    }
   ],
   "source": [
    "test = np.array(list(map(np.ravel, test_p_bp[:, [0, 3, 10, 36], :]))) * mul\n",
    "test.shape"
   ]
  },
  {
   "cell_type": "code",
   "execution_count": 738,
   "metadata": {},
   "outputs": [
    {
     "data": {
      "text/plain": [
       "(890, 3)"
      ]
     },
     "execution_count": 738,
     "metadata": {},
     "output_type": "execute_result"
    }
   ],
   "source": [
    "train = train_bp[:, 36] * mul\n",
    "train.shape"
   ]
  },
  {
   "cell_type": "code",
   "execution_count": 739,
   "metadata": {},
   "outputs": [
    {
     "data": {
      "text/plain": [
       "(113, 3)"
      ]
     },
     "execution_count": 739,
     "metadata": {},
     "output_type": "execute_result"
    }
   ],
   "source": [
    "test = test_p_bp[:, 36] * mul\n",
    "test.shape"
   ]
  },
  {
   "cell_type": "code",
   "execution_count": 740,
   "metadata": {},
   "outputs": [
    {
     "data": {
      "text/plain": [
       "array([[ 4.0917608 ,  5.66221909,  7.55904836],\n",
       "       [ 5.07892197,  9.32223637,  4.6873921 ],\n",
       "       [ 5.44867988, 15.2534851 ,  9.44472811],\n",
       "       ...,\n",
       "       [ 6.68950809, 18.06202317, 19.83620624],\n",
       "       [10.58425541, 41.04006272, 37.42890273],\n",
       "       [11.03357484, 63.11587471, 29.15762232]])"
      ]
     },
     "execution_count": 740,
     "metadata": {},
     "output_type": "execute_result"
    }
   ],
   "source": [
    "train"
   ]
  },
  {
   "cell_type": "code",
   "execution_count": 741,
   "metadata": {},
   "outputs": [],
   "source": [
    "labels = [1] * pp_train_len + [0] * pnp_train_len\n",
    "test_labels = [1] * pp_test_len + [0] * pnp_test_len"
   ]
  },
  {
   "cell_type": "markdown",
   "metadata": {},
   "source": [
    "It's time to learn"
   ]
  },
  {
   "cell_type": "code",
   "execution_count": 742,
   "metadata": {},
   "outputs": [],
   "source": [
    "from sklearn import neighbors\n",
    "from sklearn.model_selection import train_test_split"
   ]
  },
  {
   "cell_type": "code",
   "execution_count": 743,
   "metadata": {},
   "outputs": [],
   "source": [
    "knn = neighbors.KNeighborsClassifier(n_neighbors=23)"
   ]
  },
  {
   "cell_type": "code",
   "execution_count": 744,
   "metadata": {},
   "outputs": [],
   "source": [
    "x_train, x_test, y_train, y_test = train_test_split(train, labels, test_size=0.05)"
   ]
  },
  {
   "cell_type": "code",
   "execution_count": 745,
   "metadata": {},
   "outputs": [
    {
     "data": {
      "text/plain": [
       "KNeighborsClassifier(algorithm='auto', leaf_size=30, metric='minkowski',\n",
       "           metric_params=None, n_jobs=1, n_neighbors=23, p=2,\n",
       "           weights='uniform')"
      ]
     },
     "execution_count": 745,
     "metadata": {},
     "output_type": "execute_result"
    }
   ],
   "source": [
    "knn.fit(x_train, y_train)"
   ]
  },
  {
   "cell_type": "code",
   "execution_count": 746,
   "metadata": {},
   "outputs": [
    {
     "data": {
      "text/plain": [
       "0.8615384615384616"
      ]
     },
     "execution_count": 746,
     "metadata": {},
     "output_type": "execute_result"
    }
   ],
   "source": [
    "knn.score(x_train, y_train)"
   ]
  },
  {
   "cell_type": "code",
   "execution_count": 747,
   "metadata": {},
   "outputs": [
    {
     "data": {
      "text/plain": [
       "0.8444444444444444"
      ]
     },
     "execution_count": 747,
     "metadata": {},
     "output_type": "execute_result"
    }
   ],
   "source": [
    "knn.score(x_test, y_test)"
   ]
  },
  {
   "cell_type": "code",
   "execution_count": 748,
   "metadata": {},
   "outputs": [
    {
     "data": {
      "text/plain": [
       "0.6814159292035398"
      ]
     },
     "execution_count": 748,
     "metadata": {},
     "output_type": "execute_result"
    }
   ],
   "source": [
    "np.count_nonzero(knn.predict(test) == test_labels)/len(test)"
   ]
  },
  {
   "cell_type": "code",
   "execution_count": 749,
   "metadata": {},
   "outputs": [
    {
     "name": "stdout",
     "output_type": "stream",
     "text": [
      "Channel: 0 Score: 7.822222222222222 New patient: 2.0176991150442483\n",
      "Channel: 1 Score: 7.866666666666667 New patient: 3.097345132743363\n",
      "Channel: 2 Score: 7.644444444444445 New patient: 1.1504424778761062\n",
      "Channel: 3 Score: 8.288888888888888 New patient: 5.185840707964602\n",
      "Channel: 4 Score: 8.133333333333333 New patient: 8.026548672566372\n",
      "Channel: 5 Score: 7.644444444444444 New patient: 5.5221238938053085\n",
      "Channel: 6 Score: 8.666666666666666 New patient: 4.938053097345133\n",
      "Channel: 7 Score: 7.466666666666667 New patient: 5.309734513274336\n",
      "Channel: 8 Score: 7.533333333333333 New patient: 2.345132743362832\n",
      "Channel: 9 Score: 8.2 New patient: 4.575221238938052\n",
      "Channel: 10 Score: 8.133333333333333 New patient: 3.9026548672566372\n",
      "Channel: 11 Score: 7.7333333333333325 New patient: 3.451327433628318\n",
      "Channel: 12 Score: 8.2 New patient: 6.292035398230089\n",
      "Channel: 13 Score: 7.555555555555555 New patient: 6.79646017699115\n",
      "Channel: 14 Score: 8.088888888888889 New patient: 2.008849557522124\n",
      "Channel: 15 Score: 8.466666666666667 New patient: 7.575221238938052\n",
      "Channel: 16 Score: 7.577777777777778 New patient: 8.424778761061946\n",
      "Channel: 17 Score: 7.888888888888888 New patient: 6.663716814159292\n",
      "Channel: 18 Score: 8.2 New patient: 5.84070796460177\n",
      "Channel: 19 Score: 8.466666666666667 New patient: 5.9734513274336285\n",
      "Channel: 20 Score: 7.777777777777779 New patient: 5.9115044247787605\n",
      "Channel: 21 Score: 8.222222222222223 New patient: 5.584070796460176\n",
      "Channel: 22 Score: 8.066666666666666 New patient: 6.672566371681415\n",
      "Channel: 23 Score: 7.8 New patient: 6.185840707964601\n",
      "Channel: 24 Score: 8.11111111111111 New patient: 6.212389380530972\n",
      "Channel: 25 Score: 8.288888888888888 New patient: 2.557522123893805\n",
      "Channel: 26 Score: 7.977777777777777 New patient: 5.353982300884955\n",
      "Channel: 27 Score: 7.888888888888888 New patient: 6.20353982300885\n",
      "Channel: 28 Score: 7.844444444444445 New patient: 5.893805309734512\n",
      "Channel: 29 Score: 7.711111111111111 New patient: 5.823008849557523\n",
      "Channel: 30 Score: 7.977777777777777 New patient: 6.123893805309734\n",
      "Channel: 31 Score: 7.8 New patient: 7.230088495575222\n",
      "Channel: 32 Score: 8.355555555555554 New patient: 5.539823008849558\n",
      "Channel: 33 Score: 8.777777777777779 New patient: 8.176991150442477\n",
      "Channel: 34 Score: 7.666666666666666 New patient: 4.610619469026549\n",
      "Channel: 35 Score: 8.355555555555556 New patient: 7.893805309734513\n",
      "Channel: 36 Score: 8.577777777777778 New patient: 6.460176991150443\n",
      "Channel: 37 Score: 8.488888888888889 New patient: 5.796460176991151\n",
      "Channel: 38 Score: 8.244444444444444 New patient: 6.79646017699115\n",
      "Channel: 39 Score: 8.555555555555557 New patient: 7.513274336283185\n",
      "Channel: 40 Score: 7.311111111111113 New patient: 6.530973451327434\n",
      "Channel: 41 Score: 7.688888888888888 New patient: 3.769911504424779\n",
      "Channel: 42 Score: 8.0 New patient: 7.433628318584071\n",
      "Channel: 43 Score: 7.488888888888889 New patient: 9.734513274336283\n",
      "Channel: 44 Score: 7.377777777777778 New patient: 7.539823008849558\n",
      "Channel: 45 Score: 8.222222222222221 New patient: 8.238938053097344\n",
      "Channel: 46 Score: 7.755555555555555 New patient: 8.646017699115045\n",
      "Channel: 47 Score: 7.933333333333332 New patient: 7.716814159292036\n",
      "Channel: 48 Score: 8.444444444444445 New patient: 7.238938053097344\n",
      "Channel: 49 Score: 8.822222222222223 New patient: 6.04424778761062\n",
      "Channel: 50 Score: 8.31111111111111 New patient: 7.787610619469025\n",
      "Channel: 51 Score: 8.355555555555556 New patient: 8.106194690265486\n",
      "Channel: 52 Score: 7.777777777777778 New patient: 4.575221238938053\n",
      "Channel: 53 Score: 7.4222222222222225 New patient: 4.646017699115044\n",
      "Channel: 54 Score: 7.511111111111111 New patient: 4.31858407079646\n",
      "Channel: 55 Score: 7.533333333333333 New patient: 6.451327433628319\n",
      "Channel: 56 Score: 7.866666666666666 New patient: 3.0707964601769913\n",
      "Channel: 57 Score: 7.311111111111111 New patient: 6.247787610619469\n",
      "Channel: 58 Score: 7.222222222222222 New patient: 5.530973451327433\n",
      "Channel: 59 Score: 7.533333333333333 New patient: 3.4601769911504427\n",
      "Channel: 60 Score: 7.311111111111113 New patient: 4.115044247787611\n"
     ]
    }
   ],
   "source": [
    "for channel in range(0, 61):\n",
    "    score = 0\n",
    "    new_patient_score = 0\n",
    "    \n",
    "    for trial in range(10):\n",
    "        clas = neighbors.KNeighborsClassifier(n_neighbors=33)\n",
    "        train = train_bp[:, channel] * mul\n",
    "        test = test_p_bp[:, channel] * mul\n",
    "        labels = [1] * pp_train_len + [0] * pnp_train_len\n",
    "        test_labels = [1] * pp_test_len + [0] * pnp_test_len\n",
    "        x_train, x_test, y_train, y_test = train_test_split(train, labels, test_size=0.05)\n",
    "        clas.fit(x_train, y_train)\n",
    "        score += clas.score(x_test, y_test)\n",
    "        new_patient_score += np.count_nonzero(clas.predict(test) == test_labels)/len(test_labels)\n",
    "        # print(channel, np.sum(np.abs(clas.predict_proba(pnp_vs_pp_rh[0:400, channel])-clas.predict_proba(pnp_vs_pp_rh[600:1000, channel]))))\n",
    "    \n",
    "    print('Channel:', channel, 'Score:', score, 'New patient:', new_patient_score)"
   ]
  },
  {
   "cell_type": "code",
   "execution_count": 67,
   "metadata": {},
   "outputs": [
    {
     "data": {
      "text/plain": [
       "KNeighborsClassifier(algorithm='auto', leaf_size=30, metric='minkowski',\n",
       "           metric_params=None, n_jobs=1, n_neighbors=13, p=2,\n",
       "           weights='uniform')"
      ]
     },
     "execution_count": 67,
     "metadata": {},
     "output_type": "execute_result"
    }
   ],
   "source": [
    "clas = neighbors.KNeighborsClassifier(n_neighbors=13)\n",
    "train = train_bp[:, 3]\n",
    "labels = [1] * 530 + [1] * 473\n",
    "x_train, x_test, y_train, y_test = train_test_split(train, labels, test_size=0.1)\n",
    "clas.fit(x_train, y_train)"
   ]
  },
  {
   "cell_type": "code",
   "execution_count": 68,
   "metadata": {},
   "outputs": [
    {
     "data": {
      "text/plain": [
       "1.0"
      ]
     },
     "execution_count": 68,
     "metadata": {},
     "output_type": "execute_result"
    }
   ],
   "source": [
    "clas.score(x_train, y_train)"
   ]
  },
  {
   "cell_type": "code",
   "execution_count": 69,
   "metadata": {},
   "outputs": [
    {
     "data": {
      "text/plain": [
       "1.0"
      ]
     },
     "execution_count": 69,
     "metadata": {},
     "output_type": "execute_result"
    }
   ],
   "source": [
    "clas.score(x_test, y_test)"
   ]
  },
  {
   "cell_type": "code",
   "execution_count": null,
   "metadata": {},
   "outputs": [],
   "source": []
  }
 ],
 "metadata": {
  "kernelspec": {
   "display_name": "Python 3",
   "language": "python",
   "name": "python3"
  },
  "language_info": {
   "codemirror_mode": {
    "name": "ipython",
    "version": 3
   },
   "file_extension": ".py",
   "mimetype": "text/x-python",
   "name": "python",
   "nbconvert_exporter": "python",
   "pygments_lexer": "ipython3",
   "version": "3.5.6"
  }
 },
 "nbformat": 4,
 "nbformat_minor": 2
}
