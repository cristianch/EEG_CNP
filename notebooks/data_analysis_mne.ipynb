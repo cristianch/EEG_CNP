{
 "cells": [
  {
   "cell_type": "code",
   "execution_count": 1,
   "metadata": {
    "colab": {
     "base_uri": "https://localhost:8080/",
     "height": 71
    },
    "colab_type": "code",
    "executionInfo": {
     "elapsed": 3131,
     "status": "ok",
     "timestamp": 1570552276748,
     "user": {
      "displayName": "cristian chirion",
      "photoUrl": "",
      "userId": "18164099237135026694"
     },
     "user_tz": -60
    },
    "id": "3OOnx5UkNR7H",
    "outputId": "f523639b-169d-41f2-b9ca-b32dd72901b9"
   },
   "outputs": [],
   "source": [
    "import sys\n",
    "import numpy as np\n",
    "import matplotlib.pyplot as plt\n",
    "import mne\n",
    "import glob"
   ]
  },
  {
   "cell_type": "code",
   "execution_count": 2,
   "metadata": {
    "colab": {},
    "colab_type": "code",
    "id": "XgoSj_UtNR7J"
   },
   "outputs": [],
   "source": [
    "local_path = './../../../data/raw/HV/HV1/HV1_F1_L_Removed_ICA.set'\n"
   ]
  },
  {
   "cell_type": "code",
   "execution_count": 17,
   "metadata": {},
   "outputs": [],
   "source": [
    "# Returns relevant datasets (f.e. all right-hand recordings of healthy patients) as a list of np arrays\n",
    "def get_datasets(patient_type_location, recording_type_expression):\n",
    "    if recording_type_expression != l_new:\n",
    "        sets_locations = glob.glob(patient_type_location + recording_type_expression + suffix)\n",
    "    else:\n",
    "        sets_locations = glob.glob(patient_type_location + recording_type_expression)\n",
    "    \n",
    "    sets = []\n",
    "    for path in sets_locations: \n",
    "        sets.append(mne.io.read_epochs_eeglab(path))\n",
    "        \n",
    "    return [patient._data for patient in sets]"
   ]
  },
  {
   "cell_type": "code",
   "execution_count": 15,
   "metadata": {},
   "outputs": [
    {
     "data": {
      "text/plain": [
       "['./../../../data_new/raw/PnP\\\\PnP_1\\\\PnP_1_LH.set',\n",
       " './../../../data_new/raw/PnP\\\\PnP_10\\\\PnP_10_LH.set',\n",
       " './../../../data_new/raw/PnP\\\\PnP_2\\\\PnP_2_LH.set',\n",
       " './../../../data_new/raw/PnP\\\\PnP_3\\\\PnP_3_LH.set',\n",
       " './../../../data_new/raw/PnP\\\\PnP_4\\\\PnP_4_LH.set',\n",
       " './../../../data_new/raw/PnP\\\\PnP_5\\\\PnP_5_LH.set',\n",
       " './../../../data_new/raw/PnP\\\\PnP_6\\\\PnP_6_LH.set',\n",
       " './../../../data_new/raw/PnP\\\\PnP_7\\\\PnP_7_LH.set',\n",
       " './../../../data_new/raw/PnP\\\\PnP_8\\\\PnP_8_LH.set',\n",
       " './../../../data_new/raw/PnP\\\\PnP_9\\\\PnP_9_LH.set']"
      ]
     },
     "execution_count": 15,
     "metadata": {},
     "output_type": "execute_result"
    }
   ],
   "source": [
    "root = './../../../'\n",
    "suffix = '*.set'\n",
    "\n",
    "location_healthy = root + 'data/raw/HV/*/'\n",
    "location_pain = root + 'data/raw/PP/*/'\n",
    "location_nopain = root + 'data/raw/PnP/*/'\n",
    "\n",
    "location_pwp = root + 'data_new/raw/PwP/*/'\n",
    "location_pdp = root + 'data_new/raw/PdP/*/'\n",
    "location_pnp = root + 'data_new/raw/PnP/*/'\n",
    "\n",
    "\n",
    "rh = '*_RH*'\n",
    "lh = '*_LH*'\n",
    "l_new = '*_L.set'   # NO SUFFIX\n",
    "l_old = '*_L_*'\n",
    "\n",
    "sets_healthy_rh = glob.glob(location_pnp + lh + suffix)\n",
    "\n",
    "sets_healthy_rh"
   ]
  },
  {
   "cell_type": "code",
   "execution_count": 76,
   "metadata": {},
   "outputs": [
    {
     "name": "stdout",
     "output_type": "stream",
     "text": [
      "Extracting parameters from ./../../../data/raw/HV\\HV1\\HV1_F1_RH_Removed_ICA.set...\n",
      "56 matching events found\n",
      "No baseline correction applied\n",
      "Not setting metadata\n",
      "0 projection items activated\n",
      "Ready.\n"
     ]
    },
    {
     "name": "stderr",
     "output_type": "stream",
     "text": [
      "<ipython-input-74-4f4e7cbd203b>:10: RuntimeWarning: At least one epoch has multiple events. Only the latency of the first event will be retained.\n",
      "  sets.append(mne.io.read_epochs_eeglab(path))\n",
      "<ipython-input-74-4f4e7cbd203b>:10: RuntimeWarning: At least one epoch has multiple events. Only the latency of the first event will be retained.\n",
      "  sets.append(mne.io.read_epochs_eeglab(path))\n"
     ]
    },
    {
     "name": "stdout",
     "output_type": "stream",
     "text": [
      "Extracting parameters from ./../../../data/raw/HV\\HV10\\HV10_F1_RH_Removed_ICA.set...\n",
      "54 matching events found\n",
      "No baseline correction applied\n",
      "Not setting metadata\n",
      "0 projection items activated\n",
      "Ready.\n",
      "Extracting parameters from ./../../../data/raw/HV\\HV2\\HV2_F1_RH_Removed_ICA.set...\n",
      "54 matching events found\n",
      "No baseline correction applied\n",
      "Not setting metadata\n"
     ]
    },
    {
     "name": "stderr",
     "output_type": "stream",
     "text": [
      "<ipython-input-74-4f4e7cbd203b>:10: RuntimeWarning: At least one epoch has multiple events. Only the latency of the first event will be retained.\n",
      "  sets.append(mne.io.read_epochs_eeglab(path))\n"
     ]
    },
    {
     "name": "stdout",
     "output_type": "stream",
     "text": [
      "0 projection items activated\n",
      "Ready.\n",
      "Extracting parameters from ./../../../data/raw/HV\\HV3\\HV3_F1_RH_Removed_ICA.set...\n",
      "58 matching events found\n",
      "No baseline correction applied\n",
      "Not setting metadata\n",
      "0 projection items activated\n",
      "Ready.\n",
      "Extracting parameters from ./../../../data/raw/HV\\HV4\\HV4_F1_RH_Removed_ICA.set...\n",
      "52 matching events found\n",
      "No baseline correction applied\n",
      "Not setting metadata\n"
     ]
    },
    {
     "name": "stderr",
     "output_type": "stream",
     "text": [
      "<ipython-input-74-4f4e7cbd203b>:10: RuntimeWarning: At least one epoch has multiple events. Only the latency of the first event will be retained.\n",
      "  sets.append(mne.io.read_epochs_eeglab(path))\n",
      "<ipython-input-74-4f4e7cbd203b>:10: RuntimeWarning: At least one epoch has multiple events. Only the latency of the first event will be retained.\n",
      "  sets.append(mne.io.read_epochs_eeglab(path))\n"
     ]
    },
    {
     "name": "stdout",
     "output_type": "stream",
     "text": [
      "0 projection items activated\n",
      "Ready.\n",
      "Extracting parameters from ./../../../data/raw/HV\\HV5\\HV5_F1_RH_Removed_ICA.set...\n",
      "57 matching events found\n",
      "No baseline correction applied\n",
      "Not setting metadata\n",
      "0 projection items activated\n",
      "Ready.\n",
      "Extracting parameters from ./../../../data/raw/HV\\HV6\\HV6_F1_RH_Removed_ICA.set...\n"
     ]
    },
    {
     "name": "stderr",
     "output_type": "stream",
     "text": [
      "<ipython-input-74-4f4e7cbd203b>:10: RuntimeWarning: At least one epoch has multiple events. Only the latency of the first event will be retained.\n",
      "  sets.append(mne.io.read_epochs_eeglab(path))\n",
      "<ipython-input-74-4f4e7cbd203b>:10: RuntimeWarning: At least one epoch has multiple events. Only the latency of the first event will be retained.\n",
      "  sets.append(mne.io.read_epochs_eeglab(path))\n"
     ]
    },
    {
     "name": "stdout",
     "output_type": "stream",
     "text": [
      "54 matching events found\n",
      "No baseline correction applied\n",
      "Not setting metadata\n",
      "0 projection items activated\n",
      "Ready.\n",
      "Extracting parameters from ./../../../data/raw/HV\\HV7\\HV7_F1_RH_Removed_ICA.set...\n",
      "54 matching events found\n",
      "No baseline correction applied\n",
      "Not setting metadata\n",
      "0 projection items activated\n",
      "Ready.\n",
      "Extracting parameters from ./../../../data/raw/HV\\HV8\\HV8_F1_RH_Removed_ICA.set...\n"
     ]
    },
    {
     "name": "stderr",
     "output_type": "stream",
     "text": [
      "<ipython-input-74-4f4e7cbd203b>:10: RuntimeWarning: At least one epoch has multiple events. Only the latency of the first event will be retained.\n",
      "  sets.append(mne.io.read_epochs_eeglab(path))\n",
      "<ipython-input-74-4f4e7cbd203b>:10: RuntimeWarning: At least one epoch has multiple events. Only the latency of the first event will be retained.\n",
      "  sets.append(mne.io.read_epochs_eeglab(path))\n"
     ]
    },
    {
     "name": "stdout",
     "output_type": "stream",
     "text": [
      "59 matching events found\n",
      "No baseline correction applied\n",
      "Not setting metadata\n",
      "0 projection items activated\n",
      "Ready.\n",
      "Extracting parameters from ./../../../data/raw/HV\\HV9\\HV9_F1_RH_Removed_ICA.set...\n",
      "53 matching events found\n",
      "No baseline correction applied\n",
      "Not setting metadata\n",
      "0 projection items activated\n",
      "Ready.\n"
     ]
    },
    {
     "name": "stderr",
     "output_type": "stream",
     "text": [
      "<ipython-input-74-4f4e7cbd203b>:10: RuntimeWarning: At least one epoch has multiple events. Only the latency of the first event will be retained.\n",
      "  sets.append(mne.io.read_epochs_eeglab(path))\n"
     ]
    },
    {
     "name": "stdout",
     "output_type": "stream",
     "text": [
      "Extracting parameters from ./../../../data/raw/PP\\PP1\\PP1_F1_RH_Removed_ICA.set...\n",
      "57 matching events found\n",
      "No baseline correction applied\n",
      "Not setting metadata\n",
      "0 projection items activated\n",
      "Ready.\n",
      "Extracting parameters from ./../../../data/raw/PP\\PP10\\PP10_F1_RH_Removed_ICA.set...\n",
      "57 matching events found\n"
     ]
    },
    {
     "name": "stderr",
     "output_type": "stream",
     "text": [
      "<ipython-input-74-4f4e7cbd203b>:10: RuntimeWarning: At least one epoch has multiple events. Only the latency of the first event will be retained.\n",
      "  sets.append(mne.io.read_epochs_eeglab(path))\n",
      "<ipython-input-74-4f4e7cbd203b>:10: RuntimeWarning: At least one epoch has multiple events. Only the latency of the first event will be retained.\n",
      "  sets.append(mne.io.read_epochs_eeglab(path))\n"
     ]
    },
    {
     "name": "stdout",
     "output_type": "stream",
     "text": [
      "No baseline correction applied\n",
      "Not setting metadata\n",
      "0 projection items activated\n",
      "Ready.\n",
      "Extracting parameters from ./../../../data/raw/PP\\PP11\\PP11_F1_RH_Removed_ICA.set...\n",
      "59 matching events found\n",
      "No baseline correction applied\n",
      "Not setting metadata\n",
      "0 projection items activated\n",
      "Ready.\n",
      "Extracting parameters from ./../../../data/raw/PP\\PP2\\PP2_F1_RH_Removed_ICA.set...\n",
      "54 matching events found\n",
      "No baseline correction applied\n",
      "Not setting metadata\n"
     ]
    },
    {
     "name": "stderr",
     "output_type": "stream",
     "text": [
      "<ipython-input-74-4f4e7cbd203b>:10: RuntimeWarning: At least one epoch has multiple events. Only the latency of the first event will be retained.\n",
      "  sets.append(mne.io.read_epochs_eeglab(path))\n",
      "<ipython-input-74-4f4e7cbd203b>:10: RuntimeWarning: At least one epoch has multiple events. Only the latency of the first event will be retained.\n",
      "  sets.append(mne.io.read_epochs_eeglab(path))\n"
     ]
    },
    {
     "name": "stdout",
     "output_type": "stream",
     "text": [
      "0 projection items activated\n",
      "Ready.\n",
      "Extracting parameters from ./../../../data/raw/PP\\PP3\\PP3_F1_RH_Removed_ICA.set...\n",
      "51 matching events found\n",
      "No baseline correction applied\n",
      "Not setting metadata\n",
      "0 projection items activated\n",
      "Ready.\n",
      "Extracting parameters from ./../../../data/raw/PP\\PP4\\PP4_F1_RH_Removed_ICA.set...\n",
      "58 matching events found\n",
      "No baseline correction applied\n",
      "Not setting metadata\n"
     ]
    },
    {
     "name": "stderr",
     "output_type": "stream",
     "text": [
      "<ipython-input-74-4f4e7cbd203b>:10: RuntimeWarning: At least one epoch has multiple events. Only the latency of the first event will be retained.\n",
      "  sets.append(mne.io.read_epochs_eeglab(path))\n",
      "<ipython-input-74-4f4e7cbd203b>:10: RuntimeWarning: At least one epoch has multiple events. Only the latency of the first event will be retained.\n",
      "  sets.append(mne.io.read_epochs_eeglab(path))\n"
     ]
    },
    {
     "name": "stdout",
     "output_type": "stream",
     "text": [
      "0 projection items activated\n",
      "Ready.\n",
      "Extracting parameters from ./../../../data/raw/PP\\PP5\\PP5_F1_RH_Removed_ICA.set...\n",
      "56 matching events found\n",
      "No baseline correction applied\n",
      "Not setting metadata\n",
      "0 projection items activated\n",
      "Ready.\n",
      "Extracting parameters from ./../../../data/raw/PP\\PP6\\PP6_F1_RH_Removed_ICA.set...\n",
      "32 matching events found\n",
      "No baseline correction applied\n",
      "Not setting metadata\n",
      "0 projection items activated\n",
      "Ready.\n"
     ]
    },
    {
     "name": "stderr",
     "output_type": "stream",
     "text": [
      "<ipython-input-74-4f4e7cbd203b>:10: RuntimeWarning: At least one epoch has multiple events. Only the latency of the first event will be retained.\n",
      "  sets.append(mne.io.read_epochs_eeglab(path))\n",
      "<ipython-input-74-4f4e7cbd203b>:10: RuntimeWarning: At least one epoch has multiple events. Only the latency of the first event will be retained.\n",
      "  sets.append(mne.io.read_epochs_eeglab(path))\n"
     ]
    },
    {
     "name": "stdout",
     "output_type": "stream",
     "text": [
      "Extracting parameters from ./../../../data/raw/PP\\PP7\\PP7_F1_RH_Removed_ICA.set...\n",
      "52 matching events found\n",
      "No baseline correction applied\n",
      "Not setting metadata\n",
      "0 projection items activated\n",
      "Ready.\n",
      "Extracting parameters from ./../../../data/raw/PP\\PP9\\PP9_F1_RH_Removed_ICA.set...\n",
      "54 matching events found\n",
      "No baseline correction applied\n",
      "Not setting metadata\n"
     ]
    },
    {
     "name": "stderr",
     "output_type": "stream",
     "text": [
      "<ipython-input-74-4f4e7cbd203b>:10: RuntimeWarning: At least one epoch has multiple events. Only the latency of the first event will be retained.\n",
      "  sets.append(mne.io.read_epochs_eeglab(path))\n",
      "<ipython-input-74-4f4e7cbd203b>:10: RuntimeWarning: At least one epoch has multiple events. Only the latency of the first event will be retained.\n",
      "  sets.append(mne.io.read_epochs_eeglab(path))\n"
     ]
    },
    {
     "name": "stdout",
     "output_type": "stream",
     "text": [
      "0 projection items activated\n",
      "Ready.\n",
      "Extracting parameters from ./../../../data/raw/PnP\\PnP1\\PnP1_F1_RH_Removed_ICA.set...\n",
      "50 matching events found\n",
      "No baseline correction applied\n",
      "Not setting metadata\n",
      "0 projection items activated\n",
      "Ready.\n",
      "Extracting parameters from ./../../../data/raw/PnP\\PnP2\\PnP2_F1_RH_Removed_ICA.set...\n",
      "54 matching events found\n",
      "No baseline correction applied\n",
      "Not setting metadata\n",
      "0 projection items activated\n",
      "Ready.\n"
     ]
    },
    {
     "name": "stderr",
     "output_type": "stream",
     "text": [
      "<ipython-input-74-4f4e7cbd203b>:10: RuntimeWarning: At least one epoch has multiple events. Only the latency of the first event will be retained.\n",
      "  sets.append(mne.io.read_epochs_eeglab(path))\n",
      "<ipython-input-74-4f4e7cbd203b>:10: RuntimeWarning: At least one epoch has multiple events. Only the latency of the first event will be retained.\n",
      "  sets.append(mne.io.read_epochs_eeglab(path))\n"
     ]
    },
    {
     "name": "stdout",
     "output_type": "stream",
     "text": [
      "Extracting parameters from ./../../../data/raw/PnP\\PnP3\\PnP3_F1_RH_Removed_ICA.set...\n",
      "44 matching events found\n",
      "No baseline correction applied\n",
      "Not setting metadata\n",
      "0 projection items activated\n",
      "Ready.\n",
      "Extracting parameters from ./../../../data/raw/PnP\\PnP4\\PnP4_F1_RH_Removed_ICA.set...\n",
      "55 matching events found\n",
      "No baseline correction applied\n",
      "Not setting metadata\n",
      "0 projection items activated\n",
      "Ready.\n"
     ]
    },
    {
     "name": "stderr",
     "output_type": "stream",
     "text": [
      "<ipython-input-74-4f4e7cbd203b>:10: RuntimeWarning: At least one epoch has multiple events. Only the latency of the first event will be retained.\n",
      "  sets.append(mne.io.read_epochs_eeglab(path))\n",
      "<ipython-input-74-4f4e7cbd203b>:10: RuntimeWarning: At least one epoch has multiple events. Only the latency of the first event will be retained.\n",
      "  sets.append(mne.io.read_epochs_eeglab(path))\n"
     ]
    },
    {
     "name": "stdout",
     "output_type": "stream",
     "text": [
      "Extracting parameters from ./../../../data/raw/PnP\\PnP5\\PnP5_F1_RH_Removed_ICA.set...\n",
      "50 matching events found\n",
      "No baseline correction applied\n",
      "Not setting metadata\n",
      "0 projection items activated\n",
      "Ready.\n",
      "Extracting parameters from ./../../../data/raw/PnP\\PnP6\\PnP6_F1_RH_Removed_ICA.set...\n",
      "55 matching events found\n",
      "No baseline correction applied\n",
      "Not setting metadata\n"
     ]
    },
    {
     "name": "stderr",
     "output_type": "stream",
     "text": [
      "<ipython-input-74-4f4e7cbd203b>:10: RuntimeWarning: At least one epoch has multiple events. Only the latency of the first event will be retained.\n",
      "  sets.append(mne.io.read_epochs_eeglab(path))\n",
      "<ipython-input-74-4f4e7cbd203b>:10: RuntimeWarning: At least one epoch has multiple events. Only the latency of the first event will be retained.\n",
      "  sets.append(mne.io.read_epochs_eeglab(path))\n"
     ]
    },
    {
     "name": "stdout",
     "output_type": "stream",
     "text": [
      "0 projection items activated\n",
      "Ready.\n",
      "Extracting parameters from ./../../../data/raw/PnP\\PnP7\\PnP7_F01_RH_Removed_ICA.set...\n",
      "58 matching events found\n",
      "No baseline correction applied\n",
      "Not setting metadata\n",
      "0 projection items activated\n",
      "Ready.\n",
      "Extracting parameters from ./../../../data/raw/PnP\\PnP8\\PnP8_F1_RH_Removed_ICA.set...\n",
      "53 matching events found\n",
      "No baseline correction applied\n",
      "Not setting metadata\n"
     ]
    },
    {
     "name": "stderr",
     "output_type": "stream",
     "text": [
      "<ipython-input-74-4f4e7cbd203b>:10: RuntimeWarning: At least one epoch has multiple events. Only the latency of the first event will be retained.\n",
      "  sets.append(mne.io.read_epochs_eeglab(path))\n",
      "<ipython-input-74-4f4e7cbd203b>:10: RuntimeWarning: At least one epoch has multiple events. Only the latency of the first event will be retained.\n",
      "  sets.append(mne.io.read_epochs_eeglab(path))\n"
     ]
    },
    {
     "name": "stdout",
     "output_type": "stream",
     "text": [
      "0 projection items activated\n",
      "Ready.\n",
      "Extracting parameters from ./../../../data/raw/PnP\\PnP9\\PnP9_F1_RH_Removed_ICA.set...\n",
      "54 matching events found\n",
      "No baseline correction applied\n",
      "Not setting metadata\n",
      "0 projection items activated\n",
      "Ready.\n"
     ]
    },
    {
     "name": "stderr",
     "output_type": "stream",
     "text": [
      "<ipython-input-74-4f4e7cbd203b>:10: RuntimeWarning: At least one epoch has multiple events. Only the latency of the first event will be retained.\n",
      "  sets.append(mne.io.read_epochs_eeglab(path))\n"
     ]
    }
   ],
   "source": [
    "hv_rh = get_datasets(location_healthy, rh)\n",
    "pp_rh = get_datasets(location_pain, rh)\n",
    "pnp_rh = get_datasets(location_nopain, rh)"
   ]
  },
  {
   "cell_type": "code",
   "execution_count": 19,
   "metadata": {},
   "outputs": [
    {
     "name": "stdout",
     "output_type": "stream",
     "text": [
      "Extracting parameters from ./../../../data_new/raw/PdP\\PdP_1\\PdP_1_LH.set...\n",
      "65 matching events found\n",
      "No baseline correction applied\n",
      "Not setting metadata\n",
      "0 projection items activated\n",
      "Ready.\n",
      "Extracting parameters from ./../../../data_new/raw/PdP\\PdP_2\\PdP_2_LH.set...\n",
      "68 matching events found\n",
      "No baseline correction applied\n",
      "Not setting metadata\n",
      "0 projection items activated\n",
      "Ready.\n"
     ]
    },
    {
     "name": "stderr",
     "output_type": "stream",
     "text": [
      "<ipython-input-17-1c7de702753c>:10: RuntimeWarning: At least one epoch has multiple events. Only the latency of the first event will be retained.\n",
      "  sets.append(mne.io.read_epochs_eeglab(path))\n",
      "<ipython-input-17-1c7de702753c>:10: RuntimeWarning: At least one epoch has multiple events. Only the latency of the first event will be retained.\n",
      "  sets.append(mne.io.read_epochs_eeglab(path))\n"
     ]
    },
    {
     "name": "stdout",
     "output_type": "stream",
     "text": [
      "Extracting parameters from ./../../../data_new/raw/PdP\\PdP_3\\PdP_3_LH.set...\n",
      "57 matching events found\n",
      "No baseline correction applied\n",
      "Not setting metadata\n",
      "0 projection items activated\n",
      "Ready.\n",
      "Extracting parameters from ./../../../data_new/raw/PdP\\PdP_4\\PdP_4_LH.set...\n",
      "58 matching events found\n",
      "No baseline correction applied\n",
      "Not setting metadata\n",
      "0 projection items activated\n",
      "Ready.\n"
     ]
    },
    {
     "name": "stderr",
     "output_type": "stream",
     "text": [
      "<ipython-input-17-1c7de702753c>:10: RuntimeWarning: At least one epoch has multiple events. Only the latency of the first event will be retained.\n",
      "  sets.append(mne.io.read_epochs_eeglab(path))\n",
      "<ipython-input-17-1c7de702753c>:10: RuntimeWarning: At least one epoch has multiple events. Only the latency of the first event will be retained.\n",
      "  sets.append(mne.io.read_epochs_eeglab(path))\n"
     ]
    },
    {
     "name": "stdout",
     "output_type": "stream",
     "text": [
      "Extracting parameters from ./../../../data_new/raw/PdP\\PdP_5\\PdP_5_LH.set...\n",
      "52 matching events found\n",
      "No baseline correction applied\n",
      "Not setting metadata\n",
      "0 projection items activated\n",
      "Ready.\n"
     ]
    },
    {
     "name": "stderr",
     "output_type": "stream",
     "text": [
      "<ipython-input-17-1c7de702753c>:10: RuntimeWarning: At least one epoch has multiple events. Only the latency of the first event will be retained.\n",
      "  sets.append(mne.io.read_epochs_eeglab(path))\n"
     ]
    },
    {
     "name": "stdout",
     "output_type": "stream",
     "text": [
      "Extracting parameters from ./../../../data_new/raw/PdP\\PdP_6\\PdP_6_LH.set...\n",
      "54 matching events found\n",
      "No baseline correction applied\n",
      "Not setting metadata\n",
      "0 projection items activated\n",
      "Ready.\n",
      "Extracting parameters from ./../../../data_new/raw/PdP\\PdP_7\\PdP_7_LH.set...\n",
      "59 matching events found\n",
      "No baseline correction applied\n",
      "Not setting metadata\n",
      "0 projection items activated\n",
      "Ready.\n"
     ]
    },
    {
     "name": "stderr",
     "output_type": "stream",
     "text": [
      "<ipython-input-17-1c7de702753c>:10: RuntimeWarning: At least one epoch has multiple events. Only the latency of the first event will be retained.\n",
      "  sets.append(mne.io.read_epochs_eeglab(path))\n",
      "<ipython-input-17-1c7de702753c>:10: RuntimeWarning: At least one epoch has multiple events. Only the latency of the first event will be retained.\n",
      "  sets.append(mne.io.read_epochs_eeglab(path))\n"
     ]
    },
    {
     "name": "stdout",
     "output_type": "stream",
     "text": [
      "Extracting parameters from ./../../../data_new/raw/PnP\\PnP_1\\PnP_1_LH.set...\n",
      "56 matching events found\n",
      "No baseline correction applied\n",
      "Not setting metadata\n",
      "0 projection items activated\n",
      "Ready.\n"
     ]
    },
    {
     "name": "stderr",
     "output_type": "stream",
     "text": [
      "<ipython-input-17-1c7de702753c>:10: RuntimeWarning: At least one epoch has multiple events. Only the latency of the first event will be retained.\n",
      "  sets.append(mne.io.read_epochs_eeglab(path))\n"
     ]
    },
    {
     "name": "stdout",
     "output_type": "stream",
     "text": [
      "Extracting parameters from ./../../../data_new/raw/PnP\\PnP_3\\PnP_3_LH.set...\n",
      "56 matching events found\n",
      "No baseline correction applied\n",
      "Not setting metadata\n",
      "0 projection items activated\n"
     ]
    },
    {
     "name": "stderr",
     "output_type": "stream",
     "text": [
      "<ipython-input-17-1c7de702753c>:10: RuntimeWarning: At least one epoch has multiple events. Only the latency of the first event will be retained.\n",
      "  sets.append(mne.io.read_epochs_eeglab(path))\n"
     ]
    },
    {
     "name": "stdout",
     "output_type": "stream",
     "text": [
      "Ready.\n",
      "Extracting parameters from ./../../../data_new/raw/PnP\\PnP_4\\PnP_4_LH.set...\n",
      "49 matching events found\n",
      "No baseline correction applied\n",
      "Not setting metadata\n",
      "0 projection items activated\n",
      "Ready.\n"
     ]
    },
    {
     "name": "stderr",
     "output_type": "stream",
     "text": [
      "<ipython-input-17-1c7de702753c>:10: RuntimeWarning: At least one epoch has multiple events. Only the latency of the first event will be retained.\n",
      "  sets.append(mne.io.read_epochs_eeglab(path))\n"
     ]
    },
    {
     "name": "stdout",
     "output_type": "stream",
     "text": [
      "Extracting parameters from ./../../../data_new/raw/PnP\\PnP_5\\PnP_5_LH.set...\n",
      "58 matching events found\n",
      "No baseline correction applied\n"
     ]
    },
    {
     "name": "stderr",
     "output_type": "stream",
     "text": [
      "<ipython-input-17-1c7de702753c>:10: RuntimeWarning: At least one epoch has multiple events. Only the latency of the first event will be retained.\n",
      "  sets.append(mne.io.read_epochs_eeglab(path))\n"
     ]
    },
    {
     "name": "stdout",
     "output_type": "stream",
     "text": [
      "Not setting metadata\n",
      "0 projection items activated\n",
      "Ready.\n",
      "Extracting parameters from ./../../../data_new/raw/PnP\\PnP_7\\PnP_7_LH.set...\n",
      "52 matching events found\n",
      "No baseline correction applied\n",
      "Not setting metadata\n",
      "0 projection items activated\n",
      "Ready.\n"
     ]
    },
    {
     "name": "stderr",
     "output_type": "stream",
     "text": [
      "<ipython-input-17-1c7de702753c>:10: RuntimeWarning: At least one epoch has multiple events. Only the latency of the first event will be retained.\n",
      "  sets.append(mne.io.read_epochs_eeglab(path))\n"
     ]
    },
    {
     "name": "stdout",
     "output_type": "stream",
     "text": [
      "Extracting parameters from ./../../../data_new/raw/PnP\\PnP_8\\PnP_8_LH.set...\n",
      "56 matching events found\n",
      "No baseline correction applied\n",
      "Not setting metadata\n",
      "0 projection items activated\n",
      "Ready.\n"
     ]
    },
    {
     "name": "stderr",
     "output_type": "stream",
     "text": [
      "<ipython-input-17-1c7de702753c>:10: RuntimeWarning: At least one epoch has multiple events. Only the latency of the first event will be retained.\n",
      "  sets.append(mne.io.read_epochs_eeglab(path))\n"
     ]
    },
    {
     "name": "stdout",
     "output_type": "stream",
     "text": [
      "Extracting parameters from ./../../../data_new/raw/PnP\\PnP_9\\PnP_9_LH.set...\n",
      "52 matching events found\n",
      "No baseline correction applied\n",
      "Not setting metadata\n",
      "0 projection items activated\n"
     ]
    },
    {
     "name": "stderr",
     "output_type": "stream",
     "text": [
      "<ipython-input-17-1c7de702753c>:10: RuntimeWarning: At least one epoch has multiple events. Only the latency of the first event will be retained.\n",
      "  sets.append(mne.io.read_epochs_eeglab(path))\n"
     ]
    },
    {
     "name": "stdout",
     "output_type": "stream",
     "text": [
      "Ready.\n"
     ]
    }
   ],
   "source": [
    "pdp_rh = get_datasets(location_pdp, lh)\n",
    "pnp1_rh = get_datasets(location_pnp, lh)"
   ]
  },
  {
   "cell_type": "code",
   "execution_count": 20,
   "metadata": {
    "colab": {},
    "colab_type": "code",
    "id": "06YlMPM9NR7P",
    "outputId": "2107dc4d-d9cc-4aad-e3c3-84050e01c4a7"
   },
   "outputs": [
    {
     "data": {
      "text/plain": [
       "[<matplotlib.lines.Line2D at 0x19c538adef0>,\n",
       " <matplotlib.lines.Line2D at 0x19c538adc50>,\n",
       " <matplotlib.lines.Line2D at 0x19c538ad9b0>,\n",
       " <matplotlib.lines.Line2D at 0x19c538ad710>,\n",
       " <matplotlib.lines.Line2D at 0x19c538ad470>,\n",
       " <matplotlib.lines.Line2D at 0x19c538ad240>,\n",
       " <matplotlib.lines.Line2D at 0x19c53896668>,\n",
       " <matplotlib.lines.Line2D at 0x19c53896518>,\n",
       " <matplotlib.lines.Line2D at 0x19c538963c8>,\n",
       " <matplotlib.lines.Line2D at 0x19c53896278>,\n",
       " <matplotlib.lines.Line2D at 0x19c538bca90>,\n",
       " <matplotlib.lines.Line2D at 0x19c53896e10>,\n",
       " <matplotlib.lines.Line2D at 0x19c53896ba8>,\n",
       " <matplotlib.lines.Line2D at 0x19c53896a20>,\n",
       " <matplotlib.lines.Line2D at 0x19c538968d0>,\n",
       " <matplotlib.lines.Line2D at 0x19c53896d30>,\n",
       " <matplotlib.lines.Line2D at 0x19c53744208>,\n",
       " <matplotlib.lines.Line2D at 0x19c53744358>,\n",
       " <matplotlib.lines.Line2D at 0x19c53744160>,\n",
       " <matplotlib.lines.Line2D at 0x19c53744710>,\n",
       " <matplotlib.lines.Line2D at 0x19c53744978>,\n",
       " <matplotlib.lines.Line2D at 0x19c537448d0>,\n",
       " <matplotlib.lines.Line2D at 0x19c53744518>,\n",
       " <matplotlib.lines.Line2D at 0x19c53744630>,\n",
       " <matplotlib.lines.Line2D at 0x19c53b38b70>,\n",
       " <matplotlib.lines.Line2D at 0x19c53b38a20>,\n",
       " <matplotlib.lines.Line2D at 0x19c53b38e48>,\n",
       " <matplotlib.lines.Line2D at 0x19c53b38eb8>,\n",
       " <matplotlib.lines.Line2D at 0x19c53b38da0>,\n",
       " <matplotlib.lines.Line2D at 0x19c53b388d0>,\n",
       " <matplotlib.lines.Line2D at 0x19c53b38780>,\n",
       " <matplotlib.lines.Line2D at 0x19c53bd0d68>,\n",
       " <matplotlib.lines.Line2D at 0x19c53bd0208>,\n",
       " <matplotlib.lines.Line2D at 0x19c53bd04a8>,\n",
       " <matplotlib.lines.Line2D at 0x19c53bd0748>,\n",
       " <matplotlib.lines.Line2D at 0x19c53bd09e8>,\n",
       " <matplotlib.lines.Line2D at 0x19c53bd0c88>,\n",
       " <matplotlib.lines.Line2D at 0x19c53bd06a0>,\n",
       " <matplotlib.lines.Line2D at 0x19c53bd0be0>,\n",
       " <matplotlib.lines.Line2D at 0x19c53bd0cf8>,\n",
       " <matplotlib.lines.Line2D at 0x19c53bd01d0>,\n",
       " <matplotlib.lines.Line2D at 0x19c53bd0f28>,\n",
       " <matplotlib.lines.Line2D at 0x19c536e1ba8>,\n",
       " <matplotlib.lines.Line2D at 0x19c536e1390>,\n",
       " <matplotlib.lines.Line2D at 0x19c536e1630>,\n",
       " <matplotlib.lines.Line2D at 0x19c536e1a58>,\n",
       " <matplotlib.lines.Line2D at 0x19c536e1cc0>,\n",
       " <matplotlib.lines.Line2D at 0x19c536e12b0>,\n",
       " <matplotlib.lines.Line2D at 0x19c536e1710>,\n",
       " <matplotlib.lines.Line2D at 0x19c53b48160>,\n",
       " <matplotlib.lines.Line2D at 0x19c53b48400>,\n",
       " <matplotlib.lines.Line2D at 0x19c53b486a0>,\n",
       " <matplotlib.lines.Line2D at 0x19c53b48940>,\n",
       " <matplotlib.lines.Line2D at 0x19c53b48be0>,\n",
       " <matplotlib.lines.Line2D at 0x19c53b48e80>,\n",
       " <matplotlib.lines.Line2D at 0x19c53b48240>,\n",
       " <matplotlib.lines.Line2D at 0x19c53b48c18>,\n",
       " <matplotlib.lines.Line2D at 0x19c53b486d8>,\n",
       " <matplotlib.lines.Line2D at 0x19c536ec5c0>,\n",
       " <matplotlib.lines.Line2D at 0x19c536ec3c8>,\n",
       " <matplotlib.lines.Line2D at 0x19c536ec278>,\n",
       " <matplotlib.lines.Line2D at 0x19c536ecbe0>,\n",
       " <matplotlib.lines.Line2D at 0x19c536ecb00>,\n",
       " <matplotlib.lines.Line2D at 0x19c536ec940>,\n",
       " <matplotlib.lines.Line2D at 0x19c45b62358>,\n",
       " <matplotlib.lines.Line2D at 0x19c45b62ef0>,\n",
       " <matplotlib.lines.Line2D at 0x19c4b62f128>,\n",
       " <matplotlib.lines.Line2D at 0x19c4b62f320>,\n",
       " <matplotlib.lines.Line2D at 0x19c4b631a90>,\n",
       " <matplotlib.lines.Line2D at 0x19c4b631550>,\n",
       " <matplotlib.lines.Line2D at 0x19c45991da0>,\n",
       " <matplotlib.lines.Line2D at 0x19c45991eb8>,\n",
       " <matplotlib.lines.Line2D at 0x19c53fc60f0>,\n",
       " <matplotlib.lines.Line2D at 0x19c53fc6160>,\n",
       " <matplotlib.lines.Line2D at 0x19c53fc6da0>,\n",
       " <matplotlib.lines.Line2D at 0x19c53fc6cc0>,\n",
       " <matplotlib.lines.Line2D at 0x19c53fc6be0>,\n",
       " <matplotlib.lines.Line2D at 0x19c53fc6b00>,\n",
       " <matplotlib.lines.Line2D at 0x19c53fc6a20>,\n",
       " <matplotlib.lines.Line2D at 0x19c53fc6710>,\n",
       " <matplotlib.lines.Line2D at 0x19c53fc6630>,\n",
       " <matplotlib.lines.Line2D at 0x19c53fc6550>,\n",
       " <matplotlib.lines.Line2D at 0x19c53fc6470>,\n",
       " <matplotlib.lines.Line2D at 0x19c538924a8>,\n",
       " <matplotlib.lines.Line2D at 0x19c53892748>,\n",
       " <matplotlib.lines.Line2D at 0x19c538929b0>,\n",
       " <matplotlib.lines.Line2D at 0x19c538927f0>,\n",
       " <matplotlib.lines.Line2D at 0x19c53892550>,\n",
       " <matplotlib.lines.Line2D at 0x19c53892128>,\n",
       " <matplotlib.lines.Line2D at 0x19c4a989da0>,\n",
       " <matplotlib.lines.Line2D at 0x19c4a989f28>,\n",
       " <matplotlib.lines.Line2D at 0x19c4a989cf8>,\n",
       " <matplotlib.lines.Line2D at 0x19c4a989b70>,\n",
       " <matplotlib.lines.Line2D at 0x19c4a9899b0>,\n",
       " <matplotlib.lines.Line2D at 0x19c4a9890b8>,\n",
       " <matplotlib.lines.Line2D at 0x19c45bbdcf8>,\n",
       " <matplotlib.lines.Line2D at 0x19c45bbd6a0>,\n",
       " <matplotlib.lines.Line2D at 0x19c45bbdf60>,\n",
       " <matplotlib.lines.Line2D at 0x19c45bbdb70>,\n",
       " <matplotlib.lines.Line2D at 0x19c45bbda20>,\n",
       " <matplotlib.lines.Line2D at 0x19c45bbd898>,\n",
       " <matplotlib.lines.Line2D at 0x19c45bbd5c0>,\n",
       " <matplotlib.lines.Line2D at 0x19c45bbd470>,\n",
       " <matplotlib.lines.Line2D at 0x19c45b476a0>,\n",
       " <matplotlib.lines.Line2D at 0x19c45b47940>,\n",
       " <matplotlib.lines.Line2D at 0x19c45b47be0>,\n",
       " <matplotlib.lines.Line2D at 0x19c45b47e80>,\n",
       " <matplotlib.lines.Line2D at 0x19c45b47208>,\n",
       " <matplotlib.lines.Line2D at 0x19c45b47390>,\n",
       " <matplotlib.lines.Line2D at 0x19c45b47a58>,\n",
       " <matplotlib.lines.Line2D at 0x19c45b47f98>,\n",
       " <matplotlib.lines.Line2D at 0x19c45b281d0>,\n",
       " <matplotlib.lines.Line2D at 0x19c45b28470>,\n",
       " <matplotlib.lines.Line2D at 0x19c45b28710>,\n",
       " <matplotlib.lines.Line2D at 0x19c45b289b0>,\n",
       " <matplotlib.lines.Line2D at 0x19c45b28358>,\n",
       " <matplotlib.lines.Line2D at 0x19c4a9f40f0>,\n",
       " <matplotlib.lines.Line2D at 0x19c4a9f4240>,\n",
       " <matplotlib.lines.Line2D at 0x19c4a9f4390>,\n",
       " <matplotlib.lines.Line2D at 0x19c4a9f44e0>,\n",
       " <matplotlib.lines.Line2D at 0x19c4a9f4630>,\n",
       " <matplotlib.lines.Line2D at 0x19c4a9f46d8>,\n",
       " <matplotlib.lines.Line2D at 0x19c4a9f4860>,\n",
       " <matplotlib.lines.Line2D at 0x19c4a9f4048>,\n",
       " <matplotlib.lines.Line2D at 0x19c4a9f3f28>,\n",
       " <matplotlib.lines.Line2D at 0x19c4a9f3f98>,\n",
       " <matplotlib.lines.Line2D at 0x19c4a9f3c88>,\n",
       " <matplotlib.lines.Line2D at 0x19c4a9f31d0>,\n",
       " <matplotlib.lines.Line2D at 0x19c4a9f3470>,\n",
       " <matplotlib.lines.Line2D at 0x19c4a9f3828>,\n",
       " <matplotlib.lines.Line2D at 0x19c4a9f5f98>,\n",
       " <matplotlib.lines.Line2D at 0x19c4a9f5a58>,\n",
       " <matplotlib.lines.Line2D at 0x19c4a9f5828>,\n",
       " <matplotlib.lines.Line2D at 0x19c4a9f5c88>,\n",
       " <matplotlib.lines.Line2D at 0x19c4a9f5518>,\n",
       " <matplotlib.lines.Line2D at 0x19c4a9f5240>,\n",
       " <matplotlib.lines.Line2D at 0x19c4a9f54e0>,\n",
       " <matplotlib.lines.Line2D at 0x19c4a9f5780>,\n",
       " <matplotlib.lines.Line2D at 0x19c4a9f5a20>,\n",
       " <matplotlib.lines.Line2D at 0x19c4a9f5cc0>,\n",
       " <matplotlib.lines.Line2D at 0x19c4a9f5f60>,\n",
       " <matplotlib.lines.Line2D at 0x19c4a9f5d68>,\n",
       " <matplotlib.lines.Line2D at 0x19c459f3128>,\n",
       " <matplotlib.lines.Line2D at 0x19c459f3080>,\n",
       " <matplotlib.lines.Line2D at 0x19c459f35f8>,\n",
       " <matplotlib.lines.Line2D at 0x19c459f37f0>,\n",
       " <matplotlib.lines.Line2D at 0x19c459f3978>,\n",
       " <matplotlib.lines.Line2D at 0x19c459f3ac8>,\n",
       " <matplotlib.lines.Line2D at 0x19c459f3c18>,\n",
       " <matplotlib.lines.Line2D at 0x19c459f3518>,\n",
       " <matplotlib.lines.Line2D at 0x19c459f34a8>,\n",
       " <matplotlib.lines.Line2D at 0x19c499384e0>,\n",
       " <matplotlib.lines.Line2D at 0x19c49938748>,\n",
       " <matplotlib.lines.Line2D at 0x19c499388d0>,\n",
       " <matplotlib.lines.Line2D at 0x19c49938a20>,\n",
       " <matplotlib.lines.Line2D at 0x19c49938b70>,\n",
       " <matplotlib.lines.Line2D at 0x19c49938cc0>,\n",
       " <matplotlib.lines.Line2D at 0x19c49938e10>,\n",
       " <matplotlib.lines.Line2D at 0x19c49938f60>,\n",
       " <matplotlib.lines.Line2D at 0x19c49938358>,\n",
       " <matplotlib.lines.Line2D at 0x19c49938128>,\n",
       " <matplotlib.lines.Line2D at 0x19c45aff710>,\n",
       " <matplotlib.lines.Line2D at 0x19c45aff400>,\n",
       " <matplotlib.lines.Line2D at 0x19c45aff7b8>,\n",
       " <matplotlib.lines.Line2D at 0x19c45affef0>,\n",
       " <matplotlib.lines.Line2D at 0x19c45affda0>,\n",
       " <matplotlib.lines.Line2D at 0x19c45affc50>,\n",
       " <matplotlib.lines.Line2D at 0x19c45affb00>,\n",
       " <matplotlib.lines.Line2D at 0x19c45aff9b0>,\n",
       " <matplotlib.lines.Line2D at 0x19c45aff860>,\n",
       " <matplotlib.lines.Line2D at 0x19c45b06080>,\n",
       " <matplotlib.lines.Line2D at 0x19c45b064e0>,\n",
       " <matplotlib.lines.Line2D at 0x19c45b06630>,\n",
       " <matplotlib.lines.Line2D at 0x19c45b06780>,\n",
       " <matplotlib.lines.Line2D at 0x19c45b068d0>,\n",
       " <matplotlib.lines.Line2D at 0x19c45b06278>,\n",
       " <matplotlib.lines.Line2D at 0x19c45b06160>,\n",
       " <matplotlib.lines.Line2D at 0x19c45b502b0>,\n",
       " <matplotlib.lines.Line2D at 0x19c45b50240>,\n",
       " <matplotlib.lines.Line2D at 0x19c45b50400>,\n",
       " <matplotlib.lines.Line2D at 0x19c45b50f98>,\n",
       " <matplotlib.lines.Line2D at 0x19c45b50e10>,\n",
       " <matplotlib.lines.Line2D at 0x19c45b50cc0>,\n",
       " <matplotlib.lines.Line2D at 0x19c45b50b70>,\n",
       " <matplotlib.lines.Line2D at 0x19c45b50a20>,\n",
       " <matplotlib.lines.Line2D at 0x19c45b508d0>,\n",
       " <matplotlib.lines.Line2D at 0x19c45b50780>,\n",
       " <matplotlib.lines.Line2D at 0x19c45b50630>,\n",
       " <matplotlib.lines.Line2D at 0x19c45b505c0>,\n",
       " <matplotlib.lines.Line2D at 0x19c45bd8a20>,\n",
       " <matplotlib.lines.Line2D at 0x19c45bd8780>,\n",
       " <matplotlib.lines.Line2D at 0x19c45bd84e0>,\n",
       " <matplotlib.lines.Line2D at 0x19c45bd8240>,\n",
       " <matplotlib.lines.Line2D at 0x19c45bddf60>,\n",
       " <matplotlib.lines.Line2D at 0x19c45bddcc0>,\n",
       " <matplotlib.lines.Line2D at 0x19c45bdda20>,\n",
       " <matplotlib.lines.Line2D at 0x19c45bdd8d0>,\n",
       " <matplotlib.lines.Line2D at 0x19c45b8e5f8>,\n",
       " <matplotlib.lines.Line2D at 0x19c45b8e358>,\n",
       " <matplotlib.lines.Line2D at 0x19c45b8e0b8>,\n",
       " <matplotlib.lines.Line2D at 0x19c45b8e710>,\n",
       " <matplotlib.lines.Line2D at 0x19c45b8e550>,\n",
       " <matplotlib.lines.Line2D at 0x19c45b8be48>,\n",
       " <matplotlib.lines.Line2D at 0x19c45b8bba8>,\n",
       " <matplotlib.lines.Line2D at 0x19c45b8b908>,\n",
       " <matplotlib.lines.Line2D at 0x19c45b8b668>,\n",
       " <matplotlib.lines.Line2D at 0x19c45b8b4a8>,\n",
       " <matplotlib.lines.Line2D at 0x19c45a6d2e8>,\n",
       " <matplotlib.lines.Line2D at 0x19c45b72550>,\n",
       " <matplotlib.lines.Line2D at 0x19c45b72400>,\n",
       " <matplotlib.lines.Line2D at 0x19c45b72320>,\n",
       " <matplotlib.lines.Line2D at 0x19c45b72a20>,\n",
       " <matplotlib.lines.Line2D at 0x19c45b72710>,\n",
       " <matplotlib.lines.Line2D at 0x19c45b72748>,\n",
       " <matplotlib.lines.Line2D at 0x19c53636160>,\n",
       " <matplotlib.lines.Line2D at 0x19c53636128>,\n",
       " <matplotlib.lines.Line2D at 0x19c53636c50>,\n",
       " <matplotlib.lines.Line2D at 0x19c53636b00>,\n",
       " <matplotlib.lines.Line2D at 0x19c53636cf8>,\n",
       " <matplotlib.lines.Line2D at 0x19c536d9d68>,\n",
       " <matplotlib.lines.Line2D at 0x19c536d9a90>,\n",
       " <matplotlib.lines.Line2D at 0x19c536d9630>,\n",
       " <matplotlib.lines.Line2D at 0x19c536d9f98>,\n",
       " <matplotlib.lines.Line2D at 0x19c536d9710>,\n",
       " <matplotlib.lines.Line2D at 0x19c536d9908>,\n",
       " <matplotlib.lines.Line2D at 0x19c4aa8f1d0>,\n",
       " <matplotlib.lines.Line2D at 0x19c4aa8f390>,\n",
       " <matplotlib.lines.Line2D at 0x19c4aa8f208>,\n",
       " <matplotlib.lines.Line2D at 0x19c4995ba20>,\n",
       " <matplotlib.lines.Line2D at 0x19c4995bb70>,\n",
       " <matplotlib.lines.Line2D at 0x19c4995bcc0>,\n",
       " <matplotlib.lines.Line2D at 0x19c4995be48>,\n",
       " <matplotlib.lines.Line2D at 0x19c4995bf98>,\n",
       " <matplotlib.lines.Line2D at 0x19c4995b8d0>,\n",
       " <matplotlib.lines.Line2D at 0x19c45ba10f0>,\n",
       " <matplotlib.lines.Line2D at 0x19c45ba18d0>,\n",
       " <matplotlib.lines.Line2D at 0x19c45ba1780>,\n",
       " <matplotlib.lines.Line2D at 0x19c45ba1a58>,\n",
       " <matplotlib.lines.Line2D at 0x19c45ba1b70>,\n",
       " <matplotlib.lines.Line2D at 0x19c45ba1cc0>,\n",
       " <matplotlib.lines.Line2D at 0x19c45ba1e10>,\n",
       " <matplotlib.lines.Line2D at 0x19c45ba1f60>,\n",
       " <matplotlib.lines.Line2D at 0x19c45ba1668>,\n",
       " <matplotlib.lines.Line2D at 0x19c45ba1518>,\n",
       " <matplotlib.lines.Line2D at 0x19c45ba1358>,\n",
       " <matplotlib.lines.Line2D at 0x19c4a988828>,\n",
       " <matplotlib.lines.Line2D at 0x19c4a9889b0>,\n",
       " <matplotlib.lines.Line2D at 0x19c4a9880b8>,\n",
       " <matplotlib.lines.Line2D at 0x19c4a988358>,\n",
       " <matplotlib.lines.Line2D at 0x19c4a988438>,\n",
       " <matplotlib.lines.Line2D at 0x19c4a988518>,\n",
       " <matplotlib.lines.Line2D at 0x19c4a988710>,\n",
       " <matplotlib.lines.Line2D at 0x19c4a988630>,\n",
       " <matplotlib.lines.Line2D at 0x19c536c36a0>,\n",
       " <matplotlib.lines.Line2D at 0x19c536c3f60>,\n",
       " <matplotlib.lines.Line2D at 0x19c536c3048>,\n",
       " <matplotlib.lines.Line2D at 0x19c536c3160>,\n",
       " <matplotlib.lines.Line2D at 0x19c536c3470>,\n",
       " <matplotlib.lines.Line2D at 0x19c536c39e8>,\n",
       " <matplotlib.lines.Line2D at 0x19c536c37f0>,\n",
       " <matplotlib.lines.Line2D at 0x19c536c3da0>,\n",
       " <matplotlib.lines.Line2D at 0x19c536c3a58>,\n",
       " <matplotlib.lines.Line2D at 0x19c536b3eb8>,\n",
       " <matplotlib.lines.Line2D at 0x19c536b3d30>,\n",
       " <matplotlib.lines.Line2D at 0x19c536b3fd0>,\n",
       " <matplotlib.lines.Line2D at 0x19c536b3780>,\n",
       " <matplotlib.lines.Line2D at 0x19c536b3c50>,\n",
       " <matplotlib.lines.Line2D at 0x19c536b30b8>,\n",
       " <matplotlib.lines.Line2D at 0x19c536b3278>,\n",
       " <matplotlib.lines.Line2D at 0x19c536b37b8>,\n",
       " <matplotlib.lines.Line2D at 0x19c536b3a58>,\n",
       " <matplotlib.lines.Line2D at 0x19c536b3908>,\n",
       " <matplotlib.lines.Line2D at 0x19c4b62be48>,\n",
       " <matplotlib.lines.Line2D at 0x19c4515d320>,\n",
       " <matplotlib.lines.Line2D at 0x19c53737908>,\n",
       " <matplotlib.lines.Line2D at 0x19c537376a0>,\n",
       " <matplotlib.lines.Line2D at 0x19c53737ac8>,\n",
       " <matplotlib.lines.Line2D at 0x19c53737fd0>,\n",
       " <matplotlib.lines.Line2D at 0x19c53737f28>,\n",
       " <matplotlib.lines.Line2D at 0x19c53702080>,\n",
       " <matplotlib.lines.Line2D at 0x19c53702438>,\n",
       " <matplotlib.lines.Line2D at 0x19c53702cf8>,\n",
       " <matplotlib.lines.Line2D at 0x19c53702ef0>,\n",
       " <matplotlib.lines.Line2D at 0x19c53702cc0>,\n",
       " <matplotlib.lines.Line2D at 0x19c537029e8>,\n",
       " <matplotlib.lines.Line2D at 0x19c5370e320>,\n",
       " <matplotlib.lines.Line2D at 0x19c5370e4a8>,\n",
       " <matplotlib.lines.Line2D at 0x19c5370e4e0>,\n",
       " <matplotlib.lines.Line2D at 0x19c5370e860>,\n",
       " <matplotlib.lines.Line2D at 0x19c5370ec88>,\n",
       " <matplotlib.lines.Line2D at 0x19c5370ee80>,\n",
       " <matplotlib.lines.Line2D at 0x19c5370ef28>,\n",
       " <matplotlib.lines.Line2D at 0x19c5370eac8>,\n",
       " <matplotlib.lines.Line2D at 0x19c5370eba8>,\n",
       " <matplotlib.lines.Line2D at 0x19c53715208>,\n",
       " <matplotlib.lines.Line2D at 0x19c53715438>,\n",
       " <matplotlib.lines.Line2D at 0x19c537159b0>,\n",
       " <matplotlib.lines.Line2D at 0x19c53715828>,\n",
       " <matplotlib.lines.Line2D at 0x19c53715ba8>,\n",
       " <matplotlib.lines.Line2D at 0x19c53715ef0>,\n",
       " <matplotlib.lines.Line2D at 0x19c53715860>,\n",
       " <matplotlib.lines.Line2D at 0x19c53715e10>,\n",
       " <matplotlib.lines.Line2D at 0x19c53e290f0>,\n",
       " <matplotlib.lines.Line2D at 0x19c53e29240>,\n",
       " <matplotlib.lines.Line2D at 0x19c53e29390>,\n",
       " <matplotlib.lines.Line2D at 0x19c53e294e0>,\n",
       " <matplotlib.lines.Line2D at 0x19c53e29630>,\n",
       " <matplotlib.lines.Line2D at 0x19c53e29780>,\n",
       " <matplotlib.lines.Line2D at 0x19c53b04128>,\n",
       " <matplotlib.lines.Line2D at 0x19c53b04dd8>,\n",
       " <matplotlib.lines.Line2D at 0x19c53b04b38>,\n",
       " <matplotlib.lines.Line2D at 0x19c53b04898>,\n",
       " <matplotlib.lines.Line2D at 0x19c53b045f8>,\n",
       " <matplotlib.lines.Line2D at 0x19c53b04358>,\n",
       " <matplotlib.lines.Line2D at 0x19c53b04240>,\n",
       " <matplotlib.lines.Line2D at 0x19c53b04550>,\n",
       " <matplotlib.lines.Line2D at 0x19c53b047f0>,\n",
       " <matplotlib.lines.Line2D at 0x19c53b04a90>,\n",
       " <matplotlib.lines.Line2D at 0x19c53b04d30>,\n",
       " <matplotlib.lines.Line2D at 0x19c53b04fd0>,\n",
       " <matplotlib.lines.Line2D at 0x19c43d7bef0>,\n",
       " <matplotlib.lines.Line2D at 0x19c41076cf8>,\n",
       " <matplotlib.lines.Line2D at 0x19c539dd5f8>,\n",
       " <matplotlib.lines.Line2D at 0x19c539dd748>,\n",
       " <matplotlib.lines.Line2D at 0x19c539dd898>,\n",
       " <matplotlib.lines.Line2D at 0x19c539dd9e8>,\n",
       " <matplotlib.lines.Line2D at 0x19c539ddb70>,\n",
       " <matplotlib.lines.Line2D at 0x19c539ddda0>,\n",
       " <matplotlib.lines.Line2D at 0x19c539dd320>,\n",
       " <matplotlib.lines.Line2D at 0x19c437159b0>,\n",
       " <matplotlib.lines.Line2D at 0x19c43762b38>,\n",
       " <matplotlib.lines.Line2D at 0x19c49999e48>,\n",
       " <matplotlib.lines.Line2D at 0x19c5387df98>,\n",
       " <matplotlib.lines.Line2D at 0x19c5387d8d0>,\n",
       " <matplotlib.lines.Line2D at 0x19c5387d630>,\n",
       " <matplotlib.lines.Line2D at 0x19c5387d3c8>,\n",
       " <matplotlib.lines.Line2D at 0x19c5387d668>,\n",
       " <matplotlib.lines.Line2D at 0x19c5387d080>,\n",
       " <matplotlib.lines.Line2D at 0x19c5387d358>,\n",
       " <matplotlib.lines.Line2D at 0x19c5387da58>,\n",
       " <matplotlib.lines.Line2D at 0x19c5387dcf8>,\n",
       " <matplotlib.lines.Line2D at 0x19c5387dcc0>,\n",
       " <matplotlib.lines.Line2D at 0x19c5387df60>,\n",
       " <matplotlib.lines.Line2D at 0x19c5387d2b0>,\n",
       " <matplotlib.lines.Line2D at 0x19c53b0e4e0>,\n",
       " <matplotlib.lines.Line2D at 0x19c53b0e588>,\n",
       " <matplotlib.lines.Line2D at 0x19c53b0e898>,\n",
       " <matplotlib.lines.Line2D at 0x19c53b0e048>,\n",
       " <matplotlib.lines.Line2D at 0x19c53b0e748>,\n",
       " <matplotlib.lines.Line2D at 0x19c53b0e9e8>,\n",
       " <matplotlib.lines.Line2D at 0x19c53b0ec88>,\n",
       " <matplotlib.lines.Line2D at 0x19c53b0ef60>,\n",
       " <matplotlib.lines.Line2D at 0x19c53ad9be0>,\n",
       " <matplotlib.lines.Line2D at 0x19c53ad9da0>,\n",
       " <matplotlib.lines.Line2D at 0x19c53ad9c50>,\n",
       " <matplotlib.lines.Line2D at 0x19c53ad9e80>,\n",
       " <matplotlib.lines.Line2D at 0x19c53ad9ba8>,\n",
       " <matplotlib.lines.Line2D at 0x19c53ad9128>,\n",
       " <matplotlib.lines.Line2D at 0x19c53ad9f98>,\n",
       " <matplotlib.lines.Line2D at 0x19c53ad9a90>,\n",
       " <matplotlib.lines.Line2D at 0x19c538de128>,\n",
       " <matplotlib.lines.Line2D at 0x19c538de0b8>,\n",
       " <matplotlib.lines.Line2D at 0x19c538de5c0>,\n",
       " <matplotlib.lines.Line2D at 0x19c538de470>,\n",
       " <matplotlib.lines.Line2D at 0x19c538de2e8>,\n",
       " <matplotlib.lines.Line2D at 0x19c538de860>,\n",
       " <matplotlib.lines.Line2D at 0x19c54229b70>,\n",
       " <matplotlib.lines.Line2D at 0x19c54229748>,\n",
       " <matplotlib.lines.Line2D at 0x19c54229a90>,\n",
       " <matplotlib.lines.Line2D at 0x19c54229588>,\n",
       " <matplotlib.lines.Line2D at 0x19c54229f28>,\n",
       " <matplotlib.lines.Line2D at 0x19c542294a8>,\n",
       " <matplotlib.lines.Line2D at 0x19c542297f0>,\n",
       " <matplotlib.lines.Line2D at 0x19c54229828>,\n",
       " <matplotlib.lines.Line2D at 0x19c5394ef60>,\n",
       " <matplotlib.lines.Line2D at 0x19c5394ef98>,\n",
       " <matplotlib.lines.Line2D at 0x19c5394ec88>,\n",
       " <matplotlib.lines.Line2D at 0x19c5394e128>,\n",
       " <matplotlib.lines.Line2D at 0x19c5394e908>,\n",
       " <matplotlib.lines.Line2D at 0x19c5394e9e8>,\n",
       " <matplotlib.lines.Line2D at 0x19c53b29e48>,\n",
       " <matplotlib.lines.Line2D at 0x19c53b29fd0>,\n",
       " <matplotlib.lines.Line2D at 0x19c53b298d0>,\n",
       " <matplotlib.lines.Line2D at 0x19c53b29a58>,\n",
       " <matplotlib.lines.Line2D at 0x19c53b29b70>,\n",
       " <matplotlib.lines.Line2D at 0x19c53b291d0>,\n",
       " <matplotlib.lines.Line2D at 0x19c53b29320>,\n",
       " <matplotlib.lines.Line2D at 0x19c53b29470>,\n",
       " <matplotlib.lines.Line2D at 0x19c53b295c0>,\n",
       " <matplotlib.lines.Line2D at 0x19c53b29710>,\n",
       " <matplotlib.lines.Line2D at 0x19c53b29860>,\n",
       " <matplotlib.lines.Line2D at 0x19c53b297b8>,\n",
       " <matplotlib.lines.Line2D at 0x19c53f59c18>,\n",
       " <matplotlib.lines.Line2D at 0x19c53f59d68>,\n",
       " <matplotlib.lines.Line2D at 0x19c53f59080>,\n",
       " <matplotlib.lines.Line2D at 0x19c53f590b8>,\n",
       " <matplotlib.lines.Line2D at 0x19c53f59940>,\n",
       " <matplotlib.lines.Line2D at 0x19c53f59a90>,\n",
       " <matplotlib.lines.Line2D at 0x19c53f59ac8>,\n",
       " <matplotlib.lines.Line2D at 0x19c53f59ef0>,\n",
       " <matplotlib.lines.Line2D at 0x19c53f59780>,\n",
       " <matplotlib.lines.Line2D at 0x19c53f59630>,\n",
       " <matplotlib.lines.Line2D at 0x19c53f594e0>,\n",
       " <matplotlib.lines.Line2D at 0x19c538a17b8>,\n",
       " <matplotlib.lines.Line2D at 0x19c538a1198>,\n",
       " <matplotlib.lines.Line2D at 0x19c538a12e8>,\n",
       " <matplotlib.lines.Line2D at 0x19c538a1438>,\n",
       " <matplotlib.lines.Line2D at 0x19c538a1b70>,\n",
       " <matplotlib.lines.Line2D at 0x19c538a15f8>,\n",
       " <matplotlib.lines.Line2D at 0x19c538a1cc0>,\n",
       " <matplotlib.lines.Line2D at 0x19c538a1da0>,\n",
       " <matplotlib.lines.Line2D at 0x19c538a1dd8>,\n",
       " <matplotlib.lines.Line2D at 0x19c538a1048>,\n",
       " <matplotlib.lines.Line2D at 0x19c53b8d0f0>,\n",
       " <matplotlib.lines.Line2D at 0x19c53b8d320>,\n",
       " <matplotlib.lines.Line2D at 0x19c53b8d390>,\n",
       " <matplotlib.lines.Line2D at 0x19c53b8d5c0>,\n",
       " <matplotlib.lines.Line2D at 0x19c53b8d630>,\n",
       " <matplotlib.lines.Line2D at 0x19c53b8d860>,\n",
       " <matplotlib.lines.Line2D at 0x19c53b8d8d0>,\n",
       " <matplotlib.lines.Line2D at 0x19c53b8db38>,\n",
       " <matplotlib.lines.Line2D at 0x19c53b8dba8>,\n",
       " <matplotlib.lines.Line2D at 0x19c53b8ddd8>,\n",
       " <matplotlib.lines.Line2D at 0x19c53b8de48>,\n",
       " <matplotlib.lines.Line2D at 0x19c53b8d0b8>,\n",
       " <matplotlib.lines.Line2D at 0x19c53dc4dd8>,\n",
       " <matplotlib.lines.Line2D at 0x19c53dc4a58>,\n",
       " <matplotlib.lines.Line2D at 0x19c53dc47f0>,\n",
       " <matplotlib.lines.Line2D at 0x19c53dc42e8>,\n",
       " <matplotlib.lines.Line2D at 0x19c53dc40f0>,\n",
       " <matplotlib.lines.Line2D at 0x19c53dc4518>,\n",
       " <matplotlib.lines.Line2D at 0x19c53dc4e10>,\n",
       " <matplotlib.lines.Line2D at 0x19c53dc4c50>,\n",
       " <matplotlib.lines.Line2D at 0x19c53dc46d8>,\n",
       " <matplotlib.lines.Line2D at 0x19c53dc4470>,\n",
       " <matplotlib.lines.Line2D at 0x19c53e778d0>,\n",
       " <matplotlib.lines.Line2D at 0x19c53e77a20>,\n",
       " <matplotlib.lines.Line2D at 0x19c53e77b70>,\n",
       " <matplotlib.lines.Line2D at 0x19c53e77cc0>,\n",
       " <matplotlib.lines.Line2D at 0x19c53e77390>,\n",
       " <matplotlib.lines.Line2D at 0x19c53e77160>,\n",
       " <matplotlib.lines.Line2D at 0x19c53e777f0>,\n",
       " <matplotlib.lines.Line2D at 0x19c53e774a8>,\n",
       " <matplotlib.lines.Line2D at 0x19c53e77f60>,\n",
       " <matplotlib.lines.Line2D at 0x19c53e77eb8>,\n",
       " <matplotlib.lines.Line2D at 0x19c53e77898>,\n",
       " <matplotlib.lines.Line2D at 0x19c53e77710>,\n",
       " <matplotlib.lines.Line2D at 0x19c53eb2320>,\n",
       " <matplotlib.lines.Line2D at 0x19c53eb21d0>,\n",
       " <matplotlib.lines.Line2D at 0x19c53eb2e80>,\n",
       " <matplotlib.lines.Line2D at 0x19c45c16048>,\n",
       " <matplotlib.lines.Line2D at 0x19c45c16198>,\n",
       " <matplotlib.lines.Line2D at 0x19c45c162e8>,\n",
       " <matplotlib.lines.Line2D at 0x19c45c16438>,\n",
       " <matplotlib.lines.Line2D at 0x19c45c16588>,\n",
       " <matplotlib.lines.Line2D at 0x19c45c166d8>,\n",
       " <matplotlib.lines.Line2D at 0x19c45c16828>,\n",
       " <matplotlib.lines.Line2D at 0x19c45c16978>,\n",
       " <matplotlib.lines.Line2D at 0x19c45c16ac8>,\n",
       " <matplotlib.lines.Line2D at 0x19c45c16c18>,\n",
       " <matplotlib.lines.Line2D at 0x19c45c16d68>,\n",
       " <matplotlib.lines.Line2D at 0x19c45c16eb8>,\n",
       " <matplotlib.lines.Line2D at 0x19c45c12048>,\n",
       " <matplotlib.lines.Line2D at 0x19c45c12198>,\n",
       " <matplotlib.lines.Line2D at 0x19c45c122e8>,\n",
       " <matplotlib.lines.Line2D at 0x19c45c12438>,\n",
       " <matplotlib.lines.Line2D at 0x19c45c12588>,\n",
       " <matplotlib.lines.Line2D at 0x19c45c126d8>,\n",
       " <matplotlib.lines.Line2D at 0x19c45c12828>,\n",
       " <matplotlib.lines.Line2D at 0x19c45c12978>,\n",
       " <matplotlib.lines.Line2D at 0x19c45c12ac8>,\n",
       " <matplotlib.lines.Line2D at 0x19c45c12c18>,\n",
       " <matplotlib.lines.Line2D at 0x19c45c12d68>,\n",
       " <matplotlib.lines.Line2D at 0x19c45c12eb8>,\n",
       " <matplotlib.lines.Line2D at 0x19c45b8f048>,\n",
       " <matplotlib.lines.Line2D at 0x19c45b8f198>,\n",
       " <matplotlib.lines.Line2D at 0x19c45b8f2e8>,\n",
       " <matplotlib.lines.Line2D at 0x19c45b8f438>,\n",
       " <matplotlib.lines.Line2D at 0x19c45b8f588>,\n",
       " <matplotlib.lines.Line2D at 0x19c45b8f6d8>,\n",
       " <matplotlib.lines.Line2D at 0x19c45b8f828>,\n",
       " <matplotlib.lines.Line2D at 0x19c45b8f978>,\n",
       " <matplotlib.lines.Line2D at 0x19c45b8fac8>,\n",
       " <matplotlib.lines.Line2D at 0x19c45b8fc18>,\n",
       " <matplotlib.lines.Line2D at 0x19c45b8fd68>,\n",
       " <matplotlib.lines.Line2D at 0x19c45b8feb8>,\n",
       " <matplotlib.lines.Line2D at 0x19c45b90048>,\n",
       " <matplotlib.lines.Line2D at 0x19c45b90198>,\n",
       " <matplotlib.lines.Line2D at 0x19c45b902e8>,\n",
       " <matplotlib.lines.Line2D at 0x19c45b90438>,\n",
       " <matplotlib.lines.Line2D at 0x19c45b90588>,\n",
       " <matplotlib.lines.Line2D at 0x19c45b906d8>,\n",
       " <matplotlib.lines.Line2D at 0x19c45b90828>,\n",
       " <matplotlib.lines.Line2D at 0x19c45b90978>,\n",
       " <matplotlib.lines.Line2D at 0x19c45b90ac8>,\n",
       " <matplotlib.lines.Line2D at 0x19c45b90c18>,\n",
       " <matplotlib.lines.Line2D at 0x19c45b90d68>,\n",
       " <matplotlib.lines.Line2D at 0x19c45b90eb8>,\n",
       " <matplotlib.lines.Line2D at 0x19c45b9b048>,\n",
       " <matplotlib.lines.Line2D at 0x19c45b9b198>,\n",
       " <matplotlib.lines.Line2D at 0x19c45b9b2e8>,\n",
       " <matplotlib.lines.Line2D at 0x19c45b9b438>,\n",
       " <matplotlib.lines.Line2D at 0x19c45b9b588>,\n",
       " <matplotlib.lines.Line2D at 0x19c45b9b6d8>,\n",
       " <matplotlib.lines.Line2D at 0x19c45b9b828>,\n",
       " <matplotlib.lines.Line2D at 0x19c45b9b978>,\n",
       " <matplotlib.lines.Line2D at 0x19c45b9bac8>,\n",
       " <matplotlib.lines.Line2D at 0x19c45b9bc18>,\n",
       " <matplotlib.lines.Line2D at 0x19c45b9bd68>,\n",
       " <matplotlib.lines.Line2D at 0x19c45b9beb8>,\n",
       " <matplotlib.lines.Line2D at 0x19c45b68048>,\n",
       " <matplotlib.lines.Line2D at 0x19c45b68198>,\n",
       " <matplotlib.lines.Line2D at 0x19c45b682e8>,\n",
       " <matplotlib.lines.Line2D at 0x19c45b68438>,\n",
       " <matplotlib.lines.Line2D at 0x19c45b68588>,\n",
       " <matplotlib.lines.Line2D at 0x19c45b686d8>,\n",
       " <matplotlib.lines.Line2D at 0x19c45b68828>,\n",
       " <matplotlib.lines.Line2D at 0x19c45b68978>,\n",
       " <matplotlib.lines.Line2D at 0x19c45b68ac8>,\n",
       " <matplotlib.lines.Line2D at 0x19c45b68c18>,\n",
       " <matplotlib.lines.Line2D at 0x19c45b68d68>,\n",
       " <matplotlib.lines.Line2D at 0x19c45b68eb8>,\n",
       " <matplotlib.lines.Line2D at 0x19c53fe2048>,\n",
       " <matplotlib.lines.Line2D at 0x19c53fe2198>,\n",
       " <matplotlib.lines.Line2D at 0x19c53fe22e8>,\n",
       " <matplotlib.lines.Line2D at 0x19c53fe2438>,\n",
       " <matplotlib.lines.Line2D at 0x19c53fe2588>,\n",
       " <matplotlib.lines.Line2D at 0x19c53fe26d8>,\n",
       " <matplotlib.lines.Line2D at 0x19c53fe2828>,\n",
       " <matplotlib.lines.Line2D at 0x19c53fe2978>,\n",
       " <matplotlib.lines.Line2D at 0x19c53fe2ac8>,\n",
       " <matplotlib.lines.Line2D at 0x19c53fe2c18>,\n",
       " <matplotlib.lines.Line2D at 0x19c53fe2d68>,\n",
       " <matplotlib.lines.Line2D at 0x19c53fe2eb8>,\n",
       " <matplotlib.lines.Line2D at 0x19c53fca048>,\n",
       " <matplotlib.lines.Line2D at 0x19c53fca198>,\n",
       " <matplotlib.lines.Line2D at 0x19c53fca2e8>,\n",
       " <matplotlib.lines.Line2D at 0x19c53fca438>,\n",
       " <matplotlib.lines.Line2D at 0x19c53fca588>,\n",
       " <matplotlib.lines.Line2D at 0x19c53fca6d8>,\n",
       " <matplotlib.lines.Line2D at 0x19c53fca828>,\n",
       " <matplotlib.lines.Line2D at 0x19c53fca978>,\n",
       " <matplotlib.lines.Line2D at 0x19c53fcaac8>,\n",
       " <matplotlib.lines.Line2D at 0x19c53fcac18>,\n",
       " <matplotlib.lines.Line2D at 0x19c53fcad68>,\n",
       " <matplotlib.lines.Line2D at 0x19c53fcaeb8>,\n",
       " <matplotlib.lines.Line2D at 0x19c53fed048>,\n",
       " <matplotlib.lines.Line2D at 0x19c53fed198>,\n",
       " <matplotlib.lines.Line2D at 0x19c53fed2e8>,\n",
       " <matplotlib.lines.Line2D at 0x19c53fed438>,\n",
       " <matplotlib.lines.Line2D at 0x19c53fed588>,\n",
       " <matplotlib.lines.Line2D at 0x19c53fed6d8>,\n",
       " <matplotlib.lines.Line2D at 0x19c53fed828>,\n",
       " <matplotlib.lines.Line2D at 0x19c53fed978>,\n",
       " <matplotlib.lines.Line2D at 0x19c53fedac8>,\n",
       " <matplotlib.lines.Line2D at 0x19c53fedc18>,\n",
       " <matplotlib.lines.Line2D at 0x19c53fedd68>,\n",
       " <matplotlib.lines.Line2D at 0x19c53fedeb8>,\n",
       " <matplotlib.lines.Line2D at 0x19c4a973048>,\n",
       " <matplotlib.lines.Line2D at 0x19c4a973198>,\n",
       " <matplotlib.lines.Line2D at 0x19c4a9732e8>,\n",
       " <matplotlib.lines.Line2D at 0x19c4a973438>,\n",
       " <matplotlib.lines.Line2D at 0x19c4a973588>,\n",
       " <matplotlib.lines.Line2D at 0x19c4a9736d8>,\n",
       " <matplotlib.lines.Line2D at 0x19c4a973828>,\n",
       " <matplotlib.lines.Line2D at 0x19c4a973978>,\n",
       " <matplotlib.lines.Line2D at 0x19c4a973ac8>,\n",
       " <matplotlib.lines.Line2D at 0x19c4a973c18>,\n",
       " <matplotlib.lines.Line2D at 0x19c4a973d68>,\n",
       " <matplotlib.lines.Line2D at 0x19c4a973eb8>,\n",
       " <matplotlib.lines.Line2D at 0x19c4a978048>,\n",
       " <matplotlib.lines.Line2D at 0x19c4a978198>,\n",
       " <matplotlib.lines.Line2D at 0x19c4a9782e8>,\n",
       " <matplotlib.lines.Line2D at 0x19c4a978438>,\n",
       " <matplotlib.lines.Line2D at 0x19c4a978588>,\n",
       " <matplotlib.lines.Line2D at 0x19c4a9786d8>,\n",
       " <matplotlib.lines.Line2D at 0x19c4a978828>,\n",
       " <matplotlib.lines.Line2D at 0x19c4a978978>,\n",
       " <matplotlib.lines.Line2D at 0x19c4a978ac8>,\n",
       " <matplotlib.lines.Line2D at 0x19c4a978c18>,\n",
       " <matplotlib.lines.Line2D at 0x19c4a978d68>,\n",
       " <matplotlib.lines.Line2D at 0x19c4a978eb8>,\n",
       " <matplotlib.lines.Line2D at 0x19c4a98c048>,\n",
       " <matplotlib.lines.Line2D at 0x19c4a98c198>,\n",
       " <matplotlib.lines.Line2D at 0x19c4a98c2e8>,\n",
       " <matplotlib.lines.Line2D at 0x19c4a98c438>,\n",
       " <matplotlib.lines.Line2D at 0x19c4a98c588>,\n",
       " <matplotlib.lines.Line2D at 0x19c4a98c6d8>,\n",
       " <matplotlib.lines.Line2D at 0x19c4a98c828>,\n",
       " <matplotlib.lines.Line2D at 0x19c4a98c978>,\n",
       " <matplotlib.lines.Line2D at 0x19c4a98cac8>,\n",
       " <matplotlib.lines.Line2D at 0x19c4a98cc18>,\n",
       " <matplotlib.lines.Line2D at 0x19c4a98cd68>,\n",
       " <matplotlib.lines.Line2D at 0x19c4a98ceb8>,\n",
       " <matplotlib.lines.Line2D at 0x19c4a996048>,\n",
       " <matplotlib.lines.Line2D at 0x19c4a996198>,\n",
       " <matplotlib.lines.Line2D at 0x19c4a9962e8>,\n",
       " <matplotlib.lines.Line2D at 0x19c4a996438>,\n",
       " <matplotlib.lines.Line2D at 0x19c4a996588>,\n",
       " <matplotlib.lines.Line2D at 0x19c4a9966d8>,\n",
       " <matplotlib.lines.Line2D at 0x19c4a996828>,\n",
       " <matplotlib.lines.Line2D at 0x19c4a996978>,\n",
       " <matplotlib.lines.Line2D at 0x19c4a996ac8>,\n",
       " <matplotlib.lines.Line2D at 0x19c4a996c18>,\n",
       " <matplotlib.lines.Line2D at 0x19c4a996d68>,\n",
       " <matplotlib.lines.Line2D at 0x19c4a996eb8>,\n",
       " <matplotlib.lines.Line2D at 0x19c45ba2048>,\n",
       " <matplotlib.lines.Line2D at 0x19c45ba2198>,\n",
       " <matplotlib.lines.Line2D at 0x19c45ba22e8>,\n",
       " <matplotlib.lines.Line2D at 0x19c45ba2438>,\n",
       " <matplotlib.lines.Line2D at 0x19c45ba2588>,\n",
       " <matplotlib.lines.Line2D at 0x19c45ba26d8>,\n",
       " <matplotlib.lines.Line2D at 0x19c45ba2828>,\n",
       " <matplotlib.lines.Line2D at 0x19c45ba2978>,\n",
       " <matplotlib.lines.Line2D at 0x19c45ba2ac8>,\n",
       " <matplotlib.lines.Line2D at 0x19c45ba2c18>,\n",
       " <matplotlib.lines.Line2D at 0x19c45ba2d68>,\n",
       " <matplotlib.lines.Line2D at 0x19c45ba2eb8>,\n",
       " <matplotlib.lines.Line2D at 0x19c45bb8048>,\n",
       " <matplotlib.lines.Line2D at 0x19c45bb8198>,\n",
       " <matplotlib.lines.Line2D at 0x19c45bb82e8>,\n",
       " <matplotlib.lines.Line2D at 0x19c45bb8438>,\n",
       " <matplotlib.lines.Line2D at 0x19c45bb8588>,\n",
       " <matplotlib.lines.Line2D at 0x19c45bb86d8>,\n",
       " <matplotlib.lines.Line2D at 0x19c45bb8828>,\n",
       " <matplotlib.lines.Line2D at 0x19c45bb8978>,\n",
       " <matplotlib.lines.Line2D at 0x19c45bb8ac8>,\n",
       " <matplotlib.lines.Line2D at 0x19c45bb8c18>,\n",
       " <matplotlib.lines.Line2D at 0x19c45bb8d68>,\n",
       " <matplotlib.lines.Line2D at 0x19c45bb8eb8>,\n",
       " <matplotlib.lines.Line2D at 0x19c45bbf048>,\n",
       " <matplotlib.lines.Line2D at 0x19c45bbf198>,\n",
       " <matplotlib.lines.Line2D at 0x19c45bbf2e8>,\n",
       " <matplotlib.lines.Line2D at 0x19c45bbf438>,\n",
       " <matplotlib.lines.Line2D at 0x19c45bbf588>,\n",
       " <matplotlib.lines.Line2D at 0x19c45bbf6d8>,\n",
       " <matplotlib.lines.Line2D at 0x19c45bbf828>,\n",
       " <matplotlib.lines.Line2D at 0x19c45bbf978>,\n",
       " <matplotlib.lines.Line2D at 0x19c45bbfac8>,\n",
       " <matplotlib.lines.Line2D at 0x19c45bbfc18>,\n",
       " <matplotlib.lines.Line2D at 0x19c45bbfd68>,\n",
       " <matplotlib.lines.Line2D at 0x19c45bbfeb8>,\n",
       " <matplotlib.lines.Line2D at 0x19c45bc8048>,\n",
       " <matplotlib.lines.Line2D at 0x19c45bc8198>,\n",
       " <matplotlib.lines.Line2D at 0x19c45bc82e8>,\n",
       " <matplotlib.lines.Line2D at 0x19c45bc8438>,\n",
       " <matplotlib.lines.Line2D at 0x19c45bc8588>,\n",
       " <matplotlib.lines.Line2D at 0x19c45bc86d8>,\n",
       " <matplotlib.lines.Line2D at 0x19c45bc8828>,\n",
       " <matplotlib.lines.Line2D at 0x19c45bc8978>,\n",
       " <matplotlib.lines.Line2D at 0x19c45bc8ac8>,\n",
       " <matplotlib.lines.Line2D at 0x19c45bc8c18>,\n",
       " <matplotlib.lines.Line2D at 0x19c45bc8d68>,\n",
       " <matplotlib.lines.Line2D at 0x19c45bc8eb8>,\n",
       " <matplotlib.lines.Line2D at 0x19c45b30048>,\n",
       " <matplotlib.lines.Line2D at 0x19c45b30198>,\n",
       " <matplotlib.lines.Line2D at 0x19c45b302e8>,\n",
       " <matplotlib.lines.Line2D at 0x19c45b30438>,\n",
       " <matplotlib.lines.Line2D at 0x19c45b30588>,\n",
       " <matplotlib.lines.Line2D at 0x19c45b306d8>,\n",
       " <matplotlib.lines.Line2D at 0x19c45b30828>,\n",
       " <matplotlib.lines.Line2D at 0x19c45b30978>,\n",
       " <matplotlib.lines.Line2D at 0x19c45b30ac8>,\n",
       " <matplotlib.lines.Line2D at 0x19c45b30c18>,\n",
       " <matplotlib.lines.Line2D at 0x19c45b30d68>,\n",
       " <matplotlib.lines.Line2D at 0x19c45b30eb8>,\n",
       " <matplotlib.lines.Line2D at 0x19c45b58048>,\n",
       " <matplotlib.lines.Line2D at 0x19c45b58198>,\n",
       " <matplotlib.lines.Line2D at 0x19c45b582e8>,\n",
       " <matplotlib.lines.Line2D at 0x19c45b58438>,\n",
       " <matplotlib.lines.Line2D at 0x19c45b58588>,\n",
       " <matplotlib.lines.Line2D at 0x19c45b586d8>,\n",
       " <matplotlib.lines.Line2D at 0x19c45b58828>,\n",
       " <matplotlib.lines.Line2D at 0x19c45b58978>,\n",
       " <matplotlib.lines.Line2D at 0x19c45b58ac8>,\n",
       " <matplotlib.lines.Line2D at 0x19c45b58c18>,\n",
       " <matplotlib.lines.Line2D at 0x19c45b58d68>,\n",
       " <matplotlib.lines.Line2D at 0x19c45b58eb8>,\n",
       " <matplotlib.lines.Line2D at 0x19c45b23048>,\n",
       " <matplotlib.lines.Line2D at 0x19c45b23198>,\n",
       " <matplotlib.lines.Line2D at 0x19c45b232e8>,\n",
       " <matplotlib.lines.Line2D at 0x19c45b23438>,\n",
       " <matplotlib.lines.Line2D at 0x19c45b23588>,\n",
       " <matplotlib.lines.Line2D at 0x19c45b236d8>,\n",
       " <matplotlib.lines.Line2D at 0x19c45b23828>,\n",
       " <matplotlib.lines.Line2D at 0x19c45b23978>,\n",
       " <matplotlib.lines.Line2D at 0x19c45b23ac8>,\n",
       " <matplotlib.lines.Line2D at 0x19c45b23c18>,\n",
       " <matplotlib.lines.Line2D at 0x19c45b23d68>,\n",
       " <matplotlib.lines.Line2D at 0x19c45b23eb8>,\n",
       " <matplotlib.lines.Line2D at 0x19c49925048>,\n",
       " <matplotlib.lines.Line2D at 0x19c49925198>,\n",
       " <matplotlib.lines.Line2D at 0x19c499252e8>,\n",
       " <matplotlib.lines.Line2D at 0x19c49925438>,\n",
       " <matplotlib.lines.Line2D at 0x19c49925588>,\n",
       " <matplotlib.lines.Line2D at 0x19c499256d8>,\n",
       " <matplotlib.lines.Line2D at 0x19c49925828>,\n",
       " <matplotlib.lines.Line2D at 0x19c49925978>,\n",
       " <matplotlib.lines.Line2D at 0x19c49925ac8>,\n",
       " <matplotlib.lines.Line2D at 0x19c49925c18>,\n",
       " <matplotlib.lines.Line2D at 0x19c49925d68>,\n",
       " <matplotlib.lines.Line2D at 0x19c49925eb8>,\n",
       " <matplotlib.lines.Line2D at 0x19c49940048>,\n",
       " <matplotlib.lines.Line2D at 0x19c49940198>,\n",
       " <matplotlib.lines.Line2D at 0x19c499402e8>,\n",
       " <matplotlib.lines.Line2D at 0x19c49940438>,\n",
       " <matplotlib.lines.Line2D at 0x19c49940588>,\n",
       " <matplotlib.lines.Line2D at 0x19c499406d8>,\n",
       " <matplotlib.lines.Line2D at 0x19c49940828>,\n",
       " <matplotlib.lines.Line2D at 0x19c49940978>,\n",
       " <matplotlib.lines.Line2D at 0x19c49940ac8>,\n",
       " <matplotlib.lines.Line2D at 0x19c49940c18>,\n",
       " <matplotlib.lines.Line2D at 0x19c49940d68>,\n",
       " <matplotlib.lines.Line2D at 0x19c49940eb8>,\n",
       " <matplotlib.lines.Line2D at 0x19c49939048>,\n",
       " <matplotlib.lines.Line2D at 0x19c49939198>,\n",
       " <matplotlib.lines.Line2D at 0x19c499392e8>,\n",
       " <matplotlib.lines.Line2D at 0x19c49939438>,\n",
       " <matplotlib.lines.Line2D at 0x19c49939588>,\n",
       " <matplotlib.lines.Line2D at 0x19c499396d8>,\n",
       " <matplotlib.lines.Line2D at 0x19c49939828>,\n",
       " <matplotlib.lines.Line2D at 0x19c49939978>,\n",
       " <matplotlib.lines.Line2D at 0x19c49939ac8>,\n",
       " <matplotlib.lines.Line2D at 0x19c49939c18>,\n",
       " <matplotlib.lines.Line2D at 0x19c49939d68>,\n",
       " <matplotlib.lines.Line2D at 0x19c49939eb8>,\n",
       " <matplotlib.lines.Line2D at 0x19c4995a048>,\n",
       " <matplotlib.lines.Line2D at 0x19c4995a198>,\n",
       " <matplotlib.lines.Line2D at 0x19c4995a2e8>,\n",
       " <matplotlib.lines.Line2D at 0x19c4995a438>,\n",
       " <matplotlib.lines.Line2D at 0x19c4995a588>,\n",
       " <matplotlib.lines.Line2D at 0x19c4995a6d8>,\n",
       " <matplotlib.lines.Line2D at 0x19c4995a828>,\n",
       " <matplotlib.lines.Line2D at 0x19c4995a978>,\n",
       " <matplotlib.lines.Line2D at 0x19c4995aac8>,\n",
       " <matplotlib.lines.Line2D at 0x19c4995ac18>,\n",
       " <matplotlib.lines.Line2D at 0x19c4995ad68>,\n",
       " <matplotlib.lines.Line2D at 0x19c4995aeb8>,\n",
       " <matplotlib.lines.Line2D at 0x19c53888048>,\n",
       " <matplotlib.lines.Line2D at 0x19c53888198>,\n",
       " <matplotlib.lines.Line2D at 0x19c538882e8>,\n",
       " <matplotlib.lines.Line2D at 0x19c53888438>,\n",
       " <matplotlib.lines.Line2D at 0x19c53888588>,\n",
       " <matplotlib.lines.Line2D at 0x19c538886d8>,\n",
       " <matplotlib.lines.Line2D at 0x19c53888828>,\n",
       " <matplotlib.lines.Line2D at 0x19c53888978>,\n",
       " <matplotlib.lines.Line2D at 0x19c53888ac8>,\n",
       " <matplotlib.lines.Line2D at 0x19c53888c18>,\n",
       " <matplotlib.lines.Line2D at 0x19c53888d68>,\n",
       " <matplotlib.lines.Line2D at 0x19c53888eb8>,\n",
       " <matplotlib.lines.Line2D at 0x19c5389b048>,\n",
       " <matplotlib.lines.Line2D at 0x19c5389b198>,\n",
       " <matplotlib.lines.Line2D at 0x19c5389b2e8>,\n",
       " <matplotlib.lines.Line2D at 0x19c5389b438>,\n",
       " <matplotlib.lines.Line2D at 0x19c5389b588>,\n",
       " <matplotlib.lines.Line2D at 0x19c5389b6d8>,\n",
       " <matplotlib.lines.Line2D at 0x19c5389b828>,\n",
       " <matplotlib.lines.Line2D at 0x19c5389b978>,\n",
       " <matplotlib.lines.Line2D at 0x19c5389bac8>,\n",
       " <matplotlib.lines.Line2D at 0x19c5389bc18>,\n",
       " <matplotlib.lines.Line2D at 0x19c5389bd68>,\n",
       " <matplotlib.lines.Line2D at 0x19c5389beb8>,\n",
       " <matplotlib.lines.Line2D at 0x19c53874048>,\n",
       " <matplotlib.lines.Line2D at 0x19c53874198>,\n",
       " <matplotlib.lines.Line2D at 0x19c538742e8>,\n",
       " <matplotlib.lines.Line2D at 0x19c53874438>,\n",
       " <matplotlib.lines.Line2D at 0x19c53874588>,\n",
       " <matplotlib.lines.Line2D at 0x19c538746d8>,\n",
       " <matplotlib.lines.Line2D at 0x19c53874828>,\n",
       " <matplotlib.lines.Line2D at 0x19c53874978>,\n",
       " <matplotlib.lines.Line2D at 0x19c53874ac8>,\n",
       " <matplotlib.lines.Line2D at 0x19c53874c18>,\n",
       " <matplotlib.lines.Line2D at 0x19c53874d68>,\n",
       " <matplotlib.lines.Line2D at 0x19c53874eb8>,\n",
       " <matplotlib.lines.Line2D at 0x19c5389e048>,\n",
       " <matplotlib.lines.Line2D at 0x19c5389e198>,\n",
       " <matplotlib.lines.Line2D at 0x19c5389e2e8>,\n",
       " <matplotlib.lines.Line2D at 0x19c5389e438>,\n",
       " <matplotlib.lines.Line2D at 0x19c5389e588>,\n",
       " <matplotlib.lines.Line2D at 0x19c5389e6d8>,\n",
       " <matplotlib.lines.Line2D at 0x19c5389e828>,\n",
       " <matplotlib.lines.Line2D at 0x19c5389e978>,\n",
       " <matplotlib.lines.Line2D at 0x19c5389eac8>,\n",
       " <matplotlib.lines.Line2D at 0x19c5389ec18>,\n",
       " <matplotlib.lines.Line2D at 0x19c5389ed68>,\n",
       " <matplotlib.lines.Line2D at 0x19c5389eeb8>,\n",
       " <matplotlib.lines.Line2D at 0x19c4997a048>,\n",
       " <matplotlib.lines.Line2D at 0x19c4997a198>,\n",
       " <matplotlib.lines.Line2D at 0x19c4997a2e8>,\n",
       " <matplotlib.lines.Line2D at 0x19c4997a438>,\n",
       " <matplotlib.lines.Line2D at 0x19c4997a588>,\n",
       " <matplotlib.lines.Line2D at 0x19c4997a6d8>,\n",
       " <matplotlib.lines.Line2D at 0x19c4997a828>,\n",
       " <matplotlib.lines.Line2D at 0x19c4997a978>,\n",
       " <matplotlib.lines.Line2D at 0x19c4997aac8>,\n",
       " <matplotlib.lines.Line2D at 0x19c4997ac18>,\n",
       " <matplotlib.lines.Line2D at 0x19c4997ad68>,\n",
       " <matplotlib.lines.Line2D at 0x19c4997aeb8>,\n",
       " <matplotlib.lines.Line2D at 0x19c49978048>,\n",
       " <matplotlib.lines.Line2D at 0x19c49978198>,\n",
       " <matplotlib.lines.Line2D at 0x19c499782e8>,\n",
       " <matplotlib.lines.Line2D at 0x19c49978438>,\n",
       " <matplotlib.lines.Line2D at 0x19c49978588>,\n",
       " <matplotlib.lines.Line2D at 0x19c499786d8>,\n",
       " <matplotlib.lines.Line2D at 0x19c49978828>,\n",
       " <matplotlib.lines.Line2D at 0x19c49978978>,\n",
       " <matplotlib.lines.Line2D at 0x19c49978ac8>,\n",
       " <matplotlib.lines.Line2D at 0x19c49978c18>,\n",
       " <matplotlib.lines.Line2D at 0x19c49978d68>,\n",
       " <matplotlib.lines.Line2D at 0x19c49978eb8>,\n",
       " <matplotlib.lines.Line2D at 0x19c49961048>,\n",
       " <matplotlib.lines.Line2D at 0x19c49961198>,\n",
       " <matplotlib.lines.Line2D at 0x19c499612e8>,\n",
       " <matplotlib.lines.Line2D at 0x19c49961438>,\n",
       " <matplotlib.lines.Line2D at 0x19c49961588>,\n",
       " <matplotlib.lines.Line2D at 0x19c499616d8>,\n",
       " <matplotlib.lines.Line2D at 0x19c49961828>,\n",
       " <matplotlib.lines.Line2D at 0x19c49961978>,\n",
       " <matplotlib.lines.Line2D at 0x19c49961ac8>,\n",
       " <matplotlib.lines.Line2D at 0x19c49961c18>,\n",
       " <matplotlib.lines.Line2D at 0x19c49961d68>,\n",
       " <matplotlib.lines.Line2D at 0x19c49961eb8>,\n",
       " <matplotlib.lines.Line2D at 0x19c49969048>,\n",
       " <matplotlib.lines.Line2D at 0x19c49969198>,\n",
       " <matplotlib.lines.Line2D at 0x19c499692e8>,\n",
       " <matplotlib.lines.Line2D at 0x19c49969438>,\n",
       " <matplotlib.lines.Line2D at 0x19c49969588>,\n",
       " <matplotlib.lines.Line2D at 0x19c499696d8>,\n",
       " <matplotlib.lines.Line2D at 0x19c49969828>,\n",
       " <matplotlib.lines.Line2D at 0x19c49969978>,\n",
       " <matplotlib.lines.Line2D at 0x19c49969ac8>,\n",
       " <matplotlib.lines.Line2D at 0x19c49969c18>,\n",
       " <matplotlib.lines.Line2D at 0x19c49969d68>,\n",
       " <matplotlib.lines.Line2D at 0x19c49969eb8>,\n",
       " <matplotlib.lines.Line2D at 0x19c49979048>,\n",
       " <matplotlib.lines.Line2D at 0x19c49979198>,\n",
       " <matplotlib.lines.Line2D at 0x19c499792e8>,\n",
       " <matplotlib.lines.Line2D at 0x19c49979438>,\n",
       " <matplotlib.lines.Line2D at 0x19c49979588>,\n",
       " <matplotlib.lines.Line2D at 0x19c499796d8>,\n",
       " <matplotlib.lines.Line2D at 0x19c49979828>,\n",
       " <matplotlib.lines.Line2D at 0x19c49979978>,\n",
       " <matplotlib.lines.Line2D at 0x19c49979ac8>,\n",
       " <matplotlib.lines.Line2D at 0x19c49979c18>,\n",
       " <matplotlib.lines.Line2D at 0x19c49979d68>,\n",
       " <matplotlib.lines.Line2D at 0x19c49979eb8>,\n",
       " <matplotlib.lines.Line2D at 0x19c53b4d4e0>,\n",
       " <matplotlib.lines.Line2D at 0x19c53b4dfd0>,\n",
       " <matplotlib.lines.Line2D at 0x19c53b4de80>,\n",
       " <matplotlib.lines.Line2D at 0x19c53b4dd30>,\n",
       " <matplotlib.lines.Line2D at 0x19c53b4dbe0>,\n",
       " <matplotlib.lines.Line2D at 0x19c53b4da90>,\n",
       " <matplotlib.lines.Line2D at 0x19c53b4d940>,\n",
       " <matplotlib.lines.Line2D at 0x19c53b4d7f0>,\n",
       " <matplotlib.lines.Line2D at 0x19c53b4d6a0>,\n",
       " <matplotlib.lines.Line2D at 0x19c53b4d518>,\n",
       " <matplotlib.lines.Line2D at 0x19c53b4d128>,\n",
       " <matplotlib.lines.Line2D at 0x19c53b4d278>,\n",
       " <matplotlib.lines.Line2D at 0x19c53b4b048>,\n",
       " <matplotlib.lines.Line2D at 0x19c53b4b198>,\n",
       " <matplotlib.lines.Line2D at 0x19c53b4b2e8>,\n",
       " <matplotlib.lines.Line2D at 0x19c53b4b438>,\n",
       " <matplotlib.lines.Line2D at 0x19c53b4b588>,\n",
       " <matplotlib.lines.Line2D at 0x19c53b4b6d8>,\n",
       " <matplotlib.lines.Line2D at 0x19c53b4b828>,\n",
       " <matplotlib.lines.Line2D at 0x19c53b4b978>,\n",
       " <matplotlib.lines.Line2D at 0x19c53b4bac8>,\n",
       " <matplotlib.lines.Line2D at 0x19c53b4bc18>,\n",
       " <matplotlib.lines.Line2D at 0x19c53b4bd68>,\n",
       " <matplotlib.lines.Line2D at 0x19c53b4beb8>,\n",
       " <matplotlib.lines.Line2D at 0x19c53b55048>,\n",
       " <matplotlib.lines.Line2D at 0x19c53b55198>,\n",
       " <matplotlib.lines.Line2D at 0x19c53b552e8>,\n",
       " <matplotlib.lines.Line2D at 0x19c53b55438>,\n",
       " <matplotlib.lines.Line2D at 0x19c53b55588>,\n",
       " <matplotlib.lines.Line2D at 0x19c53b556d8>,\n",
       " <matplotlib.lines.Line2D at 0x19c53b55828>,\n",
       " <matplotlib.lines.Line2D at 0x19c53b55978>,\n",
       " <matplotlib.lines.Line2D at 0x19c53b55ac8>,\n",
       " <matplotlib.lines.Line2D at 0x19c53b55c18>,\n",
       " <matplotlib.lines.Line2D at 0x19c53b55d68>,\n",
       " <matplotlib.lines.Line2D at 0x19c53b55eb8>,\n",
       " <matplotlib.lines.Line2D at 0x19c53b5dfd0>,\n",
       " <matplotlib.lines.Line2D at 0x19c53b5deb8>,\n",
       " <matplotlib.lines.Line2D at 0x19c53b5dd68>,\n",
       " <matplotlib.lines.Line2D at 0x19c53b5dc18>,\n",
       " <matplotlib.lines.Line2D at 0x19c53b5dac8>,\n",
       " <matplotlib.lines.Line2D at 0x19c53b5d978>,\n",
       " <matplotlib.lines.Line2D at 0x19c53b5d828>,\n",
       " <matplotlib.lines.Line2D at 0x19c53b5d6d8>,\n",
       " <matplotlib.lines.Line2D at 0x19c53b5d588>,\n",
       " <matplotlib.lines.Line2D at 0x19c53b5d438>,\n",
       " <matplotlib.lines.Line2D at 0x19c53b5d2e8>,\n",
       " <matplotlib.lines.Line2D at 0x19c53b5d198>,\n",
       " <matplotlib.lines.Line2D at 0x19c53f54048>,\n",
       " <matplotlib.lines.Line2D at 0x19c53f54198>,\n",
       " <matplotlib.lines.Line2D at 0x19c53f542e8>,\n",
       " <matplotlib.lines.Line2D at 0x19c53f54438>,\n",
       " <matplotlib.lines.Line2D at 0x19c53f54588>,\n",
       " <matplotlib.lines.Line2D at 0x19c53f546d8>,\n",
       " <matplotlib.lines.Line2D at 0x19c53f54828>,\n",
       " <matplotlib.lines.Line2D at 0x19c53f54978>,\n",
       " <matplotlib.lines.Line2D at 0x19c53f54ac8>,\n",
       " <matplotlib.lines.Line2D at 0x19c53f54c18>,\n",
       " <matplotlib.lines.Line2D at 0x19c53f54d68>,\n",
       " <matplotlib.lines.Line2D at 0x19c53f54eb8>,\n",
       " <matplotlib.lines.Line2D at 0x19c53f47048>,\n",
       " <matplotlib.lines.Line2D at 0x19c53f47198>,\n",
       " <matplotlib.lines.Line2D at 0x19c53f472e8>,\n",
       " <matplotlib.lines.Line2D at 0x19c53f47438>,\n",
       " <matplotlib.lines.Line2D at 0x19c53f47588>,\n",
       " <matplotlib.lines.Line2D at 0x19c53f476d8>,\n",
       " <matplotlib.lines.Line2D at 0x19c53f47828>,\n",
       " <matplotlib.lines.Line2D at 0x19c53f47978>,\n",
       " <matplotlib.lines.Line2D at 0x19c53f47ac8>,\n",
       " <matplotlib.lines.Line2D at 0x19c53f47c18>,\n",
       " <matplotlib.lines.Line2D at 0x19c53f47d68>,\n",
       " <matplotlib.lines.Line2D at 0x19c53f47eb8>,\n",
       " <matplotlib.lines.Line2D at 0x19c53f57048>,\n",
       " <matplotlib.lines.Line2D at 0x19c53f57198>,\n",
       " <matplotlib.lines.Line2D at 0x19c53f572e8>,\n",
       " <matplotlib.lines.Line2D at 0x19c53f57438>,\n",
       " <matplotlib.lines.Line2D at 0x19c53f57588>,\n",
       " <matplotlib.lines.Line2D at 0x19c53f576d8>,\n",
       " <matplotlib.lines.Line2D at 0x19c53f57828>,\n",
       " <matplotlib.lines.Line2D at 0x19c53f57978>,\n",
       " <matplotlib.lines.Line2D at 0x19c53f57ac8>,\n",
       " <matplotlib.lines.Line2D at 0x19c53f57c18>,\n",
       " <matplotlib.lines.Line2D at 0x19c53f57d68>,\n",
       " <matplotlib.lines.Line2D at 0x19c53f57eb8>,\n",
       " <matplotlib.lines.Line2D at 0x19c53f610b8>,\n",
       " <matplotlib.lines.Line2D at 0x19c53f61208>,\n",
       " <matplotlib.lines.Line2D at 0x19c53f61358>,\n",
       " <matplotlib.lines.Line2D at 0x19c53f614a8>,\n",
       " <matplotlib.lines.Line2D at 0x19c53f615f8>,\n",
       " <matplotlib.lines.Line2D at 0x19c53f61748>,\n",
       " <matplotlib.lines.Line2D at 0x19c53f61898>,\n",
       " <matplotlib.lines.Line2D at 0x19c53f619e8>,\n",
       " <matplotlib.lines.Line2D at 0x19c53f61b38>,\n",
       " <matplotlib.lines.Line2D at 0x19c53f61c88>,\n",
       " <matplotlib.lines.Line2D at 0x19c53f61dd8>,\n",
       " <matplotlib.lines.Line2D at 0x19c53f61f28>,\n",
       " <matplotlib.lines.Line2D at 0x19c53f6f048>,\n",
       " <matplotlib.lines.Line2D at 0x19c53f6f198>,\n",
       " <matplotlib.lines.Line2D at 0x19c53f6f2e8>,\n",
       " <matplotlib.lines.Line2D at 0x19c53f6f438>,\n",
       " <matplotlib.lines.Line2D at 0x19c53f6f588>,\n",
       " <matplotlib.lines.Line2D at 0x19c53f6f6d8>,\n",
       " <matplotlib.lines.Line2D at 0x19c53f6f828>,\n",
       " <matplotlib.lines.Line2D at 0x19c53f6f978>,\n",
       " <matplotlib.lines.Line2D at 0x19c53f6fac8>,\n",
       " <matplotlib.lines.Line2D at 0x19c53f6fc18>,\n",
       " <matplotlib.lines.Line2D at 0x19c53f6fd68>,\n",
       " <matplotlib.lines.Line2D at 0x19c53f6feb8>,\n",
       " <matplotlib.lines.Line2D at 0x19c53e99048>,\n",
       " <matplotlib.lines.Line2D at 0x19c53e99198>,\n",
       " <matplotlib.lines.Line2D at 0x19c53e992e8>,\n",
       " <matplotlib.lines.Line2D at 0x19c53e99438>,\n",
       " <matplotlib.lines.Line2D at 0x19c53e99588>,\n",
       " <matplotlib.lines.Line2D at 0x19c53e996d8>,\n",
       " <matplotlib.lines.Line2D at 0x19c53e99828>,\n",
       " <matplotlib.lines.Line2D at 0x19c53e99978>,\n",
       " <matplotlib.lines.Line2D at 0x19c53e99ac8>,\n",
       " <matplotlib.lines.Line2D at 0x19c53e99c18>,\n",
       " <matplotlib.lines.Line2D at 0x19c53e99d68>,\n",
       " <matplotlib.lines.Line2D at 0x19c53e99eb8>,\n",
       " <matplotlib.lines.Line2D at 0x19c53e96048>,\n",
       " <matplotlib.lines.Line2D at 0x19c53e96198>,\n",
       " <matplotlib.lines.Line2D at 0x19c53e962e8>,\n",
       " <matplotlib.lines.Line2D at 0x19c53e96438>,\n",
       " <matplotlib.lines.Line2D at 0x19c53e96588>,\n",
       " <matplotlib.lines.Line2D at 0x19c53e966d8>,\n",
       " <matplotlib.lines.Line2D at 0x19c53e96828>,\n",
       " <matplotlib.lines.Line2D at 0x19c53e96978>,\n",
       " <matplotlib.lines.Line2D at 0x19c53e96ac8>,\n",
       " <matplotlib.lines.Line2D at 0x19c53e96c18>,\n",
       " <matplotlib.lines.Line2D at 0x19c53e96d68>,\n",
       " <matplotlib.lines.Line2D at 0x19c53e96eb8>,\n",
       " <matplotlib.lines.Line2D at 0x19c53e83048>,\n",
       " <matplotlib.lines.Line2D at 0x19c53e83198>,\n",
       " <matplotlib.lines.Line2D at 0x19c53e832e8>,\n",
       " <matplotlib.lines.Line2D at 0x19c53e83438>,\n",
       " <matplotlib.lines.Line2D at 0x19c53e83588>,\n",
       " <matplotlib.lines.Line2D at 0x19c53e836d8>,\n",
       " <matplotlib.lines.Line2D at 0x19c53e83828>,\n",
       " <matplotlib.lines.Line2D at 0x19c53e83978>,\n",
       " <matplotlib.lines.Line2D at 0x19c53e83ac8>,\n",
       " <matplotlib.lines.Line2D at 0x19c53e83c18>,\n",
       " <matplotlib.lines.Line2D at 0x19c53e83d68>,\n",
       " <matplotlib.lines.Line2D at 0x19c53e83eb8>,\n",
       " <matplotlib.lines.Line2D at 0x19c53ea8048>,\n",
       " <matplotlib.lines.Line2D at 0x19c53ea8198>,\n",
       " <matplotlib.lines.Line2D at 0x19c53ea82e8>,\n",
       " <matplotlib.lines.Line2D at 0x19c53ea8438>,\n",
       " <matplotlib.lines.Line2D at 0x19c53ea8588>,\n",
       " <matplotlib.lines.Line2D at 0x19c53ea86d8>,\n",
       " <matplotlib.lines.Line2D at 0x19c53ea8828>,\n",
       " <matplotlib.lines.Line2D at 0x19c53ea8978>,\n",
       " <matplotlib.lines.Line2D at 0x19c53ea8ac8>,\n",
       " <matplotlib.lines.Line2D at 0x19c53ea8c18>,\n",
       " ...]"
      ]
     },
     "execution_count": 20,
     "metadata": {},
     "output_type": "execute_result"
    },
    {
     "data": {
      "image/png": "[encoded data removed]",
      "text/plain": [
       "<Figure size 432x288 with 1 Axes>"
      ]
     },
     "metadata": {
      "needs_background": "light"
     },
     "output_type": "display_data"
    }
   ],
   "source": [
    "plt.plot(pdp_rh[1][0])"
   ]
  },
  {
   "cell_type": "code",
   "execution_count": 68,
   "metadata": {},
   "outputs": [
    {
     "data": {
      "text/plain": [
       "[<matplotlib.lines.Line2D at 0x1e76940ce80>]"
      ]
     },
     "execution_count": 68,
     "metadata": {},
     "output_type": "execute_result"
    },
    {
     "data": {
      "image/png": "[encoded data removed]",
      "text/plain": [
       "<Figure size 432x288 with 1 Axes>"
      ]
     },
     "metadata": {
      "needs_background": "light"
     },
     "output_type": "display_data"
    }
   ],
   "source": [
    "plt.plot(pdp_rh[0][0][5])"
   ]
  },
  {
   "cell_type": "code",
   "execution_count": 69,
   "metadata": {
    "colab": {},
    "colab_type": "code",
    "id": "miirMbrrNR7R"
   },
   "outputs": [
    {
     "data": {
      "text/plain": [
       "array([[[ 4.74999905e-06,  2.25208321e-05,  2.60000057e-05, ...,\n",
       "          1.96458397e-05,  2.52291641e-05,  3.19375057e-05],\n",
       "        [-1.12500000e-05, -1.14791670e-05, -1.70000019e-05, ...,\n",
       "          4.64583158e-06,  2.22916651e-06,  6.93749857e-06],\n",
       "        [-1.72500000e-05, -2.64791679e-05, -4.20000000e-05, ...,\n",
       "         -3.35416341e-06, -3.77083468e-06,  3.93750024e-06],\n",
       "        ...,\n",
       "        [-9.25000000e-06, -7.47916603e-06, -1.00000000e-05, ...,\n",
       "         -1.13541632e-05, -6.77083111e-06, -1.10624952e-05],\n",
       "        [ 1.74999964e-06,  3.52083397e-06, -1.99999940e-06, ...,\n",
       "         -8.35416412e-06, -4.77083206e-06, -8.06249619e-06],\n",
       "        [-1.62500000e-05, -3.47916603e-06,  1.20000010e-05, ...,\n",
       "         -2.33541660e-05, -1.37708321e-05, -1.10624971e-05]],\n",
       "\n",
       "       [[-5.03333321e-05, -2.99791660e-05, -1.46249990e-05, ...,\n",
       "         -7.29791718e-05, -6.23333473e-05, -7.86250000e-05],\n",
       "        [-1.53333340e-05, -1.19791670e-05, -9.62500000e-06, ...,\n",
       "         -3.69791679e-05, -3.93333359e-05, -4.36250076e-05],\n",
       "        [ 2.66666627e-06,  3.02083397e-06, -3.62500000e-06, ...,\n",
       "         -4.09791679e-05, -4.03333321e-05, -3.86250038e-05],\n",
       "        ...,\n",
       "        [ 3.66666698e-06,  4.02083349e-06,  5.37500048e-06, ...,\n",
       "          3.02083063e-06,  6.66666937e-06,  5.37499857e-06],\n",
       "        [ 7.66666698e-06,  9.02083302e-06,  1.13750000e-05, ...,\n",
       "          2.02083087e-06,  4.66667032e-06,  3.37499928e-06],\n",
       "        [-1.33333325e-06, -1.49791670e-05, -1.76250000e-05, ...,\n",
       "          1.70208302e-05,  3.26666718e-05,  4.13750000e-05]],\n",
       "\n",
       "       [[-4.48125038e-05, -7.42500000e-05, -8.01875000e-05, ...,\n",
       "         -3.10416698e-05, -3.75416718e-05, -2.86249981e-05],\n",
       "        [-2.28125019e-05, -2.12499962e-05, -2.11875000e-05, ...,\n",
       "         -1.80416660e-05, -2.05416641e-05, -2.36250000e-05],\n",
       "        [-4.78125038e-05, -3.92500076e-05, -2.61875000e-05, ...,\n",
       "         -1.00416660e-05, -2.05416641e-05, -3.96250000e-05],\n",
       "        ...,\n",
       "        [ 3.18749952e-06,  7.75000095e-06,  1.08125010e-05, ...,\n",
       "          9.95833302e-06,  7.45833349e-06,  6.37499857e-06],\n",
       "        [ 8.18750000e-06,  1.17500000e-05,  1.28125010e-05, ...,\n",
       "          5.95833445e-06,  4.45833349e-06,  4.37499762e-06],\n",
       "        [-4.88125000e-05, -4.62500000e-05, -3.61875000e-05, ...,\n",
       "         -5.40416679e-05, -2.35416679e-05, -1.56250019e-05]],\n",
       "\n",
       "       ...,\n",
       "\n",
       "       [[ 8.58333397e-06,  2.62500477e-06, -1.49999762e-06, ...,\n",
       "         -7.09791641e-05, -7.56250000e-05, -4.72708321e-05],\n",
       "        [ 1.55833282e-05,  9.62500763e-06, -1.49999762e-06, ...,\n",
       "         -5.89791527e-05, -6.56250000e-05, -5.52708359e-05],\n",
       "        [ 1.45833321e-05,  1.26250048e-05,  5.50000191e-06, ...,\n",
       "         -5.49791565e-05, -5.76250000e-05, -5.22708359e-05],\n",
       "        ...,\n",
       "        [-3.04166660e-05, -3.33750000e-05, -3.15000019e-05, ...,\n",
       "          2.02083445e-06, -1.26249990e-05, -2.12708321e-05],\n",
       "        [-2.54166660e-05, -3.03750019e-05, -2.95000019e-05, ...,\n",
       "          1.10208359e-05, -1.62500000e-06, -1.12708321e-05],\n",
       "        [-2.34166660e-05, -1.63750019e-05, -5.00000000e-07, ...,\n",
       "          4.00208359e-05,  7.93750000e-05,  2.57291698e-05]],\n",
       "\n",
       "       [[-2.58333302e-06, -3.27083445e-06,  8.33333397e-06, ...,\n",
       "          3.62708397e-05,  3.18333340e-05,  2.67500000e-05],\n",
       "        [-3.58333373e-06, -9.27083206e-06, -9.66666698e-06, ...,\n",
       "          1.62708340e-05,  1.38333349e-05,  1.47500019e-05],\n",
       "        [-9.58333969e-06, -1.32708321e-05, -1.96666660e-05, ...,\n",
       "          2.52708321e-05,  2.48333302e-05,  1.27500010e-05],\n",
       "        ...,\n",
       "        [ 2.41666508e-06,  4.72916794e-06,  6.33333206e-06, ...,\n",
       "          6.27083206e-06,  2.83333158e-06, -2.50002563e-07],\n",
       "        [ 6.41666508e-06,  7.72916746e-06,  8.33333206e-06, ...,\n",
       "          1.27083170e-06, -1.66669220e-07,  7.49996781e-07],\n",
       "        [ 3.04166641e-05,  3.77291679e-05,  2.23333321e-05, ...,\n",
       "          3.62708359e-05,  3.88333321e-05,  5.17500000e-05]],\n",
       "\n",
       "       [[-1.77083337e-06,  2.72916698e-06,  3.06250048e-06, ...,\n",
       "         -8.22916698e-06,  6.29166651e-06,  6.72916746e-06],\n",
       "        [ 1.22291651e-05,  1.27291622e-05,  1.50625019e-05, ...,\n",
       "          5.77083397e-06,  6.29166651e-06,  9.72916794e-06],\n",
       "        [ 2.42291660e-05,  2.77291794e-05,  3.20624924e-05, ...,\n",
       "          1.47708311e-05,  1.02916689e-05,  6.72916842e-06],\n",
       "        ...,\n",
       "        [-1.17708330e-05, -1.42708349e-05, -1.49375000e-05, ...,\n",
       "         -5.22916698e-06, -9.70833302e-06, -1.32708330e-05],\n",
       "        [-1.17708330e-05, -1.62708340e-05, -1.79375000e-05, ...,\n",
       "         -6.22916698e-06, -7.70833254e-06, -1.22708340e-05],\n",
       "        [ 1.52291670e-05,  9.72916603e-06,  1.30625010e-05, ...,\n",
       "          1.47708330e-05,  1.12916679e-05,  2.27291660e-05]]])"
      ]
     },
     "execution_count": 69,
     "metadata": {},
     "output_type": "execute_result"
    }
   ],
   "source": [
    "pdp_rh[0]"
   ]
  },
  {
   "cell_type": "markdown",
   "metadata": {},
   "source": [
    "# Extracting only channel data"
   ]
  },
  {
   "cell_type": "code",
   "execution_count": 222,
   "metadata": {},
   "outputs": [
    {
     "data": {
      "text/plain": [
       "10"
      ]
     },
     "execution_count": 222,
     "metadata": {},
     "output_type": "execute_result"
    }
   ],
   "source": [
    "len(pp_rh)"
   ]
  },
  {
   "cell_type": "code",
   "execution_count": 223,
   "metadata": {},
   "outputs": [
    {
     "data": {
      "text/plain": [
       "(20, 61, 1250)"
      ]
     },
     "execution_count": 223,
     "metadata": {},
     "output_type": "execute_result"
    }
   ],
   "source": [
    "hv_rh_separated = np.vstack(hv_rh)\n",
    "pp_rh_separated = np.vstack(pp_rh)\n",
    "pnp_rh_separated = np.vstack(pnp_rh)\n",
    "pp_rh_separated.shape"
   ]
  },
  {
   "cell_type": "code",
   "execution_count": 106,
   "metadata": {},
   "outputs": [
    {
     "data": {
      "text/plain": [
       "(240, 1280)"
      ]
     },
     "execution_count": 106,
     "metadata": {},
     "output_type": "execute_result"
    }
   ],
   "source": [
    "pdp_rh_separated = np.vstack(pdp_rh)\n",
    "pnp1_rh_separated = np.vstack(pnp1_rh)\n",
    "pdp_rh_separated.shape"
   ]
  },
  {
   "cell_type": "code",
   "execution_count": 82,
   "metadata": {},
   "outputs": [
    {
     "data": {
      "text/plain": [
       "(38, 61, 1250)"
      ]
     },
     "execution_count": 82,
     "metadata": {},
     "output_type": "execute_result"
    }
   ],
   "source": [
    "pnp_vs_pp_rh = np.concatenate((pp_rh_separated, pnp_rh_separated))\n",
    "pnp_vs_pp_rh.shape"
   ]
  },
  {
   "cell_type": "code",
   "execution_count": null,
   "metadata": {},
   "outputs": [],
   "source": []
  },
  {
   "cell_type": "markdown",
   "metadata": {},
   "source": [
    "# Exploring basic classification"
   ]
  },
  {
   "cell_type": "markdown",
   "metadata": {},
   "source": [
    "## KNN"
   ]
  },
  {
   "cell_type": "code",
   "execution_count": 62,
   "metadata": {},
   "outputs": [],
   "source": [
    "from sklearn import neighbors\n",
    "from sklearn.model_selection import train_test_split"
   ]
  },
  {
   "cell_type": "code",
   "execution_count": 128,
   "metadata": {},
   "outputs": [],
   "source": [
    "knn = neighbors.KNeighborsClassifier(n_neighbors=3)"
   ]
  },
  {
   "cell_type": "code",
   "execution_count": 129,
   "metadata": {},
   "outputs": [],
   "source": [
    "pnp_vs_pp_rh_flat = np.array(list(map(np.ravel, pnp_vs_pp_rh)))"
   ]
  },
  {
   "cell_type": "code",
   "execution_count": 200,
   "metadata": {},
   "outputs": [],
   "source": [
    "train = pnp_vs_pp_rh_flat  * 100 #1000000\n",
    "labels = [0] * 20 + [1] * 18"
   ]
  },
  {
   "cell_type": "code",
   "execution_count": 201,
   "metadata": {},
   "outputs": [
    {
     "data": {
      "text/plain": [
       "array([[ 1.44402540e-04,  9.81420040e-05,  6.11681223e-05, ...,\n",
       "         1.93071413e-04,  1.70576549e-04,  1.27043426e-04],\n",
       "       [ 1.15336525e-04,  1.83704400e-04,  2.49183202e-04, ...,\n",
       "        -5.28900206e-05, -4.13301617e-05, -5.40549040e-05],\n",
       "       [ 9.51089412e-06, -2.08860099e-05, -9.03276443e-05, ...,\n",
       "         6.40078187e-05, -3.19230855e-06, -9.86244798e-05],\n",
       "       ...,\n",
       "       [-1.22394466e-04, -9.60539460e-05, -1.65400058e-05, ...,\n",
       "         1.38730752e-04,  1.19552875e-04,  1.95457590e-04],\n",
       "       [-2.41636729e-04, -2.74537277e-04, -3.30660510e-04, ...,\n",
       "         3.75982016e-05,  9.98272836e-05,  4.12112772e-05],\n",
       "       [ 2.07718134e-04,  2.82873058e-04,  3.64515805e-04, ...,\n",
       "         7.52620041e-05, -9.47975993e-05, -7.00567245e-05]])"
      ]
     },
     "execution_count": 201,
     "metadata": {},
     "output_type": "execute_result"
    }
   ],
   "source": [
    "train"
   ]
  },
  {
   "cell_type": "code",
   "execution_count": 224,
   "metadata": {},
   "outputs": [],
   "source": [
    "x_train, x_test, y_train, y_test = train_test_split(train, labels, test_size=0.05)"
   ]
  },
  {
   "cell_type": "code",
   "execution_count": 225,
   "metadata": {},
   "outputs": [
    {
     "data": {
      "text/plain": [
       "KNeighborsClassifier(algorithm='auto', leaf_size=30, metric='minkowski',\n",
       "           metric_params=None, n_jobs=1, n_neighbors=3, p=2,\n",
       "           weights='uniform')"
      ]
     },
     "execution_count": 225,
     "metadata": {},
     "output_type": "execute_result"
    }
   ],
   "source": [
    "knn.fit(x_train, y_train)"
   ]
  },
  {
   "cell_type": "code",
   "execution_count": 226,
   "metadata": {},
   "outputs": [
    {
     "data": {
      "text/plain": [
       "0.7894736842105263"
      ]
     },
     "execution_count": 226,
     "metadata": {},
     "output_type": "execute_result"
    }
   ],
   "source": [
    "knn.score(train, labels)"
   ]
  },
  {
   "cell_type": "code",
   "execution_count": 227,
   "metadata": {},
   "outputs": [
    {
     "data": {
      "text/plain": [
       "0.5"
      ]
     },
     "execution_count": 227,
     "metadata": {},
     "output_type": "execute_result"
    }
   ],
   "source": [
    "knn.score(x_test, y_test)"
   ]
  },
  {
   "cell_type": "code",
   "execution_count": 206,
   "metadata": {},
   "outputs": [
    {
     "data": {
      "text/plain": [
       "(array([1, 1]), [1, 0])"
      ]
     },
     "execution_count": 206,
     "metadata": {},
     "output_type": "execute_result"
    }
   ],
   "source": [
    "knn.predict(x_test), y_test"
   ]
  },
  {
   "cell_type": "code",
   "execution_count": 127,
   "metadata": {},
   "outputs": [
    {
     "name": "stdout",
     "output_type": "stream",
     "text": [
      "Channel: 0 Score: 5.0\n",
      "Channel: 1 Score: 6.5\n",
      "Channel: 2 Score: 7.0\n",
      "Channel: 3 Score: 5.5\n",
      "Channel: 4 Score: 6.5\n",
      "Channel: 5 Score: 3.0\n",
      "Channel: 6 Score: 4.5\n",
      "Channel: 7 Score: 7.0\n",
      "Channel: 8 Score: 5.0\n",
      "Channel: 9 Score: 4.5\n",
      "Channel: 10 Score: 4.5\n",
      "Channel: 11 Score: 6.0\n",
      "Channel: 12 Score: 4.0\n",
      "Channel: 13 Score: 3.5\n",
      "Channel: 14 Score: 6.0\n",
      "Channel: 15 Score: 5.5\n",
      "Channel: 16 Score: 4.0\n",
      "Channel: 17 Score: 5.5\n",
      "Channel: 18 Score: 7.5\n",
      "Channel: 19 Score: 4.0\n",
      "Channel: 20 Score: 5.0\n",
      "Channel: 21 Score: 5.0\n",
      "Channel: 22 Score: 6.0\n",
      "Channel: 23 Score: 4.0\n",
      "Channel: 24 Score: 5.5\n",
      "Channel: 25 Score: 6.0\n",
      "Channel: 26 Score: 5.0\n",
      "Channel: 27 Score: 2.5\n",
      "Channel: 28 Score: 4.0\n",
      "Channel: 29 Score: 3.0\n",
      "Channel: 30 Score: 2.0\n",
      "Channel: 31 Score: 2.5\n",
      "Channel: 32 Score: 4.5\n",
      "Channel: 33 Score: 3.5\n",
      "Channel: 34 Score: 5.5\n",
      "Channel: 35 Score: 4.0\n",
      "Channel: 36 Score: 4.5\n",
      "Channel: 37 Score: 3.5\n",
      "Channel: 38 Score: 5.0\n",
      "Channel: 39 Score: 5.5\n",
      "Channel: 40 Score: 5.5\n",
      "Channel: 41 Score: 5.0\n",
      "Channel: 42 Score: 4.0\n",
      "Channel: 43 Score: 7.0\n",
      "Channel: 44 Score: 5.0\n",
      "Channel: 45 Score: 4.0\n",
      "Channel: 46 Score: 5.5\n",
      "Channel: 47 Score: 4.5\n",
      "Channel: 48 Score: 5.0\n",
      "Channel: 49 Score: 4.5\n",
      "Channel: 50 Score: 5.0\n",
      "Channel: 51 Score: 4.0\n",
      "Channel: 52 Score: 6.0\n",
      "Channel: 53 Score: 4.5\n",
      "Channel: 54 Score: 4.5\n",
      "Channel: 55 Score: 6.0\n",
      "Channel: 56 Score: 5.0\n",
      "Channel: 57 Score: 4.5\n",
      "Channel: 58 Score: 4.0\n",
      "Channel: 59 Score: 4.5\n",
      "Channel: 60 Score: 3.5\n"
     ]
    }
   ],
   "source": [
    "for channel in range(0, 61):\n",
    "    score = 0\n",
    "    \n",
    "    for trial in range(10):\n",
    "        clas = neighbors.KNeighborsClassifier(n_neighbors=3)\n",
    "        train = pnp_vs_pp_rh[:, channel]\n",
    "        labels = [0] * 20 + [1] * 18\n",
    "        x_train, x_test, y_train, y_test = train_test_split(train, labels, test_size=0.05)\n",
    "        clas.fit(x_train, y_train)\n",
    "        score += clas.score(x_test, y_test)\n",
    "        # print(channel, np.sum(np.abs(clas.predict_proba(pnp_vs_pp_rh[0:400, channel])-clas.predict_proba(pnp_vs_pp_rh[600:1000, channel]))))\n",
    "    \n",
    "    print('Channel:', channel, 'Score:', score)"
   ]
  },
  {
   "cell_type": "code",
   "execution_count": null,
   "metadata": {},
   "outputs": [],
   "source": []
  },
  {
   "cell_type": "markdown",
   "metadata": {},
   "source": [
    "## SVM"
   ]
  },
  {
   "cell_type": "code",
   "execution_count": 207,
   "metadata": {},
   "outputs": [],
   "source": [
    "from sklearn.svm import SVC"
   ]
  },
  {
   "cell_type": "code",
   "execution_count": 208,
   "metadata": {},
   "outputs": [],
   "source": [
    "svc = SVC(kernel='rbf')"
   ]
  },
  {
   "cell_type": "code",
   "execution_count": 209,
   "metadata": {},
   "outputs": [],
   "source": [
    "pnp_vs_pp_rh_flat = np.array(list(map(np.ravel, pnp_vs_pp_rh)))"
   ]
  },
  {
   "cell_type": "code",
   "execution_count": 210,
   "metadata": {},
   "outputs": [],
   "source": [
    "train = pnp_vs_pp_rh_flat\n",
    "labels = [0] * 20 + [1] * 18"
   ]
  },
  {
   "cell_type": "code",
   "execution_count": 211,
   "metadata": {},
   "outputs": [],
   "source": [
    "x_train, x_test, y_train, y_test = train_test_split(train, labels, test_size=0.1)"
   ]
  },
  {
   "cell_type": "code",
   "execution_count": 212,
   "metadata": {},
   "outputs": [
    {
     "data": {
      "text/plain": [
       "SVC(C=1.0, cache_size=200, class_weight=None, coef0=0.0,\n",
       "  decision_function_shape='ovr', degree=3, gamma='auto', kernel='rbf',\n",
       "  max_iter=-1, probability=False, random_state=None, shrinking=True,\n",
       "  tol=0.001, verbose=False)"
      ]
     },
     "execution_count": 212,
     "metadata": {},
     "output_type": "execute_result"
    }
   ],
   "source": [
    "svc.fit(x_train, y_train)"
   ]
  },
  {
   "cell_type": "code",
   "execution_count": 213,
   "metadata": {},
   "outputs": [
    {
     "data": {
      "text/plain": [
       "0.5"
      ]
     },
     "execution_count": 213,
     "metadata": {},
     "output_type": "execute_result"
    }
   ],
   "source": [
    "svc.score(x_train, y_train)"
   ]
  },
  {
   "cell_type": "code",
   "execution_count": 214,
   "metadata": {},
   "outputs": [
    {
     "data": {
      "text/plain": [
       "array([1, 1, 1, 1, 1, 1, 1, 1, 1, 1, 1, 1, 1, 1, 1, 1, 1, 1, 1, 1, 1, 1,\n",
       "       1, 1, 1, 1, 1, 1, 1, 1, 1, 1, 1, 1, 1, 1, 1, 1])"
      ]
     },
     "execution_count": 214,
     "metadata": {},
     "output_type": "execute_result"
    }
   ],
   "source": [
    "svc.predict(train)"
   ]
  },
  {
   "cell_type": "code",
   "execution_count": null,
   "metadata": {},
   "outputs": [],
   "source": []
  }
 ],
 "metadata": {
  "colab": {
   "name": "data_analysis_mne.ipynb",
   "provenance": []
  },
  "kernelspec": {
   "display_name": "Python 3",
   "language": "python",
   "name": "python3"
  },
  "language_info": {
   "codemirror_mode": {
    "name": "ipython",
    "version": 3
   },
   "file_extension": ".py",
   "mimetype": "text/x-python",
   "name": "python",
   "nbconvert_exporter": "python",
   "pygments_lexer": "ipython3",
   "version": "3.7.3"
  }
 },
 "nbformat": 4,
 "nbformat_minor": 1
}
