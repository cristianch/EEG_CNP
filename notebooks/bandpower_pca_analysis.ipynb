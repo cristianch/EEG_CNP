{
 "cells": [
  {
   "cell_type": "code",
   "execution_count": 1,
   "metadata": {},
   "outputs": [],
   "source": [
    "import numpy as np\n",
    "import scipy\n",
    "from scipy import signal\n",
    "import mne\n",
    "import glob\n",
    "from sklearn.decomposition import PCA\n",
    "import csv"
   ]
  },
  {
   "cell_type": "code",
   "execution_count": null,
   "metadata": {},
   "outputs": [],
   "source": [
    "\n"
   ]
  },
  {
   "cell_type": "markdown",
   "metadata": {},
   "source": [
    "#### Calculate the band power over a time series"
   ]
  },
  {
   "cell_type": "code",
   "execution_count": 2,
   "metadata": {},
   "outputs": [],
   "source": [
    "# Calculate the band power over a time series\n",
    "\n",
    "def bandpower(x, fs, fmin, fmax):\n",
    "    \"\"\"\n",
    "    Returns the band power over the specified frequency interval\n",
    "    \n",
    "    x - input time series (1D array)\n",
    "    fs - sampling frequency\n",
    "    fmin - min frequency\n",
    "    fmax - max frequency\n",
    "    \"\"\"\n",
    "    \n",
    "    f, Pxx = signal.periodogram(x, fs=fs)\n",
    "    ind_min = scipy.argmax(f > fmin) - 1\n",
    "    ind_max = scipy.argmax(f > fmax) - 1\n",
    "    return scipy.trapz(Pxx[ind_min: ind_max], f[ind_min: ind_max])"
   ]
  },
  {
   "cell_type": "code",
   "execution_count": null,
   "metadata": {},
   "outputs": [],
   "source": []
  },
  {
   "cell_type": "markdown",
   "metadata": {},
   "source": [
    "#### Reduce the dimensionality of an array to the specified number of components"
   ]
  },
  {
   "cell_type": "code",
   "execution_count": 4,
   "metadata": {},
   "outputs": [],
   "source": [
    "def pca(array, n_components=5, get_pca_object=False):\n",
    "    pca = PCA(n_components=n_components)\n",
    "    if not get_pca_object:\n",
    "        return pca.fit_transform(array)\n",
    "    return pca.fit_transform(array), pca"
   ]
  },
  {
   "cell_type": "code",
   "execution_count": null,
   "metadata": {},
   "outputs": [],
   "source": []
  },
  {
   "cell_type": "markdown",
   "metadata": {},
   "source": [
    "#### This will be used for logging"
   ]
  },
  {
   "cell_type": "code",
   "execution_count": 5,
   "metadata": {},
   "outputs": [],
   "source": [
    "def log_result(file, name, accuracy, patients_correct, patients_total, set_name, channels, notes):\n",
    "    \"\"\"\n",
    "    Log the result of an experiment in a csv file with the following information:\n",
    "        experiment name, accuracy (over all repetitions), number of correct patients/total number of patients, \n",
    "        dataset name, selected channels, notes\n",
    "    \"\"\"\n",
    "    writer = csv.writer(file)\n",
    "    writer.writerow([name, str(accuracy*100) + '%', ' ' + str(patients_correct) + '/' + str(patients_total), set_name, channels, notes])\n",
    "        "
   ]
  },
  {
   "cell_type": "code",
   "execution_count": null,
   "metadata": {},
   "outputs": [],
   "source": []
  },
  {
   "cell_type": "markdown",
   "metadata": {},
   "source": [
    "# Apply bandpower to datasets"
   ]
  },
  {
   "cell_type": "code",
   "execution_count": 6,
   "metadata": {},
   "outputs": [],
   "source": [
    "def get_datasets(patient_type_location, recording_type_expression):\n",
    "    \"\"\"\n",
    "    Returns relevant datasets (f.e. all right-hand recordings of patients with pain) as a list of np arrays\n",
    "    First parameter should be a regex for location, second parameter should be a regex for dataset type\n",
    "    E.g. if right-hand movement datasets of patients with pain are in /data/pp/ and their file names contain '_RH_'\n",
    "    then patient_type_location=/data/pp/ and recording_type_expression='_RH_'\n",
    "    \"\"\"\n",
    "    \n",
    "    # Find locations of matching dataset files\n",
    "    if recording_type_expression != l_new:\n",
    "        sets_locations = glob.glob(patient_type_location + recording_type_expression + suffix)\n",
    "    else:\n",
    "        # For the newer (PDP/PP) dataset we had to use a separate expression with includes the file extension\n",
    "        sets_locations = glob.glob(patient_type_location + recording_type_expression)\n",
    "    \n",
    "    sets = []\n",
    "    for path in sets_locations: \n",
    "        sets.append(mne.io.read_epochs_eeglab(path))\n",
    "        \n",
    "    return np.array(np.array([(patient._data) for patient in sets]))"
   ]
  },
  {
   "cell_type": "code",
   "execution_count": 7,
   "metadata": {},
   "outputs": [],
   "source": [
    "# Calculate bandpower for all channels for a patient\n",
    "bands = [(4, 8), (8, 13), (13, 30)]\n",
    "time_series_index = range(1250)[0:1250]\n",
    "\n",
    "def channels_bandpower(channels, bands, fs=250):\n",
    "    b = bandpower\n",
    "    return np.array(list(map( lambda arr: [b(arr[time_series_index], fs, band[0], band[1]) for band in bands], channels)))"
   ]
  },
  {
   "cell_type": "code",
   "execution_count": null,
   "metadata": {},
   "outputs": [],
   "source": []
  },
  {
   "cell_type": "markdown",
   "metadata": {},
   "source": [
    "#### Define dataset locations and expressions"
   ]
  },
  {
   "cell_type": "code",
   "execution_count": 8,
   "metadata": {},
   "outputs": [
    {
     "data": {
      "text/plain": [
       "['./../../../data/raw/PP\\\\PP1\\\\PP1_F1_RH_Removed_ICA.set',\n",
       " './../../../data/raw/PP\\\\PP10\\\\PP10_F1_RH_Removed_ICA.set',\n",
       " './../../../data/raw/PP\\\\PP11\\\\PP11_F1_RH_Removed_ICA.set',\n",
       " './../../../data/raw/PP\\\\PP2\\\\PP2_F1_RH_Removed_ICA.set',\n",
       " './../../../data/raw/PP\\\\PP3\\\\PP3_F1_RH_Removed_ICA.set',\n",
       " './../../../data/raw/PP\\\\PP4\\\\PP4_F1_RH_Removed_ICA.set',\n",
       " './../../../data/raw/PP\\\\PP5\\\\PP5_F1_RH_Removed_ICA.set',\n",
       " './../../../data/raw/PP\\\\PP6\\\\PP6_F1_RH_Removed_ICA.set',\n",
       " './../../../data/raw/PP\\\\PP7\\\\PP7_F1_RH_Removed_ICA.set',\n",
       " './../../../data/raw/PP\\\\PP9\\\\PP9_F1_RH_Removed_ICA.set']"
      ]
     },
     "execution_count": 8,
     "metadata": {},
     "output_type": "execute_result"
    }
   ],
   "source": [
    "root = './../../../'\n",
    "suffix = '*.set'\n",
    "\n",
    "# Old (PP/PNP datasets)\n",
    "location_healthy = root + 'data/raw/HV/*/'\n",
    "location_pain = root + 'data/raw/PP/*/'\n",
    "location_nopain = root + 'data/raw/PnP/*/'\n",
    "\n",
    "# New (PDP/PNP datasets)\n",
    "location_pwp = root + 'data_new/raw/PwP/*/'\n",
    "location_pdp = root + 'data_new/raw/PdP/*/'\n",
    "location_pnp = root + 'data_new/raw/PnP/*/'\n",
    "\n",
    "rh = '*_RH*'\n",
    "lh = '*_LH*'\n",
    "l_new = '*_L.set'   # NO SUFFIX\n",
    "l_old = '*_L_*'\n",
    "\n",
    "\n",
    "# As an example, get paths of all PP/PNP datasets from right-hand movements\n",
    "sets_healthy_rh = glob.glob(location_pain + rh + suffix)\n",
    "sets_healthy_rh"
   ]
  },
  {
   "cell_type": "markdown",
   "metadata": {},
   "source": [
    "#### Now read the chosen datasets"
   ]
  },
  {
   "cell_type": "code",
   "execution_count": 9,
   "metadata": {},
   "outputs": [
    {
     "name": "stdout",
     "output_type": "stream",
     "text": [
      "Extracting parameters from ./../../../data/raw/PP\\PP1\\PP1_F1_RH_Removed_ICA.set...\n"
     ]
    },
    {
     "name": "stderr",
     "output_type": "stream",
     "text": [
      "<ipython-input-6-916861aa92ff>:18: RuntimeWarning: At least one epoch has multiple events. Only the latency of the first event will be retained.\n",
      "  sets.append(mne.io.read_epochs_eeglab(path))\n"
     ]
    },
    {
     "name": "stdout",
     "output_type": "stream",
     "text": [
      "57 matching events found\n",
      "No baseline correction applied\n",
      "Not setting metadata\n",
      "0 projection items activated\n",
      "Ready.\n",
      "Extracting parameters from ./../../../data/raw/PP\\PP10\\PP10_F1_RH_Removed_ICA.set...\n"
     ]
    },
    {
     "name": "stderr",
     "output_type": "stream",
     "text": [
      "<ipython-input-6-916861aa92ff>:18: RuntimeWarning: At least one epoch has multiple events. Only the latency of the first event will be retained.\n",
      "  sets.append(mne.io.read_epochs_eeglab(path))\n"
     ]
    },
    {
     "name": "stdout",
     "output_type": "stream",
     "text": [
      "57 matching events found\n",
      "No baseline correction applied\n",
      "Not setting metadata\n",
      "0 projection items activated\n",
      "Ready.\n",
      "Extracting parameters from ./../../../data/raw/PP\\PP11\\PP11_F1_RH_Removed_ICA.set...\n"
     ]
    },
    {
     "name": "stderr",
     "output_type": "stream",
     "text": [
      "<ipython-input-6-916861aa92ff>:18: RuntimeWarning: At least one epoch has multiple events. Only the latency of the first event will be retained.\n",
      "  sets.append(mne.io.read_epochs_eeglab(path))\n"
     ]
    },
    {
     "name": "stdout",
     "output_type": "stream",
     "text": [
      "59 matching events found\n",
      "No baseline correction applied\n",
      "Not setting metadata\n",
      "0 projection items activated\n",
      "Ready.\n",
      "Extracting parameters from ./../../../data/raw/PP\\PP2\\PP2_F1_RH_Removed_ICA.set...\n"
     ]
    },
    {
     "name": "stderr",
     "output_type": "stream",
     "text": [
      "<ipython-input-6-916861aa92ff>:18: RuntimeWarning: At least one epoch has multiple events. Only the latency of the first event will be retained.\n",
      "  sets.append(mne.io.read_epochs_eeglab(path))\n"
     ]
    },
    {
     "name": "stdout",
     "output_type": "stream",
     "text": [
      "54 matching events found\n",
      "No baseline correction applied\n",
      "Not setting metadata\n",
      "0 projection items activated\n",
      "Ready.\n",
      "Extracting parameters from ./../../../data/raw/PP\\PP3\\PP3_F1_RH_Removed_ICA.set...\n",
      "51 matching events found\n"
     ]
    },
    {
     "name": "stderr",
     "output_type": "stream",
     "text": [
      "<ipython-input-6-916861aa92ff>:18: RuntimeWarning: At least one epoch has multiple events. Only the latency of the first event will be retained.\n",
      "  sets.append(mne.io.read_epochs_eeglab(path))\n"
     ]
    },
    {
     "name": "stdout",
     "output_type": "stream",
     "text": [
      "No baseline correction applied\n",
      "Not setting metadata\n",
      "0 projection items activated\n",
      "Ready.\n",
      "Extracting parameters from ./../../../data/raw/PP\\PP4\\PP4_F1_RH_Removed_ICA.set...\n"
     ]
    },
    {
     "name": "stderr",
     "output_type": "stream",
     "text": [
      "<ipython-input-6-916861aa92ff>:18: RuntimeWarning: At least one epoch has multiple events. Only the latency of the first event will be retained.\n",
      "  sets.append(mne.io.read_epochs_eeglab(path))\n"
     ]
    },
    {
     "name": "stdout",
     "output_type": "stream",
     "text": [
      "58 matching events found\n",
      "No baseline correction applied\n",
      "Not setting metadata\n",
      "0 projection items activated\n",
      "Ready.\n",
      "Extracting parameters from ./../../../data/raw/PP\\PP5\\PP5_F1_RH_Removed_ICA.set...\n"
     ]
    },
    {
     "name": "stderr",
     "output_type": "stream",
     "text": [
      "<ipython-input-6-916861aa92ff>:18: RuntimeWarning: At least one epoch has multiple events. Only the latency of the first event will be retained.\n",
      "  sets.append(mne.io.read_epochs_eeglab(path))\n"
     ]
    },
    {
     "name": "stdout",
     "output_type": "stream",
     "text": [
      "56 matching events found\n",
      "No baseline correction applied\n",
      "Not setting metadata\n",
      "0 projection items activated\n",
      "Ready.\n",
      "Extracting parameters from ./../../../data/raw/PP\\PP6\\PP6_F1_RH_Removed_ICA.set...\n",
      "32 matching events found\n",
      "No baseline correction applied\n",
      "Not setting metadata\n",
      "0 projection items activated\n",
      "Ready.\n"
     ]
    },
    {
     "name": "stderr",
     "output_type": "stream",
     "text": [
      "<ipython-input-6-916861aa92ff>:18: RuntimeWarning: At least one epoch has multiple events. Only the latency of the first event will be retained.\n",
      "  sets.append(mne.io.read_epochs_eeglab(path))\n"
     ]
    },
    {
     "name": "stdout",
     "output_type": "stream",
     "text": [
      "Extracting parameters from ./../../../data/raw/PP\\PP7\\PP7_F1_RH_Removed_ICA.set...\n"
     ]
    },
    {
     "name": "stderr",
     "output_type": "stream",
     "text": [
      "<ipython-input-6-916861aa92ff>:18: RuntimeWarning: At least one epoch has multiple events. Only the latency of the first event will be retained.\n",
      "  sets.append(mne.io.read_epochs_eeglab(path))\n"
     ]
    },
    {
     "name": "stdout",
     "output_type": "stream",
     "text": [
      "52 matching events found\n",
      "No baseline correction applied\n",
      "Not setting metadata\n",
      "0 projection items activated\n",
      "Ready.\n",
      "Extracting parameters from ./../../../data/raw/PP\\PP9\\PP9_F1_RH_Removed_ICA.set...\n"
     ]
    },
    {
     "name": "stderr",
     "output_type": "stream",
     "text": [
      "<ipython-input-6-916861aa92ff>:18: RuntimeWarning: At least one epoch has multiple events. Only the latency of the first event will be retained.\n",
      "  sets.append(mne.io.read_epochs_eeglab(path))\n"
     ]
    },
    {
     "name": "stdout",
     "output_type": "stream",
     "text": [
      "54 matching events found\n",
      "No baseline correction applied\n",
      "Not setting metadata\n",
      "0 projection items activated\n",
      "Ready.\n",
      "Extracting parameters from ./../../../data/raw/PnP\\PnP1\\PnP1_F1_RH_Removed_ICA.set...\n",
      "50 matching events found\n"
     ]
    },
    {
     "name": "stderr",
     "output_type": "stream",
     "text": [
      "<ipython-input-6-916861aa92ff>:18: RuntimeWarning: At least one epoch has multiple events. Only the latency of the first event will be retained.\n",
      "  sets.append(mne.io.read_epochs_eeglab(path))\n"
     ]
    },
    {
     "name": "stdout",
     "output_type": "stream",
     "text": [
      "No baseline correction applied\n",
      "Not setting metadata\n",
      "0 projection items activated\n",
      "Ready.\n",
      "Extracting parameters from ./../../../data/raw/PnP\\PnP2\\PnP2_F1_RH_Removed_ICA.set...\n",
      "54 matching events found\n"
     ]
    },
    {
     "name": "stderr",
     "output_type": "stream",
     "text": [
      "<ipython-input-6-916861aa92ff>:18: RuntimeWarning: At least one epoch has multiple events. Only the latency of the first event will be retained.\n",
      "  sets.append(mne.io.read_epochs_eeglab(path))\n"
     ]
    },
    {
     "name": "stdout",
     "output_type": "stream",
     "text": [
      "No baseline correction applied\n",
      "Not setting metadata\n",
      "0 projection items activated\n",
      "Ready.\n",
      "Extracting parameters from ./../../../data/raw/PnP\\PnP3\\PnP3_F1_RH_Removed_ICA.set...\n",
      "44 matching events found\n"
     ]
    },
    {
     "name": "stderr",
     "output_type": "stream",
     "text": [
      "<ipython-input-6-916861aa92ff>:18: RuntimeWarning: At least one epoch has multiple events. Only the latency of the first event will be retained.\n",
      "  sets.append(mne.io.read_epochs_eeglab(path))\n"
     ]
    },
    {
     "name": "stdout",
     "output_type": "stream",
     "text": [
      "No baseline correction applied\n",
      "Not setting metadata\n",
      "0 projection items activated\n",
      "Ready.\n",
      "Extracting parameters from ./../../../data/raw/PnP\\PnP4\\PnP4_F1_RH_Removed_ICA.set...\n"
     ]
    },
    {
     "name": "stderr",
     "output_type": "stream",
     "text": [
      "<ipython-input-6-916861aa92ff>:18: RuntimeWarning: At least one epoch has multiple events. Only the latency of the first event will be retained.\n",
      "  sets.append(mne.io.read_epochs_eeglab(path))\n"
     ]
    },
    {
     "name": "stdout",
     "output_type": "stream",
     "text": [
      "55 matching events found\n",
      "No baseline correction applied\n",
      "Not setting metadata\n",
      "0 projection items activated\n",
      "Ready.\n",
      "Extracting parameters from ./../../../data/raw/PnP\\PnP5\\PnP5_F1_RH_Removed_ICA.set...\n",
      "50 matching events found\n",
      "No baseline correction applied\n"
     ]
    },
    {
     "name": "stderr",
     "output_type": "stream",
     "text": [
      "<ipython-input-6-916861aa92ff>:18: RuntimeWarning: At least one epoch has multiple events. Only the latency of the first event will be retained.\n",
      "  sets.append(mne.io.read_epochs_eeglab(path))\n"
     ]
    },
    {
     "name": "stdout",
     "output_type": "stream",
     "text": [
      "Not setting metadata\n",
      "0 projection items activated\n",
      "Ready.\n",
      "Extracting parameters from ./../../../data/raw/PnP\\PnP6\\PnP6_F1_RH_Removed_ICA.set...\n"
     ]
    },
    {
     "name": "stderr",
     "output_type": "stream",
     "text": [
      "<ipython-input-6-916861aa92ff>:18: RuntimeWarning: At least one epoch has multiple events. Only the latency of the first event will be retained.\n",
      "  sets.append(mne.io.read_epochs_eeglab(path))\n"
     ]
    },
    {
     "name": "stdout",
     "output_type": "stream",
     "text": [
      "55 matching events found\n",
      "No baseline correction applied\n",
      "Not setting metadata\n",
      "0 projection items activated\n",
      "Ready.\n",
      "Extracting parameters from ./../../../data/raw/PnP\\PnP7\\PnP7_F01_RH_Removed_ICA.set...\n"
     ]
    },
    {
     "name": "stderr",
     "output_type": "stream",
     "text": [
      "<ipython-input-6-916861aa92ff>:18: RuntimeWarning: At least one epoch has multiple events. Only the latency of the first event will be retained.\n",
      "  sets.append(mne.io.read_epochs_eeglab(path))\n"
     ]
    },
    {
     "name": "stdout",
     "output_type": "stream",
     "text": [
      "58 matching events found\n",
      "No baseline correction applied\n",
      "Not setting metadata\n",
      "0 projection items activated\n",
      "Ready.\n",
      "Extracting parameters from ./../../../data/raw/PnP\\PnP8\\PnP8_F1_RH_Removed_ICA.set...\n"
     ]
    },
    {
     "name": "stderr",
     "output_type": "stream",
     "text": [
      "<ipython-input-6-916861aa92ff>:18: RuntimeWarning: At least one epoch has multiple events. Only the latency of the first event will be retained.\n",
      "  sets.append(mne.io.read_epochs_eeglab(path))\n"
     ]
    },
    {
     "name": "stdout",
     "output_type": "stream",
     "text": [
      "53 matching events found\n",
      "No baseline correction applied\n",
      "Not setting metadata\n",
      "0 projection items activated\n",
      "Ready.\n",
      "Extracting parameters from ./../../../data/raw/PnP\\PnP9\\PnP9_F1_RH_Removed_ICA.set...\n"
     ]
    },
    {
     "name": "stderr",
     "output_type": "stream",
     "text": [
      "<ipython-input-6-916861aa92ff>:18: RuntimeWarning: At least one epoch has multiple events. Only the latency of the first event will be retained.\n",
      "  sets.append(mne.io.read_epochs_eeglab(path))\n"
     ]
    },
    {
     "name": "stdout",
     "output_type": "stream",
     "text": [
      "54 matching events found\n",
      "No baseline correction applied\n",
      "Not setting metadata\n",
      "0 projection items activated\n",
      "Ready.\n"
     ]
    }
   ],
   "source": [
    "pp_rh_raw = get_datasets(location_pain, rh)\n",
    "pnp_rh_raw = get_datasets(location_nopain, rh)"
   ]
  },
  {
   "cell_type": "code",
   "execution_count": null,
   "metadata": {},
   "outputs": [],
   "source": []
  },
  {
   "cell_type": "code",
   "execution_count": 10,
   "metadata": {},
   "outputs": [
    {
     "data": {
      "text/plain": [
       "(51, 61, 1250)"
      ]
     },
     "execution_count": 10,
     "metadata": {},
     "output_type": "execute_result"
    }
   ],
   "source": [
    "# The entry for a patient should have shape (n_repetitions, n_channels, n_readings)\n",
    "pp_rh_raw[4].shape"
   ]
  },
  {
   "cell_type": "markdown",
   "metadata": {},
   "source": [
    "#### Apply the bandpower "
   ]
  },
  {
   "cell_type": "code",
   "execution_count": 11,
   "metadata": {},
   "outputs": [],
   "source": [
    "pp_rh_bp = np.array([np.array([channels_bandpower(repetition, bands) for repetition in patient]) for patient in pp_rh_raw])\n",
    "pnp_rh_bp = np.array([np.array([channels_bandpower(repetition, bands) for repetition in patient]) for patient in pnp_rh_raw])"
   ]
  },
  {
   "cell_type": "code",
   "execution_count": 12,
   "metadata": {},
   "outputs": [
    {
     "data": {
      "text/plain": [
       "473"
      ]
     },
     "execution_count": 12,
     "metadata": {},
     "output_type": "execute_result"
    }
   ],
   "source": [
    "# Get the total number of repetitions for each class\n",
    "pp_count = np.vstack(pp_rh_bp).shape[0]\n",
    "pnp_count = np.vstack(pnp_rh_bp).shape[0]\n",
    "pnp_count"
   ]
  },
  {
   "cell_type": "code",
   "execution_count": 13,
   "metadata": {},
   "outputs": [
    {
     "data": {
      "text/plain": [
       "(9,)"
      ]
     },
     "execution_count": 13,
     "metadata": {},
     "output_type": "execute_result"
    }
   ],
   "source": [
    "pnp_rh_bp.shape"
   ]
  },
  {
   "cell_type": "markdown",
   "metadata": {},
   "source": [
    "#### Concatenate the two classes"
   ]
  },
  {
   "cell_type": "code",
   "execution_count": 14,
   "metadata": {},
   "outputs": [
    {
     "data": {
      "text/plain": [
       "(19,)"
      ]
     },
     "execution_count": 14,
     "metadata": {},
     "output_type": "execute_result"
    }
   ],
   "source": [
    "pp_and_pnp_bp = np.concatenate((pp_rh_bp, pnp_rh_bp))\n",
    "pp_and_pnp_bp.shape"
   ]
  },
  {
   "cell_type": "markdown",
   "metadata": {},
   "source": [
    "#### Set some patients aside for testing"
   ]
  },
  {
   "cell_type": "code",
   "execution_count": null,
   "metadata": {},
   "outputs": [],
   "source": []
  },
  {
   "cell_type": "code",
   "execution_count": 15,
   "metadata": {},
   "outputs": [],
   "source": [
    "def test_setup(test_index, total_size):\n",
    "    \"\"\"\n",
    "    Returns a pair consisting of boolean (True is test patient is PP) and test label\n",
    "    Labels are 1 for pain, 0 for no pain\n",
    "    \"\"\"\n",
    "    \n",
    "    test_is_pp = test_index < len(pp_rh_bp)\n",
    "    test_label = 1 if test_is_pp else 0\n",
    "    return test_is_pp, test_label\n",
    "\n",
    "\n",
    "def get_train_test(data, test_index):\n",
    "    \"\"\"\n",
    "    Splits into train and test sets based on the index of the test patient\n",
    "    Returns pair of test and train\n",
    "    \"\"\"\n",
    "    \n",
    "    return data[test_index], np.delete(data, test_index)\n",
    "\n",
    "\n",
    "def get_pp_pnp_length(pp_count, pnp_count, test_count, test_is_pp):\n",
    "    \"\"\" Returns pair of the lengths of PP train data and respectively PNP train data \"\"\"\n",
    "    \n",
    "    pp_train_len = pp_count if not test_is_pp else pp_count - test_count\n",
    "    pnp_train_len = pnp_count if test_is_pp else pnp_count - test_count\n",
    "    return pp_train_len, pnp_train_len\n",
    "\n",
    "\n",
    "def ravel_all_trials(data, channels):\n",
    "    \"\"\"\n",
    "    Ravel first dimention so that trials from all patients are treated separately; select channels\n",
    "    \"\"\"\n",
    "    return np.array(list(map(np.ravel, data[:, channels, :])))"
   ]
  },
  {
   "cell_type": "code",
   "execution_count": null,
   "metadata": {},
   "outputs": [],
   "source": []
  },
  {
   "cell_type": "code",
   "execution_count": 16,
   "metadata": {},
   "outputs": [
    {
     "data": {
      "text/plain": [
       "1"
      ]
     },
     "execution_count": 16,
     "metadata": {},
     "output_type": "execute_result"
    }
   ],
   "source": [
    "test_index = 4\n",
    "\n",
    "test_is_pp, test_label = test_setup(test_index, len(pp_rh_bp))\n",
    "test_label"
   ]
  },
  {
   "cell_type": "code",
   "execution_count": 17,
   "metadata": {},
   "outputs": [
    {
     "data": {
      "text/plain": [
       "(51, 61, 3)"
      ]
     },
     "execution_count": 17,
     "metadata": {},
     "output_type": "execute_result"
    }
   ],
   "source": [
    "test_p, train_p = get_train_test(pp_and_pnp_bp, test_index)\n",
    "test_p.shape"
   ]
  },
  {
   "cell_type": "code",
   "execution_count": 18,
   "metadata": {},
   "outputs": [
    {
     "data": {
      "text/plain": [
       "(952, 61, 3)"
      ]
     },
     "execution_count": 18,
     "metadata": {},
     "output_type": "execute_result"
    }
   ],
   "source": [
    "train_p_separated = np.vstack(train_p)\n",
    "train_p_separated.shape"
   ]
  },
  {
   "cell_type": "code",
   "execution_count": null,
   "metadata": {},
   "outputs": [],
   "source": []
  },
  {
   "cell_type": "code",
   "execution_count": 19,
   "metadata": {},
   "outputs": [
    {
     "data": {
      "text/plain": [
       "479"
      ]
     },
     "execution_count": 19,
     "metadata": {},
     "output_type": "execute_result"
    }
   ],
   "source": [
    "pp_train_len, pnp_train_len = get_pp_pnp_length(pp_count, pnp_count, len(test_p), test_is_pp)\n",
    "pp_train_len"
   ]
  },
  {
   "cell_type": "code",
   "execution_count": null,
   "metadata": {},
   "outputs": [],
   "source": []
  },
  {
   "cell_type": "markdown",
   "metadata": {},
   "source": [
    "Define a multiplier for all features - if 1, then input data is unaltered"
   ]
  },
  {
   "cell_type": "code",
   "execution_count": 20,
   "metadata": {},
   "outputs": [],
   "source": [
    "mul = 1"
   ]
  },
  {
   "cell_type": "code",
   "execution_count": 21,
   "metadata": {},
   "outputs": [],
   "source": [
    "selected_channels = [10, 11]"
   ]
  },
  {
   "cell_type": "code",
   "execution_count": 22,
   "metadata": {},
   "outputs": [
    {
     "data": {
      "text/plain": [
       "(952, 6)"
      ]
     },
     "execution_count": 22,
     "metadata": {},
     "output_type": "execute_result"
    }
   ],
   "source": [
    "train = ravel_all_trials(train_p_separated, selected_channels) * mul\n",
    "train.shape"
   ]
  },
  {
   "cell_type": "code",
   "execution_count": 23,
   "metadata": {},
   "outputs": [
    {
     "data": {
      "text/plain": [
       "(51, 6)"
      ]
     },
     "execution_count": 23,
     "metadata": {},
     "output_type": "execute_result"
    }
   ],
   "source": [
    "test = ravel_all_trials(test_p, selected_channels) * mul\n",
    "test.shape"
   ]
  },
  {
   "cell_type": "markdown",
   "metadata": {},
   "source": [
    "#### Define the number of PCA components we will use"
   ]
  },
  {
   "cell_type": "code",
   "execution_count": 24,
   "metadata": {},
   "outputs": [],
   "source": [
    "n_components = 3"
   ]
  },
  {
   "cell_type": "code",
   "execution_count": 25,
   "metadata": {},
   "outputs": [
    {
     "data": {
      "text/plain": [
       "(952, 3)"
      ]
     },
     "execution_count": 25,
     "metadata": {},
     "output_type": "execute_result"
    }
   ],
   "source": [
    "pca(train, n_components).shape"
   ]
  },
  {
   "cell_type": "markdown",
   "metadata": {},
   "source": [
    "Some analysis of the PCA components"
   ]
  },
  {
   "cell_type": "code",
   "execution_count": 26,
   "metadata": {},
   "outputs": [],
   "source": [
    "import matplotlib.pyplot as plt\n",
    "from mpl_toolkits.mplot3d import Axes3D"
   ]
  },
  {
   "cell_type": "code",
   "execution_count": 27,
   "metadata": {},
   "outputs": [
    {
     "data": {
      "text/plain": [
       "(3, 183)"
      ]
     },
     "execution_count": 27,
     "metadata": {},
     "output_type": "execute_result"
    }
   ],
   "source": [
    "channels_to_plot = list(range(61))\n",
    "\n",
    "arr_pp, components_pp = pca(ravel_all_trials(np.vstack(pp_rh_bp), channels_to_plot), n_components, get_pca_object=True)\n",
    "arr_pnp, components_pnp = pca(ravel_all_trials(np.vstack(pnp_rh_bp), channels_to_plot), n_components, get_pca_object=True)\n",
    "\n",
    "arr_all, components_all = pca(ravel_all_trials(np.vstack(np.concatenate((pp_rh_bp, pnp_rh_bp))), channels_to_plot), n_components, get_pca_object=True)\n",
    "\n",
    "components_all.components_.shape"
   ]
  },
  {
   "cell_type": "code",
   "execution_count": 28,
   "metadata": {},
   "outputs": [],
   "source": [
    "plot_mul = 10**10"
   ]
  },
  {
   "cell_type": "code",
   "execution_count": null,
   "metadata": {},
   "outputs": [],
   "source": []
  },
  {
   "cell_type": "code",
   "execution_count": 29,
   "metadata": {},
   "outputs": [
    {
     "data": {
      "text/plain": [
       "[<matplotlib.lines.Line2D at 0x21bc38ac940>]"
      ]
     },
     "execution_count": 29,
     "metadata": {},
     "output_type": "execute_result"
    },
    {
     "data": {
      "image/png": "[encoded data removed]",
      "text/plain": [
       "<Figure size 432x288 with 1 Axes>"
      ]
     },
     "metadata": {
      "needs_background": "light"
     },
     "output_type": "display_data"
    }
   ],
   "source": [
    "plt.plot(arr_pp[:,0]*plot_mul)\n",
    "plt.plot(arr_pnp[:,0]*plot_mul)"
   ]
  },
  {
   "cell_type": "code",
   "execution_count": 30,
   "metadata": {},
   "outputs": [
    {
     "data": {
      "text/plain": [
       "<matplotlib.collections.PathCollection at 0x21bc394e828>"
      ]
     },
     "execution_count": 30,
     "metadata": {},
     "output_type": "execute_result"
    },
    {
     "data": {
      "image/png": "[encoded data removed]",
      "text/plain": [
       "<Figure size 432x288 with 1 Axes>"
      ]
     },
     "metadata": {
      "needs_background": "light"
     },
     "output_type": "display_data"
    }
   ],
   "source": [
    "plt.scatter(arr_pp[:,0]*plot_mul,arr_pp[:,1]*plot_mul)\n",
    "plt.scatter(arr_pnp[:,0]*plot_mul,arr_pnp[:,1]*plot_mul)\n",
    "#plt.xlim((-0.18, 0.1))\n",
    "#plt.ylim((-0.2, 0.2))"
   ]
  },
  {
   "cell_type": "code",
   "execution_count": 31,
   "metadata": {},
   "outputs": [
    {
     "data": {
      "text/plain": [
       "<matplotlib.collections.PathCollection at 0x21bc39c18d0>"
      ]
     },
     "execution_count": 31,
     "metadata": {},
     "output_type": "execute_result"
    },
    {
     "data": {
      "image/png": "[encoded data removed]",
      "text/plain": [
       "<Figure size 432x288 with 1 Axes>"
      ]
     },
     "metadata": {
      "needs_background": "light"
     },
     "output_type": "display_data"
    }
   ],
   "source": [
    "plt.scatter(arr_pp[:,0]*plot_mul,arr_pp[:,2]*plot_mul)\n",
    "plt.scatter(arr_pnp[:,0]*plot_mul,arr_pnp[:,2]*plot_mul)\n",
    "#plt.xlim((-0.12, 0.1))\n",
    "#plt.ylim((-0.15, 0.2))"
   ]
  },
  {
   "cell_type": "code",
   "execution_count": 32,
   "metadata": {},
   "outputs": [
    {
     "data": {
      "text/plain": [
       "<matplotlib.collections.PathCollection at 0x21bc3a31320>"
      ]
     },
     "execution_count": 32,
     "metadata": {},
     "output_type": "execute_result"
    },
    {
     "data": {
      "image/png": "[encoded data removed]",
      "text/plain": [
       "<Figure size 432x288 with 1 Axes>"
      ]
     },
     "metadata": {
      "needs_background": "light"
     },
     "output_type": "display_data"
    }
   ],
   "source": [
    "plt.scatter(arr_pp[:,1]*plot_mul,arr_pp[:,2]*plot_mul)\n",
    "plt.scatter(arr_pnp[:,1]*plot_mul,arr_pnp[:,2]*plot_mul)\n",
    "#plt.xlim((-0.12, 0.1))\n",
    "#plt.ylim((-0.15, 0.2))"
   ]
  },
  {
   "cell_type": "code",
   "execution_count": 33,
   "metadata": {},
   "outputs": [
    {
     "data": {
      "text/plain": [
       "0.017847300321775072"
      ]
     },
     "execution_count": 33,
     "metadata": {},
     "output_type": "execute_result"
    }
   ],
   "source": [
    "np.mean(components_pp.components_[2])"
   ]
  },
  {
   "cell_type": "code",
   "execution_count": 38,
   "metadata": {},
   "outputs": [],
   "source": [
    "plt_vmin = 0\n",
    "plt_vmax = 0.2"
   ]
  },
  {
   "cell_type": "code",
   "execution_count": 39,
   "metadata": {},
   "outputs": [],
   "source": [
    "band_names = ['theta', 'alpha', 'beta']\n",
    "channel_names = ['Cz', 'C1', 'C2', 'C3', 'C4', 'C5', 'C6', 'C7', 'C8', 'FCz', 'FC1', 'FC2', 'FC3', 'FC4', 'FC5', 'FC6', 'FT7', 'FT8', 'CPz', 'CP1', 'CP2', 'CP3', 'CP4', 'CP5', 'CP6', 'TP7', 'TP8', 'Fz', 'F1', 'F2', 'F3', 'F4', 'F5', 'F6', 'F7', 'F8', 'Pz', 'P1', 'P2', 'P3', 'P4', 'P5', 'P6', 'P7', 'P8', 'AFz', 'AF3', 'AF4', 'AF7', 'AF8', 'Fp1', 'FP2', 'POz', 'PO3', 'PO4', 'PO7', 'PO8', 'Oz', 'O1', 'O2', 'Iz']"
   ]
  },
  {
   "cell_type": "code",
   "execution_count": 40,
   "metadata": {},
   "outputs": [
    {
     "data": {
      "text/plain": [
       "<matplotlib.image.AxesImage at 0x1f11319f470>"
      ]
     },
     "execution_count": 40,
     "metadata": {},
     "output_type": "execute_result"
    },
    {
     "data": {
      "image/png": "[encoded data removed]",
      "text/plain": [
       "<Figure size 1800x720 with 1 Axes>"
      ]
     },
     "metadata": {
      "needs_background": "light"
     },
     "output_type": "display_data"
    }
   ],
   "source": [
    "plt.figure(figsize=(25, 10))\n",
    "plt.xticks(channels_to_plot, labels=channel_names)\n",
    "plt.yticks([0,1,2], labels=band_names)\n",
    "plt.imshow(np.abs([components_all.components_[0][::3], components_all.components_[0][1::3], components_all.components_[0][2::3]]), vmin=plt_vmin, vmax=plt_vmax)"
   ]
  },
  {
   "cell_type": "code",
   "execution_count": 41,
   "metadata": {},
   "outputs": [
    {
     "data": {
      "text/plain": [
       "<matplotlib.image.AxesImage at 0x1f113288160>"
      ]
     },
     "execution_count": 41,
     "metadata": {},
     "output_type": "execute_result"
    },
    {
     "data": {
      "image/png": "[encoded data removed]",
      "text/plain": [
       "<Figure size 1800x720 with 1 Axes>"
      ]
     },
     "metadata": {
      "needs_background": "light"
     },
     "output_type": "display_data"
    }
   ],
   "source": [
    "plt.figure(figsize=(25, 10))\n",
    "plt.xticks(channels_to_plot, labels=channel_names)\n",
    "plt.yticks([0,1,2], labels=band_names)\n",
    "plt.imshow(np.abs([components_all.components_[1][::3], components_all.components_[1][1::3], components_all.components_[1][2::3]]), vmin=plt_vmin, vmax=plt_vmax)"
   ]
  },
  {
   "cell_type": "code",
   "execution_count": 42,
   "metadata": {},
   "outputs": [
    {
     "data": {
      "text/plain": [
       "<matplotlib.image.AxesImage at 0x1f11336e7f0>"
      ]
     },
     "execution_count": 42,
     "metadata": {},
     "output_type": "execute_result"
    },
    {
     "data": {
      "image/png": "[encoded data removed]",
      "text/plain": [
       "<Figure size 1800x720 with 1 Axes>"
      ]
     },
     "metadata": {
      "needs_background": "light"
     },
     "output_type": "display_data"
    }
   ],
   "source": [
    "plt.figure(figsize=(25, 10))\n",
    "plt.xticks(channels_to_plot, labels=channel_names)\n",
    "plt.yticks([0,1,2], labels=band_names)\n",
    "plt.imshow(np.abs([components_all.components_[2][::3], components_all.components_[2][1::3], components_all.components_[2][2::3]]), vmin=plt_vmin, vmax=plt_vmax)"
   ]
  },
  {
   "cell_type": "markdown",
   "metadata": {},
   "source": [
    "#### Generate labels"
   ]
  },
  {
   "cell_type": "code",
   "execution_count": 34,
   "metadata": {},
   "outputs": [],
   "source": [
    "labels = [1] * pp_train_len + [0] * pnp_train_len\n",
    "test_labels = [test_label] * len(test)"
   ]
  },
  {
   "cell_type": "markdown",
   "metadata": {},
   "source": [
    "#### It's time to learn"
   ]
  },
  {
   "cell_type": "code",
   "execution_count": 35,
   "metadata": {},
   "outputs": [],
   "source": [
    "from sklearn import neighbors, svm\n",
    "from sklearn.model_selection import train_test_split"
   ]
  },
  {
   "cell_type": "code",
   "execution_count": 36,
   "metadata": {},
   "outputs": [
    {
     "data": {
      "text/plain": [
       "0.8541666666666666"
      ]
     },
     "execution_count": 36,
     "metadata": {},
     "output_type": "execute_result"
    }
   ],
   "source": [
    "# Try a simple KNN classification\n",
    "\n",
    "knn = neighbors.KNeighborsClassifier(n_neighbors=3)\n",
    "x_train, x_test, y_train, y_test = train_test_split(train, labels, test_size=0.05)\n",
    "knn.fit(x_train, y_train)\n",
    "knn.score(x_train, y_train)\n",
    "knn.score(x_test, y_test)"
   ]
  },
  {
   "cell_type": "code",
   "execution_count": 37,
   "metadata": {},
   "outputs": [
    {
     "data": {
      "text/plain": [
       "0.21568627450980393"
      ]
     },
     "execution_count": 37,
     "metadata": {},
     "output_type": "execute_result"
    }
   ],
   "source": [
    "knn.score(test, [test_label]*len(test))"
   ]
  },
  {
   "cell_type": "code",
   "execution_count": 38,
   "metadata": {},
   "outputs": [
    {
     "data": {
      "text/plain": [
       "0.21568627450980393"
      ]
     },
     "execution_count": 38,
     "metadata": {},
     "output_type": "execute_result"
    }
   ],
   "source": [
    "np.count_nonzero(knn.predict(test) == test_labels)/len(test)"
   ]
  },
  {
   "cell_type": "markdown",
   "metadata": {},
   "source": [
    "## Classification with cross validation"
   ]
  },
  {
   "cell_type": "markdown",
   "metadata": {},
   "source": [
    "### KNN"
   ]
  },
  {
   "cell_type": "code",
   "execution_count": 39,
   "metadata": {},
   "outputs": [],
   "source": [
    "def classify_knn_with_xvalid(data_pp_bp, data_pnp_bp, n_neighbours, selected_channels, test_index, mul, verbose=True):\n",
    "    \"\"\"\n",
    "    Leaves out patient at test_index and trains a KNN classifier on all other patients\n",
    "    Validates classifier on patient at test_index\n",
    "    Returns accuracy over all repetitions for the test patient\n",
    "    \"\"\"\n",
    "    \n",
    "    data_bp = np.concatenate((data_pp_bp, data_pnp_bp))\n",
    "    \n",
    "    test_is_pp, test_label = test_setup(test_index, len(data_pp_bp))\n",
    "    test_p, train_p = get_train_test(data_bp, test_index)\n",
    "    train_p_separated = np.vstack(train_p)\n",
    "    pp_train_len, pnp_train_len = get_pp_pnp_length(pp_count, pnp_count, len(test_p), test_is_pp)\n",
    "    \n",
    "    # Apply PCA for dimensionality reduction as defined above\n",
    "    train = pca(ravel_all_trials(train_p_separated, selected_channels) * mul, n_components=n_components)\n",
    "    test = pca(ravel_all_trials(test_p, selected_channels) * mul, n_components=n_components)\n",
    "    \n",
    "    labels = [1] * pp_train_len + [0] * pnp_train_len\n",
    "    test_labels = [test_label] * len(test)\n",
    "    \n",
    "    if verbose:\n",
    "        print('Test index', test_index, 'Testing on patient with', len(test), 'repetitions.')\n",
    "    \n",
    "    clas = neighbors.KNeighborsClassifier(n_neighbors=n_neighbours)\n",
    "    clas.fit(train, labels)\n",
    "    train_acc = clas.score(train, labels)\n",
    "    test_acc = clas.score(test, test_labels)\n",
    "    \n",
    "    if verbose:\n",
    "        print('Train score:', train_acc, '  Test score:', test_acc)\n",
    "    \n",
    "    return test_acc\n",
    "    \n",
    "    "
   ]
  },
  {
   "cell_type": "code",
   "execution_count": 24,
   "metadata": {},
   "outputs": [
    {
     "ename": "NameError",
     "evalue": "name 'n_components' is not defined",
     "output_type": "error",
     "traceback": [
      "\u001b[1;31m---------------------------------------------------------------------------\u001b[0m",
      "\u001b[1;31mNameError\u001b[0m                                 Traceback (most recent call last)",
      "\u001b[1;32m<ipython-input-24-6b5e9fd10d4d>\u001b[0m in \u001b[0;36m<module>\u001b[1;34m\u001b[0m\n\u001b[1;32m----> 1\u001b[1;33m \u001b[0mclassify_knn_with_xvalid\u001b[0m\u001b[1;33m(\u001b[0m\u001b[0mpp_rh_bp\u001b[0m\u001b[1;33m,\u001b[0m \u001b[0mpnp_rh_bp\u001b[0m\u001b[1;33m,\u001b[0m \u001b[1;36m23\u001b[0m\u001b[1;33m,\u001b[0m \u001b[1;33m[\u001b[0m\u001b[1;36m36\u001b[0m\u001b[1;33m,\u001b[0m \u001b[1;36m38\u001b[0m\u001b[1;33m]\u001b[0m\u001b[1;33m,\u001b[0m \u001b[1;36m2\u001b[0m\u001b[1;33m,\u001b[0m \u001b[1;36m10000000000000\u001b[0m\u001b[1;33m)\u001b[0m\u001b[1;33m\u001b[0m\u001b[1;33m\u001b[0m\u001b[0m\n\u001b[0m",
      "\u001b[1;32m<ipython-input-23-089120251a98>\u001b[0m in \u001b[0;36mclassify_knn_with_xvalid\u001b[1;34m(data_pp_bp, data_pnp_bp, n_neighbours, selected_channels, test_index, mul, verbose)\u001b[0m\n\u001b[0;32m     14\u001b[0m \u001b[1;33m\u001b[0m\u001b[0m\n\u001b[0;32m     15\u001b[0m     \u001b[1;31m# Apply PCA for dimensionality reduction as defined above\u001b[0m\u001b[1;33m\u001b[0m\u001b[1;33m\u001b[0m\u001b[1;33m\u001b[0m\u001b[0m\n\u001b[1;32m---> 16\u001b[1;33m     \u001b[0mtrain\u001b[0m \u001b[1;33m=\u001b[0m \u001b[0mpca\u001b[0m\u001b[1;33m(\u001b[0m\u001b[0mravel_all_trials\u001b[0m\u001b[1;33m(\u001b[0m\u001b[0mtrain_p_separated\u001b[0m\u001b[1;33m,\u001b[0m \u001b[0mselected_channels\u001b[0m\u001b[1;33m)\u001b[0m \u001b[1;33m*\u001b[0m \u001b[0mmul\u001b[0m\u001b[1;33m,\u001b[0m \u001b[0mn_components\u001b[0m\u001b[1;33m=\u001b[0m\u001b[0mn_components\u001b[0m\u001b[1;33m)\u001b[0m\u001b[1;33m\u001b[0m\u001b[1;33m\u001b[0m\u001b[0m\n\u001b[0m\u001b[0;32m     17\u001b[0m     \u001b[0mtest\u001b[0m \u001b[1;33m=\u001b[0m \u001b[0mpca\u001b[0m\u001b[1;33m(\u001b[0m\u001b[0mravel_all_trials\u001b[0m\u001b[1;33m(\u001b[0m\u001b[0mtest_p\u001b[0m\u001b[1;33m,\u001b[0m \u001b[0mselected_channels\u001b[0m\u001b[1;33m)\u001b[0m \u001b[1;33m*\u001b[0m \u001b[0mmul\u001b[0m\u001b[1;33m,\u001b[0m \u001b[0mn_components\u001b[0m\u001b[1;33m=\u001b[0m\u001b[0mn_components\u001b[0m\u001b[1;33m)\u001b[0m\u001b[1;33m\u001b[0m\u001b[1;33m\u001b[0m\u001b[0m\n\u001b[0;32m     18\u001b[0m \u001b[1;33m\u001b[0m\u001b[0m\n",
      "\u001b[1;31mNameError\u001b[0m: name 'n_components' is not defined"
     ]
    }
   ],
   "source": [
    "classify_knn_with_xvalid(pp_rh_bp, pnp_rh_bp, 23, [36, 38], 2, 10000000000000)"
   ]
  },
  {
   "cell_type": "markdown",
   "metadata": {},
   "source": [
    "#### Cross validate over the whole dataset"
   ]
  },
  {
   "cell_type": "code",
   "execution_count": 40,
   "metadata": {},
   "outputs": [
    {
     "name": "stdout",
     "output_type": "stream",
     "text": [
      "Test index 0 Testing on patient with 57 repetitions.\n",
      "Train score: 1.0   Test score: 0.45614035087719296\n",
      "Test index 1 Testing on patient with 57 repetitions.\n",
      "Train score: 1.0   Test score: 0.5087719298245614\n",
      "Test index 2 Testing on patient with 59 repetitions.\n",
      "Train score: 1.0   Test score: 0.4915254237288136\n",
      "Test index 3 Testing on patient with 54 repetitions.\n",
      "Train score: 1.0   Test score: 0.7037037037037037\n",
      "Test index 4 Testing on patient with 51 repetitions.\n",
      "Train score: 1.0   Test score: 0.3333333333333333\n",
      "Test index 5 Testing on patient with 58 repetitions.\n",
      "Train score: 1.0   Test score: 0.46551724137931033\n",
      "Test index 6 Testing on patient with 56 repetitions.\n",
      "Train score: 1.0   Test score: 0.42857142857142855\n",
      "Test index 7 Testing on patient with 32 repetitions.\n",
      "Train score: 1.0   Test score: 0.40625\n",
      "Test index 8 Testing on patient with 52 repetitions.\n",
      "Train score: 1.0   Test score: 0.5384615384615384\n",
      "Test index 9 Testing on patient with 54 repetitions.\n",
      "Train score: 1.0   Test score: 0.42592592592592593\n",
      "Test index 10 Testing on patient with 50 repetitions.\n",
      "Train score: 1.0   Test score: 0.26\n",
      "Test index 11 Testing on patient with 54 repetitions.\n",
      "Train score: 1.0   Test score: 0.5185185185185185\n",
      "Test index 12 Testing on patient with 44 repetitions.\n",
      "Train score: 1.0   Test score: 0.5454545454545454\n",
      "Test index 13 Testing on patient with 55 repetitions.\n",
      "Train score: 1.0   Test score: 0.2545454545454545\n",
      "Test index 14 Testing on patient with 50 repetitions.\n",
      "Train score: 1.0   Test score: 0.82\n",
      "Test index 15 Testing on patient with 55 repetitions.\n",
      "Train score: 1.0   Test score: 0.9272727272727272\n",
      "Test index 16 Testing on patient with 58 repetitions.\n",
      "Train score: 1.0   Test score: 0.9482758620689655\n",
      "Test index 17 Testing on patient with 53 repetitions.\n",
      "Train score: 1.0   Test score: 1.0\n",
      "Test index 18 Testing on patient with 54 repetitions.\n",
      "Train score: 1.0   Test score: 0.35185185185185186\n",
      "Overall accuracy 0.5465326229219931\n",
      "Correctly labeled 9 out of 19\n",
      "std 0.22128446909874155\n"
     ]
    }
   ],
   "source": [
    "total_score = 0\n",
    "patients_correct = 0\n",
    "accs = []\n",
    "for i in range(len(pp_and_pnp_bp)):\n",
    "    score = classify_knn_with_xvalid(pp_rh_bp, pnp_rh_bp, 1, [42], i, mul)\n",
    "    accs.append(score)\n",
    "    total_score += score\n",
    "    if score > 0.5:\n",
    "        patients_correct += 1\n",
    "    \n",
    "print('Overall accuracy', total_score/len(pp_and_pnp_bp))\n",
    "print('Correctly labeled', patients_correct, 'out of', len(pp_and_pnp_bp))\n",
    "print('std', np.std(accs))"
   ]
  },
  {
   "cell_type": "markdown",
   "metadata": {},
   "source": [
    "#### Cross validate over multiple channels\n",
    "\n",
    "We use this to check which channels yield better results"
   ]
  },
  {
   "cell_type": "code",
   "execution_count": 71,
   "metadata": {},
   "outputs": [
    {
     "name": "stdout",
     "output_type": "stream",
     "text": [
      "0 0.5111021719298109 7\n",
      "1 0.5158619477635346 7\n",
      "2 0.5213870195476474 7\n",
      "3 0.5424761845927586 10\n",
      "4 0.5075884523425922 9\n",
      "5 0.4345336139659855 8\n",
      "6 0.4328427663510304 9\n",
      "7 0.4709121398004717 9\n",
      "8 0.4607955835571042 6\n",
      "9 0.44709525041272363 6\n",
      "10 0.496164105027943 8\n",
      "11 0.4898097191486595 9\n",
      "12 0.41969058971968237 6\n",
      "13 0.4821553715771834 6\n",
      "14 0.3974077723171117 3\n",
      "15 0.41727740578184214 5\n",
      "16 0.4315060042067785 4\n",
      "17 0.3976346592527337 7\n",
      "18 0.4733982136712487 9\n",
      "19 0.5094899375450033 8\n",
      "20 0.4350060213143883 5\n",
      "21 0.437489892016679 9\n",
      "22 0.48231648678881944 9\n",
      "23 0.431440330598427 8\n",
      "24 0.4272127604270761 9\n",
      "25 0.4199236079275012 3\n",
      "26 0.503465864790067 8\n",
      "27 0.3712939999007045 6\n",
      "28 0.37564228508682973 6\n",
      "29 0.3949663232972068 5\n",
      "30 0.41443594456022337 6\n",
      "31 0.3931755262101615 5\n",
      "32 0.406703394233204 7\n",
      "33 0.3919701081862276 7\n",
      "34 0.4086907160221717 5\n",
      "35 0.4174122130977443 8\n",
      "36 0.4330331049976084 10\n",
      "37 0.5042014203857503 10\n",
      "38 0.5261574547920786 11\n",
      "39 0.43605794807629855 8\n",
      "40 0.4115137926976091 8\n",
      "41 0.4055131073742863 8\n",
      "42 0.5465326229219931 9\n",
      "43 0.5417961418586804 9\n",
      "44 0.44337107040931234 8\n",
      "45 0.3853157300564219 6\n",
      "46 0.3967381121153832 6\n",
      "47 0.39252165101583175 6\n",
      "48 0.45647639332716006 5\n",
      "49 0.40949224515777444 6\n",
      "50 0.42374970759365427 7\n",
      "51 0.3909548338063475 8\n",
      "52 0.5208692079086382 11\n",
      "53 0.4115856362188086 7\n",
      "54 0.4784846082273795 6\n",
      "55 0.3910160913078342 6\n",
      "56 0.4068149141112722 4\n",
      "57 0.42844788403853207 5\n",
      "58 0.4124399396595145 8\n",
      "59 0.4642163763544847 6\n",
      "60 0.5178679450487111 8\n",
      "Max accuracy: 42 0.5465326229219931\n"
     ]
    }
   ],
   "source": [
    "# Log results in a csv file\n",
    "file = open('all_results/bandpower_pca_knn_results.csv', 'a', newline='')\n",
    "name = 'Bandpower + PCA + KNN'\n",
    "notes = 'freq bands 4-8,8-13,13-30, k='\n",
    "notes_c = ', n_components='\n",
    "\n",
    "previous_channels = [42]\n",
    "k = 1\n",
    "\n",
    "max_acc = {'index': 0, 'value': 0}\n",
    "for channel in range(61):    \n",
    "    total_score = 0\n",
    "    correct_patients = 0\n",
    "    for i in range(len(pp_and_pnp_bp)):\n",
    "        score = classify_knn_with_xvalid(pp_rh_bp, pnp_rh_bp, k, previous_channels + [channel], i, mul, verbose=False)\n",
    "        total_score += score\n",
    "        if score > 0.5:\n",
    "            correct_patients += 1\n",
    "        \n",
    "    avg_score = total_score/len(pp_and_pnp_bp)\n",
    "    print(channel, avg_score, correct_patients)\n",
    "    \n",
    "    log_result(file, name, avg_score, correct_patients, len(pp_and_pnp_bp), 'RH', str(previous_channels + [channel]), notes + str(k) + notes_c + str(n_components))\n",
    "    \n",
    "    if avg_score > max_acc['value']:\n",
    "        max_acc['index'] = channel\n",
    "        max_acc['value'] = avg_score\n",
    "        \n",
    "file.close()\n",
    "        \n",
    "print('Max accuracy:', max_acc['index'], max_acc['value'])"
   ]
  },
  {
   "cell_type": "markdown",
   "metadata": {},
   "source": [
    "### Cross validate over multiple n_neighbours"
   ]
  },
  {
   "cell_type": "code",
   "execution_count": 72,
   "metadata": {},
   "outputs": [
    {
     "name": "stdout",
     "output_type": "stream",
     "text": [
      "1 0.5465326229219931 9\n",
      "4 0.4983808658728607 5\n",
      "7 0.4185303253559405 10\n",
      "10 0.39452572332041685 10\n",
      "13 0.43306806511943935 10\n",
      "16 0.425365808179489 10\n",
      "19 0.4346453182278237 10\n",
      "22 0.4323314748333765 10\n",
      "25 0.43987678164978056 10\n",
      "28 0.4234724373415031 10\n",
      "31 0.4308814515703253 10\n",
      "34 0.42646846894434576 10\n",
      "37 0.43656641066409757 10\n",
      "40 0.4252752999927343 10\n",
      "43 0.4366048245705701 10\n",
      "46 0.42693563028348425 10\n",
      "49 0.4306455630100374 10\n",
      "Max accuracy: 1 0.5465326229219931\n"
     ]
    }
   ],
   "source": [
    "file = open('all_results/bandpower_pca_knn_results.csv', 'a', newline='')\n",
    "name = 'Bandpower + PCA + KNN'\n",
    "notes = 'freq bands 4-8,8-13,13-30, k='\n",
    "notes_c = ', n_components='\n",
    "\n",
    "channels = [42]\n",
    "\n",
    "max_acc = {'index': 0, 'value': 0}\n",
    "for n_neighbours in range(1, 50, 3):    \n",
    "    total_score = 0\n",
    "    correct_patients = 0\n",
    "    for i in range(len(pp_and_pnp_bp)):\n",
    "        score = classify_knn_with_xvalid(pp_rh_bp, pnp_rh_bp, n_neighbours, channels, i, mul, verbose=False)\n",
    "        total_score += score\n",
    "        if score > 0.5:\n",
    "            correct_patients += 1\n",
    "        \n",
    "    avg_score = total_score/len(pp_and_pnp_bp)\n",
    "    print(n_neighbours, avg_score, correct_patients)\n",
    "    \n",
    "    log_result(file, name, avg_score, correct_patients, len(pp_and_pnp_bp), 'RH', str(channels), notes + str(n_neighbours) + notes_c + str(n_components))\n",
    "    \n",
    "    if avg_score > max_acc['value']:\n",
    "        max_acc['index'] = n_neighbours\n",
    "        max_acc['value'] = avg_score\n",
    "        \n",
    "file.close()\n",
    "        \n",
    "print('Max accuracy:', max_acc['index'], max_acc['value'])"
   ]
  },
  {
   "cell_type": "code",
   "execution_count": null,
   "metadata": {},
   "outputs": [],
   "source": []
  },
  {
   "cell_type": "markdown",
   "metadata": {},
   "source": [
    "## SVM"
   ]
  },
  {
   "cell_type": "code",
   "execution_count": 40,
   "metadata": {},
   "outputs": [],
   "source": [
    "import warnings\n",
    "warnings.filterwarnings('ignore')"
   ]
  },
  {
   "cell_type": "code",
   "execution_count": 41,
   "metadata": {},
   "outputs": [],
   "source": [
    "pca_components = 3"
   ]
  },
  {
   "cell_type": "code",
   "execution_count": 42,
   "metadata": {},
   "outputs": [],
   "source": [
    "def classify_nusvm_with_xvalid(data_pp_bp, data_pnp_bp, nu, selected_channels, test_index, mul, verbose=True):\n",
    "    \"\"\"\n",
    "    Leaves out patient at test_index and trains a linear SVM classifier on all other patients\n",
    "    Validates classifier on patient at test_index\n",
    "    Returns accuracy over all repetitions for the test patient\n",
    "    \"\"\"\n",
    "    \n",
    "    data_bp = np.concatenate((data_pp_bp, data_pnp_bp))\n",
    "    \n",
    "    test_is_pp, test_label = test_setup(test_index, len(data_pp_bp))\n",
    "    test_p, train_p = get_train_test(data_bp, test_index)\n",
    "    train_p_separated = np.vstack(train_p)\n",
    "    pp_train_len, pnp_train_len = get_pp_pnp_length(pp_count, pnp_count, len(test_p), test_is_pp)\n",
    "    \n",
    "    train = pca(ravel_all_trials(train_p_separated, selected_channels) * mul, n_components=pca_components)\n",
    "    test = pca(ravel_all_trials(test_p, selected_channels) * mul, n_components=pca_components)\n",
    "    \n",
    "    labels = [1] * pp_train_len + [0] * pnp_train_len\n",
    "    test_labels = [test_label] * len(test)\n",
    "    \n",
    "    if verbose:\n",
    "        print('Test index', test_index, 'Preparing to classify set of', pp_train_len, 'PP and', pnp_train_len, 'PNP.')\n",
    "    \n",
    "    clas = svm.NuSVC(nu=nu, kernel='linear')\n",
    "    clas.fit(train, labels)\n",
    "    train_acc = clas.score(train, labels)\n",
    "    test_acc = clas.score(test, test_labels)\n",
    "    \n",
    "    if verbose:\n",
    "        print('Train score:', train_acc, '  Test score:', test_acc)\n",
    "    \n",
    "    return test_acc\n",
    "    "
   ]
  },
  {
   "cell_type": "code",
   "execution_count": 47,
   "metadata": {},
   "outputs": [
    {
     "name": "stdout",
     "output_type": "stream",
     "text": [
      "Test index 0 Preparing to classify set of 473 PP and 473 PNP.\n",
      "Train score: 0.6807610993657506   Test score: 0.9649122807017544\n",
      "Test index 1 Preparing to classify set of 473 PP and 473 PNP.\n",
      "Train score: 0.7071881606765328   Test score: 1.0\n",
      "Test index 2 Preparing to classify set of 471 PP and 473 PNP.\n",
      "Train score: 0.6917372881355932   Test score: 0.5254237288135594\n",
      "Test index 3 Preparing to classify set of 476 PP and 473 PNP.\n",
      "Train score: 0.6891464699683878   Test score: 0.9814814814814815\n",
      "Test index 4 Preparing to classify set of 479 PP and 473 PNP.\n",
      "Train score: 0.7121848739495799   Test score: 1.0\n",
      "Test index 5 Preparing to classify set of 472 PP and 473 PNP.\n",
      "Train score: 0.6835978835978836   Test score: 0.9827586206896551\n",
      "Test index 6 Preparing to classify set of 474 PP and 473 PNP.\n",
      "Train score: 0.7286166842661035   Test score: 1.0\n",
      "Test index 7 Preparing to classify set of 498 PP and 473 PNP.\n",
      "Train score: 0.713697219361483   Test score: 1.0\n",
      "Test index 8 Preparing to classify set of 478 PP and 473 PNP.\n",
      "Train score: 0.5793901156677181   Test score: 1.0\n",
      "Test index 9 Preparing to classify set of 476 PP and 473 PNP.\n",
      "Train score: 0.5563751317175974   Test score: 0.7962962962962963\n",
      "Test index 10 Preparing to classify set of 530 PP and 423 PNP.\n",
      "Train score: 0.2770199370409234   Test score: 1.0\n",
      "Test index 11 Preparing to classify set of 530 PP and 419 PNP.\n",
      "Train score: 0.2834562697576396   Test score: 1.0\n",
      "Test index 12 Preparing to classify set of 530 PP and 429 PNP.\n",
      "Train score: 0.2805005213764338   Test score: 1.0\n",
      "Test index 13 Preparing to classify set of 530 PP and 418 PNP.\n",
      "Train score: 0.2795358649789029   Test score: 1.0\n",
      "Test index 14 Preparing to classify set of 530 PP and 423 PNP.\n",
      "Train score: 0.316894018887723   Test score: 1.0\n",
      "Test index 15 Preparing to classify set of 530 PP and 418 PNP.\n",
      "Train score: 0.33649789029535865   Test score: 1.0\n",
      "Test index 16 Preparing to classify set of 530 PP and 415 PNP.\n",
      "Train score: 0.32275132275132273   Test score: 1.0\n",
      "Test index 17 Preparing to classify set of 530 PP and 420 PNP.\n",
      "Train score: 0.31894736842105265   Test score: 1.0\n",
      "Test index 18 Preparing to classify set of 530 PP and 419 PNP.\n",
      "Train score: 0.3898840885142255   Test score: 1.0\n",
      "0.9605722319990919\n",
      "Correctly labeled 19 out of 19\n",
      "std 0.1121682842661192\n"
     ]
    }
   ],
   "source": [
    "total_score = 0\n",
    "patients_correct = 0\n",
    "accs = []\n",
    "for i in range(len(pp_and_pnp_bp)):\n",
    "    score = classify_nusvm_with_xvalid(pp_rh_bp, pnp_rh_bp, 0.8585, [0, 1, 1, 2, 3, 3, 5, 12, 13, 23, 30, 52, 57], i, mul)\n",
    "    accs.append(score)\n",
    "    total_score += score\n",
    "    if score > 0.5:\n",
    "        patients_correct += 1\n",
    "    \n",
    "\n",
    "print(total_score/len(pp_and_pnp_bp))\n",
    "print('Correctly labeled', patients_correct, 'out of', len(pp_and_pnp_bp))\n",
    "print('std', np.std(accs))"
   ]
  },
  {
   "cell_type": "code",
   "execution_count": 48,
   "metadata": {},
   "outputs": [],
   "source": [
    "mul = 10**0"
   ]
  },
  {
   "cell_type": "code",
   "execution_count": 55,
   "metadata": {},
   "outputs": [
    {
     "name": "stdout",
     "output_type": "stream",
     "text": [
      "0 0.7573651119395247 10\n",
      "1 0.6575251429306589 8\n",
      "2 0.6777518800210593 8\n",
      "3 0.6038126448418598 7\n",
      "4 0.6229646664169411 8\n",
      "5 0.7204132720948065 9\n",
      "6 0.719173510339508 9\n",
      "7 0.8024851596762836 10\n",
      "8 0.806867588598558 10\n",
      "9 0.5835380942941157 7\n",
      "10 0.6514209167914936 11\n",
      "11 0.7370634486189793 10\n",
      "12 0.8098772097166388 10\n",
      "13 0.8083891144785436 10\n",
      "14 0.5708169804969538 7\n",
      "15 0.6892310514344412 9\n",
      "16 0.426466633648837 5\n",
      "17 0.8170373416849777 11\n",
      "18 0.8098904372298663 10\n",
      "19 0.8095884090111714 11\n",
      "20 0.8081003137730761 10\n",
      "21 0.8012924041685564 10\n",
      "22 0.7142423725738475 10\n",
      "23 0.7138521659395879 9\n",
      "24 0.6064821980477645 8\n",
      "25 0.7963477022393913 11\n",
      "26 0.7973341760496088 10\n",
      "27 0.8050429017244362 10\n",
      "28 0.8037061382054692 10\n",
      "29 0.79769018613131 11\n",
      "30 0.7964085372507911 11\n",
      "31 0.7846289661621954 10\n",
      "32 0.6227305648558994 8\n",
      "33 0.7696309653249144 10\n",
      "34 0.7709752172118364 10\n",
      "35 0.7222459178963788 10\n",
      "36 0.7997855257043481 11\n",
      "37 0.7970823557424063 10\n",
      "38 0.8044060636310859 10\n",
      "39 0.7857027217862038 11\n",
      "40 0.695416687048043 9\n",
      "41 0.6430730268646564 8\n",
      "42 0.7950916897333786 11\n",
      "43 0.7875626802410923 11\n",
      "44 0.7161888633799873 9\n",
      "45 0.8066878843945452 10\n",
      "46 0.7992762852174091 10\n",
      "47 0.688005145439356 8\n",
      "Max accuracy: 17 0.8170373416849777\n"
     ]
    }
   ],
   "source": [
    "file = open('all_results/bandpower_pca_svm_results_pdp_legs.csv', 'a', newline='')\n",
    "n_components = pca_components\n",
    "name = 'Bandpower + PCA + SVM'\n",
    "notes = 'freq bands 4-8,8-13,13-30, nu='\n",
    "notes_c = ', n_components='\n",
    "\n",
    "previous_channels=[8, 11, 17, 17, 18, 19]\n",
    "nu = 0.601\n",
    "\n",
    "max_acc = {'index': 0, 'value': 0}\n",
    "for channel in range(48):    \n",
    "    total_score = 0\n",
    "    correct_patients = 0\n",
    "    for i in range(len(pp_and_pnp_bp)):\n",
    "        score = classify_nusvm_with_xvalid(pp_rh_bp, pnp_rh_bp, nu, previous_channels + [channel], i, mul, verbose=False)\n",
    "        total_score += score\n",
    "        if score > 0.5:\n",
    "            correct_patients += 1\n",
    "        \n",
    "    avg_score = total_score/len(pp_and_pnp_bp)\n",
    "    print(channel, avg_score, correct_patients)\n",
    "    \n",
    "    log_result(file, name, avg_score, correct_patients, len(pp_and_pnp_bp), 'L', str(previous_channels + [channel]), notes + str(nu) + notes_c + str(n_components))\n",
    "    \n",
    "    if avg_score > max_acc['value']:\n",
    "        max_acc['index'] = channel\n",
    "        max_acc['value'] = avg_score\n",
    "        \n",
    "\n",
    "file.close()\n",
    "        \n",
    "print('Max accuracy:', max_acc['index'], max_acc['value'])"
   ]
  },
  {
   "cell_type": "code",
   "execution_count": null,
   "metadata": {},
   "outputs": [],
   "source": []
  },
  {
   "cell_type": "markdown",
   "metadata": {},
   "source": [
    "#### Cross validate over multiple nu values"
   ]
  },
  {
   "cell_type": "code",
   "execution_count": 64,
   "metadata": {},
   "outputs": [
    {
     "name": "stdout",
     "output_type": "stream",
     "text": [
      "0.01 0.45005354626136373 8\n",
      "0.02 0.4627368810481179 9\n",
      "0.03 0.4154964530949876 7\n",
      "0.04 0.45255716615113445 9\n",
      "0.05 0.4384973134145429 8\n",
      "0.060000000000000005 0.3643278670271803 6\n",
      "0.06999999999999999 0.44647319788649426 8\n",
      "0.08 0.42881909663720547 8\n",
      "0.09 0.5198145782437441 10\n",
      "0.09999999999999999 0.4018789887343859 8\n",
      "0.11 0.5347541896566366 9\n",
      "0.12 0.4561351423248776 9\n",
      "0.13 0.4828134431148981 10\n",
      "0.14 0.4087454983975947 8\n",
      "0.15000000000000002 0.5115495082273513 9\n",
      "0.16 0.5254049306004149 10\n",
      "0.17 0.4661831538388799 9\n",
      "0.18000000000000002 0.506406223896765 8\n",
      "0.19 0.325157249901167 6\n",
      "0.2 0.5343938943403707 11\n",
      "0.21000000000000002 0.46067034945930024 9\n",
      "0.22 0.4604733503998323 9\n",
      "0.23 0.37582995975318095 7\n",
      "0.24000000000000002 0.5382446155323889 10\n",
      "0.25 0.6072582869089423 12\n",
      "0.26 0.6002470031241011 11\n",
      "0.27 0.6031356019148874 11\n",
      "0.28 0.6011549838020565 11\n",
      "0.29000000000000004 0.5958026198413071 11\n",
      "0.3 0.5912484154185642 11\n",
      "0.31 0.5858195394323851 11\n",
      "0.32 0.5846283863092164 11\n",
      "0.33 0.5616695619512653 11\n",
      "0.34 0.5081459223437721 9\n",
      "0.35000000000000003 0.5322785107282032 9\n",
      "0.36000000000000004 0.5576318137001737 11\n",
      "0.37 0.32144362623565953 7\n",
      "0.38 0.29842419842124374 5\n",
      "0.39 0.3604759130396122 6\n",
      "0.4 0.469052530785794 10\n",
      "0.41000000000000003 0.39292361027826794 8\n",
      "0.42000000000000004 0.43535093466185354 8\n",
      "0.43 0.4776919045311118 10\n",
      "0.44 0.48029054673047983 10\n",
      "0.45 0.4982764883280368 10\n",
      "0.46 0.5095436435697837 9\n",
      "0.47000000000000003 0.5084281139424572 9\n",
      "0.48000000000000004 0.43909136093486667 9\n",
      "0.49 0.42011469968100607 9\n",
      "0.5 0.4941333001381474 9\n",
      "0.51 0.47034181627435956 10\n",
      "0.52 0.44183260212181763 10\n",
      "0.53 0.47260260871228527 9\n",
      "0.54 0.46055631198126146 10\n",
      "0.55 0.4753726918147783 9\n",
      "0.56 0.4785531575991222 10\n",
      "0.5700000000000001 0.47406764010829927 10\n",
      "0.5800000000000001 0.4395279471865551 8\n",
      "0.59 0.3724666259761804 8\n",
      "0.6 0.489256763133471 10\n",
      "0.61 0.3965074147503487 8\n",
      "0.62 0.4908569301603781 10\n",
      "0.63 0.5069799027886264 10\n",
      "0.64 0.48935984253698694 10\n",
      "0.65 0.4986709067079361 10\n",
      "0.66 0.4863765733609712 10\n",
      "0.67 0.347800216157416 7\n",
      "0.68 0.16077607954993325 1\n",
      "0.6900000000000001 0.2897930903001564 4\n",
      "0.7000000000000001 0.46420171482818096 8\n",
      "0.7100000000000001 0.2516602240063436 5\n",
      "0.72 0.11383685201704825 2\n",
      "0.73 0.19646636166191075 3\n",
      "0.74 0.1707122400112681 4\n",
      "0.75 0.1894950727994533 3\n",
      "0.76 0.1683151530327454 3\n",
      "0.77 0.32333721110189495 6\n",
      "0.78 0.5910113240795756 12\n",
      "0.79 0.9070332120353894 18\n",
      "0.8 0.9078580548424527 18\n",
      "0.81 0.8456570979046536 17\n",
      "0.8200000000000001 0.6793303940744891 14\n",
      "0.8300000000000001 0.8995991033702047 18\n",
      "0.8400000000000001 0.9059913353129321 18\n",
      "0.85 0.8319232683813503 17\n",
      "0.86 0.9060585531659938 18\n",
      "0.87 0.8861047501631889 18\n",
      "Max accuracy: 0.8 0.9078580548424527\n"
     ]
    }
   ],
   "source": [
    "file = open('all_results/bandpower_pca_rh_9605_nu_var.csv', 'a', newline='')\n",
    "n_components = pca_components\n",
    "name = 'Bandpower + PCA + SVM'\n",
    "notes = 'freq bands 4-8,8-13,13-30 nu='\n",
    "notes_c = ', n_components='\n",
    "\n",
    "channels = [0, 1, 1, 2, 3, 3, 5, 12, 13, 23, 30, 52, 57]\n",
    "\n",
    "max_acc = {'index': 0, 'value': 0}\n",
    "for param in np.arange(0.01, 0.88, 0.01):    \n",
    "    total_score = 0\n",
    "    correct_patients = 0\n",
    "    for i in range(len(pp_and_pnp_bp)):\n",
    "        score = classify_nusvm_with_xvalid(pp_rh_bp, pnp_rh_bp, param, channels, i, mul, verbose=False)\n",
    "        total_score += score\n",
    "        if score > 0.5:\n",
    "            correct_patients += 1\n",
    "        \n",
    "    avg_score = total_score/len(pp_and_pnp_bp)\n",
    "    print(param, avg_score, correct_patients)\n",
    "    \n",
    "    log_result(file, name, avg_score, correct_patients, len(pp_and_pnp_bp), 'RH', str(channels), notes + str(param) + notes_c + str(n_components))\n",
    "    \n",
    "    if avg_score > max_acc['value']:\n",
    "        max_acc['index'] = param\n",
    "        max_acc['value'] = avg_score\n",
    "\n",
    "file.close()\n",
    "        \n",
    "print('Max accuracy:', max_acc['index'], max_acc['value'])"
   ]
  },
  {
   "cell_type": "code",
   "execution_count": 61,
   "metadata": {},
   "outputs": [],
   "source": [
    "file.close()"
   ]
  },
  {
   "cell_type": "code",
   "execution_count": null,
   "metadata": {},
   "outputs": [],
   "source": []
  }
 ],
 "metadata": {
  "kernelspec": {
   "display_name": "Python 3",
   "language": "python",
   "name": "python3"
  },
  "language_info": {
   "codemirror_mode": {
    "name": "ipython",
    "version": 3
   },
   "file_extension": ".py",
   "mimetype": "text/x-python",
   "name": "python",
   "nbconvert_exporter": "python",
   "pygments_lexer": "ipython3",
   "version": "3.7.3"
  }
 },
 "nbformat": 4,
 "nbformat_minor": 2
}
